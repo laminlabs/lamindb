{
 "cells": [
  {
   "cell_type": "markdown",
   "metadata": {},
   "source": [
    "# Transfer artifacts from a local instance to a cloud instance"
   ]
  },
  {
   "cell_type": "code",
   "execution_count": null,
   "metadata": {},
   "outputs": [],
   "source": [
    "import lamindb as ln\n",
    "import bionty as bt\n",
    "\n",
    "ln.connect(\"laminlabs/lamindb-dev\")\n",
    "bt.settings.organism = \"human\""
   ]
  },
  {
   "cell_type": "code",
   "execution_count": null,
   "metadata": {
    "tags": [
     "hide-cell"
    ]
   },
   "outputs": [],
   "source": [
    "def cleanup(artifact: ln.Artifact):\n",
    "    artifact.feature_sets.all().delete()\n",
    "    artifact.experiments.all().delete()\n",
    "    try:\n",
    "        artifact.delete(permanent=True)\n",
    "    except Exception:\n",
    "        pass\n",
    "\n",
    "artifacts = ln.Artifact.filter(description='test-transfer-to-cloud').all()\n",
    "for artifact in artifacts:\n",
    "    cleanup(artifact)"
   ]
  },
  {
   "cell_type": "code",
   "execution_count": null,
   "metadata": {},
   "outputs": [],
   "source": [
    "artifact = ln.Artifact.using(\"testuser1/test-transfer-to-cloud\").filter(description='test-transfer-to-cloud').one()\n",
    "artifact.describe()"
   ]
  },
  {
   "cell_type": "code",
   "execution_count": null,
   "metadata": {},
   "outputs": [],
   "source": [
    "artifact.save()"
   ]
  },
  {
   "cell_type": "code",
   "execution_count": null,
   "metadata": {},
   "outputs": [],
   "source": [
    "artifact.describe()"
   ]
  },
  {
   "cell_type": "code",
   "execution_count": null,
   "metadata": {},
   "outputs": [],
   "source": [
    "assert artifact._state.db == \"default\"\n",
    "assert artifact.organism.get().name == \"human\"\n",
    "assert artifact.experiments.get().name == \"experiment-test-transfer-to-cloud\"\n",
    "assert artifact.features[\"var\"].count() == 2"
   ]
  },
  {
   "cell_type": "code",
   "execution_count": null,
   "metadata": {},
   "outputs": [],
   "source": [
    "!lamin delete --force test-transfer-to-cloud\n",
    "!rm -r ./test-transfer-to-cloud"
   ]
  }
 ],
 "metadata": {
  "kernelspec": {
   "display_name": "py310",
   "language": "python",
   "name": "python3"
  },
  "language_info": {
   "codemirror_mode": {
    "name": "ipython",
    "version": 3
   },
   "file_extension": ".py",
   "mimetype": "text/x-python",
   "name": "python",
   "nbconvert_exporter": "python",
   "pygments_lexer": "ipython3",
   "version": "3.10.13"
  }
 },
 "nbformat": 4,
 "nbformat_minor": 2
}
