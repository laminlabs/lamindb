{
 "cells": [
  {
   "cell_type": "markdown",
   "id": "30fd690f",
   "metadata": {},
   "source": [
    "# Add, replace, cache and delete artifacts"
   ]
  },
  {
   "cell_type": "code",
   "execution_count": null,
   "id": "bd29dc17",
   "metadata": {},
   "outputs": [],
   "source": [
    "import pytest\n",
    "import shutil\n",
    "import lamindb as ln"
   ]
  },
  {
   "cell_type": "code",
   "execution_count": null,
   "id": "ac7266de",
   "metadata": {},
   "outputs": [],
   "source": [
    "ln.setup.login(\"testuser1\")"
   ]
  },
  {
   "cell_type": "code",
   "execution_count": null,
   "id": "2c126065",
   "metadata": {
    "tags": [
     "hide-output",
     "hide-cell"
    ]
   },
   "outputs": [],
   "source": [
    "try:\n",
    "    root_path = ln.UPath(\"s3://lamindb-ci/test-add-replace-cache\")\n",
    "    if root_path.exists():\n",
    "        root_path.rmdir()\n",
    "    ln.setup.delete(\"testuser1/test-add-replace-cache\", force=True)\n",
    "except BaseException:  # noqa: S110\n",
    "    pass"
   ]
  },
  {
   "cell_type": "code",
   "execution_count": null,
   "id": "dca2c05d",
   "metadata": {},
   "outputs": [],
   "source": [
    "ln.setup.init(storage=\"s3://lamindb-ci/test-add-replace-cache\")"
   ]
  },
  {
   "cell_type": "markdown",
   "id": "9c68908d",
   "metadata": {},
   "source": [
    "## Save with auto-managed (`key=None`)"
   ]
  },
  {
   "cell_type": "code",
   "execution_count": null,
   "id": "d19076c7",
   "metadata": {},
   "outputs": [],
   "source": [
    "AUTO_KEY_PREFIX = ln.core.storage.paths.AUTO_KEY_PREFIX\n",
    "root = ln.settings.storage.root"
   ]
  },
  {
   "cell_type": "code",
   "execution_count": null,
   "id": "21d11d75",
   "metadata": {},
   "outputs": [],
   "source": [
    "artifact = ln.Artifact(\"./test-files/iris.csv\", description=\"iris.csv\")"
   ]
  },
  {
   "cell_type": "code",
   "execution_count": null,
   "id": "b780712e",
   "metadata": {},
   "outputs": [],
   "source": [
    "artifact.save()"
   ]
  },
  {
   "cell_type": "code",
   "execution_count": null,
   "id": "57639bb3",
   "metadata": {},
   "outputs": [],
   "source": [
    "key_path = root / f\"{AUTO_KEY_PREFIX}{artifact.uid}{artifact.suffix}\"\n",
    "assert key_path.exists()"
   ]
  },
  {
   "cell_type": "code",
   "execution_count": null,
   "id": "293eac7f",
   "metadata": {},
   "outputs": [],
   "source": [
    "cache_csv_path = artifact.cache()\n",
    "print(cache_csv_path)\n",
    "assert cache_csv_path.suffix == \".csv\""
   ]
  },
  {
   "cell_type": "code",
   "execution_count": null,
   "id": "a8492c68",
   "metadata": {},
   "outputs": [],
   "source": [
    "artifact.replace(\"./test-files/iris.data\")\n",
    "artifact.save()"
   ]
  },
  {
   "cell_type": "code",
   "execution_count": null,
   "id": "8a5520eb",
   "metadata": {},
   "outputs": [],
   "source": [
    "old_key_path = key_path\n",
    "new_key_path = root / f\"{AUTO_KEY_PREFIX}{artifact.uid}{artifact.suffix}\""
   ]
  },
  {
   "cell_type": "markdown",
   "id": "025eb582",
   "metadata": {},
   "source": [
    "The suffix changed:"
   ]
  },
  {
   "cell_type": "code",
   "execution_count": null,
   "id": "a4affd7c",
   "metadata": {},
   "outputs": [],
   "source": [
    "print(old_key_path)\n",
    "print(new_key_path)\n",
    "assert not old_key_path.exists()\n",
    "assert new_key_path.exists()"
   ]
  },
  {
   "cell_type": "code",
   "execution_count": null,
   "id": "3b695dde",
   "metadata": {},
   "outputs": [],
   "source": [
    "cache_data_path = artifact.cache()\n",
    "print(cache_data_path)\n",
    "assert cache_data_path.suffix == \".data\"\n",
    "assert cache_data_path.stat().st_mtime >= cache_csv_path.stat().st_mtime"
   ]
  },
  {
   "cell_type": "code",
   "execution_count": null,
   "id": "7273324a",
   "metadata": {},
   "outputs": [],
   "source": [
    "artifact.delete(permanent=True)"
   ]
  },
  {
   "cell_type": "markdown",
   "id": "bff43702",
   "metadata": {},
   "source": [
    "## Save with manually passed real `key`"
   ]
  },
  {
   "cell_type": "code",
   "execution_count": null,
   "id": "5d368157",
   "metadata": {},
   "outputs": [],
   "source": [
    "ln.settings.creation._artifact_use_virtual_keys = False"
   ]
  },
  {
   "cell_type": "code",
   "execution_count": null,
   "id": "48d77993",
   "metadata": {},
   "outputs": [],
   "source": [
    "artifact = ln.Artifact(\"./test-files/iris.csv\", key=\"iris.csv\")"
   ]
  },
  {
   "cell_type": "code",
   "execution_count": null,
   "id": "4249829f",
   "metadata": {},
   "outputs": [],
   "source": [
    "artifact.save()"
   ]
  },
  {
   "cell_type": "code",
   "execution_count": null,
   "id": "7d7f97fe",
   "metadata": {},
   "outputs": [],
   "source": [
    "key_path = root / \"iris.csv\""
   ]
  },
  {
   "cell_type": "code",
   "execution_count": null,
   "id": "fb8790e5",
   "metadata": {},
   "outputs": [],
   "source": [
    "assert key_path.exists()"
   ]
  },
  {
   "cell_type": "code",
   "execution_count": null,
   "id": "a06d1c45",
   "metadata": {},
   "outputs": [],
   "source": [
    "artifact.replace(\"./test-files/new_iris.csv\")"
   ]
  },
  {
   "cell_type": "code",
   "execution_count": null,
   "id": "f6f9bf54",
   "metadata": {},
   "outputs": [],
   "source": [
    "artifact.save()"
   ]
  },
  {
   "cell_type": "markdown",
   "id": "f926635d",
   "metadata": {},
   "source": [
    "Check paths: no changes here, as the suffix didn't change."
   ]
  },
  {
   "cell_type": "code",
   "execution_count": null,
   "id": "358f6fc4",
   "metadata": {},
   "outputs": [],
   "source": [
    "old_key_path = key_path\n",
    "new_key_path = root / \"new_iris.csv\""
   ]
  },
  {
   "cell_type": "code",
   "execution_count": null,
   "id": "e8f842ea",
   "metadata": {},
   "outputs": [],
   "source": [
    "old_key_path"
   ]
  },
  {
   "cell_type": "code",
   "execution_count": null,
   "id": "1a2cca6f",
   "metadata": {},
   "outputs": [],
   "source": [
    "new_key_path"
   ]
  },
  {
   "cell_type": "code",
   "execution_count": null,
   "id": "d814c410",
   "metadata": {},
   "outputs": [],
   "source": [
    "assert old_key_path.exists()\n",
    "assert not new_key_path.exists()"
   ]
  },
  {
   "cell_type": "code",
   "execution_count": null,
   "id": "4f18d6fa",
   "metadata": {},
   "outputs": [],
   "source": [
    "artifact.replace(\"./test-files/iris.data\")"
   ]
  },
  {
   "cell_type": "code",
   "execution_count": null,
   "id": "7803e37d",
   "metadata": {},
   "outputs": [],
   "source": [
    "artifact.save()"
   ]
  },
  {
   "cell_type": "code",
   "execution_count": null,
   "id": "c6e51e9e",
   "metadata": {},
   "outputs": [],
   "source": [
    "new_key_path = root / \"iris.data\""
   ]
  },
  {
   "cell_type": "code",
   "execution_count": null,
   "id": "8fcc7e34",
   "metadata": {},
   "outputs": [],
   "source": [
    "old_key_path"
   ]
  },
  {
   "cell_type": "code",
   "execution_count": null,
   "id": "9d5b5302",
   "metadata": {},
   "outputs": [],
   "source": [
    "new_key_path"
   ]
  },
  {
   "cell_type": "code",
   "execution_count": null,
   "id": "b28c7bbc",
   "metadata": {},
   "outputs": [],
   "source": [
    "assert not old_key_path.exists()\n",
    "assert new_key_path.exists()"
   ]
  },
  {
   "cell_type": "code",
   "execution_count": null,
   "id": "ced86160",
   "metadata": {},
   "outputs": [],
   "source": [
    "artifact.delete(permanent=True, storage=True)"
   ]
  },
  {
   "cell_type": "markdown",
   "id": "35544933",
   "metadata": {},
   "source": [
    "## Save from memory"
   ]
  },
  {
   "cell_type": "code",
   "execution_count": null,
   "id": "e7fab43f",
   "metadata": {},
   "outputs": [],
   "source": [
    "import pandas as pd"
   ]
  },
  {
   "cell_type": "code",
   "execution_count": null,
   "id": "8856a9d7",
   "metadata": {},
   "outputs": [],
   "source": [
    "iris = pd.read_csv(\"./test-files/iris.csv\")"
   ]
  },
  {
   "cell_type": "code",
   "execution_count": null,
   "id": "8ea0c90a",
   "metadata": {},
   "outputs": [],
   "source": [
    "artifact = ln.Artifact.from_df(iris, description=\"iris_store\", key=\"iris.parquet\")"
   ]
  },
  {
   "cell_type": "code",
   "execution_count": null,
   "id": "abaa7abb",
   "metadata": {},
   "outputs": [],
   "source": [
    "artifact.save()"
   ]
  },
  {
   "cell_type": "code",
   "execution_count": null,
   "id": "4a737804",
   "metadata": {},
   "outputs": [],
   "source": [
    "key_path = root / \"iris.parquet\""
   ]
  },
  {
   "cell_type": "code",
   "execution_count": null,
   "id": "0f98ac32",
   "metadata": {},
   "outputs": [],
   "source": [
    "assert key_path.exists()"
   ]
  },
  {
   "cell_type": "code",
   "execution_count": null,
   "id": "7e90b55e",
   "metadata": {},
   "outputs": [],
   "source": [
    "artifact.replace(data=iris[:-1])"
   ]
  },
  {
   "cell_type": "code",
   "execution_count": null,
   "id": "3d27e855",
   "metadata": {},
   "outputs": [],
   "source": [
    "assert artifact.key == \"iris.parquet\""
   ]
  },
  {
   "cell_type": "code",
   "execution_count": null,
   "id": "41f9b6fc",
   "metadata": {},
   "outputs": [],
   "source": [
    "artifact.save()"
   ]
  },
  {
   "cell_type": "code",
   "execution_count": null,
   "id": "3a07c215",
   "metadata": {},
   "outputs": [],
   "source": [
    "assert key_path.exists()"
   ]
  },
  {
   "cell_type": "code",
   "execution_count": null,
   "id": "cede958e",
   "metadata": {},
   "outputs": [],
   "source": [
    "artifact.replace(\"./test-files/new_iris.csv\")"
   ]
  },
  {
   "cell_type": "code",
   "execution_count": null,
   "id": "443b0bd8",
   "metadata": {},
   "outputs": [],
   "source": [
    "artifact.save()"
   ]
  },
  {
   "cell_type": "code",
   "execution_count": null,
   "id": "fb3f4077",
   "metadata": {},
   "outputs": [],
   "source": [
    "old_key_path = key_path\n",
    "new_key_path = root / \"iris.csv\""
   ]
  },
  {
   "cell_type": "code",
   "execution_count": null,
   "id": "ddedb1c1",
   "metadata": {},
   "outputs": [],
   "source": [
    "old_key_path"
   ]
  },
  {
   "cell_type": "code",
   "execution_count": null,
   "id": "97014c23",
   "metadata": {},
   "outputs": [],
   "source": [
    "new_key_path"
   ]
  },
  {
   "cell_type": "code",
   "execution_count": null,
   "id": "8cf02684",
   "metadata": {},
   "outputs": [],
   "source": [
    "assert not old_key_path.exists()\n",
    "assert new_key_path.exists()"
   ]
  },
  {
   "cell_type": "code",
   "execution_count": null,
   "id": "b938fad1",
   "metadata": {},
   "outputs": [],
   "source": [
    "# we use the path in the next section\n",
    "path_in_storage = artifact.path\n",
    "artifact.delete(permanent=True, storage=False)"
   ]
  },
  {
   "cell_type": "markdown",
   "id": "22bde7cf",
   "metadata": {},
   "source": [
    "## Save with manually passed virtual `key`"
   ]
  },
  {
   "cell_type": "code",
   "execution_count": null,
   "id": "6156288b",
   "metadata": {},
   "outputs": [],
   "source": [
    "ln.settings.creation._artifact_use_virtual_keys = True"
   ]
  },
  {
   "cell_type": "code",
   "execution_count": null,
   "id": "c2231a05",
   "metadata": {},
   "outputs": [],
   "source": [
    "artifact = ln.Artifact(\"./test-files/iris.csv\", key=\"iris.csv\")"
   ]
  },
  {
   "cell_type": "code",
   "execution_count": null,
   "id": "4dee561b",
   "metadata": {},
   "outputs": [],
   "source": [
    "artifact.save()"
   ]
  },
  {
   "cell_type": "code",
   "execution_count": null,
   "id": "91f5c9f1",
   "metadata": {},
   "outputs": [],
   "source": [
    "with pytest.raises(ValueError) as err:\n",
    "    artifact.replace(path_in_storage)\n",
    "assert err.exconly().startswith(\n",
    "    \"ValueError: Can only replace with a local path not in any Storage.\"\n",
    ")"
   ]
  },
  {
   "cell_type": "code",
   "execution_count": null,
   "id": "44cc0b24",
   "metadata": {},
   "outputs": [],
   "source": [
    "# return an existing artifact if the hash is the same\n",
    "assert artifact == artifact.replace(\"./test-files/iris.csv\")"
   ]
  },
  {
   "cell_type": "code",
   "execution_count": null,
   "id": "9fda35ae",
   "metadata": {},
   "outputs": [],
   "source": [
    "fpath = artifact.path\n",
    "assert fpath.suffix == \".csv\" and fpath.stem == artifact.uid"
   ]
  },
  {
   "cell_type": "code",
   "execution_count": null,
   "id": "94e618a0",
   "metadata": {},
   "outputs": [],
   "source": [
    "artifact.replace(\"./test-files/iris.data\")"
   ]
  },
  {
   "cell_type": "code",
   "execution_count": null,
   "id": "5e11a5fa",
   "metadata": {},
   "outputs": [],
   "source": [
    "artifact.save()"
   ]
  },
  {
   "cell_type": "code",
   "execution_count": null,
   "id": "0a261ec3",
   "metadata": {},
   "outputs": [],
   "source": [
    "assert artifact.key == \"iris.data\""
   ]
  },
  {
   "cell_type": "code",
   "execution_count": null,
   "id": "f339fba7",
   "metadata": {},
   "outputs": [],
   "source": [
    "assert not fpath.exists()"
   ]
  },
  {
   "cell_type": "code",
   "execution_count": null,
   "id": "dd9a4b4f",
   "metadata": {},
   "outputs": [],
   "source": [
    "fpath = artifact.path\n",
    "assert fpath.suffix == \".data\" and fpath.stem == artifact.uid"
   ]
  },
  {
   "cell_type": "code",
   "execution_count": null,
   "id": "a0f41017",
   "metadata": {},
   "outputs": [],
   "source": [
    "artifact.delete(permanent=True, storage=True)"
   ]
  },
  {
   "cell_type": "code",
   "execution_count": null,
   "id": "a0c63e8f",
   "metadata": {},
   "outputs": [],
   "source": [
    "path_in_storage.unlink()"
   ]
  },
  {
   "cell_type": "markdown",
   "id": "d952ac58",
   "metadata": {},
   "source": [
    "## Replace with folder artifacts"
   ]
  },
  {
   "cell_type": "code",
   "execution_count": null,
   "id": "fd614d98",
   "metadata": {},
   "outputs": [],
   "source": [
    "adata = ln.core.datasets.anndata_pbmc68k_reduced()\n",
    "\n",
    "adata.write_zarr(\"./test-files/pbmc68k.zarr\")"
   ]
  },
  {
   "cell_type": "code",
   "execution_count": null,
   "id": "0d35b755",
   "metadata": {},
   "outputs": [],
   "source": [
    "artifact = ln.Artifact(\"./test-files/pbmc68k.zarr\", key=\"pbmc68k.zarr\").save()\n",
    "save_hash = artifact.hash\n",
    "save_n_files = artifact.n_files"
   ]
  },
  {
   "cell_type": "code",
   "execution_count": null,
   "id": "1045dd0c",
   "metadata": {},
   "outputs": [],
   "source": [
    "with pytest.raises(ValueError) as err:\n",
    "    artifact.replace(\"./test-files/iris.csv\")\n",
    "assert err.exconly().endswith(\"It is not allowed to replace a folder with a file.\")"
   ]
  },
  {
   "cell_type": "code",
   "execution_count": null,
   "id": "4e20a364",
   "metadata": {},
   "outputs": [],
   "source": [
    "assert save_hash is not None\n",
    "assert artifact.path.is_dir()"
   ]
  },
  {
   "cell_type": "code",
   "execution_count": null,
   "id": "d75282c5",
   "metadata": {},
   "outputs": [],
   "source": [
    "adata.obs[\"add_new_col\"] = \"new\"\n",
    "\n",
    "adata.write_zarr(\"./test-files/pbmc68k_new.zarr\")"
   ]
  },
  {
   "cell_type": "code",
   "execution_count": null,
   "id": "7466df19",
   "metadata": {},
   "outputs": [],
   "source": [
    "artifact.replace(\"./test-files/pbmc68k_new.zarr\")\n",
    "artifact.save()"
   ]
  },
  {
   "cell_type": "code",
   "execution_count": null,
   "id": "bce3caef",
   "metadata": {},
   "outputs": [],
   "source": [
    "assert artifact.key == \"pbmc68k.zarr\"\n",
    "assert artifact.hash != save_hash\n",
    "assert artifact.n_files != save_n_files\n",
    "assert artifact.path.is_dir()"
   ]
  },
  {
   "cell_type": "code",
   "execution_count": null,
   "id": "6ca7eb57",
   "metadata": {},
   "outputs": [],
   "source": [
    "shutil.rmtree(artifact.cache())"
   ]
  },
  {
   "cell_type": "code",
   "execution_count": null,
   "id": "06eadae1",
   "metadata": {},
   "outputs": [],
   "source": [
    "with artifact.open() as store:\n",
    "    assert \"add_new_col\" in store.obs"
   ]
  },
  {
   "cell_type": "code",
   "execution_count": null,
   "id": "f05f770b",
   "metadata": {},
   "outputs": [],
   "source": [
    "shutil.rmtree(\"./test-files/pbmc68k.zarr\")\n",
    "shutil.rmtree(\"./test-files/pbmc68k_new.zarr\")"
   ]
  },
  {
   "cell_type": "code",
   "execution_count": null,
   "id": "6e23dc87",
   "metadata": {},
   "outputs": [],
   "source": [
    "artifact.delete(permanent=True, storage=True)"
   ]
  },
  {
   "cell_type": "code",
   "execution_count": null,
   "id": "ce531657",
   "metadata": {
    "tags": []
   },
   "outputs": [],
   "source": [
    "ln.setup.delete(\"test-add-replace-cache\", force=True)"
   ]
  }
 ],
 "metadata": {
  "kernelspec": {
   "display_name": "Python 3 (ipykernel)",
   "language": "python",
   "name": "python3"
  },
  "language_info": {
   "codemirror_mode": {
    "name": "ipython",
    "version": 3
   },
   "file_extension": ".py",
   "mimetype": "text/x-python",
   "name": "python",
   "nbconvert_exporter": "python",
   "pygments_lexer": "ipython3",
   "version": "3.10.16"
  },
  "nbproject": {
   "id": "uBQMCcdYwEjA",
   "parent": null,
   "pypackage": null,
   "time_init": "2023-04-04T16:26:17.675023+00:00",
   "user_handle": "Koncopd",
   "user_id": "qTQ5q0ar",
   "user_name": "Sergei Rybakov",
   "version": "0"
  }
 },
 "nbformat": 4,
 "nbformat_minor": 5
}
