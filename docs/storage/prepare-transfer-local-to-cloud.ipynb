{
 "cells": [
  {
   "cell_type": "markdown",
   "metadata": {},
   "source": [
    "# Prepare transfer artifacts from a local instance to a cloud instance"
   ]
  },
  {
   "cell_type": "code",
   "execution_count": null,
   "metadata": {},
   "outputs": [],
   "source": [
    "!lamin set auto-connect false"
   ]
  },
  {
   "cell_type": "code",
   "execution_count": null,
   "metadata": {},
   "outputs": [],
   "source": [
    "import lamindb as ln\n",
    "import bionty as bt\n",
    "import wetlab as ln1\n",
    "import pandas as pd"
   ]
  },
  {
   "cell_type": "code",
   "execution_count": null,
   "metadata": {},
   "outputs": [],
   "source": [
    "ln.setup.init(storage=\"./test-transfer-to-cloud\", schema=\"bionty,wetlab\")\n",
    "ln.setup.settings.auto_connect = False"
   ]
  },
  {
   "cell_type": "code",
   "execution_count": null,
   "metadata": {},
   "outputs": [],
   "source": [
    "artifact = ln.Artifact.from_df(pd.DataFrame({'a': [1, 2, 3]}), description='test-transfer-to-cloud')\n",
    "artifact.save()\n",
    "\n",
    "features = bt.CellMarker.from_values([\"PD1\", \"CD21\"], field=bt.CellMarker.name, organism=\"human\")\n",
    "ln.save(features)\n",
    "artifact.features.add(features, slot=\"var\")\n",
    "\n",
    "organism = bt.Organism.from_public(name=\"human\")\n",
    "organism.save()\n",
    "artifact.labels.add(organism)\n",
    "\n",
    "experiment_type = ln1.ExperimentType(name=\"experiment-type-test-transfer-to-cloud\")\n",
    "experiment_type.save()\n",
    "experiment = ln1.Experiment(name=\"experiment-test-transfer-to-cloud\")\n",
    "experiment.experiment_type = experiment_type\n",
    "experiment.save()\n",
    "\n",
    "artifact.experiments.add(experiment)\n",
    "\n",
    "artifact.describe()"
   ]
  }
 ],
 "metadata": {
  "kernelspec": {
   "display_name": "py310",
   "language": "python",
   "name": "python3"
  },
  "language_info": {
   "codemirror_mode": {
    "name": "ipython",
    "version": 3
   },
   "file_extension": ".py",
   "mimetype": "text/x-python",
   "name": "python",
   "nbconvert_exporter": "python",
   "pygments_lexer": "ipython3",
   "version": "3.10.13"
  }
 },
 "nbformat": 4,
 "nbformat_minor": 2
}
