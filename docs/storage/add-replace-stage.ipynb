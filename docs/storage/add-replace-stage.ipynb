{
 "cells": [
  {
   "attachments": {},
   "cell_type": "markdown",
   "id": "30fd690f",
   "metadata": {},
   "source": [
    "# Add, replace, stage and delete files"
   ]
  },
  {
   "cell_type": "code",
   "execution_count": null,
   "id": "61b3502a",
   "metadata": {
    "tags": [
     "hide-cell"
    ]
   },
   "outputs": [],
   "source": [
    "instance_name = f\"lamindb-ci-test-add-replace-stage\"\n",
    "\n",
    "!lamin init --storage s3://lamindb-ci --name {instance_name}"
   ]
  },
  {
   "cell_type": "code",
   "execution_count": null,
   "id": "dca2c05d",
   "metadata": {},
   "outputs": [],
   "source": [
    "import lamindb as ln\n",
    "from lamindb_setup.dev.upath import UPath\n",
    "from lamindb.dev.storage.file import AUTO_KEY_PREFIX"
   ]
  },
  {
   "attachments": {},
   "cell_type": "markdown",
   "id": "9c68908d",
   "metadata": {},
   "source": [
    "## Save with auto-managed (`key=None`)"
   ]
  },
  {
   "cell_type": "code",
   "execution_count": null,
   "id": "1a3c5efe",
   "metadata": {},
   "outputs": [],
   "source": [
    "root = ln.settings.storage"
   ]
  },
  {
   "cell_type": "code",
   "execution_count": null,
   "id": "21d11d75",
   "metadata": {},
   "outputs": [],
   "source": [
    "file = ln.File(\"./test-files/iris.csv\", description=\"iris.csv\")"
   ]
  },
  {
   "cell_type": "code",
   "execution_count": null,
   "id": "b780712e",
   "metadata": {},
   "outputs": [],
   "source": [
    "file.save()"
   ]
  },
  {
   "cell_type": "code",
   "execution_count": null,
   "id": "57639bb3",
   "metadata": {},
   "outputs": [],
   "source": [
    "key_path = root / f\"{AUTO_KEY_PREFIX}{file.uid}{file.suffix}\""
   ]
  },
  {
   "cell_type": "code",
   "execution_count": null,
   "id": "ccb6c4b9",
   "metadata": {},
   "outputs": [],
   "source": [
    "assert key_path.exists()"
   ]
  },
  {
   "cell_type": "code",
   "execution_count": null,
   "id": "293eac7f",
   "metadata": {},
   "outputs": [],
   "source": [
    "cache_csv_path = file.stage()"
   ]
  },
  {
   "cell_type": "code",
   "execution_count": null,
   "id": "7372ea62",
   "metadata": {},
   "outputs": [],
   "source": [
    "cache_csv_path"
   ]
  },
  {
   "cell_type": "code",
   "execution_count": null,
   "id": "dfefd884",
   "metadata": {},
   "outputs": [],
   "source": [
    "assert cache_csv_path.suffix == \".csv\""
   ]
  },
  {
   "cell_type": "code",
   "execution_count": null,
   "id": "a8492c68",
   "metadata": {},
   "outputs": [],
   "source": [
    "file.replace(\"./test-files/iris.data\")"
   ]
  },
  {
   "cell_type": "code",
   "execution_count": null,
   "id": "f36159d9",
   "metadata": {},
   "outputs": [],
   "source": [
    "file.save()"
   ]
  },
  {
   "cell_type": "code",
   "execution_count": null,
   "id": "8a5520eb",
   "metadata": {},
   "outputs": [],
   "source": [
    "old_key_path = key_path\n",
    "new_key_path = root / f\"{AUTO_KEY_PREFIX}{file.uid}{file.suffix}\""
   ]
  },
  {
   "attachments": {},
   "cell_type": "markdown",
   "id": "025eb582",
   "metadata": {},
   "source": [
    "The suffix changed:"
   ]
  },
  {
   "cell_type": "code",
   "execution_count": null,
   "id": "a4affd7c",
   "metadata": {},
   "outputs": [],
   "source": [
    "old_key_path"
   ]
  },
  {
   "cell_type": "code",
   "execution_count": null,
   "id": "d62e011b",
   "metadata": {},
   "outputs": [],
   "source": [
    "new_key_path"
   ]
  },
  {
   "cell_type": "code",
   "execution_count": null,
   "id": "2de9433b",
   "metadata": {},
   "outputs": [],
   "source": [
    "assert not old_key_path.exists()\n",
    "assert new_key_path.exists()"
   ]
  },
  {
   "cell_type": "code",
   "execution_count": null,
   "id": "3b695dde",
   "metadata": {},
   "outputs": [],
   "source": [
    "cache_data_path = file.stage()"
   ]
  },
  {
   "cell_type": "code",
   "execution_count": null,
   "id": "f71f4a3c",
   "metadata": {},
   "outputs": [],
   "source": [
    "cache_data_path"
   ]
  },
  {
   "cell_type": "code",
   "execution_count": null,
   "id": "8edba44a",
   "metadata": {},
   "outputs": [],
   "source": [
    "assert cache_data_path.suffix == \".data\""
   ]
  },
  {
   "cell_type": "code",
   "execution_count": null,
   "id": "c75115b2",
   "metadata": {},
   "outputs": [],
   "source": [
    "assert cache_data_path.stat().st_mtime >= cache_csv_path.stat().st_mtime"
   ]
  },
  {
   "cell_type": "code",
   "execution_count": null,
   "id": "7273324a",
   "metadata": {},
   "outputs": [],
   "source": [
    "file.delete(storage=True)"
   ]
  },
  {
   "attachments": {},
   "cell_type": "markdown",
   "id": "bff43702",
   "metadata": {},
   "source": [
    "## Save with manually passed `key`"
   ]
  },
  {
   "cell_type": "code",
   "execution_count": null,
   "id": "48d77993",
   "metadata": {},
   "outputs": [],
   "source": [
    "file = ln.File(\"./test-files/iris.csv\", key=f\"iris.csv\")"
   ]
  },
  {
   "cell_type": "code",
   "execution_count": null,
   "id": "4249829f",
   "metadata": {},
   "outputs": [],
   "source": [
    "file.save()"
   ]
  },
  {
   "cell_type": "code",
   "execution_count": null,
   "id": "7d7f97fe",
   "metadata": {},
   "outputs": [],
   "source": [
    "key_path = root / f\"iris.csv\""
   ]
  },
  {
   "cell_type": "code",
   "execution_count": null,
   "id": "fb8790e5",
   "metadata": {},
   "outputs": [],
   "source": [
    "assert key_path.exists()"
   ]
  },
  {
   "cell_type": "code",
   "execution_count": null,
   "id": "a06d1c45",
   "metadata": {},
   "outputs": [],
   "source": [
    "file.replace(\"./test-files/new_iris.csv\")"
   ]
  },
  {
   "cell_type": "code",
   "execution_count": null,
   "id": "f6f9bf54",
   "metadata": {},
   "outputs": [],
   "source": [
    "file.save()"
   ]
  },
  {
   "attachments": {},
   "cell_type": "markdown",
   "id": "f926635d",
   "metadata": {},
   "source": [
    "Check paths: no changes here, as the suffix didn't change."
   ]
  },
  {
   "cell_type": "code",
   "execution_count": null,
   "id": "358f6fc4",
   "metadata": {},
   "outputs": [],
   "source": [
    "old_key_path = key_path\n",
    "new_key_path = root / f\"new_iris.csv\""
   ]
  },
  {
   "cell_type": "code",
   "execution_count": null,
   "id": "e8f842ea",
   "metadata": {},
   "outputs": [],
   "source": [
    "old_key_path"
   ]
  },
  {
   "cell_type": "code",
   "execution_count": null,
   "id": "1a2cca6f",
   "metadata": {},
   "outputs": [],
   "source": [
    "new_key_path"
   ]
  },
  {
   "cell_type": "code",
   "execution_count": null,
   "id": "d814c410",
   "metadata": {},
   "outputs": [],
   "source": [
    "assert old_key_path.exists()\n",
    "assert not new_key_path.exists()"
   ]
  },
  {
   "cell_type": "code",
   "execution_count": null,
   "id": "4f18d6fa",
   "metadata": {},
   "outputs": [],
   "source": [
    "file.replace(\"./test-files/iris.data\")"
   ]
  },
  {
   "cell_type": "code",
   "execution_count": null,
   "id": "7803e37d",
   "metadata": {},
   "outputs": [],
   "source": [
    "file.save()"
   ]
  },
  {
   "cell_type": "code",
   "execution_count": null,
   "id": "c6e51e9e",
   "metadata": {},
   "outputs": [],
   "source": [
    "new_key_path = root / f\"iris.data\""
   ]
  },
  {
   "cell_type": "code",
   "execution_count": null,
   "id": "8fcc7e34",
   "metadata": {},
   "outputs": [],
   "source": [
    "old_key_path"
   ]
  },
  {
   "cell_type": "code",
   "execution_count": null,
   "id": "9d5b5302",
   "metadata": {},
   "outputs": [],
   "source": [
    "new_key_path"
   ]
  },
  {
   "cell_type": "code",
   "execution_count": null,
   "id": "b28c7bbc",
   "metadata": {},
   "outputs": [],
   "source": [
    "assert not old_key_path.exists()\n",
    "assert new_key_path.exists()"
   ]
  },
  {
   "cell_type": "code",
   "execution_count": null,
   "id": "ced86160",
   "metadata": {},
   "outputs": [],
   "source": [
    "file.delete(storage=True)"
   ]
  },
  {
   "attachments": {},
   "cell_type": "markdown",
   "id": "35544933",
   "metadata": {},
   "source": [
    "## Save from memory"
   ]
  },
  {
   "cell_type": "code",
   "execution_count": null,
   "id": "e7fab43f",
   "metadata": {},
   "outputs": [],
   "source": [
    "import pandas as pd"
   ]
  },
  {
   "cell_type": "code",
   "execution_count": null,
   "id": "8856a9d7",
   "metadata": {},
   "outputs": [],
   "source": [
    "iris = pd.read_csv(\"./test-files/iris.csv\")"
   ]
  },
  {
   "cell_type": "code",
   "execution_count": null,
   "id": "8ea0c90a",
   "metadata": {},
   "outputs": [],
   "source": [
    "file = ln.File(data=iris, description=\"iris_store\", key=\"iris.parquet\")"
   ]
  },
  {
   "cell_type": "code",
   "execution_count": null,
   "id": "abaa7abb",
   "metadata": {},
   "outputs": [],
   "source": [
    "file.save()"
   ]
  },
  {
   "cell_type": "code",
   "execution_count": null,
   "id": "4a737804",
   "metadata": {},
   "outputs": [],
   "source": [
    "key_path = root / f\"iris.parquet\""
   ]
  },
  {
   "cell_type": "code",
   "execution_count": null,
   "id": "0f98ac32",
   "metadata": {},
   "outputs": [],
   "source": [
    "assert key_path.exists()"
   ]
  },
  {
   "cell_type": "code",
   "execution_count": null,
   "id": "7e90b55e",
   "metadata": {},
   "outputs": [],
   "source": [
    "file.replace(data=iris[:-1])"
   ]
  },
  {
   "cell_type": "code",
   "execution_count": null,
   "id": "3d27e855",
   "metadata": {},
   "outputs": [],
   "source": [
    "assert file.key == f\"iris.parquet\""
   ]
  },
  {
   "cell_type": "code",
   "execution_count": null,
   "id": "41f9b6fc",
   "metadata": {},
   "outputs": [],
   "source": [
    "file.save()"
   ]
  },
  {
   "cell_type": "code",
   "execution_count": null,
   "id": "3a07c215",
   "metadata": {},
   "outputs": [],
   "source": [
    "assert key_path.exists()"
   ]
  },
  {
   "cell_type": "code",
   "execution_count": null,
   "id": "cede958e",
   "metadata": {},
   "outputs": [],
   "source": [
    "file.replace(\"./test-files/new_iris.csv\")"
   ]
  },
  {
   "cell_type": "code",
   "execution_count": null,
   "id": "443b0bd8",
   "metadata": {},
   "outputs": [],
   "source": [
    "file.save()"
   ]
  },
  {
   "cell_type": "code",
   "execution_count": null,
   "id": "fb3f4077",
   "metadata": {},
   "outputs": [],
   "source": [
    "old_key_path = key_path\n",
    "new_key_path = root / f\"iris.csv\""
   ]
  },
  {
   "cell_type": "code",
   "execution_count": null,
   "id": "ddedb1c1",
   "metadata": {},
   "outputs": [],
   "source": [
    "old_key_path"
   ]
  },
  {
   "cell_type": "code",
   "execution_count": null,
   "id": "97014c23",
   "metadata": {},
   "outputs": [],
   "source": [
    "new_key_path"
   ]
  },
  {
   "cell_type": "code",
   "execution_count": null,
   "id": "8cf02684",
   "metadata": {},
   "outputs": [],
   "source": [
    "assert not old_key_path.exists()\n",
    "assert new_key_path.exists()"
   ]
  },
  {
   "cell_type": "code",
   "execution_count": null,
   "id": "b938fad1",
   "metadata": {},
   "outputs": [],
   "source": [
    "file.delete(storage=True)"
   ]
  },
  {
   "cell_type": "code",
   "execution_count": null,
   "id": "ce531657",
   "metadata": {
    "tags": [
     "hide-cell"
    ]
   },
   "outputs": [],
   "source": [
    "!lamin delete --force {instance_name}"
   ]
  }
 ],
 "metadata": {
  "kernelspec": {
   "display_name": "Python 3 (ipykernel)",
   "language": "python",
   "name": "python3"
  },
  "language_info": {
   "codemirror_mode": {
    "name": "ipython",
    "version": 3
   },
   "file_extension": ".py",
   "mimetype": "text/x-python",
   "name": "python",
   "nbconvert_exporter": "python",
   "pygments_lexer": "ipython3",
   "version": "3.10.13"
  },
  "nbproject": {
   "id": "uBQMCcdYwEjA",
   "parent": null,
   "pypackage": null,
   "time_init": "2023-04-04T16:26:17.675023+00:00",
   "user_handle": "Koncopd",
   "user_id": "qTQ5q0ar",
   "user_name": "Sergei Rybakov",
   "version": "0"
  }
 },
 "nbformat": 4,
 "nbformat_minor": 5
}
