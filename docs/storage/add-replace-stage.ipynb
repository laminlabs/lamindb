{
 "cells": [
  {
   "attachments": {},
   "cell_type": "markdown",
   "id": "30fd690f",
   "metadata": {},
   "source": [
    "# Add, replace, stage and delete files"
   ]
  },
  {
   "cell_type": "code",
   "execution_count": null,
   "id": "61b3502a",
   "metadata": {
    "tags": [
     "hide-cell"
    ]
   },
   "outputs": [],
   "source": [
    "!lamin load testuser1/test-add-replace-stage\n",
    "!lamin delete test-add-replace-stage\n",
    "!lamin init --storage s3://lamindb-ci --name test-add-replace-stage"
   ]
  },
  {
   "cell_type": "code",
   "execution_count": null,
   "id": "dca2c05d",
   "metadata": {},
   "outputs": [],
   "source": [
    "import lamindb as ln\n",
    "from lamindb_setup.dev.upath import UPath"
   ]
  },
  {
   "cell_type": "code",
   "execution_count": null,
   "id": "1a3c5efe",
   "metadata": {},
   "outputs": [],
   "source": [
    "root = ln.setup.settings.storage.root"
   ]
  },
  {
   "cell_type": "code",
   "execution_count": null,
   "id": "21d11d75",
   "metadata": {},
   "outputs": [],
   "source": [
    "file = ln.File(\"./test-files/iris.csv\")"
   ]
  },
  {
   "cell_type": "code",
   "execution_count": null,
   "id": "b780712e",
   "metadata": {},
   "outputs": [],
   "source": [
    "ln.add(file)"
   ]
  },
  {
   "cell_type": "code",
   "execution_count": null,
   "id": "57639bb3",
   "metadata": {},
   "outputs": [],
   "source": [
    "key_path = root / f\"{file.id}{file.suffix}\""
   ]
  },
  {
   "cell_type": "code",
   "execution_count": null,
   "id": "ccb6c4b9",
   "metadata": {},
   "outputs": [],
   "source": [
    "assert key_path.exists()"
   ]
  },
  {
   "cell_type": "code",
   "execution_count": null,
   "id": "293eac7f",
   "metadata": {},
   "outputs": [],
   "source": [
    "cache_csv_path = file.stage()"
   ]
  },
  {
   "cell_type": "code",
   "execution_count": null,
   "id": "7372ea62",
   "metadata": {},
   "outputs": [],
   "source": [
    "cache_csv_path"
   ]
  },
  {
   "cell_type": "code",
   "execution_count": null,
   "id": "dfefd884",
   "metadata": {},
   "outputs": [],
   "source": [
    "assert cache_csv_path.suffix == \".csv\""
   ]
  },
  {
   "cell_type": "code",
   "execution_count": null,
   "id": "a8492c68",
   "metadata": {},
   "outputs": [],
   "source": [
    "file.replace(\"./test-files/iris.data\")"
   ]
  },
  {
   "cell_type": "code",
   "execution_count": null,
   "id": "f36159d9",
   "metadata": {},
   "outputs": [],
   "source": [
    "ln.add(file)"
   ]
  },
  {
   "cell_type": "code",
   "execution_count": null,
   "id": "8a5520eb",
   "metadata": {},
   "outputs": [],
   "source": [
    "old_key_path = key_path\n",
    "new_key_path = root / f\"{file.id}{file.suffix}\""
   ]
  },
  {
   "cell_type": "code",
   "execution_count": null,
   "id": "2de9433b",
   "metadata": {},
   "outputs": [],
   "source": [
    "assert not old_key_path.exists()\n",
    "assert new_key_path.exists()"
   ]
  },
  {
   "cell_type": "code",
   "execution_count": null,
   "id": "3b695dde",
   "metadata": {},
   "outputs": [],
   "source": [
    "cache_data_path = file.stage()"
   ]
  },
  {
   "cell_type": "code",
   "execution_count": null,
   "id": "f71f4a3c",
   "metadata": {},
   "outputs": [],
   "source": [
    "cache_data_path"
   ]
  },
  {
   "cell_type": "code",
   "execution_count": null,
   "id": "8edba44a",
   "metadata": {},
   "outputs": [],
   "source": [
    "assert cache_data_path.suffix == \".data\""
   ]
  },
  {
   "cell_type": "code",
   "execution_count": null,
   "id": "c75115b2",
   "metadata": {},
   "outputs": [],
   "source": [
    "assert cache_data_path.stat().st_mtime >= cache_csv_path.stat().st_mtime"
   ]
  },
  {
   "cell_type": "code",
   "execution_count": null,
   "id": "7273324a",
   "metadata": {},
   "outputs": [],
   "source": [
    "ln.delete(file, delete_data_from_storage=True)"
   ]
  },
  {
   "attachments": {},
   "cell_type": "markdown",
   "id": "bff43702",
   "metadata": {},
   "source": [
    "## Add with `key`"
   ]
  },
  {
   "cell_type": "code",
   "execution_count": null,
   "id": "48d77993",
   "metadata": {},
   "outputs": [],
   "source": [
    "file = ln.File(\"./test-files/iris.csv\", key=\"iris.csv\")"
   ]
  },
  {
   "cell_type": "code",
   "execution_count": null,
   "id": "4249829f",
   "metadata": {},
   "outputs": [],
   "source": [
    "ln.add(file)"
   ]
  },
  {
   "cell_type": "code",
   "execution_count": null,
   "id": "7d7f97fe",
   "metadata": {},
   "outputs": [],
   "source": [
    "key_path = root / \"iris.csv\""
   ]
  },
  {
   "cell_type": "code",
   "execution_count": null,
   "id": "fb8790e5",
   "metadata": {},
   "outputs": [],
   "source": [
    "assert key_path.exists()"
   ]
  },
  {
   "cell_type": "code",
   "execution_count": null,
   "id": "a06d1c45",
   "metadata": {},
   "outputs": [],
   "source": [
    "file.replace(\"./test-files/new_iris.csv\")"
   ]
  },
  {
   "cell_type": "code",
   "execution_count": null,
   "id": "f6f9bf54",
   "metadata": {},
   "outputs": [],
   "source": [
    "ln.add(file)"
   ]
  },
  {
   "cell_type": "code",
   "execution_count": null,
   "id": "358f6fc4",
   "metadata": {},
   "outputs": [],
   "source": [
    "old_key_path = key_path\n",
    "new_key_path = root / \"new_iris.csv\""
   ]
  },
  {
   "cell_type": "code",
   "execution_count": null,
   "id": "d814c410",
   "metadata": {},
   "outputs": [],
   "source": [
    "assert not old_key_path.exists()\n",
    "assert new_key_path.exists()"
   ]
  },
  {
   "cell_type": "code",
   "execution_count": null,
   "id": "4f18d6fa",
   "metadata": {},
   "outputs": [],
   "source": [
    "file.replace(\"./test-files/iris.data\")"
   ]
  },
  {
   "cell_type": "code",
   "execution_count": null,
   "id": "7803e37d",
   "metadata": {},
   "outputs": [],
   "source": [
    "ln.add(file)"
   ]
  },
  {
   "cell_type": "code",
   "execution_count": null,
   "id": "c6e51e9e",
   "metadata": {},
   "outputs": [],
   "source": [
    "old_key_path = new_key_path\n",
    "new_key_path = root / \"iris.data\""
   ]
  },
  {
   "cell_type": "code",
   "execution_count": null,
   "id": "b28c7bbc",
   "metadata": {},
   "outputs": [],
   "source": [
    "assert not old_key_path.exists()\n",
    "assert new_key_path.exists()"
   ]
  },
  {
   "cell_type": "code",
   "execution_count": null,
   "id": "ced86160",
   "metadata": {},
   "outputs": [],
   "source": [
    "ln.delete(file, delete_data_from_storage=True)"
   ]
  },
  {
   "attachments": {},
   "cell_type": "markdown",
   "id": "35544933",
   "metadata": {},
   "source": [
    "## Add from memory"
   ]
  },
  {
   "cell_type": "code",
   "execution_count": null,
   "id": "e7fab43f",
   "metadata": {},
   "outputs": [],
   "source": [
    "import pandas as pd"
   ]
  },
  {
   "cell_type": "code",
   "execution_count": null,
   "id": "8856a9d7",
   "metadata": {},
   "outputs": [],
   "source": [
    "iris = pd.read_csv(\"./test-files/iris.csv\")"
   ]
  },
  {
   "cell_type": "code",
   "execution_count": null,
   "id": "8ea0c90a",
   "metadata": {},
   "outputs": [],
   "source": [
    "file = ln.File(data=iris, name=\"iris_store\", key=\"iris.parquet\")"
   ]
  },
  {
   "cell_type": "code",
   "execution_count": null,
   "id": "abaa7abb",
   "metadata": {},
   "outputs": [],
   "source": [
    "ln.add(file)"
   ]
  },
  {
   "cell_type": "code",
   "execution_count": null,
   "id": "4a737804",
   "metadata": {},
   "outputs": [],
   "source": [
    "key_path = root / \"iris.parquet\""
   ]
  },
  {
   "cell_type": "code",
   "execution_count": null,
   "id": "0f98ac32",
   "metadata": {},
   "outputs": [],
   "source": [
    "assert key_path.exists()"
   ]
  },
  {
   "cell_type": "code",
   "execution_count": null,
   "id": "7e90b55e",
   "metadata": {},
   "outputs": [],
   "source": [
    "file.replace(data=iris[:-1])"
   ]
  },
  {
   "cell_type": "code",
   "execution_count": null,
   "id": "3d27e855",
   "metadata": {},
   "outputs": [],
   "source": [
    "assert file.key == \"iris.parquet\""
   ]
  },
  {
   "cell_type": "code",
   "execution_count": null,
   "id": "41f9b6fc",
   "metadata": {},
   "outputs": [],
   "source": [
    "ln.add(file)"
   ]
  },
  {
   "cell_type": "code",
   "execution_count": null,
   "id": "3a07c215",
   "metadata": {},
   "outputs": [],
   "source": [
    "assert key_path.exists()"
   ]
  },
  {
   "cell_type": "code",
   "execution_count": null,
   "id": "cede958e",
   "metadata": {},
   "outputs": [],
   "source": [
    "file.replace(\"./test-files/new_iris.csv\")"
   ]
  },
  {
   "cell_type": "code",
   "execution_count": null,
   "id": "443b0bd8",
   "metadata": {},
   "outputs": [],
   "source": [
    "ln.add(file)"
   ]
  },
  {
   "cell_type": "code",
   "execution_count": null,
   "id": "fb3f4077",
   "metadata": {},
   "outputs": [],
   "source": [
    "old_key_path = key_path\n",
    "new_key_path = root / \"new_iris.csv\""
   ]
  },
  {
   "cell_type": "code",
   "execution_count": null,
   "id": "8cf02684",
   "metadata": {},
   "outputs": [],
   "source": [
    "assert not old_key_path.exists()\n",
    "assert new_key_path.exists()"
   ]
  },
  {
   "cell_type": "code",
   "execution_count": null,
   "id": "b938fad1",
   "metadata": {},
   "outputs": [],
   "source": [
    "ln.delete(file, delete_data_from_storage=True)"
   ]
  },
  {
   "cell_type": "code",
   "execution_count": null,
   "id": "ce531657",
   "metadata": {
    "tags": [
     "hide-cell"
    ]
   },
   "outputs": [],
   "source": [
    "!lamin delete test-add-replace-stage"
   ]
  }
 ],
 "metadata": {
  "kernelspec": {
   "display_name": "Python 3 (ipykernel)",
   "language": "python",
   "name": "python3"
  },
  "language_info": {
   "codemirror_mode": {
    "name": "ipython",
    "version": 3
   },
   "file_extension": ".py",
   "mimetype": "text/x-python",
   "name": "python",
   "nbconvert_exporter": "python",
   "pygments_lexer": "ipython3",
   "version": "3.9.15"
  },
  "nbproject": {
   "id": "uBQMCcdYwEjA",
   "parent": null,
   "pypackage": null,
   "time_init": "2023-04-04T16:26:17.675023+00:00",
   "user_handle": "Koncopd",
   "user_id": "qTQ5q0ar",
   "user_name": "Sergei Rybakov",
   "version": "0"
  }
 },
 "nbformat": 4,
 "nbformat_minor": 5
}
