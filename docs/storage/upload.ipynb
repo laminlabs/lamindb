{
 "cells": [
  {
   "attachments": {},
   "cell_type": "markdown",
   "id": "dd6bf8d1-ba40-4054-9f62-a402588f7a95",
   "metadata": {},
   "source": [
    "# Track files, in-memory objects & folders [S3 storage]"
   ]
  },
  {
   "cell_type": "code",
   "execution_count": null,
   "id": "8c21d20e-0f4e-4097-a37a-ba784addc412",
   "metadata": {
    "tags": [
     "hide-cell"
    ]
   },
   "outputs": [],
   "source": [
    "!lamin load testuser1/test-lamindb-ci-upload\n",
    "!lamin delete test-lamindb-ci-upload\n",
    "!lamin init --storage s3://lamindb-ci --name test-lamindb-ci-upload"
   ]
  },
  {
   "cell_type": "code",
   "execution_count": null,
   "id": "8eb097f4-4114-4a35-8764-ebcfe1e85bdc",
   "metadata": {},
   "outputs": [],
   "source": [
    "import lamindb as ln\n",
    "import pytest\n",
    "\n",
    "ln.track()"
   ]
  },
  {
   "attachments": {},
   "cell_type": "markdown",
   "id": "bb95abe7",
   "metadata": {},
   "source": [
    "## Local files"
   ]
  },
  {
   "attachments": {},
   "cell_type": "markdown",
   "id": "b11215af-bb7f-4932-83ee-8f46f5583ed8",
   "metadata": {},
   "source": [
    "Some test data."
   ]
  },
  {
   "cell_type": "code",
   "execution_count": null,
   "id": "077344a2-4f18-47c9-b8a5-c3c6411511db",
   "metadata": {},
   "outputs": [],
   "source": [
    "pbmc68k = ln.dev.datasets.anndata_pbmc68k_reduced()"
   ]
  },
  {
   "attachments": {},
   "cell_type": "markdown",
   "id": "7af3d05d-8dc3-455d-be1b-83e798621051",
   "metadata": {},
   "source": [
    "Subset to a mini file to speed up the run time of this notebook:"
   ]
  },
  {
   "cell_type": "code",
   "execution_count": null,
   "id": "614a8766-b594-4578-a163-2497835cc9b4",
   "metadata": {},
   "outputs": [],
   "source": [
    "pbmc68k = pbmc68k[:5, :5].copy()"
   ]
  },
  {
   "cell_type": "code",
   "execution_count": null,
   "id": "4234bb42-03e2-4676-a674-9281eb295df7",
   "metadata": {},
   "outputs": [],
   "source": [
    "pbmc68k"
   ]
  },
  {
   "attachments": {},
   "cell_type": "markdown",
   "id": "622b8012-6a94-4a41-8a6b-4c178ed4cfa6",
   "metadata": {},
   "source": [
    "###  Upload from memory using explicit semantic `key`"
   ]
  },
  {
   "attachments": {},
   "cell_type": "markdown",
   "id": "8138a887-2de8-4ad9-ad8b-63324263fb7d",
   "metadata": {},
   "source": [
    "#### Upload h5ad"
   ]
  },
  {
   "cell_type": "code",
   "execution_count": null,
   "id": "fcff7272-13df-46f9-ab63-25921a507f98",
   "metadata": {},
   "outputs": [],
   "source": [
    "pbmc68k_h5ad = ln.File(pbmc68k, key=\"test-upload/pbmc68k.h5ad\")"
   ]
  },
  {
   "cell_type": "code",
   "execution_count": null,
   "id": "a97617fd-0f41-43f1-9919-25acab3df0c5",
   "metadata": {},
   "outputs": [],
   "source": [
    "pbmc68k_h5ad = ln.add(pbmc68k_h5ad)"
   ]
  },
  {
   "cell_type": "code",
   "execution_count": null,
   "id": "14b139c3-fb1e-4cca-a75a-8ed798c189a8",
   "metadata": {},
   "outputs": [],
   "source": [
    "ln.delete(pbmc68k_h5ad, delete_data_from_storage=True)"
   ]
  },
  {
   "attachments": {},
   "cell_type": "markdown",
   "id": "ff0e34cd-8ebd-4196-a7bd-a667b2a360a1",
   "metadata": {},
   "source": [
    "#### Upload zarr"
   ]
  },
  {
   "cell_type": "code",
   "execution_count": null,
   "id": "b66ec0af-9c93-438a-8280-d93fe657bbfb",
   "metadata": {},
   "outputs": [],
   "source": [
    "# Runs too long, should be tested elsewhere\n",
    "# pbmc68k_zarr = ln.File(pbmc68k, key=\"test-upload/pbmc68k.zarr\", format=\"zarr\")\n",
    "# pbmc68k_zarr = ln.add(pbmc68k_zarr)\n",
    "# ln.delete(pbmc68k_zarr, delete_data_from_storage=True)"
   ]
  },
  {
   "attachments": {},
   "cell_type": "markdown",
   "id": "c552af90-b4b3-4465-aaec-662949d480b3",
   "metadata": {},
   "source": [
    "### Upload using `id` with implicit `key`"
   ]
  },
  {
   "attachments": {},
   "cell_type": "markdown",
   "id": "6ac16f8b-3952-469b-9b6c-3a78c096467c",
   "metadata": {},
   "source": [
    "#### Upload h5ad"
   ]
  },
  {
   "cell_type": "code",
   "execution_count": null,
   "id": "25675eeb-b339-44c7-9118-6178b3351100",
   "metadata": {},
   "outputs": [],
   "source": [
    "pbmc68k_h5ad = ln.File(pbmc68k, name=\"pbmc68k.h5ad\")"
   ]
  },
  {
   "cell_type": "code",
   "execution_count": null,
   "id": "6314e8b1-ccf3-467f-a6e0-4687f52d1033",
   "metadata": {},
   "outputs": [],
   "source": [
    "pbmc68k_h5ad = ln.add(pbmc68k_h5ad)"
   ]
  },
  {
   "cell_type": "code",
   "execution_count": null,
   "id": "07e8e616-89df-433d-89a7-a9c8aed890ce",
   "metadata": {},
   "outputs": [],
   "source": [
    "ln.delete(pbmc68k_h5ad, delete_data_from_storage=True)"
   ]
  },
  {
   "attachments": {},
   "cell_type": "markdown",
   "id": "8bd5da59-c616-4e49-9f02-f4814c19032f",
   "metadata": {},
   "source": [
    "#### Upload zarr"
   ]
  },
  {
   "cell_type": "code",
   "execution_count": null,
   "id": "2e6e3ae0-5ba9-4312-a902-f0278d1efdfc",
   "metadata": {},
   "outputs": [],
   "source": [
    "# Runs too long, should be tested elsewhere\n",
    "# pbmc68k_zarr = ln.File(pbmc68k, name=\"pbmc68k.zarr\", format=\"zarr\")\n",
    "# pbmc68k_zarr = ln.add(pbmc68k_zarr)\n",
    "# ln.delete(pbmc68k_zarr, delete_data_from_storage=True)"
   ]
  },
  {
   "attachments": {},
   "cell_type": "markdown",
   "id": "06a91d99-d204-4ec2-b567-960a2aaad38d",
   "metadata": {
    "tags": []
   },
   "source": [
    "### Error behaviors"
   ]
  },
  {
   "attachments": {},
   "cell_type": "markdown",
   "id": "f760cba0-38a0-4be2-8854-d1f17689de05",
   "metadata": {},
   "source": [
    "Specified bucket does not exist."
   ]
  },
  {
   "cell_type": "code",
   "execution_count": null,
   "id": "de2f9c7b-994c-417a-a700-f517a29df78e",
   "metadata": {},
   "outputs": [],
   "source": [
    "with pytest.raises(FileNotFoundError):\n",
    "    pbmc68k_h5ad = ln.File(\"s3://inexistent-bucket-239809834/pbmc68k.h5ad\")"
   ]
  },
  {
   "cell_type": "code",
   "execution_count": null,
   "id": "13850c8c-6543-4cf4-b8ae-dc0a00300e2f",
   "metadata": {},
   "outputs": [],
   "source": [
    "with pytest.raises(FileNotFoundError):\n",
    "    pbmc68k_h5ad = ln.File(\"s3://lndb-setup-ci/pbmc68k.h5ad\")"
   ]
  },
  {
   "attachments": {},
   "cell_type": "markdown",
   "id": "bcb399bd-8c13-424a-bbb7-d6bb7cb1f5e7",
   "metadata": {},
   "source": [
    "Cross bucket moving of files."
   ]
  },
  {
   "cell_type": "code",
   "execution_count": null,
   "id": "af74523c-553b-4a25-90db-9d820006dfc1",
   "metadata": {},
   "outputs": [],
   "source": [
    "with pytest.raises(ValueError):\n",
    "    pbmc68k_h5ad = ln.File(\"s3://bionty-assets/Species.csv\")"
   ]
  },
  {
   "attachments": {},
   "cell_type": "markdown",
   "id": "64550c3f",
   "metadata": {},
   "source": [
    "## Track existing files"
   ]
  },
  {
   "attachments": {},
   "cell_type": "markdown",
   "id": "62486d5f",
   "metadata": {},
   "source": [
    "Now we'd like to ingest a csv file that is located in this bucket:"
   ]
  },
  {
   "cell_type": "code",
   "execution_count": null,
   "id": "0a44992e",
   "metadata": {},
   "outputs": [],
   "source": [
    "file = ln.File(\"s3://lamindb-ci/test-data/test.csv\")"
   ]
  },
  {
   "cell_type": "code",
   "execution_count": null,
   "id": "b52c9711",
   "metadata": {},
   "outputs": [],
   "source": [
    "ln.add(file)"
   ]
  },
  {
   "attachments": {},
   "cell_type": "markdown",
   "id": "fcf85251",
   "metadata": {},
   "source": [
    "Query and load data:"
   ]
  },
  {
   "cell_type": "code",
   "execution_count": null,
   "id": "ba93a1b2",
   "metadata": {},
   "outputs": [],
   "source": [
    "file = ln.select(ln.File, id=file.id).one()\n",
    "\n",
    "file"
   ]
  },
  {
   "cell_type": "code",
   "execution_count": null,
   "id": "d92d5ccd",
   "metadata": {},
   "outputs": [],
   "source": [
    "file.path()"
   ]
  },
  {
   "cell_type": "code",
   "execution_count": null,
   "id": "8ad72747",
   "metadata": {},
   "outputs": [],
   "source": [
    "file.stage()"
   ]
  },
  {
   "cell_type": "code",
   "execution_count": null,
   "id": "78fdb8e2",
   "metadata": {},
   "outputs": [],
   "source": [
    "file.load().head()"
   ]
  },
  {
   "cell_type": "code",
   "execution_count": null,
   "id": "a8edf127",
   "metadata": {
    "tags": [
     "hide-cell"
    ]
   },
   "outputs": [],
   "source": [
    "# Delete the file record\n",
    "ln.delete(file, delete_data_from_storage=False)"
   ]
  },
  {
   "cell_type": "code",
   "execution_count": null,
   "id": "4c278028",
   "metadata": {},
   "outputs": [],
   "source": [
    "!lamin delete test-lamindb-ci-upload"
   ]
  }
 ],
 "metadata": {
  "kernelspec": {
   "display_name": "Python 3 (ipykernel)",
   "language": "python",
   "name": "python3"
  },
  "language_info": {
   "codemirror_mode": {
    "name": "ipython",
    "version": 3
   },
   "file_extension": ".py",
   "mimetype": "text/x-python",
   "name": "python",
   "nbconvert_exporter": "python",
   "pygments_lexer": "ipython3",
   "version": "3.9.12"
  },
  "nbproject": {
   "id": "psZgub4FOmzS",
   "parent": null,
   "pypackage": null,
   "time_init": "2023-04-09T20:01:57.780053+00:00",
   "user_handle": "testuser1",
   "user_id": "DzTjkKse",
   "user_name": "Test User1",
   "version": "0"
  }
 },
 "nbformat": 4,
 "nbformat_minor": 5
}
