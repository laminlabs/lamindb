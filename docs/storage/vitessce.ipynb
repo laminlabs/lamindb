{
 "cells": [
  {
   "cell_type": "markdown",
   "metadata": {},
   "source": [
    "# Vitessce integration"
   ]
  },
  {
   "cell_type": "markdown",
   "metadata": {},
   "source": [
    "For more comprehensive integration tests, see: https://github.com/laminlabs/lamin-spatial"
   ]
  },
  {
   "cell_type": "code",
   "execution_count": null,
   "metadata": {},
   "outputs": [],
   "source": [
    "!lamin login testuser1\n",
    "!lamin init --storage \"s3://lamindb-ci/test-vitessce\""
   ]
  },
  {
   "cell_type": "code",
   "execution_count": null,
   "metadata": {},
   "outputs": [],
   "source": [
    "import lamindb as ln\n",
    "import pytest\n",
    "from vitessce import (\n",
    "    VitessceConfig,\n",
    "    Component as cm,\n",
    "    AnnDataWrapper,\n",
    ")"
   ]
  },
  {
   "cell_type": "markdown",
   "metadata": {},
   "source": [
    "Set up test data:"
   ]
  },
  {
   "cell_type": "code",
   "execution_count": null,
   "metadata": {},
   "outputs": [],
   "source": [
    "pbmc68k = ln.core.datasets.anndata_pbmc68k_reduced()[:100, :200].copy()\n",
    "zarr_filepath = \"my_test.zarr\"\n",
    "# write the anndata to a local zarr path\n",
    "pbmc68k.write_zarr(zarr_filepath)\n",
    "# create an artifact from the path\n",
    "dataset_artifact = ln.Artifact(zarr_filepath, description=\"Test dataset\").save()\n",
    "# this is the where the zarr folder is located on a public S3 bucket\n",
    "dataset_artifact.path.to_url()"
   ]
  },
  {
   "cell_type": "markdown",
   "metadata": {},
   "source": [
    "Create a `VitessceConfig` object: "
   ]
  },
  {
   "cell_type": "code",
   "execution_count": null,
   "metadata": {
    "tags": [
     "hide-output"
    ]
   },
   "outputs": [],
   "source": [
    "vc = VitessceConfig(schema_version=\"1.0.15\")\n",
    "vc.add_dataset(name=\"test1\").add_object(\n",
    "    AnnDataWrapper(\n",
    "        adata_artifact=dataset_artifact,\n",
    "        obs_embedding_paths=[\"obsm/X_umap\"],\n",
    "    ),\n",
    ")\n",
    "vc.to_dict()"
   ]
  },
  {
   "cell_type": "code",
   "execution_count": null,
   "metadata": {},
   "outputs": [],
   "source": [
    "vitessce_config_artifact = ln.integrations.save_vitessce_config(vc, description=\"View testdata in Vitessce\")"
   ]
  },
  {
   "cell_type": "code",
   "execution_count": null,
   "metadata": {},
   "outputs": [],
   "source": [
    "# different equivalent ways of testing that the action is attached\n",
    "assert dataset_artifact._actions.get() == vitessce_config_artifact\n",
    "assert vitessce_config_artifact._action_targets.get() == dataset_artifact\n",
    "assert vitessce_config_artifact._actions.first() is None\n",
    "assert ln.Artifact.get(_actions=vitessce_config_artifact) == dataset_artifact"
   ]
  },
  {
   "cell_type": "code",
   "execution_count": null,
   "metadata": {},
   "outputs": [],
   "source": [
    "dataset_artifact.delete(permanent=True)\n",
    "vitessce_config_artifact.delete(permanent=True)"
   ]
  },
  {
   "cell_type": "markdown",
   "metadata": {},
   "source": [
    "Test validation within `save_vitessce_config`:"
   ]
  },
  {
   "cell_type": "code",
   "execution_count": null,
   "metadata": {},
   "outputs": [],
   "source": [
    "# pass an artifact URL instead of the artifact object itself\n",
    "vc = VitessceConfig(schema_version=\"1.0.15\")\n",
    "with pytest.raises(AttributeError) as error:\n",
    "    vc.add_dataset(name=\"test1\").add_object(\n",
    "        AnnDataWrapper(\n",
    "            adata_artifact=dataset_artifact.path.to_url(),\n",
    "            obs_embedding_paths=[\"obsm/X_umap\"],\n",
    "        ),\n",
    "    )\n",
    "print(error.exconly())\n",
    "assert error.exconly().startswith(\"AttributeError: 'str' object has no attribute 'path'\")\n"
   ]
  },
  {
   "cell_type": "code",
   "execution_count": null,
   "metadata": {},
   "outputs": [],
   "source": [
    "ln.setup.delete(\"test-vitessce\", force=True)"
   ]
  }
 ],
 "metadata": {
  "kernelspec": {
   "display_name": "py310",
   "language": "python",
   "name": "python3"
  },
  "language_info": {
   "codemirror_mode": {
    "name": "ipython",
    "version": 3
   },
   "file_extension": ".py",
   "mimetype": "text/x-python",
   "name": "python",
   "nbconvert_exporter": "python",
   "pygments_lexer": "ipython3",
   "version": "3.10.13"
  }
 },
 "nbformat": 4,
 "nbformat_minor": 2
}
