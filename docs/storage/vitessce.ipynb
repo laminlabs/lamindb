{
 "cells": [
  {
   "cell_type": "markdown",
   "metadata": {},
   "source": [
    "# Vitessce integration"
   ]
  },
  {
   "cell_type": "markdown",
   "metadata": {},
   "source": [
    "For more comprehensive integration tests, see: https://github.com/laminlabs/lamin-spatial"
   ]
  },
  {
   "cell_type": "code",
   "execution_count": null,
   "metadata": {},
   "outputs": [],
   "source": [
    "!lamin login testuser1\n",
    "!lamin init --storage \"s3://lamindb-ci/test-vitessce\""
   ]
  },
  {
   "cell_type": "code",
   "execution_count": null,
   "metadata": {},
   "outputs": [],
   "source": [
    "import lamindb as ln"
   ]
  },
  {
   "cell_type": "code",
   "execution_count": null,
   "metadata": {},
   "outputs": [],
   "source": [
    "pbmc68k = ln.core.datasets.anndata_pbmc68k_reduced()"
   ]
  },
  {
   "cell_type": "code",
   "execution_count": null,
   "metadata": {},
   "outputs": [],
   "source": [
    "pbmc68k = pbmc68k[:100, :200].copy()"
   ]
  },
  {
   "cell_type": "code",
   "execution_count": null,
   "metadata": {},
   "outputs": [],
   "source": [
    "zarr_filepath = \"my_test.zarr\"\n",
    "pbmc68k.write_zarr(zarr_filepath)"
   ]
  },
  {
   "cell_type": "code",
   "execution_count": null,
   "metadata": {},
   "outputs": [],
   "source": [
    "zarr_artifact = ln.Artifact(zarr_filepath, description=\"Test dataset\")\n",
    "zarr_artifact.save()"
   ]
  },
  {
   "cell_type": "code",
   "execution_count": null,
   "metadata": {},
   "outputs": [],
   "source": [
    "from vitessce import (\n",
    "    VitessceConfig,\n",
    "    Component as cm,\n",
    "    AnnDataWrapper,\n",
    ")\n",
    "vc = VitessceConfig(\n",
    "    schema_version=\"1.0.15\",\n",
    "    name=\"Test dataset\",\n",
    "    description=\"Test description\",\n",
    ")\n",
    "dataset = vc.add_dataset(name=\"test1\").add_object(\n",
    "    AnnDataWrapper(adata_url=zarr_artifact.path.to_url()),\n",
    ")\n",
    "obs_sets = vc.add_view(cm.OBS_SETS, dataset=dataset)\n",
    "obs_sets_sizes = vc.add_view(cm.OBS_SET_SIZES, dataset=dataset)\n",
    "scatterplot = vc.add_view(cm.SCATTERPLOT, dataset=dataset, mapping=\"UMAP\")\n",
    "heatmap = vc.add_view(cm.HEATMAP, dataset=dataset)\n",
    "genes = vc.add_view(cm.FEATURE_LIST, dataset=dataset)\n",
    "vc.layout(((scatterplot | obs_sets) / heatmap) | (obs_sets_sizes / genes))\n",
    "\n",
    "# inspect the config\n",
    "vc.to_dict()"
   ]
  },
  {
   "cell_type": "code",
   "execution_count": null,
   "metadata": {},
   "outputs": [],
   "source": [
    "from lamindb.integrations import save_vitessce_config"
   ]
  },
  {
   "cell_type": "code",
   "execution_count": null,
   "metadata": {},
   "outputs": [],
   "source": [
    "vc_artifact = save_vitessce_config(vc, description=\"View Habib17 in Vitessce\")"
   ]
  },
  {
   "cell_type": "code",
   "execution_count": null,
   "metadata": {},
   "outputs": [],
   "source": [
    "zarr_artifact.delete(permanent=True)\n",
    "vc_artifact.delete(permanent=True)"
   ]
  },
  {
   "cell_type": "code",
   "execution_count": null,
   "metadata": {},
   "outputs": [],
   "source": [
    "ln.setup.delete(\"test-vitessce\", force=True)"
   ]
  }
 ],
 "metadata": {
  "kernelspec": {
   "display_name": "py310",
   "language": "python",
   "name": "python3"
  },
  "language_info": {
   "codemirror_mode": {
    "name": "ipython",
    "version": 3
   },
   "file_extension": ".py",
   "mimetype": "text/x-python",
   "name": "python",
   "nbconvert_exporter": "python",
   "pygments_lexer": "ipython3",
   "version": "3.10.13"
  }
 },
 "nbformat": 4,
 "nbformat_minor": 2
}
