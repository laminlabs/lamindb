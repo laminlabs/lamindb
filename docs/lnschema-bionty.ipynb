{
 "cells": [
  {
   "attachments": {},
   "cell_type": "markdown",
   "id": "2ee23aa0-22e1-45ae-8fe4-392702f95de5",
   "metadata": {},
   "source": [
    "# `lnschema_bionty`: ORMs for Bionty"
   ]
  },
  {
   "cell_type": "code",
   "execution_count": null,
   "id": "01c41a39",
   "metadata": {
    "tags": [
     "hide-cell"
    ]
   },
   "outputs": [],
   "source": [
    "!lamin init --storage ./test-lnschema-bionty --schema bionty"
   ]
  },
  {
   "cell_type": "code",
   "execution_count": null,
   "id": "7c47093c",
   "metadata": {},
   "outputs": [],
   "source": [
    "import lamindb as ln\n",
    "import lnschema_bionty as lb\n",
    "import pandas as pd\n",
    "\n",
    "ln.settings.verbosity = 3  # show hints"
   ]
  },
  {
   "cell_type": "code",
   "execution_count": null,
   "id": "c8ad40f7",
   "metadata": {},
   "outputs": [],
   "source": [
    "ln.schema.view()"
   ]
  },
  {
   "attachments": {},
   "cell_type": "markdown",
   "id": "987ca440",
   "metadata": {},
   "source": [
    "## Create a SQL record from knowledge\n",
    "\n",
    "With configured database and version for each entity (see [Bionty Configuration](https://lamin.ai/docs/bionty/guide/config)), all other fields can be auto populated given one field value."
   ]
  },
  {
   "cell_type": "code",
   "execution_count": null,
   "id": "8b392f09",
   "metadata": {},
   "outputs": [],
   "source": [
    "lb.Species.from_bionty(name=\"mouse\")"
   ]
  },
  {
   "cell_type": "code",
   "execution_count": null,
   "id": "59088c68",
   "metadata": {},
   "outputs": [],
   "source": [
    "lb.CellType.from_bionty(name=\"T cell\")"
   ]
  },
  {
   "cell_type": "code",
   "execution_count": null,
   "id": "5ad77d01",
   "metadata": {},
   "outputs": [],
   "source": [
    "lb.Gene.from_bionty(symbol=\"TCF7\", species=\"human\")"
   ]
  },
  {
   "cell_type": "code",
   "execution_count": null,
   "id": "ae5a822f",
   "metadata": {},
   "outputs": [],
   "source": [
    "lb.Gene.from_bionty(symbol=\"Ap5b1\", species=\"mouse\")"
   ]
  },
  {
   "cell_type": "code",
   "execution_count": null,
   "id": "42f87fb0",
   "metadata": {},
   "outputs": [],
   "source": [
    "lb.Gene.from_bionty(symbol=\"Gm962\", species=\"mouse\")"
   ]
  },
  {
   "attachments": {},
   "cell_type": "markdown",
   "id": "214de48d",
   "metadata": {},
   "source": [
    "## Bulk create records from knowledge"
   ]
  },
  {
   "cell_type": "code",
   "execution_count": null,
   "id": "4098d278",
   "metadata": {},
   "outputs": [],
   "source": [
    "lb.Gene.from_values([\"LMN1\", \"CCR6\", \"ABC1\"], lb.Gene.symbol, species=\"human\")"
   ]
  },
  {
   "attachments": {},
   "cell_type": "markdown",
   "id": "d3aacc80",
   "metadata": {},
   "source": [
    "## Bionty object accessor: `.bionty()`"
   ]
  },
  {
   "attachments": {},
   "cell_type": "markdown",
   "id": "612db31b",
   "metadata": {},
   "source": [
    "```{note}\n",
    "\n",
    "You may access the [full bionty functionalities](https://lamin.ai/docs/bionty/guide) via the Bionty object: `lnschema-bionty.{entity}.bionty()`\n",
    "\n",
    "e.g.\n",
    "`bionty.Gene()` is the same as `lnschema.Gene.bionty()`\n",
    "```"
   ]
  },
  {
   "cell_type": "code",
   "execution_count": null,
   "id": "1b32f46f",
   "metadata": {},
   "outputs": [],
   "source": [
    "species_bionty = lb.Species.bionty()\n",
    "gene_bionty = lb.Gene.bionty(species=\"mouse\")"
   ]
  },
  {
   "attachments": {},
   "cell_type": "markdown",
   "id": "6179e059",
   "metadata": {},
   "source": [
    "## Create a SQL record from a bionty lookup"
   ]
  },
  {
   "cell_type": "code",
   "execution_count": null,
   "id": "5ade9d25",
   "metadata": {},
   "outputs": [],
   "source": [
    "sp_lookup = species_bionty.lookup()"
   ]
  },
  {
   "cell_type": "code",
   "execution_count": null,
   "id": "ea30c7f8",
   "metadata": {},
   "outputs": [],
   "source": [
    "sp_lookup.giant_panda"
   ]
  },
  {
   "cell_type": "code",
   "execution_count": null,
   "id": "98d834a6",
   "metadata": {},
   "outputs": [],
   "source": [
    "lb.Species(sp_lookup.giant_panda)"
   ]
  },
  {
   "cell_type": "code",
   "execution_count": null,
   "id": "7c8cf180",
   "metadata": {},
   "outputs": [],
   "source": [
    "gene_lookup = gene_bionty.lookup()"
   ]
  },
  {
   "cell_type": "code",
   "execution_count": null,
   "id": "40a0198a",
   "metadata": {},
   "outputs": [],
   "source": [
    "lb.Gene(gene_lookup.ap5b1, species=\"mouse\")"
   ]
  },
  {
   "attachments": {},
   "cell_type": "markdown",
   "id": "15d295d0",
   "metadata": {},
   "source": [
    "## Create a SQL record from scratch\n",
    "\n",
    "This works like any other ORM:"
   ]
  },
  {
   "cell_type": "code",
   "execution_count": null,
   "id": "4ab1cc83",
   "metadata": {},
   "outputs": [],
   "source": [
    "lb.Species(name=\"new species\")"
   ]
  },
  {
   "cell_type": "code",
   "execution_count": null,
   "id": "a55f32a6",
   "metadata": {},
   "outputs": [],
   "source": [
    "lb.Gene(symbol=\"synTCF7\")"
   ]
  },
  {
   "cell_type": "code",
   "execution_count": null,
   "id": "4410d1dc",
   "metadata": {},
   "outputs": [],
   "source": [
    "lb.CellType(name=\"my T cell\", ontology_id=\"my_ontology_id\")"
   ]
  },
  {
   "cell_type": "code",
   "execution_count": null,
   "id": "ca77e10a",
   "metadata": {},
   "outputs": [],
   "source": [
    "!lamin delete test-lnschema-bionty\n",
    "!rm -r ./test-lnschema-bionty"
   ]
  }
 ],
 "metadata": {
  "kernelspec": {
   "display_name": "Python 3 (ipykernel)",
   "language": "python",
   "name": "python3"
  },
  "language_info": {
   "codemirror_mode": {
    "name": "ipython",
    "version": 3
   },
   "file_extension": ".py",
   "mimetype": "text/x-python",
   "name": "python",
   "nbconvert_exporter": "python",
   "pygments_lexer": "ipython3",
   "version": "3.9.16"
  },
  "vscode": {
   "interpreter": {
    "hash": "ae1fefc8646a06dd2e75004cd934adda7c5727b046986a772e3b44b0ffba9754"
   }
  }
 },
 "nbformat": 4,
 "nbformat_minor": 5
}
