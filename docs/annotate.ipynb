{
 "cells": [
  {
   "cell_type": "markdown",
   "metadata": {},
   "source": [
    "# Annotate data\n",
    "\n",
    "While data is the primary information or raw facts that are collected and stored, metadata is the supporting information that provides context and meaning to that data.\n",
    "\n",
    "LaminDB let's you annotate data with metadata in two ways: features and labels. (Also see [tutorial](/tutorial2))\n",
    "\n",
    "This guide extends [Quickstart](/introduction) to explain the details of annotating data."
   ]
  },
  {
   "cell_type": "markdown",
   "metadata": {},
   "source": [
    "## Setup"
   ]
  },
  {
   "cell_type": "markdown",
   "metadata": {},
   "source": [
    "Let us create an instance that has {mod}`lnschema_bionty` mounted:"
   ]
  },
  {
   "cell_type": "code",
   "execution_count": null,
   "metadata": {
    "tags": [
     "hide-output"
    ]
   },
   "outputs": [],
   "source": [
    "!lamin init --storage ./test-annotate --schema bionty"
   ]
  },
  {
   "cell_type": "code",
   "execution_count": null,
   "metadata": {},
   "outputs": [],
   "source": [
    "import lamindb as ln\n",
    "import lnschema_bionty as lb\n",
    "import pandas as pd\n",
    "import anndata as ad"
   ]
  },
  {
   "cell_type": "code",
   "execution_count": null,
   "metadata": {},
   "outputs": [],
   "source": [
    "lb.settings.organism = \"human\"  # globally set organism\n",
    "lb.settings.auto_save_parents = False  # ignores ontological hierarchy\n",
    "ln.settings.verbosity = \"info\""
   ]
  },
  {
   "cell_type": "markdown",
   "metadata": {},
   "source": [
    "## Register a dataset"
   ]
  },
  {
   "cell_type": "markdown",
   "metadata": {},
   "source": [
    "Let's use the same example data as in the [Quickstart](/introduction):"
   ]
  },
  {
   "cell_type": "code",
   "execution_count": null,
   "metadata": {},
   "outputs": [],
   "source": [
    "df = pd.DataFrame(\n",
    "    {\"CD8A\": [1, 2, 3], \"CD4\": [3, 4, 5], \"CD14\": [5, 6, 7]},\n",
    "    index=[\"sample1\", \"sample2\", \"sample3\"],\n",
    ")"
   ]
  },
  {
   "cell_type": "markdown",
   "metadata": {},
   "source": [
    "In addition to the data, we also have two types of metadata as follows:"
   ]
  },
  {
   "cell_type": "code",
   "execution_count": null,
   "metadata": {},
   "outputs": [],
   "source": [
    "# observational metadata (1:1 correspondence with samples)\n",
    "obs_meta = pd.DataFrame(\n",
    "    {\n",
    "        \"cell_type\": [\"T cell\", \"T cell\", \"Monocyte\"],\n",
    "        \"tissue\": [\"capillary blood\", \"arterial blood\", \"capillary blood\"],\n",
    "    },\n",
    "    index=[\"sample1\", \"sample2\", \"sample3\"],\n",
    ")\n",
    "\n",
    "# external metadata (describes the entire dataset)\n",
    "external_meta = {\n",
    "    \"organism\": \"human\",\n",
    "    \"assay\": \"scRNA-seq\",\n",
    "    \"experiment\": \"EXP0001\",\n",
    "    \"project\": \"PRJ0001\",\n",
    "}"
   ]
  },
  {
   "cell_type": "markdown",
   "metadata": {},
   "source": [
    "To store both data and observational metadata, we use an [`AnnData` object](https://anndata.readthedocs.io/):"
   ]
  },
  {
   "cell_type": "code",
   "execution_count": null,
   "metadata": {},
   "outputs": [],
   "source": [
    "# note that we didn't add external metadata to adata.uns, because we will use LaminDB to store it\n",
    "adata = ad.AnnData(df, obs=obs_meta)\n",
    "adata"
   ]
  },
  {
   "cell_type": "markdown",
   "metadata": {},
   "source": [
    "Now let's register the AnnData object without annotating with any metadata:"
   ]
  },
  {
   "cell_type": "code",
   "execution_count": null,
   "metadata": {
    "tags": [
     "hide-output"
    ]
   },
   "outputs": [],
   "source": [
    "ln.track()\n",
    "\n",
    "dataset = ln.Dataset(adata, name=\"my RNA-seq\")\n",
    "dataset.save()"
   ]
  },
  {
   "cell_type": "markdown",
   "metadata": {},
   "source": [
    "We don't see any metadata in the registered dataset yet:"
   ]
  },
  {
   "cell_type": "code",
   "execution_count": null,
   "metadata": {},
   "outputs": [],
   "source": [
    "dataset.describe()"
   ]
  },
  {
   "cell_type": "markdown",
   "metadata": {},
   "source": [
    "## Define features and labels\n",
    "\n",
    "Features and labels are records from their respective registries.\n",
    "\n",
    "You can define them schema-less using {class}`~lamindb.Feature` and {class}`~lamindb.ULabel` registries, or schema-full using dedicated registries."
   ]
  },
  {
   "cell_type": "markdown",
   "metadata": {},
   "source": [
    "### Define data features"
   ]
  },
  {
   "cell_type": "markdown",
   "metadata": {},
   "source": [
    "Data features refer to individual measurable properties or characteristics of a phenomenon being observed. In data analysis and machine learning, features are the input variables used to predict or classify an outcome.\n",
    "\n",
    "Data features are often numeric, but can also be categorical. For example, in the case of gene expression data, the features are the expression levels of individual genes. They are often stored as columns in a data table (adata.var_names for `AnnData` objects).\n",
    "\n",
    "Here we define them using the {class}`~lnschema_bionty.Gene` registry:"
   ]
  },
  {
   "cell_type": "code",
   "execution_count": null,
   "metadata": {},
   "outputs": [],
   "source": [
    "data_features = lb.Gene.from_values(adata.var_names)\n",
    "ln.save(data_features)\n",
    "data_features"
   ]
  },
  {
   "cell_type": "markdown",
   "metadata": {},
   "source": [
    "### Define metadata features"
   ]
  },
  {
   "cell_type": "markdown",
   "metadata": {},
   "source": [
    "Metadata features refer to descriptive or contextual information about the data. They don't directly describe the content of the data but rather its characteristics.\n",
    "\n",
    "In this example, the metadata features are \"cell_type\", \"tissue\" that describe observations (stored in `adata.obs.columns`) and \"organism\", \"assay\", \"experiment\" that describe the entire dataset.\n",
    "\n",
    "Here we define them using the {class}`~lamindb.Feature` registry:"
   ]
  },
  {
   "cell_type": "code",
   "execution_count": null,
   "metadata": {},
   "outputs": [],
   "source": [
    "# obs metadata features\n",
    "obs_meta_features = ln.Feature.from_df(adata.obs)\n",
    "ln.save(obs_meta_features)\n",
    "obs_meta_features"
   ]
  },
  {
   "cell_type": "code",
   "execution_count": null,
   "metadata": {},
   "outputs": [],
   "source": [
    "# external metadata features\n",
    "external_meta_features = [\n",
    "    ln.Feature(name=name, type=\"category\") for name in external_meta.keys()\n",
    "]\n",
    "ln.save(external_meta_features)\n",
    "external_meta_features"
   ]
  },
  {
   "cell_type": "markdown",
   "metadata": {},
   "source": [
    "### Define metadata labels"
   ]
  },
  {
   "cell_type": "markdown",
   "metadata": {},
   "source": [
    "Metadata labels are the categorical values of metadata features. They are more specific than features and are often used in classification.\n",
    "\n",
    "In this example, the metadata labels of feature \"cell_type\" are \"T cell\" and \"Monocyte\"; the metadata labels of feature \"tissue\" are \"capillary blood\", \"arterial blood\"; the metadata labels of feature \"organism\" is \"human\"; and so on.\n",
    "\n",
    "Let's define them with their respective registries:"
   ]
  },
  {
   "cell_type": "code",
   "execution_count": null,
   "metadata": {
    "tags": []
   },
   "outputs": [],
   "source": [
    "cell_types = lb.CellType.from_values(adata.obs[\"cell_type\"])\n",
    "ln.save(cell_types)\n",
    "cell_types"
   ]
  },
  {
   "cell_type": "code",
   "execution_count": null,
   "metadata": {},
   "outputs": [],
   "source": [
    "tissues = lb.Tissue.from_values(adata.obs[\"tissue\"])\n",
    "ln.save(tissues)\n",
    "tissues"
   ]
  },
  {
   "cell_type": "code",
   "execution_count": null,
   "metadata": {},
   "outputs": [],
   "source": [
    "organism = lb.Organism.from_bionty(name=external_meta[\"organism\"])\n",
    "organism.save()\n",
    "organism"
   ]
  },
  {
   "cell_type": "code",
   "execution_count": null,
   "metadata": {},
   "outputs": [],
   "source": [
    "assay = lb.ExperimentalFactor.from_bionty(name=external_meta[\"assay\"])\n",
    "assay.save()\n",
    "assay"
   ]
  },
  {
   "cell_type": "code",
   "execution_count": null,
   "metadata": {},
   "outputs": [],
   "source": [
    "experiment = ln.ULabel(name=external_meta[\"experiment\"], description=\"An experiment\")\n",
    "experiment.save()\n",
    "experiment"
   ]
  },
  {
   "cell_type": "code",
   "execution_count": null,
   "metadata": {},
   "outputs": [],
   "source": [
    "project = ln.ULabel(name=external_meta[\"project\"], description=\"A project\")\n",
    "project.save()\n",
    "project"
   ]
  },
  {
   "cell_type": "markdown",
   "metadata": {},
   "source": [
    "## Annotate with features\n",
    "\n",
    "Non-external features are annotated when registering datasets using `.from_df` or `.from_anndata` methods:\n",
    "\n",
    "(See the below \"Annotate with labels stratified by metadata features\" session for adding external features.)"
   ]
  },
  {
   "cell_type": "code",
   "execution_count": null,
   "metadata": {
    "tags": [
     "hide-output"
    ]
   },
   "outputs": [],
   "source": [
    "dataset = ln.Dataset.from_anndata(\n",
    "    adata,\n",
    "    name=\"my RNA-seq\",\n",
    "    field=lb.Gene.symbol,  # the registry field to use for the data features\n",
    ")\n",
    "dataset.save()"
   ]
  },
  {
   "cell_type": "markdown",
   "metadata": {},
   "source": [
    "This dataset is now annotated with features:"
   ]
  },
  {
   "cell_type": "code",
   "execution_count": null,
   "metadata": {},
   "outputs": [],
   "source": [
    "dataset.describe()"
   ]
  },
  {
   "cell_type": "markdown",
   "metadata": {},
   "source": [
    "You see two types of features are annotated and organized as featuresets by slot:\n",
    "- \"var\": data features\n",
    "- \"obs\": observational metadata features"
   ]
  },
  {
   "cell_type": "code",
   "execution_count": null,
   "metadata": {},
   "outputs": [],
   "source": [
    "dataset.features"
   ]
  },
  {
   "cell_type": "markdown",
   "metadata": {},
   "source": [
    "Use slots to retrieve corresponding annotated features:"
   ]
  },
  {
   "cell_type": "code",
   "execution_count": null,
   "metadata": {},
   "outputs": [],
   "source": [
    "dataset.features[\"var\"].df()"
   ]
  },
  {
   "cell_type": "code",
   "execution_count": null,
   "metadata": {},
   "outputs": [],
   "source": [
    "dataset.features[\"obs\"].df()"
   ]
  },
  {
   "cell_type": "markdown",
   "metadata": {},
   "source": [
    "## Annotate with labels\n",
    "\n",
    "If you simply want to tag a dataset with some descriptive labels, you can pass them to `.labels.add`. For example, let's add the experiment label \"EXP0001\" and project label \"PRJ0001\" to the dataset:"
   ]
  },
  {
   "cell_type": "code",
   "execution_count": null,
   "metadata": {},
   "outputs": [],
   "source": [
    "dataset.labels.add(experiment)\n",
    "dataset.labels.add(project)"
   ]
  },
  {
   "cell_type": "markdown",
   "metadata": {},
   "source": [
    "Now you see the dataset is annotated with 'EXP0001', 'PRJ0001' labels:"
   ]
  },
  {
   "cell_type": "code",
   "execution_count": null,
   "metadata": {},
   "outputs": [],
   "source": [
    "dataset.describe()"
   ]
  },
  {
   "cell_type": "markdown",
   "metadata": {},
   "source": [
    "To view all annotated labels:"
   ]
  },
  {
   "cell_type": "code",
   "execution_count": null,
   "metadata": {},
   "outputs": [],
   "source": [
    "dataset.labels"
   ]
  },
  {
   "cell_type": "markdown",
   "metadata": {},
   "source": [
    "Since we didn't specify which features the labels belongs to, they are accessible only through the default accessor \".ulabels\" for {class}`~lamindb.ULabel` Registry.\n",
    "\n",
    "You may already notice that it could be difficult to interpret labels without features if they belong to the same registry."
   ]
  },
  {
   "cell_type": "code",
   "execution_count": null,
   "metadata": {},
   "outputs": [],
   "source": [
    "dataset.ulabels.df()"
   ]
  },
  {
   "cell_type": "markdown",
   "metadata": {},
   "source": [
    "## Annotate with labels stratified by metadata features\n",
    "\n",
    "For labels associated with metadata features, you can pass \"feature\" to `.labels.add` to stratified them by feature. (Another way to stratify labels is through ontological hierarchy, which is covered in the [Quickstart](/introduction))\n",
    "\n",
    "Let's add the experiment label \"EXP0001\" and project label \"PRJ0001\" to the dataset again, this time specifying their features:"
   ]
  },
  {
   "cell_type": "code",
   "execution_count": null,
   "metadata": {
    "tags": [
     "hide-output"
    ]
   },
   "outputs": [],
   "source": [
    "# an auto-complete object of registered features\n",
    "features = ln.Feature.lookup()\n",
    "\n",
    "dataset.labels.add(experiment, feature=features.experiment)\n",
    "dataset.labels.add(project, feature=features.project)"
   ]
  },
  {
   "cell_type": "markdown",
   "metadata": {},
   "source": [
    "You now see a 3rd featureset is added to the dataset at slot \"external\", and the labels are stratified by two features:"
   ]
  },
  {
   "cell_type": "code",
   "execution_count": null,
   "metadata": {},
   "outputs": [],
   "source": [
    "dataset.describe()"
   ]
  },
  {
   "cell_type": "markdown",
   "metadata": {},
   "source": [
    "With feature-stratified labels, you can retrieve labels by feature:"
   ]
  },
  {
   "cell_type": "code",
   "execution_count": null,
   "metadata": {},
   "outputs": [],
   "source": [
    "dataset.labels.get(features.experiment).df()"
   ]
  },
  {
   "cell_type": "markdown",
   "metadata": {},
   "source": [
    "Note that adding feature-stratified labels will also allow you to retrieve labels with the default accessor of respective registries:"
   ]
  },
  {
   "cell_type": "code",
   "execution_count": null,
   "metadata": {
    "tags": [
     "hide-output"
    ]
   },
   "outputs": [],
   "source": [
    "dataset.labels.add(assay, feature=features.assay)"
   ]
  },
  {
   "cell_type": "code",
   "execution_count": null,
   "metadata": {},
   "outputs": [],
   "source": [
    "# access labels directly via default accessor \"experimental_factors\"\n",
    "dataset.experimental_factors.df()"
   ]
  },
  {
   "cell_type": "code",
   "execution_count": null,
   "metadata": {},
   "outputs": [],
   "source": [
    "# access labels via feature\n",
    "dataset.labels.get(features.assay).df()"
   ]
  },
  {
   "cell_type": "markdown",
   "metadata": {},
   "source": [
    "Let's finish the rest annotation of labels:"
   ]
  },
  {
   "cell_type": "code",
   "execution_count": null,
   "metadata": {
    "tags": [
     "hide-output"
    ]
   },
   "outputs": [],
   "source": [
    "# labels of obs metadata features\n",
    "dataset.labels.add(cell_types, feature=features.cell_type)\n",
    "dataset.labels.add(tissues, feature=features.tissue)\n",
    "\n",
    "# labels of external metadata features\n",
    "dataset.labels.add(organism, feature=features.organism)"
   ]
  },
  {
   "cell_type": "markdown",
   "metadata": {},
   "source": [
    "Now you've annotated your dataset with all features and labels:"
   ]
  },
  {
   "cell_type": "code",
   "execution_count": null,
   "metadata": {},
   "outputs": [],
   "source": [
    "dataset.describe()"
   ]
  },
  {
   "cell_type": "code",
   "execution_count": null,
   "metadata": {
    "tags": [
     "hide-cell"
    ]
   },
   "outputs": [],
   "source": [
    "# clean up test instance\n",
    "!lamin delete --force test-registries\n",
    "!rm -r test-registries"
   ]
  }
 ],
 "metadata": {
  "kernelspec": {
   "display_name": "py39",
   "language": "python",
   "name": "python3"
  },
  "language_info": {
   "artifact_extension": ".py",
   "codemirror_mode": {
    "name": "ipython",
    "version": 3
   },
   "mimetype": "text/x-python",
   "name": "python",
   "nbconvert_exporter": "python",
   "pygments_lexer": "ipython3",
   "version": "3.9.16"
  },
  "nbproject": {
   "id": "sU0y1kF3igep",
   "parent": null,
   "pypackage": null,
   "time_init": "2023-11-15T09:08:01.845533+00:00",
   "user_handle": null,
   "user_id": null,
   "user_name": null,
   "version": "0"
  }
 },
 "nbformat": 4,
 "nbformat_minor": 2
}
