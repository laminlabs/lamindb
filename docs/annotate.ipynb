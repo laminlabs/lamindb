{
 "cells": [
  {
   "cell_type": "markdown",
   "id": "1d2cd769",
   "metadata": {},
   "source": [
    "# Validate, standardize & annotate\n",
    "\n",
    "This guide focuses on three crucial aspects of data management:\n",
    "\n",
    "1. Validation: Ensuring your data meets predefined criteria\n",
    "2. Standardization: Conforming data to consistent formats and terminologies\n",
    "3. Annotation: Enriching data with metadata for improved organization and analysis\n",
    "\n",
    "## Key Concepts\n",
    "\n",
    "- **Registries**: In LaminDB, registries are collections of validated metadata. They serve as the \"source of truth\" for your data annotations. For instance, if \"Experiment 1\" has been registered as the `name` of a `ULabel` record, it is a validated value for field `ULabel.name`.\n",
    "\n",
    "- **Artifacts**: These are the data objects that you manage with LaminDB. Artifacts can be annotated with validated metadata from registries.\n",
    "\n",
    "- **Annotation**: The process of attaching metadata to your data objects, enhancing their context and searchability.\n",
    "\n",
    "In this guide, we'll walk you through the following flow for `DataFrame` and `AnnData`: \n",
    "\n",
    "```{toctree}\n",
    ":maxdepth: 1\n",
    ":hidden:\n",
    "\n",
    "annotate-flexible\n",
    "```"
   ]
  },
  {
   "cell_type": "markdown",
   "id": "c47f2b20",
   "metadata": {},
   "source": [
    "Install the `lamindb` Python package:\n",
    "```shell\n",
    "pip install 'lamindb[bionty]'\n",
    "```"
   ]
  },
  {
   "cell_type": "code",
   "execution_count": null,
   "id": "74008c61",
   "metadata": {
    "tags": [
     "hide-output"
    ]
   },
   "outputs": [],
   "source": [
    "!lamin init --storage ./test-annotate --schema bionty"
   ]
  },
  {
   "cell_type": "code",
   "execution_count": null,
   "id": "a691aae0",
   "metadata": {},
   "outputs": [],
   "source": [
    "import lamindb as ln\n",
    "import bionty as bt\n",
    "import pandas as pd\n",
    "import anndata as ad"
   ]
  },
  {
   "cell_type": "markdown",
   "id": "946a3371",
   "metadata": {},
   "source": [
    "## Validate and standardize metadata from a DataFrame"
   ]
  },
  {
   "cell_type": "markdown",
   "id": "52bbbac2",
   "metadata": {},
   "source": [
    "Let's start with a DataFrame that we'd like to validate:"
   ]
  },
  {
   "cell_type": "code",
   "execution_count": null,
   "id": "6e313088",
   "metadata": {},
   "outputs": [],
   "source": [
    "df = pd.DataFrame({\n",
    "    \"temperature\": [37.2, 36.3, 38.2],\n",
    "    \"cell_type\": [\"cerebral pyramidal neuron\", \"astrocyte\", \"oligodendrocyte\"],\n",
    "    \"assay_ontology_id\": [\"EFO:0008913\", \"EFO:0008913\", \"EFO:0008913\"],\n",
    "    \"donor\": [\"D0001\", \"D0002\", \"DOOO3\"],\n",
    "})\n",
    "df"
   ]
  },
  {
   "cell_type": "markdown",
   "id": "c7d74af9",
   "metadata": {},
   "source": [
    "First, let's define the validation criteria:"
   ]
  },
  {
   "cell_type": "code",
   "execution_count": null,
   "id": "cfb3492d",
   "metadata": {},
   "outputs": [],
   "source": [
    "# define validation criteria for categorical variables\n",
    "# each key is a column name, and each value is the registry field to validate against\n",
    "categoricals = {\n",
    "    \"cell_type\": bt.CellType.name,\n",
    "    \"assay_ontology_id\": bt.ExperimentalFactor.ontology_id,\n",
    "    \"donor\": ln.ULabel.name,\n",
    "}\n",
    "\n",
    "# create an Annotate object to guide validation and annotation\n",
    "# this object will use our DataFrame and the defined categorical criteria\n",
    "annotate = ln.Annotate.from_df(df, categoricals=categoricals)"
   ]
  },
  {
   "cell_type": "markdown",
   "id": "804ae191",
   "metadata": {},
   "source": [
    "The `validate()` method checks our data against the defined criteria. It identifies which values are already validated (exist in our registries) and which are new or potentially problematic."
   ]
  },
  {
   "cell_type": "code",
   "execution_count": null,
   "id": "1132efd8",
   "metadata": {},
   "outputs": [],
   "source": [
    "annotate.validate()"
   ]
  },
  {
   "cell_type": "markdown",
   "id": "7c157df6",
   "metadata": {},
   "source": [
    "## Curate and register new metadata labels\n",
    "\n",
    "If you see any \"non-validated\" entries, you'll need to decide whether to add them to your registries or correct them in your data.\n",
    "\n",
    "Our current database instance is empty. Once you populated its registries, saving new labels will only rarely be needed. You'll mostly use your lamindb instance to validate any incoming new data and annotate it."
   ]
  },
  {
   "cell_type": "code",
   "execution_count": null,
   "id": "65bb5e39",
   "metadata": {},
   "outputs": [],
   "source": [
    "# this adds assays that were validated via the public ontology\n",
    "annotate.add_validated_from(\"assay_ontology_id\")"
   ]
  },
  {
   "cell_type": "code",
   "execution_count": null,
   "id": "943e0e7a",
   "metadata": {},
   "outputs": [],
   "source": [
    "# this adds cell types that were validated via the public ontology\n",
    "annotate.add_validated_from(\"cell_type\")"
   ]
  },
  {
   "cell_type": "code",
   "execution_count": null,
   "id": "ea6b82b8",
   "metadata": {},
   "outputs": [],
   "source": [
    "# use a lookup object to get the correct spelling of categories from public reference\n",
    "# pass \"public\" to use the public reference\n",
    "lookup = annotate.lookup(\"public\")\n",
    "lookup"
   ]
  },
  {
   "cell_type": "code",
   "execution_count": null,
   "id": "4c98914a",
   "metadata": {},
   "outputs": [],
   "source": [
    "cell_types = lookup[df.cell_type.name]\n",
    "cell_types.cerebral_cortex_pyramidal_neuron"
   ]
  },
  {
   "cell_type": "code",
   "execution_count": null,
   "id": "b06c7875",
   "metadata": {},
   "outputs": [],
   "source": [
    "# curate the cell type\n",
    "df.cell_type = df.cell_type.replace({\"cerebral pyramidal neuron\": cell_types.cerebral_cortex_pyramidal_neuron.name})\n",
    "# register validated cell types\n",
    "annotate.add_validated_from(df.cell_type.name)"
   ]
  },
  {
   "cell_type": "code",
   "execution_count": null,
   "id": "13cec5d4",
   "metadata": {},
   "outputs": [],
   "source": [
    "# register non-validated donors\n",
    "annotate.add_new_from(df.donor.name)"
   ]
  },
  {
   "cell_type": "code",
   "execution_count": null,
   "id": "1a90599b",
   "metadata": {},
   "outputs": [],
   "source": [
    "# validate again\n",
    "validated = annotate.validate()\n",
    "validated"
   ]
  },
  {
   "cell_type": "markdown",
   "id": "b9d09a10",
   "metadata": {},
   "source": [
    "## Validate an AnnData object\n",
    "\n",
    "Here we addtionally specify which `var_fields` to validate against."
   ]
  },
  {
   "cell_type": "code",
   "execution_count": null,
   "id": "15d7b858",
   "metadata": {},
   "outputs": [],
   "source": [
    "df.index = [\"obs1\", \"obs2\", \"obs3\"]\n",
    "\n",
    "X = pd.DataFrame({\"TCF7\": [1, 2, 3], \"PDCD1\": [4, 5, 6], \"CD3E\": [7, 8, 9], \"CD4\": [10, 11, 12], \"CD8A\": [13, 14, 15]}, index=[\"obs1\", \"obs2\", \"obs3\"])\n",
    "\n",
    "adata = ad.AnnData(X=X, obs=df)\n",
    "adata"
   ]
  },
  {
   "cell_type": "code",
   "execution_count": null,
   "id": "19e7b8ca",
   "metadata": {},
   "outputs": [],
   "source": [
    "annotate = ln.Annotate.from_anndata(\n",
    "    adata, \n",
    "    var_index=bt.Gene.symbol,\n",
    "    categoricals=categoricals, \n",
    "    organism=\"human\",\n",
    ")"
   ]
  },
  {
   "cell_type": "code",
   "execution_count": null,
   "id": "e8d8cee5",
   "metadata": {},
   "outputs": [],
   "source": [
    "annotate.validate()"
   ]
  },
  {
   "cell_type": "code",
   "execution_count": null,
   "id": "7877c058",
   "metadata": {},
   "outputs": [],
   "source": [
    "annotate.add_validated_from(\"all\")"
   ]
  },
  {
   "cell_type": "code",
   "execution_count": null,
   "id": "0e139bda",
   "metadata": {},
   "outputs": [],
   "source": [
    "annotate.validate()"
   ]
  },
  {
   "cell_type": "markdown",
   "id": "38a30170",
   "metadata": {},
   "source": [
    "## Save an annotated artifact"
   ]
  },
  {
   "cell_type": "markdown",
   "id": "a814ef37",
   "metadata": {},
   "source": [
    "The validated object can be subsequently saved as an {class}`~lamindb.Artifact`:"
   ]
  },
  {
   "cell_type": "code",
   "execution_count": null,
   "id": "f12ec345",
   "metadata": {},
   "outputs": [],
   "source": [
    "artifact = annotate.save_artifact(description=\"test AnnData\")"
   ]
  },
  {
   "cell_type": "markdown",
   "id": "0fa20942",
   "metadata": {},
   "source": [
    "Validated features and labels are linked to the artifact:"
   ]
  },
  {
   "cell_type": "code",
   "execution_count": null,
   "id": "5e901343",
   "metadata": {},
   "outputs": [],
   "source": [
    "artifact.describe()"
   ]
  },
  {
   "cell_type": "markdown",
   "id": "c00b51c4",
   "metadata": {},
   "source": [
    "We've walked through the process of validating, standardizing, and annotating data using LaminDB. Key steps include:\n",
    "\n",
    "1. Defining validation criteria\n",
    "2. Validating data against existing registries\n",
    "3. Adding new validated entries to registries\n",
    "4. Annotating data objects (Artifacts) with validated metadata\n",
    "\n",
    "By following these steps, you can ensure your data is clean, standardized, and well-annotated, setting a strong foundation for further analysis and collaboration.\n",
    "\n",
    "If you have datasets with other formats, please check out [Validate, standardize & annotate data of flexible formats](./annotate-flexible)."
   ]
  }
 ],
 "metadata": {
  "kernelspec": {
   "display_name": "Python 3 (ipykernel)",
   "language": "python",
   "name": "python3"
  },
  "language_info": {
   "codemirror_mode": {
    "name": "ipython",
    "version": 3
   },
   "file_extension": ".py",
   "mimetype": "text/x-python",
   "name": "python",
   "nbconvert_exporter": "python",
   "pygments_lexer": "ipython3",
   "version": "3.1.-1"
  },
  "nbproject": {
   "id": "WOK3vP0bNGLx",
   "parent": null,
   "pypackage": null,
   "time_init": "2023-12-20T04:27:49.536493+00:00",
   "user_handle": null,
   "user_id": null,
   "user_name": null,
   "version": "0"
  }
 },
 "nbformat": 4,
 "nbformat_minor": 5
}
