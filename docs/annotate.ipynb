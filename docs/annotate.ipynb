{
 "cells": [
  {
   "cell_type": "markdown",
   "id": "1d2cd769",
   "metadata": {},
   "source": [
    "# Validate, standardize & annotate\n",
    "\n",
    "We'll walk you through the following flow: \n",
    "1. define validation criteria\n",
    "2. validate & standardize metadata\n",
    "3. save validated & annotated artifacts\n",
    "\n",
    ":::{dropdown} How do we validate metadata?\n",
    "\n",
    "Registries in your database define the \"truth\" for metadata.\n",
    "\n",
    "For instance, if \"Experiment 1\" has been registered as the `name` of a `ULabel` record, it is a validated value for field `ULabel.name`.\n",
    "\n",
    ":::\n",
    "\n",
    "```{toctree}\n",
    ":maxdepth: 1\n",
    ":hidden:\n",
    "\n",
    "can-validate\n",
    "annotate-for-developers\n",
    "```"
   ]
  },
  {
   "cell_type": "code",
   "execution_count": null,
   "id": "74008c61",
   "metadata": {
    "tags": [
     "hide-output"
    ]
   },
   "outputs": [],
   "source": [
    "!lamin init --storage ./test-annotate --schema bionty"
   ]
  },
  {
   "cell_type": "code",
   "execution_count": null,
   "id": "a691aae0",
   "metadata": {},
   "outputs": [],
   "source": [
    "import lamindb as ln\n",
    "import bionty as bt\n",
    "import pandas as pd\n",
    "import anndata as ad\n",
    "\n",
    "ln.settings.verbosity = \"hint\""
   ]
  },
  {
   "cell_type": "markdown",
   "id": "52bbbac2",
   "metadata": {},
   "source": [
    "Let's start with a DataFrame that we'd like to validate:"
   ]
  },
  {
   "cell_type": "code",
   "execution_count": null,
   "id": "6e313088",
   "metadata": {},
   "outputs": [],
   "source": [
    "df = pd.DataFrame({\n",
    "    \"temperature\": [37.2, 36.3, 38.2],\n",
    "    \"cell_type\": [\"cerebral pyramidal neuron\", \"astrocyte\", \"oligodendrocyte\"],\n",
    "    \"assay_ontology_id\": [\"EFO:0008913\", \"EFO:0008913\", \"EFO:0008913\"],\n",
    "    \"donor\": [\"D0001\", \"D0002\", \"DOOO3\"],\n",
    "})\n",
    "df"
   ]
  },
  {
   "cell_type": "markdown",
   "id": "946a3371",
   "metadata": {},
   "source": [
    "## Validate and standardize metadata"
   ]
  },
  {
   "cell_type": "code",
   "execution_count": null,
   "id": "cfb3492d",
   "metadata": {},
   "outputs": [],
   "source": [
    "# define validation criteria for the categoricals\n",
    "categoricals = {\n",
    "    \"cell_type\": bt.CellType.name,\n",
    "    \"assay_ontology_id\": bt.ExperimentalFactor.ontology_id,\n",
    "    \"donor\": ln.ULabel.name,\n",
    "}\n",
    "# create an object to guide validation and annotation\n",
    "annotate = ln.Annotate.from_df(df, categoricals=categoricals)\n",
    "# validate\n",
    "validated = annotate.validate()\n",
    "validated"
   ]
  },
  {
   "cell_type": "markdown",
   "id": "df078eb3",
   "metadata": {},
   "source": [
    "## Validate using registries in another instance\n",
    "\n",
    "Sometimes you want to validate against other existing registries, for instance [cellxgene](https://lamin.ai/laminlabs/cellxgene).\n",
    "\n",
    "This allows us to directly transfer values that are currently missing in our registries from the [cellxgene instance](https://lamin.ai/laminlabs/cellxgene)."
   ]
  },
  {
   "cell_type": "code",
   "execution_count": null,
   "id": "a230b1e9",
   "metadata": {},
   "outputs": [],
   "source": [
    "annotate = ln.Annotate.from_df(\n",
    "    df, \n",
    "    categoricals=categoricals,\n",
    "    using=\"laminlabs/cellxgene\",  # pass the instance slug\n",
    ")\n",
    "annotate.validate()"
   ]
  },
  {
   "cell_type": "markdown",
   "id": "7c157df6",
   "metadata": {},
   "source": [
    "## Register new metadata labels\n",
    "\n",
    "Our current database instance is empty. Once you populated its registries, saving new labels will only rarely be needed. You'll mostly use your lamindb instance to validate any incoming new data and annotate it."
   ]
  },
  {
   "cell_type": "code",
   "execution_count": null,
   "id": "943e0e7a",
   "metadata": {},
   "outputs": [],
   "source": [
    "annotate.add_validated_from(df.cell_type.name)"
   ]
  },
  {
   "cell_type": "code",
   "execution_count": null,
   "id": "ea6b82b8",
   "metadata": {},
   "outputs": [],
   "source": [
    "# use a lookup object to get the correct spelling of categories from public reference\n",
    "# pass \"public\" to use the public reference\n",
    "lookup = annotate.lookup()\n",
    "lookup"
   ]
  },
  {
   "cell_type": "code",
   "execution_count": null,
   "id": "4c98914a",
   "metadata": {},
   "outputs": [],
   "source": [
    "cell_types = lookup[df.cell_type.name]"
   ]
  },
  {
   "cell_type": "code",
   "execution_count": null,
   "id": "c49dc7eb",
   "metadata": {},
   "outputs": [],
   "source": [
    "cell_types.cerebral_cortex_pyramidal_neuron"
   ]
  },
  {
   "cell_type": "code",
   "execution_count": null,
   "id": "b06c7875",
   "metadata": {},
   "outputs": [],
   "source": [
    "# fix the typo\n",
    "df.cell_type = df.cell_type.replace({\"cerebral pyramidal neuron\": cell_types.cerebral_cortex_pyramidal_neuron.name})\n",
    "\n",
    "annotate.add_validated_from(df.cell_type.name)"
   ]
  },
  {
   "cell_type": "code",
   "execution_count": null,
   "id": "13cec5d4",
   "metadata": {},
   "outputs": [],
   "source": [
    "# register non-validated terms\n",
    "annotate.add_new_from(df.donor.name)"
   ]
  },
  {
   "cell_type": "code",
   "execution_count": null,
   "id": "1a90599b",
   "metadata": {},
   "outputs": [],
   "source": [
    "# validate again\n",
    "validated = annotate.validate()\n",
    "validated"
   ]
  },
  {
   "cell_type": "markdown",
   "id": "b9d09a10",
   "metadata": {},
   "source": [
    "## Validate an AnnData object\n",
    "\n",
    "Here we specify which `var_fields` and `obs_fields` to validate against."
   ]
  },
  {
   "cell_type": "code",
   "execution_count": null,
   "id": "15d7b858",
   "metadata": {},
   "outputs": [],
   "source": [
    "df.index = [\"obs1\", \"obs2\", \"obs3\"]\n",
    "\n",
    "X = pd.DataFrame({\"TCF7\": [1, 2, 3], \"PDCD1\": [4, 5, 6], \"CD3E\": [7, 8, 9], \"CD4\": [10, 11, 12], \"CD8A\": [13, 14, 15]}, index=[\"obs1\", \"obs2\", \"obs3\"])\n",
    "\n",
    "adata = ad.AnnData(X=X, obs=df)\n",
    "adata"
   ]
  },
  {
   "cell_type": "code",
   "execution_count": null,
   "id": "19e7b8ca",
   "metadata": {},
   "outputs": [],
   "source": [
    "annotate = ln.Annotate.from_anndata(\n",
    "    adata, \n",
    "    var_index=bt.Gene.symbol,\n",
    "    categoricals=categoricals, \n",
    "    organism=\"human\",\n",
    ")"
   ]
  },
  {
   "cell_type": "code",
   "execution_count": null,
   "id": "e8d8cee5",
   "metadata": {},
   "outputs": [],
   "source": [
    "annotate.validate()"
   ]
  },
  {
   "cell_type": "code",
   "execution_count": null,
   "id": "7877c058",
   "metadata": {},
   "outputs": [],
   "source": [
    "annotate.add_validated_from(\"all\")"
   ]
  },
  {
   "cell_type": "code",
   "execution_count": null,
   "id": "0e139bda",
   "metadata": {},
   "outputs": [],
   "source": [
    "annotate.validate()"
   ]
  },
  {
   "cell_type": "markdown",
   "id": "38a30170",
   "metadata": {},
   "source": [
    "## Save an artifact"
   ]
  },
  {
   "cell_type": "markdown",
   "id": "a814ef37",
   "metadata": {},
   "source": [
    "The validated object can be subsequently saved as an {class}`~lamindb.Artifact`:"
   ]
  },
  {
   "cell_type": "code",
   "execution_count": null,
   "id": "f12ec345",
   "metadata": {},
   "outputs": [],
   "source": [
    "artifact = annotate.save_artifact(description=\"test AnnData\")"
   ]
  },
  {
   "cell_type": "code",
   "execution_count": null,
   "id": "5e901343",
   "metadata": {},
   "outputs": [],
   "source": [
    "artifact.describe()"
   ]
  },
  {
   "cell_type": "markdown",
   "id": "1aa82222",
   "metadata": {},
   "source": [
    "## Save a collection"
   ]
  },
  {
   "cell_type": "markdown",
   "id": "3cf67f90",
   "metadata": {},
   "source": [
    "Register a new collection for the registered artifact:"
   ]
  },
  {
   "cell_type": "code",
   "execution_count": null,
   "id": "8940e83c",
   "metadata": {},
   "outputs": [],
   "source": [
    "# register a new collection\n",
    "collection = annotate.save_collection(\n",
    "    artifact,  # registered artifact above, can also pass a list of artifacts\n",
    "    name=\"Experiment X in brain\",  # title of the publication\n",
    "    description=\"10.1126/science.xxxxx\",  # DOI of the publication\n",
    "    reference=\"E-MTAB-xxxxx\", # accession number (e.g. GSE#, E-MTAB#, etc.)\n",
    "    reference_type=\"ArrayExpress\" # source type (e.g. GEO, ArrayExpress, SRA, etc.)\n",
    ")"
   ]
  },
  {
   "cell_type": "code",
   "execution_count": null,
   "id": "867e52b8",
   "metadata": {},
   "outputs": [],
   "source": [
    "collection.artifacts.df()"
   ]
  }
 ],
 "metadata": {
  "kernelspec": {
   "display_name": "Python 3 (ipykernel)",
   "language": "python",
   "name": "python3"
  },
  "language_info": {
   "codemirror_mode": {
    "name": "ipython",
    "version": 3
   },
   "file_extension": ".py",
   "mimetype": "text/x-python",
   "name": "python",
   "nbconvert_exporter": "python",
   "pygments_lexer": "ipython3",
   "version": "3.10.13"
  },
  "nbproject": {
   "id": "WOK3vP0bNGLx",
   "parent": null,
   "pypackage": null,
   "time_init": "2023-12-20T04:27:49.536493+00:00",
   "user_handle": null,
   "user_id": null,
   "user_name": null,
   "version": "0"
  }
 },
 "nbformat": 4,
 "nbformat_minor": 5
}
