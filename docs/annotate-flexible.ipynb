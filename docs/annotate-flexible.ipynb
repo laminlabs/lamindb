{
 "cells": [
  {
   "cell_type": "markdown",
   "metadata": {},
   "source": [
    "# Validate, standardize & annotate data of flexible formats"
   ]
  },
  {
   "cell_type": "markdown",
   "metadata": {},
   "source": [
    "Our [previous guide](./annotate) explained how to validate, standardize & annotate `DataFrame` and `AnnData`. In this guide, we'll dive into how to use the basic APIs that let you work with any format of data."
   ]
  },
  {
   "cell_type": "markdown",
   "metadata": {},
   "source": [
    ":::{dropdown} How do I validate based on a public ontology?\n",
    "\n",
    "LaminDB makes it easy to validate categorical variables based on registries ({class}`~lamindb.core.CanValidate`).\n",
    "\n",
    "{class}`~lamindb.core.CanValidate` methods validate against the registries in your LaminDB instance.\n",
    "In {doc}`./bio-registries`, you'll see how to extend standard validation to validation against _public references_ using a `ReferenceTable` ontology object: `public = Record.public()`.\n",
    "By default, {meth}`~lamindb.core.Record.from_values` considers a match in a public reference a validated value for any {mod}`bionty` entity.\n",
    "\n",
    ":::\n",
    "\n",
    ":::{dropdown} What to do for non-validated values?\n",
    "\n",
    "Be aware when you are working with a _freshly initialized instance_: nothing is validated as no records have yet been registered.\n",
    "Run `inspect` to get instructions of how to register non-validated values. You may need to standardize your values, fix typos or simply register them.\n",
    "\n",
    ":::"
   ]
  },
  {
   "cell_type": "markdown",
   "metadata": {},
   "source": [
    "## Setup\n",
    "\n",
    "Install the `lamindb` Python package:\n",
    "```shell\n",
    "pip install 'lamindb[bionty]'\n",
    "```"
   ]
  },
  {
   "cell_type": "code",
   "execution_count": null,
   "metadata": {
    "tags": [
     "hide-output"
    ]
   },
   "outputs": [],
   "source": [
    "!lamin init --storage ./test-annotate-flexible --schema bionty"
   ]
  },
  {
   "cell_type": "code",
   "execution_count": null,
   "metadata": {},
   "outputs": [],
   "source": [
    "import lamindb as ln\n",
    "import bionty as bt\n",
    "\n",
    "ln.settings.verbosity = \"info\""
   ]
  },
  {
   "cell_type": "code",
   "execution_count": null,
   "metadata": {},
   "outputs": [],
   "source": [
    "import zarr\n",
    "import numpy as np\n",
    "\n",
    "data = zarr.create((10,), dtype=[('value', 'f8'), (\"gene\", \"U15\"), ('disease', 'U16')], store='data.zarr')\n",
    "data[\"gene\"] = [\"ENSG00000139618\", \"ENSG00000141510\", \"ENSG00000133703\", \"ENSG00000157764\", \"ENSG00000171862\", \"ENSG00000091831\", \"ENSG00000141736\", \"ENSG00000133056\", \"ENSG00000146648\", \"ENSG00000118523\"]\n",
    "data[\"disease\"] = np.random.choice(['MONDO:0004975', 'MONDO:0004980'], 10)"
   ]
  },
  {
   "cell_type": "markdown",
   "metadata": {},
   "source": [
    "## Define validation criteria\n",
    "\n",
    "Any entity that doesn't have its dedicated registry (\"is not typed\") can be validated & registered using {class}`~lamindb.ULabel`:"
   ]
  },
  {
   "cell_type": "code",
   "execution_count": null,
   "metadata": {},
   "outputs": [],
   "source": [
    "criteria = {\n",
    "    \"disease\": bt.Disease.ontology_id,\n",
    "    \"project\": ln.ULabel.name,\n",
    "    \"gene\": bt.Gene.ensembl_gene_id,\n",
    "}"
   ]
  },
  {
   "cell_type": "markdown",
   "metadata": {},
   "source": [
    "## Validate and standardize metadata"
   ]
  },
  {
   "cell_type": "markdown",
   "metadata": {},
   "source": [
    "{meth}`~lamindb.core.CanValidate.validate` validates passed values against reference values in a registry.\n",
    "It returns a boolean vector indicating whether a value has an exact match in the reference values."
   ]
  },
  {
   "cell_type": "code",
   "execution_count": null,
   "metadata": {},
   "outputs": [],
   "source": [
    "bt.Disease.validate(data[\"disease\"], field=bt.Disease.ontology_id)"
   ]
  },
  {
   "cell_type": "markdown",
   "metadata": {},
   "source": [
    "When validation fails, you can call {meth}`~lamindb.core.CanValidate.inspect` to figure out what to do.\n",
    "\n",
    "{meth}`~lamindb.core.CanValidate.inspect` applies the same definition of validation as {meth}`~lamindb.core.CanValidate.validate`, but returns a rich return value {class}`~lamindb.core.InspectResult`. Most importantly, it logs recommended curation steps that would render the data validated.\n",
    "\n",
    "Note: you can use {meth}`~lamindb.core.CanValidate.standardize` to standardize synonyms."
   ]
  },
  {
   "cell_type": "code",
   "execution_count": null,
   "metadata": {},
   "outputs": [],
   "source": [
    "bt.Disease.inspect(data[\"disease\"], field=bt.Disease.ontology_id);"
   ]
  },
  {
   "cell_type": "markdown",
   "metadata": {},
   "source": [
    "Following the suggestions to register new labels:\n",
    "\n",
    "Bulk creating records using {meth}`~lamindb.core.Registry.from_values` only returns validated records:\n",
    "\n",
    "Note: Terms validated with public reference are also created with `.from_values`, see {doc}`/bio-registries` for details."
   ]
  },
  {
   "cell_type": "code",
   "execution_count": null,
   "metadata": {
    "tags": [
     "hide-output"
    ]
   },
   "outputs": [],
   "source": [
    "diseases = bt.Disease.from_values(data[\"disease\"], field=bt.Disease.ontology_id)\n",
    "ln.save(diseases)"
   ]
  },
  {
   "cell_type": "markdown",
   "metadata": {},
   "source": [
    "Repeat the process for another labels:"
   ]
  },
  {
   "cell_type": "code",
   "execution_count": null,
   "metadata": {},
   "outputs": [],
   "source": [
    "projects = ln.ULabel.from_values(\n",
    "    [\"Project A\", \"Project B\"], \n",
    "    field=ln.ULabel.name, \n",
    "    create=True, # create non-existing labels\n",
    ")\n",
    "ln.save(projects)"
   ]
  },
  {
   "cell_type": "code",
   "execution_count": null,
   "metadata": {
    "tags": [
     "hide-output"
    ]
   },
   "outputs": [],
   "source": [
    "genes = bt.Gene.from_values(data[\"gene\"], field=bt.Gene.ensembl_gene_id)\n",
    "ln.save(genes)"
   ]
  },
  {
   "cell_type": "markdown",
   "metadata": {},
   "source": [
    "## Annotate and register dataset with validated metadata"
   ]
  },
  {
   "cell_type": "markdown",
   "metadata": {},
   "source": [
    "Register the dataset as an artifact:"
   ]
  },
  {
   "cell_type": "code",
   "execution_count": null,
   "metadata": {
    "tags": [
     "hide-output"
    ]
   },
   "outputs": [],
   "source": [
    "artifact = ln.Artifact(\"data.zarr\", description=\"a zarr object\").save()"
   ]
  },
  {
   "cell_type": "markdown",
   "metadata": {},
   "source": [
    "Link the artifact to validated labels through features:"
   ]
  },
  {
   "cell_type": "code",
   "execution_count": null,
   "metadata": {},
   "outputs": [],
   "source": [
    "from lamindb.core.exceptions import ValidationError\n",
    "\n",
    "try:\n",
    "    artifact.features.add_values({\"project\": projects, \"disease\": diseases})\n",
    "except ValidationError as e:\n",
    "    print(e)"
   ]
  },
  {
   "cell_type": "markdown",
   "metadata": {},
   "source": [
    "Follow the suggestion to register new features:"
   ]
  },
  {
   "cell_type": "code",
   "execution_count": null,
   "metadata": {},
   "outputs": [],
   "source": [
    "ln.Feature(name='project', dtype='cat[ULabel]').save()\n",
    "ln.Feature(name='disease', dtype='cat[bionty.Disease]').save();"
   ]
  },
  {
   "cell_type": "code",
   "execution_count": null,
   "metadata": {},
   "outputs": [],
   "source": [
    "artifact.features.add_values({\"project\": projects, \"disease\": diseases})"
   ]
  },
  {
   "cell_type": "code",
   "execution_count": null,
   "metadata": {},
   "outputs": [],
   "source": [
    "artifact.features"
   ]
  },
  {
   "cell_type": "markdown",
   "metadata": {},
   "source": [
    "Since genes are the measurements, we register them as features:"
   ]
  },
  {
   "cell_type": "code",
   "execution_count": null,
   "metadata": {},
   "outputs": [],
   "source": [
    "feature_set = ln.FeatureSet(genes)\n",
    "feature_set.save()"
   ]
  },
  {
   "cell_type": "code",
   "execution_count": null,
   "metadata": {},
   "outputs": [],
   "source": [
    "artifact.features.add_feature_set(feature_set, slot=\"gene\")"
   ]
  },
  {
   "cell_type": "code",
   "execution_count": null,
   "metadata": {},
   "outputs": [],
   "source": [
    "artifact.describe()"
   ]
  },
  {
   "cell_type": "code",
   "execution_count": null,
   "metadata": {
    "tags": [
     "hide-cell"
    ]
   },
   "outputs": [],
   "source": [
    "# clean up test instance\n",
    "!lamin delete --force test-annotate-flexible\n",
    "!rm -r test-annotate-flexible\n",
    "!rm -r data.zarr"
   ]
  }
 ],
 "metadata": {
  "kernelspec": {
   "display_name": "py39",
   "language": "python",
   "name": "python3"
  },
  "language_info": {
   "codemirror_mode": {
    "name": "ipython",
    "version": 3
   },
   "file_extension": ".py",
   "mimetype": "text/x-python",
   "name": "python",
   "nbconvert_exporter": "python",
   "pygments_lexer": "ipython3",
   "version": "3.10.13"
  }
 },
 "nbformat": 4,
 "nbformat_minor": 2
}
