{
 "cells": [
  {
   "cell_type": "markdown",
   "metadata": {},
   "source": [
    "```{include} ../README.md\n",
    ":start-line: 0\n",
    ":end-line: 4\n",
    "```"
   ]
  },
  {
   "cell_type": "markdown",
   "metadata": {},
   "source": [
    "# Guide\n",
    "\n",
    "```{include} ../README.md\n",
    ":start-line: 6\n",
    ":end-line: -4\n",
    "```\n",
    "\n",
    "**LaminApp** is a data collaboration hub built on LaminDB:\n",
    "\n",
    "- Submit and explore data, analyses & data flow.\n",
    "- Leverage a mesh of DB instances.\n",
    "\n",
    "**Bionty** is a plug-in to model basic biological entities: \n",
    "\n",
    "- Access & extend 18 public ontologies.\n",
    "- For instance, {class}`~lnschema_bionty.Gene`, {class}`~lnschema_bionty.Protein`, {class}`~lnschema_bionty.CellMarker`, {class}`~lnschema_bionty.ExperimentalFactor`, {class}`~lnschema_bionty.CellType`, {class}`~lnschema_bionty.CellLine`, ...\n",
    "\n",
    "\n",
    "```{dropdown} What does LaminApp look like?\n",
    "\n",
    "<img src=\"https://lamin-site-assets.s3.amazonaws.com/.lamindb/mgiwiUGN6HXZww7NOv9H.png\" width=\"700px\">\n",
    "\n",
    "If logged in, you can explore a public demo LaminDB instance [lamin.ai/laminlabs/lamindata](https://lamin.ai/laminlabs/lamindata).\n",
    "\n",
    "```\n",
    "\n",
    "```{dropdown} Where & how are data stored? Can I use LaminDB for existing data? \n",
    "\n",
    "You can register existing data in LaminDB: {doc}`tutorial`.\n",
    "\n",
    "Metadata is stored in standard SQL. Current backends are SQLite (small teams) and Postgres (any team size).\n",
    "\n",
    "Data is stored in a platform-independent way: \n",
    "\n",
    "- location → local, on AWS S3 or GCP Storage, accessed through fsspec\n",
    "- format → blob-like files or queryable formats like Parquet, zarr, HDF5, TileDB & DuckDB\n",
    "\n",
    "(We anticipate data storage in BigQuery & Snowflake, but do not yet have a definite timeline.)\n",
    "\n",
    "```\n",
    "\n",
    "```{dropdown} What is open-source & what isn't?\n",
    "\n",
    "LaminDB and its dependencies are open-source (Apache 2.0).\n",
    "\n",
    "LaminApp is closed-source and free for public data.\n",
    "\n",
    "Bionty is open-source (Apache 2.0).\n",
    "\n",
    "Enterprise features for LaminApp, support, integration tests & wetlab plug-ins hosted in your or our infrastructure are available on a paid plan: please [reach out](https://lamin.ai/contact)!\n",
    "\n",
    "```\n",
    "\n",
    "```{dropdown} How does it work?\n",
    "\n",
    "LaminDB builds semantics of R&D and biology into established infrastructure: read [more](#how-does-it-work).\n",
    "\n",
    "```\n",
    "\n",
    "## Quickstart\n",
    "\n",
    "```{warning}\n",
    "\n",
    "Public beta: Close to having converged a stable API, but some breaking changes might still occur.\n",
    "\n",
    "```\n",
    "\n",
    "Run `pip install 'lamindb[jupyter,bionty]'` and `lamin signup <email>` on the terminal (more [info](https://lamin.ai/docs/setup)).\n",
    "\n",
    "Init a LaminDB instance with {mod}`lnschema_bionty` plug-in like you'd init a git repository:"
   ]
  },
  {
   "cell_type": "code",
   "execution_count": null,
   "metadata": {
    "tags": [
     "hide-output"
    ]
   },
   "outputs": [],
   "source": [
    "!lamin init --schema bionty --storage ./mydata  # or s3://my-bucket, gs://my-bucket as default storage"
   ]
  },
  {
   "cell_type": "markdown",
   "metadata": {},
   "source": [
    "Register a dataset while tracking data flow:"
   ]
  },
  {
   "cell_type": "code",
   "execution_count": null,
   "metadata": {
    "tags": [
     "hide-output"
    ]
   },
   "outputs": [],
   "source": [
    "import lamindb as ln\n",
    "import pandas as pd\n",
    "\n",
    "# track data flow of current notebook\n",
    "ln.track()\n",
    "\n",
    "# access a new batch of data\n",
    "df = pd.DataFrame(\n",
    "    {\"CD8\": [1, 2, 3], \"CD45\": [3, 4, 5], \"perturbation\": [\"DMSO\", \"IFNG\", \"DMSO\"]}\n",
    ")\n",
    "\n",
    "# create a dataset\n",
    "dataset = ln.Dataset(df, name=\"Immune phenotyping 1\")\n",
    "dataset.save()  # register dataset"
   ]
  },
  {
   "cell_type": "markdown",
   "metadata": {},
   "source": [
    "Access the dataset:"
   ]
  },
  {
   "cell_type": "code",
   "execution_count": null,
   "metadata": {
    "tags": [
     "hide-output"
    ]
   },
   "outputs": [],
   "source": [
    "# search a dataset\n",
    "ln.Dataset.search(\"immune\")\n",
    "\n",
    "# query a dataset\n",
    "dataset = ln.Dataset.filter(name__contains=\"phenotyping 1\").one()\n",
    "\n",
    "# view generating data flow\n",
    "dataset.view_flow()\n",
    "\n",
    "# describe metadata\n",
    "dataset.describe()\n",
    "\n",
    "# load the dataset\n",
    "df = dataset.load()"
   ]
  },
  {
   "cell_type": "markdown",
   "metadata": {},
   "source": [
    "Validate a `DataFrame` schema-less:"
   ]
  },
  {
   "cell_type": "code",
   "execution_count": null,
   "metadata": {
    "tags": [
     "hide-output"
    ]
   },
   "outputs": [],
   "source": [
    "# define validation criteria\n",
    "names_types = [(\"CD8\", \"number\"), (\"CD45\", \"number\"), (\"perturbation\", \"category\")]\n",
    "\n",
    "# create features to save validation criteria\n",
    "features = [ln.Feature(name=name, type=type) for (name, type) in names_types]\n",
    "ln.save(features)  # save features\n",
    "\n",
    "# create dataset & validate features\n",
    "dataset = ln.Dataset.from_df(df, name=\"Immune phenotyping 1\")\n",
    "dataset.save()  # register dataset & link validated features\n",
    "\n",
    "# confirm that validated features are linked\n",
    "dataset.features"
   ]
  },
  {
   "cell_type": "markdown",
   "metadata": {},
   "source": [
    "Use the {mod}`lnschema_bionty` plug-in to type biological entities and validate schema-full:"
   ]
  },
  {
   "cell_type": "code",
   "execution_count": null,
   "metadata": {
    "tags": [
     "hide-output"
    ]
   },
   "outputs": [],
   "source": [
    "import lnschema_bionty as lb\n",
    "\n",
    "# set a default species for ontology lookups\n",
    "lb.settings.species = \"human\"\n",
    "\n",
    "# create cell marker records from the public ontology\n",
    "cell_markers = [lb.CellMarker.from_bionty(name=name) for name in [\"CD8\", \"CD45\"]]\n",
    "ln.save(cell_markers)\n",
    "\n",
    "# create dataset & validate features\n",
    "dataset = ln.Dataset.from_df(\n",
    "    df.iloc[:, :2], name=\"Immune phenotyping 2\", field=lb.CellMarker.name\n",
    ")\n",
    "dataset.save()  # register dataset & link validated features\n",
    "\n",
    "dataset.features"
   ]
  },
  {
   "cell_type": "markdown",
   "metadata": {},
   "source": [
    "Query for a panel of cell markers & the linked datasets:"
   ]
  },
  {
   "cell_type": "code",
   "execution_count": null,
   "metadata": {
    "tags": [
     "hide-output"
    ]
   },
   "outputs": [],
   "source": [
    "# an object to auto-complete cell markers\n",
    "cell_markers = lb.CellMarker.lookup()\n",
    "\n",
    "# all cell marker panel containing CD45\n",
    "panels_with_cd45 = ln.FeatureSet.filter(cell_markers=cell_markers.cd45).all()\n",
    "\n",
    "# all datasets measuring CD45\n",
    "ln.Dataset.filter(feature_sets__in=panels_with_cd45).df()"
   ]
  },
  {
   "cell_type": "markdown",
   "metadata": {},
   "source": [
    "Use the Experimental Factor Ontology to link a validated label for the readout:"
   ]
  },
  {
   "cell_type": "code",
   "execution_count": null,
   "metadata": {
    "tags": [
     "hide-output"
    ]
   },
   "outputs": [],
   "source": [
    "# search the public ontology from the bionty store\n",
    "lb.ExperimentalFactor.bionty().search(\"facs\").head()\n",
    "\n",
    "# create a record for facs\n",
    "facs = lb.ExperimentalFactor.from_bionty(ontology_id=\"EFO:0009108\")\n",
    "facs.save()\n",
    "\n",
    "# label with an inhouse assay\n",
    "my_assay = lb.ExperimentalFactor(name=\"My immune phenotyping assay\")\n",
    "my_assay.save()\n",
    "\n",
    "dataset.experimental_factors.add(facs, my_assay)\n",
    "\n",
    "dataset.describe()"
   ]
  },
  {
   "cell_type": "markdown",
   "metadata": {},
   "source": [
    "## Overview\n",
    "\n",
    "### Track data flow\n",
    "\n",
    "Understand the generating data flow of a given file or dataset (from [here](docs:project-flow)):\n",
    "\n",
    "```python\n",
    "file.view_flow()\n",
    "```\n",
    "\n",
    "<img src=\"https://raw.githubusercontent.com/laminlabs/lamindb/main/docs/img/readme/view_lineage.svg\" width=\"800\">\n",
    "\n",
    "### Manage biological registries\n",
    "\n",
    "Create a cell type registry from public knowledge and add a new cell state (from [here](bio-registries)):"
   ]
  },
  {
   "cell_type": "code",
   "execution_count": null,
   "metadata": {
    "tags": [
     "hide-output"
    ]
   },
   "outputs": [],
   "source": [
    "import lnschema_bionty as lb\n",
    "\n",
    "# create an ontology-coupled cell type record and save it\n",
    "lb.CellType.from_bionty(name=\"neuron\").save()\n",
    "\n",
    "# create a record to track a new cell state\n",
    "new_cell_state = lb.CellType(name=\"my neuron cell state\", description=\"explains X\")\n",
    "new_cell_state.save()\n",
    "\n",
    "# express that it's a neuron state\n",
    "cell_types = lb.CellType.lookup()\n",
    "new_cell_state.parents.add(cell_types.neuron)"
   ]
  },
  {
   "cell_type": "code",
   "execution_count": null,
   "metadata": {},
   "outputs": [],
   "source": [
    "# view ontological hierarchy\n",
    "new_cell_state.view_parents(distance=2)"
   ]
  },
  {
   "cell_type": "markdown",
   "metadata": {},
   "source": [
    "### Access, validate & register\n",
    "\n",
    "See graphic & quickstart above!\n",
    "\n",
    "Browse, e.g., {doc}`docs:scrna`.\n",
    "\n",
    "### Leverage a mesh of instances\n",
    "\n",
    "LaminDB is a distributed system like git.\n",
    "\n",
    "For instance, collaborators can load your instance using:\n",
    "\n",
    "```shell\n",
    "$ lamin load myhandle/myinstance\n",
    "```\n",
    "\n",
    "### Manage custom schemas\n",
    "\n",
    "LaminDB can be customized & extended with schema/app plug-ins. Examples are\n",
    "\n",
    "- [lnschema_bionty](lnschema_bionty): Registries for basic biological entities, coupled to public ontologies.\n",
    "- [lnschema_lamin1](https://github.com/laminlabs/lnschema-lamin1): Exemplary custom schema to manage samples, treatments, etc. \n",
    "\n",
    "If you'd like to create your own schema:\n",
    "\n",
    "1. Create a git repository with registries similar to [lnschema_lamin1](https://github.com/laminlabs/lnschema-lamin1)\n",
    "2. Create & deploy migrations via `lamin migrate create` and `lamin migrate deploy`\n",
    "\n",
    "It's fastest if we do this for you based on our templates within an enterprise plan.\n",
    "\n",
    "## How does it work?\n",
    "\n",
    "LaminDB builds semantics of R&D and biology into well-established infrastructure.\n",
    "\n",
    "It provides a SQL-schema specification for common entities: `File`, `Dataset`, `Transform`, `Feature`, `Label`, `Gene`, `Protein`, etc. - see the [API reference](reference) or the [source code](https://github.com/laminlabs/lnschema-core/blob/main/lnschema_core/models.py).\n",
    "\n",
    "```{dropdown} What is the schema language?\n",
    "\n",
    "Data models are defined in Python using the Django ORM. Django translates it to SQL.\n",
    "\n",
    "[Django](https://github.com/django/django) is one of the most-used & highly-starred projects on GitHub (~1M dependents, ~73k stars) and has been robustly maintained for 15 years.\n",
    "\n",
    "```\n",
    "\n",
    "On top of the schema, LaminDB is a Python API that abstracts over storage & database access, data transformations, and (biological) ontologies.\n",
    "\n",
    "The code for this is open-source & accessible through the dependencies & repositories listed below.\n",
    " \n",
    "### Dependencies\n",
    "\n",
    "A selected number of well-established, high-quality open-source packages:\n",
    "\n",
    "- Data is stored in a platform-independent way: \n",
    "    - location → local, on AWS S3 or GCP Storage, accessed through `fsspec`\n",
    "    - format → blob-like files or queryable formats like Parquet, zarr, HDF5, TileDB & DuckDB\n",
    "- Metadata is stored in standard SQL. Current backends are SQLite (small teams) and Postgres (any team size).\n",
    "- Django ORM for schema management & metadata queries (until v0.41: SQLModel & SQLAlchemy).\n",
    "- Biological knowledge sources & ontologies: see [Bionty](https://lamin.ai/docs/bionty).\n",
    "\n",
    "For more details, see the [pyproject.toml](https://github.com/laminlabs/lamindb/blob/main/pyproject.toml) file in lamindb & the linked repositories below.\n",
    "\n",
    "### Repositories\n",
    "\n",
    "LaminDB and its plug-ins consist in open-source Python libraries & publicly hosted metadata assets:\n",
    "\n",
    "- [lamindb](https://github.com/laminlabs/lamindb): Core API, which builds on the [core schema](https://github.com/laminlabs/lnschema-core).\n",
    "- [lnschema-bionty](https://github.com/laminlabs/lnschema-bionty): Registries for basic biological entities, coupled to public ontologies.\n",
    "- [lnschema-lamin1](https://github.com/laminlabs/lnschema-lamin1): Exemplary custom schema to manage samples, treatments, etc.\n",
    "- [lamindb-setup](https://github.com/laminlabs/lamindb-setup): Setup & configure LaminDB, client for Lamin Hub.\n",
    "- [bionty](https://github.com/laminlabs/bionty): Accessor for public biological ontologies.\n",
    "- [nbproject](https://github.com/laminlabs/nbproject): Metadata parser for Jupyter notebooks.\n",
    "- [lamin-utils](https://github.com/laminlabs/lamin-utils): Generic utilities, e.g., a logger.\n",
    "- [readfcs](https://github.com/laminlabs/readfcs): FCS file reader.\n",
    "<!-- [bionty-assets](https://github.com/laminlabs/bionty-assets): Hosted assets of parsed public biological ontologies. -->\n",
    "\n",
    "LaminHub & LaminApp are not open-sourced, and neither are plug-ins that model lab operations.\n",
    "\n",
    "### Influences\n",
    "\n",
    "LaminDB was influenced by many other projects, see {doc}`docs:influences`.\n",
    "\n",
    "## Notebooks\n",
    "\n",
    "- Find all guide notebooks [here](https://github.com/laminlabs/lamindb/tree/main/docs/guide).\n",
    "- You can run these notebooks in hosted versions of JupyterLab, e.g., [Saturn Cloud](https://github.com/laminlabs/run-lamin-on-saturn), Google Vertex AI, Google Colab, and others.\n",
    "- Jupyter Lab & Notebook offer a fully interactive experience, VS Code & others require using the CLI to track notebooks: `lamin track my-notebook.ipynb`\n",
    "\n",
    "```{toctree}\n",
    ":hidden:\n",
    ":caption: Tutorial\n",
    "\n",
    "tutorial\n",
    "tutorial1\n",
    "```\n",
    "\n",
    "```{toctree}\n",
    ":hidden:\n",
    ":caption: \"How to\"\n",
    "\n",
    "query-search\n",
    "validate\n",
    "bio-registries\n",
    "schemas\n",
    "setup\n",
    "```\n",
    "\n",
    "```{toctree}\n",
    ":hidden:\n",
    ":caption: Other topics\n",
    "\n",
    "faq\n",
    "storage\n",
    "```"
   ]
  },
  {
   "cell_type": "code",
   "execution_count": null,
   "metadata": {
    "tags": [
     "hide-cell"
    ]
   },
   "outputs": [],
   "source": [
    "!lamin delete --force mydata"
   ]
  }
 ],
 "metadata": {
  "kernelspec": {
   "display_name": "py39",
   "language": "python",
   "name": "python3"
  },
  "language_info": {
   "codemirror_mode": {
    "name": "ipython",
    "version": 3
   },
   "file_extension": ".py",
   "mimetype": "text/x-python",
   "name": "python",
   "nbconvert_exporter": "python",
   "pygments_lexer": "ipython3",
   "version": "3.9.16"
  },
  "nbproject": {
   "id": "FPnfDtJz8qbE",
   "parent": null,
   "pypackage": null,
   "time_init": "2023-08-29T19:04:20.821821+00:00",
   "user_handle": "falexwolf",
   "user_id": "FBa7SHjn",
   "user_name": "Alex Wolf",
   "version": "0"
  }
 },
 "nbformat": 4,
 "nbformat_minor": 2
}
