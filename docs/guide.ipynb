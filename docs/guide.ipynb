{
 "cells": [
  {
   "cell_type": "markdown",
   "metadata": {},
   "source": [
    "```{include} ../README.md\n",
    ":start-line: 0\n",
    ":end-line: 3\n",
    "```"
   ]
  },
  {
   "cell_type": "markdown",
   "metadata": {},
   "source": [
    "# Guide\n",
    "\n",
    "```{include} ../README.md\n",
    ":start-line: 6\n",
    ":end-line: -4\n",
    "```\n",
    "\n",
    "If you want a UI: LaminApp is built on LaminDB. If LaminDB ~ git, LaminApp ~ GitHub.\n",
    "\n",
    "```{dropdown} What does the UI look like?\n",
    "\n",
    "![](https://lamin-site-assets.s3.amazonaws.com/.lamindb/mgiwiUGN6HXZww7NOv9H.png)\n",
    "\n",
    "If logged in, you can browse the public demo instance [lamin.ai/laminlabs/lamindata](https://lamin.ai/laminlabs/lamindata).\n",
    "\n",
    "Enterprise features for LaminApp, support, integration tests & schemas hosted in your or our infrastructure are available on a paid plan: please [reach out](https://lamin.ai/contact)!\n",
    "\n",
    "```\n",
    "\n",
    "## Quickstart\n",
    "\n",
    "Run `pip install 'lamindb[jupyter,bionty]'` and `lamin signup <email>` on the terminal (more [info](https://lamin.ai/docs/setup)).\n",
    "\n",
    "Init a LaminDB instance like you'd init a git repository:"
   ]
  },
  {
   "cell_type": "code",
   "execution_count": null,
   "metadata": {
    "tags": [
     "hide-output"
    ]
   },
   "outputs": [],
   "source": [
    "!lamin init --schema bionty --storage ./mydata # or s3://my-bucket, gs://my-bucket"
   ]
  },
  {
   "cell_type": "markdown",
   "metadata": {},
   "source": [
    "Validate & register a `DataFrame` with features:"
   ]
  },
  {
   "cell_type": "code",
   "execution_count": null,
   "metadata": {
    "tags": [
     "hide-output"
    ]
   },
   "outputs": [],
   "source": [
    "import lamindb as ln\n",
    "import pandas as pd\n",
    "\n",
    "# define validation criteria: new features\n",
    "names_types = [(\"CD8\", int), (\"CD45\", int)]\n",
    "# register new features\n",
    "features = [ln.Feature(name=name, type=type) for (name, type) in names_types]\n",
    "ln.save(features)\n",
    "\n",
    "# track data flow of current notebook\n",
    "ln.track()\n",
    "\n",
    "# access a new batch of data\n",
    "df = pd.DataFrame({\"CD8\": [1, 2, 3], \"CD45\": [3, 4, 5]})\n",
    "\n",
    "# validate features & create a Dataset record\n",
    "dataset = ln.Dataset.from_df(df, name=\"Immune phenotyping 1\")\n",
    "# register dataset & link to validated features\n",
    "dataset.save()\n",
    "\n",
    "# linked features\n",
    "dataset.features"
   ]
  },
  {
   "cell_type": "markdown",
   "metadata": {},
   "source": [
    "Search, query, and load a dataset:"
   ]
  },
  {
   "cell_type": "code",
   "execution_count": null,
   "metadata": {
    "tags": []
   },
   "outputs": [],
   "source": [
    "# run a search\n",
    "ln.Dataset.search(\"immune\")\n",
    "\n",
    "# run a query\n",
    "dataset = ln.Dataset.filter(name__contains=\"phenotyping 1\").one()\n",
    "\n",
    "# view data flow that generated the dataset\n",
    "dataset.view_flow()\n",
    "\n",
    "# load the dataset\n",
    "df = dataset.load()"
   ]
  },
  {
   "cell_type": "markdown",
   "metadata": {},
   "source": [
    "Use the `bionty` plug-in to type biological entities:"
   ]
  },
  {
   "cell_type": "code",
   "execution_count": null,
   "metadata": {
    "tags": [
     "hide-output"
    ]
   },
   "outputs": [],
   "source": [
    "import lnschema_bionty as lb\n",
    "\n",
    "lb.settings.species = \"human\"\n",
    "\n",
    "# populate the Cell Marker registry using a public ontology\n",
    "cell_markers = lb.CellMarker.from_values([\"CD8\", \"CD45\"], field=\"name\")\n",
    "ln.save(cell_markers)\n",
    "\n",
    "# validate features against cell markers & create a Dataset record\n",
    "dataset = ln.Dataset.from_df(df, name=\"Immune phenotyping 1\", field=lb.CellMarker.name)\n",
    "# register dataset & link to validated features\n",
    "dataset.save()\n",
    "\n",
    "dataset.features"
   ]
  },
  {
   "cell_type": "markdown",
   "metadata": {},
   "source": [
    "Query for a panel of cell markers & the linked datasets:"
   ]
  },
  {
   "cell_type": "code",
   "execution_count": null,
   "metadata": {
    "tags": [
     "hide-output"
    ]
   },
   "outputs": [],
   "source": [
    "# registered cell markers with auto-complete\n",
    "cell_markers = lb.CellMarker.lookup()\n",
    "# a cell marker panel containing CD45\n",
    "feature_set = ln.FeatureSet.filter(cell_markers=cell_markers.cd45).first()\n",
    "# all datasets measure cell markers in this panel\n",
    "ln.Dataset.filter(feature_sets=feature_set).df()"
   ]
  },
  {
   "cell_type": "markdown",
   "metadata": {},
   "source": [
    "## Overview\n",
    "\n",
    "### Track & query data flow\n",
    "\n",
    "View the flow of a given file or dataset (from [here](docs:project-flow)):\n",
    "\n",
    "```python\n",
    "file.view_flow()\n",
    "```\n",
    "\n",
    "<img src=\"https://raw.githubusercontent.com/laminlabs/lamindb/main/docs/img/readme/view_lineage.svg\" width=\"800\">\n",
    "\n",
    "### Manage biological registries\n",
    "\n",
    "Create a cell type registry from public knowledge and add a new cell state (from [here](bio-registries)):"
   ]
  },
  {
   "cell_type": "code",
   "execution_count": null,
   "metadata": {
    "tags": [
     "hide-output"
    ]
   },
   "outputs": [],
   "source": [
    "import lnschema_bionty as lb\n",
    "\n",
    "# create an ontology-coupled cell type record and save it\n",
    "lb.CellType.from_bionty(name=\"neuron\").save()\n",
    "\n",
    "# create a record to track a new cell state\n",
    "new_cell_state = lb.CellType(name=\"my neuron cell state\", description=\"explains X\")\n",
    "new_cell_state.save()\n",
    "\n",
    "# express that it's a neuron state\n",
    "cell_types = lb.CellType.lookup()\n",
    "new_cell_state.parents.add(cell_types.neuron)"
   ]
  },
  {
   "cell_type": "code",
   "execution_count": null,
   "metadata": {},
   "outputs": [],
   "source": [
    "# view ontological hierarchy\n",
    "new_cell_state.view_parents(distance=2)"
   ]
  },
  {
   "cell_type": "markdown",
   "metadata": {},
   "source": [
    "### Validate & query data & metadata\n",
    "\n",
    "Query for rich, validated meta-data. Get an overview using `file.describe()` (from [here](docs:scrna)):\n",
    "\n",
    "```\n",
    "💡 File(id='qrjrjSL5cIOVK4zSUINn', suffix='.h5ad', accessor='AnnData', description='Conde22', size=28049505, hash='WEFcMZxJNmMiUOFrcSTaig', hash_type='md5', created_at=2023-08-28 21:34:02, updated_at=2023-08-28 21:34:02)\n",
    "\n",
    "Provenance:\n",
    "    🗃️ storage: Storage(id='U89WhwzI', root='/home/runner/work/lamin-usecases/lamin-usecases/docs/test-scrna', type='local', updated_at=2023-08-28 21:33:26, created_by_id='DzTjkKse')\n",
    "    💫 transform: Transform(id='Nv48yAceNSh8z8', name='Validate & register scRNA-seq datasets', short_name='scrna', version='0', type=notebook, updated_at=2023-08-28 21:33:57, created_by_id='DzTjkKse')\n",
    "    👣 run: Run(id='jxoUKhAoN73coXjQZLcG', run_at=2023-08-28 21:33:28, transform_id='Nv48yAceNSh8z8', created_by_id='DzTjkKse')\n",
    "    👤 created_by: User(id='DzTjkKse', handle='testuser1', email='testuser1@lamin.ai', name='Test User1', updated_at=2023-08-28 21:33:26)\n",
    "Features:\n",
    "  var (X):\n",
    "    🔗 index (36503, bionty.Gene.id): ['yqq0AoR40Zds', 'Fhp0Xl5AlfIA', '7Z6yFaHjoiCK', 'LfFNaOvjysQC', '8PGr70IVfonQ'...]\n",
    "  external:\n",
    "    🔗 species (1, bionty.Species): ['human']\n",
    "  obs (metadata):\n",
    "    🔗 cell_type (32, bionty.CellType): ['lymphocyte', 'plasmacytoid dendritic cell', 'regulatory T cell', 'macrophage', 'classical monocyte']\n",
    "    🔗 assay (4, bionty.ExperimentalFactor): [\"10x 3' v3\", \"10x 5' v2\", \"10x 5' v1\", 'single-cell RNA sequencing']\n",
    "    🔗 tissue (17, bionty.Tissue): ['ileum', 'sigmoid colon', 'transverse colon', 'jejunal epithelium', 'bone marrow']\n",
    "    🔗 donor (12, core.Label): ['582C', 'A52', '640C', 'A36', 'D503']\n",
    "```\n",
    "\n",
    "### Collaborate across a mesh of instances\n",
    "\n",
    "If provided with access, others can enjoy validated & queryable data by loading your instance via:\n",
    "\n",
    "```shell\n",
    "$ lamin load myhandle/myinstance\n",
    "```\n",
    "\n",
    "### Manage custom schemas\n",
    "\n",
    "1. Create a GitHub repository with registries similar to [github.com/laminlabs/lnschema-lamin1](https://github.com/laminlabs/lnschema-lamin1)\n",
    "2. Create & deploy migrations via `lamin migrate create` and `lamin migrate deploy`\n",
    "\n",
    "It's fastest if we do this for you based on our templates within an enterprise plan.\n",
    "\n",
    "## How does it work?\n",
    "\n",
    "### Dependencies\n",
    "\n",
    "LaminDB builds semantics of R&D and biology onto well-established tools:\n",
    "\n",
    "- SQLite & Postgres for SQL databases using the Django ORM (previously: SQLModel)\n",
    "- S3, GCP & local storage for object storage using fsspec\n",
    "- Configurable storage formats: pyarrow, anndata, zarr, etc.\n",
    "- Biological knowledge sources & ontologies: see [Bionty](https://lamin.ai/docs/bionty)\n",
    "\n",
    "LaminDB is open source.\n",
    "\n",
    "### Architecture\n",
    "\n",
    "LaminDB consists of the `lamindb` Python package (repository [here](https://github.com/laminlabs/lamindb)) with its components:\n",
    "\n",
    "- [bionty](https://github.com/laminlabs/bionty): Basic biological entities (usable standalone).\n",
    "- [lamindb-setup](https://github.com/laminlabs/lamindb-setup): Setup & configure LaminDB, client for Lamin Hub.\n",
    "- [lnschema-core](https://github.com/laminlabs/lnschema-core): Core schema, ORMs to model data objects & data flow.\n",
    "- [lnschema-bionty](https://github.com/laminlabs/lnschema-bionty): Bionty schema, ORMs that are coupled to Bionty's entities.\n",
    "- [lnschema-lamin1](https://github.com/laminlabs/lnschema-lamin1): Exemplary configured schema to track samples, treatments, etc.\n",
    "- [nbproject](https://github.com/laminlabs/nbproject): Parse metadata from Jupyter notebooks.\n",
    "- [lamin-utils](https://github.com/laminlabs/lamin-utils): Utilities for LaminDB and Bionty.\n",
    "- [readfcs](https://github.com/laminlabs/readfcs): FCS file reader.\n",
    "\n",
    "LaminHub & LaminApp are not open-sourced, and neither are templates that model lab operations.\n",
    "\n",
    "## Notebooks\n",
    "\n",
    "- Find all guide notebooks [here](https://github.com/laminlabs/lamindb/tree/main/docs/guide).\n",
    "- You can run these notebooks in hosted versions of JupyterLab, e.g., [Saturn Cloud](https://github.com/laminlabs/run-lamin-on-saturn), Google Vertex AI, Google Colab, and others.\n",
    "- Jupyter Lab & Notebook offer a fully interactive experience, VS Code & others require using the CLI to track notebooks: `lamin track my-notebook.ipynb`\n",
    "\n",
    "```{toctree}\n",
    ":hidden:\n",
    ":caption: Tutorial\n",
    "\n",
    "tutorial\n",
    "tutorial1\n",
    "```\n",
    "\n",
    "```{toctree}\n",
    ":hidden:\n",
    ":caption: \"How to\"\n",
    "\n",
    "query-search\n",
    "validate\n",
    "bio-registries\n",
    "schemas\n",
    "setup\n",
    "```\n",
    "\n",
    "```{toctree}\n",
    ":hidden:\n",
    ":caption: Other topics\n",
    "\n",
    "faq\n",
    "storage\n",
    "```"
   ]
  },
  {
   "cell_type": "code",
   "execution_count": null,
   "metadata": {
    "tags": [
     "hide-cell"
    ]
   },
   "outputs": [],
   "source": [
    "!lamin delete --force mydata"
   ]
  }
 ],
 "metadata": {
  "kernelspec": {
   "display_name": "py39",
   "language": "python",
   "name": "python3"
  },
  "language_info": {
   "codemirror_mode": {
    "name": "ipython",
    "version": 3
   },
   "file_extension": ".py",
   "mimetype": "text/x-python",
   "name": "python",
   "nbconvert_exporter": "python",
   "pygments_lexer": "ipython3",
   "version": "3.9.16"
  },
  "nbproject": {
   "id": "FPnfDtJz8qbE",
   "parent": null,
   "pypackage": null,
   "time_init": "2023-08-29T19:04:20.821821+00:00",
   "user_handle": "falexwolf",
   "user_id": "FBa7SHjn",
   "user_name": "Alex Wolf",
   "version": "0"
  }
 },
 "nbformat": 4,
 "nbformat_minor": 2
}
