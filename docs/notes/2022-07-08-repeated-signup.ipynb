{
 "cells": [
  {
   "cell_type": "markdown",
   "id": "6ce8ef27-86c1-49cd-85e1-68f7bbc1fe24",
   "metadata": {},
   "source": [
    "# Repeated sign-up"
   ]
  },
  {
   "cell_type": "code",
   "execution_count": null,
   "id": "3526f188-daaa-430d-b3f7-c9e983b12792",
   "metadata": {},
   "outputs": [],
   "source": [
    "from lamindb._setup._hub import connect_hub"
   ]
  },
  {
   "cell_type": "code",
   "execution_count": null,
   "id": "b738f5db-b857-4a06-bfb1-db58de5ab1fe",
   "metadata": {},
   "outputs": [],
   "source": [
    "connect_hub(\"raspbear@gmx.de\")"
   ]
  }
 ],
 "metadata": {
  "kernelspec": {
   "display_name": "Python 3 (ipykernel)",
   "language": "python",
   "name": "python3"
  },
  "language_info": {
   "codemirror_mode": {
    "name": "ipython",
    "version": 3
   },
   "file_extension": ".py",
   "mimetype": "text/x-python",
   "name": "python",
   "nbconvert_exporter": "python",
   "pygments_lexer": "ipython3",
   "version": "3.9.12"
  }
 },
 "nbformat": 4,
 "nbformat_minor": 5
}
