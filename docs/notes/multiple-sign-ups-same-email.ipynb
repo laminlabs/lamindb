{
 "cells": [
  {
   "cell_type": "markdown",
   "id": "9bd46ad3-82b9-4995-851e-5aee806b537b",
   "metadata": {},
   "source": [
    "# Tracking repeated sign-ups when user email isn't yet confirmed"
   ]
  },
  {
   "cell_type": "code",
   "execution_count": 1,
   "id": "f1c1223a-e71d-43fa-bba5-40f5710657a3",
   "metadata": {},
   "outputs": [],
   "source": [
    "from nbproject import header"
   ]
  },
  {
   "cell_type": "markdown",
   "id": "525f802b-6852-477d-b6ed-d5108b310c70",
   "metadata": {},
   "source": [
    "Note: I made the following calls to track supabase and gotrue:\n",
    "```\n",
    "import nbproject\n",
    "nbproject.meta.store.dependency[\"supabase\"] = None\n",
    "nbproject.meta.store.dependency[\"gotrue\"] = None\n",
    "nbproject.meta.store.dependency\n",
    "nbproject.meta.write()\n",
    "```"
   ]
  },
  {
   "cell_type": "code",
   "execution_count": 2,
   "id": "85c1974d-d27c-431d-b1bd-9136c2f9aa52",
   "metadata": {},
   "outputs": [],
   "source": [
    "from lamindb.refactoring.Auth import Auth\n",
    "from lamindb.refactoring.utils import id\n",
    "from lamindb.refactoring.Context import context"
   ]
  },
  {
   "cell_type": "code",
   "execution_count": 3,
   "id": "2f60d5a2-a5c9-4e6d-a653-a6d5828e86dc",
   "metadata": {},
   "outputs": [],
   "source": [
    "user_email = \"fred.enard.wk@gmail.com\"\n",
    "\n",
    "supabase_client_url = \"https://qntuvxhregqtypdorhaw.supabase.co\"\n",
    "supabase_client_anon_key = (\n",
    "    \"eyJhbGciOiJIUzI1NiIsInR5cCI6IkpXVCJ9\"\n",
    "    \".eyJpc3MiOiJzdXBhYmFzZSIsInJlZiI6InFudHV2eGhyZWdxdHlwZG9yaGF3Iiw\"\n",
    "    \"icm9sZSI6ImFub24iLCJpYXQiOjE2NTcyMjMxODksImV4cCI6MTk3Mjc5OTE4OX0\"\n",
    "    \".hzrRK-xbhFSqFb1-cVu6NFM-UcPON4HBdaH2qe3vKbA\"\n",
    ")\n",
    "auth = Auth(supabase_client_url, supabase_client_anon_key)"
   ]
  },
  {
   "cell_type": "markdown",
   "id": "e0b1d993-d9fb-4143-90de-6b245a6fa57a",
   "metadata": {},
   "source": [
    "## First time"
   ]
  },
  {
   "cell_type": "markdown",
   "id": "d2e25a27-dfce-4ea6-a0b4-efed56fba11b",
   "metadata": {},
   "source": [
    "First time sign-up:"
   ]
  },
  {
   "cell_type": "code",
   "execution_count": 4,
   "id": "1c557dcf-2e04-4100-b051-22b35bc99b36",
   "metadata": {},
   "outputs": [],
   "source": [
    "secret1 = id.id_secret()"
   ]
  },
  {
   "cell_type": "code",
   "execution_count": 5,
   "id": "58718266-46b2-4c7c-a1db-bf8012ba5f2e",
   "metadata": {},
   "outputs": [],
   "source": [
    "user = auth.sign_up(email=user_email, secret=secret1)"
   ]
  },
  {
   "cell_type": "code",
   "execution_count": 6,
   "id": "fce55226-2684-4830-93e8-815a12815952",
   "metadata": {},
   "outputs": [
    {
     "data": {
      "text/plain": [
       "User(app_metadata={'provider': 'email', 'providers': ['email']}, aud='authenticated', created_at=datetime.datetime(2022, 7, 19, 11, 10, 53, 976394, tzinfo=datetime.timezone.utc), id=UUID('5f1f152c-ac59-4afb-8584-dc7919f20d00'), user_metadata={}, identities=[Identity(id=UUID('5f1f152c-ac59-4afb-8584-dc7919f20d00'), user_id=UUID('5f1f152c-ac59-4afb-8584-dc7919f20d00'), provider='email', created_at=datetime.datetime(2022, 7, 19, 11, 10, 53, 979050, tzinfo=datetime.timezone.utc), updated_at=datetime.datetime(2022, 7, 19, 11, 10, 53, 979055, tzinfo=datetime.timezone.utc), identity_data={'sub': '5f1f152c-ac59-4afb-8584-dc7919f20d00'}, last_sign_in_at=datetime.datetime(2022, 7, 19, 11, 10, 53, 979006, tzinfo=datetime.timezone.utc))], confirmation_sent_at=datetime.datetime(2022, 7, 19, 11, 10, 53, 981553, tzinfo=datetime.timezone.utc), action_link=None, last_sign_in_at=None, phone='', phone_confirmed_at=None, recovery_sent_at=None, role='authenticated', updated_at=datetime.datetime(2022, 7, 19, 11, 10, 55, 379348, tzinfo=datetime.timezone.utc), email_confirmed_at=None, confirmed_at=None, invited_at=None, email='fred.enard.wk@gmail.com', new_email=None, email_change_sent_at=None, new_phone=None, phone_change_sent_at=None)"
      ]
     },
     "execution_count": 6,
     "metadata": {},
     "output_type": "execute_result"
    }
   ],
   "source": [
    "user"
   ]
  },
  {
   "cell_type": "code",
   "execution_count": 7,
   "id": "e16f58b0-9a00-4fea-9d99-0aea9537a613",
   "metadata": {},
   "outputs": [
    {
     "data": {
      "text/plain": [
       "datetime.datetime(2022, 7, 19, 11, 10, 53, 979006, tzinfo=datetime.timezone.utc)"
      ]
     },
     "execution_count": 7,
     "metadata": {},
     "output_type": "execute_result"
    }
   ],
   "source": [
    "user.identities[0].last_sign_in_at"
   ]
  },
  {
   "cell_type": "code",
   "execution_count": 8,
   "id": "8bb5da43-a085-4ad3-9a4d-883571d1b71f",
   "metadata": {},
   "outputs": [
    {
     "data": {
      "text/plain": [
       "datetime.datetime(2022, 7, 19, 11, 10, 53, 981553, tzinfo=datetime.timezone.utc)"
      ]
     },
     "execution_count": 8,
     "metadata": {},
     "output_type": "execute_result"
    }
   ],
   "source": [
    "user.confirmation_sent_at"
   ]
  },
  {
   "cell_type": "code",
   "execution_count": 9,
   "id": "c82b599a-114c-4a7d-894c-207bcbabccdb",
   "metadata": {},
   "outputs": [],
   "source": [
    "diff = user.confirmation_sent_at - user.identities[0].last_sign_in_at"
   ]
  },
  {
   "cell_type": "code",
   "execution_count": 10,
   "id": "24ed330f-96b0-4b40-a47e-4b488f0942b7",
   "metadata": {},
   "outputs": [
    {
     "data": {
      "text/plain": [
       "datetime.timedelta(microseconds=2547)"
      ]
     },
     "execution_count": 10,
     "metadata": {},
     "output_type": "execute_result"
    }
   ],
   "source": [
    "diff"
   ]
  },
  {
   "cell_type": "code",
   "execution_count": 11,
   "id": "a2ae3ffc-f8f2-436f-a518-6a0221a20320",
   "metadata": {},
   "outputs": [
    {
     "data": {
      "text/plain": [
       "0.002547"
      ]
     },
     "execution_count": 11,
     "metadata": {},
     "output_type": "execute_result"
    }
   ],
   "source": [
    "diff.total_seconds()"
   ]
  },
  {
   "cell_type": "markdown",
   "id": "fb2e39e5-0b9c-4b48-bfad-8cdb834bced3",
   "metadata": {},
   "source": [
    "## Second time"
   ]
  },
  {
   "cell_type": "markdown",
   "id": "7ead8257-a92b-4851-a8a0-1321a3b4195a",
   "metadata": {},
   "source": [
    "User that has not yet confirmed their email:"
   ]
  },
  {
   "cell_type": "code",
   "execution_count": 12,
   "id": "e12364a8-dae8-4c0d-b4c3-35a60d91e15d",
   "metadata": {},
   "outputs": [],
   "source": [
    "secret2 = id.id_secret()"
   ]
  },
  {
   "cell_type": "code",
   "execution_count": 16,
   "id": "a7741d8b-53c3-4825-8b79-32852144c62f",
   "metadata": {},
   "outputs": [],
   "source": [
    "user = auth.sign_up(email=user_email, secret=secret2)"
   ]
  },
  {
   "cell_type": "code",
   "execution_count": 17,
   "id": "d9290e5a-a291-4328-a7ba-2a207a58034b",
   "metadata": {},
   "outputs": [
    {
     "data": {
      "text/plain": [
       "User(app_metadata={'provider': 'email', 'providers': ['email']}, aud='authenticated', created_at=datetime.datetime(2022, 7, 19, 11, 10, 53, 976394, tzinfo=datetime.timezone.utc), id=UUID('5f1f152c-ac59-4afb-8584-dc7919f20d00'), user_metadata={}, identities=[Identity(id=UUID('5f1f152c-ac59-4afb-8584-dc7919f20d00'), user_id=UUID('5f1f152c-ac59-4afb-8584-dc7919f20d00'), provider='email', created_at=datetime.datetime(2022, 7, 19, 11, 10, 53, 979050, tzinfo=datetime.timezone.utc), updated_at=datetime.datetime(2022, 7, 19, 11, 10, 53, 979055, tzinfo=datetime.timezone.utc), identity_data={'sub': '5f1f152c-ac59-4afb-8584-dc7919f20d00'}, last_sign_in_at=datetime.datetime(2022, 7, 19, 11, 10, 53, 979006, tzinfo=datetime.timezone.utc))], confirmation_sent_at=datetime.datetime(2022, 7, 19, 11, 11, 59, 924372, tzinfo=datetime.timezone.utc), action_link=None, last_sign_in_at=None, phone='', phone_confirmed_at=None, recovery_sent_at=None, role='authenticated', updated_at=datetime.datetime(2022, 7, 19, 11, 12, 1, 335209, tzinfo=datetime.timezone.utc), email_confirmed_at=None, confirmed_at=None, invited_at=None, email='fred.enard.wk@gmail.com', new_email=None, email_change_sent_at=None, new_phone=None, phone_change_sent_at=None)"
      ]
     },
     "execution_count": 17,
     "metadata": {},
     "output_type": "execute_result"
    }
   ],
   "source": [
    "user"
   ]
  },
  {
   "cell_type": "code",
   "execution_count": 18,
   "id": "2237a7d3-6fa2-4b1d-95f4-b7026df5adc0",
   "metadata": {},
   "outputs": [
    {
     "data": {
      "text/plain": [
       "datetime.datetime(2022, 7, 19, 11, 10, 53, 979006, tzinfo=datetime.timezone.utc)"
      ]
     },
     "execution_count": 18,
     "metadata": {},
     "output_type": "execute_result"
    }
   ],
   "source": [
    "user.identities[0].last_sign_in_at"
   ]
  },
  {
   "cell_type": "code",
   "execution_count": 19,
   "id": "59addb40-2101-4f7c-830a-2d06f6bbad4d",
   "metadata": {},
   "outputs": [
    {
     "data": {
      "text/plain": [
       "datetime.datetime(2022, 7, 19, 11, 11, 59, 924372, tzinfo=datetime.timezone.utc)"
      ]
     },
     "execution_count": 19,
     "metadata": {},
     "output_type": "execute_result"
    }
   ],
   "source": [
    "user.confirmation_sent_at"
   ]
  },
  {
   "cell_type": "code",
   "execution_count": 20,
   "id": "85a3cda2-86e6-4876-991a-3adf70700c9b",
   "metadata": {},
   "outputs": [],
   "source": [
    "diff = user.confirmation_sent_at - user.identities[0].last_sign_in_at"
   ]
  },
  {
   "cell_type": "code",
   "execution_count": 21,
   "id": "224453b5-bd3c-4cb8-9531-ad06d9fa7667",
   "metadata": {},
   "outputs": [
    {
     "data": {
      "text/plain": [
       "datetime.timedelta(seconds=65, microseconds=945366)"
      ]
     },
     "execution_count": 21,
     "metadata": {},
     "output_type": "execute_result"
    }
   ],
   "source": [
    "diff"
   ]
  },
  {
   "cell_type": "code",
   "execution_count": 22,
   "id": "31d9a658-284c-444e-b8c7-a231f3cd573d",
   "metadata": {},
   "outputs": [
    {
     "data": {
      "text/plain": [
       "65.945366"
      ]
     },
     "execution_count": 22,
     "metadata": {},
     "output_type": "execute_result"
    }
   ],
   "source": [
    "diff.total_seconds()"
   ]
  },
  {
   "cell_type": "markdown",
   "id": "cdfee36e-a6c1-4119-85b3-c3cf5f76e629",
   "metadata": {},
   "source": [
    "## 3rd time"
   ]
  },
  {
   "cell_type": "code",
   "execution_count": 23,
   "id": "5b39e51d-e14f-4182-bf04-b3024d5e4698",
   "metadata": {},
   "outputs": [],
   "source": [
    "secret3 = id.id_secret()"
   ]
  },
  {
   "cell_type": "code",
   "execution_count": 26,
   "id": "b3967aa6-e4aa-4124-9bf5-713b2df90424",
   "metadata": {},
   "outputs": [],
   "source": [
    "user = auth.sign_up(email=user_email, secret=secret3)"
   ]
  },
  {
   "cell_type": "code",
   "execution_count": 27,
   "id": "0fa4ed67-3de0-4edd-bcfd-b89c82d9204d",
   "metadata": {},
   "outputs": [
    {
     "data": {
      "text/plain": [
       "datetime.datetime(2022, 7, 19, 11, 10, 53, 979006, tzinfo=datetime.timezone.utc)"
      ]
     },
     "execution_count": 27,
     "metadata": {},
     "output_type": "execute_result"
    }
   ],
   "source": [
    "user.identities[0].last_sign_in_at"
   ]
  },
  {
   "cell_type": "code",
   "execution_count": 28,
   "id": "84dc70da-0348-41d7-9630-acf9decb59c7",
   "metadata": {},
   "outputs": [
    {
     "data": {
      "text/plain": [
       "datetime.datetime(2022, 7, 19, 11, 14, 28, 101661, tzinfo=datetime.timezone.utc)"
      ]
     },
     "execution_count": 28,
     "metadata": {},
     "output_type": "execute_result"
    }
   ],
   "source": [
    "user.confirmation_sent_at"
   ]
  },
  {
   "cell_type": "code",
   "execution_count": 29,
   "id": "9ddf05f9-5079-47ec-bd47-4b4c964647fa",
   "metadata": {},
   "outputs": [],
   "source": [
    "diff = user.confirmation_sent_at - user.identities[0].last_sign_in_at"
   ]
  },
  {
   "cell_type": "code",
   "execution_count": 30,
   "id": "6405cf65-26ce-4a73-819f-8780ebd0ce55",
   "metadata": {},
   "outputs": [
    {
     "data": {
      "text/plain": [
       "datetime.timedelta(seconds=214, microseconds=122655)"
      ]
     },
     "execution_count": 30,
     "metadata": {},
     "output_type": "execute_result"
    }
   ],
   "source": [
    "diff"
   ]
  },
  {
   "cell_type": "code",
   "execution_count": 31,
   "id": "65c95512-f6aa-4cf1-8d5d-ed39603e5199",
   "metadata": {},
   "outputs": [
    {
     "data": {
      "text/plain": [
       "214.122655"
      ]
     },
     "execution_count": 31,
     "metadata": {},
     "output_type": "execute_result"
    }
   ],
   "source": [
    "diff.total_seconds()"
   ]
  },
  {
   "cell_type": "markdown",
   "id": "cb9fc78f-f47c-4b25-9396-0c7955c4d3b8",
   "metadata": {},
   "source": [
    "## Login"
   ]
  },
  {
   "cell_type": "markdown",
   "id": "79f58839-4f25-443d-b2af-9615910c6867",
   "metadata": {},
   "source": [
    "Successful login is possible only with the password used at the **first** time, no matter on which confirmation email the user clicked!"
   ]
  },
  {
   "cell_type": "code",
   "execution_count": 35,
   "id": "99de2cb4-8e7a-43d9-83ee-0de75a751206",
   "metadata": {},
   "outputs": [],
   "source": [
    "auth.log_in(email=user_email, secret=secret1)"
   ]
  },
  {
   "cell_type": "markdown",
   "id": "e41c4704-0a74-4be6-8a93-c24e41bfb4b2",
   "metadata": {},
   "source": [
    "Whereas any of the other passwords errors:"
   ]
  },
  {
   "cell_type": "code",
   "execution_count": 37,
   "id": "3c797db2-7471-428b-b786-ed001e6ccdfc",
   "metadata": {},
   "outputs": [
    {
     "ename": "Exception",
     "evalue": "User does not exists. Please use sign up function.",
     "output_type": "error",
     "traceback": [
      "\u001b[0;31m---------------------------------------------------------------------------\u001b[0m",
      "\u001b[0;31mHTTPStatusError\u001b[0m                           Traceback (most recent call last)",
      "File \u001b[0;32m/opt/homebrew/lib/python3.9/site-packages/gotrue/helpers.py:16\u001b[0m, in \u001b[0;36mcheck_response\u001b[0;34m(response)\u001b[0m\n\u001b[1;32m     15\u001b[0m \u001b[39mtry\u001b[39;00m:\n\u001b[0;32m---> 16\u001b[0m     response\u001b[39m.\u001b[39;49mraise_for_status()\n\u001b[1;32m     17\u001b[0m \u001b[39mexcept\u001b[39;00m HTTPError:\n",
      "File \u001b[0;32m/opt/homebrew/lib/python3.9/site-packages/httpx/_models.py:1508\u001b[0m, in \u001b[0;36mResponse.raise_for_status\u001b[0;34m(self)\u001b[0m\n\u001b[1;32m   1507\u001b[0m message \u001b[39m=\u001b[39m message\u001b[39m.\u001b[39mformat(\u001b[39mself\u001b[39m, error_type\u001b[39m=\u001b[39merror_type)\n\u001b[0;32m-> 1508\u001b[0m \u001b[39mraise\u001b[39;00m HTTPStatusError(message, request\u001b[39m=\u001b[39mrequest, response\u001b[39m=\u001b[39m\u001b[39mself\u001b[39m)\n",
      "\u001b[0;31mHTTPStatusError\u001b[0m: Client error '400 Bad Request' for url 'https://qntuvxhregqtypdorhaw.supabase.co/auth/v1/token?grant_type=password'\nFor more information check: https://httpstatuses.com/400",
      "\nDuring handling of the above exception, another exception occurred:\n",
      "\u001b[0;31mAPIError\u001b[0m                                  Traceback (most recent call last)",
      "File \u001b[0;32m~/Sources/lamin/lamindb/lamindb/refactoring/Auth.py:39\u001b[0m, in \u001b[0;36mAuth.log_in_supabase\u001b[0;34m(self, email, secret)\u001b[0m\n\u001b[1;32m     38\u001b[0m \u001b[39mtry\u001b[39;00m:\n\u001b[0;32m---> 39\u001b[0m     \u001b[39mself\u001b[39m\u001b[39m.\u001b[39msession \u001b[39m=\u001b[39m \u001b[39mself\u001b[39;49m\u001b[39m.\u001b[39;49msupabase_client\u001b[39m.\u001b[39;49mauth\u001b[39m.\u001b[39;49msign_in(email\u001b[39m=\u001b[39;49memail, password\u001b[39m=\u001b[39;49msecret)\n\u001b[1;32m     40\u001b[0m \u001b[39mexcept\u001b[39;00m \u001b[39mException\u001b[39;00m:\n",
      "File \u001b[0;32m/opt/homebrew/lib/python3.9/site-packages/gotrue/_sync/client.py:210\u001b[0m, in \u001b[0;36mSyncGoTrueClient.sign_in\u001b[0;34m(self, email, phone, password, refresh_token, provider, redirect_to, scopes, create_user)\u001b[0m\n\u001b[1;32m    209\u001b[0m \u001b[39mif\u001b[39;00m password:\n\u001b[0;32m--> 210\u001b[0m     response \u001b[39m=\u001b[39m \u001b[39mself\u001b[39;49m\u001b[39m.\u001b[39;49m_handle_email_sign_in(\n\u001b[1;32m    211\u001b[0m         email\u001b[39m=\u001b[39;49memail,\n\u001b[1;32m    212\u001b[0m         password\u001b[39m=\u001b[39;49mpassword,\n\u001b[1;32m    213\u001b[0m         redirect_to\u001b[39m=\u001b[39;49mredirect_to,\n\u001b[1;32m    214\u001b[0m     )\n\u001b[1;32m    215\u001b[0m \u001b[39melse\u001b[39;00m:\n",
      "File \u001b[0;32m/opt/homebrew/lib/python3.9/site-packages/gotrue/_sync/client.py:508\u001b[0m, in \u001b[0;36mSyncGoTrueClient._handle_email_sign_in\u001b[0;34m(self, email, password, redirect_to)\u001b[0m\n\u001b[1;32m    507\u001b[0m \u001b[39m\"\"\"Sign in with email and password.\"\"\"\u001b[39;00m\n\u001b[0;32m--> 508\u001b[0m response \u001b[39m=\u001b[39m \u001b[39mself\u001b[39;49m\u001b[39m.\u001b[39;49mapi\u001b[39m.\u001b[39;49msign_in_with_email(\n\u001b[1;32m    509\u001b[0m     email\u001b[39m=\u001b[39;49memail,\n\u001b[1;32m    510\u001b[0m     password\u001b[39m=\u001b[39;49mpassword,\n\u001b[1;32m    511\u001b[0m     redirect_to\u001b[39m=\u001b[39;49mredirect_to,\n\u001b[1;32m    512\u001b[0m )\n\u001b[1;32m    513\u001b[0m \u001b[39mself\u001b[39m\u001b[39m.\u001b[39m_save_session(session\u001b[39m=\u001b[39mresponse)\n",
      "File \u001b[0;32m/opt/homebrew/lib/python3.9/site-packages/gotrue/_sync/api.py:178\u001b[0m, in \u001b[0;36mSyncGoTrueAPI.sign_in_with_email\u001b[0;34m(self, email, password, redirect_to)\u001b[0m\n\u001b[1;32m    177\u001b[0m response \u001b[39m=\u001b[39m \u001b[39mself\u001b[39m\u001b[39m.\u001b[39mhttp_client\u001b[39m.\u001b[39mpost(url, json\u001b[39m=\u001b[39mdata, headers\u001b[39m=\u001b[39mheaders)\n\u001b[0;32m--> 178\u001b[0m \u001b[39mreturn\u001b[39;00m Session\u001b[39m.\u001b[39;49mparse_response(response)\n",
      "File \u001b[0;32m/opt/homebrew/lib/python3.9/site-packages/gotrue/types.py:26\u001b[0m, in \u001b[0;36mBaseModelFromResponse.parse_response\u001b[0;34m(cls, response)\u001b[0m\n\u001b[1;32m     24\u001b[0m \u001b[39m@classmethod\u001b[39m\n\u001b[1;32m     25\u001b[0m \u001b[39mdef\u001b[39;00m \u001b[39mparse_response\u001b[39m(\u001b[39mcls\u001b[39m: Type[T], response: Response) \u001b[39m-\u001b[39m\u001b[39m>\u001b[39m T:\n\u001b[0;32m---> 26\u001b[0m     check_response(response)\n\u001b[1;32m     27\u001b[0m     \u001b[39mreturn\u001b[39;00m \u001b[39mcls\u001b[39m\u001b[39m.\u001b[39mparse_obj(response\u001b[39m.\u001b[39mjson())\n",
      "File \u001b[0;32m/opt/homebrew/lib/python3.9/site-packages/gotrue/helpers.py:18\u001b[0m, in \u001b[0;36mcheck_response\u001b[0;34m(response)\u001b[0m\n\u001b[1;32m     17\u001b[0m \u001b[39mexcept\u001b[39;00m HTTPError:\n\u001b[0;32m---> 18\u001b[0m     \u001b[39mraise\u001b[39;00m APIError\u001b[39m.\u001b[39mfrom_dict(response\u001b[39m.\u001b[39mjson())\n",
      "\u001b[0;31mAPIError\u001b[0m: ",
      "\nDuring handling of the above exception, another exception occurred:\n",
      "\u001b[0;31mException\u001b[0m                                 Traceback (most recent call last)",
      "\u001b[1;32m/Users/fredericenard/Sources/lamin/lamindb/docs/notes/multiple-sign-ups-same-email.ipynb Cell 38'\u001b[0m in \u001b[0;36m<cell line: 1>\u001b[0;34m()\u001b[0m\n\u001b[0;32m----> <a href='vscode-notebook-cell:/Users/fredericenard/Sources/lamin/lamindb/docs/notes/multiple-sign-ups-same-email.ipynb#ch0000039?line=0'>1</a>\u001b[0m auth\u001b[39m.\u001b[39;49mlog_in(email\u001b[39m=\u001b[39;49muser_email, secret\u001b[39m=\u001b[39;49msecret2)\n",
      "File \u001b[0;32m~/Sources/lamin/lamindb/lamindb/refactoring/Auth.py:23\u001b[0m, in \u001b[0;36mAuth.log_in\u001b[0;34m(self, email, secret)\u001b[0m\n\u001b[1;32m     22\u001b[0m \u001b[39mdef\u001b[39;00m \u001b[39mlog_in\u001b[39m(\u001b[39mself\u001b[39m, email: \u001b[39mstr\u001b[39m, secret: \u001b[39mstr\u001b[39m) \u001b[39m-\u001b[39m\u001b[39m>\u001b[39m \u001b[39mNone\u001b[39;00m:\n\u001b[0;32m---> 23\u001b[0m     \u001b[39mself\u001b[39;49m\u001b[39m.\u001b[39;49mlog_in_supabase(email, secret)\n\u001b[1;32m     24\u001b[0m     context\u001b[39m.\u001b[39mset_current_user(email, secret)\n\u001b[1;32m     25\u001b[0m     \u001b[39mself\u001b[39m\u001b[39m.\u001b[39mlog_out_supabase()\n",
      "File \u001b[0;32m~/Sources/lamin/lamindb/lamindb/refactoring/Auth.py:41\u001b[0m, in \u001b[0;36mAuth.log_in_supabase\u001b[0;34m(self, email, secret)\u001b[0m\n\u001b[1;32m     39\u001b[0m     \u001b[39mself\u001b[39m\u001b[39m.\u001b[39msession \u001b[39m=\u001b[39m \u001b[39mself\u001b[39m\u001b[39m.\u001b[39msupabase_client\u001b[39m.\u001b[39mauth\u001b[39m.\u001b[39msign_in(email\u001b[39m=\u001b[39memail, password\u001b[39m=\u001b[39msecret)\n\u001b[1;32m     40\u001b[0m \u001b[39mexcept\u001b[39;00m \u001b[39mException\u001b[39;00m:\n\u001b[0;32m---> 41\u001b[0m     \u001b[39mraise\u001b[39;00m \u001b[39mException\u001b[39;00m(\u001b[39m\"\u001b[39m\u001b[39mUser does not exists. Please use sign up function.\u001b[39m\u001b[39m\"\u001b[39m)\n\u001b[1;32m     42\u001b[0m \u001b[39mself\u001b[39m\u001b[39m.\u001b[39msupabase_client\u001b[39m.\u001b[39mpostgrest\u001b[39m.\u001b[39mauth(\u001b[39mself\u001b[39m\u001b[39m.\u001b[39msession\u001b[39m.\u001b[39maccess_token)\n",
      "\u001b[0;31mException\u001b[0m: User does not exists. Please use sign up function."
     ]
    }
   ],
   "source": [
    "auth.log_in(email=user_email, secret=secret2)"
   ]
  },
  {
   "cell_type": "code",
   "execution_count": null,
   "id": "21b389b7-b362-41d0-8944-60df78e465ee",
   "metadata": {},
   "outputs": [],
   "source": []
  }
 ],
 "metadata": {
  "kernelspec": {
   "display_name": "Python 3.9.10 64-bit",
   "language": "python",
   "name": "python3"
  },
  "language_info": {
   "codemirror_mode": {
    "name": "ipython",
    "version": 3
   },
   "file_extension": ".py",
   "mimetype": "text/x-python",
   "name": "python",
   "nbconvert_exporter": "python",
   "pygments_lexer": "ipython3",
   "version": "3.9.10"
  },
  "nbproject": {
   "dependency": {
    "gotrue": null,
    "lamindb": "0.0.7",
    "nbproject": "0.1.5",
    "supabase": null
   },
   "id": "uL8Sjht0y4qg",
   "time_init": "2022-07-09T09:37:45.446322+00:00",
   "version": "draft"
  },
  "vscode": {
   "interpreter": {
    "hash": "b0fa6594d8f4cbf19f97940f81e996739fb7646882a419484c72d19e05852a7e"
   }
  }
 },
 "nbformat": 4,
 "nbformat_minor": 5
}
