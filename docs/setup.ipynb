{
 "cells": [
  {
   "attachments": {},
   "cell_type": "markdown",
   "metadata": {},
   "source": [
    "# Install & setup LaminDB"
   ]
  },
  {
   "cell_type": "markdown",
   "metadata": {},
   "source": [
    "## Installation\n",
    "\n",
    "```{include} installation.md\n",
    "\n",
    "```"
   ]
  },
  {
   "cell_type": "markdown",
   "metadata": {},
   "source": [
    "## Sign up & log in"
   ]
  },
  {
   "cell_type": "markdown",
   "metadata": {},
   "source": [
    "```{include} signup-login.md\n",
    "\n",
    "```"
   ]
  },
  {
   "attachments": {},
   "cell_type": "markdown",
   "metadata": {},
   "source": [
    "## Help\n",
    "\n",
    "Access help on the CLI:\n",
    "```\n",
    "lamin -h\n",
    "lamin init -h\n",
    "```"
   ]
  },
  {
   "cell_type": "markdown",
   "metadata": {},
   "source": [
    "## Docker\n",
    "\n",
    "If you'd like a docker container, here is a way: [github.com/laminlabs/lamindb-docker](https://github.com/laminlabs/lamindb-docker)."
   ]
  },
  {
   "attachments": {},
   "cell_type": "markdown",
   "metadata": {},
   "source": [
    "## Init an instance"
   ]
  },
  {
   "attachments": {},
   "cell_type": "markdown",
   "metadata": {},
   "source": [
    "### Parameters\n",
    "\n",
    "- `storage`: a default storage location (e.g. `s3://my-bucket`, `gs://my-bucket`, `./my-data-dir`)\n",
    "- `name` (optional): a name for the instance (e.g., `my-project-assets`, `analyses-team-x`, `ml-experiments-y`)\n",
    "- `db` (optional): a SQL database URI (defaults to SQLite)\n",
    "- `schema` (optional): comma-separated schema names\n",
    "    - available plug ins are listed [here](/lnschema-bionty)\n",
    "    - [contact us](https://lamin.ai/contact) to learn about customized enterprise plug ins"
   ]
  },
  {
   "attachments": {},
   "cell_type": "markdown",
   "metadata": {},
   "source": [
    "### Examples\n",
    "\n",
    "#### Local storage + SQLite"
   ]
  },
  {
   "attachments": {},
   "cell_type": "markdown",
   "metadata": {},
   "source": [
    "If you are only interested in tracking files and their transformations, init your local SQLite instance via:\n",
    "\n",
    "```\n",
    "lamin init --storage ./mydata\n",
    "```"
   ]
  },
  {
   "attachments": {},
   "cell_type": "markdown",
   "metadata": {},
   "source": [
    "Mount the Bionty schema module:\n",
    "\n",
    "```\n",
    "lamin init --storage mydata --schema bionty\n",
    "```"
   ]
  },
  {
   "attachments": {},
   "cell_type": "markdown",
   "metadata": {},
   "source": [
    "#### S3 + SQLite"
   ]
  },
  {
   "attachments": {},
   "cell_type": "markdown",
   "metadata": {},
   "source": [
    "```\n",
    "lamin init --storage s3://<bucket_name> --schema bionty,lamin1\n",
    "```"
   ]
  },
  {
   "attachments": {},
   "cell_type": "markdown",
   "metadata": {},
   "source": [
    "#### GCP + Postgres"
   ]
  },
  {
   "attachments": {},
   "cell_type": "markdown",
   "metadata": {},
   "source": [
    "```\n",
    "lamin init --storage gs://<bucket_name> --db postgresql://<user>:<pwd>@<hostname>:<port>/<dbname> --schema bionty,lamin1\n",
    "```\n"
   ]
  },
  {
   "attachments": {},
   "cell_type": "markdown",
   "metadata": {},
   "source": [
    "## Load an instance"
   ]
  },
  {
   "attachments": {},
   "cell_type": "markdown",
   "metadata": {},
   "source": [
    "Load your own instance:\n",
    "```\n",
    "lamin load <instance_name>\n",
    "````"
   ]
  },
  {
   "attachments": {},
   "cell_type": "markdown",
   "metadata": {},
   "source": [
    "Load somebody else's instance:\n",
    "```\n",
    "lamin load <account_handle/instance_name>\n",
    "```"
   ]
  },
  {
   "attachments": {},
   "cell_type": "markdown",
   "metadata": {},
   "source": [
    "## Access settings"
   ]
  },
  {
   "attachments": {},
   "cell_type": "markdown",
   "metadata": {},
   "source": [
    "Now, let's look at a specific example:"
   ]
  },
  {
   "cell_type": "code",
   "execution_count": null,
   "metadata": {},
   "outputs": [],
   "source": [
    "!lamin init --storage mydata --schema bionty"
   ]
  },
  {
   "cell_type": "markdown",
   "metadata": {},
   "source": [
    "Print settings:"
   ]
  },
  {
   "cell_type": "code",
   "execution_count": null,
   "metadata": {},
   "outputs": [],
   "source": [
    "!lamin info"
   ]
  },
  {
   "attachments": {},
   "cell_type": "markdown",
   "metadata": {},
   "source": [
    "Settings persist in `~/.lamin/` and can also be accessed via {class}`lamindb.setup.settings`."
   ]
  },
  {
   "cell_type": "code",
   "execution_count": null,
   "metadata": {},
   "outputs": [],
   "source": [
    "import lamindb as ln"
   ]
  },
  {
   "cell_type": "code",
   "execution_count": null,
   "metadata": {},
   "outputs": [],
   "source": [
    "ln.setup.settings.user"
   ]
  },
  {
   "cell_type": "code",
   "execution_count": null,
   "metadata": {},
   "outputs": [],
   "source": [
    "ln.setup.settings.instance"
   ]
  },
  {
   "attachments": {},
   "cell_type": "markdown",
   "metadata": {},
   "source": [
    "```{note}\n",
    "\n",
    "- The user who creates an instance is its owner. Ownership can be transferred in the hub.\n",
    "- Advanced users could also consider the Python setup API: {mod}`lamindb.setup`.\n",
    "\n",
    "```"
   ]
  },
  {
   "cell_type": "markdown",
   "metadata": {},
   "source": [
    "## Update default storage"
   ]
  },
  {
   "cell_type": "markdown",
   "metadata": {},
   "source": [
    "It's easiest to see and update default storage in the Python API using {attr}`~lamindb.dev.Settings.storage`:\n",
    "\n",
    "```python\n",
    "import lamindb as ln\n",
    "ln.settings.storage  # set via ln.settings.storage = \"s3://other-bucket\"\n",
    "#> s3://default-bucket\n",
    "```\n",
    "\n",
    "You can also change it using the CLI via\n",
    "\n",
    "```\n",
    "lamin set --storage s3://other-bucket\n",
    "```"
   ]
  },
  {
   "cell_type": "markdown",
   "metadata": {},
   "source": [
    "## Close an instance"
   ]
  },
  {
   "cell_type": "markdown",
   "metadata": {},
   "source": [
    "Loading an instance means loading an environment for managing your datasets.\n",
    "\n",
    "When loading a new instance, you automatically _close_ the previously loaded old instance.\n",
    "\n",
    "If you want to close the instance without loading a new instance, use `lamin close`"
   ]
  },
  {
   "cell_type": "markdown",
   "metadata": {},
   "source": [
    "## Migrate an instance"
   ]
  },
  {
   "cell_type": "markdown",
   "metadata": {},
   "source": [
    "If you are an admin and you haven't set up automated deployments of migrations, you can use two commands to create and deploy migrations:\n",
    "\n",
    "- `lamin migrate create`\n",
    "- `lamin migrate deploy`\n",
    "\n",
    "Unless you manage a custom plugin schema, you'll _never_ need to create a migration.\n",
    "\n",
    "You'll receive a logged warning when deploying a migration is advisable.\n",
    "\n",
    ":::{dropdown} How does this warning look like?\n",
    "\n",
    "Here is an example:\n",
    "\n",
    "```\n",
    "% lamin load testdb\n",
    "🔶 \n",
    "\n",
    "Your database is not up to date with your installed Python library.\n",
    "\n",
    "The database misses the following migrations:\n",
    "[<Migration lnschema_core.0014_rename_ref_field_featureset_registry>, <Migration lnschema_core.0015_file_initial_version_file_version>]\n",
    "\n",
    "Only if you are an admin and manage migrations manually, deploy them to the database:\n",
    "lamin migrate deploy\n",
    "\n",
    "Otherwise, downgrade your Python library to match the database!\n",
    "\n",
    "✅ loaded instance: testuser1/testdb\n",
    "```\n",
    ":::"
   ]
  },
  {
   "cell_type": "markdown",
   "metadata": {},
   "source": [
    "### Create a migration\n",
    "\n",
    "You need to have the schema package installed locally:\n",
    "```\n",
    "git clone https://github.com/my-org/lnschema-custom\n",
    "cd lnschema-custom\n",
    "pip install -e .\n",
    "```\n",
    "\n",
    "Edit the registries in your schema.\n",
    "\n",
    "Then, call\n",
    "\n",
    "```\n",
    "lamin migrate create\n",
    "```\n",
    "\n",
    "to create the migration script.\n",
    "\n",
    "When you're happy, commit them to your GitHub repo, and ideally make a new release.\n",
    "\n",
    "To deploy the migration call `lamin migrate deploy`.\n",
    "\n",
    "```{note}\n",
    "\n",
    "The `lamin` migration commands are a wrapper around Django's migration manager.\n",
    "\n",
    "```"
   ]
  },
  {
   "attachments": {},
   "cell_type": "markdown",
   "metadata": {},
   "source": [
    "## Delete an instance"
   ]
  },
  {
   "cell_type": "markdown",
   "metadata": {},
   "source": [
    "This works as follows. It won't delete your data, just the metadata managed by LaminDB:"
   ]
  },
  {
   "cell_type": "code",
   "execution_count": null,
   "metadata": {},
   "outputs": [],
   "source": [
    "!lamin delete --force mydata"
   ]
  }
 ],
 "metadata": {
  "kernelspec": {
   "display_name": "Python 3 (ipykernel)",
   "language": "python",
   "name": "python3"
  },
  "language_info": {
   "codemirror_mode": {
    "name": "ipython",
    "version": 3
   },
   "file_extension": ".py",
   "mimetype": "text/x-python",
   "name": "python",
   "nbconvert_exporter": "python",
   "pygments_lexer": "ipython3",
   "version": "3.9.16"
  },
  "vscode": {
   "interpreter": {
    "hash": "ae1fefc8646a06dd2e75004cd934adda7c5727b046986a772e3b44b0ffba9754"
   }
  }
 },
 "nbformat": 4,
 "nbformat_minor": 4
}
