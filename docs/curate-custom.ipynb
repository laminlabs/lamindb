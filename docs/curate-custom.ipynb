{
 "cells": [
  {
   "cell_type": "markdown",
   "metadata": {},
   "source": [
    "# Custom Curators"
   ]
  },
  {
   "cell_type": "markdown",
   "metadata": {},
   "source": [
    "Often teams agree on specific datasets to always require a specific set of columns that all need to be curated against specific ontologies.\n",
    "Here we show how to define a custom Curator object that defines such a set of rules.\n",
    "An example is the cellxgene curator ({doc}`docs:cellxgene-curate`) that allows for the curation against specific cellxgene schema versions.\n",
    "\n",
    "Scenario: A clinical team wants to ensure that every electronic health record must have at least the columns 'disease', 'phenotype', and 'developmental_stage'.\n",
    "Further, these columns must be mapped against specific versions of ontologies that we'll define throughout this tutorial."
   ]
  },
  {
   "cell_type": "markdown",
   "metadata": {},
   "source": [
    "lamindb provides several :class:`lamindb.Curator` tailored for specific data types such as :class:`lamindb.core.DataFrameCurator`, :class:`lamindb.core.AnnDataCurator`, and :class:`lamindb.core.MuDataCurator`.\n",
    "Here, we assume that the electronic health record data is stored in tabular form in DataFrames."
   ]
  },
  {
   "cell_type": "code",
   "execution_count": null,
   "metadata": {},
   "outputs": [],
   "source": [
    "!lamin init --storage custom-curator --name custom-curator --schema bionty"
   ]
  },
  {
   "cell_type": "code",
   "execution_count": null,
   "metadata": {},
   "outputs": [],
   "source": [
    "import lamindb as ln\n",
    "import bionty as bt\n",
    "import pandas as pd\n",
    "\n",
    "ln.context.uid = \"2XEr2IA4n1w40000\"\n",
    "ln.context.track()"
   ]
  },
  {
   "cell_type": "markdown",
   "metadata": {},
   "source": [
    "## Example data"
   ]
  },
  {
   "cell_type": "code",
   "execution_count": null,
   "metadata": {},
   "outputs": [],
   "source": [
    "# create example data that has 2 of the 3 mandatory columns and two additional columns\n",
    "data = {\n",
    "    'disease': ['Alzheimer disease', 'Diabetes mellitus', 'Breast cancer', 'Hypertension', 'Asthma'],\n",
    "    'phenotype': ['Cognitive decline', 'Hyperglycemia', 'Tumor growth', 'Increased blood pressure', 'Airway inflammation'],\n",
    "    'developmental_stage': ['Adult', 'Adult', 'Adult', 'Adult', 'Child'],\n",
    "    'patient_age': [70, 55, 60, 65, 12],\n",
    "    'treatment_outcome': ['Improved', 'Stable', 'Improved', 'Worsened', 'Stable']\n",
    "}\n",
    "df = pd.DataFrame(data)"
   ]
  },
  {
   "cell_type": "markdown",
   "metadata": {},
   "source": [
    "## Implement custom EHR Curator"
   ]
  },
  {
   "cell_type": "markdown",
   "metadata": {},
   "source": [
    "We can use all of :class:`lamindb.core.DataFrameCurator`, :class:`lamindb.core.AnnDataCurator`, and :class:`lamindb.core.MuDataCurator` as our base class for our custom Curator.\n",
    "Since we're dealing with tabular EHR data, we go with :class:`lamindb.core.DataFrameCurator`."
   ]
  },
  {
   "cell_type": "code",
   "execution_count": null,
   "metadata": {},
   "outputs": [],
   "source": [
    "from lamindb.core import DataFrameCurator\n",
    "from lamindb_setup.core.types import UPathStr\n",
    "from lnschema_core import Record\n",
    "from lnschema_core.types import FieldAttr\n",
    "\n",
    "# Curate these columns against the specified fields\n",
    "DEFAULT_CATEGORICALS = {\n",
    "    \"disease\": bt.Disease.name,\n",
    "    \"phenotype\": bt.Phenotype.name,\n",
    "    \"developmental_stage\": bt.DevelopmentalStage.name,\n",
    "}\n",
    "\n",
    "# If columns or values are missing, we substitute with these defaults\n",
    "DEFAULT_VALUES = {\n",
    "    \"disease\": \"normal\",\n",
    "    \"development_stage\": \"unknown\",\n",
    "    \"phenotype\": \"unknown\"\n",
    "}\n",
    "\n",
    "# Curate against these specified sources\n",
    "FIXED_SOURCES = {\n",
    "    \"disease\": bt.Source.filter(entity=\"bionty.Disease\", name=\"mondo\", version=\"2023-04-04\").one(),\n",
    "    \"developmental_stage\": bt.Source.filter(entity=\"bionty.DevelopmentalStage\", name=\"hsapdv\", version=\"2020-03-10\").one(),\n",
    "    \"phenotype\": bt.Source.filter(entity=\"bionty.Phenotype\", name=\"hp\", version=\"2023-06-17\", organism=\"human\").one()\n",
    "}\n",
    "\n",
    "class EHRCurator(DataFrameCurator):\n",
    "    \"\"\"Custom curation flow for electronic health record data.\"\"\"\n",
    "\n",
    "    def __init__(\n",
    "        self,\n",
    "        data: pd.DataFrame | UPathStr,\n",
    "        categoricals: dict[str, FieldAttr] = DEFAULT_CATEGORICALS,\n",
    "        *,\n",
    "        defaults: dict[str, str] = None,\n",
    "        sources: dict[str, Record] = FIXED_SOURCES,\n",
    "        organism=\"human\"\n",
    "    ):  \n",
    "        self.data = data\n",
    "        self.organism = organism\n",
    "        \n",
    "        # If defaults are provided, we add missing columns with the default value and set all missing values to the default value\n",
    "        if defaults:\n",
    "            for col, default in defaults.items():\n",
    "                if col not in data.columns:\n",
    "                    data[col] = default\n",
    "                else:\n",
    "                    data[col].fillna(default, inplace=True)\n",
    "\n",
    "\n",
    "        super().__init__(\n",
    "            df=data,\n",
    "            categoricals=categoricals,\n",
    "            sources=sources,\n",
    "            organism=organism\n",
    "        )\n",
    "    \n",
    "    def validate(self) -> bool:\n",
    "        \"\"\"Further custom validation.\"\"\"\n",
    "        # --- Custom validation logic goes here --- #        \n",
    "        return super().validate(organism=self.organism)"
   ]
  },
  {
   "cell_type": "markdown",
   "metadata": {},
   "source": [
    "## Curate with EHRCurator"
   ]
  },
  {
   "cell_type": "code",
   "execution_count": null,
   "metadata": {},
   "outputs": [],
   "source": [
    "ehrcurator = EHRCurator(df)"
   ]
  },
  {
   "cell_type": "code",
   "execution_count": null,
   "metadata": {},
   "outputs": [],
   "source": [
    "ehrcurator.add_new_from_columns()"
   ]
  },
  {
   "cell_type": "code",
   "execution_count": null,
   "metadata": {},
   "outputs": [],
   "source": [
    "# Catching the exception to ensure that the notebooks runs through without errors\n",
    "try:\n",
    "    ehrcurator.validate()\n",
    "except ValueError as e:\n",
    "    print(e)"
   ]
  },
  {
   "cell_type": "code",
   "execution_count": null,
   "metadata": {},
   "outputs": [],
   "source": [
    "# Let's fix the name of the column\n",
    "df = df.rename(columns={\"patient_age\": \"age\"})"
   ]
  },
  {
   "cell_type": "code",
   "execution_count": null,
   "metadata": {},
   "outputs": [],
   "source": [
    "ehrcurator.validate()"
   ]
  },
  {
   "cell_type": "code",
   "execution_count": null,
   "metadata": {},
   "outputs": [],
   "source": [
    "# Fix values\n",
    "disease_lo = bt.Disease.public().lookup()\n",
    "phenotype_lo = bt.Phenotype.public().lookup()\n",
    "developmental_stage_lo = bt.DevelopmentalStage.public().lookup()"
   ]
  },
  {
   "cell_type": "code",
   "execution_count": null,
   "metadata": {},
   "outputs": [],
   "source": [
    "df[\"disease\"] = df[\"disease\"].replace({\"Hypertension\": disease_lo.hypertensive_disorder.name})\n",
    "df[\"phenotype\"] = df[\"phenotype\"].replace({\"Tumor growth\": phenotype_lo.neoplasm.name,\n",
    "                                           \"Airway inflammation\": phenotype_lo.bronchitis.name})\n",
    "df[\"developmental_stage\"] = df[\"developmental_stage\"].replace({\"Adult\": developmental_stage_lo.adolescent_stage.name,\n",
    "                                                               \"Child\": developmental_stage_lo.child_stage.name})"
   ]
  },
  {
   "cell_type": "code",
   "execution_count": null,
   "metadata": {},
   "outputs": [],
   "source": [
    "ehrcurator = EHRCurator(df)\n",
    "ehrcurator.validate()"
   ]
  },
  {
   "cell_type": "code",
   "execution_count": null,
   "metadata": {},
   "outputs": [],
   "source": [
    "ehrcurator.add_validated_from(\"disease\")\n",
    "ehrcurator.add_validated_from(\"phenotype\")\n",
    "ehrcurator.add_validated_from(\"developmental_stage\")"
   ]
  },
  {
   "cell_type": "code",
   "execution_count": null,
   "metadata": {},
   "outputs": [],
   "source": [
    "ehrcurator.validate()"
   ]
  },
  {
   "cell_type": "code",
   "execution_count": null,
   "metadata": {},
   "outputs": [],
   "source": [
    "ln.context.finish()"
   ]
  }
 ],
 "metadata": {
  "kernelspec": {
   "display_name": "lamindb",
   "language": "python",
   "name": "python3"
  },
  "language_info": {
   "codemirror_mode": {
    "name": "ipython",
    "version": 3
   },
   "file_extension": ".py",
   "mimetype": "text/x-python",
   "name": "python",
   "nbconvert_exporter": "python",
   "pygments_lexer": "ipython3",
   "version": "3.11.7"
  }
 },
 "nbformat": 4,
 "nbformat_minor": 2
}
