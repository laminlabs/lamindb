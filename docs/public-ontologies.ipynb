{
 "cells": [
  {
   "attachments": {},
   "cell_type": "markdown",
   "metadata": {},
   "source": [
    "# Access public ontologies"
   ]
  },
  {
   "attachments": {},
   "cell_type": "markdown",
   "metadata": {},
   "source": [
    "Here we show how to access public knowledge for organisms, genes, proteins and cell markers.\n",
    "\n",
    "In the following guide, you'll see how to manage in-house knowledge: {doc}`bio-registries`."
   ]
  },
  {
   "cell_type": "markdown",
   "metadata": {},
   "source": [
    "## Setup"
   ]
  },
  {
   "cell_type": "code",
   "execution_count": null,
   "metadata": {
    "tags": [
     "hide-output"
    ]
   },
   "outputs": [],
   "source": [
    "!lamin init --storage ./test-ontologies --schema bionty"
   ]
  },
  {
   "cell_type": "code",
   "execution_count": null,
   "metadata": {
    "tags": []
   },
   "outputs": [],
   "source": [
    "import lnschema_bionty as lb\n",
    "import pandas as pd\n",
    "\n",
    "# adds an entry \"human\" into an empty instance\n",
    "lb.settings.organism = \"human\""
   ]
  },
  {
   "cell_type": "markdown",
   "metadata": {},
   "source": [
    "## Bionty objects"
   ]
  },
  {
   "cell_type": "markdown",
   "metadata": {},
   "source": [
    "Let us create a public knowledge accessor with {meth}`~lnschema_bionty.dev.BioRegistry.bionty`, which chooses a default public knowledge source from {meth}`~lnschema_bionty.BiontySource`. It's a [Bionty](https://lamin.ai/docs/bionty/bionty.bionty) object, which you can think about as a less-capable registry:"
   ]
  },
  {
   "cell_type": "code",
   "execution_count": null,
   "metadata": {},
   "outputs": [],
   "source": [
    "gene_bt = lb.Gene.bionty(organism=\"human\")\n",
    "gene_bt"
   ]
  },
  {
   "cell_type": "markdown",
   "metadata": {},
   "source": [
    "As for registries, you can export the ontology as a `DataFrame`:"
   ]
  },
  {
   "cell_type": "code",
   "execution_count": null,
   "metadata": {},
   "outputs": [],
   "source": [
    "df = gene_bt.df()\n",
    "df.head()"
   ]
  },
  {
   "cell_type": "markdown",
   "metadata": {},
   "source": [
    "Unlike registries, you can also export it as a Pronto object via `gene_bt.ontology`."
   ]
  },
  {
   "attachments": {},
   "cell_type": "markdown",
   "metadata": {},
   "source": [
    "## Look up terms"
   ]
  },
  {
   "attachments": {},
   "cell_type": "markdown",
   "metadata": {},
   "source": [
    "As for registries, terms can be looked up with auto-complete:"
   ]
  },
  {
   "cell_type": "code",
   "execution_count": null,
   "metadata": {},
   "outputs": [],
   "source": [
    "lookup = gene_bt.lookup()"
   ]
  },
  {
   "attachments": {},
   "cell_type": "markdown",
   "metadata": {},
   "source": [
    "The `.` accessor provides normalized terms (lower case, only contains alphanumeric characters and underscores):"
   ]
  },
  {
   "cell_type": "code",
   "execution_count": null,
   "metadata": {},
   "outputs": [],
   "source": [
    "lookup.tcf7"
   ]
  },
  {
   "attachments": {},
   "cell_type": "markdown",
   "metadata": {},
   "source": [
    "To look up the exact original strings, convert the lookup object to dict and use the `[]` accessor:"
   ]
  },
  {
   "cell_type": "code",
   "execution_count": null,
   "metadata": {},
   "outputs": [],
   "source": [
    "lookup_dict = lookup.dict()\n",
    "lookup_dict[\"TCF7\"]"
   ]
  },
  {
   "attachments": {},
   "cell_type": "markdown",
   "metadata": {},
   "source": [
    "By default, the `name` field is used to generate lookup keys. You can specify another field to look up:"
   ]
  },
  {
   "cell_type": "code",
   "execution_count": null,
   "metadata": {
    "tags": []
   },
   "outputs": [],
   "source": [
    "lookup = gene_bt.lookup(gene_bt.ncbi_gene_id)"
   ]
  },
  {
   "attachments": {},
   "cell_type": "markdown",
   "metadata": {},
   "source": [
    "If multiple entries are matched, they are returned as a list:"
   ]
  },
  {
   "cell_type": "code",
   "execution_count": null,
   "metadata": {},
   "outputs": [],
   "source": [
    "lookup.bt_100126572"
   ]
  },
  {
   "attachments": {},
   "cell_type": "markdown",
   "metadata": {},
   "source": [
    "## Search terms"
   ]
  },
  {
   "cell_type": "markdown",
   "metadata": {},
   "source": [
    "Search behaves in the same way as it does for registries:"
   ]
  },
  {
   "cell_type": "code",
   "execution_count": null,
   "metadata": {},
   "outputs": [],
   "source": [
    "celltype_bt = lb.CellType.bionty()\n",
    "celltype_bt.search(\"cytotoxic T cells\").head(3)"
   ]
  },
  {
   "attachments": {},
   "cell_type": "markdown",
   "metadata": {},
   "source": [
    "By default, search also covers synonyms:"
   ]
  },
  {
   "cell_type": "code",
   "execution_count": null,
   "metadata": {},
   "outputs": [],
   "source": [
    "celltype_bt.search(\"P cell\").head(3)"
   ]
  },
  {
   "attachments": {},
   "cell_type": "markdown",
   "metadata": {},
   "source": [
    "You can turn this off synonym by passing `synonyms_field=None`:"
   ]
  },
  {
   "cell_type": "code",
   "execution_count": null,
   "metadata": {},
   "outputs": [],
   "source": [
    "celltype_bt.search(\"P cell\", synonyms_field=None).head(3)"
   ]
  },
  {
   "attachments": {},
   "cell_type": "markdown",
   "metadata": {},
   "source": [
    "Search another field (default is `.name`):"
   ]
  },
  {
   "cell_type": "code",
   "execution_count": null,
   "metadata": {},
   "outputs": [],
   "source": [
    "celltype_bt.search(\n",
    "    \"CD8 postive alpha beta T cells\", field=celltype_bt.definition\n",
    ").head()"
   ]
  },
  {
   "cell_type": "markdown",
   "metadata": {},
   "source": [
    "## Standardize gene identifiers"
   ]
  },
  {
   "cell_type": "markdown",
   "metadata": {},
   "source": [
    "Let us generate a `DataFrame` that stores a number of gene identifiers, some of which corrupted:"
   ]
  },
  {
   "cell_type": "code",
   "execution_count": null,
   "metadata": {},
   "outputs": [],
   "source": [
    "data = {\n",
    "    \"gene symbol\": [\"A1CF\", \"A1BG\", \"FANCD1\", \"corrupted\"],\n",
    "    \"ncbi id\": [\"29974\", \"1\", \"5133\", \"corrupted\"],\n",
    "    \"ensembl_gene_id\": [\n",
    "        \"ENSG00000148584\",\n",
    "        \"ENSG00000121410\",\n",
    "        \"ENSG00000188389\",\n",
    "        \"ENSGcorrupted\",\n",
    "    ],\n",
    "}\n",
    "df_orig = pd.DataFrame(data).set_index(\"ensembl_gene_id\")\n",
    "df_orig"
   ]
  },
  {
   "cell_type": "markdown",
   "metadata": {},
   "source": [
    "First we can check whether any of our values are validated against the ontology reference:"
   ]
  },
  {
   "cell_type": "code",
   "execution_count": null,
   "metadata": {},
   "outputs": [],
   "source": [
    "validated = gene_bt.validate(df_orig.index, gene_bt.ensembl_gene_id)\n",
    "df_orig.index[~validated]"
   ]
  },
  {
   "cell_type": "markdown",
   "metadata": {},
   "source": [
    "First, we validate which symbols are mappable against the ontology:"
   ]
  },
  {
   "cell_type": "code",
   "execution_count": null,
   "metadata": {},
   "outputs": [],
   "source": [
    "# based on NCBI gene ID\n",
    "gene_bt.validate(df_orig[\"ncbi id\"], gene_bt.ncbi_gene_id)"
   ]
  },
  {
   "cell_type": "code",
   "execution_count": null,
   "metadata": {},
   "outputs": [],
   "source": [
    "# based on Gene symbols\n",
    "validated_symbols = gene_bt.validate(df_orig[\"gene symbol\"], gene_bt.symbol)\n",
    "df_orig[\"gene symbol\"][~validated_symbols]"
   ]
  },
  {
   "cell_type": "markdown",
   "metadata": {},
   "source": [
    "Here, 2 of the gene symbols are not validated. Inspect why:"
   ]
  },
  {
   "cell_type": "code",
   "execution_count": null,
   "metadata": {},
   "outputs": [],
   "source": [
    "gene_bt.inspect(df_orig[\"gene symbol\"], gene_bt.symbol);"
   ]
  },
  {
   "cell_type": "markdown",
   "metadata": {},
   "source": [
    "Logging suggests to use `.standardize()`:"
   ]
  },
  {
   "cell_type": "code",
   "execution_count": null,
   "metadata": {},
   "outputs": [],
   "source": [
    "mapped_symbol_synonyms = gene_bt.standardize(df_orig[\"gene symbol\"])\n",
    "mapped_symbol_synonyms"
   ]
  },
  {
   "cell_type": "markdown",
   "metadata": {},
   "source": [
    "Optionally, you can return a mapper in the form of `{synonym1: standardized_name1, ...}`:"
   ]
  },
  {
   "cell_type": "code",
   "execution_count": null,
   "metadata": {},
   "outputs": [],
   "source": [
    "gene_bt.standardize(df_orig[\"gene symbol\"], return_mapper=True)"
   ]
  },
  {
   "cell_type": "markdown",
   "metadata": {},
   "source": [
    "We can use the standardized symbols as the new standardized index:"
   ]
  },
  {
   "cell_type": "code",
   "execution_count": null,
   "metadata": {},
   "outputs": [],
   "source": [
    "df_curated = df_orig.reset_index()\n",
    "df_curated.index = mapped_symbol_synonyms\n",
    "df_curated"
   ]
  },
  {
   "cell_type": "markdown",
   "metadata": {},
   "source": [
    "You can convert identifiers by passing `return_field` to {meth}`~lamindb.dev.CanValidate.standardize`:"
   ]
  },
  {
   "cell_type": "code",
   "execution_count": null,
   "metadata": {},
   "outputs": [],
   "source": [
    "gene_bt.standardize(\n",
    "    df_curated.index, field=gene_bt.symbol, return_field=gene_bt.ensembl_gene_id\n",
    ")"
   ]
  },
  {
   "cell_type": "markdown",
   "metadata": {},
   "source": [
    "And return mappable identifiers as a dict:"
   ]
  },
  {
   "cell_type": "code",
   "execution_count": null,
   "metadata": {},
   "outputs": [],
   "source": [
    "gene_bt.standardize(\n",
    "    df_curated.index,\n",
    "    field=gene_bt.symbol,\n",
    "    return_field=gene_bt.ensembl_gene_id,\n",
    "    return_mapper=True,\n",
    ")"
   ]
  },
  {
   "cell_type": "markdown",
   "metadata": {},
   "source": [
    "## Standardize cell marker identifiers"
   ]
  },
  {
   "cell_type": "markdown",
   "metadata": {},
   "source": [
    "Let us generate a `DataFrame` that stores a number of cell markers identifiers, some of which corrupted:"
   ]
  },
  {
   "cell_type": "code",
   "execution_count": null,
   "metadata": {},
   "outputs": [],
   "source": [
    "markers = pd.DataFrame(\n",
    "    index=[\n",
    "        \"KI67\",\n",
    "        \"CCR7\",\n",
    "        \"CD14\",\n",
    "        \"CD8\",\n",
    "        \"CD45RA\",\n",
    "        \"CD4\",\n",
    "        \"CD3\",\n",
    "        \"CD127a\",\n",
    "        \"PD1\",\n",
    "        \"Invalid-1\",\n",
    "        \"Invalid-2\",\n",
    "        \"CD66b\",\n",
    "        \"Siglec8\",\n",
    "        \"Time\",\n",
    "    ]\n",
    ")"
   ]
  },
  {
   "cell_type": "markdown",
   "metadata": {},
   "source": [
    "Let's instantiate the CellMarker Bionty object with its default public knowledge source:"
   ]
  },
  {
   "cell_type": "code",
   "execution_count": null,
   "metadata": {},
   "outputs": [],
   "source": [
    "cellmarker_bt = lb.CellMarker.bionty()\n",
    "cellmarker_bt"
   ]
  },
  {
   "cell_type": "markdown",
   "metadata": {},
   "source": [
    "Now let’s check which cell markers can be found in the reference:"
   ]
  },
  {
   "cell_type": "code",
   "execution_count": null,
   "metadata": {},
   "outputs": [],
   "source": [
    "cellmarker_bt.inspect(markers.index, cellmarker_bt.name);"
   ]
  },
  {
   "cell_type": "markdown",
   "metadata": {},
   "source": [
    "Logging suggests to map synonyms:"
   ]
  },
  {
   "cell_type": "code",
   "execution_count": null,
   "metadata": {},
   "outputs": [],
   "source": [
    "synonyms_mapper = cellmarker_bt.standardize(markers.index, return_mapper=True)\n",
    "synonyms_mapper"
   ]
  },
  {
   "cell_type": "markdown",
   "metadata": {},
   "source": [
    "Let's replace the synonyms with standardized names in the `DataFrame`:"
   ]
  },
  {
   "cell_type": "code",
   "execution_count": null,
   "metadata": {},
   "outputs": [],
   "source": [
    "markers.rename(index=synonyms_mapper, inplace=True)"
   ]
  },
  {
   "cell_type": "markdown",
   "metadata": {},
   "source": [
    "The `Time`, `Invalid-1` and `Invalid-2` are non-marker channels which won’t be curated by cell marker:"
   ]
  },
  {
   "cell_type": "code",
   "execution_count": null,
   "metadata": {},
   "outputs": [],
   "source": [
    "cellmarker_bt.inspect(markers.index, cellmarker_bt.name);"
   ]
  },
  {
   "cell_type": "markdown",
   "metadata": {},
   "source": [
    "We don't find `CD127a`, let's check in the lookup with auto-completion:"
   ]
  },
  {
   "cell_type": "code",
   "execution_count": null,
   "metadata": {},
   "outputs": [],
   "source": [
    "lookup = cellmarker_bt.lookup()\n",
    "lookup.cd127"
   ]
  },
  {
   "cell_type": "markdown",
   "metadata": {},
   "source": [
    "It should be cd127, we had a typo there with `cd127a`:"
   ]
  },
  {
   "cell_type": "code",
   "execution_count": null,
   "metadata": {},
   "outputs": [],
   "source": [
    "curated_df = markers.rename(index={\"CD127a\": lookup.cd127.name})"
   ]
  },
  {
   "cell_type": "markdown",
   "metadata": {},
   "source": [
    "Optionally, search:"
   ]
  },
  {
   "cell_type": "code",
   "execution_count": null,
   "metadata": {},
   "outputs": [],
   "source": [
    "cellmarker_bt.search(\"CD127a\").head()"
   ]
  },
  {
   "cell_type": "markdown",
   "metadata": {},
   "source": [
    "Now we see that all cell marker candidates validate:"
   ]
  },
  {
   "cell_type": "code",
   "execution_count": null,
   "metadata": {
    "tags": []
   },
   "outputs": [],
   "source": [
    "cellmarker_bt.validate(curated_df.index, cellmarker_bt.name);"
   ]
  },
  {
   "cell_type": "markdown",
   "metadata": {},
   "source": [
    "## Version ontology sources"
   ]
  },
  {
   "cell_type": "markdown",
   "metadata": {},
   "source": [
    "For any given entity, we can choose from a number of versions:"
   ]
  },
  {
   "cell_type": "code",
   "execution_count": null,
   "metadata": {},
   "outputs": [],
   "source": [
    "lb.BiontySource.filter(entity=\"CellType\").df()"
   ]
  },
  {
   "cell_type": "markdown",
   "metadata": {},
   "source": [
    "When instantiating a Bionty object, we can choose a source or version:"
   ]
  },
  {
   "cell_type": "code",
   "execution_count": null,
   "metadata": {},
   "outputs": [],
   "source": [
    "bionty_source = lb.BiontySource.filter(source=\"cl\", version=\"2022-08-16\").one()\n",
    "celltype_bt = lb.CellType.bionty(bionty_source=bionty_source)\n",
    "celltype_bt"
   ]
  },
  {
   "cell_type": "markdown",
   "metadata": {},
   "source": [
    "The currently used ontologies can be displayed using:"
   ]
  },
  {
   "cell_type": "code",
   "execution_count": null,
   "metadata": {},
   "outputs": [],
   "source": [
    "lb.BiontySource.filter(currently_used=True).df()"
   ]
  },
  {
   "cell_type": "code",
   "execution_count": null,
   "metadata": {
    "tags": [
     "hide-cell"
    ]
   },
   "outputs": [],
   "source": [
    "# clean up test instance\n",
    "!lamin delete --force test-ontologies\n",
    "!rm -r test-ontologies"
   ]
  }
 ],
 "metadata": {
  "citation-manager": {
   "items": {}
  },
  "interpreter": {
   "hash": "ae1fefc8646a06dd2e75004cd934adda7c5727b046986a772e3b44b0ffba9754"
  },
  "kernelspec": {
   "display_name": "Python 3 (ipykernel)",
   "language": "python",
   "name": "python3"
  },
  "language_info": {
   "artifact_extension": ".py",
   "codemirror_mode": {
    "name": "ipython",
    "version": 3
   },
   "mimetype": "text/x-python",
   "name": "python",
   "nbconvert_exporter": "python",
   "pygments_lexer": "ipython3",
   "version": "3.10.13"
  },
  "vscode": {
   "interpreter": {
    "hash": "2775e555cdc2d728c54aa22130c79afb1fa4da64f22f2fc6dcc2aa346c4e0672"
   }
  }
 },
 "nbformat": 4,
 "nbformat_minor": 4
}
