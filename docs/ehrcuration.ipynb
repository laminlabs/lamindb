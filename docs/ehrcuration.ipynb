{
 "cells": [
  {
   "cell_type": "markdown",
   "metadata": {},
   "source": [
    "# Curate dataframes with an EHR schema"
   ]
  },
  {
   "cell_type": "markdown",
   "metadata": {},
   "source": [
    "In a [previous guide](./curate-df), you defined generic {class}`~lamindb.Schema` for `DataFrame` and other objects.\n",
    "This guide walks through an exemplary EHR schema.\n",
    "\n",
    "For a comparable schema related to scRNA-seq data, see the CELLxGENE schema ({doc}`docs:cellxgene-curate`)."
   ]
  },
  {
   "cell_type": "code",
   "execution_count": null,
   "metadata": {
    "tags": [
     "hide-output"
    ]
   },
   "outputs": [],
   "source": [
    "# pip install 'lamindb[bionty]'\n",
    "!lamin init --storage ./test-ehrschema --modules bionty"
   ]
  },
  {
   "cell_type": "code",
   "execution_count": null,
   "metadata": {
    "tags": [
     "hide-output"
    ]
   },
   "outputs": [],
   "source": [
    "import lamindb as ln\n",
    "import bionty as bt\n",
    "import pandas as pd\n",
    "\n",
    "ln.track(\"2XEr2IA4n1w40000\")"
   ]
  },
  {
   "cell_type": "markdown",
   "metadata": {},
   "source": [
    "We want to ensure that\n",
    "\n",
    "1. the dataframe has columns `disease`, `phenotype`, `developmental_stage`, and `age`\n",
    "2. if columns or values are missing, we standardize the dataframe with default values\n",
    "2. any values that are present map against specific versions of pre-defined ontologies"
   ]
  },
  {
   "cell_type": "markdown",
   "metadata": {},
   "source": [
    "## Define a schema"
   ]
  },
  {
   "cell_type": "markdown",
   "metadata": {},
   "source": [
    "Let us first define the ontology versions we want to use."
   ]
  },
  {
   "cell_type": "code",
   "execution_count": null,
   "metadata": {},
   "outputs": [],
   "source": [
    "disease_ontology = bt.Source.get(\n",
    "    entity=\"bionty.Disease\", name=\"mondo\", version=\"2023-04-04\"\n",
    ")\n",
    "developmental_stage_ontology = bt.Source.get(\n",
    "    entity=\"bionty.DevelopmentalStage\", name=\"hsapdv\", version=\"2020-03-10\"\n",
    ")\n",
    "phenotype_ontology = bt.Source.get(\n",
    "    entity=\"bionty.Phenotype\",\n",
    "    name=\"hp\",\n",
    "    version=\"2023-06-17\",\n",
    "    organism=\"human\",\n",
    ")"
   ]
  },
  {
   "cell_type": "markdown",
   "metadata": {},
   "source": [
    "Let us now create a schema by defining the features that it measures. The ontology versions are captured via their `uid`."
   ]
  },
  {
   "cell_type": "code",
   "execution_count": null,
   "metadata": {
    "tags": [
     "hide-output"
    ]
   },
   "outputs": [],
   "source": [
    "schema = ln.Schema(\n",
    "    name=\"My EHR schema\",\n",
    "    features=[\n",
    "        ln.Feature(name=\"age\", dtype=int).save(),\n",
    "        ln.Feature(\n",
    "            name=\"disease\",\n",
    "            dtype=bt.Disease,\n",
    "            default_value=\"normal\",\n",
    "            nullable=False,\n",
    "            cat_filters={\"source__uid\": disease_ontology.uid},\n",
    "        ).save(),\n",
    "        ln.Feature(\n",
    "            name=\"developmental_stage\",\n",
    "            dtype=bt.DevelopmentalStage,\n",
    "            default_value=\"unknown\",\n",
    "            nullable=False,\n",
    "            cat_filters={\"source__uid\": developmental_stage_ontology.uid},\n",
    "        ).save(),\n",
    "        ln.Feature(\n",
    "            name=\"phenotype\",\n",
    "            dtype=bt.Phenotype,\n",
    "            default_value=\"unknown\",\n",
    "            nullable=False,\n",
    "            cat_filters={\"source__uid\": phenotype_ontology.uid},\n",
    "        ).save(),\n",
    "    ],\n",
    ").save()\n",
    "# look at a dataframe of the features that are part of the schema\n",
    "schema.features.df()"
   ]
  },
  {
   "cell_type": "markdown",
   "metadata": {},
   "source": [
    "## Curate an example dataset"
   ]
  },
  {
   "cell_type": "markdown",
   "metadata": {},
   "source": [
    "Create an example `DataFrame` that has all required columns but one is misnamed."
   ]
  },
  {
   "cell_type": "code",
   "execution_count": null,
   "metadata": {
    "tags": [
     "hide-output"
    ]
   },
   "outputs": [],
   "source": [
    "dataset = {\n",
    "    \"disease\": pd.Categorical(\n",
    "        [\n",
    "            \"Alzheimer disease\",\n",
    "            \"diabetes mellitus\",\n",
    "            pd.NA,\n",
    "            \"Hypertension\",\n",
    "            \"asthma\",\n",
    "        ]\n",
    "    ),\n",
    "    \"phenotype\": pd.Categorical(\n",
    "        [\n",
    "            \"Mental deterioration\",\n",
    "            \"Hyperglycemia\",\n",
    "            \"Tumor growth\",\n",
    "            \"Increased blood pressure\",\n",
    "            \"Airway inflammation\",\n",
    "        ]\n",
    "    ),\n",
    "    \"developmental_stage\": pd.Categorical(\n",
    "        [\"Adult\", \"Adult\", \"Adult\", \"Adult\", \"Child\"]\n",
    "    ),\n",
    "    \"patient_age\": [70, 55, 60, 65, 12],\n",
    "}\n",
    "df = pd.DataFrame(dataset)\n",
    "df"
   ]
  },
  {
   "cell_type": "markdown",
   "metadata": {},
   "source": [
    "Let's validate it."
   ]
  },
  {
   "cell_type": "code",
   "execution_count": null,
   "metadata": {
    "tags": [
     "hide-output"
    ]
   },
   "outputs": [],
   "source": [
    "curator = ln.curators.DataFrameCurator(df, schema)\n",
    "try:\n",
    "    curator.validate()\n",
    "except ln.errors.ValidationError as e:\n",
    "    assert str(e).startswith(\"column 'age' not in dataframe\")\n",
    "    print(e)"
   ]
  },
  {
   "cell_type": "markdown",
   "metadata": {},
   "source": [
    "Fix the name of the `patient_age` column to be `age`."
   ]
  },
  {
   "cell_type": "code",
   "execution_count": null,
   "metadata": {
    "tags": [
     "hide-output"
    ]
   },
   "outputs": [],
   "source": [
    "df.columns = df.columns.str.replace(\"patient_age\", \"age\")\n",
    "try:\n",
    "    curator.validate()\n",
    "except ln.errors.ValidationError as e:\n",
    "    assert str(e).startswith(\"non-nullable series 'disease' contains null values\")\n",
    "    print(e)"
   ]
  },
  {
   "cell_type": "markdown",
   "metadata": {},
   "source": [
    "Standardize the dataframe so that the missing value gets populated with the default value."
   ]
  },
  {
   "cell_type": "code",
   "execution_count": null,
   "metadata": {},
   "outputs": [],
   "source": [
    "curator.standardize()\n",
    "try:\n",
    "    curator.validate()\n",
    "except ln.errors.ValidationError as e:\n",
    "    assert str(e).startswith(\n",
    "        \"2 terms are not validated: 'Tumor growth', 'Airway inflammation'\"\n",
    "    )\n",
    "    print(e)"
   ]
  },
  {
   "cell_type": "markdown",
   "metadata": {},
   "source": [
    "Add the 'normal' term to the disease registry."
   ]
  },
  {
   "cell_type": "code",
   "execution_count": null,
   "metadata": {},
   "outputs": [],
   "source": [
    "bt.Disease(name=\"normal\", description=\"Healthy condition\").save()"
   ]
  },
  {
   "cell_type": "markdown",
   "metadata": {},
   "source": [
    "Curate the remaining mismatches manually."
   ]
  },
  {
   "cell_type": "code",
   "execution_count": null,
   "metadata": {
    "tags": [
     "hide-output"
    ]
   },
   "outputs": [],
   "source": [
    "diseases = bt.Disease.public().lookup()\n",
    "phenotypes = bt.Phenotype.public().lookup()\n",
    "developmental_stages = bt.DevelopmentalStage.public().lookup()\n",
    "\n",
    "df[\"disease\"] = df[\"disease\"].cat.rename_categories(\n",
    "    {\"Hypertension\": diseases.hypertensive_disorder.name}\n",
    ")\n",
    "df[\"phenotype\"] = df[\"phenotype\"].cat.rename_categories(\n",
    "    {\n",
    "        \"Tumor growth\": phenotypes.neoplasm.name,\n",
    "        \"Airway inflammation\": phenotypes.bronchitis.name,\n",
    "    }\n",
    ")\n",
    "df[\"developmental_stage\"] = df[\"developmental_stage\"].cat.rename_categories(\n",
    "    {\n",
    "        \"Adult\": developmental_stages.adolescent_stage.name,\n",
    "        \"Child\": developmental_stages.child_stage.name,\n",
    "    }\n",
    ")\n",
    "\n",
    "curator.validate()"
   ]
  },
  {
   "cell_type": "code",
   "execution_count": null,
   "metadata": {
    "tags": [
     "hide-cell"
    ]
   },
   "outputs": [],
   "source": [
    "!rm -rf test-ehrschema\n",
    "!lamin delete --force test-ehrschema"
   ]
  }
 ],
 "metadata": {
  "kernelspec": {
   "display_name": "lamindb",
   "language": "python",
   "name": "python3"
  },
  "language_info": {
   "codemirror_mode": {
    "name": "ipython",
    "version": 3
   },
   "file_extension": ".py",
   "mimetype": "text/x-python",
   "name": "python",
   "nbconvert_exporter": "python",
   "pygments_lexer": "ipython3",
   "version": "3.12.8"
  }
 },
 "nbformat": 4,
 "nbformat_minor": 2
}
