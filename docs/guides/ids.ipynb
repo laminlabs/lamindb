{
 "cells": [
  {
   "cell_type": "markdown",
   "id": "972e17d0-df3f-4eb4-b54a-20d97e6a6a61",
   "metadata": {
    "tags": []
   },
   "source": [
    "# Base62 vs UUID ids"
   ]
  },
  {
   "cell_type": "markdown",
   "id": "a0a4295a-e414-4d36-bc47-2c4618db628b",
   "metadata": {},
   "source": [
    "For more background on this topic and the compute, see [lamin.ai/notes/2022/ids](https://lamin.ai/notes/2022/ids)."
   ]
  },
  {
   "cell_type": "code",
   "execution_count": null,
   "id": "c2375667-29f6-46eb-8814-37e240376bc0",
   "metadata": {},
   "outputs": [],
   "source": [
    "from uuid import UUID\n",
    "import base64\n",
    "from lnschema_core import id"
   ]
  },
  {
   "cell_type": "markdown",
   "id": "c1a9c9bc-b95d-4a19-85e3-4bad91cd61ea",
   "metadata": {},
   "source": [
    "Here are a few UUIDs."
   ]
  },
  {
   "cell_type": "code",
   "execution_count": null,
   "id": "216c9954-8eea-4090-90af-8d0832b74a65",
   "metadata": {},
   "outputs": [],
   "source": [
    "uuids = [\n",
    "    \"a59c5072d1c1474baa34870b46a24c77\",\n",
    "    \"7ff09b2c075e45bba68b227929f9f7e3\",\n",
    "    \"b1c40fc23bec419e9eb3497e2a50beed\",\n",
    "    \"fec1cfdefc5d4385bf078e946c802a88\",\n",
    "]"
   ]
  },
  {
   "cell_type": "markdown",
   "id": "a501beb4-f40e-4779-93b5-d6d619f2387c",
   "metadata": {},
   "source": [
    "For user IDs, we choose 8 base62 characters.\n",
    "\n",
    "This is enough to store 2e+14 IDs and has these collision probabilities (birthday problem) for 10k, 100k, and 1M users respectively:\n",
    "```\n",
    "n = 1e+04: p = 2e-07\n",
    "n = 1e+05: p = 2e-05\n",
    "n = 1e+06: p = 2e-03\n",
    "n = 1e+07: p = 2e-01\n",
    "n = 1e+08: p = 1e+00\n",
    "```\n",
    "\n",
    "Hence, even at 999 999 users, the chance that user #1M registers a colliding ID is only 2e-03.\n",
    "\n",
    "We're checking for uniqueness of these IDs upon user registration, and we'll likely not need to catch an error until we're beyond 1M users."
   ]
  },
  {
   "cell_type": "markdown",
   "id": "23f415d9-031f-4a3e-9585-b7e2c6c3e555",
   "metadata": {},
   "source": [
    "At first, we thought that a deterministic compute might as below might be cool as it allows to bypass a query if one has the UUID. "
   ]
  },
  {
   "cell_type": "code",
   "execution_count": null,
   "id": "3af3af6c-3233-46f7-9225-58a8704b1c90",
   "metadata": {},
   "outputs": [],
   "source": [
    "def base62_from_uuid(uuid: UUID, n_char: int):\n",
    "    \"\"\"Truncated and base62-mapped UUID.\n",
    "\n",
    "    Straight-forward convert from UUID to base62.\n",
    "    The reverse is not true as information is not conserved!\n",
    "    \"\"\"\n",
    "    uuid_b64 = base64.urlsafe_b64encode(uuid.bytes).decode(\"ascii\")\n",
    "    base64_truncate = uuid_b64[:n_char]\n",
    "    # the following will slightly favor 0 and 1 and therefore entropy\n",
    "    # isn't maximal in base62, but that's OK for us\n",
    "    base62_truncate = base64_truncate.replace(\"_\", \"0\").replace(\"-\", \"1\")\n",
    "    return base62_truncate"
   ]
  },
  {
   "cell_type": "code",
   "execution_count": null,
   "id": "ae2f51ac-7381-4dad-8dda-99d19cfe3563",
   "metadata": {},
   "outputs": [],
   "source": [
    "lnids = [base62_from_uuid(UUID(uuid), n_char=8) for uuid in uuids]"
   ]
  },
  {
   "cell_type": "code",
   "execution_count": null,
   "id": "6536cf31-cd73-4eee-a57a-0be238e867b1",
   "metadata": {},
   "outputs": [],
   "source": [
    "lnids"
   ]
  },
  {
   "cell_type": "code",
   "execution_count": null,
   "id": "dc76fdf3-1da9-4690-99f0-ddd775dd45da",
   "metadata": {
    "tags": [
     "hide-cell"
    ]
   },
   "outputs": [],
   "source": [
    "assert lnids == [\"pZxQctHB\", \"f0CbLAde\", \"scQPwjvs\", \"0sHP3vxd\"]"
   ]
  },
  {
   "cell_type": "markdown",
   "id": "a81af392-1de3-4bd3-8d92-84bed458b527",
   "metadata": {},
   "source": [
    "However, the query for the UUID in user table is always going to be fast, hence, we can also just go with a randomly generated 8 character base62 ID, as for all other entities.\n",
    "\n",
    "The random ID has the advantage that we can easily generated a few in case the uniqueness constraint fails every now and then at 1M users. And at 100M users, we can either use a smart suggestion for available IDs or expand to 9 characters. 😅"
   ]
  },
  {
   "cell_type": "markdown",
   "id": "2886abba-940a-4498-9685-7dffdb262b65",
   "metadata": {},
   "source": [
    "Hence, we'll just generate a random 8-char base62 along with the UUID for each new user."
   ]
  },
  {
   "cell_type": "code",
   "execution_count": null,
   "id": "848a77a9-74db-4b7b-a863-0d94e7b67d9a",
   "metadata": {},
   "outputs": [],
   "source": [
    "random_lnids = [id.id_user() for i in range(4)]"
   ]
  },
  {
   "cell_type": "code",
   "execution_count": null,
   "id": "66d76a16-feeb-49d3-a662-a04c1accce3b",
   "metadata": {},
   "outputs": [],
   "source": [
    "random_lnids"
   ]
  }
 ],
 "metadata": {
  "kernelspec": {
   "display_name": "Python 3 (ipykernel)",
   "language": "python",
   "name": "python3"
  },
  "language_info": {
   "codemirror_mode": {
    "name": "ipython",
    "version": 3
   },
   "file_extension": ".py",
   "mimetype": "text/x-python",
   "name": "python",
   "nbconvert_exporter": "python",
   "pygments_lexer": "ipython3",
   "version": "3.9.13"
  }
 },
 "nbformat": 4,
 "nbformat_minor": 5
}
