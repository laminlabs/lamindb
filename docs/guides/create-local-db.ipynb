{
 "cells": [
  {
   "cell_type": "markdown",
   "id": "2ea9fd55-0f27-4777-8a9c-f9a353fc6bc5",
   "metadata": {
    "tags": []
   },
   "source": [
    "# Create a local database"
   ]
  },
  {
   "cell_type": "markdown",
   "id": "036c3178-1d05-4497-b957-165d238c001a",
   "metadata": {},
   "source": [
    "Here, we're working both with local storage of files & a local sqlite database backend for managing queries, data versioning and schema versioning."
   ]
  },
  {
   "cell_type": "code",
   "execution_count": null,
   "id": "a98447b8-4323-429c-a9f3-6e3d9a4a76ea",
   "metadata": {},
   "outputs": [],
   "source": [
    "%load_ext autoreload\n",
    "%autoreload 2"
   ]
  },
  {
   "cell_type": "code",
   "execution_count": null,
   "id": "56ac9d46-cd5d-4f32-87b6-dbe84d7f64ca",
   "metadata": {},
   "outputs": [],
   "source": [
    "from nbproject import Header\n",
    "\n",
    "Header(filepath=\"create-local-db.ipynb\");"
   ]
  },
  {
   "cell_type": "markdown",
   "id": "1bb0d102-41ef-408a-894f-6093526ce9a2",
   "metadata": {},
   "source": [
    "## Setting up lamindb"
   ]
  },
  {
   "cell_type": "markdown",
   "id": "9f5270c9-b0eb-454f-9b1c-7a7c6b394408",
   "metadata": {},
   "source": [
    "Let us configure lamindb with a local directory for storing objects, and a local sqlite database for storing metadata of these objects."
   ]
  },
  {
   "cell_type": "code",
   "execution_count": null,
   "id": "b838c1de-0839-4a4a-ac88-bdd93fcb4fc9",
   "metadata": {},
   "outputs": [],
   "source": [
    "!lamindb configure --storage \"$HOME/mydata\""
   ]
  },
  {
   "cell_type": "markdown",
   "id": "7afe5cf3-9ef9-46a6-a98d-27c2b2f0ec9f",
   "metadata": {},
   "source": [
    "Create a database with an initial schema."
   ]
  },
  {
   "cell_type": "code",
   "execution_count": null,
   "id": "1aaf8e8d-cc5d-400d-b32b-8566ddae3dfe",
   "metadata": {},
   "outputs": [],
   "source": [
    "import lamindb as lndb"
   ]
  },
  {
   "cell_type": "markdown",
   "id": "21840a64-0fd2-4982-bb06-ed55d6e169cc",
   "metadata": {},
   "source": [
    "Create an on-disk representation of the database."
   ]
  },
  {
   "cell_type": "code",
   "execution_count": null,
   "id": "9b5829b7-d8d6-433e-b19d-4397200098fe",
   "metadata": {},
   "outputs": [],
   "source": [
    "lndb.db.meta.create()"
   ]
  },
  {
   "cell_type": "markdown",
   "id": "f1af9ea1-be73-4bdb-8f5a-529a7c2da9dc",
   "metadata": {},
   "source": [
    "## Ingesting a first data file"
   ]
  },
  {
   "cell_type": "code",
   "execution_count": null,
   "id": "0683c7fb-510e-43a3-b522-54a7f318ad32",
   "metadata": {},
   "outputs": [],
   "source": [
    "import scanpy as sc"
   ]
  },
  {
   "cell_type": "code",
   "execution_count": null,
   "id": "aa34b8e5-1c1e-47ef-994e-04b96453d3ee",
   "metadata": {},
   "outputs": [],
   "source": [
    "adata = sc.datasets.pbmc68k_reduced()"
   ]
  },
  {
   "cell_type": "markdown",
   "id": "28082986-5897-4777-b1cd-8b0780aa6c55",
   "metadata": {},
   "source": [
    "Let's write it to some obscure location."
   ]
  },
  {
   "cell_type": "code",
   "execution_count": null,
   "id": "bd0622e4-2b33-4e91-8b7e-ea9d59c6b0f4",
   "metadata": {},
   "outputs": [],
   "source": [
    "adata.write(\"scanpy_pbmc68k_reduced.h5ad\")"
   ]
  },
  {
   "cell_type": "code",
   "execution_count": null,
   "id": "6b36d18b-c735-46fc-aaca-be0e96aac2fd",
   "metadata": {},
   "outputs": [],
   "source": [
    "lnid = lndb.ingest(\"scanpy_pbmc68k_reduced.h5ad\")"
   ]
  },
  {
   "cell_type": "markdown",
   "id": "34be1170-5088-4f93-bc5a-c4158aaafa1e",
   "metadata": {},
   "source": [
    "Having a look into our data storage, we'll see both the data file we just ingested, and the `.lndb` file that stores the database with all the information for managing the directory."
   ]
  },
  {
   "cell_type": "code",
   "execution_count": null,
   "id": "14822ea7-501f-496e-922e-714c0fb02d90",
   "metadata": {},
   "outputs": [],
   "source": [
    "!ls -lh ~/mydata"
   ]
  }
 ],
 "metadata": {
  "kernelspec": {
   "display_name": "Python 3 (ipykernel)",
   "language": "python",
   "name": "python3"
  },
  "language_info": {
   "codemirror_mode": {
    "name": "ipython",
    "version": 3
   },
   "file_extension": ".py",
   "mimetype": "text/x-python",
   "name": "python",
   "nbconvert_exporter": "python",
   "pygments_lexer": "ipython3",
   "version": "3.9.7"
  },
  "nbproject": {
   "time_init": "2022-06-06T14:21:53.139621+00:00",
   "uid": "tCnjF9Hs8h65"
  }
 },
 "nbformat": 4,
 "nbformat_minor": 5
}
