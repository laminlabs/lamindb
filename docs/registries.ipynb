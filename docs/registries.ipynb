{
 "cells": [
  {
   "attachments": {},
   "cell_type": "markdown",
   "id": "21d1f73c",
   "metadata": {},
   "source": [
    "# Query & search registries"
   ]
  },
  {
   "cell_type": "markdown",
   "id": "2079f103",
   "metadata": {},
   "source": [
    "This guide walks through all the ways of finding metadata records in LaminDB registries."
   ]
  },
  {
   "cell_type": "code",
   "execution_count": null,
   "id": "03242699",
   "metadata": {
    "tags": [
     "hide-output"
    ]
   },
   "outputs": [],
   "source": [
    "# !pip install lamindb\n",
    "!lamin init --storage ./test-registries"
   ]
  },
  {
   "cell_type": "markdown",
   "id": "86abfd19",
   "metadata": {},
   "source": [
    "We'll need some toy data."
   ]
  },
  {
   "cell_type": "code",
   "execution_count": null,
   "id": "3ba53765",
   "metadata": {
    "tags": [
     "hide-output"
    ]
   },
   "outputs": [],
   "source": [
    "import lamindb as ln\n",
    "\n",
    "# create toy data\n",
    "ln.Artifact(ln.core.datasets.file_jpg_paradisi05(), description=\"My image\").save()\n",
    "ln.Artifact.from_df(ln.core.datasets.df_iris(), description=\"The iris collection\").save()\n",
    "ln.Artifact(ln.core.datasets.file_fastq(), description=\"My fastq\").save()\n",
    "\n",
    "# see the content of the artifact registry\n",
    "ln.Artifact.df()"
   ]
  },
  {
   "attachments": {},
   "cell_type": "markdown",
   "id": "bbda4807",
   "metadata": {},
   "source": [
    "## Look up metadata"
   ]
  },
  {
   "attachments": {},
   "cell_type": "markdown",
   "id": "5cb551b4",
   "metadata": {},
   "source": [
    "For registries with less than 100k records, auto-completing a `Lookup` object is the most convenient way of finding a record.\n",
    "\n",
    "For example, take the `User` registry:"
   ]
  },
  {
   "cell_type": "code",
   "execution_count": null,
   "id": "01e2465f",
   "metadata": {
    "tags": [
     "hide-output"
    ]
   },
   "outputs": [],
   "source": [
    "# query the database for all users, optionally pass the field that creates the key\n",
    "users = ln.User.lookup(field=\"handle\")\n",
    "\n",
    "# the lookup object is a NamedTuple\n",
    "users"
   ]
  },
  {
   "attachments": {},
   "cell_type": "markdown",
   "id": "82a31938",
   "metadata": {},
   "source": [
    "With auto-complete, we find a specific user record:"
   ]
  },
  {
   "cell_type": "code",
   "execution_count": null,
   "id": "31853b49",
   "metadata": {
    "tags": [
     "hide-output"
    ]
   },
   "outputs": [],
   "source": [
    "user = users.testuser1\n",
    "user"
   ]
  },
  {
   "cell_type": "markdown",
   "id": "bf7e1415",
   "metadata": {},
   "source": [
    "You can also get a dictionary:"
   ]
  },
  {
   "cell_type": "code",
   "execution_count": null,
   "id": "04130d47",
   "metadata": {
    "tags": [
     "hide-output"
    ]
   },
   "outputs": [],
   "source": [
    "users_dict = ln.User.lookup().dict()\n",
    "users_dict"
   ]
  },
  {
   "cell_type": "markdown",
   "id": "d54676dd",
   "metadata": {},
   "source": [
    "## Query exactly one record"
   ]
  },
  {
   "cell_type": "markdown",
   "id": "ba40b102",
   "metadata": {},
   "source": [
    "{class}`~lamindb.core.Record.get` errors if more than one matching records are found."
   ]
  },
  {
   "cell_type": "code",
   "execution_count": null,
   "id": "463ff17c",
   "metadata": {
    "tags": [
     "hide-output"
    ]
   },
   "outputs": [],
   "source": [
    "# by the universal base62 uid\n",
    "ln.User.get(\"DzTjkKse\")\n",
    "\n",
    "# by any expression involving fields\n",
    "ln.User.get(handle=\"testuser1\")"
   ]
  },
  {
   "attachments": {},
   "cell_type": "markdown",
   "id": "45ac3b5c",
   "metadata": {},
   "source": [
    "## Query sets of records"
   ]
  },
  {
   "attachments": {},
   "cell_type": "markdown",
   "id": "02b75183",
   "metadata": {},
   "source": [
    "Filter for all artifacts created by a user:"
   ]
  },
  {
   "cell_type": "code",
   "execution_count": null,
   "id": "33c8e061",
   "metadata": {
    "tags": [
     "hide-output"
    ]
   },
   "outputs": [],
   "source": [
    "ln.Artifact.filter(created_by=user).df()"
   ]
  },
  {
   "attachments": {},
   "cell_type": "markdown",
   "id": "02d03b90",
   "metadata": {},
   "source": [
    "To access the results encoded in a filter statement, execute its return value with one of:\n",
    "\n",
    "- `.df()`: A pandas `DataFrame` with each record in a row.\n",
    "- `.all()`: A {class}`~lamindb.core.QuerySet`.\n",
    "- `.one()`: Exactly one record. Will raise an error if there is none. Is equivalent to the `.get()` method shown above.\n",
    "- `.one_or_none()`: Either one record or `None` if there is no query result."
   ]
  },
  {
   "cell_type": "markdown",
   "id": "b762efad",
   "metadata": {},
   "source": [
    "```{note}\n",
    "\n",
    "{meth}`~lamindb.core.Record.filter` returns a {class}`~lamindb.core.QuerySet`.\n",
    "\n",
    "The ORMs in LaminDB are Django Models and any [Django query](https://docs.djangoproject.com/en/stable/topics/db/queries/) works. LaminDB extends Django's API for data scientists.\n",
    "\n",
    "Under the hood, any `.filter()` call translates into a SQL select statement.\n",
    "\n",
    "`.one()` and `.one_or_none()` are two parts of LaminDB's API that are borrowed from SQLAlchemy.\n",
    "\n",
    "```"
   ]
  },
  {
   "attachments": {},
   "cell_type": "markdown",
   "id": "8edf4a74",
   "metadata": {},
   "source": [
    "## Search for records"
   ]
  },
  {
   "cell_type": "markdown",
   "id": "a925a678",
   "metadata": {},
   "source": [
    "Search the toy data:"
   ]
  },
  {
   "cell_type": "code",
   "execution_count": null,
   "id": "7ccda1e1",
   "metadata": {
    "tags": [
     "hide-output"
    ]
   },
   "outputs": [],
   "source": [
    "ln.Artifact.search(\"iris\").df()"
   ]
  },
  {
   "attachments": {},
   "cell_type": "markdown",
   "id": "b8ba2bfe",
   "metadata": {},
   "source": [
    "Let us create 500 notebook objects with fake titles, save, and search them:"
   ]
  },
  {
   "cell_type": "code",
   "execution_count": null,
   "id": "4b0b0c0c",
   "metadata": {
    "tags": [
     "hide-output"
    ]
   },
   "outputs": [],
   "source": [
    "transforms = [ln.Transform(name=title, type=\"notebook\") for title in ln.core.datasets.fake_bio_notebook_titles(n=500)]\n",
    "ln.save(transforms)\n",
    "\n",
    "# search\n",
    "ln.Transform.search(\"intestine\").df().head(5)"
   ]
  },
  {
   "cell_type": "markdown",
   "id": "4ba825ab",
   "metadata": {},
   "source": [
    "```{note}\n",
    "\n",
    "Currently, the LaminHub UI search is more powerful than the search of the `lamindb` open-source package.\n",
    "\n",
    "```"
   ]
  },
  {
   "attachments": {},
   "cell_type": "markdown",
   "id": "f85478c0",
   "metadata": {},
   "source": [
    "## Leverage relations"
   ]
  },
  {
   "attachments": {},
   "cell_type": "markdown",
   "id": "ed153341",
   "metadata": {},
   "source": [
    "Django has a double-under-score syntax to filter based on related tables.\n",
    "\n",
    "This syntax enables you to traverse several layers of relations and leverage different comparators."
   ]
  },
  {
   "cell_type": "code",
   "execution_count": null,
   "id": "7f9ce71b",
   "metadata": {
    "tags": [
     "hide-output"
    ]
   },
   "outputs": [],
   "source": [
    "ln.Artifact.filter(created_by__handle__startswith=\"testuse\").df()  "
   ]
  },
  {
   "attachments": {},
   "cell_type": "markdown",
   "id": "8aa6378a",
   "metadata": {},
   "source": [
    "The filter selects all artifacts based on the users who ran the generating notebook.\n",
    "\n",
    "Under the hood, in the SQL database, it's joining the artifact table with the run and the user table.\n",
    "\n"
   ]
  },
  {
   "cell_type": "markdown",
   "id": "dc54f4f6",
   "metadata": {},
   "source": [
    "## Comparators"
   ]
  },
  {
   "attachments": {},
   "cell_type": "markdown",
   "id": "28710b83",
   "metadata": {},
   "source": [
    "You can qualify the type of comparison in a query by using a comparator.\n",
    "\n",
    "Below follows a list of the most import, but Django supports about [two dozen field comparators](https://docs.djangoproject.com/en/stable/ref/models/querysets/#field-lookups) `field__comparator=value`."
   ]
  },
  {
   "attachments": {},
   "cell_type": "markdown",
   "id": "d8853dbc",
   "metadata": {},
   "source": [
    "### and"
   ]
  },
  {
   "cell_type": "code",
   "execution_count": null,
   "id": "5b6ec3ca-bea4-4097-897b-94322a64506a",
   "metadata": {
    "tags": [
     "hide-output"
    ]
   },
   "outputs": [],
   "source": [
    "ln.Artifact.filter(suffix=\".jpg\", created_by=user).df()"
   ]
  },
  {
   "attachments": {},
   "cell_type": "markdown",
   "id": "a321d806",
   "metadata": {},
   "source": [
    "### less than/ greater than"
   ]
  },
  {
   "attachments": {},
   "cell_type": "markdown",
   "id": "fdd61cf1-d3c7-4bfb-a0b2-14e81201db03",
   "metadata": {},
   "source": [
    "Or subset to artifacts smaller than 10kB. Here, we can't use keyword arguments, but need an explicit where statement."
   ]
  },
  {
   "cell_type": "code",
   "execution_count": null,
   "id": "a7f73e99-614d-443b-b8a1-f1acea0f1538",
   "metadata": {
    "tags": [
     "hide-output"
    ]
   },
   "outputs": [],
   "source": [
    "ln.Artifact.filter(created_by=user, size__lt=1e4).df()"
   ]
  },
  {
   "attachments": {},
   "cell_type": "markdown",
   "id": "3c4e5bbb",
   "metadata": {},
   "source": [
    "### in"
   ]
  },
  {
   "cell_type": "code",
   "execution_count": null,
   "id": "fd26b709",
   "metadata": {
    "tags": [
     "hide-output"
    ]
   },
   "outputs": [],
   "source": [
    "ln.Artifact.filter(suffix__in=[\".jpg\", \".fastq.gz\"]).df()"
   ]
  },
  {
   "attachments": {},
   "cell_type": "markdown",
   "id": "e6332e01",
   "metadata": {},
   "source": [
    "### order by"
   ]
  },
  {
   "cell_type": "code",
   "execution_count": null,
   "id": "b87bec42",
   "metadata": {
    "tags": [
     "hide-output"
    ]
   },
   "outputs": [],
   "source": [
    "ln.Artifact.filter().order_by(\"-updated_at\").df()"
   ]
  },
  {
   "attachments": {},
   "cell_type": "markdown",
   "id": "d35dd13b",
   "metadata": {},
   "source": [
    "### contains"
   ]
  },
  {
   "cell_type": "code",
   "execution_count": null,
   "id": "214b9a56",
   "metadata": {
    "tags": [
     "hide-output"
    ]
   },
   "outputs": [],
   "source": [
    "ln.Transform.filter(name__contains=\"search\").df().head(5)"
   ]
  },
  {
   "cell_type": "markdown",
   "id": "b161e360",
   "metadata": {},
   "source": [
    "And case-insensitive:"
   ]
  },
  {
   "cell_type": "code",
   "execution_count": null,
   "id": "36d300b1",
   "metadata": {
    "tags": [
     "hide-output"
    ]
   },
   "outputs": [],
   "source": [
    "ln.Transform.filter(name__icontains=\"Search\").df().head(5)"
   ]
  },
  {
   "attachments": {},
   "cell_type": "markdown",
   "id": "c403a644",
   "metadata": {},
   "source": [
    "### startswith"
   ]
  },
  {
   "cell_type": "code",
   "execution_count": null,
   "id": "32fc9bd7",
   "metadata": {
    "tags": [
     "hide-output"
    ]
   },
   "outputs": [],
   "source": [
    "ln.Transform.filter(name__startswith=\"Research\").df()"
   ]
  },
  {
   "cell_type": "markdown",
   "id": "c621ad18",
   "metadata": {},
   "source": [
    "### or"
   ]
  },
  {
   "cell_type": "code",
   "execution_count": null,
   "id": "cf35d05f",
   "metadata": {
    "tags": [
     "hide-output"
    ]
   },
   "outputs": [],
   "source": [
    "ln.Artifact.filter(ln.Q(suffix=\".jpg\") | ln.Q(suffix=\".fastq.gz\")).df()"
   ]
  },
  {
   "cell_type": "markdown",
   "id": "6bf07110",
   "metadata": {},
   "source": [
    "### negate/ unequal"
   ]
  },
  {
   "cell_type": "code",
   "execution_count": null,
   "id": "7b8724e1",
   "metadata": {
    "tags": [
     "hide-output"
    ]
   },
   "outputs": [],
   "source": [
    "ln.Artifact.filter(~ln.Q(suffix=\".jpg\")).df()"
   ]
  },
  {
   "cell_type": "markdown",
   "id": "ffb9c7a9",
   "metadata": {},
   "source": [
    "Clean up the test instance."
   ]
  },
  {
   "cell_type": "code",
   "execution_count": null,
   "id": "72b03f8b",
   "metadata": {
    "tags": [
     "hide-output"
    ]
   },
   "outputs": [],
   "source": [
    "!rm -r ./test-registries\n",
    "!lamin delete --force test-registries"
   ]
  }
 ],
 "metadata": {
  "kernelspec": {
   "display_name": "Python 3 (ipykernel)",
   "language": "python",
   "name": "python3"
  },
  "language_info": {
   "codemirror_mode": {
    "name": "ipython",
    "version": 3
   },
   "file_extension": ".py",
   "mimetype": "text/x-python",
   "name": "python",
   "nbconvert_exporter": "python",
   "pygments_lexer": "ipython3",
   "version": "3.10.13"
  },
  "vscode": {
   "interpreter": {
    "hash": "ae1fefc8646a06dd2e75004cd934adda7c5727b046986a772e3b44b0ffba9754"
   }
  }
 },
 "nbformat": 4,
 "nbformat_minor": 5
}
