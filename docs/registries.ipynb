{
 "cells": [
  {
   "cell_type": "markdown",
   "id": "0a706415",
   "metadata": {},
   "source": [
    "[![Jupyter Notebook](https://img.shields.io/badge/Source%20on%20GitHub-orange)](https://github.com/laminlabs/lamindb/blob/main/docs/registries.ipynb)"
   ]
  },
  {
   "attachments": {},
   "cell_type": "markdown",
   "id": "21d1f73c",
   "metadata": {},
   "source": [
    "# Query & search registries"
   ]
  },
  {
   "cell_type": "markdown",
   "id": "2079f103",
   "metadata": {},
   "source": [
    "This guide walks through different ways of querying & searching LaminDB registries."
   ]
  },
  {
   "cell_type": "markdown",
   "id": "86abfd19",
   "metadata": {},
   "source": [
    "Let's start by creating a few exemplary datasets and saving them into a LaminDB instance (hidden cell)."
   ]
  },
  {
   "cell_type": "code",
   "execution_count": null,
   "id": "3ba53765",
   "metadata": {
    "tags": [
     "hide-cell"
    ]
   },
   "outputs": [],
   "source": [
    "# !pip install 'lamindb[bionty]'\n",
    "!lamin init --storage ./test-registries --schema bionty\n",
    "\n",
    "# python\n",
    "import lamindb as ln\n",
    "import bionty as bt\n",
    "from lamindb.core import datasets\n",
    "\n",
    "ln.track(\"pd7UR7Z8hoTq0000\")\n",
    "\n",
    "# Create non-curated datasets\n",
    "ln.Artifact(datasets.file_jpg_paradisi05(), key=\"images/my_image.jpg\").save()\n",
    "ln.Artifact(datasets.file_fastq(), key=\"raw/my_fastq.fastq\").save()\n",
    "ln.Artifact.from_df(datasets.df_iris(), key=\"iris/iris_collection.parquet\").save()\n",
    "\n",
    "# Create a more complex case\n",
    "# observation-level metadata\n",
    "ln.Feature(name=\"cell_medium\", dtype=\"cat[ULabel]\").save()\n",
    "ln.Feature(name=\"sample_note\", dtype=\"str\").save()\n",
    "ln.Feature(name=\"cell_type_by_expert\", dtype=\"cat[bionty.CellType]\").save()\n",
    "ln.Feature(name=\"cell_type_by_model\", dtype=\"cat[bionty.CellType]\").save()\n",
    "# dataset-level metadata\n",
    "ln.Feature(name=\"temperature\", dtype=\"float\").save()\n",
    "ln.Feature(name=\"study\", dtype=\"cat[ULabel]\").save()\n",
    "ln.Feature(name=\"date_of_study\", dtype=\"date\").save()\n",
    "ln.Feature(name=\"study_note\", dtype=\"str\").save()\n",
    "\n",
    "## Permissible values for categoricals\n",
    "ln.ULabel.from_values([\"DMSO\", \"IFNG\"], create=True).save()\n",
    "ln.ULabel.from_values(\n",
    "    [\"Candidate marker study 1\", \"Candidate marker study 2\"], create=True\n",
    ").save()\n",
    "bt.CellType.from_values([\"B cell\", \"T cell\"], create=True).save()\n",
    "\n",
    "# Ingest dataset1\n",
    "adata = datasets.small_dataset1(format=\"anndata\")\n",
    "curator = ln.Curator.from_anndata(\n",
    "    adata,\n",
    "    var_index=bt.Gene.symbol,\n",
    "    categoricals={\n",
    "        \"cell_medium\": ln.ULabel.name,\n",
    "        \"cell_type_by_expert\": bt.CellType.name,\n",
    "        \"cell_type_by_model\": bt.CellType.name,\n",
    "    },\n",
    "    organism=\"human\",\n",
    ")\n",
    "artifact = curator.save_artifact(key=\"example_datasets/dataset1.h5ad\")\n",
    "artifact.features.add_values(adata.uns)\n",
    "\n",
    "# Ingest dataset2\n",
    "adata2 = datasets.small_dataset2(format=\"anndata\")\n",
    "curator = ln.Curator.from_anndata(adata2, var_index=bt.Gene.symbol, categoricals={\"cell_medium\": ln.ULabel.name, \"cell_type_by_model\": bt.CellType.name}, organism=\"human\")\n",
    "artifact2 = curator.save_artifact(key=\"example_datasets/dataset2.h5ad\")\n",
    "artifact2.features.add_values(adata2.uns)"
   ]
  },
  {
   "cell_type": "markdown",
   "id": "36b8d44a",
   "metadata": {},
   "source": [
    "## Get an overview"
   ]
  },
  {
   "cell_type": "markdown",
   "id": "c6410d93",
   "metadata": {},
   "source": [
    "The easiest way to get an overview over all artifacts is by typing {meth}`~lamindb.Artifact.df`, which returns the 100 latest artifacts in the {class}`~lamindb.Artifact` registry."
   ]
  },
  {
   "cell_type": "code",
   "execution_count": null,
   "id": "4413cc02",
   "metadata": {
    "tags": [
     "hide-output"
    ]
   },
   "outputs": [],
   "source": [
    "import lamindb as ln\n",
    "\n",
    "ln.Artifact.df()"
   ]
  },
  {
   "cell_type": "markdown",
   "id": "682d8295",
   "metadata": {},
   "source": [
    "You can include fields from other registries."
   ]
  },
  {
   "cell_type": "code",
   "execution_count": null,
   "id": "462284cc",
   "metadata": {
    "tags": [
     "hide-output"
    ]
   },
   "outputs": [],
   "source": [
    "ln.Artifact.df(include=[\"created_by__name\", \"ulabels__name\", \"cell_types__name\", \"feature_sets__registry\", \"suffix\"])"
   ]
  },
  {
   "cell_type": "markdown",
   "id": "aa3954d7",
   "metadata": {},
   "source": [
    "You can include information about which artifact measures which `feature`."
   ]
  },
  {
   "cell_type": "code",
   "execution_count": null,
   "id": "061047fb",
   "metadata": {
    "tags": [
     "hide-output"
    ]
   },
   "outputs": [],
   "source": [
    "df = ln.Artifact.df(features=True)\n",
    "ln.view(df)  # for clarity, leverage ln.view() to display dtype annotations"
   ]
  },
  {
   "cell_type": "markdown",
   "id": "82f563e0",
   "metadata": {},
   "source": [
    "The flattened table that includes information from all relevant registries is easier to understand than the normalized data. For comparison, here is how to see the later."
   ]
  },
  {
   "cell_type": "code",
   "execution_count": null,
   "id": "a9c04f85",
   "metadata": {
    "tags": [
     "hide-output"
    ]
   },
   "outputs": [],
   "source": [
    "ln.view()"
   ]
  },
  {
   "attachments": {},
   "cell_type": "markdown",
   "id": "bbda4807",
   "metadata": {},
   "source": [
    "## Auto-complete records"
   ]
  },
  {
   "attachments": {},
   "cell_type": "markdown",
   "id": "5cb551b4",
   "metadata": {},
   "source": [
    "For registries with less than 100k records, auto-completing a `Lookup` object is the most convenient way of finding a record."
   ]
  },
  {
   "cell_type": "code",
   "execution_count": null,
   "id": "01e2465f",
   "metadata": {
    "tags": [
     "hide-output"
    ]
   },
   "outputs": [],
   "source": [
    "import bionty as bt\n",
    "\n",
    "# query the database for all ulabels or all cell types\n",
    "ulabels = ln.ULabel.lookup()\n",
    "cell_types = bt.CellType.lookup()"
   ]
  },
  {
   "cell_type": "markdown",
   "id": "24926aa1",
   "metadata": {},
   "source": [
    ":::{dropdown} Show me a screenshot\n",
    "\n",
    "<img src=\"https://lamin-site-assets.s3.amazonaws.com/.lamindb/lgRNHNtMxjU0y8nIagt7.png\" width=\"400px\">\n",
    "\n",
    ":::"
   ]
  },
  {
   "attachments": {},
   "cell_type": "markdown",
   "id": "82a31938",
   "metadata": {},
   "source": [
    "With auto-complete, we find a ulabel:"
   ]
  },
  {
   "cell_type": "code",
   "execution_count": null,
   "id": "31853b49",
   "metadata": {
    "tags": [
     "hide-output"
    ]
   },
   "outputs": [],
   "source": [
    "study1 = ulabels.candidate_marker_study_1\n",
    "study1"
   ]
  },
  {
   "cell_type": "markdown",
   "id": "d54676dd",
   "metadata": {},
   "source": [
    "## Get one record"
   ]
  },
  {
   "cell_type": "markdown",
   "id": "ba40b102",
   "metadata": {},
   "source": [
    "{class}`~lamindb.core.Record.get` errors if more than one matching records are found."
   ]
  },
  {
   "cell_type": "code",
   "execution_count": null,
   "id": "463ff17c",
   "metadata": {
    "tags": [
     "hide-output"
    ]
   },
   "outputs": [],
   "source": [
    "print(study1.uid)\n",
    "\n",
    "# by uid\n",
    "ln.ULabel.get(study1.uid)\n",
    "\n",
    "# by field\n",
    "ln.ULabel.get(name=\"Candidate marker study 1\")"
   ]
  },
  {
   "attachments": {},
   "cell_type": "markdown",
   "id": "45ac3b5c",
   "metadata": {},
   "source": [
    "## Query multiple records"
   ]
  },
  {
   "attachments": {},
   "cell_type": "markdown",
   "id": "02b75183",
   "metadata": {},
   "source": [
    "Filter for all artifacts annotated by a ulabel:"
   ]
  },
  {
   "cell_type": "code",
   "execution_count": null,
   "id": "33c8e061",
   "metadata": {
    "tags": [
     "hide-output"
    ]
   },
   "outputs": [],
   "source": [
    "ln.Artifact.filter(ulabels=study1).df()"
   ]
  },
  {
   "attachments": {},
   "cell_type": "markdown",
   "id": "02d03b90",
   "metadata": {},
   "source": [
    "To access the results encoded in a filter statement, execute its return value with one of:\n",
    "\n",
    "- {meth}`~lamindb.core.QuerySet.df`: A pandas `DataFrame` with each record in a row.\n",
    "- {meth}`~lamindb.core.QuerySet.all`: A {class}`~lamindb.core.QuerySet`.\n",
    "- {meth}`~lamindb.core.QuerySet.one`: Exactly one record. Will raise an error if there is none. Is equivalent to the `.get()` method shown above.\n",
    "- {meth}`~lamindb.core.QuerySet.one_or_none`: Either one record or `None` if there is no query result."
   ]
  },
  {
   "cell_type": "markdown",
   "id": "b762efad",
   "metadata": {},
   "source": [
    "```{note}\n",
    "\n",
    "{meth}`~lamindb.core.Record.filter` returns a {class}`~lamindb.core.QuerySet`.\n",
    "\n",
    "The registries in LaminDB are Django Models and any [Django query](https://docs.djangoproject.com/en/stable/topics/db/queries/) works.\n",
    "\n",
    "LaminDB re-interprets Django's API for data scientists.\n",
    "\n",
    "```\n",
    "\n",
    "```{dropdown} What does this have to do with SQL?\n",
    "\n",
    "Under the hood, any `.filter()` call translates into a SQL select statement.\n",
    "\n",
    "LaminDB's registries are object relational mappers (ORMs) that rely on Django for all the heavy lifting.\n",
    "\n",
    "Of note, `.one()` and `.one_or_none()` are the two parts of LaminDB's API that are borrowed from SQLAlchemy. In its first year, LaminDB built on SQLAlchemy.\n",
    "\n",
    "```"
   ]
  },
  {
   "attachments": {},
   "cell_type": "markdown",
   "id": "8edf4a74",
   "metadata": {},
   "source": [
    "## Search for records"
   ]
  },
  {
   "cell_type": "markdown",
   "id": "a925a678",
   "metadata": {},
   "source": [
    "You can search every registry via {meth}`~lamindb.core.Record.search`. For example, the `Artifact` registry."
   ]
  },
  {
   "cell_type": "code",
   "execution_count": null,
   "id": "7ccda1e1",
   "metadata": {
    "tags": [
     "hide-output"
    ]
   },
   "outputs": [],
   "source": [
    "ln.Artifact.search(\"iris\").df()"
   ]
  },
  {
   "cell_type": "markdown",
   "id": "ed43c3fa",
   "metadata": {},
   "source": [
    "Here is more background on search and examples for searching the entire cell type ontology: {doc}`/faq/search` "
   ]
  },
  {
   "attachments": {},
   "cell_type": "markdown",
   "id": "f85478c0",
   "metadata": {},
   "source": [
    "## Query related registries"
   ]
  },
  {
   "attachments": {},
   "cell_type": "markdown",
   "id": "ed153341",
   "metadata": {},
   "source": [
    "Django has a double-under-score syntax to filter based on related tables.\n",
    "\n",
    "This syntax enables you to traverse several layers of relations and leverage different comparators."
   ]
  },
  {
   "cell_type": "code",
   "execution_count": null,
   "id": "7f9ce71b",
   "metadata": {
    "tags": [
     "hide-output"
    ]
   },
   "outputs": [],
   "source": [
    "ln.Artifact.filter(created_by__handle__startswith=\"testuse\").df()  "
   ]
  },
  {
   "attachments": {},
   "cell_type": "markdown",
   "id": "8aa6378a",
   "metadata": {},
   "source": [
    "The filter selects all artifacts based on the users who ran the generating notebook. Under the hood, in the SQL database, it's joining the artifact table with the user table.\n",
    "\n",
    "Another typical example is querying all datasets that measure a particular feature. For instance, which datasets measure `\"CD8A\"`. Here is how to do it:"
   ]
  },
  {
   "cell_type": "code",
   "execution_count": null,
   "id": "32cda0d5",
   "metadata": {
    "tags": [
     "hide-output"
    ]
   },
   "outputs": [],
   "source": [
    "cd8a = bt.Gene.get(symbol=\"CD8A\")\n",
    "# query for all feature sets that contain CD8A\n",
    "feature_sets_with_cd8a = ln.FeatureSet.filter(genes=cd8a).all()\n",
    "# get all artifacts \n",
    "ln.Artifact.filter(feature_sets__in=feature_sets_with_cd8a).df()"
   ]
  },
  {
   "cell_type": "markdown",
   "id": "1fe9bef9",
   "metadata": {},
   "source": [
    "Instead of splitting this across three queries, the double-underscore syntax allows you to define a path for one query."
   ]
  },
  {
   "cell_type": "code",
   "execution_count": null,
   "id": "c338cf8e",
   "metadata": {
    "tags": [
     "hide-output"
    ]
   },
   "outputs": [],
   "source": [
    "ln.Artifact.filter(feature_sets__genes__symbol=\"CD8A\").df()"
   ]
  },
  {
   "cell_type": "markdown",
   "id": "dc54f4f6",
   "metadata": {},
   "source": [
    "## Filter operators"
   ]
  },
  {
   "attachments": {},
   "cell_type": "markdown",
   "id": "28710b83",
   "metadata": {},
   "source": [
    "You can qualify the type of comparison in a query by using a comparator.\n",
    "\n",
    "Below follows a list of the most import, but Django supports about [two dozen field comparators](https://docs.djangoproject.com/en/stable/ref/models/querysets/#field-lookups) `field__comparator=value`."
   ]
  },
  {
   "attachments": {},
   "cell_type": "markdown",
   "id": "d8853dbc",
   "metadata": {},
   "source": [
    "### and"
   ]
  },
  {
   "cell_type": "code",
   "execution_count": null,
   "id": "5b6ec3ca-bea4-4097-897b-94322a64506a",
   "metadata": {
    "tags": [
     "hide-output"
    ]
   },
   "outputs": [],
   "source": [
    "ln.Artifact.filter(suffix=\".h5ad\", ulabels=study1).df()"
   ]
  },
  {
   "attachments": {},
   "cell_type": "markdown",
   "id": "a321d806",
   "metadata": {},
   "source": [
    "### less than/ greater than"
   ]
  },
  {
   "attachments": {},
   "cell_type": "markdown",
   "id": "fdd61cf1-d3c7-4bfb-a0b2-14e81201db03",
   "metadata": {},
   "source": [
    "Or subset to artifacts greater than 10kB. Here, we can't use keyword arguments, but need an explicit where statement."
   ]
  },
  {
   "cell_type": "code",
   "execution_count": null,
   "id": "a7f73e99-614d-443b-b8a1-f1acea0f1538",
   "metadata": {
    "tags": [
     "hide-output"
    ]
   },
   "outputs": [],
   "source": [
    "ln.Artifact.filter(ulabels=study1, size__gt=1e4).df()"
   ]
  },
  {
   "attachments": {},
   "cell_type": "markdown",
   "id": "3c4e5bbb",
   "metadata": {},
   "source": [
    "### in"
   ]
  },
  {
   "cell_type": "code",
   "execution_count": null,
   "id": "fd26b709",
   "metadata": {
    "tags": [
     "hide-output"
    ]
   },
   "outputs": [],
   "source": [
    "ln.Artifact.filter(suffix__in=[\".jpg\", \".fastq.gz\"]).df()"
   ]
  },
  {
   "attachments": {},
   "cell_type": "markdown",
   "id": "e6332e01",
   "metadata": {},
   "source": [
    "### order by"
   ]
  },
  {
   "cell_type": "code",
   "execution_count": null,
   "id": "b87bec42",
   "metadata": {
    "tags": [
     "hide-output"
    ]
   },
   "outputs": [],
   "source": [
    "ln.Artifact.filter().order_by(\"-created_at\").df()"
   ]
  },
  {
   "attachments": {},
   "cell_type": "markdown",
   "id": "d35dd13b",
   "metadata": {},
   "source": [
    "### contains"
   ]
  },
  {
   "cell_type": "code",
   "execution_count": null,
   "id": "214b9a56",
   "metadata": {
    "tags": [
     "hide-output"
    ]
   },
   "outputs": [],
   "source": [
    "ln.Transform.filter(name__contains=\"search\").df().head(5)"
   ]
  },
  {
   "cell_type": "markdown",
   "id": "b161e360",
   "metadata": {},
   "source": [
    "And case-insensitive:"
   ]
  },
  {
   "cell_type": "code",
   "execution_count": null,
   "id": "36d300b1",
   "metadata": {
    "tags": [
     "hide-output"
    ]
   },
   "outputs": [],
   "source": [
    "ln.Transform.filter(name__icontains=\"Search\").df().head(5)"
   ]
  },
  {
   "attachments": {},
   "cell_type": "markdown",
   "id": "c403a644",
   "metadata": {},
   "source": [
    "### startswith"
   ]
  },
  {
   "cell_type": "code",
   "execution_count": null,
   "id": "32fc9bd7",
   "metadata": {
    "tags": [
     "hide-output"
    ]
   },
   "outputs": [],
   "source": [
    "ln.Transform.filter(name__startswith=\"Research\").df()"
   ]
  },
  {
   "cell_type": "markdown",
   "id": "c621ad18",
   "metadata": {},
   "source": [
    "### or"
   ]
  },
  {
   "cell_type": "code",
   "execution_count": null,
   "id": "cf35d05f",
   "metadata": {
    "tags": [
     "hide-output"
    ]
   },
   "outputs": [],
   "source": [
    "ln.Artifact.filter(ln.Q(suffix=\".jpg\") | ln.Q(suffix=\".fastq.gz\")).df()"
   ]
  },
  {
   "cell_type": "markdown",
   "id": "6bf07110",
   "metadata": {},
   "source": [
    "### negate/ unequal"
   ]
  },
  {
   "cell_type": "code",
   "execution_count": null,
   "id": "7b8724e1",
   "metadata": {
    "tags": [
     "hide-output"
    ]
   },
   "outputs": [],
   "source": [
    "ln.Artifact.filter(~ln.Q(suffix=\".jpg\")).df()"
   ]
  }
 ],
 "metadata": {
  "kernelspec": {
   "display_name": "py310",
   "language": "python",
   "name": "python3"
  },
  "language_info": {
   "codemirror_mode": {
    "name": "ipython",
    "version": 3
   },
   "file_extension": ".py",
   "mimetype": "text/x-python",
   "name": "python",
   "nbconvert_exporter": "python",
   "pygments_lexer": "ipython3",
   "version": "3.10.15"
  }
 },
 "nbformat": 4,
 "nbformat_minor": 5
}
