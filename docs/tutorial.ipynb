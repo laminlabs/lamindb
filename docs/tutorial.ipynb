{
 "cells": [
  {
   "cell_type": "markdown",
   "metadata": {},
   "source": [
    "![](https://img.shields.io/badge/tutorial1/2-lightgrey)\n",
    "[![](https://img.shields.io/badge/Source%20on%20GitHub-orange)](https://github.com/laminlabs/lamindb/blob/main/docs/tutorial.ipynb)\n",
    "[![](https://img.shields.io/badge/Source%20%26%20report%20on%20LaminHub-mediumseagreen)](https://lamin.ai/laminlabs/lamindata/record/core/Transform?uid=NJvdsWWbJlZSz8)"
   ]
  },
  {
   "attachments": {},
   "cell_type": "markdown",
   "metadata": {},
   "source": [
    "# Tutorial: Artifacts"
   ]
  },
  {
   "attachments": {},
   "cell_type": "markdown",
   "metadata": {},
   "source": [
    "<img src=\"https://lamin-site-assets.s3.amazonaws.com/.lamindb/BunYmHkyFLITlM5MYQci.svg\" width=\"350px\" style=\"background: transparent\" align=\"right\">\n",
    "\n",
    "Biology is measured in samples that generate batches of data.\n",
    "\n",
    "LaminDB provides a framework to transform these batches into more useful representations: validated, queryable datasets, machine learning models, and analytical insights (graphic).\n",
    "\n",
    "The tutorial has two parts, each is a Jupyter notebook:\n",
    "\n",
    "1. {doc}`/tutorial` - register & access\n",
    "2. {doc}`/tutorial2` - validate & annotate\n",
    "\n"
   ]
  },
  {
   "attachments": {},
   "cell_type": "markdown",
   "metadata": {},
   "source": [
    "## Setup"
   ]
  },
  {
   "cell_type": "markdown",
   "metadata": {},
   "source": [
    "1. Install the `lamindb` Python package:\n",
    "    ```shell\n",
    "    pip install 'lamindb[jupyter,aws]'\n",
    "    ```\n",
    "2. [Sign up](https://lamin.ai/signup) for a free account (see more [info](https://lamin.ai/docs/setup)) and copy the API key.\n",
    "3. Log in on the command line:\n",
    "    ```shell\n",
    "    lamin login <email> --key <API-key>\n",
    "    ```\n",
    "\n",
    "You can now init a LaminDB instance with a directory `./lamin-tutorial` for storing data:"
   ]
  },
  {
   "cell_type": "code",
   "execution_count": 3,
   "metadata": {
    "tags": [
     "hide-output"
    ],
    "vscode": {
     "languageId": "shellscript"
    }
   },
   "outputs": [
    {
     "name": "stdout",
     "output_type": "stream",
     "text": [
      "💡 found cached instance metadata: /Users/falexwolf/.lamin/instance--testuser1--lamin-tutorial.env\n",
      "💡 loaded instance: testuser1/lamin-tutorial\n",
      "\u001b[0m"
     ]
    }
   ],
   "source": [
    "!lamin init --storage ./lamin-tutorial  # or \"s3://my-bucket\" or \"gs://my-bucket\""
   ]
  },
  {
   "cell_type": "markdown",
   "metadata": {},
   "source": [
    ":::{dropdown} What else can I configure during setup?\n",
    "\n",
    "1. Instead of the default SQLite database, use PostgreSQL:\n",
    "    ```shell\n",
    "    --db postgresql://<user>:<pwd>@<hostname>:<port>/<dbname>\n",
    "    ```\n",
    "2. Instead of a default instance name derived from storage, provide a custom name:\n",
    "    ```shell\n",
    "    --name myinstance\n",
    "    ``````\n",
    "3. Beyond the core schema, use bionty and other schemas:\n",
    "    ```shell\n",
    "    --schema bionty,custom1,template1\n",
    "    ```\n",
    "\n",
    "For more, see {doc}`/setup`.\n",
    "\n",
    ":::"
   ]
  },
  {
   "attachments": {},
   "cell_type": "markdown",
   "metadata": {},
   "source": [
    "## Track a data source"
   ]
  },
  {
   "cell_type": "code",
   "execution_count": 4,
   "metadata": {},
   "outputs": [
    {
     "name": "stdout",
     "output_type": "stream",
     "text": [
      "💡 lamindb instance: testuser1/lamin-tutorial\n"
     ]
    }
   ],
   "source": [
    "import lamindb as ln"
   ]
  },
  {
   "cell_type": "markdown",
   "metadata": {},
   "source": [
    "If new to LaminDB, set {attr}`~lamindb.dev.Settings.verbosity` to hint level:"
   ]
  },
  {
   "cell_type": "code",
   "execution_count": 5,
   "metadata": {},
   "outputs": [],
   "source": [
    "ln.settings.verbosity = \"hint\""
   ]
  },
  {
   "attachments": {},
   "cell_type": "markdown",
   "metadata": {},
   "source": [
    "The code that generates a batch of data is a transform ({class}`~lamindb.Transform`). It could be a pipeline, a notebook or an app upload.\n",
    "\n",
    "Let's track the notebook that's being run:"
   ]
  },
  {
   "cell_type": "code",
   "execution_count": 6,
   "metadata": {},
   "outputs": [
    {
     "name": "stdout",
     "output_type": "stream",
     "text": [
      "💡 notebook imports: lamindb==0.63.3\n",
      "💡 loaded: Transform(uid='NJvdsWWbJlZSz8', name='Tutorial: Artifacts', short_name='tutorial', version='0', type='notebook', updated_at=2023-12-11 21:13:26 UTC, created_by_id=1)\n",
      "💡 loaded: Run(uid='O2mhZmQZrxbnyLReqR9h', run_at=2023-12-12 20:45:39 UTC, transform_id=1, created_by_id=1)\n"
     ]
    }
   ],
   "source": [
    "ln.track()"
   ]
  },
  {
   "attachments": {},
   "cell_type": "markdown",
   "metadata": {},
   "source": [
    "By calling {func}`~lamindb.track`, the notebook is automatically linked as the source of all data that's about to be saved!"
   ]
  },
  {
   "attachments": {},
   "cell_type": "markdown",
   "metadata": {},
   "source": [
    ":::{dropdown} What happened under the hood?\n",
    "\n",
    "1. Imported package versions of current notebook were detected\n",
    "2. Notebook metadata was detected and stored in a {class}`~lamindb.Transform` record\n",
    "3. Run metadata was detected and stored in a {class}`~lamindb.Run` record\n",
    "\n",
    "The {class}`~lamindb.Transform` class registers data transformations: a notebook, a pipeline or a UI operation.\n",
    "\n",
    "The {class}`~lamindb.Run` class registers executions of transforms. Several runs can be linked to the same transform if executed with different context (time, user, input data, etc.).\n",
    "\n",
    ":::\n",
    "\n",
    ":::{dropdown} How do I track a pipeline instead of a notebook?\n",
    "\n",
    "```python\n",
    "transform = ln.Transform(name=\"My pipeline\", version=\"1.2.0\")\n",
    "ln.track(transform)\n",
    "```\n",
    "\n",
    ":::\n",
    "\n",
    ":::{dropdown} Why should I care about tracking notebooks?\n",
    "\n",
    "If you can, avoid interactive notebooks: Anything that can be a deterministic pipeline, should be a pipeline.\n",
    "\n",
    "Just: much insight generated from biological data is driven by computational biologists _interacting_ with it.\n",
    "\n",
    "A notebook that's run a single time on specific data is not a pipeline: it's a (versioned) **document** that produced insight or some other form of data representation (with parallels to an ELN in the wetlab).\n",
    "\n",
    "Because humans are in the loop, most mistakes happen when using notebooks: {func}`~lamindb.track` helps avoiding some.\n",
    "\n",
    "(An early blog post on this is [here](https://lamin.ai/blog/2022/nbproject).)\n",
    "\n",
    ":::"
   ]
  },
  {
   "attachments": {},
   "cell_type": "markdown",
   "metadata": {},
   "source": [
    "## Manage artifacts"
   ]
  },
  {
   "cell_type": "markdown",
   "metadata": {},
   "source": [
    "We'll work with a toy dataset of image files and transform it into higher-level features for downstream analysis.\n",
    "\n",
    "(For other data types: see {doc}`docs:by-datatype`.)\n",
    "\n",
    "Consider 3 directories storing images & metadata of Iris flowers, generated in 3 subsequent studies:"
   ]
  },
  {
   "cell_type": "code",
   "execution_count": 7,
   "metadata": {
    "tags": [
     "hide-output"
    ]
   },
   "outputs": [
    {
     "name": "stdout",
     "output_type": "stream",
     "text": [
      "iris_studies (3 sub-directories & 151 files with suffixes '.jpg', '.csv'): \n",
      "├── study0_raw_images\n",
      "│   ├── iris-0337d20a3b7273aa0ddaa7d6afb57a37a759b060e4401871db3cefaa6adc068d.jpg\n",
      "│   ├── iris-0797945218a97d6e5251b4758a2ba1b418cbd52ce4ef46a3239e4b939bd9807b.jpg\n",
      "│   ├── iris-0f133861ea3fe1b68f9f1b59ebd9116ff963ee7104a0c4200218a33903f82444.jpg\n",
      "│   ├── iris-0fec175448a23db03c1987527f7e9bb74c18cffa76ef003f962c62603b1cbb87.jpg\n",
      "│   ├── iris-125b6645e086cd60131764a6bed12650e0f7f2091c8bbb72555c103196c01881.jpg\n",
      "│   ├── iris-13dfaff08727abea3da8cfd8d097fe1404e76417fefe27ff71900a89954e145a.jpg\n",
      "│   ...\n",
      "│   └── meta.csv\n",
      "├── study1_raw_images\n",
      "│   ├── iris-0879d3f5b337fe512da1c7bf1d2bfd7616d744d3eef7fa532455a879d5cc4ba0.jpg\n",
      "│   ├── iris-0b486eebacd93e114a6ec24264e035684cebe7d2074eb71eb1a71dd70bf61e8f.jpg\n",
      "│   ├── iris-0ff5ba898a0ec179a25ca217af45374fdd06d606bb85fc29294291facad1776a.jpg\n",
      "│   ├── iris-1175239c07a943d89a6335fb4b99a9fb5aabb2137c4d96102f10b25260ae523f.jpg\n",
      "│   ├── iris-1289c57b571e8e98e4feb3e18a890130adc145b971b7e208a6ce5bad945b4a5a.jpg\n",
      "│   ├── iris-12adb3a8516399e27ff1a9d20d28dca4674836ed00c7c0ae268afce2c30c4451.jpg\n",
      "│   ...\n",
      "│   └── meta.csv\n",
      "└── study2_raw_images\n",
      "    ├── iris-01cdd55ca6402713465841abddcce79a2e906e12edf95afb77c16bde4b4907dc.jpg\n",
      "    ├── iris-02868b71ddd9b33ab795ac41609ea7b20a6e94f2543fad5d7fa11241d61feacf.jpg\n",
      "    ├── iris-0415d2f3295db04bebc93249b685f7d7af7873faa911cd270ecd8363bd322ed5.jpg\n",
      "    ├── iris-0c826b6f4648edf507e0cafdab53712bb6fd1f04dab453cee8db774a728dd640.jpg\n",
      "    ├── iris-10fb9f154ead3c56ba0ab2c1ab609521c963f2326a648f82c9d7cabd178fc425.jpg\n",
      "    ├── iris-14cbed88b0d2a929477bdf1299724f22d782e90f29ce55531f4a3d8608f7d926.jpg\n",
      "    ...\n",
      "    └── meta.csv\n"
     ]
    }
   ],
   "source": [
    "ln.UPath(\"s3://lamindb-dev-datasets/iris_studies\").view_tree()"
   ]
  },
  {
   "cell_type": "markdown",
   "metadata": {},
   "source": [
    "Our goal is to turn these directories into a validated & queryable dataset that can be used alongside many other datasets."
   ]
  },
  {
   "attachments": {},
   "cell_type": "markdown",
   "metadata": {},
   "source": [
    "### Register an artifact"
   ]
  },
  {
   "attachments": {},
   "cell_type": "markdown",
   "metadata": {},
   "source": [
    "LaminDB uses the {class}`~lamindb.Artifact` class to model files, folders & arrays in storage with their metadata. It's a registry to manage search, queries, validation & access of storage locations."
   ]
  },
  {
   "cell_type": "markdown",
   "metadata": {},
   "source": [
    "Let's create a {class}`~lamindb.Artifact` record from one of the files:"
   ]
  },
  {
   "cell_type": "code",
   "execution_count": null,
   "metadata": {},
   "outputs": [],
   "source": [
    "artifact = ln.Artifact(\n",
    "    \"s3://lamindb-dev-datasets/iris_studies/study0_raw_images/meta.csv\"\n",
    ")\n",
    "artifact"
   ]
  },
  {
   "cell_type": "markdown",
   "metadata": {},
   "source": [
    ":::{dropdown} Which fields are populated when creating a artifact record?\n",
    "\n",
    "Basic fields:\n",
    "\n",
    "- `uid`: universal ID\n",
    "- `key`: storage key, a relative path of the artifact in `storage`\n",
    "- `description`: an optional string description\n",
    "- `storage`: the storage location (the root, say, an S3 bucket or a local directory)\n",
    "- `suffix`: an optional file/path suffix\n",
    "- `size`: the artifact size in bytes\n",
    "- `hash`: a hash useful to check for integrity and collisions (is this artifact already stored?)\n",
    "- `hash_type`: the type of the hash (usually, an MD5 or SHA1 checksum)\n",
    "- `created_at`: time of creation\n",
    "- `updated_at`: time of last update\n",
    "\n",
    "Provenance-related fields:\n",
    "\n",
    "- `created_by`: the {class}`~lamindb.User` who created the artifact\n",
    "- `transform`: the {class}`~lamindb.Transform` (pipeline, notebook, instrument, app) that was run\n",
    "- `run`: the {class}`~lamindb.Run` of the transform that created the artifact\n",
    "\n",
    "For a full reference, see {class}`~lamindb.Artifact`.\n",
    "\n",
    ":::"
   ]
  },
  {
   "attachments": {},
   "cell_type": "markdown",
   "metadata": {},
   "source": [
    "Upon `.save()`, artifact metadata is written to the database:"
   ]
  },
  {
   "cell_type": "code",
   "execution_count": null,
   "metadata": {},
   "outputs": [],
   "source": [
    "artifact.save()"
   ]
  },
  {
   "cell_type": "markdown",
   "metadata": {},
   "source": [
    ":::{dropdown} What happens during save?\n",
    "\n",
    "In the database: A artifact record is inserted into the `artifact` registry. If the artifact record exists already, it's updated.\n",
    "\n",
    "In storage:\n",
    "- If the default storage is in the cloud, `.save()` triggers an upload for a local artifact.\n",
    "- If the artifact is already in a registered storage location, only the metadata of the record is saved to the `artifact` registry.\n",
    "\n",
    ":::"
   ]
  },
  {
   "cell_type": "markdown",
   "metadata": {},
   "source": [
    "We can get an overview of all artifacts in the database by calling {meth}`~lamindb.dev.Registry.df`:"
   ]
  },
  {
   "cell_type": "code",
   "execution_count": null,
   "metadata": {},
   "outputs": [],
   "source": [
    "ln.Artifact.df()"
   ]
  },
  {
   "cell_type": "markdown",
   "metadata": {},
   "source": [
    "### View data flow"
   ]
  },
  {
   "attachments": {},
   "cell_type": "markdown",
   "metadata": {},
   "source": [
    "Because we called {func}`~lamindb.track`, we know that the artifact was saved in the current notebook ({meth}`~lamindb.dev.Data.view_flow`):"
   ]
  },
  {
   "cell_type": "code",
   "execution_count": null,
   "metadata": {},
   "outputs": [],
   "source": [
    "artifact.view_flow()"
   ]
  },
  {
   "cell_type": "markdown",
   "metadata": {},
   "source": [
    "We can also directly access its linked {class}`~lamindb.Transform` & {class}`~lamindb.Run` records:"
   ]
  },
  {
   "cell_type": "code",
   "execution_count": null,
   "metadata": {},
   "outputs": [],
   "source": [
    "artifact.transform"
   ]
  },
  {
   "cell_type": "code",
   "execution_count": null,
   "metadata": {},
   "outputs": [],
   "source": [
    "artifact.run"
   ]
  },
  {
   "cell_type": "markdown",
   "metadata": {},
   "source": [
    "(For a comprehensive example with data flow through app uploads, pipelines & notebooks of multiple data types, see {doc}`docs:project-flow`.)"
   ]
  },
  {
   "attachments": {},
   "cell_type": "markdown",
   "metadata": {},
   "source": [
    "### Access an artifact"
   ]
  },
  {
   "cell_type": "markdown",
   "metadata": {},
   "source": [
    "{attr}`~lamindb.Artifact.path` gives you the file path (:class:`~lamindb.UPath`):"
   ]
  },
  {
   "cell_type": "code",
   "execution_count": null,
   "metadata": {},
   "outputs": [],
   "source": [
    "artifact.path"
   ]
  },
  {
   "cell_type": "markdown",
   "metadata": {},
   "source": [
    "To download the artifact to a local cache, call {meth}`~lamindb.Artifact.stage`:"
   ]
  },
  {
   "cell_type": "code",
   "execution_count": null,
   "metadata": {},
   "outputs": [],
   "source": [
    "artifact.stage()"
   ]
  },
  {
   "cell_type": "markdown",
   "metadata": {},
   "source": [
    "To load data into memory with a default loader, call {meth}`~lamindb.Artifact.load`: "
   ]
  },
  {
   "cell_type": "code",
   "execution_count": null,
   "metadata": {},
   "outputs": [],
   "source": [
    "df = artifact.load(index_col=0)\n",
    "df.head()"
   ]
  },
  {
   "attachments": {},
   "cell_type": "markdown",
   "metadata": {},
   "source": [
    "If the data is large, you'll likely want to query it via {meth}`~lamindb.Artifact.backed`. For more on this, see: {doc}`data`.\n",
    "\n",
    ":::{dropdown} How do I update a artifact?\n",
    "\n",
    "If you'd like to replace the underlying stored object, use {meth}`~lamindb.Artifact.replace`.\n",
    "\n",
    "If you'd like to update metadata:\n",
    "```\n",
    "artifact.description = \"My new description\"\n",
    "artifact.save()  # save the change to the database\n",
    "```\n",
    "\n",
    ":::\n"
   ]
  },
  {
   "cell_type": "markdown",
   "metadata": {},
   "source": [
    "### Register directories as artifacts"
   ]
  },
  {
   "cell_type": "markdown",
   "metadata": {},
   "source": [
    "We now register the entire directory for study 0 as an artifact:"
   ]
  },
  {
   "cell_type": "code",
   "execution_count": 7,
   "metadata": {},
   "outputs": [
    {
     "name": "stdout",
     "output_type": "stream",
     "text": [
      "❗ no run & transform get linked, consider passing a `run` or calling ln.track()\n"
     ]
    },
    {
     "data": {
      "text/html": [
       "<div>\n",
       "<style scoped>\n",
       "    .dataframe tbody tr th:only-of-type {\n",
       "        vertical-align: middle;\n",
       "    }\n",
       "\n",
       "    .dataframe tbody tr th {\n",
       "        vertical-align: top;\n",
       "    }\n",
       "\n",
       "    .dataframe thead th {\n",
       "        text-align: right;\n",
       "    }\n",
       "</style>\n",
       "<table border=\"1\" class=\"dataframe\">\n",
       "  <thead>\n",
       "    <tr style=\"text-align: right;\">\n",
       "      <th></th>\n",
       "      <th>uid</th>\n",
       "      <th>storage_id</th>\n",
       "      <th>key</th>\n",
       "      <th>suffix</th>\n",
       "      <th>accessor</th>\n",
       "      <th>description</th>\n",
       "      <th>version</th>\n",
       "      <th>size</th>\n",
       "      <th>hash</th>\n",
       "      <th>hash_type</th>\n",
       "      <th>n_objects</th>\n",
       "      <th>n_observations</th>\n",
       "      <th>transform_id</th>\n",
       "      <th>run_id</th>\n",
       "      <th>initial_version_id</th>\n",
       "      <th>visibility</th>\n",
       "      <th>key_is_virtual</th>\n",
       "      <th>updated_at</th>\n",
       "      <th>created_by_id</th>\n",
       "    </tr>\n",
       "    <tr>\n",
       "      <th>id</th>\n",
       "      <th></th>\n",
       "      <th></th>\n",
       "      <th></th>\n",
       "      <th></th>\n",
       "      <th></th>\n",
       "      <th></th>\n",
       "      <th></th>\n",
       "      <th></th>\n",
       "      <th></th>\n",
       "      <th></th>\n",
       "      <th></th>\n",
       "      <th></th>\n",
       "      <th></th>\n",
       "      <th></th>\n",
       "      <th></th>\n",
       "      <th></th>\n",
       "      <th></th>\n",
       "      <th></th>\n",
       "      <th></th>\n",
       "    </tr>\n",
       "  </thead>\n",
       "  <tbody>\n",
       "    <tr>\n",
       "      <th>1</th>\n",
       "      <td>5vQ7PAw21PywI3KPtLCV</td>\n",
       "      <td>2</td>\n",
       "      <td>iris_studies/study0_raw_images/meta.csv</td>\n",
       "      <td>.csv</td>\n",
       "      <td>None</td>\n",
       "      <td>None</td>\n",
       "      <td>None</td>\n",
       "      <td>4355</td>\n",
       "      <td>ZpAEpN0iFYH6vjZNigic7g</td>\n",
       "      <td>md5</td>\n",
       "      <td>NaN</td>\n",
       "      <td>None</td>\n",
       "      <td>1.0</td>\n",
       "      <td>1.0</td>\n",
       "      <td>None</td>\n",
       "      <td>1</td>\n",
       "      <td>False</td>\n",
       "      <td>2023-12-11 21:13:37.166476+00:00</td>\n",
       "      <td>1</td>\n",
       "    </tr>\n",
       "    <tr>\n",
       "      <th>3</th>\n",
       "      <td>hDG8dS8TdmT5QyvulQ4H</td>\n",
       "      <td>2</td>\n",
       "      <td>iris_studies/study0_raw_images</td>\n",
       "      <td></td>\n",
       "      <td>None</td>\n",
       "      <td>None</td>\n",
       "      <td>None</td>\n",
       "      <td>656692</td>\n",
       "      <td>d8_SjrP3V5tGetN8LQZC7w</td>\n",
       "      <td>md5-d</td>\n",
       "      <td>51.0</td>\n",
       "      <td>None</td>\n",
       "      <td>NaN</td>\n",
       "      <td>NaN</td>\n",
       "      <td>None</td>\n",
       "      <td>1</td>\n",
       "      <td>False</td>\n",
       "      <td>2023-12-12 21:04:31.590187+00:00</td>\n",
       "      <td>1</td>\n",
       "    </tr>\n",
       "  </tbody>\n",
       "</table>\n",
       "</div>"
      ],
      "text/plain": [
       "                     uid  storage_id                                      key  \\\n",
       "id                                                                              \n",
       "1   5vQ7PAw21PywI3KPtLCV           2  iris_studies/study0_raw_images/meta.csv   \n",
       "3   hDG8dS8TdmT5QyvulQ4H           2           iris_studies/study0_raw_images   \n",
       "\n",
       "   suffix accessor description version    size                    hash  \\\n",
       "id                                                                       \n",
       "1    .csv     None        None    None    4355  ZpAEpN0iFYH6vjZNigic7g   \n",
       "3             None        None    None  656692  d8_SjrP3V5tGetN8LQZC7w   \n",
       "\n",
       "   hash_type  n_objects n_observations  transform_id  run_id  \\\n",
       "id                                                             \n",
       "1        md5        NaN           None           1.0     1.0   \n",
       "3      md5-d       51.0           None           NaN     NaN   \n",
       "\n",
       "   initial_version_id  visibility  key_is_virtual  \\\n",
       "id                                                  \n",
       "1                None           1           False   \n",
       "3                None           1           False   \n",
       "\n",
       "                         updated_at  created_by_id  \n",
       "id                                                  \n",
       "1  2023-12-11 21:13:37.166476+00:00              1  \n",
       "3  2023-12-12 21:04:31.590187+00:00              1  "
      ]
     },
     "execution_count": 7,
     "metadata": {},
     "output_type": "execute_result"
    }
   ],
   "source": [
    "study0_data = ln.Artifact(f\"s3://lamindb-dev-datasets/iris_studies/study0_raw_images\")\n",
    "study0_data.save()\n",
    "ln.Artifact.df()  # see the registry content"
   ]
  },
  {
   "attachments": {},
   "cell_type": "markdown",
   "metadata": {},
   "source": [
    "### Filter & search artifacts"
   ]
  },
  {
   "cell_type": "markdown",
   "metadata": {},
   "source": [
    "You can search artifacts directly based on the {class}`~lamindb.Artifact` registry:"
   ]
  },
  {
   "cell_type": "code",
   "execution_count": null,
   "metadata": {},
   "outputs": [],
   "source": [
    "ln.Artifact.search(\"meta\").head()"
   ]
  },
  {
   "attachments": {},
   "cell_type": "markdown",
   "metadata": {},
   "source": [
    "You can also query & search the artifact by any metadata combination.\n",
    "\n",
    "For instance, look up a user with auto-complete from the {class}`~lamindb.User` registry:"
   ]
  },
  {
   "cell_type": "code",
   "execution_count": null,
   "metadata": {},
   "outputs": [],
   "source": [
    "users = ln.User.lookup()\n",
    "users.testuser1"
   ]
  },
  {
   "cell_type": "markdown",
   "metadata": {},
   "source": [
    "Filter the {class}`~lamindb.Transform` registry for a name:"
   ]
  },
  {
   "cell_type": "code",
   "execution_count": null,
   "metadata": {},
   "outputs": [],
   "source": [
    "transform = ln.Transform.filter(\n",
    "    name__icontains=\"Artifacts\"\n",
    ").one()  # get exactly one result\n",
    "transform"
   ]
  },
  {
   "cell_type": "markdown",
   "metadata": {},
   "source": [
    ":::{dropdown} What does a double underscore mean?\n",
    "\n",
    "For any field, the double underscore defines a comparator, e.g.,\n",
    "\n",
    "* `name__icontains=\"Martha\"`: `name` contains `\"Martha\"` when ignoring case\n",
    "* `name__startswith=\"Martha\"`: `name` starts with `\"Martha`\n",
    "* `name__in=[\"Martha\", \"John\"]`: `name` is `\"John\"` or `\"Martha\"`\n",
    "\n",
    "For more info, see: {doc}`meta`.\n",
    "\n",
    ":::\n",
    "\n",
    "Use these results to filter the {class}`~lamindb.Artifact` registry:"
   ]
  },
  {
   "cell_type": "code",
   "execution_count": null,
   "metadata": {},
   "outputs": [],
   "source": [
    "ln.Artifact.filter(\n",
    "    created_by=users.testuser1,\n",
    "    transform=transform,\n",
    "    suffix=\".jpg\",\n",
    ").df().head()"
   ]
  },
  {
   "cell_type": "markdown",
   "metadata": {},
   "source": [
    "You can also query for directories using `key__startswith` (LaminDB treats directories like AWS S3, as the prefix of the storage `key`): "
   ]
  },
  {
   "cell_type": "code",
   "execution_count": null,
   "metadata": {},
   "outputs": [],
   "source": [
    "ln.Artifact.filter(key__startswith=\"iris_studies/study0_raw_images/\").df().head()"
   ]
  },
  {
   "cell_type": "markdown",
   "metadata": {},
   "source": [
    "```{note}\n",
    "\n",
    "You can look up, filter & search any registry ({class}`~lamindb.dev.Registry`).\n",
    "\n",
    "You can chain {meth}`~lamindb.dev.Registry.filter` statements and {meth}`~lamindb.dev.QuerySet.search`: `ln.Artifact.filter(suffix=\".jpg\").search(\"my image\")`\n",
    "\n",
    "An empty filter returns the entire registry: `ln.Artifact.filter()`\n",
    "```"
   ]
  },
  {
   "cell_type": "markdown",
   "metadata": {},
   "source": [
    "For more info, see: {doc}`meta`."
   ]
  },
  {
   "cell_type": "markdown",
   "metadata": {},
   "source": [
    ":::{dropdown} Filter & search on LaminHub\n",
    "\n",
    "<img src=\"https://lamin-site-assets.s3.amazonaws.com/.lamindb/L188T2JjzZHWHfv2S0ib.png\" width=\"700px\">\n",
    "\n",
    ":::"
   ]
  },
  {
   "cell_type": "markdown",
   "metadata": {},
   "source": [
    "## Describe artifacts"
   ]
  },
  {
   "cell_type": "markdown",
   "metadata": {},
   "source": [
    "Get an overview of what happened:"
   ]
  },
  {
   "cell_type": "code",
   "execution_count": null,
   "metadata": {},
   "outputs": [],
   "source": [
    "artifact.describe()"
   ]
  },
  {
   "cell_type": "code",
   "execution_count": null,
   "metadata": {},
   "outputs": [],
   "source": [
    "artifact.view_flow()"
   ]
  },
  {
   "cell_type": "markdown",
   "metadata": {},
   "source": [
    "## Version artifacts"
   ]
  },
  {
   "cell_type": "markdown",
   "metadata": {},
   "source": [
    "If you'd like to version a artifact or transform, either provide the `version` parameter when creating it or create new versions through `is_new_version_of`.\n",
    "\n",
    "For instance:\n",
    "```\n",
    "new_artifact = ln.Artifact(data, is_new_version_of=old_artifact)\n",
    "```"
   ]
  },
  {
   "cell_type": "markdown",
   "metadata": {},
   "source": [
    "Are there remaining questions about storing artifacts? If so, see: {doc}`docs:faq/storage`."
   ]
  },
  {
   "cell_type": "markdown",
   "metadata": {},
   "source": [
    "## Datasets"
   ]
  },
  {
   "cell_type": "markdown",
   "metadata": {},
   "source": [
    "An artifact can model anything that's in storage: a file, a dataset, an array, a machine learning model.\n",
    "\n",
    "Often times, several artifacts together represent a dataset.\n",
    "\n",
    "Let's store the artifact for `study0_data` as a {class}`~lamindb.Dataset`:"
   ]
  },
  {
   "cell_type": "code",
   "execution_count": null,
   "metadata": {},
   "outputs": [],
   "source": [
    "dataset = ln.Dataset(\n",
    "    study0_data,\n",
    "    name=\"Iris dataset\",\n",
    "    version=\"1\",\n",
    "    description=\"50 image files and metadata\",\n",
    ")\n",
    "dataset"
   ]
  },
  {
   "cell_type": "markdown",
   "metadata": {},
   "source": [
    "And save it:"
   ]
  },
  {
   "cell_type": "code",
   "execution_count": null,
   "metadata": {},
   "outputs": [],
   "source": [
    "dataset.save()"
   ]
  },
  {
   "cell_type": "markdown",
   "metadata": {},
   "source": [
    "Now, we perform subsequent studies by collecting more data.\n",
    "\n",
    "We'd like to keep track of their data as part of a growing versioned dataset:"
   ]
  },
  {
   "cell_type": "code",
   "execution_count": null,
   "metadata": {},
   "outputs": [],
   "source": [
    "artifacts = [study0_data]\n",
    "for folder_name in [\"study1_raw_images\", \"study2_raw_images\"]:\n",
    "    # create an artifact for the folder\n",
    "    artifact = ln.Artifact(f\"s3://lamindb-dev-datasets/iris_studies/{folder_name}\")\n",
    "    artifact.save()\n",
    "    artifacts.append(artifact)\n",
    "    # create a new version of the dataset\n",
    "    dataset = ln.Dataset(\n",
    "        artifacts, is_new_version_of=dataset, description=\"Another 50 images\"\n",
    "    )\n",
    "    dataset.description = \"Another 50 images\"\n",
    "    dataset.save()"
   ]
  },
  {
   "cell_type": "markdown",
   "metadata": {},
   "source": [
    "See all artifacts:"
   ]
  },
  {
   "cell_type": "code",
   "execution_count": null,
   "metadata": {},
   "outputs": [],
   "source": [
    "ln.Artifact.df()"
   ]
  },
  {
   "cell_type": "markdown",
   "metadata": {},
   "source": [
    "See all datasets:"
   ]
  },
  {
   "cell_type": "code",
   "execution_count": null,
   "metadata": {},
   "outputs": [],
   "source": [
    "ln.Dataset.df()"
   ]
  },
  {
   "cell_type": "markdown",
   "metadata": {},
   "source": [
    "Most functionality that you just learned about artifacts - e.g., queries & provenance - also applies to {class}`~lamindb.Dataset`.\n",
    "\n",
    "But `Dataset` is an abstraction over storing data in one or several artifacts and does not have a `key` field.\n",
    "\n",
    "We'll learn more about datasets in the next part of the tutorial."
   ]
  },
  {
   "cell_type": "markdown",
   "metadata": {},
   "source": [
    "## View changes"
   ]
  },
  {
   "attachments": {},
   "cell_type": "markdown",
   "metadata": {},
   "source": [
    "With {func}`~lamindb.view`, you can see the latest changes to the database:"
   ]
  },
  {
   "cell_type": "code",
   "execution_count": null,
   "metadata": {
    "tags": [
     "hide-output"
    ]
   },
   "outputs": [],
   "source": [
    "ln.view()  # link tables in the database are not shown"
   ]
  },
  {
   "cell_type": "markdown",
   "metadata": {},
   "source": [
    "## Save notebook & scripts"
   ]
  },
  {
   "cell_type": "markdown",
   "metadata": {},
   "source": [
    "When you've completed the work on a notebook  or script, you can save the source code and, for notebooks, an execution report to your storage location like so:"
   ]
  },
  {
   "cell_type": "markdown",
   "metadata": {},
   "source": [
    "```\n",
    "lamin save <file_path>  # e.g., my_script.py, my_notebook.ipynb\n",
    "```"
   ]
  },
  {
   "cell_type": "markdown",
   "metadata": {},
   "source": [
    "This enables you to query source code and report via `transform.source_code` and `transform.latest_report` and see it in the hub, e.g., [here](https://lamin.ai/laminlabs/lamindata/record/core/Transform?uid=NJvdsWWbJlZSz8).\n",
    "\n",
    "<img src=\"https://lamin-site-assets.s3.amazonaws.com/.lamindb/RGXj5wcAf7EAc6J8aBoM.png\" width=\"700px\">"
   ]
  },
  {
   "cell_type": "markdown",
   "metadata": {},
   "source": [
    "## Read on"
   ]
  },
  {
   "cell_type": "markdown",
   "metadata": {},
   "source": [
    "Now, you already know about 6 out of 9 LaminDB core classes! The two most central are:\n",
    "\n",
    "- {class}`~lamindb.Artifact`\n",
    "- {class}`~lamindb.Dataset`\n",
    "\n",
    "And the four registries related to provenance:\n",
    "\n",
    "- {class}`~lamindb.Transform`: transforms of artifacts\n",
    "- {class}`~lamindb.Run`: runs of transforms\n",
    "- {class}`~lamindb.User`: users\n",
    "- {class}`~lamindb.Storage`: storage locations like S3/GCP buckets or local directories"
   ]
  },
  {
   "cell_type": "markdown",
   "metadata": {},
   "source": [
    "If you want to validate data, label artifacts, and manage features, read on: {doc}`/tutorial2`."
   ]
  }
 ],
 "metadata": {
  "kernelspec": {
   "display_name": "Python 3 (ipykernel)",
   "language": "python",
   "name": "python3"
  },
  "language_info": {
   "codemirror_mode": {
    "name": "ipython",
    "version": 3
   },
   "file_extension": ".py",
   "mimetype": "text/x-python",
   "name": "python",
   "nbconvert_exporter": "python",
   "pygments_lexer": "ipython3",
   "version": "3.10.13"
  },
  "nbproject": {
   "id": "NJvdsWWbJlZS",
   "parent": null,
   "pypackage": null,
   "time_init": "2023-03-09T13:30:29.239953+00:00",
   "user_handle": "testuser2",
   "user_id": "bKeW4T6E",
   "user_name": "Test User2",
   "version": "0"
  },
  "vscode": {
   "interpreter": {
    "hash": "ae1fefc8646a06dd2e75004cd934adda7c5727b046986a772e3b44b0ffba9754"
   }
  }
 },
 "nbformat": 4,
 "nbformat_minor": 4
}
