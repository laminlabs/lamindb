{
 "cells": [
  {
   "cell_type": "markdown",
   "metadata": {},
   "source": [
    "![](https://img.shields.io/badge/tutorial1/2-lightgrey)\n",
    "[![](https://img.shields.io/badge/Jupyter%20Notebook-orange)](https://github.com/laminlabs/lamindb/blob/main/docs/tutorial.ipynb)\n",
    "[![](https://img.shields.io/badge/laminlabs/lamindata-mediumseagreen)](https://lamin.ai/laminlabs/lamindata/record/core/Transform?id=NJvdsWWbJlZSz8)"
   ]
  },
  {
   "attachments": {},
   "cell_type": "markdown",
   "metadata": {},
   "source": [
    "# Tutorial: Files & datasets"
   ]
  },
  {
   "attachments": {},
   "cell_type": "markdown",
   "metadata": {},
   "source": [
    "<img src=\"https://lamin-site-assets.s3.amazonaws.com/.lamindb/BunYmHkyFLITlM5MYQci.svg\" width=\"350px\" style=\"background: transparent\" align=\"right\">\n",
    "\n",
    "Biology is measured in samples that generate data batches and you'll almost always start out with files.\n",
    "\n",
    "LaminDB assists while you transform files into more useful representations: validated, queryable datasets or analytical insights.\n",
    "\n",
    "The best way to build a map of the API is to embed into an iterative data warehousing or learning process (graphic).\n",
    "\n",
    "The tutorial has two parts, each is a Jupyter notebook:\n",
    "\n",
    "1. {doc}`/tutorial` - register & access\n",
    "2. {doc}`/tutorial2` - validate & annotate\n",
    "\n"
   ]
  },
  {
   "attachments": {},
   "cell_type": "markdown",
   "metadata": {},
   "source": [
    "## Setup"
   ]
  },
  {
   "cell_type": "markdown",
   "metadata": {},
   "source": [
    "1. Install the `lamindb` Python package:\n",
    "    ```shell\n",
    "    pip install 'lamindb[jupyter,aws]'\n",
    "    ```\n",
    "2. [Sign up](https://lamin.ai/signup) for a free account (see more [info](https://lamin.ai/docs/setup)) and copy the API key.\n",
    "3. Log in on the command line:\n",
    "    ```shell\n",
    "    lamin login <email> --key <API-key>\n",
    "    ```\n",
    "\n",
    "You can now init a LaminDB instance with a directory `./lamin-tutorial` for storing data:"
   ]
  },
  {
   "cell_type": "code",
   "execution_count": null,
   "metadata": {
    "tags": [
     "hide-output"
    ],
    "vscode": {
     "languageId": "shellscript"
    }
   },
   "outputs": [],
   "source": [
    "!lamin init --storage ./lamin-tutorial  # or \"s3://my-bucket\" or \"gs://my-bucket\""
   ]
  },
  {
   "cell_type": "markdown",
   "metadata": {},
   "source": [
    ":::{dropdown} What else can I configure during setup?\n",
    "\n",
    "1. Instead of the default SQLite database, use PostgreSQL:\n",
    "    ```shell\n",
    "    --db postgresql://<user>:<pwd>@<hostname>:<port>/<dbname>\n",
    "    ```\n",
    "2. Instead of a default instance name derived from storage, provide a custom name:\n",
    "    ```shell\n",
    "    --name myinstance\n",
    "    ``````\n",
    "3. Beyond the core schema, use bionty and other schemas:\n",
    "    ```shell\n",
    "    --schema bionty,custom1,template1\n",
    "    ```\n",
    "\n",
    "For more, see {doc}`/setup`.\n",
    "\n",
    ":::"
   ]
  },
  {
   "attachments": {},
   "cell_type": "markdown",
   "metadata": {},
   "source": [
    "## Track a data source"
   ]
  },
  {
   "cell_type": "code",
   "execution_count": null,
   "metadata": {},
   "outputs": [],
   "source": [
    "import lamindb as ln"
   ]
  },
  {
   "cell_type": "markdown",
   "metadata": {},
   "source": [
    "If new to LaminDB, set {attr}`~lamindb.dev.Settings.verbosity` to hint level:"
   ]
  },
  {
   "cell_type": "code",
   "execution_count": null,
   "metadata": {},
   "outputs": [],
   "source": [
    "ln.settings.verbosity = \"hint\""
   ]
  },
  {
   "attachments": {},
   "cell_type": "markdown",
   "metadata": {},
   "source": [
    "The code that generates a batch of data is a transform ({class}`~lamindb.Transform`). It could be a pipeline, a notebook or an app upload.\n",
    "\n",
    "Let's track the notebook that's being run:"
   ]
  },
  {
   "cell_type": "code",
   "execution_count": null,
   "metadata": {},
   "outputs": [],
   "source": [
    "ln.track()"
   ]
  },
  {
   "attachments": {},
   "cell_type": "markdown",
   "metadata": {},
   "source": [
    "By calling {func}`~lamindb.track`, the notebook is automatically linked as the source of all data that's about to be saved!"
   ]
  },
  {
   "attachments": {},
   "cell_type": "markdown",
   "metadata": {},
   "source": [
    ":::{dropdown} What happened under the hood?\n",
    "\n",
    "1. Imported package versions of current notebook were detected\n",
    "2. Notebook metadata was detected and stored in a {class}`~lamindb.Transform` record\n",
    "3. Run metadata was detected and stored in a {class}`~lamindb.Run` record\n",
    "\n",
    "The {class}`~lamindb.Transform` class registers data transformations: a notebook, a pipeline or a UI operation.\n",
    "\n",
    "The {class}`~lamindb.Run` class registers executions of transforms. Several runs can be linked to the same transform if executed with different context (time, user, input data, etc.).\n",
    "\n",
    ":::\n",
    "\n",
    ":::{dropdown} How do I track a pipeline instead of a notebook?\n",
    "\n",
    "```python\n",
    "transform = ln.Transform(name=\"My pipeline\", version=\"1.2.0\")\n",
    "ln.track(transform)\n",
    "```\n",
    "\n",
    ":::\n",
    "\n",
    ":::{dropdown} Why should I care about tracking notebooks?\n",
    "\n",
    "If you can, avoid interactive notebooks: Anything that can be a deterministic pipeline, should be a pipeline.\n",
    "\n",
    "Just: much insight generated from biological data is driven by computational biologists _interacting_ with it.\n",
    "\n",
    "A notebook that's run a single time on specific data is not a pipeline: it's a (versioned) **document** that produced insight or some other form of data representation (with parallels to an ELN in the wetlab).\n",
    "\n",
    "Because humans are in the loop, most mistakes happen when using notebooks: {func}`~lamindb.track` helps avoiding some.\n",
    "\n",
    "(An early blog post on this is [here](https://lamin.ai/blog/2022/nbproject).)\n",
    "\n",
    ":::"
   ]
  },
  {
   "attachments": {},
   "cell_type": "markdown",
   "metadata": {},
   "source": [
    "## Manage files"
   ]
  },
  {
   "cell_type": "markdown",
   "metadata": {},
   "source": [
    "We'll work with a toy dataset of image files and transform it into higher-level features for downstream analysis.\n",
    "\n",
    "(For other data types: see {doc}`docs:by-datatype`.)\n",
    "\n",
    "Consider 3 directories storing images & metadata of Iris flowers, generated in 3 subsequent studies:"
   ]
  },
  {
   "cell_type": "code",
   "execution_count": null,
   "metadata": {
    "tags": [
     "hide-output"
    ]
   },
   "outputs": [],
   "source": [
    "ln.File.view_tree(\"s3://lamindb-dev-datasets/iris_studies\")"
   ]
  },
  {
   "cell_type": "markdown",
   "metadata": {},
   "source": [
    "Our goal is to turn these files into a validated & queryable dataset that can be used alongside many other datasets."
   ]
  },
  {
   "attachments": {},
   "cell_type": "markdown",
   "metadata": {},
   "source": [
    "### Register a file"
   ]
  },
  {
   "attachments": {},
   "cell_type": "markdown",
   "metadata": {},
   "source": [
    "LaminDB uses the {class}`~lamindb.File` class to model files with their metadata and access. It's a registry that manages search, queries, validation & access of files through metadata."
   ]
  },
  {
   "cell_type": "markdown",
   "metadata": {},
   "source": [
    "Let's create a {class}`~lamindb.File` record from one of the files:"
   ]
  },
  {
   "cell_type": "code",
   "execution_count": null,
   "metadata": {},
   "outputs": [],
   "source": [
    "file = ln.File(\"s3://lamindb-dev-datasets/iris_studies/study0_raw_images/meta.csv\")\n",
    "\n",
    "file"
   ]
  },
  {
   "cell_type": "markdown",
   "metadata": {},
   "source": [
    ":::{dropdown} Which fields are populated when creating a File record?\n",
    "\n",
    "Basic fields:\n",
    "\n",
    "- `id`: a universal ID (serves as a primary key in the underlying SQL table of the instance)\n",
    "- `key`: an optional storage key, i.e., the relative path of the file in `storage`\n",
    "- `description`: an optional string description\n",
    "- `storage`: the storage location (the root, say, an S3 bucket or network location)\n",
    "- `suffix`: the file suffix\n",
    "- `size`: the file size in bytes\n",
    "- `hash`: a hash useful to check for integrity and collisions (is this file already stored?)\n",
    "- `hash_type`: the type of the hash (usually, an MD5 or SHA1 checksum)\n",
    "- `created_at`: time of creation\n",
    "- `updated_at`: time of last update\n",
    "\n",
    "Provenance-related fields:\n",
    "\n",
    "- `created_by`: the {class}`~lamindb.User` who created the file\n",
    "- `transform`: the {class}`~lamindb.Transform` (pipeline, notebook, instrument, app) that was run\n",
    "- `run`: the {class}`~lamindb.Run` of the transform that created the file\n",
    "\n",
    "For a full reference, see {class}`~lamindb.File`.\n",
    "\n",
    ":::"
   ]
  },
  {
   "attachments": {},
   "cell_type": "markdown",
   "metadata": {},
   "source": [
    "Upon `.save()`, file metadata is written to the database:"
   ]
  },
  {
   "cell_type": "code",
   "execution_count": null,
   "metadata": {},
   "outputs": [],
   "source": [
    "file.save()"
   ]
  },
  {
   "cell_type": "markdown",
   "metadata": {},
   "source": [
    ":::{dropdown} What happens during save?\n",
    "\n",
    "In the database: A file record is inserted into the `File` registry. If the file record exists already, it's updated.\n",
    "\n",
    "In storage:\n",
    "- If the default storage is in the cloud, `.save()` triggers an upload for a local file.\n",
    "- If the file is already in a registered storage location, only the metadata of the record is saved to the `File` registry.\n",
    "\n",
    ":::"
   ]
  },
  {
   "cell_type": "markdown",
   "metadata": {},
   "source": [
    "The `meta.csv` file is now registered in the database:"
   ]
  },
  {
   "cell_type": "code",
   "execution_count": null,
   "metadata": {},
   "outputs": [],
   "source": [
    "ln.File.filter().df()"
   ]
  },
  {
   "cell_type": "markdown",
   "metadata": {},
   "source": [
    "### View data flow"
   ]
  },
  {
   "attachments": {},
   "cell_type": "markdown",
   "metadata": {},
   "source": [
    "Because we called {func}`~lamindb.track`, we know that the file was saved in the current notebook ({meth}`~lamindb.dev.Data.view_flow`):"
   ]
  },
  {
   "cell_type": "code",
   "execution_count": null,
   "metadata": {},
   "outputs": [],
   "source": [
    "file.view_flow()"
   ]
  },
  {
   "cell_type": "markdown",
   "metadata": {},
   "source": [
    "We can also directly access its linked {class}`~lamindb.Transform` & {class}`~lamindb.Run` records:"
   ]
  },
  {
   "cell_type": "code",
   "execution_count": null,
   "metadata": {},
   "outputs": [],
   "source": [
    "file.transform"
   ]
  },
  {
   "cell_type": "code",
   "execution_count": null,
   "metadata": {},
   "outputs": [],
   "source": [
    "file.run"
   ]
  },
  {
   "cell_type": "markdown",
   "metadata": {},
   "source": [
    "(For a comprehensive example with data flow through app uploads, pipelines & notebooks of multiple data types, see {doc}`docs:project-flow`.)"
   ]
  },
  {
   "attachments": {},
   "cell_type": "markdown",
   "metadata": {},
   "source": [
    "### Access a file"
   ]
  },
  {
   "cell_type": "markdown",
   "metadata": {},
   "source": [
    "{attr}`~lamindb.File.path` gives you the filepath:"
   ]
  },
  {
   "cell_type": "code",
   "execution_count": null,
   "metadata": {},
   "outputs": [],
   "source": [
    "file.path"
   ]
  },
  {
   "cell_type": "markdown",
   "metadata": {},
   "source": [
    "To download the file to a local cache, call {meth}`~lamindb.File.stage`:"
   ]
  },
  {
   "cell_type": "code",
   "execution_count": null,
   "metadata": {},
   "outputs": [],
   "source": [
    "file.stage()"
   ]
  },
  {
   "cell_type": "markdown",
   "metadata": {},
   "source": [
    "To load a file into memory with a default loader, call {meth}`~lamindb.File.load`: "
   ]
  },
  {
   "cell_type": "code",
   "execution_count": null,
   "metadata": {},
   "outputs": [],
   "source": [
    "df = file.load(index_col=0)  # calls `pd.read_csv` and passes `index_col=0` to it\n",
    "\n",
    "df.head()"
   ]
  },
  {
   "attachments": {},
   "cell_type": "markdown",
   "metadata": {},
   "source": [
    "If the file is large, you'll likely want to query it via {meth}`~lamindb.File.backed`. For more on this, see: {doc}`data`.\n",
    "\n",
    ":::{dropdown} How do I update a file?\n",
    "\n",
    "If you'd like to replace the underlying stored object, use {meth}`~lamindb.File.replace`.\n",
    "\n",
    "If you'd like to update metadata:\n",
    "```\n",
    "file.description = \"My new description\"\n",
    "file.save()  # save the change to the database\n",
    "``` \n",
    "\n",
    ":::\n"
   ]
  },
  {
   "cell_type": "markdown",
   "metadata": {},
   "source": [
    "### Register directories"
   ]
  },
  {
   "cell_type": "markdown",
   "metadata": {},
   "source": [
    "With {meth}`~lamindb.File.from_dir` we now register the entire directory of the first study:"
   ]
  },
  {
   "cell_type": "code",
   "execution_count": null,
   "metadata": {},
   "outputs": [],
   "source": [
    "files = ln.File.from_dir(\"s3://lamindb-dev-datasets/iris_studies/study0_raw_images\")"
   ]
  },
  {
   "cell_type": "markdown",
   "metadata": {},
   "source": [
    "(We see that we already registered one of the files. Instead of creating a new file record, the existing one is returned: see [idempotency](/faq/idempotency))."
   ]
  },
  {
   "cell_type": "markdown",
   "metadata": {},
   "source": [
    "Let's only register the first 5 records to keep things simple:"
   ]
  },
  {
   "cell_type": "code",
   "execution_count": null,
   "metadata": {
    "tags": [
     "hide-output"
    ]
   },
   "outputs": [],
   "source": [
    "files_subset = files[:5]\n",
    "ln.save(files_subset)"
   ]
  },
  {
   "attachments": {},
   "cell_type": "markdown",
   "metadata": {},
   "source": [
    "### Query & search files"
   ]
  },
  {
   "cell_type": "markdown",
   "metadata": {},
   "source": [
    "You can search files directly based on the {class}`~lamindb.File` registry:"
   ]
  },
  {
   "cell_type": "code",
   "execution_count": null,
   "metadata": {},
   "outputs": [],
   "source": [
    "ln.File.search(\"meta\").head()"
   ]
  },
  {
   "attachments": {},
   "cell_type": "markdown",
   "metadata": {},
   "source": [
    "You can also query & search the file by any metadata combination.\n",
    "\n",
    "For instance, look up a user with auto-complete from the {class}`~lamindb.User` registry:"
   ]
  },
  {
   "cell_type": "code",
   "execution_count": null,
   "metadata": {},
   "outputs": [],
   "source": [
    "users = ln.User.lookup()\n",
    "users.testuser1"
   ]
  },
  {
   "cell_type": "markdown",
   "metadata": {},
   "source": [
    "Filter the {class}`~lamindb.Transform` registry for a name:"
   ]
  },
  {
   "cell_type": "code",
   "execution_count": null,
   "metadata": {},
   "outputs": [],
   "source": [
    "transform = ln.Transform.filter(\n",
    "    name__icontains=\"files & datasets\"\n",
    ").one()  # get exactly one result\n",
    "transform"
   ]
  },
  {
   "cell_type": "markdown",
   "metadata": {},
   "source": [
    ":::{dropdown} What does a double underscore mean?\n",
    "\n",
    "For any field, the double underscore defines a comparator, e.g.,\n",
    "\n",
    "* `name__icontains=\"Martha\"`: `name` contains `\"Martha\"` when ignoring case\n",
    "* `name__startswith=\"Martha\"`: `name` starts with `\"Martha`\n",
    "* `name__in=[\"Martha\", \"John\"]`: `name` is `\"John\"` or `\"Martha\"`\n",
    "\n",
    "For more info, see: {doc}`meta`.\n",
    "\n",
    ":::\n",
    "\n",
    "Use these results to filter the {class}`~lamindb.File` registry:"
   ]
  },
  {
   "cell_type": "code",
   "execution_count": null,
   "metadata": {},
   "outputs": [],
   "source": [
    "ln.File.filter(\n",
    "    created_by=users.testuser1,\n",
    "    transform=transform,\n",
    "    suffix=\".jpg\",\n",
    ").df().head()"
   ]
  },
  {
   "cell_type": "markdown",
   "metadata": {},
   "source": [
    "You can also query for directories using `key__startswith` (LaminDB treats directories like AWS S3, as the prefix of the storage `key`): "
   ]
  },
  {
   "cell_type": "code",
   "execution_count": null,
   "metadata": {},
   "outputs": [],
   "source": [
    "ln.File.filter(key__startswith=\"iris_studies/study0_raw_images/\").df().head()"
   ]
  },
  {
   "cell_type": "markdown",
   "metadata": {},
   "source": [
    "```{note}\n",
    "\n",
    "You can look up, filter & search any registry ({class}`~lamindb.dev.Registry`).\n",
    "\n",
    "You can chain {meth}`~lamindb.dev.Registry.filter` statements and {meth}`~lamindb.dev.QuerySet.search`: `ln.File.filter(suffix=\".jpg\").search(\"my image\")`\n",
    "\n",
    "An empty filter returns the entire registry: `ln.File.filter()`\n",
    "```"
   ]
  },
  {
   "cell_type": "markdown",
   "metadata": {},
   "source": [
    "For more info, see: {doc}`meta`."
   ]
  },
  {
   "cell_type": "markdown",
   "metadata": {},
   "source": [
    "## Describe files"
   ]
  },
  {
   "cell_type": "markdown",
   "metadata": {},
   "source": [
    "Get an overview of what happened:"
   ]
  },
  {
   "cell_type": "code",
   "execution_count": null,
   "metadata": {},
   "outputs": [],
   "source": [
    "file.describe()"
   ]
  },
  {
   "cell_type": "code",
   "execution_count": null,
   "metadata": {},
   "outputs": [],
   "source": [
    "file.view_flow()"
   ]
  },
  {
   "cell_type": "markdown",
   "metadata": {},
   "source": [
    "## Version files"
   ]
  },
  {
   "cell_type": "markdown",
   "metadata": {},
   "source": [
    "If you'd like to version a file or transform, either provide the `version` parameter when creating it or create new versions through `is_new_version_of`.\n",
    "\n",
    "For instance:\n",
    "```\n",
    "new_file = ln.File(data, is_new_version_of=old_file)\n",
    "```"
   ]
  },
  {
   "cell_type": "markdown",
   "metadata": {},
   "source": [
    "Are there remaining questions about storing files? If so, see: {doc}`docs:faq/storage`."
   ]
  },
  {
   "cell_type": "markdown",
   "metadata": {},
   "source": [
    "## Create a dataset"
   ]
  },
  {
   "cell_type": "markdown",
   "metadata": {},
   "source": [
    "The 50 image files together with their metadata annotations present a dataset. Let's track it as such:"
   ]
  },
  {
   "cell_type": "code",
   "execution_count": null,
   "metadata": {},
   "outputs": [],
   "source": [
    "dataset = ln.Dataset(\n",
    "    files_subset, name=\"Iris study 1\", description=\"50 image files and metadata\"\n",
    ")"
   ]
  },
  {
   "cell_type": "code",
   "execution_count": null,
   "metadata": {},
   "outputs": [],
   "source": [
    "dataset.save()"
   ]
  },
  {
   "cell_type": "markdown",
   "metadata": {},
   "source": [
    "Most functionality that you just learned about files - e.g., queries & provenance - also applies to {class}`~lamindb.Dataset`.\n",
    "\n",
    "The important difference is that a `Dataset` does not have a `key` field: it's an abstraction over storing data in one or several files or other storage backends.\n",
    "\n",
    "We'll learn more about dataasets in the next part of the tutorial."
   ]
  },
  {
   "cell_type": "markdown",
   "metadata": {},
   "source": [
    "## View changes"
   ]
  },
  {
   "attachments": {},
   "cell_type": "markdown",
   "metadata": {},
   "source": [
    "With {func}`~lamindb.view`, you can see the latest changes to the database:"
   ]
  },
  {
   "cell_type": "code",
   "execution_count": null,
   "metadata": {
    "tags": [
     "hide-output"
    ]
   },
   "outputs": [],
   "source": [
    "ln.view()  # link tables in the database are not shown"
   ]
  },
  {
   "cell_type": "markdown",
   "metadata": {},
   "source": [
    "## Save notebook"
   ]
  },
  {
   "cell_type": "markdown",
   "metadata": {},
   "source": [
    "When you've completed the work on the notebook, you can save an execution report and notebook source code in your storage location like so:"
   ]
  },
  {
   "cell_type": "markdown",
   "metadata": {},
   "source": [
    "lamin save <notebook_path>  # e.g., tutorial.ipynb"
   ]
  },
  {
   "cell_type": "markdown",
   "metadata": {},
   "source": [
    "This will enable you to query the report and source code via `transform.latest_report` and `transform.source_file` and see it in the hub, e.g., [here](https://lamin.ai/laminlabs/lamindata/record/core/Transform?id=NJvdsWWbJlZSz8)."
   ]
  },
  {
   "cell_type": "markdown",
   "metadata": {},
   "source": [
    "## Read on"
   ]
  },
  {
   "cell_type": "markdown",
   "metadata": {},
   "source": [
    "Now, you already know about 6 out of 10 LaminDB core classes! The two most central are:\n",
    "\n",
    "- {class}`~lamindb.File`: data batches\n",
    "- {class}`~lamindb.Dataset`: collections of data batches\n",
    "\n",
    "And the four registries related to provenance:\n",
    "\n",
    "- {class}`~lamindb.Transform`: transforms of files & datasets\n",
    "- {class}`~lamindb.Run`: runs of transforms\n",
    "- {class}`~lamindb.User`: users\n",
    "- {class}`~lamindb.Storage`: storage locations like S3/GCP buckets or local directories"
   ]
  },
  {
   "cell_type": "markdown",
   "metadata": {},
   "source": [
    "If you want to validate data, label files & datasets and manage features, read on: {doc}`/tutorial2`."
   ]
  }
 ],
 "metadata": {
  "kernelspec": {
   "display_name": "Python 3 (ipykernel)",
   "language": "python",
   "name": "python3"
  },
  "language_info": {
   "codemirror_mode": {
    "name": "ipython",
    "version": 3
   },
   "file_extension": ".py",
   "mimetype": "text/x-python",
   "name": "python",
   "nbconvert_exporter": "python",
   "pygments_lexer": "ipython3",
   "version": "3.9.16"
  },
  "nbproject": {
   "id": "NJvdsWWbJlZS",
   "parent": null,
   "pypackage": null,
   "time_init": "2023-03-09T13:30:29.239953+00:00",
   "user_handle": "testuser2",
   "user_id": "bKeW4T6E",
   "user_name": "Test User2",
   "version": "0"
  },
  "vscode": {
   "interpreter": {
    "hash": "ae1fefc8646a06dd2e75004cd934adda7c5727b046986a772e3b44b0ffba9754"
   }
  }
 },
 "nbformat": 4,
 "nbformat_minor": 4
}
