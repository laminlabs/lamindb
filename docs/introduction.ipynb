{
 "cells": [
  {
   "cell_type": "markdown",
   "metadata": {},
   "source": [
    "# Introduction\n",
    "\n",
    "```{include} ../README.md\n",
    ":start-line: 6\n",
    ":end-line: -4\n",
    "```\n",
    "\n",
    ":::{dropdown} LaminDB features\n",
    "\n",
    "```{include} features-lamindb.md\n",
    "```\n",
    ":::\n",
    "\n",
    "LaminHub is a data collaboration hub built on LaminDB similar to how GitHub is built on git.\n",
    "\n",
    ":::{dropdown} LaminHub features\n",
    "\n",
    "```{include} features-laminhub.md\n",
    "```\n",
    ":::\n",
    "\n",
    "LaminHub is free for public data. Enterprise features, support, integration tests & wetlab plug-ins hosted in your or our infrastructure are available on a paid plan: please [reach out](https://lamin.ai/contact)!"
   ]
  },
  {
   "cell_type": "markdown",
   "metadata": {},
   "source": [
    "## Quickstart\n",
    "\n",
    "```{warning}\n",
    "\n",
    "Public beta: Close to having converged a stable API, but some breaking changes might still occur.\n",
    "\n",
    "```"
   ]
  },
  {
   "cell_type": "markdown",
   "metadata": {},
   "source": [
    "### Setup\n",
    "\n",
    "[Sign up](https://lamin.ai/signup-form) for a free account (see more [info](https://lamin.ai/docs/setup)).\n",
    "\n",
    "On the command line, run `pip install 'lamindb[jupyter,bionty]'` and `lamin login <email> --password <password>`.\n",
    "\n",
    "Init a LaminDB instance like you'd init a git repository:"
   ]
  },
  {
   "cell_type": "code",
   "execution_count": null,
   "metadata": {
    "tags": [
     "hide-output"
    ]
   },
   "outputs": [],
   "source": [
    "!lamin init --schema bionty --storage ./lamin-intro  # or s3://my-bucket, gs://my-bucket as default storage"
   ]
  },
  {
   "cell_type": "markdown",
   "metadata": {},
   "source": [
    "Because we passed `--schema bionty`, this instance mounted plug-in {mod}`lnschema_bionty`."
   ]
  },
  {
   "cell_type": "markdown",
   "metadata": {},
   "source": [
    "### Register a dataset"
   ]
  },
  {
   "cell_type": "code",
   "execution_count": null,
   "metadata": {
    "tags": []
   },
   "outputs": [],
   "source": [
    "import lamindb as ln\n",
    "import pandas as pd\n",
    "\n",
    "# track data flow through current notebook\n",
    "ln.track()\n",
    "\n",
    "# access a new batch of data\n",
    "df = pd.DataFrame(\n",
    "    {\"CD8\": [1, 2, 3], \"CD45\": [3, 4, 5], \"perturbation\": [\"DMSO\", \"IFNG\", \"DMSO\"]}\n",
    ")\n",
    "\n",
    "# create a dataset\n",
    "dataset = ln.Dataset(df, name=\"Immune phenotyping 1\")\n",
    "# register dataset\n",
    "dataset.save()"
   ]
  },
  {
   "cell_type": "markdown",
   "metadata": {},
   "source": [
    "### Access a dataset"
   ]
  },
  {
   "cell_type": "code",
   "execution_count": null,
   "metadata": {
    "tags": []
   },
   "outputs": [],
   "source": [
    "# search a dataset\n",
    "ln.Dataset.search(\"immune\")\n",
    "\n",
    "# query a dataset\n",
    "dataset = ln.Dataset.filter(name__contains=\"phenotyping 1\").one()\n",
    "\n",
    "# view data flow\n",
    "dataset.view_flow()\n",
    "\n",
    "# describe metadata\n",
    "dataset.describe()\n",
    "\n",
    "# load the dataset\n",
    "df = dataset.load()"
   ]
  },
  {
   "cell_type": "markdown",
   "metadata": {},
   "source": [
    "### Validate & annotate a dataset\n",
    "\n",
    "Validate the column names in a `DataFrame` _schema-less_:"
   ]
  },
  {
   "cell_type": "code",
   "execution_count": null,
   "metadata": {
    "tags": []
   },
   "outputs": [],
   "source": [
    "# define validation criteria\n",
    "names_types = [(\"CD8\", \"number\"), (\"CD45\", \"number\"), (\"perturbation\", \"category\")]\n",
    "\n",
    "# save validation criteria as features\n",
    "features = [ln.Feature(name=name, type=type) for (name, type) in names_types]\n",
    "ln.save(features)\n",
    "\n",
    "# create dataset & validate features\n",
    "dataset = ln.Dataset.from_df(df, name=\"Immune phenotyping 1\")\n",
    "# register dataset & link validated features\n",
    "dataset.save()\n",
    "\n",
    "# access linked features\n",
    "dataset.features"
   ]
  },
  {
   "cell_type": "markdown",
   "metadata": {},
   "source": [
    "Use the {mod}`lnschema_bionty` plug-in to type biological entities and validate column names _schema-full_:"
   ]
  },
  {
   "cell_type": "code",
   "execution_count": null,
   "metadata": {
    "tags": []
   },
   "outputs": [],
   "source": [
    "# requires the 'bionty' schema\n",
    "import lnschema_bionty as lb\n",
    "\n",
    "# set a global species for multi-species registries\n",
    "lb.settings.species = \"human\"\n",
    "\n",
    "# create cell marker records from the public ontology\n",
    "cell_markers = [lb.CellMarker.from_bionty(name=name) for name in [\"CD8\", \"CD45\"]]\n",
    "ln.save(cell_markers)\n",
    "\n",
    "# create dataset & validate features\n",
    "dataset = ln.Dataset.from_df(\n",
    "    df.iloc[:, :2], name=\"Immune phenotyping 2\", field=lb.CellMarker.name\n",
    ")\n",
    "# register dataset & link validated features\n",
    "dataset.save()\n",
    "\n",
    "dataset.features"
   ]
  },
  {
   "cell_type": "markdown",
   "metadata": {},
   "source": [
    "### Query for annotations"
   ]
  },
  {
   "cell_type": "markdown",
   "metadata": {},
   "source": [
    "Query for a panel of cell markers & the linked datasets:"
   ]
  },
  {
   "cell_type": "code",
   "execution_count": null,
   "metadata": {
    "tags": []
   },
   "outputs": [],
   "source": [
    "# an object to auto-complete cell markers\n",
    "cell_markers = lb.CellMarker.lookup()\n",
    "\n",
    "# all cell marker panel containing CD45\n",
    "panels_with_cd45 = ln.FeatureSet.filter(cell_markers=cell_markers.cd45).all()\n",
    "\n",
    "# all datasets measuring CD45\n",
    "ln.Dataset.filter(feature_sets__in=panels_with_cd45).df()"
   ]
  },
  {
   "cell_type": "markdown",
   "metadata": {},
   "source": [
    "### Annotate with biological labels"
   ]
  },
  {
   "cell_type": "markdown",
   "metadata": {},
   "source": [
    "Use the Experimental Factor Ontology to link a validated label for the readout:"
   ]
  },
  {
   "cell_type": "code",
   "execution_count": null,
   "metadata": {
    "tags": []
   },
   "outputs": [],
   "source": [
    "# search the public ontology from the bionty store\n",
    "lb.ExperimentalFactor.bionty().search(\"facs\").head(2)\n",
    "\n",
    "# create a record for facs\n",
    "facs = lb.ExperimentalFactor.from_bionty(ontology_id=\"EFO:0009108\")\n",
    "facs.save()\n",
    "\n",
    "# label with an inhouse assay\n",
    "immune_assay1 = lb.ExperimentalFactor(name=\"Immune phenotyping assay 1\")\n",
    "immune_assay1.save()\n",
    "\n",
    "dataset.experimental_factors.add(facs, immune_assay1)\n",
    "\n",
    "# create a tissue from a public ontology\n",
    "bone_marrow = lb.Tissue.from_bionty(name=\"bone marrow\")\n",
    "bone_marrow.save()\n",
    "\n",
    "dataset.tissues.add(bone_marrow)\n",
    "\n",
    "dataset.describe()"
   ]
  },
  {
   "cell_type": "markdown",
   "metadata": {},
   "source": [
    "## More examples\n",
    "\n",
    "### Understand data flow\n",
    "\n",
    "View the sequence of data transformations ({class}`~lamindb.Transform`) in a project (from [here](docs:project-flow), based on [Schmidt _et al._, 2022](https://pubmed.ncbi.nlm.nih.gov/35113687/)):\n",
    "\n",
    "```python\n",
    "transform.view_parents()\n",
    "```\n",
    "\n",
    "<img src=\"https://lamin-site-assets.s3.amazonaws.com/.lamindb/b0geN1HDHXlORqMOOPay.svg\" width=\"400\">\n",
    "\n",
    "Or, the generating flow of a file or dataset:\n",
    "\n",
    "```python\n",
    "file.view_flow()\n",
    "```\n",
    "\n",
    "<img src=\"https://lamin-site-assets.s3.amazonaws.com/.lamindb/KQmzmmLOeBN0C8YkitMr.svg\" width=\"800\">\n",
    "\n",
    "\n",
    "Both figures are based on mere calls to `ln.track()` in notebooks, pipelines & app.\n",
    "\n",
    "\n",
    "### Manage biological registries\n",
    "\n",
    "Create a cell type registry from public knowledge and add a new cell state (from [here](bio-registries)):"
   ]
  },
  {
   "cell_type": "code",
   "execution_count": null,
   "metadata": {
    "tags": [
     "hide-output"
    ]
   },
   "outputs": [],
   "source": [
    "import lnschema_bionty as lb\n",
    "\n",
    "# create an ontology-coupled cell type record and save it\n",
    "lb.CellType.from_bionty(name=\"neuron\").save()\n",
    "\n",
    "# create a record to track a new cell state\n",
    "new_cell_state = lb.CellType(name=\"my neuron cell state\", description=\"explains X\")\n",
    "new_cell_state.save()\n",
    "\n",
    "# express that it's a neuron state\n",
    "cell_types = lb.CellType.lookup()\n",
    "new_cell_state.parents.add(cell_types.neuron)"
   ]
  },
  {
   "cell_type": "code",
   "execution_count": null,
   "metadata": {},
   "outputs": [],
   "source": [
    "# view ontological hierarchy\n",
    "new_cell_state.view_parents(distance=2)"
   ]
  },
  {
   "cell_type": "markdown",
   "metadata": {},
   "source": [
    "### Leverage a mesh of instances\n",
    "\n",
    "LaminDB is a distributed system like git.\n",
    "\n",
    "For instance, collaborators can load your instance using:\n",
    "\n",
    "```shell\n",
    "$ lamin load myhandle/myinstance\n",
    "```\n",
    "\n",
    "### Manage custom schemas\n",
    "\n",
    "LaminDB can be customized & extended with schema & app plug-ins building on the [Django](https://github.com/django/django) ecosystem. Examples are\n",
    "\n",
    "- [lnschema_bionty](lnschema_bionty): Registries for basic biological entities, coupled to public ontologies.\n",
    "- [lnschema_lamin1](https://github.com/laminlabs/lnschema-lamin1): Exemplary custom schema to manage samples, treatments, etc. \n",
    "\n",
    "If you'd like to create your own schema or app:\n",
    "\n",
    "1. Create a git repository with registries similar to [lnschema_lamin1](https://github.com/laminlabs/lnschema-lamin1)\n",
    "2. Create & deploy migrations via `lamin migrate create` and `lamin migrate deploy`\n",
    "\n",
    "It's fastest if we do this for you based on our templates within an enterprise plan.\n",
    "\n",
    "## Design\n",
    "\n",
    "LaminDB builds semantics of R&D and biology into well-established infrastructure.\n",
    "\n",
    "It provides a SQL-schema specification for common entities: {class}`~lamindb.File`, {class}`~lamindb.Dataset`, {class}`~lamindb.Transform`, {class}`~lamindb.Feature`, {class}`~lamindb.ULabel` etc. - see the [API reference](reference) or the [source code](https://github.com/laminlabs/lnschema-core/blob/main/lnschema_core/models.py).\n",
    "\n",
    "```{dropdown} What is the schema language?\n",
    "\n",
    "Data models are defined in Python using the Django ORM. Django translates it to SQL.\n",
    "\n",
    "[Django](https://github.com/django/django) is one of the most-used & highly-starred projects on GitHub (~1M dependents, ~73k stars) and has been robustly maintained for 15 years.\n",
    "\n",
    "In the first year, LaminDB used SQLModel/SQLAlchemy -- we might bring back compatibility.\n",
    "\n",
    "```\n",
    "\n",
    "On top of the schema, LaminDB is a Python API that abstracts over storage & database access, data transformations, and (biological) ontologies.\n",
    "\n",
    "The code for this is open-source & accessible through the dependencies & repositories listed below.\n",
    " \n",
    "### Dependencies\n",
    "\n",
    "- Data is stored in a platform-independent way: \n",
    "    - location → local, on AWS S3 or GCP Storage, accessed through `fsspec`\n",
    "    - format → blob-like files or queryable formats like Parquet, zarr, HDF5, TileDB & DuckDB\n",
    "- Metadata is stored in SQL: current backends are SQLite (small teams) and Postgres (any team size).\n",
    "- Django ORM for schema management & metadata queries (until v0.41: SQLModel & SQLAlchemy).\n",
    "- Biological knowledge sources & ontologies: see [Bionty](https://lamin.ai/docs/bionty).\n",
    "\n",
    "For more details, see the [pyproject.toml](https://github.com/laminlabs/lamindb/blob/main/pyproject.toml) file in lamindb & the linked repositories below.\n",
    "\n",
    "### Repositories\n",
    "\n",
    "LaminDB and its plug-ins consist in open-source Python libraries & publicly hosted metadata assets:\n",
    "\n",
    "- [lamindb](https://github.com/laminlabs/lamindb): Core API, which builds on the [core schema](https://github.com/laminlabs/lnschema-core).\n",
    "- [lnschema-bionty](https://github.com/laminlabs/lnschema-bionty): Registries for basic biological entities, coupled to public ontologies.\n",
    "- [lnschema-lamin1](https://github.com/laminlabs/lnschema-lamin1): Exemplary custom schema to manage samples, treatments, etc.\n",
    "- [lamindb-setup](https://github.com/laminlabs/lamindb-setup): Setup & configure LaminDB, client for Lamin Hub.\n",
    "- [bionty](https://github.com/laminlabs/bionty): Accessor for public biological ontologies.\n",
    "- [nbproject](https://github.com/laminlabs/nbproject): Metadata parser for Jupyter notebooks.\n",
    "- [lamin-utils](https://github.com/laminlabs/lamin-utils): Generic utilities, e.g., a logger.\n",
    "- [readfcs](https://github.com/laminlabs/readfcs): FCS file reader.\n",
    "<!-- [bionty-assets](https://github.com/laminlabs/bionty-assets): Hosted assets of parsed public biological ontologies. -->\n",
    "\n",
    "LaminHub is not open-sourced, and neither are plug-ins that model lab operations.\n",
    "\n",
    "\n",
    "### Assumptions & principles\n",
    "\n",
    "<img src=\"https://lamin-site-assets.s3.amazonaws.com/.lamindb/BunYmHkyFLITlM5MYQci.svg\" width=\"350px\" style=\"background: transparent\" align=\"right\">\n",
    "\n",
    "1. Data is generated by instruments that process physical samples: it comes in batches stored as immutable files.\n",
    "2. Files are transformed into more useful data representations, e.g.:\n",
    "   - Summary statistics like count matrices for fastq files\n",
    "   - Array stores of non-array-like input data (e.g., images)\n",
    "   - Higher-level embeddings for lower-level array, text or graph representations\n",
    "   - Concatenated array stores for large-scale atlas-like datasets\n",
    "3. Semantics of high-level embeddings (\"inflammatory\", \"lipophile\") are anchored in experimental metadata and knowledge (ontologies)\n",
    "4. Experimental metadata is another ontology type\n",
    "5. Experiments measure features ({class}`~lamindb.Feature`, {class}`~lnschema_bionty.CellMarker`, ...)\n",
    "6. Samples are annotated by labels ({class}`~lamindb.ULabel`, {class}`~lnschema_bionty.CellLine`, ...)\n",
    "7. Learning and data warehousing both iterate data transformations ({class}`~lamindb.Transform`)\n",
    "8. Basic biological entities should have the same meaning to anyone and across any data platform\n",
    "9. Schema migrations have to be easy\n",
    "\n",
    "### Influences\n",
    "\n",
    "LaminDB was influenced by many other projects, see {doc}`docs:influences`.\n",
    "\n",
    "## Notebooks\n",
    "\n",
    "- Find all guide notebooks [here](https://github.com/laminlabs/lamindb/tree/main/docs/guide).\n",
    "- You can run these notebooks in hosted versions of JupyterLab, e.g., [Saturn Cloud](https://github.com/laminlabs/run-lamin-on-saturn), Google Vertex AI, Google Colab, and others.\n",
    "- Jupyter Lab & Notebook offer a fully interactive experience, VS Code & others require using the CLI to track notebooks: `lamin track my-notebook.ipynb`"
   ]
  },
  {
   "cell_type": "code",
   "execution_count": null,
   "metadata": {
    "tags": [
     "hide-cell"
    ]
   },
   "outputs": [],
   "source": [
    "!lamin delete --force lamin-intro"
   ]
  }
 ],
 "metadata": {
  "kernelspec": {
   "display_name": "py39",
   "language": "python",
   "name": "python3"
  },
  "language_info": {
   "codemirror_mode": {
    "name": "ipython",
    "version": 3
   },
   "file_extension": ".py",
   "mimetype": "text/x-python",
   "name": "python",
   "nbconvert_exporter": "python",
   "pygments_lexer": "ipython3",
   "version": "3.9.16"
  },
  "nbproject": {
   "id": "FPnfDtJz8qbE",
   "parent": null,
   "pypackage": null,
   "time_init": "2023-08-29T19:04:20.821821+00:00",
   "user_handle": "falexwolf",
   "user_id": "FBa7SHjn",
   "user_name": "Alex Wolf",
   "version": "0"
  }
 },
 "nbformat": 4,
 "nbformat_minor": 2
}
