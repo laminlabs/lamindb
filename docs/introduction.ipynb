{
 "cells": [
  {
   "cell_type": "markdown",
   "metadata": {},
   "source": [
    "# Introduction\n",
    "\n",
    "```{include} ../README.md\n",
    ":start-line: 6\n",
    ":end-line: -4\n",
    "```\n",
    "\n",
    ":::{dropdown} LaminDB features\n",
    "\n",
    "```{include} features-lamindb.md\n",
    "```\n",
    ":::\n",
    "\n",
    "LaminHub is a data collaboration hub built on LaminDB similar to how GitHub is built on git.\n",
    "\n",
    ":::{dropdown} LaminHub features\n",
    "\n",
    "```{include} features-laminhub.md\n",
    "```\n",
    ":::\n",
    "\n",
    "Basic features of LaminHub are free. Enterprise features hosted in your or our infrastructure are available on a [paid plan](https://lamin.ai/pricing)!"
   ]
  },
  {
   "cell_type": "markdown",
   "metadata": {},
   "source": [
    "## Quickstart\n",
    "\n",
    "```{warning}\n",
    "\n",
    "Public beta: Close to having converged a stable API, but some breaking changes might still occur.\n",
    "\n",
    "```"
   ]
  },
  {
   "cell_type": "markdown",
   "metadata": {},
   "source": [
    "### Setup LaminDB\n",
    "\n",
    "1. Install the `lamindb` Python package:\n",
    "    ```shell\n",
    "    pip install 'lamindb[jupyter,bionty]'\n",
    "    ```\n",
    "2. [Sign up](https://lamin.ai/signup) for a free account (see more [info](https://lamin.ai/docs/setup)) and copy the API key.\n",
    "3. Log in on the command line (data remains in your infrastructure, with Lamin having no access to it):\n",
    "    ```shell\n",
    "    lamin login <email> --key <API-key>\n",
    "    ```\n",
    "\n",
    "You can now init LaminDB instances like you init git repositories:"
   ]
  },
  {
   "cell_type": "code",
   "execution_count": null,
   "metadata": {
    "tags": [
     "hide-output"
    ]
   },
   "outputs": [],
   "source": [
    "!lamin init --schema bionty --storage ./lamin-intro  # or s3://my-bucket, gs://my-bucket as default storage"
   ]
  },
  {
   "cell_type": "markdown",
   "metadata": {},
   "source": [
    "Because we passed `--schema bionty`, this instance mounted plug-in {mod}`lnschema_bionty`."
   ]
  },
  {
   "cell_type": "markdown",
   "metadata": {},
   "source": [
    "### Register an artifact"
   ]
  },
  {
   "cell_type": "markdown",
   "metadata": {},
   "source": [
    "Track artifacts using the {class}`~lamindb.Artifact` registry:"
   ]
  },
  {
   "cell_type": "code",
   "execution_count": null,
   "metadata": {
    "tags": []
   },
   "outputs": [],
   "source": [
    "import lamindb as ln\n",
    "import pandas as pd\n",
    "\n",
    "# track run context\n",
    "ln.track()\n",
    "\n",
    "# access a batch of data\n",
    "df = pd.DataFrame(\n",
    "    {\"CD8A\": [1, 2, 3], \"CD4\": [3, 4, 5], \"CD14\": [5, 6, 7]},\n",
    "    index=[\"observation1\", \"observation2\", \"observation3\"],\n",
    ")\n",
    "\n",
    "# create an artifact (versioning is optional)\n",
    "artifact = ln.Artifact(df, description=\"my RNA-seq\", version=\"1\")\n",
    "\n",
    "# register artifact\n",
    "artifact.save()"
   ]
  },
  {
   "cell_type": "markdown",
   "metadata": {},
   "source": [
    "### Access an artifact"
   ]
  },
  {
   "cell_type": "code",
   "execution_count": null,
   "metadata": {
    "tags": []
   },
   "outputs": [],
   "source": [
    "# search an artifact\n",
    "ln.Artifact.search(\"RNAseq\")\n",
    "\n",
    "# filter an artifact\n",
    "artifact = ln.Artifact.filter(description__contains=\"RNA-seq\").first()\n",
    "\n",
    "# view data flow\n",
    "artifact.view_lineage()\n",
    "\n",
    "# describe metadata\n",
    "artifact.describe()\n",
    "\n",
    "# load the artifact\n",
    "df = artifact.load()"
   ]
  },
  {
   "cell_type": "markdown",
   "metadata": {},
   "source": [
    ":::{dropdown} Filter & search in the UI\n",
    "\n",
    "<img src=\"https://lamin-site-assets.s3.amazonaws.com/.lamindb/L188T2JjzZHWHfv2S0ib.png\" width=\"700px\">\n",
    "\n",
    ":::"
   ]
  },
  {
   "cell_type": "markdown",
   "metadata": {},
   "source": [
    ":::{dropdown} Data flow in the UI\n",
    "\n",
    "<img src=\"https://lamin-site-assets.s3.amazonaws.com/.lamindb/RGXj5wcAf7EAc6J8aBoM.png\" width=\"700px\">\n",
    "\n",
    ":::"
   ]
  },
  {
   "cell_type": "markdown",
   "metadata": {},
   "source": [
    "### Define features & labels"
   ]
  },
  {
   "cell_type": "markdown",
   "metadata": {},
   "source": [
    "Define features and labels using {class}`~lamindb.Feature` and {class}`~lamindb.ULabel`:"
   ]
  },
  {
   "cell_type": "code",
   "execution_count": null,
   "metadata": {},
   "outputs": [],
   "source": [
    "# define features\n",
    "features = ln.Feature.from_df(df)\n",
    "ln.save(features)\n",
    "\n",
    "# define tissue label\n",
    "tissue = ln.ULabel(name=\"umbilical blood\")\n",
    "tissue.save()\n",
    "\n",
    "# define a parent label\n",
    "is_tissue = ln.ULabel(name=\"is_tissue\")\n",
    "is_tissue.save()\n",
    "is_tissue.children.add(tissue)\n",
    "\n",
    "# view hierarchy\n",
    "tissue.view_parents()"
   ]
  },
  {
   "cell_type": "markdown",
   "metadata": {},
   "source": [
    "### Validate & annotate data"
   ]
  },
  {
   "cell_type": "code",
   "execution_count": null,
   "metadata": {},
   "outputs": [],
   "source": [
    "# create artifact & validate features\n",
    "artifact = ln.Artifact.from_df(df, description=\"my RNA-seq\")\n",
    "\n",
    "# register artifact & link validated features\n",
    "artifact.save()\n",
    "\n",
    "# annotate with a label\n",
    "artifact.labels.add(tissue)\n",
    "\n",
    "# show metadata\n",
    "artifact.describe()"
   ]
  },
  {
   "cell_type": "markdown",
   "metadata": {},
   "source": [
    ":::{dropdown} Data artifacts with context in the UI\n",
    "\n",
    "<img src=\"https://lamin-site-assets.s3.amazonaws.com/.lamindb/DjVOPEBiAcGlt3Gq7Qc1.png\" width=\"700px\">\n",
    "\n",
    ":::"
   ]
  },
  {
   "cell_type": "markdown",
   "metadata": {},
   "source": [
    "### Query for annotations"
   ]
  },
  {
   "cell_type": "code",
   "execution_count": null,
   "metadata": {},
   "outputs": [],
   "source": [
    "# a look-up object for all the children of \"is_tissue\" in ULabel registry\n",
    "tissues = is_tissue.children.lookup()\n",
    "\n",
    "# query for exactly one result annotated with umbilical blood\n",
    "dataset = ln.Artifact.filter(ulabels=tissues.umbilical_blood).one()\n",
    "\n",
    "# permanently delete the artifact (without the permanent flag, moves to trash)\n",
    "artifact.delete(permanent=True)"
   ]
  },
  {
   "cell_type": "markdown",
   "metadata": {},
   "source": [
    "### Use biological types"
   ]
  },
  {
   "cell_type": "markdown",
   "metadata": {},
   "source": [
    "The generic {class}`~lamindb.Feature` and {class}`~lamindb.ULabel` will get you pretty far.\n",
    "\n",
    "But if you use an entity many times, you typically want a dedicated registry, which you can use to type your code & as an interface for public ontologies.\n",
    "\n",
    "Let's do this with {class}`~lnschema_bionty.Gene` and {class}`~lnschema_bionty.Tissue` from plug-in {mod}`lnschema_bionty`:"
   ]
  },
  {
   "cell_type": "code",
   "execution_count": null,
   "metadata": {
    "tags": []
   },
   "outputs": [],
   "source": [
    "import lnschema_bionty as lb\n",
    "\n",
    "# create gene records from the public ontology as features\n",
    "genes = lb.Gene.from_values(df.columns, organism=\"human\")\n",
    "ln.save(genes)\n",
    "\n",
    "# query the entire Gene registry content as a DataFrame\n",
    "lb.Gene.df()\n",
    "\n",
    "# create artifact & validate features using the symbol field of Gene\n",
    "artifact = ln.Artifact.from_df(\n",
    "    df, description=\"my RNA-seq\", field=lb.Gene.symbol, organism=\"human\"\n",
    ")\n",
    "artifact.save()\n",
    "\n",
    "# search the public tissue ontology from the bionty store\n",
    "lb.Tissue.bionty().search(\"umbilical blood\").head(2)\n",
    "\n",
    "# define tissue label\n",
    "tissue = lb.Tissue.from_bionty(name=\"umbilical cord blood\")\n",
    "tissue.save()\n",
    "\n",
    "# ontological hierarchy comes by default\n",
    "tissue.view_parents(distance=2)\n",
    "\n",
    "# annotate with tissue label\n",
    "artifact.labels.add(tissue)\n",
    "\n",
    "# show metadata\n",
    "artifact.describe()"
   ]
  },
  {
   "cell_type": "markdown",
   "metadata": {},
   "source": [
    "Query for gene sets & the linked artifacts:"
   ]
  },
  {
   "cell_type": "code",
   "execution_count": null,
   "metadata": {
    "tags": []
   },
   "outputs": [],
   "source": [
    "# an object to auto-complete human genes\n",
    "genes = lb.Gene.filter(organism__name=\"human\").lookup()\n",
    "\n",
    "# all gene sets measuring CD8A\n",
    "genesets_with_cd8a = ln.FeatureSet.filter(genes=genes.cd8a).all()\n",
    "\n",
    "# all artifacts measuring CD8A\n",
    "ln.Artifact.filter(feature_sets__in=genesets_with_cd8a).df()"
   ]
  },
  {
   "cell_type": "markdown",
   "metadata": {},
   "source": [
    "### Append a new batch of data"
   ]
  },
  {
   "cell_type": "code",
   "execution_count": null,
   "metadata": {},
   "outputs": [],
   "source": [
    "# assume we now run a pipeline in which we access a new batch of data\n",
    "transform = ln.Transform(name=\"RNA-seq ingestion\", type=\"pipeline\", version=\"1\")\n",
    "ln.track(transform)\n",
    "\n",
    "# access a new batch of data with a different schema\n",
    "df = pd.DataFrame(\n",
    "    {\n",
    "        \"CD8A\": [2, 3, 3],\n",
    "        \"CD4\": [3, 4, 5],\n",
    "        \"CD38\": [4, 2, 3],\n",
    "    },\n",
    "    index=[\"observation4\", \"observation5\", \"observation6\"],\n",
    ")\n",
    "\n",
    "# because gene `\"CD38\"` is not yet registered, it doesn't yet validate\n",
    "artifact2 = ln.Artifact.from_df(\n",
    "    df, description=\"my RNA-seq batch 2\", field=lb.Gene.symbol, organism=\"human\"\n",
    ")\n",
    "\n",
    "# let's add it to the `Gene` registry and re-create the artifact - now everything passes\n",
    "lb.Gene.from_bionty(symbol=\"CD38\", organism=\"human\").save()\n",
    "\n",
    "# now we can validate all features\n",
    "artifact2 = ln.Artifact.from_df(\n",
    "    df, description=\"my RNA-seq batch 2\", field=lb.Gene.symbol, organism=\"human\"\n",
    ")\n",
    "artifact2.save()"
   ]
  },
  {
   "cell_type": "markdown",
   "metadata": {},
   "source": [
    "Create a dataset using {class}`~lamindb.Dataset` by linking both batches in a \"sharded dataset\":"
   ]
  },
  {
   "cell_type": "code",
   "execution_count": null,
   "metadata": {},
   "outputs": [],
   "source": [
    "dataset = ln.Dataset([artifact, artifact2], name=\"my RNA-seq dataset\")\n",
    "dataset.save()\n",
    "dataset.describe()\n",
    "dataset.view_lineage()"
   ]
  },
  {
   "cell_type": "markdown",
   "metadata": {},
   "source": [
    "You can load the entire dataset into memory as if it was one:"
   ]
  },
  {
   "cell_type": "code",
   "execution_count": null,
   "metadata": {},
   "outputs": [],
   "source": [
    "dataset.load()"
   ]
  },
  {
   "cell_type": "markdown",
   "metadata": {},
   "source": [
    "Or iterate over its artifacts:"
   ]
  },
  {
   "cell_type": "code",
   "execution_count": null,
   "metadata": {},
   "outputs": [],
   "source": [
    "dataset.artifacts.df()"
   ]
  },
  {
   "cell_type": "markdown",
   "metadata": {},
   "source": [
    "## More examples\n",
    "\n",
    "### Understand data flow\n",
    "\n",
    "View the sequence of data transformations ({class}`~lamindb.Transform`) in a project (from [here](docs:project-flow), based on [Schmidt _et al._, 2022](https://pubmed.ncbi.nlm.nih.gov/35113687/)):\n",
    "\n",
    "```python\n",
    "transform.view_parents()\n",
    "```\n",
    "\n",
    "<img src=\"https://lamin-site-assets.s3.amazonaws.com/.lamindb/b0geN1HDHXlORqMOOPay.svg\" width=\"400\">\n",
    "\n",
    "Or, the generating flow of an artifact:\n",
    "\n",
    "```python\n",
    "artifact.view_lineage()\n",
    "```\n",
    "\n",
    "<img src=\"https://lamin-site-assets.s3.amazonaws.com/.lamindb/KQmzmmLOeBN0C8Ykitjn.svg\" width=\"800\">\n",
    "\n",
    "\n",
    "Both figures are based on mere calls to `ln.track()` in notebooks, pipelines & app.\n",
    "\n",
    "\n",
    "### Manage biological registries\n",
    "\n",
    "Create a cell type registry from public knowledge and add a new cell state (from [here](bio-registries)):"
   ]
  },
  {
   "cell_type": "code",
   "execution_count": null,
   "metadata": {
    "tags": [
     "hide-output"
    ]
   },
   "outputs": [],
   "source": [
    "import lnschema_bionty as lb\n",
    "\n",
    "# create an ontology-coupled cell type record and save it\n",
    "lb.CellType.from_bionty(name=\"neuron\").save()\n",
    "\n",
    "# create a record to track a new cell state\n",
    "new_cell_state = lb.CellType(name=\"my neuron cell state\", description=\"explains X\")\n",
    "new_cell_state.save()\n",
    "\n",
    "# express that it's a neuron state\n",
    "cell_types = lb.CellType.lookup()\n",
    "new_cell_state.parents.add(cell_types.neuron)"
   ]
  },
  {
   "cell_type": "code",
   "execution_count": null,
   "metadata": {},
   "outputs": [],
   "source": [
    "# view ontological hierarchy\n",
    "new_cell_state.view_parents(distance=2)"
   ]
  },
  {
   "cell_type": "markdown",
   "metadata": {},
   "source": [
    "### Leverage a mesh of instances\n",
    "\n",
    "LaminDB is a distributed system like git. Similar to cloning a repository, collaborators can load your instance on the command-line using:\n",
    "\n",
    "```shell\n",
    "lamin load myhandle/myinstance\n",
    "```\n",
    "\n",
    "If you run `lamin save <notebook_path>`, you will save the notebook to your default storage location.\n",
    "\n",
    "You can explore the notebook report corresponding to the quickstart [here](https://lamin.ai/laminlabs/lamindata/record/core/Transform?id=FPnfDtJz8qbEz8) in LaminHub.\n",
    "\n",
    "### Manage custom schemas\n",
    "\n",
    "LaminDB can be customized & extended with schema & app plug-ins building on the [Django](https://github.com/django/django) ecosystem. Examples are\n",
    "\n",
    "- [lnschema_bionty](lnschema_bionty): Registries for basic biological entities, coupled to public ontologies.\n",
    "- [lnschema_lamin1](https://github.com/laminlabs/lnschema-lamin1): Exemplary custom schema to manage samples, treatments, etc. \n",
    "\n",
    "If you'd like to create your own schema or app:\n",
    "\n",
    "1. Create a git repository with registries similar to [lnschema_lamin1](https://github.com/laminlabs/lnschema-lamin1)\n",
    "2. Create & deploy migrations via `lamin migrate create` and `lamin migrate deploy`\n",
    "\n",
    "It's fastest if we do this for you based on our templates within an enterprise plan.\n",
    "\n",
    "## Design\n",
    "\n",
    "### Why?\n",
    "\n",
    "See this [blog post](https://lamin.ai/blog/2022/problems).\n",
    "\n",
    "### Schema & API\n",
    "\n",
    "<img src=\"https://lamin-site-assets.s3.amazonaws.com/.lamindb/XoTQFCmmj2uU4d2xyj9t.png\" width=\"350px\" style=\"background: transparent\" align=\"right\">\n",
    "\n",
    "LaminDB provides a SQL schema for common entities: {class}`~lamindb.Artifact`, {class}`~lamindb.Dataset`, {class}`~lamindb.Transform`, {class}`~lamindb.Feature`, {class}`~lamindb.ULabel` etc. - see the [API reference](reference) or the [source code](https://github.com/laminlabs/lnschema-core/blob/main/lnschema_core/models.py).\n",
    "\n",
    "The core schema is extendable through plug ins (see blue vs. red entities in **graphic**), e.g., with basic biological ({class}`~lnschema_bionty.Gene`, {class}`~lnschema_bionty.Protein`, {class}`~lnschema_bionty.CellLine`, etc.) & operational entities (`Biosample`, `Techsample`, `Treatment`, etc.).\n",
    "\n",
    "```{dropdown} What is the schema language?\n",
    "\n",
    "Data models are defined in Python using the Django ORM. Django translates them to SQL tables.\n",
    "\n",
    "[Django](https://github.com/django/django) is one of the most-used & highly-starred projects on GitHub (~1M dependents, ~73k stars) and has been robustly maintained for 15 years.\n",
    "\n",
    "In the first year, LaminDB used SQLModel/SQLAlchemy -- we might bring back compatibility.\n",
    "\n",
    "```\n",
    "\n",
    "On top of the schema, LaminDB is a Python API that abstracts over storage & database access, data transformations, and (biological) ontologies.\n",
    "\n",
    "The code for this is open-source & accessible through the dependencies & repositories listed below.\n",
    " \n",
    "### Dependencies\n",
    "\n",
    "- Data is stored in a platform-independent way: \n",
    "    - location → local, on AWS S3 or GCP Storage, accessed through `fsspec`\n",
    "    - format → blob-like artifacts or queryable formats like parquet, zarr, HDF5, TileDB, ...\n",
    "- Metadata is stored in SQL: current backends are SQLite (small teams) and Postgres (any team size).\n",
    "- Django ORM for schema management & metadata queries.\n",
    "- Biological knowledge sources & ontologies: see [Bionty](https://lamin.ai/docs/bionty).\n",
    "\n",
    "For more details, see the [pyproject.toml](https://github.com/laminlabs/lamindb/blob/main/pyproject.toml) artifact in lamindb & the linked repositories below.\n",
    "\n",
    "### Repositories\n",
    "\n",
    "LaminDB and its plug-ins consist in open-source Python libraries & publicly hosted metadata assets:\n",
    "\n",
    "- [lamindb](https://github.com/laminlabs/lamindb): Core API, which builds on the [core schema](https://github.com/laminlabs/lnschema-core).\n",
    "- [lnschema-bionty](https://github.com/laminlabs/lnschema-bionty): Registries for basic biological entities, coupled to public ontologies.\n",
    "- [lnschema-lamin1](https://github.com/laminlabs/lnschema-lamin1): Exemplary custom schema to manage samples, treatments, etc.\n",
    "- [lamindb-setup](https://github.com/laminlabs/lamindb-setup): Setup & configure LaminDB, client for LaminHub.\n",
    "- [lamin-cli](https://github.com/laminlabs/lamin-cli): CLI for `lamindb` and `lamindb-setup`.\n",
    "- [bionty](https://github.com/laminlabs/bionty): Accessor for public biological ontologies.\n",
    "- [nbproject](https://github.com/laminlabs/nbproject): Metadata parser for Jupyter notebooks.\n",
    "- [lamin-utils](https://github.com/laminlabs/lamin-utils): Generic utilities, e.g., a logger.\n",
    "- [readfcs](https://github.com/laminlabs/readfcs): FCS artifact reader.\n",
    "<!-- [bionty-assets](https://github.com/laminlabs/bionty-assets): Hosted assets of parsed public biological ontologies. -->\n",
    "\n",
    "LaminHub is not open-sourced, and neither are plug-ins that model lab operations.\n",
    "\n",
    "\n",
    "### Assumptions & principles\n",
    "\n",
    "<img src=\"https://lamin-site-assets.s3.amazonaws.com/.lamindb/BunYmHkyFLITlM5MYQci.svg\" width=\"350px\" style=\"background: transparent\" align=\"right\">\n",
    "\n",
    "1. Data is generated in batches by instruments that process physical samples.\n",
    "2. Batches are transformed into more useful representations\n",
    "3. Semantics of high-level embeddings (\"inflammatory\", \"lipophile\") are anchored in experimental metadata and knowledge (ontologies)\n",
    "4. Experimental metadata is another ontology type\n",
    "5. Experiments measure features ({class}`~lamindb.Feature`, {class}`~lnschema_bionty.CellMarker`, ...)\n",
    "6. Samples are annotated by labels ({class}`~lamindb.ULabel`, {class}`~lnschema_bionty.CellLine`, ...)\n",
    "7. Learning and data warehousing both iterate transformations (see **graphic**, {class}`~lamindb.Transform`)\n",
    "8. Basic biological entities should have the same meaning to anyone and across any data platform\n",
    "\n",
    "### Influences\n",
    "\n",
    "LaminDB was influenced by many other projects, see {doc}`docs:influences`.\n",
    "\n",
    "## Notebooks\n",
    "\n",
    "- Find all tutorial & guide notebooks [here](https://github.com/laminlabs/lamindb/tree/main/docs/) and use cases [here](https://github.com/laminlabs/lamin-usecases).\n",
    "- You can run these notebooks in hosted versions of JupyterLab, e.g., [Saturn Cloud](https://github.com/laminlabs/run-lamin-on-saturn), Google Vertex AI, Google Colab, and others."
   ]
  },
  {
   "cell_type": "code",
   "execution_count": null,
   "metadata": {
    "tags": [
     "hide-cell"
    ]
   },
   "outputs": [],
   "source": [
    "# clean up test instance\n",
    "!lamin delete --force lamin-intro\n",
    "!rm -r lamin-intro"
   ]
  }
 ],
 "metadata": {
  "kernelspec": {
   "display_name": "py39",
   "language": "python",
   "name": "python3"
  },
  "language_info": {
   "codemirror_mode": {
    "name": "ipython",
    "version": 3
   },
   "file_extension": ".py",
   "mimetype": "text/x-python",
   "name": "python",
   "nbconvert_exporter": "python",
   "pygments_lexer": "ipython3",
   "version": "3.10.13"
  },
  "nbproject": {
   "id": "FPnfDtJz8qbE",
   "parent": null,
   "pypackage": null,
   "time_init": "2023-08-29T19:04:20.821821+00:00",
   "user_handle": "falexwolf",
   "user_id": "FBa7SHjn",
   "user_name": "Alex Wolf",
   "version": "0"
  }
 },
 "nbformat": 4,
 "nbformat_minor": 2
}
