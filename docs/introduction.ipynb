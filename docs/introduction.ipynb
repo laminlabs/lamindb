{
 "cells": [
  {
   "cell_type": "markdown",
   "metadata": {},
   "source": [
    "[![Stars](https://img.shields.io/github/stars/laminlabs/lamindb?logo=GitHub&color=yellow)](https://github.com/laminlabs/lamindb)\n",
    "[![pypi](https://img.shields.io/pypi/v/lamindb?color=blue&label=pypi%20package)](https://pypi.org/project/lamindb)"
   ]
  },
  {
   "cell_type": "markdown",
   "metadata": {},
   "source": [
    "# Introduction\n",
    "\n",
    "LaminDB is an open-source data framework for biology.\n",
    "\n",
    "```{include} ../README.md\n",
    ":start-line: 6\n",
    ":end-line: -4\n",
    "```\n",
    "\n",
    ":::{dropdown} LaminDB features\n",
    "\n",
    "```{include} features-lamindb.md\n",
    "```\n",
    ":::\n",
    "\n",
    "LaminHub is a data collaboration hub built on LaminDB similar to how GitHub is built on git.\n",
    "\n",
    ":::{dropdown} LaminHub features\n",
    "\n",
    "```{include} features-laminhub.md\n",
    "```\n",
    ":::\n",
    "\n",
    "Basic features of LaminHub are free.\n",
    "Enterprise features hosted in your or our infrastructure are available on a [paid plan](https://lamin.ai/pricing)!"
   ]
  },
  {
   "cell_type": "markdown",
   "metadata": {},
   "source": [
    "## Quickstart\n",
    "\n",
    "You'll ingest a small dataset while tracking data lineage, and learn how to validate, annotate, query & search."
   ]
  },
  {
   "cell_type": "markdown",
   "metadata": {},
   "source": [
    "### Setup\n",
    "\n",
    "Install the `lamindb` Python package:\n",
    "\n",
    "```shell\n",
    "pip install 'lamindb[jupyter,bionty]'\n",
    "```\n",
    "\n",
    "Initialize a LaminDB instance mounting plugin {py:mod}`bionty` for biological types."
   ]
  },
  {
   "cell_type": "code",
   "execution_count": null,
   "metadata": {
    "tags": [
     "hide-output"
    ]
   },
   "outputs": [],
   "source": [
    "import lamindb as ln\n",
    "\n",
    "# artifacts are stored in a local directory `./lamin-intro`\n",
    "ln.setup.init(schema=\"bionty\", storage=\"./lamin-intro\")"
   ]
  },
  {
   "cell_type": "markdown",
   "metadata": {},
   "source": [
    "### Track\n",
    "\n",
    "Run {meth}`~lamindb.track` to track the input and output data of your code."
   ]
  },
  {
   "cell_type": "code",
   "execution_count": null,
   "metadata": {
    "tags": [
     "hide-output"
    ]
   },
   "outputs": [],
   "source": [
    "# tag your notebook or script with auto-generated identifiers\n",
    "ln.settings.transform.stem_uid = \"FPnfDtJz8qbE\"\n",
    "ln.settings.transform.version = \"1\"\n",
    "\n",
    "# track the execution of your code\n",
    "ln.track()"
   ]
  },
  {
   "cell_type": "markdown",
   "metadata": {},
   "source": [
    "### Artifacts"
   ]
  },
  {
   "cell_type": "markdown",
   "metadata": {},
   "source": [
    "Use {class}`~lamindb.Artifact` to manage data in local or remote storage."
   ]
  },
  {
   "cell_type": "code",
   "execution_count": null,
   "metadata": {
    "tags": [
     "hide-output"
    ]
   },
   "outputs": [],
   "source": [
    "import pandas as pd\n",
    "\n",
    "# a sample dataset\n",
    "df = pd.DataFrame(\n",
    "    {\"CD8A\": [1, 2, 3], \"CD4\": [3, 4, 5], \"CD14\": [5, 6, 7], \"perturbation\": [\"DMSO\", \"IFNG\", \"DMSO\"]},\n",
    "    index=[\"observation1\", \"observation2\", \"observation3\"],\n",
    ")\n",
    "\n",
    "# create an artifact from a DataFrame\n",
    "artifact = ln.Artifact.from_df(df, description=\"my RNA-seq\", version=\"1\")\n",
    "\n",
    "# artifacts come with typed, relational metadata\n",
    "artifact.describe()\n",
    "\n",
    "# save data & metadata in one operation\n",
    "artifact.save()\n",
    "\n",
    "# view data lineage\n",
    "artifact.view_lineage()\n",
    "\n",
    "# load an artifact\n",
    "artifact.load()"
   ]
  },
  {
   "cell_type": "markdown",
   "metadata": {},
   "source": [
    "An artifact stores a dataset or model as either a file or a folder."
   ]
  },
  {
   "cell_type": "markdown",
   "metadata": {},
   "source": [
    ":::{dropdown} How do I register a file or folder?\n",
    "\n",
    "Local:\n",
    "\n",
    "```python\n",
    "ln.Artifact(\"./my_data.fcs\", description=\"my flow cytometry file\")\n",
    "ln.Artifact(\"./my_images/\", description=\"my folder of images\")\n",
    "```\n",
    "\n",
    "Remote:\n",
    "\n",
    "```python\n",
    "ln.Artifact(\"s3://my-bucket/my_data.fcs\", description=\"my flow cytometry file\")\n",
    "ln.Artifact(\"s3://my-bucket/my_images/\", description=\"my folder of images\")\n",
    "```\n",
    "\n",
    "You can also use other remote file systems supported by `fsspec`.\n",
    "\n",
    ":::\n",
    "\n",
    "```{dropdown} Does LaminDB give me a file system?\n",
    "\n",
    "You can organize artifacts using the `key` parameter of {class}`~lamindb.Artifact` as you would in cloud storage.\n",
    "\n",
    "However, LaminDB encourages you to **not** rely on semantic keys.\n",
    "\n",
    "Rather than memorizing names of folders and files, you find data via the entities you care about: people, code, experiments, genes, proteins, cell types, etc.\n",
    "\n",
    "LaminDB embeds each artifact into rich relational metadata and indexes them in storage with a universal ID (`uid`).\n",
    "\n",
    "This scales much better than semantic keys, which lead to deep hierarchical information structures that hard to navigate for humans & machines.\n",
    "\n",
    "```\n",
    "\n",
    ":::{dropdown} Are artifacts aware of array-like data?\n",
    "\n",
    "Yes.\n",
    "\n",
    "You can make artifacts from paths referencing array-like objects:\n",
    "\n",
    "```python\n",
    "ln.Artifact(\"./my_anndata.h5ad\", description=\"annotated array\")\n",
    "ln.Artifact(\"./my_zarr_array/\", description=\"my zarr array store\")\n",
    "```\n",
    "\n",
    "Or from in-memory objects:\n",
    "\n",
    "```python\n",
    "ln.Artifact.from_df(df, description=\"my dataframe\")\n",
    "ln.Artifact.from_anndata(adata, description=\"annotated array\")\n",
    "```\n",
    "\n",
    ":::\n",
    "\n",
    ":::{dropdown} How to version artifacts?\n",
    "\n",
    "Every artifact is auto-versioned by its `hash`.\n",
    "\n",
    "You can also pass a human-readable `version` field and make new versions via:\n",
    "\n",
    "```python\n",
    "artifact_v2 = ln.Artifact(\"my_path\", is_new_version_of=artifact_v1)\n",
    "```\n",
    "\n",
    "Artifacts of the same version family share the same stem uid (the first 16 characters of the `uid`).\n",
    "\n",
    "You can see all versions of an artifact via `artifact.versions`.\n",
    "\n",
    ":::"
   ]
  },
  {
   "cell_type": "markdown",
   "metadata": {},
   "source": [
    "### Labels\n",
    "\n",
    "Label an artifact with a {class}`~lamindb.ULabel`."
   ]
  },
  {
   "cell_type": "code",
   "execution_count": null,
   "metadata": {
    "tags": [
     "hide-output"
    ]
   },
   "outputs": [],
   "source": [
    "# create & save a label\n",
    "candidate_marker_study = ln.ULabel(name=\"Candidate marker study\").save()\n",
    "\n",
    "# label an artifact\n",
    "artifact.labels.add(candidate_marker_study)\n",
    "artifact.describe()\n",
    "\n",
    "# the ULabel registry\n",
    "ln.ULabel.df() "
   ]
  },
  {
   "cell_type": "markdown",
   "metadata": {},
   "source": [
    "### Queries\n",
    "\n",
    "Write arbitrary relational queries (under-the-hood, LaminDB is SQL & Django)."
   ]
  },
  {
   "cell_type": "code",
   "execution_count": null,
   "metadata": {},
   "outputs": [],
   "source": [
    "# get an entity by uid\n",
    "transform = ln.Transform.get(\"FPnfDtJz8qbE\")\n",
    "\n",
    "# filter by description\n",
    "ln.Artifact.filter(description=\"my RNA-seq\").df()\n",
    "\n",
    "# query all artifacts ingested from a notebook named \"Introduction\"\n",
    "artifacts = ln.Artifact.filter(transform__name=\"Introduction\").all()\n",
    "\n",
    "# query all artifacts ingested from a notebook with \"intro\" in the name and labeled \"Candidate marker study\"\n",
    "artifacts = ln.Artifact.filter(transform__name__icontains=\"intro\", ulabels=candidate_marker_study).all()"
   ]
  },
  {
   "cell_type": "markdown",
   "metadata": {},
   "source": [
    "### Search"
   ]
  },
  {
   "cell_type": "code",
   "execution_count": null,
   "metadata": {},
   "outputs": [],
   "source": [
    "# search in a registry\n",
    "ln.Transform.search(\"intro\")\n",
    "\n",
    "# look up records with auto-complete\n",
    "labels = ln.ULabel.lookup()"
   ]
  },
  {
   "cell_type": "markdown",
   "metadata": {},
   "source": [
    ":::{dropdown} Show me a screenshot\n",
    "\n",
    "<img src=\"https://lamin-site-assets.s3.amazonaws.com/.lamindb/lgRNHNtMxjU0y8nIagt7.png\" width=\"400px\">\n",
    "\n",
    ":::"
   ]
  },
  {
   "cell_type": "markdown",
   "metadata": {},
   "source": [
    "## Validate & annotate\n",
    "\n",
    "In LaminDB, validation & annotation of categoricals are closely related by mapping categories on registry content.\n",
    "\n",
    "Let's validate a `DataFrame` by passing validation criteria while constructing an {class}`~lamindb.Annotate` flow object."
   ]
  },
  {
   "cell_type": "markdown",
   "metadata": {},
   "source": [
    "### Validate"
   ]
  },
  {
   "cell_type": "code",
   "execution_count": null,
   "metadata": {
    "tags": [
     "hide-output"
    ]
   },
   "outputs": [],
   "source": [
    "# construct an object to validate & annotate a DataFrame\n",
    "annotate = ln.Annotate.from_df(\n",
    "    df,\n",
    "    # define validation criteria\n",
    "    columns=ln.Feature.name,  # map column names\n",
    "    categoricals={df.perturbation.name: ln.ULabel.name},  # map categories\n",
    ")\n",
    "\n",
    "# the dataframe doesn't validate because registries don't contain the identifiers\n",
    "annotate.validate()"
   ]
  },
  {
   "cell_type": "markdown",
   "metadata": {},
   "source": [
    "### Update registries"
   ]
  },
  {
   "cell_type": "code",
   "execution_count": null,
   "metadata": {
    "tags": [
     "hide-output"
    ]
   },
   "outputs": [],
   "source": [
    "# add non-validated identifiers to their mapped registries\n",
    "annotate.add_new_from_columns()\n",
    "annotate.add_new_from(df.perturbation.name)\n",
    "\n",
    "# the registered labels & features that will from now on be used for validation\n",
    "ln.ULabel.df()\n",
    "ln.Feature.df()"
   ]
  },
  {
   "cell_type": "markdown",
   "metadata": {},
   "source": [
    "### Annotate"
   ]
  },
  {
   "cell_type": "code",
   "execution_count": null,
   "metadata": {
    "tags": [
     "hide-output"
    ]
   },
   "outputs": [],
   "source": [
    "# given the updated registries, the validation passes\n",
    "annotate.validate()\n",
    "\n",
    "# save annotated artifact\n",
    "artifact = annotate.save_artifact(description=\"my RNA-seq\", version=\"1\")\n",
    "artifact.describe()"
   ]
  },
  {
   "cell_type": "markdown",
   "metadata": {},
   "source": [
    "### Query for annotations"
   ]
  },
  {
   "cell_type": "code",
   "execution_count": null,
   "metadata": {
    "tags": [
     "hide-output"
    ]
   },
   "outputs": [],
   "source": [
    "ulabels = ln.ULabel.lookup()\n",
    "ln.Artifact.filter(ulabels=ulabels.ifng).one()"
   ]
  },
  {
   "cell_type": "markdown",
   "metadata": {},
   "source": [
    "## Biological registries"
   ]
  },
  {
   "cell_type": "markdown",
   "metadata": {},
   "source": [
    "The generic {class}`~lamindb.Feature` and {class}`~lamindb.ULabel` registries will get you pretty far.\n",
    "\n",
    "But let's now look at what you do can with a dedicated biological registry like {class}`~bionty.Gene`."
   ]
  },
  {
   "cell_type": "markdown",
   "metadata": {},
   "source": [
    "### Access public ontologies\n",
    "\n",
    "Every {py:mod}`bionty` registry is based on configurable public ontologies."
   ]
  },
  {
   "cell_type": "code",
   "execution_count": null,
   "metadata": {
    "tags": [
     "hide-output"
    ]
   },
   "outputs": [],
   "source": [
    "import bionty as bt\n",
    "\n",
    "cell_types = bt.CellType.public()\n",
    "cell_types"
   ]
  },
  {
   "cell_type": "code",
   "execution_count": null,
   "metadata": {
    "tags": [
     "hide-output"
    ]
   },
   "outputs": [],
   "source": [
    "cell_types.search(\"gamma delta T cell\").head(2)"
   ]
  },
  {
   "cell_type": "markdown",
   "metadata": {},
   "source": [
    "### Validate & annotate with typed features"
   ]
  },
  {
   "cell_type": "code",
   "execution_count": null,
   "metadata": {
    "tags": [
     "hide-output"
    ]
   },
   "outputs": [],
   "source": [
    "import anndata as ad\n",
    "\n",
    "# store the dataset as an AnnData object to distinguish data from metadata\n",
    "adata = ad.AnnData(df[[\"CD8A\", \"CD4\", \"CD14\"]], obs=df[[\"perturbation\"]])\n",
    "\n",
    "# create an annotation flow for an AnnData object\n",
    "annotate = ln.Annotate.from_anndata(\n",
    "    adata,\n",
    "    # define validation criteria\n",
    "    var_index=bt.Gene.symbol, # map .var.index onto Gene registry\n",
    "    categoricals={adata.obs.perturbation.name: ln.ULabel.name}, \n",
    "    organism=\"human\",  # specify the organism for the Gene registry\n",
    ")\n",
    "annotate.validate()\n",
    "\n",
    "# save annotated artifact\n",
    "artifact = annotate.save_artifact(description=\"my RNA-seq\", version=\"1\")\n",
    "artifact.describe()"
   ]
  },
  {
   "cell_type": "markdown",
   "metadata": {},
   "source": [
    "### Query for typed features"
   ]
  },
  {
   "cell_type": "code",
   "execution_count": null,
   "metadata": {
    "tags": [
     "hide-output"
    ]
   },
   "outputs": [],
   "source": [
    "# get a lookup object for human genes\n",
    "genes = bt.Gene.filter(organism__name=\"human\").lookup()\n",
    "# query for all feature sets that contain CD8A\n",
    "feature_sets = ln.FeatureSet.filter(genes=genes.cd8a).all()\n",
    "# write the query\n",
    "ln.Artifact.filter(feature_sets__in=feature_sets).df()"
   ]
  },
  {
   "cell_type": "markdown",
   "metadata": {},
   "source": [
    "### Add new records\n",
    "\n",
    "Create a cell type record and add a new cell state."
   ]
  },
  {
   "cell_type": "code",
   "execution_count": null,
   "metadata": {
    "tags": [
     "hide-output"
    ]
   },
   "outputs": [],
   "source": [
    "# create an ontology-coupled cell type record and save it\n",
    "neuron = bt.CellType.from_public(name=\"neuron\")\n",
    "neuron.save()"
   ]
  },
  {
   "cell_type": "code",
   "execution_count": null,
   "metadata": {},
   "outputs": [],
   "source": [
    "# create a record to track a new cell state\n",
    "new_cell_state = bt.CellType(name=\"my neuron cell state\", description=\"explains X\")\n",
    "new_cell_state.save()\n",
    "\n",
    "# express that it's a neuron state\n",
    "new_cell_state.parents.add(neuron)\n",
    "\n",
    "# view ontological hierarchy\n",
    "new_cell_state.view_parents(distance=2)"
   ]
  },
  {
   "cell_type": "markdown",
   "metadata": {},
   "source": [
    "## Scale up data & learning"
   ]
  },
  {
   "cell_type": "markdown",
   "metadata": {},
   "source": [
    "How do you learn from new datasets that extend your previous data history? Leverage {class}`~lamindb.Collection`."
   ]
  },
  {
   "cell_type": "code",
   "execution_count": null,
   "metadata": {
    "tags": [
     "hide-output"
    ]
   },
   "outputs": [],
   "source": [
    "# a new dataset\n",
    "df = pd.DataFrame(\n",
    "    {\n",
    "        \"CD8A\": [2, 3, 3],\n",
    "        \"CD4\": [3, 4, 5],\n",
    "        \"CD38\": [4, 2, 3],\n",
    "        \"perturbation\": [\"DMSO\", \"IFNG\", \"IFNG\"]\n",
    "    },\n",
    "    index=[\"observation4\", \"observation5\", \"observation6\"],\n",
    ")\n",
    "adata = ad.AnnData(df[[\"CD8A\", \"CD4\", \"CD38\"]], obs=df[[\"perturbation\"]])\n",
    "\n",
    "# validate, annotate and save a new artifact\n",
    "annotate = ln.Annotate.from_anndata(\n",
    "    adata,\n",
    "    var_index=bt.Gene.symbol,\n",
    "    categoricals={adata.obs.perturbation.name: ln.ULabel.name},\n",
    "    organism=\"human\"\n",
    ")\n",
    "annotate.validate()\n",
    "artifact2 = annotate.save_artifact(description=\"my RNA-seq dataset 2\")"
   ]
  },
  {
   "cell_type": "markdown",
   "metadata": {},
   "source": [
    "### Collections of artifacts"
   ]
  },
  {
   "cell_type": "markdown",
   "metadata": {},
   "source": [
    "Create a collection using {class}`~lamindb.Collection`."
   ]
  },
  {
   "cell_type": "code",
   "execution_count": null,
   "metadata": {
    "tags": [
     "hide-output"
    ]
   },
   "outputs": [],
   "source": [
    "collection = ln.Collection([artifact, artifact2], name=\"my RNA-seq collection\", version=\"1\")\n",
    "collection.save(transfer_labels=True)  # transfer labels from artifacts to collection\n",
    "collection.describe()\n",
    "collection.view_lineage()"
   ]
  },
  {
   "cell_type": "code",
   "execution_count": null,
   "metadata": {
    "tags": [
     "hide-output"
    ]
   },
   "outputs": [],
   "source": [
    "# if it's small enough, you can load the entire collection into memory as if it was one\n",
    "collection.load()\n",
    "\n",
    "# typically, it's too big, hence, iterate over its artifacts\n",
    "collection.artifacts.all()\n",
    "\n",
    "# or look at a DataFrame listing the artifacts\n",
    "collection.artifacts.df()"
   ]
  },
  {
   "cell_type": "markdown",
   "metadata": {},
   "source": [
    "### Data loaders"
   ]
  },
  {
   "cell_type": "markdown",
   "metadata": {},
   "source": [
    "```\n",
    "# to train models, batch iterate through the collection as if it was one array\n",
    "from torch.utils.data import DataLoader, WeightedRandomSampler\n",
    "dataset = collection.mapped(obs_keys=[\"perturbation\"])\n",
    "sampler = WeightedRandomSampler(\n",
    "    weights=dataset.get_label_weights(\"perturbation\"), num_samples=len(dataset)\n",
    ")\n",
    "data_loader = DataLoader(dataset, batch_size=2, sampler=sampler)\n",
    "for batch in data_loader:\n",
    "    pass\n",
    "```"
   ]
  },
  {
   "cell_type": "markdown",
   "metadata": {},
   "source": [
    "Read this [blog post](https://lamin.ai/blog/arrayloader-benchmarks) for more on training models on sharded datasets."
   ]
  },
  {
   "cell_type": "markdown",
   "metadata": {},
   "source": [
    "## Data lineage\n",
    "\n",
    "### Save notebooks & scripts"
   ]
  },
  {
   "cell_type": "markdown",
   "metadata": {},
   "source": [
    "If you call {func}`~lamindb.finish()`, you save the run report, source code, and compute environment to your default storage location."
   ]
  },
  {
   "cell_type": "markdown",
   "metadata": {},
   "source": [
    "```\n",
    "ln.finish()\n",
    "```"
   ]
  },
  {
   "cell_type": "markdown",
   "metadata": {},
   "source": [
    "See an example for this introductory notebook [here](https://lamin.ai/laminlabs/lamindata/transform/FPnfDtJz8qbE5zKv).\n",
    "\n",
    ":::{dropdown} Show me a screenshot\n",
    "\n",
    "<img src=\"https://lamin-site-assets.s3.amazonaws.com/.lamindb/RGXj5wcAf7EAc6J8aBoM.png\" width=\"700px\">\n",
    "\n",
    ":::\n",
    "\n",
    "If you want to cache a notebook or script, call:\n",
    "\n",
    "```bash\n",
    "lamin get https://lamin.ai/laminlabs/lamindata/transform/FPnfDtJz8qbE5zKv\n",
    "```\n"
   ]
  },
  {
   "cell_type": "markdown",
   "metadata": {},
   "source": [
    "### Data lineage across entire projects\n",
    "\n",
    "View the sequence of data transformations ({class}`~lamindb.Transform`) in a project (from [here](docs:project-flow), based on [Schmidt _et al._, 2022](https://pubmed.ncbi.nlm.nih.gov/35113687/)):\n",
    "\n",
    "```python\n",
    "transform.view_parents()\n",
    "```\n",
    "\n",
    "<img src=\"https://lamin-site-assets.s3.amazonaws.com/.lamindb/b0geN1HDHXlORqMOOPay.svg\" width=\"400\">\n",
    "\n",
    "Or, the generating flow of an artifact:\n",
    "\n",
    "```python\n",
    "artifact.view_lineage()\n",
    "```\n",
    "\n",
    "<img src=\"https://lamin-site-assets.s3.amazonaws.com/.lamindb/KQmzmmLOeBN0C8Ykitjn.svg\" width=\"800\">\n",
    "\n",
    "\n",
    "Both figures are based on mere calls to `ln.track()` in notebooks, pipelines & app."
   ]
  },
  {
   "cell_type": "markdown",
   "metadata": {},
   "source": [
    "## Distributed databases\n",
    "\n",
    "### Easily create & access databases\n",
    "\n",
    "LaminDB is a distributed system like git. Similar to cloning a repository, collaborators can connect to your instance via:\n",
    "\n",
    "```python\n",
    "ln.connect(\"account-handle/instance-name\")\n",
    "```\n",
    "\n",
    "Or you load an instance on the command line for auto-connecting in a Python session:\n",
    "\n",
    "```shell\n",
    "lamin load \"account-handle/instance-name\"\n",
    "```\n",
    "\n",
    "Or you create your new instance:\n",
    "\n",
    "```shell\n",
    "lamin init --storage ./my-data-folder\n",
    "```"
   ]
  },
  {
   "cell_type": "markdown",
   "metadata": {},
   "source": [
    "### Custom schemas and plugins\n",
    "\n",
    "LaminDB can be customized & extended with schema & app plugins building on the [Django](https://github.com/django/django) ecosystem. Examples are:\n",
    "\n",
    "- [bionty](./bionty): Registries for basic biological entities, coupled to public ontologies.\n",
    "- [wetlab](https://github.com/laminlabs/wetlab): Exemplary custom schema to manage samples, treatments, etc. \n",
    "\n",
    "If you'd like to create your own schema or app:\n",
    "\n",
    "1. Create a git repository with registries similar to [wetlab](https://github.com/laminlabs/wetlab)\n",
    "2. Create & deploy migrations via `lamin migrate create` and `lamin migrate deploy`\n",
    "\n",
    "It's fastest if we do this for you based on our templates within an [enterprise plan](https://lamin.ai/pricing)."
   ]
  },
  {
   "cell_type": "markdown",
   "metadata": {},
   "source": [
    "## Design\n",
    "\n",
    "### Why?\n",
    "\n",
    "<img src=\"https://lamin-site-assets.s3.amazonaws.com/.lamindb/BunYmHkyFLITlM5MYQci.svg\" width=\"350px\" style=\"background: transparent\" align=\"right\">\n",
    "\n",
    "The complexity of modern R&D data often blocks realizing the scientific progress it promises.\n",
    "\n",
    "See this [blog post](https://lamin.ai/blog/problems).\n",
    "\n",
    "### Assumptions\n",
    "\n",
    "1. Batched datasets from physical instruments are transformed ({class}`~lamindb.Transform`) into useful representations ({class}`~lamindb.Artifact`)\n",
    "2. Learning needs features ({class}`~lamindb.Feature`, {class}`~bionty.CellMarker`, ...) and labels ({class}`~lamindb.ULabel`, {class}`~bionty.CellLine`, ...)\n",
    "3. Insights connect representations to experimental metadata and knowledge (ontologies)\n",
    "\n",
    "### Schema & API\n",
    "\n",
    "<img src=\"https://lamin-site-assets.s3.amazonaws.com/.lamindb/XoTQFCmmj2uU4d2xyj9t.png\" width=\"350px\" style=\"background: transparent\" align=\"right\">\n",
    "\n",
    "LaminDB provides a SQL schema for common entities: {class}`~lamindb.Artifact`, {class}`~lamindb.Collection`, {class}`~lamindb.Transform`, {class}`~lamindb.Feature`, {class}`~lamindb.ULabel` etc. - see the [API reference](reference) or the [source code](https://github.com/laminlabs/lnschema-core/blob/main/lnschema_core/models.py).\n",
    "\n",
    "The core schema is extendable through plugins (see blue vs. red entities in **graphic**), e.g., with basic biological ({class}`~bionty.Gene`, {class}`~bionty.Protein`, {class}`~bionty.CellLine`, etc.) & operational entities (`Biosample`, `Techsample`, `Treatment`, etc.).\n",
    "\n",
    "```{dropdown} What is the schema language?\n",
    "\n",
    "Data models are defined in Python using the Django ORM. Django translates them to SQL tables.\n",
    "[Django](https://github.com/django/django) is one of the most-used & highly-starred projects on GitHub (~1M dependents, ~73k stars) and has been robustly maintained for 15 years.\n",
    "\n",
    "```\n",
    "\n",
    "On top of the schema, LaminDB is a Python API that abstracts over storage & database access, data transformations, and (biological) ontologies.\n",
    "\n",
    "### Repositories\n",
    "\n",
    "LaminDB and its plug-ins consist in open-source Python libraries & publicly hosted metadata assets:\n",
    "\n",
    "- [lamindb](https://github.com/laminlabs/lamindb): Core API, which builds on the [core schema](https://github.com/laminlabs/lnschema-core).\n",
    "- [bionty](https://github.com/laminlabs/bionty): Registries for basic biological entities, coupled to public ontologies.\n",
    "- [wetlab](https://github.com/laminlabs/wetlab): An (exemplary) wetlab schema.\n",
    "- [guides](https://github.com/laminlabs/lamindb/tree/main/docs/): Guides.\n",
    "- [usecases](https://github.com/laminlabs/lamin-usecases): Use cases.\n",
    "\n",
    "LaminHub is not open-sourced.\n",
    "\n",
    "<!-- [lamindb-setup](https://github.com/laminlabs/lamindb-setup): Setup & configure LaminDB, client for LaminHub. -->\n",
    "<!-- [lamin-cli](https://github.com/laminlabs/lamin-cli): CLI for `lamindb` and `lamindb-setup`. -->\n",
    "<!-- [lamin-utils](https://github.com/laminlabs/lamin-utils): Generic utilities, e.g., a logger. -->\n",
    "<!-- [readfcs](https://github.com/laminlabs/readfcs): FCS artifact reader. -->\n",
    "<!-- [bionty-assets](https://github.com/laminlabs/bionty-assets): Hosted assets of parsed public biological ontologies. -->\n",
    "\n",
    "### Influences\n",
    "\n",
    "LaminDB was influenced by many other projects, see {doc}`docs:influences`."
   ]
  }
 ],
 "metadata": {
  "kernelspec": {
   "display_name": "py39",
   "language": "python",
   "name": "python3"
  },
  "language_info": {
   "codemirror_mode": {
    "name": "ipython",
    "version": 3
   },
   "file_extension": ".py",
   "mimetype": "text/x-python",
   "name": "python",
   "nbconvert_exporter": "python",
   "pygments_lexer": "ipython3",
   "version": "3.10.13"
  }
 },
 "nbformat": 4,
 "nbformat_minor": 2
}
