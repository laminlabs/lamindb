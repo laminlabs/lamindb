{
 "cells": [
  {
   "cell_type": "markdown",
   "id": "39cf23f3",
   "metadata": {},
   "source": [
    "# Insert, update & delete data: `add & delete`"
   ]
  },
  {
   "cell_type": "code",
   "execution_count": null,
   "id": "4e4f6f24",
   "metadata": {},
   "outputs": [],
   "source": [
    "import lamindb as ln\n",
    "from lamindb.schema import core, wetlab\n",
    "import pandas as pd\n",
    "\n",
    "ln.nb.header()"
   ]
  },
  {
   "cell_type": "markdown",
   "id": "45033067",
   "metadata": {},
   "source": [
    "## Insert"
   ]
  },
  {
   "cell_type": "code",
   "execution_count": null,
   "id": "77161019",
   "metadata": {},
   "outputs": [],
   "source": [
    "biosample = ln.add(wetlab.biosample(name=\"B1\"))"
   ]
  },
  {
   "cell_type": "code",
   "execution_count": null,
   "id": "730faa68-bb78-4420-b0cc-88dedc16f799",
   "metadata": {},
   "outputs": [],
   "source": [
    "biosample"
   ]
  },
  {
   "cell_type": "markdown",
   "id": "8734359d",
   "metadata": {},
   "source": [
    "Batch insert can be done by providing a list of records."
   ]
  },
  {
   "cell_type": "code",
   "execution_count": null,
   "id": "2d8bcf30",
   "metadata": {},
   "outputs": [],
   "source": [
    "biosamples = [wetlab.biosample(name=name) for name in [\"B2\", \"B3\", \"B4\"]]"
   ]
  },
  {
   "cell_type": "code",
   "execution_count": null,
   "id": "6ffbf8a3",
   "metadata": {},
   "outputs": [],
   "source": [
    "ln.add(biosamples)"
   ]
  },
  {
   "cell_type": "markdown",
   "id": "eff8c29a",
   "metadata": {},
   "source": [
    "## Update"
   ]
  },
  {
   "cell_type": "code",
   "execution_count": null,
   "id": "1b9e7514",
   "metadata": {},
   "outputs": [],
   "source": [
    "dobject = ln.select(core.dobject, name=\"iris\").first()\n",
    "dobject"
   ]
  },
  {
   "cell_type": "markdown",
   "id": "69807bd2",
   "metadata": {},
   "source": [
    "Let's update the name \"iris\" to \"iris_new\"."
   ]
  },
  {
   "cell_type": "code",
   "execution_count": null,
   "id": "ea4eeb70-8814-4416-a928-68e7edb2c5df",
   "metadata": {},
   "outputs": [],
   "source": [
    "dobject.name = \"iris_new\""
   ]
  },
  {
   "cell_type": "code",
   "execution_count": null,
   "id": "1204c848",
   "metadata": {},
   "outputs": [],
   "source": [
    "ln.add(dobject)"
   ]
  },
  {
   "cell_type": "markdown",
   "id": "bb7fe0d1",
   "metadata": {},
   "source": [
    "Let's select the same object again to see if the name has changed."
   ]
  },
  {
   "cell_type": "code",
   "execution_count": null,
   "id": "9abdd277",
   "metadata": {},
   "outputs": [],
   "source": [
    "dobject = ln.get(core.dobject, dobject.id)\n",
    "dobject"
   ]
  },
  {
   "cell_type": "markdown",
   "id": "8c3d8f53",
   "metadata": {},
   "source": [
    "## Delete"
   ]
  },
  {
   "cell_type": "markdown",
   "id": "5fc3f9a4",
   "metadata": {},
   "source": [
    "Let us delete a file:"
   ]
  },
  {
   "cell_type": "code",
   "execution_count": null,
   "id": "bf2f26b6-0d01-40e0-8246-857d3aae8833",
   "metadata": {},
   "outputs": [],
   "source": [
    "dobject = ln.select(core.dobject, name=\"paradisi05_laminopathic_nuclei\").one()"
   ]
  },
  {
   "cell_type": "code",
   "execution_count": null,
   "id": "9670cd6c",
   "metadata": {},
   "outputs": [],
   "source": [
    "ln.delete.dobject(dobject.id)"
   ]
  },
  {
   "cell_type": "markdown",
   "id": "0b554d40",
   "metadata": {},
   "source": [
    "Check that the data is indeed gone from the database."
   ]
  },
  {
   "cell_type": "code",
   "execution_count": null,
   "id": "50148ce2",
   "metadata": {},
   "outputs": [],
   "source": [
    "ln.select(core.dobject, name=\"paradisi05_laminopathic_nuclei\").all()"
   ]
  }
 ],
 "metadata": {
  "kernelspec": {
   "display_name": "Python 3.10.6 64-bit",
   "language": "python",
   "name": "python3"
  },
  "language_info": {
   "codemirror_mode": {
    "name": "ipython",
    "version": 3
   },
   "file_extension": ".py",
   "mimetype": "text/x-python",
   "name": "python",
   "nbconvert_exporter": "python",
   "pygments_lexer": "ipython3",
   "version": "3.10.6"
  },
  "nbproject": {
   "id": "yowZSQXMmZkT",
   "parent": null,
   "pypackage": null,
   "time_init": "2022-08-22T19:04:50.013241+00:00",
   "version": "draft"
  },
  "vscode": {
   "interpreter": {
    "hash": "b0fa6594d8f4cbf19f97940f81e996739fb7646882a419484c72d19e05852a7e"
   }
  }
 },
 "nbformat": 4,
 "nbformat_minor": 5
}
