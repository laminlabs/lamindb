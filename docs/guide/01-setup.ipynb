{
 "cells": [
  {
   "cell_type": "markdown",
   "metadata": {},
   "source": [
    "# Setup quickstart"
   ]
  },
  {
   "cell_type": "markdown",
   "metadata": {},
   "source": [
    "```{note}\n",
    "\n",
    "We offer both a CLI and a Python API (`lamindb.setup`) for setup. They contain the same functions and arguments.\n",
    "\n",
    "Typically, you'll use the CLI. Sometimes, you might prefer using `lamindb.setup`.\n",
    "\n",
    "```"
   ]
  },
  {
   "cell_type": "code",
   "execution_count": null,
   "metadata": {},
   "outputs": [],
   "source": [
    "import lamindb as ln"
   ]
  },
  {
   "cell_type": "markdown",
   "metadata": {},
   "source": [
    "## Sign up and log in user"
   ]
  },
  {
   "cell_type": "markdown",
   "metadata": {},
   "source": [
    "You can sign up using:\n",
    "\n",
    "```{code}\n",
    "\n",
    "ln.setup.signup(\"testuser1@lamin.ai\")\n",
    "```\n",
    "This command will generate a password for you and cache both email and password in your `~/.lndb` directory. \n",
    "\n",
    "📧 You will also receive a confirmation email with a link to choose your user handle and complete the sign-up!"
   ]
  },
  {
   "cell_type": "markdown",
   "metadata": {},
   "source": [
    "For your first login you will be asked to login with your email:"
   ]
  },
  {
   "cell_type": "code",
   "execution_count": null,
   "metadata": {},
   "outputs": [],
   "source": [
    "ln.setup.login(\"testuser1@lamin.ai\")"
   ]
  },
  {
   "cell_type": "markdown",
   "metadata": {},
   "source": [
    "After that, you can log in with your user handle:"
   ]
  },
  {
   "cell_type": "code",
   "execution_count": null,
   "metadata": {},
   "outputs": [],
   "source": [
    "ln.setup.login(\"testuser1\")"
   ]
  },
  {
   "cell_type": "markdown",
   "metadata": {},
   "source": [
    "If your password has not been cached in your environment, you will need to pass it to the `login()` function:\n",
    "```{code}\n",
    "ln.setup.login(\"testuser1@lamin.ai\", password=\"<generated password>\")\n",
    "```"
   ]
  },
  {
   "cell_type": "markdown",
   "metadata": {},
   "source": [
    "You may also sign up and log in using the CLI:\n",
    "\n",
    "```{code}\n",
    "\n",
    "lamin signup <email>\n",
    "lamin login <handle>"
   ]
  },
  {
   "cell_type": "markdown",
   "metadata": {},
   "source": [
    "## Init an instance"
   ]
  },
  {
   "cell_type": "markdown",
   "metadata": {},
   "source": [
    "```{important}\n",
    "\n",
    "`Init` is only needed to run **once**, by the instance owner.\n",
    "\n",
    "After the instance is set up, use `load`.\n",
    "\n",
    "```"
   ]
  },
  {
   "cell_type": "markdown",
   "metadata": {},
   "source": [
    "You can provide the following arguments when initializing an instance:\n",
    "\n",
    "- `storage`: a storage location\n",
    "    - local storage: path to a local directory (Note: the directory name is used as the instance name by default)\n",
    "    - cloud storage: `s3://my-bucket` for S3 bucket; `gs://my-bucket` for Google Cloud\n",
    "- `db`: [a database URI](https://docs.sqlalchemy.org/en/20/core/engines.html#database-urls)\n",
    "    - if not specified, the instance will by default use a SQLite database\n",
    "- `schema`: schema modules\n",
    "    - by default uses the [core schema module](https://lamin.ai/docs/lnschema-core) for data lineage\n",
    "    - we provide 2 public schema modules:\n",
    "        - [`bionty`](https://lamin.ai/docs/lnschema-bionty): biological entities\n",
    "        - [`wetlab`](https://lamin.ai/docs/lnschema-wetlab): a generic wetlab\n",
    "    - [contact us](https://lamin.ai/contact) to learn about customizing schema modules"
   ]
  },
  {
   "cell_type": "markdown",
   "metadata": {},
   "source": [
    "### Local storage + SQLite"
   ]
  },
  {
   "cell_type": "markdown",
   "metadata": {},
   "source": [
    "Here, we initialize a local instance with storage in `./mydata/` and a local SQlite database for managing it.\n",
    "\n",
    "We mount `bionty` and `wetlab` schema modules.\n",
    "\n",
    "If you are only interested in tracking data and runs (pipelines and analyses), init your local SQLite instance via:\n",
    "\n",
    "- Python API: `ln.setup.init(storage=\"mydata\")`\n",
    "- Or on the command line: `lamin init --storage mydata`"
   ]
  },
  {
   "cell_type": "code",
   "execution_count": null,
   "metadata": {},
   "outputs": [],
   "source": [
    "ln.setup.init(storage=\"mydata\", schema=\"bionty,wetlab\")"
   ]
  },
  {
   "cell_type": "markdown",
   "metadata": {},
   "source": [
    "Or on the command line:\n",
    "\n",
    "```{code}\n",
    "\n",
    "lamin init --storage mydata --schema bionty,wetlab"
   ]
  },
  {
   "cell_type": "markdown",
   "metadata": {},
   "source": [
    "\n",
    "The CLI prints help as follows."
   ]
  },
  {
   "cell_type": "code",
   "execution_count": null,
   "metadata": {},
   "outputs": [],
   "source": [
    "!lamin -h"
   ]
  },
  {
   "cell_type": "code",
   "execution_count": null,
   "metadata": {},
   "outputs": [],
   "source": [
    "!lamin init -h"
   ]
  },
  {
   "cell_type": "markdown",
   "metadata": {},
   "source": [
    "### Cloud storage (AWS S3) + SQLite"
   ]
  },
  {
   "cell_type": "markdown",
   "metadata": {},
   "source": [
    "- Python API:  `ln.setup.init(storage=\"s3://<bucket_name>\", schema=\"bionty,wetlab\")`\n",
    "- CLI: `lamin init --storage s3://<bucket_name> --schema bionty,wetlab`"
   ]
  },
  {
   "cell_type": "markdown",
   "metadata": {},
   "source": [
    "### Cloud storage (Google Cloud) + Postgres"
   ]
  },
  {
   "cell_type": "markdown",
   "metadata": {},
   "source": [
    "- Python API: `ln.setup.init(storage=\"gs://<bucket_name>\", db=\"postgresql://<user>:<pwd>@<hostname>:<port>/<dbname>\", schema=\"bionty,wetlab\")`\n",
    "- CLI: `lamin init --storage gs://<bucket_name> --db postgresql://<user>:<pwd>@<hostname>:<port>/<dbname> --schema bionty,wetlab`"
   ]
  },
  {
   "cell_type": "markdown",
   "metadata": {},
   "source": [
    "Your database is now set up! 🎉"
   ]
  },
  {
   "cell_type": "markdown",
   "metadata": {},
   "source": [
    "## Load an instance"
   ]
  },
  {
   "cell_type": "markdown",
   "metadata": {},
   "source": [
    "- If you want to load your own instance: `ln.setup.load(f\"{instance_name}\")`\n",
    "- If you want to load somebody else's instance: `ln.setup.load(f\"{account_handle}/{instance_name}\")`"
   ]
  },
  {
   "cell_type": "markdown",
   "metadata": {},
   "source": [
    "## See user and instance settings"
   ]
  },
  {
   "cell_type": "markdown",
   "metadata": {},
   "source": [
    "In this local setup, all instance data is in `mydata/` and all metadata in the SQLite file `mydata/mydata.lndb`.\n",
    "\n",
    "Settings persist in `~/.lndb/instance-mydata.env` (and `~/.lndb/user-{user-handle}.env`) and can be accessed via [`lamindb.settings`](https://ln.setup.ai/docs/lamin/ln.setup.settings)."
   ]
  },
  {
   "cell_type": "markdown",
   "metadata": {},
   "source": [
    "```{tip}\n",
    "\n",
    "You can check the current instance settings on command line:\n",
    "\n",
    "```{code}\n",
    "\n",
    "lamin info\n",
    "```"
   ]
  },
  {
   "cell_type": "code",
   "execution_count": null,
   "metadata": {},
   "outputs": [],
   "source": [
    "ln.setup.settings.user"
   ]
  },
  {
   "cell_type": "code",
   "execution_count": null,
   "metadata": {},
   "outputs": [],
   "source": [
    "ln.setup.settings.instance.name"
   ]
  },
  {
   "cell_type": "markdown",
   "metadata": {},
   "source": [
    "```{note}\n",
    "\n",
    "The name of a instance is automatically referred upon init.\n",
    "- For SQLite: uses the storage directory name\n",
    "- For Postgres: uses the database name\n",
    "- You may specify the name using the `name` parameter in the `init` function.\n",
    "```"
   ]
  },
  {
   "cell_type": "code",
   "execution_count": null,
   "metadata": {},
   "outputs": [],
   "source": [
    "ln.setup.settings.instance.owner"
   ]
  },
  {
   "cell_type": "markdown",
   "metadata": {},
   "source": [
    "```{note}\n",
    "\n",
    "The user who first runs the `init` function is the owner of an instance.\n",
    "```"
   ]
  },
  {
   "cell_type": "code",
   "execution_count": null,
   "metadata": {},
   "outputs": [],
   "source": [
    "ln.setup.settings.instance.identifier"
   ]
  },
  {
   "cell_type": "code",
   "execution_count": null,
   "metadata": {},
   "outputs": [],
   "source": [
    "ln.setup.settings.instance.db"
   ]
  },
  {
   "cell_type": "code",
   "execution_count": null,
   "metadata": {},
   "outputs": [],
   "source": [
    "ln.setup.settings.instance.storage.root"
   ]
  },
  {
   "cell_type": "markdown",
   "metadata": {},
   "source": [
    "## View the database content"
   ]
  },
  {
   "cell_type": "code",
   "execution_count": null,
   "metadata": {},
   "outputs": [],
   "source": [
    "import lamindb as ln"
   ]
  },
  {
   "cell_type": "code",
   "execution_count": null,
   "metadata": {},
   "outputs": [],
   "source": [
    "ln.view()"
   ]
  }
 ],
 "metadata": {
  "kernelspec": {
   "display_name": "Python 3 (ipykernel)",
   "language": "python",
   "name": "python3"
  },
  "language_info": {
   "codemirror_mode": {
    "name": "ipython",
    "version": 3
   },
   "file_extension": ".py",
   "mimetype": "text/x-python",
   "name": "python",
   "nbconvert_exporter": "python",
   "pygments_lexer": "ipython3",
   "version": "3.9.15"
  },
  "vscode": {
   "interpreter": {
    "hash": "ae1fefc8646a06dd2e75004cd934adda7c5727b046986a772e3b44b0ffba9754"
   }
  }
 },
 "nbformat": 4,
 "nbformat_minor": 4
}
