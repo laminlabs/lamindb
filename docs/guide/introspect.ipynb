{
 "cells": [
  {
   "cell_type": "markdown",
   "id": "9de688ab-8f24-4b1c-a5c6-d8ff1e6a75a0",
   "metadata": {
    "tags": []
   },
   "source": [
    "# Introspect"
   ]
  },
  {
   "cell_type": "code",
   "execution_count": null,
   "id": "e61983fa-a018-4b2a-8590-4faa6e61fd57",
   "metadata": {},
   "outputs": [],
   "source": [
    "import lamindb as ln\n",
    "\n",
    "ln.nb.header()"
   ]
  },
  {
   "cell_type": "markdown",
   "id": "c6d07db2",
   "metadata": {},
   "source": [
    "## Data provenance"
   ]
  },
  {
   "cell_type": "code",
   "execution_count": null,
   "id": "e248d23b-a810-4061-b20c-06189af1e990",
   "metadata": {},
   "outputs": [],
   "source": [
    "for entity in ln.schema.list_entities():\n",
    "    if hasattr(ln.schema.core, entity):\n",
    "        print(entity)\n",
    "        display(getattr(ln.db.query, entity)().df())"
   ]
  },
  {
   "cell_type": "markdown",
   "id": "81327289-bc8f-49d9-bce6-849baa424b40",
   "metadata": {},
   "source": [
    "## Biological entities and wetlab"
   ]
  },
  {
   "cell_type": "code",
   "execution_count": null,
   "id": "7ef87c39-0140-4b30-8d69-07653e89b6fa",
   "metadata": {},
   "outputs": [],
   "source": [
    "for entity in ln.schema.list_entities():\n",
    "    if not hasattr(ln.schema.core, entity):\n",
    "        print(entity)\n",
    "        display(getattr(ln.db.query, entity)().df())"
   ]
  },
  {
   "cell_type": "code",
   "execution_count": null,
   "id": "7fece27d",
   "metadata": {},
   "outputs": [],
   "source": []
  }
 ],
 "metadata": {
  "kernelspec": {
   "display_name": "Python 3.10.6 64-bit",
   "language": "python",
   "name": "python3"
  },
  "language_info": {
   "codemirror_mode": {
    "name": "ipython",
    "version": 3
   },
   "file_extension": ".py",
   "mimetype": "text/x-python",
   "name": "python",
   "nbconvert_exporter": "python",
   "pygments_lexer": "ipython3",
   "version": "3.10.6"
  },
  "nbproject": {
   "id": "7j8LCaTr0H1c",
   "parent": null,
   "pypackage": null,
   "time_init": "2022-08-02T11:19:15.640565+00:00",
   "version": "draft"
  },
  "vscode": {
   "interpreter": {
    "hash": "b0fa6594d8f4cbf19f97940f81e996739fb7646882a419484c72d19e05852a7e"
   }
  }
 },
 "nbformat": 4,
 "nbformat_minor": 5
}
