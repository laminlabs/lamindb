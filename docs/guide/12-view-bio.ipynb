{
 "cells": [
  {
   "attachments": {},
   "cell_type": "markdown",
   "id": "0abc1e09",
   "metadata": {},
   "source": [
    "# View the database content (wetlab & bionty)"
   ]
  },
  {
   "cell_type": "code",
   "execution_count": null,
   "id": "78168aa5",
   "metadata": {},
   "outputs": [],
   "source": [
    "import lamindb as ln\n",
    "import lamindb.schema as lns\n",
    "\n",
    "ln.nb.header()"
   ]
  },
  {
   "cell_type": "markdown",
   "id": "81327289-bc8f-49d9-bce6-849baa424b40",
   "metadata": {},
   "source": [
    "## Biological entities"
   ]
  },
  {
   "cell_type": "code",
   "execution_count": null,
   "id": "d5a03b81",
   "metadata": {},
   "outputs": [],
   "source": [
    "ln.view(schema=\"bionty\")"
   ]
  },
  {
   "cell_type": "markdown",
   "id": "51a486b3",
   "metadata": {},
   "source": [
    "## Wetlab"
   ]
  },
  {
   "cell_type": "code",
   "execution_count": null,
   "id": "5d4a26d5",
   "metadata": {},
   "outputs": [],
   "source": [
    "ln.view(schema=\"wetlab\")"
   ]
  },
  {
   "cell_type": "markdown",
   "id": "f1b7c1c2-857f-49bf-ba5a-22151fc3e4ca",
   "metadata": {},
   "source": [
    "## A few integrity checks"
   ]
  },
  {
   "cell_type": "code",
   "execution_count": null,
   "id": "01088868",
   "metadata": {},
   "outputs": [],
   "source": [
    "mouselymph = ln.select(lns.DObject, name=\"Mouse Lymph Node scRNA-seq\").one()"
   ]
  },
  {
   "cell_type": "code",
   "execution_count": null,
   "id": "abe68e2b-03bb-4d63-94c6-fc22288ff70f",
   "metadata": {},
   "outputs": [],
   "source": [
    "mouselymph_hash = mouselymph.hash\n",
    "assert mouselymph_hash == \"Qprqj0O23197Ko-VobaZiw\""
   ]
  },
  {
   "cell_type": "code",
   "execution_count": null,
   "id": "972f2b95",
   "metadata": {},
   "outputs": [],
   "source": [
    "mouselymph_features_hash = mouselymph.features[0].id\n",
    "assert mouselymph_features_hash == \"2Mv3JtH-ScBVYHilbLaQ\""
   ]
  }
 ],
 "metadata": {
  "kernelspec": {
   "display_name": "Python 3",
   "language": "python",
   "name": "python3"
  },
  "language_info": {
   "name": "python",
   "version": "3.10.8 (main, Oct 13 2022, 09:48:40) [Clang 14.0.0 (clang-1400.0.29.102)]"
  },
  "nbproject": {
   "id": "F6fGlzaaQPPH",
   "parent": null,
   "pypackage": null,
   "time_init": "2023-01-07T14:06:46.595902+00:00",
   "user_handle": "testuser1",
   "user_id": "DzTjkKse",
   "user_name": "Test User1",
   "version": "0"
  },
  "vscode": {
   "interpreter": {
    "hash": "b0fa6594d8f4cbf19f97940f81e996739fb7646882a419484c72d19e05852a7e"
   }
  }
 },
 "nbformat": 4,
 "nbformat_minor": 5
}
