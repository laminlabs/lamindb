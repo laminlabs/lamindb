{
 "cells": [
  {
   "cell_type": "markdown",
   "id": "f1af9ea1-be73-4bdb-8f5a-529a7c2da9dc",
   "metadata": {
    "tags": []
   },
   "source": [
    "# Ingest data: `Ingest`"
   ]
  },
  {
   "cell_type": "markdown",
   "id": "4cc127bd",
   "metadata": {},
   "source": [
    "Use the {class}`~lamindb.Ingest` class to ingest data of any format."
   ]
  },
  {
   "cell_type": "code",
   "execution_count": null,
   "id": "56ac9d46-cd5d-4f32-87b6-dbe84d7f64ca",
   "metadata": {},
   "outputs": [],
   "source": [
    "import lamindb as ln\n",
    "\n",
    "ln.nb.header()"
   ]
  },
  {
   "cell_type": "markdown",
   "id": "87b1413a",
   "metadata": {},
   "source": [
    "Any ingestion starts by instantiating {class}`~lamindb.Ingest` with information about a data source.\n",
    "\n",
    "Here, the data source is a Jupyter notebook and is automatically inferred. In {doc}`pipeline`, the data source is a computational pipeline."
   ]
  },
  {
   "cell_type": "code",
   "execution_count": null,
   "id": "b58ae79f",
   "metadata": {},
   "outputs": [],
   "source": [
    "ingest = ln.Ingest()"
   ]
  },
  {
   "cell_type": "markdown",
   "id": "316cd754",
   "metadata": {},
   "source": [
    "## Ingest files"
   ]
  },
  {
   "cell_type": "markdown",
   "id": "765c1d7a-abc1-4941-9585-c98eb4d8bea4",
   "metadata": {},
   "source": [
    "Example: A single image file from [Paradisi *et al.* (2005)](https://bmcmolcellbiol.biomedcentral.com/articles/10.1186/1471-2121-6-27):\n",
    "\n",
    "<img width=\"150\" alt=\"Laminopathic nuclei\" src=\"https://upload.wikimedia.org/wikipedia/commons/2/28/Laminopathic_nuclei.jpg\">"
   ]
  },
  {
   "cell_type": "code",
   "execution_count": null,
   "id": "f94cedbd-6d6b-43a6-a048-b33f93283609",
   "metadata": {},
   "outputs": [],
   "source": [
    "filepath = ln.dev.datasets.file_jpg_paradisi05()\n",
    "filepath"
   ]
  },
  {
   "cell_type": "markdown",
   "id": "74eb8e33",
   "metadata": {},
   "source": [
    "To track a file, stage it for ingestion via `ingest.add()`."
   ]
  },
  {
   "cell_type": "code",
   "execution_count": null,
   "id": "739de330",
   "metadata": {},
   "outputs": [],
   "source": [
    "staged = ingest.add(filepath)"
   ]
  },
  {
   "cell_type": "markdown",
   "id": "11608fa1",
   "metadata": {},
   "source": [
    "Each `.add(data)` operation stages the data for ingestion, and creates a {class}`~lamindb.dev.db.Staged` object.\n",
    "\n",
    "We could readily commit the data to LaminDB via `ingest.commit()` but here, we first want to add more data."
   ]
  },
  {
   "cell_type": "markdown",
   "id": "eeab8aa5",
   "metadata": {},
   "source": [
    "The `Staged` object already allows to access the `DObject` record that is to be added to the database:"
   ]
  },
  {
   "cell_type": "code",
   "execution_count": null,
   "id": "0ad01947",
   "metadata": {},
   "outputs": [],
   "source": [
    "staged.dobject"
   ]
  },
  {
   "cell_type": "markdown",
   "id": "6a18c829",
   "metadata": {},
   "source": [
    "We'll see how this is going to be relevant for linking metadata against the data object."
   ]
  },
  {
   "cell_type": "markdown",
   "id": "f5b24bef",
   "metadata": {},
   "source": [
    "## Ingest in-memory data"
   ]
  },
  {
   "cell_type": "code",
   "execution_count": null,
   "id": "df338697",
   "metadata": {},
   "outputs": [],
   "source": [
    "import sklearn.datasets"
   ]
  },
  {
   "cell_type": "markdown",
   "id": "897b54c0-9bb1-49e1-b63a-08b1413df2a1",
   "metadata": {},
   "source": [
    "Example: A `DataFrame` storing the iris dataset:"
   ]
  },
  {
   "cell_type": "code",
   "execution_count": null,
   "id": "aa34b8e5-1c1e-47ef-994e-04b96453d3ee",
   "metadata": {},
   "outputs": [],
   "source": [
    "df = sklearn.datasets.load_iris(as_frame=True).frame\n",
    "\n",
    "df.head()"
   ]
  },
  {
   "cell_type": "code",
   "execution_count": null,
   "id": "5b174326-8247-45e7-84fa-c5caa2d82b3d",
   "metadata": {},
   "outputs": [],
   "source": [
    "df.shape"
   ]
  },
  {
   "cell_type": "markdown",
   "id": "d172ed7d",
   "metadata": {},
   "source": [
    "When ingesting in-memory objects, a `name` argument needs to be passed:"
   ]
  },
  {
   "cell_type": "code",
   "execution_count": null,
   "id": "475d473f",
   "metadata": {},
   "outputs": [],
   "source": [
    "ingest.add(df, name=\"iris\");"
   ]
  },
  {
   "cell_type": "markdown",
   "id": "89cbab80",
   "metadata": {},
   "source": [
    "## Complete ingestion"
   ]
  },
  {
   "cell_type": "markdown",
   "id": "efa4f0cf-fb4f-4254-9ba0-e0dbff955612",
   "metadata": {},
   "source": [
    "Before completing the ingestion, let's check what we staged:"
   ]
  },
  {
   "cell_type": "code",
   "execution_count": null,
   "id": "8299bdbe-53eb-469e-b3db-f1a34d4d1e54",
   "metadata": {},
   "outputs": [],
   "source": [
    "ingest.status()"
   ]
  },
  {
   "cell_type": "markdown",
   "id": "0a6f1ca2-2eac-461e-9c5f-296b340c0940",
   "metadata": {},
   "source": [
    "Let's now commit these data to the DB:"
   ]
  },
  {
   "cell_type": "code",
   "execution_count": null,
   "id": "6b36d18b-c735-46fc-aaca-be0e96aac2fd",
   "metadata": {},
   "outputs": [],
   "source": [
    "ingest.commit()"
   ]
  },
  {
   "cell_type": "markdown",
   "id": "27ea0197",
   "metadata": {},
   "source": [
    "We see that several links are made in the background: the data object is associated with its source (this Jupyter notebook, `Jupynb`) and the user who operates the notebook.\n",
    "\n",
    "Hence, we'll be able to query for it!"
   ]
  }
 ],
 "metadata": {
  "kernelspec": {
   "display_name": "Python 3 (ipykernel)",
   "language": "python",
   "name": "python3"
  },
  "language_info": {
   "codemirror_mode": {
    "name": "ipython",
    "version": 3
   },
   "file_extension": ".py",
   "mimetype": "text/x-python",
   "name": "python",
   "nbconvert_exporter": "python",
   "pygments_lexer": "ipython3",
   "version": "3.9.12"
  },
  "nbproject": {
   "id": "W9sKZ8VKmLhY",
   "parent": null,
   "pypackage": {
    "lamindb": "0.10.0",
    "scanpy": "1.9.1",
    "scikit-learn": "1.1.1"
   },
   "time_init": "2022-09-02T13:39:08.915979+00:00",
   "user_handle": "testuser1",
   "user_id": "DzTjkKse",
   "user_name": "Test User1",
   "version": "1"
  },
  "vscode": {
   "interpreter": {
    "hash": "2775e555cdc2d728c54aa22130c79afb1fa4da64f22f2fc6dcc2aa346c4e0672"
   }
  }
 },
 "nbformat": 4,
 "nbformat_minor": 5
}
