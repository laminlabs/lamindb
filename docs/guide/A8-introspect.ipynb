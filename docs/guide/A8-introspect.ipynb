{
 "cells": [
  {
   "cell_type": "markdown",
   "id": "9de688ab-8f24-4b1c-a5c6-d8ff1e6a75a0",
   "metadata": {
    "tags": []
   },
   "source": [
    "# Introspect all tables"
   ]
  },
  {
   "cell_type": "code",
   "execution_count": null,
   "id": "e61983fa-a018-4b2a-8590-4faa6e61fd57",
   "metadata": {},
   "outputs": [],
   "source": [
    "import lamindb as ln\n",
    "\n",
    "ln.nb.header()"
   ]
  },
  {
   "cell_type": "markdown",
   "id": "c6d07db2",
   "metadata": {},
   "source": [
    "## Data provenance"
   ]
  },
  {
   "cell_type": "code",
   "execution_count": null,
   "id": "a69caa98",
   "metadata": {},
   "outputs": [],
   "source": [
    "ln.db.view(schema_modules=[\"core\"])"
   ]
  },
  {
   "cell_type": "markdown",
   "id": "81327289-bc8f-49d9-bce6-849baa424b40",
   "metadata": {},
   "source": [
    "## Biological entities, wetlab and bfx"
   ]
  },
  {
   "cell_type": "code",
   "execution_count": null,
   "id": "d5a03b81",
   "metadata": {},
   "outputs": [],
   "source": [
    "ln.db.view(schema_modules=[\"wetlab\", \"bionty\", \"bfx\"])"
   ]
  },
  {
   "cell_type": "markdown",
   "id": "f1b7c1c2-857f-49bf-ba5a-22151fc3e4ca",
   "metadata": {},
   "source": [
    "## A few checks"
   ]
  },
  {
   "cell_type": "code",
   "execution_count": null,
   "id": "abe68e2b-03bb-4d63-94c6-fc22288ff70f",
   "metadata": {},
   "outputs": [],
   "source": [
    "assert (\n",
    "    ln.db.select.dobject(name=\"Mouse Lymph Node scRNA-seq\").one().checksum\n",
    "    == \"Qprqj0O23197Ko-VobaZiw\"\n",
    ")"
   ]
  }
 ],
 "metadata": {
  "kernelspec": {
   "display_name": "Python 3 (ipykernel)",
   "language": "python",
   "name": "python3"
  },
  "language_info": {
   "codemirror_mode": {
    "name": "ipython",
    "version": 3
   },
   "file_extension": ".py",
   "mimetype": "text/x-python",
   "name": "python",
   "nbconvert_exporter": "python",
   "pygments_lexer": "ipython3",
   "version": "3.9.12"
  },
  "nbproject": {
   "id": "7j8LCaTr0H1c",
   "parent": null,
   "pypackage": null,
   "time_init": "2022-08-02T11:19:15.640565+00:00",
   "version": "draft"
  },
  "vscode": {
   "interpreter": {
    "hash": "b0fa6594d8f4cbf19f97940f81e996739fb7646882a419484c72d19e05852a7e"
   }
  }
 },
 "nbformat": 4,
 "nbformat_minor": 5
}
