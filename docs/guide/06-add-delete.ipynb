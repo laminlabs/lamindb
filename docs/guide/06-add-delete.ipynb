{
 "cells": [
  {
   "attachments": {},
   "cell_type": "markdown",
   "id": "39cf23f3",
   "metadata": {},
   "source": [
    "# Add, update & delete"
   ]
  },
  {
   "cell_type": "code",
   "execution_count": null,
   "id": "4e4f6f24",
   "metadata": {},
   "outputs": [],
   "source": [
    "import lamindb as ln\n",
    "\n",
    "ln.track()"
   ]
  },
  {
   "cell_type": "markdown",
   "id": "45033067",
   "metadata": {},
   "source": [
    "## Add records"
   ]
  },
  {
   "cell_type": "code",
   "execution_count": null,
   "id": "85fec11b-57a2-48a7-8d9d-915b5b2d1b80",
   "metadata": {},
   "outputs": [],
   "source": [
    "project = ln.Project(name=\"B1\")"
   ]
  },
  {
   "cell_type": "code",
   "execution_count": null,
   "id": "77161019",
   "metadata": {},
   "outputs": [],
   "source": [
    "ln.add(project)"
   ]
  },
  {
   "attachments": {},
   "cell_type": "markdown",
   "id": "8734359d",
   "metadata": {},
   "source": [
    "A list of records:"
   ]
  },
  {
   "cell_type": "code",
   "execution_count": null,
   "id": "2d8bcf30",
   "metadata": {},
   "outputs": [],
   "source": [
    "projects = [ln.Project(name=name) for name in [\"B2\", \"B3\", \"B4\"]]"
   ]
  },
  {
   "cell_type": "code",
   "execution_count": null,
   "id": "6ffbf8a3",
   "metadata": {},
   "outputs": [],
   "source": [
    "ln.add(projects)"
   ]
  },
  {
   "cell_type": "markdown",
   "id": "eff8c29a",
   "metadata": {},
   "source": [
    "## Update records"
   ]
  },
  {
   "cell_type": "code",
   "execution_count": null,
   "id": "1b9e7514",
   "metadata": {},
   "outputs": [],
   "source": [
    "file = ln.select(ln.File, name=\"iris\").first()\n",
    "file"
   ]
  },
  {
   "attachments": {},
   "cell_type": "markdown",
   "id": "69807bd2",
   "metadata": {},
   "source": [
    "Update the name \"iris\" to \"iris_new\":"
   ]
  },
  {
   "cell_type": "code",
   "execution_count": null,
   "id": "ea4eeb70-8814-4416-a928-68e7edb2c5df",
   "metadata": {},
   "outputs": [],
   "source": [
    "file.name = \"iris_new\""
   ]
  },
  {
   "attachments": {},
   "cell_type": "markdown",
   "id": "5ed77d2a-02a5-4706-9d66-f43d6e86adf8",
   "metadata": {},
   "source": [
    "Add the updated record to the database:"
   ]
  },
  {
   "cell_type": "code",
   "execution_count": null,
   "id": "1204c848",
   "metadata": {},
   "outputs": [],
   "source": [
    "ln.add(file)"
   ]
  },
  {
   "cell_type": "markdown",
   "id": "998bbf25-f01c-4b92-8437-a4de0d575411",
   "metadata": {},
   "source": [
    "## Delete records"
   ]
  },
  {
   "cell_type": "code",
   "execution_count": null,
   "id": "5abaa016-6d1f-41f8-ad47-b51694ca2d39",
   "metadata": {},
   "outputs": [],
   "source": [
    "project = ln.select(ln.Project, name=\"B2\").first()"
   ]
  },
  {
   "cell_type": "code",
   "execution_count": null,
   "id": "1c587d2c-3745-48c9-afc7-0734cd409a04",
   "metadata": {},
   "outputs": [],
   "source": [
    "ln.delete(project)"
   ]
  },
  {
   "cell_type": "markdown",
   "id": "cef95499-baeb-4d42-bec0-44d7906fd58c",
   "metadata": {},
   "source": [
    "## Replace files"
   ]
  },
  {
   "cell_type": "code",
   "execution_count": null,
   "id": "b87ff502-92d4-4a0d-ad92-51083f13008e",
   "metadata": {},
   "outputs": [],
   "source": [
    "file = ln.select(ln.File, name=\"paradisi05_laminopathic_nuclei.jpg\").first()"
   ]
  },
  {
   "cell_type": "code",
   "execution_count": null,
   "id": "ed7884cf-3122-4cbd-9f5f-221df6b1fcea",
   "metadata": {},
   "outputs": [],
   "source": [
    "file"
   ]
  },
  {
   "cell_type": "markdown",
   "id": "03311877",
   "metadata": {},
   "source": [
    "Replace the underlying stored object for a `File` record:"
   ]
  },
  {
   "cell_type": "code",
   "execution_count": null,
   "id": "233be35e-a635-4cd0-9b74-5bdc9dd03776",
   "metadata": {},
   "outputs": [],
   "source": [
    "file.replace(\"index.md\")"
   ]
  },
  {
   "cell_type": "code",
   "execution_count": null,
   "id": "75f7f9d3-e3a5-4a36-9bf1-0752fb9615b3",
   "metadata": {},
   "outputs": [],
   "source": [
    "ln.add(file)"
   ]
  },
  {
   "cell_type": "markdown",
   "id": "8c3d8f53",
   "metadata": {},
   "source": [
    "## Delete files"
   ]
  },
  {
   "cell_type": "code",
   "execution_count": null,
   "id": "bf2f26b6-0d01-40e0-8246-857d3aae8833",
   "metadata": {},
   "outputs": [],
   "source": [
    "file = ln.select(ln.File, name=\"paradisi05_laminopathic_nuclei.jpg\").one()"
   ]
  },
  {
   "cell_type": "code",
   "execution_count": null,
   "id": "458a42bc-41fa-4fa0-b3c3-2e3438f8573d",
   "metadata": {},
   "outputs": [],
   "source": [
    "ln.delete(file, delete_data_from_storage=True)"
   ]
  },
  {
   "cell_type": "markdown",
   "id": "f17c623d",
   "metadata": {},
   "source": [
    "```{important}\n",
    "\n",
    "By default only the record is deleted, and you will be asked to confirm deleting data from storage.\n",
    "\n",
    "You may set `delete_data_from_storage=True` to auto confirm the data deletion from storage.\n",
    "```"
   ]
  },
  {
   "cell_type": "code",
   "execution_count": null,
   "id": "50148ce2",
   "metadata": {
    "tags": [
     "hide-cell"
    ]
   },
   "outputs": [],
   "source": [
    "assert (\n",
    "    ln.select(ln.File, name=\"paradisi05_laminopathic_nuclei.jpg\").one_or_none() is None\n",
    ")"
   ]
  },
  {
   "cell_type": "markdown",
   "id": "b10e70c2",
   "metadata": {},
   "source": [
    "## What is in the database, now?"
   ]
  },
  {
   "cell_type": "code",
   "execution_count": null,
   "id": "67a0d267",
   "metadata": {},
   "outputs": [],
   "source": [
    "ln.view()"
   ]
  },
  {
   "cell_type": "markdown",
   "id": "92772558",
   "metadata": {},
   "source": [
    "## And what in storage?"
   ]
  },
  {
   "cell_type": "code",
   "execution_count": null,
   "id": "a1c8bedb",
   "metadata": {},
   "outputs": [],
   "source": [
    "!ls mydata"
   ]
  }
 ],
 "metadata": {
  "kernelspec": {
   "display_name": "Python 3 (ipykernel)",
   "language": "python",
   "name": "python3"
  },
  "language_info": {
   "codemirror_mode": {
    "name": "ipython",
    "version": 3
   },
   "file_extension": ".py",
   "mimetype": "text/x-python",
   "name": "python",
   "nbconvert_exporter": "python",
   "pygments_lexer": "ipython3",
   "version": "3.9.15"
  },
  "nbproject": {
   "id": "yowZSQXMmZkT",
   "parent": null,
   "pypackage": null,
   "time_init": "2022-08-22T19:04:50.013241+00:00",
   "version": "0"
  },
  "vscode": {
   "interpreter": {
    "hash": "5c7b89af1651d0b8571dde13640ecdccf7d5a6204171d6ab33e7c296e100e08a"
   }
  }
 },
 "nbformat": 4,
 "nbformat_minor": 5
}
