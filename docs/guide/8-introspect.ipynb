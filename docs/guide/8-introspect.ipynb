{
 "cells": [
  {
   "cell_type": "markdown",
   "id": "9de688ab-8f24-4b1c-a5c6-d8ff1e6a75a0",
   "metadata": {
    "tags": []
   },
   "source": [
    "# Introspect all tables"
   ]
  },
  {
   "cell_type": "code",
   "execution_count": null,
   "id": "e61983fa-a018-4b2a-8590-4faa6e61fd57",
   "metadata": {},
   "outputs": [],
   "source": [
    "import lamindb as ln\n",
    "import lamindb.schema as lns\n",
    "\n",
    "ln.nb.header()"
   ]
  },
  {
   "cell_type": "markdown",
   "id": "c6d07db2",
   "metadata": {},
   "source": [
    "## Data provenance"
   ]
  },
  {
   "cell_type": "code",
   "execution_count": null,
   "id": "a69caa98",
   "metadata": {},
   "outputs": [],
   "source": [
    "ln.view(schema_names=[\"core\"])"
   ]
  },
  {
   "cell_type": "markdown",
   "id": "81327289-bc8f-49d9-bce6-849baa424b40",
   "metadata": {},
   "source": [
    "## Biological entities, wetlab and bfx"
   ]
  },
  {
   "cell_type": "code",
   "execution_count": null,
   "id": "d5a03b81",
   "metadata": {},
   "outputs": [],
   "source": [
    "ln.view(schema_names=[\"wetlab\", \"bionty\", \"bfx\"])"
   ]
  },
  {
   "cell_type": "markdown",
   "id": "f1b7c1c2-857f-49bf-ba5a-22151fc3e4ca",
   "metadata": {},
   "source": [
    "## A few checks"
   ]
  },
  {
   "cell_type": "code",
   "execution_count": null,
   "id": "abe68e2b-03bb-4d63-94c6-fc22288ff70f",
   "metadata": {},
   "outputs": [],
   "source": [
    "ln.select(lns.DObject, name=\"Mouse Lymph Node scRNA-seq\").one().checksum"
   ]
  },
  {
   "cell_type": "code",
   "execution_count": null,
   "id": "a37779b0",
   "metadata": {},
   "outputs": [],
   "source": []
  }
 ],
 "metadata": {
  "kernelspec": {
   "display_name": "Python 3.9.13 ('py39')",
   "language": "python",
   "name": "python3"
  },
  "language_info": {
   "codemirror_mode": {
    "name": "ipython",
    "version": 3
   },
   "file_extension": ".py",
   "mimetype": "text/x-python",
   "name": "python",
   "nbconvert_exporter": "python",
   "pygments_lexer": "ipython3",
   "version": "3.9.13"
  },
  "nbproject": {
   "id": "7j8LCaTr0H1c",
   "parent": null,
   "pypackage": null,
   "time_init": "2022-08-02T11:19:15.640565+00:00",
   "version": "draft"
  },
  "vscode": {
   "interpreter": {
    "hash": "ae1fefc8646a06dd2e75004cd934adda7c5727b046986a772e3b44b0ffba9754"
   }
  }
 },
 "nbformat": 4,
 "nbformat_minor": 5
}
