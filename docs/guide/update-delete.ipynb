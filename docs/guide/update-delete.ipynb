{
 "cells": [
  {
   "cell_type": "markdown",
   "id": "39cf23f3",
   "metadata": {},
   "source": [
    "# Update and delete data - `db.update`, `db.delete`"
   ]
  },
  {
   "cell_type": "code",
   "execution_count": null,
   "id": "4e4f6f24",
   "metadata": {},
   "outputs": [],
   "source": [
    "import lamindb as ln\n",
    "\n",
    "ln.nb.header()"
   ]
  },
  {
   "cell_type": "markdown",
   "id": "eff8c29a",
   "metadata": {},
   "source": [
    "## Update"
   ]
  },
  {
   "cell_type": "markdown",
   "id": "c99c333e",
   "metadata": {},
   "source": [
    "We also provide high-level APIs to `update` and `delete` the database entries."
   ]
  },
  {
   "cell_type": "code",
   "execution_count": null,
   "id": "1b9e7514",
   "metadata": {},
   "outputs": [],
   "source": [
    "dobject = ln.db.query.dobject(name=\"iris\").first()\n",
    "dobject"
   ]
  },
  {
   "cell_type": "markdown",
   "id": "69807bd2",
   "metadata": {},
   "source": [
    "Let's update the name \"iris\" to \"iris_new\"."
   ]
  },
  {
   "cell_type": "code",
   "execution_count": null,
   "id": "1204c848",
   "metadata": {},
   "outputs": [],
   "source": [
    "ln.db.update.dobject(key=(dobject.id, dobject.v), name=\"iris_new\")"
   ]
  },
  {
   "cell_type": "markdown",
   "id": "bb7fe0d1",
   "metadata": {},
   "source": [
    "Let's query the same object again to see if the name has changed."
   ]
  },
  {
   "cell_type": "code",
   "execution_count": null,
   "id": "9abdd277",
   "metadata": {},
   "outputs": [],
   "source": [
    "dobject = ln.db.query.dobject(id=dobject.id).one()\n",
    "dobject"
   ]
  },
  {
   "cell_type": "markdown",
   "id": "8c3d8f53",
   "metadata": {},
   "source": [
    "## Delete"
   ]
  },
  {
   "cell_type": "markdown",
   "id": "5fc3f9a4",
   "metadata": {},
   "source": [
    "We can also delete an entry from the database."
   ]
  },
  {
   "cell_type": "code",
   "execution_count": null,
   "id": "9670cd6c",
   "metadata": {},
   "outputs": [],
   "source": [
    "ln.db.delete.dobject(key=(dobject.id, dobject.v))"
   ]
  },
  {
   "cell_type": "markdown",
   "id": "0b554d40",
   "metadata": {},
   "source": [
    "Check that the data is indeed gone from the database."
   ]
  },
  {
   "cell_type": "code",
   "execution_count": null,
   "id": "50148ce2",
   "metadata": {},
   "outputs": [],
   "source": [
    "ln.db.query.dobject(name=\"iris_new\").all()"
   ]
  },
  {
   "cell_type": "code",
   "execution_count": null,
   "id": "26b1a7c0",
   "metadata": {},
   "outputs": [],
   "source": []
  }
 ],
 "metadata": {
  "kernelspec": {
   "display_name": "Python 3.9.13 ('py39')",
   "language": "python",
   "name": "python3"
  },
  "language_info": {
   "codemirror_mode": {
    "name": "ipython",
    "version": 3
   },
   "file_extension": ".py",
   "mimetype": "text/x-python",
   "name": "python",
   "nbconvert_exporter": "python",
   "pygments_lexer": "ipython3",
   "version": "3.9.13"
  },
  "nbproject": {
   "id": "yowZSQXMmZkT",
   "parent": null,
   "pypackage": null,
   "time_init": "2022-08-22T19:04:50.013241+00:00",
   "version": "draft"
  },
  "vscode": {
   "interpreter": {
    "hash": "ae1fefc8646a06dd2e75004cd934adda7c5727b046986a772e3b44b0ffba9754"
   }
  }
 },
 "nbformat": 4,
 "nbformat_minor": 5
}
