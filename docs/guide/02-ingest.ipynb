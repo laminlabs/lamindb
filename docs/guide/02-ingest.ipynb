{
 "cells": [
  {
   "attachments": {},
   "cell_type": "markdown",
   "id": "f1af9ea1-be73-4bdb-8f5a-529a7c2da9dc",
   "metadata": {
    "tags": []
   },
   "source": [
    "# Track data objects"
   ]
  },
  {
   "cell_type": "markdown",
   "id": "d01a203a",
   "metadata": {},
   "source": [
    "We're now ready to track & query data!"
   ]
  },
  {
   "attachments": {},
   "cell_type": "markdown",
   "id": "eb2bad65",
   "metadata": {},
   "source": [
    "```{tip}\n",
    "\n",
    "In Jupyter notebooks and lab, you can see the documentation for a python function by hitting SHIFT + TAB. Hit it twice to expand the view.\n",
    "```"
   ]
  },
  {
   "cell_type": "code",
   "execution_count": null,
   "id": "56ac9d46-cd5d-4f32-87b6-dbe84d7f64ca",
   "metadata": {},
   "outputs": [],
   "source": [
    "import lamindb as ln\n",
    "\n",
    "ln.nb.header()"
   ]
  },
  {
   "attachments": {},
   "cell_type": "markdown",
   "id": "e31575c8",
   "metadata": {},
   "source": [
    "```{note}\n",
    "\n",
    "The call to `ln.nb.header()` tracks the notebook run as a data source.\n",
    "\n",
    "Learn more: {doc}`/guide/run`.\n",
    "```"
   ]
  },
  {
   "attachments": {},
   "cell_type": "markdown",
   "id": "316cd754",
   "metadata": {},
   "source": [
    "## Track local files - data objects on disk"
   ]
  },
  {
   "attachments": {},
   "cell_type": "markdown",
   "id": "765c1d7a-abc1-4941-9585-c98eb4d8bea4",
   "metadata": {},
   "source": [
    "Let's add an image file ([Paradisi05](https://bmcmolcellbiol.biomedcentral.com/articles/10.1186/1471-2121-6-27)):\n",
    "\n",
    "<img width=\"150\" alt=\"Laminopathic nuclei\" src=\"https://upload.wikimedia.org/wikipedia/commons/2/28/Laminopathic_nuclei.jpg\">"
   ]
  },
  {
   "cell_type": "code",
   "execution_count": null,
   "id": "f94cedbd-6d6b-43a6-a048-b33f93283609",
   "metadata": {},
   "outputs": [],
   "source": [
    "filepath = ln.dev.datasets.file_jpg_paradisi05()\n",
    "filepath"
   ]
  },
  {
   "attachments": {},
   "cell_type": "markdown",
   "id": "63bc4247-07e9-4389-ae95-ba2687b38872",
   "metadata": {},
   "source": [
    "We'll work with a single class for data objects in memory and on disk: {class}`~lamindb.DObject`. On disk, these are often (but not always, e.g., for `zarr`) files. Instantiating `DObject` creates a `dobject` record:"
   ]
  },
  {
   "cell_type": "code",
   "execution_count": null,
   "id": "11eb6096-b586-4329-90f2-f65320564a4b",
   "metadata": {},
   "outputs": [],
   "source": [
    "dobject = ln.DObject(filepath)"
   ]
  },
  {
   "attachments": {},
   "cell_type": "markdown",
   "id": "669e4f34-9b46-4e1c-9d75-75839f3a897a",
   "metadata": {},
   "source": [
    "The `dobject` record captures metadata about the file and will be our way to query and load data."
   ]
  },
  {
   "cell_type": "code",
   "execution_count": null,
   "id": "8d2a8e61-72aa-4e40-ad5d-286c92e7ed43",
   "metadata": {},
   "outputs": [],
   "source": [
    "dobject"
   ]
  },
  {
   "attachments": {},
   "cell_type": "markdown",
   "id": "1bcd257b-040d-48fd-9bbc-caa264770b46",
   "metadata": {},
   "source": [
    "We can also access linked metadata records, for instance, the record that stores metadata about this run."
   ]
  },
  {
   "cell_type": "code",
   "execution_count": null,
   "id": "04c879c0-c042-47af-a5f3-dfb2e1e36758",
   "metadata": {},
   "outputs": [],
   "source": [
    "dobject.source"
   ]
  },
  {
   "attachments": {},
   "cell_type": "markdown",
   "id": "0070453f-e8e8-437e-8061-8edc289b5bfd",
   "metadata": {},
   "source": [
    "As we're ingesting from a notebook, here, it defaults to the notebook run you saw printed above."
   ]
  },
  {
   "cell_type": "code",
   "execution_count": null,
   "id": "a288005f-2929-4558-a2ce-a3063b63c3ad",
   "metadata": {
    "tags": [
     "hide-cell"
    ]
   },
   "outputs": [],
   "source": [
    "assert ln.nb.run == dobject.source"
   ]
  },
  {
   "attachments": {},
   "cell_type": "markdown",
   "id": "97cba170-51e2-4311-9af7-a35b646a3d98",
   "metadata": {},
   "source": [
    "If we want to add metadata & data to database & storage, we can do so in a single transaction:"
   ]
  },
  {
   "cell_type": "code",
   "execution_count": null,
   "id": "7c9983dd-aa56-4f90-ac22-08f2462c2860",
   "metadata": {},
   "outputs": [],
   "source": [
    "ln.add(dobject)"
   ]
  },
  {
   "attachments": {},
   "cell_type": "markdown",
   "id": "cac17fae",
   "metadata": {},
   "source": [
    "Getting the data back works through `.load()` - here, we get back a cryptic filename. More on this below."
   ]
  },
  {
   "cell_type": "code",
   "execution_count": null,
   "id": "39c9889b",
   "metadata": {},
   "outputs": [],
   "source": [
    "dobject.load()"
   ]
  },
  {
   "attachments": {},
   "cell_type": "markdown",
   "id": "f5b24bef",
   "metadata": {},
   "source": [
    "## Track data objects in memory"
   ]
  },
  {
   "cell_type": "code",
   "execution_count": null,
   "id": "df338697",
   "metadata": {},
   "outputs": [],
   "source": [
    "import sklearn.datasets"
   ]
  },
  {
   "cell_type": "markdown",
   "id": "897b54c0-9bb1-49e1-b63a-08b1413df2a1",
   "metadata": {},
   "source": [
    "Let's now ingest an in-memory `DataFrame` storing the iris dataset:"
   ]
  },
  {
   "cell_type": "code",
   "execution_count": null,
   "id": "aa34b8e5-1c1e-47ef-994e-04b96453d3ee",
   "metadata": {},
   "outputs": [],
   "source": [
    "df = sklearn.datasets.load_iris(as_frame=True).frame\n",
    "\n",
    "df.head()"
   ]
  },
  {
   "cell_type": "code",
   "execution_count": null,
   "id": "5b174326-8247-45e7-84fa-c5caa2d82b3d",
   "metadata": {},
   "outputs": [],
   "source": [
    "df.shape"
   ]
  },
  {
   "cell_type": "markdown",
   "id": "d172ed7d",
   "metadata": {},
   "source": [
    "When ingesting in-memory objects, a `name` argument needs to be passed:"
   ]
  },
  {
   "cell_type": "code",
   "execution_count": null,
   "id": "475d473f",
   "metadata": {},
   "outputs": [],
   "source": [
    "dobject = ln.DObject(df, name=\"iris\");"
   ]
  },
  {
   "cell_type": "code",
   "execution_count": null,
   "id": "ef6191ff-a327-4f0e-b015-66f6e42dbecd",
   "metadata": {},
   "outputs": [],
   "source": [
    "ln.add(dobject)"
   ]
  },
  {
   "cell_type": "markdown",
   "id": "b9625bb4",
   "metadata": {},
   "source": [
    "Get the dataframe back:"
   ]
  },
  {
   "cell_type": "code",
   "execution_count": null,
   "id": "22a0904d",
   "metadata": {},
   "outputs": [],
   "source": [
    "dobject.load()"
   ]
  },
  {
   "attachments": {},
   "cell_type": "markdown",
   "id": "9241a06f",
   "metadata": {},
   "source": [
    "## The story of `DObject`"
   ]
  },
  {
   "attachments": {},
   "cell_type": "markdown",
   "id": "df6add8b",
   "metadata": {},
   "source": [
    "We have come to love the pydata family of `DataFrame`, `AnnData`, `pytorch.DataLoader`, `zarr.Array`, `pyarrow.Table`, `xarray.Dataset`, and others for accessing lower-level data objects.\n",
    "\n",
    "But we couldn’t find an object for accessing how data objects are linked to context.\n",
    "So, we made `DObject` to help with modeling and understanding data objects in relation to their context.\n",
    "\n",
    "Context can be other data objects, data transformations, ML models, people & pipelines who performed transformations, and all aspects of data lineage.\n",
    "Context can also be hypotheses and any entity of the domain in which data is generated and modeled.\n",
    "\n",
    "Depending on how `DObject`s are linked to context, they give rise to features of data lakes, warehouses and knowledge graphs.\n",
    "\n",
    "We focused on linking `DObject` to biological concepts: entities, their types, records, transformations, and relations.\n",
    "You'll learn about them further down the guide: {doc}`knowledge`.\n"
   ]
  },
  {
   "attachments": {},
   "cell_type": "markdown",
   "id": "a48a40c2",
   "metadata": {},
   "source": [
    "```{Note}\n",
    "\n",
    "Learn more: {doc}`dobject`. \n",
    "\n",
    "```"
   ]
  },
  {
   "attachments": {},
   "cell_type": "markdown",
   "id": "6bb95119",
   "metadata": {},
   "source": [
    "## What's in the DB now?"
   ]
  },
  {
   "cell_type": "code",
   "execution_count": null,
   "id": "5c96fc6a",
   "metadata": {},
   "outputs": [],
   "source": [
    "ln.view()"
   ]
  },
  {
   "cell_type": "markdown",
   "id": "8b2cd55d",
   "metadata": {},
   "source": [
    "## And what's in storage?"
   ]
  },
  {
   "cell_type": "markdown",
   "id": "f3afc681",
   "metadata": {},
   "source": [
    "Two cryptically named files:"
   ]
  },
  {
   "cell_type": "code",
   "execution_count": null,
   "id": "b8d4f63a",
   "metadata": {},
   "outputs": [],
   "source": [
    "!ls mytest"
   ]
  },
  {
   "attachments": {},
   "cell_type": "markdown",
   "id": "8aa50a20",
   "metadata": {},
   "source": [
    "If you prefer semantic names, you can easily achieve it by tracking existing data rather than ingesting data into a storage location: {doc}`/faq/existing-data`.\n",
    "\n",
    "Naming data objects in storage by the primary key ID of the `DObject` is typically preferred when facing potential clashes of names at large scale or working with in-memory views."
   ]
  },
  {
   "cell_type": "markdown",
   "id": "2f8bc856",
   "metadata": {},
   "source": [
    "## Can I track a whole folder?"
   ]
  },
  {
   "cell_type": "markdown",
   "id": "66ffd46c",
   "metadata": {},
   "source": [
    "Yes: {doc}`/faq/ingest-folder`."
   ]
  }
 ],
 "metadata": {
  "kernelspec": {
   "display_name": "Python 3",
   "language": "python",
   "name": "python3"
  },
  "language_info": {
   "codemirror_mode": {
    "name": "ipython",
    "version": 3
   },
   "file_extension": ".py",
   "mimetype": "text/x-python",
   "name": "python",
   "nbconvert_exporter": "python",
   "pygments_lexer": "ipython3",
   "version": "3.11.1"
  },
  "nbproject": {
   "id": "W9sKZ8VKmLhY",
   "parent": null,
   "pypackage": {
    "lamindb": "0.10.0",
    "scanpy": "1.9.1",
    "scikit-learn": "1.1.1"
   },
   "time_init": "2022-09-02T13:39:08.915979+00:00",
   "user_handle": "testuser1",
   "user_id": "DzTjkKse",
   "user_name": "Test User1",
   "version": "1"
  },
  "vscode": {
   "interpreter": {
    "hash": "5c7b89af1651d0b8571dde13640ecdccf7d5a6204171d6ab33e7c296e100e08a"
   }
  }
 },
 "nbformat": 4,
 "nbformat_minor": 5
}
