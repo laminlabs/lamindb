{
 "cells": [
  {
   "cell_type": "markdown",
   "id": "9de688ab-8f24-4b1c-a5c6-d8ff1e6a75a0",
   "metadata": {
    "tags": []
   },
   "source": [
    "# View the database content"
   ]
  },
  {
   "cell_type": "code",
   "execution_count": null,
   "id": "e61983fa-a018-4b2a-8590-4faa6e61fd57",
   "metadata": {},
   "outputs": [],
   "source": [
    "import lamindb as ln\n",
    "import lamindb.schema as lns\n",
    "\n",
    "ln.nb.header()"
   ]
  },
  {
   "cell_type": "markdown",
   "id": "c6d07db2",
   "metadata": {},
   "source": [
    "## Data provenance"
   ]
  },
  {
   "cell_type": "code",
   "execution_count": null,
   "id": "a69caa98",
   "metadata": {},
   "outputs": [],
   "source": [
    "ln.view(schema=\"core\")"
   ]
  },
  {
   "cell_type": "markdown",
   "id": "81327289-bc8f-49d9-bce6-849baa424b40",
   "metadata": {},
   "source": [
    "## Biological entities"
   ]
  },
  {
   "cell_type": "code",
   "execution_count": null,
   "id": "d5a03b81",
   "metadata": {},
   "outputs": [],
   "source": [
    "ln.view(schema=\"bionty\")"
   ]
  },
  {
   "cell_type": "markdown",
   "id": "51a486b3",
   "metadata": {},
   "source": [
    "## Wetlab and bioinformatics"
   ]
  },
  {
   "cell_type": "code",
   "execution_count": null,
   "id": "5d4a26d5",
   "metadata": {},
   "outputs": [],
   "source": [
    "ln.view(schema=\"wetlab\")"
   ]
  },
  {
   "cell_type": "markdown",
   "id": "9e4a007e",
   "metadata": {},
   "source": [
    "## Bioinformatics"
   ]
  },
  {
   "cell_type": "code",
   "execution_count": null,
   "id": "8628fadd",
   "metadata": {},
   "outputs": [],
   "source": [
    "ln.view(schema=\"bfx\")"
   ]
  },
  {
   "cell_type": "markdown",
   "id": "f1b7c1c2-857f-49bf-ba5a-22151fc3e4ca",
   "metadata": {},
   "source": [
    "## A few checks"
   ]
  },
  {
   "cell_type": "code",
   "execution_count": null,
   "id": "abe68e2b-03bb-4d63-94c6-fc22288ff70f",
   "metadata": {},
   "outputs": [],
   "source": [
    "assert (\n",
    "    ln.select(lns.DObject, name=\"Mouse Lymph Node scRNA-seq\").one().checksum\n",
    "    == \"Qprqj0O23197Ko-VobaZiw\"\n",
    ")"
   ]
  }
 ],
 "metadata": {
  "kernelspec": {
   "display_name": "Python 3.9.12 ('base1')",
   "language": "python",
   "name": "python3"
  },
  "language_info": {
   "codemirror_mode": {
    "name": "ipython",
    "version": 3
   },
   "file_extension": ".py",
   "mimetype": "text/x-python",
   "name": "python",
   "nbconvert_exporter": "python",
   "pygments_lexer": "ipython3",
   "version": "3.9.12"
  },
  "nbproject": {
   "id": "7j8LCaTr0H1c",
   "parent": null,
   "pypackage": null,
   "time_init": "2022-08-02T11:19:15.640565+00:00",
   "version": "0"
  },
  "vscode": {
   "interpreter": {
    "hash": "2775e555cdc2d728c54aa22130c79afb1fa4da64f22f2fc6dcc2aa346c4e0672"
   }
  }
 },
 "nbformat": 4,
 "nbformat_minor": 5
}
