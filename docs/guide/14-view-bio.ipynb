{
 "cells": [
  {
   "cell_type": "markdown",
   "id": "0abc1e09",
   "metadata": {},
   "source": [
    "# View the database content (wetlab & bionty)"
   ]
  },
  {
   "cell_type": "code",
   "execution_count": null,
   "id": "78168aa5",
   "metadata": {},
   "outputs": [],
   "source": [
    "import lamindb as ln\n",
    "import lamindb.schema as lns\n",
    "\n",
    "ln.nb.header()"
   ]
  },
  {
   "cell_type": "markdown",
   "id": "81327289-bc8f-49d9-bce6-849baa424b40",
   "metadata": {},
   "source": [
    "## Biological entities"
   ]
  },
  {
   "cell_type": "code",
   "execution_count": null,
   "id": "d5a03b81",
   "metadata": {},
   "outputs": [],
   "source": [
    "ln.view(schema=\"bionty\")"
   ]
  },
  {
   "cell_type": "markdown",
   "id": "51a486b3",
   "metadata": {},
   "source": [
    "## Wetlab"
   ]
  },
  {
   "cell_type": "code",
   "execution_count": null,
   "id": "5d4a26d5",
   "metadata": {},
   "outputs": [],
   "source": [
    "ln.view(schema=\"wetlab\")"
   ]
  },
  {
   "cell_type": "markdown",
   "id": "f1b7c1c2-857f-49bf-ba5a-22151fc3e4ca",
   "metadata": {},
   "source": [
    "## A few integrity checks"
   ]
  },
  {
   "cell_type": "markdown",
   "id": "cc43d7e8-7568-4a1b-97cc-d37f0b9052e8",
   "metadata": {},
   "source": [
    "We'll need a relationship, hence, we need a `Session`."
   ]
  },
  {
   "cell_type": "code",
   "execution_count": null,
   "id": "5817a73b-4a91-462a-bfd3-829dfe338e12",
   "metadata": {},
   "outputs": [],
   "source": [
    "with ln.Session() as ss:\n",
    "    mouselymph = ss.select(ln.DObject, name=\"Mouse Lymph Node scRNA-seq\").one()\n",
    "\n",
    "    mouselymph_hash = mouselymph.hash\n",
    "    assert mouselymph_hash == \"Qprqj0O23197Ko-VobaZiw\"\n",
    "\n",
    "    mouselymph_features_hash = mouselymph.features[0].id\n",
    "    assert mouselymph_features_hash == \"2Mv3JtH-ScBVYHilbLaQ\""
   ]
  }
 ],
 "metadata": {
  "kernelspec": {
   "display_name": "Python 3 (ipykernel)",
   "language": "python",
   "name": "python3"
  },
  "language_info": {
   "codemirror_mode": {
    "name": "ipython",
    "version": 3
   },
   "file_extension": ".py",
   "mimetype": "text/x-python",
   "name": "python",
   "nbconvert_exporter": "python",
   "pygments_lexer": "ipython3",
   "version": "3.10.8 (main, Oct 13 2022, 09:48:40) [Clang 14.0.0 (clang-1400.0.29.102)]"
  },
  "nbproject": {
   "id": "F6fGlzaaQPPH",
   "parent": null,
   "pypackage": null,
   "time_init": "2023-01-07T14:06:46.595902+00:00",
   "user_handle": "testuser1",
   "user_id": "DzTjkKse",
   "user_name": "Test User1",
   "version": "0"
  },
  "vscode": {
   "interpreter": {
    "hash": "b0fa6594d8f4cbf19f97940f81e996739fb7646882a419484c72d19e05852a7e"
   }
  }
 },
 "nbformat": 4,
 "nbformat_minor": 5
}
