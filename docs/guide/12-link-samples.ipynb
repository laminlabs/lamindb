{
 "cells": [
  {
   "cell_type": "markdown",
   "id": "b5fc74a4",
   "metadata": {},
   "source": [
    "# Link data objects to sample-level metadata"
   ]
  },
  {
   "cell_type": "markdown",
   "id": "198a10f0",
   "metadata": {},
   "source": [
    "We already saw how to link data objects to entities representing features during ingestion.\n",
    "\n",
    "For sample-level metadata, the underlying schema is often more complicated, and hence it's best done in a separate step.\n",
    "\n",
    "Here, we walk through this process."
   ]
  },
  {
   "cell_type": "code",
   "execution_count": null,
   "id": "21af215e",
   "metadata": {},
   "outputs": [],
   "source": [
    "import lamindb as ln\n",
    "import lamindb.schema as lns\n",
    "import lamindb.knowledge as lnk\n",
    "\n",
    "ln.nb.header()"
   ]
  },
  {
   "cell_type": "markdown",
   "id": "f7bffead",
   "metadata": {},
   "source": [
    "Samples, i.e., metadata associated with observations, are linked with the same approach post-ingestion."
   ]
  },
  {
   "cell_type": "markdown",
   "id": "6b5c6550",
   "metadata": {},
   "source": [
    "We'll need to lazily relationships of objects, and hence, we need to keep track of a session."
   ]
  },
  {
   "cell_type": "code",
   "execution_count": null,
   "id": "1d48daa5",
   "metadata": {},
   "outputs": [],
   "source": [
    "ss = ln.Session()"
   ]
  },
  {
   "cell_type": "markdown",
   "id": "6747e862",
   "metadata": {},
   "source": [
    "Let's first query an scRNA-seq dataset stored as an `.h5ad` file."
   ]
  },
  {
   "cell_type": "code",
   "execution_count": null,
   "id": "b43c43e4",
   "metadata": {},
   "outputs": [],
   "source": [
    "dobject = ss.select(ln.DObject, suffix=\".h5ad\").first()"
   ]
  },
  {
   "cell_type": "code",
   "execution_count": null,
   "id": "f6163fb2-a387-41f6-b7bc-3190bce55a26",
   "metadata": {},
   "outputs": [],
   "source": [
    "dobject"
   ]
  },
  {
   "cell_type": "markdown",
   "id": "f78f29e2",
   "metadata": {},
   "source": [
    "For instance, let's annotate a scRNA-seq dataset with its readout type (scRNA-seq), the tissue, and the species."
   ]
  },
  {
   "cell_type": "markdown",
   "id": "93c6a1ea",
   "metadata": {},
   "source": [
    "## Readout"
   ]
  },
  {
   "cell_type": "code",
   "execution_count": null,
   "id": "4b48f82c",
   "metadata": {},
   "outputs": [],
   "source": [
    "lnk.lookup.readout.single_cell_RNA_sequencing"
   ]
  },
  {
   "cell_type": "code",
   "execution_count": null,
   "id": "92b92e32",
   "metadata": {},
   "outputs": [],
   "source": [
    "readout = lns.wetlab.Readout(efo_id=lnk.lookup.readout.single_cell_RNA_sequencing)"
   ]
  },
  {
   "cell_type": "markdown",
   "id": "867ded79-18ab-4b48-9ef1-3ede7cb61fb6",
   "metadata": {},
   "source": [
    "Link the readout against the data object."
   ]
  },
  {
   "cell_type": "code",
   "execution_count": null,
   "id": "7117701d-eda9-4a1a-a011-f2fb1b9c49ff",
   "metadata": {},
   "outputs": [],
   "source": [
    "dobject.readouts.append(readout)"
   ]
  },
  {
   "cell_type": "markdown",
   "id": "051a01d6-df60-4a60-ac01-6a801d71cf67",
   "metadata": {},
   "source": [
    "## Biosample"
   ]
  },
  {
   "cell_type": "code",
   "execution_count": null,
   "id": "04a89a94",
   "metadata": {},
   "outputs": [],
   "source": [
    "biosample = lns.wetlab.Biosample(name=\"Mouse Lymph Node\")"
   ]
  },
  {
   "cell_type": "markdown",
   "id": "0aa6b90d",
   "metadata": {},
   "source": [
    "### Species"
   ]
  },
  {
   "cell_type": "code",
   "execution_count": null,
   "id": "cf1ed961",
   "metadata": {},
   "outputs": [],
   "source": [
    "species = lns.bionty.Species(name=\"mouse\")"
   ]
  },
  {
   "cell_type": "code",
   "execution_count": null,
   "id": "2f14fc56",
   "metadata": {},
   "outputs": [],
   "source": [
    "species"
   ]
  },
  {
   "cell_type": "code",
   "execution_count": null,
   "id": "16aed80c-2ab0-4a7a-b73d-1a74e5370ae4",
   "metadata": {},
   "outputs": [],
   "source": [
    "# the species record already exists, hence we only link the id instead of adding the full record\n",
    "# need to have a more intuitive UX around this that clarifies why we have to do this\n",
    "biosample.species_id = species.id"
   ]
  },
  {
   "cell_type": "markdown",
   "id": "b81e6ddf",
   "metadata": {},
   "source": [
    "### Tissue"
   ]
  },
  {
   "cell_type": "code",
   "execution_count": null,
   "id": "dce787a2",
   "metadata": {},
   "outputs": [],
   "source": [
    "tissue_lookup = lnk.Tissue().lookup"
   ]
  },
  {
   "cell_type": "code",
   "execution_count": null,
   "id": "8cdc01c8",
   "metadata": {},
   "outputs": [],
   "source": [
    "tissue_lookup.lymph_node"
   ]
  },
  {
   "cell_type": "code",
   "execution_count": null,
   "id": "e19e0613",
   "metadata": {},
   "outputs": [],
   "source": [
    "tissue = lns.bionty.Tissue(ontology_id=tissue_lookup.lymph_node)"
   ]
  },
  {
   "cell_type": "code",
   "execution_count": null,
   "id": "742d5ac7",
   "metadata": {},
   "outputs": [],
   "source": [
    "tissue"
   ]
  },
  {
   "cell_type": "code",
   "execution_count": null,
   "id": "72d84b8b-7418-4bb9-bf15-aa1af6502d60",
   "metadata": {},
   "outputs": [],
   "source": [
    "biosample.tissue = tissue"
   ]
  },
  {
   "cell_type": "markdown",
   "id": "7e358247-0319-4632-a74f-da17de7eb81d",
   "metadata": {},
   "source": [
    "## Link against dobject"
   ]
  },
  {
   "cell_type": "markdown",
   "id": "33ad35b8-85c8-4662-bb3f-a7e25b2fb6c4",
   "metadata": {},
   "source": [
    "Link against the data object:"
   ]
  },
  {
   "cell_type": "code",
   "execution_count": null,
   "id": "d0a3783a-370d-4648-8bd1-6776f014b0f5",
   "metadata": {},
   "outputs": [],
   "source": [
    "dobject.biosamples.append(biosample)"
   ]
  },
  {
   "cell_type": "markdown",
   "id": "fec05be3-6d70-4092-a72f-e5ad24391f9d",
   "metadata": {},
   "source": [
    "## Add to the DB"
   ]
  },
  {
   "cell_type": "markdown",
   "id": "49d4ced3-a587-4808-b2f1-71853861511c",
   "metadata": {},
   "source": [
    "We can add everything to the DB in one transaction:"
   ]
  },
  {
   "cell_type": "code",
   "execution_count": null,
   "id": "35a3f206-6d8a-4102-8bc0-a8ee1819c101",
   "metadata": {},
   "outputs": [],
   "source": [
    "ss.add([readout, biosample])"
   ]
  },
  {
   "cell_type": "markdown",
   "id": "fab756d7",
   "metadata": {},
   "source": [
    "Let us close the session."
   ]
  },
  {
   "cell_type": "code",
   "execution_count": null,
   "id": "a823c937",
   "metadata": {},
   "outputs": [],
   "source": [
    "ss.close()"
   ]
  },
  {
   "cell_type": "markdown",
   "id": "ba9752fe",
   "metadata": {},
   "source": [
    "```{Tip}\n",
    "\n",
    "Manage `Session` closing with a context manager instead of manually closing it!\n",
    "\n",
    "With it the above would look like:\n",
    "\n",
    "```{code}\n",
    "with ln.Session() as ss:\n",
    "    # manipulate data\n",
    "```"
   ]
  },
  {
   "cell_type": "markdown",
   "id": "1d8e6dc4",
   "metadata": {},
   "source": [
    "## Query for linked metadata"
   ]
  },
  {
   "cell_type": "code",
   "execution_count": null,
   "id": "e984d97e-c295-4257-a5bf-fb2347ce3678",
   "metadata": {},
   "outputs": [],
   "source": [
    "ln.select(ln.DObject).where(\n",
    "    ln.DObject.readouts,\n",
    "    lns.wetlab.Readout.efo_id == lnk.lookup.readout.single_cell_RNA_sequencing,\n",
    ").df()"
   ]
  },
  {
   "cell_type": "code",
   "execution_count": null,
   "id": "6350f154",
   "metadata": {},
   "outputs": [],
   "source": [
    "ln.select(ln.DObject).join(ln.DObject.biosamples).where(\n",
    "    lns.wetlab.Biosample.species, lns.bionty.Species.name == \"mouse\"\n",
    ").df()"
   ]
  }
 ],
 "metadata": {
  "kernelspec": {
   "display_name": "py39",
   "language": "python",
   "name": "python3"
  },
  "language_info": {
   "codemirror_mode": {
    "name": "ipython",
    "version": 3
   },
   "file_extension": ".py",
   "mimetype": "text/x-python",
   "name": "python",
   "nbconvert_exporter": "python",
   "pygments_lexer": "ipython3",
   "version": "3.9.13"
  },
  "nbproject": {
   "id": "zMCvXplQ8kTk",
   "parent": null,
   "pypackage": null,
   "time_init": "2022-09-02T14:11:03.230995+00:00",
   "version": "0"
  },
  "vscode": {
   "interpreter": {
    "hash": "ae1fefc8646a06dd2e75004cd934adda7c5727b046986a772e3b44b0ffba9754"
   }
  }
 },
 "nbformat": 4,
 "nbformat_minor": 5
}
