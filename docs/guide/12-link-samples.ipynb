{
 "cells": [
  {
   "cell_type": "markdown",
   "id": "b5fc74a4",
   "metadata": {},
   "source": [
    "# Track sample-level metadata"
   ]
  },
  {
   "cell_type": "markdown",
   "id": "198a10f0",
   "metadata": {},
   "source": [
    "We already saw how to link data objects to entities representing features during ingestion.\n",
    "\n",
    "For sample-level metadata, the underlying schema is often more complicated, and hence it's best done in a separate step.\n",
    "\n",
    "Here, we walk through this process."
   ]
  },
  {
   "cell_type": "code",
   "execution_count": null,
   "id": "21af215e",
   "metadata": {},
   "outputs": [],
   "source": [
    "import lamindb as ln\n",
    "import lnschema_bionty as bt\n",
    "import lnschema_lamin1 as ln1\n",
    "\n",
    "ln.track()"
   ]
  },
  {
   "cell_type": "markdown",
   "id": "f7bffead",
   "metadata": {},
   "source": [
    "Samples, i.e., metadata associated with observations, are linked with the same approach post-ingestion."
   ]
  },
  {
   "cell_type": "markdown",
   "id": "6b5c6550",
   "metadata": {},
   "source": [
    "We'll need to lazily relationships of objects, and hence, we need to keep track of a session."
   ]
  },
  {
   "cell_type": "code",
   "execution_count": null,
   "id": "1d48daa5",
   "metadata": {},
   "outputs": [],
   "source": [
    "ss = ln.Session()"
   ]
  },
  {
   "cell_type": "markdown",
   "id": "6747e862",
   "metadata": {},
   "source": [
    "Let's first query an scRNA-seq dataset stored as an `.h5ad` file."
   ]
  },
  {
   "cell_type": "code",
   "execution_count": null,
   "id": "b43c43e4",
   "metadata": {},
   "outputs": [],
   "source": [
    "file = ss.select(ln.File, suffix=\".h5ad\").first()"
   ]
  },
  {
   "cell_type": "code",
   "execution_count": null,
   "id": "f6163fb2-a387-41f6-b7bc-3190bce55a26",
   "metadata": {},
   "outputs": [],
   "source": [
    "file"
   ]
  },
  {
   "cell_type": "markdown",
   "id": "f78f29e2",
   "metadata": {},
   "source": [
    "For instance, let's annotate a scRNA-seq dataset with its readout type (scRNA-seq), the tissue, and the species."
   ]
  },
  {
   "cell_type": "markdown",
   "id": "93c6a1ea",
   "metadata": {},
   "source": [
    "## Readout"
   ]
  },
  {
   "cell_type": "code",
   "execution_count": null,
   "id": "4b48f82c",
   "metadata": {},
   "outputs": [],
   "source": [
    "ro_lookup = bt.Readout.bionty.lookup()\n",
    "scrnaseq = ro_lookup.single_cell_RNA_sequencing\n",
    "\n",
    "scrnaseq"
   ]
  },
  {
   "cell_type": "code",
   "execution_count": null,
   "id": "dbf8ac7b",
   "metadata": {},
   "outputs": [],
   "source": [
    "readout = bt.Readout(name=scrnaseq.name)\n",
    "\n",
    "readout"
   ]
  },
  {
   "cell_type": "markdown",
   "id": "867ded79-18ab-4b48-9ef1-3ede7cb61fb6",
   "metadata": {},
   "source": [
    "Link the readout against the data object."
   ]
  },
  {
   "cell_type": "code",
   "execution_count": null,
   "id": "7117701d-eda9-4a1a-a011-f2fb1b9c49ff",
   "metadata": {},
   "outputs": [],
   "source": [
    "file.readouts.append(readout)"
   ]
  },
  {
   "cell_type": "markdown",
   "id": "051a01d6-df60-4a60-ac01-6a801d71cf67",
   "metadata": {},
   "source": [
    "## Biosample"
   ]
  },
  {
   "cell_type": "code",
   "execution_count": null,
   "id": "04a89a94",
   "metadata": {},
   "outputs": [],
   "source": [
    "biosample = ln1.Biosample(name=\"Mouse Lymph Node\")"
   ]
  },
  {
   "cell_type": "markdown",
   "id": "0aa6b90d",
   "metadata": {},
   "source": [
    "### Species"
   ]
  },
  {
   "cell_type": "markdown",
   "id": "c55c521f",
   "metadata": {},
   "source": [
    "We already have mouse in the database, hence let's just query it. No need to create a new record."
   ]
  },
  {
   "cell_type": "code",
   "execution_count": null,
   "id": "cf1ed961",
   "metadata": {},
   "outputs": [],
   "source": [
    "species = ln.select(bt.Species, name=\"mouse\").one()\n",
    "\n",
    "species"
   ]
  },
  {
   "cell_type": "code",
   "execution_count": null,
   "id": "16aed80c-2ab0-4a7a-b73d-1a74e5370ae4",
   "metadata": {},
   "outputs": [],
   "source": [
    "biosample.species = species"
   ]
  },
  {
   "cell_type": "markdown",
   "id": "b81e6ddf",
   "metadata": {},
   "source": [
    "### Tissue"
   ]
  },
  {
   "cell_type": "code",
   "execution_count": null,
   "id": "dce787a2",
   "metadata": {},
   "outputs": [],
   "source": [
    "tissue_lookup = bt.Tissue.bionty.lookup()"
   ]
  },
  {
   "cell_type": "code",
   "execution_count": null,
   "id": "8cdc01c8",
   "metadata": {},
   "outputs": [],
   "source": [
    "tissue_lookup.lymph_node"
   ]
  },
  {
   "cell_type": "code",
   "execution_count": null,
   "id": "e19e0613",
   "metadata": {},
   "outputs": [],
   "source": [
    "tissue = bt.Tissue(name=tissue_lookup.lymph_node.name)"
   ]
  },
  {
   "cell_type": "code",
   "execution_count": null,
   "id": "742d5ac7",
   "metadata": {},
   "outputs": [],
   "source": [
    "tissue"
   ]
  },
  {
   "cell_type": "code",
   "execution_count": null,
   "id": "72d84b8b-7418-4bb9-bf15-aa1af6502d60",
   "metadata": {},
   "outputs": [],
   "source": [
    "biosample.tissue = tissue"
   ]
  },
  {
   "cell_type": "markdown",
   "id": "7e358247-0319-4632-a74f-da17de7eb81d",
   "metadata": {},
   "source": [
    "## Link against file"
   ]
  },
  {
   "cell_type": "markdown",
   "id": "33ad35b8-85c8-4662-bb3f-a7e25b2fb6c4",
   "metadata": {},
   "source": [
    "Link against the data object:"
   ]
  },
  {
   "cell_type": "code",
   "execution_count": null,
   "id": "d0a3783a-370d-4648-8bd1-6776f014b0f5",
   "metadata": {},
   "outputs": [],
   "source": [
    "file.biosamples.append(biosample)"
   ]
  },
  {
   "cell_type": "markdown",
   "id": "fec05be3-6d70-4092-a72f-e5ad24391f9d",
   "metadata": {},
   "source": [
    "## Add to the DB"
   ]
  },
  {
   "cell_type": "markdown",
   "id": "49d4ced3-a587-4808-b2f1-71853861511c",
   "metadata": {},
   "source": [
    "We can add everything to the DB in one transaction:"
   ]
  },
  {
   "cell_type": "code",
   "execution_count": null,
   "id": "35a3f206-6d8a-4102-8bc0-a8ee1819c101",
   "metadata": {},
   "outputs": [],
   "source": [
    "ss.add([readout, biosample])"
   ]
  },
  {
   "cell_type": "markdown",
   "id": "fab756d7",
   "metadata": {},
   "source": [
    "Let us close the session."
   ]
  },
  {
   "cell_type": "code",
   "execution_count": null,
   "id": "a823c937",
   "metadata": {},
   "outputs": [],
   "source": [
    "ss.close()"
   ]
  },
  {
   "cell_type": "markdown",
   "id": "ba9752fe",
   "metadata": {},
   "source": [
    "```{Tip}\n",
    "\n",
    "Manage `Session` closing with a context manager instead of manually closing it!\n",
    "\n",
    "With it the above would look like:\n",
    "\n",
    "```{code}\n",
    "with ln.Session() as ss:\n",
    "    # manipulate data\n",
    "```"
   ]
  },
  {
   "cell_type": "markdown",
   "id": "1d8e6dc4",
   "metadata": {},
   "source": [
    "## Query for linked metadata"
   ]
  },
  {
   "cell_type": "code",
   "execution_count": null,
   "id": "e984d97e-c295-4257-a5bf-fb2347ce3678",
   "metadata": {},
   "outputs": [],
   "source": [
    "ln.select(ln.File).where(\n",
    "    ln.File.readouts,\n",
    "    bt.Readout.name == scrnaseq.name,\n",
    ").df()"
   ]
  },
  {
   "cell_type": "code",
   "execution_count": null,
   "id": "6350f154",
   "metadata": {},
   "outputs": [],
   "source": [
    "ln.select(ln.File).join(ln.File.biosamples).where(\n",
    "    ln1.Biosample.species, bt.Species.name == \"mouse\"\n",
    ").df()"
   ]
  },
  {
   "cell_type": "markdown",
   "id": "6e6fd0e8",
   "metadata": {},
   "source": [
    "## What's in the database?"
   ]
  },
  {
   "cell_type": "markdown",
   "id": "fd635d73",
   "metadata": {},
   "source": [
    "### Biological entities"
   ]
  },
  {
   "cell_type": "code",
   "execution_count": null,
   "id": "ac24e364",
   "metadata": {},
   "outputs": [],
   "source": [
    "ln.view(schema=\"bionty\")"
   ]
  },
  {
   "cell_type": "markdown",
   "id": "043f1481",
   "metadata": {},
   "source": [
    "### Wetlab"
   ]
  },
  {
   "cell_type": "code",
   "execution_count": null,
   "id": "46fa9e6b",
   "metadata": {},
   "outputs": [],
   "source": [
    "ln.view(schema=\"lamin1\")"
   ]
  },
  {
   "cell_type": "code",
   "execution_count": null,
   "id": "063136ef",
   "metadata": {
    "tags": [
     "hide-cell"
    ]
   },
   "outputs": [],
   "source": [
    "# integrity checks\n",
    "with ln.Session() as ss:\n",
    "    mouselymph = ss.select(ln.File, name=\"Mouse Lymph Node scRNA-seq\").one()\n",
    "\n",
    "    mouselymph_hash = mouselymph.hash\n",
    "    assert mouselymph_hash == \"Qprqj0O23197Ko-VobaZiw\"\n",
    "\n",
    "    mouselymph_features_hash = mouselymph.features[0].id\n",
    "    assert mouselymph_features_hash == \"2Mv3JtH-ScBVYHilbLaQ\""
   ]
  }
 ],
 "metadata": {
  "kernelspec": {
   "display_name": "Python 3 (ipykernel)",
   "language": "python",
   "name": "python3"
  },
  "language_info": {
   "codemirror_mode": {
    "name": "ipython",
    "version": 3
   },
   "file_extension": ".py",
   "mimetype": "text/x-python",
   "name": "python",
   "nbconvert_exporter": "python",
   "pygments_lexer": "ipython3",
   "version": "3.9.15"
  },
  "nbproject": {
   "id": "zMCvXplQ8kTk",
   "parent": null,
   "pypackage": null,
   "time_init": "2022-09-02T14:11:03.230995+00:00",
   "version": "0"
  },
  "vscode": {
   "interpreter": {
    "hash": "ae1fefc8646a06dd2e75004cd934adda7c5727b046986a772e3b44b0ffba9754"
   }
  }
 },
 "nbformat": 4,
 "nbformat_minor": 5
}
