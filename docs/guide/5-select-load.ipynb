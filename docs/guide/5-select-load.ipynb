{
 "cells": [
  {
   "cell_type": "markdown",
   "id": "1a515a1b-34ac-4c0b-ae6c-0f360bd3ac9b",
   "metadata": {},
   "source": [
    "# Query & load data: `select & load`"
   ]
  },
  {
   "cell_type": "markdown",
   "id": "5b5fa658",
   "metadata": {},
   "source": [
    "- LaminDB allows querying data based on SQL-derived `select` statements.\n",
    "- Once data is queried, you can load it into memory using `load`."
   ]
  },
  {
   "cell_type": "code",
   "execution_count": null,
   "id": "fe98f316-2175-4c16-8bb5-726f61fdf85c",
   "metadata": {},
   "outputs": [],
   "source": [
    "import lamindb as ln\n",
    "import lamindb.schema as lns\n",
    "\n",
    "ln.nb.header()"
   ]
  },
  {
   "cell_type": "markdown",
   "id": "bbda4807",
   "metadata": {},
   "source": [
    "## Query a single table with AND constraints"
   ]
  },
  {
   "cell_type": "markdown",
   "id": "233821ee",
   "metadata": {},
   "source": [
    "LaminDB's {func}`~lamindb.select` statements are based on [SQLModel](https://sqlmodel.tiangolo.com) but offer further simplifications targeted at data scientists."
   ]
  },
  {
   "cell_type": "markdown",
   "id": "ccee9eee",
   "metadata": {},
   "source": [
    "To select data from a single table based on fields of that table, provide contraints directly as keyword arguments:"
   ]
  },
  {
   "cell_type": "code",
   "execution_count": null,
   "id": "1913c865",
   "metadata": {},
   "outputs": [],
   "source": [
    "dtransform = ln.select(lns.DTransform, jupynb_id=\"W9sKZ8VKmLhY\", jupynb_v=\"1\").one()\n",
    "dobjects = ln.select(  # query all parquet files ingested from a given notebook\n",
    "    lns.DObject, suffix=\".parquet\", dtransform_id=dtransform.id\n",
    ")"
   ]
  },
  {
   "cell_type": "markdown",
   "id": "02d03b90",
   "metadata": {},
   "source": [
    "To access the query results encoded in `dobjects` (a `SelectStmt`), execute the statemnt with one of\n",
    "\n",
    "- `.all()`: A list of records.\n",
    "- `.df()`: A dataframe with each record stored as a row.\n",
    "- `.one()`: Exactly one record. Will raise an error if there is none.\n",
    "- `.one_or_none()`: Either one record or `None` if there is no query result."
   ]
  },
  {
   "cell_type": "markdown",
   "id": "d3b0c9b6",
   "metadata": {},
   "source": [
    "For example:"
   ]
  },
  {
   "cell_type": "code",
   "execution_count": null,
   "id": "6c4a09c7",
   "metadata": {},
   "outputs": [],
   "source": [
    "ln.select(lns.DObject, suffix=\".parquet\", dtransform_id=dtransform.id).all()"
   ]
  },
  {
   "cell_type": "markdown",
   "id": "431a45ac",
   "metadata": {},
   "source": [
    "You can call `.df()` to return a `DataFrame` instead."
   ]
  },
  {
   "cell_type": "code",
   "execution_count": null,
   "id": "feeabc0b",
   "metadata": {},
   "outputs": [],
   "source": [
    "ln.select(lns.DObject, suffix=\".parquet\", dtransform_id=dtransform.id).df()"
   ]
  },
  {
   "cell_type": "markdown",
   "id": "79dd60af",
   "metadata": {},
   "source": [
    "If no constraints are passed, the select returns all rows in the table."
   ]
  },
  {
   "cell_type": "code",
   "execution_count": null,
   "id": "a03a9291",
   "metadata": {},
   "outputs": [],
   "source": [
    "ln.select(lns.DObject).df()"
   ]
  },
  {
   "cell_type": "markdown",
   "id": "fe5af921",
   "metadata": {},
   "source": [
    "## Query a single table with arbitrary constraints"
   ]
  },
  {
   "cell_type": "markdown",
   "id": "866820c0",
   "metadata": {},
   "source": [
    "For more general queries, LaminDB offers SQL's entire spectrum, mapped by SQLAlchemy.\n",
    "\n",
    "Use them via expressions, for example:"
   ]
  },
  {
   "cell_type": "code",
   "execution_count": null,
   "id": "6572899f",
   "metadata": {},
   "outputs": [],
   "source": [
    "ln.select(lns.DObject).where(\n",
    "    lns.DObject.created_at > \"2022-08\"\n",
    ").df()  # data objects more recent than August 2022"
   ]
  },
  {
   "cell_type": "markdown",
   "id": "19a6382c",
   "metadata": {},
   "source": [
    "## Load data objects"
   ]
  },
  {
   "cell_type": "markdown",
   "id": "50c90781",
   "metadata": {},
   "source": [
    "Load data objects into memory via {func}`~lamindb.load`:"
   ]
  },
  {
   "cell_type": "code",
   "execution_count": null,
   "id": "e1dc8fd8",
   "metadata": {},
   "outputs": [],
   "source": [
    "dobject = ln.select(lns.DObject, name=\"iris\").first()\n",
    "\n",
    "df = ln.load(dobject)"
   ]
  },
  {
   "cell_type": "code",
   "execution_count": null,
   "id": "f5356880",
   "metadata": {},
   "outputs": [],
   "source": [
    "df.head()"
   ]
  },
  {
   "cell_type": "markdown",
   "id": "3ef9f658",
   "metadata": {},
   "source": [
    "If no in-memory format can be found, `load` returns the filepath:"
   ]
  },
  {
   "cell_type": "code",
   "execution_count": null,
   "id": "332ea6e5",
   "metadata": {},
   "outputs": [],
   "source": [
    "dobject = ln.select(lns.DObject, name=\"paradisi05_laminopathic_nuclei\").one()\n",
    "\n",
    "ln.load(dobject)"
   ]
  },
  {
   "cell_type": "markdown",
   "id": "b6bf7cd4",
   "metadata": {},
   "source": [
    "## Query data by linked entities"
   ]
  },
  {
   "cell_type": "markdown",
   "id": "4dbfbd08",
   "metadata": {},
   "source": [
    "You can select data objects by fields that are not present in the `dobject` table via linked entities.\n",
    "\n",
    "You can do this through providing a `where` dictionary."
   ]
  },
  {
   "cell_type": "code",
   "execution_count": null,
   "id": "53a3a504-3f90-48e4-8368-915537756c32",
   "metadata": {},
   "outputs": [],
   "source": [
    "# The next version will bring this back with a canonical API!"
   ]
  },
  {
   "cell_type": "code",
   "execution_count": null,
   "id": "314db444",
   "metadata": {},
   "outputs": [],
   "source": [
    "# ln.select.dobject(where=dict(jupynb=dict(name=\"Ingest data: `Ingest`\"))).df()"
   ]
  },
  {
   "cell_type": "code",
   "execution_count": null,
   "id": "0f5d7ac9",
   "metadata": {},
   "outputs": [],
   "source": [
    "# ln.select.dobject(suffix=\".h5ad\", where=dict(gene=dict(symbol=\"Actg1\"))).df()"
   ]
  },
  {
   "cell_type": "markdown",
   "id": "2733453e",
   "metadata": {},
   "source": [
    "`where` can filter conditions from multiple entities."
   ]
  },
  {
   "cell_type": "code",
   "execution_count": null,
   "id": "dff3bb85",
   "metadata": {},
   "outputs": [],
   "source": [
    "# from bioreadout import lookup\n",
    "\n",
    "# ln.select.dobject(\n",
    "#     where=dict(\n",
    "#         gene=dict(ncbi_gene_id=66722),\n",
    "#         readout=dict(efo_id=lookup.readout.single_cell_RNA_sequencing),\n",
    "#     )\n",
    "# ).df()"
   ]
  },
  {
   "cell_type": "markdown",
   "id": "7df355c9",
   "metadata": {},
   "source": [
    "query dobject by user"
   ]
  },
  {
   "cell_type": "code",
   "execution_count": null,
   "id": "6181d6a6",
   "metadata": {},
   "outputs": [],
   "source": [
    "# ln.select.dobject(where=dict(user=dict(name=\"Test User1\"))).df()"
   ]
  },
  {
   "cell_type": "markdown",
   "id": "c5581f50",
   "metadata": {},
   "source": [
    "## Using `SQLModel` sessions"
   ]
  },
  {
   "cell_type": "markdown",
   "id": "0e463f89",
   "metadata": {},
   "source": [
    "If needed, you can also use the lower level [SQLModel](https://sqlmodel.tiangolo.com) API via `ln.session()`."
   ]
  },
  {
   "cell_type": "markdown",
   "id": "4e5e039b",
   "metadata": {},
   "source": [
    "For instance, let's select for a data source via the linked `dtransform`:"
   ]
  },
  {
   "cell_type": "code",
   "execution_count": null,
   "id": "25deec4b",
   "metadata": {},
   "outputs": [],
   "source": [
    "with ln.session() as session:\n",
    "    dtransform = session.get(lns.DTransform, dobject.dtransform_id)"
   ]
  },
  {
   "cell_type": "markdown",
   "id": "c0236234",
   "metadata": {},
   "source": [
    "Inspecting the result we see that the dobject originates from a Jupyter Notebook."
   ]
  },
  {
   "cell_type": "code",
   "execution_count": null,
   "id": "39f75d53",
   "metadata": {},
   "outputs": [],
   "source": [
    "dtransform"
   ]
  },
  {
   "cell_type": "code",
   "execution_count": null,
   "id": "0bfbcade",
   "metadata": {},
   "outputs": [],
   "source": [
    "with ln.session() as session:\n",
    "    jupynb = session.get(\n",
    "        lns.Jupynb,\n",
    "        (dtransform.jupynb_id, dtransform.jupynb_v),  # it's version \"1\" see jupynb_v\n",
    "    )"
   ]
  },
  {
   "cell_type": "code",
   "execution_count": null,
   "id": "5f889852",
   "metadata": {},
   "outputs": [],
   "source": [
    "jupynb"
   ]
  },
  {
   "cell_type": "markdown",
   "id": "b7c16562",
   "metadata": {},
   "source": [
    "Now we found the user who last edited the notebook!"
   ]
  },
  {
   "cell_type": "code",
   "execution_count": null,
   "id": "c55ca2cd",
   "metadata": {},
   "outputs": [],
   "source": [
    "with ln.session() as session:\n",
    "    user = session.get(lns.User, jupynb.created_by)"
   ]
  },
  {
   "cell_type": "code",
   "execution_count": null,
   "id": "1c199ae7",
   "metadata": {},
   "outputs": [],
   "source": [
    "user"
   ]
  }
 ],
 "metadata": {
  "kernelspec": {
   "display_name": "Python 3.9.12 ('base1')",
   "language": "python",
   "name": "python3"
  },
  "language_info": {
   "codemirror_mode": {
    "name": "ipython",
    "version": 3
   },
   "file_extension": ".py",
   "mimetype": "text/x-python",
   "name": "python",
   "nbconvert_exporter": "python",
   "pygments_lexer": "ipython3",
   "version": "3.9.12"
  },
  "nbproject": {
   "id": "hmWrrFMGO5Dg",
   "parent": null,
   "pypackage": null,
   "time_init": "2022-07-31T16:34:36.395954+00:00",
   "version": "draft"
  },
  "vscode": {
   "interpreter": {
    "hash": "2775e555cdc2d728c54aa22130c79afb1fa4da64f22f2fc6dcc2aa346c4e0672"
   }
  }
 },
 "nbformat": 4,
 "nbformat_minor": 5
}
