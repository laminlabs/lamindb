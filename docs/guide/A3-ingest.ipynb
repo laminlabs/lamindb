{
 "cells": [
  {
   "cell_type": "markdown",
   "id": "f1af9ea1-be73-4bdb-8f5a-529a7c2da9dc",
   "metadata": {
    "tags": []
   },
   "source": [
    "# Ingest data: `db.Ingest`"
   ]
  },
  {
   "cell_type": "markdown",
   "id": "4cc127bd",
   "metadata": {},
   "source": [
    "Use the {class}`~lamindb.db.Ingest` class to ingest data of any format."
   ]
  },
  {
   "cell_type": "code",
   "execution_count": null,
   "id": "56ac9d46-cd5d-4f32-87b6-dbe84d7f64ca",
   "metadata": {},
   "outputs": [],
   "source": [
    "import lamindb as ln\n",
    "\n",
    "ln.nb.header()"
   ]
  },
  {
   "cell_type": "markdown",
   "id": "316cd754",
   "metadata": {},
   "source": [
    "## Ingest files"
   ]
  },
  {
   "cell_type": "markdown",
   "id": "765c1d7a-abc1-4941-9585-c98eb4d8bea4",
   "metadata": {},
   "source": [
    "Example: A single image file from [Paradisi *et al.* (2005)](https://bmcmolcellbiol.biomedcentral.com/articles/10.1186/1471-2121-6-27):\n",
    "\n",
    "<img width=\"150\" alt=\"Laminopathic nuclei\" src=\"https://upload.wikimedia.org/wikipedia/commons/2/28/Laminopathic_nuclei.jpg\">"
   ]
  },
  {
   "cell_type": "code",
   "execution_count": null,
   "id": "f94cedbd-6d6b-43a6-a048-b33f93283609",
   "metadata": {},
   "outputs": [],
   "source": [
    "filepath = ln.datasets.file_jpg_paradisi05()\n",
    "filepath"
   ]
  },
  {
   "cell_type": "markdown",
   "id": "87b1413a",
   "metadata": {},
   "source": [
    "Any ingestion starts by instantiating {class}`~lamindb.db.Ingest` with information about a data source.\n",
    "\n",
    "Here, the data source is a Jupyter notebook and is automatically inferred. In {doc}`pipeline`, the data source is a computational pipeline."
   ]
  },
  {
   "cell_type": "code",
   "execution_count": null,
   "id": "b58ae79f",
   "metadata": {},
   "outputs": [],
   "source": [
    "ingest = ln.db.Ingest()"
   ]
  },
  {
   "cell_type": "markdown",
   "id": "74eb8e33",
   "metadata": {},
   "source": [
    "To track a file, stage it for ingestion via `ingest.add()`."
   ]
  },
  {
   "cell_type": "code",
   "execution_count": null,
   "id": "739de330",
   "metadata": {},
   "outputs": [],
   "source": [
    "staged = ingest.add(filepath)"
   ]
  },
  {
   "cell_type": "markdown",
   "id": "11608fa1",
   "metadata": {},
   "source": [
    "Each `.add(data)` operation creates an {class}`~lamindb.dev.db.Staged` object."
   ]
  },
  {
   "cell_type": "markdown",
   "id": "eeab8aa5",
   "metadata": {},
   "source": [
    "Among other attributes, it allows to access the data object entry that is be inserted into the database:"
   ]
  },
  {
   "cell_type": "code",
   "execution_count": null,
   "id": "0ad01947",
   "metadata": {},
   "outputs": [],
   "source": [
    "staged.dobject"
   ]
  },
  {
   "cell_type": "markdown",
   "id": "6a18c829",
   "metadata": {},
   "source": [
    "We'll see how this is going to be relevant for linking metadata against the data object."
   ]
  },
  {
   "cell_type": "markdown",
   "id": "f5b24bef",
   "metadata": {},
   "source": [
    "## Ingest in-memory data"
   ]
  },
  {
   "cell_type": "code",
   "execution_count": null,
   "id": "df338697",
   "metadata": {},
   "outputs": [],
   "source": [
    "import sklearn.datasets"
   ]
  },
  {
   "cell_type": "markdown",
   "id": "897b54c0-9bb1-49e1-b63a-08b1413df2a1",
   "metadata": {},
   "source": [
    "Example: A `DataFrame` storing the iris dataset:"
   ]
  },
  {
   "cell_type": "code",
   "execution_count": null,
   "id": "aa34b8e5-1c1e-47ef-994e-04b96453d3ee",
   "metadata": {},
   "outputs": [],
   "source": [
    "df = sklearn.datasets.load_iris(as_frame=True).frame\n",
    "\n",
    "df.head()"
   ]
  },
  {
   "cell_type": "markdown",
   "id": "d172ed7d",
   "metadata": {},
   "source": [
    "When ingesting in-memory objects, a `name` argument needs to be passed:"
   ]
  },
  {
   "cell_type": "code",
   "execution_count": null,
   "id": "475d473f",
   "metadata": {},
   "outputs": [],
   "source": [
    "ingest.add(df, name=\"iris\");"
   ]
  },
  {
   "cell_type": "markdown",
   "id": "e2484f6f",
   "metadata": {},
   "source": [
    "## Linking features of ingested data"
   ]
  },
  {
   "cell_type": "markdown",
   "id": "56e86a45",
   "metadata": {},
   "source": [
    "So far, we haven't enabled ourselves to select for the _features_ of ingested data, and used LaminDB like a data lake.\n",
    "\n",
    "We'll typically use the term feature to denote all its related terms: variable (statistics), column/field (databases), and dimension (machine learning)."
   ]
  },
  {
   "cell_type": "markdown",
   "id": "1ffea7de",
   "metadata": {},
   "source": [
    "LaminDB can create links to underlying entities and behave much like a data warehouse if one passes a _feature model_ to `db.ingest`."
   ]
  },
  {
   "cell_type": "markdown",
   "id": "8801c81c",
   "metadata": {},
   "source": [
    "Example: An scRNA-seq count matrix in form of an `AnnData` object in memory"
   ]
  },
  {
   "cell_type": "code",
   "execution_count": null,
   "id": "7d4b692b",
   "metadata": {},
   "outputs": [],
   "source": [
    "import scanpy as sc"
   ]
  },
  {
   "cell_type": "code",
   "execution_count": null,
   "id": "cde9c734",
   "metadata": {},
   "outputs": [],
   "source": [
    "adata = sc.read(ln.datasets.file_mouse_sc_lymph_node())\n",
    "\n",
    "adata.var.head()"
   ]
  },
  {
   "cell_type": "code",
   "execution_count": null,
   "id": "aa56f54e",
   "metadata": {},
   "outputs": [],
   "source": [
    "staged = ingest.add(adata, name=\"Mouse Lymph Node scRNA-seq\")"
   ]
  },
  {
   "cell_type": "markdown",
   "id": "6796e3a8",
   "metadata": {},
   "source": [
    "The features in this dataset represent the entity `gene` and are indexed by Ensembl gene ids.\n",
    "\n",
    "Bionty provides a number of feature models for all basic biological entities that are typically measured.\n",
    "\n",
    "For linking against protein complexes, see a guide on [ingesting flow cytometry data with cell markers](https://lamin.ai/docs/db/faq/flow).\n",
    "\n",
    "```{note}\n",
    "\n",
    "[Bionty](https://lamin.ai/docs/bionty) is a biological data model generator based scientific databases.\n",
    "\n",
    "- For an overview of feature models, see: [`bionty.lookup.feature_model`](https://lamin.ai/docs/bionty/bionty.lookup#bionty.lookup.feature_model))\n",
    "- For an overview of gene ids, see: [`bionty.lookup.gene_id`](https://lamin.ai/docs/bionty/bionty.lookup#bionty.lookup.gene_id).\n",
    "```"
   ]
  },
  {
   "cell_type": "code",
   "execution_count": null,
   "id": "312bca51",
   "metadata": {},
   "outputs": [],
   "source": [
    "import bionty as bt\n",
    "\n",
    "feature_model = bt.Gene(\n",
    "    id=bt.lookup.gene_id.ensembl_gene_id,\n",
    "    species=bt.lookup.species.mouse,\n",
    ")"
   ]
  },
  {
   "cell_type": "markdown",
   "id": "13e48184",
   "metadata": {},
   "source": [
    "The `feature_model` links features against a reference, here, the gene reference [`bionty.Gene`](https://lamin.ai/docs/bionty/bionty.gene#bionty.Gene).\n",
    "\n",
    "Ingesting data with a `feature_model` enables selecting for features with a number of ids, names, and feature properties.\n",
    "\n",
    "For example, here we ingest genes with their Ensembl ids, but we can also select for them based on [gene symbol, NCBI ids, gene type, etc](https://lamin.ai/docs/db/guide/select-load#Select-data-objects-by-linked-entities)."
   ]
  },
  {
   "cell_type": "code",
   "execution_count": null,
   "id": "8e03a19c",
   "metadata": {},
   "outputs": [],
   "source": [
    "staged.link_features(feature_model)"
   ]
  },
  {
   "cell_type": "markdown",
   "id": "79da466f",
   "metadata": {},
   "source": [
    "Here, all 10000 features were successfully (unambiguously) linked against their canonical reference in `bionty.Gene`."
   ]
  },
  {
   "cell_type": "markdown",
   "id": "89cbab80",
   "metadata": {},
   "source": [
    "## Complete ingestion"
   ]
  },
  {
   "cell_type": "markdown",
   "id": "efa4f0cf-fb4f-4254-9ba0-e0dbff955612",
   "metadata": {},
   "source": [
    "Before completing the ingestion, let's check what we staged:"
   ]
  },
  {
   "cell_type": "code",
   "execution_count": null,
   "id": "8299bdbe-53eb-469e-b3db-f1a34d4d1e54",
   "metadata": {},
   "outputs": [],
   "source": [
    "ingest.status()"
   ]
  },
  {
   "cell_type": "markdown",
   "id": "0a6f1ca2-2eac-461e-9c5f-296b340c0940",
   "metadata": {},
   "source": [
    "Let's now commit these data to the DB:"
   ]
  },
  {
   "cell_type": "code",
   "execution_count": null,
   "id": "6b36d18b-c735-46fc-aaca-be0e96aac2fd",
   "metadata": {},
   "outputs": [],
   "source": [
    "ingest.commit()"
   ]
  },
  {
   "cell_type": "markdown",
   "id": "27ea0197",
   "metadata": {},
   "source": [
    "We see that several links are made in the background: the data object is associated with its source (this Jupyter notebook, `jupynb`) and the user who operates the notebook."
   ]
  }
 ],
 "metadata": {
  "kernelspec": {
   "display_name": "Python 3.9.13 ('py39')",
   "language": "python",
   "name": "python3"
  },
  "language_info": {
   "codemirror_mode": {
    "name": "ipython",
    "version": 3
   },
   "file_extension": ".py",
   "mimetype": "text/x-python",
   "name": "python",
   "nbconvert_exporter": "python",
   "pygments_lexer": "ipython3",
   "version": "3.9.13"
  },
  "nbproject": {
   "id": "W9sKZ8VKmLhY",
   "parent": null,
   "time_init": "2022-09-02T13:39:08.915979+00:00",
   "version": "draft"
  },
  "vscode": {
   "interpreter": {
    "hash": "ae1fefc8646a06dd2e75004cd934adda7c5727b046986a772e3b44b0ffba9754"
   }
  }
 },
 "nbformat": 4,
 "nbformat_minor": 5
}
