{
 "cells": [
  {
   "attachments": {},
   "cell_type": "markdown",
   "id": "39cf23f3",
   "metadata": {},
   "source": [
    "# Add & delete data"
   ]
  },
  {
   "cell_type": "code",
   "execution_count": null,
   "id": "4e4f6f24",
   "metadata": {},
   "outputs": [],
   "source": [
    "import lamindb as ln\n",
    "import lamindb.schema as lns\n",
    "\n",
    "ln.nb.header()"
   ]
  },
  {
   "cell_type": "markdown",
   "id": "45033067",
   "metadata": {},
   "source": [
    "## Insert data records"
   ]
  },
  {
   "cell_type": "code",
   "execution_count": null,
   "id": "77161019",
   "metadata": {},
   "outputs": [],
   "source": [
    "project_b1 = ln.add(lns.Project(name=\"B1\"))"
   ]
  },
  {
   "cell_type": "code",
   "execution_count": null,
   "id": "730faa68-bb78-4420-b0cc-88dedc16f799",
   "metadata": {},
   "outputs": [],
   "source": [
    "project_b1"
   ]
  },
  {
   "cell_type": "markdown",
   "id": "8734359d",
   "metadata": {},
   "source": [
    "Batch insert can be done by providing a list of records."
   ]
  },
  {
   "cell_type": "code",
   "execution_count": null,
   "id": "2d8bcf30",
   "metadata": {},
   "outputs": [],
   "source": [
    "projects = [lns.Project(name=name) for name in [\"B2\", \"B3\", \"B4\"]]"
   ]
  },
  {
   "cell_type": "code",
   "execution_count": null,
   "id": "6ffbf8a3",
   "metadata": {},
   "outputs": [],
   "source": [
    "ln.add(projects)"
   ]
  },
  {
   "cell_type": "markdown",
   "id": "3b4d62ed",
   "metadata": {},
   "source": [
    "## Check entry existence before inserting data record\n",
    "\n",
    "When a schema table is passed to the `ln.add`, select will first run to ensure no duplicated records are inserted into the DB based on fields.\n",
    "\n",
    "If a record already exists, it will return the select results without inserting new entries."
   ]
  },
  {
   "cell_type": "code",
   "execution_count": null,
   "id": "91e4159a",
   "metadata": {},
   "outputs": [],
   "source": [
    "project_exist = ln.add(lns.Project, name=\"B1\")\n",
    "\n",
    "project_exist"
   ]
  },
  {
   "cell_type": "code",
   "execution_count": null,
   "id": "02b2e3cb",
   "metadata": {},
   "outputs": [],
   "source": [
    "assert project_exist == project_b1"
   ]
  },
  {
   "cell_type": "markdown",
   "id": "55cf25e9",
   "metadata": {},
   "source": [
    "In comparison, passing a record to `ln.add()` will insert another row to the DB with `name=\"B1\"`"
   ]
  },
  {
   "cell_type": "code",
   "execution_count": null,
   "id": "b861a076",
   "metadata": {},
   "outputs": [],
   "source": [
    "project_new = ln.add(lns.Project(name=\"B1\"))\n",
    "\n",
    "project_new"
   ]
  },
  {
   "cell_type": "code",
   "execution_count": null,
   "id": "41867fd0",
   "metadata": {},
   "outputs": [],
   "source": [
    "assert project_new != project_b1"
   ]
  },
  {
   "cell_type": "markdown",
   "id": "eff8c29a",
   "metadata": {},
   "source": [
    "## Update data records"
   ]
  },
  {
   "cell_type": "code",
   "execution_count": null,
   "id": "1b9e7514",
   "metadata": {},
   "outputs": [],
   "source": [
    "dobject = ln.select(ln.DObject, name=\"iris\").first()\n",
    "dobject"
   ]
  },
  {
   "cell_type": "markdown",
   "id": "69807bd2",
   "metadata": {},
   "source": [
    "Let's update the name \"iris\" to \"iris_new\"."
   ]
  },
  {
   "cell_type": "code",
   "execution_count": null,
   "id": "ea4eeb70-8814-4416-a928-68e7edb2c5df",
   "metadata": {},
   "outputs": [],
   "source": [
    "dobject.name = \"iris_new\""
   ]
  },
  {
   "cell_type": "code",
   "execution_count": null,
   "id": "1204c848",
   "metadata": {},
   "outputs": [],
   "source": [
    "ln.add(dobject)"
   ]
  },
  {
   "cell_type": "markdown",
   "id": "bb7fe0d1",
   "metadata": {},
   "source": [
    "Let's select the same object again to see if the name has changed."
   ]
  },
  {
   "cell_type": "code",
   "execution_count": null,
   "id": "9abdd277",
   "metadata": {},
   "outputs": [],
   "source": [
    "dobject = ln.select(ln.DObject, id=dobject.id).one()\n",
    "dobject"
   ]
  },
  {
   "cell_type": "markdown",
   "id": "998bbf25-f01c-4b92-8437-a4de0d575411",
   "metadata": {},
   "source": [
    "## Delete data records"
   ]
  },
  {
   "cell_type": "markdown",
   "id": "3c85873f",
   "metadata": {},
   "source": [
    "To delete specific entries, pass records directly to `ln.delete`"
   ]
  },
  {
   "cell_type": "code",
   "execution_count": null,
   "id": "5abaa016-6d1f-41f8-ad47-b51694ca2d39",
   "metadata": {},
   "outputs": [],
   "source": [
    "project = ln.select(lns.Project, name=\"B2\").one()"
   ]
  },
  {
   "cell_type": "code",
   "execution_count": null,
   "id": "1c587d2c-3745-48c9-afc7-0734cd409a04",
   "metadata": {},
   "outputs": [],
   "source": [
    "ln.delete(project)"
   ]
  },
  {
   "cell_type": "markdown",
   "id": "fca31b9b",
   "metadata": {},
   "source": [
    "If a schema table and kwargs are provided, all records that matches the fields will be deleted from the DB."
   ]
  },
  {
   "cell_type": "code",
   "execution_count": null,
   "id": "8a7041a4",
   "metadata": {},
   "outputs": [],
   "source": [
    "ln.delete(lns.Project, name=\"B1\")"
   ]
  },
  {
   "cell_type": "markdown",
   "id": "8c3d8f53",
   "metadata": {},
   "source": [
    "## Delete data objects"
   ]
  },
  {
   "cell_type": "markdown",
   "id": "5fc3f9a4",
   "metadata": {},
   "source": [
    "Let us delete a file:"
   ]
  },
  {
   "cell_type": "code",
   "execution_count": null,
   "id": "bf2f26b6-0d01-40e0-8246-857d3aae8833",
   "metadata": {},
   "outputs": [],
   "source": [
    "dobject = ln.select(ln.DObject, name=\"paradisi05_laminopathic_nuclei\").one()"
   ]
  },
  {
   "attachments": {},
   "cell_type": "markdown",
   "id": "f17c623d",
   "metadata": {},
   "source": [
    "```{important}\n",
    "\n",
    "By default only the record is deleted, and you will be asked to confirm deleting data from storage.\n",
    "\n",
    "You may set `force=True` to auto confirm the data deletion from storage.\n",
    "```"
   ]
  },
  {
   "cell_type": "code",
   "execution_count": null,
   "id": "9670cd6c",
   "metadata": {},
   "outputs": [],
   "source": [
    "ln.delete(dobject, force=True)"
   ]
  },
  {
   "cell_type": "markdown",
   "id": "0b554d40",
   "metadata": {},
   "source": [
    "Check that the data is indeed gone from the database."
   ]
  },
  {
   "cell_type": "code",
   "execution_count": null,
   "id": "50148ce2",
   "metadata": {},
   "outputs": [],
   "source": [
    "ln.select(ln.DObject, name=\"paradisi05_laminopathic_nuclei\").all()"
   ]
  }
 ],
 "metadata": {
  "kernelspec": {
   "display_name": "Python 3 (ipykernel)",
   "language": "python",
   "name": "python3"
  },
  "language_info": {
   "codemirror_mode": {
    "name": "ipython",
    "version": 3
   },
   "file_extension": ".py",
   "mimetype": "text/x-python",
   "name": "python",
   "nbconvert_exporter": "python",
   "pygments_lexer": "ipython3",
   "version": "3.9.13"
  },
  "nbproject": {
   "id": "yowZSQXMmZkT",
   "parent": null,
   "pypackage": null,
   "time_init": "2022-08-22T19:04:50.013241+00:00",
   "version": "0"
  },
  "vscode": {
   "interpreter": {
    "hash": "ae1fefc8646a06dd2e75004cd934adda7c5727b046986a772e3b44b0ffba9754"
   }
  }
 },
 "nbformat": 4,
 "nbformat_minor": 5
}
