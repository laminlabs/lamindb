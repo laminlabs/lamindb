{
 "cells": [
  {
   "cell_type": "markdown",
   "id": "67fd9a36",
   "metadata": {},
   "source": [
    "# Setup storage, schema, users"
   ]
  },
  {
   "cell_type": "markdown",
   "id": "bb814c6d",
   "metadata": {},
   "source": [
    "Initiate your DB instance with modules of interest.\n",
    "\n",
    "[Reach out](https://lamin.ai/contact) if you'd like to configure customized schema modules."
   ]
  },
  {
   "cell_type": "code",
   "execution_count": null,
   "id": "6eabe3bd",
   "metadata": {},
   "outputs": [],
   "source": [
    "!lndb init --storage rds --schema bionty,wetlab,bfx"
   ]
  },
  {
   "cell_type": "markdown",
   "id": "3f2714b0",
   "metadata": {},
   "source": [
    "If we import lamindb now, it's going to be connected to the new DB instance we just created."
   ]
  },
  {
   "cell_type": "code",
   "execution_count": null,
   "id": "ab2bb2cf",
   "metadata": {},
   "outputs": [],
   "source": [
    "import lamindb as ln\n",
    "\n",
    "ln.nb.header()"
   ]
  },
  {
   "cell_type": "markdown",
   "id": "1fcb2e86",
   "metadata": {},
   "source": [
    "We can view the instance settings like this:"
   ]
  },
  {
   "cell_type": "code",
   "execution_count": null,
   "id": "f539b6c5",
   "metadata": {},
   "outputs": [],
   "source": [
    "ln.settings.instance"
   ]
  },
  {
   "cell_type": "markdown",
   "id": "ba7b3515",
   "metadata": {},
   "source": [
    "The schema consists entirely in default open-sourced modules, as in the other guide."
   ]
  },
  {
   "cell_type": "code",
   "execution_count": null,
   "id": "757cb628",
   "metadata": {},
   "outputs": [],
   "source": [
    "ln.schema.draw()"
   ]
  },
  {
   "cell_type": "markdown",
   "id": "ec53b54e",
   "metadata": {},
   "source": [
    "Two users within an organization collaborate on several projects:\n",
    "\n",
    "- `test-user1`: Project lead, performs wetlab experiments.\n",
    "- `test-user2`: Data scientist, performs computational analysis."
   ]
  },
  {
   "cell_type": "markdown",
   "id": "4b519bd1",
   "metadata": {},
   "source": [
    "The first user logs in to register external project ids."
   ]
  },
  {
   "cell_type": "code",
   "execution_count": null,
   "id": "99c0f027",
   "metadata": {},
   "outputs": [],
   "source": [
    "!lndb login test-user1"
   ]
  },
  {
   "cell_type": "code",
   "execution_count": null,
   "id": "01dab8b0",
   "metadata": {},
   "outputs": [],
   "source": [
    "ln.db.insert.project(\n",
    "    external_id=\"P001\",\n",
    "    name=\"Optimizing gRNA transfection in primary human T cells\",\n",
    ");"
   ]
  },
  {
   "cell_type": "code",
   "execution_count": null,
   "id": "a1d911ac",
   "metadata": {},
   "outputs": [],
   "source": [
    "ln.db.insert.project(\n",
    "    external_id=\"P002\",\n",
    "    name=\"T cell enrichment from human PBMCs\",\n",
    ");"
   ]
  },
  {
   "cell_type": "code",
   "execution_count": null,
   "id": "881f05ec",
   "metadata": {},
   "outputs": [],
   "source": [
    "ln.db.insert.project(\n",
    "    external_id=\"P003\",\n",
    "    name=(\n",
    "        \"CRISPR activation screens to decode stimulation responses in\"\n",
    "        \" primary human T cells\"\n",
    "    ),\n",
    ");"
   ]
  },
  {
   "cell_type": "markdown",
   "id": "af4bc549",
   "metadata": {},
   "source": [
    "The 3rd project here is based on [Schmidt _et al._, Science (2022)](https://www.science.org/doi/10.1126/science.abj4008)."
   ]
  }
 ],
 "metadata": {
  "kernelspec": {
   "display_name": "Python 3.9.12 ('base1')",
   "language": "python",
   "name": "python3"
  },
  "language_info": {
   "codemirror_mode": {
    "name": "ipython",
    "version": 3
   },
   "file_extension": ".py",
   "mimetype": "text/x-python",
   "name": "python",
   "nbconvert_exporter": "python",
   "pygments_lexer": "ipython3",
   "version": "3.9.12"
  },
  "nbproject": {
   "id": "1qgezw298UrW",
   "parent": null,
   "pypackage": null,
   "time_init": "2022-08-30T22:17:51.266023+00:00",
   "version": "draft"
  },
  "vscode": {
   "interpreter": {
    "hash": "2775e555cdc2d728c54aa22130c79afb1fa4da64f22f2fc6dcc2aa346c4e0672"
   }
  }
 },
 "nbformat": 4,
 "nbformat_minor": 5
}
