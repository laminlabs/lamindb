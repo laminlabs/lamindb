{
 "cells": [
  {
   "attachments": {},
   "cell_type": "markdown",
   "id": "06cadce4",
   "metadata": {},
   "source": [
    "# Understand & migrate schemas"
   ]
  },
  {
   "attachments": {},
   "cell_type": "markdown",
   "id": "e1d4ee75",
   "metadata": {},
   "source": [
    "Any LaminDB instance can mount an arbitrary number of schemas.\n",
    "\n",
    "Each schema is a Python package that defines an arbitrary number of data models.\n",
    "\n",
    "Every data model is defined as a Django Model (an [ORM](https://en.wikipedia.org/wiki/Object-relational_mapping)) and comes with an auto-generated corresponding SQL table.\n",
    "\n",
    "(And any data model defines which of features of an entity you'd like to measure, and how you'd like to store their associated data. 😌)"
   ]
  },
  {
   "cell_type": "code",
   "execution_count": null,
   "id": "93d2f8c4",
   "metadata": {
    "tags": [
     "hide-cell"
    ]
   },
   "outputs": [],
   "source": [
    "# initialize a test instance for this notebook\n",
    "# this needs to be called *before* importing lamindb in Python\n",
    "# if you'd like to load or init an instance after, use the Python API: ln.setup.init(...)\n",
    "!lamin init --storage ./test-schema"
   ]
  },
  {
   "attachments": {},
   "cell_type": "markdown",
   "id": "5141b1a0",
   "metadata": {},
   "source": [
    "## Basic data objects & data lineage: `lnschema_core`"
   ]
  },
  {
   "cell_type": "code",
   "execution_count": null,
   "id": "ff46a5e4",
   "metadata": {},
   "outputs": [],
   "source": [
    "import lamindb as ln\n",
    "\n",
    "ln.settings.verbosity = 3  # show hints"
   ]
  },
  {
   "attachments": {},
   "cell_type": "markdown",
   "id": "b614a6ea",
   "metadata": {},
   "source": [
    "The core schema is built into the core [LaminDB API](/ref/lamindb), but it's managed as its own versioned Python package `lnschema_core` with source code [here](https://github.com/laminlabs/lnschema-core).\n",
    "\n",
    "Most of LaminDB's core classes, like {class}`~lamindb.File`, {class}`~lamindb.Run`, {class}`~lamindb.User`, etc. are ORMs defined in the core schema, in `models.py` with source code [here](https://github.com/laminlabs/lnschema-core/blob/main/lnschema_core/models.py)."
   ]
  },
  {
   "attachments": {},
   "cell_type": "markdown",
   "id": "f5375b44",
   "metadata": {},
   "source": [
    "### View the schema"
   ]
  },
  {
   "attachments": {},
   "cell_type": "markdown",
   "id": "de6fdc7e",
   "metadata": {},
   "source": [
    "For your given instance, you can view the underlying SQL tables like so:"
   ]
  },
  {
   "cell_type": "code",
   "execution_count": null,
   "id": "49aeb395-ef87-4c76-9122-d7fedac70eea",
   "metadata": {},
   "outputs": [],
   "source": [
    "ln.schema.view()"
   ]
  },
  {
   "attachments": {},
   "cell_type": "markdown",
   "id": "6f09ec83",
   "metadata": {},
   "source": [
    "## Basic biological entities: `lnschema_bionty`"
   ]
  },
  {
   "attachments": {},
   "cell_type": "markdown",
   "id": "2cc62023",
   "metadata": {},
   "source": [
    "`lnschema_bionty` is derived from `Bionty`, see {doc}`../lnschema-bionty`."
   ]
  },
  {
   "attachments": {},
   "cell_type": "markdown",
   "id": "bdb97e06",
   "metadata": {},
   "source": [
    "## Custom schemas"
   ]
  },
  {
   "attachments": {},
   "cell_type": "markdown",
   "id": "5cbde8d9",
   "metadata": {},
   "source": [
    "You can set up your own schemas & ORMs or [reach out](https://lamin.ai/contact) for support within Lamin's enterprise plan.\n",
    "\n",
    "The only convention required by LaminDB for mounting a schema package is that it's named `lnschema_{schema_name}` and a valid (minimal) Django app.\n",
    "\n",
    "You'll see how simple it is if you look at this example: [github.com/laminlabs/lnschema-lamin1](https://github.com/laminlabs/lnschema-lamin1).\n",
    "\n",
    "Schema management happens in Python and two CLI calls:\n",
    "\n",
    "* `lamin migrate create`\n",
    "* `lamin migrate deploy`"
   ]
  },
  {
   "attachments": {},
   "cell_type": "markdown",
   "id": "d15d8dea",
   "metadata": {},
   "source": [
    "## Export the schema"
   ]
  },
  {
   "attachments": {},
   "cell_type": "markdown",
   "id": "9e165bee",
   "metadata": {},
   "source": [
    "If you want to export the schema, you can use {func}`~lamindb.schema.graph`, which returns a `pydot.Dot` graph object, and can be exported and converted to many formats (including `networkx`)."
   ]
  },
  {
   "cell_type": "code",
   "execution_count": null,
   "id": "adfd52d6",
   "metadata": {},
   "outputs": [],
   "source": [
    "graph = ln.schema.graph()"
   ]
  },
  {
   "cell_type": "code",
   "execution_count": null,
   "id": "71cfe832",
   "metadata": {},
   "outputs": [],
   "source": [
    "import pandas as pd\n",
    "\n",
    "pd.DataFrame(graph.formats).T"
   ]
  },
  {
   "cell_type": "code",
   "execution_count": null,
   "id": "bd0bfa37",
   "metadata": {},
   "outputs": [],
   "source": [
    "graph.create_dot()"
   ]
  },
  {
   "cell_type": "code",
   "execution_count": null,
   "id": "a600afbc",
   "metadata": {
    "tags": [
     "hide-cell"
    ]
   },
   "outputs": [],
   "source": [
    "!lamin delete test-schema\n",
    "!rm -r ./test-schema"
   ]
  }
 ],
 "metadata": {
  "kernelspec": {
   "display_name": "Python 3 (ipykernel)",
   "language": "python",
   "name": "python3"
  },
  "language_info": {
   "codemirror_mode": {
    "name": "ipython",
    "version": 3
   },
   "file_extension": ".py",
   "mimetype": "text/x-python",
   "name": "python",
   "nbconvert_exporter": "python",
   "pygments_lexer": "ipython3",
   "version": "3.9.15"
  },
  "nbproject": {
   "id": "6ZBQKdB7Mvlh",
   "parent": null,
   "pypackage": null,
   "time_init": "2022-09-02T13:31:33.726175+00:00",
   "version": "0"
  },
  "vscode": {
   "interpreter": {
    "hash": "ae1fefc8646a06dd2e75004cd934adda7c5727b046986a772e3b44b0ffba9754"
   }
  }
 },
 "nbformat": 4,
 "nbformat_minor": 5
}
