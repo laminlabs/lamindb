{
 "cells": [
  {
   "cell_type": "markdown",
   "id": "06cadce4",
   "metadata": {},
   "source": [
    "# Schema - `ln.schema`"
   ]
  },
  {
   "cell_type": "markdown",
   "id": "964d7a0b",
   "metadata": {},
   "source": [
    "You can draw the overall schema that is active in your DB instance using {func}`~lamindb.schema.draw`.\n",
    "\n",
    "It is the union of the default and customized schema modules that you mounted to your instance. Here, for example,\n",
    "\n",
    "- [schema-core](https://lamin.ai/docs/lnschema-core/api)\n",
    "- [schema-bionty](https://lamin.ai/docs/lnschema-bionty/api)\n",
    "- [schema-wetlab](https://lamin.ai/docs/lnschema-wetlab/api)"
   ]
  },
  {
   "cell_type": "code",
   "execution_count": null,
   "id": "ff46a5e4",
   "metadata": {},
   "outputs": [],
   "source": [
    "import lamindb as ln\n",
    "\n",
    "ln.nb.header()"
   ]
  },
  {
   "cell_type": "markdown",
   "id": "c11ffbd1",
   "metadata": {},
   "source": [
    "```{note}\n",
    "\n",
    "Each tutorial page is a Jupyter Notebook. `ln.nb.header()` ensures the notebook is tracked - see {mod}`~lamindb.nb`.\n",
    "```"
   ]
  },
  {
   "cell_type": "markdown",
   "id": "4160ae5b",
   "metadata": {},
   "source": [
    "## Draw schema"
   ]
  },
  {
   "cell_type": "code",
   "execution_count": null,
   "id": "49aeb395-ef87-4c76-9122-d7fedac70eea",
   "metadata": {},
   "outputs": [],
   "source": [
    "ln.schema.draw()"
   ]
  },
  {
   "cell_type": "markdown",
   "id": "71060b23",
   "metadata": {},
   "source": [
    "## Schema tables"
   ]
  },
  {
   "cell_type": "markdown",
   "id": "92dff8f0",
   "metadata": {},
   "source": [
    "List tables:"
   ]
  },
  {
   "cell_type": "code",
   "execution_count": null,
   "id": "678f9f76",
   "metadata": {},
   "outputs": [],
   "source": [
    "ln.schema.list_entities()[:5]"
   ]
  },
  {
   "cell_type": "markdown",
   "id": "4bb4ee4d",
   "metadata": {},
   "source": [
    "View data model of a table:"
   ]
  },
  {
   "cell_type": "code",
   "execution_count": null,
   "id": "e3b97266",
   "metadata": {},
   "outputs": [],
   "source": [
    "ln.schema.wetlab.biosample()"
   ]
  },
  {
   "cell_type": "code",
   "execution_count": null,
   "id": "3ed4482f",
   "metadata": {},
   "outputs": [],
   "source": []
  }
 ],
 "metadata": {
  "kernelspec": {
   "display_name": "Python 3.9.13 ('py39')",
   "language": "python",
   "name": "python3"
  },
  "language_info": {
   "codemirror_mode": {
    "name": "ipython",
    "version": 3
   },
   "file_extension": ".py",
   "mimetype": "text/x-python",
   "name": "python",
   "nbconvert_exporter": "python",
   "pygments_lexer": "ipython3",
   "version": "3.9.13"
  },
  "nbproject": {
   "id": "6ZBQKdB7Mvlh",
   "parent": null,
   "pypackage": null,
   "time_init": "2022-09-02T13:31:33.726175+00:00",
   "version": "draft"
  },
  "vscode": {
   "interpreter": {
    "hash": "ae1fefc8646a06dd2e75004cd934adda7c5727b046986a772e3b44b0ffba9754"
   }
  }
 },
 "nbformat": 4,
 "nbformat_minor": 5
}
