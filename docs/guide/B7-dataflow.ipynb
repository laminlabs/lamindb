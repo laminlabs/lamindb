{
 "cells": [
  {
   "cell_type": "markdown",
   "id": "93b368ac",
   "metadata": {},
   "source": [
    "# Data provenance"
   ]
  },
  {
   "cell_type": "code",
   "execution_count": null,
   "id": "4c5f016a",
   "metadata": {},
   "outputs": [],
   "source": [
    "import lamindb as ln\n",
    "\n",
    "ln.nb.header()"
   ]
  },
  {
   "cell_type": "code",
   "execution_count": null,
   "id": "2d534934",
   "metadata": {},
   "outputs": [],
   "source": [
    "!lndb login testuser1"
   ]
  },
  {
   "cell_type": "markdown",
   "id": "dbbfd430",
   "metadata": {},
   "source": [
    "## Select data by biological entities\n",
    "\n",
    "You can select any fields of interest in the feature tables"
   ]
  },
  {
   "cell_type": "code",
   "execution_count": null,
   "id": "abd46bb4",
   "metadata": {},
   "outputs": [],
   "source": [
    "ln.db.select.dobject(where={\"cell_type\": {\"name\": \"T cell\"}}).df()"
   ]
  },
  {
   "cell_type": "code",
   "execution_count": null,
   "id": "bae693d0",
   "metadata": {},
   "outputs": [],
   "source": [
    "ln.db.select.dobject(where={\"gene\": {\"ncbi_gene_id\": 9535}}).all()"
   ]
  },
  {
   "cell_type": "code",
   "execution_count": null,
   "id": "e5df9770",
   "metadata": {},
   "outputs": [],
   "source": [
    "ln.db.select.dobject(where={\"gene\": {\"symbol\": \"IFNG\"}}).all()"
   ]
  },
  {
   "cell_type": "markdown",
   "id": "c6d07db2",
   "metadata": {},
   "source": [
    "## Data objects"
   ]
  },
  {
   "cell_type": "code",
   "execution_count": null,
   "id": "e248d23b-a810-4061-b20c-06189af1e990",
   "metadata": {},
   "outputs": [],
   "source": [
    "ln.db.view(schema_modules=[\"core\"])"
   ]
  },
  {
   "cell_type": "markdown",
   "id": "81327289-bc8f-49d9-bce6-849baa424b40",
   "metadata": {},
   "source": [
    "## Biological entities, wetlab and bfx"
   ]
  },
  {
   "cell_type": "code",
   "execution_count": null,
   "id": "7ef87c39-0140-4b30-8d69-07653e89b6fa",
   "metadata": {},
   "outputs": [],
   "source": [
    "ln.db.view(schema_modules=[\"wetlab\", \"bionty\", \"bfx\"])"
   ]
  },
  {
   "cell_type": "markdown",
   "id": "4350bf08",
   "metadata": {},
   "source": [
    "You can also select any sample level biological entities"
   ]
  }
 ],
 "metadata": {
  "kernelspec": {
   "display_name": "Python 3 (ipykernel)",
   "language": "python",
   "name": "python3"
  },
  "language_info": {
   "codemirror_mode": {
    "name": "ipython",
    "version": 3
   },
   "file_extension": ".py",
   "mimetype": "text/x-python",
   "name": "python",
   "nbconvert_exporter": "python",
   "pygments_lexer": "ipython3",
   "version": "3.10.6"
  },
  "nbproject": {
   "id": "ZbOkNEck4fZR",
   "parent": null,
   "pypackage": null,
   "time_init": "2022-08-30T22:20:30.996102+00:00",
   "version": "draft"
  },
  "vscode": {
   "interpreter": {
    "hash": "b0fa6594d8f4cbf19f97940f81e996739fb7646882a419484c72d19e05852a7e"
   }
  }
 },
 "nbformat": 4,
 "nbformat_minor": 5
}
