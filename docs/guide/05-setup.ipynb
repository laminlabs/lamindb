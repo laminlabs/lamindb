{
 "cells": [
  {
   "attachments": {},
   "cell_type": "markdown",
   "id": "dd470e9f-835e-469b-9ec1-bc3e60a3c902",
   "metadata": {},
   "source": [
    "# Set up a LaminDB instance"
   ]
  },
  {
   "attachments": {},
   "cell_type": "markdown",
   "metadata": {},
   "source": [
    "```{note}\n",
    "\n",
    "There is both a CLI and a Python API (`lndb`) for setup.\n",
    "\n",
    "```"
   ]
  },
  {
   "attachments": {},
   "cell_type": "markdown",
   "metadata": {},
   "source": [
    "LaminDB instances are set up and configured through a separate tool: `lndb`.\n",
    "\n",
    "It configures all infrastructure so that `lamindb` itself is ready-to-use."
   ]
  },
  {
   "attachments": {},
   "cell_type": "markdown",
   "metadata": {},
   "source": [
    "```{seealso}\n",
    "\n",
    "You can find more extensive documentation on setting up an instance [here](https://lamin.ai/docs/lndb).\n",
    "\n",
    "```"
   ]
  },
  {
   "cell_type": "code",
   "execution_count": null,
   "metadata": {},
   "outputs": [],
   "source": [
    "import lndb"
   ]
  },
  {
   "attachments": {},
   "cell_type": "markdown",
   "metadata": {},
   "source": [
    "## Sign up and log in user"
   ]
  },
  {
   "attachments": {},
   "cell_type": "markdown",
   "metadata": {},
   "source": [
    "You can sign up using:\n",
    "\n",
    "```{code}\n",
    "\n",
    "lndb.signup(\"testuser1@lamin.ai\")\n",
    "```\n",
    "\n",
    "📧 You will receive a confirmation email to complete the sign-up!"
   ]
  },
  {
   "attachments": {},
   "cell_type": "markdown",
   "metadata": {},
   "source": [
    "After that, you can log in with your user handle:"
   ]
  },
  {
   "cell_type": "code",
   "execution_count": null,
   "metadata": {},
   "outputs": [],
   "source": [
    "lndb.login(\"testuser1\")"
   ]
  },
  {
   "attachments": {},
   "cell_type": "markdown",
   "metadata": {},
   "source": [
    "On new compute environments, you also need to provide your password. For instance:\n",
    "\n",
    "```{code}\n",
    "\n",
    "lndb.login(\"testuser1@lamin.ai\", password=f\"{password}\")\n",
    "```"
   ]
  },
  {
   "attachments": {},
   "cell_type": "markdown",
   "metadata": {},
   "source": [
    "You may also sign up and log in using command line:\n",
    "\n",
    "```{code}\n",
    "\n",
    "lndb signup <email>\n",
    "lndb login <handle>"
   ]
  },
  {
   "attachments": {},
   "cell_type": "markdown",
   "metadata": {},
   "source": [
    "## Init an instance"
   ]
  },
  {
   "attachments": {},
   "cell_type": "markdown",
   "metadata": {},
   "source": [
    "```{important}\n",
    "\n",
    "`Init` is only needed to run **once**, by the instance owner.\n",
    "\n",
    "After the instance is set up, use `load`.\n",
    "\n",
    "```"
   ]
  },
  {
   "attachments": {},
   "cell_type": "markdown",
   "metadata": {},
   "source": [
    "You can provide the following arguments when initializing an instance:\n",
    "\n",
    "- `storage`: a storage location\n",
    "    - local storage: path to a local directory (Note: the directory name is used as the instance name by default)\n",
    "    - cloud storage: `s3://my-bucket` for S3 bucket; `gs://my-bucket` for Google Cloud\n",
    "- `db`: [a database URI](https://docs.sqlalchemy.org/en/20/core/engines.html#database-urls)\n",
    "    - if not specified, the instance will by default use a SQLite database\n",
    "- `schema`: schema modules\n",
    "    - by default uses the [core schema module](https://lamin.ai/docs/lnschema-core) for data lineage\n",
    "    - we provide 2 public schema modules:\n",
    "        - [`bionty`](https://lamin.ai/docs/lnschema-bionty): biological entities\n",
    "        - [`wetlab`](https://lamin.ai/docs/lnschema-wetlab): a generic wetlab\n",
    "    - [contact us](https://lamin.ai/contact) to learn about customizing schema modules"
   ]
  },
  {
   "attachments": {},
   "cell_type": "markdown",
   "metadata": {},
   "source": [
    "### Local storage + SQLite"
   ]
  },
  {
   "attachments": {},
   "cell_type": "markdown",
   "id": "f0a291e7-9a27-42f7-8a74-f8ea6deefecb",
   "metadata": {},
   "source": [
    "Here, we initialize a local instance with storage in `./mydata/` and a local SQlite database for managing it.\n",
    "\n",
    "We mount `bionty` and `wetlab` schema modules.\n",
    "\n",
    "If you are only interested in tracking data and runs (pipelines and analyses), init your local SQLite instance via:\n",
    "\n",
    "- Python API: `lndb.init(storage=\"mydata\")`\n",
    "- Or on the command line: `lndb init --storage mydata`"
   ]
  },
  {
   "cell_type": "code",
   "execution_count": null,
   "metadata": {},
   "outputs": [],
   "source": [
    "lndb.init(storage=\"mydata\", schema=\"bionty,wetlab\")"
   ]
  },
  {
   "attachments": {},
   "cell_type": "markdown",
   "metadata": {},
   "source": [
    "Or on the command line:\n",
    "\n",
    "```{code}\n",
    "\n",
    "lndb init --storage mydata --schema bionty,wetlab"
   ]
  },
  {
   "cell_type": "markdown",
   "metadata": {},
   "source": [
    "\n",
    "The CLI prints help as follows."
   ]
  },
  {
   "cell_type": "code",
   "execution_count": null,
   "metadata": {},
   "outputs": [],
   "source": [
    "!lndb -h"
   ]
  },
  {
   "cell_type": "code",
   "execution_count": null,
   "metadata": {},
   "outputs": [],
   "source": [
    "!lndb init -h"
   ]
  },
  {
   "attachments": {},
   "cell_type": "markdown",
   "metadata": {},
   "source": [
    "### Cloud storage (AWS S3) + SQLite"
   ]
  },
  {
   "attachments": {},
   "cell_type": "markdown",
   "metadata": {},
   "source": [
    "- Python API:  `lndb.init(storage=\"s3://<bucket_name>\", schema=\"bionty,wetlab\")`\n",
    "- CLI: `lndb init --storage s3://<bucket_name> --schema bionty,wetlab`"
   ]
  },
  {
   "attachments": {},
   "cell_type": "markdown",
   "metadata": {},
   "source": [
    "### Cloud storage (Google Cloud) + Postgres"
   ]
  },
  {
   "attachments": {},
   "cell_type": "markdown",
   "metadata": {},
   "source": [
    "- Python API: `lndb.init(storage=\"gs://<bucket_name>\", db=\"postgresql://<user>:<pwd>@<hostname>:<port>/<dbname>\", schema=\"bionty,wetlab\")`\n",
    "- CLI: `lndb init --storage gs://<bucket_name> --db postgresql://<user>:<pwd>@<hostname>:<port>/<dbname> --schema bionty,wetlab`"
   ]
  },
  {
   "attachments": {},
   "cell_type": "markdown",
   "id": "34014397",
   "metadata": {},
   "source": [
    "Your database is now set up! 🎉"
   ]
  },
  {
   "attachments": {},
   "cell_type": "markdown",
   "metadata": {},
   "source": [
    "## Load an instance"
   ]
  },
  {
   "attachments": {},
   "cell_type": "markdown",
   "metadata": {},
   "source": [
    "- If you want to load your own instance: `lndb.load(f\"{instance_name}\")`\n",
    "- If you want to load somebody else's instance: `lndb.load(f\"{account_handle}/{instance_name}\")`"
   ]
  },
  {
   "attachments": {},
   "cell_type": "markdown",
   "metadata": {},
   "source": [
    "## See user and instance settings"
   ]
  },
  {
   "attachments": {},
   "cell_type": "markdown",
   "id": "99aac965-03bf-4363-9649-c15ec90029b8",
   "metadata": {},
   "source": [
    "In this local setup, all instance data is in `mydata/` and all metadata in the SQLite file `mydata/mydata.lndb`.\n",
    "\n",
    "Settings persist in `~/.lndb/instance-mydata.env` (and `~/.lndb/user-{user-handle}.env`) and can be accessed via [`lamindb.settings`](https://lamin.ai/docs/lndb/lndb.settings)."
   ]
  },
  {
   "attachments": {},
   "cell_type": "markdown",
   "metadata": {},
   "source": [
    "```{tip}\n",
    "\n",
    "You can check the current instance settings on command line:\n",
    "\n",
    "```{code}\n",
    "\n",
    "lndb info\n",
    "```"
   ]
  },
  {
   "cell_type": "code",
   "execution_count": null,
   "metadata": {},
   "outputs": [],
   "source": [
    "lndb.settings.user"
   ]
  },
  {
   "cell_type": "code",
   "execution_count": null,
   "metadata": {},
   "outputs": [],
   "source": [
    "lndb.settings.instance.name"
   ]
  },
  {
   "attachments": {},
   "cell_type": "markdown",
   "metadata": {},
   "source": [
    "```{note}\n",
    "\n",
    "The name of a instance is automatically referred upon init.\n",
    "- For SQLite: uses the storage directory name\n",
    "- For Postgres: uses the database name\n",
    "- You may specify the name using the `name` parameter in the `init` function.\n",
    "```"
   ]
  },
  {
   "cell_type": "code",
   "execution_count": null,
   "metadata": {},
   "outputs": [],
   "source": [
    "lndb.settings.instance.owner"
   ]
  },
  {
   "attachments": {},
   "cell_type": "markdown",
   "metadata": {},
   "source": [
    "```{note}\n",
    "\n",
    "The user who first runs the `init` function is the owner of an instance.\n",
    "```"
   ]
  },
  {
   "cell_type": "code",
   "execution_count": null,
   "metadata": {},
   "outputs": [],
   "source": [
    "lndb.settings.instance.identifier"
   ]
  },
  {
   "cell_type": "code",
   "execution_count": null,
   "metadata": {},
   "outputs": [],
   "source": [
    "lndb.settings.instance.db"
   ]
  },
  {
   "cell_type": "code",
   "execution_count": null,
   "metadata": {},
   "outputs": [],
   "source": [
    "lndb.settings.instance.storage.root"
   ]
  },
  {
   "attachments": {},
   "cell_type": "markdown",
   "metadata": {},
   "source": [
    "## View the database content"
   ]
  },
  {
   "cell_type": "code",
   "execution_count": null,
   "metadata": {},
   "outputs": [],
   "source": [
    "import lamindb as ln"
   ]
  },
  {
   "cell_type": "code",
   "execution_count": null,
   "metadata": {},
   "outputs": [],
   "source": [
    "ln.view()"
   ]
  }
 ],
 "metadata": {
  "kernelspec": {
   "display_name": "py39",
   "language": "python",
   "name": "python3"
  },
  "language_info": {
   "codemirror_mode": {
    "name": "ipython",
    "version": 3
   },
   "file_extension": ".py",
   "mimetype": "text/x-python",
   "name": "python",
   "nbconvert_exporter": "python",
   "pygments_lexer": "ipython3",
   "version": "3.9.13"
  },
  "vscode": {
   "interpreter": {
    "hash": "ae1fefc8646a06dd2e75004cd934adda7c5727b046986a772e3b44b0ffba9754"
   }
  }
 },
 "nbformat": 4,
 "nbformat_minor": 2
}
