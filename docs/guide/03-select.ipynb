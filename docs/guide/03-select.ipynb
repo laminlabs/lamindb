{
 "cells": [
  {
   "attachments": {},
   "cell_type": "markdown",
   "id": "21d1f73c",
   "metadata": {},
   "source": [
    "# Query & lookup data"
   ]
  },
  {
   "attachments": {},
   "cell_type": "markdown",
   "id": "1e640c6f",
   "metadata": {},
   "source": [
    "Query data using [SQLAlchemy](https://github.com/sqlalchemy/sqlalchemy) `select` statements.\n",
    "\n",
    "Use lookups to auto-complete categorical query conditions."
   ]
  },
  {
   "cell_type": "code",
   "execution_count": null,
   "id": "03242699",
   "metadata": {
    "tags": [
     "hide-cell"
    ]
   },
   "outputs": [],
   "source": [
    "# initialize a test instance for this notebook\n",
    "!lamin init --storage ./myobjects"
   ]
  },
  {
   "cell_type": "code",
   "execution_count": null,
   "id": "3ba53765",
   "metadata": {},
   "outputs": [],
   "source": [
    "import lamindb as ln"
   ]
  },
  {
   "attachments": {},
   "cell_type": "markdown",
   "id": "bbda4807",
   "metadata": {},
   "source": [
    "## Basic select statements"
   ]
  },
  {
   "cell_type": "code",
   "execution_count": null,
   "id": "01e2465f",
   "metadata": {},
   "outputs": [],
   "source": [
    "user_handles = ln.User.lookup(field=\"handle\")"
   ]
  },
  {
   "attachments": {},
   "cell_type": "markdown",
   "id": "82a31938",
   "metadata": {},
   "source": [
    "With auto-complete, we find a user:"
   ]
  },
  {
   "cell_type": "code",
   "execution_count": null,
   "id": "31853b49",
   "metadata": {},
   "outputs": [],
   "source": [
    "user_handles.testuser1"
   ]
  },
  {
   "attachments": {},
   "cell_type": "markdown",
   "id": "e82b0296",
   "metadata": {},
   "source": [
    "You can readily use it on one of the fields:"
   ]
  },
  {
   "cell_type": "code",
   "execution_count": null,
   "id": "6ee29bbe",
   "metadata": {},
   "outputs": [],
   "source": [
    "user = ln.select(ln.User, handle=user_handles.testuser1).one()"
   ]
  },
  {
   "cell_type": "code",
   "execution_count": null,
   "id": "9164612f",
   "metadata": {},
   "outputs": [],
   "source": [
    "user"
   ]
  },
  {
   "attachments": {},
   "cell_type": "markdown",
   "id": "02b75183",
   "metadata": {},
   "source": [
    "Query all files created by that user:"
   ]
  },
  {
   "cell_type": "code",
   "execution_count": null,
   "id": "33c8e061",
   "metadata": {},
   "outputs": [],
   "source": [
    "ln.select(ln.File).where(ln.File.created_by == user).df()"
   ]
  },
  {
   "attachments": {},
   "cell_type": "markdown",
   "id": "02d03b90",
   "metadata": {},
   "source": [
    "To access the query results encoded in `stmt` (a {class}`~lamindb.dev.db.SelectStmt`), execute it with one of\n",
    "\n",
    "- `.all()`: A list of records.\n",
    "- `.df()`: A dataframe with each record stored as a row.\n",
    "- `.one()`: Exactly one record. Will raise an error if there is none.\n",
    "- `.one_or_none()`: Either one record or `None` if there is no query result."
   ]
  },
  {
   "attachments": {},
   "cell_type": "markdown",
   "id": "d3b0c9b6",
   "metadata": {},
   "source": [
    "For example:"
   ]
  },
  {
   "cell_type": "code",
   "execution_count": null,
   "id": "a62ae78d",
   "metadata": {},
   "outputs": [],
   "source": [
    "ln.select(ln.File).where(ln.File.created_by == user).all()[:3]"
   ]
  },
  {
   "attachments": {},
   "cell_type": "markdown",
   "id": "880208c9",
   "metadata": {},
   "source": [
    "## Joined views"
   ]
  },
  {
   "attachments": {},
   "cell_type": "markdown",
   "id": "b94663e0",
   "metadata": {},
   "source": [
    "Say we want all user information in this table."
   ]
  },
  {
   "cell_type": "code",
   "execution_count": null,
   "id": "f17cb2a9",
   "metadata": {},
   "outputs": [],
   "source": [
    "ln.select(ln.User, ln.File).join(ln.File.created_by).df().head()"
   ]
  },
  {
   "attachments": {},
   "cell_type": "markdown",
   "id": "1f2765e1",
   "metadata": {},
   "source": [
    "Say, we only want the user handle."
   ]
  },
  {
   "cell_type": "code",
   "execution_count": null,
   "id": "dea47659",
   "metadata": {},
   "outputs": [],
   "source": [
    "ln.select(ln.User.handle, ln.File).join(ln.File.created_by).df().head()"
   ]
  },
  {
   "attachments": {},
   "cell_type": "markdown",
   "id": "8855a2f0",
   "metadata": {},
   "source": [
    "Say, we only want selected information from all tables."
   ]
  },
  {
   "cell_type": "code",
   "execution_count": null,
   "id": "bc377439",
   "metadata": {},
   "outputs": [],
   "source": [
    "ln.select(ln.File.name, ln.File.suffix, ln.File.size, ln.User.handle).join(\n",
    "    ln.File.created_by\n",
    ").df().head()"
   ]
  },
  {
   "attachments": {},
   "cell_type": "markdown",
   "id": "4137f9be",
   "metadata": {},
   "source": [
    "## More filtering"
   ]
  },
  {
   "attachments": {},
   "cell_type": "markdown",
   "id": "88ce22a7-2324-44f7-a171-9a0f1e8a7491",
   "metadata": {},
   "source": [
    "Let us subset to just the parquet files - we know it's exactly a single one. So we can get the record using `.one()`."
   ]
  },
  {
   "cell_type": "code",
   "execution_count": null,
   "id": "5b6ec3ca-bea4-4097-897b-94322a64506a",
   "metadata": {},
   "outputs": [],
   "source": [
    "ln.select(ln.File, suffix=\".parquet\", created_by_id=user.id).df()"
   ]
  },
  {
   "attachments": {},
   "cell_type": "markdown",
   "id": "fdd61cf1-d3c7-4bfb-a0b2-14e81201db03",
   "metadata": {},
   "source": [
    "Or subset to files greater than 10kB. Here, we can't use keyword arguments, but need an explicit where statement."
   ]
  },
  {
   "cell_type": "code",
   "execution_count": null,
   "id": "a7f73e99-614d-443b-b8a1-f1acea0f1538",
   "metadata": {},
   "outputs": [],
   "source": [
    "stmt = (\n",
    "    ln.select(ln.File)\n",
    "    .where(ln.File.size > 1e4)\n",
    "    .join(ln.File.created_by)\n",
    "    .where(ln.User.handle == user_handles.testuser1)\n",
    ")\n",
    "stmt.df()"
   ]
  },
  {
   "attachments": {},
   "cell_type": "markdown",
   "id": "81d4d50c-fa20-4c0f-8c8c-ed594939bb94",
   "metadata": {},
   "source": [
    "Or select a notebook based on a substring in the name:"
   ]
  },
  {
   "cell_type": "code",
   "execution_count": null,
   "id": "cf833a94-ba13-42de-ac9b-f72a71045a1e",
   "metadata": {},
   "outputs": [],
   "source": [
    "ln.select(ln.Transform, type=\"notebook\").where(\n",
    "    ln.Transform.title.contains(\"Track\")\n",
    ").df()"
   ]
  },
  {
   "attachments": {},
   "cell_type": "markdown",
   "id": "08baae8d",
   "metadata": {},
   "source": [
    "## Reference"
   ]
  },
  {
   "attachments": {},
   "cell_type": "markdown",
   "id": "d8853dbc",
   "metadata": {},
   "source": [
    "### and"
   ]
  },
  {
   "cell_type": "code",
   "execution_count": null,
   "id": "72c43e27",
   "metadata": {},
   "outputs": [],
   "source": [
    "ln.select(ln.File, name=\"iris_new\", suffix=\".parquet\").first()"
   ]
  },
  {
   "cell_type": "code",
   "execution_count": null,
   "id": "1204867f",
   "metadata": {},
   "outputs": [],
   "source": [
    "ln.select(ln.File).where(\n",
    "    ln.File.name == \"iris_new\", ln.File.suffix == \".parquet\"\n",
    ").first()"
   ]
  },
  {
   "attachments": {},
   "cell_type": "markdown",
   "id": "5b6efb3d",
   "metadata": {},
   "source": [
    "### or"
   ]
  },
  {
   "cell_type": "code",
   "execution_count": null,
   "id": "0d1b9a73",
   "metadata": {},
   "outputs": [],
   "source": [
    "ln.select(ln.File).where(\n",
    "    (ln.File.suffix == \".parquet\") | (ln.File.suffix == \".fastq.gz\")\n",
    ").df()"
   ]
  },
  {
   "attachments": {},
   "cell_type": "markdown",
   "id": "3c4e5bbb",
   "metadata": {},
   "source": [
    "### in"
   ]
  },
  {
   "cell_type": "code",
   "execution_count": null,
   "id": "fd26b709",
   "metadata": {},
   "outputs": [],
   "source": [
    "ln.select(ln.File).where(ln.File.suffix.in_([\".parquet\", \".fastq.gz\"])).df()"
   ]
  },
  {
   "attachments": {},
   "cell_type": "markdown",
   "id": "e6332e01",
   "metadata": {},
   "source": [
    "### order by"
   ]
  },
  {
   "cell_type": "code",
   "execution_count": null,
   "id": "b87bec42",
   "metadata": {},
   "outputs": [],
   "source": [
    "ln.select(ln.Run).order_by(ln.Run.created_at.desc()).df()"
   ]
  },
  {
   "attachments": {},
   "cell_type": "markdown",
   "id": "d35dd13b",
   "metadata": {},
   "source": [
    "### contains"
   ]
  },
  {
   "cell_type": "code",
   "execution_count": null,
   "id": "214b9a56",
   "metadata": {},
   "outputs": [],
   "source": [
    "ln.select(ln.Transform).where(ln.Transform.title.contains(\"lineage\")).df()"
   ]
  },
  {
   "attachments": {},
   "cell_type": "markdown",
   "id": "c403a644",
   "metadata": {},
   "source": [
    "### startswith"
   ]
  },
  {
   "cell_type": "code",
   "execution_count": null,
   "id": "32fc9bd7",
   "metadata": {},
   "outputs": [],
   "source": [
    "ln.select(ln.Transform).where(ln.Transform.title.contains(\"Track\")).df()"
   ]
  },
  {
   "cell_type": "code",
   "execution_count": null,
   "id": "72b03f8b",
   "metadata": {
    "tags": [
     "hide-cell"
    ]
   },
   "outputs": [],
   "source": [
    "!lamin delete myobjects"
   ]
  }
 ],
 "metadata": {
  "kernelspec": {
   "display_name": "Python 3 (ipykernel)",
   "language": "python",
   "name": "python3"
  },
  "language_info": {
   "codemirror_mode": {
    "name": "ipython",
    "version": 3
   },
   "file_extension": ".py",
   "mimetype": "text/x-python",
   "name": "python",
   "nbconvert_exporter": "python",
   "pygments_lexer": "ipython3",
   "version": "3.9.15"
  },
  "nbproject": {
   "id": "vldHzF3aTAiW",
   "parent": null,
   "pypackage": null,
   "time_init": "2023-01-07T13:55:55.329707+00:00",
   "user_handle": "testuser1",
   "user_id": "DzTjkKse",
   "user_name": "Test User1",
   "version": "0"
  },
  "vscode": {
   "interpreter": {
    "hash": "ae1fefc8646a06dd2e75004cd934adda7c5727b046986a772e3b44b0ffba9754"
   }
  }
 },
 "nbformat": 4,
 "nbformat_minor": 5
}
