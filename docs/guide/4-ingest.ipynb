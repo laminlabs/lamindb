{
 "cells": [
  {
   "cell_type": "markdown",
   "id": "f1af9ea1-be73-4bdb-8f5a-529a7c2da9dc",
   "metadata": {
    "tags": []
   },
   "source": [
    "# Ingest data objects - data lake"
   ]
  },
  {
   "cell_type": "code",
   "execution_count": null,
   "id": "56ac9d46-cd5d-4f32-87b6-dbe84d7f64ca",
   "metadata": {},
   "outputs": [],
   "source": [
    "import lamindb as ln\n",
    "\n",
    "ln.nb.header()"
   ]
  },
  {
   "cell_type": "markdown",
   "id": "316cd754",
   "metadata": {},
   "source": [
    "## Ingest files - data objects on disk"
   ]
  },
  {
   "cell_type": "markdown",
   "id": "765c1d7a-abc1-4941-9585-c98eb4d8bea4",
   "metadata": {},
   "source": [
    "Let's add an image ([Paradisi05](https://bmcmolcellbiol.biomedcentral.com/articles/10.1186/1471-2121-6-27)):\n",
    "\n",
    "<img width=\"150\" alt=\"Laminopathic nuclei\" src=\"https://upload.wikimedia.org/wikipedia/commons/2/28/Laminopathic_nuclei.jpg\">"
   ]
  },
  {
   "cell_type": "code",
   "execution_count": null,
   "id": "f94cedbd-6d6b-43a6-a048-b33f93283609",
   "metadata": {},
   "outputs": [],
   "source": [
    "filepath = ln.dev.datasets.file_jpg_paradisi05()\n",
    "filepath"
   ]
  },
  {
   "cell_type": "markdown",
   "id": "63bc4247-07e9-4389-ae95-ba2687b38872",
   "metadata": {},
   "source": [
    "First create a record for the file.\n",
    "\n",
    "As we'll abstract over data objects in memory and on disk, we'll use the term _data object_:"
   ]
  },
  {
   "cell_type": "code",
   "execution_count": null,
   "id": "11eb6096-b586-4329-90f2-f65320564a4b",
   "metadata": {},
   "outputs": [],
   "source": [
    "dobject = ln.record(filepath)"
   ]
  },
  {
   "cell_type": "markdown",
   "id": "669e4f34-9b46-4e1c-9d75-75839f3a897a",
   "metadata": {},
   "source": [
    "The record captures metadata about the file and will be our way to query and load data."
   ]
  },
  {
   "cell_type": "code",
   "execution_count": null,
   "id": "8d2a8e61-72aa-4e40-ad5d-286c92e7ed43",
   "metadata": {},
   "outputs": [],
   "source": [
    "dobject"
   ]
  },
  {
   "cell_type": "markdown",
   "id": "1bcd257b-040d-48fd-9bbc-caa264770b46",
   "metadata": {},
   "source": [
    "We can also access linked records, for instance, the record that stores metadata about this run."
   ]
  },
  {
   "cell_type": "code",
   "execution_count": null,
   "id": "04c879c0-c042-47af-a5f3-dfb2e1e36758",
   "metadata": {},
   "outputs": [],
   "source": [
    "dobject.run"
   ]
  },
  {
   "cell_type": "markdown",
   "id": "97cba170-51e2-4311-9af7-a35b646a3d98",
   "metadata": {},
   "source": [
    "If we want to add metadata & data to the database, we can do so in a single transaction:"
   ]
  },
  {
   "cell_type": "code",
   "execution_count": null,
   "id": "7c9983dd-aa56-4f90-ac22-08f2462c2860",
   "metadata": {},
   "outputs": [],
   "source": [
    "ln.add(dobject)"
   ]
  },
  {
   "cell_type": "markdown",
   "id": "f5b24bef",
   "metadata": {},
   "source": [
    "## Ingest data objects in memory"
   ]
  },
  {
   "cell_type": "code",
   "execution_count": null,
   "id": "df338697",
   "metadata": {},
   "outputs": [],
   "source": [
    "import sklearn.datasets"
   ]
  },
  {
   "cell_type": "markdown",
   "id": "897b54c0-9bb1-49e1-b63a-08b1413df2a1",
   "metadata": {},
   "source": [
    "Let's now ingest an in-memory `DataFrame` storing the iris dataset:"
   ]
  },
  {
   "cell_type": "code",
   "execution_count": null,
   "id": "aa34b8e5-1c1e-47ef-994e-04b96453d3ee",
   "metadata": {},
   "outputs": [],
   "source": [
    "df = sklearn.datasets.load_iris(as_frame=True).frame\n",
    "\n",
    "df.head()"
   ]
  },
  {
   "cell_type": "code",
   "execution_count": null,
   "id": "5b174326-8247-45e7-84fa-c5caa2d82b3d",
   "metadata": {},
   "outputs": [],
   "source": [
    "df.shape"
   ]
  },
  {
   "cell_type": "markdown",
   "id": "d172ed7d",
   "metadata": {},
   "source": [
    "When ingesting in-memory objects, a `name` argument needs to be passed:"
   ]
  },
  {
   "cell_type": "code",
   "execution_count": null,
   "id": "475d473f",
   "metadata": {},
   "outputs": [],
   "source": [
    "dobject = ln.record(df, name=\"iris\");"
   ]
  },
  {
   "cell_type": "code",
   "execution_count": null,
   "id": "ef6191ff-a327-4f0e-b015-66f6e42dbecd",
   "metadata": {},
   "outputs": [],
   "source": [
    "ln.add(dobject)"
   ]
  }
 ],
 "metadata": {
  "kernelspec": {
   "display_name": "Python 3 (ipykernel)",
   "language": "python",
   "name": "python3"
  },
  "language_info": {
   "codemirror_mode": {
    "name": "ipython",
    "version": 3
   },
   "file_extension": ".py",
   "mimetype": "text/x-python",
   "name": "python",
   "nbconvert_exporter": "python",
   "pygments_lexer": "ipython3",
   "version": "3.9.12"
  },
  "nbproject": {
   "id": "W9sKZ8VKmLhY",
   "parent": null,
   "pypackage": {
    "lamindb": "0.10.0",
    "scanpy": "1.9.1",
    "scikit-learn": "1.1.1"
   },
   "time_init": "2022-09-02T13:39:08.915979+00:00",
   "user_handle": "testuser1",
   "user_id": "DzTjkKse",
   "user_name": "Test User1",
   "version": "1"
  },
  "vscode": {
   "interpreter": {
    "hash": "b0fa6594d8f4cbf19f97940f81e996739fb7646882a419484c72d19e05852a7e"
   }
  }
 },
 "nbformat": 4,
 "nbformat_minor": 5
}
