{
 "cells": [
  {
   "cell_type": "markdown",
   "id": "0d888635-4514-41a2-807d-41e20e684f72",
   "metadata": {},
   "source": [
    "# `ln.Session` and lazily loading relationships"
   ]
  },
  {
   "cell_type": "code",
   "execution_count": null,
   "id": "96b673cf-7435-4241-b0cb-77d5c745581b",
   "metadata": {},
   "outputs": [],
   "source": [
    "import lamindb as ln\n",
    "import lamindb.schema as lns\n",
    "import pytest\n",
    "from sqlalchemy.orm.exc import DetachedInstanceError\n",
    "\n",
    "ln.nb.header()"
   ]
  },
  {
   "cell_type": "markdown",
   "id": "41454f5b-1db7-4be0-b6f6-161d0e829bc2",
   "metadata": {},
   "source": [
    "Let's create related sample data records and add them to the database:"
   ]
  },
  {
   "cell_type": "code",
   "execution_count": null,
   "id": "c6b5f6bc-786d-463b-8bed-7cfdd2cf8fe2",
   "metadata": {},
   "outputs": [],
   "source": [
    "pipeline = lns.Pipeline(name=\"Transform A\")\n",
    "run = lns.Run(name=\"Solve Problem X\", pipeline=pipeline)"
   ]
  },
  {
   "cell_type": "code",
   "execution_count": null,
   "id": "71be695f-0a93-4742-8253-fc34adff654c",
   "metadata": {},
   "outputs": [],
   "source": [
    "run.pipeline"
   ]
  },
  {
   "cell_type": "code",
   "execution_count": null,
   "id": "56527c79-c91a-4d27-b2a3-0a35abca2c19",
   "metadata": {},
   "outputs": [],
   "source": [
    "ln.add(run)"
   ]
  },
  {
   "cell_type": "markdown",
   "id": "90a94234-d6ea-4a2f-9d1d-057a2bff582f",
   "metadata": {},
   "source": [
    "Both records got just added to the database."
   ]
  },
  {
   "cell_type": "markdown",
   "id": "952c6c7f-b97c-461a-8c30-2b0d4fc78333",
   "metadata": {},
   "source": [
    "In the background, a `Session` object was created, which connected to the database, inserted the records, and closed the connection."
   ]
  },
  {
   "cell_type": "markdown",
   "id": "17b107d3-7b0e-4a02-9a32-c0f303e7b720",
   "metadata": {},
   "source": [
    "## Query results without session"
   ]
  },
  {
   "cell_type": "code",
   "execution_count": null,
   "id": "c9135bb6-6d50-4e64-9e4d-b62c8a6588f0",
   "metadata": {},
   "outputs": [],
   "source": [
    "run_queried = ln.select(lns.Run, name=\"Solve Problem X\").first()"
   ]
  },
  {
   "cell_type": "markdown",
   "id": "293b1a1f-eab2-4503-ad3a-cb259a7282d3",
   "metadata": {},
   "source": [
    "Also here, in the background, a session was created and closed. This is good enough if we need to use simple properties of the returned record, for instance, the pipeline id:"
   ]
  },
  {
   "cell_type": "code",
   "execution_count": null,
   "id": "43fd690a-f059-479e-9a97-e7cda8f5792e",
   "metadata": {},
   "outputs": [],
   "source": [
    "run_queried"
   ]
  },
  {
   "cell_type": "code",
   "execution_count": null,
   "id": "bd58f7f1-91fe-46ce-b50e-f1a2e337674b",
   "metadata": {},
   "outputs": [],
   "source": [
    "run_queried.pipeline_id"
   ]
  },
  {
   "cell_type": "markdown",
   "id": "2ba229ed-3e26-4651-9019-40b80e342af3",
   "metadata": {},
   "source": [
    "However, if we'd like to access the entire related record (here, the `Pipeline`), we'll get a `DetachedInstanceError` error (it would tell us that the \"lazy load operation of attribute 'pipeline' cannot proceed\"):"
   ]
  },
  {
   "cell_type": "code",
   "execution_count": null,
   "id": "682d9d79-2043-42ff-bfa2-d61342c8b254",
   "metadata": {},
   "outputs": [],
   "source": [
    "with pytest.raises(DetachedInstanceError):\n",
    "    run_queried.pipeline"
   ]
  },
  {
   "cell_type": "markdown",
   "id": "b564f780-2dcc-4718-9af5-4e2f85e047cb",
   "metadata": {},
   "source": [
    "The queried run would need to have an open connection to the DB in order for it to automatically load the related record. Under the hood, it needs to perform an automated query for this.\n",
    "\n",
    "But when `ln.select(...).first()` completed its execution, the database connection was closed."
   ]
  },
  {
   "cell_type": "markdown",
   "id": "13894520-2390-4491-9dcc-c31f72813ce4",
   "metadata": {},
   "source": [
    "## The Session object"
   ]
  },
  {
   "cell_type": "markdown",
   "id": "192614c4-968f-469f-bf1b-dcf3eebe32d8",
   "metadata": {},
   "source": [
    "In order to lazily load related data records, we need to use a `Session` object!"
   ]
  },
  {
   "cell_type": "code",
   "execution_count": null,
   "id": "20eeafa6-7ad9-4e1e-8d71-52d431b4b08d",
   "metadata": {},
   "outputs": [],
   "source": [
    "ss = ln.Session()"
   ]
  },
  {
   "cell_type": "markdown",
   "id": "e5fed789-426e-4b3b-8103-ff4a9354e692",
   "metadata": {},
   "source": [
    "The `Session` object comes with `add`, `delete` and `select`, just as the global namespace. They are equivalent to the global version, with the only difference being that all data records manipulated will be bound to an open session."
   ]
  },
  {
   "cell_type": "code",
   "execution_count": null,
   "id": "26b973bf-f88b-41a1-aa2f-d619a52cdd07",
   "metadata": {},
   "outputs": [],
   "source": [
    "run_session = ss.select(lns.Run, name=\"Solve Problem X\").first()"
   ]
  },
  {
   "cell_type": "code",
   "execution_count": null,
   "id": "9d4e38ee-9718-4c64-9309-9009a43a64c7",
   "metadata": {},
   "outputs": [],
   "source": [
    "run_session"
   ]
  },
  {
   "cell_type": "markdown",
   "id": "beab1dab-c7c7-4351-b647-6561ee9c3de7",
   "metadata": {},
   "source": [
    "It's clear we don't need it for the simple attributes. But we need it for lazily loaded relationships:"
   ]
  },
  {
   "cell_type": "code",
   "execution_count": null,
   "id": "7001acb7-bdd5-4b46-bb66-b0e8c2f8dd4d",
   "metadata": {},
   "outputs": [],
   "source": [
    "run_session.pipeline"
   ]
  },
  {
   "cell_type": "markdown",
   "id": "26294e9c-2c57-45f9-a30c-8f822f9932a2",
   "metadata": {},
   "source": [
    "Let us close the session."
   ]
  },
  {
   "cell_type": "code",
   "execution_count": null,
   "id": "c3918858-23f8-4c11-a942-7222b9d8ed38",
   "metadata": {},
   "outputs": [],
   "source": [
    "ss.close()"
   ]
  },
  {
   "cell_type": "markdown",
   "id": "05bce614-a42a-4ff5-89d3-d16fa15700ae",
   "metadata": {},
   "source": [
    "Given we already loaded the pipeline record, it's still available in memory."
   ]
  },
  {
   "cell_type": "code",
   "execution_count": null,
   "id": "9b6ed455-73da-4e9c-8553-67c54d4f88f2",
   "metadata": {},
   "outputs": [],
   "source": [
    "run_session.pipeline"
   ]
  },
  {
   "cell_type": "markdown",
   "id": "c5180d67-2dc3-484a-a759-3b5309bb65a6",
   "metadata": {},
   "source": [
    "But, we can't access the `notebook` relationship, as the session is now closed."
   ]
  },
  {
   "cell_type": "code",
   "execution_count": null,
   "id": "fccc57d7-41e0-42e4-ae28-eeaa79d2343e",
   "metadata": {},
   "outputs": [],
   "source": [
    "with pytest.raises(DetachedInstanceError):\n",
    "    run_session.notebook"
   ]
  },
  {
   "cell_type": "markdown",
   "id": "39c35da3-a3f7-473a-b0fc-5aa33ced5ebe",
   "metadata": {
    "tags": []
   },
   "source": [
    "## The Session object in a context manager"
   ]
  },
  {
   "cell_type": "markdown",
   "id": "44c4c012-acbe-4a62-a2c3-4b3e00fb5ae7",
   "metadata": {},
   "source": [
    "We can also call `Session` in a context manager:"
   ]
  },
  {
   "cell_type": "code",
   "execution_count": null,
   "id": "60293c82-fa1b-4881-ba87-1bd62a0db42e",
   "metadata": {},
   "outputs": [],
   "source": [
    "with ln.Session() as ss:\n",
    "    run_session2 = ss.select(lns.Run, name=\"Solve Problem X\").first()\n",
    "    print(run_session2.pipeline)"
   ]
  },
  {
   "cell_type": "code",
   "execution_count": null,
   "id": "56fbff31-3cb3-4d2a-9538-33c77f03af06",
   "metadata": {},
   "outputs": [],
   "source": [
    "run_session2.pipeline"
   ]
  },
  {
   "cell_type": "code",
   "execution_count": null,
   "id": "555fe6bc-a54c-46c4-b925-d1df1da8233b",
   "metadata": {},
   "outputs": [],
   "source": [
    "with pytest.raises(DetachedInstanceError):\n",
    "    run_session2.notebook"
   ]
  }
 ],
 "metadata": {
  "kernelspec": {
   "display_name": "py39",
   "language": "python",
   "name": "python3"
  },
  "language_info": {
   "codemirror_mode": {
    "name": "ipython",
    "version": 3
   },
   "file_extension": ".py",
   "mimetype": "text/x-python",
   "name": "python",
   "nbconvert_exporter": "python",
   "pygments_lexer": "ipython3",
   "version": "3.9.13"
  },
  "nbproject": {
   "id": "KGYsQOIpS43O",
   "parent": null,
   "pypackage": null,
   "time_init": "2023-01-12T19:16:08.282863+00:00",
   "user_handle": "testuser2",
   "user_id": "bKeW4T6E",
   "user_name": "Test User2",
   "version": "0"
  },
  "vscode": {
   "interpreter": {
    "hash": "ae1fefc8646a06dd2e75004cd934adda7c5727b046986a772e3b44b0ffba9754"
   }
  }
 },
 "nbformat": 4,
 "nbformat_minor": 5
}
