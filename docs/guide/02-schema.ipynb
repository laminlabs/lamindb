{
 "cells": [
  {
   "cell_type": "markdown",
   "id": "06cadce4",
   "metadata": {},
   "source": [
    "# Understand the entities that model data: `schema`"
   ]
  },
  {
   "cell_type": "markdown",
   "id": "e1d4ee75",
   "metadata": {},
   "source": [
    "LaminDB [models](https://en.wikipedia.org/wiki/Data_model) data by representing their underlying entities as [related tables](https://en.wikipedia.org/wiki/Relational_database), which are specified in a [schema](https://en.wikipedia.org/wiki/Database_schema).\n",
    "\n",
    "It uses schema modules to group tables and organize data across domains and problems.\n",
    "\n",
    "Each schema module is a Python module (and package) in which each table is represented as a Python class, an [ORM](https://en.wikipedia.org/wiki/Object%E2%80%93relational_mapping).[^sqlmodule]\n",
    "\n",
    "[^sqlmodule]: The Python module auto-migrates with the SQL schema module. They have a 1:1 correspondence just as any ORM has a 1:1 correspondence with a SQL table."
   ]
  },
  {
   "cell_type": "markdown",
   "id": "964d7a0b",
   "metadata": {},
   "source": [
    "In the current example, we work with four schema modules that track different parts of R&D operations:\n",
    "\n",
    "- [core](https://lamin.ai/docs/db/lamindb.schema): Data lineage.\n",
    "- [bionty](https://lamin.ai/docs/lnschema-bionty/api): Knowledge-managed biological entities.\n",
    "- [wetlab](https://lamin.ai/docs/lnschema-wetlab/api): Wetlab operations.\n",
    "- [bfx](https://lamin.ai/docs/lnbfx/lnbfx.schema): Bioinformatics pipelines."
   ]
  },
  {
   "cell_type": "code",
   "execution_count": null,
   "id": "ff46a5e4",
   "metadata": {},
   "outputs": [],
   "source": [
    "import lamindb as ln  # generic functionality\n",
    "import lamindb.schema as lns  # tables and schema functionality\n",
    "\n",
    "ln.nb.header()"
   ]
  },
  {
   "cell_type": "markdown",
   "id": "c11ffbd1",
   "metadata": {},
   "source": [
    "```{note}\n",
    "\n",
    "`ln.nb.header()` ensures every notebook is tracked as a data transformation (`run`). It builds on [nbproject](https://lamin.ai/docs/nbproject).\n",
    "```"
   ]
  },
  {
   "cell_type": "markdown",
   "id": "4160ae5b",
   "metadata": {},
   "source": [
    "## View"
   ]
  },
  {
   "cell_type": "markdown",
   "id": "4e52d5a4",
   "metadata": {},
   "source": [
    "View the schema that is active in your DB instance using {func}`~lamindb.schema.view`.\n",
    "\n",
    "It's a graph of linked entities that correspond to related tables.\n"
   ]
  },
  {
   "cell_type": "code",
   "execution_count": null,
   "id": "49aeb395-ef87-4c76-9122-d7fedac70eea",
   "metadata": {},
   "outputs": [],
   "source": [
    "lns.view()"
   ]
  },
  {
   "cell_type": "markdown",
   "id": "c9851aca",
   "metadata": {},
   "source": [
    "It's a [Snowflake schema](https://en.wikipedia.org/wiki/Snowflake_schema) with the central table that references indexed data objects ({class}`~lamindb.DObject`) that are transformed by data transformation runs ({class}`~lamindb.schema.Run`).\n",
    "\n",
    "It's a bit overwhelming, but you'll see that many entities correspond to very fundamental concepts (like `Gene` or `CellType`). You'll get to know them module by module.[^questions]\n",
    "\n",
    "[^questions]: Query performance in instances with millions of datasets will be linked here, soon, to demonstrate scalability in the presence of joins.\n"
   ]
  },
  {
   "cell_type": "markdown",
   "id": "71060b23",
   "metadata": {},
   "source": [
    "## Entities, tables, ORMs"
   ]
  },
  {
   "cell_type": "markdown",
   "id": "a86ff340",
   "metadata": {},
   "source": [
    "You'll typially access the entities in each schema module through their Python ORM, which you can look up with auto-complete.\n",
    "\n",
    "Type `lns.*` for entities in the core schema module, `lns.bionty.*` for basic biological entities, etc."
   ]
  },
  {
   "cell_type": "markdown",
   "id": "639830fb",
   "metadata": {},
   "source": [
    "Each ORM is a [SQLModel](https://sqlmodel.tiangolo.com/), meaning it offers all functionality of a [SQLAlchemy ORM](https://docs.sqlalchemy.org/en/20/orm) and a [Pydantic BaseModel](https://pydantic-docs.helpmanual.io/usage/models/).\n",
    "\n",
    "You can inspect it with auto-lookup or the multitude of possibilities offered by these classes, e.g.,"
   ]
  },
  {
   "cell_type": "code",
   "execution_count": null,
   "id": "e3b97266",
   "metadata": {},
   "outputs": [],
   "source": [
    "lns.Pipeline.__fields__"
   ]
  },
  {
   "cell_type": "markdown",
   "id": "b9f2b80b",
   "metadata": {},
   "source": [
    "You likely won't need to, but you can access the underlying SQL table of an ORM like this:"
   ]
  },
  {
   "cell_type": "code",
   "execution_count": null,
   "id": "d58577bf",
   "metadata": {},
   "outputs": [],
   "source": [
    "lns.Pipeline.__table__"
   ]
  },
  {
   "cell_type": "markdown",
   "id": "9dcd3d19",
   "metadata": {},
   "source": [
    "Consider taking a look at the entities of the [core schema module](https://lamin.ai/docs/db/lamindb.schema)."
   ]
  }
 ],
 "metadata": {
  "kernelspec": {
   "display_name": "Python 3 (ipykernel)",
   "language": "python",
   "name": "python3"
  },
  "language_info": {
   "codemirror_mode": {
    "name": "ipython",
    "version": 3
   },
   "file_extension": ".py",
   "mimetype": "text/x-python",
   "name": "python",
   "nbconvert_exporter": "python",
   "pygments_lexer": "ipython3",
   "version": "3.9.12"
  },
  "nbproject": {
   "id": "6ZBQKdB7Mvlh",
   "parent": null,
   "pypackage": null,
   "time_init": "2022-09-02T13:31:33.726175+00:00",
   "version": "0"
  },
  "vscode": {
   "interpreter": {
    "hash": "2775e555cdc2d728c54aa22130c79afb1fa4da64f22f2fc6dcc2aa346c4e0672"
   }
  }
 },
 "nbformat": 4,
 "nbformat_minor": 5
}
