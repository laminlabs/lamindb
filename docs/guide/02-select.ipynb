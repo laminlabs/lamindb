{
 "cells": [
  {
   "attachments": {},
   "cell_type": "markdown",
   "id": "21d1f73c",
   "metadata": {},
   "source": [
    "# Query & load data"
   ]
  },
  {
   "cell_type": "markdown",
   "id": "1e640c6f",
   "metadata": {},
   "source": [
    "- LaminDB allows querying data based on SQL-derived `select` statements.\n",
    "- Once data is queried, you can load it into memory using `load`."
   ]
  },
  {
   "cell_type": "code",
   "execution_count": null,
   "id": "3ba53765",
   "metadata": {},
   "outputs": [],
   "source": [
    "import lamindb as ln\n",
    "import lamindb.schema as lns\n",
    "\n",
    "ln.nb.header()"
   ]
  },
  {
   "cell_type": "markdown",
   "id": "bbda4807",
   "metadata": {},
   "source": [
    "## Basic select statements"
   ]
  },
  {
   "cell_type": "markdown",
   "id": "233821ee",
   "metadata": {},
   "source": [
    "LaminDB's {func}`~lamindb.select` statements are based on [SQLModel](https://sqlmodel.tiangolo.com) but offer further simplifications targeted at data scientists.[^sql]\n",
    "\n",
    "[^sql]: Recall that SQLModel is a shallow wrapper around SQLAlchemy."
   ]
  },
  {
   "cell_type": "code",
   "execution_count": null,
   "id": "9b514338-203b-4d12-8411-8b79b48ef101",
   "metadata": {},
   "outputs": [],
   "source": [
    "stmt = (\n",
    "    ln.select(ln.DObject)\n",
    "    .join(lns.Run)\n",
    "    .join(lns.Notebook)\n",
    "    .join(lns.User, handle=\"testuser1\")\n",
    ")"
   ]
  },
  {
   "cell_type": "markdown",
   "id": "02d03b90",
   "metadata": {},
   "source": [
    "To access the query results encoded in `stmt` (a {class}`~lamindb.dev.db.SelectStmt`), execute the statement with one of\n",
    "\n",
    "- `.all()`: A list of records.\n",
    "- `.df()`: A dataframe with each record stored as a row.\n",
    "- `.one()`: Exactly one record. Will raise an error if there is none.\n",
    "- `.one_or_none()`: Either one record or `None` if there is no query result."
   ]
  },
  {
   "cell_type": "markdown",
   "id": "d3b0c9b6",
   "metadata": {},
   "source": [
    "For example:"
   ]
  },
  {
   "cell_type": "code",
   "execution_count": null,
   "id": "a62ae78d",
   "metadata": {},
   "outputs": [],
   "source": [
    "stmt.all()"
   ]
  },
  {
   "cell_type": "markdown",
   "id": "5f28d078",
   "metadata": {},
   "source": [
    "It's often the most convenient to use the built-in converter to DataFrames."
   ]
  },
  {
   "cell_type": "code",
   "execution_count": null,
   "id": "6c4a09c7",
   "metadata": {},
   "outputs": [],
   "source": [
    "stmt.df()"
   ]
  },
  {
   "cell_type": "markdown",
   "id": "880208c9",
   "metadata": {},
   "source": [
    "## Arbitrary exploded views"
   ]
  },
  {
   "cell_type": "markdown",
   "id": "b94663e0",
   "metadata": {},
   "source": [
    "Say we want all user information in this table."
   ]
  },
  {
   "cell_type": "code",
   "execution_count": null,
   "id": "f17cb2a9",
   "metadata": {},
   "outputs": [],
   "source": [
    "stmt = (\n",
    "    ln.select(ln.DObject, lns.User)\n",
    "    .join(lns.Run, ln.DObject.run_id == lns.Run.id)\n",
    "    .join(lns.Notebook)\n",
    "    .join(lns.User)\n",
    ")"
   ]
  },
  {
   "cell_type": "code",
   "execution_count": null,
   "id": "c31942c7",
   "metadata": {},
   "outputs": [],
   "source": [
    "stmt.df()"
   ]
  },
  {
   "cell_type": "markdown",
   "id": "1f2765e1",
   "metadata": {},
   "source": [
    "Say, we only want the user handle."
   ]
  },
  {
   "cell_type": "code",
   "execution_count": null,
   "id": "dea47659",
   "metadata": {},
   "outputs": [],
   "source": [
    "stmt = (\n",
    "    ln.select(ln.DObject, lns.User.handle)\n",
    "    .join(lns.Run, ln.DObject.run_id == lns.Run.id)\n",
    "    .join(lns.Notebook)\n",
    "    .join(lns.User)\n",
    ")"
   ]
  },
  {
   "cell_type": "code",
   "execution_count": null,
   "id": "25e15ab7",
   "metadata": {},
   "outputs": [],
   "source": [
    "stmt.df()"
   ]
  },
  {
   "cell_type": "markdown",
   "id": "8855a2f0",
   "metadata": {},
   "source": [
    "Say, we only want selected information from all tables."
   ]
  },
  {
   "cell_type": "code",
   "execution_count": null,
   "id": "bc377439",
   "metadata": {},
   "outputs": [],
   "source": [
    "stmt = (\n",
    "    ln.select(ln.DObject.name, ln.DObject.suffix, ln.DObject.size, lns.User.handle)\n",
    "    .join(lns.Run, ln.DObject.run_id == lns.Run.id)\n",
    "    .join(lns.Notebook)\n",
    "    .join(lns.User)\n",
    ")"
   ]
  },
  {
   "cell_type": "code",
   "execution_count": null,
   "id": "bc02cbee",
   "metadata": {},
   "outputs": [],
   "source": [
    "df = stmt.df()"
   ]
  },
  {
   "cell_type": "code",
   "execution_count": null,
   "id": "fb460c40",
   "metadata": {},
   "outputs": [],
   "source": [
    "df"
   ]
  },
  {
   "cell_type": "markdown",
   "id": "4137f9be",
   "metadata": {},
   "source": [
    "## More filtering"
   ]
  },
  {
   "cell_type": "markdown",
   "id": "88ce22a7-2324-44f7-a171-9a0f1e8a7491",
   "metadata": {},
   "source": [
    "Let us subset to just the parquet files - we know it's exactly a single one. So we can get the record using `.one()`."
   ]
  },
  {
   "cell_type": "code",
   "execution_count": null,
   "id": "5b6ec3ca-bea4-4097-897b-94322a64506a",
   "metadata": {},
   "outputs": [],
   "source": [
    "stmt = (\n",
    "    ln.select(ln.DObject, suffix=\".parquet\")\n",
    "    .join(lns.Run)\n",
    "    .join(lns.Notebook)\n",
    "    .join(lns.User, handle=\"testuser1\")\n",
    ")\n",
    "stmt.one()"
   ]
  },
  {
   "cell_type": "markdown",
   "id": "fdd61cf1-d3c7-4bfb-a0b2-14e81201db03",
   "metadata": {},
   "source": [
    "Or subset to files greater than 10kB. Here, we can't use keyword arguments, but need an explicit where statement."
   ]
  },
  {
   "cell_type": "code",
   "execution_count": null,
   "id": "a7f73e99-614d-443b-b8a1-f1acea0f1538",
   "metadata": {},
   "outputs": [],
   "source": [
    "stmt = (\n",
    "    ln.select(ln.DObject)\n",
    "    .where(ln.DObject.size > 1e4)\n",
    "    .join(lns.Run)\n",
    "    .join(lns.Notebook)\n",
    "    .join(lns.User)\n",
    "    .where(lns.User.handle == \"testuser1\")\n",
    ")\n",
    "stmt.df()"
   ]
  },
  {
   "cell_type": "markdown",
   "id": "81d4d50c-fa20-4c0f-8c8c-ed594939bb94",
   "metadata": {},
   "source": [
    "Or select a notebook based on a substring in the name:"
   ]
  },
  {
   "cell_type": "code",
   "execution_count": null,
   "id": "cf833a94-ba13-42de-ac9b-f72a71045a1e",
   "metadata": {},
   "outputs": [],
   "source": [
    "ln.select(lns.Notebook).where(lns.Notebook.name.contains(\"Ingest\")).df()"
   ]
  },
  {
   "cell_type": "markdown",
   "id": "19a6382c",
   "metadata": {},
   "source": [
    "## Load"
   ]
  },
  {
   "cell_type": "markdown",
   "id": "50c90781",
   "metadata": {},
   "source": [
    "Load data objects into the work environment via {meth}`~lamindb.DObject.load`:"
   ]
  },
  {
   "cell_type": "code",
   "execution_count": null,
   "id": "e1dc8fd8",
   "metadata": {},
   "outputs": [],
   "source": [
    "dobject = ln.select(ln.DObject, name=\"iris\").first()\n",
    "\n",
    "df = dobject.load()"
   ]
  },
  {
   "cell_type": "markdown",
   "id": "40d7b860-7060-429e-95aa-58ae42911932",
   "metadata": {},
   "source": [
    "If there is a canonical in-memory representation (like a dataframe), data is loaded directly into memory."
   ]
  },
  {
   "cell_type": "code",
   "execution_count": null,
   "id": "f5356880",
   "metadata": {},
   "outputs": [],
   "source": [
    "df.head()"
   ]
  },
  {
   "cell_type": "markdown",
   "id": "3ef9f658",
   "metadata": {},
   "source": [
    "If no in-memory format can be found, `load` returns the filepath:"
   ]
  },
  {
   "cell_type": "code",
   "execution_count": null,
   "id": "f0087384-6dc1-4219-b35a-712544c1bcb5",
   "metadata": {},
   "outputs": [],
   "source": [
    "dobject = ln.select(ln.DObject).where(ln.DObject.name.contains(\"paradisi05\")).one()"
   ]
  },
  {
   "cell_type": "code",
   "execution_count": null,
   "id": "332ea6e5",
   "metadata": {},
   "outputs": [],
   "source": [
    "dobject.load()"
   ]
  },
  {
   "cell_type": "markdown",
   "id": "c5581f50",
   "metadata": {},
   "source": [
    "## Using `SQLModel` sessions"
   ]
  },
  {
   "cell_type": "markdown",
   "id": "0e463f89",
   "metadata": {},
   "source": [
    "If needed, you can also use the lower level [SQLModel](https://sqlmodel.tiangolo.com) API via `ln.session()`."
   ]
  }
 ],
 "metadata": {
  "kernelspec": {
   "display_name": "py39",
   "language": "python",
   "name": "python3"
  },
  "language_info": {
   "codemirror_mode": {
    "name": "ipython",
    "version": 3
   },
   "file_extension": ".py",
   "mimetype": "text/x-python",
   "name": "python",
   "nbconvert_exporter": "python",
   "pygments_lexer": "ipython3",
   "version": "3.9.13 | packaged by conda-forge | (main, May 27 2022, 17:01:00) \n[Clang 13.0.1 ]"
  },
  "nbproject": {
   "id": "vldHzF3aTAiW",
   "parent": null,
   "pypackage": null,
   "time_init": "2023-01-07T13:55:55.329707+00:00",
   "user_handle": "testuser1",
   "user_id": "DzTjkKse",
   "user_name": "Test User1",
   "version": "0"
  },
  "vscode": {
   "interpreter": {
    "hash": "ae1fefc8646a06dd2e75004cd934adda7c5727b046986a772e3b44b0ffba9754"
   }
  }
 },
 "nbformat": 4,
 "nbformat_minor": 5
}
