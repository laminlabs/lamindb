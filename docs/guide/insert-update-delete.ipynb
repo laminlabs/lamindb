{
 "cells": [
  {
   "cell_type": "markdown",
   "id": "39cf23f3",
   "metadata": {},
   "source": [
    "# Insert, update & delete data: `db.insert, db.update & db.delete`"
   ]
  },
  {
   "cell_type": "code",
   "execution_count": null,
   "id": "4e4f6f24",
   "metadata": {},
   "outputs": [],
   "source": [
    "import lamindb as ln\n",
    "import pandas as pd\n",
    "\n",
    "ln.nb.header()"
   ]
  },
  {
   "cell_type": "markdown",
   "id": "45033067",
   "metadata": {},
   "source": [
    "## Insert"
   ]
  },
  {
   "cell_type": "code",
   "execution_count": null,
   "id": "77161019",
   "metadata": {},
   "outputs": [],
   "source": [
    "biosample_id = ln.db.insert.biosample(name=\"B1\")\n",
    "\n",
    "biosample_id"
   ]
  },
  {
   "cell_type": "markdown",
   "id": "8734359d",
   "metadata": {},
   "source": [
    "Batch insert can be done by providing a DataFrame"
   ]
  },
  {
   "cell_type": "code",
   "execution_count": null,
   "id": "2d8bcf30",
   "metadata": {},
   "outputs": [],
   "source": [
    "biosample_df = pd.DataFrame({\"name\": [\"B2\", \"B3\", \"B4\"]})\n",
    "\n",
    "biosample_df"
   ]
  },
  {
   "cell_type": "code",
   "execution_count": null,
   "id": "eb334abb",
   "metadata": {},
   "outputs": [],
   "source": [
    "ln.db.insert.from_df(biosample_df, \"biosample\")"
   ]
  },
  {
   "cell_type": "markdown",
   "id": "160c5503",
   "metadata": {},
   "source": [
    "Or by providing a list of kwargs"
   ]
  },
  {
   "cell_type": "code",
   "execution_count": null,
   "id": "6ffbf8a3",
   "metadata": {},
   "outputs": [],
   "source": [
    "ln.db.insert.from_list([dict(name=\"B5\"), dict(name=\"B6\"), dict(name=\"B7\")], \"disease\")"
   ]
  },
  {
   "cell_type": "markdown",
   "id": "eff8c29a",
   "metadata": {},
   "source": [
    "## Update"
   ]
  },
  {
   "cell_type": "code",
   "execution_count": null,
   "id": "1b9e7514",
   "metadata": {},
   "outputs": [],
   "source": [
    "dobject = ln.db.query.dobject(name=\"iris\").first()\n",
    "dobject"
   ]
  },
  {
   "cell_type": "markdown",
   "id": "69807bd2",
   "metadata": {},
   "source": [
    "Let's update the name \"iris\" to \"iris_new\"."
   ]
  },
  {
   "cell_type": "code",
   "execution_count": null,
   "id": "1204c848",
   "metadata": {},
   "outputs": [],
   "source": [
    "ln.db.update.dobject(dobject.id, name=\"iris_new\")"
   ]
  },
  {
   "cell_type": "markdown",
   "id": "bb7fe0d1",
   "metadata": {},
   "source": [
    "Let's query the same object again to see if the name has changed."
   ]
  },
  {
   "cell_type": "code",
   "execution_count": null,
   "id": "9abdd277",
   "metadata": {},
   "outputs": [],
   "source": [
    "dobject = ln.db.query.dobject(dobject.id).one()\n",
    "dobject"
   ]
  },
  {
   "cell_type": "markdown",
   "id": "8c3d8f53",
   "metadata": {},
   "source": [
    "## Delete"
   ]
  },
  {
   "cell_type": "markdown",
   "id": "5fc3f9a4",
   "metadata": {},
   "source": [
    "We can also delete an entry from the database."
   ]
  },
  {
   "cell_type": "code",
   "execution_count": null,
   "id": "9670cd6c",
   "metadata": {},
   "outputs": [],
   "source": [
    "ln.db.delete.dobject(dobject.id)"
   ]
  },
  {
   "cell_type": "markdown",
   "id": "0b554d40",
   "metadata": {},
   "source": [
    "Check that the data is indeed gone from the database."
   ]
  },
  {
   "cell_type": "code",
   "execution_count": null,
   "id": "50148ce2",
   "metadata": {},
   "outputs": [],
   "source": [
    "ln.db.query.dobject(name=\"iris_new\").all()"
   ]
  }
 ],
 "metadata": {
  "kernelspec": {
   "display_name": "Python 3.9.12 ('base1')",
   "language": "python",
   "name": "python3"
  },
  "language_info": {
   "codemirror_mode": {
    "name": "ipython",
    "version": 3
   },
   "file_extension": ".py",
   "mimetype": "text/x-python",
   "name": "python",
   "nbconvert_exporter": "python",
   "pygments_lexer": "ipython3",
   "version": "3.9.12"
  },
  "nbproject": {
   "id": "yowZSQXMmZkT",
   "parent": null,
   "pypackage": null,
   "time_init": "2022-08-22T19:04:50.013241+00:00",
   "version": "draft"
  },
  "vscode": {
   "interpreter": {
    "hash": "2775e555cdc2d728c54aa22130c79afb1fa4da64f22f2fc6dcc2aa346c4e0672"
   }
  }
 },
 "nbformat": 4,
 "nbformat_minor": 5
}
