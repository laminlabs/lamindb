{
 "cells": [
  {
   "cell_type": "markdown",
   "id": "2ea9fd55-0f27-4777-8a9c-f9a353fc6bc5",
   "metadata": {
    "tags": []
   },
   "source": [
    "# Get started"
   ]
  },
  {
   "cell_type": "markdown",
   "id": "75d05147",
   "metadata": {},
   "source": [
    "```{warning}\n",
    "\n",
    "Public beta: Support is currently only offered to enterprise customers & collaborators.\n",
    "\n",
    "```"
   ]
  },
  {
   "cell_type": "markdown",
   "id": "5814da34-bd05-4f8a-a2dd-a060e153cabe",
   "metadata": {},
   "source": [
    "LaminDB is a distributed data management system in which users collaborate on _instances_.\n",
    "\n",
    "This is analogous to how developers collaborate on code in repositories, but unlike git and dvc, LaminDB is queryable by entities.[^integrate]\n",
    "\n",
    "Each LaminDB instance is a [lakehouse](https://www.databricks.com/glossary/data-lakehouse) with storage locations (local directories, S3, GCP) and a SQL database (SQLite, Postgres) for querying them.\n",
    "\n",
    "LaminDB speaks biology via [Bionty](https://lamin.ai/docs/bionty) and configurable R&D [schema modules](https://lamin.ai/docs/db/lamindb.schema).\n",
    "\n",
    "[^integrate]: Like git helps with integrating code contributions across repositories, LaminDB helps with integrating data across instances."
   ]
  },
  {
   "cell_type": "markdown",
   "id": "47065ea5",
   "metadata": {},
   "source": [
    "## Install"
   ]
  },
  {
   "cell_type": "markdown",
   "id": "79e9c341",
   "metadata": {},
   "source": [
    "`pip install lamindb`"
   ]
  },
  {
   "cell_type": "markdown",
   "id": "1bb0d102-41ef-408a-894f-6093526ce9a2",
   "metadata": {},
   "source": [
    "## Sign up"
   ]
  },
  {
   "cell_type": "markdown",
   "id": "fe300c6d-0f48-47a1-ab4d-3e638eeb0835",
   "metadata": {},
   "source": [
    "As a first-time user, sign up your email so that LaminDB can link you to data & analyses.\n",
    "\n",
    "On the command line, run `lndb signup <email>`.[^github]\n",
    "\n",
    "[^github]: Consider using your GitHub-associated email and handle=username if you have one!"
   ]
  },
  {
   "cell_type": "markdown",
   "id": "29de5a67-cd6d-4642-8fb1-e9e19848fcbf",
   "metadata": {},
   "source": [
    "## Log in"
   ]
  },
  {
   "cell_type": "markdown",
   "id": "dac167ca-8e17-4469-a56a-6101d1189fbe",
   "metadata": {},
   "source": [
    "After confirming the signup email, you can login with your handle (or email) on the command line:"
   ]
  },
  {
   "cell_type": "code",
   "execution_count": null,
   "id": "57e6302d-988f-4bc5-afa2-66770c130fb3",
   "metadata": {},
   "outputs": [],
   "source": [
    "!lndb login test-user1"
   ]
  },
  {
   "cell_type": "markdown",
   "id": "dd470e9f-835e-469b-9ec1-bc3e60a3c902",
   "metadata": {},
   "source": [
    "## Init"
   ]
  },
  {
   "cell_type": "markdown",
   "id": "f0a291e7-9a27-42f7-8a74-f8ea6deefecb",
   "metadata": {},
   "source": [
    "For this first tutorial, we initiate a local instance with storage in `mydata/` and a local SQlite database for managing it.\n",
    "\n",
    "You can also directly pass `s3://my-bucket` to `--storage` or a Postgres URL to `--db`.\n",
    "\n",
    "We mount 3 default modules for biological entities (`bionty`), a generic wetlab (`wetlab`), and a generic bioinformatics pipline (`bfx`) for this instance."
   ]
  },
  {
   "cell_type": "code",
   "execution_count": null,
   "id": "42e81ba0-520b-4abb-92b3-a80f18a90924",
   "metadata": {},
   "outputs": [],
   "source": [
    "!lndb init --storage mydata --schema bionty,wetlab,bfx"
   ]
  },
  {
   "cell_type": "markdown",
   "id": "99aac965-03bf-4363-9649-c15ec90029b8",
   "metadata": {},
   "source": [
    "In this local setup, all instance data is in `mydata/` and all metadata in the SQLite file `mydata/mydata.lndb`.\n",
    "\n",
    "Settings persist in `~/.lndb/instance-mydata.env` (and `~/.lndb/user-{user-handle}.env`) and can be accessed via [`lamindb.settings`](https://lamin.ai/docs/lndb-setup/lndb_setup.settings)."
   ]
  },
  {
   "cell_type": "markdown",
   "id": "34014397",
   "metadata": {},
   "source": [
    "Now your database is set up!"
   ]
  }
 ],
 "metadata": {
  "kernelspec": {
   "display_name": "Python 3.9.13 ('py39')",
   "language": "python",
   "name": "python3"
  },
  "language_info": {
   "codemirror_mode": {
    "name": "ipython",
    "version": 3
   },
   "file_extension": ".py",
   "mimetype": "text/x-python",
   "name": "python",
   "nbconvert_exporter": "python",
   "pygments_lexer": "ipython3",
   "version": "3.9.13"
  },
  "nbproject": {
   "dependency": {
    "lamindb": "0.0.7",
    "nbproject": "0.1.5",
    "scanpy": "1.9.1"
   },
   "id": "GgD4VJbXtOOS",
   "parent": null,
   "pypackage": {
    "lamindb": "0.3.2",
    "scikit-learn": "1.1.1"
   },
   "time_init": "2022-06-23T14:16:50.755200+00:00",
   "version": "draft"
  },
  "vscode": {
   "interpreter": {
    "hash": "ae1fefc8646a06dd2e75004cd934adda7c5727b046986a772e3b44b0ffba9754"
   }
  }
 },
 "nbformat": 4,
 "nbformat_minor": 5
}
