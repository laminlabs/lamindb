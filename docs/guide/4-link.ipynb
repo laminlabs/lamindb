{
 "cells": [
  {
   "cell_type": "markdown",
   "id": "b5fc74a4",
   "metadata": {},
   "source": [
    "# `link` metadata\n",
    "\n",
    "To make data queryable, link it to entities within the schema."
   ]
  },
  {
   "cell_type": "code",
   "execution_count": null,
   "id": "21af215e",
   "metadata": {},
   "outputs": [],
   "source": [
    "import lamindb as ln\n",
    "import lamindb.schema as lns\n",
    "from lamindb.knowledge import lookup\n",
    "\n",
    "ln.nb.header()"
   ]
  },
  {
   "cell_type": "markdown",
   "id": "38f82283",
   "metadata": {},
   "source": [
    "## Link features\n",
    "\n",
    "Features are linked to data upon ingestion via `knowledge_table`. See [Ingest with feature models](https://lamin.ai/docs/db/guide/ingest#ingest-with-feature-models)."
   ]
  },
  {
   "cell_type": "markdown",
   "id": "688c0452",
   "metadata": {},
   "source": [
    "## Link samples"
   ]
  },
  {
   "cell_type": "markdown",
   "id": "f7bffead",
   "metadata": {},
   "source": [
    "Samples, i.e., metadata associated with observations, are linked with the same approach post-ingestion."
   ]
  },
  {
   "cell_type": "markdown",
   "id": "f78f29e2",
   "metadata": {},
   "source": [
    "For instance, let's annotate a scRNA-seq dataset with its readout type ([EFO:0008913](http://www.ebi.ac.uk/efo/EFO_0008913))."
   ]
  },
  {
   "cell_type": "markdown",
   "id": "6747e862",
   "metadata": {},
   "source": [
    "Let's first fetch an scRNA-seq dataset stored as an `.h5ad` file."
   ]
  },
  {
   "cell_type": "code",
   "execution_count": null,
   "id": "b43c43e4",
   "metadata": {},
   "outputs": [],
   "source": [
    "dobject = ln.select(lns.DObject, suffix=\".h5ad\").first()"
   ]
  },
  {
   "cell_type": "code",
   "execution_count": null,
   "id": "f6163fb2-a387-41f6-b7bc-3190bce55a26",
   "metadata": {},
   "outputs": [],
   "source": [
    "dobject"
   ]
  },
  {
   "cell_type": "code",
   "execution_count": null,
   "id": "c11bce9e",
   "metadata": {},
   "outputs": [],
   "source": [
    "# ln.link.readout(\n",
    "#     dobject_id=dobject.id, efo_id=lookup.readout.single_cell_RNA_sequencing\n",
    "# )"
   ]
  },
  {
   "cell_type": "markdown",
   "id": "f5c052d1",
   "metadata": {},
   "source": [
    "The readout is now linked to the dataset, you can now select the data by efo_id from readout.\n",
    "\n",
    "Check out [`select`, `load` data](https://lamin.ai/docs/db/guide/link-features) to see more types of queries you can make."
   ]
  },
  {
   "cell_type": "code",
   "execution_count": null,
   "id": "25992247-2dbb-451e-96e2-26341b9e7d91",
   "metadata": {},
   "outputs": [],
   "source": [
    "# ln.select(wetlab.Readout, efo_id=lookup.readout.single_cell_RNA_sequencing).df()"
   ]
  },
  {
   "cell_type": "code",
   "execution_count": null,
   "id": "d9658b31-3491-405c-a394-65a25833c4cb",
   "metadata": {},
   "outputs": [],
   "source": []
  }
 ],
 "metadata": {
  "kernelspec": {
   "display_name": "Python 3 (ipykernel)",
   "language": "python",
   "name": "python3"
  },
  "language_info": {
   "codemirror_mode": {
    "name": "ipython",
    "version": 3
   },
   "file_extension": ".py",
   "mimetype": "text/x-python",
   "name": "python",
   "nbconvert_exporter": "python",
   "pygments_lexer": "ipython3",
   "version": "3.9.13"
  },
  "nbproject": {
   "id": "zMCvXplQ8kTk",
   "parent": null,
   "pypackage": null,
   "time_init": "2022-09-02T14:11:03.230995+00:00",
   "version": "draft"
  },
  "vscode": {
   "interpreter": {
    "hash": "ae1fefc8646a06dd2e75004cd934adda7c5727b046986a772e3b44b0ffba9754"
   }
  }
 },
 "nbformat": 4,
 "nbformat_minor": 5
}
