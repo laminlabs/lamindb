{
 "cells": [
  {
   "cell_type": "markdown",
   "id": "1a515a1b-34ac-4c0b-ae6c-0f360bd3ac9b",
   "metadata": {},
   "source": [
    "# Query & load data: `select & load`"
   ]
  },
  {
   "cell_type": "markdown",
   "id": "5b5fa658",
   "metadata": {},
   "source": [
    "- LaminDB allows querying data based on SQL-derived `select` statements.\n",
    "- Once data is queried, you can load it into memory using `load`."
   ]
  },
  {
   "cell_type": "code",
   "execution_count": null,
   "id": "fe98f316-2175-4c16-8bb5-726f61fdf85c",
   "metadata": {},
   "outputs": [],
   "source": [
    "import lamindb as ln\n",
    "import lamindb.schema as lns\n",
    "\n",
    "ln.nb.header()"
   ]
  },
  {
   "cell_type": "markdown",
   "id": "bbda4807",
   "metadata": {},
   "source": [
    "## Select"
   ]
  },
  {
   "cell_type": "markdown",
   "id": "233821ee",
   "metadata": {},
   "source": [
    "LaminDB's {func}`~lamindb.select` statements are based on [SQLModel](https://sqlmodel.tiangolo.com) but offer further simplifications targeted at data scientists.[^sql]\n",
    "\n",
    "[^sql]: And SQLModel is a shallow wrapper around SQLAlchemy, which provides the canonical way of creating SQL statements from Python."
   ]
  },
  {
   "cell_type": "code",
   "execution_count": null,
   "id": "9b514338-203b-4d12-8411-8b79b48ef101",
   "metadata": {},
   "outputs": [],
   "source": [
    "stmt = (\n",
    "    ln.select(lns.DObject)\n",
    "    .join(lns.Run)\n",
    "    .join(lns.Jupynb)\n",
    "    .join(lns.User, handle=\"testuser1\")\n",
    ")"
   ]
  },
  {
   "cell_type": "markdown",
   "id": "02d03b90",
   "metadata": {},
   "source": [
    "To access the query results encoded in `dobjects` (a `SelectStmt`), execute the statemnt with one of\n",
    "\n",
    "- `.all()`: A list of records.\n",
    "- `.df()`: A dataframe with each record stored as a row.\n",
    "- `.one()`: Exactly one record. Will raise an error if there is none.\n",
    "- `.one_or_none()`: Either one record or `None` if there is no query result."
   ]
  },
  {
   "cell_type": "markdown",
   "id": "d3b0c9b6",
   "metadata": {},
   "source": [
    "For example:"
   ]
  },
  {
   "cell_type": "code",
   "execution_count": null,
   "id": "a62ae78d",
   "metadata": {},
   "outputs": [],
   "source": [
    "stmt.all()"
   ]
  },
  {
   "cell_type": "markdown",
   "id": "5f28d078",
   "metadata": {},
   "source": [
    "It's often the most convenient to use the built-in converter to DataFrames."
   ]
  },
  {
   "cell_type": "code",
   "execution_count": null,
   "id": "6c4a09c7",
   "metadata": {},
   "outputs": [],
   "source": [
    "stmt.df()"
   ]
  },
  {
   "cell_type": "markdown",
   "id": "880208c9",
   "metadata": {},
   "source": [
    "## Arbitrary exploded views"
   ]
  },
  {
   "cell_type": "markdown",
   "id": "b94663e0",
   "metadata": {},
   "source": [
    "Say we want all user information in this table."
   ]
  },
  {
   "cell_type": "code",
   "execution_count": null,
   "id": "f17cb2a9",
   "metadata": {},
   "outputs": [],
   "source": [
    "stmt = (\n",
    "    ln.select(lns.DObject, lns.User)\n",
    "    .join(lns.Run, lns.DObject.run_id == lns.Run.id)\n",
    "    .join(lns.Jupynb)\n",
    "    .join(lns.User)\n",
    ")"
   ]
  },
  {
   "cell_type": "code",
   "execution_count": null,
   "id": "c31942c7",
   "metadata": {},
   "outputs": [],
   "source": [
    "stmt.df()"
   ]
  },
  {
   "cell_type": "markdown",
   "id": "1f2765e1",
   "metadata": {},
   "source": [
    "Say, we only want the user handle."
   ]
  },
  {
   "cell_type": "code",
   "execution_count": null,
   "id": "dea47659",
   "metadata": {},
   "outputs": [],
   "source": [
    "stmt = (\n",
    "    ln.select(lns.DObject, lns.User.handle)\n",
    "    .join(lns.Run, lns.DObject.run_id == lns.Run.id)\n",
    "    .join(lns.Jupynb)\n",
    "    .join(lns.User)\n",
    ")"
   ]
  },
  {
   "cell_type": "code",
   "execution_count": null,
   "id": "25e15ab7",
   "metadata": {},
   "outputs": [],
   "source": [
    "stmt.df()"
   ]
  },
  {
   "cell_type": "markdown",
   "id": "8855a2f0",
   "metadata": {},
   "source": [
    "Say, we only want selected information from all tables."
   ]
  },
  {
   "cell_type": "code",
   "execution_count": null,
   "id": "bc377439",
   "metadata": {},
   "outputs": [],
   "source": [
    "stmt = (\n",
    "    ln.select(lns.DObject.name, lns.DObject.suffix, lns.DObject.size, lns.User.handle)\n",
    "    .join(lns.Run, lns.DObject.run_id == lns.Run.id)\n",
    "    .join(lns.Jupynb)\n",
    "    .join(lns.User)\n",
    ")"
   ]
  },
  {
   "cell_type": "code",
   "execution_count": null,
   "id": "bc02cbee",
   "metadata": {},
   "outputs": [],
   "source": [
    "df = stmt.df()"
   ]
  },
  {
   "cell_type": "code",
   "execution_count": null,
   "id": "fb460c40",
   "metadata": {},
   "outputs": [],
   "source": [
    "df"
   ]
  },
  {
   "cell_type": "markdown",
   "id": "4137f9be",
   "metadata": {},
   "source": [
    "## More subsetting"
   ]
  },
  {
   "cell_type": "markdown",
   "id": "88ce22a7-2324-44f7-a171-9a0f1e8a7491",
   "metadata": {},
   "source": [
    "Let us subset to just the parquet files - we know it's exactly a single one. So we can get the record using `.one()`."
   ]
  },
  {
   "cell_type": "code",
   "execution_count": null,
   "id": "5b6ec3ca-bea4-4097-897b-94322a64506a",
   "metadata": {},
   "outputs": [],
   "source": [
    "ln.select(lns.DObject, suffix=\".parquet\").join(lns.Run).join(lns.Jupynb).join(\n",
    "    lns.User, handle=\"testuser1\"\n",
    ").one()"
   ]
  },
  {
   "cell_type": "markdown",
   "id": "fdd61cf1-d3c7-4bfb-a0b2-14e81201db03",
   "metadata": {},
   "source": [
    "Or subset to files greater than 10kB. Here, we can't use keyword arguments, but need an explicit where statement."
   ]
  },
  {
   "cell_type": "code",
   "execution_count": null,
   "id": "a7f73e99-614d-443b-b8a1-f1acea0f1538",
   "metadata": {},
   "outputs": [],
   "source": [
    "ln.select(lns.DObject).where(lns.DObject.size > 1e4).join(lns.Run).join(\n",
    "    lns.Jupynb\n",
    ").join(lns.User).where(lns.User.handle == \"testuser1\").df()"
   ]
  },
  {
   "cell_type": "markdown",
   "id": "81d4d50c-fa20-4c0f-8c8c-ed594939bb94",
   "metadata": {},
   "source": [
    "Or select a notebook based on a substring in the name:"
   ]
  },
  {
   "cell_type": "code",
   "execution_count": null,
   "id": "cf833a94-ba13-42de-ac9b-f72a71045a1e",
   "metadata": {},
   "outputs": [],
   "source": [
    "ln.select(lns.Jupynb).where(lns.Jupynb.name.contains(\"Ingest\")).df()"
   ]
  },
  {
   "cell_type": "markdown",
   "id": "24587cab-b3d7-4be7-b11e-2d00dc93409d",
   "metadata": {},
   "source": [
    "Or select datasets based on a gene symbol."
   ]
  },
  {
   "cell_type": "code",
   "execution_count": null,
   "id": "1738cb48-2ad4-49c2-a7d9-4ed967b1aad5",
   "metadata": {},
   "outputs": [],
   "source": [
    "ln.select(lns.DObject).join(lns.wetlab.DObjectBiometa).join(lns.wetlab.Biometa).join(\n",
    "    lns.bionty.Featureset\n",
    ").join(lns.bionty.FeaturesetGene).join(lns.bionty.Gene).where(\n",
    "    lns.bionty.Gene.symbol == \"Actg1\"\n",
    ").df()"
   ]
  },
  {
   "cell_type": "markdown",
   "id": "a3cc1462-5bb0-4577-9373-2f118da4f14b",
   "metadata": {},
   "source": [
    "```{note}\n",
    "\n",
    "Write an example involving `lookup.readout.single_cell_RNA_sequencing`.\n",
    "\n",
    "```"
   ]
  },
  {
   "cell_type": "markdown",
   "id": "19a6382c",
   "metadata": {},
   "source": [
    "## Load"
   ]
  },
  {
   "cell_type": "markdown",
   "id": "50c90781",
   "metadata": {},
   "source": [
    "Load data objects into memory via {func}`~lamindb.load`:"
   ]
  },
  {
   "cell_type": "code",
   "execution_count": null,
   "id": "e1dc8fd8",
   "metadata": {},
   "outputs": [],
   "source": [
    "dobject = ln.select(lns.DObject, name=\"iris\").first()\n",
    "\n",
    "df = ln.load(dobject)"
   ]
  },
  {
   "cell_type": "code",
   "execution_count": null,
   "id": "f5356880",
   "metadata": {},
   "outputs": [],
   "source": [
    "df.head()"
   ]
  },
  {
   "cell_type": "markdown",
   "id": "3ef9f658",
   "metadata": {},
   "source": [
    "If no in-memory format can be found, `load` returns the filepath:"
   ]
  },
  {
   "cell_type": "code",
   "execution_count": null,
   "id": "f0087384-6dc1-4219-b35a-712544c1bcb5",
   "metadata": {},
   "outputs": [],
   "source": [
    "dobject = ln.select(lns.DObject).where(lns.DObject.name.contains(\"paradisi05\")).one()"
   ]
  },
  {
   "cell_type": "code",
   "execution_count": null,
   "id": "332ea6e5",
   "metadata": {},
   "outputs": [],
   "source": [
    "ln.load(dobject)"
   ]
  },
  {
   "cell_type": "markdown",
   "id": "c5581f50",
   "metadata": {},
   "source": [
    "## Using `SQLModel` sessions"
   ]
  },
  {
   "cell_type": "markdown",
   "id": "0e463f89",
   "metadata": {},
   "source": [
    "If needed, you can also use the lower level [SQLModel](https://sqlmodel.tiangolo.com) API via `ln.session()`."
   ]
  }
 ],
 "metadata": {
  "kernelspec": {
   "display_name": "Python 3 (ipykernel)",
   "language": "python",
   "name": "python3"
  },
  "language_info": {
   "codemirror_mode": {
    "name": "ipython",
    "version": 3
   },
   "file_extension": ".py",
   "mimetype": "text/x-python",
   "name": "python",
   "nbconvert_exporter": "python",
   "pygments_lexer": "ipython3",
   "version": "3.9.12"
  },
  "nbproject": {
   "id": "hmWrrFMGO5Dg",
   "parent": null,
   "pypackage": null,
   "time_init": "2022-07-31T16:34:36.395954+00:00",
   "version": "0"
  },
  "vscode": {
   "interpreter": {
    "hash": "2775e555cdc2d728c54aa22130c79afb1fa4da64f22f2fc6dcc2aa346c4e0672"
   }
  }
 },
 "nbformat": 4,
 "nbformat_minor": 5
}
