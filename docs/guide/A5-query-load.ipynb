{
 "cells": [
  {
   "cell_type": "markdown",
   "id": "1a515a1b-34ac-4c0b-ae6c-0f360bd3ac9b",
   "metadata": {},
   "source": [
    "# Load and query data: `db.load & db.query`"
   ]
  },
  {
   "cell_type": "code",
   "execution_count": null,
   "id": "fe98f316-2175-4c16-8bb5-726f61fdf85c",
   "metadata": {},
   "outputs": [],
   "source": [
    "import lamindb as ln\n",
    "\n",
    "ln.nb.header()"
   ]
  },
  {
   "cell_type": "markdown",
   "id": "19a6382c",
   "metadata": {},
   "source": [
    "## Load"
   ]
  },
  {
   "cell_type": "markdown",
   "id": "50c90781",
   "metadata": {},
   "source": [
    "Load data objects into memory via {class}`~lamindb.db.load`:"
   ]
  },
  {
   "cell_type": "code",
   "execution_count": null,
   "id": "e1dc8fd8",
   "metadata": {},
   "outputs": [],
   "source": [
    "dobject = ln.db.query.dobject(name=\"iris\").first()\n",
    "\n",
    "df = ln.db.load(dobject)"
   ]
  },
  {
   "cell_type": "code",
   "execution_count": null,
   "id": "f5356880",
   "metadata": {},
   "outputs": [],
   "source": [
    "df.head()"
   ]
  },
  {
   "cell_type": "markdown",
   "id": "aaf48393",
   "metadata": {},
   "source": [
    "To trace data back to its source, you can use the linked `dtransform` that generated the data. "
   ]
  },
  {
   "cell_type": "code",
   "execution_count": null,
   "id": "ef8373c6",
   "metadata": {},
   "outputs": [],
   "source": [
    "dobject.dtransform_id"
   ]
  },
  {
   "cell_type": "markdown",
   "id": "bbda4807",
   "metadata": {},
   "source": [
    "## Query"
   ]
  },
  {
   "cell_type": "markdown",
   "id": "233821ee",
   "metadata": {},
   "source": [
    "For simple frequent queries, LaminDB has a high-level query API {class}`~lamindb.db.query` based on [SQLModel](https://sqlmodel.tiangolo.com).\n",
    "\n",
    "For complicated queries, you can use any SQL query. See below."
   ]
  },
  {
   "cell_type": "markdown",
   "id": "25816b0f",
   "metadata": {},
   "source": [
    "### Simple table queries"
   ]
  },
  {
   "cell_type": "markdown",
   "id": "649fe5de",
   "metadata": {},
   "source": [
    "You can query any entity table in the database by its fields, for instance:"
   ]
  },
  {
   "cell_type": "code",
   "execution_count": null,
   "id": "6c4a09c7",
   "metadata": {},
   "outputs": [],
   "source": [
    "ln.db.query.dobject(suffix=\".feather\").all()"
   ]
  },
  {
   "cell_type": "markdown",
   "id": "ccee9eee",
   "metadata": {},
   "source": [
    "The high-level query API by default returns a list of results:"
   ]
  },
  {
   "cell_type": "code",
   "execution_count": null,
   "id": "b18caa91",
   "metadata": {},
   "outputs": [],
   "source": [
    "ln.db.query.species(taxon_id=10090).all()"
   ]
  },
  {
   "cell_type": "markdown",
   "id": "431a45ac",
   "metadata": {},
   "source": [
    "You can call `.df()` to return a `DataFrame` instead."
   ]
  },
  {
   "cell_type": "code",
   "execution_count": null,
   "id": "feeabc0b",
   "metadata": {},
   "outputs": [],
   "source": [
    "ln.db.query.species(taxon_id=10090).df()"
   ]
  },
  {
   "cell_type": "markdown",
   "id": "79dd60af",
   "metadata": {},
   "source": [
    "If no constraints are passed, the query returns all rows in the table."
   ]
  },
  {
   "cell_type": "code",
   "execution_count": null,
   "id": "a03a9291",
   "metadata": {},
   "outputs": [],
   "source": [
    "ln.db.query.readout().all()"
   ]
  },
  {
   "cell_type": "markdown",
   "id": "b6bf7cd4",
   "metadata": {},
   "source": [
    "### Query data objects by linked entities"
   ]
  },
  {
   "cell_type": "markdown",
   "id": "4dbfbd08",
   "metadata": {},
   "source": [
    "You can query data objects by fields that are not present in the `dobject` table via linked entities.\n",
    "\n",
    "You can do this through providing a `where` dictionary."
   ]
  },
  {
   "cell_type": "code",
   "execution_count": null,
   "id": "0f5d7ac9",
   "metadata": {},
   "outputs": [],
   "source": [
    "ln.db.query.dobject(suffix=\".h5ad\", where={\"gene\": {\"symbol\": \"Actg1\"}}).all()"
   ]
  },
  {
   "cell_type": "markdown",
   "id": "2733453e",
   "metadata": {},
   "source": [
    "`where` can filter conditions from multiple entities."
   ]
  },
  {
   "cell_type": "code",
   "execution_count": null,
   "id": "dff3bb85",
   "metadata": {},
   "outputs": [],
   "source": [
    "ln.db.query.dobject(\n",
    "    where={\"gene\": {\"ncbi_gene_id\": 66722}, \"readout\": {\"efo_id\": \"EFO:0008913\"}}\n",
    ").all()"
   ]
  },
  {
   "cell_type": "markdown",
   "id": "c5581f50",
   "metadata": {},
   "source": [
    "### SQL queries"
   ]
  },
  {
   "cell_type": "markdown",
   "id": "0e463f89",
   "metadata": {},
   "source": [
    "You can construct arbitrary SQL queries via [SQLModel](https://sqlmodel.tiangolo.com)."
   ]
  },
  {
   "cell_type": "markdown",
   "id": "4e5e039b",
   "metadata": {},
   "source": [
    "For instance, let's query for a data source:"
   ]
  },
  {
   "cell_type": "code",
   "execution_count": null,
   "id": "25deec4b",
   "metadata": {},
   "outputs": [],
   "source": [
    "with ln.db.session() as session:\n",
    "    dtransform = session.get(ln.schema.core.dtransform, dobject.dtransform_id)"
   ]
  },
  {
   "cell_type": "markdown",
   "id": "c0236234",
   "metadata": {},
   "source": [
    "Inspecting the result we see that the dobject originates from a Jupyter Notebook."
   ]
  },
  {
   "cell_type": "code",
   "execution_count": null,
   "id": "39f75d53",
   "metadata": {},
   "outputs": [],
   "source": [
    "dtransform"
   ]
  },
  {
   "cell_type": "code",
   "execution_count": null,
   "id": "0bfbcade",
   "metadata": {},
   "outputs": [],
   "source": [
    "with ln.db.session() as session:\n",
    "    jupynb = session.get(\n",
    "        ln.schema.core.jupynb,\n",
    "        (dtransform.jupynb_id, dtransform.jupynb_v),  # it's version \"1\" see jupynb_v\n",
    "    )"
   ]
  },
  {
   "cell_type": "code",
   "execution_count": null,
   "id": "5f889852",
   "metadata": {},
   "outputs": [],
   "source": [
    "jupynb"
   ]
  },
  {
   "cell_type": "markdown",
   "id": "b7c16562",
   "metadata": {},
   "source": [
    "Now we found the person who last edited the notebook!"
   ]
  },
  {
   "cell_type": "code",
   "execution_count": null,
   "id": "c55ca2cd",
   "metadata": {},
   "outputs": [],
   "source": [
    "with ln.db.session() as session:\n",
    "    user = session.get(ln.schema.core.user, jupynb.user_id)"
   ]
  },
  {
   "cell_type": "code",
   "execution_count": null,
   "id": "1c199ae7",
   "metadata": {},
   "outputs": [],
   "source": [
    "user"
   ]
  }
 ],
 "metadata": {
  "kernelspec": {
   "display_name": "Python 3 (ipykernel)",
   "language": "python",
   "name": "python3"
  },
  "language_info": {
   "codemirror_mode": {
    "name": "ipython",
    "version": 3
   },
   "file_extension": ".py",
   "mimetype": "text/x-python",
   "name": "python",
   "nbconvert_exporter": "python",
   "pygments_lexer": "ipython3",
   "version": "3.9.13"
  },
  "nbproject": {
   "id": "hmWrrFMGO5Dg",
   "parent": null,
   "pypackage": null,
   "time_init": "2022-07-31T16:34:36.395954+00:00",
   "version": "draft"
  },
  "vscode": {
   "interpreter": {
    "hash": "ae1fefc8646a06dd2e75004cd934adda7c5727b046986a772e3b44b0ffba9754"
   }
  }
 },
 "nbformat": 4,
 "nbformat_minor": 5
}
