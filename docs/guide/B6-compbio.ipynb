{
 "cells": [
  {
   "cell_type": "markdown",
   "id": "8b86aba3",
   "metadata": {},
   "source": [
    "# Compbio analysis"
   ]
  },
  {
   "cell_type": "code",
   "execution_count": null,
   "id": "a69a8f5f",
   "metadata": {},
   "outputs": [],
   "source": [
    "import lamindb as ln\n",
    "import scanpy as sc\n",
    "\n",
    "ln.nb.header()"
   ]
  },
  {
   "cell_type": "code",
   "execution_count": null,
   "id": "a79fb38e",
   "metadata": {},
   "outputs": [],
   "source": [
    "!lndb login test-user2"
   ]
  },
  {
   "cell_type": "markdown",
   "id": "be15396a",
   "metadata": {},
   "source": [
    "## Link experimental metadata to the datasets"
   ]
  },
  {
   "cell_type": "markdown",
   "id": "dade1621",
   "metadata": {},
   "source": [
    "Query for datasets ingested from a bioinformatics run:"
   ]
  },
  {
   "cell_type": "code",
   "execution_count": null,
   "id": "6c501dad",
   "metadata": {},
   "outputs": [],
   "source": [
    "bfx_runs = ln.db.query.pipeline_run().all()\n",
    "bfx_runs"
   ]
  },
  {
   "cell_type": "code",
   "execution_count": null,
   "id": "ea67d809",
   "metadata": {},
   "outputs": [],
   "source": [
    "dtransform_id = ln.db.query.dtransform(pipeline_run_id=bfx_runs[0].id).first().id\n",
    "dobjects = ln.db.query.dobject(dtransform_id=dtransform_id).all()\n",
    "len(dobjects)"
   ]
  },
  {
   "cell_type": "markdown",
   "id": "07c02ad1",
   "metadata": {},
   "source": [
    "Now let's link biometa to the bfx run output datasets:"
   ]
  },
  {
   "cell_type": "code",
   "execution_count": null,
   "id": "606fef05",
   "metadata": {},
   "outputs": [],
   "source": [
    "biometa = ln.db.query.biometa(\n",
    "    readout_id=ln.db.query.readout(name=\"single-cell RNA sequencing\").one().id\n",
    ").one()\n",
    "\n",
    "for dobject in dobjects:\n",
    "    ln.db.link.biometa(dobject_id=dobject.id, biometa_id=biometa.id)"
   ]
  },
  {
   "cell_type": "markdown",
   "id": "89060817",
   "metadata": {},
   "source": [
    "Let's also link the screen results to its biometa."
   ]
  },
  {
   "cell_type": "code",
   "execution_count": null,
   "id": "4abd4386",
   "metadata": {},
   "outputs": [],
   "source": [
    "dobject = ln.db.query.dobject(name=\"schmidt22-crispra-gws-IFNG\").one()\n",
    "dobject"
   ]
  },
  {
   "cell_type": "code",
   "execution_count": null,
   "id": "64a96cc3",
   "metadata": {},
   "outputs": [],
   "source": [
    "biometa = ln.db.query.biometa(\n",
    "    readout_id=ln.db.query.readout(name=\"interferon gamma\").one().id\n",
    ").one()\n",
    "\n",
    "ln.db.link.biometa(dobject_id=dobject.id, biometa_id=biometa.id)"
   ]
  },
  {
   "cell_type": "markdown",
   "id": "01afc466",
   "metadata": {},
   "source": [
    "Fill out additional biometa fields for dobjects ingested with feature models."
   ]
  },
  {
   "cell_type": "code",
   "execution_count": null,
   "id": "6e9f78da",
   "metadata": {},
   "outputs": [],
   "source": [
    "ln.db.query.jupynb(name=\"Track and analyze experimental data\").all()"
   ]
  },
  {
   "cell_type": "code",
   "execution_count": null,
   "id": "82c5881e",
   "metadata": {},
   "outputs": [],
   "source": [
    "jupynb_id = ln.db.query.jupynb(name=\"Track and analyze experimental data\").all()[-1].id\n",
    "dtransform_id = ln.db.query.dtransform(jupynb_id=jupynb_id).all()[-1].id"
   ]
  },
  {
   "cell_type": "code",
   "execution_count": null,
   "id": "dda07ff7",
   "metadata": {},
   "outputs": [],
   "source": [
    "dobjects = ln.db.query.dobject(dtransform_id=dtransform_id).all()\n",
    "dobjects"
   ]
  },
  {
   "cell_type": "code",
   "execution_count": null,
   "id": "e837f0ab",
   "metadata": {},
   "outputs": [],
   "source": [
    "biometa1 = ln.db.query.biometa(\n",
    "    readout_id=ln.db.query.readout(name=\"interferon gamma\").one().id\n",
    ").one()\n",
    "\n",
    "for dobject in dobjects:\n",
    "    doject_biometa = ln.db.query.dobject_biometa(dobject_id=dobject.id).one()\n",
    "    biometa = ln.db.query.biometa(id=doject_biometa.biometa_id).one()\n",
    "    insert_dict = {}\n",
    "    for key in biometa.dict().keys():\n",
    "        if key in [\"id\", \"featureset_id\"]:\n",
    "            continue\n",
    "        if biometa1.__getattribute__(key) is not None:\n",
    "            insert_dict[key] = biometa1.__getattribute__(key)\n",
    "\n",
    "    ln.db.update.biometa(key=biometa.id, **insert_dict)"
   ]
  },
  {
   "cell_type": "code",
   "execution_count": null,
   "id": "4ef146a4",
   "metadata": {},
   "outputs": [],
   "source": [
    "ln.db.query.biometa(id=doject_biometa.biometa_id).all()"
   ]
  },
  {
   "cell_type": "markdown",
   "id": "8f74a7d1",
   "metadata": {},
   "source": [
    "## Load in the raw data generated from the BFX pipeline"
   ]
  },
  {
   "cell_type": "code",
   "execution_count": null,
   "id": "751ec81a",
   "metadata": {},
   "outputs": [],
   "source": [
    "h5ad = ln.db.query.dobject(suffix=\".h5ad\").first()\n",
    "h5ad"
   ]
  },
  {
   "cell_type": "code",
   "execution_count": null,
   "id": "559d74c1",
   "metadata": {},
   "outputs": [],
   "source": [
    "hits = ln.db.query.dobject(name=\"schmidt22_crispra_gws_IFNG_hits\").one()\n",
    "hits"
   ]
  },
  {
   "cell_type": "code",
   "execution_count": null,
   "id": "199d7009",
   "metadata": {},
   "outputs": [],
   "source": [
    "adata = ln.db.load(h5ad)"
   ]
  },
  {
   "cell_type": "code",
   "execution_count": null,
   "id": "36b9886e",
   "metadata": {},
   "outputs": [],
   "source": [
    "screen_hits = ln.db.load(hits)"
   ]
  },
  {
   "cell_type": "markdown",
   "id": "9bdf36b8",
   "metadata": {},
   "source": [
    "## Perform single cell analysis, integrating the CRISPR screen data"
   ]
  },
  {
   "cell_type": "code",
   "execution_count": null,
   "id": "481a6ef7",
   "metadata": {},
   "outputs": [],
   "source": [
    "sc.tl.score_genes(\n",
    "    adata, adata.var_names.intersection(screen_hits[\"id\"].values).tolist()\n",
    ")"
   ]
  },
  {
   "cell_type": "code",
   "execution_count": null,
   "id": "30392a7e",
   "metadata": {},
   "outputs": [],
   "source": [
    "sc.pl.umap(adata, color=\"cluster_name\")"
   ]
  },
  {
   "cell_type": "code",
   "execution_count": null,
   "id": "972a5071",
   "metadata": {},
   "outputs": [],
   "source": [
    "sc.pl.umap(adata, color=\"score\")"
   ]
  },
  {
   "cell_type": "code",
   "execution_count": null,
   "id": "4072962b",
   "metadata": {},
   "outputs": [],
   "source": [
    "sc.pl.matrixplot(adata, groupby=\"cluster_name\", var_names=[\"score\"])"
   ]
  },
  {
   "cell_type": "markdown",
   "id": "4aa0cc70",
   "metadata": {},
   "source": [
    "## Ingest the processed dataset into LaminDB"
   ]
  },
  {
   "cell_type": "code",
   "execution_count": null,
   "id": "b5a97c12",
   "metadata": {},
   "outputs": [],
   "source": [
    "ln.db.ingest.add(adata, name=\"schmidt22_perturbseq_analyzed\")"
   ]
  },
  {
   "cell_type": "code",
   "execution_count": null,
   "id": "bd34c28b",
   "metadata": {},
   "outputs": [],
   "source": [
    "ln.db.ingest.commit()"
   ]
  }
 ],
 "metadata": {
  "kernelspec": {
   "display_name": "Python 3.9.13 ('py39')",
   "language": "python",
   "name": "python3"
  },
  "language_info": {
   "codemirror_mode": {
    "name": "ipython",
    "version": 3
   },
   "file_extension": ".py",
   "mimetype": "text/x-python",
   "name": "python",
   "nbconvert_exporter": "python",
   "pygments_lexer": "ipython3",
   "version": "3.9.13"
  },
  "nbproject": {
   "id": "lEVRZ3cfzpu6",
   "parent": null,
   "pypackage": {
    "lamindb": "0.3.3",
    "scanpy": "1.8.2"
   },
   "time_init": "2022-08-30T22:20:03.913240+00:00",
   "version": "4"
  },
  "vscode": {
   "interpreter": {
    "hash": "ae1fefc8646a06dd2e75004cd934adda7c5727b046986a772e3b44b0ffba9754"
   }
  }
 },
 "nbformat": 4,
 "nbformat_minor": 5
}
