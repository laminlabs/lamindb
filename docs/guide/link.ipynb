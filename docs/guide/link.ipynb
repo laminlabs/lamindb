{
 "cells": [
  {
   "cell_type": "markdown",
   "id": "b5fc74a4",
   "metadata": {},
   "source": [
    "# Link metadata: `db.link`\n",
    "\n",
    "To make data queryable, you link it to entities of interest within the schema."
   ]
  },
  {
   "cell_type": "code",
   "execution_count": null,
   "id": "21af215e",
   "metadata": {},
   "outputs": [],
   "source": [
    "import lamindb as ln\n",
    "\n",
    "ln.nb.header()"
   ]
  },
  {
   "cell_type": "markdown",
   "id": "38f82283",
   "metadata": {},
   "source": [
    "## Link features\n",
    "\n",
    "Features are linked to data upon ingestion via `feature_model`. See [Ingest with feature models](https://lamin.ai/docs/db/guide/ingest#ingest-with-feature-models)."
   ]
  },
  {
   "cell_type": "markdown",
   "id": "688c0452",
   "metadata": {},
   "source": [
    "## Link samples"
   ]
  },
  {
   "cell_type": "markdown",
   "id": "f7bffead",
   "metadata": {},
   "source": [
    "Samples, i.e., metadata associated with observations, are linked with the same approach post-ingestion."
   ]
  },
  {
   "cell_type": "markdown",
   "id": "f78f29e2",
   "metadata": {},
   "source": [
    "For instance, let's annotate a scRNA-seq dataset with its readout type ([EFO:0008913](http://www.ebi.ac.uk/efo/EFO_0008913))."
   ]
  },
  {
   "cell_type": "markdown",
   "id": "6747e862",
   "metadata": {},
   "source": [
    "Let's first fetch an scRNA-seq dataset stored as an `.h5ad` file."
   ]
  },
  {
   "cell_type": "code",
   "execution_count": null,
   "id": "b43c43e4",
   "metadata": {},
   "outputs": [],
   "source": [
    "dobject = ln.db.query.dobject(suffix=\".h5ad\").first()\n",
    "dobject"
   ]
  },
  {
   "cell_type": "code",
   "execution_count": null,
   "id": "c11bce9e",
   "metadata": {},
   "outputs": [],
   "source": [
    "ln.db.link.readout(dobject_id=dobject.id, efo_id=\"EFO:0008913\")"
   ]
  },
  {
   "cell_type": "markdown",
   "id": "f5c052d1",
   "metadata": {},
   "source": [
    "The readout is now linked to the dataset, you can now query the data by efo_id from readout.\n",
    "\n",
    "Check out [Query and load data: `db.query`, `db.load`](https://lamin.ai/docs/db/guide/link-features) to see more types of queries you can make."
   ]
  },
  {
   "cell_type": "code",
   "execution_count": null,
   "id": "e0b42855",
   "metadata": {},
   "outputs": [],
   "source": [
    "ln.db.query.dobject(where={\"readout\": {\"efo_id\": \"EFO:0008913\"}}).all()"
   ]
  }
 ],
 "metadata": {
  "kernelspec": {
   "display_name": "Python 3.9.13 ('py39')",
   "language": "python",
   "name": "python3"
  },
  "language_info": {
   "codemirror_mode": {
    "name": "ipython",
    "version": 3
   },
   "file_extension": ".py",
   "mimetype": "text/x-python",
   "name": "python",
   "nbconvert_exporter": "python",
   "pygments_lexer": "ipython3",
   "version": "3.9.13"
  },
  "nbproject": {
   "id": "zMCvXplQ8kTk",
   "parent": null,
   "pypackage": null,
   "time_init": "2022-09-02T14:11:03.230995+00:00",
   "version": "draft"
  },
  "vscode": {
   "interpreter": {
    "hash": "ae1fefc8646a06dd2e75004cd934adda7c5727b046986a772e3b44b0ffba9754"
   }
  }
 },
 "nbformat": 4,
 "nbformat_minor": 5
}
