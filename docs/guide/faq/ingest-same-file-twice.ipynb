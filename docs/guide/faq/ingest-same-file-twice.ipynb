{
 "cells": [
  {
   "cell_type": "markdown",
   "id": "fe2d8275-0883-4ffe-9912-920b28efc9d2",
   "metadata": {},
   "source": [
    "# Can I ingest the same file twice?"
   ]
  },
  {
   "attachments": {},
   "cell_type": "markdown",
   "id": "dda847ba-c174-4442-acfb-752d6a875645",
   "metadata": {},
   "source": [
    "Yes, if you set {attr}`lamindb.settings.error_on_file_hash_exists` to `False`.\n",
    "\n",
    "- If `True` (the default), you'll get an error.\n",
    "- If `False`, you'll get a warning if a data object with the same hash exists already."
   ]
  },
  {
   "cell_type": "code",
   "execution_count": null,
   "id": "6944c6d8-a01b-4d07-9dd6-913a17bccaba",
   "metadata": {},
   "outputs": [],
   "source": [
    "import lamindb as ln\n",
    "import pytest\n",
    "\n",
    "ln.track()"
   ]
  },
  {
   "cell_type": "code",
   "execution_count": null,
   "id": "0bb65135-7c44-47df-b95d-ee023877b3a2",
   "metadata": {},
   "outputs": [],
   "source": [
    "assert ln.settings.error_on_file_hash_exists == True"
   ]
  },
  {
   "cell_type": "markdown",
   "id": "4d15a6a1",
   "metadata": {},
   "source": [
    "This file already got ingested in a previous notebook."
   ]
  },
  {
   "cell_type": "code",
   "execution_count": null,
   "id": "f52ab9c0-d2c2-40cd-9542-6081d712adb2",
   "metadata": {},
   "outputs": [],
   "source": [
    "filepath = ln.dev.datasets.file_fcs()"
   ]
  },
  {
   "cell_type": "code",
   "execution_count": null,
   "id": "3b269371-9015-4e9e-9adf-468636d62899",
   "metadata": {},
   "outputs": [],
   "source": [
    "with pytest.raises(RuntimeError):\n",
    "    file = ln.File(filepath)"
   ]
  },
  {
   "cell_type": "code",
   "execution_count": null,
   "id": "1422804a",
   "metadata": {},
   "outputs": [],
   "source": [
    "ln.settings.error_on_file_hash_exists = False"
   ]
  },
  {
   "cell_type": "code",
   "execution_count": null,
   "id": "73e8475d",
   "metadata": {},
   "outputs": [],
   "source": [
    "file = ln.File(filepath)"
   ]
  }
 ],
 "metadata": {
  "kernelspec": {
   "display_name": "Python 3 (ipykernel)",
   "language": "python",
   "name": "python3"
  },
  "language_info": {
   "codemirror_mode": {
    "name": "ipython",
    "version": 3
   },
   "file_extension": ".py",
   "mimetype": "text/x-python",
   "name": "python",
   "nbconvert_exporter": "python",
   "pygments_lexer": "ipython3",
   "version": "3.10.8 (main, Oct 13 2022, 09:48:40) [Clang 14.0.0 (clang-1400.0.29.102)]"
  },
  "nbproject": {
   "id": "ANW20Fr4eZgM",
   "parent": null,
   "pypackage": null,
   "time_init": "2022-10-12T22:55:00.562920+00:00",
   "user_handle": "testuser1",
   "user_id": "DzTjkKse",
   "user_name": "Test User1",
   "version": "0"
  },
  "vscode": {
   "interpreter": {
    "hash": "b0fa6594d8f4cbf19f97940f81e996739fb7646882a419484c72d19e05852a7e"
   }
  }
 },
 "nbformat": 4,
 "nbformat_minor": 5
}
