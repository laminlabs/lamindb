{
 "cells": [
  {
   "attachments": {},
   "cell_type": "markdown",
   "metadata": {},
   "source": [
    "# Ingest and track data from notebook runs\n",
    "\n",
    "Here we explain how data ingestion is tracked with notebook runs.\n",
    "\n",
    "```{seealso}\n",
    "\n",
    "More examples in [LaminDB quickstart](https://lamin.ai/docs/db/guide/quickstart))\n",
    "```"
   ]
  },
  {
   "attachments": {},
   "cell_type": "markdown",
   "metadata": {},
   "source": [
    "```{important}\n",
    "\n",
    "`ln.nb` is an access point of [nbproject](https://lamin.ai/docs/nbproject).\n",
    "\n",
    "`ln.nb.header()` executes the following under the hood:\n",
    "1. Create a Notebook record and add it to the database.\n",
    "2. Create a Run record from the Notebook record, and add it to the database.\n",
    "3. Assigns the current Run record to `ln.nb.run`\n",
    "\n",
    "```"
   ]
  },
  {
   "cell_type": "code",
   "execution_count": null,
   "metadata": {},
   "outputs": [],
   "source": [
    "import lamindb as ln\n",
    "import lamindb.schema as lns\n",
    "\n",
    "ln.nb.header()"
   ]
  },
  {
   "attachments": {},
   "cell_type": "markdown",
   "metadata": {},
   "source": [
    "Query the current notebook run from DB:"
   ]
  },
  {
   "cell_type": "code",
   "execution_count": null,
   "metadata": {},
   "outputs": [],
   "source": [
    "run = ln.select(lns.Run, id=ln.nb.run.id).one()\n",
    "\n",
    "run"
   ]
  },
  {
   "attachments": {},
   "cell_type": "markdown",
   "metadata": {},
   "source": [
    "Query the current notebook entry from DB:"
   ]
  },
  {
   "cell_type": "code",
   "execution_count": null,
   "metadata": {},
   "outputs": [],
   "source": [
    "nb = ln.select(lns.Notebook).join(lns.Run, id=ln.nb.run.id).one()\n",
    "\n",
    "nb"
   ]
  },
  {
   "attachments": {},
   "cell_type": "markdown",
   "metadata": {},
   "source": [
    "## Create a DObject from notebook"
   ]
  },
  {
   "attachments": {},
   "cell_type": "markdown",
   "metadata": {},
   "source": [
    "The `source` parameter is automatically inferred as the current notebook run.\n",
    "\n",
    "Alternatively, you can pass a Run record to the `source` parameter if you are ingesting from a pipeline run, see our [Pipeline guide](https://lamin.ai/docs/db/guide/pipeline)."
   ]
  },
  {
   "attachments": {},
   "cell_type": "markdown",
   "metadata": {},
   "source": [
    "```{note}\n",
    "\n",
    "When creating a new DObject from [`AnnData`](https://anndata.readthedocs.io/), it defaults to save as a `h5ad` file format.\n",
    "\n",
    "You may select `adata_format=\"zarr\"` to ingest and store `AnnData` as [`zarr`](https://zarr.readthedocs.io/), which allows you to write objects directly from memory and read them directly into memory without saving them on disk.\n",
    "\n",
    "```"
   ]
  },
  {
   "cell_type": "code",
   "execution_count": null,
   "metadata": {},
   "outputs": [],
   "source": [
    "dobject = ln.DObject(\n",
    "    data=ln.dev.datasets.anndata_pbmc68k_reduced(), name=\"pbmc68k_reduced\"\n",
    ")"
   ]
  },
  {
   "cell_type": "code",
   "execution_count": null,
   "metadata": {},
   "outputs": [],
   "source": [
    "dobject.source"
   ]
  },
  {
   "attachments": {},
   "cell_type": "markdown",
   "metadata": {},
   "source": [
    "## Add DObject to DB"
   ]
  },
  {
   "attachments": {},
   "cell_type": "markdown",
   "metadata": {},
   "source": [
    "Now let's add the dobject to the database:"
   ]
  },
  {
   "cell_type": "code",
   "execution_count": null,
   "metadata": {},
   "outputs": [],
   "source": [
    "ln.add(dobject);"
   ]
  },
  {
   "attachments": {},
   "cell_type": "markdown",
   "metadata": {},
   "source": [
    "## Query and load ingested data from DB"
   ]
  },
  {
   "cell_type": "code",
   "execution_count": null,
   "metadata": {},
   "outputs": [],
   "source": [
    "dobject = ln.select(ln.DObject, name=\"pbmc68k_reduced\").one()\n",
    "adata = dobject.load()\n",
    "\n",
    "adata"
   ]
  },
  {
   "attachments": {},
   "cell_type": "markdown",
   "metadata": {},
   "source": [
    "## Query data by the notebook source"
   ]
  },
  {
   "attachments": {},
   "cell_type": "markdown",
   "metadata": {},
   "source": [
    "Let's track where the data was ingested:"
   ]
  },
  {
   "cell_type": "code",
   "execution_count": null,
   "metadata": {},
   "outputs": [],
   "source": [
    "ln.select(lns.Notebook).join(lns.Run).join(ln.DObject, name=\"pbmc68k_reduced\").one()"
   ]
  },
  {
   "attachments": {},
   "cell_type": "markdown",
   "metadata": {},
   "source": [
    "Alternatively, you can query for the run that contains a notebook attribute:\n",
    "\n",
    "```{admonition} What is ln.Session()?\n",
    ":class: important\n",
    "\n",
    "Why do we need session here? Find out in our [Session guide](https://lamin.ai/docs/db/faq/session).\n",
    "\n",
    "```"
   ]
  },
  {
   "cell_type": "code",
   "execution_count": null,
   "metadata": {},
   "outputs": [],
   "source": [
    "ss = ln.Session()"
   ]
  },
  {
   "cell_type": "code",
   "execution_count": null,
   "metadata": {},
   "outputs": [],
   "source": [
    "source_run = ss.select(lns.Run).join(ln.DObject, name=\"pbmc68k_reduced\").one()\n",
    "\n",
    "source_run.notebook"
   ]
  },
  {
   "cell_type": "code",
   "execution_count": null,
   "metadata": {},
   "outputs": [],
   "source": [
    "ss.close()"
   ]
  }
 ],
 "metadata": {
  "kernelspec": {
   "display_name": "py39",
   "language": "python",
   "name": "python3"
  },
  "language_info": {
   "codemirror_mode": {
    "name": "ipython",
    "version": 3
   },
   "file_extension": ".py",
   "mimetype": "text/x-python",
   "name": "python",
   "nbconvert_exporter": "python",
   "pygments_lexer": "ipython3",
   "version": "3.9.13 | packaged by conda-forge | (main, May 27 2022, 17:01:00) \n[Clang 13.0.1 ]"
  },
  "nbproject": {
   "id": "1LCd8kco9lZU",
   "parent": null,
   "pypackage": null,
   "time_init": "2023-01-23T13:53:15.227959+00:00",
   "user_handle": "testuser1",
   "user_id": "DzTjkKse",
   "user_name": "Test User1",
   "version": "0"
  },
  "vscode": {
   "interpreter": {
    "hash": "ae1fefc8646a06dd2e75004cd934adda7c5727b046986a772e3b44b0ffba9754"
   }
  }
 },
 "nbformat": 4,
 "nbformat_minor": 2
}
