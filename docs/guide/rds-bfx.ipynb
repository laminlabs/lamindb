{
 "cells": [
  {
   "cell_type": "markdown",
   "id": "5ac46edc",
   "metadata": {},
   "source": [
    "# Ingest results from bioinformatics run"
   ]
  },
  {
   "cell_type": "code",
   "execution_count": null,
   "id": "6d6c84fd",
   "metadata": {},
   "outputs": [],
   "source": [
    "import lamindb as ln\n",
    "import lnbfx\n",
    "\n",
    "ln.nb.header()"
   ]
  },
  {
   "cell_type": "markdown",
   "id": "936ea1cf",
   "metadata": {},
   "source": [
    "`test-user1` performed perturb-seq and started a bioinformatics workflow run:"
   ]
  },
  {
   "cell_type": "code",
   "execution_count": null,
   "id": "e8057056",
   "metadata": {},
   "outputs": [],
   "source": [
    "!lndb login test-user1"
   ]
  },
  {
   "cell_type": "markdown",
   "id": "b1ba7216",
   "metadata": {},
   "source": [
    "Ingest the results files into LaminDB:"
   ]
  },
  {
   "cell_type": "code",
   "execution_count": null,
   "id": "8d9bb40e",
   "metadata": {},
   "outputs": [],
   "source": [
    "bfx_run = lnbfx.BfxRun(pipeline=lnbfx.lookup.pipeline.cell_ranger_v7_0_0)"
   ]
  },
  {
   "cell_type": "code",
   "execution_count": null,
   "id": "0b82274e",
   "metadata": {},
   "outputs": [],
   "source": [
    "ln.db.ingest.add(ln.datasets.dir_scrnaseq_cellranger_schmidt22(), pipeline_run=bfx_run)"
   ]
  },
  {
   "cell_type": "code",
   "execution_count": null,
   "id": "b8625557",
   "metadata": {},
   "outputs": [],
   "source": [
    "ln.db.ingest.commit()"
   ]
  }
 ],
 "metadata": {
  "kernelspec": {
   "language": "python"
  },
  "language_info": {
   "codemirror_mode": {
    "name": "ipython",
    "version": 3
   },
   "file_extension": ".py",
   "mimetype": "text/x-python",
   "name": "python",
   "nbconvert_exporter": "python",
   "pygments_lexer": "ipython3",
   "version": "3.9.12"
  },
  "nbproject": {
   "id": "7FDlIYMukhK8",
   "parent": null,
   "pypackage": {
    "lamindb": "0.3.3",
    "lnbfx": "0.3.1"
   },
   "time_init": "2022-08-30T22:19:47.979898+00:00",
   "version": "4"
  },
  "vscode": {
   "interpreter": {
    "hash": "822ec0ac785b1db3d02e7d7754e0de6d47a7bde0a8423738b8340fdea5c0abd9"
   }
  }
 },
 "nbformat": 4,
 "nbformat_minor": 5
}
