{
 "cells": [
  {
   "attachments": {},
   "cell_type": "markdown",
   "metadata": {},
   "source": [
    "# Install & setup LaminDB"
   ]
  },
  {
   "cell_type": "markdown",
   "metadata": {},
   "source": [
    "## Installation\n",
    "\n",
    "![pyversions](https://img.shields.io/pypi/pyversions/lamindb)\n",
    "\n",
    "```shell\n",
    "pip install lamindb  # basic data management\n",
    "```\n",
    "\n",
    "You can configure the installation using `extras`, e.g.,\n",
    "\n",
    "```shell\n",
    "pip install lamindb[jupyter,bionty,fcs,aws]\n",
    "```\n",
    "\n",
    "Supported `extras` are:\n",
    "\n",
    "```\n",
    "jupyter  # Track Jupyter notebooks\n",
    "bionty   # Manage basic biological entities\n",
    "fcs      # Manage .fcs files (flow cytometry)\n",
    "zarr     # Store & stream arrays with zarr\n",
    "aws      # AWS (s3fs, etc.)\n",
    "gcp      # Google Cloud (gcfs, etc.)\n",
    "postgres # Postgres server\n",
    "```"
   ]
  },
  {
   "attachments": {},
   "cell_type": "markdown",
   "metadata": {},
   "source": [
    "If you use the CLI, you can access help like so:\n",
    "```\n",
    "lamin -h\n",
    "lamin init -h\n",
    "```"
   ]
  },
  {
   "cell_type": "markdown",
   "metadata": {},
   "source": [
    "## Sign-up and log-in"
   ]
  },
  {
   "cell_type": "markdown",
   "metadata": {},
   "source": [
    "Why do I have to sign up?\n",
    "\n",
    "- Data lineage requires a user identity (who modified which data when?).\n",
    "- Collaboration requires a user identity (who shares this with me?).\n",
    "\n",
    "Signing up takes 1 min.\n",
    "\n",
    "We do _not_ store any of your data, but only basic metadata about you (email address, etc.) & your LaminDB instances (S3 bucket names, etc.).\n",
    "\n",
    "- Sign up: `lamin signup <email>`\n",
    "- Log in: `lamin login <handle>`"
   ]
  },
  {
   "attachments": {},
   "cell_type": "markdown",
   "metadata": {},
   "source": [
    "## Init an instance"
   ]
  },
  {
   "attachments": {},
   "cell_type": "markdown",
   "metadata": {},
   "source": [
    "The most common arguments for `lamin init` are the following:\n",
    "\n",
    "`storage`: a default storage location\n",
    "- cloud storage: `s3://my-bucket` or `gs://my-bucket`\n",
    "- local storage: path to a local directory\n",
    "\n",
    "`db` (optional): a SQL database URI\n",
    "- defaults to SQLite database in `storage`\n",
    "\n",
    "`schema` (optional): comma-separated schema names\n",
    "- every instance uses the core schema\n",
    "- there are 2 public optional schemas:\n",
    "    - `bionty`: biological entities\n",
    "    - `lamin1`: Lamin's sample biolab schema\n",
    "- [contact us](https://lamin.ai/contact) to learn about customized enterprise schemas"
   ]
  },
  {
   "attachments": {},
   "cell_type": "markdown",
   "metadata": {},
   "source": [
    "### Local storage + SQLite"
   ]
  },
  {
   "attachments": {},
   "cell_type": "markdown",
   "metadata": {},
   "source": [
    "If you are only interested in tracking files and their transformations, init your local SQLite instance via:\n",
    "\n",
    "```\n",
    "lamin init --storage ./mydata\n",
    "```"
   ]
  },
  {
   "attachments": {},
   "cell_type": "markdown",
   "metadata": {},
   "source": [
    "Mount the Bionty schema module:\n",
    "\n",
    "```\n",
    "lamin init --storage mydata --schema bionty\n",
    "```"
   ]
  },
  {
   "attachments": {},
   "cell_type": "markdown",
   "metadata": {},
   "source": [
    "### Cloud storage (S3) + SQLite"
   ]
  },
  {
   "attachments": {},
   "cell_type": "markdown",
   "metadata": {},
   "source": [
    "```\n",
    "lamin init --storage s3://<bucket_name> --schema bionty,lamin1\n",
    "```"
   ]
  },
  {
   "attachments": {},
   "cell_type": "markdown",
   "metadata": {},
   "source": [
    "### Cloud storage (GCP) + Postgres"
   ]
  },
  {
   "attachments": {},
   "cell_type": "markdown",
   "metadata": {},
   "source": [
    "```\n",
    "lamin init --storage gs://<bucket_name> --db postgresql://<user>:<pwd>@<hostname>:<port>/<dbname> --schema bionty,lamin1\n",
    "```\n"
   ]
  },
  {
   "attachments": {},
   "cell_type": "markdown",
   "metadata": {},
   "source": [
    "## Load an instance"
   ]
  },
  {
   "attachments": {},
   "cell_type": "markdown",
   "metadata": {},
   "source": [
    "Load your own instance:\n",
    "```\n",
    "lamin load <instance_name>\n",
    "````"
   ]
  },
  {
   "attachments": {},
   "cell_type": "markdown",
   "metadata": {},
   "source": [
    "Load somebody else's instance:\n",
    "```\n",
    "lamin load <account_handle/instance_name>\n",
    "```"
   ]
  },
  {
   "attachments": {},
   "cell_type": "markdown",
   "metadata": {},
   "source": [
    "## Access settings"
   ]
  },
  {
   "attachments": {},
   "cell_type": "markdown",
   "metadata": {},
   "source": [
    "Now, let's look at a specific example:"
   ]
  },
  {
   "cell_type": "code",
   "execution_count": null,
   "metadata": {},
   "outputs": [],
   "source": [
    "!lamin init --storage mydata --schema bionty"
   ]
  },
  {
   "attachments": {},
   "cell_type": "markdown",
   "metadata": {},
   "source": [
    "Settings persist in `~/.lamin/` and can be accessed via :meth:`lamindb.setup.settings`."
   ]
  },
  {
   "cell_type": "code",
   "execution_count": null,
   "metadata": {},
   "outputs": [],
   "source": [
    "import lamindb as ln"
   ]
  },
  {
   "cell_type": "code",
   "execution_count": null,
   "metadata": {},
   "outputs": [],
   "source": [
    "ln.setup.settings.user"
   ]
  },
  {
   "cell_type": "code",
   "execution_count": null,
   "metadata": {},
   "outputs": [],
   "source": [
    "ln.setup.settings.instance"
   ]
  },
  {
   "attachments": {},
   "cell_type": "markdown",
   "metadata": {},
   "source": [
    "Or be printed:"
   ]
  },
  {
   "cell_type": "code",
   "execution_count": null,
   "metadata": {},
   "outputs": [],
   "source": [
    "!lamin info"
   ]
  },
  {
   "attachments": {},
   "cell_type": "markdown",
   "metadata": {},
   "source": [
    "```{note}\n",
    "\n",
    "The user who creates an instance is its owner. Ownership can be transferred in the hub.\n",
    "```"
   ]
  },
  {
   "attachments": {},
   "cell_type": "markdown",
   "metadata": {},
   "source": [
    "## Delete an instance"
   ]
  },
  {
   "cell_type": "code",
   "execution_count": null,
   "metadata": {},
   "outputs": [],
   "source": [
    "!lamin delete mydata"
   ]
  }
 ],
 "metadata": {
  "kernelspec": {
   "display_name": "Python 3 (ipykernel)",
   "language": "python",
   "name": "python3"
  },
  "language_info": {
   "codemirror_mode": {
    "name": "ipython",
    "version": 3
   },
   "file_extension": ".py",
   "mimetype": "text/x-python",
   "name": "python",
   "nbconvert_exporter": "python",
   "pygments_lexer": "ipython3",
   "version": "3.9.16"
  },
  "vscode": {
   "interpreter": {
    "hash": "ae1fefc8646a06dd2e75004cd934adda7c5727b046986a772e3b44b0ffba9754"
   }
  }
 },
 "nbformat": 4,
 "nbformat_minor": 4
}
