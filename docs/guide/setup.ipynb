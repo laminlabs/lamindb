{
 "cells": [
  {
   "attachments": {},
   "cell_type": "markdown",
   "metadata": {},
   "source": [
    "# Install & setup LaminDB"
   ]
  },
  {
   "cell_type": "markdown",
   "metadata": {},
   "source": [
    "## Installation\n",
    "\n",
    "![pyversions](https://img.shields.io/pypi/pyversions/lamindb)\n",
    "\n",
    "```shell\n",
    "pip install lamindb  # basic data management\n",
    "```\n",
    "\n",
    "You can configure the installation using `extras`, e.g.,\n",
    "\n",
    "```shell\n",
    "pip install lamindb[jupyter,bionty,fcs,aws]\n",
    "```\n",
    "\n",
    "Supported `extras` are:\n",
    "\n",
    "```\n",
    "jupyter  # Track Jupyter notebooks\n",
    "bionty   # Manage basic biological entities\n",
    "fcs      # Manage .fcs files (flow cytometry)\n",
    "zarr     # Store & stream arrays with zarr\n",
    "aws      # AWS (s3fs, etc.)\n",
    "gcp      # Google Cloud (gcfs, etc.)\n",
    "postgres # Postgres server\n",
    "```"
   ]
  },
  {
   "attachments": {},
   "cell_type": "markdown",
   "metadata": {},
   "source": [
    "If you use the CLI, you can access help like so:\n",
    "```\n",
    "lamin -h\n",
    "lamin init -h\n",
    "```"
   ]
  },
  {
   "attachments": {},
   "cell_type": "markdown",
   "metadata": {},
   "source": [
    "## Init an instance"
   ]
  },
  {
   "attachments": {},
   "cell_type": "markdown",
   "metadata": {},
   "source": [
    "The most common arguments for `lamin init` are the following:\n",
    "\n",
    "`storage`: a default storage location\n",
    "- cloud storage: `s3://my-bucket` or `gs://my-bucket`\n",
    "- local storage: path to a local directory\n",
    "\n",
    "`db` (optional): a SQL database URI\n",
    "- defaults to SQLite database in `storage`\n",
    "\n",
    "`schema` (optional): comma-separated schema names\n",
    "- every instance uses the core schema\n",
    "- there are 2 public optional schemas:\n",
    "    - `bionty`: biological entities\n",
    "    - `lamin1`: Lamin's sample biolab schema\n",
    "- [contact us](https://lamin.ai/contact) to learn about customized enterprise schemas"
   ]
  },
  {
   "attachments": {},
   "cell_type": "markdown",
   "metadata": {},
   "source": [
    "Let's take a look at some examples."
   ]
  },
  {
   "cell_type": "code",
   "execution_count": null,
   "metadata": {},
   "outputs": [],
   "source": [
    "import lamindb as ln"
   ]
  },
  {
   "attachments": {},
   "cell_type": "markdown",
   "metadata": {},
   "source": [
    "### Local storage + SQLite"
   ]
  },
  {
   "attachments": {},
   "cell_type": "markdown",
   "metadata": {},
   "source": [
    "If you are only interested in tracking files and their transformations, init your local SQLite instance via:\n",
    "\n",
    "```\n",
    "ln.setup.init(storage=\"./mydata\")  # CLI: lamin init --storage ./mydata\n",
    "```"
   ]
  },
  {
   "attachments": {},
   "cell_type": "markdown",
   "metadata": {},
   "source": [
    "Mount the Bionty schema module:\n",
    "\n",
    "```\n",
    "ln.setup.init(storage=\"./mydata\", schema=\"bionty\")  # CLI: lamin init --storage mydata --schema bionty\n",
    "```"
   ]
  },
  {
   "attachments": {},
   "cell_type": "markdown",
   "metadata": {},
   "source": [
    "### Cloud storage (S3) + SQLite"
   ]
  },
  {
   "attachments": {},
   "cell_type": "markdown",
   "metadata": {},
   "source": [
    "```\n",
    "ln.setup.init(storage=\"s3://<bucket_name>\", schema=\"bionty,lamin1\")  # CLI: lamin init --storage s3://<bucket_name> --schema bionty,lamin1\n",
    "```"
   ]
  },
  {
   "attachments": {},
   "cell_type": "markdown",
   "metadata": {},
   "source": [
    "### Cloud storage (GCP) + Postgres"
   ]
  },
  {
   "attachments": {},
   "cell_type": "markdown",
   "metadata": {},
   "source": [
    "```\n",
    "ln.setup.init(storage=\"gs://<bucket_name>\", db=\"postgresql://<user>:<pwd>@<hostname>:<port>/<dbname>\", schema=\"bionty,lamin1\")  # CLI: lamin init --storage gs://<bucket_name> --db postgresql://<user>:<pwd>@<hostname>:<port>/<dbname> --schema bionty,lamin1\n",
    "```\n"
   ]
  },
  {
   "attachments": {},
   "cell_type": "markdown",
   "metadata": {},
   "source": [
    "## Load an instance"
   ]
  },
  {
   "attachments": {},
   "cell_type": "markdown",
   "metadata": {},
   "source": [
    "Load your own instance:\n",
    "```\n",
    "ln.setup.load(\"<instance_name>\")  # CLI: lamin load <instance_name>\n",
    "````"
   ]
  },
  {
   "attachments": {},
   "cell_type": "markdown",
   "metadata": {},
   "source": [
    "Load somebody else's instance:\n",
    "```\n",
    "ln.setup.load(f\"{account_handle}/{instance_name}\")  # CLI: lamin load <account_handle/instance_name>\n",
    "```"
   ]
  },
  {
   "attachments": {},
   "cell_type": "markdown",
   "metadata": {},
   "source": [
    "## Access settings"
   ]
  },
  {
   "attachments": {},
   "cell_type": "markdown",
   "metadata": {},
   "source": [
    "Now, let's look at a specific example:"
   ]
  },
  {
   "cell_type": "code",
   "execution_count": null,
   "metadata": {},
   "outputs": [],
   "source": [
    "ln.setup.init(storage=\"./mydata\", schema=\"bionty\")"
   ]
  },
  {
   "attachments": {},
   "cell_type": "markdown",
   "metadata": {},
   "source": [
    "Settings persist in `~/.lamin/` and can be accessed via :meth:`lamindb.setup.settings`."
   ]
  },
  {
   "cell_type": "code",
   "execution_count": null,
   "metadata": {},
   "outputs": [],
   "source": [
    "ln.setup.settings.user"
   ]
  },
  {
   "cell_type": "code",
   "execution_count": null,
   "metadata": {},
   "outputs": [],
   "source": [
    "ln.setup.settings.instance"
   ]
  },
  {
   "attachments": {},
   "cell_type": "markdown",
   "metadata": {},
   "source": [
    "Or be printed:"
   ]
  },
  {
   "cell_type": "code",
   "execution_count": null,
   "metadata": {},
   "outputs": [],
   "source": [
    "ln.setup.info()  # CLI: lamin info"
   ]
  },
  {
   "attachments": {},
   "cell_type": "markdown",
   "metadata": {},
   "source": [
    "```{note}\n",
    "\n",
    "The user who creates an instance is its owner. Ownership can be transferred in the hub.\n",
    "```"
   ]
  },
  {
   "attachments": {},
   "cell_type": "markdown",
   "metadata": {},
   "source": [
    "## Set storage"
   ]
  },
  {
   "attachments": {},
   "cell_type": "markdown",
   "metadata": {},
   "source": [
    "For Postgres instances, you can configure arbitrarily many storage locations:\n",
    "\n",
    "```\n",
    "ln.setup.set.storage(root=<path>)  # CLI: lamin set --storage <path>\n",
    "```"
   ]
  },
  {
   "attachments": {},
   "cell_type": "markdown",
   "metadata": {},
   "source": [
    "## Delete an instance"
   ]
  },
  {
   "cell_type": "code",
   "execution_count": null,
   "metadata": {},
   "outputs": [],
   "source": [
    "ln.setup.delete(\"mydata\")"
   ]
  }
 ],
 "metadata": {
  "kernelspec": {
   "display_name": "Python 3 (ipykernel)",
   "language": "python",
   "name": "python3"
  },
  "language_info": {
   "codemirror_mode": {
    "name": "ipython",
    "version": 3
   },
   "file_extension": ".py",
   "mimetype": "text/x-python",
   "name": "python",
   "nbconvert_exporter": "python",
   "pygments_lexer": "ipython3",
   "version": "3.9.16"
  },
  "vscode": {
   "interpreter": {
    "hash": "ae1fefc8646a06dd2e75004cd934adda7c5727b046986a772e3b44b0ffba9754"
   }
  }
 },
 "nbformat": 4,
 "nbformat_minor": 4
}
