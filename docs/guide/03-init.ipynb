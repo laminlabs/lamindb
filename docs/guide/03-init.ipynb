{
 "cells": [
  {
   "attachments": {},
   "cell_type": "markdown",
   "id": "dd470e9f-835e-469b-9ec1-bc3e60a3c902",
   "metadata": {},
   "source": [
    "# Initialize a LaminDB instance"
   ]
  },
  {
   "cell_type": "markdown",
   "id": "f0a291e7-9a27-42f7-8a74-f8ea6deefecb",
   "metadata": {},
   "source": [
    "For this first tutorial, we initiate a local instance with storage in `mydata/` and a local SQlite database for managing it.\n",
    "\n",
    "You can also directly pass `s3://my-bucket` to `--storage` or a Postgres URL to `--db`.\n",
    "\n",
    "We mount 3 default modules for biological entities (`bionty`), a generic wetlab (`wetlab`), and a generic bioinformatics pipline (`bfx`) for this instance."
   ]
  },
  {
   "cell_type": "code",
   "execution_count": null,
   "id": "42e81ba0-520b-4abb-92b3-a80f18a90924",
   "metadata": {},
   "outputs": [],
   "source": [
    "!lndb init --storage mydata --schema bionty,wetlab"
   ]
  },
  {
   "cell_type": "markdown",
   "id": "99aac965-03bf-4363-9649-c15ec90029b8",
   "metadata": {},
   "source": [
    "In this local setup, all instance data is in `mydata/` and all metadata in the SQLite file `mydata/mydata.lndb`.\n",
    "\n",
    "Settings persist in `~/.lndb/instance-mydata.env` (and `~/.lndb/user-{user-handle}.env`) and can be accessed via [`lamindb.settings`](https://lamin.ai/docs/lndb-setup/lndb_setup.settings)."
   ]
  },
  {
   "attachments": {},
   "cell_type": "markdown",
   "id": "34014397",
   "metadata": {},
   "source": [
    "Your database is now set up! 🎉"
   ]
  }
 ],
 "metadata": {
  "kernelspec": {
   "display_name": "py39",
   "language": "python",
   "name": "python3"
  },
  "language_info": {
   "name": "python",
   "version": "3.9.13 | packaged by conda-forge | (main, May 27 2022, 17:01:00) \n[Clang 13.0.1 ]"
  },
  "vscode": {
   "interpreter": {
    "hash": "ae1fefc8646a06dd2e75004cd934adda7c5727b046986a772e3b44b0ffba9754"
   }
  }
 },
 "nbformat": 4,
 "nbformat_minor": 2
}
