{
 "cells": [
  {
   "cell_type": "markdown",
   "id": "06cadce4",
   "metadata": {},
   "source": [
    "# Model data\n",
    "\n",
    "Reference: {mod}`lamindb.schema`"
   ]
  },
  {
   "attachments": {},
   "cell_type": "markdown",
   "id": "e1d4ee75",
   "metadata": {},
   "source": [
    "Any LaminDB instance can mount an arbitrary number of schema modules.\n",
    "\n",
    "Each schema module is both a Python package and SQL module in which each SQL table is mapped by a Python class, an ORM.\n",
    "\n",
    "```{toctree}\n",
    ":hidden:\n",
    ":maxdepth: 1\n",
    "\n",
    "lnschema-core\n",
    "lnschema-bionty\n",
    "data-validation\n",
    "```\n",
    "\n",
    "You can set up your own modules or [reach out](https://lamin.ai/contact) for support within our enterprise plan."
   ]
  },
  {
   "cell_type": "code",
   "execution_count": null,
   "id": "ff46a5e4",
   "metadata": {},
   "outputs": [],
   "source": [
    "import lamindb as ln\n",
    "import pandas as pd"
   ]
  },
  {
   "cell_type": "code",
   "execution_count": null,
   "id": "586ea88e",
   "metadata": {},
   "outputs": [],
   "source": [
    "ln.track()"
   ]
  },
  {
   "cell_type": "markdown",
   "id": "4160ae5b",
   "metadata": {},
   "source": [
    "## View"
   ]
  },
  {
   "cell_type": "markdown",
   "id": "4e52d5a4",
   "metadata": {},
   "source": [
    "View the schema that is active in your DB instance using {func}`~lamindb.schema.view`.\n",
    "\n",
    "It's a graph of linked entities that correspond to related tables."
   ]
  },
  {
   "cell_type": "markdown",
   "id": "c9851aca",
   "metadata": {},
   "source": [
    "The central table that references indexed data objects ({class}`~lamindb.File`) that are transformed by runs ({class}`~lamindb.Run`).\n",
    "\n",
    "It's a bit overwhelming, but you'll see that many entities correspond to very fundamental concepts (like `Gene` or `CellType`). You'll get to know them module by module."
   ]
  },
  {
   "cell_type": "code",
   "execution_count": null,
   "id": "49aeb395-ef87-4c76-9122-d7fedac70eea",
   "metadata": {},
   "outputs": [],
   "source": [
    "ln.schema.view()"
   ]
  },
  {
   "cell_type": "markdown",
   "id": "ea323818",
   "metadata": {},
   "source": [
    "If you want to export the schema, you can use {func}`~lamindb.schema.graph`, which returns a `pydot.Dot` graph object, and can be exported and converted to many formats (including `networkx`)."
   ]
  },
  {
   "cell_type": "code",
   "execution_count": null,
   "id": "c2636c9c",
   "metadata": {},
   "outputs": [],
   "source": [
    "graph = ln.schema.graph()"
   ]
  },
  {
   "cell_type": "code",
   "execution_count": null,
   "id": "2d607fb3",
   "metadata": {},
   "outputs": [],
   "source": [
    "pd.DataFrame(graph.formats).T"
   ]
  },
  {
   "cell_type": "code",
   "execution_count": null,
   "id": "85d771f5",
   "metadata": {},
   "outputs": [],
   "source": [
    "graph.create_dot()"
   ]
  },
  {
   "cell_type": "markdown",
   "id": "71060b23",
   "metadata": {},
   "source": [
    "## Entities, tables, ORMs"
   ]
  },
  {
   "attachments": {},
   "cell_type": "markdown",
   "id": "a86ff340",
   "metadata": {},
   "source": [
    "```{tip}\n",
    "\n",
    "You'll typically access the entities in each schema module through their Python ORM, which you can look up with auto-complete.\n",
    "\n",
    "```"
   ]
  },
  {
   "attachments": {},
   "cell_type": "markdown",
   "id": "639830fb",
   "metadata": {},
   "source": [
    "Each LaminDB ORM is shallow wrapper around [SQLModel](https://sqlmodel.tiangolo.com/), meaning it offers all functionality of a [SQLAlchemy ORM](https://docs.sqlalchemy.org/en/20/orm) and a [Pydantic BaseModel](https://pydantic-docs.helpmanual.io/usage/models/). For instance:"
   ]
  },
  {
   "cell_type": "code",
   "execution_count": null,
   "id": "e3b97266",
   "metadata": {},
   "outputs": [],
   "source": [
    "ln.Transform.__fields__"
   ]
  },
  {
   "cell_type": "code",
   "execution_count": null,
   "id": "d58577bf",
   "metadata": {},
   "outputs": [],
   "source": [
    "ln.Transform.__table__"
   ]
  }
 ],
 "metadata": {
  "kernelspec": {
   "display_name": "Python 3 (ipykernel)",
   "language": "python",
   "name": "python3"
  },
  "language_info": {
   "codemirror_mode": {
    "name": "ipython",
    "version": 3
   },
   "file_extension": ".py",
   "mimetype": "text/x-python",
   "name": "python",
   "nbconvert_exporter": "python",
   "pygments_lexer": "ipython3",
   "version": "3.9.15"
  },
  "nbproject": {
   "id": "6ZBQKdB7Mvlh",
   "parent": null,
   "pypackage": null,
   "time_init": "2022-09-02T13:31:33.726175+00:00",
   "version": "0"
  },
  "vscode": {
   "interpreter": {
    "hash": "ae1fefc8646a06dd2e75004cd934adda7c5727b046986a772e3b44b0ffba9754"
   }
  }
 },
 "nbformat": 4,
 "nbformat_minor": 5
}
