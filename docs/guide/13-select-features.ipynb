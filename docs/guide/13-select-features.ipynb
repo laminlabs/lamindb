{
 "cells": [
  {
   "cell_type": "markdown",
   "id": "1a515a1b-34ac-4c0b-ae6c-0f360bd3ac9b",
   "metadata": {},
   "source": [
    "# Querying data objects by features"
   ]
  },
  {
   "attachments": {},
   "cell_type": "markdown",
   "id": "5b5fa658",
   "metadata": {},
   "source": [
    "```{seealso}\n",
    "\n",
    "This guide extends {doc}`/guide/select`.\n",
    "\n",
    "```"
   ]
  },
  {
   "cell_type": "code",
   "execution_count": null,
   "id": "fe98f316-2175-4c16-8bb5-726f61fdf85c",
   "metadata": {},
   "outputs": [],
   "source": [
    "import lamindb as ln\n",
    "import lamindb.schema as lns\n",
    "\n",
    "ln.nb.header()"
   ]
  },
  {
   "cell_type": "markdown",
   "id": "24587cab-b3d7-4be7-b11e-2d00dc93409d",
   "metadata": {},
   "source": [
    "Let us query gene records by symbol:"
   ]
  },
  {
   "cell_type": "code",
   "execution_count": null,
   "id": "45d20a3c-a21a-44dc-b9cb-40c38bb98214",
   "metadata": {},
   "outputs": [],
   "source": [
    "ln.select(lns.bionty.Gene, symbol=\"Actg1\").df()"
   ]
  },
  {
   "cell_type": "markdown",
   "id": "b8099c16-1e95-46c2-97b9-562bd07d3093",
   "metadata": {},
   "source": [
    "How do we retrieve data objects, in which this gene was read out? "
   ]
  },
  {
   "cell_type": "code",
   "execution_count": null,
   "id": "11160277-0588-422f-b4bc-06634d1e882d",
   "metadata": {},
   "outputs": [],
   "source": [
    "ln.select(ln.DObject).df()"
   ]
  },
  {
   "cell_type": "markdown",
   "id": "875721bd-14a0-44c5-aa86-425a1d793aef",
   "metadata": {},
   "source": [
    "We could first query all feature sets that contain the gene, and then query `DObject` by that."
   ]
  },
  {
   "cell_type": "code",
   "execution_count": null,
   "id": "c0eca711-01c3-4321-a89f-ce20885e24c4",
   "metadata": {},
   "outputs": [],
   "source": [
    "features = (\n",
    "    ln.select(lns.Features, lns.bionty.Gene.symbol)\n",
    "    .join(lns.Features.genes)\n",
    "    .where(lns.bionty.Gene.symbol == \"Actg1\")\n",
    ")\n",
    "features.df().head()"
   ]
  },
  {
   "cell_type": "markdown",
   "id": "c8f39443-32fc-4a9f-a7aa-085066ad307c",
   "metadata": {},
   "source": [
    "Of course, we can also write everything in one statement:"
   ]
  },
  {
   "cell_type": "code",
   "execution_count": null,
   "id": "1f0c31ed-90b1-443a-a4d9-0b9987083fe5",
   "metadata": {},
   "outputs": [],
   "source": [
    "dobjects = (\n",
    "    ln.select(ln.DObject)\n",
    "    .join(ln.DObject.features)\n",
    "    .join(lns.Features.genes)\n",
    "    .where(lns.bionty.Gene.symbol == \"Actg1\")\n",
    ")\n",
    "dobjects.df().head()"
   ]
  },
  {
   "cell_type": "markdown",
   "id": "5fee1e4b",
   "metadata": {},
   "source": [
    "And similarly, we can query datasets by cell markers:"
   ]
  },
  {
   "cell_type": "code",
   "execution_count": null,
   "id": "06a4f4ac",
   "metadata": {},
   "outputs": [],
   "source": [
    "dobjects = (\n",
    "    ln.select(ln.DObject)\n",
    "    .join(ln.DObject.features)\n",
    "    .join(lns.Features.cell_markers)\n",
    "    .where(lns.bionty.CellMarker.name == \"CD14\")\n",
    ")\n",
    "dobjects.df().head()"
   ]
  }
 ],
 "metadata": {
  "kernelspec": {
   "display_name": "Python 3 (ipykernel)",
   "language": "python",
   "name": "python3"
  },
  "language_info": {
   "codemirror_mode": {
    "name": "ipython",
    "version": 3
   },
   "file_extension": ".py",
   "mimetype": "text/x-python",
   "name": "python",
   "nbconvert_exporter": "python",
   "pygments_lexer": "ipython3",
   "version": "3.9.13 | packaged by conda-forge | (main, May 27 2022, 17:01:00) \n[Clang 13.0.1 ]"
  },
  "nbproject": {
   "id": "hmWrrFMGO5Dg",
   "parent": null,
   "pypackage": null,
   "time_init": "2022-07-31T16:34:36.395954+00:00",
   "version": "0"
  },
  "vscode": {
   "interpreter": {
    "hash": "ae1fefc8646a06dd2e75004cd934adda7c5727b046986a772e3b44b0ffba9754"
   }
  }
 },
 "nbformat": 4,
 "nbformat_minor": 5
}
