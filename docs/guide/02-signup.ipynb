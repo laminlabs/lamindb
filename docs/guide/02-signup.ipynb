{
 "cells": [
  {
   "attachments": {},
   "cell_type": "markdown",
   "id": "1bb0d102-41ef-408a-894f-6093526ce9a2",
   "metadata": {},
   "source": [
    "# User sign up & log in"
   ]
  },
  {
   "attachments": {},
   "cell_type": "markdown",
   "metadata": {},
   "source": [
    "## Sign up"
   ]
  },
  {
   "attachments": {},
   "cell_type": "markdown",
   "id": "fe300c6d-0f48-47a1-ab4d-3e638eeb0835",
   "metadata": {},
   "source": [
    "As a first-time user, sign up your email so that LaminDB can link you to data & analyses.\n",
    "\n",
    "On the command line, run:\n",
    "\n",
    "```bash\n",
    "lndb signup <email>\n",
    "```"
   ]
  },
  {
   "cell_type": "markdown",
   "metadata": {},
   "source": [
    "## Log in"
   ]
  },
  {
   "attachments": {},
   "cell_type": "markdown",
   "metadata": {},
   "source": [
    "After confirming the signup email, you can login with your handle on the command line: \n",
    "\n",
    "```bash\n",
    "lndb login <handle>\n",
    "```"
   ]
  },
  {
   "attachments": {},
   "cell_type": "markdown",
   "metadata": {},
   "source": [
    "```{tip}\n",
    "\n",
    "To run guide notebooks, you can use an existing test account `testuser1`:\n",
    "\n",
    "```"
   ]
  },
  {
   "cell_type": "code",
   "execution_count": null,
   "id": "57e6302d-988f-4bc5-afa2-66770c130fb3",
   "metadata": {},
   "outputs": [],
   "source": [
    "!lndb login testuser1@lamin.ai --password cEvcwMJFX4OwbsYVaMt2Os6GxxGgDUlBGILs2RyS"
   ]
  }
 ],
 "metadata": {
  "kernelspec": {
   "display_name": "py39",
   "language": "python",
   "name": "python3"
  },
  "language_info": {
   "codemirror_mode": {
    "name": "ipython",
    "version": 3
   },
   "file_extension": ".py",
   "mimetype": "text/x-python",
   "name": "python",
   "nbconvert_exporter": "python",
   "pygments_lexer": "ipython3",
   "version": "3.9.13"
  },
  "vscode": {
   "interpreter": {
    "hash": "ae1fefc8646a06dd2e75004cd934adda7c5727b046986a772e3b44b0ffba9754"
   }
  }
 },
 "nbformat": 4,
 "nbformat_minor": 2
}
