{
 "cells": [
  {
   "cell_type": "markdown",
   "id": "06cadce4",
   "metadata": {},
   "source": [
    "# Schema: `schema`"
   ]
  },
  {
   "cell_type": "markdown",
   "id": "964d7a0b",
   "metadata": {},
   "source": [
    "You can draw the overall schema that is active in your DB instance using {func}`~lamindb.schema.draw`.\n",
    "\n",
    "In addition to the core schema module, in the present example, we mounted 3 modules that track different parts of R&D operations:\n",
    "\n",
    "- [core](https://lamin.ai/docs/lnschema-core/api): Generic data provenance & flow.\n",
    "- [bionty](https://lamin.ai/docs/lnschema-bionty/api): Biological entities.\n",
    "- [wetlab](https://lamin.ai/docs/lnschema-wetlab/api): Generic wetlab operations.\n",
    "- [bfx](https://lamin.ai/docs/lnbfx/lnbfx.schema): Bioinformatics pipelines."
   ]
  },
  {
   "cell_type": "code",
   "execution_count": null,
   "id": "ff46a5e4",
   "metadata": {},
   "outputs": [],
   "source": [
    "import lamindb as ln\n",
    "\n",
    "ln.nb.header()"
   ]
  },
  {
   "cell_type": "markdown",
   "id": "c11ffbd1",
   "metadata": {},
   "source": [
    "```{note}\n",
    "\n",
    "Each page in this guide is a Jupyter Notebook.\n",
    "\n",
    "`ln.nb.header()` ensures the notebook is tracked (for more info, see [nbproject](https://lamin.ai/docs/nbproject)).\n",
    "```"
   ]
  },
  {
   "cell_type": "markdown",
   "id": "4160ae5b",
   "metadata": {},
   "source": [
    "## Draw schema"
   ]
  },
  {
   "cell_type": "code",
   "execution_count": null,
   "id": "49aeb395-ef87-4c76-9122-d7fedac70eea",
   "metadata": {},
   "outputs": [],
   "source": [
    "ln.schema.draw()"
   ]
  },
  {
   "cell_type": "markdown",
   "id": "71060b23",
   "metadata": {},
   "source": [
    "## Schema tables"
   ]
  },
  {
   "cell_type": "markdown",
   "id": "92dff8f0",
   "metadata": {},
   "source": [
    "List tables:"
   ]
  },
  {
   "cell_type": "code",
   "execution_count": null,
   "id": "678f9f76",
   "metadata": {},
   "outputs": [],
   "source": [
    "ln.schema.list_entities()[:5]"
   ]
  },
  {
   "cell_type": "markdown",
   "id": "4bb4ee4d",
   "metadata": {},
   "source": [
    "View the data model of a table:"
   ]
  },
  {
   "cell_type": "code",
   "execution_count": null,
   "id": "e3b97266",
   "metadata": {},
   "outputs": [],
   "source": [
    "ln.schema.core.pipeline.__fields__"
   ]
  }
 ],
 "metadata": {
  "kernelspec": {
   "display_name": "Python 3.9.10 64-bit",
   "language": "python",
   "name": "python3"
  },
  "language_info": {
   "codemirror_mode": {
    "name": "ipython",
    "version": 3
   },
   "file_extension": ".py",
   "mimetype": "text/x-python",
   "name": "python",
   "nbconvert_exporter": "python",
   "pygments_lexer": "ipython3",
   "version": "3.9.13"
  },
  "nbproject": {
   "id": "6ZBQKdB7Mvlh",
   "parent": null,
   "pypackage": null,
   "time_init": "2022-09-02T13:31:33.726175+00:00",
   "version": "draft"
  },
  "vscode": {
   "interpreter": {
    "hash": "b0fa6594d8f4cbf19f97940f81e996739fb7646882a419484c72d19e05852a7e"
   }
  }
 },
 "nbformat": 4,
 "nbformat_minor": 5
}
