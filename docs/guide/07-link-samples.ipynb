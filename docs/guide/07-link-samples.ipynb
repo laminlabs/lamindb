{
 "cells": [
  {
   "cell_type": "markdown",
   "id": "b5fc74a4",
   "metadata": {},
   "source": [
    "# Link data objects to sample-level metadata"
   ]
  },
  {
   "cell_type": "markdown",
   "id": "198a10f0",
   "metadata": {},
   "source": [
    "We already saw how to link data objects to entities representing features during ingestion.\n",
    "\n",
    "For sample-level metadata, the underlying schema is often more complicated, and hence it's best done in a separate step.\n",
    "\n",
    "Here, we walk through this process."
   ]
  },
  {
   "cell_type": "code",
   "execution_count": null,
   "id": "21af215e",
   "metadata": {},
   "outputs": [],
   "source": [
    "import lamindb as ln\n",
    "import lamindb.schema as lns\n",
    "import lamindb.knowledge as lnk\n",
    "\n",
    "ln.nb.header()"
   ]
  },
  {
   "cell_type": "markdown",
   "id": "f7bffead",
   "metadata": {},
   "source": [
    "Samples, i.e., metadata associated with observations, are linked with the same approach post-ingestion."
   ]
  },
  {
   "cell_type": "markdown",
   "id": "6747e862",
   "metadata": {},
   "source": [
    "Let's first query an scRNA-seq dataset stored as an `.h5ad` file."
   ]
  },
  {
   "cell_type": "code",
   "execution_count": null,
   "id": "b43c43e4",
   "metadata": {},
   "outputs": [],
   "source": [
    "dobject = ln.select(lns.DObject, suffix=\".h5ad\").first()"
   ]
  },
  {
   "cell_type": "code",
   "execution_count": null,
   "id": "f6163fb2-a387-41f6-b7bc-3190bce55a26",
   "metadata": {},
   "outputs": [],
   "source": [
    "dobject"
   ]
  },
  {
   "cell_type": "markdown",
   "id": "f78f29e2",
   "metadata": {},
   "source": [
    "For instance, let's annotate a scRNA-seq dataset with its readout type (scRNA-seq), the tissue, and the species."
   ]
  },
  {
   "cell_type": "markdown",
   "id": "0aa6b90d",
   "metadata": {},
   "source": [
    "## Species"
   ]
  },
  {
   "cell_type": "code",
   "execution_count": null,
   "id": "cf1ed961",
   "metadata": {},
   "outputs": [],
   "source": [
    "species = lns.bionty.Species(common_name=\"mouse\")"
   ]
  },
  {
   "cell_type": "code",
   "execution_count": null,
   "id": "2f14fc56",
   "metadata": {},
   "outputs": [],
   "source": [
    "species"
   ]
  },
  {
   "cell_type": "markdown",
   "id": "b81e6ddf",
   "metadata": {},
   "source": [
    "## Tissue"
   ]
  },
  {
   "cell_type": "code",
   "execution_count": null,
   "id": "dce787a2",
   "metadata": {},
   "outputs": [],
   "source": [
    "tissue_lookup = lnk.Tissue().lookup"
   ]
  },
  {
   "cell_type": "code",
   "execution_count": null,
   "id": "8cdc01c8",
   "metadata": {},
   "outputs": [],
   "source": [
    "tissue_lookup.afferent_lymphatic_vessel"
   ]
  },
  {
   "cell_type": "code",
   "execution_count": null,
   "id": "e19e0613",
   "metadata": {},
   "outputs": [],
   "source": [
    "tissue = lns.bionty.Tissue(id=tissue_lookup.afferent_lymphatic_vessel)"
   ]
  },
  {
   "cell_type": "code",
   "execution_count": null,
   "id": "742d5ac7",
   "metadata": {},
   "outputs": [],
   "source": [
    "tissue"
   ]
  },
  {
   "cell_type": "markdown",
   "id": "93c6a1ea",
   "metadata": {},
   "source": [
    "## Readout"
   ]
  },
  {
   "cell_type": "code",
   "execution_count": null,
   "id": "4b48f82c",
   "metadata": {},
   "outputs": [],
   "source": [
    "lnk.lookup.readout.single_cell_RNA_sequencing"
   ]
  },
  {
   "cell_type": "code",
   "execution_count": null,
   "id": "92b92e32",
   "metadata": {},
   "outputs": [],
   "source": [
    "readout = lns.wetlab.Readout(efo_id=lnk.lookup.readout.single_cell_RNA_sequencing)"
   ]
  },
  {
   "cell_type": "code",
   "execution_count": null,
   "id": "5e532d56",
   "metadata": {},
   "outputs": [],
   "source": [
    "readout"
   ]
  },
  {
   "cell_type": "markdown",
   "id": "185e95a3",
   "metadata": {},
   "source": [
    "## Create a biosample record"
   ]
  },
  {
   "cell_type": "code",
   "execution_count": null,
   "id": "04a89a94",
   "metadata": {},
   "outputs": [],
   "source": [
    "biosample = lns.wetlab.Biosample(name=\"Mouse Lymph Node\")"
   ]
  },
  {
   "cell_type": "code",
   "execution_count": null,
   "id": "72d84b8b-7418-4bb9-bf15-aa1af6502d60",
   "metadata": {},
   "outputs": [],
   "source": [
    "biosample.tissue = tissue"
   ]
  },
  {
   "cell_type": "code",
   "execution_count": null,
   "id": "16aed80c-2ab0-4a7a-b73d-1a74e5370ae4",
   "metadata": {},
   "outputs": [],
   "source": [
    "biosample.species_id = species.id  # need to have a besser UX around this"
   ]
  },
  {
   "cell_type": "markdown",
   "id": "61e14907-69a1-49d2-83df-12fece2d8c72",
   "metadata": {},
   "source": [
    "Currently, we still work with another entity `biometa`. We'll like drop it."
   ]
  },
  {
   "cell_type": "code",
   "execution_count": null,
   "id": "d11819e9-cdd1-4945-970c-5599f3ca3a81",
   "metadata": {},
   "outputs": [],
   "source": [
    "biometa = lns.wetlab.Biometa(name=\"Mouse Lymph Node scRNA-seq\")"
   ]
  },
  {
   "cell_type": "code",
   "execution_count": null,
   "id": "313d8154-8614-4070-864c-6241153a8e8d",
   "metadata": {},
   "outputs": [],
   "source": [
    "biometa.readout = readout"
   ]
  },
  {
   "cell_type": "code",
   "execution_count": null,
   "id": "e887f334-a9ba-4402-bb5d-3340b79fdcac",
   "metadata": {},
   "outputs": [],
   "source": [
    "biometa.biosample = biosample"
   ]
  },
  {
   "cell_type": "markdown",
   "id": "33ad35b8-85c8-4662-bb3f-a7e25b2fb6c4",
   "metadata": {},
   "source": [
    "Link against the data object:"
   ]
  },
  {
   "cell_type": "code",
   "execution_count": null,
   "id": "f4c14773-eeac-4db8-95e5-364b5e7cd532",
   "metadata": {},
   "outputs": [],
   "source": [
    "biometa.dobjects.append(dobject)"
   ]
  },
  {
   "cell_type": "markdown",
   "id": "fec05be3-6d70-4092-a72f-e5ad24391f9d",
   "metadata": {},
   "source": [
    "## Add to the DB"
   ]
  },
  {
   "cell_type": "markdown",
   "id": "49d4ced3-a587-4808-b2f1-71853861511c",
   "metadata": {},
   "source": [
    "We can add everything to the DB in one transaction:"
   ]
  },
  {
   "cell_type": "code",
   "execution_count": null,
   "id": "35a3f206-6d8a-4102-8bc0-a8ee1819c101",
   "metadata": {},
   "outputs": [],
   "source": [
    "ln.add(biometa)"
   ]
  },
  {
   "cell_type": "markdown",
   "id": "1d8e6dc4",
   "metadata": {},
   "source": [
    "## Query for linked metadata"
   ]
  },
  {
   "cell_type": "code",
   "execution_count": null,
   "id": "e984d97e-c295-4257-a5bf-fb2347ce3678",
   "metadata": {},
   "outputs": [],
   "source": [
    "stmt = ln.select(lns.wetlab.Biometa).join(\n",
    "    lns.wetlab.Readout, efo_id=lnk.lookup.readout.single_cell_RNA_sequencing\n",
    ")\n",
    "stmt.df()"
   ]
  },
  {
   "cell_type": "code",
   "execution_count": null,
   "id": "6350f154",
   "metadata": {},
   "outputs": [],
   "source": [
    "ln.select(lns.DObject).join(lns.DObject.biometas).where(\n",
    "    lns.wetlab.Biometa.id == stmt.first().id\n",
    ").df()"
   ]
  }
 ],
 "metadata": {
  "kernelspec": {
   "display_name": "Python 3 (ipykernel)",
   "language": "python",
   "name": "python3"
  },
  "language_info": {
   "codemirror_mode": {
    "name": "ipython",
    "version": 3
   },
   "file_extension": ".py",
   "mimetype": "text/x-python",
   "name": "python",
   "nbconvert_exporter": "python",
   "pygments_lexer": "ipython3",
   "version": "3.9.12"
  },
  "nbproject": {
   "id": "zMCvXplQ8kTk",
   "parent": null,
   "pypackage": null,
   "time_init": "2022-09-02T14:11:03.230995+00:00",
   "version": "0"
  },
  "vscode": {
   "interpreter": {
    "hash": "2775e555cdc2d728c54aa22130c79afb1fa4da64f22f2fc6dcc2aa346c4e0672"
   }
  }
 },
 "nbformat": 4,
 "nbformat_minor": 5
}
