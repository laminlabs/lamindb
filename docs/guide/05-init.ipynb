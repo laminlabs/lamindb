{
 "cells": [
  {
   "attachments": {},
   "cell_type": "markdown",
   "id": "dd470e9f-835e-469b-9ec1-bc3e60a3c902",
   "metadata": {},
   "source": [
    "# Initialize a LaminDB instance"
   ]
  },
  {
   "attachments": {},
   "cell_type": "markdown",
   "metadata": {},
   "source": [
    "```{note}\n",
    "\n",
    "Make sure you are logged in before initializing an instance!\n",
    "```"
   ]
  },
  {
   "cell_type": "code",
   "execution_count": null,
   "metadata": {},
   "outputs": [],
   "source": [
    "import lndb_setup as lndb"
   ]
  },
  {
   "attachments": {},
   "cell_type": "markdown",
   "metadata": {},
   "source": [
    "## Sign up and log in user"
   ]
  },
  {
   "attachments": {},
   "cell_type": "markdown",
   "metadata": {},
   "source": [
    "You can sign up using our Python API:\n",
    "\n",
    "```{code}\n",
    "\n",
    "lndb.signup(\"testuser1@lamin.ai\")\n",
    "```\n",
    "\n",
    "📧 You will receive a confirmation email to complete the sign-up!"
   ]
  },
  {
   "attachments": {},
   "cell_type": "markdown",
   "metadata": {},
   "source": [
    "After that, you can log in with your user handle:"
   ]
  },
  {
   "cell_type": "code",
   "execution_count": null,
   "metadata": {},
   "outputs": [],
   "source": [
    "lndb.login(\"testuser1\")"
   ]
  },
  {
   "attachments": {},
   "cell_type": "markdown",
   "metadata": {},
   "source": [
    "```{tip}\n",
    "\n",
    "If log in with user handle failed due to a corrupted user setting, try to log in with email and password:\n",
    "\n",
    "```{code}\n",
    "\n",
    "lndb.login(\"testuser1@lamin.ai\", password=\"cEvcwMJFX4OwbsYVaMt2Os6GxxGgDUlBGILs2RyS\")\n",
    "```"
   ]
  },
  {
   "attachments": {},
   "cell_type": "markdown",
   "metadata": {},
   "source": [
    "You may also sign up and log in using command line:\n",
    "\n",
    "```{code}\n",
    "\n",
    "lndb signup <email>\n",
    "lndb login <handle>"
   ]
  },
  {
   "attachments": {},
   "cell_type": "markdown",
   "metadata": {},
   "source": [
    "## Init an instance"
   ]
  },
  {
   "attachments": {},
   "cell_type": "markdown",
   "metadata": {},
   "source": [
    "Initializing a LaminDB instance requires:\n",
    "- `storage`: a storage location\n",
    "    - local storage: path to a local directory (Note: the directory name is used as the instance name by default)\n",
    "    - cloud storage: `s3://my-bucket` for S3 bucket; `gs://my-bucket` for Google Cloud\n",
    "- `db`: [a database URI](https://docs.sqlalchemy.org/en/20/core/engines.html#database-urls)\n",
    "    - if not specified, the instance will by default use a SQLite database\n",
    "- `schema`: schema modules\n",
    "    - by default uses the [core schema module](https://lamin.ai/docs/lnschema-core) for data lineage\n",
    "    - we provide 3 public schema modules:\n",
    "        - [`bionty`](https://lamin.ai/docs/lnschema-bionty): biological entities\n",
    "        - [`wetlab`](https://lamin.ai/docs/lnschema-wetlab): a generic wetlab\n",
    "        - [`bfx`](https://lamin.ai/docs/lnbfx): a generic bioinformatics pipline\n",
    "    - [contact us](https://lamin.ai/contact) to learn about customizing schema modules"
   ]
  },
  {
   "attachments": {},
   "cell_type": "markdown",
   "metadata": {},
   "source": [
    "### Local storage + SQLite"
   ]
  },
  {
   "attachments": {},
   "cell_type": "markdown",
   "id": "f0a291e7-9a27-42f7-8a74-f8ea6deefecb",
   "metadata": {},
   "source": [
    "For this guide, we initialize a local instance with storage in `./mydata/` and a local SQlite database for managing it.\n",
    "\n",
    "We mount `bionty` and `wetlab` schema modules for advanced guides.\n",
    "\n",
    "If you are only interested in tracking data and runs (pipelines and analyses), you may simply initiate your local SQLite instance via:\n",
    "\n",
    "- Python API: `lndb.init(storage=\"mydata\")`\n",
    "- Alternatively, on the command line: `lndb init --storage mydata`"
   ]
  },
  {
   "cell_type": "code",
   "execution_count": null,
   "metadata": {},
   "outputs": [],
   "source": [
    "lndb.init(storage=\"mydata\", schema=\"bionty,wetlab\")"
   ]
  },
  {
   "attachments": {},
   "cell_type": "markdown",
   "metadata": {},
   "source": [
    "To initialize an instance on the command line:\n",
    "\n",
    "```{code}\n",
    "\n",
    "lndb init --storage mydata --schema bionty,wetlab"
   ]
  },
  {
   "attachments": {},
   "cell_type": "markdown",
   "metadata": {},
   "source": [
    "### Cloud storage (AWS S3) + SQLite"
   ]
  },
  {
   "attachments": {},
   "cell_type": "markdown",
   "metadata": {},
   "source": [
    "- Python API:  `lndb.init(storage=\"s3://<bucket_name>\", schema=\"bionty,wetlab\")`\n",
    "- CLI: `lndb init --storage s3://<bucket_name> --schema bionty,wetlab`"
   ]
  },
  {
   "attachments": {},
   "cell_type": "markdown",
   "metadata": {},
   "source": [
    "### Cloud storage (Google Cloud) + Postgres"
   ]
  },
  {
   "attachments": {},
   "cell_type": "markdown",
   "metadata": {},
   "source": [
    "- Python API: `lndb.init(storage=\"gs://<bucket_name>\", db=\"postgresql://<user>:<pwd>@<hostname>:<port>/<dbname>\", schema=\"bionty,wetlab\")`\n",
    "- CLI: `lndb init --storage gs://<bucket_name> --db postgresql://<user>:<pwd>@<hostname>:<port>/<dbname> --schema bionty,wetlab`"
   ]
  },
  {
   "attachments": {},
   "cell_type": "markdown",
   "id": "34014397",
   "metadata": {},
   "source": [
    "Your database is now set up! 🎉"
   ]
  },
  {
   "attachments": {},
   "cell_type": "markdown",
   "metadata": {},
   "source": [
    "## Load an instance"
   ]
  },
  {
   "attachments": {},
   "cell_type": "markdown",
   "metadata": {},
   "source": [
    "```{important}\n",
    "\n",
    "Once the instance is set up, any user accessing the instance on their compute environment for the *first time* needs to run the init function.\n",
    "\n",
    "After that, users can simply load it by running:\n",
    "\n",
    "- For testuser1 in the same compute environment: lndb.load(\"mydata\")\n",
    "- For other users or different environment: lndb.load(\"testuser1/mydata\")\n",
    "```"
   ]
  },
  {
   "attachments": {},
   "cell_type": "markdown",
   "metadata": {},
   "source": [
    "```{note}\n",
    "\n",
    "The instance_identifier(owner/instance_name) is globally unique.\n",
    "\n",
    "- When loading an instance created by another user or in a different environment, use `lndb.load(instance_identifier)`\n",
    "- When loading an instance created by yourself in the same environment, you may also use `lndb.load(instance_name)`\n",
    "```"
   ]
  },
  {
   "attachments": {},
   "cell_type": "markdown",
   "metadata": {},
   "source": [
    "## Check user and instance settings"
   ]
  },
  {
   "attachments": {},
   "cell_type": "markdown",
   "id": "99aac965-03bf-4363-9649-c15ec90029b8",
   "metadata": {},
   "source": [
    "In this local setup, all instance data is in `mydata/` and all metadata in the SQLite file `mydata/mydata.lndb`.\n",
    "\n",
    "Settings persist in `~/.lndb/instance-mydata.env` (and `~/.lndb/user-{user-handle}.env`) and can be accessed via [`lamindb.settings`](https://lamin.ai/docs/lndb-setup/lndb_setup.settings)."
   ]
  },
  {
   "attachments": {},
   "cell_type": "markdown",
   "metadata": {},
   "source": [
    "```{tip}\n",
    "\n",
    "You can check the current instance settings on command line:\n",
    "\n",
    "```{code}\n",
    "\n",
    "lndb info\n",
    "```"
   ]
  },
  {
   "cell_type": "code",
   "execution_count": null,
   "metadata": {},
   "outputs": [],
   "source": [
    "import lamindb as ln"
   ]
  },
  {
   "cell_type": "code",
   "execution_count": null,
   "metadata": {},
   "outputs": [],
   "source": [
    "ln.settings.user"
   ]
  },
  {
   "cell_type": "code",
   "execution_count": null,
   "metadata": {},
   "outputs": [],
   "source": [
    "ln.settings.instance.name"
   ]
  },
  {
   "attachments": {},
   "cell_type": "markdown",
   "metadata": {},
   "source": [
    "```{note}\n",
    "\n",
    "The name of a instance is automatically referred upon init.\n",
    "- For SQLite: uses the storage directory name\n",
    "- For Postgres: uses the database name\n",
    "- You may specify the name using the `name` parameter in the `init` function.\n",
    "```"
   ]
  },
  {
   "cell_type": "code",
   "execution_count": null,
   "metadata": {},
   "outputs": [],
   "source": [
    "ln.settings.instance.owner"
   ]
  },
  {
   "attachments": {},
   "cell_type": "markdown",
   "metadata": {},
   "source": [
    "```{note}\n",
    "\n",
    "The user who first runs the `init` function is the owner of an instance.\n",
    "```"
   ]
  },
  {
   "cell_type": "code",
   "execution_count": null,
   "metadata": {},
   "outputs": [],
   "source": [
    "ln.settings.instance.identifier"
   ]
  },
  {
   "cell_type": "code",
   "execution_count": null,
   "metadata": {},
   "outputs": [],
   "source": [
    "ln.settings.instance.db"
   ]
  },
  {
   "cell_type": "code",
   "execution_count": null,
   "metadata": {},
   "outputs": [],
   "source": [
    "ln.settings.instance.storage.root"
   ]
  },
  {
   "attachments": {},
   "cell_type": "markdown",
   "metadata": {},
   "source": [
    "## View the database content"
   ]
  },
  {
   "cell_type": "code",
   "execution_count": null,
   "metadata": {},
   "outputs": [],
   "source": [
    "ln.view()"
   ]
  }
 ],
 "metadata": {
  "kernelspec": {
   "display_name": "py39",
   "language": "python",
   "name": "python3"
  },
  "language_info": {
   "codemirror_mode": {
    "name": "ipython",
    "version": 3
   },
   "file_extension": ".py",
   "mimetype": "text/x-python",
   "name": "python",
   "nbconvert_exporter": "python",
   "pygments_lexer": "ipython3",
   "version": "3.9.13"
  },
  "vscode": {
   "interpreter": {
    "hash": "ae1fefc8646a06dd2e75004cd934adda7c5727b046986a772e3b44b0ffba9754"
   }
  }
 },
 "nbformat": 4,
 "nbformat_minor": 2
}
