{
 "cells": [
  {
   "cell_type": "markdown",
   "metadata": {},
   "source": [
    "# Initialize a LaminDB instance"
   ]
  },
  {
   "cell_type": "markdown",
   "metadata": {},
   "source": [
    "```{important}\n",
    "\n",
    "Make sure you are [logged in](https://lamin.ai/docs/db/guide/signup) before initializing an instance!\n",
    "\n",
    "```"
   ]
  },
  {
   "cell_type": "markdown",
   "metadata": {},
   "source": [
    "Initializing a LaminDB instance requires:\n",
    "- `--storage`: a storage location\n",
    "    - local storage: path to a local directory (Note: the directory name is used as the instance name by default)\n",
    "    - cloud storage: `s3://my-bucket` for S3 bucket; `gs://my-bucket` for Google Cloud\n",
    "- `--schema`: schema modules\n",
    "    - by default uses the [core schema module](https://lamin.ai/docs/lnschema-core) for data lineage\n",
    "    - we provide 3 public schema modules:\n",
    "        - [`bionty`](https://lamin.ai/docs/lnschema-bionty): biological entities\n",
    "        - [`wetlab`](https://lamin.ai/docs/lnschema-wetlab): a generic wetlab\n",
    "        - [`bfx`](https://lamin.ai/docs/lnbfx): a generic bioinformatics pipline\n",
    "    - [contact us](https://lamin.ai/contact) to learn about customizing schema modules\n",
    "- `--db`: [a database URL](https://docs.sqlalchemy.org/en/20/core/engines.html#database-urls)\n",
    "    - if not specified, the instance will by default use a SQLite database"
   ]
  },
  {
   "cell_type": "markdown",
   "metadata": {},
   "source": [
    "```{note}\n",
    "\n",
    "For this guide, we initiate a local instance with storage in `mydata/` and a local SQlite database for managing it.\n",
    "\n",
    "We mounted bionty and wetlab schema modules for advanced guides.\n",
    "\n",
    "If you are only interested in tracking data and runs (pipelines and analyses), you may simply initiate your local SQLite instance via:\n",
    "\n",
    "`!lndb init --storage mydata`\n",
    "\n",
    "```"
   ]
  },
  {
   "cell_type": "code",
   "execution_count": null,
   "metadata": {},
   "outputs": [],
   "source": [
    "!lndb init --storage mydata --schema bionty,wetlab"
   ]
  },
  {
   "cell_type": "markdown",
   "metadata": {},
   "source": [
    "```{tip}\n",
    "\n",
    "In this local setup, all instance data is in `mydata/` and all metadata in the SQLite file `mydata/mydata.lndb`.\n",
    "\n",
    "Settings persist in `~/.lndb/instance-mydata.env` (and `~/.lndb/user-{user-handle}.env`) and can be accessed via [`lamindb.settings`](https://lamin.ai/docs/lndb-setup/lndb_setup.settings).\n",
    "\n",
    "```"
   ]
  },
  {
   "cell_type": "markdown",
   "metadata": {},
   "source": [
    "Your database is now set up! 🎉"
   ]
  }
 ],
 "metadata": {
  "kernelspec": {
   "display_name": "Python 3 (ipykernel)",
   "language": "python",
   "name": "python3"
  },
  "language_info": {
   "codemirror_mode": {
    "name": "ipython",
    "version": 3
   },
   "file_extension": ".py",
   "mimetype": "text/x-python",
   "name": "python",
   "nbconvert_exporter": "python",
   "pygments_lexer": "ipython3",
   "version": "3.9.12"
  },
  "vscode": {
   "interpreter": {
    "hash": "40d3a090f54c6569ab1632332b64b2c03c39dcf918b08424e98f38b5ae0af88f"
   }
  }
 },
 "nbformat": 4,
 "nbformat_minor": 4
}
