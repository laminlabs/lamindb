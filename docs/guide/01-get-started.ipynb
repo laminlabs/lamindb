{
 "cells": [
  {
   "cell_type": "markdown",
   "id": "2ea9fd55-0f27-4777-8a9c-f9a353fc6bc5",
   "metadata": {
    "tags": []
   },
   "source": [
    "# Get started"
   ]
  },
  {
   "cell_type": "markdown",
   "id": "75d05147",
   "metadata": {},
   "source": [
    "```{warning}\n",
    "\n",
    "Public beta: Currently only recommended for collaborators as we still make breaking changes.\n",
    "\n",
    "```"
   ]
  },
  {
   "cell_type": "markdown",
   "id": "5814da34-bd05-4f8a-a2dd-a060e153cabe",
   "metadata": {},
   "source": [
    "LaminDB is a distributed data management system in which users collaborate on DB _instances_.\n",
    "\n",
    "This is analogous to how developers collaborate on code in repositories, but unlike git and dvc, LaminDB is queryable by entities.[^integrate]\n",
    "\n",
    "[^integrate]: Like git helps with integrating code across repositories, LaminDB helps with integrating data across instances.\n",
    "\n",
    "Each LaminDB instance is a [data lakehouse](https://www.databricks.com/glossary/data-lakehouse) that manages indexed object storage (local directories, S3, GCP) with a SQL query engine (SQLite, Postgres, and soon, BigQuery).\n",
    "\n",
    "LaminDB comes with \n",
    "\n",
    "- data lineage and edit history\n",
    "- knowledge-managed biological entities for typing and lookups (via [Bionty](https://lamin.ai/docs/bionty)) \n",
    "- configurable R&D [schema modules](https://lamin.ai/docs/db/lamindb.schema)\n",
    "- tracking of interactive notebooks (via [nbproject](https://lamin.ai/docs/nbproject))\n",
    "\n",
    "It is built on open source [Python packages](https://lamin.ai/docs)."
   ]
  },
  {
   "cell_type": "markdown",
   "id": "f4f9b9ce",
   "metadata": {},
   "source": [
    "```{note}\n",
    "\n",
    "Each page in this guide is a Jupyter Notebook, which you can download [here](https://github.com/laminlabs/lamindb/tree/main/docs/guide).\n",
    "\n",
    "You can run these notebooks in hosted versions of JupyterLab:\n",
    "\n",
    "- SaturnCloud allows you to [run the entire guide](https://github.com/laminlabs/run-lamin-on-saturn)\n",
    "- Google Vertex AI works with [interactive nbproject](https://lamin.ai/docs/nbproject/faq/setup)\n",
    "- LaminDB and nbproject run anywhere - just nbproject's interactive features require a tested Jupyter installation\n",
    "\n",
    "```"
   ]
  },
  {
   "cell_type": "markdown",
   "id": "47065ea5",
   "metadata": {},
   "source": [
    "## Install"
   ]
  },
  {
   "cell_type": "markdown",
   "id": "f4f128b7",
   "metadata": {},
   "source": [
    "While in beta, we recommend installing the development version:"
   ]
  },
  {
   "cell_type": "markdown",
   "id": "79e9c341",
   "metadata": {},
   "source": [
    "`pip install git+https://github.com/laminlabs/lamindb`"
   ]
  },
  {
   "cell_type": "markdown",
   "id": "1bb0d102-41ef-408a-894f-6093526ce9a2",
   "metadata": {},
   "source": [
    "## Sign up & log in"
   ]
  },
  {
   "cell_type": "markdown",
   "id": "fe300c6d-0f48-47a1-ab4d-3e638eeb0835",
   "metadata": {},
   "source": [
    "As a first-time user, sign up your email so that LaminDB can link you to data & analyses. On the command line, run `lndb signup <email>`.\n",
    "\n",
    "After confirming the signup email, you can login with your handle on the command line: `lndb login <handle>`."
   ]
  },
  {
   "cell_type": "markdown",
   "id": "dac167ca-8e17-4469-a56a-6101d1189fbe",
   "metadata": {},
   "source": [
    "Alternatively, you can use this test account:"
   ]
  },
  {
   "cell_type": "code",
   "execution_count": null,
   "id": "57e6302d-988f-4bc5-afa2-66770c130fb3",
   "metadata": {},
   "outputs": [],
   "source": [
    "!lndb login testuser1@lamin.ai --password cEvcwMJFX4OwbsYVaMt2Os6GxxGgDUlBGILs2RyS"
   ]
  },
  {
   "cell_type": "markdown",
   "id": "dd470e9f-835e-469b-9ec1-bc3e60a3c902",
   "metadata": {},
   "source": [
    "## Init"
   ]
  },
  {
   "cell_type": "markdown",
   "id": "f0a291e7-9a27-42f7-8a74-f8ea6deefecb",
   "metadata": {},
   "source": [
    "For this first tutorial, we initiate a local instance with storage in `mydata/` and a local SQlite database for managing it.\n",
    "\n",
    "You can also directly pass `s3://my-bucket` to `--storage` or a Postgres URL to `--db`.\n",
    "\n",
    "We mount 3 default modules for biological entities (`bionty`), a generic wetlab (`wetlab`), and a generic bioinformatics pipline (`bfx`) for this instance."
   ]
  },
  {
   "cell_type": "code",
   "execution_count": null,
   "id": "42e81ba0-520b-4abb-92b3-a80f18a90924",
   "metadata": {},
   "outputs": [],
   "source": [
    "!lndb init --storage mydata --schema bionty,wetlab"
   ]
  },
  {
   "cell_type": "markdown",
   "id": "99aac965-03bf-4363-9649-c15ec90029b8",
   "metadata": {},
   "source": [
    "In this local setup, all instance data is in `mydata/` and all metadata in the SQLite file `mydata/mydata.lndb`.\n",
    "\n",
    "Settings persist in `~/.lndb/instance-mydata.env` (and `~/.lndb/user-{user-handle}.env`) and can be accessed via [`lamindb.settings`](https://lamin.ai/docs/lndb-setup/lndb_setup.settings)."
   ]
  },
  {
   "cell_type": "markdown",
   "id": "34014397",
   "metadata": {},
   "source": [
    "Your database is set up!"
   ]
  }
 ],
 "metadata": {
  "kernelspec": {
   "display_name": "Python 3 (ipykernel)",
   "language": "python",
   "name": "python3"
  },
  "language_info": {
   "codemirror_mode": {
    "name": "ipython",
    "version": 3
   },
   "file_extension": ".py",
   "mimetype": "text/x-python",
   "name": "python",
   "nbconvert_exporter": "python",
   "pygments_lexer": "ipython3",
   "version": "3.9.12"
  },
  "nbproject": {
   "dependency": {
    "lamindb": "0.0.7",
    "nbproject": "0.1.5",
    "scanpy": "1.9.1"
   },
   "id": "GgD4VJbXtOOS",
   "parent": null,
   "pypackage": {
    "lamindb": "0.3.2",
    "scikit-learn": "1.1.1"
   },
   "time_init": "2022-06-23T14:16:50.755200+00:00",
   "version": "0"
  },
  "vscode": {
   "interpreter": {
    "hash": "2775e555cdc2d728c54aa22130c79afb1fa4da64f22f2fc6dcc2aa346c4e0672"
   }
  }
 },
 "nbformat": 4,
 "nbformat_minor": 5
}
