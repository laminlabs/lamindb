{
 "cells": [
  {
   "cell_type": "markdown",
   "metadata": {},
   "source": [
    "# Manage notebooks & scripts\n",
    "\n",
    "Call {meth}`~lamindb.core.Context.track` to track code along with its inputs and outputs.\n",
    "\n",
    "```{note}\n",
    "\n",
    "Tracking of notebooks & scripts is analogous to tracking data transformations through pipelines, functions & UI, see {doc}`docs:project-flow`.\n",
    "```"
   ]
  },
  {
   "cell_type": "code",
   "execution_count": null,
   "metadata": {
    "tags": [
     "hide-output"
    ]
   },
   "outputs": [],
   "source": [
    "# !pip install 'lamindb[jupyter]'\n",
    "!lamin init --storage ./test-track"
   ]
  },
  {
   "cell_type": "markdown",
   "metadata": {},
   "source": [
    "## Initiate tracking"
   ]
  },
  {
   "cell_type": "markdown",
   "metadata": {},
   "source": [
    "Call {meth}`~lamindb.track` to register a data transformation and start tracking inputs & outputs of a run. You will find your notebook in the {class}`~lamindb.Transform` registry along with scripts, pipelines & functions. {class}`~lamindb.Run` stores executions."
   ]
  },
  {
   "cell_type": "code",
   "execution_count": null,
   "metadata": {
    "tags": [
     "hide-output"
    ]
   },
   "outputs": [],
   "source": [
    "import lamindb as ln\n",
    "\n",
    "# call `ln.track()` to generate a uid that identifies your code\n",
    "\n",
    "ln.track(\"9priar0hoE5u0000\")  # call `ln.track(uid)` to track a run with inputs & outputs"
   ]
  },
  {
   "cell_type": "markdown",
   "metadata": {},
   "source": [
    "LaminDB now automatically tracks all input and output data."
   ]
  },
  {
   "cell_type": "markdown",
   "metadata": {},
   "source": [
    "## Save run report, environment & source code"
   ]
  },
  {
   "cell_type": "markdown",
   "metadata": {},
   "source": [
    "If you want to save the run report & source code for a notebook or script, call:\n",
    "\n",
    "```python\n",
    "ln.finish()\n",
    "```"
   ]
  },
  {
   "cell_type": "markdown",
   "metadata": {},
   "source": [
    "This is how a notebook with run report looks on the hub:\n",
    "\n",
    "<img src=\"https://lamin-site-assets.s3.amazonaws.com/.lamindb/RGXj5wcAf7EAc6J8dJfH.png\" width=\"900px\">"
   ]
  },
  {
   "cell_type": "markdown",
   "metadata": {},
   "source": [
    "## Query for a notebook or script"
   ]
  },
  {
   "cell_type": "markdown",
   "metadata": {},
   "source": [
    "In the API, filter {class}`~lamindb.Transform` to obtain a transform record:\n",
    "\n",
    "```python\n",
    "\n",
    "transform = ln.Transform.get(name=\"Track notebooks & scripts\")\n",
    "transform.source_code  # source code\n",
    "transform.latest_run.report  # report of latest run\n",
    "transform.latest_run.environment  # environment of latest run\n",
    "transform.runs  # all runs\n",
    "```"
   ]
  },
  {
   "cell_type": "markdown",
   "metadata": {},
   "source": [
    "On the hub, use the search or filter in the `Transform` view."
   ]
  },
  {
   "cell_type": "markdown",
   "metadata": {},
   "source": [
    "## Sync scripts with GitHub"
   ]
  },
  {
   "cell_type": "markdown",
   "metadata": {},
   "source": [
    "To sync with your git commit, add the following line to your script:\n",
    "\n",
    "```python\n",
    "ln.settings.sync_git_repo = <YOUR-GIT-REPO-URL>\n",
    "```"
   ]
  },
  {
   "cell_type": "markdown",
   "metadata": {},
   "source": [
    "A tracked Python script could look like this:\n",
    "\n",
    "```python\n",
    "# my_script.py\n",
    "\n",
    "import lamindb as ln\n",
    "\n",
    "# set this setting in the script or on laminhub\n",
    "ln.settings.sync_git_repo = \"https://github.com/...\"\n",
    "\n",
    "# initiate tracking\n",
    "ln.track(\"8a12ar0hoE5u0000\")\n",
    "\n",
    "\n",
    "# load input artifacts\n",
    "data = ln.Artifact.get(...).load()\n",
    "\n",
    "# save output artifacts\n",
    "ln.Artifact(output_data, ...).save()\n",
    "\n",
    "# save the script as transform.source_code\n",
    "ln.finish()\n",
    "```"
   ]
  },
  {
   "cell_type": "markdown",
   "metadata": {},
   "source": [
    "You'll now see the GitHub emoji clickable on the hub:\n",
    "\n",
    "<img src=\"https://lamin-site-assets.s3.amazonaws.com/.lamindb/IpV8Kiq4xUbgXhzlUYT7.png\" width=\"900px\">\n",
    "<br>"
   ]
  },
  {
   "cell_type": "markdown",
   "metadata": {},
   "source": [
    "## Manage notebook templates"
   ]
  },
  {
   "cell_type": "markdown",
   "metadata": {},
   "source": [
    "A notebook acts like a template upon using `lamin get` to load it. Consider you run:\n",
    "\n",
    "```bash\n",
    "lamin get https://lamin.ai/account/instance/transform/Akd7gx7Y9oVO0000\n",
    "```\n",
    "\n",
    "Upon running the returned notebook, you'll automatically create a new version and be able to browse it via the version dropdown on the UI.\n",
    "\n",
    "Additionally, you can:\n",
    "\n",
    "- label using `ULabel`, e.g., `transform.ulabels.add(template_label)`\n",
    "- tag with an indicative `version` string, e.g., `transform.version = \"T1\"; transform.save()`"
   ]
  },
  {
   "cell_type": "markdown",
   "metadata": {},
   "source": [
    ":::{dropdown} Saving a notebook as an artifact\n",
    "\n",
    "Sometimes you might want to save a notebook as an artifact. This is how you can do it:\n",
    "\n",
    "```bash\n",
    "lamin save template1.ipynb --key templates/template1.ipynb --description \"Template for analysis type 1\" --registry artifact\n",
    "```\n",
    "\n",
    ":::"
   ]
  },
  {
   "cell_type": "code",
   "execution_count": null,
   "metadata": {
    "tags": [
     "hide-cell"
    ]
   },
   "outputs": [],
   "source": [
    "# clean up test instance\n",
    "!lamin delete --force test-track"
   ]
  }
 ],
 "metadata": {
  "kernelspec": {
   "display_name": "py39",
   "language": "python",
   "name": "python3"
  },
  "language_info": {
   "codemirror_mode": {
    "name": "ipython",
    "version": 3
   },
   "file_extension": ".py",
   "mimetype": "text/x-python",
   "name": "python",
   "nbconvert_exporter": "python",
   "pygments_lexer": "ipython3",
   "version": "3.10.13"
  },
  "nbproject": {
   "id": "9priar0hoE5u",
   "parent": null,
   "pypackage": null,
   "time_init": "2023-12-04T18:09:49.226879+00:00",
   "user_handle": null,
   "user_id": null,
   "user_name": null,
   "version": "0"
  }
 },
 "nbformat": 4,
 "nbformat_minor": 2
}
