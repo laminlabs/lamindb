{
 "cells": [
  {
   "cell_type": "markdown",
   "metadata": {},
   "source": [
    "# Track notebooks & scripts\n",
    "\n",
    "In addition to tracking Python scripts, LaminDB tracks interactive analyses performed in notebooks.\n",
    "\n",
    "By calling {func}`~lamindb.track` in a notebook or script, input data, and output data get automatically registered associated with the run.\n",
    "\n",
    "```{note}\n",
    "\n",
    "Provenance tracking of notebooks & scripts is analogous to tracking pipelines, scripts & UI data manipulation, see {doc}`docs:project-flow`.\n",
    "```"
   ]
  },
  {
   "cell_type": "markdown",
   "metadata": {},
   "source": [
    "## Setup"
   ]
  },
  {
   "cell_type": "code",
   "execution_count": null,
   "metadata": {
    "tags": [
     "hide-output"
    ]
   },
   "outputs": [],
   "source": [
    "!lamin init --storage ./test-track"
   ]
  },
  {
   "cell_type": "code",
   "execution_count": null,
   "metadata": {},
   "outputs": [],
   "source": [
    "import lamindb as ln\n",
    "\n",
    "ln.settings.verbosity = \"hint\""
   ]
  },
  {
   "cell_type": "markdown",
   "metadata": {},
   "source": [
    "## Initiate tracking"
   ]
  },
  {
   "cell_type": "markdown",
   "metadata": {},
   "source": [
    "Simply call inside a notebook or script:"
   ]
  },
  {
   "cell_type": "code",
   "execution_count": null,
   "metadata": {},
   "outputs": [],
   "source": [
    "ln.track()"
   ]
  },
  {
   "cell_type": "markdown",
   "metadata": {},
   "source": [
    "LaminDB now automatically tracks all input and output data."
   ]
  },
  {
   "cell_type": "markdown",
   "metadata": {},
   "source": [
    "## Save run reports and source artifact"
   ]
  },
  {
   "cell_type": "markdown",
   "metadata": {},
   "source": [
    "If you want to save a notebook including its run report & source artifact, use the CLI command:\n",
    "\n",
    "```bash\n",
    "\n",
    "lamin save <notebook_artifact>\n",
    "```"
   ]
  },
  {
   "cell_type": "markdown",
   "metadata": {},
   "source": [
    "See how transforms with execution reports looks in LaminHub:\n",
    "\n",
    "<img src=\"https://lamin-site-assets.s3.amazonaws.com/.lamindb/RGXj5wcAf7EAc6J8aBoM.png\" width=\"700px\">"
   ]
  },
  {
   "cell_type": "markdown",
   "metadata": {},
   "source": [
    "## Track scripts\n",
    "\n",
    "Similarly, you can track scripts by calling {func}`~lamindb.track` in a script:\n",
    "\n",
    "```python\n",
    "# my_script.py\n",
    "import lamindb as ln\n",
    "\n",
    "\n",
    "if __name__ == \"__main__\":\n",
    "    ln.track()\n",
    "\n",
    "    print(\"hello!\")\n",
    "```\n",
    "\n",
    "Execute the script and save it with CLI:\n",
    "\n",
    "```bash\n",
    "\n",
    "python my_script.py\n",
    "lamin save my_script.py\n",
    "```\n",
    "\n"
   ]
  },
  {
   "cell_type": "markdown",
   "metadata": {},
   "source": [
    "## Query for a notebook"
   ]
  },
  {
   "cell_type": "markdown",
   "metadata": {},
   "source": [
    "In the API, filter the {class}`~lamindb.Transform` registry to obtain a notebook record:\n",
    "\n",
    "```python\n",
    "import lamindb as ln\n",
    "\n",
    "\n",
    "transform = ln.Transform.filter(name=\"Track notebooks\").one()\n",
    "# Your notebook is linked with to its source artifact (stripped of its output cells) and execution report (with the notebook's output cells)\n",
    "transform.source_artifact\n",
    "transform.latest_report\n",
    "```"
   ]
  },
  {
   "cell_type": "markdown",
   "metadata": {},
   "source": [
    "On LaminHub, use the UI filter in the `Transforms` view."
   ]
  },
  {
   "cell_type": "code",
   "execution_count": null,
   "metadata": {
    "tags": [
     "hide-cell"
    ]
   },
   "outputs": [],
   "source": [
    "# clean up test instance\n",
    "!lamin delete --force test-track\n",
    "!rm -r test-track"
   ]
  }
 ],
 "metadata": {
  "kernelspec": {
   "display_name": "py39",
   "language": "python",
   "name": "python3"
  },
  "language_info": {
   "artifact_extension": ".py",
   "codemirror_mode": {
    "name": "ipython",
    "version": 3
   },
   "mimetype": "text/x-python",
   "name": "python",
   "nbconvert_exporter": "python",
   "pygments_lexer": "ipython3",
   "version": "3.9.16"
  },
  "nbproject": {
   "id": "9priar0hoE5u",
   "parent": null,
   "pypackage": null,
   "time_init": "2023-12-04T18:09:49.226879+00:00",
   "user_handle": null,
   "user_id": null,
   "user_name": null,
   "version": "0"
  }
 },
 "nbformat": 4,
 "nbformat_minor": 2
}
