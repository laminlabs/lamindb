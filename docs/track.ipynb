{
 "cells": [
  {
   "cell_type": "markdown",
   "metadata": {},
   "source": [
    "# Track notebooks & scripts\n",
    "\n",
    "This guide explains how to use {meth}`~lamindb.track` & {meth}`~lamindb.finish` to track notebook & scripts along with their inputs and outputs.\n",
    "\n",
    "For tracking data lineage in pipelines, see {doc}`docs:pipelines`."
   ]
  },
  {
   "cell_type": "code",
   "execution_count": null,
   "metadata": {
    "tags": [
     "hide-output"
    ]
   },
   "outputs": [],
   "source": [
    "# !pip install 'lamindb[jupyter]'\n",
    "!lamin init --storage ./test-track"
   ]
  },
  {
   "cell_type": "markdown",
   "metadata": {},
   "source": [
    "## Track data lineage"
   ]
  },
  {
   "cell_type": "markdown",
   "metadata": {},
   "source": [
    "Call {meth}`~lamindb.track` to register a data transformation and start tracking inputs & outputs of a run. You will find your notebook or script in the {class}`~lamindb.Transform` registry along with pipelines & functions. {class}`~lamindb.Run` stores executions."
   ]
  },
  {
   "cell_type": "markdown",
   "metadata": {},
   "source": [
    "```python\n",
    "import lamindb as ln\n",
    "\n",
    "# --> `ln.track()` generates a uid for your code\n",
    "# --> `ln.track(uid)` initiates a tracked run\n",
    "ln.track(\"9priar0hoE5u0000\")\n",
    "\n",
    "# your code\n",
    "\n",
    "ln.finish()  # mark run as finished, save execution report, source code & environment\n",
    "```"
   ]
  },
  {
   "cell_type": "markdown",
   "metadata": {},
   "source": [
    "Below is how [a notebook](https://lamin.ai/laminlabs/lamindata/transform/PtTXoc0RbOIq65cN) with run report looks on the hub.\n",
    "\n",
    "<img src=\"https://lamin-site-assets.s3.amazonaws.com/.lamindb/RGXj5wcAf7EAc6J8dJfH.png\" width=\"900px\">"
   ]
  },
  {
   "cell_type": "markdown",
   "metadata": {},
   "source": [
    "## Query & load a notebook or script"
   ]
  },
  {
   "cell_type": "markdown",
   "metadata": {},
   "source": [
    "In the API, filter {class}`~lamindb.Transform` to obtain a transform record:\n",
    "\n",
    "```python\n",
    "transform = ln.Transform.get(name=\"Track notebooks & scripts\")\n",
    "transform.source_code  # source code\n",
    "transform.latest_run.report  # report of latest run\n",
    "transform.latest_run.environment  # environment of latest run\n",
    "transform.runs  # all runs\n",
    "```"
   ]
  },
  {
   "cell_type": "markdown",
   "metadata": {},
   "source": [
    "On the hub, search or filter the `transform` page and then load a script or notebook on the CLI. For example,\n",
    "\n",
    "```bash\n",
    "lamin load https://lamin.ai/laminlabs/lamindata/transform/13VINnFk89PE0004\n",
    "```"
   ]
  },
  {
   "cell_type": "markdown",
   "metadata": {},
   "source": [
    "## Sync scripts with GitHub"
   ]
  },
  {
   "cell_type": "markdown",
   "metadata": {},
   "source": [
    "To sync with your git commit, add the following line to your script:\n",
    "\n",
    "```python\n",
    "ln.settings.sync_git_repo = <YOUR-GIT-REPO-URL>\n",
    "```"
   ]
  },
  {
   "cell_type": "markdown",
   "metadata": {},
   "source": [
    "```{eval-rst}\n",
    ".. literalinclude:: scripts/synced-with-git.py\n",
    "   :language: python\n",
    "   :caption: synced-with-git.py\n",
    "```"
   ]
  },
  {
   "cell_type": "markdown",
   "metadata": {},
   "source": [
    "You'll now see the GitHub emoji clickable on the hub.\n",
    "\n",
    "<img src=\"https://lamin-site-assets.s3.amazonaws.com/.lamindb/IpV8Kiq4xUbgXhzlUYT7.png\" width=\"900px\">\n",
    "<br>"
   ]
  },
  {
   "cell_type": "markdown",
   "metadata": {},
   "source": [
    "(track-run-parameters)=\n",
    "\n",
    "## Track run parameters"
   ]
  },
  {
   "cell_type": "markdown",
   "metadata": {},
   "source": [
    "LaminDB's validation dialogue auto-generates code for run parameters. Here is an example:"
   ]
  },
  {
   "cell_type": "code",
   "execution_count": null,
   "metadata": {
    "tags": [
     "hide-output"
    ]
   },
   "outputs": [],
   "source": [
    "import lamindb as ln\n",
    "\n",
    "ln.Param(name=\"input_dir\", dtype=\"str\").save()\n",
    "ln.Param(name=\"learning_rate\", dtype=\"float\").save()\n",
    "ln.Param(name=\"preprocess_params\", dtype=\"dict\").save()"
   ]
  },
  {
   "cell_type": "markdown",
   "metadata": {},
   "source": [
    "```{eval-rst}\n",
    ".. literalinclude:: scripts/run-track-with-params.py\n",
    "   :language: python\n",
    "   :caption: run-track-with-params.py\n",
    "```"
   ]
  },
  {
   "cell_type": "markdown",
   "metadata": {},
   "source": [
    "Run the script."
   ]
  },
  {
   "cell_type": "code",
   "execution_count": null,
   "metadata": {
    "tags": [
     "hide-output"
    ]
   },
   "outputs": [],
   "source": [
    "!python scripts/run-track-with-params.py  --input-dir ./mydataset --learning-rate 0.01 --downsample"
   ]
  },
  {
   "cell_type": "markdown",
   "metadata": {},
   "source": [
    "## Query by run parameters"
   ]
  },
  {
   "cell_type": "markdown",
   "metadata": {},
   "source": [
    "Query for all runs that match a certain parameters:"
   ]
  },
  {
   "cell_type": "code",
   "execution_count": null,
   "metadata": {
    "tags": [
     "hide-output"
    ]
   },
   "outputs": [],
   "source": [
    "ln.Run.params.filter(learning_rate=0.01, input_dir=\"./mydataset\", preprocess_params__downsample=True).df()"
   ]
  },
  {
   "cell_type": "markdown",
   "metadata": {},
   "source": [
    "Note that:\n",
    "\n",
    "* `preprocess_params__downsample=True` traverses the dictionary `preprocess_params` to find the key `\"downsample\"` and match it to `True`\n",
    "* nested keys like `\"downsample\"` in a dictionary do not appear in `Param` and hence, do not get validated"
   ]
  },
  {
   "cell_type": "markdown",
   "metadata": {},
   "source": [
    "Below is how you get the parameter values that were used for a given run."
   ]
  },
  {
   "cell_type": "code",
   "execution_count": null,
   "metadata": {
    "tags": [
     "hide-output"
    ]
   },
   "outputs": [],
   "source": [
    "run = ln.Run.params.filter(learning_rate=0.01).order_by(\"-started_at\").first()\n",
    "run.params.get_values()"
   ]
  },
  {
   "cell_type": "markdown",
   "metadata": {},
   "source": [
    "Or [on the hub](https://lamin.ai/laminlabs/lamindata/transform/JjRF4mACd9m00001).\n",
    "\n",
    "<img width=\"500\" alt=\"image\" src=\"https://github.com/user-attachments/assets/d8a5df37-d585-4940-b6f0-91f99b6c436c\">"
   ]
  },
  {
   "cell_type": "markdown",
   "metadata": {},
   "source": [
    "If you want to query all parameter values across all runs, use {class}`~lamindb.core.ParamValue`."
   ]
  },
  {
   "cell_type": "code",
   "execution_count": null,
   "metadata": {
    "tags": [
     "hide-output"
    ]
   },
   "outputs": [],
   "source": [
    "ln.core.ParamValue.df(include=[\"param__name\", \"created_by__handle\"])"
   ]
  },
  {
   "cell_type": "markdown",
   "metadata": {},
   "source": [
    "## Manage notebook templates"
   ]
  },
  {
   "cell_type": "markdown",
   "metadata": {},
   "source": [
    "A notebook acts like a template upon using `lamin load` to load it. Consider you run:\n",
    "\n",
    "```bash\n",
    "lamin load https://lamin.ai/account/instance/transform/Akd7gx7Y9oVO0000\n",
    "```\n",
    "\n",
    "Upon running the returned notebook, you'll automatically create a new version and be able to browse it via the version dropdown on the UI.\n",
    "\n",
    "Additionally, you can:\n",
    "\n",
    "- label using `ULabel`, e.g., `transform.ulabels.add(template_label)`\n",
    "- tag with an indicative `version` string, e.g., `transform.version = \"T1\"; transform.save()`"
   ]
  },
  {
   "cell_type": "markdown",
   "metadata": {},
   "source": [
    ":::{dropdown} Saving a notebook as an artifact\n",
    "\n",
    "Sometimes you might want to save a notebook as an artifact. This is how you can do it:\n",
    "\n",
    "```bash\n",
    "lamin save template1.ipynb --key templates/template1.ipynb --description \"Template for analysis type 1\" --registry artifact\n",
    "```\n",
    "\n",
    ":::"
   ]
  },
  {
   "cell_type": "code",
   "execution_count": null,
   "metadata": {
    "tags": [
     "hide-cell"
    ]
   },
   "outputs": [],
   "source": [
    "assert run.params.get_values() == {'input_dir': './mydataset', 'learning_rate': 0.01, 'preprocess_params': {'downsample': True, 'normalization': 'the_good_one'}}\n",
    "\n",
    "# clean up test instance\n",
    "!rm -r ./test-track\n",
    "!lamin delete --force test-track"
   ]
  }
 ],
 "metadata": {
  "kernelspec": {
   "display_name": "Python 3 (ipykernel)",
   "language": "python",
   "name": "python3"
  },
  "language_info": {
   "codemirror_mode": {
    "name": "ipython",
    "version": 3
   },
   "file_extension": ".py",
   "mimetype": "text/x-python",
   "name": "python",
   "nbconvert_exporter": "python",
   "pygments_lexer": "ipython3",
   "version": "3.10.13"
  },
  "nbproject": {
   "id": "9priar0hoE5u",
   "parent": null,
   "pypackage": null,
   "time_init": "2023-12-04T18:09:49.226879+00:00",
   "user_handle": null,
   "user_id": null,
   "user_name": null,
   "version": "0"
  }
 },
 "nbformat": 4,
 "nbformat_minor": 2
}
