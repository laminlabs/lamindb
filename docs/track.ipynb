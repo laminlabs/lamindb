{
 "cells": [
  {
   "cell_type": "markdown",
   "metadata": {},
   "source": [
    "# Track notebooks & scripts\n",
    "\n",
    "Call {meth}`~lamindb.core.Context.track` to track code along with its inputs and outputs.\n",
    "\n",
    "```{note}\n",
    "\n",
    "Tracking of notebooks & scripts is analogous to tracking data transformations through pipelines, functions & UI, see {doc}`docs:project-flow`.\n",
    "```"
   ]
  },
  {
   "cell_type": "code",
   "execution_count": null,
   "metadata": {
    "tags": [
     "hide-output"
    ]
   },
   "outputs": [],
   "source": [
    "# !pip install 'lamindb[jupyter]'\n",
    "!lamin init --storage ./test-track"
   ]
  },
  {
   "cell_type": "markdown",
   "metadata": {},
   "source": [
    "## Initiate tracking"
   ]
  },
  {
   "cell_type": "markdown",
   "metadata": {},
   "source": [
    "When you first call `ln.context.track()`, it raises an exception and creates a `stem_uid` & `version` to identify a notebook or script in your database.\n",
    "\n",
    "When you call it a second time, `ln.context.track()` saves transform and run records in their registries. The {class}`~lamindb.Transform` registry allows you to find your notebooks, scripts and pipelines. The {class}`~lamindb.Run` registry allows you to find their runs."
   ]
  },
  {
   "cell_type": "code",
   "execution_count": null,
   "metadata": {},
   "outputs": [],
   "source": [
    "import lamindb as ln\n",
    "\n",
    "ln.context.uid = \"9priar0hoE5u0000\"\n",
    "ln.context.track()"
   ]
  },
  {
   "cell_type": "markdown",
   "metadata": {},
   "source": [
    "LaminDB now automatically tracks all input and output data."
   ]
  },
  {
   "cell_type": "markdown",
   "metadata": {},
   "source": [
    "## Save run reports and source code"
   ]
  },
  {
   "cell_type": "markdown",
   "metadata": {},
   "source": [
    "If you want to save the run report & source code for a notebook or script, call:\n",
    "\n",
    "```python\n",
    "ln.finish()\n",
    "```"
   ]
  },
  {
   "cell_type": "markdown",
   "metadata": {},
   "source": [
    "This is how a notebook with run report looks on the hub:\n",
    "\n",
    "<img src=\"https://lamin-site-assets.s3.amazonaws.com/.lamindb/RGXj5wcAf7EAc6J8dJfH.png\" width=\"900px\">"
   ]
  },
  {
   "cell_type": "markdown",
   "metadata": {},
   "source": [
    "## Query for a notebook or script"
   ]
  },
  {
   "cell_type": "markdown",
   "metadata": {},
   "source": [
    "In the API, filter {class}`~lamindb.Transform` to obtain a transform record:\n",
    "\n",
    "```python\n",
    "\n",
    "transform = ln.Transform.filter(name=\"Track notebooks & scripts\").one()\n",
    "transform._source_code_artifact  # source code\n",
    "transform.latest_run.report  # report of latest run\n",
    "transform.runs  # all runs\n",
    "```"
   ]
  },
  {
   "cell_type": "markdown",
   "metadata": {},
   "source": [
    "On the hub, use the search or filter in the `Transform` view."
   ]
  },
  {
   "cell_type": "markdown",
   "metadata": {},
   "source": [
    "## Sync scripts with GitHub"
   ]
  },
  {
   "cell_type": "markdown",
   "metadata": {},
   "source": [
    "To sync with your git commit, add the following line to your script:\n",
    "\n",
    "```python\n",
    "ln.settings.sync_git_repo = <YOUR-GIT-REPO-URL>\n",
    "```"
   ]
  },
  {
   "cell_type": "markdown",
   "metadata": {},
   "source": [
    "A tracked Python script could look like this:\n",
    "\n",
    "```python\n",
    "# my_script.py\n",
    "\n",
    "import lamindb as ln\n",
    "\n",
    "# initiate tracking\n",
    "ln.settings.sync_git_repo = \"https://github.com/...\"\n",
    "ln.settings.transform.stem_uid = \"9priar0hoE5u\"\n",
    "ln.settings.transform.version = \"1\"\n",
    "ln.context.track()\n",
    "\n",
    "# load input artifacts\n",
    "artifact = ln.Artifact.filter(...).one()\n",
    "data = artifact.load()\n",
    "\n",
    "output_data = ...\n",
    "\n",
    "# save output artifacts\n",
    "output_artifact = ln.Artifact(output_data, ...).save()\n",
    "\n",
    "# save the script as transform._source_code_artifact\n",
    "ln.finish()\n",
    "```"
   ]
  },
  {
   "cell_type": "markdown",
   "metadata": {},
   "source": [
    "You'll now see the GitHub emoji clickable on the hub:\n",
    "\n",
    "<img src=\"https://lamin-site-assets.s3.amazonaws.com/.lamindb/IpV8Kiq4xUbgXhzlUYT7.png\" width=\"900px\">\n",
    "<br>"
   ]
  },
  {
   "cell_type": "code",
   "execution_count": null,
   "metadata": {
    "tags": [
     "hide-cell"
    ]
   },
   "outputs": [],
   "source": [
    "# clean up test instance\n",
    "!lamin delete --force test-track"
   ]
  }
 ],
 "metadata": {
  "kernelspec": {
   "display_name": "py39",
   "language": "python",
   "name": "python3"
  },
  "language_info": {
   "codemirror_mode": {
    "name": "ipython",
    "version": 3
   },
   "file_extension": ".py",
   "mimetype": "text/x-python",
   "name": "python",
   "nbconvert_exporter": "python",
   "pygments_lexer": "ipython3",
   "version": "3.10.13"
  },
  "nbproject": {
   "id": "9priar0hoE5u",
   "parent": null,
   "pypackage": null,
   "time_init": "2023-12-04T18:09:49.226879+00:00",
   "user_handle": null,
   "user_id": null,
   "user_name": null,
   "version": "0"
  }
 },
 "nbformat": 4,
 "nbformat_minor": 2
}
