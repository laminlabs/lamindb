{
 "cells": [
  {
   "attachments": {},
   "cell_type": "markdown",
   "id": "21d1f73c",
   "metadata": {},
   "source": [
    "# Query & search registries"
   ]
  },
  {
   "attachments": {},
   "cell_type": "markdown",
   "id": "1e640c6f",
   "metadata": {},
   "source": [
    "Find & access data using registries."
   ]
  },
  {
   "cell_type": "markdown",
   "id": "5ccd1a6b",
   "metadata": {},
   "source": [
    "## Setup"
   ]
  },
  {
   "cell_type": "code",
   "execution_count": null,
   "id": "03242699",
   "metadata": {
    "tags": [
     "hide-output"
    ]
   },
   "outputs": [],
   "source": [
    "!lamin init --storage ./mydata"
   ]
  },
  {
   "cell_type": "code",
   "execution_count": null,
   "id": "3ba53765",
   "metadata": {},
   "outputs": [],
   "source": [
    "import lamindb as ln"
   ]
  },
  {
   "cell_type": "code",
   "execution_count": null,
   "id": "58f1ae0e",
   "metadata": {},
   "outputs": [],
   "source": [
    "ln.settings.verbosity = \"info\""
   ]
  },
  {
   "cell_type": "code",
   "execution_count": null,
   "id": "60925083",
   "metadata": {},
   "outputs": [],
   "source": [
    "ln.track()"
   ]
  },
  {
   "cell_type": "markdown",
   "id": "d832785f",
   "metadata": {},
   "source": [
    "We'll need some toy data:"
   ]
  },
  {
   "cell_type": "code",
   "execution_count": null,
   "id": "e980e41d",
   "metadata": {
    "tags": [
     "hide-output"
    ]
   },
   "outputs": [],
   "source": [
    "ln.File(ln.dev.datasets.file_jpg_paradisi05(), description=\"My image\").save()\n",
    "ln.File(ln.dev.datasets.df_iris(), description=\"The iris dataset\").save()\n",
    "ln.File(ln.dev.datasets.file_fastq(), description=\"My fastq\").save()"
   ]
  },
  {
   "attachments": {},
   "cell_type": "markdown",
   "id": "bbda4807",
   "metadata": {},
   "source": [
    "## Look up metadata"
   ]
  },
  {
   "attachments": {},
   "cell_type": "markdown",
   "id": "5cb551b4",
   "metadata": {},
   "source": [
    "For entities where we don't store more than 100k records, a look up object can be a convenient way of selecting a record.\n",
    "\n",
    "Consider the `User` registry:"
   ]
  },
  {
   "cell_type": "code",
   "execution_count": null,
   "id": "01e2465f",
   "metadata": {},
   "outputs": [],
   "source": [
    "users = ln.User.lookup(field=\"handle\")"
   ]
  },
  {
   "attachments": {},
   "cell_type": "markdown",
   "id": "82a31938",
   "metadata": {},
   "source": [
    "With auto-complete, we find a user:"
   ]
  },
  {
   "cell_type": "code",
   "execution_count": null,
   "id": "31853b49",
   "metadata": {},
   "outputs": [],
   "source": [
    "user = users.testuser1"
   ]
  },
  {
   "cell_type": "code",
   "execution_count": null,
   "id": "b19ac180",
   "metadata": {},
   "outputs": [],
   "source": [
    "user"
   ]
  },
  {
   "attachments": {},
   "cell_type": "markdown",
   "id": "196ffb27",
   "metadata": {},
   "source": [
    ":::{note}\n",
    "\n",
    "You can also auto-complete in a dictionary:\n",
    "\n",
    "```python\n",
    "users_dict = ln.User.lookup().dict()\n",
    "```\n",
    "\n",
    ":::"
   ]
  },
  {
   "attachments": {},
   "cell_type": "markdown",
   "id": "45ac3b5c",
   "metadata": {},
   "source": [
    "## Filter by metadata"
   ]
  },
  {
   "attachments": {},
   "cell_type": "markdown",
   "id": "02b75183",
   "metadata": {},
   "source": [
    "Filter for all files created by a user:"
   ]
  },
  {
   "cell_type": "code",
   "execution_count": null,
   "id": "33c8e061",
   "metadata": {},
   "outputs": [],
   "source": [
    "ln.File.filter(created_by=user).df()"
   ]
  },
  {
   "attachments": {},
   "cell_type": "markdown",
   "id": "02d03b90",
   "metadata": {},
   "source": [
    "To access the query results encoded in a select statement (an extended Django `QuerySet` object), execute it with one of\n",
    "\n",
    "- `.df()`: A pandas `DataFrame` with each record stored as a row.\n",
    "- `.all()`: An indexable django `QuerySet`.\n",
    "- `.list()`: A list of records.\n",
    "- `.one()`: Exactly one record. Will raise an error if there is none.\n",
    "- `.one_or_none()`: Either one record or `None` if there is no query result."
   ]
  },
  {
   "cell_type": "markdown",
   "id": "b762efad",
   "metadata": {},
   "source": [
    "```{note}\n",
    "\n",
    "The ORMs in LaminDB are Django Models and any [Django query](https://docs.djangoproject.com/en/stable/topics/db/queries/) works. LaminDB extends Django's API for data scientists.\n",
    "\n",
    "Under the hood, any `filter()` call translates into a SQL select statement.\n",
    "\n",
    "In SQLAlchemy's & SQLModel's queries, this is more evident as they revolve around `select` statements, which is analogous to the `QuerySet` returned by `filter()`. `.one()` and `.one_or_none()` are two parts of LaminDB's API that are borrowed from SQLAlchemy.\n",
    "\n",
    "```"
   ]
  },
  {
   "attachments": {},
   "cell_type": "markdown",
   "id": "8edf4a74",
   "metadata": {},
   "source": [
    "## Search for metadata"
   ]
  },
  {
   "cell_type": "code",
   "execution_count": null,
   "id": "7ccda1e1",
   "metadata": {},
   "outputs": [],
   "source": [
    "ln.File.search(\"iris\")"
   ]
  },
  {
   "cell_type": "code",
   "execution_count": null,
   "id": "2aa66c4e",
   "metadata": {},
   "outputs": [],
   "source": [
    "ln.File.search(\"iris\", return_queryset=True).first()"
   ]
  },
  {
   "attachments": {},
   "cell_type": "markdown",
   "id": "b8ba2bfe",
   "metadata": {},
   "source": [
    "Let us create 500 notebook objects with fake titles and save them:"
   ]
  },
  {
   "cell_type": "code",
   "execution_count": null,
   "id": "272962fc",
   "metadata": {},
   "outputs": [],
   "source": [
    "ln.save(\n",
    "    [\n",
    "        ln.Transform(name=title, type=\"notebook\")\n",
    "        for title in ln.dev.datasets.fake_bio_notebook_titles(n=500)\n",
    "    ]\n",
    ")"
   ]
  },
  {
   "attachments": {},
   "cell_type": "markdown",
   "id": "48422cb6",
   "metadata": {},
   "source": [
    "We can now search for any combination of terms:"
   ]
  },
  {
   "cell_type": "code",
   "execution_count": null,
   "id": "4b0b0c0c",
   "metadata": {},
   "outputs": [],
   "source": [
    "ln.Transform.search(\"intestine\").head()"
   ]
  },
  {
   "attachments": {},
   "cell_type": "markdown",
   "id": "f85478c0",
   "metadata": {},
   "source": [
    "## Leverage relations"
   ]
  },
  {
   "attachments": {},
   "cell_type": "markdown",
   "id": "ed153341",
   "metadata": {},
   "source": [
    "Django has a double-under-score syntax to filter based on related tables.\n",
    "\n",
    "This syntax enables you to traverse several layers of relations:"
   ]
  },
  {
   "cell_type": "code",
   "execution_count": null,
   "id": "7f9ce71b",
   "metadata": {},
   "outputs": [],
   "source": [
    "ln.File.filter(run__created_by__handle__startswith=\"testuse\").df()"
   ]
  },
  {
   "attachments": {},
   "cell_type": "markdown",
   "id": "8aa6378a",
   "metadata": {},
   "source": [
    "The filter selects all files based on the users who ran the generating notebook.\n",
    "\n",
    "(Under the hood, in the SQL database, it's joining the file table with the run and the user table.)\n",
    "\n"
   ]
  },
  {
   "attachments": {},
   "cell_type": "markdown",
   "id": "28710b83",
   "metadata": {},
   "source": [
    "Beyond `__startswith`, Django supports about [two dozen field comparators](https://docs.djangoproject.com/en/stable/ref/models/querysets/#field-lookups) `field__comparator=value`.\n",
    "\n",
    "Here are some of them."
   ]
  },
  {
   "attachments": {},
   "cell_type": "markdown",
   "id": "d8853dbc",
   "metadata": {},
   "source": [
    "### and"
   ]
  },
  {
   "cell_type": "code",
   "execution_count": null,
   "id": "5b6ec3ca-bea4-4097-897b-94322a64506a",
   "metadata": {},
   "outputs": [],
   "source": [
    "ln.File.filter(suffix=\".jpg\", created_by=user).df()"
   ]
  },
  {
   "attachments": {},
   "cell_type": "markdown",
   "id": "a321d806",
   "metadata": {},
   "source": [
    "### less than/ greater than"
   ]
  },
  {
   "attachments": {},
   "cell_type": "markdown",
   "id": "fdd61cf1-d3c7-4bfb-a0b2-14e81201db03",
   "metadata": {},
   "source": [
    "Or subset to files greater than 10kB. Here, we can't use keyword arguments, but need an explicit where statement."
   ]
  },
  {
   "cell_type": "code",
   "execution_count": null,
   "id": "a7f73e99-614d-443b-b8a1-f1acea0f1538",
   "metadata": {},
   "outputs": [],
   "source": [
    "ln.File.filter(created_by=user, size__lt=1e4).df()"
   ]
  },
  {
   "attachments": {},
   "cell_type": "markdown",
   "id": "5b6efb3d",
   "metadata": {},
   "source": [
    "### or"
   ]
  },
  {
   "cell_type": "code",
   "execution_count": null,
   "id": "0d1b9a73",
   "metadata": {},
   "outputs": [],
   "source": [
    "from django.db.models import Q\n",
    "\n",
    "ln.File.filter().filter(Q(suffix=\".jpg\") | Q(suffix=\".fastq.gz\")).df()"
   ]
  },
  {
   "attachments": {},
   "cell_type": "markdown",
   "id": "3c4e5bbb",
   "metadata": {},
   "source": [
    "### in"
   ]
  },
  {
   "cell_type": "code",
   "execution_count": null,
   "id": "fd26b709",
   "metadata": {},
   "outputs": [],
   "source": [
    "ln.File.filter(suffix__in=[\".jpg\", \".fastq.gz\"]).df()"
   ]
  },
  {
   "attachments": {},
   "cell_type": "markdown",
   "id": "e6332e01",
   "metadata": {},
   "source": [
    "### order by"
   ]
  },
  {
   "cell_type": "code",
   "execution_count": null,
   "id": "b87bec42",
   "metadata": {},
   "outputs": [],
   "source": [
    "ln.File.filter().order_by(\"-updated_at\").df()"
   ]
  },
  {
   "attachments": {},
   "cell_type": "markdown",
   "id": "d35dd13b",
   "metadata": {},
   "source": [
    "### contains"
   ]
  },
  {
   "cell_type": "code",
   "execution_count": null,
   "id": "214b9a56",
   "metadata": {},
   "outputs": [],
   "source": [
    "ln.Transform.filter(name__contains=\"search\").df().head(10)"
   ]
  },
  {
   "cell_type": "markdown",
   "id": "b161e360",
   "metadata": {},
   "source": [
    "And case-insensitive:"
   ]
  },
  {
   "cell_type": "code",
   "execution_count": null,
   "id": "36d300b1",
   "metadata": {},
   "outputs": [],
   "source": [
    "ln.Transform.filter(name__icontains=\"Search\").df().head(10)"
   ]
  },
  {
   "attachments": {},
   "cell_type": "markdown",
   "id": "c403a644",
   "metadata": {},
   "source": [
    "### startswith"
   ]
  },
  {
   "cell_type": "code",
   "execution_count": null,
   "id": "32fc9bd7",
   "metadata": {},
   "outputs": [],
   "source": [
    "ln.Transform.filter(name__startswith=\"Query\").df()"
   ]
  },
  {
   "cell_type": "code",
   "execution_count": null,
   "id": "72b03f8b",
   "metadata": {
    "tags": [
     "hide-cell"
    ]
   },
   "outputs": [],
   "source": [
    "!lamin delete --force mydata"
   ]
  }
 ],
 "metadata": {
  "kernelspec": {
   "display_name": "Python 3 (ipykernel)",
   "language": "python",
   "name": "python3"
  },
  "language_info": {
   "codemirror_mode": {
    "name": "ipython",
    "version": 3
   },
   "file_extension": ".py",
   "mimetype": "text/x-python",
   "name": "python",
   "nbconvert_exporter": "python",
   "pygments_lexer": "ipython3",
   "version": "3.9.16"
  },
  "nbproject": {
   "id": "vldHzF3aTAiW",
   "parent": null,
   "pypackage": null,
   "time_init": "2023-01-07T13:55:55.329707+00:00",
   "user_handle": "testuser1",
   "user_id": "DzTjkKse",
   "user_name": "Test User1",
   "version": "0"
  },
  "vscode": {
   "interpreter": {
    "hash": "ae1fefc8646a06dd2e75004cd934adda7c5727b046986a772e3b44b0ffba9754"
   }
  }
 },
 "nbformat": 4,
 "nbformat_minor": 5
}
