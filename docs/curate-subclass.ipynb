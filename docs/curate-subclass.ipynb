{
 "cells": [
  {
   "cell_type": "markdown",
   "metadata": {},
   "source": [
    "# Subclassing Curator"
   ]
  },
  {
   "cell_type": "markdown",
   "metadata": {},
   "source": [
    "Teams often agree that particular datasets must include a set of predefined columns curated against specific ontologies.\n",
    "This guide shows how to subclass {class}`~lamindb.Curator` to enforce such rules, like the cellxgene curator ({doc}`docs:cellxgene-curate`) does for specified cellxgene schema versions."
   ]
  },
  {
   "cell_type": "code",
   "execution_count": null,
   "metadata": {
    "tags": [
     "hide-output"
    ]
   },
   "outputs": [],
   "source": [
    "!lamin init --storage ./subclass-curator --name subclass-curator --schema bionty"
   ]
  },
  {
   "cell_type": "code",
   "execution_count": null,
   "metadata": {
    "tags": [
     "hide-output"
    ]
   },
   "outputs": [],
   "source": [
    "import lamindb as ln\n",
    "import bionty as bt\n",
    "import pandas as pd\n",
    "\n",
    "ln.track(\"2XEr2IA4n1w40000\")"
   ]
  },
  {
   "cell_type": "markdown",
   "metadata": {},
   "source": [
    "## EHRCurator implementation"
   ]
  },
  {
   "cell_type": "markdown",
   "metadata": {},
   "source": [
    "A clinical team wants to ensure that every electronic health record must have at least the columns 'disease', 'phenotype', 'developmental_stage', and 'age'.\n",
    "Further, these columns must be mapped against specific versions of ontologies."
   ]
  },
  {
   "cell_type": "markdown",
   "metadata": {},
   "source": [
    "We can use all of {class}`~lamindb.core.DataFrameCurator`, {class}`~lamindb.core.AnnDataCurator`, and {class}`~lamindb.core.MuDataCurator` as our base class for our custom Curator.\n",
    "Since we're dealing with tabular EHR data, we go with {class}`~lamindb.core.DataFrameCurator`."
   ]
  },
  {
   "cell_type": "markdown",
   "metadata": {},
   "source": [
    "```{eval-rst}\n",
    ".. literalinclude:: subclass_curator.py\n",
    "   :language: python\n",
    "   :caption: Custom EHR Curator\n",
    "```"
   ]
  },
  {
   "cell_type": "markdown",
   "metadata": {},
   "source": [
    "## Curate with EHRCurator"
   ]
  },
  {
   "cell_type": "code",
   "execution_count": null,
   "metadata": {
    "tags": [
     "hide-output"
    ]
   },
   "outputs": [],
   "source": [
    "# create example DataFrame that has all mandatory columns but one ('patient_age') is wrongly named\n",
    "data = {\n",
    "    'disease': ['Alzheimer disease', 'Diabetes mellitus', 'Breast cancer', 'Hypertension', 'Asthma'],\n",
    "    'phenotype': ['Cognitive decline', 'Hyperglycemia', 'Tumor growth', 'Increased blood pressure', 'Airway inflammation'],\n",
    "    'developmental_stage': ['Adult', 'Adult', 'Adult', 'Adult', 'Child'],\n",
    "    'patient_age': [70, 55, 60, 65, 12],\n",
    "}\n",
    "df = pd.DataFrame(data)\n",
    "df"
   ]
  },
  {
   "cell_type": "code",
   "execution_count": null,
   "metadata": {},
   "outputs": [],
   "source": [
    "from subclass_curator import EHRCurator\n",
    "\n",
    "ehrcurator = EHRCurator(df)"
   ]
  },
  {
   "cell_type": "code",
   "execution_count": null,
   "metadata": {
    "tags": [
     "hide-output"
    ]
   },
   "outputs": [],
   "source": [
    "ehrcurator.validate()"
   ]
  },
  {
   "cell_type": "code",
   "execution_count": null,
   "metadata": {
    "tags": [
     "hide-output"
    ]
   },
   "outputs": [],
   "source": [
    "# Fix the name of wrongly spelled column\n",
    "df.columns = df.columns.str.replace(\"patient_age\", \"age\")"
   ]
  },
  {
   "cell_type": "code",
   "execution_count": null,
   "metadata": {
    "tags": [
     "hide-output"
    ]
   },
   "outputs": [],
   "source": [
    "ehrcurator.validate()"
   ]
  },
  {
   "cell_type": "code",
   "execution_count": null,
   "metadata": {
    "tags": [
     "hide-output"
    ]
   },
   "outputs": [],
   "source": [
    "# Create lookup objects to curate the values\n",
    "disease_lo = bt.Disease.public().lookup()\n",
    "phenotype_lo = bt.Phenotype.public().lookup()\n",
    "developmental_stage_lo = bt.DevelopmentalStage.public().lookup()"
   ]
  },
  {
   "cell_type": "code",
   "execution_count": null,
   "metadata": {
    "tags": [
     "hide-output"
    ]
   },
   "outputs": [],
   "source": [
    "df[\"disease\"] = df[\"disease\"].replace({\"Hypertension\": disease_lo.hypertensive_disorder.name})\n",
    "df[\"phenotype\"] = df[\"phenotype\"].replace({\"Tumor growth\": phenotype_lo.neoplasm.name,\n",
    "                                           \"Airway inflammation\": phenotype_lo.bronchitis.name})\n",
    "df[\"developmental_stage\"] = df[\"developmental_stage\"].replace({\"Adult\": developmental_stage_lo.adolescent_stage.name,\n",
    "                                                               \"Child\": developmental_stage_lo.child_stage.name})"
   ]
  },
  {
   "cell_type": "code",
   "execution_count": null,
   "metadata": {
    "tags": [
     "hide-output"
    ]
   },
   "outputs": [],
   "source": [
    "ehrcurator.validate()"
   ]
  },
  {
   "cell_type": "code",
   "execution_count": null,
   "metadata": {
    "tags": [
     "hide-output"
    ]
   },
   "outputs": [],
   "source": [
    "ehrcurator.add_validated_from(\"disease\")\n",
    "ehrcurator.add_validated_from(\"phenotype\")\n",
    "ehrcurator.add_validated_from(\"developmental_stage\")"
   ]
  },
  {
   "cell_type": "code",
   "execution_count": null,
   "metadata": {
    "tags": [
     "hide-output"
    ]
   },
   "outputs": [],
   "source": [
    "ehrcurator.validate()"
   ]
  },
  {
   "cell_type": "code",
   "execution_count": null,
   "metadata": {
    "tags": [
     "hide-cell"
    ]
   },
   "outputs": [],
   "source": [
    "!rm -rf subclass-curator\n",
    "!lamin delete --force subclass-curator"
   ]
  }
 ],
 "metadata": {
  "kernelspec": {
   "display_name": "lamindb",
   "language": "python",
   "name": "python3"
  },
  "language_info": {
   "codemirror_mode": {
    "name": "ipython",
    "version": 3
   },
   "file_extension": ".py",
   "mimetype": "text/x-python",
   "name": "python",
   "nbconvert_exporter": "python",
   "pygments_lexer": "ipython3",
   "version": "3.11.7"
  }
 },
 "nbformat": 4,
 "nbformat_minor": 2
}
