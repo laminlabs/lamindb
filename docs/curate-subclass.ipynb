{
 "cells": [
  {
   "cell_type": "markdown",
   "metadata": {},
   "source": [
    "# Enforce pre-defined validation constraints"
   ]
  },
  {
   "cell_type": "markdown",
   "metadata": {},
   "source": [
    "In a [previous guide](./curate-df), you defined validation constraints ad-hoc when initializing {class}`~lamindb.Curator` objects.\n",
    "\n",
    "Often, you want to enforce a pre-defined set of validation constraints, like, e.g., the CELLxGENE curator ({doc}`docs:cellxgene-curate`).\n",
    "\n",
    "This guide shows how to subclass {class}`~lamindb.Curator` to enforce pre-defined constraints."
   ]
  },
  {
   "cell_type": "markdown",
   "metadata": {},
   "source": [
    "## Define a custom curator"
   ]
  },
  {
   "cell_type": "markdown",
   "metadata": {},
   "source": [
    "Consider the example of electronic health records (EHR). We want to ensure that\n",
    "\n",
    "1. every record has the fields `disease`, `phenotype`, `developmental_stage`, and `age`\n",
    "2. values for these fields map against specific versions of pre-defined ontologies"
   ]
  },
  {
   "cell_type": "markdown",
   "metadata": {},
   "source": [
    "The following implementation achieves the goal by subclassing {class}`~lamindb.core.DataFrameCurator`."
   ]
  },
  {
   "cell_type": "markdown",
   "metadata": {},
   "source": [
    "```{eval-rst}\n",
    ".. literalinclude:: ehrcurator.py\n",
    "   :language: python\n",
    "   :caption: EHR Curator\n",
    "```"
   ]
  },
  {
   "cell_type": "markdown",
   "metadata": {},
   "source": [
    "## Use the custom curator"
   ]
  },
  {
   "cell_type": "code",
   "execution_count": null,
   "metadata": {},
   "outputs": [],
   "source": [
    "!lamin init --storage ./subclass-curator --schema bionty"
   ]
  },
  {
   "cell_type": "code",
   "execution_count": null,
   "metadata": {},
   "outputs": [],
   "source": [
    "import lamindb as ln\n",
    "import bionty as bt\n",
    "import pandas as pd\n",
    "from ehrcurator import EHRCurator\n",
    "\n",
    "ln.track(\"2XEr2IA4n1w40000\")"
   ]
  },
  {
   "cell_type": "code",
   "execution_count": null,
   "metadata": {
    "tags": [
     "hide-output"
    ]
   },
   "outputs": [],
   "source": [
    "# create example DataFrame that has all mandatory columns but one ('patient_age') is wrongly named\n",
    "data = {\n",
    "    'disease': ['Alzheimer disease', 'diabetes mellitus', 'breast cancer', 'Hypertension', 'asthma'],\n",
    "    'phenotype': ['Mental deterioration', 'Hyperglycemia', 'Tumor growth', 'Increased blood pressure', 'Airway inflammation'],\n",
    "    'developmental_stage': ['Adult', 'Adult', 'Adult', 'Adult', 'Child'],\n",
    "    'patient_age': [70, 55, 60, 65, 12],\n",
    "}\n",
    "df = pd.DataFrame(data)\n",
    "df"
   ]
  },
  {
   "cell_type": "code",
   "execution_count": null,
   "metadata": {
    "tags": [
     "hide-output"
    ]
   },
   "outputs": [],
   "source": [
    "ehrcurator = EHRCurator(df)\n",
    "ehrcurator.validate()"
   ]
  },
  {
   "cell_type": "code",
   "execution_count": null,
   "metadata": {
    "tags": [
     "hide-output"
    ]
   },
   "outputs": [],
   "source": [
    "# Fix the name of wrongly spelled column\n",
    "df.columns = df.columns.str.replace(\"patient_age\", \"age\")\n",
    "ehrcurator.validate()"
   ]
  },
  {
   "cell_type": "code",
   "execution_count": null,
   "metadata": {
    "tags": [
     "hide-output"
    ]
   },
   "outputs": [],
   "source": [
    "# Use lookup objects to curate the values\n",
    "disease_lo = bt.Disease.public().lookup()\n",
    "phenotype_lo = bt.Phenotype.public().lookup()\n",
    "developmental_stage_lo = bt.DevelopmentalStage.public().lookup()\n",
    "\n",
    "df[\"disease\"] = df[\"disease\"].replace({\"Hypertension\": disease_lo.hypertensive_disorder.name})\n",
    "df[\"phenotype\"] = df[\"phenotype\"].replace({\n",
    "    \"Tumor growth\": phenotype_lo.neoplasm.name,\n",
    "    \"Airway inflammation\": phenotype_lo.bronchitis.name}\n",
    ")\n",
    "df[\"developmental_stage\"] = df[\"developmental_stage\"].replace({\n",
    "    \"Adult\": developmental_stage_lo.adolescent_stage.name,\n",
    "    \"Child\": developmental_stage_lo.child_stage.name\n",
    "})\n",
    "\n",
    "ehrcurator.validate()"
   ]
  },
  {
   "cell_type": "code",
   "execution_count": null,
   "metadata": {
    "tags": [
     "hide-cell"
    ]
   },
   "outputs": [],
   "source": [
    "!rm -rf subclass-curator\n",
    "!lamin delete --force subclass-curator"
   ]
  }
 ],
 "metadata": {
  "kernelspec": {
   "display_name": "lamindb",
   "language": "python",
   "name": "python3"
  },
  "language_info": {
   "codemirror_mode": {
    "name": "ipython",
    "version": 3
   },
   "file_extension": ".py",
   "mimetype": "text/x-python",
   "name": "python",
   "nbconvert_exporter": "python",
   "pygments_lexer": "ipython3",
   "version": "3.11.7"
  }
 },
 "nbformat": 4,
 "nbformat_minor": 2
}
