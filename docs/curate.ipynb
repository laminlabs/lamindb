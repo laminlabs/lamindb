{
 "cells": [
  {
   "cell_type": "markdown",
   "id": "0",
   "metadata": {},
   "source": [
    "# Curate datasets\n",
    "\n",
    "Data curation with LaminDB ensures your datasets are **validated**, **standardized**, and **queryable**. This guide shows you how to transform messy, real-world data into clean, annotated datasets.\n",
    "\n",
    "Curating a dataset with LaminDB means three things:\n",
    "- ✅ **Validate** that the dataset matches a desired schema\n",
    "- 🔧 **Standardize** the dataset (e.g., by fixing typos, mapping synonyms) or update registries if validation fails\n",
    "- 🏷️ **Annotate** the dataset by linking it against metadata entities so that it becomes queryable\n",
    "\n",
    "In this guide we'll curate common data structures. Here is a [guide](/faq/curate-any) for the underlying low-level API.\n",
    "\n",
    "Note: If you know either `pydantic` or `pandera`, here is an [FAQ](/faq/pydantic-pandera) that compares LaminDB with both of these tools."
   ]
  },
  {
   "cell_type": "code",
   "execution_count": null,
   "id": "1",
   "metadata": {
    "tags": [
     "hide-output"
    ]
   },
   "outputs": [],
   "source": [
    "# pip install 'lamindb[bionty]'\n",
    "!lamin init --storage ./test-curate --modules bionty"
   ]
  },
  {
   "cell_type": "code",
   "execution_count": null,
   "id": "2",
   "metadata": {
    "tags": [
     "hide-output"
    ]
   },
   "outputs": [],
   "source": [
    "import lamindb as ln\n",
    "\n",
    "ln.track(\"MCeA3reqZG2e\")"
   ]
  },
  {
   "cell_type": "markdown",
   "id": "3",
   "metadata": {},
   "source": [
    "## Schema design patterns\n",
    "\n",
    "A {class}`~lamindb.Schema` in LaminDB is a specification that defines the expected structure, data types, and validation rules for a dataset.\n",
    "\n",
    "Schemas ensure data consistency by defining:\n",
    "- What features (columns/dimensions) should exist in your data\n",
    "- What data types those features should have\n",
    "- What values are valid for categorical features\n",
    "- Which features are required vs optional\n",
    "\n",
    "Key components of a schema:\n",
    "```python\n",
    "schema = ln.Schema(\n",
    "    name=\"experiment_schema\",           # Human-readable name\n",
    "    features=[                          # Required features\n",
    "        ln.Feature(name=\"cell_type\", dtype=bt.CellType),\n",
    "        ln.Feature(name=\"treatment\", dtype=str),\n",
    "    ],\n",
    "    flexible=True,                      # Allow additional features?\n",
    "    otype=\"DataFrame\"                   # Object type (DataFrame, AnnData, etc.)\n",
    ")\n",
    "```\n",
    "\n",
    "For Complex Data Structures:\n",
    "```python\n",
    "# AnnData with multiple \"slots\"\n",
    "adata_schema = ln.Schema(\n",
    "    otype=\"AnnData\",\n",
    "    slots={\n",
    "        \"obs\": cell_metadata_schema,     # Cell annotations\n",
    "        \"var.T\": gene_id_schema          # Gene features  \n",
    "    }\n",
    ")\n",
    "```\n",
    "\n",
    "Before diving into curation, let's understand the different schema approaches and when to use each one. Think of schemas as rules that define what valid data should look like."
   ]
  },
  {
   "cell_type": "markdown",
   "id": "4",
   "metadata": {},
   "source": [
    "### Flexible schema\n",
    "\n",
    "Validates against any features in your existing registries."
   ]
  },
  {
   "cell_type": "markdown",
   "id": "5",
   "metadata": {},
   "source": [
    "```{eval-rst}\n",
    ".. literalinclude:: scripts/define_valid_features.py\n",
    "   :language: python\n",
    "```"
   ]
  },
  {
   "cell_type": "markdown",
   "id": "6",
   "metadata": {},
   "source": [
    "### Minimal required schema"
   ]
  },
  {
   "cell_type": "markdown",
   "id": "7",
   "metadata": {},
   "source": [
    "If we'd like to curate the dataframe with a minimal set of required columns, we can use the following schema."
   ]
  },
  {
   "cell_type": "markdown",
   "id": "8",
   "metadata": {},
   "source": [
    "```{eval-rst}\n",
    ".. literalinclude:: scripts/define_mini_immuno_schema_flexible.py\n",
    "   :language: python\n",
    "```"
   ]
  },
  {
   "cell_type": "markdown",
   "id": "9",
   "metadata": {},
   "source": [
    "## DataFrame"
   ]
  },
  {
   "cell_type": "markdown",
   "id": "10",
   "metadata": {},
   "source": [
    "### Step 1: Load and examine your data"
   ]
  },
  {
   "cell_type": "markdown",
   "id": "11",
   "metadata": {},
   "source": [
    "We'll be working with the mini immuno dataset:"
   ]
  },
  {
   "cell_type": "code",
   "execution_count": null,
   "id": "12",
   "metadata": {
    "tags": [
     "hide-output"
    ]
   },
   "outputs": [],
   "source": [
    "df = ln.core.datasets.mini_immuno.get_dataset1(\n",
    "    with_cell_type_synonym=True, with_cell_type_typo=True\n",
    ")\n",
    "df"
   ]
  },
  {
   "cell_type": "markdown",
   "id": "13",
   "metadata": {},
   "source": [
    "### Step 2: Set up your metadata registries\n",
    "\n",
    "Before creating a schema, ensure your registries have the right features and labels:\n",
    "\n",
    "```{eval-rst}\n",
    ".. literalinclude:: scripts/define_mini_immuno_features_labels.py\n",
    "   :language: python\n",
    "```"
   ]
  },
  {
   "cell_type": "markdown",
   "id": "14",
   "metadata": {},
   "source": [
    "### Step 3: Create your schema"
   ]
  },
  {
   "cell_type": "code",
   "execution_count": null,
   "id": "15",
   "metadata": {},
   "outputs": [],
   "source": [
    "schema = ln.core.datasets.mini_immuno.define_mini_immuno_schema_flexible()\n",
    "schema.describe()"
   ]
  },
  {
   "cell_type": "markdown",
   "id": "16",
   "metadata": {},
   "source": [
    "### Step 4: Initialize Curator and first Validation\n",
    "\n",
    "If you expect the validation to pass, can directly register an artifact by providing the schema:\n",
    "```python\n",
    "\n",
    "artifact = ln.Artifact.from_df(df, key=\"examples/my_curated_dataset.parquet\", schema=schema).save()\n",
    "```"
   ]
  },
  {
   "cell_type": "markdown",
   "id": "17",
   "metadata": {},
   "source": [
    "The {meth}`~lamindb.curators.core.Curator.validate` method validates that your dataset adheres to the criteria defined by the `schema`. It identifies which values are already validated (exist in the registries) and which are potentially problematic (do not yet exist in our registries)."
   ]
  },
  {
   "cell_type": "code",
   "execution_count": null,
   "id": "18",
   "metadata": {
    "tags": [
     "hide-output"
    ]
   },
   "outputs": [],
   "source": [
    "try:\n",
    "    curator = ln.curators.DataFrameCurator(df, schema)\n",
    "    curator.validate()\n",
    "except ln.errors.ValidationError as error:\n",
    "    print(error)"
   ]
  },
  {
   "cell_type": "markdown",
   "id": "19",
   "metadata": {},
   "source": [
    "### Step 5: Fix Validation Issues"
   ]
  },
  {
   "cell_type": "code",
   "execution_count": null,
   "id": "20",
   "metadata": {
    "tags": [
     "hide-output"
    ]
   },
   "outputs": [],
   "source": [
    "# check the non-validated terms\n",
    "curator.cat.non_validated"
   ]
  },
  {
   "cell_type": "markdown",
   "id": "21",
   "metadata": {},
   "source": [
    "For `cell_type_by_expert`, we saw 2 terms are not validated.\n",
    "\n",
    "First, let's standardize synonym \"B-cell\" as suggested"
   ]
  },
  {
   "cell_type": "code",
   "execution_count": null,
   "id": "22",
   "metadata": {
    "tags": [
     "hide-output"
    ]
   },
   "outputs": [],
   "source": [
    "curator.cat.standardize(\"cell_type_by_expert\")"
   ]
  },
  {
   "cell_type": "code",
   "execution_count": null,
   "id": "23",
   "metadata": {
    "tags": [
     "hide-output"
    ]
   },
   "outputs": [],
   "source": [
    "# now we have only one non-validated cell type left\n",
    "curator.cat.non_validated"
   ]
  },
  {
   "cell_type": "markdown",
   "id": "24",
   "metadata": {},
   "source": [
    "For \"CD8-pos alpha-beta T cell\", let's understand which cell type in the public ontology might be the actual match."
   ]
  },
  {
   "cell_type": "code",
   "execution_count": null,
   "id": "25",
   "metadata": {
    "tags": [
     "hide-output"
    ]
   },
   "outputs": [],
   "source": [
    "# to check the correct spelling of categories, pass `public=True` to get a lookup object from public ontologies\n",
    "# use `lookup = curator.cat.lookup()` to get a lookup object of existing records in your instance\n",
    "lookup = curator.cat.lookup(public=True)\n",
    "lookup"
   ]
  },
  {
   "cell_type": "code",
   "execution_count": null,
   "id": "26",
   "metadata": {
    "tags": [
     "hide-output"
    ]
   },
   "outputs": [],
   "source": [
    "# here is an example for the \"cell_type\" column\n",
    "cell_types = lookup[\"cell_type_by_expert\"]\n",
    "cell_types.cd8_positive_alpha_beta_t_cell"
   ]
  },
  {
   "cell_type": "code",
   "execution_count": null,
   "id": "27",
   "metadata": {
    "tags": [
     "hide-output"
    ]
   },
   "outputs": [],
   "source": [
    "# fix the cell type name\n",
    "df[\"cell_type_by_expert\"] = df[\"cell_type_by_expert\"].cat.rename_categories(\n",
    "    {\"CD8-pos alpha-beta T cell\": cell_types.cd8_positive_alpha_beta_t_cell.name}\n",
    ")"
   ]
  },
  {
   "cell_type": "markdown",
   "id": "28",
   "metadata": {},
   "source": [
    "For perturbation, we want to add the new values: \"DMSO\", \"IFNG\""
   ]
  },
  {
   "cell_type": "code",
   "execution_count": null,
   "id": "29",
   "metadata": {
    "tags": [
     "hide-output"
    ]
   },
   "outputs": [],
   "source": [
    "# this adds perturbations that were _not_ validated\n",
    "curator.cat.add_new_from(\"perturbation\")"
   ]
  },
  {
   "cell_type": "code",
   "execution_count": null,
   "id": "30",
   "metadata": {
    "tags": [
     "hide-output"
    ]
   },
   "outputs": [],
   "source": [
    "# validate again\n",
    "curator.validate()"
   ]
  },
  {
   "cell_type": "markdown",
   "id": "31",
   "metadata": {},
   "source": [
    "### Step 6: Save Your Curated Dataset"
   ]
  },
  {
   "cell_type": "code",
   "execution_count": null,
   "id": "32",
   "metadata": {
    "tags": [
     "hide-output"
    ]
   },
   "outputs": [],
   "source": [
    "artifact = curator.save_artifact(key=\"examples/my_curated_dataset.parquet\")"
   ]
  },
  {
   "cell_type": "code",
   "execution_count": null,
   "id": "33",
   "metadata": {
    "tags": [
     "hide-output"
    ]
   },
   "outputs": [],
   "source": [
    "artifact.describe()"
   ]
  },
  {
   "cell_type": "markdown",
   "id": "34",
   "metadata": {},
   "source": [
    "## AnnData"
   ]
  },
  {
   "cell_type": "markdown",
   "id": "35",
   "metadata": {},
   "source": [
    "`AnnData` like all other data structures that follow is a composite structure that stores different arrays in different `slots`."
   ]
  },
  {
   "cell_type": "markdown",
   "id": "36",
   "metadata": {},
   "source": [
    "### Allow a flexible schema"
   ]
  },
  {
   "cell_type": "markdown",
   "id": "37",
   "metadata": {},
   "source": [
    "We can also allow a flexible schema for an `AnnData` and only require that it's indexed with Ensembl gene IDs."
   ]
  },
  {
   "cell_type": "markdown",
   "id": "38",
   "metadata": {},
   "source": [
    "```{eval-rst}\n",
    ".. literalinclude:: scripts/curate_anndata_flexible.py\n",
    "   :language: python\n",
    "   :caption: curate_anndata_flexible.py\n",
    "```"
   ]
  },
  {
   "cell_type": "markdown",
   "id": "39",
   "metadata": {},
   "source": [
    "Let's run the script."
   ]
  },
  {
   "cell_type": "code",
   "execution_count": null,
   "id": "40",
   "metadata": {
    "tags": [
     "hide-output"
    ]
   },
   "outputs": [],
   "source": [
    "!python scripts/curate_anndata_flexible.py"
   ]
  },
  {
   "cell_type": "markdown",
   "id": "41",
   "metadata": {},
   "source": [
    "Under-the-hood, this used the following schema:\n",
    "\n",
    "```{eval-rst}\n",
    ".. literalinclude:: scripts/define_schema_anndata_ensembl_gene_ids_and_valid_features_in_obs.py\n",
    "   :language: python\n",
    "```"
   ]
  },
  {
   "cell_type": "markdown",
   "id": "42",
   "metadata": {},
   "source": [
    "This schema tranposes the `var` DataFrame during curation, so that one validates and annotates the `var.T` schema, i.e., `[ENSG00000153563, ENSG00000010610, ENSG00000170458]`.\n",
    "If one doesn't transpose, one would annotate with the schema of `var`, i.e., `[gene_symbol, gene_type]`.\n",
    "\n",
    "```{eval-rst}\n",
    ".. image:: https://lamin-site-assets.s3.amazonaws.com/.lamindb/gLyfToATM7WUzkWW0001.png\n",
    "    :width: 800px\n",
    "```"
   ]
  },
  {
   "cell_type": "markdown",
   "id": "43",
   "metadata": {},
   "source": [
    "### Fix validation issues"
   ]
  },
  {
   "cell_type": "code",
   "execution_count": null,
   "id": "44",
   "metadata": {},
   "outputs": [],
   "source": [
    "import lamindb as ln"
   ]
  },
  {
   "cell_type": "code",
   "execution_count": null,
   "id": "45",
   "metadata": {
    "tags": [
     "hide-output"
    ]
   },
   "outputs": [],
   "source": [
    "adata = ln.core.datasets.mini_immuno.get_dataset1(\n",
    "    with_gene_typo=True, with_cell_type_typo=True, otype=\"AnnData\"\n",
    ")\n",
    "adata"
   ]
  },
  {
   "cell_type": "code",
   "execution_count": null,
   "id": "46",
   "metadata": {
    "tags": [
     "hide-cell"
    ]
   },
   "outputs": [],
   "source": [
    "schema = ln.examples.schemas.anndata_ensembl_gene_ids_and_valid_features_in_obs()\n",
    "schema.describe()"
   ]
  },
  {
   "cell_type": "markdown",
   "id": "47",
   "metadata": {},
   "source": [
    "Check the slots of a schema:"
   ]
  },
  {
   "cell_type": "code",
   "execution_count": null,
   "id": "48",
   "metadata": {
    "tags": [
     "hide-output"
    ]
   },
   "outputs": [],
   "source": [
    "schema.slots"
   ]
  },
  {
   "cell_type": "code",
   "execution_count": null,
   "id": "49",
   "metadata": {
    "tags": [
     "hide-output"
    ]
   },
   "outputs": [],
   "source": [
    "curator = ln.curators.AnnDataCurator(adata, schema)\n",
    "try:\n",
    "    curator.validate()\n",
    "except ln.errors.ValidationError as error:\n",
    "    print(error)"
   ]
  },
  {
   "cell_type": "markdown",
   "id": "50",
   "metadata": {},
   "source": [
    "As above, we leverage a lookup object with valid cell types to find the correct name."
   ]
  },
  {
   "cell_type": "code",
   "execution_count": null,
   "id": "51",
   "metadata": {},
   "outputs": [],
   "source": [
    "valid_cell_types = curator.slots[\"obs\"].cat.lookup()[\"cell_type_by_expert\"]\n",
    "adata.obs[\"cell_type_by_expert\"] = adata.obs[\n",
    "    \"cell_type_by_expert\"\n",
    "].cat.rename_categories(\n",
    "    {\"CD8-pos alpha-beta T cell\": valid_cell_types.cd8_positive_alpha_beta_t_cell.name}\n",
    ")"
   ]
  },
  {
   "cell_type": "markdown",
   "id": "52",
   "metadata": {},
   "source": [
    "The validated `AnnData` can be subsequently saved as an {class}`~lamindb.Artifact`:"
   ]
  },
  {
   "cell_type": "code",
   "execution_count": null,
   "id": "53",
   "metadata": {},
   "outputs": [],
   "source": [
    "adata.obs.columns"
   ]
  },
  {
   "cell_type": "code",
   "execution_count": null,
   "id": "54",
   "metadata": {},
   "outputs": [],
   "source": [
    "curator.slots[\"var.T\"].cat.add_new_from(\"columns\")"
   ]
  },
  {
   "cell_type": "code",
   "execution_count": null,
   "id": "55",
   "metadata": {},
   "outputs": [],
   "source": [
    "curator.validate()"
   ]
  },
  {
   "cell_type": "code",
   "execution_count": null,
   "id": "56",
   "metadata": {
    "tags": [
     "hide-output"
    ]
   },
   "outputs": [],
   "source": [
    "artifact = curator.save_artifact(key=\"examples/my_curated_anndata.h5ad\")"
   ]
  },
  {
   "cell_type": "markdown",
   "id": "57",
   "metadata": {},
   "source": [
    "Access the schema for each slot:"
   ]
  },
  {
   "cell_type": "code",
   "execution_count": null,
   "id": "58",
   "metadata": {
    "tags": [
     "hide-output"
    ]
   },
   "outputs": [],
   "source": [
    "artifact.features.slots"
   ]
  },
  {
   "cell_type": "markdown",
   "id": "59",
   "metadata": {},
   "source": [
    "The saved artifact has been annotated with validated features and labels:"
   ]
  },
  {
   "cell_type": "code",
   "execution_count": null,
   "id": "60",
   "metadata": {
    "tags": [
     "hide-output"
    ]
   },
   "outputs": [],
   "source": [
    "artifact.describe()"
   ]
  },
  {
   "cell_type": "markdown",
   "id": "61",
   "metadata": {},
   "source": [
    "## MuData"
   ]
  },
  {
   "cell_type": "markdown",
   "id": "62",
   "metadata": {},
   "source": [
    "```{eval-rst}\n",
    ".. literalinclude:: scripts/curate_mudata.py\n",
    "   :language: python\n",
    "   :caption: curate_mudata.py\n",
    "```"
   ]
  },
  {
   "cell_type": "code",
   "execution_count": null,
   "id": "63",
   "metadata": {
    "tags": [
     "hide-output"
    ]
   },
   "outputs": [],
   "source": [
    "!python scripts/curate_mudata.py"
   ]
  },
  {
   "cell_type": "markdown",
   "id": "64",
   "metadata": {},
   "source": [
    "## SpatialData"
   ]
  },
  {
   "cell_type": "markdown",
   "id": "65",
   "metadata": {},
   "source": [
    "```{eval-rst}\n",
    ".. literalinclude:: scripts/define_schema_spatialdata.py\n",
    "   :language: python\n",
    "   :caption: define_schema_spatialdata.py\n",
    "```"
   ]
  },
  {
   "cell_type": "code",
   "execution_count": null,
   "id": "66",
   "metadata": {
    "tags": [
     "hide-output"
    ]
   },
   "outputs": [],
   "source": [
    "!python scripts/define_schema_spatialdata.py"
   ]
  },
  {
   "cell_type": "markdown",
   "id": "67",
   "metadata": {},
   "source": [
    "```{eval-rst}\n",
    ".. literalinclude:: scripts/curate_spatialdata.py\n",
    "   :language: python\n",
    "   :caption: curate_spatialdata.py\n",
    "```"
   ]
  },
  {
   "cell_type": "code",
   "execution_count": null,
   "id": "68",
   "metadata": {
    "tags": [
     "hide-output"
    ]
   },
   "outputs": [],
   "source": [
    "!python scripts/curate_spatialdata.py"
   ]
  },
  {
   "cell_type": "markdown",
   "id": "69",
   "metadata": {},
   "source": [
    "## TiledbsomaExperiment"
   ]
  },
  {
   "cell_type": "markdown",
   "id": "70",
   "metadata": {},
   "source": [
    "```{eval-rst}\n",
    ".. literalinclude:: scripts/curate_soma_experiment.py\n",
    "   :language: python\n",
    "   :caption: curate_soma_experiment.py\n",
    "```"
   ]
  },
  {
   "cell_type": "code",
   "execution_count": null,
   "id": "71",
   "metadata": {
    "tags": [
     "hide-output"
    ]
   },
   "outputs": [],
   "source": [
    "!python scripts/curate_soma_experiment.py"
   ]
  },
  {
   "cell_type": "markdown",
   "id": "72",
   "metadata": {},
   "source": [
    "## Other data structures"
   ]
  },
  {
   "cell_type": "markdown",
   "id": "73",
   "metadata": {},
   "source": [
    "If you have other data structures, read: {doc}`/faq/curate-any`."
   ]
  },
  {
   "cell_type": "code",
   "execution_count": null,
   "id": "74",
   "metadata": {
    "tags": [
     "hide-cell"
    ]
   },
   "outputs": [],
   "source": [
    "!rm -rf ./test-curate\n",
    "!rm -rf ./small_dataset.tiledbsoma\n",
    "!lamin delete --force test-curate"
   ]
  }
 ],
 "metadata": {
  "kernelspec": {
   "display_name": "py311",
   "language": "python",
   "name": "python3"
  },
  "language_info": {
   "codemirror_mode": {
    "name": "ipython",
    "version": 3
   },
   "file_extension": ".py",
   "mimetype": "text/x-python",
   "name": "python",
   "nbconvert_exporter": "python",
   "pygments_lexer": "ipython3",
   "version": "3.11.11"
  },
  "nbproject": {
   "id": "WOK3vP0bNGLx",
   "parent": null,
   "pypackage": null,
   "time_init": "2023-12-20T04:27:49.536493+00:00",
   "user_handle": null,
   "user_id": null,
   "user_name": null,
   "version": "0"
  }
 },
 "nbformat": 4,
 "nbformat_minor": 5
}
