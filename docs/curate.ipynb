{
 "cells": [
  {
   "cell_type": "markdown",
   "id": "0",
   "metadata": {},
   "source": [
    "# Curate datasets\n",
    "\n",
    "Curating a dataset with LaminDB means three things:\n",
    "\n",
    "1. Validate that the dataset matches a desired schema\n",
    "2. In case the dataset doesn't validate, standardize it, e.g., by fixing typos or mapping synonyms\n",
    "3. Annotate the dataset by linking it against metadata entities so that it becomes queryable\n",
    "\n",
    "In this guide we'll curate common data structures. Here is a [guide](/faq/curate-any) for the underlying low-level API."
   ]
  },
  {
   "cell_type": "code",
   "execution_count": null,
   "id": "1",
   "metadata": {
    "tags": [
     "hide-output"
    ]
   },
   "outputs": [],
   "source": [
    "# pip install 'lamindb[bionty]'\n",
    "!lamin init --storage ./test-curate --modules bionty"
   ]
  },
  {
   "cell_type": "code",
   "execution_count": null,
   "id": "2",
   "metadata": {},
   "outputs": [],
   "source": [
    "import lamindb as ln\n",
    "import bionty as bt\n",
    "import pandas as pd\n",
    "\n",
    "ln.track(\"MCeA3reqZG2e\")"
   ]
  },
  {
   "cell_type": "markdown",
   "id": "3",
   "metadata": {},
   "source": [
    "## DataFrame"
   ]
  },
  {
   "cell_type": "markdown",
   "id": "4",
   "metadata": {},
   "source": [
    "### The simple case"
   ]
  },
  {
   "cell_type": "code",
   "execution_count": null,
   "id": "5",
   "metadata": {
    "tags": [
     "hide-output"
    ]
   },
   "outputs": [],
   "source": [
    "df = ln.core.datasets.mini_immuno.get_dataset1()\n",
    "df"
   ]
  },
  {
   "cell_type": "markdown",
   "id": "6",
   "metadata": {},
   "source": [
    "```{eval-rst}\n",
    ".. literalinclude:: scripts/curate_dataframe_flexible.py\n",
    "   :language: python\n",
    "```"
   ]
  },
  {
   "cell_type": "code",
   "execution_count": null,
   "id": "7",
   "metadata": {
    "tags": [
     "hide-output"
    ]
   },
   "outputs": [],
   "source": [
    "!python scripts/curate_dataframe_flexible.py"
   ]
  },
  {
   "cell_type": "markdown",
   "id": "8",
   "metadata": {},
   "source": [
    "Under-the-hood, this used the following schema:\n",
    "\n",
    "```{eval-rst}\n",
    ".. literalinclude:: scripts/define_valid_features.py\n",
    "   :language: python\n",
    "```"
   ]
  },
  {
   "cell_type": "markdown",
   "id": "9",
   "metadata": {},
   "source": [
    "Valid features & labels were defined as:\n",
    "\n",
    "```{eval-rst}\n",
    ".. literalinclude:: scripts/define_mini_immuno_features_labels.py\n",
    "   :language: python\n",
    "```"
   ]
  },
  {
   "cell_type": "markdown",
   "id": "10",
   "metadata": {},
   "source": [
    "### The complicated case"
   ]
  },
  {
   "cell_type": "code",
   "execution_count": null,
   "id": "11",
   "metadata": {
    "tags": [
     "hide-output"
    ]
   },
   "outputs": [],
   "source": [
    "df = ln.core.datasets.mini_immuno.get_dataset1(\n",
    "    with_cell_type_synonym=True, with_cell_type_typo=True\n",
    ")\n",
    "df"
   ]
  },
  {
   "cell_type": "markdown",
   "id": "12",
   "metadata": {},
   "source": [
    "Define a schema to define the minimal (required) columns we expect in the dataframe."
   ]
  },
  {
   "cell_type": "code",
   "execution_count": null,
   "id": "13",
   "metadata": {
    "tags": [
     "hide-output"
    ]
   },
   "outputs": [],
   "source": [
    "schema = ln.Schema(\n",
    "    name=\"My immuno schema\",\n",
    "    features=[\n",
    "        ln.Feature.get(name=\"perturbation\"),\n",
    "        ln.Feature.get(name=\"cell_type_by_model\"),\n",
    "        ln.Feature.get(name=\"cell_type_by_expert\"),\n",
    "        ln.Feature.get(name=\"assay_oid\"),\n",
    "        ln.Feature.get(name=\"donor\"),\n",
    "        ln.Feature.get(name=\"concentration\"),\n",
    "        ln.Feature.get(name=\"treatment_time_h\"),\n",
    "    ],\n",
    ").save()\n",
    "schema.features.df()"
   ]
  },
  {
   "cell_type": "markdown",
   "id": "14",
   "metadata": {},
   "source": [
    "Create a `Curator` using the dataset & the schema."
   ]
  },
  {
   "cell_type": "code",
   "execution_count": null,
   "id": "15",
   "metadata": {
    "tags": [
     "hide-output"
    ]
   },
   "outputs": [],
   "source": [
    "curator = ln.curators.DataFrameCurator(df, schema)"
   ]
  },
  {
   "cell_type": "markdown",
   "id": "16",
   "metadata": {},
   "source": [
    "The {meth}`~lamindb.curators.Curator.validate` method validates that your dataset adheres to the criteria defined by the `schema`. It identifies which values are already validated (exist in our registries) and which are potentially problematic (do not yet exist in our registries)."
   ]
  },
  {
   "cell_type": "code",
   "execution_count": null,
   "id": "17",
   "metadata": {
    "tags": [
     "hide-output"
    ]
   },
   "outputs": [],
   "source": [
    "try:\n",
    "    curator.validate()\n",
    "except ln.errors.ValidationError:\n",
    "    pass"
   ]
  },
  {
   "cell_type": "code",
   "execution_count": null,
   "id": "18",
   "metadata": {
    "tags": [
     "hide-output"
    ]
   },
   "outputs": [],
   "source": [
    "# check the non-validated terms\n",
    "curator.cat.non_validated"
   ]
  },
  {
   "cell_type": "markdown",
   "id": "19",
   "metadata": {},
   "source": [
    "For `cell_type`, we saw that \"cerebral pyramidal neuron\", \"astrocytic glia\" are not validated.\n",
    "\n",
    "First, let's standardize synonym \"astrocytic glia\" as suggested"
   ]
  },
  {
   "cell_type": "code",
   "execution_count": null,
   "id": "20",
   "metadata": {
    "tags": [
     "hide-output"
    ]
   },
   "outputs": [],
   "source": [
    "curator.cat.standardize(\"cell_type_by_expert\")"
   ]
  },
  {
   "cell_type": "code",
   "execution_count": null,
   "id": "21",
   "metadata": {
    "tags": [
     "hide-output"
    ]
   },
   "outputs": [],
   "source": [
    "# now we have only one non-validated cell type left\n",
    "curator.cat.non_validated"
   ]
  },
  {
   "cell_type": "markdown",
   "id": "22",
   "metadata": {},
   "source": [
    "For \"CD8-pos alpha-beta T cell\", let's understand which cell type in the public ontology might be the actual match."
   ]
  },
  {
   "cell_type": "code",
   "execution_count": null,
   "id": "23",
   "metadata": {
    "tags": [
     "hide-output"
    ]
   },
   "outputs": [],
   "source": [
    "# to check the correct spelling of categories, pass `public=True` to get a lookup object from public ontologies\n",
    "# use `lookup = curator.cat.lookup()` to get a lookup object of existing records in your instance\n",
    "lookup = curator.cat.lookup(public=True)\n",
    "lookup"
   ]
  },
  {
   "cell_type": "code",
   "execution_count": null,
   "id": "24",
   "metadata": {
    "tags": [
     "hide-output"
    ]
   },
   "outputs": [],
   "source": [
    "# here is an example for the \"cell_type\" column\n",
    "cell_types = lookup[\"cell_type_by_expert\"]\n",
    "cell_types.cd8_positive_alpha_beta_t_cell"
   ]
  },
  {
   "cell_type": "code",
   "execution_count": null,
   "id": "25",
   "metadata": {
    "tags": [
     "hide-output"
    ]
   },
   "outputs": [],
   "source": [
    "# fix the cell type name\n",
    "df[\"cell_type_by_expert\"] = df[\"cell_type_by_expert\"].cat.rename_categories(\n",
    "    {\"CD8-pos alpha-beta T cell\": cell_types.cd8_positive_alpha_beta_t_cell.name}\n",
    ")"
   ]
  },
  {
   "cell_type": "markdown",
   "id": "26",
   "metadata": {},
   "source": [
    "For perturbation, we want to add the new values: \"DMSO\", \"IFNG\""
   ]
  },
  {
   "cell_type": "code",
   "execution_count": null,
   "id": "27",
   "metadata": {
    "tags": [
     "hide-output"
    ]
   },
   "outputs": [],
   "source": [
    "# this adds perturbations that were _not_ validated\n",
    "curator.cat.add_new_from(\"perturbation\")"
   ]
  },
  {
   "cell_type": "code",
   "execution_count": null,
   "id": "28",
   "metadata": {
    "tags": [
     "hide-output"
    ]
   },
   "outputs": [],
   "source": [
    "# validate again\n",
    "curator.validate()"
   ]
  },
  {
   "cell_type": "markdown",
   "id": "29",
   "metadata": {},
   "source": [
    "Save a curated artifact."
   ]
  },
  {
   "cell_type": "code",
   "execution_count": null,
   "id": "30",
   "metadata": {
    "tags": [
     "hide-output"
    ]
   },
   "outputs": [],
   "source": [
    "artifact = curator.save_artifact(key=\"examples/my_curated_dataset.parquet\")"
   ]
  },
  {
   "cell_type": "code",
   "execution_count": null,
   "id": "31",
   "metadata": {
    "tags": [
     "hide-output"
    ]
   },
   "outputs": [],
   "source": [
    "artifact.describe()"
   ]
  },
  {
   "cell_type": "markdown",
   "id": "32",
   "metadata": {},
   "source": [
    "## AnnData"
   ]
  },
  {
   "cell_type": "markdown",
   "id": "33",
   "metadata": {},
   "source": [
    "### The simple case"
   ]
  },
  {
   "cell_type": "markdown",
   "id": "34",
   "metadata": {},
   "source": [
    "```{eval-rst}\n",
    ".. literalinclude:: scripts/curate_anndata_flexible.py\n",
    "   :language: python\n",
    "```"
   ]
  },
  {
   "cell_type": "code",
   "execution_count": null,
   "id": "35",
   "metadata": {
    "tags": [
     "hide-output"
    ]
   },
   "outputs": [],
   "source": [
    "!python scripts/curate_anndata_flexible.py"
   ]
  },
  {
   "cell_type": "markdown",
   "id": "36",
   "metadata": {},
   "source": [
    "Under-the-hood, this used the following schema:\n",
    "\n",
    "```{eval-rst}\n",
    ".. literalinclude:: scripts/define_schema_anndata_ensembl_gene_ids_and_valid_features_in_obs.py\n",
    "   :language: python\n",
    "```"
   ]
  },
  {
   "cell_type": "markdown",
   "id": "37",
   "metadata": {},
   "source": [
    "This schema tranposes the `var` DataFrame during curation, so that one validates and annotates the `var.T` schema, i.e., `[ENSG00000153563, ENSG00000010610, ENSG00000170458]`.\n",
    "If one doesn't transpose, one would annotate with the schema of `var`, i.e., `[gene_symbol, gene_type]`.\n",
    "\n",
    "```{eval-rst}\n",
    ".. image:: https://lamin-site-assets.s3.amazonaws.com/.lamindb/gLyfToATM7WUzkWW0001.png\n",
    "    :width: 800px\n",
    "```"
   ]
  },
  {
   "cell_type": "markdown",
   "id": "38",
   "metadata": {},
   "source": [
    "### The more complex example"
   ]
  },
  {
   "cell_type": "code",
   "execution_count": null,
   "id": "39",
   "metadata": {
    "tags": [
     "hide-output"
    ]
   },
   "outputs": [],
   "source": [
    "import anndata as ad\n",
    "\n",
    "X = pd.DataFrame(\n",
    "    {\n",
    "        \"ENSG00000081059\": [1, 2, 3],\n",
    "        \"ENSG00000276977\": [4, 5, 6],\n",
    "        \"ENSG00000198851\": [7, 8, 9],\n",
    "        \"ENSG00000010610\": [10, 11, 12],\n",
    "        \"ENSG00000153563\": [13, 14, 15],\n",
    "        \"ENSG00corrupted\": [16, 17, 18],\n",
    "    },\n",
    "    index=df.index,  # because we already curated the dataframe above, it will validate\n",
    ")\n",
    "adata = ad.AnnData(X=X, obs=df)\n",
    "adata"
   ]
  },
  {
   "cell_type": "code",
   "execution_count": null,
   "id": "40",
   "metadata": {},
   "outputs": [],
   "source": [
    "# define var schema\n",
    "var_schema = ln.Schema(\n",
    "    name=\"my_var_schema\",\n",
    "    itype=bt.Gene.ensembl_gene_id,  # identifier type\n",
    "    dtype=int,\n",
    ").save()\n",
    "\n",
    "# define composite schema\n",
    "anndata_schema = ln.Schema(\n",
    "    name=\"small_dataset1_anndata_schema\",\n",
    "    otype=\"AnnData\",  # object type\n",
    "    slots={\"obs\": schema, \"var\": var_schema},\n",
    ").save()"
   ]
  },
  {
   "cell_type": "markdown",
   "id": "41",
   "metadata": {},
   "source": [
    "Check the slots of a schema:"
   ]
  },
  {
   "cell_type": "code",
   "execution_count": null,
   "id": "42",
   "metadata": {
    "tags": [
     "hide-output"
    ]
   },
   "outputs": [],
   "source": [
    "anndata_schema.slots"
   ]
  },
  {
   "cell_type": "code",
   "execution_count": null,
   "id": "43",
   "metadata": {
    "tags": [
     "hide-output"
    ]
   },
   "outputs": [],
   "source": [
    "curator = ln.curators.AnnDataCurator(adata, anndata_schema)\n",
    "try:\n",
    "    curator.validate()\n",
    "except ln.errors.ValidationError:\n",
    "    pass"
   ]
  },
  {
   "cell_type": "markdown",
   "id": "44",
   "metadata": {},
   "source": [
    "Subset the `AnnData` to validated genes only:"
   ]
  },
  {
   "cell_type": "code",
   "execution_count": null,
   "id": "45",
   "metadata": {},
   "outputs": [],
   "source": [
    "adata_validated = adata[:, ~adata.var.index.isin([\"ENSG00corrupted\"])].copy()"
   ]
  },
  {
   "cell_type": "markdown",
   "id": "46",
   "metadata": {},
   "source": [
    "Now let's validate the subsetted object:"
   ]
  },
  {
   "cell_type": "code",
   "execution_count": null,
   "id": "47",
   "metadata": {
    "tags": [
     "hide-output"
    ]
   },
   "outputs": [],
   "source": [
    "curator = ln.curators.AnnDataCurator(adata_validated, anndata_schema)\n",
    "curator.validate()"
   ]
  },
  {
   "cell_type": "markdown",
   "id": "48",
   "metadata": {},
   "source": [
    "The validated `AnnData` can be subsequently saved as an {class}`~lamindb.Artifact`:"
   ]
  },
  {
   "cell_type": "code",
   "execution_count": null,
   "id": "49",
   "metadata": {
    "tags": [
     "hide-output"
    ]
   },
   "outputs": [],
   "source": [
    "artifact = curator.save_artifact(key=\"examples/my_curated_anndata.h5ad\")"
   ]
  },
  {
   "cell_type": "markdown",
   "id": "50",
   "metadata": {},
   "source": [
    "Access the schema for each slot:"
   ]
  },
  {
   "cell_type": "code",
   "execution_count": null,
   "id": "51",
   "metadata": {
    "tags": [
     "hide-output"
    ]
   },
   "outputs": [],
   "source": [
    "artifact.features.slots"
   ]
  },
  {
   "cell_type": "markdown",
   "id": "52",
   "metadata": {},
   "source": [
    "The saved artifact has been annotated with validated features and labels:"
   ]
  },
  {
   "cell_type": "code",
   "execution_count": null,
   "id": "53",
   "metadata": {
    "tags": [
     "hide-output"
    ]
   },
   "outputs": [],
   "source": [
    "artifact.describe()"
   ]
  },
  {
   "cell_type": "markdown",
   "id": "54",
   "metadata": {},
   "source": [
    "If you need more control, you can access `DataFrameCurator` objects for the `\"var\"` and `\"obs\"` slots, respectively."
   ]
  },
  {
   "cell_type": "code",
   "execution_count": null,
   "id": "55",
   "metadata": {
    "tags": [
     "hide-output"
    ]
   },
   "outputs": [],
   "source": [
    "curator.slots"
   ]
  },
  {
   "cell_type": "code",
   "execution_count": null,
   "id": "56",
   "metadata": {
    "tags": [
     "hide-output"
    ]
   },
   "outputs": [],
   "source": [
    "# revert the previous cell type standardization\n",
    "df[\"cell_type_by_expert\"] = df[\"cell_type_by_expert\"].cat.rename_categories(\n",
    "    {\"B cell\": \"B-cell\"}\n",
    ")\n",
    "# an AnnData where a cell type matches a synonym\n",
    "adata_with_synonym = ad.AnnData(X=adata_validated.X, var=adata_validated.var, obs=df)\n",
    "adata_with_synonym"
   ]
  },
  {
   "cell_type": "code",
   "execution_count": null,
   "id": "57",
   "metadata": {
    "tags": [
     "hide-output"
    ]
   },
   "outputs": [],
   "source": [
    "curator = ln.curators.AnnDataCurator(adata_with_synonym, anndata_schema)\n",
    "try:\n",
    "    curator.validate()\n",
    "except ln.errors.ValidationError:\n",
    "    pass"
   ]
  },
  {
   "cell_type": "code",
   "execution_count": null,
   "id": "58",
   "metadata": {
    "tags": [
     "hide-output"
    ]
   },
   "outputs": [],
   "source": [
    "curator.slots[\"obs\"].cat.standardize(\"cell_type_by_expert\")"
   ]
  },
  {
   "cell_type": "code",
   "execution_count": null,
   "id": "59",
   "metadata": {
    "tags": [
     "hide-output"
    ]
   },
   "outputs": [],
   "source": [
    "curator.validate()"
   ]
  },
  {
   "cell_type": "markdown",
   "id": "60",
   "metadata": {},
   "source": [
    "## MuData"
   ]
  },
  {
   "cell_type": "markdown",
   "id": "61",
   "metadata": {},
   "source": [
    "```{eval-rst}\n",
    ".. literalinclude:: scripts/curate-mudata.py\n",
    "   :language: python\n",
    "```"
   ]
  },
  {
   "cell_type": "markdown",
   "id": "62",
   "metadata": {},
   "source": [
    "## SpatialData"
   ]
  },
  {
   "cell_type": "markdown",
   "id": "63",
   "metadata": {},
   "source": [
    "```{eval-rst}\n",
    ".. literalinclude:: scripts/define_schema_spatialdata.py\n",
    "   :language: python\n",
    "   :caption: define_schema_spatialdata.py\n",
    "```"
   ]
  },
  {
   "cell_type": "code",
   "execution_count": null,
   "id": "64",
   "metadata": {
    "tags": [
     "hide-output"
    ]
   },
   "outputs": [],
   "source": [
    "!python scripts/define_schema_spatialdata.py"
   ]
  },
  {
   "cell_type": "markdown",
   "id": "65",
   "metadata": {},
   "source": [
    "```{eval-rst}\n",
    ".. literalinclude:: scripts/curate_spatialdata.py\n",
    "   :language: python\n",
    "   :caption: curate_spatialdata.py\n",
    "```"
   ]
  },
  {
   "cell_type": "code",
   "execution_count": null,
   "id": "66",
   "metadata": {
    "tags": [
     "hide-output"
    ]
   },
   "outputs": [],
   "source": [
    "!python scripts/curate_spatialdata.py"
   ]
  },
  {
   "cell_type": "markdown",
   "id": "67",
   "metadata": {},
   "source": [
    "## Other data structures"
   ]
  },
  {
   "cell_type": "markdown",
   "id": "68",
   "metadata": {},
   "source": [
    "If you have other data structures, read: {doc}`/faq/curate-any`."
   ]
  },
  {
   "cell_type": "code",
   "execution_count": null,
   "id": "69",
   "metadata": {
    "tags": [
     "hide-cell"
    ]
   },
   "outputs": [],
   "source": [
    "!rm -rf ./test-curate\n",
    "!lamin delete --force test-curate"
   ]
  }
 ],
 "metadata": {
  "kernelspec": {
   "display_name": "py312",
   "language": "python",
   "name": "python3"
  },
  "language_info": {
   "codemirror_mode": {
    "name": "ipython",
    "version": 3
   },
   "file_extension": ".py",
   "mimetype": "text/x-python",
   "name": "python",
   "nbconvert_exporter": "python",
   "pygments_lexer": "ipython3",
   "version": "3.12.8"
  },
  "nbproject": {
   "id": "WOK3vP0bNGLx",
   "parent": null,
   "pypackage": null,
   "time_init": "2023-12-20T04:27:49.536493+00:00",
   "user_handle": null,
   "user_id": null,
   "user_name": null,
   "version": "0"
  }
 },
 "nbformat": 4,
 "nbformat_minor": 5
}
