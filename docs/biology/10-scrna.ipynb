{
 "cells": [
  {
   "attachments": {},
   "cell_type": "markdown",
   "metadata": {},
   "source": [
    "# Manage scRNA-seq datasets"
   ]
  },
  {
   "cell_type": "markdown",
   "metadata": {},
   "source": [
    "This illustrates how to manage scRNA-seq datasets in absence of a custom schema.\n",
    "\n",
    "```{toctree}\n",
    ":maxdepth: 1\n",
    ":hidden:\n",
    "\n",
    "scrna-1\n",
    "```"
   ]
  },
  {
   "cell_type": "code",
   "execution_count": null,
   "metadata": {
    "tags": [
     "hide-cell"
    ]
   },
   "outputs": [],
   "source": [
    "!lamin init --storage ./test-scrna --schema bionty"
   ]
  },
  {
   "cell_type": "code",
   "execution_count": null,
   "metadata": {},
   "outputs": [],
   "source": [
    "import lamindb as ln\n",
    "import lnschema_bionty as lb\n",
    "\n",
    "ln.settings.verbosity = 3  # show hints\n",
    "lb.settings.auto_save_parents = (\n",
    "    False  # don't recurse through ontology hierarchies to speed up CI\n",
    ")"
   ]
  },
  {
   "cell_type": "code",
   "execution_count": null,
   "metadata": {},
   "outputs": [],
   "source": [
    "ln.track()"
   ]
  },
  {
   "cell_type": "markdown",
   "metadata": {},
   "source": [
    "## Preparation: registries"
   ]
  },
  {
   "cell_type": "markdown",
   "metadata": {},
   "source": [
    "Let's assume that this is not the first time we work with experimental entities, and hence, our registries are already pre-populated:"
   ]
  },
  {
   "cell_type": "code",
   "execution_count": null,
   "metadata": {
    "tags": [
     "hide-cell"
    ]
   },
   "outputs": [],
   "source": [
    "# assume prepared registries\n",
    "\n",
    "# strain\n",
    "lb.ExperimentalFactor.from_bionty(ontology_id=\"EFO:0004472\").save()\n",
    "record = lb.ExperimentalFactor.select(ontology_id=\"EFO:0004472\").one()\n",
    "record.add_synonym(\"C57BL/6N\")\n",
    "\n",
    "# developmental stage\n",
    "lb.ExperimentalFactor.from_bionty(ontology_id=\"EFO:0001272\").save()\n",
    "\n",
    "# tissue\n",
    "lb.Tissue.from_bionty(ontology_id=\"UBERON:0001542\").save()\n",
    "\n",
    "# cell types\n",
    "ln.save(lb.CellType.from_values([\"CL:0000115\", \"CL:0000738\"], \"ontology_id\"))"
   ]
  },
  {
   "cell_type": "code",
   "execution_count": null,
   "metadata": {},
   "outputs": [],
   "source": [
    "ln.view(schema=\"bionty\", orms=[\"CellType\", \"ExperimentalFactor\", \"Tissue\"], n=5)"
   ]
  },
  {
   "attachments": {},
   "cell_type": "markdown",
   "metadata": {},
   "source": [
    "## Mouse lymph node cells: Detmar22"
   ]
  },
  {
   "attachments": {},
   "cell_type": "markdown",
   "metadata": {},
   "source": [
    "We're working with mouse data:"
   ]
  },
  {
   "cell_type": "code",
   "execution_count": null,
   "metadata": {
    "tags": [
     "hide-output"
    ]
   },
   "outputs": [],
   "source": [
    "lb.settings.species = \"mouse\""
   ]
  },
  {
   "attachments": {},
   "cell_type": "markdown",
   "metadata": {},
   "source": [
    "Let's look at a scRNA-seq count matrix in form of an `AnnData` object:"
   ]
  },
  {
   "cell_type": "code",
   "execution_count": null,
   "metadata": {
    "tags": [
     "hide-input"
    ]
   },
   "outputs": [],
   "source": [
    "adata = ln.dev.datasets.anndata_mouse_sc_lymph_node()\n",
    "# The column names are a bit lengthy, let's abbreviate them:\n",
    "adata.obs.columns = (\n",
    "    adata.obs.columns.str.replace(\"Sample Characteristic\", \"\")\n",
    "    .str.replace(\"Factor Value \", \"Factor Value:\", regex=True)\n",
    "    .str.replace(\"Factor Value\\[\", \"Factor Value:\", regex=True)\n",
    "    .str.replace(\" Ontology Term\\[\", \"ontology_id:\", regex=True)\n",
    "    .str.strip(\"[]\")\n",
    "    .str.replace(\"organism part\", \"tissue\")\n",
    "    .str.replace(\"organism\", \"species\")\n",
    "    .str.replace(\"developmental stage\", \"developmental_stage\")\n",
    "    .str.replace(\"cell type\", \"cell_type\")\n",
    ")\n",
    "\n",
    "adata"
   ]
  },
  {
   "attachments": {},
   "cell_type": "markdown",
   "metadata": {},
   "source": [
    "When we create a `File` object from an `AnnData`, we'll automatically link its feature sets and get information about unmapped categories:"
   ]
  },
  {
   "cell_type": "code",
   "execution_count": null,
   "metadata": {},
   "outputs": [],
   "source": [
    "file = ln.File.from_anndata(\n",
    "    adata, description=\"Detmar22\", var_ref=lb.Gene.ensembl_gene_id\n",
    ")"
   ]
  },
  {
   "cell_type": "code",
   "execution_count": null,
   "metadata": {},
   "outputs": [],
   "source": [
    "file.save()"
   ]
  },
  {
   "cell_type": "markdown",
   "metadata": {},
   "source": [
    "The file now has two linked feature sets:"
   ]
  },
  {
   "cell_type": "code",
   "execution_count": null,
   "metadata": {},
   "outputs": [],
   "source": [
    "file.features"
   ]
  },
  {
   "cell_type": "markdown",
   "metadata": {},
   "source": [
    "Some of the metadata can be typed:"
   ]
  },
  {
   "cell_type": "code",
   "execution_count": null,
   "metadata": {
    "tags": [
     "hide-output"
    ]
   },
   "outputs": [],
   "source": [
    "species = lb.Species.from_bionty(name=\"mouse\")\n",
    "strains = lb.ExperimentalFactor.from_values(adata.obs[\"strain\"], \"name\")\n",
    "dev_stages = lb.ExperimentalFactor.from_values(adata.obs[\"developmental_stage\"], \"name\")\n",
    "cell_types = lb.CellType.from_values(adata.obs[\"cell_type\"], \"name\")\n",
    "tissues = lb.Tissue.from_values(adata.obs[\"tissue\"], \"name\")"
   ]
  },
  {
   "cell_type": "code",
   "execution_count": null,
   "metadata": {},
   "outputs": [],
   "source": [
    "file.features.add_labels(species)\n",
    "file.features.add_labels(strains + dev_stages + tissues + cell_types)"
   ]
  },
  {
   "cell_type": "markdown",
   "metadata": {},
   "source": [
    "Metadata that doesn't have corresponding ORMs:"
   ]
  },
  {
   "cell_type": "code",
   "execution_count": null,
   "metadata": {
    "tags": [
     "hide-output"
    ]
   },
   "outputs": [],
   "source": [
    "labels = ln.Label.from_values(adata.obs[\"sex\"])\n",
    "labels += ln.Label.from_values(adata.obs[\"age\"])\n",
    "labels += ln.Label.from_values(adata.obs[\"genotype\"])\n",
    "labels += ln.Label.from_values(adata.obs[\"immunophenotype\"])"
   ]
  },
  {
   "cell_type": "code",
   "execution_count": null,
   "metadata": {},
   "outputs": [],
   "source": [
    "file.features.add_labels(labels)"
   ]
  },
  {
   "cell_type": "markdown",
   "metadata": {},
   "source": [
    "The file is now queryable by everything we linked:"
   ]
  },
  {
   "cell_type": "code",
   "execution_count": null,
   "metadata": {},
   "outputs": [],
   "source": [
    "file.describe()"
   ]
  },
  {
   "cell_type": "markdown",
   "metadata": {},
   "source": [
    "## Human immune cells: Conde22"
   ]
  },
  {
   "cell_type": "code",
   "execution_count": null,
   "metadata": {
    "tags": [
     "hide-output"
    ]
   },
   "outputs": [],
   "source": [
    "lb.settings.species = \"human\""
   ]
  },
  {
   "cell_type": "code",
   "execution_count": null,
   "metadata": {},
   "outputs": [],
   "source": [
    "conde22 = ln.dev.datasets.anndata_human_immune_cells()"
   ]
  },
  {
   "cell_type": "code",
   "execution_count": null,
   "metadata": {
    "tags": [
     "hide-output"
    ]
   },
   "outputs": [],
   "source": [
    "file = ln.File.from_anndata(\n",
    "    conde22, description=\"Conde22\", var_ref=lb.Gene.ensembl_gene_id\n",
    ")\n",
    "file.save()"
   ]
  },
  {
   "cell_type": "markdown",
   "metadata": {},
   "source": [
    "The file has the following linked features:"
   ]
  },
  {
   "cell_type": "code",
   "execution_count": null,
   "metadata": {},
   "outputs": [],
   "source": [
    "file.features"
   ]
  },
  {
   "cell_type": "markdown",
   "metadata": {},
   "source": [
    "Let's now link observational metadata."
   ]
  },
  {
   "cell_type": "code",
   "execution_count": null,
   "metadata": {
    "tags": [
     "hide-output"
    ]
   },
   "outputs": [],
   "source": [
    "cell_types = lb.CellType.from_values(conde22.obs.cell_type, field=\"name\")\n",
    "efs = lb.ExperimentalFactor.from_values(conde22.obs.assay, field=\"name\")\n",
    "tissues = lb.Tissue.from_values(conde22.obs.tissue, field=\"name\")"
   ]
  },
  {
   "cell_type": "code",
   "execution_count": null,
   "metadata": {
    "tags": [
     "hide-output"
    ]
   },
   "outputs": [],
   "source": [
    "file.features.add_labels([lb.settings.species], feature=\"species\")\n",
    "file.features.add_labels(cell_types + efs + tissues)"
   ]
  },
  {
   "cell_type": "markdown",
   "metadata": {},
   "source": [
    "As neither the core schema nor `lnschema_bionty` have a `Donor` table, we're using `Label` to track donor ids:"
   ]
  },
  {
   "cell_type": "code",
   "execution_count": null,
   "metadata": {},
   "outputs": [],
   "source": [
    "donors = ln.Label.from_values(conde22.obs[\"donor_id\"])\n",
    "file.features.add_labels(donors)"
   ]
  },
  {
   "cell_type": "code",
   "execution_count": null,
   "metadata": {},
   "outputs": [],
   "source": [
    "file.describe()"
   ]
  },
  {
   "attachments": {},
   "cell_type": "markdown",
   "metadata": {},
   "source": [
    "## A less well curated dataset"
   ]
  },
  {
   "attachments": {},
   "cell_type": "markdown",
   "metadata": {},
   "source": [
    "Let's now consider a dataset with less-well curated features:"
   ]
  },
  {
   "cell_type": "code",
   "execution_count": null,
   "metadata": {},
   "outputs": [],
   "source": [
    "pbcm68k = ln.dev.datasets.anndata_pbmc68k_reduced()"
   ]
  },
  {
   "attachments": {},
   "cell_type": "markdown",
   "metadata": {},
   "source": [
    "We see that this dataset is indexed by gene symbols: "
   ]
  },
  {
   "cell_type": "code",
   "execution_count": null,
   "metadata": {},
   "outputs": [],
   "source": [
    "pbcm68k.var.index"
   ]
  },
  {
   "cell_type": "markdown",
   "metadata": {},
   "source": [
    "Because gene symbols don't uniquely characterize an Ensembl ID, we're linking more feature records to this file than columns in the `AnnData`.\n",
    "\n",
    "```{tip}\n",
    "\n",
    "Use Ensembl Gene IDs rather than gene Symbols to index genes.\n",
    "\n",
    "```"
   ]
  },
  {
   "cell_type": "code",
   "execution_count": null,
   "metadata": {
    "tags": [
     "hide-output"
    ]
   },
   "outputs": [],
   "source": [
    "file_pbcm68k = ln.File.from_anndata(\n",
    "    pbcm68k, description=\"10x reference pbmc68k\", var_ref=lb.Gene.symbol\n",
    ")\n",
    "file_pbcm68k.save()"
   ]
  },
  {
   "cell_type": "markdown",
   "metadata": {},
   "source": [
    "Link cell types:"
   ]
  },
  {
   "cell_type": "code",
   "execution_count": null,
   "metadata": {
    "tags": [
     "hide-cell"
    ]
   },
   "outputs": [],
   "source": [
    "# inspect shows none of the terms are mappable\n",
    "lb.CellType.inspect(pbcm68k.obs[\"cell_type\"], \"name\")\n",
    "\n",
    "# here we search the cell type names from the public ontology and grab the top match\n",
    "# then add the cell type names from the pbcm68k as synonyms\n",
    "celltype_bt = lb.CellType.bionty()\n",
    "ontology_ids = []\n",
    "for ct in pbcm68k.obs[\"cell_type\"].unique():\n",
    "    ontology_id = celltype_bt.search(ct).iloc[0].ontology_id\n",
    "    record = lb.CellType.from_bionty(ontology_id=ontology_id)\n",
    "    record.save()\n",
    "    record.add_synonym(ct)"
   ]
  },
  {
   "cell_type": "code",
   "execution_count": null,
   "metadata": {
    "tags": [
     "hide-output"
    ]
   },
   "outputs": [],
   "source": [
    "cell_types = lb.CellType.from_values(pbcm68k.obs[\"cell_type\"], \"name\")\n",
    "file_pbcm68k.features.add_labels(cell_types)"
   ]
  },
  {
   "cell_type": "code",
   "execution_count": null,
   "metadata": {},
   "outputs": [],
   "source": [
    "file_pbcm68k.describe()"
   ]
  },
  {
   "cell_type": "markdown",
   "metadata": {},
   "source": [
    "🎉 Now let's continue with data integration: {doc}`/biology/scrna-1`"
   ]
  }
 ],
 "metadata": {
  "kernelspec": {
   "display_name": "Python 3 (ipykernel)",
   "language": "python",
   "name": "python3"
  },
  "language_info": {
   "codemirror_mode": {
    "name": "ipython",
    "version": 3
   },
   "file_extension": ".py",
   "mimetype": "text/x-python",
   "name": "python",
   "nbconvert_exporter": "python",
   "pygments_lexer": "ipython3",
   "version": "3.9.16"
  },
  "nbproject": {
   "id": "Nv48yAceNSh8",
   "parent": null,
   "time_init": "2022-11-11T08:26:30.848866+00:00",
   "user_handle": "testuser2",
   "user_id": "bKeW4T6E",
   "user_name": "Test User2",
   "version": "0"
  },
  "vscode": {
   "interpreter": {
    "hash": "ae1fefc8646a06dd2e75004cd934adda7c5727b046986a772e3b44b0ffba9754"
   }
  }
 },
 "nbformat": 4,
 "nbformat_minor": 4
}
