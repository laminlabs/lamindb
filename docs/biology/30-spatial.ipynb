{
 "cells": [
  {
   "cell_type": "markdown",
   "metadata": {},
   "source": [
    "# Manage spatial data"
   ]
  },
  {
   "cell_type": "code",
   "execution_count": null,
   "metadata": {},
   "outputs": [],
   "source": [
    "import matplotlib.pyplot as plt\n",
    "import scanpy as sc\n",
    "import lamindb as ln\n",
    "\n",
    "ln.settings.verbosity = 3\n",
    "sc.settings.set_figure_params(dpi=120)"
   ]
  },
  {
   "cell_type": "markdown",
   "metadata": {},
   "source": [
    "Here we have a spatial gene expression dataset measured using [Visium](https://www.10xgenomics.com/products/spatial-gene-expression) from [Suo22](https://developmental.cellatlas.io/fetal-immune).\n",
    "\n",
    "This dataset contains two parts:\n",
    "\n",
    "1. a high-res image of a slice of fetal liver\n",
    "2. a single cell expression dataset in .h5ad"
   ]
  },
  {
   "cell_type": "code",
   "execution_count": null,
   "metadata": {},
   "outputs": [],
   "source": [
    "img_path = \"/Users/sunnysun/Downloads/sandbox/suo22/LI_img/F121_LP1_4LIV.tiff\"\n",
    "img = plt.imread(img_path)\n",
    "plt.imshow(img)\n",
    "plt.show()"
   ]
  },
  {
   "cell_type": "code",
   "execution_count": null,
   "metadata": {},
   "outputs": [],
   "source": [
    "adata = sc.read(\"/Users/sunnysun/Downloads/sandbox/suo22/Visium10X_data_LI.h5ad\")\n",
    "# subset to the same image\n",
    "adata = adata[adata.obs[\"img_id\"] == \"F121_LP1_4LIV\"].copy()\n",
    "\n",
    "# plot where CD45+ leukocytes are in the slice\n",
    "sc.pl.scatter(adata, \"array_row\", \"array_col\", color=\"ENSG00000081237\")"
   ]
  },
  {
   "cell_type": "markdown",
   "metadata": {},
   "source": [
    "Here we perform curation of the gene identifiers using bionty (see [here](https://lamin.ai/docs/bionty/tutorials/curate) for more details)."
   ]
  },
  {
   "cell_type": "code",
   "execution_count": null,
   "metadata": {},
   "outputs": [],
   "source": [
    "adata.var.head()"
   ]
  },
  {
   "cell_type": "code",
   "execution_count": null,
   "metadata": {},
   "outputs": [],
   "source": [
    "curated_var = bt.Gene(id=\"ensembl.gene_id\").curate(adata.var)\n",
    "adata.var = curated_var\n",
    "\n",
    "curated_var.head()"
   ]
  },
  {
   "cell_type": "markdown",
   "metadata": {},
   "source": [
    "## Ingest the image into LaminDB"
   ]
  },
  {
   "cell_type": "code",
   "execution_count": null,
   "metadata": {},
   "outputs": [],
   "source": [
    "! lndb init --storage $HOME/mydata"
   ]
  },
  {
   "cell_type": "code",
   "execution_count": null,
   "metadata": {},
   "outputs": [],
   "source": [
    "! lndb login --email \"xiaoji.sun515@gmail.com\""
   ]
  },
  {
   "cell_type": "code",
   "execution_count": null,
   "metadata": {},
   "outputs": [],
   "source": [
    "db.do.ingest(img_path, i_confirm_i_saved=True, integrity=True)"
   ]
  },
  {
   "cell_type": "code",
   "execution_count": null,
   "metadata": {},
   "outputs": [],
   "source": [
    "adata.obs[\"lndb:img_id\"] = \"zRzBfbXJMinfJ9aDo1wK\""
   ]
  }
 ],
 "metadata": {
  "interpreter": {
   "hash": "ae1fefc8646a06dd2e75004cd934adda7c5727b046986a772e3b44b0ffba9754"
  },
  "kernelspec": {
   "display_name": "Python 3.9.13 ('py39')",
   "language": "python",
   "name": "python3"
  },
  "language_info": {
   "codemirror_mode": {
    "name": "ipython",
    "version": 3
   },
   "file_extension": ".py",
   "mimetype": "text/x-python",
   "name": "python",
   "nbconvert_exporter": "python",
   "pygments_lexer": "ipython3",
   "version": "3.9.16"
  },
  "nbproject": {
   "dependency": null,
   "id": "daeFs3PkquDW",
   "time_init": "2022-07-12T17:54:02.478333+00:00",
   "version": "draft"
  }
 },
 "nbformat": 4,
 "nbformat_minor": 2
}
