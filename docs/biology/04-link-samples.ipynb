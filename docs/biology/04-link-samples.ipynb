{
 "cells": [
  {
   "attachments": {},
   "cell_type": "markdown",
   "id": "b5fc74a4",
   "metadata": {},
   "source": [
    "# Track sample-level metadata"
   ]
  },
  {
   "attachments": {},
   "cell_type": "markdown",
   "id": "198a10f0",
   "metadata": {},
   "source": [
    "We already saw how to link data objects to entities representing features during ingestion.\n",
    "\n",
    "For sample-level metadata, the underlying schema is often more complicated, and hence it's best done in a separate step.\n",
    "\n",
    "Here, we walk through this process."
   ]
  },
  {
   "cell_type": "code",
   "execution_count": null,
   "id": "21af215e",
   "metadata": {},
   "outputs": [],
   "source": [
    "import lamindb as ln\n",
    "import lnschema_bionty as lnbt\n",
    "\n",
    "ln.track()"
   ]
  },
  {
   "attachments": {},
   "cell_type": "markdown",
   "id": "f7bffead",
   "metadata": {},
   "source": [
    "Samples, i.e., metadata associated with observations, are linked with the same approach post-ingestion."
   ]
  },
  {
   "attachments": {},
   "cell_type": "markdown",
   "id": "6b5c6550",
   "metadata": {},
   "source": [
    "We'll need to lazily relationships of objects, and hence, we need to keep track of a session."
   ]
  },
  {
   "cell_type": "code",
   "execution_count": null,
   "id": "1d48daa5",
   "metadata": {},
   "outputs": [],
   "source": [
    "ss = ln.Session()"
   ]
  },
  {
   "attachments": {},
   "cell_type": "markdown",
   "id": "6747e862",
   "metadata": {},
   "source": [
    "Let's first query an scRNA-seq dataset stored as an `.h5ad` file."
   ]
  },
  {
   "cell_type": "code",
   "execution_count": null,
   "id": "b43c43e4",
   "metadata": {},
   "outputs": [],
   "source": [
    "file = ss.select(ln.File, suffix=\".h5ad\").first()"
   ]
  },
  {
   "cell_type": "code",
   "execution_count": null,
   "id": "f6163fb2-a387-41f6-b7bc-3190bce55a26",
   "metadata": {},
   "outputs": [],
   "source": [
    "file"
   ]
  },
  {
   "attachments": {},
   "cell_type": "markdown",
   "id": "f78f29e2",
   "metadata": {},
   "source": [
    "For instance, let's annotate a scRNA-seq dataset with its readout type (scRNA-seq), the tissue, and the species."
   ]
  },
  {
   "attachments": {},
   "cell_type": "markdown",
   "id": "93c6a1ea",
   "metadata": {},
   "source": [
    "## Readout"
   ]
  },
  {
   "cell_type": "code",
   "execution_count": null,
   "id": "4b48f82c",
   "metadata": {},
   "outputs": [],
   "source": [
    "readout_bionty = lnbt.Readout.bionty()  # equals to bionty.Readout()\n",
    "readout_bionty_lookup = readout_bionty.lookup()"
   ]
  },
  {
   "cell_type": "code",
   "execution_count": null,
   "id": "87bdec0a",
   "metadata": {},
   "outputs": [],
   "source": [
    "readout_bionty_lookup.single_cell_RNA_sequencing"
   ]
  },
  {
   "cell_type": "code",
   "execution_count": null,
   "id": "dbf8ac7b",
   "metadata": {},
   "outputs": [],
   "source": [
    "readout_record = lnbt.Readout(readout_bionty_lookup.single_cell_RNA_sequencing)\n",
    "\n",
    "readout_record"
   ]
  },
  {
   "attachments": {},
   "cell_type": "markdown",
   "id": "b81e6ddf",
   "metadata": {},
   "source": [
    "### CellType"
   ]
  },
  {
   "cell_type": "code",
   "execution_count": null,
   "id": "dce787a2",
   "metadata": {},
   "outputs": [],
   "source": [
    "celltype_bionty = lnbt.CellType.bionty()  # equals to bionty.CellType()\n",
    "celltype_bionty_lookup = celltype_bionty.lookup()"
   ]
  },
  {
   "cell_type": "code",
   "execution_count": null,
   "id": "8cdc01c8",
   "metadata": {},
   "outputs": [],
   "source": [
    "celltype_bionty_lookup.CD8_positive_alpha_beta_memory_T_cell"
   ]
  },
  {
   "cell_type": "code",
   "execution_count": null,
   "id": "e19e0613",
   "metadata": {},
   "outputs": [],
   "source": [
    "celltype_record = lnbt.CellType(\n",
    "    celltype_bionty_lookup.CD8_positive_alpha_beta_memory_T_cell\n",
    ")"
   ]
  },
  {
   "cell_type": "code",
   "execution_count": null,
   "id": "742d5ac7",
   "metadata": {},
   "outputs": [],
   "source": [
    "celltype_record"
   ]
  },
  {
   "attachments": {},
   "cell_type": "markdown",
   "id": "7e358247-0319-4632-a74f-da17de7eb81d",
   "metadata": {},
   "source": [
    "## Link against file"
   ]
  },
  {
   "attachments": {},
   "cell_type": "markdown",
   "id": "33ad35b8-85c8-4662-bb3f-a7e25b2fb6c4",
   "metadata": {},
   "source": [
    "Link metadata records against the data object:"
   ]
  },
  {
   "cell_type": "code",
   "execution_count": null,
   "id": "7117701d-eda9-4a1a-a011-f2fb1b9c49ff",
   "metadata": {},
   "outputs": [],
   "source": [
    "file.readouts.append(readout_record)"
   ]
  },
  {
   "cell_type": "code",
   "execution_count": null,
   "id": "72d84b8b-7418-4bb9-bf15-aa1af6502d60",
   "metadata": {},
   "outputs": [],
   "source": [
    "file.cell_types.append(celltype_record)"
   ]
  },
  {
   "attachments": {},
   "cell_type": "markdown",
   "id": "fec05be3-6d70-4092-a72f-e5ad24391f9d",
   "metadata": {},
   "source": [
    "## Add to the DB"
   ]
  },
  {
   "attachments": {},
   "cell_type": "markdown",
   "id": "49d4ced3-a587-4808-b2f1-71853861511c",
   "metadata": {},
   "source": [
    "We can add everything to the DB in one transaction:"
   ]
  },
  {
   "cell_type": "code",
   "execution_count": null,
   "id": "35a3f206-6d8a-4102-8bc0-a8ee1819c101",
   "metadata": {},
   "outputs": [],
   "source": [
    "ss.add(file)"
   ]
  },
  {
   "attachments": {},
   "cell_type": "markdown",
   "id": "fab756d7",
   "metadata": {},
   "source": [
    "Let us close the session."
   ]
  },
  {
   "cell_type": "code",
   "execution_count": null,
   "id": "a823c937",
   "metadata": {},
   "outputs": [],
   "source": [
    "ss.close()"
   ]
  },
  {
   "attachments": {},
   "cell_type": "markdown",
   "id": "ba9752fe",
   "metadata": {},
   "source": [
    "```{Tip}\n",
    "\n",
    "Manage `Session` closing with a context manager instead of manually closing it!\n",
    "\n",
    "With it the above would look like:\n",
    "\n",
    "```{code}\n",
    "with ln.Session() as ss:\n",
    "    # manipulate data\n",
    "```"
   ]
  },
  {
   "attachments": {},
   "cell_type": "markdown",
   "id": "1d8e6dc4",
   "metadata": {},
   "source": [
    "## Query file from linked metadata"
   ]
  },
  {
   "cell_type": "code",
   "execution_count": null,
   "id": "e984d97e-c295-4257-a5bf-fb2347ce3678",
   "metadata": {},
   "outputs": [],
   "source": [
    "ln.select(\n",
    "    ln.File.name,\n",
    "    ln.File.suffix,\n",
    "    lnbt.Readout.name,\n",
    "    lnbt.Readout.molecule,\n",
    "    lnbt.Readout.instrument,\n",
    ").where(\n",
    "    ln.File.readouts,\n",
    "    lnbt.Readout.name.contains(\"single-cell\"),\n",
    ").df()"
   ]
  },
  {
   "cell_type": "code",
   "execution_count": null,
   "id": "6350f154",
   "metadata": {},
   "outputs": [],
   "source": [
    "ln.select(\n",
    "    ln.File.name, ln.File.suffix, lnbt.CellType.name, lnbt.CellType.ontology_id\n",
    ").where(\n",
    "    ln.File.cell_types,\n",
    "    lnbt.CellType.name.contains(\"T cell\"),\n",
    ").df()"
   ]
  },
  {
   "attachments": {},
   "cell_type": "markdown",
   "id": "6e6fd0e8",
   "metadata": {},
   "source": [
    "## What's in the database?"
   ]
  },
  {
   "attachments": {},
   "cell_type": "markdown",
   "id": "fd635d73",
   "metadata": {},
   "source": [
    "### Biological entities"
   ]
  },
  {
   "cell_type": "code",
   "execution_count": null,
   "id": "ac24e364",
   "metadata": {},
   "outputs": [],
   "source": [
    "ln.view(schema=\"bionty\")"
   ]
  },
  {
   "cell_type": "code",
   "execution_count": null,
   "id": "063136ef",
   "metadata": {
    "tags": [
     "hide-cell"
    ]
   },
   "outputs": [],
   "source": [
    "# integrity checks\n",
    "with ln.Session() as ss:\n",
    "    mouselymph = ss.select(ln.File, name=\"Mouse Lymph Node scRNA-seq\").one()\n",
    "\n",
    "    mouselymph_hash = mouselymph.hash\n",
    "    assert mouselymph_hash == \"Qprqj0O23197Ko-VobaZiw\"\n",
    "\n",
    "    mouselymph_features_hash = mouselymph.features[0].id\n",
    "    assert mouselymph_features_hash == \"2Mv3JtH-ScBVYHilbLaQ\""
   ]
  }
 ],
 "metadata": {
  "kernelspec": {
   "display_name": "Python 3 (ipykernel)",
   "language": "python",
   "name": "python3"
  },
  "language_info": {
   "codemirror_mode": {
    "name": "ipython",
    "version": 3
   },
   "file_extension": ".py",
   "mimetype": "text/x-python",
   "name": "python",
   "nbconvert_exporter": "python",
   "pygments_lexer": "ipython3",
   "version": "3.9.16"
  },
  "nbproject": {
   "id": "zMCvXplQ8kTk",
   "parent": null,
   "pypackage": null,
   "time_init": "2022-09-02T14:11:03.230995+00:00",
   "version": "0"
  },
  "vscode": {
   "interpreter": {
    "hash": "ae1fefc8646a06dd2e75004cd934adda7c5727b046986a772e3b44b0ffba9754"
   }
  }
 },
 "nbformat": 4,
 "nbformat_minor": 5
}
