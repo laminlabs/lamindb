{
 "cells": [
  {
   "attachments": {},
   "cell_type": "markdown",
   "id": "b5fc74a4",
   "metadata": {},
   "source": [
    "# Track sample-level metadata"
   ]
  },
  {
   "cell_type": "code",
   "execution_count": null,
   "id": "c3ab3e0d",
   "metadata": {},
   "outputs": [],
   "source": [
    "!lamin delete test-link-samples\n",
    "!lamin init --storage ./test-link-samples --schema bionty"
   ]
  },
  {
   "attachments": {},
   "cell_type": "markdown",
   "id": "198a10f0",
   "metadata": {},
   "source": [
    "We already saw how to link data objects to entities representing features during ingestion.\n",
    "\n",
    "For sample-level metadata, the underlying schema is often more complicated, and hence it's best done in a separate step.\n",
    "\n",
    "Here, we walk through this process."
   ]
  },
  {
   "cell_type": "code",
   "execution_count": null,
   "id": "21af215e",
   "metadata": {},
   "outputs": [],
   "source": [
    "import lamindb as ln\n",
    "import lnschema_bionty as lb\n",
    "\n",
    "ln.track()"
   ]
  },
  {
   "attachments": {},
   "cell_type": "markdown",
   "id": "f7bffead",
   "metadata": {},
   "source": [
    "Samples, i.e., metadata associated with observations, are linked with the same approach post-ingestion."
   ]
  },
  {
   "cell_type": "code",
   "execution_count": null,
   "id": "24c51309",
   "metadata": {
    "tags": [
     "hide-cell",
     "hide-output"
    ]
   },
   "outputs": [],
   "source": [
    "ln.add(ln.File(ln.dev.datasets.file_mini_csv()));"
   ]
  },
  {
   "attachments": {},
   "cell_type": "markdown",
   "id": "6747e862",
   "metadata": {},
   "source": [
    "Let's first query an RNA-seq dataset stored as an `.csv` file."
   ]
  },
  {
   "cell_type": "code",
   "execution_count": null,
   "id": "b43c43e4",
   "metadata": {},
   "outputs": [],
   "source": [
    "file = ln.select(ln.File, suffix=\".csv\").first()"
   ]
  },
  {
   "cell_type": "code",
   "execution_count": null,
   "id": "f6163fb2-a387-41f6-b7bc-3190bce55a26",
   "metadata": {},
   "outputs": [],
   "source": [
    "file"
   ]
  },
  {
   "attachments": {},
   "cell_type": "markdown",
   "id": "f78f29e2",
   "metadata": {},
   "source": [
    "For instance, let's annotate a scRNA-seq dataset with its readout type (scRNA-seq), the tissue, and the species."
   ]
  },
  {
   "attachments": {},
   "cell_type": "markdown",
   "id": "93c6a1ea",
   "metadata": {},
   "source": [
    "## Readout"
   ]
  },
  {
   "cell_type": "code",
   "execution_count": null,
   "id": "4b48f82c",
   "metadata": {},
   "outputs": [],
   "source": [
    "readout_bionty = lb.Readout.bionty()  # equals to bionty.Readout()\n",
    "readout_bionty_lookup = readout_bionty.lookup()"
   ]
  },
  {
   "cell_type": "code",
   "execution_count": null,
   "id": "87bdec0a",
   "metadata": {},
   "outputs": [],
   "source": [
    "readout_bionty_lookup.single_cell_RNA_sequencing"
   ]
  },
  {
   "cell_type": "code",
   "execution_count": null,
   "id": "dbf8ac7b",
   "metadata": {},
   "outputs": [],
   "source": [
    "readout_record = lb.Readout.from_bionty(\n",
    "    readout_bionty_lookup.single_cell_RNA_sequencing\n",
    ")\n",
    "\n",
    "ln.add(readout_record)"
   ]
  },
  {
   "attachments": {},
   "cell_type": "markdown",
   "id": "b81e6ddf",
   "metadata": {},
   "source": [
    "### CellType"
   ]
  },
  {
   "cell_type": "code",
   "execution_count": null,
   "id": "dce787a2",
   "metadata": {},
   "outputs": [],
   "source": [
    "celltype_bionty = lb.CellType.bionty()  # equals to bionty.CellType()\n",
    "celltype_bionty_lookup = celltype_bionty.lookup()"
   ]
  },
  {
   "cell_type": "code",
   "execution_count": null,
   "id": "8cdc01c8",
   "metadata": {},
   "outputs": [],
   "source": [
    "celltype_bionty_lookup.CD8_positive_alpha_beta_memory_T_cell"
   ]
  },
  {
   "cell_type": "code",
   "execution_count": null,
   "id": "e19e0613",
   "metadata": {},
   "outputs": [],
   "source": [
    "celltype_record = lb.CellType.from_bionty(\n",
    "    celltype_bionty_lookup.CD8_positive_alpha_beta_memory_T_cell\n",
    ")"
   ]
  },
  {
   "cell_type": "code",
   "execution_count": null,
   "id": "742d5ac7",
   "metadata": {},
   "outputs": [],
   "source": [
    "ln.add(celltype_record)"
   ]
  },
  {
   "attachments": {},
   "cell_type": "markdown",
   "id": "7e358247-0319-4632-a74f-da17de7eb81d",
   "metadata": {},
   "source": [
    "## Link against file"
   ]
  },
  {
   "attachments": {},
   "cell_type": "markdown",
   "id": "33ad35b8-85c8-4662-bb3f-a7e25b2fb6c4",
   "metadata": {},
   "source": [
    "Link metadata records against the data object:"
   ]
  },
  {
   "cell_type": "code",
   "execution_count": null,
   "id": "7117701d-eda9-4a1a-a011-f2fb1b9c49ff",
   "metadata": {},
   "outputs": [],
   "source": [
    "file.readouts.add(readout_record)"
   ]
  },
  {
   "cell_type": "code",
   "execution_count": null,
   "id": "72d84b8b-7418-4bb9-bf15-aa1af6502d60",
   "metadata": {},
   "outputs": [],
   "source": [
    "file.cell_types.add(celltype_record)"
   ]
  },
  {
   "attachments": {},
   "cell_type": "markdown",
   "id": "1d8e6dc4",
   "metadata": {},
   "source": [
    "## Query file from linked metadata"
   ]
  },
  {
   "cell_type": "code",
   "execution_count": null,
   "id": "5c020908",
   "metadata": {},
   "outputs": [],
   "source": [
    "ln.select(ln.File).filter(readouts__name__icontains=\"single-cell\").df()"
   ]
  },
  {
   "cell_type": "code",
   "execution_count": null,
   "id": "d424a284",
   "metadata": {},
   "outputs": [],
   "source": [
    "ln.select(ln.File).filter(cell_types__name__contains=\"T cell\").df()"
   ]
  }
 ],
 "metadata": {
  "kernelspec": {
   "display_name": "Python 3 (ipykernel)",
   "language": "python",
   "name": "python3"
  },
  "language_info": {
   "codemirror_mode": {
    "name": "ipython",
    "version": 3
   },
   "file_extension": ".py",
   "mimetype": "text/x-python",
   "name": "python",
   "nbconvert_exporter": "python",
   "pygments_lexer": "ipython3",
   "version": "3.9.16"
  },
  "nbproject": {
   "id": "zMCvXplQ8kTk",
   "parent": null,
   "pypackage": null,
   "time_init": "2022-09-02T14:11:03.230995+00:00",
   "version": "0"
  },
  "vscode": {
   "interpreter": {
    "hash": "ae1fefc8646a06dd2e75004cd934adda7c5727b046986a772e3b44b0ffba9754"
   }
  }
 },
 "nbformat": 4,
 "nbformat_minor": 5
}
