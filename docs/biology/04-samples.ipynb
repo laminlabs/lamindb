{
 "cells": [
  {
   "attachments": {},
   "cell_type": "markdown",
   "id": "b5fc74a4",
   "metadata": {},
   "source": [
    "# Track biological samples"
   ]
  },
  {
   "attachments": {},
   "cell_type": "markdown",
   "id": "198a10f0",
   "metadata": {},
   "source": [
    "```{note}\n",
    "\n",
    "This guide assumes no custom schema module, and works without a `Biosample` ORM.\n",
    "\n",
    "This is enough for certain drylab operations! If you'd like to track wetlab operations, you'll need custom schema.\n",
    "\n",
    "```"
   ]
  },
  {
   "cell_type": "code",
   "execution_count": null,
   "id": "c3ab3e0d",
   "metadata": {
    "tags": [
     "hide-cell"
    ]
   },
   "outputs": [],
   "source": [
    "!lamin init --storage ./test-samples --schema bionty"
   ]
  },
  {
   "cell_type": "code",
   "execution_count": null,
   "id": "21af215e",
   "metadata": {},
   "outputs": [],
   "source": [
    "import lamindb as ln\n",
    "import lnschema_bionty as lb\n",
    "\n",
    "ln.settings.verbosity = 3  # show hints"
   ]
  },
  {
   "attachments": {},
   "cell_type": "markdown",
   "id": "f7bffead",
   "metadata": {},
   "source": [
    "Samples, i.e., metadata associated with observations, are linked with the same approach post-ingestion."
   ]
  },
  {
   "cell_type": "code",
   "execution_count": null,
   "id": "24c51309",
   "metadata": {
    "tags": [
     "hide-cell",
     "hide-output"
    ]
   },
   "outputs": [],
   "source": [
    "ln.File(ln.dev.datasets.file_mini_csv(), description=\"My mini dataset\").save()"
   ]
  },
  {
   "attachments": {},
   "cell_type": "markdown",
   "id": "6747e862",
   "metadata": {},
   "source": [
    "Let's first query an RNA-seq dataset stored as an `.csv` file."
   ]
  },
  {
   "cell_type": "code",
   "execution_count": null,
   "id": "b43c43e4",
   "metadata": {},
   "outputs": [],
   "source": [
    "file = ln.select(ln.File, suffix=\".csv\").first()"
   ]
  },
  {
   "cell_type": "code",
   "execution_count": null,
   "id": "f6163fb2-a387-41f6-b7bc-3190bce55a26",
   "metadata": {},
   "outputs": [],
   "source": [
    "file"
   ]
  },
  {
   "attachments": {},
   "cell_type": "markdown",
   "id": "f78f29e2",
   "metadata": {},
   "source": [
    "For instance, let's annotate a scRNA-seq dataset with its readout type (scRNA-seq), the tissue, and the species."
   ]
  },
  {
   "attachments": {},
   "cell_type": "markdown",
   "id": "93c6a1ea",
   "metadata": {},
   "source": [
    "## ExperimentalFactor"
   ]
  },
  {
   "cell_type": "code",
   "execution_count": null,
   "id": "4b48f82c",
   "metadata": {},
   "outputs": [],
   "source": [
    "efo_bt = lb.ExperimentalFactor.bionty()  # equals to bionty.ExperimentalFactor()\n",
    "efo_bt_lookup = efo_bt.lookup()"
   ]
  },
  {
   "cell_type": "code",
   "execution_count": null,
   "id": "87bdec0a",
   "metadata": {},
   "outputs": [],
   "source": [
    "efo_bt_lookup.single_cell_rna_sequencing"
   ]
  },
  {
   "cell_type": "code",
   "execution_count": null,
   "id": "dbf8ac7b",
   "metadata": {},
   "outputs": [],
   "source": [
    "efo_record = lb.ExperimentalFactor(efo_bt_lookup.single_cell_rna_sequencing)\n",
    "\n",
    "efo_record.save()"
   ]
  },
  {
   "attachments": {},
   "cell_type": "markdown",
   "id": "b81e6ddf",
   "metadata": {},
   "source": [
    "### CellType"
   ]
  },
  {
   "cell_type": "code",
   "execution_count": null,
   "id": "dce787a2",
   "metadata": {},
   "outputs": [],
   "source": [
    "celltype_bt = lb.CellType.bionty()  # equals to bionty.CellType()\n",
    "celltype_bt_lookup = celltype_bt.lookup()"
   ]
  },
  {
   "cell_type": "code",
   "execution_count": null,
   "id": "8cdc01c8",
   "metadata": {},
   "outputs": [],
   "source": [
    "celltype_bt_lookup.cd8_positive_alpha_beta_cytokine_secreting_effector_t_cell"
   ]
  },
  {
   "cell_type": "code",
   "execution_count": null,
   "id": "e19e0613",
   "metadata": {},
   "outputs": [],
   "source": [
    "celltype_record = lb.CellType(\n",
    "    celltype_bt_lookup.cd8_positive_alpha_beta_cytokine_secreting_effector_t_cell\n",
    ")"
   ]
  },
  {
   "cell_type": "code",
   "execution_count": null,
   "id": "742d5ac7",
   "metadata": {},
   "outputs": [],
   "source": [
    "celltype_record.save()"
   ]
  },
  {
   "attachments": {},
   "cell_type": "markdown",
   "id": "7e358247-0319-4632-a74f-da17de7eb81d",
   "metadata": {},
   "source": [
    "## Link against file"
   ]
  },
  {
   "attachments": {},
   "cell_type": "markdown",
   "id": "33ad35b8-85c8-4662-bb3f-a7e25b2fb6c4",
   "metadata": {},
   "source": [
    "Link metadata records against the data object:"
   ]
  },
  {
   "cell_type": "code",
   "execution_count": null,
   "id": "7117701d-eda9-4a1a-a011-f2fb1b9c49ff",
   "metadata": {},
   "outputs": [],
   "source": [
    "file.experimental_factors.add(efo_record)"
   ]
  },
  {
   "cell_type": "code",
   "execution_count": null,
   "id": "72d84b8b-7418-4bb9-bf15-aa1af6502d60",
   "metadata": {},
   "outputs": [],
   "source": [
    "file.cell_types.add(celltype_record)"
   ]
  },
  {
   "cell_type": "code",
   "execution_count": null,
   "id": "5932f67e",
   "metadata": {},
   "outputs": [],
   "source": [
    "file.describe()"
   ]
  },
  {
   "attachments": {},
   "cell_type": "markdown",
   "id": "1d8e6dc4",
   "metadata": {},
   "source": [
    "## Query file from linked metadata"
   ]
  },
  {
   "cell_type": "code",
   "execution_count": null,
   "id": "25473be0",
   "metadata": {},
   "outputs": [],
   "source": [
    "efos = lb.ExperimentalFactor.lookup()"
   ]
  },
  {
   "cell_type": "code",
   "execution_count": null,
   "id": "5c020908",
   "metadata": {},
   "outputs": [],
   "source": [
    "ln.File.select(experimental_factors=efos.single_cell_rna_sequencing).df()"
   ]
  },
  {
   "cell_type": "code",
   "execution_count": null,
   "id": "18fd0b18",
   "metadata": {},
   "outputs": [],
   "source": [
    "cell_types = lb.CellType.lookup()"
   ]
  },
  {
   "cell_type": "code",
   "execution_count": null,
   "id": "d424a284",
   "metadata": {},
   "outputs": [],
   "source": [
    "ln.File.select(\n",
    "    cell_types=cell_types.cd8_positive_alpha_beta_cytokine_secreting_effector_t_cell\n",
    ").df()"
   ]
  },
  {
   "cell_type": "code",
   "execution_count": null,
   "id": "1d82a8bb",
   "metadata": {
    "tags": [
     "hide-cell"
    ]
   },
   "outputs": [],
   "source": [
    "!lamin delete test-samples\n",
    "!rm -r ./test-samples"
   ]
  }
 ],
 "metadata": {
  "kernelspec": {
   "display_name": "Python 3 (ipykernel)",
   "language": "python",
   "name": "python3"
  },
  "language_info": {
   "codemirror_mode": {
    "name": "ipython",
    "version": 3
   },
   "file_extension": ".py",
   "mimetype": "text/x-python",
   "name": "python",
   "nbconvert_exporter": "python",
   "pygments_lexer": "ipython3",
   "version": "3.9.16"
  },
  "nbproject": {
   "id": "zMCvXplQ8kTk",
   "parent": null,
   "pypackage": null,
   "time_init": "2022-09-02T14:11:03.230995+00:00",
   "version": "0"
  },
  "vscode": {
   "interpreter": {
    "hash": "ae1fefc8646a06dd2e75004cd934adda7c5727b046986a772e3b44b0ffba9754"
   }
  }
 },
 "nbformat": 4,
 "nbformat_minor": 5
}
