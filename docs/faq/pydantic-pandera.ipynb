{
 "cells": [
  {
   "cell_type": "markdown",
   "metadata": {},
   "source": [
    "# Pydantic & Pandera vs. LaminDB"
   ]
  },
  {
   "cell_type": "markdown",
   "metadata": {},
   "source": [
    "This doc explains conceptual differences between data validation with `pydantic`, `pandera`, and `lamindb`."
   ]
  },
  {
   "cell_type": "code",
   "execution_count": null,
   "metadata": {
    "tags": [
     "hide-output"
    ]
   },
   "outputs": [],
   "source": [
    "!lamin init --storage test-pydantic-pandera --modules bionty"
   ]
  },
  {
   "cell_type": "code",
   "execution_count": null,
   "metadata": {
    "tags": [
     "hide-output"
    ]
   },
   "outputs": [],
   "source": [
    "import pandas as pd\n",
    "import pydantic\n",
    "from typing import Literal\n",
    "import lamindb as ln\n",
    "import bionty as bt\n",
    "\n",
    "df = ln.core.datasets.small_dataset1()\n",
    "df"
   ]
  },
  {
   "cell_type": "markdown",
   "metadata": {},
   "source": [
    "## A pydantic model"
   ]
  },
  {
   "cell_type": "code",
   "execution_count": null,
   "metadata": {},
   "outputs": [],
   "source": [
    "Perturbation = Literal[\"DMSO\", \"IFNG\"]\n",
    "CellType = Literal[\"T cell\", \"B cell\"]\n",
    "OntologyID = Literal[\"EFO:0008913\"]\n",
    "\n",
    "\n",
    "class ImmunoSchema(pydantic.BaseModel):\n",
    "    perturbation: Perturbation\n",
    "    cell_type_by_model: CellType\n",
    "    cell_type_by_expert: CellType\n",
    "    assay_oid: OntologyID\n",
    "    donor: str | None\n",
    "    concentration: str\n",
    "    treatment_time_h: int\n",
    "\n",
    "    class Config:\n",
    "        title = \"My immuno schema\""
   ]
  },
  {
   "cell_type": "markdown",
   "metadata": {},
   "source": [
    "## A lamindb schema"
   ]
  },
  {
   "cell_type": "code",
   "execution_count": null,
   "metadata": {
    "tags": [
     "hide-output"
    ]
   },
   "outputs": [],
   "source": [
    "ln.ULabel(name=\"DMSO\").save()  # define a DMSO label\n",
    "ln.ULabel(name=\"IFNG\").save()  # define an IFNG label\n",
    "\n",
    "# leverage ontologies through types ln.ULabel, bt.CellType, bt.ExperimentalFactor\n",
    "schema = ln.Schema(\n",
    "    name=\"My immuno schema\",\n",
    "    features=[\n",
    "        ln.Feature(name=\"perturbation\", dtype=ln.ULabel).save(),\n",
    "        ln.Feature(name=\"cell_type_by_model\", dtype=bt.CellType).save(),\n",
    "        ln.Feature(name=\"cell_type_by_expert\", dtype=bt.CellType).save(),\n",
    "        ln.Feature(name=\"assay_oid\", dtype=bt.ExperimentalFactor.ontology_id).save(),\n",
    "        ln.Feature(name=\"donor\", dtype=str, nullable=True).save(),\n",
    "        ln.Feature(name=\"concentration\", dtype=str).save(),\n",
    "        ln.Feature(name=\"treatment_time_h\", dtype=int).save(),\n",
    "    ],\n",
    ").save()"
   ]
  },
  {
   "cell_type": "markdown",
   "metadata": {},
   "source": [
    "A pandera schema looks essentially the same as a LaminDB schema. LaminDB extends pandera."
   ]
  },
  {
   "cell_type": "markdown",
   "metadata": {},
   "source": [
    "## Validate a dataframe with pydantic"
   ]
  },
  {
   "cell_type": "code",
   "execution_count": null,
   "metadata": {},
   "outputs": [],
   "source": [
    "class DataFrameValidationError(Exception):\n",
    "    pass\n",
    "\n",
    "\n",
    "def validate_dataframe(df: pd.DataFrame, model: type[pydantic.BaseModel]):\n",
    "    errors = []\n",
    "\n",
    "    for i, row in enumerate(df.to_dict(orient=\"records\")):\n",
    "        try:\n",
    "            model(**row)\n",
    "        except pydantic.ValidationError as e:\n",
    "            errors.append(f\"row {i} failed validation: {e}\")\n",
    "\n",
    "    if errors:\n",
    "        error_message = \"\\n\".join(errors)\n",
    "        raise DataFrameValidationError(\n",
    "            f\"DataFrame validation failed with the following errors:\\n{error_message}\"\n",
    "        )"
   ]
  },
  {
   "cell_type": "code",
   "execution_count": null,
   "metadata": {
    "tags": [
     "hide-output"
    ]
   },
   "outputs": [],
   "source": [
    "try:\n",
    "    validate_dataframe(df, ImmunoSchema)\n",
    "except DataFrameValidationError as e:\n",
    "    print(e)"
   ]
  },
  {
   "cell_type": "markdown",
   "metadata": {},
   "source": [
    "To fix this, we need to update the `Literal` and re-run the model definition."
   ]
  },
  {
   "cell_type": "code",
   "execution_count": null,
   "metadata": {},
   "outputs": [],
   "source": [
    "Perturbation = Literal[\"DMSO\", \"IFNG\"]\n",
    "CellType = Literal[\n",
    "    \"T cell\", \"B cell\", \"CD8-positive, alpha-beta T cell\"\n",
    "]  # <-- This was updated\n",
    "OntologyID = Literal[\"EFO:0008913\"]\n",
    "\n",
    "\n",
    "class ImmunoSchema(pydantic.BaseModel):\n",
    "    perturbation: Perturbation\n",
    "    cell_type_by_model: CellType\n",
    "    cell_type_by_expert: CellType\n",
    "    assay_oid: OntologyID\n",
    "    donor: str | None\n",
    "    concentration: str\n",
    "    treatment_time_h: int\n",
    "\n",
    "    class Config:\n",
    "        title = \"My immuno schema\""
   ]
  },
  {
   "cell_type": "code",
   "execution_count": null,
   "metadata": {},
   "outputs": [],
   "source": [
    "validate_dataframe(df, ImmunoSchema)"
   ]
  },
  {
   "cell_type": "markdown",
   "metadata": {},
   "source": [
    "## Validate a DataFrame with lamindb"
   ]
  },
  {
   "cell_type": "code",
   "execution_count": null,
   "metadata": {
    "tags": [
     "hide-output"
    ]
   },
   "outputs": [],
   "source": [
    "curator = ln.curators.DataFrameCurator(df, schema)\n",
    "curator.validate()"
   ]
  },
  {
   "cell_type": "markdown",
   "metadata": {},
   "source": [
    "What was the validation based on? Let's inspect the `CellType` ontology."
   ]
  },
  {
   "cell_type": "code",
   "execution_count": null,
   "metadata": {
    "tags": [
     "hide-output"
    ]
   },
   "outputs": [],
   "source": [
    "bt.CellType.df()"
   ]
  },
  {
   "cell_type": "code",
   "execution_count": null,
   "metadata": {
    "tags": [
     "hide-output"
    ]
   },
   "outputs": [],
   "source": [
    "bt.CellType.get(name=\"CD8-positive, alpha-beta T cell\").view_parents()"
   ]
  },
  {
   "cell_type": "markdown",
   "metadata": {},
   "source": [
    "## Overview of difference in validation properties\n",
    "\n",
    "Importantly, LaminDB offers not only a `DataFrameCurator`, but also a `AnnDataCurator`, `MuDataCurator`, `SpatialDataCurator`, `TiledbsomaCurator`.\n",
    "\n",
    "The below overview only concerns validating dataframes."
   ]
  },
  {
   "cell_type": "markdown",
   "metadata": {},
   "source": [
    "### Experience of data engineer"
   ]
  },
  {
   "cell_type": "markdown",
   "metadata": {},
   "source": [
    "property | `pydantic` | `pandera` | `lamindb`\n",
    "--- | --- | --- | ---\n",
    "define schema as code | yes, in form of a `pydantic.BaseModel` | yes, in form of a `pandera.DataFrameSchema` | yes, in form of a `lamindb.Schema`\n",
    "update labels outside of code | not possible because labels are enums/literals | not possible because labels are hard-coded in `Check` | possible by adding new terms to a registry\n",
    "easily import valid labels from public ontologies | no | no | yes\n",
    "sync ELN/LIMS systems into label registries | no | no | yes\n",
    "can re-use fields/columns/features across schemas | no | only in same Python session | yes because persisted in database\n",
    "can update the schema without fearing that previous datasets are now invalid | no | no | yes because LaminDB allows to query datasets that were validated with a schema version\n",
    "can use columnar organization of dataframe | no, need to iterate over potentially millions of rows | yes | yes"
   ]
  },
  {
   "cell_type": "markdown",
   "metadata": {},
   "source": [
    "### Experience of data consumer"
   ]
  },
  {
   "cell_type": "markdown",
   "metadata": {},
   "source": [
    "property | `pydantic` | `pandera` | `lamindb`\n",
    "--- | --- | --- | ---\n",
    "dataset is queryable / findable | no | no | yes, by querying for labels & features\n",
    "dataset is annotated | no | no | yes\n",
    "user knows what validation constraints were | no, because might not have access to code and doesn't know which code was run | no (same as pydantic) | yes, `artifact.schema` shows "
   ]
  },
  {
   "cell_type": "markdown",
   "metadata": {},
   "source": [
    "## Annotation & queryability"
   ]
  },
  {
   "cell_type": "markdown",
   "metadata": {},
   "source": [
    "### Data engineer: annotate the dataset"
   ]
  },
  {
   "cell_type": "code",
   "execution_count": null,
   "metadata": {
    "tags": [
     "hide-output"
    ]
   },
   "outputs": [],
   "source": [
    "artifact = curator.save_artifact(key=\"our_datasets/dataset1.parquet\")"
   ]
  },
  {
   "cell_type": "markdown",
   "metadata": {},
   "source": [
    "### Data consumer: see annotations"
   ]
  },
  {
   "cell_type": "code",
   "execution_count": null,
   "metadata": {
    "tags": [
     "hide-output"
    ]
   },
   "outputs": [],
   "source": [
    "artifact.describe()"
   ]
  },
  {
   "cell_type": "markdown",
   "metadata": {},
   "source": [
    "### Data consumer: query the artifact by labels"
   ]
  },
  {
   "cell_type": "code",
   "execution_count": null,
   "metadata": {
    "tags": [
     "hide-outut"
    ]
   },
   "outputs": [],
   "source": [
    "ln.Artifact.features.filter(perturbation=\"IFNG\").df()"
   ]
  },
  {
   "cell_type": "markdown",
   "metadata": {},
   "source": [
    "### Data consumer: understand _how_ the artifact was validated"
   ]
  },
  {
   "cell_type": "code",
   "execution_count": null,
   "metadata": {
    "tags": [
     "hide-output"
    ]
   },
   "outputs": [],
   "source": [
    "artifact.schema"
   ]
  },
  {
   "cell_type": "code",
   "execution_count": null,
   "metadata": {
    "tags": [
     "hide-output"
    ]
   },
   "outputs": [],
   "source": [
    "artifact.schema.features.df()"
   ]
  }
 ],
 "metadata": {
  "kernelspec": {
   "display_name": "py312",
   "language": "python",
   "name": "python3"
  },
  "language_info": {
   "codemirror_mode": {
    "name": "ipython",
    "version": 3
   },
   "file_extension": ".py",
   "mimetype": "text/x-python",
   "name": "python",
   "nbconvert_exporter": "python",
   "pygments_lexer": "ipython3",
   "version": "3.12.8"
  }
 },
 "nbformat": 4,
 "nbformat_minor": 2
}
