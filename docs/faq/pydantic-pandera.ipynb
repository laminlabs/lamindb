{
 "cells": [
  {
   "cell_type": "markdown",
   "metadata": {},
   "source": [
    "# Pydantic & Pandera vs. LaminDB"
   ]
  },
  {
   "cell_type": "markdown",
   "metadata": {},
   "source": [
    "This doc explains conceptual differences between data validation with `pydantic`, `pandera`, and `lamindb`."
   ]
  },
  {
   "cell_type": "code",
   "execution_count": null,
   "metadata": {
    "tags": [
     "hide-output"
    ]
   },
   "outputs": [],
   "source": [
    "!lamin init --storage test-pydantic-pandera --modules bionty"
   ]
  },
  {
   "cell_type": "markdown",
   "metadata": {},
   "source": [
    "Let us work with a test dataframe."
   ]
  },
  {
   "cell_type": "code",
   "execution_count": null,
   "metadata": {},
   "outputs": [],
   "source": [
    "import pandas as pd\n",
    "import pydantic\n",
    "from typing import Literal\n",
    "import lamindb as ln\n",
    "import bionty as bt\n",
    "import pandera\n",
    "\n",
    "df = ln.core.datasets.small_dataset1()\n",
    "df"
   ]
  },
  {
   "cell_type": "markdown",
   "metadata": {},
   "source": [
    "## Define a schema"
   ]
  },
  {
   "cell_type": "markdown",
   "metadata": {},
   "source": [
    "### pydantic"
   ]
  },
  {
   "cell_type": "code",
   "execution_count": null,
   "metadata": {},
   "outputs": [],
   "source": [
    "Perturbation = Literal[\"DMSO\", \"IFNG\"]\n",
    "CellType = Literal[\"T cell\", \"B cell\"]\n",
    "OntologyID = Literal[\"EFO:0008913\"]\n",
    "\n",
    "\n",
    "class ImmunoSchema(pydantic.BaseModel):\n",
    "    perturbation: Perturbation\n",
    "    cell_type_by_model: CellType\n",
    "    cell_type_by_expert: CellType\n",
    "    assay_oid: OntologyID\n",
    "    concentration: str\n",
    "    treatment_time_h: int\n",
    "    donor: str | None\n",
    "\n",
    "    class Config:\n",
    "        title = \"My immuno schema\""
   ]
  },
  {
   "cell_type": "markdown",
   "metadata": {},
   "source": [
    "### pandera"
   ]
  },
  {
   "cell_type": "code",
   "execution_count": null,
   "metadata": {},
   "outputs": [],
   "source": [
    "# Define the Pandera schema using DataFrameSchema\n",
    "pandera_schema = pandera.DataFrameSchema(\n",
    "    {\n",
    "        \"perturbation\": pandera.Column(\n",
    "            str, checks=pandera.Check.isin([\"DMSO\", \"IFNG\"])\n",
    "        ),\n",
    "        \"cell_type_by_model\": pandera.Column(\n",
    "            str, checks=pandera.Check.isin([\"T cell\", \"B cell\"])\n",
    "        ),\n",
    "        \"cell_type_by_expert\": pandera.Column(\n",
    "            str, checks=pandera.Check.isin([\"T cell\", \"B cell\"])\n",
    "        ),\n",
    "        \"assay_oid\": pandera.Column(str, checks=pandera.Check.isin([\"EFO:0008913\"])),\n",
    "        \"concentration\": pandera.Column(str),\n",
    "        \"treatment_time_h\": pandera.Column(int),\n",
    "        \"donor\": pandera.Column(str, nullable=True),\n",
    "    },\n",
    "    name=\"My immuno schema\",\n",
    ")"
   ]
  },
  {
   "cell_type": "markdown",
   "metadata": {},
   "source": [
    "### lamindb"
   ]
  },
  {
   "cell_type": "markdown",
   "metadata": {},
   "source": [
    "Features & labels are defined on the level of the database instance. You can either define a schema with required (and optional) columns."
   ]
  },
  {
   "cell_type": "code",
   "execution_count": null,
   "metadata": {
    "tags": [
     "hide-output"
    ]
   },
   "outputs": [],
   "source": [
    "ln.ULabel(name=\"DMSO\").save()  # define a DMSO label\n",
    "ln.ULabel(name=\"IFNG\").save()  # define an IFNG label\n",
    "\n",
    "# leverage ontologies through types ln.ULabel, bt.CellType, bt.ExperimentalFactor\n",
    "lamindb_schema = ln.Schema(\n",
    "    name=\"My immuno schema\",\n",
    "    features=[\n",
    "        ln.Feature(name=\"perturbation\", dtype=ln.ULabel).save(),\n",
    "        ln.Feature(name=\"cell_type_by_model\", dtype=bt.CellType).save(),\n",
    "        ln.Feature(name=\"cell_type_by_expert\", dtype=bt.CellType).save(),\n",
    "        ln.Feature(name=\"assay_oid\", dtype=bt.ExperimentalFactor.ontology_id).save(),\n",
    "        ln.Feature(name=\"concentration\", dtype=str).save(),\n",
    "        ln.Feature(name=\"treatment_time_h\", dtype=int).save(),\n",
    "        ln.Feature(name=\"donor\", dtype=str, nullable=True).save(),\n",
    "    ],\n",
    ").save()"
   ]
  },
  {
   "cell_type": "markdown",
   "metadata": {},
   "source": [
    "Or merely define a constraint on the feature identifier."
   ]
  },
  {
   "cell_type": "code",
   "execution_count": null,
   "metadata": {},
   "outputs": [],
   "source": [
    "lamindb_schema_only_itype = ln.Schema(\n",
    "    name=\"Allow any valid features & labels\", itype=ln.Feature\n",
    ")"
   ]
  },
  {
   "cell_type": "markdown",
   "metadata": {},
   "source": [
    "## Validate a dataframe"
   ]
  },
  {
   "cell_type": "markdown",
   "metadata": {},
   "source": [
    "### pydantic"
   ]
  },
  {
   "cell_type": "code",
   "execution_count": null,
   "metadata": {},
   "outputs": [],
   "source": [
    "class DataFrameValidationError(Exception):\n",
    "    pass\n",
    "\n",
    "\n",
    "def validate_dataframe(df: pd.DataFrame, model: type[pydantic.BaseModel]):\n",
    "    errors = []\n",
    "\n",
    "    for i, row in enumerate(df.to_dict(orient=\"records\")):\n",
    "        try:\n",
    "            model(**row)\n",
    "        except pydantic.ValidationError as e:\n",
    "            errors.append(f\"row {i} failed validation: {e}\")\n",
    "\n",
    "    if errors:\n",
    "        error_message = \"\\n\".join(errors)\n",
    "        raise DataFrameValidationError(\n",
    "            f\"DataFrame validation failed with the following errors:\\n{error_message}\"\n",
    "        )"
   ]
  },
  {
   "cell_type": "code",
   "execution_count": null,
   "metadata": {
    "tags": [
     "hide-output"
    ]
   },
   "outputs": [],
   "source": [
    "try:\n",
    "    validate_dataframe(df, ImmunoSchema)\n",
    "except DataFrameValidationError as e:\n",
    "    print(e)"
   ]
  },
  {
   "cell_type": "markdown",
   "metadata": {},
   "source": [
    "To fix the validation error, we need to update the `Literal` and re-run the model definition."
   ]
  },
  {
   "cell_type": "code",
   "execution_count": null,
   "metadata": {},
   "outputs": [],
   "source": [
    "Perturbation = Literal[\"DMSO\", \"IFNG\"]\n",
    "CellType = Literal[\n",
    "    \"T cell\", \"B cell\", \"CD8-positive, alpha-beta T cell\"  # <-- updated\n",
    "]\n",
    "OntologyID = Literal[\"EFO:0008913\"]\n",
    "\n",
    "\n",
    "class ImmunoSchema(pydantic.BaseModel):\n",
    "    perturbation: Perturbation\n",
    "    cell_type_by_model: CellType\n",
    "    cell_type_by_expert: CellType\n",
    "    assay_oid: OntologyID\n",
    "    concentration: str\n",
    "    treatment_time_h: int\n",
    "    donor: str | None\n",
    "\n",
    "    class Config:\n",
    "        title = \"My immuno schema\""
   ]
  },
  {
   "cell_type": "code",
   "execution_count": null,
   "metadata": {},
   "outputs": [],
   "source": [
    "validate_dataframe(df, ImmunoSchema)"
   ]
  },
  {
   "cell_type": "markdown",
   "metadata": {},
   "source": [
    "### pandera"
   ]
  },
  {
   "cell_type": "code",
   "execution_count": null,
   "metadata": {
    "tags": [
     "hide-output"
    ]
   },
   "outputs": [],
   "source": [
    "try:\n",
    "    pandera_schema.validate(df)\n",
    "except pandera.errors.SchemaError as e:\n",
    "    print(e)"
   ]
  },
  {
   "cell_type": "markdown",
   "metadata": {},
   "source": [
    "### lamindb"
   ]
  },
  {
   "cell_type": "markdown",
   "metadata": {},
   "source": [
    "Because the term `\"CD8-positive, alpha-beta T cell\"` is part of the public `CellType` ontology, validation passes the first time.\n",
    "\n",
    "If validation and not passed, we could have resolved the issue simply by adding a new term to the `CellType` registry rather than editing the code. This also puts downstream data scientists into a position to update ontologies."
   ]
  },
  {
   "cell_type": "code",
   "execution_count": null,
   "metadata": {
    "tags": [
     "hide-output"
    ]
   },
   "outputs": [],
   "source": [
    "curator = ln.curators.DataFrameCurator(df, lamindb_schema)\n",
    "curator.validate()"
   ]
  },
  {
   "cell_type": "markdown",
   "metadata": {},
   "source": [
    "What was the cell type validation based on? Let's inspect the `CellType` registry."
   ]
  },
  {
   "cell_type": "code",
   "execution_count": null,
   "metadata": {
    "tags": [
     "hide-output"
    ]
   },
   "outputs": [],
   "source": [
    "bt.CellType.df()"
   ]
  },
  {
   "cell_type": "markdown",
   "metadata": {},
   "source": [
    "The `CellType` regsitry is hierachical as it contains the Cell Ontology."
   ]
  },
  {
   "cell_type": "code",
   "execution_count": null,
   "metadata": {
    "tags": [
     "hide-output"
    ]
   },
   "outputs": [],
   "source": [
    "bt.CellType.get(name=\"CD8-positive, alpha-beta T cell\").view_parents()"
   ]
  },
  {
   "cell_type": "markdown",
   "metadata": {},
   "source": [
    "## Overview of validation properties\n",
    "\n",
    "Importantly, LaminDB offers not only a `DataFrameCurator`, but also a `AnnDataCurator`, `MuDataCurator`, `SpatialDataCurator`, `TiledbsomaCurator`.\n",
    "\n",
    "The below overview only concerns validating dataframes."
   ]
  },
  {
   "cell_type": "markdown",
   "metadata": {},
   "source": [
    "### Experience of data engineer"
   ]
  },
  {
   "cell_type": "markdown",
   "metadata": {},
   "source": [
    "property | `pydantic` | `pandera` | `lamindb`\n",
    "--- | --- | --- | ---\n",
    "define schema as code | yes, in form of a `pydantic.BaseModel` | yes, in form of a `pandera.DataFrameSchema` | yes, in form of a `lamindb.Schema`\n",
    "define schema as a set of constraints without the need of listing fields/columns/features; e.g. useful if validating 60k genes | no | no | yes\n",
    "update labels independent of code | not possible because labels are enums/literals | not possible because labels are hard-coded in `Check` | possible by adding new terms to a registry\n",
    "built-in validation from public ontologies | no | no | yes\n",
    "sync labels with ELN/LIMS registries without code change | no | no | yes\n",
    "can re-use fields/columns/features across schemas | limited via subclass | only in same Python session | yes because persisted in database\n",
    "schema modifications can invalidate previously validated datasets | yes | yes | no because LaminDB allows to query datasets that were validated with a schema version\n",
    "can use columnar organization of dataframe | no, need to iterate over potentially millions of rows | yes | yes"
   ]
  },
  {
   "cell_type": "markdown",
   "metadata": {},
   "source": [
    "### Experience of data consumer"
   ]
  },
  {
   "cell_type": "markdown",
   "metadata": {},
   "source": [
    "property | `pydantic` | `pandera` | `lamindb`\n",
    "--- | --- | --- | ---\n",
    "dataset is queryable / findable | no | no | yes, by querying for labels & features\n",
    "dataset is annotated | no | no | yes\n",
    "user knows what validation constraints were | no, because might not have access to code and doesn't know which code was run | no (same as pydantic) | yes, via `artifact.schema` "
   ]
  },
  {
   "cell_type": "markdown",
   "metadata": {},
   "source": [
    "## Annotation & queryability"
   ]
  },
  {
   "cell_type": "markdown",
   "metadata": {},
   "source": [
    "### Engineer: annotate the dataset"
   ]
  },
  {
   "cell_type": "markdown",
   "metadata": {},
   "source": [
    "Either use the `Curator` object:"
   ]
  },
  {
   "cell_type": "code",
   "execution_count": null,
   "metadata": {
    "tags": [
     "hide-output"
    ]
   },
   "outputs": [],
   "source": [
    "artifact = curator.save_artifact(key=\"our_datasets/dataset1.parquet\")"
   ]
  },
  {
   "cell_type": "markdown",
   "metadata": {},
   "source": [
    "If you don't expect a need for Curator functionality for updating ontologies and standaridization, you can also use the `Artifact` constructor."
   ]
  },
  {
   "cell_type": "code",
   "execution_count": null,
   "metadata": {
    "tags": [
     "hide-output"
    ]
   },
   "outputs": [],
   "source": [
    "artifact = ln.Artifact.from_df(\n",
    "    df, key=\"our_datasets/dataset1.parquet\", schema=lamindb_schema\n",
    ").save()"
   ]
  },
  {
   "cell_type": "markdown",
   "metadata": {},
   "source": [
    "### Consumer: see annotations"
   ]
  },
  {
   "cell_type": "code",
   "execution_count": null,
   "metadata": {
    "tags": [
     "hide-output"
    ]
   },
   "outputs": [],
   "source": [
    "artifact.describe()"
   ]
  },
  {
   "cell_type": "markdown",
   "metadata": {},
   "source": [
    "### Consumer: query the dataset"
   ]
  },
  {
   "cell_type": "code",
   "execution_count": null,
   "metadata": {
    "tags": [
     "hide-outut"
    ]
   },
   "outputs": [],
   "source": [
    "ln.Artifact.filter(perturbation=\"IFNG\").df()"
   ]
  },
  {
   "cell_type": "markdown",
   "metadata": {},
   "source": [
    "### Consumer: understand validation"
   ]
  },
  {
   "cell_type": "markdown",
   "metadata": {},
   "source": [
    "By accessing `artifact.schema`, the consumer can understand _how_ the dataset was validated."
   ]
  },
  {
   "cell_type": "code",
   "execution_count": null,
   "metadata": {
    "tags": [
     "hide-output"
    ]
   },
   "outputs": [],
   "source": [
    "artifact.schema"
   ]
  },
  {
   "cell_type": "code",
   "execution_count": null,
   "metadata": {
    "tags": [
     "hide-output"
    ]
   },
   "outputs": [],
   "source": [
    "artifact.schema.features.df()"
   ]
  }
 ],
 "metadata": {
  "kernelspec": {
   "display_name": "py311",
   "language": "python",
   "name": "python3"
  },
  "language_info": {
   "codemirror_mode": {
    "name": "ipython",
    "version": 3
   },
   "file_extension": ".py",
   "mimetype": "text/x-python",
   "name": "python",
   "nbconvert_exporter": "python",
   "pygments_lexer": "ipython3",
   "version": "3.11.11"
  }
 },
 "nbformat": 4,
 "nbformat_minor": 2
}
