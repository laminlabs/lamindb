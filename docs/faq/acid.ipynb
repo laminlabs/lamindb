{
 "cells": [
  {
   "attachments": {},
   "cell_type": "markdown",
   "id": "41b33aca-1a7d-42b4-afa6-c9a5bccc060c",
   "metadata": {},
   "source": [
    "# Are LaminDB's operations ACID?"
   ]
  },
  {
   "attachments": {},
   "cell_type": "markdown",
   "id": "2096971d",
   "metadata": {},
   "source": [
    "Yes, they are [ACID](https://en.wikipedia.org/wiki/ACID).\n",
    "\n",
    "Here, we walk through different errors that can occur while saving files & metadata records, and show that the LaminDB instance does not get corrupted by dangling metadata or files."
   ]
  },
  {
   "cell_type": "code",
   "execution_count": null,
   "id": "0f048062",
   "metadata": {},
   "outputs": [],
   "source": [
    "from laminci.db import setup_local_test_postgres\n",
    "\n",
    "pgurl = setup_local_test_postgres()\n",
    "!lamin init --db {pgurl} --storage ./test-acid"
   ]
  },
  {
   "cell_type": "code",
   "execution_count": null,
   "id": "34d3b675",
   "metadata": {
    "tags": []
   },
   "outputs": [],
   "source": [
    "import pytest\n",
    "import lamindb as ln\n",
    "from upath import UPath\n",
    "from django.db.utils import IntegrityError"
   ]
  },
  {
   "attachments": {},
   "cell_type": "markdown",
   "id": "6f448850-bc49-4f0e-ad6f-f8fd1caec4d3",
   "metadata": {},
   "source": [
    "## Save error due to failed upload"
   ]
  },
  {
   "attachments": {},
   "cell_type": "markdown",
   "id": "0c582719-42de-4e9d-bdcb-51f8aabb3ca5",
   "metadata": {},
   "source": [
    "Let's try to save a file to a storage location without permission."
   ]
  },
  {
   "cell_type": "code",
   "execution_count": null,
   "id": "f00c8dc6-d28f-4de0-8efa-f15afe376264",
   "metadata": {},
   "outputs": [],
   "source": [
    "file = ln.File(\n",
    "    ln.dev.datasets.anndata_mouse_sc_lymph_node(),\n",
    "    description=\"Mouse Lymph Node scRNA-seq\",\n",
    ")"
   ]
  },
  {
   "attachments": {},
   "cell_type": "markdown",
   "id": "e4e67dda",
   "metadata": {},
   "source": [
    "Because the public API only allows you to set a default storage for which you have permission, we need to hack it:"
   ]
  },
  {
   "cell_type": "code",
   "execution_count": null,
   "id": "6c74eefd-e8d6-480a-8532-c732ae5b4f0b",
   "metadata": {},
   "outputs": [],
   "source": [
    "ln.setup.settings.storage._root = UPath(\"s3://nf-core-awsmegatests\")"
   ]
  },
  {
   "cell_type": "code",
   "execution_count": null,
   "id": "1130c4e1-a589-4060-93bc-322bb9120c0f",
   "metadata": {},
   "outputs": [],
   "source": [
    "ln.settings.storage"
   ]
  },
  {
   "attachments": {},
   "cell_type": "markdown",
   "id": "0d77b8e2",
   "metadata": {},
   "source": [
    "This raises a `RuntimeError`:"
   ]
  },
  {
   "cell_type": "code",
   "execution_count": null,
   "id": "b7f9598c-ae60-4eef-8576-81c6679af16f",
   "metadata": {},
   "outputs": [],
   "source": [
    "with pytest.raises(RuntimeError) as error:\n",
    "    file.save()\n",
    "print(error.exconly())"
   ]
  },
  {
   "attachments": {},
   "cell_type": "markdown",
   "id": "cf110322-0011-4a35-9393-0465db3b562f",
   "metadata": {},
   "source": [
    "Let's now check that no metadata records were added to the database:"
   ]
  },
  {
   "cell_type": "code",
   "execution_count": null,
   "id": "ad437d03-100e-4cfe-a967-a2102dac874d",
   "metadata": {},
   "outputs": [],
   "source": [
    "assert len(ln.File.filter().all()) == 0"
   ]
  },
  {
   "attachments": {},
   "cell_type": "markdown",
   "id": "ed3e9cfe-4d07-4d96-8443-d60b62ca82fe",
   "metadata": {},
   "source": [
    "## Save error during bulk creation"
   ]
  },
  {
   "attachments": {},
   "cell_type": "markdown",
   "id": "a19ab581",
   "metadata": {},
   "source": [
    "### Error during metadata save"
   ]
  },
  {
   "cell_type": "code",
   "execution_count": null,
   "id": "a18243b3-0ff4-4302-882e-5cd220732a98",
   "metadata": {},
   "outputs": [],
   "source": [
    "filepath = ln.dev.datasets.file_jpg_paradisi05()\n",
    "file = ln.File(filepath, description=\"My image\")\n",
    "files = [file, \"this is not an Registry\"]"
   ]
  },
  {
   "attachments": {},
   "cell_type": "markdown",
   "id": "a098efc8",
   "metadata": {},
   "source": [
    "This raises an exception:"
   ]
  },
  {
   "cell_type": "code",
   "execution_count": null,
   "id": "2cdd2095",
   "metadata": {},
   "outputs": [],
   "source": [
    "with pytest.raises(Exception) as error:\n",
    "    ln.save(files)\n",
    "print(error.exconly())"
   ]
  },
  {
   "attachments": {},
   "cell_type": "markdown",
   "id": "825e3635",
   "metadata": {},
   "source": [
    "Nothing got saved:"
   ]
  },
  {
   "cell_type": "code",
   "execution_count": null,
   "id": "6e51a488-95cc-4fc3-951c-e63e93c28e09",
   "metadata": {},
   "outputs": [],
   "source": [
    "files = ln.File.filter().all()\n",
    "assert len(files) == 0"
   ]
  },
  {
   "attachments": {},
   "cell_type": "markdown",
   "id": "1c6c06d5",
   "metadata": {},
   "source": [
    "## Error in one of the uploads"
   ]
  },
  {
   "attachments": {},
   "cell_type": "markdown",
   "id": "5258b578-733b-4eb1-afd0-01144d2b1c47",
   "metadata": {},
   "source": [
    "If a list of data objects is passed to `ln.save()` and the upload of one of these data objects fails, the successful uploads are maintained and a `RuntimeError` is raised, listing the successfully uploaded data objects up until that point."
   ]
  },
  {
   "attachments": {},
   "cell_type": "markdown",
   "id": "f1738dfa",
   "metadata": {},
   "source": [
    "Need a proper test here!"
   ]
  },
  {
   "cell_type": "code",
   "execution_count": null,
   "id": "98783afd",
   "metadata": {
    "tags": [
     "hide-cell"
    ]
   },
   "outputs": [],
   "source": [
    "!docker stop pgtest && docker rm pgtest\n",
    "!lamin delete --force pgtest\n",
    "!rm -r ./test-acid"
   ]
  }
 ],
 "metadata": {
  "kernelspec": {
   "display_name": "Python 3 (ipykernel)",
   "language": "python",
   "name": "python3"
  },
  "language_info": {
   "codemirror_mode": {
    "name": "ipython",
    "version": 3
   },
   "file_extension": ".py",
   "mimetype": "text/x-python",
   "name": "python",
   "nbconvert_exporter": "python",
   "pygments_lexer": "ipython3",
   "version": "3.9.16"
  },
  "nbproject": {
   "id": "zz23msudiiQR",
   "parent": null,
   "pypackage": null,
   "time_init": "2023-02-03T20:01:20.761043+00:00",
   "user_handle": "testuser1",
   "user_id": "DzTjkKse",
   "user_name": "Test User1",
   "version": "0"
  },
  "vscode": {
   "interpreter": {
    "hash": "b0fa6594d8f4cbf19f97940f81e996739fb7646882a419484c72d19e05852a7e"
   }
  }
 },
 "nbformat": 4,
 "nbformat_minor": 5
}
