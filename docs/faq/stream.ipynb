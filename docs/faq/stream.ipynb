{
 "cells": [
  {
   "attachments": {},
   "cell_type": "markdown",
   "id": "d5e3462f",
   "metadata": {},
   "source": [
    "# Partial streaming of annotated data matrices from the cloud"
   ]
  },
  {
   "attachments": {},
   "cell_type": "markdown",
   "id": "beab5746",
   "metadata": {},
   "source": [
    "When working with large datasets, it is often inefficient and time consuming to load each of the dataset into memory.\n",
    "\n",
    "Here we demonstrate how partial streaming of data objects works using LaminDB, which allows you to query and only work with parts of a data object."
   ]
  },
  {
   "attachments": {},
   "cell_type": "markdown",
   "id": "3687abcd",
   "metadata": {},
   "source": [
    "```{note}\n",
    "\n",
    "This notebook uses `AnnData` objects as examples.\n",
    "\n",
    "In the future, other data objects will provide similar functionality.\n",
    "\n",
    "```"
   ]
  },
  {
   "attachments": {},
   "cell_type": "markdown",
   "id": "77be1a49",
   "metadata": {},
   "source": [
    "Let's first set up a LaminDB instance using cloud storage (AWS S3):"
   ]
  },
  {
   "cell_type": "code",
   "execution_count": null,
   "id": "6436d09a",
   "metadata": {},
   "outputs": [],
   "source": [
    "import lamindb as ln\n",
    "import lamindb.schema as lns\n",
    "\n",
    "ln.nb.header()"
   ]
  },
  {
   "attachments": {},
   "cell_type": "markdown",
   "metadata": {},
   "source": [
    "## Prepare data object (skip if you already ingested your data into LaminDB)"
   ]
  },
  {
   "attachments": {},
   "cell_type": "markdown",
   "id": "64c6a0b6-19f4-4697-b2d1-cd9844c350d5",
   "metadata": {},
   "source": [
    "### An AnnData objects\n",
    "\n",
    "Here we load a scRNA-seq dataset as AnnData object, which contains a `cell_type` field as streaming labels."
   ]
  },
  {
   "cell_type": "code",
   "execution_count": null,
   "id": "046722c1",
   "metadata": {},
   "outputs": [],
   "source": [
    "pbmc68k = ln.dev.datasets.anndata_pbmc68k_reduced()\n",
    "\n",
    "pbmc68k"
   ]
  },
  {
   "cell_type": "code",
   "execution_count": null,
   "id": "c162e74e",
   "metadata": {},
   "outputs": [],
   "source": [
    "pbmc68k.obs[\"cell_type\"].value_counts()"
   ]
  },
  {
   "attachments": {},
   "cell_type": "markdown",
   "id": "8aab5612-e22f-4be6-a778-e9cd25963960",
   "metadata": {},
   "source": [
    "### Ingest AnnData object into LaminDB"
   ]
  },
  {
   "attachments": {},
   "cell_type": "markdown",
   "id": "cc8c8d4f",
   "metadata": {},
   "source": [
    "This follows our canonical [ingest](https://lamin.ai/docs/db/guide/quickstart) process."
   ]
  },
  {
   "cell_type": "code",
   "execution_count": null,
   "id": "203862b4",
   "metadata": {},
   "outputs": [],
   "source": [
    "pbmc68k_h5ad = ln.DObject(pbmc68k, name=\"pbmc68k\")\n",
    "\n",
    "# Optionally, you may save anndata to the zarr format\n",
    "pbmc68k_zarr = ln.DObject(pbmc68k, name=\"pbmc68k\", format=\"zarr\")"
   ]
  },
  {
   "cell_type": "code",
   "execution_count": null,
   "id": "0873c144",
   "metadata": {},
   "outputs": [],
   "source": [
    "ln.add([pbmc68k_h5ad, pbmc68k_zarr]);"
   ]
  },
  {
   "attachments": {},
   "cell_type": "markdown",
   "metadata": {},
   "source": [
    "Load zarr (no downloading/caching happens here): "
   ]
  },
  {
   "cell_type": "code",
   "execution_count": null,
   "metadata": {},
   "outputs": [],
   "source": [
    "pbmc68k_zarr.load()"
   ]
  },
  {
   "attachments": {},
   "cell_type": "markdown",
   "id": "260c5800-3220-4660-8bb0-c6e65d7dae62",
   "metadata": {},
   "source": [
    "## Stream data objects"
   ]
  },
  {
   "attachments": {},
   "cell_type": "markdown",
   "id": "e6c9cdcd",
   "metadata": {},
   "source": [
    "We saw that both datasets have `cell_type`: Dendritic cells, CD14+ Monocytes.\n",
    "\n",
    "Now let's only fetch data that are labeled as these two cell types."
   ]
  },
  {
   "attachments": {},
   "cell_type": "markdown",
   "metadata": {},
   "source": [
    "First we obtain the ingested AnnData DObjects by querying the LaminDB instance.\n",
    "\n",
    "```{note}\n",
    "\n",
    "This is merely a database query, it does **not** download the data.\n",
    "\n",
    "```"
   ]
  },
  {
   "cell_type": "code",
   "execution_count": null,
   "id": "834be5b8",
   "metadata": {},
   "outputs": [],
   "source": [
    "dobjects = ln.select(ln.DObject).join(lns.Run, id=ln.nb.run.id).all()\n",
    "\n",
    "dobjects"
   ]
  },
  {
   "cell_type": "code",
   "execution_count": null,
   "metadata": {},
   "outputs": [],
   "source": [
    "dobject = dobjects[0]"
   ]
  },
  {
   "attachments": {},
   "cell_type": "markdown",
   "id": "a275b52c",
   "metadata": {},
   "source": [
    "Next, we prepare the query strings to query the columns of `.obs` for each `AnnData` object. For details see the [pandas docs](https://pandas.pydata.org/docs/reference/api/pandas.DataFrame.query.html).\n",
    "\n",
    "```{note}\n",
    "\n",
    "Soon, we'll integrate the within-object queries with the SQL queries.\n",
    "\n",
    "```"
   ]
  },
  {
   "attachments": {},
   "cell_type": "markdown",
   "id": "76cbfd48-13d0-45e9-ada1-9229c1cc66f5",
   "metadata": {},
   "source": [
    "### (A) Pandas-style query strings"
   ]
  },
  {
   "cell_type": "code",
   "execution_count": null,
   "id": "ba9dff88",
   "metadata": {},
   "outputs": [],
   "source": [
    "query_string = \"cell_type == 'Dendritic cells' | cell_type == 'CD14+ Monocytes'\""
   ]
  },
  {
   "attachments": {},
   "cell_type": "markdown",
   "id": "9e9a8a4c",
   "metadata": {},
   "source": [
    "Subset the `AnnData` objects based on the query strings above and load them directly into memory.\n",
    "\n",
    "```{note}\n",
    "\n",
    "No caching happens here!\n",
    "\n",
    "When `ln.subset` is executed, only the `.obs` columns are loaded to perform the subset. For all remaining, **only the subsets** data are loaded into memory.\n",
    "\n",
    "```"
   ]
  },
  {
   "cell_type": "code",
   "execution_count": null,
   "id": "4a42c16a",
   "metadata": {},
   "outputs": [],
   "source": [
    "ln.subset(dobject, query_obs=query_string)"
   ]
  },
  {
   "attachments": {},
   "cell_type": "markdown",
   "id": "33e047f9",
   "metadata": {},
   "source": [
    "```{tip}\n",
    "\n",
    "Set `use_concat=True` to return a single concatenated AnnData object (runs [`anndata.concat`](https://anndata.readthedocs.io/en/latest/generated/anndata.concat.html) under the hood).\n",
    "\n",
    "See an example in (B) Lazy query expressions\n",
    "```"
   ]
  },
  {
   "attachments": {},
   "cell_type": "markdown",
   "id": "32a94828-812a-49e0-969c-c3ed21e4a375",
   "metadata": {},
   "source": [
    "### (B) Lazy query expressions"
   ]
  },
  {
   "attachments": {},
   "cell_type": "markdown",
   "id": "acbc9825",
   "metadata": {},
   "source": [
    "Lazy selectors for convenient subsetting with complicated conditions.\n",
    "\n",
    "Operators, methods and numpy functions are supported."
   ]
  },
  {
   "cell_type": "code",
   "execution_count": null,
   "id": "1a54c276",
   "metadata": {},
   "outputs": [],
   "source": [
    "from lamindb import lazy\n",
    "import numpy as np"
   ]
  },
  {
   "cell_type": "code",
   "execution_count": null,
   "id": "68f9653a",
   "metadata": {},
   "outputs": [],
   "source": [
    "query_string = lazy.cell_type.isin((\"Dendritic cells\", \"CD14+ Monocytes\")) & (\n",
    "    lazy.percent_mito <= 0.05\n",
    ")"
   ]
  },
  {
   "cell_type": "code",
   "execution_count": null,
   "id": "b81b8e58",
   "metadata": {},
   "outputs": [],
   "source": [
    "adata = ln.subset(dobject, query_obs=query_string, use_concat=True)"
   ]
  },
  {
   "cell_type": "code",
   "execution_count": null,
   "id": "2dbecb8a",
   "metadata": {},
   "outputs": [],
   "source": [
    "adata"
   ]
  },
  {
   "attachments": {},
   "cell_type": "markdown",
   "metadata": {},
   "source": [
    "Let's now check whether the returned AnnData only contains queried categories:"
   ]
  },
  {
   "cell_type": "code",
   "execution_count": null,
   "metadata": {},
   "outputs": [],
   "source": [
    "adata.obs[\"cell_type\"].value_counts()"
   ]
  },
  {
   "attachments": {},
   "cell_type": "markdown",
   "id": "da17eaec-3292-4105-a641-94930bd2f097",
   "metadata": {},
   "source": [
    "## [Not for users] Clean the test data from CI"
   ]
  },
  {
   "cell_type": "markdown",
   "id": "9aec4ddb",
   "metadata": {},
   "source": [
    "Clean the test instance."
   ]
  },
  {
   "cell_type": "code",
   "execution_count": null,
   "id": "ef6245ea",
   "metadata": {},
   "outputs": [],
   "source": [
    "ln.delete(dobjects + [ln.nb.run], force=True)"
   ]
  }
 ],
 "metadata": {
  "kernelspec": {
   "display_name": "py39",
   "language": "python",
   "name": "python3"
  },
  "language_info": {
   "codemirror_mode": {
    "name": "ipython",
    "version": 3
   },
   "file_extension": ".py",
   "mimetype": "text/x-python",
   "name": "python",
   "nbconvert_exporter": "python",
   "pygments_lexer": "ipython3",
   "version": "3.9.13"
  },
  "nbproject": {
   "id": "YVUCtH4GfQOy",
   "parent": null,
   "pypackage": null,
   "time_init": "2023-01-23T08:28:32.097943+00:00",
   "user_handle": "testuser1",
   "user_id": "DzTjkKse",
   "user_name": "Test User1",
   "version": "0"
  },
  "vscode": {
   "interpreter": {
    "hash": "ae1fefc8646a06dd2e75004cd934adda7c5727b046986a772e3b44b0ffba9754"
   }
  }
 },
 "nbformat": 4,
 "nbformat_minor": 2
}
