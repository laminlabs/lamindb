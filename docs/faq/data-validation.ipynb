{
 "cells": [
  {
   "cell_type": "markdown",
   "id": "12efa51a-6173-473d-b44e-20056d1bf2f0",
   "metadata": {},
   "source": [
    "# Data validation with ORMs"
   ]
  },
  {
   "cell_type": "markdown",
   "id": "28214be7-db6e-4a96-b354-74520470980e",
   "metadata": {},
   "source": [
    "LaminDB implements data validation at the ORM level by fully integrating the SQLModel ORM with pydantic type checking.\n",
    "\n",
    "Let's take a look at data validation behavior in LaminDB."
   ]
  },
  {
   "cell_type": "code",
   "execution_count": null,
   "id": "5759ee45-c50d-4e30-bbd0-e25e254ff758",
   "metadata": {},
   "outputs": [],
   "source": [
    "import lamindb.schema as lns\n",
    "import pytest\n",
    "from pydantic import ValidationError"
   ]
  },
  {
   "cell_type": "markdown",
   "id": "df946dfd-fe74-4705-bc1d-a600b41cc15a",
   "metadata": {},
   "source": [
    "## Missing Field Error"
   ]
  },
  {
   "cell_type": "markdown",
   "id": "505527e7-d0b6-4548-a9b4-7a91e5eba908",
   "metadata": {},
   "source": [
    "Let's create a `User` instance without the required `email` and `handle` fields."
   ]
  },
  {
   "cell_type": "code",
   "execution_count": null,
   "id": "a736c303-0bde-4062-9159-2d61dad8f321",
   "metadata": {},
   "outputs": [],
   "source": [
    "with pytest.raises(ValidationError) as e:\n",
    "    exception = e\n",
    "    user_missing = lns.User(id=\"123\")\n",
    "print(exception.exconly())"
   ]
  },
  {
   "cell_type": "markdown",
   "id": "716dd427-e10c-4fad-bb4a-086633747a35",
   "metadata": {},
   "source": [
    "## Simple Type Error"
   ]
  },
  {
   "cell_type": "markdown",
   "id": "229b7247-1719-4e72-aac4-976002371f44",
   "metadata": {},
   "source": [
    "Let's create a `Pipeline` instance with the wrong type for the optional field `name`."
   ]
  },
  {
   "cell_type": "code",
   "execution_count": null,
   "id": "74b99278-1f5f-4bca-8a6d-66d1b54f3e3f",
   "metadata": {},
   "outputs": [],
   "source": [
    "from datetime import datetime\n",
    "\n",
    "with pytest.raises(ValidationError) as e:\n",
    "    exception = e\n",
    "    invalid_pipeline = lns.Pipeline(name=datetime.now())\n",
    "print(exception.exconly())"
   ]
  },
  {
   "cell_type": "markdown",
   "id": "3e24ef73-056c-4309-9b4f-6877132fd23f",
   "metadata": {},
   "source": [
    "## Simple Categorical Error"
   ]
  },
  {
   "cell_type": "markdown",
   "id": "165fb691-854a-4cdc-960d-1ab681c89b19",
   "metadata": {},
   "source": [
    "Let's pass an invalid categorical to the `type` field in `Usage`, which only accepts the values 'ingest', 'insert', 'select', 'update', 'delete', 'load', and 'link'."
   ]
  },
  {
   "cell_type": "code",
   "execution_count": null,
   "id": "f34a6443-9305-4260-8807-d7b56c1836d4",
   "metadata": {},
   "outputs": [],
   "source": [
    "??lns.Usage"
   ]
  },
  {
   "cell_type": "code",
   "execution_count": null,
   "id": "0eeb025c-1100-4e71-9427-584df33e9339",
   "metadata": {},
   "outputs": [],
   "source": [
    "with pytest.raises(ValidationError) as e:\n",
    "    exception = e\n",
    "    invalid_usage = lns.Usage(type=\"invalid categorical\", dobject_id=\"123\")\n",
    "print(exception.exconly())"
   ]
  },
  {
   "cell_type": "markdown",
   "id": "deb69f1e-499f-405c-bbdd-da991ebafc19",
   "metadata": {
    "tags": []
   },
   "source": [
    "## Special Cases in Data Validation"
   ]
  },
  {
   "cell_type": "markdown",
   "id": "46aaf500-759c-4777-94ec-825edc45e4c5",
   "metadata": {},
   "source": [
    "Data validation with the LaminDB ORM mirrors the standard Pydantic behavior, including variable casting (see example #1 below) and extra field behaviors (see example #2 below). These can be changed through Pydantic's configuration.\n",
    "\n",
    "The only difference in behavior between LaminDB and Pydantic is strict type checking for `Relationship` fields (see example #3 below), which is implemented in LaminDB."
   ]
  },
  {
   "cell_type": "markdown",
   "id": "568fe68f-e656-40a5-8b99-9abb86a8c74e",
   "metadata": {
    "tags": []
   },
   "source": [
    "## Special Cases in Data Validation #1: Variable Casting"
   ]
  },
  {
   "cell_type": "markdown",
   "id": "8f3b3fce-f153-4002-90f9-45a897a6e37d",
   "metadata": {},
   "source": [
    "LaminDB mirrors Pydantic's default behavior of casting input variables to conform to field types (see details in [Pydantic's documentation](https://docs.pydantic.dev/usage/models/#data-conversion)).\n",
    "\n",
    "Let's take a look at the default behavior by creating pipeline instances with `int` and `bool` inputs to the `name` field, which is string-typed in the schema."
   ]
  },
  {
   "cell_type": "code",
   "execution_count": null,
   "id": "e99ac551-a454-4290-8954-cb86c4f64c66",
   "metadata": {},
   "outputs": [],
   "source": [
    "# Name (int) is cast to str\n",
    "pipeline_name_int_to_str = lns.Pipeline(name=1)\n",
    "type(pipeline_name_int_to_str.name)"
   ]
  },
  {
   "cell_type": "code",
   "execution_count": null,
   "id": "28f318dd-39db-4a3a-85ea-6ca58bea5d9d",
   "metadata": {},
   "outputs": [],
   "source": [
    "# Name (bool) is cast to str\n",
    "pipeline_name_bool_to_str = lns.Pipeline(name=True)\n",
    "type(pipeline_name_int_to_str.name)"
   ]
  },
  {
   "cell_type": "markdown",
   "id": "7dd1cfa5-7f4a-4a9d-9793-dbf4fe35b09a",
   "metadata": {
    "tags": []
   },
   "source": [
    "## Special Cases in Data Validation #2: Extra Fields"
   ]
  },
  {
   "cell_type": "markdown",
   "id": "2e64022d-73d9-402c-b16e-4d5edd290ab4",
   "metadata": {},
   "source": [
    "LaminDB also mirror's Pydantic default behavior of accepting extra fields not defined in the schema."
   ]
  },
  {
   "cell_type": "code",
   "execution_count": null,
   "id": "7db2c0df-883a-48a5-870f-dee131831016",
   "metadata": {},
   "outputs": [],
   "source": [
    "# No error is raised for the extra field\n",
    "pipeline = lns.Pipeline(\n",
    "    name=\"Test\", extra_field=\"This field is not defined in the schema\"\n",
    ")"
   ]
  },
  {
   "cell_type": "markdown",
   "id": "0fbcc601-619f-4fdb-a229-12e322d97f28",
   "metadata": {
    "tags": []
   },
   "source": [
    "## Special Cases in Data Validation #3: Strict Type Checking for Relationship"
   ]
  },
  {
   "cell_type": "markdown",
   "id": "f1de6832-86a3-458a-9355-26c2228281de",
   "metadata": {},
   "source": [
    "Differently from Pydantic, LaminDB enforces strict type checking for `Relationship` fields.\n",
    "\n",
    "Below is a simple example of Pydantic's lenient type checking for `Relationship` fields. Rather than enforcing the `Car` type in the `Wheel.car` field, it only enforces type-checking on the attributes of the input object."
   ]
  },
  {
   "cell_type": "code",
   "execution_count": null,
   "id": "c4356929-bd0e-4d79-a65b-52c2def012dd",
   "metadata": {},
   "outputs": [],
   "source": [
    "from sqlmodel import SQLModel, Field, Relationship\n",
    "from typing import Optional, List\n",
    "\n",
    "\n",
    "class Car(SQLModel, table=False):\n",
    "    id: str = Field(primary_key=True, default=None)\n",
    "    name: str\n",
    "\n",
    "    wheels: List[\"Wheel\"] = Relationship()\n",
    "\n",
    "\n",
    "class Wheel(SQLModel, table=False):\n",
    "    id: str = Field(primary_key=True, default=None)\n",
    "    name: str\n",
    "\n",
    "    car: Optional[\"Car\"] = Relationship()\n",
    "\n",
    "\n",
    "class Bird(SQLModel, table=False):\n",
    "    id: str = Field(primary_key=True, default=None)\n",
    "    name: str"
   ]
  },
  {
   "cell_type": "code",
   "execution_count": null,
   "id": "07a83c4e-4207-4961-8a04-93de26f8613a",
   "metadata": {},
   "outputs": [],
   "source": [
    "# Pydantic does not raise a validation error for wrong type in the car field\n",
    "wheel = Wheel(name=\"Test Wheel\", car=Bird(name=\"Test\"))"
   ]
  },
  {
   "cell_type": "markdown",
   "id": "9a8909c9-f446-44aa-b0bf-e2a398e6c902",
   "metadata": {},
   "source": [
    "LaminDB, on the other hand, enforces strict type checking for `Relationships`."
   ]
  },
  {
   "cell_type": "code",
   "execution_count": null,
   "id": "41c977c2-82c2-41cc-9ac1-b42f6bbde0c7",
   "metadata": {},
   "outputs": [],
   "source": [
    "with pytest.raises(TypeError) as e:\n",
    "    exception = e\n",
    "    run = lns.Run(name=\"Test Run\", pipeline=Bird(name=\"This is not a Pipeline\"))\n",
    "print(exception.exconly())"
   ]
  }
 ],
 "metadata": {
  "kernelspec": {
   "display_name": "Python 3.9.12 ('base1')",
   "language": "python",
   "name": "python3"
  },
  "language_info": {
   "codemirror_mode": {
    "name": "ipython",
    "version": 3
   },
   "file_extension": ".py",
   "mimetype": "text/x-python",
   "name": "python",
   "nbconvert_exporter": "python",
   "pygments_lexer": "ipython3",
   "version": "3.9.12"
  }
 },
 "nbformat": 4,
 "nbformat_minor": 5
}
