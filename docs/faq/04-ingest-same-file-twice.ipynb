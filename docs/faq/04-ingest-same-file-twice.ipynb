{
 "cells": [
  {
   "attachments": {},
   "cell_type": "markdown",
   "id": "fe2d8275-0883-4ffe-9912-920b28efc9d2",
   "metadata": {},
   "source": [
    "# Can I save the same file twice?"
   ]
  },
  {
   "attachments": {},
   "cell_type": "markdown",
   "id": "dda847ba-c174-4442-acfb-752d6a875645",
   "metadata": {},
   "source": [
    "Yes, if you set {attr}`lamindb.settings.if_file_hash_exists` to `\"warn_create_new\"`.\n",
    "\n",
    "- If `\"warn_return_existing\"` (the default), you'll get the existing object.\n",
    "- If `\"error\"`, you'll get an error.\n",
    "- If `\"warn_create_new\"`, you'll get a warning if a data object with the same hash exists already."
   ]
  },
  {
   "cell_type": "code",
   "execution_count": null,
   "id": "a41e4445",
   "metadata": {},
   "outputs": [],
   "source": [
    "!lamin init --storage ./test-idempotency"
   ]
  },
  {
   "cell_type": "code",
   "execution_count": null,
   "id": "6944c6d8-a01b-4d07-9dd6-913a17bccaba",
   "metadata": {},
   "outputs": [],
   "source": [
    "import lamindb as ln\n",
    "import pytest\n",
    "\n",
    "ln.settings.verbosity = 1  # only show warnings"
   ]
  },
  {
   "cell_type": "code",
   "execution_count": null,
   "id": "0bb65135-7c44-47df-b95d-ee023877b3a2",
   "metadata": {},
   "outputs": [],
   "source": [
    "assert ln.settings.if_file_hash_exists == \"warn_return_existing\""
   ]
  },
  {
   "cell_type": "code",
   "execution_count": null,
   "id": "f52ab9c0-d2c2-40cd-9542-6081d712adb2",
   "metadata": {},
   "outputs": [],
   "source": [
    "filepath = ln.dev.datasets.file_fcs()"
   ]
  },
  {
   "attachments": {},
   "cell_type": "markdown",
   "id": "a2e9114a",
   "metadata": {},
   "source": [
    "Create a `File` object."
   ]
  },
  {
   "cell_type": "code",
   "execution_count": null,
   "id": "cfbc7e90",
   "metadata": {},
   "outputs": [],
   "source": [
    "file = ln.File(filepath)"
   ]
  },
  {
   "cell_type": "code",
   "execution_count": null,
   "id": "8faf738e",
   "metadata": {
    "tags": [
     "hide-cell"
    ]
   },
   "outputs": [],
   "source": [
    "assert file.hash == \"KCEXRahJ-Ui9Y6nksQ8z1A\""
   ]
  },
  {
   "cell_type": "code",
   "execution_count": null,
   "id": "a873da4a",
   "metadata": {},
   "outputs": [],
   "source": [
    "file.save()"
   ]
  },
  {
   "attachments": {},
   "cell_type": "markdown",
   "id": "153caaea",
   "metadata": {},
   "source": [
    "Create a `File` object from the same path:"
   ]
  },
  {
   "cell_type": "code",
   "execution_count": null,
   "id": "f173a6c6",
   "metadata": {},
   "outputs": [],
   "source": [
    "file2 = ln.File(filepath)"
   ]
  },
  {
   "attachments": {},
   "cell_type": "markdown",
   "id": "2c46205b",
   "metadata": {},
   "source": [
    "It gives us the existing object:"
   ]
  },
  {
   "cell_type": "code",
   "execution_count": null,
   "id": "2234821f",
   "metadata": {},
   "outputs": [],
   "source": [
    "assert file.id == file2.id"
   ]
  },
  {
   "attachments": {},
   "cell_type": "markdown",
   "id": "d2bf0d78",
   "metadata": {},
   "source": [
    "If you save it again, nothing will happen:"
   ]
  },
  {
   "cell_type": "code",
   "execution_count": null,
   "id": "60c18291",
   "metadata": {},
   "outputs": [],
   "source": [
    "file2.save()"
   ]
  },
  {
   "cell_type": "code",
   "execution_count": null,
   "id": "d4bd9ecd",
   "metadata": {},
   "outputs": [],
   "source": [
    "ln.settings.if_file_hash_exists = \"error\""
   ]
  },
  {
   "cell_type": "code",
   "execution_count": null,
   "id": "3b269371-9015-4e9e-9adf-468636d62899",
   "metadata": {},
   "outputs": [],
   "source": [
    "with pytest.raises(RuntimeError):\n",
    "    file3 = ln.File(filepath)"
   ]
  },
  {
   "cell_type": "code",
   "execution_count": null,
   "id": "1422804a",
   "metadata": {},
   "outputs": [],
   "source": [
    "ln.settings.if_file_hash_exists = \"warn_create_new\""
   ]
  },
  {
   "cell_type": "code",
   "execution_count": null,
   "id": "73e8475d",
   "metadata": {},
   "outputs": [],
   "source": [
    "file4 = ln.File(filepath)"
   ]
  },
  {
   "cell_type": "code",
   "execution_count": null,
   "id": "d689de41",
   "metadata": {},
   "outputs": [],
   "source": [
    "file4.save()"
   ]
  },
  {
   "cell_type": "code",
   "execution_count": null,
   "id": "485ba151",
   "metadata": {},
   "outputs": [],
   "source": [
    "assert file4.id != file.id"
   ]
  },
  {
   "cell_type": "code",
   "execution_count": null,
   "id": "04096189",
   "metadata": {},
   "outputs": [],
   "source": [
    "file4.select(hash=\"KCEXRahJ-Ui9Y6nksQ8z1A\").df()"
   ]
  },
  {
   "cell_type": "code",
   "execution_count": null,
   "id": "79612c02",
   "metadata": {
    "tags": [
     "hide-cell"
    ]
   },
   "outputs": [],
   "source": [
    "assert len(file.select(hash=\"KCEXRahJ-Ui9Y6nksQ8z1A\").list()) == 2"
   ]
  },
  {
   "cell_type": "code",
   "execution_count": null,
   "id": "d2ca60bf",
   "metadata": {},
   "outputs": [],
   "source": [
    "!lamin delete test-idempotency\n",
    "!rm -r test-idempotency"
   ]
  }
 ],
 "metadata": {
  "kernelspec": {
   "display_name": "Python 3 (ipykernel)",
   "language": "python",
   "name": "python3"
  },
  "language_info": {
   "codemirror_mode": {
    "name": "ipython",
    "version": 3
   },
   "file_extension": ".py",
   "mimetype": "text/x-python",
   "name": "python",
   "nbconvert_exporter": "python",
   "pygments_lexer": "ipython3",
   "version": "3.9.16"
  },
  "nbproject": {
   "id": "ANW20Fr4eZgM",
   "parent": null,
   "pypackage": null,
   "time_init": "2022-10-12T22:55:00.562920+00:00",
   "user_handle": "testuser1",
   "user_id": "DzTjkKse",
   "user_name": "Test User1",
   "version": "0"
  },
  "vscode": {
   "interpreter": {
    "hash": "b0fa6594d8f4cbf19f97940f81e996739fb7646882a419484c72d19e05852a7e"
   }
  }
 },
 "nbformat": 4,
 "nbformat_minor": 5
}
