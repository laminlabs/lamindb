{
 "cells": [
  {
   "cell_type": "markdown",
   "metadata": {},
   "source": [
    "# Why should I not index datasets with gene symbols?"
   ]
  },
  {
   "cell_type": "markdown",
   "metadata": {},
   "source": [
    "Gene symbols are widely used for readability, particularly for visualization. However, indexing datasets with gene symbols presents challenges:\n",
    "\n",
    "- A single gene may have multiple symbols or aliases.\n",
    "- Gene symbols change over time (e.g., *BRCA2* was once *FACD*) without version tracking.\n",
    "- The same symbol can represent different genes across species.\n",
    "- Symbols may be misinterpreted by software (e.g., *SEPT9* as \"September 9\" in Excel).\n",
    "- Formatting inconsistencies exist (e.g., case sensitivity, special characters).\n",
    "\n",
    "Using unique identifiers like ENSEMBL gene IDs addresses these issues by providing:\n",
    "\n",
    "- A direct, stable mapping to genomic coordinates.\n",
    "- Consistency across databases.\n",
    "- Species-specific prefixes to prevent cross-species confusion.\n",
    "- Unique, permanent identifiers with standardized formatting.\n",
    "\n",
    "Storing ENSEMBL gene IDs alongside gene symbols offers readability for visualization while maintaining robust data integrity. During curation, validating against ENSEMBL gene IDs ensures accurate mapping.\n",
    "\n",
    "If only symbols are available for a dataset, you can map them to ENSEMBL IDs using {meth}`~bionty.Gene.standardize`."
   ]
  },
  {
   "cell_type": "code",
   "execution_count": null,
   "metadata": {
    "tags": [
     "hide-output"
    ]
   },
   "outputs": [],
   "source": [
    "# !pip install 'lamindb[bionty]'\n",
    "!lamin init --storage test-symbols --schema bionty"
   ]
  },
  {
   "cell_type": "code",
   "execution_count": null,
   "metadata": {
    "tags": [
     "hide-output"
    ]
   },
   "outputs": [],
   "source": [
    "import lamindb as ln\n",
    "import bionty as bt\n",
    "import numpy as np\n",
    "import pandas as pd\n",
    "import anndata as ad\n",
    "\n",
    "# create example AnnData object with gene symbols\n",
    "rng = np.random.default_rng(42)\n",
    "X = rng.integers(0, 100, size=(5, 10))\n",
    "var = pd.DataFrame(index=pd.Index(['BRCA1', 'TP53', 'EGFR', 'KRAS', 'PTEN', 'MYC', 'VEGFA', 'IL6', 'TNF', 'GAPDH'], name=\"symbol\"))\n",
    "adata = ad.AnnData(X=X, var=var)\n",
    "adata.var\n"
   ]
  },
  {
   "cell_type": "code",
   "execution_count": null,
   "metadata": {
    "tags": [
     "hide-output"
    ]
   },
   "outputs": [],
   "source": [
    "# map Gene symbols to ENSEMBL IDs\n",
    "gene_mapper = bt.Gene.standardize(\n",
    "    adata.var.index,\n",
    "    field=bt.Gene.symbol,\n",
    "    return_field=bt.Gene.ensembl_gene_id,\n",
    "    return_mapper=True,\n",
    "    organism=\"human\"\n",
    ")\n",
    "adata.var[\"ensembl_id\"] = adata.var.index.map(gene_mapper)\n",
    "adata.var\n"
   ]
  },
  {
   "cell_type": "code",
   "execution_count": null,
   "metadata": {
    "tags": [
     "hide-output"
    ]
   },
   "outputs": [],
   "source": [
    "standardized_genes = bt.Gene.from_values(\n",
    "    ['ENSG00000141510', 'ENSG00000133703', 'ENSG00000111640', 'ENSG00000171862', 'ENSG00000204490', 'ENSG00000112715', 'ENSG00000146648', 'ENSG00000136997', 'ENSG00000012048', 'ENSG00000136244'],\n",
    "    field=bt.Gene.ensembl_gene_id,\n",
    "    organism=\"human\"\n",
    ")\n",
    "ln.save(standardized_genes)"
   ]
  },
  {
   "cell_type": "markdown",
   "metadata": {},
   "source": [
    "This allows for validating the the `ensembl_id` against the `Gene` registry using the `bt.Gene.ensembl_gene_id` field."
   ]
  },
  {
   "cell_type": "code",
   "execution_count": null,
   "metadata": {
    "tags": [
     "hide-output"
    ]
   },
   "outputs": [],
   "source": [
    "bt.Gene.validate(adata.var[\"ensembl_id\"], field=bt.Gene.ensembl_gene_id)"
   ]
  },
  {
   "cell_type": "markdown",
   "metadata": {},
   "source": [
    "```{note}\n",
    "Gene symbols do not map one-to-one with ENSEMBL IDs. A single gene symbol may correspond to multiple ENSEMBL IDs due to:\n",
    "\n",
    "1. **Gene Paralogs**: Similar symbols can be shared among paralogous genes within the same species, resulting in one symbol linking to multiple ENSEMBL IDs.\n",
    "2. **Pseudogenes**: Some symbols represent both functional genes and their non-functional pseudogenes, each with distinct ENSEMBL IDs.\n",
    "3. **Transcript Variants**: One symbol may map to multiple ENSEMBL transcript IDs, each representing different isoforms or splice variants.\n",
    "\n",
    "{meth}`~bionty.Gene.standardize` retrieves the first match in cases of multiple hits, which is generally sufficient but not perfectly accurate.\n",
    "```"
   ]
  },
  {
   "cell_type": "code",
   "execution_count": null,
   "metadata": {
    "tags": [
     "hide-output"
    ]
   },
   "outputs": [],
   "source": [
    "!lamin delete --force test-symbols"
   ]
  }
 ],
 "metadata": {
  "kernelspec": {
   "display_name": "lamindb",
   "language": "python",
   "name": "python3"
  },
  "language_info": {
   "codemirror_mode": {
    "name": "ipython",
    "version": 3
   },
   "file_extension": ".py",
   "mimetype": "text/x-python",
   "name": "python",
   "nbconvert_exporter": "python",
   "pygments_lexer": "ipython3",
   "version": "3.11.7"
  }
 },
 "nbformat": 4,
 "nbformat_minor": 2
}
