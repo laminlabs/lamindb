{
 "cells": [
  {
   "cell_type": "markdown",
   "id": "dd04aff4-a837-422d-8d37-5c3f1df31eba",
   "metadata": {},
   "source": [
    "# Lazy loading of ORM objects"
   ]
  },
  {
   "cell_type": "markdown",
   "id": "864d3122-2e3f-40ed-8113-1e4c08c8aadd",
   "metadata": {},
   "source": [
    "Here we explore SQLAlchemy's loading strategy for ORM objects.\n",
    "\n",
    "More specifically, we explore whether SQLAlchemy implements lazy loading for list relationships."
   ]
  },
  {
   "cell_type": "code",
   "execution_count": null,
   "id": "fb6f57bd-9d81-4ae1-a777-c6f53aa0daba",
   "metadata": {},
   "outputs": [],
   "source": [
    "!lndb init --storage lazytest --schema wetlab,bionty"
   ]
  },
  {
   "cell_type": "code",
   "execution_count": null,
   "id": "efccbb27-0a83-4874-aa91-2d4e7eed057c",
   "metadata": {},
   "outputs": [],
   "source": [
    "import lamindb as ln\n",
    "import lamindb.schema as lns\n",
    "import lamindb.knowledge as lnk"
   ]
  },
  {
   "cell_type": "markdown",
   "id": "3c79cb7e-df5e-4c9b-92b2-e5f073e248ac",
   "metadata": {},
   "source": [
    "Let's ingest a `DObject` linked to a single feature set that is itself linked to 10,044 `Gene` records."
   ]
  },
  {
   "cell_type": "code",
   "execution_count": null,
   "id": "118ea06e-e371-4b5e-8cb2-c2c23406d02b",
   "metadata": {},
   "outputs": [],
   "source": [
    "adata = ln.dev.datasets.anndata_mouse_sc_lymph_node()\n",
    "reference = ln.knowledge.Gene(\n",
    "    id=lnk.lookup.gene_id.ensembl_gene_id,\n",
    "    species=lnk.lookup.species.mouse,\n",
    ")\n",
    "dobject = ln.DObject(adata, name=\"Mouse Lymph Node scRNA-seq\", features_ref=reference)"
   ]
  },
  {
   "cell_type": "code",
   "execution_count": null,
   "id": "77911a19-c4e2-4ae9-bef7-5e23f288cc6a",
   "metadata": {},
   "outputs": [],
   "source": [
    "ln.add(dobject)"
   ]
  },
  {
   "cell_type": "markdown",
   "id": "a444dfcb-a522-424d-9e60-ee43726a0005",
   "metadata": {},
   "source": [
    "Let's now query the added feature set and try to lazy load a subset of the gene records (first three gene records)."
   ]
  },
  {
   "cell_type": "code",
   "execution_count": null,
   "id": "92e7bde1-e3a9-437e-be11-fac6387eafb7",
   "metadata": {},
   "outputs": [],
   "source": [
    "ss = ln.Session()\n",
    "features_session = ss.select(lns.Features).one()\n",
    "gene_subset = features_session.genes[:3]\n",
    "ss.close()"
   ]
  },
  {
   "cell_type": "code",
   "execution_count": null,
   "id": "3a1a99e7-10c3-456b-a609-c522fdc061eb",
   "metadata": {},
   "outputs": [],
   "source": [
    "gene_subset"
   ]
  },
  {
   "cell_type": "markdown",
   "id": "2395077d-b7a9-42c1-9553-f5b78882f3ee",
   "metadata": {},
   "source": [
    "With lazy loading, we would expect only these three `Gene` records to be available through the ORM after the session was closed."
   ]
  },
  {
   "cell_type": "code",
   "execution_count": null,
   "id": "9ad955cc-33b7-4797-8727-d288879a8f72",
   "metadata": {},
   "outputs": [],
   "source": [
    "print(len(features_session.genes))"
   ]
  },
  {
   "cell_type": "markdown",
   "id": "a3f862ac-2090-4011-809f-9eebb5721e1a",
   "metadata": {},
   "source": [
    "This is not the case since all 10,044 `Gene` records are available in memory."
   ]
  }
 ],
 "metadata": {
  "kernelspec": {
   "display_name": "py39",
   "language": "python",
   "name": "python3"
  },
  "language_info": {
   "codemirror_mode": {
    "name": "ipython",
    "version": 3
   },
   "file_extension": ".py",
   "mimetype": "text/x-python",
   "name": "python",
   "nbconvert_exporter": "python",
   "pygments_lexer": "ipython3",
   "version": "3.9.12"
  }
 },
 "nbformat": 4,
 "nbformat_minor": 5
}
