{
 "cells": [
  {
   "cell_type": "markdown",
   "id": "dd04aff4-a837-422d-8d37-5c3f1df31eba",
   "metadata": {},
   "source": [
    "# Lazy loading of ORM objects"
   ]
  },
  {
   "cell_type": "markdown",
   "id": "864d3122-2e3f-40ed-8113-1e4c08c8aadd",
   "metadata": {},
   "source": [
    "Here we explore SQLAlchemy's loading strategy for ORM objects.\n",
    "\n",
    "More specifically, we explore whether SQLAlchemy implements lazy loading for list relationships."
   ]
  },
  {
   "cell_type": "code",
   "execution_count": null,
   "id": "87591ced-7fd1-40cc-b1cf-74571570e9cb",
   "metadata": {},
   "outputs": [],
   "source": [
    "import lamindb as ln\n",
    "import lamindb.schema as lns\n",
    "\n",
    "ln.setup.load(\"testuser1/mydata\")\n",
    "ln.track()"
   ]
  },
  {
   "cell_type": "markdown",
   "id": "3c79cb7e-df5e-4c9b-92b2-e5f073e248ac",
   "metadata": {},
   "source": [
    "Let's retrieve a `File` linked to a single feature set that is itself linked to 10,044 `Gene` records."
   ]
  },
  {
   "cell_type": "code",
   "execution_count": null,
   "id": "118ea06e-e371-4b5e-8cb2-c2c23406d02b",
   "metadata": {},
   "outputs": [],
   "source": [
    "with ln.Session() as ss:\n",
    "    file = ss.select(ln.File, name=\"Mouse Lymph Node scRNA-seq\").one()\n",
    "    featureset_id = file.features[0].id"
   ]
  },
  {
   "cell_type": "markdown",
   "id": "a444dfcb-a522-424d-9e60-ee43726a0005",
   "metadata": {},
   "source": [
    "Let's now query the added feature set and try to lazy load a subset of the gene records (first three gene records)."
   ]
  },
  {
   "cell_type": "code",
   "execution_count": null,
   "id": "92e7bde1-e3a9-437e-be11-fac6387eafb7",
   "metadata": {},
   "outputs": [],
   "source": [
    "with ln.Session() as ss:\n",
    "    features_session = ss.select(ln.Features, id=featureset_id).one()\n",
    "    gene_subset = features_session.genes[:3]"
   ]
  },
  {
   "cell_type": "code",
   "execution_count": null,
   "id": "3a1a99e7-10c3-456b-a609-c522fdc061eb",
   "metadata": {},
   "outputs": [],
   "source": [
    "gene_subset"
   ]
  },
  {
   "cell_type": "markdown",
   "id": "2395077d-b7a9-42c1-9553-f5b78882f3ee",
   "metadata": {},
   "source": [
    "With lazy loading, we would expect only these three `Gene` records to be available through the ORM after the session was closed."
   ]
  },
  {
   "cell_type": "code",
   "execution_count": null,
   "id": "9ad955cc-33b7-4797-8727-d288879a8f72",
   "metadata": {},
   "outputs": [],
   "source": [
    "print(len(features_session.genes))"
   ]
  },
  {
   "cell_type": "markdown",
   "id": "a3f862ac-2090-4011-809f-9eebb5721e1a",
   "metadata": {},
   "source": [
    "This is not the case since all 10,044 `Gene` records are available in memory."
   ]
  }
 ],
 "metadata": {
  "kernelspec": {
   "display_name": "Python 3",
   "language": "python",
   "name": "python3"
  },
  "language_info": {
   "codemirror_mode": {
    "name": "ipython",
    "version": 3
   },
   "file_extension": ".py",
   "mimetype": "text/x-python",
   "name": "python",
   "nbconvert_exporter": "python",
   "pygments_lexer": "ipython3",
   "version": "3.10.8 (main, Oct 13 2022, 09:48:40) [Clang 14.0.0 (clang-1400.0.29.102)]"
  },
  "nbproject": {
   "id": "qQ7gsL2y5S1U",
   "parent": null,
   "pypackage": null,
   "time_init": "2023-02-02T19:43:23.405806+00:00",
   "user_handle": "testuser1",
   "user_id": "DzTjkKse",
   "user_name": "Test User1",
   "version": "0"
  },
  "vscode": {
   "interpreter": {
    "hash": "b0fa6594d8f4cbf19f97940f81e996739fb7646882a419484c72d19e05852a7e"
   }
  }
 },
 "nbformat": 4,
 "nbformat_minor": 5
}
