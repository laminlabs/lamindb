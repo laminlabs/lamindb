{
 "cells": [
  {
   "cell_type": "markdown",
   "id": "0",
   "metadata": {},
   "source": [
    "# How does search work?"
   ]
  },
  {
   "cell_type": "code",
   "execution_count": null,
   "id": "1",
   "metadata": {
    "tags": [
     "hide-cell"
    ]
   },
   "outputs": [],
   "source": [
    "from laminci.db import setup_local_test_postgres\n",
    "\n",
    "pgurl = setup_local_test_postgres()\n",
    "!lamin init --name benchmark_search --db {pgurl} --modules bionty --storage ./benchmark_search"
   ]
  },
  {
   "cell_type": "markdown",
   "id": "2",
   "metadata": {},
   "source": [
    "Here we show how to perform text search on `Record` and evaluate some search queries for the {class}`bionty.CellType` ontology."
   ]
  },
  {
   "cell_type": "code",
   "execution_count": null,
   "id": "3",
   "metadata": {},
   "outputs": [],
   "source": [
    "import lamindb as ln\n",
    "import bionty as bt\n",
    "\n",
    "SEARCH_QUERIES_EXACT = (\n",
    "    \"t cell\",\n",
    "    \"stem cell\",\n",
    "    \"b cell\",\n",
    "    \"regulatory B cell\",\n",
    "    \"Be2 cell\",\n",
    "    \"adipocyte\",\n",
    ")\n",
    "SEARCH_QUERIES_CONTAINS = (\"t cel\", \"t-cel\", \"neural\", \"kidney\", \"kidne\")\n",
    "TOP_N = 20\n",
    "\n",
    "bt.CellType.import_source()"
   ]
  },
  {
   "cell_type": "code",
   "execution_count": null,
   "id": "4",
   "metadata": {},
   "outputs": [],
   "source": [
    "ln.ULabel(name=\"cat[*_*]\").save()"
   ]
  },
  {
   "cell_type": "markdown",
   "id": "5",
   "metadata": {},
   "source": [
    "## Search the registry"
   ]
  },
  {
   "cell_type": "code",
   "execution_count": null,
   "id": "6",
   "metadata": {
    "tags": [
     "hide-output"
    ]
   },
   "outputs": [],
   "source": [
    "for query in SEARCH_QUERIES_EXACT:\n",
    "    print(\"Query:\", query)\n",
    "    qs = bt.CellType.search(query)\n",
    "    display(qs.df())\n",
    "\n",
    "    assert query.lower() == qs[0].name.lower()"
   ]
  },
  {
   "cell_type": "code",
   "execution_count": null,
   "id": "7",
   "metadata": {
    "tags": [
     "hide-output"
    ]
   },
   "outputs": [],
   "source": [
    "for query in SEARCH_QUERIES_CONTAINS:\n",
    "    print(\"Query:\", query)\n",
    "    qs = bt.CellType.search(query)\n",
    "    display(qs.df())\n",
    "\n",
    "    top_record = qs[0]\n",
    "    query = query.lower()\n",
    "    assert query in top_record.name.lower() or query in top_record.synonyms.lower()"
   ]
  },
  {
   "cell_type": "markdown",
   "id": "8",
   "metadata": {},
   "source": [
    "Check escaping of special characters."
   ]
  },
  {
   "cell_type": "code",
   "execution_count": null,
   "id": "9",
   "metadata": {},
   "outputs": [],
   "source": [
    "assert len(ln.ULabel.search(\"cat[\")) == 1"
   ]
  },
  {
   "cell_type": "code",
   "execution_count": null,
   "id": "10",
   "metadata": {},
   "outputs": [],
   "source": [
    "assert len(ln.ULabel.search(\"*_*\")) == 1"
   ]
  },
  {
   "cell_type": "markdown",
   "id": "11",
   "metadata": {},
   "source": [
    "## Search the public ontology"
   ]
  },
  {
   "cell_type": "code",
   "execution_count": null,
   "id": "12",
   "metadata": {
    "tags": [
     "hide-output"
    ]
   },
   "outputs": [],
   "source": [
    "ct_public = bt.CellType.public()\n",
    "\n",
    "df = ct_public.search(\"b cell\", limit=20)\n",
    "assert df.iloc[0][\"name\"] == \"B cell\"\n",
    "df"
   ]
  },
  {
   "cell_type": "code",
   "execution_count": null,
   "id": "13",
   "metadata": {
    "tags": [
     "hide-cell"
    ]
   },
   "outputs": [],
   "source": [
    "!docker stop pgtest && docker rm pgtest\n",
    "!lamin delete --force benchmark_search"
   ]
  }
 ],
 "metadata": {
  "kernelspec": {
   "display_name": "Python 3 (ipykernel)",
   "language": "python",
   "name": "python3"
  },
  "language_info": {
   "codemirror_mode": {
    "name": "ipython",
    "version": 3
   },
   "file_extension": ".py",
   "mimetype": "text/x-python",
   "name": "python",
   "nbconvert_exporter": "python",
   "pygments_lexer": "ipython3",
   "version": "3.9.17"
  }
 },
 "nbformat": 4,
 "nbformat_minor": 5
}
