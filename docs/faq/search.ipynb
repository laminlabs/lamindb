{
 "cells": [
  {
   "cell_type": "markdown",
   "id": "e0293a39",
   "metadata": {},
   "source": [
    "# How does search work?"
   ]
  },
  {
   "cell_type": "code",
   "execution_count": null,
   "id": "955b6253",
   "metadata": {},
   "outputs": [],
   "source": [
    "from laminci.db import setup_local_test_postgres"
   ]
  },
  {
   "cell_type": "code",
   "execution_count": null,
   "id": "7f312433",
   "metadata": {},
   "outputs": [],
   "source": [
    "pgurl = setup_local_test_postgres()"
   ]
  },
  {
   "cell_type": "code",
   "execution_count": null,
   "id": "286aeebc",
   "metadata": {},
   "outputs": [],
   "source": [
    "!lamin init --name benchmark_search --db {pgurl} --schema bionty --storage ./benchmark_search"
   ]
  },
  {
   "cell_type": "markdown",
   "id": "40234d47",
   "metadata": {},
   "source": [
    "Here we show how to perform text search on `Record` and evaluate some search queries."
   ]
  },
  {
   "cell_type": "code",
   "execution_count": null,
   "id": "47cef058",
   "metadata": {},
   "outputs": [],
   "source": [
    "import lamindb as ln\n",
    "import bionty as bt"
   ]
  },
  {
   "cell_type": "code",
   "execution_count": null,
   "id": "83a46a9a",
   "metadata": {},
   "outputs": [],
   "source": [
    "bt.CellType.import_source()"
   ]
  },
  {
   "cell_type": "code",
   "execution_count": null,
   "id": "7991a73f",
   "metadata": {},
   "outputs": [],
   "source": [
    "SEARCH_QUERIES_EXACT = (\"t cell\", \"stem cell\", \"b cell\", \"regulatory B cell\", \"Be2 cell\", \"adipocyte\")\n",
    "SEARCH_QUERIES_CONTAINS = (\"t cel\", \"t-cel\", \"neural\", \"kidney\", \"kidne\")\n",
    "TOP_N = 20"
   ]
  },
  {
   "cell_type": "code",
   "execution_count": null,
   "id": "682fcd2f",
   "metadata": {},
   "outputs": [],
   "source": [
    "for query in SEARCH_QUERIES_EXACT:\n",
    "    print(\"Query:\", query)\n",
    "    qs = bt.CellType.search(query)\n",
    "    display(qs.df())\n",
    "    \n",
    "    assert query.lower() == qs[0].name.lower()"
   ]
  },
  {
   "cell_type": "code",
   "execution_count": null,
   "id": "ee059b0d",
   "metadata": {},
   "outputs": [],
   "source": [
    "for query in SEARCH_QUERIES_CONTAINS:\n",
    "    print(\"Query:\", query)\n",
    "    qs = bt.CellType.search(query)\n",
    "    display(qs.df())\n",
    "\n",
    "    top_record = qs[0]\n",
    "    query = query.lower()\n",
    "    assert query in top_record.name.lower() or query in top_record.synonyms.lower()"
   ]
  },
  {
   "cell_type": "code",
   "execution_count": null,
   "id": "53038793",
   "metadata": {
    "tags": [
     "hide-cell"
    ]
   },
   "outputs": [],
   "source": [
    "!docker stop pgtest && docker rm pgtest\n",
    "!lamin delete --force benchmark_search"
   ]
  }
 ],
 "metadata": {
  "kernelspec": {
   "display_name": "Python 3 (ipykernel)",
   "language": "python",
   "name": "python3"
  },
  "language_info": {
   "codemirror_mode": {
    "name": "ipython",
    "version": 3
   },
   "file_extension": ".py",
   "mimetype": "text/x-python",
   "name": "python",
   "nbconvert_exporter": "python",
   "pygments_lexer": "ipython3",
   "version": "3.9.17"
  }
 },
 "nbformat": 4,
 "nbformat_minor": 5
}
