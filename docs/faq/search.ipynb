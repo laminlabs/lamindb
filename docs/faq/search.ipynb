{
 "cells": [
  {
   "cell_type": "markdown",
   "id": "e0293a39",
   "metadata": {},
   "source": [
    "# How does search work?"
   ]
  },
  {
   "cell_type": "code",
   "execution_count": null,
   "id": "286aeebc",
   "metadata": {
    "tags": [
     "hide-cell"
    ]
   },
   "outputs": [],
   "source": [
    "from laminci.db import setup_local_test_postgres\n",
    "pgurl = setup_local_test_postgres()\n",
    "!lamin init --name benchmark_search --db {pgurl} --schema bionty --storage ./benchmark_search"
   ]
  },
  {
   "cell_type": "markdown",
   "id": "40234d47",
   "metadata": {},
   "source": [
    "Here we show how to perform text search on `Record` and evaluate some search queries for the {class}`bionty.CellType` ontology."
   ]
  },
  {
   "cell_type": "code",
   "execution_count": null,
   "id": "47cef058",
   "metadata": {},
   "outputs": [],
   "source": [
    "import lamindb as ln\n",
    "import bionty as bt\n",
    "\n",
    "SEARCH_QUERIES_EXACT = (\"t cell\", \"stem cell\", \"b cell\", \"regulatory B cell\", \"Be2 cell\", \"adipocyte\")\n",
    "SEARCH_QUERIES_CONTAINS = (\"t cel\", \"t-cel\", \"neural\", \"kidney\", \"kidne\")\n",
    "TOP_N = 20\n",
    "\n",
    "bt.CellType.import_source()"
   ]
  },
  {
   "cell_type": "markdown",
   "id": "799b528e",
   "metadata": {},
   "source": [
    "## Search the registry"
   ]
  },
  {
   "cell_type": "code",
   "execution_count": null,
   "id": "682fcd2f",
   "metadata": {
    "tags": [
     "hide-output"
    ]
   },
   "outputs": [],
   "source": [
    "for query in SEARCH_QUERIES_EXACT:\n",
    "    print(\"Query:\", query)\n",
    "    qs = bt.CellType.search(query)\n",
    "    display(qs.df())\n",
    "    \n",
    "    assert query.lower() == qs[0].name.lower()"
   ]
  },
  {
   "cell_type": "code",
   "execution_count": null,
   "id": "ee059b0d",
   "metadata": {
    "tags": [
     "hide-output"
    ]
   },
   "outputs": [],
   "source": [
    "for query in SEARCH_QUERIES_CONTAINS:\n",
    "    print(\"Query:\", query)\n",
    "    qs = bt.CellType.search(query)\n",
    "    display(qs.df())\n",
    "\n",
    "    top_record = qs[0]\n",
    "    query = query.lower()\n",
    "    assert query in top_record.name.lower() or query in top_record.synonyms.lower()"
   ]
  },
  {
   "cell_type": "markdown",
   "id": "f4e41c9b",
   "metadata": {},
   "source": [
    "## Search the public ontology"
   ]
  },
  {
   "cell_type": "code",
   "execution_count": null,
   "id": "d42c3594",
   "metadata": {
    "tags": [
     "hide-output"
    ]
   },
   "outputs": [],
   "source": [
    "ct_public = bt.CellType.public()\n",
    "\n",
    "df = ct_public.search(\"b cell\", limit=20)\n",
    "assert df.iloc[0][\"name\"] == \"B cell\"\n",
    "df"
   ]
  },
  {
   "cell_type": "code",
   "execution_count": null,
   "id": "53038793",
   "metadata": {
    "tags": [
     "hide-cell"
    ]
   },
   "outputs": [],
   "source": [
    "!docker stop pgtest && docker rm pgtest\n",
    "!lamin delete --force benchmark_search"
   ]
  }
 ],
 "metadata": {
  "kernelspec": {
   "display_name": "Python 3 (ipykernel)",
   "language": "python",
   "name": "python3"
  },
  "language_info": {
   "codemirror_mode": {
    "name": "ipython",
    "version": 3
   },
   "file_extension": ".py",
   "mimetype": "text/x-python",
   "name": "python",
   "nbconvert_exporter": "python",
   "pygments_lexer": "ipython3",
   "version": "3.9.17"
  }
 },
 "nbformat": 4,
 "nbformat_minor": 5
}
