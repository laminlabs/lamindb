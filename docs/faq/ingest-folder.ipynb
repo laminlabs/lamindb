{
 "cells": [
  {
   "cell_type": "markdown",
   "metadata": {},
   "source": [
    "# Ingest a folder"
   ]
  },
  {
   "cell_type": "code",
   "execution_count": 1,
   "metadata": {},
   "outputs": [
    {
     "data": {
      "text/html": [
       "<table><tbody><tr><td style='text-align: left;'><b>author</b></td><td style='text-align: left;'>Test User1 (testuser1)</td></tr><tr><td style='text-align: left;'><b>id</b></td><td style='text-align: left;'>QrRt<span style='opacity:0.3'>GnxmM3Bo</span></td></tr><tr><td style='text-align: left;'><b>version</b></td><td style='text-align: left;'>0</td></tr><tr><td style='text-align: left;'><b>time_init</b></td><td style='text-align: left;'>2023-02-17 04:58</td></tr><tr><td style='text-align: left;'><b>time_run</b></td><td style='text-align: left;'>2023-02-22 04:17</td></tr><tr><td style='text-align: left;'><b>pypackage</b></td><td style='text-align: left;'>lamindb==0.28.0 lndb==0.35.0</td></tr></tbody></table>"
      ],
      "text/plain": [
       "<IPython.core.display.HTML object>"
      ]
     },
     "metadata": {},
     "output_type": "display_data"
    },
    {
     "name": "stdout",
     "output_type": "stream",
     "text": [
      "ℹ️ Instance: testuser1/fasta\n",
      "ℹ️ Loaded notebook: QrRtGnxmM3Bo v0\n",
      "ℹ️ Loaded run: rNRSgT2bKiSXHpYqgdsb\n"
     ]
    }
   ],
   "source": [
    "import lamindb as ln\n",
    "import lamindb.schema as lns\n",
    "\n",
    "ln.nb.header()"
   ]
  },
  {
   "cell_type": "markdown",
   "metadata": {},
   "source": [
    "## A folder of directories and files"
   ]
  },
  {
   "cell_type": "code",
   "execution_count": 2,
   "metadata": {},
   "outputs": [],
   "source": [
    "from lndb import settings"
   ]
  },
  {
   "cell_type": "code",
   "execution_count": 3,
   "metadata": {},
   "outputs": [
    {
     "data": {
      "text/plain": [
       "PosixPath('/Users/sunnysun/Documents/repos.nosync/redun-lamin-fasta/docs/guide/fasta')"
      ]
     },
     "execution_count": 3,
     "metadata": {},
     "output_type": "execute_result"
    }
   ],
   "source": [
    "settings.instance.storage.root"
   ]
  },
  {
   "cell_type": "code",
   "execution_count": 4,
   "metadata": {},
   "outputs": [
    {
     "data": {
      "text/plain": [
       "PosixPath('/Users/sunnysun/Documents/repos.nosync/redun-lamin-fasta/docs/guide/fasta/sample_001')"
      ]
     },
     "execution_count": 4,
     "metadata": {},
     "output_type": "execute_result"
    }
   ],
   "source": [
    "filedir = ln.dev.datasets.generate_cell_ranger_files(\n",
    "    \"sample_001\", settings.instance.storage.root\n",
    ")\n",
    "\n",
    "filedir"
   ]
  },
  {
   "cell_type": "markdown",
   "metadata": {},
   "source": [
    "## Ingest a folder and its containing files"
   ]
  },
  {
   "attachments": {},
   "cell_type": "markdown",
   "metadata": {},
   "source": [
    "Let's use pass a folder path to `ln.DFolder`, which creates a DFolder record"
   ]
  },
  {
   "cell_type": "code",
   "execution_count": 5,
   "metadata": {},
   "outputs": [
    {
     "data": {
      "text/plain": [
       "DFolder(id='0qC8TzGZ1rfxktGkVBx0', name='sample_001', created_by='DzTjkKse')"
      ]
     },
     "execution_count": 5,
     "metadata": {},
     "output_type": "execute_result"
    }
   ],
   "source": [
    "dfolder = ln.DFolder(folder=filedir)\n",
    "\n",
    "dfolder"
   ]
  },
  {
   "attachments": {},
   "cell_type": "markdown",
   "metadata": {},
   "source": [
    "Meanwhile creates dobject records correspond to each of the file inside the DFolder:"
   ]
  },
  {
   "cell_type": "code",
   "execution_count": 6,
   "metadata": {},
   "outputs": [
    {
     "data": {
      "text/plain": [
       "[DObject(id='oRn8S9x1adngXCzCbV9T', name='web_summary', suffix='.html', size=6, hash='Rkh9pjzWErNtxuMIjAe3aw', source_id='rNRSgT2bKiSXHpYqgdsb', storage_id='s60t5y7B'),\n",
       " DObject(id='WOvH07nOEAlCwN0iv55h', name='metrics_summary', suffix='.csv', size=6, hash='k4NHcq4GjH5E6i7IfQ62Pg', source_id='rNRSgT2bKiSXHpYqgdsb', storage_id='s60t5y7B'),\n",
       " DObject(id='AUTck6DviEg9TKvO2jpJ', name='molecule_info', suffix='.h5', size=6, hash='sG_RdqopACwFxH34y9zRiw', source_id='rNRSgT2bKiSXHpYqgdsb', storage_id='s60t5y7B'),\n",
       " DObject(id='T84UDRxUspxnZYXFO6HA', name='possorted_genome_bam', suffix='.bam.bai', size=6, hash='_2AsrqrIEflAVxwAwGxsqQ', source_id='rNRSgT2bKiSXHpYqgdsb', storage_id='s60t5y7B'),\n",
       " DObject(id='mXi7NOPbofuANkJc5fdG', name='cloupe', suffix='.cloupe', size=6, hash='x3i-lwZkpdIAJjw9soch-Q', source_id='rNRSgT2bKiSXHpYqgdsb', storage_id='s60t5y7B'),\n",
       " DObject(id='blSMTYQUA2oaZg888GeM', name='possorted_genome_bam', suffix='.bam', size=6, hash='S32VL6wPD7u4bDYeZ3B19g', source_id='rNRSgT2bKiSXHpYqgdsb', storage_id='s60t5y7B'),\n",
       " DObject(id='ii4PmhTvgS4pJNyfnds1', name='filtered_feature_bc_matrix', suffix='.h5', size=6, hash='uxjK0yNHEVODAb69YzZOfQ', source_id='rNRSgT2bKiSXHpYqgdsb', storage_id='s60t5y7B'),\n",
       " DObject(id='L2DclRXtqkGFMzyOnnY3', name='raw_feature_bc_matrix', suffix='.h5', size=6, hash='kWndudBGBPeh-NDbP51VZQ', source_id='rNRSgT2bKiSXHpYqgdsb', storage_id='s60t5y7B'),\n",
       " DObject(id='cpU6dz68AAGXgkW5pk1t', name='features', suffix='.tsv.gz', size=6, hash='rr60TTqXqb-2xzGVWsutAA', source_id='rNRSgT2bKiSXHpYqgdsb', storage_id='s60t5y7B'),\n",
       " DObject(id='YwWC24fipqfCGLl7KL9m', name='barcodes', suffix='.tsv.gz', size=6, hash='lnbmSBD1TeLBr-Qt24LE5A', source_id='rNRSgT2bKiSXHpYqgdsb', storage_id='s60t5y7B'),\n",
       " DObject(id='OX0xP0ScXqh9eph1rAQS', name='matrix', suffix='.mtx.gz', size=6, hash='RA9fu54KX06td2KtrIR-ZQ', source_id='rNRSgT2bKiSXHpYqgdsb', storage_id='s60t5y7B'),\n",
       " DObject(id='2kEokHwzfe3IqopaQ1vr', name='analysis', suffix='.csv', size=6, hash='aMpnc-CQQRUJhCtrxgj-Tg', source_id='rNRSgT2bKiSXHpYqgdsb', storage_id='s60t5y7B'),\n",
       " DObject(id='UBQDho1moPYYiq2O9EfG', name='features', suffix='.tsv.gz', size=6, hash='4L97A8Xg5zMdJpQ-nUj0jQ', source_id='rNRSgT2bKiSXHpYqgdsb', storage_id='s60t5y7B'),\n",
       " DObject(id='BayorjRyMVer3eEk9oxI', name='barcodes', suffix='.tsv.gz', size=6, hash='VuNA6lZcH_2SPG6zhJMgSg', source_id='rNRSgT2bKiSXHpYqgdsb', storage_id='s60t5y7B'),\n",
       " DObject(id='JK2lQJaDY2tWFKvwxUA1', name='matrix', suffix='.mtx.gz', size=6, hash='MgdXMKC-I77RvhJ0aE23qA', source_id='rNRSgT2bKiSXHpYqgdsb', storage_id='s60t5y7B')]"
      ]
     },
     "execution_count": 6,
     "metadata": {},
     "output_type": "execute_result"
    }
   ],
   "source": [
    "dfolder.dobjects"
   ]
  },
  {
   "cell_type": "code",
   "execution_count": 7,
   "metadata": {},
   "outputs": [
    {
     "data": {
      "text/plain": [
       "DFolder(id='0qC8TzGZ1rfxktGkVBx0', name='sample_001', created_by='DzTjkKse', created_at=datetime.datetime(2023, 2, 22, 4, 18, 8))"
      ]
     },
     "execution_count": 7,
     "metadata": {},
     "output_type": "execute_result"
    }
   ],
   "source": [
    "ln.add(dfolder)"
   ]
  },
  {
   "cell_type": "markdown",
   "metadata": {},
   "source": [
    "## Query files in dfolder"
   ]
  },
  {
   "attachments": {},
   "cell_type": "markdown",
   "metadata": {},
   "source": [
    "Query a specific file from a dfolder:"
   ]
  },
  {
   "cell_type": "code",
   "execution_count": 8,
   "metadata": {},
   "outputs": [
    {
     "data": {
      "text/html": [
       "<div>\n",
       "<style scoped>\n",
       "    .dataframe tbody tr th:only-of-type {\n",
       "        vertical-align: middle;\n",
       "    }\n",
       "\n",
       "    .dataframe tbody tr th {\n",
       "        vertical-align: top;\n",
       "    }\n",
       "\n",
       "    .dataframe thead th {\n",
       "        text-align: right;\n",
       "    }\n",
       "</style>\n",
       "<table border=\"1\" class=\"dataframe\">\n",
       "  <thead>\n",
       "    <tr style=\"text-align: right;\">\n",
       "      <th></th>\n",
       "      <th>name</th>\n",
       "      <th>suffix</th>\n",
       "      <th>size</th>\n",
       "      <th>hash</th>\n",
       "      <th>source_id</th>\n",
       "      <th>storage_id</th>\n",
       "      <th>created_at</th>\n",
       "      <th>updated_at</th>\n",
       "    </tr>\n",
       "    <tr>\n",
       "      <th>id</th>\n",
       "      <th></th>\n",
       "      <th></th>\n",
       "      <th></th>\n",
       "      <th></th>\n",
       "      <th></th>\n",
       "      <th></th>\n",
       "      <th></th>\n",
       "      <th></th>\n",
       "    </tr>\n",
       "  </thead>\n",
       "  <tbody>\n",
       "    <tr>\n",
       "      <th>WOvH07nOEAlCwN0iv55h</th>\n",
       "      <td>metrics_summary</td>\n",
       "      <td>.csv</td>\n",
       "      <td>6</td>\n",
       "      <td>k4NHcq4GjH5E6i7IfQ62Pg</td>\n",
       "      <td>rNRSgT2bKiSXHpYqgdsb</td>\n",
       "      <td>s60t5y7B</td>\n",
       "      <td>2023-02-22 04:18:08</td>\n",
       "      <td>None</td>\n",
       "    </tr>\n",
       "  </tbody>\n",
       "</table>\n",
       "</div>"
      ],
      "text/plain": [
       "                                 name suffix  size                    hash  \\\n",
       "id                                                                           \n",
       "WOvH07nOEAlCwN0iv55h  metrics_summary   .csv     6  k4NHcq4GjH5E6i7IfQ62Pg   \n",
       "\n",
       "                                 source_id storage_id          created_at  \\\n",
       "id                                                                          \n",
       "WOvH07nOEAlCwN0iv55h  rNRSgT2bKiSXHpYqgdsb   s60t5y7B 2023-02-22 04:18:08   \n",
       "\n",
       "                     updated_at  \n",
       "id                               \n",
       "WOvH07nOEAlCwN0iv55h       None  "
      ]
     },
     "execution_count": 8,
     "metadata": {},
     "output_type": "execute_result"
    }
   ],
   "source": [
    "ln.select(ln.DObject, name=\"metrics_summary\").join(ln.DObject.dfolders).where(\n",
    "    ln.DFolder.name == \"sample_001\"\n",
    ").df()"
   ]
  },
  {
   "attachments": {},
   "cell_type": "markdown",
   "metadata": {},
   "source": [
    "Retrieve dobjects from a dfolder"
   ]
  },
  {
   "cell_type": "code",
   "execution_count": 9,
   "metadata": {},
   "outputs": [],
   "source": [
    "ss = ln.Session()\n",
    "dfolder = ss.select(ln.DFolder, name=\"sample_001\").one()\n",
    "dobjects = dfolder.dobjects\n",
    "ss.close()"
   ]
  },
  {
   "cell_type": "code",
   "execution_count": 10,
   "metadata": {},
   "outputs": [
    {
     "data": {
      "text/plain": [
       "[DObject(id='2kEokHwzfe3IqopaQ1vr', name='analysis', suffix='.csv', size=6, hash='aMpnc-CQQRUJhCtrxgj-Tg', source_id='rNRSgT2bKiSXHpYqgdsb', storage_id='s60t5y7B', created_at=datetime.datetime(2023, 2, 22, 4, 18, 8)),\n",
       " DObject(id='AUTck6DviEg9TKvO2jpJ', name='molecule_info', suffix='.h5', size=6, hash='sG_RdqopACwFxH34y9zRiw', source_id='rNRSgT2bKiSXHpYqgdsb', storage_id='s60t5y7B', created_at=datetime.datetime(2023, 2, 22, 4, 18, 8)),\n",
       " DObject(id='BayorjRyMVer3eEk9oxI', name='barcodes', suffix='.tsv.gz', size=6, hash='VuNA6lZcH_2SPG6zhJMgSg', source_id='rNRSgT2bKiSXHpYqgdsb', storage_id='s60t5y7B', created_at=datetime.datetime(2023, 2, 22, 4, 18, 8)),\n",
       " DObject(id='JK2lQJaDY2tWFKvwxUA1', name='matrix', suffix='.mtx.gz', size=6, hash='MgdXMKC-I77RvhJ0aE23qA', source_id='rNRSgT2bKiSXHpYqgdsb', storage_id='s60t5y7B', created_at=datetime.datetime(2023, 2, 22, 4, 18, 8)),\n",
       " DObject(id='L2DclRXtqkGFMzyOnnY3', name='raw_feature_bc_matrix', suffix='.h5', size=6, hash='kWndudBGBPeh-NDbP51VZQ', source_id='rNRSgT2bKiSXHpYqgdsb', storage_id='s60t5y7B', created_at=datetime.datetime(2023, 2, 22, 4, 18, 8)),\n",
       " DObject(id='OX0xP0ScXqh9eph1rAQS', name='matrix', suffix='.mtx.gz', size=6, hash='RA9fu54KX06td2KtrIR-ZQ', source_id='rNRSgT2bKiSXHpYqgdsb', storage_id='s60t5y7B', created_at=datetime.datetime(2023, 2, 22, 4, 18, 8)),\n",
       " DObject(id='T84UDRxUspxnZYXFO6HA', name='possorted_genome_bam', suffix='.bam.bai', size=6, hash='_2AsrqrIEflAVxwAwGxsqQ', source_id='rNRSgT2bKiSXHpYqgdsb', storage_id='s60t5y7B', created_at=datetime.datetime(2023, 2, 22, 4, 18, 8)),\n",
       " DObject(id='UBQDho1moPYYiq2O9EfG', name='features', suffix='.tsv.gz', size=6, hash='4L97A8Xg5zMdJpQ-nUj0jQ', source_id='rNRSgT2bKiSXHpYqgdsb', storage_id='s60t5y7B', created_at=datetime.datetime(2023, 2, 22, 4, 18, 8)),\n",
       " DObject(id='WOvH07nOEAlCwN0iv55h', name='metrics_summary', suffix='.csv', size=6, hash='k4NHcq4GjH5E6i7IfQ62Pg', source_id='rNRSgT2bKiSXHpYqgdsb', storage_id='s60t5y7B', created_at=datetime.datetime(2023, 2, 22, 4, 18, 8)),\n",
       " DObject(id='YwWC24fipqfCGLl7KL9m', name='barcodes', suffix='.tsv.gz', size=6, hash='lnbmSBD1TeLBr-Qt24LE5A', source_id='rNRSgT2bKiSXHpYqgdsb', storage_id='s60t5y7B', created_at=datetime.datetime(2023, 2, 22, 4, 18, 8)),\n",
       " DObject(id='blSMTYQUA2oaZg888GeM', name='possorted_genome_bam', suffix='.bam', size=6, hash='S32VL6wPD7u4bDYeZ3B19g', source_id='rNRSgT2bKiSXHpYqgdsb', storage_id='s60t5y7B', created_at=datetime.datetime(2023, 2, 22, 4, 18, 8)),\n",
       " DObject(id='cpU6dz68AAGXgkW5pk1t', name='features', suffix='.tsv.gz', size=6, hash='rr60TTqXqb-2xzGVWsutAA', source_id='rNRSgT2bKiSXHpYqgdsb', storage_id='s60t5y7B', created_at=datetime.datetime(2023, 2, 22, 4, 18, 8)),\n",
       " DObject(id='ii4PmhTvgS4pJNyfnds1', name='filtered_feature_bc_matrix', suffix='.h5', size=6, hash='uxjK0yNHEVODAb69YzZOfQ', source_id='rNRSgT2bKiSXHpYqgdsb', storage_id='s60t5y7B', created_at=datetime.datetime(2023, 2, 22, 4, 18, 8)),\n",
       " DObject(id='mXi7NOPbofuANkJc5fdG', name='cloupe', suffix='.cloupe', size=6, hash='x3i-lwZkpdIAJjw9soch-Q', source_id='rNRSgT2bKiSXHpYqgdsb', storage_id='s60t5y7B', created_at=datetime.datetime(2023, 2, 22, 4, 18, 8)),\n",
       " DObject(id='oRn8S9x1adngXCzCbV9T', name='web_summary', suffix='.html', size=6, hash='Rkh9pjzWErNtxuMIjAe3aw', source_id='rNRSgT2bKiSXHpYqgdsb', storage_id='s60t5y7B', created_at=datetime.datetime(2023, 2, 22, 4, 18, 8))]"
      ]
     },
     "execution_count": 10,
     "metadata": {},
     "output_type": "execute_result"
    }
   ],
   "source": [
    "dobjects"
   ]
  }
 ],
 "metadata": {
  "kernelspec": {
   "display_name": "Python 3 (ipykernel)",
   "language": "python",
   "name": "python3"
  },
  "language_info": {
   "codemirror_mode": {
    "name": "ipython",
    "version": 3
   },
   "file_extension": ".py",
   "mimetype": "text/x-python",
   "name": "python",
   "nbconvert_exporter": "python",
   "pygments_lexer": "ipython3",
   "version": "3.9.13"
  },
  "nbproject": {
   "id": "QrRtGnxmM3Bo",
   "parent": null,
   "pypackage": null,
   "time_init": "2023-02-17T04:58:45.549866+00:00",
   "user_handle": "testuser1",
   "user_id": "DzTjkKse",
   "user_name": "Test User1",
   "version": "0"
  },
  "vscode": {
   "interpreter": {
    "hash": "ae1fefc8646a06dd2e75004cd934adda7c5727b046986a772e3b44b0ffba9754"
   }
  }
 },
 "nbformat": 4,
 "nbformat_minor": 4
}
