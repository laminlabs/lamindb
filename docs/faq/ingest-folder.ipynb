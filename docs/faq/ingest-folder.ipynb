{
 "cells": [
  {
   "cell_type": "markdown",
   "metadata": {},
   "source": [
    "# Ingest a folder"
   ]
  },
  {
   "cell_type": "code",
   "execution_count": 1,
   "metadata": {},
   "outputs": [],
   "source": [
    "import lndb"
   ]
  },
  {
   "cell_type": "code",
   "execution_count": 2,
   "metadata": {},
   "outputs": [
    {
     "name": "stdout",
     "output_type": "stream",
     "text": [
      "ℹ️ Loading schema modules: core==0.28.0 \n",
      "ℹ️ Created instance testuser1/testfolder\n"
     ]
    }
   ],
   "source": [
    "lndb.init(storage=\"testfolder\")"
   ]
  },
  {
   "cell_type": "code",
   "execution_count": 3,
   "metadata": {},
   "outputs": [
    {
     "data": {
      "text/html": [
       "<table><tbody><tr><td style='text-align: left;'><b>author</b></td><td style='text-align: left;'>Test User1 (testuser1)</td></tr><tr><td style='text-align: left;'><b>id</b></td><td style='text-align: left;'>QrRt<span style='opacity:0.3'>GnxmM3Bo</span></td></tr><tr><td style='text-align: left;'><b>version</b></td><td style='text-align: left;'>0</td></tr><tr><td style='text-align: left;'><b>time_init</b></td><td style='text-align: left;'>2023-02-17 04:58</td></tr><tr><td style='text-align: left;'><b>time_run</b></td><td style='text-align: left;'>2023-02-22 07:12</td></tr><tr><td style='text-align: left;'><b>pypackage</b></td><td style='text-align: left;'>lamindb==0.28.0 lndb==0.35.0 seedir==0.4.2</td></tr></tbody></table>"
      ],
      "text/plain": [
       "<IPython.core.display.HTML object>"
      ]
     },
     "metadata": {},
     "output_type": "display_data"
    },
    {
     "name": "stdout",
     "output_type": "stream",
     "text": [
      "ℹ️ Instance: testuser1/testfolder\n",
      "ℹ️ Added notebook: QrRtGnxmM3Bo v0\n",
      "ℹ️ Added run: cOKGbgxPFof6hnBZVtGD\n"
     ]
    }
   ],
   "source": [
    "import lamindb as ln\n",
    "import lamindb.schema as lns\n",
    "\n",
    "ln.nb.header()"
   ]
  },
  {
   "cell_type": "markdown",
   "metadata": {},
   "source": [
    "## A folder of directories and files"
   ]
  },
  {
   "cell_type": "code",
   "execution_count": 4,
   "metadata": {},
   "outputs": [],
   "source": [
    "from lndb import settings"
   ]
  },
  {
   "cell_type": "code",
   "execution_count": 5,
   "metadata": {},
   "outputs": [
    {
     "data": {
      "text/plain": [
       "PosixPath('/Users/sunnysun/Documents/repos.nosync/lamin-platform/src/lamindb/docs/faq/testfolder')"
      ]
     },
     "execution_count": 5,
     "metadata": {},
     "output_type": "execute_result"
    }
   ],
   "source": [
    "settings.instance.storage.root"
   ]
  },
  {
   "cell_type": "code",
   "execution_count": 6,
   "metadata": {},
   "outputs": [
    {
     "data": {
      "text/plain": [
       "PosixPath('/Users/sunnysun/Documents/repos.nosync/lamin-platform/src/lamindb/docs/faq/testfolder/sample_001')"
      ]
     },
     "execution_count": 6,
     "metadata": {},
     "output_type": "execute_result"
    }
   ],
   "source": [
    "filedir = ln.dev.datasets.generate_cell_ranger_files(\n",
    "    \"sample_001\", settings.instance.storage.root\n",
    ")\n",
    "\n",
    "filedir"
   ]
  },
  {
   "cell_type": "markdown",
   "metadata": {},
   "source": [
    "## Ingest a folder and its containing files"
   ]
  },
  {
   "attachments": {},
   "cell_type": "markdown",
   "metadata": {},
   "source": [
    "Let's use pass a folder path to `ln.DFolder`, which creates a DFolder record"
   ]
  },
  {
   "cell_type": "code",
   "execution_count": 7,
   "metadata": {},
   "outputs": [
    {
     "data": {
      "text/plain": [
       "DFolder(id='X6KxqCcJXTaS4CXAIdvU', name='sample_001', created_by='DzTjkKse')"
      ]
     },
     "execution_count": 7,
     "metadata": {},
     "output_type": "execute_result"
    }
   ],
   "source": [
    "dfolder = ln.DFolder(folder=filedir)\n",
    "\n",
    "dfolder"
   ]
  },
  {
   "attachments": {},
   "cell_type": "markdown",
   "metadata": {},
   "source": [
    "Meanwhile creates dobject records correspond to each of the file inside the DFolder:"
   ]
  },
  {
   "cell_type": "code",
   "execution_count": 8,
   "metadata": {},
   "outputs": [
    {
     "data": {
      "text/plain": [
       "[DObject(id='u3Vb5fZYhTxqRCEtzZNk', name='web_summary', suffix='.html', size=6, hash='CI8aOEjlaU1BUXC5EZ1N7Q', source_id='cOKGbgxPFof6hnBZVtGD', storage_id='a7FdvJcN'),\n",
       " DObject(id='Kp4TlxDtbHlEFUmXkXY9', name='metrics_summary', suffix='.csv', size=6, hash='E5OGhMr3RqFFOVWQaIT4mg', source_id='cOKGbgxPFof6hnBZVtGD', storage_id='a7FdvJcN'),\n",
       " DObject(id='mKvmsVnfp2zmiR1BG72n', name='molecule_info', suffix='.h5', size=6, hash='S1naTPO5ZhdXJ0kUObNqzQ', source_id='cOKGbgxPFof6hnBZVtGD', storage_id='a7FdvJcN'),\n",
       " DObject(id='CqP9nfqz83rIp6oRUrUX', name='possorted_genome_bam', suffix='.bam.bai', size=6, hash='FnPr8pQC6xVL5Wfqy65vaw', source_id='cOKGbgxPFof6hnBZVtGD', storage_id='a7FdvJcN'),\n",
       " DObject(id='YYnVy087TJA7T1JNzV8t', name='cloupe', suffix='.cloupe', size=6, hash='bt5hchtqQNDpN5fGHtEyWg', source_id='cOKGbgxPFof6hnBZVtGD', storage_id='a7FdvJcN'),\n",
       " DObject(id='Bah4KaKMPxqxT7h32jLv', name='possorted_genome_bam', suffix='.bam', size=6, hash='3AWDUu6109jsFMY62zJErw', source_id='cOKGbgxPFof6hnBZVtGD', storage_id='a7FdvJcN'),\n",
       " DObject(id='mvvSNrjgWBIzPkeqrfKA', name='filtered_feature_bc_matrix', suffix='.h5', size=6, hash='yPB8rC-Ey0p1OvLlLdpvgg', source_id='cOKGbgxPFof6hnBZVtGD', storage_id='a7FdvJcN'),\n",
       " DObject(id='U1v0oMv7CIyhQHLG8dE2', name='raw_feature_bc_matrix', suffix='.h5', size=6, hash='aZgcdRknqzgPyOAD9ixA6A', source_id='cOKGbgxPFof6hnBZVtGD', storage_id='a7FdvJcN'),\n",
       " DObject(id='UKYo5mX5evhgBXmd1D4s', name='features', suffix='.tsv.gz', size=6, hash='w46Jh-73EM0ba_NstNZKOg', source_id='cOKGbgxPFof6hnBZVtGD', storage_id='a7FdvJcN'),\n",
       " DObject(id='811uh4mxE8OtoQL7dbQI', name='barcodes', suffix='.tsv.gz', size=6, hash='yGlfjRbKCNjn_J9lz6ZuVw', source_id='cOKGbgxPFof6hnBZVtGD', storage_id='a7FdvJcN'),\n",
       " DObject(id='63dIUIJrwZkNiaom7z9b', name='matrix', suffix='.mtx.gz', size=6, hash='NxVONWh7YeUMP1fK6wgQAA', source_id='cOKGbgxPFof6hnBZVtGD', storage_id='a7FdvJcN'),\n",
       " DObject(id='teynTHYUNkyMiLIWwZph', name='analysis', suffix='.csv', size=6, hash='wQOGvu_KhtAp4v1UGAQtHw', source_id='cOKGbgxPFof6hnBZVtGD', storage_id='a7FdvJcN'),\n",
       " DObject(id='4dzpg6hrN18aGBTNEP5P', name='features', suffix='.tsv.gz', size=6, hash='fkPzd7f-FObGXNO_C-ONSA', source_id='cOKGbgxPFof6hnBZVtGD', storage_id='a7FdvJcN'),\n",
       " DObject(id='n4CMxIZsqQCRUOLFFfWX', name='barcodes', suffix='.tsv.gz', size=6, hash='zXkoIIqFlCGYmiFzRlF7lA', source_id='cOKGbgxPFof6hnBZVtGD', storage_id='a7FdvJcN'),\n",
       " DObject(id='4qPnxQhgnYukqIXWm0zj', name='matrix', suffix='.mtx.gz', size=6, hash='OQlsRfdLcJ8c66KzaJmevQ', source_id='cOKGbgxPFof6hnBZVtGD', storage_id='a7FdvJcN')]"
      ]
     },
     "execution_count": 8,
     "metadata": {},
     "output_type": "execute_result"
    }
   ],
   "source": [
    "dfolder.dobjects"
   ]
  },
  {
   "cell_type": "code",
   "execution_count": 9,
   "metadata": {},
   "outputs": [
    {
     "data": {
      "text/plain": [
       "DFolder(id='X6KxqCcJXTaS4CXAIdvU', name='sample_001', created_by='DzTjkKse', created_at=datetime.datetime(2023, 2, 22, 7, 13, 18))"
      ]
     },
     "execution_count": 9,
     "metadata": {},
     "output_type": "execute_result"
    }
   ],
   "source": [
    "ln.add(dfolder)"
   ]
  },
  {
   "cell_type": "markdown",
   "metadata": {},
   "source": [
    "## Query files in dfolder"
   ]
  },
  {
   "attachments": {},
   "cell_type": "markdown",
   "metadata": {},
   "source": [
    "Retrieve dobjects from a dfolder:"
   ]
  },
  {
   "cell_type": "code",
   "execution_count": 18,
   "metadata": {},
   "outputs": [],
   "source": [
    "ss = ln.Session()\n",
    "dfolder = ss.select(ln.DFolder, name=\"sample_001\").one()\n",
    "dobjects = dfolder.dobjects\n",
    "ss.close()"
   ]
  },
  {
   "cell_type": "code",
   "execution_count": 21,
   "metadata": {},
   "outputs": [
    {
     "data": {
      "text/plain": [
       "[DObject(id='4dzpg6hrN18aGBTNEP5P', name='features', suffix='.tsv.gz', size=6, hash='fkPzd7f-FObGXNO_C-ONSA', source_id='cOKGbgxPFof6hnBZVtGD', storage_id='a7FdvJcN', created_at=datetime.datetime(2023, 2, 22, 7, 13, 18)),\n",
       " DObject(id='4qPnxQhgnYukqIXWm0zj', name='matrix', suffix='.mtx.gz', size=6, hash='OQlsRfdLcJ8c66KzaJmevQ', source_id='cOKGbgxPFof6hnBZVtGD', storage_id='a7FdvJcN', created_at=datetime.datetime(2023, 2, 22, 7, 13, 18))]"
      ]
     },
     "execution_count": 21,
     "metadata": {},
     "output_type": "execute_result"
    }
   ],
   "source": [
    "dobjects[:2]"
   ]
  },
  {
   "cell_type": "code",
   "execution_count": 20,
   "metadata": {},
   "outputs": [
    {
     "name": "stdout",
     "output_type": "stream",
     "text": [
      "sample_001\n",
      "├── web_summary.html\n",
      "├── metrics_summary.csv\n",
      "├── molecule_info.h5\n",
      "├── filtered_feature_bc_matrix\n",
      "│   ├── features.tsv.gz\n",
      "│   ├── barcodes.tsv.gz\n",
      "│   └── matrix.mtx.gz\n",
      "├── analysis\n",
      "│   └── analysis.csv\n",
      "├── raw_feature_bc_matrix\n",
      "│   ├── features.tsv.gz\n",
      "│   ├── barcodes.tsv.gz\n",
      "│   └── matrix.mtx.gz\n",
      "├── possorted_genome_bam.bam.bai\n",
      "├── cloupe.cloupe\n",
      "├── possorted_genome_bam.bam\n",
      "├── filtered_feature_bc_matrix.h5\n",
      "└── raw_feature_bc_matrix.h5\n",
      "\n",
      "3 directories, 15 files\n"
     ]
    }
   ],
   "source": [
    "dfolder.tree()"
   ]
  },
  {
   "cell_type": "code",
   "execution_count": null,
   "metadata": {},
   "outputs": [],
   "source": [
    "# dfolder.load(\"raw_feature_bc_matrix/matrix.mtx.gz\")"
   ]
  },
  {
   "attachments": {},
   "cell_type": "markdown",
   "metadata": {},
   "source": [
    "Query a specific file from a dfolder:"
   ]
  },
  {
   "cell_type": "code",
   "execution_count": 8,
   "metadata": {},
   "outputs": [
    {
     "data": {
      "text/html": [
       "<div>\n",
       "<style scoped>\n",
       "    .dataframe tbody tr th:only-of-type {\n",
       "        vertical-align: middle;\n",
       "    }\n",
       "\n",
       "    .dataframe tbody tr th {\n",
       "        vertical-align: top;\n",
       "    }\n",
       "\n",
       "    .dataframe thead th {\n",
       "        text-align: right;\n",
       "    }\n",
       "</style>\n",
       "<table border=\"1\" class=\"dataframe\">\n",
       "  <thead>\n",
       "    <tr style=\"text-align: right;\">\n",
       "      <th></th>\n",
       "      <th>name</th>\n",
       "      <th>suffix</th>\n",
       "      <th>size</th>\n",
       "      <th>hash</th>\n",
       "      <th>source_id</th>\n",
       "      <th>storage_id</th>\n",
       "      <th>created_at</th>\n",
       "      <th>updated_at</th>\n",
       "    </tr>\n",
       "    <tr>\n",
       "      <th>id</th>\n",
       "      <th></th>\n",
       "      <th></th>\n",
       "      <th></th>\n",
       "      <th></th>\n",
       "      <th></th>\n",
       "      <th></th>\n",
       "      <th></th>\n",
       "      <th></th>\n",
       "    </tr>\n",
       "  </thead>\n",
       "  <tbody>\n",
       "    <tr>\n",
       "      <th>WOvH07nOEAlCwN0iv55h</th>\n",
       "      <td>metrics_summary</td>\n",
       "      <td>.csv</td>\n",
       "      <td>6</td>\n",
       "      <td>k4NHcq4GjH5E6i7IfQ62Pg</td>\n",
       "      <td>rNRSgT2bKiSXHpYqgdsb</td>\n",
       "      <td>s60t5y7B</td>\n",
       "      <td>2023-02-22 04:18:08</td>\n",
       "      <td>None</td>\n",
       "    </tr>\n",
       "  </tbody>\n",
       "</table>\n",
       "</div>"
      ],
      "text/plain": [
       "                                 name suffix  size                    hash  \\\n",
       "id                                                                           \n",
       "WOvH07nOEAlCwN0iv55h  metrics_summary   .csv     6  k4NHcq4GjH5E6i7IfQ62Pg   \n",
       "\n",
       "                                 source_id storage_id          created_at  \\\n",
       "id                                                                          \n",
       "WOvH07nOEAlCwN0iv55h  rNRSgT2bKiSXHpYqgdsb   s60t5y7B 2023-02-22 04:18:08   \n",
       "\n",
       "                     updated_at  \n",
       "id                               \n",
       "WOvH07nOEAlCwN0iv55h       None  "
      ]
     },
     "execution_count": 8,
     "metadata": {},
     "output_type": "execute_result"
    }
   ],
   "source": [
    "ln.select(ln.DObject, name=\"metrics_summary\").join(ln.DObject.dfolders).where(\n",
    "    ln.DFolder.name == \"sample_001\"\n",
    ").df()"
   ]
  }
 ],
 "metadata": {
  "kernelspec": {
   "display_name": "Python 3 (ipykernel)",
   "language": "python",
   "name": "python3"
  },
  "language_info": {
   "codemirror_mode": {
    "name": "ipython",
    "version": 3
   },
   "file_extension": ".py",
   "mimetype": "text/x-python",
   "name": "python",
   "nbconvert_exporter": "python",
   "pygments_lexer": "ipython3",
   "version": "3.9.13"
  },
  "nbproject": {
   "id": "QrRtGnxmM3Bo",
   "parent": null,
   "pypackage": null,
   "time_init": "2023-02-17T04:58:45.549866+00:00",
   "user_handle": "testuser1",
   "user_id": "DzTjkKse",
   "user_name": "Test User1",
   "version": "0"
  },
  "vscode": {
   "interpreter": {
    "hash": "ae1fefc8646a06dd2e75004cd934adda7c5727b046986a772e3b44b0ffba9754"
   }
  }
 },
 "nbformat": 4,
 "nbformat_minor": 4
}
