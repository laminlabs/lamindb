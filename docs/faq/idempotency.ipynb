{
 "cells": [
  {
   "attachments": {},
   "cell_type": "markdown",
   "id": "fe2d8275-0883-4ffe-9912-920b28efc9d2",
   "metadata": {},
   "source": [
    "# What happens if I save the same artifacts & records twice?"
   ]
  },
  {
   "attachments": {},
   "cell_type": "markdown",
   "id": "dda847ba-c174-4442-acfb-752d6a875645",
   "metadata": {},
   "source": [
    "LaminDB's operations are idempotent in the sense defined in this document.\n",
    "\n",
    "This allows you to re-run a notebook or script without erroring or duplicating data. Similar behavior holds for human data entry.\n",
    "\n",
    "## Summary\n",
    "\n",
    "### Metadata records\n",
    "\n",
    "If you try to create any metadata record ({class}`~lamindb.dev.Registry`) and {attr}`~lamindb.dev.Settings.upon_create_search_names` is `True` (the default): \n",
    "\n",
    "1. LaminDB will warn you if a record with similar `name` exists and display a table of similar existing records.\n",
    "2. You can then decide whether you'd like to save a record to the database or rather query an existing one from the table.\n",
    "3. If a name already has an exact match in a registry, LaminDB will return it instead of creating a new record. For versioned entities, also the version must be passed.\n",
    "\n",
    "If you set {attr}`~lamindb.dev.Settings.upon_create_search_names` to `False`, you'll directly populate the DB.\n",
    "\n",
    "### Files\n",
    "\n",
    "If you try to create a {class}`~lamindb.Artifact` object from the same content, depending on {attr}`~lamindb.dev.Settings.upon_artifact_create_if_hash_exists`, \n",
    "\n",
    "- you'll get an existing object, if `upon_artifact_create_if_hash_exists = \"warn_return_existing\"` (the default)\n",
    "- you'll get an error, if `upon_artifact_create_if_hash_exists = \"error\"`\n",
    "- you'll get a warning and a new object, if `upon_artifact_create_if_hash_exists = \"warn_create_new\"`"
   ]
  },
  {
   "attachments": {},
   "cell_type": "markdown",
   "id": "608a0e2f",
   "metadata": {},
   "source": [
    "## Examples"
   ]
  },
  {
   "cell_type": "code",
   "execution_count": null,
   "id": "a41e4445",
   "metadata": {},
   "outputs": [],
   "source": [
    "!lamin init --storage ./test-idempotency"
   ]
  },
  {
   "cell_type": "code",
   "execution_count": null,
   "id": "f70f887f",
   "metadata": {},
   "outputs": [],
   "source": [
    "import lamindb as ln\n",
    "import pytest\n",
    "\n",
    "ln.settings.verbosity = \"hint\""
   ]
  },
  {
   "attachments": {},
   "cell_type": "markdown",
   "id": "98848548",
   "metadata": {},
   "source": [
    "### Metadata records"
   ]
  },
  {
   "cell_type": "code",
   "execution_count": null,
   "id": "7d7302c5",
   "metadata": {},
   "outputs": [],
   "source": [
    "assert ln.settings.upon_create_search_names"
   ]
  },
  {
   "attachments": {},
   "cell_type": "markdown",
   "id": "4f4b077b",
   "metadata": {},
   "source": [
    "Let us add a first record to the {class}`~lamindb.ULabel` registry:"
   ]
  },
  {
   "cell_type": "code",
   "execution_count": null,
   "id": "c5367bc3",
   "metadata": {},
   "outputs": [],
   "source": [
    "label = ln.ULabel(name=\"My project 1\")\n",
    "label.save()"
   ]
  },
  {
   "attachments": {},
   "cell_type": "markdown",
   "id": "fc3bff62",
   "metadata": {},
   "source": [
    "If we create a new record, we'll automatically get search results that give clues on whether we are prone to duplicating an entry:"
   ]
  },
  {
   "cell_type": "code",
   "execution_count": null,
   "id": "273e343b",
   "metadata": {},
   "outputs": [],
   "source": [
    "label = ln.ULabel(name=\"My project 2\")"
   ]
  },
  {
   "cell_type": "code",
   "execution_count": null,
   "id": "c72683c0",
   "metadata": {},
   "outputs": [],
   "source": [
    "label.save()"
   ]
  },
  {
   "attachments": {},
   "cell_type": "markdown",
   "id": "e5e12f69",
   "metadata": {},
   "source": [
    "In case we match an existing name directly, we'll get the existing object:"
   ]
  },
  {
   "cell_type": "code",
   "execution_count": null,
   "id": "32135811",
   "metadata": {},
   "outputs": [],
   "source": [
    "label = ln.ULabel(name=\"My project 1\")"
   ]
  },
  {
   "attachments": {},
   "cell_type": "markdown",
   "id": "d000c95b",
   "metadata": {},
   "source": [
    "If we save it again, it will not create a new entry in the registry:"
   ]
  },
  {
   "cell_type": "code",
   "execution_count": null,
   "id": "849ebc35",
   "metadata": {},
   "outputs": [],
   "source": [
    "label.save()"
   ]
  },
  {
   "attachments": {},
   "cell_type": "markdown",
   "id": "b627a1b9",
   "metadata": {},
   "source": [
    "Now, if we create a third record, we'll get two alternatives:"
   ]
  },
  {
   "cell_type": "code",
   "execution_count": null,
   "id": "2fb53523",
   "metadata": {},
   "outputs": [],
   "source": [
    "label = ln.ULabel(name=\"My project 3\")"
   ]
  },
  {
   "attachments": {},
   "cell_type": "markdown",
   "id": "22808f40",
   "metadata": {},
   "source": [
    "If we prefer to not perform a search, e.g. for performance reasons or too noisy logging, we can switch it off."
   ]
  },
  {
   "cell_type": "code",
   "execution_count": null,
   "id": "f8cea889",
   "metadata": {},
   "outputs": [],
   "source": [
    "ln.settings.upon_create_search_names = False"
   ]
  },
  {
   "cell_type": "code",
   "execution_count": null,
   "id": "8e74ef7f",
   "metadata": {},
   "outputs": [],
   "source": [
    "label = ln.ULabel(name=\"My project 3\")"
   ]
  },
  {
   "attachments": {},
   "cell_type": "markdown",
   "id": "84365840",
   "metadata": {},
   "source": [
    "In this walkthrough, switch it back on:"
   ]
  },
  {
   "cell_type": "code",
   "execution_count": null,
   "id": "f3db3932",
   "metadata": {},
   "outputs": [],
   "source": [
    "ln.settings.upon_create_search_names = True"
   ]
  },
  {
   "attachments": {},
   "cell_type": "markdown",
   "id": "01bfec00",
   "metadata": {},
   "source": [
    "### Files"
   ]
  },
  {
   "attachments": {},
   "cell_type": "markdown",
   "id": "431fbcc4",
   "metadata": {},
   "source": [
    "#### Warn upon trying to re-ingest an existing artifact"
   ]
  },
  {
   "cell_type": "code",
   "execution_count": null,
   "id": "0bb65135-7c44-47df-b95d-ee023877b3a2",
   "metadata": {},
   "outputs": [],
   "source": [
    "assert ln.settings.upon_artifact_create_if_hash_exists == \"warn_return_existing\""
   ]
  },
  {
   "cell_type": "code",
   "execution_count": null,
   "id": "f52ab9c0-d2c2-40cd-9542-6081d712adb2",
   "metadata": {},
   "outputs": [],
   "source": [
    "filepath = ln.dev.datasets.file_fcs()"
   ]
  },
  {
   "attachments": {},
   "cell_type": "markdown",
   "id": "a2e9114a",
   "metadata": {},
   "source": [
    "Create a `File` object."
   ]
  },
  {
   "cell_type": "code",
   "execution_count": null,
   "id": "cfbc7e90",
   "metadata": {},
   "outputs": [],
   "source": [
    "artifact = ln.Artifact(filepath, description=\"My fcs artifact\")\n",
    "artifact.save()"
   ]
  },
  {
   "cell_type": "code",
   "execution_count": null,
   "id": "8faf738e",
   "metadata": {
    "tags": [
     "hide-cell"
    ]
   },
   "outputs": [],
   "source": [
    "assert artifact.hash == \"KCEXRahJ-Ui9Y6nksQ8z1A\""
   ]
  },
  {
   "attachments": {},
   "cell_type": "markdown",
   "id": "153caaea",
   "metadata": {},
   "source": [
    "Create a `File` object from the same path:"
   ]
  },
  {
   "cell_type": "code",
   "execution_count": null,
   "id": "f173a6c6",
   "metadata": {},
   "outputs": [],
   "source": [
    "artifact2 = ln.Artifact(filepath)"
   ]
  },
  {
   "attachments": {},
   "cell_type": "markdown",
   "id": "2c46205b",
   "metadata": {},
   "source": [
    "It gives us the existing object:"
   ]
  },
  {
   "cell_type": "code",
   "execution_count": null,
   "id": "2234821f",
   "metadata": {},
   "outputs": [],
   "source": [
    "assert artifact.id == artifact2.id"
   ]
  },
  {
   "attachments": {},
   "cell_type": "markdown",
   "id": "d2bf0d78",
   "metadata": {},
   "source": [
    "If you save it again, nothing will happen (the operation is idempotent):"
   ]
  },
  {
   "cell_type": "code",
   "execution_count": null,
   "id": "60c18291",
   "metadata": {},
   "outputs": [],
   "source": [
    "artifact2.save()"
   ]
  },
  {
   "attachments": {},
   "cell_type": "markdown",
   "id": "721bbe4e",
   "metadata": {},
   "source": [
    "#### Error upon trying to re-ingest an existing artifact"
   ]
  },
  {
   "cell_type": "code",
   "execution_count": null,
   "id": "d4bd9ecd",
   "metadata": {},
   "outputs": [],
   "source": [
    "ln.settings.upon_artifact_create_if_hash_exists = \"error\""
   ]
  },
  {
   "attachments": {},
   "cell_type": "markdown",
   "id": "f94ba1d5",
   "metadata": {},
   "source": [
    "In this case, you'll not be able to create an object from the same content:"
   ]
  },
  {
   "cell_type": "code",
   "execution_count": null,
   "id": "3b269371-9015-4e9e-9adf-468636d62899",
   "metadata": {},
   "outputs": [],
   "source": [
    "with pytest.raises(RuntimeError):\n",
    "    artifact3 = ln.Artifact(filepath, description=\"My new fcs artifact\")"
   ]
  },
  {
   "attachments": {},
   "cell_type": "markdown",
   "id": "cff06da7",
   "metadata": {},
   "source": [
    "#### Warn and create a new artifact"
   ]
  },
  {
   "cell_type": "markdown",
   "id": "fd806cd8",
   "metadata": {},
   "source": [
    "Lastly, let us discuss the following setting:"
   ]
  },
  {
   "cell_type": "code",
   "execution_count": null,
   "id": "1422804a",
   "metadata": {},
   "outputs": [],
   "source": [
    "ln.settings.upon_artifact_create_if_hash_exists = \"warn_create_new\""
   ]
  },
  {
   "attachments": {},
   "cell_type": "markdown",
   "id": "23d05852",
   "metadata": {},
   "source": [
    "In this case, you'll create a new object:"
   ]
  },
  {
   "cell_type": "code",
   "execution_count": null,
   "id": "73e8475d",
   "metadata": {},
   "outputs": [],
   "source": [
    "artifact4 = ln.Artifact(filepath, description=\"My new fcs artifact\")\n",
    "artifact4.save()"
   ]
  },
  {
   "attachments": {},
   "cell_type": "markdown",
   "id": "37ad6e89",
   "metadata": {},
   "source": [
    "You can verify that it's a new entry by comparing the ids:"
   ]
  },
  {
   "cell_type": "code",
   "execution_count": null,
   "id": "485ba151",
   "metadata": {},
   "outputs": [],
   "source": [
    "assert artifact4.id != artifact.id"
   ]
  },
  {
   "cell_type": "code",
   "execution_count": null,
   "id": "04096189",
   "metadata": {},
   "outputs": [],
   "source": [
    "artifact4.filter(hash=\"KCEXRahJ-Ui9Y6nksQ8z1A\").df()"
   ]
  },
  {
   "cell_type": "code",
   "execution_count": null,
   "id": "79612c02",
   "metadata": {
    "tags": [
     "hide-cell"
    ]
   },
   "outputs": [],
   "source": [
    "assert len(artifact.filter(hash=\"KCEXRahJ-Ui9Y6nksQ8z1A\").list()) == 2"
   ]
  },
  {
   "cell_type": "code",
   "execution_count": null,
   "id": "d2ca60bf",
   "metadata": {},
   "outputs": [],
   "source": [
    "!lamin delete --force test-idempotency\n",
    "!rm -r test-idempotency"
   ]
  }
 ],
 "metadata": {
  "kernelspec": {
   "display_name": "Python 3 (ipykernel)",
   "language": "python",
   "name": "python3"
  },
  "language_info": {
   "artifact_extension": ".py",
   "codemirror_mode": {
    "name": "ipython",
    "version": 3
   },
   "mimetype": "text/x-python",
   "name": "python",
   "nbconvert_exporter": "python",
   "pygments_lexer": "ipython3",
   "version": "3.9.16"
  },
  "nbproject": {
   "id": "ANW20Fr4eZgM",
   "parent": null,
   "pypackage": null,
   "time_init": "2022-10-12T22:55:00.562920+00:00",
   "user_handle": "testuser1",
   "user_id": "DzTjkKse",
   "user_name": "Test User1",
   "version": "0"
  },
  "vscode": {
   "interpreter": {
    "hash": "b0fa6594d8f4cbf19f97940f81e996739fb7646882a419484c72d19e05852a7e"
   }
  }
 },
 "nbformat": 4,
 "nbformat_minor": 5
}
