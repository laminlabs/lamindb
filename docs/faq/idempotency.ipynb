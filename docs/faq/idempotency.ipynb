{
 "cells": [
  {
   "attachments": {},
   "cell_type": "markdown",
   "id": "0",
   "metadata": {},
   "source": [
    "# What happens if I save the same artifacts & records twice?"
   ]
  },
  {
   "attachments": {},
   "cell_type": "markdown",
   "id": "1",
   "metadata": {},
   "source": [
    "LaminDB's operations are idempotent in the sense defined in this document.\n",
    "\n",
    "This allows you to re-run a notebook or script without erroring or duplicating data.\n",
    "\n",
    "## Summary\n",
    "\n",
    "### Records with a `name` field\n",
    "\n",
    "If you try to create a record ({class}`~lamindb.core.Record`) and {attr}`~lamindb.core.subsettings.CreationSettings.search_names` is `True` (the default): \n",
    "\n",
    "1. LaminDB will warn you if a record with similar `name` exists and display a table of similar existing records.\n",
    "2. You can then decide whether you'd like to save a record to the database or rather query an existing one from the table.\n",
    "3. If a name already has an exact match in a registry, LaminDB will return it instead of creating a new record.\n",
    "\n",
    "If you set {attr}`~lamindb.core.subsettings.CreationSettings.search_names` to `False`, you'll directly populate the DB.\n",
    "\n",
    "### Artifacts & collections\n",
    "\n",
    "If you attempt to re-create a {class}`~lamindb.Artifact` object from a dataset that's already registered, the `Artifact()` constructor will return the existing dataset instead."
   ]
  },
  {
   "attachments": {},
   "cell_type": "markdown",
   "id": "2",
   "metadata": {},
   "source": [
    "## Examples"
   ]
  },
  {
   "cell_type": "code",
   "execution_count": null,
   "id": "3",
   "metadata": {},
   "outputs": [],
   "source": [
    "# pip install 'lamindb[jupyter]'\n",
    "!lamin init --storage ./test-idempotency"
   ]
  },
  {
   "cell_type": "code",
   "execution_count": null,
   "id": "4",
   "metadata": {
    "tags": [
     "hide-output"
    ]
   },
   "outputs": [],
   "source": [
    "import lamindb as ln\n",
    "\n",
    "ln.track(\"ANW20Fr4eZgM0000\")"
   ]
  },
  {
   "attachments": {},
   "cell_type": "markdown",
   "id": "5",
   "metadata": {},
   "source": [
    "### Metadata records"
   ]
  },
  {
   "cell_type": "code",
   "execution_count": null,
   "id": "6",
   "metadata": {},
   "outputs": [],
   "source": [
    "assert ln.settings.creation.search_names"
   ]
  },
  {
   "attachments": {},
   "cell_type": "markdown",
   "id": "7",
   "metadata": {},
   "source": [
    "Let us add a first record to the {class}`~lamindb.ULabel` registry:"
   ]
  },
  {
   "cell_type": "code",
   "execution_count": null,
   "id": "8",
   "metadata": {},
   "outputs": [],
   "source": [
    "label = ln.ULabel(name=\"My label 1\").save()"
   ]
  },
  {
   "attachments": {},
   "cell_type": "markdown",
   "id": "9",
   "metadata": {},
   "source": [
    "If we create a new record, we'll automatically get search results that give clues on whether we are prone to duplicating an entry:"
   ]
  },
  {
   "cell_type": "code",
   "execution_count": null,
   "id": "10",
   "metadata": {},
   "outputs": [],
   "source": [
    "label = ln.ULabel(name=\"My label 1a\")"
   ]
  },
  {
   "cell_type": "markdown",
   "id": "11",
   "metadata": {},
   "source": [
    "Let's save the `1a` label, we actually intend to create it."
   ]
  },
  {
   "cell_type": "code",
   "execution_count": null,
   "id": "12",
   "metadata": {},
   "outputs": [],
   "source": [
    "label.save()"
   ]
  },
  {
   "attachments": {},
   "cell_type": "markdown",
   "id": "13",
   "metadata": {},
   "source": [
    "In case we match an existing name directly, we'll get the existing object:"
   ]
  },
  {
   "cell_type": "code",
   "execution_count": null,
   "id": "14",
   "metadata": {},
   "outputs": [],
   "source": [
    "label = ln.ULabel(name=\"My label 1\")"
   ]
  },
  {
   "attachments": {},
   "cell_type": "markdown",
   "id": "15",
   "metadata": {},
   "source": [
    "If we save it again, it will not create a new entry in the registry:"
   ]
  },
  {
   "cell_type": "code",
   "execution_count": null,
   "id": "16",
   "metadata": {},
   "outputs": [],
   "source": [
    "label.save()"
   ]
  },
  {
   "attachments": {},
   "cell_type": "markdown",
   "id": "17",
   "metadata": {},
   "source": [
    "Now, if we create a third record, we'll get two alternatives:"
   ]
  },
  {
   "cell_type": "code",
   "execution_count": null,
   "id": "18",
   "metadata": {},
   "outputs": [],
   "source": [
    "label = ln.ULabel(name=\"My label 1b\")"
   ]
  },
  {
   "attachments": {},
   "cell_type": "markdown",
   "id": "19",
   "metadata": {},
   "source": [
    "If we prefer to not perform a search, e.g. for performance reasons, we can switch it off."
   ]
  },
  {
   "cell_type": "code",
   "execution_count": null,
   "id": "20",
   "metadata": {},
   "outputs": [],
   "source": [
    "ln.settings.creation.search_names = False"
   ]
  },
  {
   "cell_type": "code",
   "execution_count": null,
   "id": "21",
   "metadata": {},
   "outputs": [],
   "source": [
    "label = ln.ULabel(name=\"My label 1c\")"
   ]
  },
  {
   "attachments": {},
   "cell_type": "markdown",
   "id": "22",
   "metadata": {},
   "source": [
    "Switch it back on:"
   ]
  },
  {
   "cell_type": "code",
   "execution_count": null,
   "id": "23",
   "metadata": {},
   "outputs": [],
   "source": [
    "ln.settings.creation.search_names = True"
   ]
  },
  {
   "attachments": {},
   "cell_type": "markdown",
   "id": "24",
   "metadata": {},
   "source": [
    "### Data: artifacts and collections"
   ]
  },
  {
   "cell_type": "code",
   "execution_count": null,
   "id": "25",
   "metadata": {},
   "outputs": [],
   "source": [
    "filepath = ln.core.datasets.file_fcs()"
   ]
  },
  {
   "attachments": {},
   "cell_type": "markdown",
   "id": "26",
   "metadata": {},
   "source": [
    "Create an `Artifact`:"
   ]
  },
  {
   "cell_type": "code",
   "execution_count": null,
   "id": "27",
   "metadata": {},
   "outputs": [],
   "source": [
    "artifact = ln.Artifact(filepath, key=\"my_fcs_file.fcs\").save()"
   ]
  },
  {
   "cell_type": "code",
   "execution_count": null,
   "id": "28",
   "metadata": {
    "tags": [
     "hide-cell"
    ]
   },
   "outputs": [],
   "source": [
    "assert artifact.hash == \"rCPvmZB19xs4zHZ7p_-Wrg\"\n",
    "assert artifact.run == ln.context.run\n",
    "assert not artifact._subsequent_runs.exists()"
   ]
  },
  {
   "attachments": {},
   "cell_type": "markdown",
   "id": "29",
   "metadata": {},
   "source": [
    "Create an `Artifact` from the same path:"
   ]
  },
  {
   "cell_type": "code",
   "execution_count": null,
   "id": "30",
   "metadata": {},
   "outputs": [],
   "source": [
    "artifact2 = ln.Artifact(filepath, key=\"my_fcs_file.fcs\")"
   ]
  },
  {
   "attachments": {},
   "cell_type": "markdown",
   "id": "31",
   "metadata": {},
   "source": [
    "It gives us the existing object:"
   ]
  },
  {
   "cell_type": "code",
   "execution_count": null,
   "id": "32",
   "metadata": {},
   "outputs": [],
   "source": [
    "assert artifact.id == artifact2.id\n",
    "assert artifact.run == artifact2.run\n",
    "assert not artifact._subsequent_runs.exists()"
   ]
  },
  {
   "attachments": {},
   "cell_type": "markdown",
   "id": "33",
   "metadata": {},
   "source": [
    "If you save it again, nothing will happen (the operation is idempotent):"
   ]
  },
  {
   "cell_type": "code",
   "execution_count": null,
   "id": "34",
   "metadata": {
    "tags": [
     "hide-output"
    ]
   },
   "outputs": [],
   "source": [
    "artifact2.save()"
   ]
  },
  {
   "cell_type": "markdown",
   "id": "35",
   "metadata": {},
   "source": [
    "In the hidden cell below, you'll see how this interplays with data lineage."
   ]
  },
  {
   "cell_type": "code",
   "execution_count": null,
   "id": "36",
   "metadata": {
    "tags": [
     "hide-cell"
    ]
   },
   "outputs": [],
   "source": [
    "ln.context.track(new_run=True)\n",
    "artifact3 = ln.Artifact(filepath, key=\"my_fcs_file.fcs\")\n",
    "assert artifact3.id == artifact2.id\n",
    "assert artifact3.run == artifact2.run != ln.context.run  # run is not updated\n",
    "assert artifact2._subsequent_runs.first() == ln.context.run"
   ]
  },
  {
   "cell_type": "code",
   "execution_count": null,
   "id": "37",
   "metadata": {
    "tags": [
     "hide-output",
     "hide-cell"
    ]
   },
   "outputs": [],
   "source": [
    "!rm -rf ./test-idempotency\n",
    "!lamin delete --force test-idempotency"
   ]
  }
 ],
 "metadata": {
  "kernelspec": {
   "display_name": "py312",
   "language": "python",
   "name": "python3"
  },
  "language_info": {
   "codemirror_mode": {
    "name": "ipython",
    "version": 3
   },
   "file_extension": ".py",
   "mimetype": "text/x-python",
   "name": "python",
   "nbconvert_exporter": "python",
   "pygments_lexer": "ipython3",
   "version": "3.12.8"
  }
 },
 "nbformat": 4,
 "nbformat_minor": 5
}
