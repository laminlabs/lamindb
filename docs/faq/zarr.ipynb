{
 "cells": [
  {
   "attachments": {},
   "cell_type": "markdown",
   "id": "601bac51",
   "metadata": {},
   "source": [
    "# Write and read `AnnData` as `Zarr`"
   ]
  },
  {
   "attachments": {},
   "cell_type": "markdown",
   "id": "d8a8bf84",
   "metadata": {},
   "source": [
    "This notebook shows how to write [`AnnData`](https://anndata.readthedocs.io/) objects directly from memory and read them directly into memory without saving them on disk. We are using [`zarr`](https://zarr.readthedocs.io/) as a storage format for `AnnData`."
   ]
  },
  {
   "cell_type": "code",
   "execution_count": null,
   "id": "218872b8",
   "metadata": {},
   "outputs": [],
   "source": [
    "import lamindb as ln\n",
    "import lamindb.schema as lns\n",
    "\n",
    "import warnings\n",
    "\n",
    "warnings.simplefilter(\"ignore\", category=FutureWarning)\n",
    "\n",
    "ln.nb.header()"
   ]
  },
  {
   "attachments": {},
   "cell_type": "markdown",
   "id": "629c0137",
   "metadata": {},
   "source": [
    "Let's load an AnnData object:"
   ]
  },
  {
   "cell_type": "code",
   "execution_count": null,
   "id": "a8c51648",
   "metadata": {},
   "outputs": [],
   "source": [
    "adata = ln.dev.datasets.anndata_pbmc68k_reduced()\n",
    "\n",
    "adata"
   ]
  },
  {
   "attachments": {},
   "cell_type": "markdown",
   "id": "6e86baa7",
   "metadata": {},
   "source": [
    "```{important}\n",
    "\n",
    "When creating a new DObject from AnnDta, select `adata_format=\"zarr\"` to ingest and store `AnnData` as `zarr`.\n",
    "\n",
    "```"
   ]
  },
  {
   "cell_type": "code",
   "execution_count": null,
   "id": "31f75a44",
   "metadata": {},
   "outputs": [],
   "source": [
    "dobject = ln.DObject(adata, name=\"pbmc68k_reduced\", format=\"zarr\")"
   ]
  },
  {
   "cell_type": "code",
   "execution_count": null,
   "id": "f27b7ed8",
   "metadata": {},
   "outputs": [],
   "source": [
    "ln.add(dobject)"
   ]
  },
  {
   "cell_type": "markdown",
   "id": "694064d3",
   "metadata": {},
   "source": [
    "Select the `DObject` from the `zarr` pipeline we created earlier."
   ]
  },
  {
   "cell_type": "code",
   "execution_count": null,
   "id": "cfb95a7f",
   "metadata": {},
   "outputs": [],
   "source": [
    "dobject = ln.select(lns.DObject).join(lns.Run, id=ln.nb.run.id).first()"
   ]
  },
  {
   "cell_type": "code",
   "execution_count": null,
   "id": "cc77882d",
   "metadata": {},
   "outputs": [],
   "source": [
    "dobject"
   ]
  },
  {
   "cell_type": "markdown",
   "id": "7f4d8964",
   "metadata": {},
   "source": [
    "Load the `AnnData` object stored as `zarr` directly into memory."
   ]
  },
  {
   "cell_type": "code",
   "execution_count": null,
   "id": "aa5e29ed",
   "metadata": {},
   "outputs": [],
   "source": [
    "adata = dobject.load()"
   ]
  },
  {
   "cell_type": "code",
   "execution_count": null,
   "id": "7150937c",
   "metadata": {},
   "outputs": [],
   "source": [
    "adata"
   ]
  }
 ],
 "metadata": {
  "kernelspec": {
   "display_name": "py39",
   "language": "python",
   "name": "python3"
  },
  "language_info": {
   "name": "python",
   "version": "3.9.13 | packaged by conda-forge | (main, May 27 2022, 17:01:00) \n[Clang 13.0.1 ]"
  },
  "nbproject": {
   "id": "ZgvBwUqvGk3t",
   "parent": null,
   "pypackage": null,
   "time_init": "2023-01-23T06:13:37.747681+00:00",
   "user_handle": "testuser1",
   "user_id": "DzTjkKse",
   "user_name": "Test User1",
   "version": "0"
  },
  "vscode": {
   "interpreter": {
    "hash": "ae1fefc8646a06dd2e75004cd934adda7c5727b046986a772e3b44b0ffba9754"
   }
  }
 },
 "nbformat": 4,
 "nbformat_minor": 2
}
