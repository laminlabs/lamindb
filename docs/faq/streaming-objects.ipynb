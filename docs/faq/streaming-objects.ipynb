{
 "cells": [
  {
   "cell_type": "markdown",
   "id": "d5e3462f",
   "metadata": {},
   "source": [
    "# Parial streaming of annotated data matrices from the cloud"
   ]
  },
  {
   "cell_type": "code",
   "execution_count": null,
   "id": "5fbfca98",
   "metadata": {},
   "outputs": [],
   "source": [
    "!lndb login testuser1 --password \"cEvcwMJFX4OwbsYVaMt2Os6GxxGgDUlBGILs2RyS\"\n",
    "!lndb init --storage \"s3://lndb-setup-ci\""
   ]
  },
  {
   "cell_type": "code",
   "execution_count": null,
   "id": "57102dc8",
   "metadata": {},
   "outputs": [],
   "source": [
    "import lamindb as ln\n",
    "import lamindb.schema as lns\n",
    "import scanpy as sc"
   ]
  },
  {
   "cell_type": "code",
   "execution_count": null,
   "id": "6436d09a",
   "metadata": {},
   "outputs": [],
   "source": [
    "ln.nb.header()"
   ]
  },
  {
   "cell_type": "markdown",
   "id": "64c6a0b6-19f4-4697-b2d1-cd9844c350d5",
   "metadata": {},
   "source": [
    "## Retrieve test data"
   ]
  },
  {
   "cell_type": "markdown",
   "id": "3687abcd",
   "metadata": {},
   "source": [
    "Here, we'll use `AnnData` objects. In the future, other data objects will provide similar functionality."
   ]
  },
  {
   "cell_type": "code",
   "execution_count": null,
   "id": "046722c1",
   "metadata": {},
   "outputs": [],
   "source": [
    "pbmc68k = sc.datasets.pbmc68k_reduced()"
   ]
  },
  {
   "cell_type": "code",
   "execution_count": null,
   "id": "53c3ea73",
   "metadata": {},
   "outputs": [],
   "source": [
    "pbmc68k"
   ]
  },
  {
   "cell_type": "code",
   "execution_count": null,
   "id": "c162e74e",
   "metadata": {},
   "outputs": [],
   "source": [
    "pbmc68k.obs[\"bulk_labels\"].value_counts()"
   ]
  },
  {
   "cell_type": "code",
   "execution_count": null,
   "id": "d2b463de",
   "metadata": {},
   "outputs": [],
   "source": [
    "pbmc3k = sc.datasets.pbmc3k_processed()"
   ]
  },
  {
   "cell_type": "code",
   "execution_count": null,
   "id": "c0491775",
   "metadata": {},
   "outputs": [],
   "source": [
    "pbmc3k"
   ]
  },
  {
   "cell_type": "code",
   "execution_count": null,
   "id": "5a587e72",
   "metadata": {},
   "outputs": [],
   "source": [
    "pbmc3k.obs[\"louvain\"].value_counts()"
   ]
  },
  {
   "cell_type": "markdown",
   "id": "8aab5612-e22f-4be6-a778-e9cd25963960",
   "metadata": {},
   "source": [
    "## Ingest the test data"
   ]
  },
  {
   "cell_type": "markdown",
   "id": "89ac7770",
   "metadata": {},
   "source": [
    "Create pipeline for this example."
   ]
  },
  {
   "cell_type": "code",
   "execution_count": null,
   "id": "23b98e7b",
   "metadata": {},
   "outputs": [],
   "source": [
    "pipeline = ln.add(lns.Pipeline(name=\"Streaming pipeline\", v=\"1\"))"
   ]
  },
  {
   "cell_type": "code",
   "execution_count": null,
   "id": "b75f3ad2",
   "metadata": {},
   "outputs": [],
   "source": [
    "run = lns.Run(name=\"Ingest PBMCs\", pipeline_id=pipeline.id, pipeline_v=pipeline.v)"
   ]
  },
  {
   "cell_type": "markdown",
   "id": "cc8c8d4f",
   "metadata": {},
   "source": [
    "Ingest the `AnnData` objects."
   ]
  },
  {
   "cell_type": "code",
   "execution_count": null,
   "id": "203862b4",
   "metadata": {},
   "outputs": [],
   "source": [
    "pbmc68k_dobj = ln.record(pbmc68k, name=\"pbmc68k\", run=run)\n",
    "pbmc3k_dobj = ln.record(pbmc3k, name=\"pbmc3k\", run=run)"
   ]
  },
  {
   "cell_type": "code",
   "execution_count": null,
   "id": "0873c144",
   "metadata": {},
   "outputs": [],
   "source": [
    "ln.add([pbmc68k_dobj, pbmc3k_dobj])"
   ]
  },
  {
   "cell_type": "markdown",
   "id": "260c5800-3220-4660-8bb0-c6e65d7dae62",
   "metadata": {},
   "source": [
    "## Query the data records"
   ]
  },
  {
   "cell_type": "markdown",
   "id": "e6c9cdcd",
   "metadata": {},
   "source": [
    "Query the `AnnData` objects from this run. Note that this does **not** download the data."
   ]
  },
  {
   "cell_type": "code",
   "execution_count": null,
   "id": "834be5b8",
   "metadata": {},
   "outputs": [],
   "source": [
    "dobjects = ln.select(lns.DObject).join(lns.Run, id=run.id).all()"
   ]
  },
  {
   "cell_type": "markdown",
   "id": "a275b52c",
   "metadata": {},
   "source": [
    "Prepare the strings to query the columns of `.obs` for each `AnnData` object. For details see the [pandas docs](https://pandas.pydata.org/docs/reference/api/pandas.DataFrame.query.html).\n",
    "\n",
    "```{note}\n",
    "\n",
    "Soon, we'll integrate the within-object queries with the SQL queries.\n",
    "\n",
    "```"
   ]
  },
  {
   "cell_type": "markdown",
   "id": "76cbfd48-13d0-45e9-ada1-9229c1cc66f5",
   "metadata": {},
   "source": [
    "### Pandas-style query strings"
   ]
  },
  {
   "cell_type": "code",
   "execution_count": null,
   "id": "ba9dff88",
   "metadata": {},
   "outputs": [],
   "source": [
    "pbmc68k_obs = \"bulk_labels == 'Dendritic' | bulk_labels == 'CD14+ Monocyte'\"\n",
    "pbmc3k_obs = \"louvain == 'CD4 T cells' | louvain == 'CD14+ Monocytes'\""
   ]
  },
  {
   "cell_type": "markdown",
   "id": "9e9a8a4c",
   "metadata": {},
   "source": [
    "Subset the `AnnData` objects based on the query strings above and load them directly into memory.\n",
    "\n",
    "No caching happens here!\n",
    "\n",
    "Only the `.obs` columns are loaded fully to do the subsetting during the function execution. For all remaining, data **only the subsets** are loaded in memory."
   ]
  },
  {
   "cell_type": "code",
   "execution_count": null,
   "id": "4a42c16a",
   "metadata": {},
   "outputs": [],
   "source": [
    "adatas = ln.subset(dobjects, query_obs=[pbmc68k_obs, pbmc3k_obs], use_concat=False)"
   ]
  },
  {
   "cell_type": "code",
   "execution_count": null,
   "id": "a44f1cb1",
   "metadata": {},
   "outputs": [],
   "source": [
    "adatas"
   ]
  },
  {
   "cell_type": "code",
   "execution_count": null,
   "id": "fcb9d9fb",
   "metadata": {},
   "outputs": [],
   "source": [
    "adata = ln.subset(dobjects, query_obs=[pbmc68k_obs, pbmc3k_obs], use_concat=True)"
   ]
  },
  {
   "cell_type": "code",
   "execution_count": null,
   "id": "3a4ef7d4",
   "metadata": {},
   "outputs": [],
   "source": [
    "adata"
   ]
  },
  {
   "cell_type": "markdown",
   "id": "32a94828-812a-49e0-969c-c3ed21e4a375",
   "metadata": {},
   "source": [
    "### Lazy query expressions"
   ]
  },
  {
   "cell_type": "markdown",
   "id": "acbc9825",
   "metadata": {},
   "source": [
    "Lazy selectors for convenient subsetting with complicated conditions. Operators, methods and numpy functions are supported."
   ]
  },
  {
   "cell_type": "code",
   "execution_count": null,
   "id": "1a54c276",
   "metadata": {},
   "outputs": [],
   "source": [
    "from lamindb import lazy\n",
    "import numpy as np"
   ]
  },
  {
   "cell_type": "code",
   "execution_count": null,
   "id": "68f9653a",
   "metadata": {},
   "outputs": [],
   "source": [
    "pbmc68k_obs = ~lazy.bulk_labels.isin((\"Dendritic\", \"CD14+ Monocyte\")) & (\n",
    "    lazy.phase == \"G1\"\n",
    ")\n",
    "pbmc3k_obs = np.isin(lazy.louvain, (\"CD4 T cells\", \"CD14+ Monocytes\"))"
   ]
  },
  {
   "cell_type": "code",
   "execution_count": null,
   "id": "b81b8e58",
   "metadata": {},
   "outputs": [],
   "source": [
    "adatas = ln.subset(dobjects, query_obs=[pbmc68k_obs, pbmc3k_obs])"
   ]
  },
  {
   "cell_type": "code",
   "execution_count": null,
   "id": "2dbecb8a",
   "metadata": {},
   "outputs": [],
   "source": [
    "adatas"
   ]
  },
  {
   "cell_type": "markdown",
   "id": "c053525e",
   "metadata": {},
   "source": [
    "Contents of the cache of the current instance."
   ]
  },
  {
   "cell_type": "code",
   "execution_count": null,
   "id": "4a9bb681",
   "metadata": {},
   "outputs": [],
   "source": [
    "list((ln.settings.instance.cache_dir / ln.settings.instance.name).glob(\"*.*\"))"
   ]
  },
  {
   "cell_type": "markdown",
   "id": "da17eaec-3292-4105-a641-94930bd2f097",
   "metadata": {},
   "source": [
    "## Clean the test data from CI"
   ]
  },
  {
   "cell_type": "markdown",
   "id": "9aec4ddb",
   "metadata": {},
   "source": [
    "Clean the test instance."
   ]
  },
  {
   "cell_type": "code",
   "execution_count": null,
   "id": "ef6245ea",
   "metadata": {},
   "outputs": [],
   "source": [
    "ln.delete(pbmc68k_dobj)\n",
    "ln.delete(pbmc3k_dobj)"
   ]
  },
  {
   "cell_type": "code",
   "execution_count": null,
   "id": "912e279b",
   "metadata": {},
   "outputs": [],
   "source": [
    "ln.delete(pipeline)\n",
    "ln.delete(run)"
   ]
  }
 ],
 "metadata": {
  "kernelspec": {
   "display_name": "Python 3 (ipykernel)",
   "language": "python",
   "name": "python3"
  },
  "language_info": {
   "codemirror_mode": {
    "name": "ipython",
    "version": 3
   },
   "file_extension": ".py",
   "mimetype": "text/x-python",
   "name": "python",
   "nbconvert_exporter": "python",
   "pygments_lexer": "ipython3",
   "version": "3.9.12"
  },
  "nbproject": {
   "id": "ETR3TWcqB8oJ",
   "parent": null,
   "pypackage": null,
   "time_init": "2022-11-22T22:16:20.961677+00:00",
   "user_handle": "Koncopd",
   "user_id": "qTQ5q0ar",
   "user_name": "Sergei Rybakov",
   "version": "0"
  }
 },
 "nbformat": 4,
 "nbformat_minor": 5
}
