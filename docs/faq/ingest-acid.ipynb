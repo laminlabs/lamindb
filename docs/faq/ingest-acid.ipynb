{
 "cells": [
  {
   "cell_type": "markdown",
   "id": "41b33aca-1a7d-42b4-afa6-c9a5bccc060c",
   "metadata": {},
   "source": [
    "# ACID upload of data objects"
   ]
  },
  {
   "cell_type": "markdown",
   "id": "b7d9e0b3-74c9-4cd5-8046-e2f810cb8176",
   "metadata": {},
   "source": [
    "Here we explore the ACID behavior of LaminDB's upload API."
   ]
  },
  {
   "cell_type": "code",
   "execution_count": null,
   "id": "185db0bf-cd42-4611-9c9e-3d7970dffb5a",
   "metadata": {},
   "outputs": [],
   "source": [
    "from lndb_setup import login, init\n",
    "\n",
    "# from lndb_setup._clone import setup_local_test_postgres\n",
    "\n",
    "login(user=\"testuser1\")\n",
    "init(storage=\"acidtests\", schema=\"bionty\")\n",
    "# pgurl = setup_local_test_postgres()\n",
    "# init(storage=\"acidtests\", schema=\"bionty\", db=pgurl)"
   ]
  },
  {
   "cell_type": "code",
   "execution_count": null,
   "id": "d7c5d1b2-3f24-4faa-9f15-81fcdfef28c8",
   "metadata": {},
   "outputs": [],
   "source": [
    "import lamindb as ln\n",
    "import pytest\n",
    "\n",
    "ln.nb.header()"
   ]
  },
  {
   "cell_type": "markdown",
   "id": "0c582719-42de-4e9d-bdcb-51f8aabb3ca5",
   "metadata": {},
   "source": [
    "Let's try to ingest a heavily-linked data object with a corrupted storage location."
   ]
  },
  {
   "cell_type": "code",
   "execution_count": null,
   "id": "b7f9598c-ae60-4eef-8576-81c6679af16f",
   "metadata": {},
   "outputs": [],
   "source": [
    "# TODO: test for an unsuccesful data object upload.\n",
    "\n",
    "# import lamindb.knowledge as lnk\n",
    "# from lndb_setup import settings, load\n",
    "# from cloudpathlib import CloudPath\n",
    "\n",
    "# # Create data object linked to 10,044 gene records\n",
    "# adata = ln.dev.datasets.anndata_mouse_sc_lymph_node()\n",
    "# reference = ln.knowledge.Gene(\n",
    "#     id=lnk.lookup.gene_id.ensembl_gene_id,\n",
    "#     species=lnk.lookup.species.mouse,\n",
    "# )\n",
    "# dobject = ln.DObject(adata, name=\"Mouse Lymph Node scRNA-seq\", features_ref=reference)\n",
    "\n",
    "# # Update storage path with corrupt path\n",
    "# settings.instance.storage._root = CloudPath(\"s3://nf-core-awsmegatests\")\n",
    "\n",
    "# # Ingest data object\n",
    "# added_dobject = ln.add(dobject)"
   ]
  },
  {
   "cell_type": "code",
   "execution_count": null,
   "id": "6be57611-90c8-4b78-9d57-2597066d8468",
   "metadata": {},
   "outputs": [],
   "source": [
    "# # Restore storage path\n",
    "# load(\"acidtests\")"
   ]
  },
  {
   "cell_type": "markdown",
   "id": "effca4be-b533-41a0-8db8-f98810a6fd8b",
   "metadata": {},
   "source": [
    "If a list of data objects is passed to `ln.add()` and the upload of one of these data objects fails, the successful uploads are maintained and a `RuntimeError` is raised, listing the successfully uploaded data objects."
   ]
  },
  {
   "cell_type": "code",
   "execution_count": null,
   "id": "a18243b3-0ff4-4302-882e-5cd220732a98",
   "metadata": {},
   "outputs": [],
   "source": [
    "# TODO: test for an unsuccesful DB transaction. The current example only shows a normal traceback being returned for an error unrelated to the DB connection.\n",
    "from sqlalchemy.orm.exc import UnmappedInstanceError\n",
    "\n",
    "filepath = ln.dev.datasets.file_jpg_paradisi05()\n",
    "dobject = ln.DObject(filepath)\n",
    "dobjects = [dobject, \"this is not a data object\"]\n",
    "with pytest.raises(UnmappedInstanceError) as e:\n",
    "    exception = e\n",
    "    ln.add(dobjects)\n",
    "print(exception.exconly())"
   ]
  }
 ],
 "metadata": {
  "kernelspec": {
   "display_name": "Python 3 (ipykernel)",
   "language": "python",
   "name": "python3"
  },
  "language_info": {
   "codemirror_mode": {
    "name": "ipython",
    "version": 3
   },
   "file_extension": ".py",
   "mimetype": "text/x-python",
   "name": "python",
   "nbconvert_exporter": "python",
   "pygments_lexer": "ipython3",
   "version": "3.9.12"
  },
  "nbproject": {
   "id": "zz23msudiiQR",
   "parent": null,
   "pypackage": null,
   "time_init": "2023-02-03T20:01:20.761043+00:00",
   "user_handle": "testuser1",
   "user_id": "DzTjkKse",
   "user_name": "Test User1",
   "version": "0"
  }
 },
 "nbformat": 4,
 "nbformat_minor": 5
}
