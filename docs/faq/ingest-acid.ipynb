{
 "cells": [
  {
   "cell_type": "markdown",
   "id": "41b33aca-1a7d-42b4-afa6-c9a5bccc060c",
   "metadata": {},
   "source": [
    "# ACID upload of data objects"
   ]
  },
  {
   "cell_type": "markdown",
   "id": "b7d9e0b3-74c9-4cd5-8046-e2f810cb8176",
   "metadata": {},
   "source": [
    "Here we explore the ACID behavior of LaminDB's upload API."
   ]
  },
  {
   "cell_type": "code",
   "execution_count": null,
   "id": "185db0bf-cd42-4611-9c9e-3d7970dffb5a",
   "metadata": {},
   "outputs": [],
   "source": [
    "from lndb import init, load, delete, settings\n",
    "from lndb.dev import setup_local_test_postgres\n",
    "\n",
    "pgurl = setup_local_test_postgres()\n",
    "init(name=\"acidtests\", storage=\"acidtests\", db=pgurl)"
   ]
  },
  {
   "cell_type": "code",
   "execution_count": null,
   "id": "d7c5d1b2-3f24-4faa-9f15-81fcdfef28c8",
   "metadata": {},
   "outputs": [],
   "source": [
    "import lamindb as ln\n",
    "import lamindb.schema as lns\n",
    "\n",
    "ln.nb.header()"
   ]
  },
  {
   "cell_type": "markdown",
   "id": "6f448850-bc49-4f0e-ad6f-f8fd1caec4d3",
   "metadata": {},
   "source": [
    "## Ingestion failure due to failed upload to storage"
   ]
  },
  {
   "cell_type": "markdown",
   "id": "0c582719-42de-4e9d-bdcb-51f8aabb3ca5",
   "metadata": {},
   "source": [
    "Let's try to ingest a data object to a storage location without permission."
   ]
  },
  {
   "cell_type": "code",
   "execution_count": null,
   "id": "b7f9598c-ae60-4eef-8576-81c6679af16f",
   "metadata": {},
   "outputs": [],
   "source": [
    "from cloudpathlib import CloudPath\n",
    "import pytest\n",
    "\n",
    "# Create data object\n",
    "adata = ln.dev.datasets.anndata_mouse_sc_lymph_node()\n",
    "dobject = ln.DObject(adata, name=\"Mouse Lymph Node scRNA-seq\")\n",
    "\n",
    "# Update storage path with corrupt path\n",
    "settings.instance.storage._root = CloudPath(\"s3://nf-core-awsmegatests\")\n",
    "\n",
    "# Ingest data object\n",
    "with pytest.raises(RuntimeError) as e:\n",
    "    error = e\n",
    "    added_dobject = ln.add(dobject)\n",
    "print(error.exconly())"
   ]
  },
  {
   "cell_type": "markdown",
   "id": "cf110322-0011-4a35-9393-0465db3b562f",
   "metadata": {},
   "source": [
    "Let's check that no metadata records were added to the database."
   ]
  },
  {
   "cell_type": "code",
   "execution_count": null,
   "id": "ad437d03-100e-4cfe-a967-a2102dac874d",
   "metadata": {},
   "outputs": [],
   "source": [
    "dobjects = ln.select(ln.DObject).all()\n",
    "assert len(dobjects) == 0"
   ]
  },
  {
   "cell_type": "markdown",
   "id": "e29ce7ae-2a01-4938-b712-821d7c970af3",
   "metadata": {},
   "source": [
    "## Ingestion failure due to failed database transaction"
   ]
  },
  {
   "cell_type": "markdown",
   "id": "e8bd2b6e-7051-4d93-9bc2-21e5d03ea7f5",
   "metadata": {},
   "source": [
    "Let's try to add the same `Project` record twice, violating the primary key unique constraint."
   ]
  },
  {
   "cell_type": "code",
   "execution_count": null,
   "id": "e2649a8e-8ecd-4f82-bdc1-313a45833c36",
   "metadata": {},
   "outputs": [],
   "source": [
    "added_project = ln.add(lns.Project(name=\"test-project\"))\n",
    "with pytest.raises(RuntimeError) as e:\n",
    "    error = e\n",
    "    ln.add(lns.Project, id=added_project.id, name=\"conflict-project\")\n",
    "print(error.exconly())"
   ]
  },
  {
   "cell_type": "markdown",
   "id": "ed3e9cfe-4d07-4d96-8443-d60b62ca82fe",
   "metadata": {},
   "source": [
    "## Ingestion failure during list-based ingestion"
   ]
  },
  {
   "cell_type": "markdown",
   "id": "5258b578-733b-4eb1-afd0-01144d2b1c47",
   "metadata": {},
   "source": [
    "If a list of data objects is passed to `ln.add()` and the upload of one of these data objects fails, the successful uploads are maintained and a `RuntimeError` is raised, listing the successfully uploaded data objects up until that point."
   ]
  },
  {
   "cell_type": "markdown",
   "id": "1c9628a4-e28c-4f39-b81f-d7b1191b0123",
   "metadata": {
    "tags": []
   },
   "source": [
    "## Ingestion failure unrelated to upload to storage or DB transaction"
   ]
  },
  {
   "cell_type": "markdown",
   "id": "6b5ccf29-603b-4be9-8d9a-a0e53fc1807e",
   "metadata": {},
   "source": [
    "Let's now restore the storage location."
   ]
  },
  {
   "cell_type": "code",
   "execution_count": null,
   "id": "6be57611-90c8-4b78-9d57-2597066d8468",
   "metadata": {},
   "outputs": [],
   "source": [
    "load(\"acidtests\")"
   ]
  },
  {
   "cell_type": "markdown",
   "id": "effca4be-b533-41a0-8db8-f98810a6fd8b",
   "metadata": {},
   "source": [
    "Errors that are not related to database connection or file upload are raised with their original exception.\n",
    "\n",
    "No entries are committed to the database or uploaded to storage."
   ]
  },
  {
   "cell_type": "code",
   "execution_count": null,
   "id": "a18243b3-0ff4-4302-882e-5cd220732a98",
   "metadata": {},
   "outputs": [],
   "source": [
    "from sqlalchemy.orm.exc import UnmappedInstanceError\n",
    "\n",
    "filepath = ln.dev.datasets.file_jpg_paradisi05()\n",
    "dobject = ln.DObject(filepath)\n",
    "dobjects = [dobject, \"this is not a data object\"]\n",
    "with pytest.raises(UnmappedInstanceError) as e:\n",
    "    exception = e\n",
    "    ln.add(dobjects)\n",
    "print(exception.exconly())"
   ]
  },
  {
   "cell_type": "code",
   "execution_count": null,
   "id": "6e51a488-95cc-4fc3-951c-e63e93c28e09",
   "metadata": {},
   "outputs": [],
   "source": [
    "dobjects = ln.select(ln.DObject).all()\n",
    "assert len(dobjects) == 0"
   ]
  },
  {
   "cell_type": "code",
   "execution_count": null,
   "id": "98783afd",
   "metadata": {},
   "outputs": [],
   "source": [
    "!docker stop pgtest && docker rm pgtest"
   ]
  },
  {
   "cell_type": "code",
   "execution_count": null,
   "id": "155b4f60",
   "metadata": {},
   "outputs": [],
   "source": [
    "delete(\"acidtests\")"
   ]
  }
 ],
 "metadata": {
  "kernelspec": {
   "display_name": "Python 3",
   "language": "python",
   "name": "python3"
  },
  "language_info": {
   "codemirror_mode": {
    "name": "ipython",
    "version": 3
   },
   "file_extension": ".py",
   "mimetype": "text/x-python",
   "name": "python",
   "nbconvert_exporter": "python",
   "pygments_lexer": "ipython3",
   "version": "3.10.7 (main, Sep 14 2022, 22:38:23) [Clang 14.0.0 (clang-1400.0.29.102)]"
  },
  "nbproject": {
   "id": "zz23msudiiQR",
   "parent": null,
   "pypackage": null,
   "time_init": "2023-02-03T20:01:20.761043+00:00",
   "user_handle": "testuser1",
   "user_id": "DzTjkKse",
   "user_name": "Test User1",
   "version": "0"
  },
  "vscode": {
   "interpreter": {
    "hash": "b0fa6594d8f4cbf19f97940f81e996739fb7646882a419484c72d19e05852a7e"
   }
  }
 },
 "nbformat": 4,
 "nbformat_minor": 5
}
