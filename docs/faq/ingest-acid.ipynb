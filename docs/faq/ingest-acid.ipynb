{
 "cells": [
  {
   "cell_type": "markdown",
   "id": "41b33aca-1a7d-42b4-afa6-c9a5bccc060c",
   "metadata": {},
   "source": [
    "# ACID upload of data objects"
   ]
  },
  {
   "cell_type": "markdown",
   "id": "b7d9e0b3-74c9-4cd5-8046-e2f810cb8176",
   "metadata": {},
   "source": [
    "Here we explore the ACID behavior of LaminDB's upload API."
   ]
  },
  {
   "cell_type": "code",
   "execution_count": null,
   "id": "185db0bf-cd42-4611-9c9e-3d7970dffb5a",
   "metadata": {},
   "outputs": [],
   "source": [
    "from lndb_setup import login, init\n",
    "\n",
    "login(user=\"testuser1\")\n",
    "init(storage=\"acidtests\", schema=\"bionty,wetlab\")"
   ]
  },
  {
   "cell_type": "code",
   "execution_count": null,
   "id": "d7c5d1b2-3f24-4faa-9f15-81fcdfef28c8",
   "metadata": {},
   "outputs": [],
   "source": [
    "import lamindb as ln\n",
    "import pytest\n",
    "\n",
    "ln.nb.header()"
   ]
  },
  {
   "cell_type": "code",
   "execution_count": null,
   "id": "b7f9598c-ae60-4eef-8576-81c6679af16f",
   "metadata": {},
   "outputs": [],
   "source": [
    "# TODO: Add an example of a failed transaction for a single data object that fails at upload (after the metadata is succssefully committed to the DB)."
   ]
  },
  {
   "cell_type": "markdown",
   "id": "effca4be-b533-41a0-8db8-f98810a6fd8b",
   "metadata": {},
   "source": [
    "If a list of data objects is passed to `ln.add()` and the upload of one of these data objects fails, the successful uploads up until the failure point are maintained and a `RuntimeError` is raised, listing the successfully uploaded data objects."
   ]
  },
  {
   "cell_type": "code",
   "execution_count": null,
   "id": "a18243b3-0ff4-4302-882e-5cd220732a98",
   "metadata": {},
   "outputs": [],
   "source": [
    "filepath = ln.dev.datasets.file_jpg_paradisi05()\n",
    "dobject = ln.DObject(filepath)\n",
    "dobjects = [dobject, \"this is not a data object\"]\n",
    "with pytest.raises(RuntimeError) as e:\n",
    "    exception = e\n",
    "    ln.add(dobjects)\n",
    "print(exception.exconly())"
   ]
  }
 ],
 "metadata": {
  "kernelspec": {
   "display_name": "lamin-dev",
   "language": "python",
   "name": "lamin-dev"
  },
  "language_info": {
   "codemirror_mode": {
    "name": "ipython",
    "version": 3
   },
   "file_extension": ".py",
   "mimetype": "text/x-python",
   "name": "python",
   "nbconvert_exporter": "python",
   "pygments_lexer": "ipython3",
   "version": "3.9.12"
  },
  "nbproject": {
   "id": "zz23msudiiQR",
   "parent": null,
   "pypackage": null,
   "time_init": "2023-02-03T20:01:20.761043+00:00",
   "user_handle": "testuser1",
   "user_id": "DzTjkKse",
   "user_name": "Test User1",
   "version": "0"
  }
 },
 "nbformat": 4,
 "nbformat_minor": 5
}
