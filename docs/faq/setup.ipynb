{
 "cells": [
  {
   "attachments": {},
   "cell_type": "markdown",
   "id": "261ca5e4-f46f-4361-9c3e-f944bbe14484",
   "metadata": {},
   "source": [
    "# What happens when importing lamindb and the instance it not yet setup?"
   ]
  },
  {
   "cell_type": "code",
   "execution_count": null,
   "id": "130c852d-6613-4fde-9dd5-576d3561834b",
   "metadata": {
    "tags": [
     "hide-cell"
    ]
   },
   "outputs": [],
   "source": [
    "!lamin close"
   ]
  },
  {
   "cell_type": "code",
   "execution_count": null,
   "id": "5454ac1a-acd4-4432-bd3f-69214001062d",
   "metadata": {},
   "outputs": [],
   "source": [
    "import lamindb as ln\n",
    "import pytest"
   ]
  },
  {
   "attachments": {},
   "cell_type": "markdown",
   "id": "bbdb5cc9",
   "metadata": {},
   "source": [
    "If you try to use lamindb, it will raise an `InstanceNotSetupError` and ask you to `init` or `load` an instance via the python API."
   ]
  },
  {
   "cell_type": "code",
   "execution_count": null,
   "id": "2cc3ca46-8ff7-445d-a053-d786927f2841",
   "metadata": {
    "tags": [
     "hide-cell"
    ]
   },
   "outputs": [],
   "source": [
    "with pytest.raises(ln.InstanceNotSetupError):\n",
    "    ln.track()"
   ]
  },
  {
   "cell_type": "code",
   "execution_count": null,
   "id": "557b808a-e8d2-44dc-abc9-0dfb7cd64271",
   "metadata": {},
   "outputs": [],
   "source": [
    "ln.setup.init(storage=\"./testsetup\")"
   ]
  },
  {
   "attachments": {},
   "cell_type": "markdown",
   "id": "2d68e16d",
   "metadata": {},
   "source": [
    "Now we can access functionality:"
   ]
  },
  {
   "cell_type": "code",
   "execution_count": null,
   "id": "99a8617a",
   "metadata": {},
   "outputs": [],
   "source": [
    "ln.track()"
   ]
  },
  {
   "attachments": {},
   "cell_type": "markdown",
   "id": "c2fb4f9b",
   "metadata": {},
   "source": [
    "Let us try to init another instance in the same Python session: It doesn't work."
   ]
  },
  {
   "cell_type": "code",
   "execution_count": null,
   "id": "116d1f54",
   "metadata": {},
   "outputs": [],
   "source": [
    "with pytest.raises(RuntimeError):\n",
    "    ln.setup.init(storage=\"./testsetup2\")\n",
    "with pytest.raises(RuntimeError):\n",
    "    ln.setup.load(\"testsetup\")"
   ]
  },
  {
   "cell_type": "code",
   "execution_count": null,
   "id": "cc237dc9",
   "metadata": {},
   "outputs": [],
   "source": [
    "!lamin delete --force testsetup"
   ]
  }
 ],
 "metadata": {
  "kernelspec": {
   "display_name": "Python 3 (ipykernel)",
   "language": "python",
   "name": "python3"
  },
  "language_info": {
   "codemirror_mode": {
    "name": "ipython",
    "version": 3
   },
   "file_extension": ".py",
   "mimetype": "text/x-python",
   "name": "python",
   "nbconvert_exporter": "python",
   "pygments_lexer": "ipython3",
   "version": "3.9.16"
  },
  "nbproject": {
   "id": "2lhqA4uTKSFP",
   "parent": null,
   "pypackage": null,
   "time_init": "2023-07-02T08:19:16.832930+00:00",
   "user_handle": null,
   "user_id": null,
   "user_name": null,
   "version": "0"
  },
  "vscode": {
   "interpreter": {
    "hash": "61b4062b24dfb1010f420dad5aa3bd73a4d2af47d0ec44eafec465a35a9d7239"
   }
  }
 },
 "nbformat": 4,
 "nbformat_minor": 5
}
