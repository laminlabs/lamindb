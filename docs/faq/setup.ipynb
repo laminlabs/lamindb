{
 "cells": [
  {
   "attachments": {},
   "cell_type": "markdown",
   "id": "261ca5e4-f46f-4361-9c3e-f944bbe14484",
   "metadata": {},
   "source": [
    "# What happens if I forget to setup an instance using the CLI?"
   ]
  },
  {
   "cell_type": "markdown",
   "id": "479e762d",
   "metadata": {},
   "source": [
    "You can then use the `lamindb.setup` Python API after importing `lamindb`."
   ]
  },
  {
   "cell_type": "code",
   "execution_count": null,
   "id": "130c852d-6613-4fde-9dd5-576d3561834b",
   "metadata": {},
   "outputs": [],
   "source": [
    "!lamin close"
   ]
  },
  {
   "cell_type": "code",
   "execution_count": null,
   "id": "5454ac1a-acd4-4432-bd3f-69214001062d",
   "metadata": {},
   "outputs": [],
   "source": [
    "import lamindb as ln"
   ]
  },
  {
   "cell_type": "code",
   "execution_count": null,
   "id": "2cc3ca46-8ff7-445d-a053-d786927f2841",
   "metadata": {},
   "outputs": [],
   "source": [
    "import pytest\n",
    "\n",
    "with pytest.raises(AttributeError):\n",
    "    ln.schema.bionty.Gene"
   ]
  },
  {
   "cell_type": "code",
   "execution_count": null,
   "id": "557b808a-e8d2-44dc-abc9-0dfb7cd64271",
   "metadata": {},
   "outputs": [],
   "source": [
    "ln.setup.init(storage=\"mydata\", schema=\"bionty\")"
   ]
  },
  {
   "cell_type": "code",
   "execution_count": null,
   "id": "b1943dea-13a2-4fd9-b679-42c4ca809996",
   "metadata": {},
   "outputs": [],
   "source": [
    "ln.schema.bionty.Gene"
   ]
  }
 ],
 "metadata": {
  "kernelspec": {
   "display_name": "py39",
   "language": "python",
   "name": "python3"
  },
  "language_info": {
   "codemirror_mode": {
    "name": "ipython",
    "version": 3
   },
   "file_extension": ".py",
   "mimetype": "text/x-python",
   "name": "python",
   "nbconvert_exporter": "python",
   "pygments_lexer": "ipython3",
   "version": "3.9.15"
  },
  "vscode": {
   "interpreter": {
    "hash": "61b4062b24dfb1010f420dad5aa3bd73a4d2af47d0ec44eafec465a35a9d7239"
   }
  }
 },
 "nbformat": 4,
 "nbformat_minor": 5
}
