{
 "cells": [
  {
   "cell_type": "markdown",
   "metadata": {},
   "source": [
    "# How do I create custom validators?"
   ]
  },
  {
   "cell_type": "markdown",
   "metadata": {},
   "source": [
    "Here, we will extend the basic [validation guide](/validate) to enforce more constraints with dictionary-like validators.\n",
    "\n",
    "This is similar to what is enforced by the CZ CELLxGENE data portal, see [here](https://github.com/chanzuckerberg/single-cell-curation)."
   ]
  },
  {
   "cell_type": "markdown",
   "metadata": {},
   "source": [
    "## Setup"
   ]
  },
  {
   "cell_type": "code",
   "execution_count": null,
   "metadata": {},
   "outputs": [],
   "source": [
    "!lamin init --storage test-validator --schema bionty"
   ]
  },
  {
   "cell_type": "code",
   "execution_count": null,
   "metadata": {},
   "outputs": [],
   "source": [
    "import lamindb as ln\n",
    "import lnschema_bionty as lb\n",
    "from lamin_utils import logger\n",
    "\n",
    "ln.settings.verbosity = \"success\"\n",
    "lb.settings.organism = \"human\""
   ]
  },
  {
   "cell_type": "markdown",
   "metadata": {},
   "source": [
    "## Access data"
   ]
  },
  {
   "cell_type": "markdown",
   "metadata": {},
   "source": [
    "Let's use an AnnData as the dataset to validate:"
   ]
  },
  {
   "cell_type": "code",
   "execution_count": null,
   "metadata": {},
   "outputs": [],
   "source": [
    "adata = ln.dev.datasets.anndata_human_immune_cells(populate_registries=True)\n",
    "adata"
   ]
  },
  {
   "cell_type": "markdown",
   "metadata": {},
   "source": [
    "## Define validation criteria"
   ]
  },
  {
   "cell_type": "markdown",
   "metadata": {},
   "source": [
    "Define validation criteria for an `AnnData`:"
   ]
  },
  {
   "cell_type": "code",
   "execution_count": null,
   "metadata": {},
   "outputs": [],
   "source": [
    "validators = {\n",
    "    \"var\": {\"index\": lb.Gene.ensembl_gene_id},\n",
    "    \"obs\": {\n",
    "        \"donor\": ln.ULabel.name,\n",
    "        \"tissue\": lb.Tissue.name,\n",
    "        \"cell_type\": lb.CellType.name,\n",
    "        \"assay\": lb.ExperimentalFactor.name,\n",
    "    },\n",
    "}"
   ]
  },
  {
   "cell_type": "markdown",
   "metadata": {},
   "source": [
    "## Run validation"
   ]
  },
  {
   "cell_type": "markdown",
   "metadata": {},
   "source": [
    "Run bulk validation:"
   ]
  },
  {
   "cell_type": "code",
   "execution_count": null,
   "metadata": {},
   "outputs": [],
   "source": [
    "features = ln.Feature.lookup()\n",
    "\n",
    "for slot, slot_validators in validators.items():\n",
    "    for name, validator in slot_validators.items():\n",
    "        # access registry (a Django model)\n",
    "        registry = validator.field.model\n",
    "\n",
    "        # validate index\n",
    "        if name == \"index\":\n",
    "            logger.print(f\"validating {slot}.{name}:\")\n",
    "            index = getattr(adata, slot).index\n",
    "            validated = registry.validate(index, validator)\n",
    "            if validated.sum() == len(index):\n",
    "                logger.success(\"index matches\")\n",
    "\n",
    "        # validate columns\n",
    "        else:\n",
    "            logger.print(f\"\\nvalidating {slot}.{name}:\")\n",
    "            # check if the column name exist\n",
    "            if name not in getattr(adata, slot).columns:\n",
    "                logger.warning(f\"{slot}.{name} field is missing\")\n",
    "            else:\n",
    "                # check if a feature is registered for the column\n",
    "                if not hasattr(features, name):\n",
    "                    logger.warning(f\"feature '{name}' is not registered\")\n",
    "                # validate categorical labels in a column\n",
    "                else:\n",
    "                    labels = getattr(adata, slot)[name]\n",
    "                    validated = registry.validate(labels, validator)\n",
    "                    if validated.sum() == len(labels):\n",
    "                        logger.success(\"labels match\")"
   ]
  },
  {
   "cell_type": "markdown",
   "metadata": {},
   "source": [
    "Delete test instance:"
   ]
  },
  {
   "cell_type": "code",
   "execution_count": null,
   "metadata": {},
   "outputs": [],
   "source": [
    "!lamin delete --force test-validator"
   ]
  }
 ],
 "metadata": {
  "kernelspec": {
   "display_name": "py39",
   "language": "python",
   "name": "python3"
  },
  "language_info": {
   "artifact_extension": ".py",
   "codemirror_mode": {
    "name": "ipython",
    "version": 3
   },
   "mimetype": "text/x-python",
   "name": "python",
   "nbconvert_exporter": "python",
   "pygments_lexer": "ipython3",
   "version": "3.9.16"
  }
 },
 "nbformat": 4,
 "nbformat_minor": 2
}
