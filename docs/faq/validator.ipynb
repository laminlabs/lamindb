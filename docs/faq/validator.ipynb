{
 "cells": [
  {
   "cell_type": "markdown",
   "metadata": {},
   "source": [
    "# Customize validator"
   ]
  },
  {
   "cell_type": "code",
   "execution_count": null,
   "metadata": {},
   "outputs": [],
   "source": [
    "!lamin init --storage test-validator --schema bionty"
   ]
  },
  {
   "cell_type": "code",
   "execution_count": null,
   "metadata": {},
   "outputs": [],
   "source": [
    "import lamindb as ln\n",
    "import lnschema_bionty as lb\n",
    "from lamin_utils import logger\n",
    "\n",
    "lb.settings.organism = \"human\""
   ]
  },
  {
   "cell_type": "code",
   "execution_count": null,
   "metadata": {},
   "outputs": [],
   "source": [
    "adata = ln.dev.datasets.anndata_human_immune_cells(populate_registries=True)\n",
    "adata"
   ]
  },
  {
   "cell_type": "markdown",
   "metadata": {},
   "source": [
    "Define validation criteria:"
   ]
  },
  {
   "cell_type": "code",
   "execution_count": null,
   "metadata": {},
   "outputs": [],
   "source": [
    "validators = {\n",
    "    \"var\": {\"index\": lb.Gene.ensembl_gene_id},\n",
    "    \"obs\": {\n",
    "        \"donor\": ln.ULabel.name,\n",
    "        \"tissue\": lb.Tissue.name,\n",
    "        \"cell_type\": lb.CellType.name,\n",
    "        \"assay\": lb.ExperimentalFactor.name,\n",
    "    },\n",
    "}"
   ]
  },
  {
   "cell_type": "markdown",
   "metadata": {},
   "source": [
    "Run bulk validation:"
   ]
  },
  {
   "cell_type": "code",
   "execution_count": null,
   "metadata": {},
   "outputs": [],
   "source": [
    "features = ln.Feature.lookup()\n",
    "\n",
    "for slot, slot_validators in validators.items():\n",
    "    for name, validator in slot_validators.items():\n",
    "        model = validator.field.model\n",
    "        if name == \"index\":\n",
    "            logger.print(f\"validating {slot}.{name}:\")\n",
    "            model.validate(adata.__getattribute__(slot).index, validator)\n",
    "        else:\n",
    "            logger.print(f\"\\nvalidating {slot}.{name}:\")\n",
    "            if name not in adata.__getattribute__(slot).columns:\n",
    "                logger.warning(f\"{slot}.{name} field is missing\")\n",
    "            else:\n",
    "                if not hasattr(features, name):\n",
    "                    logger.warning(f\"feature '{name}' is not registered\")\n",
    "                else:\n",
    "                    labels = adata.__getattribute__(slot)[name]\n",
    "                    validated = model.validate(labels, validator)\n",
    "                    if validated.sum() == len(labels):\n",
    "                        logger.print(\"🎉 PASS\")"
   ]
  },
  {
   "cell_type": "code",
   "execution_count": null,
   "metadata": {},
   "outputs": [],
   "source": [
    "!lamin delete --force test-validator"
   ]
  }
 ],
 "metadata": {
  "kernelspec": {
   "display_name": "py39",
   "language": "python",
   "name": "python3"
  },
  "language_info": {
   "codemirror_mode": {
    "name": "ipython",
    "version": 3
   },
   "file_extension": ".py",
   "mimetype": "text/x-python",
   "name": "python",
   "nbconvert_exporter": "python",
   "pygments_lexer": "ipython3",
   "version": "3.9.16"
  }
 },
 "nbformat": 4,
 "nbformat_minor": 2
}
