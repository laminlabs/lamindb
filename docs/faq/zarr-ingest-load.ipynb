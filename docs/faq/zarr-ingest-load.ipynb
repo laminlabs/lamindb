{
 "cells": [
  {
   "cell_type": "markdown",
   "id": "601bac51",
   "metadata": {},
   "source": [
    "# Write and read adata as zarr"
   ]
  },
  {
   "cell_type": "markdown",
   "id": "d8a8bf84",
   "metadata": {},
   "source": [
    "This notebook shows how to write `AnnData` objects directly from memory and read them directly into memory without saving them on disk. We are using `zarr` as a storage format for `AnnData`."
   ]
  },
  {
   "cell_type": "code",
   "execution_count": null,
   "id": "d212fd14",
   "metadata": {},
   "outputs": [],
   "source": [
    "!lndb login testuser1 --password \"cEvcwMJFX4OwbsYVaMt2Os6GxxGgDUlBGILs2RyS\"\n",
    "!lndb init --storage tostore"
   ]
  },
  {
   "cell_type": "code",
   "execution_count": null,
   "id": "218872b8",
   "metadata": {},
   "outputs": [],
   "source": [
    "import lamindb as ln\n",
    "import lamindb.schema as lns\n",
    "import scanpy as sc\n",
    "\n",
    "import warnings\n",
    "\n",
    "warnings.simplefilter(\"ignore\", category=FutureWarning)\n",
    "\n",
    "ln.nb.header()"
   ]
  },
  {
   "cell_type": "code",
   "execution_count": null,
   "id": "83ea15aa",
   "metadata": {},
   "outputs": [],
   "source": [
    "adata = sc.datasets.pbmc68k_reduced()"
   ]
  },
  {
   "cell_type": "code",
   "execution_count": null,
   "id": "a8c51648",
   "metadata": {},
   "outputs": [],
   "source": [
    "adata"
   ]
  },
  {
   "cell_type": "markdown",
   "id": "13a71163",
   "metadata": {},
   "source": [
    "Create a pipeline for experiments with `zarr`."
   ]
  },
  {
   "cell_type": "code",
   "execution_count": null,
   "id": "ed1b5c77",
   "metadata": {},
   "outputs": [],
   "source": [
    "pipeline = ln.add(lns.Pipeline(v=\"1\", name=\"zarr-pipeline\"))"
   ]
  },
  {
   "cell_type": "code",
   "execution_count": null,
   "id": "47dcc753",
   "metadata": {},
   "outputs": [],
   "source": [
    "run = lns.Run(pipeline_id=pipeline.id, pipeline_v=pipeline.v, name=\"zarr-write-read\")"
   ]
  },
  {
   "cell_type": "markdown",
   "id": "6e86baa7",
   "metadata": {},
   "source": [
    "Select `adata_format=\"zarr\"` to ingest and store `AnnData` as `zarr`."
   ]
  },
  {
   "cell_type": "code",
   "execution_count": null,
   "id": "31f75a44",
   "metadata": {},
   "outputs": [],
   "source": [
    "dobject = ln.DObject(adata, name=\"pbmc68k_reduced\", format=\"zarr\", source=run)"
   ]
  },
  {
   "cell_type": "code",
   "execution_count": null,
   "id": "f27b7ed8",
   "metadata": {},
   "outputs": [],
   "source": [
    "ln.add(dobject)"
   ]
  },
  {
   "cell_type": "markdown",
   "id": "694064d3",
   "metadata": {},
   "source": [
    "Select the `DObject` from the `zarr` pipeline we created earlier."
   ]
  },
  {
   "cell_type": "code",
   "execution_count": null,
   "id": "cfb95a7f",
   "metadata": {},
   "outputs": [],
   "source": [
    "dobject = ln.select(lns.DObject).join(lns.Run, id=run.id).first()"
   ]
  },
  {
   "cell_type": "code",
   "execution_count": null,
   "id": "cc77882d",
   "metadata": {},
   "outputs": [],
   "source": [
    "dobject"
   ]
  },
  {
   "cell_type": "markdown",
   "id": "7f4d8964",
   "metadata": {},
   "source": [
    "Load the `AnnData` object stored as `zarr` directly into memory."
   ]
  },
  {
   "cell_type": "code",
   "execution_count": null,
   "id": "aa5e29ed",
   "metadata": {},
   "outputs": [],
   "source": [
    "adata = dobject.load()"
   ]
  },
  {
   "cell_type": "code",
   "execution_count": null,
   "id": "7150937c",
   "metadata": {},
   "outputs": [],
   "source": [
    "adata"
   ]
  }
 ],
 "metadata": {
  "kernelspec": {
   "display_name": "Python 3 (ipykernel)",
   "language": "python",
   "name": "python3"
  },
  "language_info": {
   "codemirror_mode": {
    "name": "ipython",
    "version": 3
   },
   "file_extension": ".py",
   "mimetype": "text/x-python",
   "name": "python",
   "nbconvert_exporter": "python",
   "pygments_lexer": "ipython3",
   "version": "3.9.12"
  },
  "nbproject": {
   "id": "ORs2VMg1RspV",
   "parent": null,
   "pypackage": null,
   "time_init": "2022-11-10T15:13:27.570618+00:00",
   "user_handle": "Koncopd",
   "user_id": "qTQ5q0ar",
   "user_name": "Sergei Rybakov",
   "version": "0"
  }
 },
 "nbformat": 4,
 "nbformat_minor": 5
}
