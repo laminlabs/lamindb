{
 "cells": [
  {
   "cell_type": "markdown",
   "id": "e0293a39",
   "metadata": {},
   "source": [
    "# Benchmark search"
   ]
  },
  {
   "cell_type": "code",
   "execution_count": null,
   "id": "955b6253",
   "metadata": {},
   "outputs": [],
   "source": [
    "from laminci.db import setup_local_test_postgres"
   ]
  },
  {
   "cell_type": "code",
   "execution_count": null,
   "id": "7f312433",
   "metadata": {},
   "outputs": [],
   "source": [
    "pgurl = setup_local_test_postgres()"
   ]
  },
  {
   "cell_type": "code",
   "execution_count": null,
   "id": "286aeebc",
   "metadata": {},
   "outputs": [],
   "source": [
    "!lamin init --name benchmark_search --db {pgurl} --schema bionty --storage ./benchmark_search"
   ]
  },
  {
   "cell_type": "code",
   "execution_count": null,
   "id": "47cef058",
   "metadata": {},
   "outputs": [],
   "source": [
    "import lamindb as ln\n",
    "import bionty as bt"
   ]
  },
  {
   "cell_type": "code",
   "execution_count": null,
   "id": "83a46a9a",
   "metadata": {},
   "outputs": [],
   "source": [
    "bt.CellType.import_from_source()"
   ]
  },
  {
   "cell_type": "code",
   "execution_count": null,
   "id": "7991a73f",
   "metadata": {},
   "outputs": [],
   "source": [
    "SEARCH_QUERIES = (\"t cell\", \"t cel\", \"stem cell\", \"b cell\", \"regulatory B cell\", \"Be2 cell\", \"neural\", \"adipocyte\")\n",
    "SEARCH_QUERIES += (\"CD8-positie cytokine T cell\", \"kidney immune\", \"kidne immune\", \"kidney\", \"kidne\")\n",
    "TOP_N = 20"
   ]
  },
  {
   "cell_type": "code",
   "execution_count": null,
   "id": "682fcd2f",
   "metadata": {},
   "outputs": [],
   "source": [
    "for query in SEARCH_QUERIES:\n",
    "    print(\"Query:\", query)\n",
    "    display(bt.CellType.search(query).df())"
   ]
  },
  {
   "cell_type": "code",
   "execution_count": null,
   "id": "53038793",
   "metadata": {},
   "outputs": [],
   "source": [
    "!docker stop pgtest && docker rm pgtest\n",
    "!lamin delete --force benchmark_search\n",
    "!rm -r ./benchmark_search"
   ]
  }
 ],
 "metadata": {
  "kernelspec": {
   "display_name": "Python 3 (ipykernel)",
   "language": "python",
   "name": "python3"
  },
  "language_info": {
   "codemirror_mode": {
    "name": "ipython",
    "version": 3
   },
   "file_extension": ".py",
   "mimetype": "text/x-python",
   "name": "python",
   "nbconvert_exporter": "python",
   "pygments_lexer": "ipython3",
   "version": "3.9.17"
  }
 },
 "nbformat": 4,
 "nbformat_minor": 5
}
