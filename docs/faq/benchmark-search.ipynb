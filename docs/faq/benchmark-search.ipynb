{
 "cells": [
  {
   "cell_type": "code",
   "execution_count": null,
   "id": "955b6253",
   "metadata": {},
   "outputs": [],
   "source": [
    "from laminci.db import setup_local_test_postgres"
   ]
  },
  {
   "cell_type": "code",
   "execution_count": null,
   "id": "7f312433",
   "metadata": {},
   "outputs": [],
   "source": [
    "pgurl = setup_local_test_postgres()"
   ]
  },
  {
   "cell_type": "code",
   "execution_count": null,
   "id": "286aeebc",
   "metadata": {},
   "outputs": [],
   "source": [
    "!lamin init --name benchmark_search --db {pgurl} --schema bionty --storage ./benchmark_search"
   ]
  },
  {
   "cell_type": "code",
   "execution_count": null,
   "id": "47cef058",
   "metadata": {},
   "outputs": [],
   "source": [
    "import lamindb as ln\n",
    "import bionty as bt\n",
    "import pandas as pd\n",
    "import rbo\n",
    "from django.test import modify_settings\n",
    "from django.contrib.postgres.search import SearchQuery, SearchVector, SearchRank"
   ]
  },
  {
   "cell_type": "code",
   "execution_count": null,
   "id": "c0e2029c",
   "metadata": {},
   "outputs": [],
   "source": [
    "postgres = {\"append\": \"django.contrib.postgres\"}"
   ]
  },
  {
   "cell_type": "code",
   "execution_count": null,
   "id": "6afc2d43",
   "metadata": {},
   "outputs": [],
   "source": [
    "@modify_settings(INSTALLED_APPS=postgres)\n",
    "def rank_fulltext_postgres(cls, search_str, fields=None):\n",
    "    if fields is None:\n",
    "        fields = [field.name for field in cls._meta.fields if field.get_internal_type() in {\"CharField\", \"TextField\"}]\n",
    "    vector = SearchVector(*fields)\n",
    "    query = SearchQuery(search_str)\n",
    "    qs = cls.objects.annotate(rank=SearchRank(vector, query)).filter()\n",
    "    if \"ontology_id\" not in fields:\n",
    "        fields.append(\"ontology_id\")\n",
    "    ls = qs.values(*fields, \"rank\").list()\n",
    "    df = pd.DataFrame(ls)[[\"rank\"] + fields]\n",
    "    return df.set_index(\"ontology_id\").sort_values(\"rank\", ascending=False)"
   ]
  },
  {
   "cell_type": "code",
   "execution_count": null,
   "id": "83a46a9a",
   "metadata": {},
   "outputs": [],
   "source": [
    "bt.CellType.import_from_source()"
   ]
  },
  {
   "cell_type": "code",
   "execution_count": null,
   "id": "7991a73f",
   "metadata": {},
   "outputs": [],
   "source": [
    "SEARCH_QUERIES = (\"t cell\", \"stem cell\", \"b cell\", \"neural\")\n",
    "TOP_N = 20"
   ]
  },
  {
   "cell_type": "markdown",
   "id": "8fac9e89",
   "metadata": {},
   "source": [
    "postgres fulltext search vs bionty search"
   ]
  },
  {
   "cell_type": "code",
   "execution_count": null,
   "id": "8e1723eb",
   "metadata": {},
   "outputs": [],
   "source": [
    "ct_public = bt.CellType.public()\n",
    "\n",
    "for query in SEARCH_QUERIES:\n",
    "    print(\"Query:\", query)\n",
    "    print(\"postgres search:\")\n",
    "    df_ps = rank_fulltext_postgres(bt.CellType, query, [\"name\"]).head(TOP_N)\n",
    "    display(df_ps)\n",
    "    df_bt = ct_public.search(query)\n",
    "    df_bt[\"name\"] = df_bt.index\n",
    "    df_bt = df_bt[[\"ontology_id\", \"name\"]].set_index(\"ontology_id\").head(TOP_N)\n",
    "    print(\"bionty search:\")\n",
    "    display(df_bt)\n",
    "    rbo_score = rbo.RankingSimilarity(df_ps.index.to_list(), df_bt.index.to_list()).rbo(p=0.9)\n",
    "    print(\"RBO:\", rbo_score)"
   ]
  },
  {
   "cell_type": "markdown",
   "id": "feeed365",
   "metadata": {},
   "source": [
    "postgres fulltext search vs lamindb search"
   ]
  },
  {
   "cell_type": "code",
   "execution_count": null,
   "id": "682fcd2f",
   "metadata": {},
   "outputs": [],
   "source": [
    "for query in SEARCH_QUERIES:\n",
    "    print(\"Query:\", query)\n",
    "    print(\"postgres search:\")\n",
    "    df_ps = rank_fulltext_postgres(bt.CellType, query).head(TOP_N)\n",
    "    display(df_ps)\n",
    "    df_ln = bt.CellType.search(query).df()[[\"name\", \"ontology_id\", \"description\", \"synonyms\"]]\n",
    "    df_ln = df_ln.set_index(\"ontology_id\").head(TOP_N)\n",
    "    print(\"lamindb search:\")\n",
    "    display(df_ln)\n",
    "    rbo_score = rbo.RankingSimilarity(df_ps.index.to_list(), df_ln.index.to_list()).rbo(p=0.9)\n",
    "    print(\"RBO:\", rbo_score)"
   ]
  },
  {
   "cell_type": "code",
   "execution_count": null,
   "id": "53038793",
   "metadata": {},
   "outputs": [],
   "source": [
    "!docker stop pgtest && docker rm pgtest\n",
    "!lamin delete --force benchmark_search\n",
    "!rm -r ./benchmark_search"
   ]
  }
 ],
 "metadata": {
  "kernelspec": {
   "display_name": "Python 3 (ipykernel)",
   "language": "python",
   "name": "python3"
  },
  "language_info": {
   "codemirror_mode": {
    "name": "ipython",
    "version": 3
   },
   "file_extension": ".py",
   "mimetype": "text/x-python",
   "name": "python",
   "nbconvert_exporter": "python",
   "pygments_lexer": "ipython3",
   "version": "3.9.17"
  }
 },
 "nbformat": 4,
 "nbformat_minor": 5
}
