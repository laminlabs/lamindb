{
 "cells": [
  {
   "cell_type": "markdown",
   "metadata": {},
   "source": [
    "# What does the key parameter do under the hood?"
   ]
  },
  {
   "cell_type": "markdown",
   "metadata": {},
   "source": [
    "LaminDB is designed around associating biological metadata to files and datasets.\n",
    "This enables querying for them in storage by metadata and removes the requirement for semantic file and dataset names.\n",
    "\n",
    "Here, we will discuss trade-offs for using the `key` parameter in various scenarios."
   ]
  },
  {
   "cell_type": "markdown",
   "metadata": {},
   "source": [
    "## Setup"
   ]
  },
  {
   "cell_type": "markdown",
   "metadata": {},
   "source": [
    "We're simulating a file system with several nested folders and files.\n",
    "Such structures are resembled in, for example, the {doc}`docs:faq/rxrx` guide."
   ]
  },
  {
   "cell_type": "code",
   "execution_count": null,
   "metadata": {},
   "outputs": [],
   "source": [
    "# This code will eventually be moved to a small script function\n",
    "import os\n",
    "\n",
    "\n",
    "def create_complex_biological_hierarchy(root_folder):\n",
    "    if not os.path.exists(root_folder):\n",
    "        os.mkdir(root_folder)\n",
    "\n",
    "    data_folder = os.path.join(root_folder, \"data\")\n",
    "    analysis_folder = os.path.join(root_folder, \"analysis\")\n",
    "    os.mkdir(data_folder)\n",
    "    os.mkdir(analysis_folder)\n",
    "\n",
    "    for i in range(1, 5):\n",
    "        file_name = f\"sample_data_{i}.txt\"\n",
    "        with open(os.path.join(data_folder, file_name), \"w\"):\n",
    "            pass\n",
    "\n",
    "    for i in range(1, 6):\n",
    "        dataset_folder = os.path.join(data_folder, f\"Dataset_{i}\")\n",
    "        os.mkdir(dataset_folder)\n",
    "\n",
    "        for j in range(1, 5):\n",
    "            file_name = f\"sample_data_{j}.txt\"\n",
    "            with open(os.path.join(dataset_folder, file_name), \"w\"):\n",
    "                pass\n",
    "\n",
    "    nested_analysis_folder = os.path.join(analysis_folder, \"nested_analysis\")\n",
    "    os.mkdir(nested_analysis_folder)\n",
    "\n",
    "    for i in range(1, 10):\n",
    "        file_name = f\"result_{i}.txt\"\n",
    "        with open(os.path.join(nested_analysis_folder, file_name), \"w\"):\n",
    "            pass\n",
    "\n",
    "\n",
    "root_folder = \"complex_biological_project\"\n",
    "create_complex_biological_hierarchy(root_folder)"
   ]
  },
  {
   "cell_type": "code",
   "execution_count": null,
   "metadata": {},
   "outputs": [],
   "source": [
    "!tree complex_biological_project"
   ]
  },
  {
   "cell_type": "code",
   "execution_count": null,
   "metadata": {},
   "outputs": [],
   "source": [
    "!lamin init --storage ./test-key"
   ]
  },
  {
   "cell_type": "code",
   "execution_count": null,
   "metadata": {},
   "outputs": [],
   "source": [
    "import lamindb as ln\n",
    "\n",
    "ln.settings.verbosity = \"hint\""
   ]
  },
  {
   "cell_type": "markdown",
   "metadata": {},
   "source": [
    "## Storing files using `File` and `key`"
   ]
  },
  {
   "cell_type": "markdown",
   "metadata": {},
   "source": [
    "1 sentence summary on what exists -> `File`, `Dataset`, `Storage`"
   ]
  },
  {
   "cell_type": "markdown",
   "metadata": {},
   "source": [
    "Store a couple of example files and show the various options with and without semantic keys."
   ]
  },
  {
   "cell_type": "code",
   "execution_count": null,
   "metadata": {},
   "outputs": [],
   "source": []
  },
  {
   "cell_type": "markdown",
   "metadata": {},
   "source": [
    "## Clashes of semantic keys"
   ]
  },
  {
   "cell_type": "markdown",
   "metadata": {},
   "source": [
    "Also scenarios where filter/search fail because of semantic keys -> essential fuzzy matching failing"
   ]
  },
  {
   "cell_type": "code",
   "execution_count": null,
   "metadata": {},
   "outputs": [],
   "source": []
  },
  {
   "cell_type": "markdown",
   "metadata": {},
   "source": [
    "## Renaming files"
   ]
  },
  {
   "cell_type": "markdown",
   "metadata": {},
   "source": [
    "1. Rename the file in storage (local)\n",
    "2. Rename the files by key\n",
    "3. Change the storage location"
   ]
  },
  {
   "cell_type": "code",
   "execution_count": null,
   "metadata": {},
   "outputs": [],
   "source": []
  },
  {
   "cell_type": "markdown",
   "metadata": {},
   "source": [
    "## Saving files multiple times"
   ]
  },
  {
   "cell_type": "markdown",
   "metadata": {},
   "source": [
    "Link to https://lamin.ai/docs/faq/idempotency but discuss semenatic keys."
   ]
  },
  {
   "cell_type": "markdown",
   "metadata": {},
   "source": [
    "## Changing storage location"
   ]
  },
  {
   "cell_type": "code",
   "execution_count": null,
   "metadata": {},
   "outputs": [],
   "source": []
  },
  {
   "cell_type": "markdown",
   "metadata": {},
   "source": [
    "## Hierarchies "
   ]
  },
  {
   "cell_type": "markdown",
   "metadata": {},
   "source": [
    "How to use hierarchical keys -> raw/something etc -> what happens in these scenarios?"
   ]
  },
  {
   "cell_type": "markdown",
   "metadata": {},
   "source": []
  }
 ],
 "metadata": {
  "kernelspec": {
   "display_name": "lamindb",
   "language": "python",
   "name": "python3"
  },
  "language_info": {
   "codemirror_mode": {
    "name": "ipython",
    "version": 3
   },
   "file_extension": ".py",
   "mimetype": "text/x-python",
   "name": "python",
   "nbconvert_exporter": "python",
   "pygments_lexer": "ipython3",
   "version": "3.10.12"
  }
 },
 "nbformat": 4,
 "nbformat_minor": 2
}
