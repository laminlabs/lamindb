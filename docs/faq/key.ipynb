{
 "cells": [
  {
   "cell_type": "markdown",
   "metadata": {},
   "source": [
    "# What does the key parameter do under the hood?"
   ]
  },
  {
   "cell_type": "markdown",
   "metadata": {},
   "source": [
    "LaminDB is designed around associating biological metadata to artifacts and collections.\n",
    "This enables querying for them in storage by metadata and removes the requirement for semantic artifact and collection names.\n",
    "\n",
    "Here, we will discuss trade-offs for using the `key` parameter, which allows for semantic keys, in various scenarios."
   ]
  },
  {
   "cell_type": "markdown",
   "metadata": {},
   "source": [
    "## Setup"
   ]
  },
  {
   "cell_type": "markdown",
   "metadata": {},
   "source": [
    "We're simulating an artifact system with several nested folders and artifacts.\n",
    "Such structures are resembled in, for example, the {doc}`docs:rxrx` guide."
   ]
  },
  {
   "cell_type": "code",
   "execution_count": null,
   "metadata": {},
   "outputs": [],
   "source": [
    "import random\n",
    "import string\n",
    "from pathlib import Path\n",
    "\n",
    "\n",
    "def create_complex_biological_hierarchy(root_folder):\n",
    "    root_path = Path(root_folder)\n",
    "\n",
    "    if root_path.exists():\n",
    "        print(\"Folder structure already exists. Skipping...\")\n",
    "    else:\n",
    "        root_path.mkdir()\n",
    "\n",
    "        raw_folder = root_path / \"raw\"\n",
    "        preprocessed_folder = root_path / \"preprocessed\"\n",
    "        raw_folder.mkdir()\n",
    "        preprocessed_folder.mkdir()\n",
    "\n",
    "        for i in range(1, 5):\n",
    "            artifact_name = f\"raw_data_{i}.txt\"\n",
    "            with (raw_folder / artifact_name).open(\"w\") as f:\n",
    "                random_text = \"\".join(\n",
    "                    random.choice(string.ascii_letters) for _ in range(10)\n",
    "                )\n",
    "                f.write(random_text)\n",
    "\n",
    "        for i in range(1, 3):\n",
    "            collection_folder = raw_folder / f\"Collection_{i}\"\n",
    "            collection_folder.mkdir()\n",
    "\n",
    "            for j in range(1, 5):\n",
    "                artifact_name = f\"raw_data_{j}.txt\"\n",
    "                with (collection_folder / artifact_name).open(\"w\") as f:\n",
    "                    random_text = \"\".join(\n",
    "                        random.choice(string.ascii_letters) for _ in range(10)\n",
    "                    )\n",
    "                    f.write(random_text)\n",
    "\n",
    "        for i in range(1, 5):\n",
    "            artifact_name = f\"result_{i}.txt\"\n",
    "            with (preprocessed_folder / artifact_name).open(\"w\") as f:\n",
    "                random_text = \"\".join(\n",
    "                    random.choice(string.ascii_letters) for _ in range(10)\n",
    "                )\n",
    "                f.write(random_text)\n",
    "\n",
    "\n",
    "root_folder = \"complex_biological_project\"\n",
    "create_complex_biological_hierarchy(root_folder)"
   ]
  },
  {
   "cell_type": "code",
   "execution_count": null,
   "metadata": {},
   "outputs": [],
   "source": [
    "!lamin init --storage ./key-eval"
   ]
  },
  {
   "cell_type": "code",
   "execution_count": null,
   "metadata": {},
   "outputs": [],
   "source": [
    "import lamindb as ln\n",
    "\n",
    "\n",
    "ln.settings.verbosity = \"hint\""
   ]
  },
  {
   "cell_type": "code",
   "execution_count": null,
   "metadata": {},
   "outputs": [],
   "source": [
    "ln.UPath(\"complex_biological_project\").view_tree()"
   ]
  },
  {
   "cell_type": "code",
   "execution_count": null,
   "metadata": {},
   "outputs": [],
   "source": [
    "ln.settings.transform.stem_uid = \"WIwaNDvlEkwS\"\n",
    "ln.settings.transform.version = \"1\"\n",
    "ln.track()"
   ]
  },
  {
   "cell_type": "markdown",
   "metadata": {},
   "source": [
    "## Storing artifacts using `Storage`, `File`, and `Collection`"
   ]
  },
  {
   "cell_type": "markdown",
   "metadata": {},
   "source": [
    "Lamin has three storage classes that manage different types of in-memory and on-disk objects:\n",
    "\n",
    "1. {class}`~lamindb.Storage`: Manages the default storage root that can be either local or in the cloud. For more details we refer to {doc}`docs:faq/storage`.\n",
    "2. {class}`~lamindb.Artifact`: Manages data batches with an optional `key` that acts as a relative path within the current default storage root (see {class}`~lamindb.Storage`). An example is a single h5 artifact.\n",
    "3. {class}`~lamindb.Collection`: Manages a collection of data batches with an optional `key` that acts as a relative path within the current default storage root (see {class}`~lamindb.Storage`). An example is a collection of h5 artifacts.\n",
    "\n",
    "For more details we refer to {doc}`docs:tutorial`."
   ]
  },
  {
   "cell_type": "markdown",
   "metadata": {},
   "source": [
    "The current storage root is:"
   ]
  },
  {
   "cell_type": "code",
   "execution_count": null,
   "metadata": {},
   "outputs": [],
   "source": [
    "ln.settings.storage"
   ]
  },
  {
   "cell_type": "markdown",
   "metadata": {},
   "source": [
    "By default, Lamin uses virtual `keys` that are only reflected in the database but not in storage.\n",
    "It is possible to turn this behavior off by setting `ln.settings.artifact_use_virtual_keys = False`.\n",
    "Generally, we discourage disabling this setting manually. For more details we refer to {doc}`docs:faq/storage`."
   ]
  },
  {
   "cell_type": "code",
   "execution_count": null,
   "metadata": {},
   "outputs": [],
   "source": [
    "ln.settings.artifact_use_virtual_keys"
   ]
  },
  {
   "cell_type": "markdown",
   "metadata": {},
   "source": [
    "We will now create `File` objects with and without semantic keys using `key` and also save them as `Collections`."
   ]
  },
  {
   "cell_type": "code",
   "execution_count": null,
   "metadata": {},
   "outputs": [],
   "source": [
    "artifact_no_key_1 = ln.Artifact(\"complex_biological_project/raw/raw_data_1.txt\")\n",
    "artifact_no_key_2 = ln.Artifact(\"complex_biological_project/raw/raw_data_2.txt\")"
   ]
  },
  {
   "cell_type": "markdown",
   "metadata": {},
   "source": [
    "The logging suggests that the artifacts will be saved to our current default storage with auto generated storage keys."
   ]
  },
  {
   "cell_type": "code",
   "execution_count": null,
   "metadata": {},
   "outputs": [],
   "source": [
    "artifact_no_key_1.save()\n",
    "artifact_no_key_2.save()"
   ]
  },
  {
   "cell_type": "code",
   "execution_count": null,
   "metadata": {},
   "outputs": [],
   "source": [
    "artifact_key_3 = ln.Artifact(\n",
    "    \"complex_biological_project/raw/raw_data_3.txt\", key=\"raw/raw_data_3.txt\"\n",
    ")\n",
    "artifact_key_4 = ln.Artifact(\n",
    "    \"complex_biological_project/raw/raw_data_4.txt\", key=\"raw/raw_data_4.txt\"\n",
    ")\n",
    "artifact_key_3.save()\n",
    "artifact_key_4.save()"
   ]
  },
  {
   "cell_type": "markdown",
   "metadata": {},
   "source": [
    "`Files` with keys are not stored in different locations because of the usage of `virtual keys`.\n",
    "However, they are still semantically queryable by `key`."
   ]
  },
  {
   "cell_type": "code",
   "execution_count": null,
   "metadata": {},
   "outputs": [],
   "source": [
    "ln.Artifact.filter(key__contains=\"raw\").df().head()"
   ]
  },
  {
   "cell_type": "markdown",
   "metadata": {},
   "source": [
    "`Collection` does not have a `key` parameter because it does not store any additional data in `Storage`.\n",
    "In contrast, it has a `name` parameter that serves as a semantic identifier of the collection."
   ]
  },
  {
   "cell_type": "code",
   "execution_count": null,
   "metadata": {},
   "outputs": [],
   "source": [
    "ds_1 = ln.Collection(data=[artifact_no_key_1, artifact_no_key_2], name=\"no key collection\")\n",
    "ds_2 = ln.Collection(data=[artifact_key_3, artifact_key_4], name=\"sample collection\")\n",
    "ds_1"
   ]
  },
  {
   "cell_type": "markdown",
   "metadata": {},
   "source": [
    "## Advantages and disadvantages of semantic keys"
   ]
  },
  {
   "cell_type": "markdown",
   "metadata": {},
   "source": [
    "Semantic keys have several advantages and disadvantages that we will discuss and demonstrate in the remaining notebook:\n",
    "\n",
    "### Advantages:\n",
    "\n",
    "- Simple: It can be easier to refer to specific collections in conversations\n",
    "- Familiarity: Most people are familiar with the concept of semantic names\n",
    "\n",
    "### Disadvantages\n",
    "\n",
    "- Length: Semantic names can be long with limited aesthetic appeal\n",
    "- Inconsistency: Lack of naming conventions can lead to confusion\n",
    "- Limited metadata: Semantic keys can contain some, but usually not all metadata\n",
    "- Inefficiency: Writing lengthy semantic names is a repetitive process and can be time-consuming\n",
    "- Ambiguity: Overly descriptive artifact names may introduce ambiguity and redundancy\n",
    "- Clashes: Several people may attempt to use the same semantic key. They are not unique"
   ]
  },
  {
   "cell_type": "markdown",
   "metadata": {},
   "source": [
    "## Renaming artifacts"
   ]
  },
  {
   "cell_type": "markdown",
   "metadata": {},
   "source": [
    "Renaming `Files` that have associated keys can be done on several levels."
   ]
  },
  {
   "cell_type": "markdown",
   "metadata": {},
   "source": [
    "### In storage"
   ]
  },
  {
   "cell_type": "markdown",
   "metadata": {},
   "source": [
    "A artifact can be locally moved or renamed:"
   ]
  },
  {
   "cell_type": "code",
   "execution_count": null,
   "metadata": {},
   "outputs": [],
   "source": [
    "artifact_key_3.path"
   ]
  },
  {
   "cell_type": "code",
   "execution_count": null,
   "metadata": {},
   "outputs": [],
   "source": [
    "loaded_artifact = artifact_key_3.load()"
   ]
  },
  {
   "cell_type": "code",
   "execution_count": null,
   "metadata": {},
   "outputs": [],
   "source": [
    "!mkdir complex_biological_project/moved_artifacts\n",
    "!mv complex_biological_project/raw/raw_data_3.txt complex_biological_project/moved_artifacts"
   ]
  },
  {
   "cell_type": "code",
   "execution_count": null,
   "metadata": {},
   "outputs": [],
   "source": [
    "artifact_key_3.path"
   ]
  },
  {
   "cell_type": "markdown",
   "metadata": {},
   "source": [
    "After moving the artifact locally, the storage location (the path) has not changed and the artifact can still be loaded."
   ]
  },
  {
   "cell_type": "code",
   "execution_count": null,
   "metadata": {},
   "outputs": [],
   "source": [
    "artifact_3 = artifact_key_3.load()"
   ]
  },
  {
   "cell_type": "markdown",
   "metadata": {},
   "source": [
    "The same applies to the `key` which has not changed."
   ]
  },
  {
   "cell_type": "code",
   "execution_count": null,
   "metadata": {},
   "outputs": [],
   "source": [
    "artifact_key_3.key"
   ]
  },
  {
   "cell_type": "markdown",
   "metadata": {},
   "source": [
    "### By key"
   ]
  },
  {
   "cell_type": "markdown",
   "metadata": {},
   "source": [
    "Besides moving the artifact in storage, the `key` can also be renamed."
   ]
  },
  {
   "cell_type": "code",
   "execution_count": null,
   "metadata": {},
   "outputs": [],
   "source": [
    "artifact_key_4.key"
   ]
  },
  {
   "cell_type": "code",
   "execution_count": null,
   "metadata": {},
   "outputs": [],
   "source": [
    "artifact_key_4.key = \"bad_samples/sample_data_4.txt\"\n",
    "artifact_key_4.key"
   ]
  },
  {
   "cell_type": "markdown",
   "metadata": {},
   "source": [
    "Due to the usage of virtual `keys`, modifying the key does not change the storage location and the artifact stays accessible."
   ]
  },
  {
   "cell_type": "code",
   "execution_count": null,
   "metadata": {},
   "outputs": [],
   "source": [
    "artifact_key_4.path"
   ]
  },
  {
   "cell_type": "code",
   "execution_count": null,
   "metadata": {},
   "outputs": [],
   "source": [
    "artifact_4 = artifact_key_4.load()"
   ]
  },
  {
   "cell_type": "markdown",
   "metadata": {},
   "source": [
    "### Modifying the `path` attribute"
   ]
  },
  {
   "cell_type": "markdown",
   "metadata": {},
   "source": [
    "However, modifying the `path` directly is not allowed:"
   ]
  },
  {
   "cell_type": "code",
   "execution_count": null,
   "metadata": {},
   "outputs": [],
   "source": [
    "try:\n",
    "    artifact_key_4.path = f\"{ln.settings.storage}/here_now/sample_data_4.txt\"\n",
    "except AttributeError as e:\n",
    "    print(e)"
   ]
  },
  {
   "cell_type": "markdown",
   "metadata": {},
   "source": [
    "## Clashing semantic keys"
   ]
  },
  {
   "cell_type": "markdown",
   "metadata": {},
   "source": [
    "Semantic keys should not clash. Let's attempt to use the same semantic key twice"
   ]
  },
  {
   "cell_type": "code",
   "execution_count": null,
   "metadata": {},
   "outputs": [],
   "source": [
    "print(artifact_key_3.key)\n",
    "print(artifact_key_4.key)"
   ]
  },
  {
   "cell_type": "code",
   "execution_count": null,
   "metadata": {},
   "outputs": [],
   "source": [
    "artifact_key_4.key = \"raw/raw_data_3.txt\""
   ]
  },
  {
   "cell_type": "code",
   "execution_count": null,
   "metadata": {},
   "outputs": [],
   "source": [
    "print(artifact_key_3.key)\n",
    "print(artifact_key_4.key)"
   ]
  },
  {
   "cell_type": "markdown",
   "metadata": {},
   "source": [
    "When filtering for this semantic key it is now unclear to which artifact we were referring to:"
   ]
  },
  {
   "cell_type": "code",
   "execution_count": null,
   "metadata": {},
   "outputs": [],
   "source": [
    "ln.Artifact.filter(key__icontains=\"sample_data_3\").df()"
   ]
  },
  {
   "cell_type": "markdown",
   "metadata": {},
   "source": [
    "When querying by `key` LaminDB cannot resolve which artifact we actually wanted.\n",
    "In fact, we only get a single hit which does not paint a complete picture."
   ]
  },
  {
   "cell_type": "code",
   "execution_count": null,
   "metadata": {},
   "outputs": [],
   "source": [
    "print(artifact_key_3.uid)\n",
    "print(artifact_key_4.uid)"
   ]
  },
  {
   "cell_type": "markdown",
   "metadata": {},
   "source": [
    "Both artifacts still exist though with unique `uids` that can be used to get access to them.\n",
    "Most importantly though, saving these artifacts to the database will result in an `IntegrityError` to prevent this issue."
   ]
  },
  {
   "cell_type": "code",
   "execution_count": null,
   "metadata": {},
   "outputs": [],
   "source": [
    "try:\n",
    "    artifact_key_3.save()\n",
    "    artifact_key_4.save()\n",
    "except Exception as e:\n",
    "    print(\n",
    "        \"It is not possible to save artifacts to the same key. This results in an\"\n",
    "        \" Integrity Error!\"\n",
    "    )"
   ]
  },
  {
   "cell_type": "markdown",
   "metadata": {},
   "source": [
    "We refer to {doc}`docs:faq/idempotency` for more detailed explanations of behavior when attempting to save artifacts multiple times."
   ]
  },
  {
   "cell_type": "markdown",
   "metadata": {},
   "source": [
    "## Hierarchies "
   ]
  },
  {
   "cell_type": "markdown",
   "metadata": {},
   "source": [
    "Another common use-case of `keys` are artifact hierarchies.\n",
    "It can be useful to resemble the artifact structure in \"complex_biological_project\" from above also in LaminDB to allow for queries for artifacts that were stored in specific folders.\n",
    "Common examples of this are folders specifying different processing stages such as `raw`, `preprocessed`, or `annotated`.\n",
    "\n",
    "Note that this use-case may also be overlapping with `Collection` which also allows for grouping `Files`.\n",
    "However, `Collection` cannot model hierarchical groupings."
   ]
  },
  {
   "cell_type": "markdown",
   "metadata": {},
   "source": [
    "### Key"
   ]
  },
  {
   "cell_type": "code",
   "execution_count": null,
   "metadata": {},
   "outputs": [],
   "source": [
    "import os\n",
    "\n",
    "for root, _, artifacts in os.walk(\"complex_biological_project/raw\"):\n",
    "    for artifactname in artifacts:\n",
    "        file_path = os.path.join(root, artifactname)\n",
    "        key_path = file_path.removeprefix(\"complex_biological_project\")\n",
    "        ln_artifact = ln.Artifact(file_path, key=key_path)\n",
    "        ln_artifact.save()"
   ]
  },
  {
   "cell_type": "code",
   "execution_count": null,
   "metadata": {},
   "outputs": [],
   "source": [
    "ln.Artifact.filter(key__startswith=\"raw\").df()"
   ]
  },
  {
   "cell_type": "markdown",
   "metadata": {},
   "source": [
    "### Collection"
   ]
  },
  {
   "cell_type": "markdown",
   "metadata": {},
   "source": [
    "Alternatively, it would have been possible to create a `Collection` with a corresponding name:"
   ]
  },
  {
   "cell_type": "code",
   "execution_count": null,
   "metadata": {},
   "outputs": [],
   "source": [
    "all_data_paths = []\n",
    "for root, _, artifacts in os.walk(\"complex_biological_project/raw\"):\n",
    "    for artifactname in artifacts:\n",
    "        file_path = os.path.join(root, artifactname)\n",
    "        all_data_paths.append(file_path)\n",
    "\n",
    "all_data_artifacts = []\n",
    "for path in all_data_paths:\n",
    "    all_data_artifacts.append(ln.Artifact(path))\n",
    "\n",
    "data_ds = ln.Collection(all_data_artifacts, name=\"data\")\n",
    "data_ds.save()"
   ]
  },
  {
   "cell_type": "code",
   "execution_count": null,
   "metadata": {},
   "outputs": [],
   "source": [
    "ln.Collection.filter(name__icontains=\"data\").df()"
   ]
  },
  {
   "cell_type": "markdown",
   "metadata": {},
   "source": [
    "This approach will likely lead to clashes. Alternatively, `Ulabels` can be added to `Files` to resemble hierarchies."
   ]
  },
  {
   "cell_type": "markdown",
   "metadata": {},
   "source": [
    "### Ulabels"
   ]
  },
  {
   "cell_type": "code",
   "execution_count": null,
   "metadata": {},
   "outputs": [],
   "source": [
    "for root, _, artifacts in os.walk(\"complex_biological_project/raw\"):\n",
    "    for artifactname in artifacts:\n",
    "        file_path = os.path.join(root, artifactname)\n",
    "        key_path = file_path.removeprefix(\"complex_biological_project\")\n",
    "        ln_artifact = ln.Artifact(file_path, key=key_path)\n",
    "        ln_artifact.save()\n",
    "\n",
    "        data_label = ln.ULabel(name=\"data\")\n",
    "        data_label.save()\n",
    "        ln_artifact.ulabels.add(data_label)"
   ]
  },
  {
   "cell_type": "code",
   "execution_count": null,
   "metadata": {},
   "outputs": [],
   "source": [
    "labels = ln.ULabel.lookup()"
   ]
  },
  {
   "cell_type": "code",
   "execution_count": null,
   "metadata": {},
   "outputs": [],
   "source": [
    "ln.Artifact.filter(ulabels__in=[labels.data]).df()"
   ]
  },
  {
   "cell_type": "markdown",
   "metadata": {},
   "source": [
    "However, `Ulabels` are too versatile for such an approach and clashes are also to be expected here."
   ]
  },
  {
   "cell_type": "markdown",
   "metadata": {},
   "source": [
    "### Metadata"
   ]
  },
  {
   "cell_type": "markdown",
   "metadata": {},
   "source": [
    "Due to the chance of clashes for the aforementioned approaches being rather high, we generally recommend not to store hierarchical data with solely semantic keys.\n",
    "Biological metadata makes `Files` and `Collections` unambiguous and easily queryable.\n"
   ]
  },
  {
   "cell_type": "markdown",
   "metadata": {},
   "source": [
    "## Legacy data and multiple storage roots"
   ]
  },
  {
   "cell_type": "markdown",
   "metadata": {},
   "source": [
    "### Distributed Collections"
   ]
  },
  {
   "cell_type": "markdown",
   "metadata": {},
   "source": [
    "LaminDB can ingest legacy data that already had a structure in their storage.\n",
    "In such cases, it disables `artifact_use_virtual_keys` and the artifacts are ingested with their actual storage location.\n",
    "It might be therefore be possible that `Files` stored in different storage roots may be associated with a single `Collection`.\n",
    "To simulate this, we are disabling `artifact_use_virtual_keys` and ingest artifacts stored in a different path (the \"legacy data\")."
   ]
  },
  {
   "cell_type": "code",
   "execution_count": null,
   "metadata": {},
   "outputs": [],
   "source": [
    "ln.settings.artifact_use_virtual_keys = False"
   ]
  },
  {
   "cell_type": "code",
   "execution_count": null,
   "metadata": {},
   "outputs": [],
   "source": [
    "for root, _, artifacts in os.walk(\"complex_biological_project/preprocessed\"):\n",
    "    for artifactname in artifacts:\n",
    "        file_path = os.path.join(root, artifactname)\n",
    "        key_path = file_path.removeprefix(\"complex_biological_project\")\n",
    "\n",
    "        print(file_path)\n",
    "        print()\n",
    "\n",
    "        ln_artifact = ln.Artifact(file_path, key=f\"./{key_path}\")\n",
    "        ln_artifact.save()"
   ]
  },
  {
   "cell_type": "code",
   "execution_count": null,
   "metadata": {},
   "outputs": [],
   "source": [
    "ln.Artifact.df()"
   ]
  },
  {
   "cell_type": "code",
   "execution_count": null,
   "metadata": {},
   "outputs": [],
   "source": [
    "artifact_from_raw = ln.Artifact.filter(key__icontains=\"Collection_2/raw_data_1\").first()\n",
    "artifact_from_preprocessed = ln.Artifact.filter(\n",
    "    key__icontains=\"preprocessed/result_1\"\n",
    ").first()\n",
    "\n",
    "print(artifact_from_raw.path)\n",
    "print(artifact_from_preprocessed.path)"
   ]
  },
  {
   "cell_type": "markdown",
   "metadata": {},
   "source": [
    "Let's create our `Collection`:"
   ]
  },
  {
   "cell_type": "code",
   "execution_count": null,
   "metadata": {},
   "outputs": [],
   "source": [
    "ds = ln.Collection(\n",
    "    [artifact_from_raw, artifact_from_preprocessed], name=\"raw_and_processed_collection_2\"\n",
    ")\n",
    "ds.save()"
   ]
  },
  {
   "cell_type": "code",
   "execution_count": null,
   "metadata": {},
   "outputs": [],
   "source": [
    "ds.artifacts.df()"
   ]
  },
  {
   "cell_type": "markdown",
   "metadata": {},
   "source": [
    "### Modeling directories"
   ]
  },
  {
   "cell_type": "code",
   "execution_count": null,
   "metadata": {},
   "outputs": [],
   "source": [
    "ln.settings.artifact_use_virtual_keys = True"
   ]
  },
  {
   "cell_type": "code",
   "execution_count": null,
   "metadata": {},
   "outputs": [],
   "source": [
    "dir_path = ln.core.datasets.dir_scrnaseq_cellranger(\"sample_001\")\n",
    "ln.UPath(dir_path).view_tree()"
   ]
  },
  {
   "cell_type": "markdown",
   "metadata": {},
   "source": [
    "There are two ways to create `Artifact` objects from directories: {func}`~lamindb.Artifact.from_dir` and {class}`~lamindb.Artifact`."
   ]
  },
  {
   "cell_type": "code",
   "execution_count": null,
   "metadata": {},
   "outputs": [],
   "source": [
    "cellranger_raw_artifact = ln.Artifact.from_dir(\"sample_001/raw_feature_bc_matrix/\")"
   ]
  },
  {
   "cell_type": "code",
   "execution_count": null,
   "metadata": {},
   "outputs": [],
   "source": [
    "for artifact in cellranger_raw_artifact:\n",
    "    artifact.save()"
   ]
  },
  {
   "cell_type": "code",
   "execution_count": null,
   "metadata": {},
   "outputs": [],
   "source": [
    "cellranger_raw_folder = ln.Artifact(\n",
    "    \"sample_001/raw_feature_bc_matrix/\", description=\"cellranger raw\"\n",
    ")\n",
    "cellranger_raw_folder.save()"
   ]
  },
  {
   "cell_type": "code",
   "execution_count": null,
   "metadata": {},
   "outputs": [],
   "source": [
    "ln.Artifact.filter(key__icontains=\"raw_feature_bc_matrix\").df()"
   ]
  },
  {
   "cell_type": "code",
   "execution_count": null,
   "metadata": {},
   "outputs": [],
   "source": [
    "ln.Artifact.filter(key__icontains=\"raw_feature_bc_matrix/matrix.mtx.gz\").one().path"
   ]
  },
  {
   "cell_type": "code",
   "execution_count": null,
   "metadata": {},
   "outputs": [],
   "source": [
    "artifact = ln.Artifact.filter(description=\"cellranger raw\").one()\n",
    "artifact.path.glob(\"*\")"
   ]
  }
 ],
 "metadata": {
  "kernelspec": {
   "display_name": "lamindb",
   "language": "python",
   "name": "python3"
  },
  "language_info": {
   "codemirror_mode": {
    "name": "ipython",
    "version": 3
   },
   "file_extension": ".py",
   "mimetype": "text/x-python",
   "name": "python",
   "nbconvert_exporter": "python",
   "pygments_lexer": "ipython3",
   "version": "3.10.13"
  }
 },
 "nbformat": 4,
 "nbformat_minor": 2
}
