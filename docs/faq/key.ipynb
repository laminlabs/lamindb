{
 "cells": [
  {
   "cell_type": "markdown",
   "metadata": {},
   "source": [
    "# What does the key parameter do under the hood?"
   ]
  },
  {
   "cell_type": "markdown",
   "metadata": {},
   "source": [
    "LaminDB is designed around associating biological metadata to files and datasets.\n",
    "This enables querying for them in storage by metadata and removes the requirement for semantic file and dataset names.\n",
    "\n",
    "Here, we will discuss trade-offs for using the `key` parameter, which allows for semantic keys, in various scenarios."
   ]
  },
  {
   "cell_type": "markdown",
   "metadata": {},
   "source": [
    "## Setup"
   ]
  },
  {
   "cell_type": "markdown",
   "metadata": {},
   "source": [
    "We're simulating a file system with several nested folders and files.\n",
    "Such structures are resembled in, for example, the {doc}`docs:rxrx` guide."
   ]
  },
  {
   "cell_type": "code",
   "execution_count": null,
   "metadata": {},
   "outputs": [],
   "source": [
    "# This code will eventually be moved to a small script function\n",
    "import os\n",
    "import random\n",
    "import string\n",
    "\n",
    "\n",
    "def create_complex_biological_hierarchy(root_folder):\n",
    "    if not os.path.exists(root_folder):\n",
    "        os.mkdir(root_folder)\n",
    "\n",
    "    data_folder = os.path.join(root_folder, \"data\")\n",
    "    analysis_folder = os.path.join(root_folder, \"analysis\")\n",
    "    os.mkdir(data_folder)\n",
    "    os.mkdir(analysis_folder)\n",
    "\n",
    "    for i in range(1, 5):\n",
    "        file_name = f\"sample_data_{i}.txt\"\n",
    "        with open(os.path.join(data_folder, file_name), \"w\") as f:\n",
    "            random_text = \"\".join(\n",
    "                random.choice(string.ascii_letters) for _ in range(10)\n",
    "            )\n",
    "            f.write(random_text)\n",
    "\n",
    "    for i in range(1, 3):\n",
    "        dataset_folder = os.path.join(data_folder, f\"Dataset_{i}\")\n",
    "        os.mkdir(dataset_folder)\n",
    "\n",
    "        for j in range(1, 5):\n",
    "            file_name = f\"sample_data_{j}.txt\"\n",
    "            with open(os.path.join(dataset_folder, file_name), \"w\") as f:\n",
    "                random_text = \"\".join(\n",
    "                    random.choice(string.ascii_letters) for _ in range(10)\n",
    "                )\n",
    "                f.write(random_text)\n",
    "\n",
    "    nested_analysis_folder = os.path.join(analysis_folder, \"nested_analysis\")\n",
    "    os.mkdir(nested_analysis_folder)\n",
    "\n",
    "    for i in range(1, 5):\n",
    "        file_name = f\"result_{i}.txt\"\n",
    "        with open(os.path.join(nested_analysis_folder, file_name), \"w\") as f:\n",
    "            random_text = \"\".join(\n",
    "                random.choice(string.ascii_letters) for _ in range(10)\n",
    "            )\n",
    "            f.write(random_text)\n",
    "\n",
    "\n",
    "root_folder = \"complex_biological_project\"\n",
    "create_complex_biological_hierarchy(root_folder)"
   ]
  },
  {
   "cell_type": "code",
   "execution_count": null,
   "metadata": {},
   "outputs": [],
   "source": [
    "!tree complex_biological_project"
   ]
  },
  {
   "cell_type": "code",
   "execution_count": null,
   "metadata": {},
   "outputs": [],
   "source": [
    "!lamin init --storage ./test-key"
   ]
  },
  {
   "cell_type": "code",
   "execution_count": null,
   "metadata": {},
   "outputs": [],
   "source": [
    "import lamindb as ln\n",
    "\n",
    "ln.settings.verbosity = \"hint\""
   ]
  },
  {
   "cell_type": "code",
   "execution_count": null,
   "metadata": {},
   "outputs": [],
   "source": [
    "ln.track()"
   ]
  },
  {
   "cell_type": "markdown",
   "metadata": {},
   "source": [
    "## Storing files using `Storage`, `File`, and `Dataset`"
   ]
  },
  {
   "cell_type": "markdown",
   "metadata": {},
   "source": [
    "Lamin has three storage classes that manage different types of in-memory and on-disk objects:\n",
    "\n",
    "1. {class}`~lamindb.Storage`: Manages the default storage root that can be either local or in the cloud. For more details we refer to {doc}`docs:faq/storage`\n",
    "2. {class}`~lamindb.File`: Manages data batches with an optional `key` that acts as a relative path within the current default storage root (see {class}`~lamindb.Storage`). An example is a single h5 file.\n",
    "3. {class}`~lamindb.Dataset`: Manages a collection of data batches with an optional `key` that acts as a relative path within the current default storage root (see {class}`~lamindb.Storage`). An example is a collection of h5 files.\n",
    "\n",
    "For more details we refer to {doc}`docs:tutorial`."
   ]
  },
  {
   "cell_type": "markdown",
   "metadata": {},
   "source": [
    "The current storage root is:"
   ]
  },
  {
   "cell_type": "code",
   "execution_count": null,
   "metadata": {},
   "outputs": [],
   "source": [
    "ln.settings.storage"
   ]
  },
  {
   "cell_type": "markdown",
   "metadata": {},
   "source": [
    "We will now create `File` objects with and without semantic keys using `key` and also save them as `Datasets`."
   ]
  },
  {
   "cell_type": "code",
   "execution_count": null,
   "metadata": {},
   "outputs": [],
   "source": [
    "file_no_key_1 = ln.File(\"complex_biological_project/data/sample_data_1.txt\")\n",
    "file_no_key_2 = ln.File(\"complex_biological_project/data/sample_data_2.txt\")"
   ]
  },
  {
   "cell_type": "markdown",
   "metadata": {},
   "source": [
    "The logging suggests that the files will be saved to our current default storage with auto generated storage keys."
   ]
  },
  {
   "cell_type": "code",
   "execution_count": null,
   "metadata": {},
   "outputs": [],
   "source": [
    "file_no_key_1.save()\n",
    "file_no_key_2.save()"
   ]
  },
  {
   "cell_type": "code",
   "execution_count": null,
   "metadata": {},
   "outputs": [],
   "source": [
    "file_key_3 = ln.File(\n",
    "    \"complex_biological_project/data/sample_data_3.txt\", key=\"samples/sample_data_3.txt\"\n",
    ")\n",
    "file_key_4 = ln.File(\n",
    "    \"complex_biological_project/data/sample_data_4.txt\", key=\"samples/sample_data_4.txt\"\n",
    ")\n",
    "file_key_3.save()\n",
    "file_key_4.save()"
   ]
  },
  {
   "cell_type": "markdown",
   "metadata": {},
   "source": [
    "As can be seen, the file `Files` with keys are stored in different locations (as specified by `key`) than their keyless counter parts.\n",
    "However, this also enables semantically filtering for those files:"
   ]
  },
  {
   "cell_type": "code",
   "execution_count": null,
   "metadata": {},
   "outputs": [],
   "source": [
    "ln.File.filter(key__contains=\"samples\").df().head()"
   ]
  },
  {
   "cell_type": "markdown",
   "metadata": {},
   "source": [
    "`Dataset` does not have a `key` parameter because it does not store any additional data in `Storage`.\n",
    "In contrast, it has a `name` parameter that serves as a semantic identifier of the dataset."
   ]
  },
  {
   "cell_type": "code",
   "execution_count": null,
   "metadata": {},
   "outputs": [],
   "source": [
    "ds_1 = ln.Dataset(data=[file_no_key_1, file_no_key_2], name=\"no key collection\")\n",
    "ds_2 = ln.Dataset(data=[file_key_3, file_key_4], name=\"sample collection\")\n",
    "ds_1"
   ]
  },
  {
   "cell_type": "markdown",
   "metadata": {},
   "source": [
    "## Advantages and disadvantages of semantic keys"
   ]
  },
  {
   "cell_type": "markdown",
   "metadata": {},
   "source": [
    "Semantic keys have several advantages and disadvantages that we will discuss and demonstrate in the remaining notebook:\n",
    "\n",
    "### Advantages:\n",
    "\n",
    "- Simple: It can be easier to refer to specific datasets in conversations\n",
    "- Familiarity: Most people are familiar with the concept of semantic names\n",
    "\n",
    "### Disadvantages\n",
    "\n",
    "- Length: Semantic names can be long with limited aesthetic appeal\n",
    "- Inconsistency: Lack of naming conventions can lead to confusion\n",
    "- Limited metadata: Semantic keys can contain some, but usually not all metadata\n",
    "- Inefficiency: Writing lengthy semantic names is a repetitive process and can be time-consuming\n",
    "- Ambiguity: Overly descriptive file names may introduce ambiguity and redundancy\n",
    "- Clashes: Several people may attempt to use the same semantic key. They are not unique"
   ]
  },
  {
   "cell_type": "markdown",
   "metadata": {},
   "source": [
    "## Semantic key ambiguity"
   ]
  },
  {
   "cell_type": "markdown",
   "metadata": {},
   "source": [
    "The current implementation of search and filter are based on fuzzy matching.\n",
    "Fuzzy matching with semantic keys can fail if semantic keys are long which can lead to less matched characters and therefore ratios."
   ]
  },
  {
   "cell_type": "markdown",
   "metadata": {},
   "source": [
    "![title](fuzzy_matching_fail.png)"
   ]
  },
  {
   "cell_type": "markdown",
   "metadata": {},
   "source": [
    "The files that we were actually looking for are not the top, but the bottom hits."
   ]
  },
  {
   "cell_type": "markdown",
   "metadata": {},
   "source": [
    "## Renaming files"
   ]
  },
  {
   "cell_type": "markdown",
   "metadata": {},
   "source": [
    "Renaming `Files` that have associated keys can be done on several levels."
   ]
  },
  {
   "cell_type": "markdown",
   "metadata": {},
   "source": [
    "### In storage"
   ]
  },
  {
   "cell_type": "markdown",
   "metadata": {},
   "source": [
    "A file can be locally moved or renamed:"
   ]
  },
  {
   "cell_type": "code",
   "execution_count": null,
   "metadata": {},
   "outputs": [],
   "source": [
    "file_key_3.path"
   ]
  },
  {
   "cell_type": "code",
   "execution_count": null,
   "metadata": {},
   "outputs": [],
   "source": [
    "!mkdir complex_biological_project/moved_files\n",
    "!mv complex_biological_project/data/sample_data_3.txt complex_biological_project/moved_files"
   ]
  },
  {
   "cell_type": "code",
   "execution_count": null,
   "metadata": {},
   "outputs": [],
   "source": [
    "file_key_3.path"
   ]
  },
  {
   "cell_type": "markdown",
   "metadata": {},
   "source": [
    "After moving the file locally, the storage location (the path) has not updated in the database."
   ]
  },
  {
   "cell_type": "code",
   "execution_count": null,
   "metadata": {},
   "outputs": [],
   "source": [
    "file_key_3.key"
   ]
  },
  {
   "cell_type": "markdown",
   "metadata": {},
   "source": [
    "The same applies to the `key` which has not been updated.\n",
    "If initially the storage locations were supposed to be kept in sync with any semantic `key`, moving files in storage can violate this assumption.\n",
    "This also applies to changing the default storage location."
   ]
  },
  {
   "cell_type": "markdown",
   "metadata": {},
   "source": [
    "### By key"
   ]
  },
  {
   "cell_type": "markdown",
   "metadata": {},
   "source": [
    "Besides moving the file in storage, the `key` can also be renamed."
   ]
  },
  {
   "cell_type": "code",
   "execution_count": null,
   "metadata": {},
   "outputs": [],
   "source": [
    "file_key_4.key"
   ]
  },
  {
   "cell_type": "code",
   "execution_count": null,
   "metadata": {},
   "outputs": [],
   "source": [
    "file_key_4.key = \"bad_samples/sample_data_4.txt\"\n",
    "file_key_4.key"
   ]
  },
  {
   "cell_type": "markdown",
   "metadata": {},
   "source": [
    "This does however have an effect on the storage path of the `File`:"
   ]
  },
  {
   "cell_type": "code",
   "execution_count": null,
   "metadata": {},
   "outputs": [],
   "source": [
    "file_key_4.path"
   ]
  },
  {
   "cell_type": "markdown",
   "metadata": {},
   "source": [
    "### Modifying the `path` attribute"
   ]
  },
  {
   "cell_type": "markdown",
   "metadata": {},
   "source": [
    "However, modifying the `path` directly is not allowed:"
   ]
  },
  {
   "cell_type": "code",
   "execution_count": null,
   "metadata": {},
   "outputs": [],
   "source": [
    "try:\n",
    "    file_key_4.path = f\"{ln.settings.storage}/here_now/sample_data_4.txt\"\n",
    "except AttributeError as e:\n",
    "    print(e)"
   ]
  },
  {
   "cell_type": "markdown",
   "metadata": {},
   "source": [
    "## Clashing semantic keys"
   ]
  },
  {
   "cell_type": "markdown",
   "metadata": {},
   "source": [
    "Semantic keys should not clash. Let's attempt to use the same semantic key twice"
   ]
  },
  {
   "cell_type": "code",
   "execution_count": null,
   "metadata": {},
   "outputs": [],
   "source": [
    "print(file_key_3.key)\n",
    "print(file_key_4.key)"
   ]
  },
  {
   "cell_type": "code",
   "execution_count": null,
   "metadata": {},
   "outputs": [],
   "source": [
    "file_key_4.key = \"samples/sample_data_3.txt\""
   ]
  },
  {
   "cell_type": "code",
   "execution_count": null,
   "metadata": {},
   "outputs": [],
   "source": [
    "print(file_key_3.key)\n",
    "print(file_key_4.key)"
   ]
  },
  {
   "cell_type": "markdown",
   "metadata": {},
   "source": [
    "When filtering for this semantic key it is now unclear to which file we were referring to:"
   ]
  },
  {
   "cell_type": "code",
   "execution_count": null,
   "metadata": {},
   "outputs": [],
   "source": [
    "ln.File.filter(key__icontains=\"sample_data_3\").df()"
   ]
  },
  {
   "cell_type": "markdown",
   "metadata": {},
   "source": [
    "When querying by `key` LaminDB cannot resolve which file we actually wanted.\n",
    "In fact, we only get a single hit which does not paint a complete picture."
   ]
  },
  {
   "cell_type": "code",
   "execution_count": null,
   "metadata": {},
   "outputs": [],
   "source": [
    "print(file_key_3.uid)\n",
    "print(file_key_4.uid)"
   ]
  },
  {
   "cell_type": "markdown",
   "metadata": {},
   "source": [
    "Both files still exist though with unique `uids` that can be used to get access to them."
   ]
  },
  {
   "cell_type": "markdown",
   "metadata": {},
   "source": [
    "We refer to {doc}`docs:faq/idempotency` for more detailed explanations of behavior when attempting to save files multiple times."
   ]
  },
  {
   "cell_type": "markdown",
   "metadata": {},
   "source": [
    "## Hierarchies "
   ]
  },
  {
   "cell_type": "markdown",
   "metadata": {},
   "source": [
    "Another common use-case of `keys` are file hierarchies.\n",
    "It can be useful to resemble the file structure in \"complex_biological_project\" from above also in LaminDB to allow for queries for specific subsets.\n",
    "Note that this use-case may also be overlapping with `Dataset` which also allows for grouping `Files` (but is usually used in a different context)."
   ]
  },
  {
   "cell_type": "markdown",
   "metadata": {},
   "source": [
    "### Key"
   ]
  },
  {
   "cell_type": "code",
   "execution_count": null,
   "metadata": {},
   "outputs": [],
   "source": [
    "for root, _, files in os.walk(\"complex_biological_project/data\"):\n",
    "    for filename in files:\n",
    "        file_path = os.path.join(root, filename)\n",
    "        key_path = file_path.removeprefix(\"complex_biological_project\")\n",
    "        ln_file = ln.File(file_path, key=key_path)\n",
    "        ln_file.save()"
   ]
  },
  {
   "cell_type": "code",
   "execution_count": null,
   "metadata": {},
   "outputs": [],
   "source": [
    "ln.File.filter(key__startswith=\"data\").df()"
   ]
  },
  {
   "cell_type": "markdown",
   "metadata": {},
   "source": [
    "### Dataset"
   ]
  },
  {
   "cell_type": "markdown",
   "metadata": {},
   "source": [
    "Alternatively, it would have been possible to create a `Dataset` with a corresponding name:"
   ]
  },
  {
   "cell_type": "code",
   "execution_count": null,
   "metadata": {},
   "outputs": [],
   "source": [
    "all_data_paths = []\n",
    "for root, _, files in os.walk(\"complex_biological_project/data\"):\n",
    "    for filename in files:\n",
    "        file_path = os.path.join(root, filename)\n",
    "        all_data_paths.append(file_path)\n",
    "\n",
    "all_data_files = []\n",
    "for path in all_data_paths:\n",
    "    all_data_files.append(ln.File(path))\n",
    "\n",
    "data_ds = ln.Dataset(all_data_files, name=\"data\")\n",
    "data_ds.save()"
   ]
  },
  {
   "cell_type": "code",
   "execution_count": null,
   "metadata": {},
   "outputs": [],
   "source": [
    "ln.Dataset.filter(name__icontains=\"data\").df()"
   ]
  },
  {
   "cell_type": "markdown",
   "metadata": {},
   "source": [
    "This approach will likely lead to clashes. Alternatively, `Ulabels` can be added to `Files` to resemble hierarchies."
   ]
  },
  {
   "cell_type": "markdown",
   "metadata": {},
   "source": [
    "### Ulabels"
   ]
  },
  {
   "cell_type": "code",
   "execution_count": null,
   "metadata": {},
   "outputs": [],
   "source": [
    "for root, _, files in os.walk(\"complex_biological_project/data\"):\n",
    "    for filename in files:\n",
    "        file_path = os.path.join(root, filename)\n",
    "        key_path = file_path.removeprefix(\"complex_biological_project\")\n",
    "        ln_file = ln.File(file_path, key=key_path)\n",
    "        ln_file.save()\n",
    "\n",
    "        data_label = ln.ULabel(name=\"data\")\n",
    "        data_label.save()\n",
    "        ln_file.ulabels.add(data_label)"
   ]
  },
  {
   "cell_type": "code",
   "execution_count": null,
   "metadata": {},
   "outputs": [],
   "source": [
    "labels = ln.ULabel.lookup()"
   ]
  },
  {
   "cell_type": "code",
   "execution_count": null,
   "metadata": {},
   "outputs": [],
   "source": [
    "ln.File.filter(ulabels__in=[labels.data]).df()"
   ]
  },
  {
   "cell_type": "markdown",
   "metadata": {},
   "source": [
    "However, `Ulabels` are too versatile for such an approach and clashes are also to be expected here."
   ]
  },
  {
   "cell_type": "markdown",
   "metadata": {},
   "source": [
    "### Metadata"
   ]
  },
  {
   "cell_type": "markdown",
   "metadata": {},
   "source": [
    "Due to the chance of clashes for the aforementioned approaches being rather high, we generally recommend not to store hierarchical data with solely semantic keys.\n",
    "Biological metadata makes `Files` and `Datasets` unambiguous and easily queryable.\n"
   ]
  }
 ],
 "metadata": {
  "kernelspec": {
   "display_name": "lamindb",
   "language": "python",
   "name": "python3"
  },
  "language_info": {
   "codemirror_mode": {
    "name": "ipython",
    "version": 3
   },
   "file_extension": ".py",
   "mimetype": "text/x-python",
   "name": "python",
   "nbconvert_exporter": "python",
   "pygments_lexer": "ipython3",
   "version": "3.10.12"
  },
  "nbproject": {
   "id": "WIwaNDvlEkwS",
   "parent": null,
   "pypackage": null,
   "time_init": "2023-10-30T14:51:12.021579+00:00",
   "user_handle": null,
   "user_id": null,
   "user_name": null,
   "version": "0"
  }
 },
 "nbformat": 4,
 "nbformat_minor": 2
}
