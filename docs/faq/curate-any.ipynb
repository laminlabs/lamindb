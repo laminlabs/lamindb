{
 "cells": [
  {
   "cell_type": "markdown",
   "metadata": {},
   "source": [
    "# How do I validate & annotate arbitrary data structures?"
   ]
  },
  {
   "cell_type": "markdown",
   "metadata": {},
   "source": [
    "This guide walks through the low-level API that lets you validate iterables.\n",
    "\n",
    "You can then use the records create inferred during validation to annotate a dataset."
   ]
  },
  {
   "cell_type": "markdown",
   "metadata": {},
   "source": [
    ":::{dropdown} How do I validate based on a public ontology?\n",
    "\n",
    "LaminDB makes it easy to validate categorical variables based on registries that inherit from {class}`~lamindb.models.CanCurate`.\n",
    "\n",
    "{class}`~lamindb.models.CanCurate` methods validate against the registries in your LaminDB instance.\n",
    "In {doc}`/bio-registries`, you'll see how to extend standard validation to validation against _public references_ using a `ReferenceTable` ontology object: `public = Record.public()`.\n",
    "By default, {meth}`~lamindb.models.CanCurate.from_values` considers a match in a public reference a validated value for any {mod}`bionty` entity.\n",
    "\n",
    ":::"
   ]
  },
  {
   "cell_type": "code",
   "execution_count": null,
   "metadata": {
    "tags": [
     "hide-output"
    ]
   },
   "outputs": [],
   "source": [
    "# pip install 'lamindb[bionty,zarr]'\n",
    "!lamin init --storage ./test-curate-any --modules bionty"
   ]
  },
  {
   "cell_type": "markdown",
   "metadata": {},
   "source": [
    "Define a test dataset."
   ]
  },
  {
   "cell_type": "code",
   "execution_count": null,
   "metadata": {},
   "outputs": [],
   "source": [
    "import lamindb as ln\n",
    "import bionty as bt\n",
    "import zarr\n",
    "import numpy as np\n",
    "\n",
    "data = zarr.create(\n",
    "    (3,),\n",
    "    dtype=[(\"temperature\", \"f8\"), (\"knockout_gene\", \"U15\"), (\"disease\", \"U16\")],\n",
    "    store=\"data.zarr\",\n",
    ")\n",
    "data[\"knockout_gene\"] = [\"ENSG00000139618\", \"ENSG00000141510\", \"ENSG00000133703\"]\n",
    "data[\"disease\"] = np.random.default_rng().choice([\"MONDO:0004975\", \"MONDO:0004980\"], 3)"
   ]
  },
  {
   "cell_type": "markdown",
   "metadata": {},
   "source": [
    "## Validate and standardize vectors"
   ]
  },
  {
   "cell_type": "markdown",
   "metadata": {},
   "source": [
    "{meth}`~lamindb.models.CanCurate.validate` validates vectore-like values against reference values in a registry.\n",
    "It returns a boolean vector indicating where a value has an exact match in the reference values."
   ]
  },
  {
   "cell_type": "code",
   "execution_count": null,
   "metadata": {
    "tags": [
     "hide-output"
    ]
   },
   "outputs": [],
   "source": [
    "bt.Disease.validate(data[\"disease\"], field=bt.Disease.ontology_id)"
   ]
  },
  {
   "cell_type": "markdown",
   "metadata": {},
   "source": [
    "When validation fails, you can call {meth}`~lamindb.models.CanCurate.inspect` to figure out what to do.\n",
    "\n",
    "{meth}`~lamindb.models.CanCurate.inspect` applies the same definition of validation as {meth}`~lamindb.models.CanCurate.validate`, but returns a rich return value {class}`~lamindb.models.InspectResult`. Most importantly, it logs recommended curation steps that would render the data validated.\n",
    "\n",
    "Note: you can use {meth}`~lamindb.models.CanCurate.standardize` to standardize synonyms."
   ]
  },
  {
   "cell_type": "code",
   "execution_count": null,
   "metadata": {
    "tags": [
     "hide-output"
    ]
   },
   "outputs": [],
   "source": [
    "bt.Disease.inspect(data[\"disease\"], field=bt.Disease.ontology_id)"
   ]
  },
  {
   "cell_type": "markdown",
   "metadata": {},
   "source": [
    "Bulk creating records using {meth}`~lamindb.models.CanCurate.from_values` only returns validated records."
   ]
  },
  {
   "cell_type": "code",
   "execution_count": null,
   "metadata": {
    "tags": [
     "hide-output"
    ]
   },
   "outputs": [],
   "source": [
    "diseases = bt.Disease.from_values(data[\"disease\"], field=bt.Disease.ontology_id).save()"
   ]
  },
  {
   "cell_type": "markdown",
   "metadata": {},
   "source": [
    "Repeat the process for more labels:"
   ]
  },
  {
   "cell_type": "code",
   "execution_count": null,
   "metadata": {
    "tags": [
     "hide-output"
    ]
   },
   "outputs": [],
   "source": [
    "projects = ln.ULabel.from_values(\n",
    "    [\"Project A\", \"Project B\"],\n",
    "    field=ln.ULabel.name,\n",
    "    create=True,  # create non-validated labels\n",
    ").save()\n",
    "genes = bt.Gene.from_values(data[\"knockout_gene\"], field=bt.Gene.ensembl_gene_id).save()"
   ]
  },
  {
   "cell_type": "markdown",
   "metadata": {},
   "source": [
    "## Annotate the dataset"
   ]
  },
  {
   "cell_type": "markdown",
   "metadata": {},
   "source": [
    "Register the dataset as an artifact:"
   ]
  },
  {
   "cell_type": "code",
   "execution_count": null,
   "metadata": {
    "tags": [
     "hide-output"
    ]
   },
   "outputs": [],
   "source": [
    "artifact = ln.Artifact(\"data.zarr\", key=\"my_dataset.zarr\").save()"
   ]
  },
  {
   "cell_type": "markdown",
   "metadata": {},
   "source": [
    "Annotate with features:"
   ]
  },
  {
   "cell_type": "code",
   "execution_count": null,
   "metadata": {
    "tags": [
     "hide-output"
    ]
   },
   "outputs": [],
   "source": [
    "ln.Feature(name=\"project\", dtype=ln.ULabel).save()\n",
    "ln.Feature(name=\"disease\", dtype=bt.Disease.ontology_id).save()\n",
    "ln.Feature(name=\"knockout_gene\", dtype=bt.Gene.ensembl_gene_id).save()\n",
    "artifact.features.add_values(\n",
    "    {\"project\": projects, \"knockout_gene\": genes, \"disease\": diseases}\n",
    ")\n",
    "artifact.describe()"
   ]
  },
  {
   "cell_type": "code",
   "execution_count": null,
   "metadata": {
    "tags": [
     "hide-cell"
    ]
   },
   "outputs": [],
   "source": [
    "# clean up test instance\n",
    "!rm -r data.zarr\n",
    "!rm -r ./test-curate-any\n",
    "!lamin delete --force test-curate-any"
   ]
  }
 ],
 "metadata": {
  "kernelspec": {
   "display_name": "py312",
   "language": "python",
   "name": "python3"
  },
  "language_info": {
   "codemirror_mode": {
    "name": "ipython",
    "version": 3
   },
   "file_extension": ".py",
   "mimetype": "text/x-python",
   "name": "python",
   "nbconvert_exporter": "python",
   "pygments_lexer": "ipython3",
   "version": "3.12.8"
  }
 },
 "nbformat": 4,
 "nbformat_minor": 2
}
