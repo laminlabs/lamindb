{
 "cells": [
  {
   "cell_type": "markdown",
   "metadata": {},
   "source": [
    "# Linked select"
   ]
  },
  {
   "cell_type": "code",
   "execution_count": null,
   "metadata": {},
   "outputs": [],
   "source": [
    "import lamindb as ln\n",
    "import lamindb.schema as lns\n",
    "\n",
    "ln.nb.header()"
   ]
  },
  {
   "cell_type": "markdown",
   "metadata": {},
   "source": [
    "Querying a complex schema like LaminDB's default bio schema can be hard.\n",
    "\n",
    "For conceptually simple queries (\"Give me all dobjects ingested by user X.\", \"Give me all dobjects characterizing cell type Y.\", etc.), in SQL, queries involving many mediating tables need to be written.\n",
    "\n",
    "Scenarios as follows will predictably happen (from a [short story](https://erikbern.com/2021/07/07/the-data-team-a-short-story.html) unrelated to biology or R&D):\n",
    "\n",
    "> It's super stressed. “The table in the database changed, and suddenly our SQL query we use to populate the spreadsheet generates nonsense output”.\n",
    "\n",
    "> When you look at the SQL query, you almost spit out your coffee. It's a 500 lines long query. The author of the query seems apologetic but at the same time a bit annoyed. “We kept coming to you several times asking for help with these questions”, he says, “and you told us you didn't have resources, so we built it ourselves”.\n",
    "\n",
    "> The data scientist in your team who gets assigned the monster SQL query isn't happy.\n",
    "\n",
    "At the same time, we don't want to come up with another [\"garbage query language\"](https://erikbern.com/2018/08/30/i-dont-want-to-learn-your-garbage-query-language.html), but merely exploit the - what we think of as canonical - R&D schema constraints to come up with declarative queries that are essentially SQL that allow to skip all the immediate steps.\n",
    "\n",
    "So that you can do\n",
    "\n",
    "```\n",
    "ln.select(lns.DObject).where(lns.User.handle == \"testuser1\")\n",
    "```\n",
    "\n",
    "Instead of writing\n",
    "\n",
    "```\n",
    "stmt = ln.select(lns.DObject).join(lns.Run).join(lns.Notebook).join(lns.User).where(lns.User.handle == \"testuser1\")\n",
    "```"
   ]
  },
  {
   "cell_type": "code",
   "execution_count": null,
   "metadata": {},
   "outputs": [],
   "source": [
    "stmt = (\n",
    "    ln.select(lns.DObject)\n",
    "    .join(lns.Run)\n",
    "    .join(lns.Notebook)\n",
    "    .join(lns.User)\n",
    "    .where(lns.User.handle == \"testuser1\")\n",
    ")"
   ]
  },
  {
   "cell_type": "code",
   "execution_count": null,
   "metadata": {},
   "outputs": [],
   "source": [
    "stmt.df()"
   ]
  },
  {
   "cell_type": "code",
   "execution_count": null,
   "metadata": {},
   "outputs": [],
   "source": [
    "stmt = (\n",
    "    ln.select(lns.DObject)\n",
    "    .where(lns.DObject.suffix == \".parquet\")\n",
    "    .join(lns.Run)\n",
    "    .join(lns.Notebook)\n",
    "    .join(lns.User)\n",
    "    .where(lns.User.handle == \"testuser1\")\n",
    ")"
   ]
  },
  {
   "cell_type": "code",
   "execution_count": null,
   "metadata": {},
   "outputs": [],
   "source": [
    "stmt.df()"
   ]
  },
  {
   "cell_type": "code",
   "execution_count": null,
   "metadata": {},
   "outputs": [],
   "source": [
    "stmt = (\n",
    "    ln.select(lns.DObject)\n",
    "    .where(lns.DObject.size > 1e4)\n",
    "    .join(lns.Run)\n",
    "    .join(lns.Notebook)\n",
    "    .join(lns.User)\n",
    "    .where(lns.User.handle == \"testuser1\")\n",
    ")"
   ]
  },
  {
   "cell_type": "code",
   "execution_count": null,
   "metadata": {},
   "outputs": [],
   "source": [
    "stmt.df()"
   ]
  }
 ],
 "metadata": {
  "kernelspec": {
   "display_name": "Python 3 (ipykernel)",
   "language": "python",
   "name": "python3"
  },
  "language_info": {
   "codemirror_mode": {
    "name": "ipython",
    "version": 3
   },
   "file_extension": ".py",
   "mimetype": "text/x-python",
   "name": "python",
   "nbconvert_exporter": "python",
   "pygments_lexer": "ipython3",
   "version": "3.9.12"
  },
  "nbproject": {
   "id": "WMPJXUpxzAYq",
   "parent": null,
   "pypackage": null,
   "time_init": "2022-11-08T20:13:18.452056+00:00",
   "user_handle": "testuser1",
   "user_id": "DzTjkKse",
   "user_name": "Test User1",
   "version": "0"
  }
 },
 "nbformat": 4,
 "nbformat_minor": 4
}
