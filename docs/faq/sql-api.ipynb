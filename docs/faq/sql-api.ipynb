{
 "cells": [
  {
   "cell_type": "markdown",
   "id": "4b19ebed-9964-4e20-90c5-b06c95bc7902",
   "metadata": {},
   "source": [
    "# High-level SQL API"
   ]
  },
  {
   "cell_type": "code",
   "execution_count": null,
   "id": "48f9e4cd-ab1c-49ae-8614-dac14e469566",
   "metadata": {},
   "outputs": [],
   "source": [
    "!lndb init --storage sqlapi"
   ]
  },
  {
   "cell_type": "code",
   "execution_count": null,
   "id": "6223e3e6-1538-4bd9-9229-5f2069143589",
   "metadata": {},
   "outputs": [],
   "source": [
    "import sqlmodel as sqm\n",
    "import pandas as pd\n",
    "from datetime import datetime\n",
    "from typing import Union, Tuple, Optional"
   ]
  },
  {
   "cell_type": "code",
   "execution_count": null,
   "id": "c5f4d4fb-8d4a-4395-a5ed-bd62ae66699a",
   "metadata": {},
   "outputs": [],
   "source": [
    "import lamindb as ln\n",
    "from lamindb.dev.db._select import select"
   ]
  },
  {
   "cell_type": "code",
   "execution_count": null,
   "id": "90c74d78-2350-4550-8e70-2b2616fbaea8",
   "metadata": {},
   "outputs": [],
   "source": [
    "class tester(sqm.SQLModel, table=True):\n",
    "    id: int = sqm.Field(primary_key=True)\n",
    "    name: str\n",
    "    team_id: Optional[int] = sqm.Field(foreign_key=\"team.id\")\n",
    "    created_at: datetime = sqm.Field(default_factory=datetime.utcnow)"
   ]
  },
  {
   "cell_type": "code",
   "execution_count": null,
   "id": "b4c59bd2-523a-40ff-a56f-83e89d1125d5",
   "metadata": {},
   "outputs": [],
   "source": [
    "class team(sqm.SQLModel, table=True):\n",
    "    id: int = sqm.Field(primary_key=True)\n",
    "    name: str"
   ]
  },
  {
   "cell_type": "markdown",
   "id": "68f972c1-6775-405f-b204-f5fcdf9070e7",
   "metadata": {},
   "source": [
    "Trick lamindb setup."
   ]
  },
  {
   "cell_type": "code",
   "execution_count": null,
   "id": "b7e94aa1-955e-4079-a7c6-e59c344a8712",
   "metadata": {},
   "outputs": [],
   "source": [
    "!rm sqlapi/sqlapi.lndb"
   ]
  },
  {
   "cell_type": "code",
   "execution_count": null,
   "id": "6c70e7c3-c0a7-49dd-b462-98458cccf100",
   "metadata": {},
   "outputs": [],
   "source": [
    "engine = sqm.create_engine(\"sqlite:///sqlapi/sqlapi.lndb\")"
   ]
  },
  {
   "cell_type": "code",
   "execution_count": null,
   "id": "11103d99-dde8-40c1-9bda-ab812b1d1649",
   "metadata": {},
   "outputs": [],
   "source": [
    "sqm.SQLModel.metadata.create_all(engine)"
   ]
  },
  {
   "cell_type": "code",
   "execution_count": null,
   "id": "91c3654d-679c-4956-a4e5-44e2d08d8c4a",
   "metadata": {},
   "outputs": [],
   "source": [
    "with sqm.Session(engine) as session:\n",
    "    team_1 = team(id=0, name=\"stars\")\n",
    "    session.add(team_1)\n",
    "    team_2 = team(id=1, name=\"moons\")\n",
    "    session.add(team_2)\n",
    "    session.add(tester(id=0, name=\"test1\", team_id=team_1.id))\n",
    "    session.add(tester(id=1, name=\"test2\", team_id=team_1.id))\n",
    "    session.add(tester(id=2, name=\"test3\"))\n",
    "    session.commit()"
   ]
  },
  {
   "cell_type": "code",
   "execution_count": null,
   "id": "f89994c1-4b1f-40c6-a752-670f5b4cea90",
   "metadata": {},
   "outputs": [],
   "source": [
    "select(tester, id=0).one()"
   ]
  },
  {
   "cell_type": "code",
   "execution_count": null,
   "id": "c097b671-1397-40ed-be31-4c9165bfc286",
   "metadata": {},
   "outputs": [],
   "source": [
    "select(tester).df()"
   ]
  },
  {
   "cell_type": "code",
   "execution_count": null,
   "id": "2839f080-11b8-491e-b9f5-1d9b3872b6c6",
   "metadata": {},
   "outputs": [],
   "source": [
    "select(tester, team_id=0).all()"
   ]
  },
  {
   "cell_type": "code",
   "execution_count": null,
   "id": "9619d7ee-6db3-4682-a701-a8ddd60f1c9f",
   "metadata": {},
   "outputs": [],
   "source": [
    "select(tester).where(tester.name == \"test1\").df()"
   ]
  },
  {
   "cell_type": "code",
   "execution_count": null,
   "id": "01a5e957-e2ef-4294-8f38-16d357ce2e0d",
   "metadata": {},
   "outputs": [],
   "source": [
    "select(tester).where(tester.name == \"test1\").df()"
   ]
  },
  {
   "cell_type": "code",
   "execution_count": null,
   "id": "f07996e3-a6dd-45c3-a372-e4faa1deee31",
   "metadata": {},
   "outputs": [],
   "source": [
    "select(tester).where(tester.id == 0, tester.name == \"test1\").df()"
   ]
  },
  {
   "cell_type": "code",
   "execution_count": null,
   "id": "3ea9582b-de65-403c-8df0-d7b833635fe5",
   "metadata": {},
   "outputs": [],
   "source": [
    "select(tester).where(tester.id == 0, tester.created_at <= datetime.utcnow()).df()"
   ]
  },
  {
   "cell_type": "code",
   "execution_count": null,
   "id": "1ce0d499-32fd-495a-a82f-03c5a503f60e",
   "metadata": {},
   "outputs": [],
   "source": [
    "select(tester).where(sqm.or_(tester.name == \"test1\", tester.name == \"test2\")).df()"
   ]
  },
  {
   "cell_type": "code",
   "execution_count": null,
   "id": "4368c5e4-de5f-480a-b2f0-e4f0114a56d3",
   "metadata": {},
   "outputs": [],
   "source": [
    "select(tester).where(sqm.or_(tester.name == \"test1\", tester.name == \"test2\")).offset(\n",
    "    1\n",
    ").df()"
   ]
  },
  {
   "cell_type": "code",
   "execution_count": null,
   "id": "74ed294a-7d86-43af-a3cc-0e95077f2849",
   "metadata": {},
   "outputs": [],
   "source": [
    "select(tester).where(sqm.or_(tester.name == \"test1\", tester.name == \"test2\")).offset(\n",
    "    0\n",
    ").limit(1).df()"
   ]
  },
  {
   "cell_type": "code",
   "execution_count": null,
   "id": "10c0ac39-dedc-46e3-b3ce-6ffdb9d71581",
   "metadata": {},
   "outputs": [],
   "source": [
    "select(tester).where(sqm.or_(tester.name == \"test1\", tester.name == \"test2\")).order_by(\n",
    "    sqm.desc(tester.created_at)\n",
    ").df()"
   ]
  },
  {
   "cell_type": "code",
   "execution_count": null,
   "id": "341f9fea-4d92-4440-b8cd-b5c1d1f6c1bb",
   "metadata": {},
   "outputs": [],
   "source": [
    "select(tester).join(team).df()"
   ]
  },
  {
   "cell_type": "code",
   "execution_count": null,
   "id": "d75a2c13-cd97-44b6-8f84-a2f47cc68623",
   "metadata": {},
   "outputs": [],
   "source": [
    "select(tester, team).join(team).all()"
   ]
  },
  {
   "cell_type": "code",
   "execution_count": null,
   "id": "7ed17f38-1439-4daa-8f2b-1cf336aefc0c",
   "metadata": {},
   "outputs": [],
   "source": [
    "dfs = select(tester, team).join(team).df()"
   ]
  },
  {
   "cell_type": "code",
   "execution_count": null,
   "id": "5ba4a3f2-6817-4f85-b5eb-702b7ed9e6e4",
   "metadata": {},
   "outputs": [],
   "source": [
    "for df in dfs:\n",
    "    display(df)"
   ]
  },
  {
   "cell_type": "code",
   "execution_count": null,
   "id": "4688b316-cec3-4f9c-aa2e-ada628fa2bb6",
   "metadata": {},
   "outputs": [],
   "source": [
    "select(tester, team).where(tester.team_id == team.id).all()"
   ]
  },
  {
   "cell_type": "markdown",
   "id": "3893ffd2-a3b8-45e3-aa5f-c0b3a4990466",
   "metadata": {},
   "source": [
    "Clean up."
   ]
  },
  {
   "cell_type": "code",
   "execution_count": null,
   "id": "d6a309c7-6852-435f-8c4a-e97cd4c01ac5",
   "metadata": {},
   "outputs": [],
   "source": [
    "ln.settings.instance._sqlite_file.unlink()"
   ]
  }
 ],
 "metadata": {
  "kernelspec": {
   "display_name": "Python 3.9.13 ('py39')",
   "language": "python",
   "name": "python3"
  },
  "language_info": {
   "codemirror_mode": {
    "name": "ipython",
    "version": 3
   },
   "file_extension": ".py",
   "mimetype": "text/x-python",
   "name": "python",
   "nbconvert_exporter": "python",
   "pygments_lexer": "ipython3",
   "version": "3.9.13"
  },
  "vscode": {
   "interpreter": {
    "hash": "ae1fefc8646a06dd2e75004cd934adda7c5727b046986a772e3b44b0ffba9754"
   }
  }
 },
 "nbformat": 4,
 "nbformat_minor": 5
}
