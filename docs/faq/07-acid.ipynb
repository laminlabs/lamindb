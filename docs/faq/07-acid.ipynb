{
 "cells": [
  {
   "attachments": {},
   "cell_type": "markdown",
   "id": "41b33aca-1a7d-42b4-afa6-c9a5bccc060c",
   "metadata": {},
   "source": [
    "# Is saving files ACID?"
   ]
  },
  {
   "cell_type": "code",
   "execution_count": null,
   "id": "34d3b675",
   "metadata": {
    "tags": [
     "hide-cell"
    ]
   },
   "outputs": [],
   "source": [
    "from laminci.db import setup_local_test_postgres\n",
    "\n",
    "pgurl = setup_local_test_postgres()\n",
    "!lamin init --storage \"./test-acid\" --db={pgurl}"
   ]
  },
  {
   "cell_type": "code",
   "execution_count": null,
   "id": "185db0bf-cd42-4611-9c9e-3d7970dffb5a",
   "metadata": {},
   "outputs": [],
   "source": [
    "import lamindb as ln\n",
    "from upath import UPath\n",
    "import pytest\n",
    "\n",
    "ln.settings.verbosity = 3  # show hints"
   ]
  },
  {
   "attachments": {},
   "cell_type": "markdown",
   "id": "6f448850-bc49-4f0e-ad6f-f8fd1caec4d3",
   "metadata": {},
   "source": [
    "## Save error due to failed upload to storage"
   ]
  },
  {
   "attachments": {},
   "cell_type": "markdown",
   "id": "0c582719-42de-4e9d-bdcb-51f8aabb3ca5",
   "metadata": {},
   "source": [
    "Let's try to ingest a data object to a storage location without permission."
   ]
  },
  {
   "cell_type": "code",
   "execution_count": null,
   "id": "f00c8dc6-d28f-4de0-8efa-f15afe376264",
   "metadata": {},
   "outputs": [],
   "source": [
    "# Create data object\n",
    "adata = ln.dev.datasets.anndata_mouse_sc_lymph_node()\n",
    "file = ln.File(adata, name=\"Mouse Lymph Node scRNA-seq\")"
   ]
  },
  {
   "cell_type": "code",
   "execution_count": null,
   "id": "6c74eefd-e8d6-480a-8532-c732ae5b4f0b",
   "metadata": {},
   "outputs": [],
   "source": [
    "# hack storage path with corrupt path\n",
    "ln.setup.settings.storage._root = UPath(\"s3://nf-core-awsmegatests\")"
   ]
  },
  {
   "cell_type": "code",
   "execution_count": null,
   "id": "1130c4e1-a589-4060-93bc-322bb9120c0f",
   "metadata": {},
   "outputs": [],
   "source": [
    "ln.settings.storage"
   ]
  },
  {
   "cell_type": "code",
   "execution_count": null,
   "id": "b7f9598c-ae60-4eef-8576-81c6679af16f",
   "metadata": {},
   "outputs": [],
   "source": [
    "# try to save\n",
    "with pytest.raises(RuntimeError) as error:\n",
    "    ln.save(file)\n",
    "print(error.exconly())"
   ]
  },
  {
   "cell_type": "code",
   "execution_count": null,
   "id": "7a24143d",
   "metadata": {
    "tags": [
     "hide-cell"
    ]
   },
   "outputs": [],
   "source": [
    "# try to save with alternative syntax\n",
    "with pytest.raises(RuntimeError) as error:\n",
    "    file.save()\n",
    "print(error.exconly())"
   ]
  },
  {
   "attachments": {},
   "cell_type": "markdown",
   "id": "cf110322-0011-4a35-9393-0465db3b562f",
   "metadata": {},
   "source": [
    "Let's check that no metadata records were added to the database."
   ]
  },
  {
   "cell_type": "code",
   "execution_count": null,
   "id": "ad437d03-100e-4cfe-a967-a2102dac874d",
   "metadata": {},
   "outputs": [],
   "source": [
    "files = ln.File.select().all()\n",
    "assert len(files) == 0"
   ]
  },
  {
   "attachments": {},
   "cell_type": "markdown",
   "id": "e29ce7ae-2a01-4938-b712-821d7c970af3",
   "metadata": {},
   "source": [
    "## Save error due to failed database transaction"
   ]
  },
  {
   "attachments": {},
   "cell_type": "markdown",
   "id": "e8bd2b6e-7051-4d93-9bc2-21e5d03ea7f5",
   "metadata": {},
   "source": [
    "Let's try to add the same `Project` record twice, violating the primary key unique constraint."
   ]
  },
  {
   "cell_type": "code",
   "execution_count": null,
   "id": "e2649a8e-8ecd-4f82-bdc1-313a45833c36",
   "metadata": {},
   "outputs": [],
   "source": [
    "from django.db.utils import IntegrityError\n",
    "\n",
    "project = ln.Project(name=\"test-project\")\n",
    "project.save()\n",
    "conflict_project = ln.Project(id=project.id, name=\"conflict-project\")\n",
    "with pytest.raises(IntegrityError) as error:\n",
    "    conflict_project.save()\n",
    "print(error.exconly())"
   ]
  },
  {
   "attachments": {},
   "cell_type": "markdown",
   "id": "ed3e9cfe-4d07-4d96-8443-d60b62ca82fe",
   "metadata": {},
   "source": [
    "## Save failure during list-based ingestion"
   ]
  },
  {
   "attachments": {},
   "cell_type": "markdown",
   "id": "a19ab581",
   "metadata": {},
   "source": [
    "### Error during metadata save"
   ]
  },
  {
   "cell_type": "code",
   "execution_count": null,
   "id": "a18243b3-0ff4-4302-882e-5cd220732a98",
   "metadata": {},
   "outputs": [],
   "source": [
    "filepath = ln.dev.datasets.file_jpg_paradisi05()\n",
    "file = ln.File(filepath, name=\"My image\")\n",
    "files = [file, \"this is not a BaseORM\"]\n",
    "with pytest.raises(Exception) as error:\n",
    "    ln.save(files)\n",
    "print(error.exconly())"
   ]
  },
  {
   "attachments": {},
   "cell_type": "markdown",
   "id": "825e3635",
   "metadata": {},
   "source": [
    "Nothing got saved:"
   ]
  },
  {
   "cell_type": "code",
   "execution_count": null,
   "id": "6e51a488-95cc-4fc3-951c-e63e93c28e09",
   "metadata": {},
   "outputs": [],
   "source": [
    "files = ln.File.select().all()\n",
    "assert len(files) == 0"
   ]
  },
  {
   "attachments": {},
   "cell_type": "markdown",
   "id": "1c6c06d5",
   "metadata": {},
   "source": [
    "## Error in one of the uploads"
   ]
  },
  {
   "attachments": {},
   "cell_type": "markdown",
   "id": "5258b578-733b-4eb1-afd0-01144d2b1c47",
   "metadata": {},
   "source": [
    "If a list of data objects is passed to `ln.save()` and the upload of one of these data objects fails, the successful uploads are maintained and a `RuntimeError` is raised, listing the successfully uploaded data objects up until that point."
   ]
  },
  {
   "attachments": {},
   "cell_type": "markdown",
   "id": "f1738dfa",
   "metadata": {},
   "source": [
    "Need a proper test here."
   ]
  },
  {
   "attachments": {},
   "cell_type": "markdown",
   "id": "fc28c39a",
   "metadata": {},
   "source": [
    "## Change between working storage locations"
   ]
  },
  {
   "attachments": {},
   "cell_type": "markdown",
   "id": "340c0bed",
   "metadata": {},
   "source": [
    "The following is here in this notebook, because we have a postgres instance to test multi-storage. "
   ]
  },
  {
   "cell_type": "code",
   "execution_count": null,
   "id": "a0613638",
   "metadata": {},
   "outputs": [],
   "source": [
    "ln.settings.storage = \"./test-acid\""
   ]
  },
  {
   "cell_type": "code",
   "execution_count": null,
   "id": "0b10a3a0",
   "metadata": {},
   "outputs": [],
   "source": [
    "ln.settings.storage = \"s3://lamindb-ci\""
   ]
  },
  {
   "cell_type": "code",
   "execution_count": null,
   "id": "cf100a8d",
   "metadata": {},
   "outputs": [],
   "source": [
    "assert ln.setup.settings.storage.is_cloud\n",
    "assert ln.setup.settings.storage.root_as_str == \"s3://lamindb-ci\"\n",
    "# root.fs contains the underlying fsspec filesystem\n",
    "assert (\n",
    "    ln.setup.settings.storage.root.fs.cache_regions  # set by lamindb to True for s3 by default\n",
    ")"
   ]
  },
  {
   "cell_type": "code",
   "execution_count": null,
   "id": "cbec5ee7",
   "metadata": {},
   "outputs": [],
   "source": [
    "ln.settings.storage = \"s3://lamindb-ci\", dict(cache_regions=False)"
   ]
  },
  {
   "cell_type": "code",
   "execution_count": null,
   "id": "583c98c3",
   "metadata": {},
   "outputs": [],
   "source": [
    "# test cache_regions\n",
    "assert not ln.setup.settings.storage.root.fs.cache_regions"
   ]
  },
  {
   "cell_type": "code",
   "execution_count": null,
   "id": "0779202b",
   "metadata": {},
   "outputs": [],
   "source": [
    "assert len(ln.Storage.select().list()) == 2"
   ]
  },
  {
   "cell_type": "code",
   "execution_count": null,
   "id": "98783afd",
   "metadata": {
    "tags": [
     "hide-cell"
    ]
   },
   "outputs": [],
   "source": [
    "!docker stop pgtest && docker rm pgtest\n",
    "!lamin delete pgtest\n",
    "!rm -r ./test-acid"
   ]
  }
 ],
 "metadata": {
  "kernelspec": {
   "display_name": "Python 3 (ipykernel)",
   "language": "python",
   "name": "python3"
  },
  "language_info": {
   "codemirror_mode": {
    "name": "ipython",
    "version": 3
   },
   "file_extension": ".py",
   "mimetype": "text/x-python",
   "name": "python",
   "nbconvert_exporter": "python",
   "pygments_lexer": "ipython3",
   "version": "3.9.16"
  },
  "nbproject": {
   "id": "zz23msudiiQR",
   "parent": null,
   "pypackage": null,
   "time_init": "2023-02-03T20:01:20.761043+00:00",
   "user_handle": "testuser1",
   "user_id": "DzTjkKse",
   "user_name": "Test User1",
   "version": "0"
  },
  "vscode": {
   "interpreter": {
    "hash": "b0fa6594d8f4cbf19f97940f81e996739fb7646882a419484c72d19e05852a7e"
   }
  }
 },
 "nbformat": 4,
 "nbformat_minor": 5
}
