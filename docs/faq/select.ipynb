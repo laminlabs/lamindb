{
 "cells": [
  {
   "cell_type": "markdown",
   "id": "434a0140-b55c-42a2-ad41-f97e4ef65a28",
   "metadata": {},
   "source": [
    "# How does LaminDB's `select` relate to SQLModel's `select`?"
   ]
  },
  {
   "cell_type": "code",
   "execution_count": null,
   "id": "cff57921-7332-493a-a627-7b9b587f4cf8",
   "metadata": {},
   "outputs": [],
   "source": [
    "import lamindb as ln\n",
    "import sqlmodel as sqm\n",
    "import lnschema_core as core\n",
    "from datetime import datetime\n",
    "import pandas as pd\n",
    "\n",
    "ln.nb.header()"
   ]
  },
  {
   "cell_type": "code",
   "execution_count": null,
   "id": "f9565708-d03d-43e8-be80-6ee057eb9626",
   "metadata": {},
   "outputs": [],
   "source": [
    "engine = ln.settings.instance.db_engine()"
   ]
  },
  {
   "cell_type": "code",
   "execution_count": null,
   "id": "4d16a536-5bf0-43c3-8e62-125ff478c5f3",
   "metadata": {},
   "outputs": [],
   "source": [
    "def to_df(select_list):\n",
    "    return pd.DataFrame(\n",
    "        [row.dict() for row in select_list], columns=select_list[0].__fields__\n",
    "    )"
   ]
  },
  {
   "cell_type": "markdown",
   "id": "b837c04c-bba2-4005-ac68-6ef4cf7c6e7f",
   "metadata": {},
   "source": [
    "## Selecting a whole table"
   ]
  },
  {
   "cell_type": "markdown",
   "id": "ae68bb41-f3c7-4aed-8416-6d5f59c8c540",
   "metadata": {},
   "source": [
    "### (A) SQLModel"
   ]
  },
  {
   "cell_type": "code",
   "execution_count": null,
   "id": "3c8be7c7-679c-48f3-9db5-83d2ae8d9ecc",
   "metadata": {},
   "outputs": [],
   "source": [
    "with sqm.Session(engine) as session:\n",
    "    df = to_df(session.exec(sqm.select(core.dobject)).all())"
   ]
  },
  {
   "cell_type": "code",
   "execution_count": null,
   "id": "a1acf368-5a41-41b5-922c-5d6e46575d9a",
   "metadata": {},
   "outputs": [],
   "source": [
    "df"
   ]
  },
  {
   "cell_type": "markdown",
   "id": "0ba2c38b-7e5e-4f11-8a4e-0ed68d8c6a74",
   "metadata": {},
   "source": [
    "### (B) LaminDB"
   ]
  },
  {
   "cell_type": "code",
   "execution_count": null,
   "id": "2cb8cab9-1ca6-46fe-907d-de0aac9cf185",
   "metadata": {},
   "outputs": [],
   "source": [
    "df = ln.db.select.dobject().df()"
   ]
  },
  {
   "cell_type": "code",
   "execution_count": null,
   "id": "df8acf8f-3f18-40fa-8b8a-cd39a59c6e16",
   "metadata": {},
   "outputs": [],
   "source": [
    "df"
   ]
  },
  {
   "cell_type": "markdown",
   "id": "6a4350e3-74dc-4585-bba2-1be085bc8e48",
   "metadata": {},
   "source": [
    "## Subsetting a selection with `where`: equality"
   ]
  },
  {
   "cell_type": "markdown",
   "id": "6e8a3eba-5989-4228-ae6a-da55389d5c0a",
   "metadata": {
    "tags": []
   },
   "source": [
    "### (A) SQLModel"
   ]
  },
  {
   "cell_type": "code",
   "execution_count": null,
   "id": "2fef54c7-506f-4810-8823-351ec804dcb0",
   "metadata": {},
   "outputs": [],
   "source": [
    "with sqm.Session(engine) as session:\n",
    "    df = to_df(\n",
    "        session.exec(\n",
    "            sqm.select(core.dobject).where(core.dobject.suffix == \".feather\")\n",
    "        ).all()\n",
    "    )"
   ]
  },
  {
   "cell_type": "code",
   "execution_count": null,
   "id": "bf0adf82-46db-4f44-8308-8c9eaa2f1705",
   "metadata": {},
   "outputs": [],
   "source": [
    "df"
   ]
  },
  {
   "cell_type": "markdown",
   "id": "ef8a7794-da68-4f8d-b656-b6b0c7320954",
   "metadata": {},
   "source": [
    "### (B) LaminDB"
   ]
  },
  {
   "cell_type": "code",
   "execution_count": null,
   "id": "5095c450-222b-4fe4-918d-4f09a2dacdb9",
   "metadata": {},
   "outputs": [],
   "source": [
    "ln.db.select.dobject(suffix=\".feather\").df()"
   ]
  },
  {
   "cell_type": "markdown",
   "id": "450cf126-3baf-464a-b9c1-d9ecdeec8d06",
   "metadata": {},
   "source": [
    "## Queries involving linked tables"
   ]
  },
  {
   "cell_type": "markdown",
   "id": "866e6063-cd16-4dfb-ba14-2d940755857e",
   "metadata": {},
   "source": [
    "### (A) SQLModel"
   ]
  },
  {
   "cell_type": "code",
   "execution_count": null,
   "id": "b64919b2-e875-4b67-a2e7-5b21cdccb240",
   "metadata": {},
   "outputs": [],
   "source": [
    "ln.db.select.user().df()"
   ]
  },
  {
   "cell_type": "code",
   "execution_count": null,
   "id": "9f61985f-5a5a-42ab-8a1e-57db92406fae",
   "metadata": {},
   "outputs": [],
   "source": [
    "user_id = \"DzTjkKse\""
   ]
  },
  {
   "cell_type": "markdown",
   "id": "fe548aef-2eee-4624-808f-7fd67b45de30",
   "metadata": {},
   "source": [
    "Select version without joins, but using the `in_` operator."
   ]
  },
  {
   "cell_type": "code",
   "execution_count": null,
   "id": "646fe3d5-2878-4be5-b7a0-f8b43fd7faea",
   "metadata": {},
   "outputs": [],
   "source": [
    "with sqm.Session(engine) as session:\n",
    "    # all notebooks authored by the user\n",
    "    jupynbs = session.exec(\n",
    "        sqm.select(core.jupynb).where(core.jupynb.created_by == user_id)\n",
    "    ).all()\n",
    "    jupynb_ids = [jupynb.id for jupynb in jupynbs]\n",
    "    # all dtransforms linked to these notebooks\n",
    "    dtransforms = session.exec(\n",
    "        sqm.select(core.dtransform).where(core.dtransform.jupynb_id.in_(jupynb_ids))\n",
    "    ).all()\n",
    "    dtransform_ids = [dtransform.id for dtransform in dtransforms]\n",
    "    # all dobjects linked to these dtransforms\n",
    "    df = to_df(\n",
    "        session.exec(\n",
    "            sqm.select(core.dobject).where(\n",
    "                core.dobject.dtransform_id.in_(dtransform_ids)\n",
    "            )\n",
    "        ).all()\n",
    "    )"
   ]
  },
  {
   "cell_type": "code",
   "execution_count": null,
   "id": "f2fe1334-b697-4f8b-9fab-2bd3403270f4",
   "metadata": {},
   "outputs": [],
   "source": [
    "df"
   ]
  },
  {
   "cell_type": "markdown",
   "id": "a9d539ec-0c12-46e9-b938-f08c2f52a68f",
   "metadata": {},
   "source": [
    "### LaminDB"
   ]
  },
  {
   "cell_type": "code",
   "execution_count": null,
   "id": "40ec7add-d71b-4d15-bf7f-3434c57d81be",
   "metadata": {},
   "outputs": [],
   "source": [
    "# ln.db.select.dobject(where=dict(user=dict(id=\"DzTjkKse\")))"
   ]
  },
  {
   "cell_type": "markdown",
   "id": "7b36b044-ae74-467a-b686-3dc34390fcb5",
   "metadata": {},
   "source": [
    "## Subsetting a selection with `where`: general comparisons"
   ]
  },
  {
   "cell_type": "markdown",
   "id": "adb3b232-dfb3-413a-ad2f-020e7470358b",
   "metadata": {},
   "source": [
    "### (A) SQLModel"
   ]
  },
  {
   "cell_type": "markdown",
   "id": "dc62ac95-34cf-449d-baca-f8f0c3866c5d",
   "metadata": {},
   "source": [
    "Subsetting the previous select to the most recent additions."
   ]
  },
  {
   "cell_type": "code",
   "execution_count": null,
   "id": "e8c787c0-1f66-4d17-be49-dbd889056c3d",
   "metadata": {},
   "outputs": [],
   "source": [
    "time = datetime(2022, 10, 11, 23, 0, 0)"
   ]
  },
  {
   "cell_type": "code",
   "execution_count": null,
   "id": "8b2813c4-2f8e-4291-8ff8-129a5d606221",
   "metadata": {},
   "outputs": [],
   "source": [
    "with sqm.Session(engine) as session:\n",
    "    df = to_df(\n",
    "        session.exec(\n",
    "            sqm.select(core.dobject).where(\n",
    "                core.dobject.suffix == \".feather\", core.dobject.created_at > time\n",
    "            )\n",
    "        ).all()\n",
    "    )"
   ]
  },
  {
   "cell_type": "code",
   "execution_count": null,
   "id": "f6395d63-d0d1-4c79-bb74-4aa78394048c",
   "metadata": {},
   "outputs": [],
   "source": [
    "df"
   ]
  },
  {
   "cell_type": "markdown",
   "id": "a1fac3b1-126e-4cb2-9bf6-4395f8b13901",
   "metadata": {},
   "source": [
    "### (B) LaminDB"
   ]
  },
  {
   "cell_type": "markdown",
   "id": "82bf743b-bd9b-4919-b527-a8ffceb62530",
   "metadata": {},
   "source": [
    "We can't do this right now."
   ]
  },
  {
   "cell_type": "markdown",
   "id": "1003ad5d-e8aa-4ad2-8f3f-6ce1b7672097",
   "metadata": {
    "tags": []
   },
   "source": [
    "## Subsetting a selection with `where`: combine expressions using `or`"
   ]
  },
  {
   "cell_type": "markdown",
   "id": "cb3d2363-495c-46e9-b931-1b0874d1e0e6",
   "metadata": {},
   "source": [
    "SQLModel only."
   ]
  },
  {
   "cell_type": "markdown",
   "id": "168343fe-6011-4a29-9dc4-2915f00ec1b2",
   "metadata": {},
   "source": [
    "## Subsetting a selection with `where`: limit select results"
   ]
  },
  {
   "cell_type": "markdown",
   "id": "59f0d0d5-e623-474a-a82e-c0ec9171d33d",
   "metadata": {},
   "source": [
    "SQLModel only."
   ]
  },
  {
   "cell_type": "markdown",
   "id": "4835c466-9aa5-47a1-af67-0767965ce1a9",
   "metadata": {},
   "source": [
    "## Limiting and offsetting select results"
   ]
  },
  {
   "cell_type": "markdown",
   "id": "053a4928-8d45-49f1-a1b1-aba59fe1587f",
   "metadata": {},
   "source": [
    "This is important for selecting tables with very high numbers of rows."
   ]
  },
  {
   "cell_type": "markdown",
   "id": "9194b6d6-6ec7-4eb2-ba1b-284bf0b60bc8",
   "metadata": {},
   "source": [
    "SQLModel only."
   ]
  }
 ],
 "metadata": {
  "kernelspec": {
   "display_name": "Python 3.9.12 ('base1')",
   "language": "python",
   "name": "python3"
  },
  "language_info": {
   "codemirror_mode": {
    "name": "ipython",
    "version": 3
   },
   "file_extension": ".py",
   "mimetype": "text/x-python",
   "name": "python",
   "nbconvert_exporter": "python",
   "pygments_lexer": "ipython3",
   "version": "3.9.12"
  },
  "nbproject": {
   "id": "Lu39q1AU48Ik",
   "parent": null,
   "pypackage": null,
   "time_init": "2022-10-12T10:15:17.608530+00:00",
   "version": "draft"
  },
  "vscode": {
   "interpreter": {
    "hash": "2775e555cdc2d728c54aa22130c79afb1fa4da64f22f2fc6dcc2aa346c4e0672"
   }
  }
 },
 "nbformat": 4,
 "nbformat_minor": 5
}
