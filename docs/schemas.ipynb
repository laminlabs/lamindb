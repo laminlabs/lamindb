{
 "cells": [
  {
   "cell_type": "markdown",
   "id": "647b12b5",
   "metadata": {},
   "source": [
    "[![Jupyter Notebook](https://img.shields.io/badge/Jupyter%20Notebook-orange)](https://github.com/laminlabs/lamindb/blob/main/docs/schemas.ipynb)"
   ]
  },
  {
   "attachments": {},
   "cell_type": "markdown",
   "id": "06cadce4",
   "metadata": {},
   "source": [
    "# Manage schemas"
   ]
  },
  {
   "attachments": {},
   "cell_type": "markdown",
   "id": "e1d4ee75",
   "metadata": {},
   "source": [
    "LaminDB gives you a framework for managing complex typed metadata schema-full:\n",
    "\n",
    "1. Any LaminDB instance can plug in an arbitrary number of schemas\n",
    "2. Each schema is a Python package that defines an arbitrary number of data models\n",
    "3. Every data model is a [Registry](https://en.wikipedia.org/wiki/Object-relational_mapping) and comes with an auto-generated corresponding SQL table"
   ]
  },
  {
   "attachments": {},
   "cell_type": "markdown",
   "id": "5141b1a0",
   "metadata": {},
   "source": [
    "## Basic data management: `lnschema_core`"
   ]
  },
  {
   "cell_type": "markdown",
   "id": "7e7c43f8",
   "metadata": {},
   "source": [
    "<img src=\"https://lamin-site-assets.s3.amazonaws.com/.lamindb/XoTQFCmmj2uU4d2xyj9t.png\" width=\"350px\" style=\"background: transparent\" align=\"right\">\n"
   ]
  },
  {
   "attachments": {},
   "cell_type": "markdown",
   "id": "b614a6ea",
   "metadata": {},
   "source": [
    "The core schema is built into the core LaminDB API, but it's managed as its own Python package `lnschema_core` with repository [here](https://github.com/laminlabs/lnschema-core).\n",
    "\n",
    "All of LaminDB's core classes, like {class}`~lamindb.File`, {class}`~lamindb.Transform`, {class}`~lamindb.User`, etc. are registries defined in the core schema. You can see their source code [here](https://github.com/laminlabs/lnschema-core/blob/main/lnschema_core/models.py)."
   ]
  },
  {
   "attachments": {},
   "cell_type": "markdown",
   "id": "f5375b44",
   "metadata": {},
   "source": [
    "### View the schema"
   ]
  },
  {
   "attachments": {},
   "cell_type": "markdown",
   "id": "de6fdc7e",
   "metadata": {},
   "source": [
    "For your given instance, you view the registries by running `lamin schema view` on the command line.\n",
    "\n",
    "In your browser, navigating to `<localhost>/schema/` will show an interactive version of graph similar to the one on the right."
   ]
  },
  {
   "attachments": {},
   "cell_type": "markdown",
   "id": "6f09ec83",
   "metadata": {},
   "source": [
    "## Basic biological entities: `lnschema_bionty`"
   ]
  },
  {
   "attachments": {},
   "cell_type": "markdown",
   "id": "2cc62023",
   "metadata": {},
   "source": [
    "`lnschema_bionty` is derived from `Bionty`, see {doc}`../lnschema-bionty`."
   ]
  },
  {
   "attachments": {},
   "cell_type": "markdown",
   "id": "bdb97e06",
   "metadata": {},
   "source": [
    "## Custom schemas"
   ]
  },
  {
   "attachments": {},
   "cell_type": "markdown",
   "id": "5cbde8d9",
   "metadata": {},
   "source": [
    "You can set up your own schemas & registries or [reach out](https://lamin.ai/contact) for support within Lamin's enterprise plan.\n",
    "\n",
    "The only convention required by LaminDB for plugging in a schema package is that it's named `lnschema_{schema_name}` and a valid (minimal) Django app.\n",
    "\n",
    "You'll see how simple it is if you look at this example: [github.com/laminlabs/lnschema-lamin1](https://github.com/laminlabs/lnschema-lamin1).\n",
    "\n",
    "Schema management needs two CLI calls (see {doc}`/setup`):\n",
    "\n",
    "* `lamin migrate create`\n",
    "* `lamin migrate deploy`"
   ]
  }
 ],
 "metadata": {
  "kernelspec": {
   "display_name": "Python 3 (ipykernel)",
   "language": "python",
   "name": "python3"
  },
  "language_info": {
   "codemirror_mode": {
    "name": "ipython",
    "version": 3
   },
   "file_extension": ".py",
   "mimetype": "text/x-python",
   "name": "python",
   "nbconvert_exporter": "python",
   "pygments_lexer": "ipython3",
   "version": "3.9.16"
  },
  "nbproject": {
   "id": "6ZBQKdB7Mvlh",
   "parent": null,
   "pypackage": null,
   "time_init": "2022-09-02T13:31:33.726175+00:00",
   "version": "0"
  },
  "vscode": {
   "interpreter": {
    "hash": "ae1fefc8646a06dd2e75004cd934adda7c5727b046986a772e3b44b0ffba9754"
   }
  }
 },
 "nbformat": 4,
 "nbformat_minor": 5
}
