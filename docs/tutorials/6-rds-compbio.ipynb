{
 "cells": [
  {
   "cell_type": "markdown",
   "metadata": {},
   "source": [
    "# Compbio analysis"
   ]
  },
  {
   "cell_type": "code",
   "execution_count": null,
   "metadata": {},
   "outputs": [],
   "source": [
    "import lamindb as ln\n",
    "import scanpy as sc\n",
    "\n",
    "ln.nb.header()"
   ]
  },
  {
   "cell_type": "code",
   "execution_count": null,
   "metadata": {},
   "outputs": [],
   "source": [
    "!lndb login test-user2"
   ]
  },
  {
   "cell_type": "markdown",
   "metadata": {},
   "source": [
    "## Link experimental metadata to the datasets"
   ]
  },
  {
   "cell_type": "markdown",
   "metadata": {},
   "source": [
    "Query for datasets ingested from a bioinformatics run:"
   ]
  },
  {
   "cell_type": "code",
   "execution_count": null,
   "metadata": {},
   "outputs": [],
   "source": [
    "bfx_runs = ln.db.query.pipeline_run()\n",
    "bfx_runs"
   ]
  },
  {
   "cell_type": "code",
   "execution_count": null,
   "metadata": {},
   "outputs": [],
   "source": [
    "dtransform_id = ln.db.query.dtransform(pipeline_run_id=bfx_runs[0].id)[0].id\n",
    "dobjects = ln.db.query.dobject(dtransform_id=dtransform_id)\n",
    "len(dobjects)"
   ]
  },
  {
   "cell_type": "markdown",
   "metadata": {},
   "source": [
    "Now let's link biometa to the bfx run output datasets:"
   ]
  },
  {
   "cell_type": "code",
   "execution_count": null,
   "metadata": {},
   "outputs": [],
   "source": [
    "for dobject in dobjects:\n",
    "    ln.db.link.biometa(dobject_id=dobject.id, biometa_id=2)"
   ]
  },
  {
   "cell_type": "markdown",
   "metadata": {},
   "source": [
    "Let's also link the screen results to its biometa."
   ]
  },
  {
   "cell_type": "code",
   "execution_count": null,
   "metadata": {},
   "outputs": [],
   "source": [
    "dobjects = ln.db.query.dobject(name=\"schmidt22-crispra-gws-IFNG\")\n",
    "dobjects"
   ]
  },
  {
   "cell_type": "code",
   "execution_count": null,
   "metadata": {},
   "outputs": [],
   "source": [
    "ln.db.link.biometa(dobject_id=dobjects[0].id, biometa_id=1)"
   ]
  },
  {
   "cell_type": "markdown",
   "metadata": {},
   "source": [
    "Fill out additional biometa fields for dobjects ingested with feature models."
   ]
  },
  {
   "cell_type": "code",
   "execution_count": null,
   "metadata": {},
   "outputs": [],
   "source": [
    "ln.db.query.jupynb(name=\"Track and analyze experimental data\")"
   ]
  },
  {
   "cell_type": "code",
   "execution_count": null,
   "metadata": {},
   "outputs": [],
   "source": [
    "jupynb_id = ln.db.query.jupynb(name=\"Track and analyze experimental data\")[-1].id\n",
    "dtransform_id = ln.db.query.dtransform(jupynb_id=jupynb_id)[-1].id"
   ]
  },
  {
   "cell_type": "code",
   "execution_count": null,
   "metadata": {},
   "outputs": [],
   "source": [
    "dobjects = ln.db.query.dobject(dtransform_id=dtransform_id)"
   ]
  },
  {
   "cell_type": "code",
   "execution_count": null,
   "metadata": {},
   "outputs": [],
   "source": [
    "dobjects"
   ]
  },
  {
   "cell_type": "code",
   "execution_count": null,
   "metadata": {},
   "outputs": [],
   "source": [
    "biometa1 = ln.db.query.biometa(id=1)[0]\n",
    "\n",
    "for dobject in dobjects:\n",
    "    doject_biometa = ln.db.query.dobject_biometa(dobject_id=dobject.id)\n",
    "    assert len(doject_biometa) == 1\n",
    "    biometa_id = doject_biometa[0].biometa_id\n",
    "    biometa = ln.db.query.biometa(id=biometa_id)[0]\n",
    "    insert_dict = {}\n",
    "    for key in biometa.dict().keys():\n",
    "        if key in [\"id\", \"featureset_id\"]:\n",
    "            continue\n",
    "        if biometa1.__getattribute__(key) is not None:\n",
    "            insert_dict[key] = biometa1.__getattribute__(key)\n",
    "\n",
    "    ln.db.update.biometa(key=biometa.id, **insert_dict)"
   ]
  },
  {
   "cell_type": "markdown",
   "metadata": {},
   "source": [
    "## Load in the raw data generated from the BFX pipeline"
   ]
  },
  {
   "cell_type": "code",
   "execution_count": null,
   "metadata": {},
   "outputs": [],
   "source": [
    "h5ads = ln.db.query.dobject(file_suffix=\".h5ad\")\n",
    "h5ads"
   ]
  },
  {
   "cell_type": "code",
   "execution_count": null,
   "metadata": {},
   "outputs": [],
   "source": [
    "hits = ln.db.query.dobject(name=\"schmidt22_crispra_gws_IFNG_hits\")\n",
    "hits"
   ]
  },
  {
   "cell_type": "code",
   "execution_count": null,
   "metadata": {},
   "outputs": [],
   "source": [
    "adata = ln.db.load(h5ads[0])"
   ]
  },
  {
   "cell_type": "code",
   "execution_count": null,
   "metadata": {},
   "outputs": [],
   "source": [
    "screen_hits = ln.db.load(hits[0])"
   ]
  },
  {
   "cell_type": "markdown",
   "metadata": {},
   "source": [
    "## Perform single cell analysis, integrating the CRISPR screen data"
   ]
  },
  {
   "cell_type": "code",
   "execution_count": null,
   "metadata": {},
   "outputs": [],
   "source": [
    "sc.tl.score_genes(\n",
    "    adata, adata.var_names.intersection(screen_hits[\"id\"].values).tolist()\n",
    ")"
   ]
  },
  {
   "cell_type": "code",
   "execution_count": null,
   "metadata": {},
   "outputs": [],
   "source": [
    "sc.pl.umap(adata, color=\"cluster_name\")"
   ]
  },
  {
   "cell_type": "code",
   "execution_count": null,
   "metadata": {},
   "outputs": [],
   "source": [
    "sc.pl.umap(adata, color=\"score\")"
   ]
  },
  {
   "cell_type": "code",
   "execution_count": null,
   "metadata": {},
   "outputs": [],
   "source": [
    "sc.pl.matrixplot(adata, groupby=\"cluster_name\", var_names=[\"score\"])"
   ]
  },
  {
   "cell_type": "markdown",
   "metadata": {},
   "source": [
    "## Ingest the processed dataset into LaminDB"
   ]
  },
  {
   "cell_type": "code",
   "execution_count": null,
   "metadata": {},
   "outputs": [],
   "source": [
    "ln.db.ingest.add(adata, name=\"schmidt22_perturbseq_analyzed\")"
   ]
  },
  {
   "cell_type": "code",
   "execution_count": null,
   "metadata": {},
   "outputs": [],
   "source": [
    "ln.db.ingest.commit()"
   ]
  },
  {
   "cell_type": "code",
   "execution_count": null,
   "metadata": {},
   "outputs": [],
   "source": []
  }
 ],
 "metadata": {
  "kernelspec": {
   "display_name": "Python 3.9.13 ('py39')",
   "language": "python",
   "name": "python3"
  },
  "language_info": {
   "codemirror_mode": {
    "name": "ipython",
    "version": 3
   },
   "file_extension": ".py",
   "mimetype": "text/x-python",
   "name": "python",
   "nbconvert_exporter": "python",
   "pygments_lexer": "ipython3",
   "version": "3.9.13"
  },
  "nbproject": {
   "id": "lEVRZ3cfzpu6",
   "parent": null,
   "pypackage": {
    "lamindb": "0.3.3",
    "scanpy": "1.8.2"
   },
   "time_init": "2022-08-30T22:20:03.913240+00:00",
   "version": "4"
  },
  "vscode": {
   "interpreter": {
    "hash": "ae1fefc8646a06dd2e75004cd934adda7c5727b046986a772e3b44b0ffba9754"
   }
  }
 },
 "nbformat": 4,
 "nbformat_minor": 2
}
