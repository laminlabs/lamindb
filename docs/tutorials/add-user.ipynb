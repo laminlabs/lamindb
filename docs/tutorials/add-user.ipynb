{
 "cells": [
  {
   "cell_type": "markdown",
   "id": "706e099e-bc94-40df-918f-ebeacd6a2b6c",
   "metadata": {},
   "source": [
    "# Add another user"
   ]
  },
  {
   "cell_type": "code",
   "execution_count": null,
   "id": "16ada2e3-c940-41e4-9a9c-5ca42f3765ca",
   "metadata": {},
   "outputs": [],
   "source": [
    "from nbproject import header\n",
    "\n",
    "header()"
   ]
  },
  {
   "cell_type": "markdown",
   "id": "60b0f539-be93-4781-b99a-5b997d6351f7",
   "metadata": {},
   "source": [
    "Having a look into our data storage, we'll see both the data file we just ingested, and the `.lndb` file that stores the database with all the information for managing the directory."
   ]
  },
  {
   "cell_type": "code",
   "execution_count": null,
   "id": "f6572eab-0ef0-4c6c-9943-56ed14320287",
   "metadata": {},
   "outputs": [],
   "source": [
    "from lamindb.do import ingest\n",
    "import sklearn.datasets"
   ]
  },
  {
   "cell_type": "markdown",
   "id": "62af7dfb-6c2b-45a9-8132-a3068289f3cf",
   "metadata": {},
   "source": [
    "## Add more users"
   ]
  },
  {
   "cell_type": "markdown",
   "id": "6ba2a6d4-7f28-4123-a527-76b76ce511de",
   "metadata": {},
   "source": [
    "Let us now pretend we're a different user (who already signed up!)."
   ]
  },
  {
   "cell_type": "code",
   "execution_count": null,
   "id": "a8cd2beb-39ff-40d5-866a-296ac67cdbc3",
   "metadata": {},
   "outputs": [],
   "source": [
    "!lndb login --email \"kurt.hein@gmx.de\" --secret \"rmoc2w8BwtAtJRDl9sOuWJiW7b6JpGNU7SOAHl2C\""
   ]
  },
  {
   "cell_type": "markdown",
   "id": "08bad552-84c8-4bf1-b3ee-39b8955add77",
   "metadata": {},
   "source": [
    "## Ingest more data"
   ]
  },
  {
   "cell_type": "markdown",
   "id": "3f9c2a7d-45f4-4ab4-bf9a-944cdf3742a2",
   "metadata": {},
   "source": [
    "Ingest another file"
   ]
  },
  {
   "cell_type": "code",
   "execution_count": null,
   "id": "34bb652d-ba93-45ee-ab02-ee8561c5111f",
   "metadata": {},
   "outputs": [],
   "source": [
    "sklearn.datasets.load_iris(as_frame=True).frame.to_csv(\"iris.csv\")"
   ]
  },
  {
   "cell_type": "code",
   "execution_count": null,
   "id": "9a96800c",
   "metadata": {},
   "outputs": [],
   "source": [
    "ingest.add(\"iris.csv\")"
   ]
  },
  {
   "cell_type": "code",
   "execution_count": null,
   "id": "208d09da-939d-42b8-b203-1d6f8efecea7",
   "metadata": {},
   "outputs": [],
   "source": [
    "lnid = ingest.commit()"
   ]
  }
 ],
 "metadata": {
  "kernelspec": {
   "display_name": "Python 3 (ipykernel)",
   "language": "python",
   "name": "python3"
  },
  "language_info": {
   "codemirror_mode": {
    "name": "ipython",
    "version": 3
   },
   "file_extension": ".py",
   "mimetype": "text/x-python",
   "name": "python",
   "nbconvert_exporter": "python",
   "pygments_lexer": "ipython3",
   "version": "3.9.12"
  },
  "nbproject": {
   "dependency": {
    "lamindb": "0.3a1",
    "nbproject": "0.1.0",
    "scikit-learn": "1.1.1"
   },
   "id": "ZCdINSMzjawp",
   "time_init": "2022-07-01T07:37:38.531053+00:00",
   "version": "draft"
  },
  "vscode": {
   "interpreter": {
    "hash": "2775e555cdc2d728c54aa22130c79afb1fa4da64f22f2fc6dcc2aa346c4e0672"
   }
  }
 },
 "nbformat": 4,
 "nbformat_minor": 5
}
