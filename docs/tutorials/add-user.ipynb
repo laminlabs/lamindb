{
 "cells": [
  {
   "cell_type": "markdown",
   "id": "706e099e-bc94-40df-918f-ebeacd6a2b6c",
   "metadata": {},
   "source": [
    "# Another user"
   ]
  },
  {
   "cell_type": "markdown",
   "id": "60b0f539-be93-4781-b99a-5b997d6351f7",
   "metadata": {},
   "source": [
    "Having a look into our data storage, we'll see both the data file we just ingested, and the `.lndb` file that stores the database with all the information for managing the directory."
   ]
  },
  {
   "cell_type": "markdown",
   "id": "76aed29a-ddc1-4053-8fcf-abfe582f0a11",
   "metadata": {},
   "source": [
    "!ls -lh ~/mydata"
   ]
  },
  {
   "cell_type": "markdown",
   "id": "98912345-42b7-468f-bdb9-162580d39505",
   "metadata": {},
   "source": [
    "## Introspecting the schema"
   ]
  },
  {
   "cell_type": "code",
   "execution_count": null,
   "id": "49aeb395-ef87-4c76-9122-d7fedac70eea",
   "metadata": {},
   "outputs": [],
   "source": [
    "db.track.schema.diagram()"
   ]
  },
  {
   "cell_type": "markdown",
   "id": "62af7dfb-6c2b-45a9-8132-a3068289f3cf",
   "metadata": {},
   "source": [
    "## Add more users"
   ]
  },
  {
   "cell_type": "markdown",
   "id": "6ba2a6d4-7f28-4123-a527-76b76ce511de",
   "metadata": {},
   "source": [
    "Let us now pretend we're a different user."
   ]
  },
  {
   "cell_type": "code",
   "execution_count": null,
   "id": "a8cd2beb-39ff-40d5-866a-296ac67cdbc3",
   "metadata": {},
   "outputs": [],
   "source": [
    "!lamindb setup --storage $HOME/mydata  --user sunnyosun"
   ]
  },
  {
   "cell_type": "markdown",
   "id": "d73e3194-403e-46db-a345-f6a87ba9ed9c",
   "metadata": {},
   "source": [
    "Let us try to add the same user again."
   ]
  },
  {
   "cell_type": "code",
   "execution_count": null,
   "id": "ba9de8c5-ff1a-4d68-89ff-f7cd66f3675b",
   "metadata": {},
   "outputs": [],
   "source": [
    "!lamindb setup --storage $HOME/mydata  --user sunnyosun"
   ]
  },
  {
   "cell_type": "markdown",
   "id": "08bad552-84c8-4bf1-b3ee-39b8955add77",
   "metadata": {},
   "source": [
    "## Ingest more data"
   ]
  },
  {
   "cell_type": "markdown",
   "id": "3f9c2a7d-45f4-4ab4-bf9a-944cdf3742a2",
   "metadata": {},
   "source": [
    "Ingest another file"
   ]
  },
  {
   "cell_type": "code",
   "execution_count": null,
   "id": "34bb652d-ba93-45ee-ab02-ee8561c5111f",
   "metadata": {},
   "outputs": [],
   "source": [
    "sklearn.datasets.load_iris(as_frame=True).frame.to_csv(\"iris.csv\")"
   ]
  },
  {
   "cell_type": "code",
   "execution_count": null,
   "id": "208d09da-939d-42b8-b203-1d6f8efecea7",
   "metadata": {},
   "outputs": [],
   "source": [
    "lnid = db.do.ingest(\"iris.csv\")"
   ]
  },
  {
   "cell_type": "markdown",
   "id": "a2471706-cfbc-45ad-b787-153c7ec43555",
   "metadata": {
    "tags": []
   },
   "source": [
    "## Introspecting the data"
   ]
  },
  {
   "cell_type": "code",
   "execution_count": null,
   "id": "687c95e0-06d3-4085-9a0a-afd111927de3",
   "metadata": {},
   "outputs": [],
   "source": [
    "for entity in db.track.schema.entities:\n",
    "    print(entity)\n",
    "    display(db.do.load(entity))"
   ]
  },
  {
   "cell_type": "markdown",
   "id": "30cc6939-47d6-431a-b295-44deb3ebc0a8",
   "metadata": {},
   "source": [
    "Inspect a value in more detail:"
   ]
  },
  {
   "cell_type": "code",
   "execution_count": null,
   "id": "682787de-9c51-4b81-8fd1-74179a184992",
   "metadata": {},
   "outputs": [],
   "source": [
    "db.do.load(\"interface\").dependency[\"GgD4VJbXtOOS\"]"
   ]
  }
 ],
 "metadata": {
  "kernelspec": {
   "display_name": "Python 3 (ipykernel)",
   "language": "python",
   "name": "python3"
  },
  "language_info": {
   "codemirror_mode": {
    "name": "ipython",
    "version": 3
   },
   "file_extension": ".py",
   "mimetype": "text/x-python",
   "name": "python",
   "nbconvert_exporter": "python",
   "pygments_lexer": "ipython3",
   "version": "3.9.12"
  }
 },
 "nbformat": 4,
 "nbformat_minor": 5
}
