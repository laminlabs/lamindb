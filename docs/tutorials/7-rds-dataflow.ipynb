{
 "cells": [
  {
   "cell_type": "markdown",
   "metadata": {},
   "source": [
    "# Data provenance and hub"
   ]
  },
  {
   "cell_type": "code",
   "execution_count": null,
   "metadata": {},
   "outputs": [],
   "source": [
    "import lamindb as ln\n",
    "\n",
    "ln.nb.header()"
   ]
  },
  {
   "cell_type": "code",
   "execution_count": null,
   "metadata": {},
   "outputs": [],
   "source": [
    "!lndb login test-user2"
   ]
  },
  {
   "cell_type": "markdown",
   "id": "c6d07db2",
   "metadata": {},
   "source": [
    "## Data objects"
   ]
  },
  {
   "cell_type": "code",
   "execution_count": null,
   "id": "e248d23b-a810-4061-b20c-06189af1e990",
   "metadata": {},
   "outputs": [],
   "source": [
    "for entity in ln.schema.list_entities():\n",
    "    if hasattr(ln.schema.core, entity):\n",
    "        df = ln.db.query.table_as_df(entity)\n",
    "        if df.shape[0] > 0:\n",
    "            print(entity)\n",
    "            display(df)"
   ]
  },
  {
   "cell_type": "markdown",
   "id": "81327289-bc8f-49d9-bce6-849baa424b40",
   "metadata": {},
   "source": [
    "## Biological entities and wetlab"
   ]
  },
  {
   "cell_type": "code",
   "execution_count": null,
   "id": "7ef87c39-0140-4b30-8d69-07653e89b6fa",
   "metadata": {},
   "outputs": [],
   "source": [
    "for entity in ln.schema.list_entities():\n",
    "    if not hasattr(ln.schema.core, entity):\n",
    "        df = ln.db.query.table_as_df(entity)\n",
    "        if df.shape[0] > 0:\n",
    "            print(entity)\n",
    "            display(df)"
   ]
  },
  {
   "cell_type": "markdown",
   "metadata": {},
   "source": [
    "## Query data with biological entities\n",
    "\n",
    "You can query any fields of interest in the feature tables"
   ]
  },
  {
   "cell_type": "code",
   "execution_count": null,
   "metadata": {},
   "outputs": [],
   "source": [
    "ln.db.query.dobject(entity_name=\"gene\", ncbi_gene_id=9535)"
   ]
  },
  {
   "cell_type": "code",
   "execution_count": null,
   "metadata": {},
   "outputs": [],
   "source": [
    "ln.db.query.dobject(entity_name=\"gene\", symbol=\"IFNG\")"
   ]
  },
  {
   "cell_type": "code",
   "execution_count": null,
   "metadata": {},
   "outputs": [],
   "source": [
    "from sqlalchemy import inspect\n",
    "from lndb_setup import settings\n",
    "\n",
    "\n",
    "def _get_all_foreign_keys(engine):\n",
    "    \"\"\"Result {'biosample': {'tissue_id': ('tissue', 'id')}}\"\"\"\n",
    "    inspector = inspect(engine)\n",
    "\n",
    "    def _get_foreign_keys(table_name, inspector):\n",
    "        return {\n",
    "            column[\"constrained_columns\"][0]: (\n",
    "                column[\"referred_table\"],\n",
    "                column[\"referred_columns\"][0],\n",
    "            )\n",
    "            for column in inspector.get_foreign_keys(table_name)\n",
    "        }\n",
    "\n",
    "    foreign_keys = {}\n",
    "    for table_name in inspector.get_table_names():\n",
    "        foreign_keys_table = _get_foreign_keys(table_name, inspector)\n",
    "        if len(foreign_keys_table) > 0:\n",
    "            foreign_keys[table_name] = foreign_keys_table\n",
    "\n",
    "    return foreign_keys\n",
    "\n",
    "\n",
    "def _backpopulate_foreign_keys(foreign_keys):\n",
    "    \"\"\"Result {'tissue': {'id': {'biosample': 'tissue_id'}}}\"\"\"\n",
    "\n",
    "    foreign_keys_backpop = {}\n",
    "\n",
    "    for module_name, keys in foreign_keys.items():\n",
    "        for key, (module, ref_key) in keys.items():\n",
    "            if foreign_keys_backpop.get(module) is None:\n",
    "                foreign_keys_backpop[module] = {}\n",
    "            if foreign_keys_backpop[module].get(ref_key) is None:\n",
    "                foreign_keys_backpop[module][ref_key] = {}\n",
    "            foreign_keys_backpop[module][ref_key][module_name] = key\n",
    "\n",
    "    return foreign_keys_backpop\n",
    "\n",
    "\n",
    "def _get_meta_table_results(\n",
    "    entity_name, link_tables, foreign_keys_backpop, **entity_kwargs\n",
    "):\n",
    "    results = getattr(ln.db.query, entity_name)(**entity_kwargs)\n",
    "    results_ids = [i.id for i in results]\n",
    "    module_name = entity_name\n",
    "    while module_name not in link_tables:\n",
    "        if \"id\" not in foreign_keys_backpop[module_name]:\n",
    "            return results\n",
    "        parents = foreign_keys_backpop[module_name][\"id\"]\n",
    "        for table_name, table_ref_id in parents.items():\n",
    "            results = []\n",
    "            for result_id in results_ids:\n",
    "                results += getattr(ln.db.query, table_name)(**{table_ref_id: result_id})\n",
    "            if table_name not in link_tables:\n",
    "                results_ids = [i.id for i in results]\n",
    "        module_name = table_name\n",
    "    return results\n",
    "\n",
    "\n",
    "def query_dobject_from_metadata(entity_name, **entity_kwargs):\n",
    "    engine = settings.instance.db_engine()\n",
    "    foreign_keys = _get_all_foreign_keys(engine)\n",
    "    foreign_keys_backpop = _backpopulate_foreign_keys(foreign_keys)\n",
    "    link_tables = [i for i in ln.schema.list_entities() if i.startswith(\"dobject_\")]\n",
    "    meta_results = _get_meta_table_results(\n",
    "        entity_name=entity_name,\n",
    "        link_tables=link_tables,\n",
    "        foreign_keys_backpop=foreign_keys_backpop**entity_kwargs,\n",
    "    )\n",
    "    dobject_ids = set([dobject.dobject_id for dobject in meta_results])\n",
    "    if len(dobject_ids) > 0:\n",
    "        dobjects = []\n",
    "        for dobject_id in dobject_ids:\n",
    "            dobjects += ln.db.query.dobject(id=dobject_id)\n",
    "        return dobjects\n",
    "    return []"
   ]
  },
  {
   "cell_type": "code",
   "execution_count": null,
   "metadata": {},
   "outputs": [],
   "source": [
    "dobjects = query_dobject_from_metadata(entity_name=\"tissue\", ontology_id=\"CL:2000001\")"
   ]
  },
  {
   "cell_type": "code",
   "execution_count": null,
   "metadata": {},
   "outputs": [],
   "source": [
    "dobjects = query_dobject_from_metadata(entity_name=\"tissue\", ontology_id=\"CL:2000001\")"
   ]
  },
  {
   "cell_type": "markdown",
   "metadata": {},
   "source": [
    "## Collaborate on Lamin Hub"
   ]
  },
  {
   "cell_type": "code",
   "execution_count": null,
   "metadata": {},
   "outputs": [],
   "source": [
    "# ln.db.hub.push_instance()"
   ]
  },
  {
   "cell_type": "markdown",
   "metadata": {},
   "source": [
    "You can visualize your instance on Lamin Hub: https://lamin.ai/test-user2/instances"
   ]
  }
 ],
 "metadata": {
  "kernelspec": {
   "display_name": "Python 3.9.13 ('py39')",
   "language": "python",
   "name": "python3"
  },
  "language_info": {
   "codemirror_mode": {
    "name": "ipython",
    "version": 3
   },
   "file_extension": ".py",
   "mimetype": "text/x-python",
   "name": "python",
   "nbconvert_exporter": "python",
   "pygments_lexer": "ipython3",
   "version": "3.9.13"
  },
  "nbproject": {
   "id": "ZbOkNEck4fZR",
   "parent": null,
   "pypackage": null,
   "time_init": "2022-08-30T22:20:30.996102+00:00",
   "version": "draft"
  },
  "vscode": {
   "interpreter": {
    "hash": "ae1fefc8646a06dd2e75004cd934adda7c5727b046986a772e3b44b0ffba9754"
   }
  }
 },
 "nbformat": 4,
 "nbformat_minor": 2
}
