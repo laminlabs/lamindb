{
 "cells": [
  {
   "cell_type": "markdown",
   "metadata": {},
   "source": [
    "# Data provenance and hub"
   ]
  },
  {
   "cell_type": "code",
   "execution_count": null,
   "metadata": {},
   "outputs": [],
   "source": [
    "import lamindb as ln\n",
    "\n",
    "ln.nb.header()"
   ]
  },
  {
   "cell_type": "code",
   "execution_count": null,
   "metadata": {},
   "outputs": [],
   "source": [
    "!lndb login test-user1"
   ]
  },
  {
   "cell_type": "markdown",
   "metadata": {},
   "source": [
    "## Query data by biological entities\n",
    "\n",
    "You can query any fields of interest in the feature tables"
   ]
  },
  {
   "cell_type": "code",
   "execution_count": null,
   "metadata": {},
   "outputs": [],
   "source": [
    "dobjects = ln.db.query.dobject(\n",
    "    entity_name=\"cell_type\", entity_kwargs={\"name\": \"T cell\"}\n",
    ")\n",
    "dobjects"
   ]
  },
  {
   "cell_type": "code",
   "execution_count": null,
   "metadata": {},
   "outputs": [],
   "source": [
    "ln.db.query.dobject(entity_name=\"gene\", entity_kwargs={\"ncbi_gene_id\": 9535})"
   ]
  },
  {
   "cell_type": "code",
   "execution_count": null,
   "metadata": {},
   "outputs": [],
   "source": [
    "ln.db.query.dobject(entity_name=\"gene\", entity_kwargs={\"symbol\": \"IFNG\"})"
   ]
  },
  {
   "cell_type": "markdown",
   "id": "c6d07db2",
   "metadata": {},
   "source": [
    "## Data objects"
   ]
  },
  {
   "cell_type": "code",
   "execution_count": null,
   "id": "e248d23b-a810-4061-b20c-06189af1e990",
   "metadata": {},
   "outputs": [],
   "source": [
    "for entity in ln.schema.list_entities():\n",
    "    if hasattr(ln.schema.core, entity):\n",
    "        df = ln.db.query.table_as_df(entity)\n",
    "        if df.shape[0] > 0:\n",
    "            print(entity)\n",
    "            display(df)"
   ]
  },
  {
   "cell_type": "markdown",
   "id": "81327289-bc8f-49d9-bce6-849baa424b40",
   "metadata": {},
   "source": [
    "## Biological entities and wetlab"
   ]
  },
  {
   "cell_type": "code",
   "execution_count": null,
   "id": "7ef87c39-0140-4b30-8d69-07653e89b6fa",
   "metadata": {},
   "outputs": [],
   "source": [
    "for entity in ln.schema.list_entities():\n",
    "    if not hasattr(ln.schema.core, entity):\n",
    "        df = ln.db.query.table_as_df(entity)\n",
    "        if df.shape[0] > 0:\n",
    "            print(entity)\n",
    "            display(df)"
   ]
  },
  {
   "cell_type": "markdown",
   "metadata": {},
   "source": [
    "You can also query any sample level biological entities"
   ]
  },
  {
   "cell_type": "markdown",
   "metadata": {},
   "source": [
    "## Collaborate on Lamin Hub"
   ]
  },
  {
   "cell_type": "code",
   "execution_count": null,
   "metadata": {},
   "outputs": [],
   "source": [
    "# ln.db.hub.push_instance()"
   ]
  },
  {
   "cell_type": "markdown",
   "metadata": {},
   "source": [
    "You can visualize your instance on Lamin Hub: https://lamin.ai/test-user2/instances"
   ]
  }
 ],
 "metadata": {
  "kernelspec": {
   "display_name": "Python 3.9.13 ('py39')",
   "language": "python",
   "name": "python3"
  },
  "language_info": {
   "codemirror_mode": {
    "name": "ipython",
    "version": 3
   },
   "file_extension": ".py",
   "mimetype": "text/x-python",
   "name": "python",
   "nbconvert_exporter": "python",
   "pygments_lexer": "ipython3",
   "version": "3.9.13"
  },
  "nbproject": {
   "id": "ZbOkNEck4fZR",
   "parent": null,
   "pypackage": null,
   "time_init": "2022-08-30T22:20:30.996102+00:00",
   "version": "draft"
  },
  "vscode": {
   "interpreter": {
    "hash": "ae1fefc8646a06dd2e75004cd934adda7c5727b046986a772e3b44b0ffba9754"
   }
  }
 },
 "nbformat": 4,
 "nbformat_minor": 2
}
