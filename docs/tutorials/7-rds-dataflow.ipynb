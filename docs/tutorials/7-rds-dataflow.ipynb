{
 "cells": [
  {
   "cell_type": "markdown",
   "metadata": {},
   "source": [
    "# Data provenance and hub"
   ]
  },
  {
   "cell_type": "code",
   "execution_count": null,
   "metadata": {},
   "outputs": [],
   "source": [
    "import lamindb as ln\n",
    "\n",
    "ln.nb.header()"
   ]
  },
  {
   "cell_type": "code",
   "execution_count": null,
   "metadata": {},
   "outputs": [],
   "source": [
    "!lndb login test-user2"
   ]
  },
  {
   "cell_type": "markdown",
   "id": "c6d07db2",
   "metadata": {},
   "source": [
    "## Data objects"
   ]
  },
  {
   "cell_type": "code",
   "execution_count": null,
   "id": "e248d23b-a810-4061-b20c-06189af1e990",
   "metadata": {},
   "outputs": [],
   "source": [
    "for entity in ln.schema.list_entities():\n",
    "    if hasattr(ln.schema.core, entity):\n",
    "        df = ln.db.query.table_as_df(entity)\n",
    "        if df.shape[0] > 0:\n",
    "            print(entity)\n",
    "            display(df)"
   ]
  },
  {
   "cell_type": "markdown",
   "id": "81327289-bc8f-49d9-bce6-849baa424b40",
   "metadata": {},
   "source": [
    "## Biological entities and wetlab"
   ]
  },
  {
   "cell_type": "code",
   "execution_count": null,
   "id": "7ef87c39-0140-4b30-8d69-07653e89b6fa",
   "metadata": {},
   "outputs": [],
   "source": [
    "for entity in ln.schema.list_entities():\n",
    "    if not hasattr(ln.schema.core, entity):\n",
    "        df = ln.db.query.table_as_df(entity)\n",
    "        if df.shape[0] > 0:\n",
    "            print(entity)\n",
    "            display(df)"
   ]
  },
  {
   "cell_type": "markdown",
   "metadata": {},
   "source": [
    "## Collaborate on Lamin Hub"
   ]
  },
  {
   "cell_type": "code",
   "execution_count": null,
   "metadata": {},
   "outputs": [],
   "source": [
    "# ln.db.hub.push_instance()"
   ]
  },
  {
   "cell_type": "markdown",
   "metadata": {},
   "source": [
    "You can visualize your instance on Lamin Hub: https://lamin.ai/test-user2/instances"
   ]
  }
 ],
 "metadata": {
  "kernelspec": {
   "display_name": "Python 3.9.13 64-bit",
   "language": "python",
   "name": "python3"
  },
  "language_info": {
   "name": "python",
   "version": "3.9.13"
  },
  "nbproject": {
   "id": "ZbOkNEck4fZR",
   "parent": null,
   "pypackage": null,
   "time_init": "2022-08-30T22:20:30.996102+00:00",
   "version": "draft"
  },
  "vscode": {
   "interpreter": {
    "hash": "b0fa6594d8f4cbf19f97940f81e996739fb7646882a419484c72d19e05852a7e"
   }
  }
 },
 "nbformat": 4,
 "nbformat_minor": 2
}
