{
 "cells": [
  {
   "cell_type": "markdown",
   "id": "2a2dc282",
   "metadata": {},
   "source": [
    "# Ingest assay results"
   ]
  },
  {
   "cell_type": "code",
   "execution_count": null,
   "id": "e6c58025",
   "metadata": {},
   "outputs": [],
   "source": [
    "import lamindb as ln\n",
    "\n",
    "ln.nb.header()"
   ]
  },
  {
   "cell_type": "markdown",
   "id": "0b0a6a6d",
   "metadata": {},
   "source": [
    "`test-user1` just completed an experimental assay."
   ]
  },
  {
   "cell_type": "code",
   "execution_count": null,
   "id": "4bed36ad",
   "metadata": {},
   "outputs": [],
   "source": [
    "!lndb login test-user1"
   ]
  },
  {
   "cell_type": "markdown",
   "id": "999616cc",
   "metadata": {},
   "source": [
    "Let's ingest an assay result table into LaminDB."
   ]
  },
  {
   "cell_type": "code",
   "execution_count": null,
   "id": "6a522cb0",
   "metadata": {},
   "outputs": [],
   "source": [
    "filepath = ln.datasets.schmidt22_crispra_gws_IFNG()\n",
    "filepath"
   ]
  },
  {
   "cell_type": "code",
   "execution_count": null,
   "id": "868a219c",
   "metadata": {},
   "outputs": [],
   "source": [
    "ln.db.ingest.add(filepath)"
   ]
  },
  {
   "cell_type": "code",
   "execution_count": null,
   "id": "c8dbebe8",
   "metadata": {},
   "outputs": [],
   "source": [
    "ln.db.ingest.commit()"
   ]
  }
 ],
 "metadata": {
  "kernelspec": {
   "display_name": "Python 3.9.13 ('py39')",
   "language": "python",
   "name": "python3"
  },
  "language_info": {
   "codemirror_mode": {
    "name": "ipython",
    "version": 3
   },
   "file_extension": ".py",
   "mimetype": "text/x-python",
   "name": "python",
   "nbconvert_exporter": "python",
   "pygments_lexer": "ipython3",
   "version": "3.9.13"
  },
  "nbproject": {
   "id": "ddbsqoSJPFSJ",
   "parent": null,
   "pypackage": {
    "lamindb": "0.3.3"
   },
   "time_init": "2022-08-30T22:20:56.505044+00:00",
   "version": "5"
  },
  "vscode": {
   "interpreter": {
    "hash": "ae1fefc8646a06dd2e75004cd934adda7c5727b046986a772e3b44b0ffba9754"
   }
  }
 },
 "nbformat": 4,
 "nbformat_minor": 5
}
