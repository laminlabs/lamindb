{
 "cells": [
  {
   "cell_type": "markdown",
   "metadata": {},
   "source": [
    "# Conceive a project\n",
    "\n",
    "We use [Schmidt22](https://www.science.org/doi/10.1126/science.abj4008) as the project in this R&D team simulation."
   ]
  },
  {
   "cell_type": "code",
   "execution_count": null,
   "metadata": {},
   "outputs": [],
   "source": [
    "import lamindb as ln\n",
    "\n",
    "ln.nb.header()"
   ]
  },
  {
   "cell_type": "code",
   "execution_count": null,
   "metadata": {},
   "outputs": [],
   "source": [
    "!lndb login test-user1"
   ]
  },
  {
   "cell_type": "markdown",
   "metadata": {},
   "source": [
    "## Register project and experiment level metadata"
   ]
  },
  {
   "cell_type": "markdown",
   "metadata": {},
   "source": [
    "First we register a new project:"
   ]
  },
  {
   "cell_type": "code",
   "execution_count": null,
   "metadata": {},
   "outputs": [],
   "source": [
    "project_id = ln.db.insert.project(\n",
    "    name=(\n",
    "        \"CRISPR activation and interference screens decode stimulation responses in\"\n",
    "        \" primary human T cells\"\n",
    "    )\n",
    ")"
   ]
  },
  {
   "cell_type": "markdown",
   "metadata": {},
   "source": [
    "Nex, we register two experiment types:"
   ]
  },
  {
   "cell_type": "code",
   "execution_count": null,
   "metadata": {},
   "outputs": [],
   "source": [
    "exp_type1_id = ln.db.insert.experiment_type(efo_id=\"EFO:0030033\", name=\"gRNA-seq\")"
   ]
  },
  {
   "cell_type": "code",
   "execution_count": null,
   "metadata": {},
   "outputs": [],
   "source": [
    "exp_type2_id = ln.db.insert.experiment_type(efo_id=\"EFO:0008860\", name=\"Perturb-Seq\")"
   ]
  },
  {
   "cell_type": "markdown",
   "metadata": {},
   "source": [
    "Next, we register two experiments that will be performed:"
   ]
  },
  {
   "cell_type": "code",
   "execution_count": null,
   "metadata": {},
   "outputs": [],
   "source": [
    "experiment1_id = ln.db.insert.experiment(\n",
    "    name=(\n",
    "        \"Genome-wide CRISPRi screen for functional regulators of cytokine production in\"\n",
    "        \" response to stimulation\"\n",
    "    ),\n",
    "    project=project_id,\n",
    "    experiment_type_id=exp_type1_id,\n",
    ")"
   ]
  },
  {
   "cell_type": "code",
   "execution_count": null,
   "metadata": {},
   "outputs": [],
   "source": [
    "experiment2_id = ln.db.insert.experiment(\n",
    "    name=(\n",
    "        \"CRISPRa Perturb-seq for characterizing molecular phenotypes of cytokine\"\n",
    "        \" regulators\"\n",
    "    ),\n",
    "    project=project_id,\n",
    "    experiment_type_id=exp_type2_id,\n",
    ")"
   ]
  },
  {
   "cell_type": "markdown",
   "metadata": {},
   "source": [
    "Next, we register two types of readout that will be captured:"
   ]
  },
  {
   "cell_type": "code",
   "execution_count": null,
   "metadata": {},
   "outputs": [],
   "source": [
    "readout1_id = ln.db.insert.readout(efo_id=\"EFO:0003024\")"
   ]
  },
  {
   "cell_type": "code",
   "execution_count": null,
   "metadata": {},
   "outputs": [],
   "source": [
    "readout2_id = ln.db.insert.readout(efo_id=\"EFO:0008913\")"
   ]
  },
  {
   "cell_type": "code",
   "execution_count": null,
   "metadata": {},
   "outputs": [],
   "source": []
  }
 ],
 "metadata": {
  "kernelspec": {
   "display_name": "Python 3.9.13 ('py39')",
   "language": "python",
   "name": "python3"
  },
  "language_info": {
   "codemirror_mode": {
    "name": "ipython",
    "version": 3
   },
   "file_extension": ".py",
   "mimetype": "text/x-python",
   "name": "python",
   "nbconvert_exporter": "python",
   "pygments_lexer": "ipython3",
   "version": "3.9.13"
  },
  "nbproject": {
   "id": "EaV5nMPphdXc",
   "parent": null,
   "pypackage": null,
   "time_init": "2022-08-30T14:05:11.114797+00:00",
   "version": "draft"
  },
  "vscode": {
   "interpreter": {
    "hash": "ae1fefc8646a06dd2e75004cd934adda7c5727b046986a772e3b44b0ffba9754"
   }
  }
 },
 "nbformat": 4,
 "nbformat_minor": 2
}
