{
 "cells": [
  {
   "cell_type": "markdown",
   "id": "26c85a17-7ed3-4857-8bdc-6d4f724be815",
   "metadata": {},
   "source": [
    "# Share data cross organizations"
   ]
  },
  {
   "cell_type": "markdown",
   "id": "ce442290-2128-497e-9ff7-0f6bbae35c52",
   "metadata": {},
   "source": [
    "Here, we show how to share data across organizations."
   ]
  },
  {
   "cell_type": "code",
   "execution_count": null,
   "id": "092d411d",
   "metadata": {
    "tags": []
   },
   "outputs": [],
   "source": [
    "import lamindb as ln\n",
    "\n",
    "ln.nb.header()"
   ]
  },
  {
   "cell_type": "markdown",
   "id": "a0582ea2",
   "metadata": {},
   "source": [
    "Share the entire LaminDB instance on the hub."
   ]
  },
  {
   "cell_type": "code",
   "execution_count": null,
   "id": "75a86d08",
   "metadata": {},
   "outputs": [],
   "source": [
    "# ln.db.hub.push_instance()"
   ]
  },
  {
   "cell_type": "markdown",
   "id": "c1c24bbb-6a7d-42f2-b9ef-d75ec3d0cf76",
   "metadata": {},
   "source": [
    "You can now access the data through a user or organization profile.\n",
    "\n",
    "In this case at [lamin.ai/test-user2](https://hub.lamin.ai/test-user2)."
   ]
  },
  {
   "cell_type": "code",
   "execution_count": null,
   "id": "48411e62",
   "metadata": {
    "tags": [
     "hide-cell"
    ]
   },
   "outputs": [],
   "source": [
    "# ln.db.hub.delete_instance()"
   ]
  },
  {
   "cell_type": "markdown",
   "id": "f316cb33",
   "metadata": {},
   "source": [
    "Share a single dobject on the hub."
   ]
  },
  {
   "cell_type": "code",
   "execution_count": null,
   "id": "c19c693d",
   "metadata": {},
   "outputs": [],
   "source": [
    "id, v = ln.db.query.table_as_df(\"dobject\").index[0]"
   ]
  },
  {
   "cell_type": "code",
   "execution_count": null,
   "id": "df9a6c7d",
   "metadata": {
    "tags": [
     "hide-cell"
    ]
   },
   "outputs": [],
   "source": [
    "# ln.db.hub.push_dobject(id, v)"
   ]
  },
  {
   "cell_type": "code",
   "execution_count": null,
   "id": "309f14b2",
   "metadata": {
    "tags": [
     "hide-cell"
    ]
   },
   "outputs": [],
   "source": [
    "# ln.db.hub.delete_instance()"
   ]
  }
 ],
 "metadata": {
  "kernelspec": {
   "display_name": "Python 3.9.13 64-bit",
   "language": "python",
   "name": "python3"
  },
  "language_info": {
   "codemirror_mode": {
    "name": "ipython",
    "version": 3
   },
   "file_extension": ".py",
   "mimetype": "text/x-python",
   "name": "python",
   "nbconvert_exporter": "python",
   "pygments_lexer": "ipython3",
   "version": "3.9.13"
  },
  "nbproject": {
   "id": "q37QSSHoErne",
   "parent": null,
   "pypackage": null,
   "time_init": "2022-08-02T12:11:13.530014+00:00",
   "version": "draft"
  },
  "vscode": {
   "interpreter": {
    "hash": "b0fa6594d8f4cbf19f97940f81e996739fb7646882a419484c72d19e05852a7e"
   }
  }
 },
 "nbformat": 4,
 "nbformat_minor": 5
}
