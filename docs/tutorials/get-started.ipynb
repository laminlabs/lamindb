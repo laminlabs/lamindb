{
 "cells": [
  {
   "cell_type": "markdown",
   "id": "2ea9fd55-0f27-4777-8a9c-f9a353fc6bc5",
   "metadata": {
    "tags": []
   },
   "source": [
    "# Get started"
   ]
  },
  {
   "cell_type": "markdown",
   "id": "5814da34-bd05-4f8a-a2dd-a060e153cabe",
   "metadata": {},
   "source": [
    "LaminDB is a distributed data management system similar to how git is a distributed version control system.\n",
    "\n",
    "Just like you work with repositories in git, you work with <ins>instances</ins> in LaminDB.\n",
    "However, unlike git (and dvc), LaminDB is queryable by metadata.\n",
    "\n",
    "An instance is a data warehouse with storage (local directory, S3, GCP, Azure) and a SQL database (SQLite, Postgres, BigQuery) for querying it."
   ]
  },
  {
   "cell_type": "markdown",
   "id": "1bb0d102-41ef-408a-894f-6093526ce9a2",
   "metadata": {},
   "source": [
    "## Set up a user identity"
   ]
  },
  {
   "cell_type": "markdown",
   "id": "fe300c6d-0f48-47a1-ab4d-3e638eeb0835",
   "metadata": {},
   "source": [
    "As a first-time user, you sign up an email to enable collaborating with a user identity that LaminDB can link to data & analyses.\n",
    "\n",
    "You can sign up either on the command line via `lndb signup --email <your-email>` or via [hub.lamin.ai](https://hub.lamin.ai). Use your GitHub-associated email if you have one. For example:\n",
    "\n",
    "    !lndb signup --email \"raspbear@gmx.de\"\n",
    "\n",
    "    ℹ️ Please *confirm* the sign-up email. After that, proceed to `lndb init`!\n",
    "\n",
    "    Generated login secret: MmR4YuQEyb0yxu7dAwJZTjLzR1Az2lN4Q4IduDlO.\n",
    "    Email & secret persist in: /Users/falexwolf/.lndb/current_user.env.\n",
    "    Going forward, credentials are auto-loaded. In case of loss, you can always recover your secret via email."
   ]
  },
  {
   "cell_type": "markdown",
   "id": "51635528-dfc1-422b-93d7-a106c0f7d44b",
   "metadata": {},
   "source": [
    "After confirming the sign-up email, you can initialize your first instance immediately via `lndb init`."
   ]
  },
  {
   "cell_type": "markdown",
   "id": "29de5a67-cd6d-4642-8fb1-e9e19848fcbf",
   "metadata": {},
   "source": [
    "## Log in user"
   ]
  },
  {
   "cell_type": "markdown",
   "id": "dac167ca-8e17-4469-a56a-6101d1189fbe",
   "metadata": {},
   "source": [
    "In case `raspbear@gmx.de` already completed the sign-up but has not yet logged into LaminDB in the present compute environment, call"
   ]
  },
  {
   "cell_type": "code",
   "execution_count": 1,
   "id": "57e6302d-988f-4bc5-afa2-66770c130fb3",
   "metadata": {},
   "outputs": [],
   "source": [
    "!lndb login --email \"raspbear@gmx.de\" --secret \"MmR4YuQEyb0yxu7dAwJZTjLzR1Az2lN4Q4IduDlO\""
   ]
  },
  {
   "cell_type": "markdown",
   "id": "dd470e9f-835e-469b-9ec1-bc3e60a3c902",
   "metadata": {},
   "source": [
    "## Initialize and configure an instance"
   ]
  },
  {
   "cell_type": "markdown",
   "id": "f0a291e7-9a27-42f7-8a74-f8ea6deefecb",
   "metadata": {},
   "source": [
    "For a simple demo project, let us configure a local instance with storage in `mydata/` and a local SQlite database for managing it.\n",
    "\n",
    "You can also directly pass `s3://my-bucket` to `--storage` or a postgres URL to `--dbconfig`."
   ]
  },
  {
   "cell_type": "code",
   "execution_count": 2,
   "id": "42e81ba0-520b-4abb-92b3-a80f18a90924",
   "metadata": {},
   "outputs": [
    {
     "name": "stdout",
     "output_type": "stream",
     "text": [
      "ℹ️ Loading schema modules: core, bionty, wetlab.\n",
      "ℹ️ Created instance mydata: mydata/mydata.lndb\n"
     ]
    }
   ],
   "source": [
    "!lndb init --storage mydata --schema bionty,wetlab  # a generic biology schema module based on bionty and wetlab"
   ]
  },
  {
   "cell_type": "markdown",
   "id": "99aac965-03bf-4363-9649-c15ec90029b8",
   "metadata": {},
   "source": [
    "The instance configuration will persist in `/Users/falexwolf/.lndb/current_instance.env`, all instance data is in `mydata` with all metadata in the SQLite file `mydata.lndb`."
   ]
  },
  {
   "cell_type": "markdown",
   "id": "f1af9ea1-be73-4bdb-8f5a-529a7c2da9dc",
   "metadata": {
    "tags": []
   },
   "source": [
    "## Ingest data"
   ]
  },
  {
   "cell_type": "code",
   "execution_count": 3,
   "id": "56ac9d46-cd5d-4f32-87b6-dbe84d7f64ca",
   "metadata": {},
   "outputs": [
    {
     "data": {
      "text/html": [
       "<table><tbody><tr><td style='text-align: left;'><b>id</b></td><td style='text-align: left;'>GgD4<span style='opacity:0.3'>VJbXtOOS</span></td></tr><tr><td style='text-align: left;'><b>version</b></td><td style='text-align: left;'>draft</td></tr><tr><td style='text-align: left;'><b>time_init</b></td><td style='text-align: left;'>2022-06-23 14:16</td></tr><tr><td style='text-align: left;'><b>time_run</b></td><td style='text-align: left;'>2022-07-31 11:24</td></tr><tr><td style='text-align: left;'><b>pypackage</b></td><td style='text-align: left;'>lamindb==0.1.2 scikit-learn==1.1.1</td></tr></tbody></table>"
      ],
      "text/plain": [
       "<IPython.core.display.HTML object>"
      ]
     },
     "metadata": {},
     "output_type": "display_data"
    }
   ],
   "source": [
    "import lamindb as db\n",
    "import sklearn.datasets\n",
    "\n",
    "db.header()  # this is nbproject.header()"
   ]
  },
  {
   "cell_type": "markdown",
   "id": "897b54c0-9bb1-49e1-b63a-08b1413df2a1",
   "metadata": {},
   "source": [
    "For the sake of demonstrating ingesting data that is merely queryable by provenance, let us choose data that has little semantic meaning in the context of modern biology.\n",
    "\n",
    "The `iris` dataset stores phenotypes of flowers in form of sepal & petal sizes, which we do not aim to query for in the present tutorial.\n",
    "See this [Wikipedia article](https://en.wikipedia.org/wiki/Iris_flower_data_set) for more information."
   ]
  },
  {
   "cell_type": "code",
   "execution_count": 4,
   "id": "aa34b8e5-1c1e-47ef-994e-04b96453d3ee",
   "metadata": {},
   "outputs": [],
   "source": [
    "sklearn.datasets.load_iris(as_frame=True).frame.to_csv(\"iris.csv\")"
   ]
  },
  {
   "cell_type": "markdown",
   "id": "6ef6becf",
   "metadata": {},
   "source": [
    "Add the file to the to-be-ingested list"
   ]
  },
  {
   "cell_type": "code",
   "execution_count": 5,
   "id": "475d473f",
   "metadata": {},
   "outputs": [],
   "source": [
    "db.do.ingest.add(\"iris.csv\")"
   ]
  },
  {
   "cell_type": "markdown",
   "id": "2baa6506",
   "metadata": {},
   "source": [
    "Check the to-be-ingested list with assigned dobject ids and versions (here, version '1' of this data object):"
   ]
  },
  {
   "cell_type": "code",
   "execution_count": 6,
   "id": "44038a6e",
   "metadata": {},
   "outputs": [
    {
     "data": {
      "text/plain": [
       "{PosixPath('iris.csv'): ('FQs038cEXiYpuEniYoxuj', '1')}"
      ]
     },
     "execution_count": 6,
     "metadata": {},
     "output_type": "execute_result"
    }
   ],
   "source": [
    "db.do.ingest.status"
   ]
  },
  {
   "cell_type": "markdown",
   "id": "c288ebb6-ff56-43b1-bfca-0e710ce2c2f4",
   "metadata": {},
   "source": [
    "Let's ingest the file via:"
   ]
  },
  {
   "cell_type": "code",
   "execution_count": null,
   "id": "6b36d18b-c735-46fc-aaca-be0e96aac2fd",
   "metadata": {},
   "outputs": [],
   "source": [
    "db.do.ingest.commit()"
   ]
  }
 ],
 "metadata": {
  "kernelspec": {
   "display_name": "Python 3 (ipykernel)",
   "language": "python",
   "name": "python3"
  },
  "language_info": {
   "codemirror_mode": {
    "name": "ipython",
    "version": 3
   },
   "file_extension": ".py",
   "mimetype": "text/x-python",
   "name": "python",
   "nbconvert_exporter": "python",
   "pygments_lexer": "ipython3",
   "version": "3.9.12"
  },
  "nbproject": {
   "dependency": {
    "lamindb": "0.0.7",
    "nbproject": "0.1.5",
    "scanpy": "1.9.1"
   },
   "id": "GgD4VJbXtOOS",
   "time_init": "2022-06-23T14:16:50.755200+00:00",
   "version": "draft"
  },
  "vscode": {
   "interpreter": {
    "hash": "2775e555cdc2d728c54aa22130c79afb1fa4da64f22f2fc6dcc2aa346c4e0672"
   }
  }
 },
 "nbformat": 4,
 "nbformat_minor": 5
}
