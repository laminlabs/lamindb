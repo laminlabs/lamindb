{
 "cells": [
  {
   "cell_type": "markdown",
   "id": "2ea9fd55-0f27-4777-8a9c-f9a353fc6bc5",
   "metadata": {
    "tags": []
   },
   "source": [
    "# Get started"
   ]
  },
  {
   "cell_type": "markdown",
   "id": "5814da34-bd05-4f8a-a2dd-a060e153cabe",
   "metadata": {},
   "source": [
    "LaminDB is a distributed data management system similar to how git is a distributed version control system.\n",
    "\n",
    "Just like you work with repositories in git, you work with <ins>instances</ins> in LaminDB.\n",
    "However, unlike git (and dvc), LaminDB is queryable by metadata.\n",
    "\n",
    "An instance is a data warehouse with storage (local directory, S3, GCP, Azure) and a SQL database (SQLite, Postgres, BigQuery) for querying it."
   ]
  },
  {
   "cell_type": "markdown",
   "id": "1bb0d102-41ef-408a-894f-6093526ce9a2",
   "metadata": {},
   "source": [
    "## Sign up"
   ]
  },
  {
   "cell_type": "markdown",
   "id": "fe300c6d-0f48-47a1-ab4d-3e638eeb0835",
   "metadata": {},
   "source": [
    "As a first-time user, sign up your email so that LaminDB can link you to data & analyses.\n",
    "\n",
    "On the command line, run `lndb signup <email> <handle>`. For example: `lndb signup raspbear@gmx.de test-user1`.[^github]\n",
    "\n",
    "[^github]: Consider using your GitHub-associated email if you have one!"
   ]
  },
  {
   "cell_type": "markdown",
   "id": "29de5a67-cd6d-4642-8fb1-e9e19848fcbf",
   "metadata": {},
   "source": [
    "## Log in"
   ]
  },
  {
   "cell_type": "markdown",
   "id": "dac167ca-8e17-4469-a56a-6101d1189fbe",
   "metadata": {},
   "source": [
    "After confirming the signup email, you can login with your handle (or email) on the command line:"
   ]
  },
  {
   "cell_type": "code",
   "execution_count": 1,
   "id": "57e6302d-988f-4bc5-afa2-66770c130fb3",
   "metadata": {},
   "outputs": [],
   "source": [
    "!lndb login test-user1"
   ]
  },
  {
   "cell_type": "markdown",
   "id": "dd470e9f-835e-469b-9ec1-bc3e60a3c902",
   "metadata": {},
   "source": [
    "## Initialize and configure an instance"
   ]
  },
  {
   "cell_type": "markdown",
   "id": "f0a291e7-9a27-42f7-8a74-f8ea6deefecb",
   "metadata": {},
   "source": [
    "For a simple demo project, let us configure a local instance with storage in `mydata/` and a local SQlite database for managing it.\n",
    "\n",
    "You can also directly pass `s3://my-bucket` to `--storage` or a postgres URL to `--db`."
   ]
  },
  {
   "cell_type": "code",
   "execution_count": 2,
   "id": "42e81ba0-520b-4abb-92b3-a80f18a90924",
   "metadata": {},
   "outputs": [
    {
     "name": "stdout",
     "output_type": "stream",
     "text": [
      "ℹ️ Using instance: mydata/mydata.lndb\n"
     ]
    }
   ],
   "source": [
    "!lndb init --storage mydata --schema bionty,wetlab  # a generic biology schema module based on bionty and wetlab"
   ]
  },
  {
   "cell_type": "markdown",
   "id": "99aac965-03bf-4363-9649-c15ec90029b8",
   "metadata": {},
   "source": [
    "The instance settings will persist in `~/.lndb/instance-mydata.env`.\n",
    "All instance data is in `mydata`, and all metadata in the SQLite file `mydata.lndb`."
   ]
  },
  {
   "cell_type": "markdown",
   "id": "f1af9ea1-be73-4bdb-8f5a-529a7c2da9dc",
   "metadata": {
    "tags": []
   },
   "source": [
    "## Ingest data"
   ]
  },
  {
   "cell_type": "code",
   "execution_count": 3,
   "id": "56ac9d46-cd5d-4f32-87b6-dbe84d7f64ca",
   "metadata": {},
   "outputs": [
    {
     "name": "stderr",
     "output_type": "stream",
     "text": [
      "2022-08-01 13:21:41,766:INFO - Note: NumExpr detected 10 cores but \"NUMEXPR_MAX_THREADS\" not set, so enforcing safe limit of 8.\n",
      "2022-08-01 13:21:41,767:INFO - NumExpr defaulting to 8 threads.\n"
     ]
    },
    {
     "data": {
      "text/html": [
       "<table><tbody><tr><td style='text-align: left;'><b>id</b></td><td style='text-align: left;'>GgD4<span style='opacity:0.3'>VJbXtOOS</span></td></tr><tr><td style='text-align: left;'><b>version</b></td><td style='text-align: left;'>draft</td></tr><tr><td style='text-align: left;'><b>time_init</b></td><td style='text-align: left;'>2022-06-23 14:16</td></tr><tr><td style='text-align: left;'><b>time_run</b></td><td style='text-align: left;'>2022-08-01 05:21</td></tr><tr><td style='text-align: left;'><b>pypackage</b></td><td style='text-align: left;'>lamindb==0.1.2 scikit-learn==1.1.1</td></tr></tbody></table>"
      ],
      "text/plain": [
       "<IPython.core.display.HTML object>"
      ]
     },
     "metadata": {},
     "output_type": "display_data"
    }
   ],
   "source": [
    "import lamindb as db\n",
    "import sklearn.datasets\n",
    "\n",
    "db.header()  # this is nbproject.header()"
   ]
  },
  {
   "cell_type": "markdown",
   "id": "897b54c0-9bb1-49e1-b63a-08b1413df2a1",
   "metadata": {},
   "source": [
    "For the sake of demonstrating ingesting data that is merely queryable by provenance, let us choose data that has little semantic meaning in the context of modern biology.\n",
    "\n",
    "The `iris` dataset stores phenotypes of flowers in form of [sepal & petal sizes](https://en.wikipedia.org/wiki/Iris_flower_data_set), which we do not aim to query for in the present tutorial."
   ]
  },
  {
   "cell_type": "code",
   "execution_count": 4,
   "id": "aa34b8e5-1c1e-47ef-994e-04b96453d3ee",
   "metadata": {},
   "outputs": [
    {
     "data": {
      "text/html": [
       "<div>\n",
       "<style scoped>\n",
       "    .dataframe tbody tr th:only-of-type {\n",
       "        vertical-align: middle;\n",
       "    }\n",
       "\n",
       "    .dataframe tbody tr th {\n",
       "        vertical-align: top;\n",
       "    }\n",
       "\n",
       "    .dataframe thead th {\n",
       "        text-align: right;\n",
       "    }\n",
       "</style>\n",
       "<table border=\"1\" class=\"dataframe\">\n",
       "  <thead>\n",
       "    <tr style=\"text-align: right;\">\n",
       "      <th></th>\n",
       "      <th>sepal length (cm)</th>\n",
       "      <th>sepal width (cm)</th>\n",
       "      <th>petal length (cm)</th>\n",
       "      <th>petal width (cm)</th>\n",
       "      <th>target</th>\n",
       "    </tr>\n",
       "  </thead>\n",
       "  <tbody>\n",
       "    <tr>\n",
       "      <th>0</th>\n",
       "      <td>5.1</td>\n",
       "      <td>3.5</td>\n",
       "      <td>1.4</td>\n",
       "      <td>0.2</td>\n",
       "      <td>0</td>\n",
       "    </tr>\n",
       "    <tr>\n",
       "      <th>1</th>\n",
       "      <td>4.9</td>\n",
       "      <td>3.0</td>\n",
       "      <td>1.4</td>\n",
       "      <td>0.2</td>\n",
       "      <td>0</td>\n",
       "    </tr>\n",
       "    <tr>\n",
       "      <th>2</th>\n",
       "      <td>4.7</td>\n",
       "      <td>3.2</td>\n",
       "      <td>1.3</td>\n",
       "      <td>0.2</td>\n",
       "      <td>0</td>\n",
       "    </tr>\n",
       "    <tr>\n",
       "      <th>3</th>\n",
       "      <td>4.6</td>\n",
       "      <td>3.1</td>\n",
       "      <td>1.5</td>\n",
       "      <td>0.2</td>\n",
       "      <td>0</td>\n",
       "    </tr>\n",
       "    <tr>\n",
       "      <th>4</th>\n",
       "      <td>5.0</td>\n",
       "      <td>3.6</td>\n",
       "      <td>1.4</td>\n",
       "      <td>0.2</td>\n",
       "      <td>0</td>\n",
       "    </tr>\n",
       "  </tbody>\n",
       "</table>\n",
       "</div>"
      ],
      "text/plain": [
       "   sepal length (cm)  sepal width (cm)  petal length (cm)  petal width (cm)  \\\n",
       "0                5.1               3.5                1.4               0.2   \n",
       "1                4.9               3.0                1.4               0.2   \n",
       "2                4.7               3.2                1.3               0.2   \n",
       "3                4.6               3.1                1.5               0.2   \n",
       "4                5.0               3.6                1.4               0.2   \n",
       "\n",
       "   target  \n",
       "0       0  \n",
       "1       0  \n",
       "2       0  \n",
       "3       0  \n",
       "4       0  "
      ]
     },
     "execution_count": 4,
     "metadata": {},
     "output_type": "execute_result"
    }
   ],
   "source": [
    "df = sklearn.datasets.load_iris(as_frame=True).frame\n",
    "df.head()"
   ]
  },
  {
   "cell_type": "code",
   "execution_count": 5,
   "id": "475d473f",
   "metadata": {},
   "outputs": [],
   "source": [
    "db.do.ingest.add(df, name=\"iris\")"
   ]
  },
  {
   "cell_type": "markdown",
   "id": "2baa6506",
   "metadata": {},
   "source": [
    "Check the to-be-ingested list with assigned dobject ids and versions (here, version '1' of this data object):"
   ]
  },
  {
   "cell_type": "code",
   "execution_count": 6,
   "id": "44038a6e",
   "metadata": {},
   "outputs": [
    {
     "data": {
      "text/plain": [
       "{'iris.feather': ('jBs8hyAxxsumljmLiHPex', '1')}"
      ]
     },
     "execution_count": 6,
     "metadata": {},
     "output_type": "execute_result"
    }
   ],
   "source": [
    "db.do.ingest.status"
   ]
  },
  {
   "cell_type": "markdown",
   "id": "c288ebb6-ff56-43b1-bfca-0e710ce2c2f4",
   "metadata": {},
   "source": [
    "We now need to complete the ingestion via:"
   ]
  },
  {
   "cell_type": "code",
   "execution_count": 7,
   "id": "6b36d18b-c735-46fc-aaca-be0e96aac2fd",
   "metadata": {},
   "outputs": [
    {
     "name": "stdout",
     "output_type": "stream",
     "text": [
      "ℹ️ Added notebook 'Get started' (GgD4VJbXtOOS, 1) by user raspbear@gmx.de (9ypQ1yrW).\n",
      "✅ Ingested the following dobjects:\n",
      "+-----------------------------------------+---------------------------------+----------------------------+\n",
      "|                 \u001b[1;92mdobject\u001b[0m                 |             \u001b[1;94mjupynb\u001b[0m              |            \u001b[1;95muser\u001b[0m            |\n",
      "+-----------------------------------------+---------------------------------+----------------------------+\n",
      "| iris.feather (jBs8hyAxxsumljmLiHPex, 1) | 'Get started' (GgD4VJbXtOOS, 1) | raspbear@gmx.de (9ypQ1yrW) |\n",
      "+-----------------------------------------+---------------------------------+----------------------------+\n"
     ]
    },
    {
     "ename": "RuntimeError",
     "evalue": "Make sure you save the notebook in your editor before publishing!\nYou can avoid the need for manually saving in Jupyter Lab, which auto-saves the buffer during publish.",
     "output_type": "error",
     "traceback": [
      "\u001b[0;31m---------------------------------------------------------------------------\u001b[0m",
      "\u001b[0;31mRuntimeError\u001b[0m                              Traceback (most recent call last)",
      "\u001b[1;32m/Users/sunnysun/Documents/repos/lamindb/docs/tutorials/get-started.ipynb Cell 21\u001b[0m in \u001b[0;36m<cell line: 1>\u001b[0;34m()\u001b[0m\n\u001b[0;32m----> <a href='vscode-notebook-cell:/Users/sunnysun/Documents/repos/lamindb/docs/tutorials/get-started.ipynb#ch0000020?line=0'>1</a>\u001b[0m db\u001b[39m.\u001b[39;49mdo\u001b[39m.\u001b[39;49mingest\u001b[39m.\u001b[39;49mcommit()\n",
      "File \u001b[0;32m~/Documents/repos/lamindb/lamindb/do/_ingest.py:195\u001b[0m, in \u001b[0;36mIngest.commit\u001b[0;34m(self, jupynb_v)\u001b[0m\n\u001b[1;32m    184\u001b[0m log_table \u001b[39m=\u001b[39m tabulate(\n\u001b[1;32m    185\u001b[0m     logs,\n\u001b[1;32m    186\u001b[0m     headers\u001b[39m=\u001b[39m[\n\u001b[0;32m   (...)\u001b[0m\n\u001b[1;32m    191\u001b[0m     tablefmt\u001b[39m=\u001b[39m\u001b[39m\"\u001b[39m\u001b[39mpretty\u001b[39m\u001b[39m\"\u001b[39m,\n\u001b[1;32m    192\u001b[0m )\n\u001b[1;32m    193\u001b[0m logger\u001b[39m.\u001b[39msuccess(\u001b[39mf\u001b[39m\u001b[39m\"\u001b[39m\u001b[39mIngested the following dobjects:\u001b[39m\u001b[39m\\n\u001b[39;00m\u001b[39m{\u001b[39;00mlog_table\u001b[39m}\u001b[39;00m\u001b[39m\"\u001b[39m)\n\u001b[0;32m--> 195\u001b[0m publish(calling_statement\u001b[39m=\u001b[39;49m\u001b[39m\"\u001b[39;49m\u001b[39mcommit(\u001b[39;49m\u001b[39m\"\u001b[39;49m)\n",
      "File \u001b[0;32m~/Documents/repos/nbproject/nbproject/_publish.py:61\u001b[0m, in \u001b[0;36mpublish\u001b[0;34m(version, i_confirm_i_saved, **kwargs)\u001b[0m\n\u001b[1;32m     59\u001b[0m         \u001b[39mpass\u001b[39;00m\n\u001b[1;32m     60\u001b[0m     \u001b[39melif\u001b[39;00m \u001b[39mnot\u001b[39;00m i_confirm_i_saved:\n\u001b[0;32m---> 61\u001b[0m         \u001b[39mraise\u001b[39;00m \u001b[39mRuntimeError\u001b[39;00m(\n\u001b[1;32m     62\u001b[0m             \u001b[39m\"\u001b[39m\u001b[39mMake sure you save the notebook in your editor before publishing!\u001b[39m\u001b[39m\\n\u001b[39;00m\u001b[39m\"\u001b[39m\n\u001b[1;32m     63\u001b[0m             \u001b[39m\"\u001b[39m\u001b[39mYou can avoid the need for manually saving in Jupyter Lab, which auto-saves the buffer during publish.\u001b[39m\u001b[39m\"\u001b[39m  \u001b[39m# noqa\u001b[39;00m\n\u001b[1;32m     64\u001b[0m         )\n\u001b[1;32m     66\u001b[0m nb \u001b[39m=\u001b[39m read_notebook(meta\u001b[39m.\u001b[39m_filepath)  \u001b[39m# type: ignore\u001b[39;00m\n\u001b[1;32m     67\u001b[0m \u001b[39mif\u001b[39;00m \u001b[39mnot\u001b[39;00m check_last_cell(nb, calling_statement):\n",
      "\u001b[0;31mRuntimeError\u001b[0m: Make sure you save the notebook in your editor before publishing!\nYou can avoid the need for manually saving in Jupyter Lab, which auto-saves the buffer during publish."
     ]
    }
   ],
   "source": [
    "db.do.ingest.commit()"
   ]
  },
  {
   "cell_type": "markdown",
   "id": "27ea0197",
   "metadata": {},
   "source": [
    "What is a [dobject](https://lamin.ai/docs/lndb-schema-core/lndb_schema_core.dobject)?"
   ]
  }
 ],
 "metadata": {
  "kernelspec": {
   "display_name": "Python 3.9.12 ('base1')",
   "language": "python",
   "name": "python3"
  },
  "language_info": {
   "codemirror_mode": {
    "name": "ipython",
    "version": 3
   },
   "file_extension": ".py",
   "mimetype": "text/x-python",
   "name": "python",
   "nbconvert_exporter": "python",
   "pygments_lexer": "ipython3",
   "version": "3.9.12"
  },
  "nbproject": {
   "dependency": {
    "lamindb": "0.0.7",
    "nbproject": "0.1.5",
    "scanpy": "1.9.1"
   },
   "id": "GgD4VJbXtOOS",
   "time_init": "2022-06-23T14:16:50.755200+00:00",
   "version": "draft"
  },
  "vscode": {
   "interpreter": {
    "hash": "2775e555cdc2d728c54aa22130c79afb1fa4da64f22f2fc6dcc2aa346c4e0672"
   }
  }
 },
 "nbformat": 4,
 "nbformat_minor": 5
}
