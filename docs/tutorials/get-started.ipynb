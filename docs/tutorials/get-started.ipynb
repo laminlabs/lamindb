{
 "cells": [
  {
   "cell_type": "markdown",
   "id": "2ea9fd55-0f27-4777-8a9c-f9a353fc6bc5",
   "metadata": {
    "tags": []
   },
   "source": [
    "# Get started"
   ]
  },
  {
   "cell_type": "markdown",
   "id": "5814da34-bd05-4f8a-a2dd-a060e153cabe",
   "metadata": {},
   "source": [
    "One way to think about LaminDB is as queryable version of git for data.\n",
    "\n",
    "```{note}\n",
    "\n",
    "Similar to how you work with _repositories_ in git, you work with _instances_ in LaminDB.\n",
    "\n",
    "A LaminDB instance is a data warehouse that makes storage of large-scale data queryable, managing both the storage location for data and a SQL database for querying it.\n",
    "\n",
    "- Storage locations can be either local directories or cloud object stores (S3, GCP)\n",
    "- Databases can be either sqlite or Postgres\n",
    "\n",
    "```"
   ]
  },
  {
   "cell_type": "markdown",
   "id": "b4bcfa79-3ddf-4d93-8e59-6187a37cc87a",
   "metadata": {},
   "source": [
    "To get started, we'll simply manage a local directory with sqlite!"
   ]
  },
  {
   "cell_type": "code",
   "execution_count": null,
   "id": "56ac9d46-cd5d-4f32-87b6-dbe84d7f64ca",
   "metadata": {},
   "outputs": [],
   "source": [
    "from nbproject import header\n",
    "from lamindb.do import ingest\n",
    "import scanpy as sc\n",
    "\n",
    "header()"
   ]
  },
  {
   "cell_type": "markdown",
   "id": "1bb0d102-41ef-408a-894f-6093526ce9a2",
   "metadata": {},
   "source": [
    "## Set up your LaminDB instance"
   ]
  },
  {
   "cell_type": "markdown",
   "id": "fe300c6d-0f48-47a1-ab4d-3e638eeb0835",
   "metadata": {},
   "source": [
    "```{important}\n",
    "\n",
    "As a first time user, you need to sign up your email in the cloud. This ensure you have an unambiguous user identity across instances and enables collaboration in the cloud, similar to GitHub, HuggingFace, Benchling, and other platforms.\n",
    "\n",
    "You sign up on the command line via `lndb signup --email <your-email>`, for example:\n",
    "\n",
    "    $lndb signup --email \"raspbear@gmx.de\"\n",
    "\n",
    "    Please *confirm* the sign-up email. After that, proceed to `lndb init`!\n",
    "\n",
    "    Generated login secret: O6A5bqHzhERTMpGHXxEdbsTrEIt4a3Dy3AWdrWQR.\n",
    "    Email & secret persist in: /Users/falexwolf/.lndb/lndb.env.\n",
    "    Going forward, credentials are auto-loaded. In case of loss, you can always recover your secret via email.\n",
    "\n",
    "For a detailed walk-through of different configurations steps, see this guide: {doc}`../guides/configure`.\n",
    "```"
   ]
  },
  {
   "cell_type": "markdown",
   "id": "dac167ca-8e17-4469-a56a-6101d1189fbe",
   "metadata": {},
   "source": [
    "```{note}\n",
    "\n",
    "After confirming the sign up email you can right away initialize your first instance via:\n",
    "\n",
    "    lndb init --storage mydata\n",
    "```\n",
    "\n",
    "This tutorial assumes that user `raspbear@gmx.de` completed the cloud sign up,[^ci] but has not yet logged into LaminDB in the present compute environment.\n",
    "\n",
    "[^ci]: This is for pure CI reasons -- all code in this tutorial is tested. Simulating a first-time sign-up at every CI run is neither manageable nor useful."
   ]
  },
  {
   "cell_type": "code",
   "execution_count": null,
   "id": "57e6302d-988f-4bc5-afa2-66770c130fb3",
   "metadata": {},
   "outputs": [],
   "source": [
    "!lndb login --email \"raspbear@gmx.de\" --secret \"O6A5bqHzhERTMpGHXxEdbsTrEIt4a3Dy3AWdrWQR\""
   ]
  },
  {
   "cell_type": "markdown",
   "id": "f0a291e7-9a27-42f7-8a74-f8ea6deefecb",
   "metadata": {},
   "source": [
    "We can now initialize our first instance:"
   ]
  },
  {
   "cell_type": "code",
   "execution_count": null,
   "id": "42e81ba0-520b-4abb-92b3-a80f18a90924",
   "metadata": {},
   "outputs": [],
   "source": [
    "!lndb init --storage mydata"
   ]
  },
  {
   "cell_type": "markdown",
   "id": "f1af9ea1-be73-4bdb-8f5a-529a7c2da9dc",
   "metadata": {
    "tags": []
   },
   "source": [
    "## Ingest data"
   ]
  },
  {
   "cell_type": "markdown",
   "id": "897b54c0-9bb1-49e1-b63a-08b1413df2a1",
   "metadata": {},
   "source": [
    "For the sake of demonstration, let's get some piece of data from somewhere and write it to a file:"
   ]
  },
  {
   "cell_type": "code",
   "execution_count": null,
   "id": "aa34b8e5-1c1e-47ef-994e-04b96453d3ee",
   "metadata": {},
   "outputs": [],
   "source": [
    "sc.datasets.pbmc68k_reduced().write(\"scanpy_pbmc68k_reduced.h5ad\")"
   ]
  },
  {
   "cell_type": "markdown",
   "id": "6ef6becf",
   "metadata": {},
   "source": [
    "Add the file to the to-be-ingested list"
   ]
  },
  {
   "cell_type": "code",
   "execution_count": null,
   "id": "475d473f",
   "metadata": {},
   "outputs": [],
   "source": [
    "ingest.add(\"scanpy_pbmc68k_reduced.h5ad\")"
   ]
  },
  {
   "cell_type": "markdown",
   "id": "2baa6506",
   "metadata": {},
   "source": [
    "Check the to-be-ingested list with assigned Dobject ids"
   ]
  },
  {
   "cell_type": "code",
   "execution_count": null,
   "id": "44038a6e",
   "metadata": {},
   "outputs": [],
   "source": [
    "ingest.status"
   ]
  },
  {
   "cell_type": "markdown",
   "id": "c288ebb6-ff56-43b1-bfca-0e710ce2c2f4",
   "metadata": {},
   "source": [
    "Let's ingest the file via:"
   ]
  },
  {
   "cell_type": "code",
   "execution_count": null,
   "id": "6b36d18b-c735-46fc-aaca-be0e96aac2fd",
   "metadata": {},
   "outputs": [],
   "source": [
    "# Setting \"integrity\" to False and \"i_confirm_i_saved\" to True is both related to the CI env\n",
    "# It's not needed in production in Jupyter Lab\n",
    "ingest.commit(integrity=False, i_confirm_i_saved=True)"
   ]
  }
 ],
 "metadata": {
  "kernelspec": {
   "display_name": "Python 3 (ipykernel)",
   "language": "python",
   "name": "python3"
  },
  "language_info": {
   "codemirror_mode": {
    "name": "ipython",
    "version": 3
   },
   "file_extension": ".py",
   "mimetype": "text/x-python",
   "name": "python",
   "nbconvert_exporter": "python",
   "pygments_lexer": "ipython3",
   "version": "3.9.12"
  },
  "nbproject": {
   "dependency": {
    "lamindb": "0.0.7",
    "nbproject": "0.1.5",
    "scanpy": "1.9.1"
   },
   "id": "GgD4VJbXtOOS",
   "time_init": "2022-06-23T14:16:50.755200+00:00",
   "version": "draft"
  },
  "vscode": {
   "interpreter": {
    "hash": "2775e555cdc2d728c54aa22130c79afb1fa4da64f22f2fc6dcc2aa346c4e0672"
   }
  }
 },
 "nbformat": 4,
 "nbformat_minor": 5
}
