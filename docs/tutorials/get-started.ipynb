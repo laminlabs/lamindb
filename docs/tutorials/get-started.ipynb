{
  "metadata": {
    "kernelspec": {
      "display_name": "Python 3.9.13 ('py39')",
      "language": "python",
      "name": "python3"
    },
    "language_info": {
      "codemirror_mode": {
        "name": "ipython",
        "version": 3
      },
      "file_extension": ".py",
      "mimetype": "text/x-python",
      "name": "python",
      "nbconvert_exporter": "python",
      "pygments_lexer": "ipython3",
      "version": "3.9.13"
    },
    "nbproject": {
      "id": "GgD4VJbXtOOS",
      "version": "1",
      "time_init": "2022-06-23T14:16:50.755200+00:00",
      "pypackage": {
        "lamindb": "0.2.1",
        "scikit-learn": "1.1.1"
      },
      "parent": null,
      "dependency": {
        "lamindb": "0.0.7",
        "nbproject": "0.1.5",
        "scanpy": "1.9.1"
      }
    },
    "vscode": {
      "interpreter": {
        "hash": "ae1fefc8646a06dd2e75004cd934adda7c5727b046986a772e3b44b0ffba9754"
      }
    }
  },
  "nbformat": 4,
  "nbformat_minor": 5,
  "cells": [
    {
      "cell_type": "markdown",
      "id": "2ea9fd55-0f27-4777-8a9c-f9a353fc6bc5",
      "metadata": {
        "tags": []
      },
      "source": [
        "# Get started"
      ]
    },
    {
      "cell_type": "markdown",
      "id": "5814da34-bd05-4f8a-a2dd-a060e153cabe",
      "metadata": {},
      "source": [
        "LaminDB is a distributed data management system in which users collaborate on instances.\n",
        "\n",
        "This is analogous to how developers collaborate on code in repositories, but unlike git and dvc, LaminDB is queryable by entities.[^integrate]\n",
        "\n",
        "An instance manages storage (local directory, S3, GCP, Azure) and a SQL database (SQLite, Postgres, BigQuery) for querying it.\n",
        "\n",
        "[^integrate]: Like git helps with integrating code contributions across repositories, LaminDB helps with integrating data across instances."
      ]
    },
    {
      "cell_type": "markdown",
      "id": "1bb0d102-41ef-408a-894f-6093526ce9a2",
      "metadata": {},
      "source": [
        "## Sign up"
      ]
    },
    {
      "cell_type": "markdown",
      "id": "fe300c6d-0f48-47a1-ab4d-3e638eeb0835",
      "metadata": {},
      "source": [
        "As a first-time user, sign up your email so that LaminDB can link you to data & analyses.\n",
        "\n",
        "On the command line, run `lndb signup <email>`. For example: `lndb signup tuser1@foo.com`.[^github]\n",
        "\n",
        "[^github]: Consider using your GitHub-associated email and handle=username if you have one!"
      ]
    },
    {
      "cell_type": "markdown",
      "id": "29de5a67-cd6d-4642-8fb1-e9e19848fcbf",
      "metadata": {},
      "source": [
        "## Log in"
      ]
    },
    {
      "cell_type": "markdown",
      "id": "dac167ca-8e17-4469-a56a-6101d1189fbe",
      "metadata": {},
      "source": [
        "After confirming the signup email, you can login with your handle (or email) on the command line:"
      ]
    },
    {
      "cell_type": "code",
      "execution_count": 1,
      "id": "57e6302d-988f-4bc5-afa2-66770c130fb3",
      "metadata": {
        "execution": {
          "iopub.execute_input": "2022-08-23T13:09:00.867306Z",
          "iopub.status.busy": "2022-08-23T13:09:00.866819Z",
          "iopub.status.idle": "2022-08-23T13:09:03.986701Z",
          "shell.execute_reply": "2022-08-23T13:09:03.985414Z"
        }
      },
      "outputs": [],
      "source": [
        "!lndb login test-user1  # test user 1 has handle test-user1"
      ]
    },
    {
      "cell_type": "markdown",
      "id": "dd470e9f-835e-469b-9ec1-bc3e60a3c902",
      "metadata": {},
      "source": [
        "## Init"
      ]
    },
    {
      "cell_type": "markdown",
      "id": "f0a291e7-9a27-42f7-8a74-f8ea6deefecb",
      "metadata": {},
      "source": [
        "For this first tutorial, we init a local instance with storage in `mydata/` and a local SQlite database for managing it.\n",
        "\n",
        "You can also directly pass `s3://my-bucket` to `--storage` or a Postgres URL to `--db`."
      ]
    },
    {
      "cell_type": "code",
      "execution_count": 2,
      "id": "42e81ba0-520b-4abb-92b3-a80f18a90924",
      "metadata": {
        "execution": {
          "iopub.execute_input": "2022-08-23T13:09:03.991775Z",
          "iopub.status.busy": "2022-08-23T13:09:03.991413Z",
          "iopub.status.idle": "2022-08-23T13:09:04.974709Z",
          "shell.execute_reply": "2022-08-23T13:09:04.973723Z"
        }
      },
      "outputs": [
        {
          "name": "stdout",
          "output_type": "stream",
          "text": [
            "ℹ️ Loading schema modules: core, bionty, wetlab, bfx.\n",
            "ℹ️ Created instance mydata with core schema v0.4.1: /Users/sunnysun/Documents/repos/lamindb/docs/tutorials/mydata/mydata.lndb\n",
            "/opt/miniconda3/envs/py39/lib/python3.9/site-packages/sqlmodel/orm/session.py:60: SAWarning: Class SelectOfScalar will not make use of SQL compilation caching as it does not set the 'inherit_cache' attribute to ``True``.  This can have significant performance implications including some performance degradations in comparison to prior SQLAlchemy versions.  Set this attribute to True if this object can make use of the cache key generated by the superclass.  Alternatively, this attribute may be set to False which will disable this warning. (Background on this error at: https://sqlalche.me/e/14/cprf)\n",
            "  results = super().execute(\n"
          ]
        }
      ],
      "source": [
        "!lndb init --storage mydata --schema bionty,wetlab,bfx  # default bio entity and wetlab schema modules"
      ]
    },
    {
      "cell_type": "markdown",
      "id": "99aac965-03bf-4363-9649-c15ec90029b8",
      "metadata": {},
      "source": [
        "In this local setup, all instance data is in `mydata/` and all metadata in the SQLite file `mydata/mydata.lndb`.\n",
        "Settings persist in `~/.lndb/*.env` and can be accessed via [`db.settings`](https://lamin.ai/docs/lndb-setup/lndb_setup.settings)."
      ]
    },
    {
      "cell_type": "markdown",
      "id": "f1af9ea1-be73-4bdb-8f5a-529a7c2da9dc",
      "metadata": {
        "tags": []
      },
      "source": [
        "## Ingest"
      ]
    },
    {
      "cell_type": "code",
      "execution_count": 3,
      "id": "56ac9d46-cd5d-4f32-87b6-dbe84d7f64ca",
      "metadata": {
        "execution": {
          "iopub.execute_input": "2022-08-23T13:09:04.979156Z",
          "iopub.status.busy": "2022-08-23T13:09:04.978792Z",
          "iopub.status.idle": "2022-08-23T13:09:18.171007Z",
          "shell.execute_reply": "2022-08-23T13:09:18.170501Z"
        }
      },
      "outputs": [
        {
          "ename": "RuntimeError",
          "evalue": "lamindb needs lnschema_wetlab==0.3.0",
          "output_type": "error",
          "traceback": [
            "\u001b[0;31m---------------------------------------------------------------------------\u001b[0m",
            "\u001b[0;31mRuntimeError\u001b[0m                              Traceback (most recent call last)",
            "\u001b[1;32m/Users/sunnysun/Documents/repos/lamindb/docs/tutorials/get-started.ipynb Cell 13\u001b[0m in \u001b[0;36m<cell line: 1>\u001b[0;34m()\u001b[0m\n\u001b[0;32m----> <a href='vscode-notebook-cell:/Users/sunnysun/Documents/repos/lamindb/docs/tutorials/get-started.ipynb#ch0000012?line=0'>1</a>\u001b[0m \u001b[39mimport\u001b[39;00m \u001b[39mlamindb\u001b[39;00m \u001b[39mas\u001b[39;00m \u001b[39mdb\u001b[39;00m\n\u001b[1;32m      <a href='vscode-notebook-cell:/Users/sunnysun/Documents/repos/lamindb/docs/tutorials/get-started.ipynb#ch0000012?line=1'>2</a>\u001b[0m \u001b[39mimport\u001b[39;00m \u001b[39msklearn\u001b[39;00m\u001b[39m.\u001b[39;00m\u001b[39mdatasets\u001b[39;00m\n\u001b[1;32m      <a href='vscode-notebook-cell:/Users/sunnysun/Documents/repos/lamindb/docs/tutorials/get-started.ipynb#ch0000012?line=3'>4</a>\u001b[0m db\u001b[39m.\u001b[39mheader()\n",
            "File \u001b[0;32m~/Documents/repos/lamindb/lamindb/__init__.py:22\u001b[0m, in \u001b[0;36m<module>\u001b[0;34m\u001b[0m\n\u001b[1;32m      1\u001b[0m \u001b[39m\"\"\"lamindb: Manage data & analyses.\u001b[39;00m\n\u001b[1;32m      2\u001b[0m \n\u001b[1;32m      3\u001b[0m \u001b[39mImport the package::\u001b[39;00m\n\u001b[0;32m   (...)\u001b[0m\n\u001b[1;32m     20\u001b[0m \u001b[39mTo retrieve settings, use `db.settings <https://lamin.ai/docs/lndb-setup/lndb_setup.settings>`__.\u001b[39;00m\n\u001b[1;32m     21\u001b[0m \u001b[39m\"\"\"\u001b[39;00m\n\u001b[0;32m---> 22\u001b[0m \u001b[39mfrom\u001b[39;00m \u001b[39m.\u001b[39;00m \u001b[39mimport\u001b[39;00m _check_versions\n\u001b[1;32m     24\u001b[0m __version__ \u001b[39m=\u001b[39m \u001b[39m\"\u001b[39m\u001b[39m0.2.1\u001b[39m\u001b[39m\"\u001b[39m\n\u001b[1;32m     25\u001b[0m \u001b[39mfrom\u001b[39;00m \u001b[39mlndb_setup\u001b[39;00m \u001b[39mimport\u001b[39;00m settings  \u001b[39m# noqa\u001b[39;00m\n",
            "File \u001b[0;32m~/Documents/repos/lamindb/lamindb/_check_versions.py:13\u001b[0m, in \u001b[0;36m<module>\u001b[0;34m\u001b[0m\n\u001b[1;32m     10\u001b[0m     \u001b[39mraise\u001b[39;00m \u001b[39mRuntimeError\u001b[39;00m(\u001b[39m\"\u001b[39m\u001b[39mlamindb needs lnschema_core==0.4.1\u001b[39m\u001b[39m\"\u001b[39m)\n\u001b[1;32m     12\u001b[0m \u001b[39mif\u001b[39;00m version\u001b[39m.\u001b[39mparse(lnschema_wetlab_v) \u001b[39m!=\u001b[39m version\u001b[39m.\u001b[39mparse(\u001b[39m\"\u001b[39m\u001b[39m0.3.0\u001b[39m\u001b[39m\"\u001b[39m):\n\u001b[0;32m---> 13\u001b[0m     \u001b[39mraise\u001b[39;00m \u001b[39mRuntimeError\u001b[39;00m(\u001b[39m\"\u001b[39m\u001b[39mlamindb needs lnschema_wetlab==0.3.0\u001b[39m\u001b[39m\"\u001b[39m)\n\u001b[1;32m     15\u001b[0m \u001b[39mif\u001b[39;00m version\u001b[39m.\u001b[39mparse(lndb_setup_v) \u001b[39m!=\u001b[39m version\u001b[39m.\u001b[39mparse(\u001b[39m\"\u001b[39m\u001b[39m0.6.0\u001b[39m\u001b[39m\"\u001b[39m):\n\u001b[1;32m     16\u001b[0m     \u001b[39mraise\u001b[39;00m \u001b[39mRuntimeError\u001b[39;00m(\u001b[39m\"\u001b[39m\u001b[39mlamindb needs lndb_setup==0.6.0\u001b[39m\u001b[39m\"\u001b[39m)\n",
            "\u001b[0;31mRuntimeError\u001b[0m: lamindb needs lnschema_wetlab==0.3.0"
          ]
        }
      ],
      "source": [
        "import lamindb as db\n",
        "import sklearn.datasets\n",
        "\n",
        "db.header()  # re-exports nbproject.header, https://lamin.ai/docs/nbproject"
      ]
    },
    {
      "cell_type": "markdown",
      "id": "897b54c0-9bb1-49e1-b63a-08b1413df2a1",
      "metadata": {},
      "source": [
        "The `iris` dataset stores phenotypic measurements ([sepal & petal sizes](https://en.wikipedia.org/wiki/Iris_flower_data_set)), which we do **not** aim to query for in the present tutorial."
      ]
    },
    {
      "cell_type": "code",
      "execution_count": 4,
      "id": "aa34b8e5-1c1e-47ef-994e-04b96453d3ee",
      "metadata": {
        "execution": {
          "iopub.execute_input": "2022-08-23T13:09:18.173907Z",
          "iopub.status.busy": "2022-08-23T13:09:18.173560Z",
          "iopub.status.idle": "2022-08-23T13:09:18.189675Z",
          "shell.execute_reply": "2022-08-23T13:09:18.189178Z"
        }
      },
      "outputs": [
        {
          "data": {
            "text/html": [
              "<div>\n",
              "<style scoped>\n",
              "    .dataframe tbody tr th:only-of-type {\n",
              "        vertical-align: middle;\n",
              "    }\n",
              "\n",
              "    .dataframe tbody tr th {\n",
              "        vertical-align: top;\n",
              "    }\n",
              "\n",
              "    .dataframe thead th {\n",
              "        text-align: right;\n",
              "    }\n",
              "</style>\n",
              "<table border=\"1\" class=\"dataframe\">\n",
              "  <thead>\n",
              "    <tr style=\"text-align: right;\">\n",
              "      <th></th>\n",
              "      <th>sepal length (cm)</th>\n",
              "      <th>sepal width (cm)</th>\n",
              "      <th>petal length (cm)</th>\n",
              "      <th>petal width (cm)</th>\n",
              "      <th>target</th>\n",
              "    </tr>\n",
              "  </thead>\n",
              "  <tbody>\n",
              "    <tr>\n",
              "      <th>0</th>\n",
              "      <td>5.1</td>\n",
              "      <td>3.5</td>\n",
              "      <td>1.4</td>\n",
              "      <td>0.2</td>\n",
              "      <td>0</td>\n",
              "    </tr>\n",
              "    <tr>\n",
              "      <th>1</th>\n",
              "      <td>4.9</td>\n",
              "      <td>3.0</td>\n",
              "      <td>1.4</td>\n",
              "      <td>0.2</td>\n",
              "      <td>0</td>\n",
              "    </tr>\n",
              "    <tr>\n",
              "      <th>2</th>\n",
              "      <td>4.7</td>\n",
              "      <td>3.2</td>\n",
              "      <td>1.3</td>\n",
              "      <td>0.2</td>\n",
              "      <td>0</td>\n",
              "    </tr>\n",
              "    <tr>\n",
              "      <th>3</th>\n",
              "      <td>4.6</td>\n",
              "      <td>3.1</td>\n",
              "      <td>1.5</td>\n",
              "      <td>0.2</td>\n",
              "      <td>0</td>\n",
              "    </tr>\n",
              "    <tr>\n",
              "      <th>4</th>\n",
              "      <td>5.0</td>\n",
              "      <td>3.6</td>\n",
              "      <td>1.4</td>\n",
              "      <td>0.2</td>\n",
              "      <td>0</td>\n",
              "    </tr>\n",
              "  </tbody>\n",
              "</table>\n",
              "</div>"
            ],
            "text/plain": [
              "   sepal length (cm)  sepal width (cm)  petal length (cm)  petal width (cm)  \\\n",
              "0                5.1               3.5                1.4               0.2   \n",
              "1                4.9               3.0                1.4               0.2   \n",
              "2                4.7               3.2                1.3               0.2   \n",
              "3                4.6               3.1                1.5               0.2   \n",
              "4                5.0               3.6                1.4               0.2   \n",
              "\n",
              "   target  \n",
              "0       0  \n",
              "1       0  \n",
              "2       0  \n",
              "3       0  \n",
              "4       0  "
            ]
          },
          "execution_count": 4,
          "metadata": {},
          "output_type": "execute_result"
        }
      ],
      "source": [
        "df = sklearn.datasets.load_iris(as_frame=True).frame\n",
        "\n",
        "df.head()"
      ]
    },
    {
      "cell_type": "markdown",
      "id": "e5450c28",
      "metadata": {},
      "source": [
        "To track this dataset, we stage it for ingestion."
      ]
    },
    {
      "cell_type": "code",
      "execution_count": 5,
      "id": "475d473f",
      "metadata": {
        "execution": {
          "iopub.execute_input": "2022-08-23T13:09:18.192381Z",
          "iopub.status.busy": "2022-08-23T13:09:18.192152Z",
          "iopub.status.idle": "2022-08-23T13:09:18.195640Z",
          "shell.execute_reply": "2022-08-23T13:09:18.195179Z"
        }
      },
      "outputs": [],
      "source": [
        "db.do.ingest.add(df, name=\"iris\")"
      ]
    },
    {
      "cell_type": "markdown",
      "id": "765c1d7a-abc1-4941-9585-c98eb4d8bea4",
      "metadata": {},
      "source": [
        "Let's take another toy dataset, a processed collage of microscopy images:\n",
        "\n",
        "<img width=\"150\" alt=\"Laminopathic nuclei\" src=\"https://upload.wikimedia.org/wikipedia/commons/2/28/Laminopathic_nuclei.jpg\">\n",
        "\n",
        "This shows morphology of fibroblasts from a control (a, b) and a subject with [Progreria](https://en.wikipedia.org/wiki/Progeria) (c, d) where nuclear envelopes are shaped irregularly ([Paradisi et al., 2005](https://doi.org/10.1186/1471-2121-6-27), CC BY 2.0 via [Wiki Commons](https://commons.wikimedia.org/wiki/File:Laminopathic_nuclei.jpg))."
      ]
    },
    {
      "cell_type": "code",
      "execution_count": 6,
      "id": "f94cedbd-6d6b-43a6-a048-b33f93283609",
      "metadata": {
        "execution": {
          "iopub.execute_input": "2022-08-23T13:09:18.198319Z",
          "iopub.status.busy": "2022-08-23T13:09:18.198126Z",
          "iopub.status.idle": "2022-08-23T13:10:33.361158Z",
          "shell.execute_reply": "2022-08-23T13:10:33.359679Z"
        }
      },
      "outputs": [
        {
          "data": {
            "text/plain": [
              "PosixPath('paradisi05_laminopathic_nuclei.jpg')"
            ]
          },
          "execution_count": 6,
          "metadata": {},
          "output_type": "execute_result"
        }
      ],
      "source": [
        "filepath = db.datasets.file_jpg_paradisi05()\n",
        "filepath"
      ]
    },
    {
      "cell_type": "code",
      "execution_count": 7,
      "id": "137524bd-b973-4d78-9cd7-f2f64c4ab5c3",
      "metadata": {
        "execution": {
          "iopub.execute_input": "2022-08-23T13:10:33.367416Z",
          "iopub.status.busy": "2022-08-23T13:10:33.366872Z",
          "iopub.status.idle": "2022-08-23T13:10:33.373036Z",
          "shell.execute_reply": "2022-08-23T13:10:33.372005Z"
        }
      },
      "outputs": [],
      "source": [
        "db.do.ingest.add(filepath)"
      ]
    },
    {
      "cell_type": "markdown",
      "id": "efa4f0cf-fb4f-4254-9ba0-e0dbff955612",
      "metadata": {},
      "source": [
        "Before completing the ingestion, let's check what we staged:"
      ]
    },
    {
      "cell_type": "code",
      "execution_count": 8,
      "id": "8299bdbe-53eb-469e-b3db-f1a34d4d1e54",
      "metadata": {
        "execution": {
          "iopub.execute_input": "2022-08-23T13:10:33.377971Z",
          "iopub.status.busy": "2022-08-23T13:10:33.377509Z",
          "iopub.status.idle": "2022-08-23T13:10:33.384249Z",
          "shell.execute_reply": "2022-08-23T13:10:33.383537Z"
        }
      },
      "outputs": [
        {
          "data": {
            "text/plain": [
              "{'iris.feather': ('kfOLcWt59r0qzU7scjHiC', '1'),\n",
              " 'paradisi05_laminopathic_nuclei.jpg': ('neGWUdqGRZCv34aR8SNiZ', '1')}"
            ]
          },
          "execution_count": 8,
          "metadata": {},
          "output_type": "execute_result"
        }
      ],
      "source": [
        "db.do.ingest.status"
      ]
    },
    {
      "cell_type": "markdown",
      "id": "0a6f1ca2-2eac-461e-9c5f-296b340c0940",
      "metadata": {},
      "source": [
        "Let's now commit these data to LaminDB:"
      ]
    },
    {
      "cell_type": "code",
      "execution_count": 9,
      "id": "6b36d18b-c735-46fc-aaca-be0e96aac2fd",
      "metadata": {
        "execution": {
          "iopub.execute_input": "2022-08-23T13:10:33.388310Z",
          "iopub.status.busy": "2022-08-23T13:10:33.387937Z",
          "iopub.status.idle": "2022-08-23T13:10:33.483200Z",
          "shell.execute_reply": "2022-08-23T13:10:33.482759Z"
        }
      },
      "outputs": [
        {
          "name": "stdout",
          "output_type": "stream",
          "text": [
            "ℹ️ Added notebook 'Get started' (GgD4VJbXtOOS, 1) by user test-user1 (9ypQ1yrW).\n"
          ]
        },
        {
          "name": "stdout",
          "output_type": "stream",
          "text": [
            "✅ Ingested the following dobjects:\n",
            "+---------------------------------------------------------------+---------------------------------+-----------------------+\n",
            "|                            \u001b[1;92mdobject\u001b[0m                            |             \u001b[1;94mjupynb\u001b[0m              |         \u001b[1;95muser\u001b[0m          |\n",
            "+---------------------------------------------------------------+---------------------------------+-----------------------+\n",
            "|            iris.feather (kfOLcWt59r0qzU7scjHiC, 1)            | 'Get started' (GgD4VJbXtOOS, 1) | test-user1 (9ypQ1yrW) |\n",
            "| paradisi05_laminopathic_nuclei.jpg (neGWUdqGRZCv34aR8SNiZ, 1) | 'Get started' (GgD4VJbXtOOS, 1) | test-user1 (9ypQ1yrW) |\n",
            "+---------------------------------------------------------------+---------------------------------+-----------------------+\n"
          ]
        },
        {
          "name": "stdout",
          "output_type": "stream",
          "text": [
            "🔶 Cells [(6, None), (None, None)] were not run consecutively.\n"
          ]
        },
        {
          "name": "stdout",
          "output_type": "stream",
          "text": [
            "ℹ️ Set notebook version to \u001b[1m1\u001b[0m & wrote pypackages.\n"
          ]
        }
      ],
      "source": [
        "db.do.ingest.commit()"
      ]
    },
    {
      "cell_type": "markdown",
      "id": "27ea0197",
      "metadata": {},
      "source": [
        "We see that several links are made in the background: the data object is associated with its source (this Jupyter notebook, `jupynb`) and the user who operates the notebook (`test-user1`).\n",
        "\n",
        "`db.do.ingest` detects whether data comes from a notebook, a pipeline, a connector, or a custom graphical user interface.\n",
        "\n",
        "What is a data object (dobject) in more detail? See the API docs [here](https://lamin.ai/docs/lnschema-core/lnschema_core.dobject) or read on!"
      ]
    },
    {
      "cell_type": "code",
      "execution_count": null,
      "id": "ef23e60a",
      "metadata": {},
      "outputs": [],
      "source": []
    }
  ]
}
