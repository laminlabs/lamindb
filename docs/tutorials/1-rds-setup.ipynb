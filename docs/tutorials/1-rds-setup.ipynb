{
 "cells": [
  {
   "cell_type": "markdown",
   "metadata": {},
   "source": [
    "# Setup storage, schema, users\n",
    "\n",
    "Follow [get-started](https://lamin.ai/docs/db/tutorials/get-started) to configure your LaminDB instance."
   ]
  },
  {
   "cell_type": "code",
   "execution_count": null,
   "metadata": {},
   "outputs": [],
   "source": [
    "import lamindb as ln\n",
    "\n",
    "ln.nb.header()"
   ]
  },
  {
   "cell_type": "markdown",
   "metadata": {},
   "source": [
    "Initiate your database with modules of interest. Please [reach out](https://lamin.ai/contact) if you'd like to plug in customized schema modules."
   ]
  },
  {
   "cell_type": "code",
   "execution_count": null,
   "metadata": {},
   "outputs": [],
   "source": [
    "!lndb init --storage rds --schema bionty,wetlab,bfx"
   ]
  },
  {
   "cell_type": "markdown",
   "metadata": {},
   "source": [
    "Visualize your schema."
   ]
  },
  {
   "cell_type": "code",
   "execution_count": null,
   "metadata": {},
   "outputs": [],
   "source": [
    "ln.schema.draw()"
   ]
  },
  {
   "cell_type": "markdown",
   "metadata": {},
   "source": [
    "Two users within an organization are collaborating on this project across several notebooks.\n",
    "\n",
    "- test-user1: project lead, performs wetlab experiments\n",
    "- test-user2: data scientist, performs computational analysis"
   ]
  },
  {
   "cell_type": "code",
   "execution_count": null,
   "metadata": {},
   "outputs": [],
   "source": [
    "!lndb login test-user1"
   ]
  },
  {
   "cell_type": "markdown",
   "metadata": {},
   "source": [
    "Register a few projects.\n",
    "\n",
    "We use [Schmidt22](https://www.science.org/doi/10.1126/science.abj4008) as the project in this R&D team simulation."
   ]
  },
  {
   "cell_type": "code",
   "execution_count": null,
   "metadata": {},
   "outputs": [],
   "source": [
    "_ = ln.db.insert.project(\n",
    "    proj_id=\"P001\",\n",
    "    name=\"Optimizing gRNA transfection in primary human T cells\",\n",
    ")"
   ]
  },
  {
   "cell_type": "code",
   "execution_count": null,
   "metadata": {},
   "outputs": [],
   "source": [
    "_ = ln.db.insert.project(\n",
    "    proj_id=\"P002\",\n",
    "    name=\"T cell enrichment from human PBMCs\",\n",
    ")"
   ]
  },
  {
   "cell_type": "code",
   "execution_count": null,
   "metadata": {},
   "outputs": [],
   "source": [
    "_ = ln.db.insert.project(\n",
    "    proj_id=\"P003\",\n",
    "    name=(\n",
    "        \"CRISPR activation screens to decode stimulation responses in\"\n",
    "        \" primary human T cells\"\n",
    "    ),\n",
    ")"
   ]
  }
 ],
 "metadata": {
  "kernelspec": {
   "display_name": "Python 3.9.13 ('py39')",
   "language": "python",
   "name": "python3"
  },
  "language_info": {
   "codemirror_mode": {
    "name": "ipython",
    "version": 3
   },
   "file_extension": ".py",
   "mimetype": "text/x-python",
   "name": "python",
   "nbconvert_exporter": "python",
   "pygments_lexer": "ipython3",
   "version": "3.9.13"
  },
  "nbproject": {
   "id": "1qgezw298UrW",
   "parent": null,
   "pypackage": null,
   "time_init": "2022-08-30T22:17:51.266023+00:00",
   "version": "draft"
  },
  "vscode": {
   "interpreter": {
    "hash": "ae1fefc8646a06dd2e75004cd934adda7c5727b046986a772e3b44b0ffba9754"
   }
  }
 },
 "nbformat": 4,
 "nbformat_minor": 2
}
