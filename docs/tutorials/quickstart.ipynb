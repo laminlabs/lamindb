{
 "cells": [
  {
   "cell_type": "markdown",
   "id": "2ea9fd55-0f27-4777-8a9c-f9a353fc6bc5",
   "metadata": {
    "tags": []
   },
   "source": [
    "# Quickstart"
   ]
  },
  {
   "cell_type": "code",
   "execution_count": null,
   "id": "a98447b8-4323-429c-a9f3-6e3d9a4a76ea",
   "metadata": {},
   "outputs": [],
   "source": [
    "%load_ext autoreload\n",
    "%autoreload 2"
   ]
  },
  {
   "cell_type": "code",
   "execution_count": null,
   "id": "56ac9d46-cd5d-4f32-87b6-dbe84d7f64ca",
   "metadata": {},
   "outputs": [],
   "source": [
    "from nbproject import Header\n",
    "import lamindb as db\n",
    "import sklearn.datasets\n",
    "import scanpy as sc"
   ]
  },
  {
   "cell_type": "code",
   "execution_count": null,
   "id": "f4bc3810-3c19-46cc-8e27-73ce9c5efbd9",
   "metadata": {},
   "outputs": [],
   "source": [
    "Header(filepath=\"quickstart.ipynb\");"
   ]
  },
  {
   "cell_type": "markdown",
   "id": "1bb0d102-41ef-408a-894f-6093526ce9a2",
   "metadata": {},
   "source": [
    "## Setup"
   ]
  },
  {
   "cell_type": "markdown",
   "id": "9f5270c9-b0eb-454f-9b1c-7a7c6b394408",
   "metadata": {},
   "source": [
    "Setup a local LaminDB instance as follows:"
   ]
  },
  {
   "cell_type": "code",
   "execution_count": null,
   "id": "b838c1de-0839-4a4a-ac88-bdd93fcb4fc9",
   "metadata": {},
   "outputs": [],
   "source": [
    "!lamindb setup --storage $HOME/mydata  --user falexwolf"
   ]
  },
  {
   "cell_type": "markdown",
   "id": "f1af9ea1-be73-4bdb-8f5a-529a7c2da9dc",
   "metadata": {
    "tags": []
   },
   "source": [
    "## Ingest data"
   ]
  },
  {
   "cell_type": "markdown",
   "id": "897b54c0-9bb1-49e1-b63a-08b1413df2a1",
   "metadata": {},
   "source": [
    "For the sake of demonstration, let's get some piece of data from somewhere and write it to a file:"
   ]
  },
  {
   "cell_type": "code",
   "execution_count": null,
   "id": "aa34b8e5-1c1e-47ef-994e-04b96453d3ee",
   "metadata": {},
   "outputs": [],
   "source": [
    "sc.datasets.pbmc68k_reduced().write(\"scanpy_pbmc68k_reduced.h5ad\")"
   ]
  },
  {
   "cell_type": "markdown",
   "id": "c288ebb6-ff56-43b1-bfca-0e710ce2c2f4",
   "metadata": {},
   "source": [
    "While it's the most obscure way of ingesting data into our LaminDB instance, we can ingest the file via:"
   ]
  },
  {
   "cell_type": "code",
   "execution_count": null,
   "id": "6b36d18b-c735-46fc-aaca-be0e96aac2fd",
   "metadata": {},
   "outputs": [],
   "source": [
    "lnid = db.do.ingest(\"scanpy_pbmc68k_reduced.h5ad\")"
   ]
  },
  {
   "cell_type": "markdown",
   "id": "34be1170-5088-4f93-bc5a-c4158aaafa1e",
   "metadata": {},
   "source": [
    "Having a look into our data storage, we'll see both the data file we just ingested, and the `.lndb` file that stores the database with all the information for managing the directory."
   ]
  },
  {
   "cell_type": "markdown",
   "id": "837751f9-114f-44a8-a8b1-b17dd2967e8f",
   "metadata": {},
   "source": [
    "!ls -lh ~/mydata"
   ]
  }
 ],
 "metadata": {
  "kernelspec": {
   "display_name": "Python 3 (ipykernel)",
   "language": "python",
   "name": "python3"
  },
  "language_info": {
   "codemirror_mode": {
    "name": "ipython",
    "version": 3
   },
   "file_extension": ".py",
   "mimetype": "text/x-python",
   "name": "python",
   "nbconvert_exporter": "python",
   "pygments_lexer": "ipython3",
   "version": "3.9.12"
  },
  "nbproject": {
   "dependency": {
    "lamindb": "0.3.dev1",
    "nbproject": "0.1a1",
    "scanpy": "1.10.0.dev11+gbd06cc3d",
    "scikit-learn": "1.1.1"
   },
   "id": "GgD4VJbXtOOS",
   "time_init": "2022-06-23T14:16:50.755200+00:00",
   "version": "draft"
  }
 },
 "nbformat": 4,
 "nbformat_minor": 5
}
