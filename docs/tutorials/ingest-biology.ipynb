{
 "cells": [
  {
   "cell_type": "markdown",
   "id": "2e4ba78a-77bb-4986-b75b-db26071fa4eb",
   "metadata": {},
   "source": [
    "# Ingest biological data"
   ]
  },
  {
   "cell_type": "code",
   "execution_count": null,
   "id": "069f8d9b-c372-4c7d-abd6-198cdb211d54",
   "metadata": {},
   "outputs": [],
   "source": [
    "import lamindb as db\n",
    "import scanpy as sc\n",
    "\n",
    "db.header()"
   ]
  },
  {
   "cell_type": "code",
   "execution_count": null,
   "id": "709745e0-a9cc-4573-9159-98c12076d293",
   "metadata": {},
   "outputs": [],
   "source": [
    "sc.datasets.pbmc68k_reduced().write(\"scanpy_pbmc68k_reduced.h5ad\")"
   ]
  },
  {
   "cell_type": "code",
   "execution_count": null,
   "id": "d0a2c5a7-4d87-4ede-a044-ec6faabee193",
   "metadata": {},
   "outputs": [],
   "source": [
    "db.do.ingest.add(\"scanpy_pbmc68k_reduced.h5ad\")"
   ]
  },
  {
   "cell_type": "code",
   "execution_count": null,
   "id": "7a7584b0-f264-4ea5-8d66-f08f882cb219",
   "metadata": {},
   "outputs": [],
   "source": [
    "sc.datasets.pbmc3k().write(\"scanpy_pbmc3k.h5ad\")"
   ]
  },
  {
   "cell_type": "code",
   "execution_count": null,
   "id": "e7c5fc8b-f8f0-415b-b5c3-9a0c374bb1e8",
   "metadata": {},
   "outputs": [],
   "source": [
    "db.do.ingest.add(\"scanpy_pbmc3k.h5ad\")"
   ]
  },
  {
   "cell_type": "code",
   "execution_count": null,
   "id": "27e18057-d866-48bd-be73-e1aebf8302f1",
   "metadata": {},
   "outputs": [],
   "source": [
    "db.do.ingest.commit()"
   ]
  }
 ],
 "metadata": {
  "kernelspec": {
   "display_name": "Python 3 (ipykernel)",
   "language": "python",
   "name": "python3"
  },
  "language_info": {
   "codemirror_mode": {
    "name": "ipython",
    "version": 3
   },
   "file_extension": ".py",
   "mimetype": "text/x-python",
   "name": "python",
   "nbconvert_exporter": "python",
   "pygments_lexer": "ipython3",
   "version": "3.9.12"
  },
  "nbproject": {
   "id": "g5pfndHyAAO2",
   "parent": null,
   "pypackage": null,
   "time_init": "2022-07-30T10:18:47.636568+00:00",
   "version": "draft"
  }
 },
 "nbformat": 4,
 "nbformat_minor": 5
}
