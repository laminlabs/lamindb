{
 "cells": [
  {
   "cell_type": "markdown",
   "id": "1a515a1b-34ac-4c0b-ae6c-0f360bd3ac9b",
   "metadata": {},
   "source": [
    "# Load and query data: `db.load`, `db.query`"
   ]
  },
  {
   "cell_type": "code",
   "execution_count": null,
   "id": "fe98f316-2175-4c16-8bb5-726f61fdf85c",
   "metadata": {},
   "outputs": [],
   "source": [
    "import lamindb as ln\n",
    "\n",
    "ln.nb.header()"
   ]
  },
  {
   "cell_type": "markdown",
   "id": "19a6382c",
   "metadata": {},
   "source": [
    "## Load"
   ]
  },
  {
   "cell_type": "markdown",
   "id": "50c90781",
   "metadata": {},
   "source": [
    "You can load dobjects into memory via `db.load`, for instance:"
   ]
  },
  {
   "cell_type": "code",
   "execution_count": null,
   "id": "e1dc8fd8",
   "metadata": {},
   "outputs": [],
   "source": [
    "dobject = ln.db.query.dobject(name=\"iris\")[0]\n",
    "\n",
    "df = ln.db.load(dobject)"
   ]
  },
  {
   "cell_type": "code",
   "execution_count": null,
   "id": "f5356880",
   "metadata": {},
   "outputs": [],
   "source": [
    "df.head()"
   ]
  },
  {
   "cell_type": "markdown",
   "id": "ddc24c9c",
   "metadata": {},
   "source": [
    "During your analysis, you notice something strange, and you'd like to understand where the data came from."
   ]
  },
  {
   "cell_type": "markdown",
   "id": "aaf48393",
   "metadata": {},
   "source": [
    "Any dobject has a data source in form of a `dtransform_id`."
   ]
  },
  {
   "cell_type": "code",
   "execution_count": null,
   "id": "ef8373c6",
   "metadata": {},
   "outputs": [],
   "source": [
    "dobject.dtransform_id"
   ]
  },
  {
   "cell_type": "markdown",
   "id": "bbda4807",
   "metadata": {},
   "source": [
    "## Query"
   ]
  },
  {
   "cell_type": "markdown",
   "id": "233821ee",
   "metadata": {},
   "source": [
    "For simple frequent queries, LaminDB has a high-level query API based on SQLModel.[^sqlmodel]\n",
    "\n",
    "[^sqlmodel]: We'll also show how to use SQLModel for arbitrarily complicated queries."
   ]
  },
  {
   "cell_type": "markdown",
   "id": "25816b0f",
   "metadata": {},
   "source": [
    "### Simple table queries"
   ]
  },
  {
   "cell_type": "markdown",
   "id": "649fe5de",
   "metadata": {},
   "source": [
    "You can query any entity table in the database by its fields, for instance:"
   ]
  },
  {
   "cell_type": "code",
   "execution_count": null,
   "id": "6c4a09c7",
   "metadata": {},
   "outputs": [],
   "source": [
    "ln.db.query.dobject(file_suffix=\".feather\")"
   ]
  },
  {
   "cell_type": "markdown",
   "id": "ccee9eee",
   "metadata": {},
   "source": [
    "The high-level query API by default returns a list of results:"
   ]
  },
  {
   "cell_type": "code",
   "execution_count": null,
   "id": "b18caa91",
   "metadata": {},
   "outputs": [],
   "source": [
    "ln.db.query.species(taxon_id=10090)"
   ]
  },
  {
   "cell_type": "markdown",
   "id": "431a45ac",
   "metadata": {},
   "source": [
    "You can set `return_df=True` to return a `DataFrame` instead."
   ]
  },
  {
   "cell_type": "code",
   "execution_count": null,
   "id": "feeabc0b",
   "metadata": {},
   "outputs": [],
   "source": [
    "ln.db.query.species(taxon_id=10090, return_df=True)"
   ]
  },
  {
   "cell_type": "markdown",
   "id": "79dd60af",
   "metadata": {},
   "source": [
    "If no parameters are passed, all entries in the table will be returns.\n",
    "\n",
    "You can "
   ]
  },
  {
   "cell_type": "code",
   "execution_count": null,
   "id": "a03a9291",
   "metadata": {},
   "outputs": [],
   "source": [
    "ln.db.query.readout()"
   ]
  },
  {
   "cell_type": "markdown",
   "id": "b6bf7cd4",
   "metadata": {},
   "source": [
    "### Query data objects by linked entities"
   ]
  },
  {
   "cell_type": "markdown",
   "id": "4dbfbd08",
   "metadata": {},
   "source": [
    "We also offer querying data objects by fields that are not present in the `dobject` table, but linked tables.\n",
    "\n",
    "You can do this through providing a `entity_name` (name of the entity table), and a dictionary of query values."
   ]
  },
  {
   "cell_type": "code",
   "execution_count": null,
   "id": "0f5d7ac9",
   "metadata": {},
   "outputs": [],
   "source": [
    "ln.db.query.dobject(entity_name=\"gene\", entity_kwargs={\"symbol\": \"Actg1\"})"
   ]
  },
  {
   "cell_type": "code",
   "execution_count": null,
   "id": "dff3bb85",
   "metadata": {},
   "outputs": [],
   "source": [
    "ln.db.query.dobject(entity_name=\"gene\", entity_kwargs={\"ncbi_gene_id\": 66722})"
   ]
  },
  {
   "cell_type": "markdown",
   "id": "c5581f50",
   "metadata": {},
   "source": [
    "### Comprehensive SQL queries:"
   ]
  },
  {
   "cell_type": "markdown",
   "id": "0e463f89",
   "metadata": {},
   "source": [
    "You can construct arbitrarily complicated SQL queries, and that we just saw queries for the primary key of an entity in the core schema module. More on this later."
   ]
  },
  {
   "cell_type": "markdown",
   "id": "4e5e039b",
   "metadata": {},
   "source": [
    "Let's query for a data source:"
   ]
  },
  {
   "cell_type": "code",
   "execution_count": null,
   "id": "25deec4b",
   "metadata": {},
   "outputs": [],
   "source": [
    "with ln.db.session() as session:\n",
    "    dtransform = session.get(ln.schema.core.dtransform, dobject.dtransform_id)"
   ]
  },
  {
   "cell_type": "markdown",
   "id": "c0236234",
   "metadata": {},
   "source": [
    "Inspecting the result we see that the dobject originates from a Jupyter Notebook."
   ]
  },
  {
   "cell_type": "code",
   "execution_count": null,
   "id": "39f75d53",
   "metadata": {},
   "outputs": [],
   "source": [
    "dtransform"
   ]
  },
  {
   "cell_type": "code",
   "execution_count": null,
   "id": "0bfbcade",
   "metadata": {},
   "outputs": [],
   "source": [
    "with ln.db.session() as session:\n",
    "    jupynb = session.get(\n",
    "        ln.schema.core.jupynb,\n",
    "        (dtransform.jupynb_id, dtransform.jupynb_v),  # it's version \"1\" see jupynb_v\n",
    "    )"
   ]
  },
  {
   "cell_type": "code",
   "execution_count": null,
   "id": "5f889852",
   "metadata": {},
   "outputs": [],
   "source": [
    "jupynb"
   ]
  },
  {
   "cell_type": "markdown",
   "id": "b7c16562",
   "metadata": {},
   "source": [
    "Now we found the person who last edited the notebook!"
   ]
  },
  {
   "cell_type": "code",
   "execution_count": null,
   "id": "c55ca2cd",
   "metadata": {},
   "outputs": [],
   "source": [
    "with ln.db.session() as session:\n",
    "    user = session.get(ln.schema.core.user, jupynb.user_id)"
   ]
  },
  {
   "cell_type": "code",
   "execution_count": null,
   "id": "1c199ae7",
   "metadata": {},
   "outputs": [],
   "source": [
    "user"
   ]
  },
  {
   "cell_type": "code",
   "execution_count": null,
   "id": "77fe7947",
   "metadata": {},
   "outputs": [],
   "source": []
  }
 ],
 "metadata": {
  "kernelspec": {
   "display_name": "Python 3.9.13 ('py39')",
   "language": "python",
   "name": "python3"
  },
  "language_info": {
   "codemirror_mode": {
    "name": "ipython",
    "version": 3
   },
   "file_extension": ".py",
   "mimetype": "text/x-python",
   "name": "python",
   "nbconvert_exporter": "python",
   "pygments_lexer": "ipython3",
   "version": "3.9.13"
  },
  "nbproject": {
   "id": "hmWrrFMGO5Dg",
   "parent": null,
   "pypackage": null,
   "time_init": "2022-07-31T16:34:36.395954+00:00",
   "version": "draft"
  },
  "vscode": {
   "interpreter": {
    "hash": "ae1fefc8646a06dd2e75004cd934adda7c5727b046986a772e3b44b0ffba9754"
   }
  }
 },
 "nbformat": 4,
 "nbformat_minor": 5
}
