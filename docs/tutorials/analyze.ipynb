{
 "cells": [
  {
   "cell_type": "markdown",
   "id": "1a515a1b-34ac-4c0b-ae6c-0f360bd3ac9b",
   "metadata": {},
   "source": [
    "# Analyze"
   ]
  },
  {
   "cell_type": "markdown",
   "id": "d8db7699-d5f9-4d01-884d-6a09576f3838",
   "metadata": {},
   "source": [
    "Here we perform data analysis and share the result."
   ]
  },
  {
   "cell_type": "code",
   "execution_count": null,
   "id": "fe98f316-2175-4c16-8bb5-726f61fdf85c",
   "metadata": {},
   "outputs": [],
   "source": [
    "import lamindb as db\n",
    "\n",
    "db.header()"
   ]
  },
  {
   "cell_type": "code",
   "execution_count": null,
   "id": "89083c06-c687-4213-8628-02e4b1ce353d",
   "metadata": {},
   "outputs": [],
   "source": [
    "!lndb login --email \"kurt.hein@gmx.de\" --secret \"uIoEGyiCj0qcXbGhTpOAuY6CH86xauzAsOSlp95A\""
   ]
  },
  {
   "cell_type": "code",
   "execution_count": null,
   "id": "b3ff21c5-09c8-4989-a08d-85da1576b3f0",
   "metadata": {},
   "outputs": [],
   "source": [
    "!lndb load --name mydata"
   ]
  },
  {
   "cell_type": "code",
   "execution_count": null,
   "id": "5fa52fb2-cc93-4e4d-a481-4864b5c0d0da",
   "metadata": {},
   "outputs": [],
   "source": [
    "import sqlmodel as sqm\n",
    "from lamindb import settings\n",
    "from lamindb.dev import filepath_from_dobject\n",
    "import pandas as pd\n",
    "import seaborn as sns"
   ]
  },
  {
   "cell_type": "code",
   "execution_count": null,
   "id": "6c979ac1-4bc7-4a3d-bde1-7955fff78294",
   "metadata": {},
   "outputs": [],
   "source": [
    "with sqm.Session(settings.instance.db_engine()) as session:\n",
    "    statement = sqm.select(db.schema.core.dobject).where(\n",
    "        db.schema.core.dobject.name == \"iris\"\n",
    "    )\n",
    "    dobject = session.exec(statement).one()\n",
    "    df = pd.read_feather(filepath_from_dobject(dobject))"
   ]
  },
  {
   "cell_type": "code",
   "execution_count": null,
   "id": "c89cbcf5-743e-43dd-a920-711b58355245",
   "metadata": {},
   "outputs": [],
   "source": [
    "df.head()"
   ]
  },
  {
   "cell_type": "code",
   "execution_count": null,
   "id": "c1372af7-e3bd-44df-bac9-12f008771dac",
   "metadata": {},
   "outputs": [],
   "source": [
    "g = sns.PairGrid(df, hue=\"target\")\n",
    "g.map_upper(sns.scatterplot, s=15)\n",
    "g.map_diag(sns.histplot)\n",
    "g.add_legend();"
   ]
  }
 ],
 "metadata": {
  "kernelspec": {
   "display_name": "Python 3.9.12 ('base1')",
   "language": "python",
   "name": "python3"
  },
  "language_info": {
   "codemirror_mode": {
    "name": "ipython",
    "version": 3
   },
   "file_extension": ".py",
   "mimetype": "text/x-python",
   "name": "python",
   "nbconvert_exporter": "python",
   "pygments_lexer": "ipython3",
   "version": "3.9.12"
  },
  "nbproject": {
   "id": "hmWrrFMGO5Dg",
   "parent": null,
   "pypackage": null,
   "time_init": "2022-07-31T16:34:36.395954+00:00",
   "version": "draft"
  },
  "vscode": {
   "interpreter": {
    "hash": "2775e555cdc2d728c54aa22130c79afb1fa4da64f22f2fc6dcc2aa346c4e0672"
   }
  }
 },
 "nbformat": 4,
 "nbformat_minor": 5
}
