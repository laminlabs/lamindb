{
 "cells": [
  {
   "cell_type": "markdown",
   "id": "2ea9fd55-0f27-4777-8a9c-f9a353fc6bc5",
   "metadata": {
    "tags": []
   },
   "source": [
    "# Setup and ingest data"
   ]
  },
  {
   "cell_type": "code",
   "execution_count": null,
   "id": "a98447b8-4323-429c-a9f3-6e3d9a4a76ea",
   "metadata": {},
   "outputs": [],
   "source": [
    "%load_ext autoreload\n",
    "%autoreload 2"
   ]
  },
  {
   "cell_type": "code",
   "execution_count": null,
   "id": "56ac9d46-cd5d-4f32-87b6-dbe84d7f64ca",
   "metadata": {},
   "outputs": [],
   "source": [
    "from nbproject import header\n",
    "import lamindb as db\n",
    "import scanpy as sc"
   ]
  },
  {
   "cell_type": "markdown",
   "id": "1bb0d102-41ef-408a-894f-6093526ce9a2",
   "metadata": {},
   "source": [
    "## Setup"
   ]
  },
  {
   "cell_type": "markdown",
   "id": "9f5270c9-b0eb-454f-9b1c-7a7c6b394408",
   "metadata": {},
   "source": [
    "When you're setting up a LaminDB instance for the first time, call\n",
    "```\n",
    "lndb setup --storage <my_storage_location> --email <my_email>\n",
    "```\n",
    "This will ask you to confirm your email and create a log in secret for you.\n",
    "\n",
    "For instance,\n",
    "```\n",
    "!lndb setup --storage $HOME/mydata  --user \"raspbear@gmx.de\"\n",
    "```\n",
    "printed:\n",
    "```\n",
    "Using DB instance mydata at /Users/falexwolf/mydata/mydata.lndb\n",
    "Generated login secret: sd9lsxH6r5gjwKRSftTc9LNnIP5ua6Hhw8TVxl6l.\n",
    "Please confirm the sign-up email and then repeat the login call.\n",
    "Your secret has been stored and will persist until a new installation.\n",
    "```\n",
    "\n",
    "All upcoming times, you don't need to confirm an email, and you don't need to pass a secret (although you can, as in the following line due to CI reasons):"
   ]
  },
  {
   "cell_type": "code",
   "execution_count": null,
   "id": "b838c1de-0839-4a4a-ac88-bdd93fcb4fc9",
   "metadata": {},
   "outputs": [],
   "source": [
    "!lndb setup --storage $HOME/mydata  --user \"raspbear@gmx.de\" --secret \"sd9lsxH6r5gjwKRSftTc9LNnIP5ua6Hhw8TVxl6l\""
   ]
  },
  {
   "cell_type": "markdown",
   "id": "f1af9ea1-be73-4bdb-8f5a-529a7c2da9dc",
   "metadata": {
    "tags": []
   },
   "source": [
    "## Ingest data"
   ]
  },
  {
   "cell_type": "markdown",
   "id": "897b54c0-9bb1-49e1-b63a-08b1413df2a1",
   "metadata": {},
   "source": [
    "For the sake of demonstration, let's get some piece of data from somewhere and write it to a file:"
   ]
  },
  {
   "cell_type": "code",
   "execution_count": null,
   "id": "aa34b8e5-1c1e-47ef-994e-04b96453d3ee",
   "metadata": {},
   "outputs": [],
   "source": [
    "sc.datasets.pbmc68k_reduced().write(\"scanpy_pbmc68k_reduced.h5ad\")"
   ]
  },
  {
   "cell_type": "markdown",
   "id": "c288ebb6-ff56-43b1-bfca-0e710ce2c2f4",
   "metadata": {},
   "source": [
    "Let's ingest the file via:"
   ]
  },
  {
   "cell_type": "code",
   "execution_count": null,
   "id": "6b36d18b-c735-46fc-aaca-be0e96aac2fd",
   "metadata": {},
   "outputs": [],
   "source": [
    "db.do.ingest(\"scanpy_pbmc68k_reduced.h5ad\")"
   ]
  }
 ],
 "metadata": {
  "kernelspec": {
   "display_name": "Python 3 (ipykernel)",
   "language": "python",
   "name": "python3"
  },
  "language_info": {
   "codemirror_mode": {
    "name": "ipython",
    "version": 3
   },
   "file_extension": ".py",
   "mimetype": "text/x-python",
   "name": "python",
   "nbconvert_exporter": "python",
   "pygments_lexer": "ipython3",
   "version": "3.9.12"
  },
  "nbproject": {
   "dependency": {
    "lamindb": "0.0.7",
    "nbproject": "0.1.5",
    "scanpy": "1.9.1"
   },
   "id": "GgD4VJbXtOOS",
   "time_init": "2022-06-23T14:16:50.755200+00:00",
   "version": "1"
  }
 },
 "nbformat": 4,
 "nbformat_minor": 5
}
