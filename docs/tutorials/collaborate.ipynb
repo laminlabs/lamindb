{
 "cells": [
  {
   "cell_type": "markdown",
   "id": "706e099e-bc94-40df-918f-ebeacd6a2b6c",
   "metadata": {},
   "source": [
    "# Collaborate"
   ]
  },
  {
   "cell_type": "markdown",
   "id": "6ba2a6d4-7f28-4123-a527-76b76ce511de",
   "metadata": {},
   "source": [
    "Let us now pretend we're a different user (who already signed up!)."
   ]
  },
  {
   "cell_type": "code",
   "execution_count": null,
   "id": "a8cd2beb-39ff-40d5-866a-296ac67cdbc3",
   "metadata": {},
   "outputs": [],
   "source": [
    "!lndb login --email \"kurt.hein@gmx.de\" --secret \"uIoEGyiCj0qcXbGhTpOAuY6CH86xauzAsOSlp95A\""
   ]
  },
  {
   "cell_type": "code",
   "execution_count": null,
   "id": "16ada2e3-c940-41e4-9a9c-5ca42f3765ca",
   "metadata": {},
   "outputs": [],
   "source": [
    "import lamindb as db\n",
    "import scanpy as sc\n",
    "\n",
    "db.header()"
   ]
  },
  {
   "cell_type": "code",
   "execution_count": null,
   "id": "34bb652d-ba93-45ee-ab02-ee8561c5111f",
   "metadata": {},
   "outputs": [],
   "source": [
    "sc.datasets.pbmc68k_reduced().write(\"scanpy_pbmc68k_reduced.h5ad\")"
   ]
  },
  {
   "cell_type": "code",
   "execution_count": null,
   "id": "9a96800c",
   "metadata": {},
   "outputs": [],
   "source": [
    "db.do.ingest.add(\"scanpy_pbmc68k_reduced.h5ad\")"
   ]
  },
  {
   "cell_type": "markdown",
   "id": "54fe6f36-d522-4360-9125-e2ffb84e8128",
   "metadata": {},
   "source": [
    "We see that notebook and data are linked against the new user."
   ]
  },
  {
   "cell_type": "code",
   "execution_count": null,
   "id": "208d09da-939d-42b8-b203-1d6f8efecea7",
   "metadata": {},
   "outputs": [],
   "source": [
    "db.do.ingest.commit()"
   ]
  }
 ],
 "metadata": {
  "kernelspec": {
   "display_name": "Python 3 (ipykernel)",
   "language": "python",
   "name": "python3"
  },
  "language_info": {
   "codemirror_mode": {
    "name": "ipython",
    "version": 3
   },
   "file_extension": ".py",
   "mimetype": "text/x-python",
   "name": "python",
   "nbconvert_exporter": "python",
   "pygments_lexer": "ipython3",
   "version": "3.9.12"
  },
  "nbproject": {
   "dependency": {
    "lamindb": "0.3a1",
    "nbproject": "0.1.0",
    "scikit-learn": "1.1.1"
   },
   "id": "ZCdINSMzjawp",
   "time_init": "2022-07-01T07:37:38.531053+00:00",
   "version": "draft"
  },
  "vscode": {
   "interpreter": {
    "hash": "2775e555cdc2d728c54aa22130c79afb1fa4da64f22f2fc6dcc2aa346c4e0672"
   }
  }
 },
 "nbformat": 4,
 "nbformat_minor": 5
}
