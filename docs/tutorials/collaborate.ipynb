{
 "cells": [
  {
   "cell_type": "markdown",
   "id": "706e099e-bc94-40df-918f-ebeacd6a2b6c",
   "metadata": {},
   "source": [
    "# Collaborate"
   ]
  },
  {
   "cell_type": "code",
   "execution_count": 1,
   "id": "a8cd2beb-39ff-40d5-866a-296ac67cdbc3",
   "metadata": {},
   "outputs": [],
   "source": [
    "!lndb login test-user2"
   ]
  },
  {
   "cell_type": "code",
   "execution_count": 2,
   "id": "16ada2e3-c940-41e4-9a9c-5ca42f3765ca",
   "metadata": {},
   "outputs": [
    {
     "name": "stderr",
     "output_type": "stream",
     "text": [
      "2022-08-01 13:34:59,170:INFO - Note: NumExpr detected 10 cores but \"NUMEXPR_MAX_THREADS\" not set, so enforcing safe limit of 8.\n",
      "2022-08-01 13:34:59,171:INFO - NumExpr defaulting to 8 threads.\n"
     ]
    },
    {
     "data": {
      "text/html": [
       "<table><tbody><tr><td style='text-align: left;'><b>id</b></td><td style='text-align: left;'>ZCdI<span style='opacity:0.3'>NSMzjawp</span></td></tr><tr><td style='text-align: left;'><b>version</b></td><td style='text-align: left;'>draft</td></tr><tr><td style='text-align: left;'><b>time_init</b></td><td style='text-align: left;'>2022-07-01 07:37</td></tr><tr><td style='text-align: left;'><b>time_run</b></td><td style='text-align: left;'>2022-08-01 05:34</td></tr><tr><td style='text-align: left;'><b>pypackage</b></td><td style='text-align: left;'>lamindb==0.1.2</td></tr></tbody></table>"
      ],
      "text/plain": [
       "<IPython.core.display.HTML object>"
      ]
     },
     "metadata": {},
     "output_type": "display_data"
    }
   ],
   "source": [
    "import lamindb as db\n",
    "from urllib import request\n",
    "\n",
    "db.header()"
   ]
  },
  {
   "cell_type": "markdown",
   "id": "882c51ea-d089-4c6c-a428-4d583b551cda",
   "metadata": {},
   "source": [
    "We still don't care about querying data that we ingest by anything other than data provenance, and hence take another example that's non-scientific.\n",
    "\n",
    "<img width=\"256\" alt=\"Laminopathic nuclei\" src=\"https://upload.wikimedia.org/wikipedia/commons/2/28/Laminopathic_nuclei.jpg\">\n",
    "\n",
    "This is a collage of microscopy images showing fibroblasts with a stained lamin layer around the nucleus. Samples from a control (a, b) and a subject with [Progreria](https://en.wikipedia.org/wiki/Progeria) (c, d) where nuclear envelopes are shaped irregularly. The image is from [Paradisi et al. (2005)](https://doi.org/10.1186/1471-2121-6-27), CC BY 2.0 via [Wiki Commons](https://commons.wikimedia.org/wiki/File:Laminopathic_nuclei.jpg)."
   ]
  },
  {
   "cell_type": "code",
   "execution_count": 3,
   "id": "12d97b84-0434-4124-b285-3f8376917baa",
   "metadata": {},
   "outputs": [],
   "source": [
    "filepath, _ = request.urlretrieve(\n",
    "    \"https://upload.wikimedia.org/wikipedia/commons/2/28/Laminopathic_nuclei.jpg\",\n",
    "    \"laminopathic_nuclei.jpg\",\n",
    ")"
   ]
  },
  {
   "cell_type": "code",
   "execution_count": 4,
   "id": "9a96800c",
   "metadata": {},
   "outputs": [],
   "source": [
    "db.do.ingest.add(filepath)"
   ]
  },
  {
   "cell_type": "markdown",
   "id": "54fe6f36-d522-4360-9125-e2ffb84e8128",
   "metadata": {},
   "source": [
    "We see that notebook and data are linked against the new user."
   ]
  },
  {
   "cell_type": "code",
   "execution_count": 5,
   "id": "208d09da-939d-42b8-b203-1d6f8efecea7",
   "metadata": {},
   "outputs": [
    {
     "name": "stdout",
     "output_type": "stream",
     "text": [
      "ℹ️ Added notebook 'Collaborate' (ZCdINSMzjawp, 1) by user kurt.hein@gmx.de (GWoum48D).\n",
      "✅ Ingested the following dobjects:\n",
      "+----------------------------------------------------+---------------------------------+-----------------------------+\n",
      "|                      \u001b[1;92mdobject\u001b[0m                       |             \u001b[1;94mjupynb\u001b[0m              |            \u001b[1;95muser\u001b[0m             |\n",
      "+----------------------------------------------------+---------------------------------+-----------------------------+\n",
      "| laminopathic_nuclei.jpg (obx0uiCaqBAzTXBIlnAAQ, 1) | 'Collaborate' (ZCdINSMzjawp, 1) | kurt.hein@gmx.de (GWoum48D) |\n",
      "+----------------------------------------------------+---------------------------------+-----------------------------+\n"
     ]
    },
    {
     "ename": "RuntimeError",
     "evalue": "Make sure you save the notebook in your editor before publishing!\nYou can avoid the need for manually saving in Jupyter Lab, which auto-saves the buffer during publish.",
     "output_type": "error",
     "traceback": [
      "\u001b[0;31m---------------------------------------------------------------------------\u001b[0m",
      "\u001b[0;31mRuntimeError\u001b[0m                              Traceback (most recent call last)",
      "\u001b[1;32m/Users/sunnysun/Documents/repos/lamindb/docs/tutorials/collaborate.ipynb Cell 9\u001b[0m in \u001b[0;36m<cell line: 1>\u001b[0;34m()\u001b[0m\n\u001b[0;32m----> <a href='vscode-notebook-cell:/Users/sunnysun/Documents/repos/lamindb/docs/tutorials/collaborate.ipynb#ch0000008?line=0'>1</a>\u001b[0m db\u001b[39m.\u001b[39;49mdo\u001b[39m.\u001b[39;49mingest\u001b[39m.\u001b[39;49mcommit()\n",
      "File \u001b[0;32m~/Documents/repos/lamindb/lamindb/do/_ingest.py:195\u001b[0m, in \u001b[0;36mIngest.commit\u001b[0;34m(self, jupynb_v)\u001b[0m\n\u001b[1;32m    184\u001b[0m log_table \u001b[39m=\u001b[39m tabulate(\n\u001b[1;32m    185\u001b[0m     logs,\n\u001b[1;32m    186\u001b[0m     headers\u001b[39m=\u001b[39m[\n\u001b[0;32m   (...)\u001b[0m\n\u001b[1;32m    191\u001b[0m     tablefmt\u001b[39m=\u001b[39m\u001b[39m\"\u001b[39m\u001b[39mpretty\u001b[39m\u001b[39m\"\u001b[39m,\n\u001b[1;32m    192\u001b[0m )\n\u001b[1;32m    193\u001b[0m logger\u001b[39m.\u001b[39msuccess(\u001b[39mf\u001b[39m\u001b[39m\"\u001b[39m\u001b[39mIngested the following dobjects:\u001b[39m\u001b[39m\\n\u001b[39;00m\u001b[39m{\u001b[39;00mlog_table\u001b[39m}\u001b[39;00m\u001b[39m\"\u001b[39m)\n\u001b[0;32m--> 195\u001b[0m publish(calling_statement\u001b[39m=\u001b[39;49m\u001b[39m\"\u001b[39;49m\u001b[39mcommit(\u001b[39;49m\u001b[39m\"\u001b[39;49m)\n",
      "File \u001b[0;32m~/Documents/repos/nbproject/nbproject/_publish.py:61\u001b[0m, in \u001b[0;36mpublish\u001b[0;34m(version, i_confirm_i_saved, **kwargs)\u001b[0m\n\u001b[1;32m     59\u001b[0m         \u001b[39mpass\u001b[39;00m\n\u001b[1;32m     60\u001b[0m     \u001b[39melif\u001b[39;00m \u001b[39mnot\u001b[39;00m i_confirm_i_saved:\n\u001b[0;32m---> 61\u001b[0m         \u001b[39mraise\u001b[39;00m \u001b[39mRuntimeError\u001b[39;00m(\n\u001b[1;32m     62\u001b[0m             \u001b[39m\"\u001b[39m\u001b[39mMake sure you save the notebook in your editor before publishing!\u001b[39m\u001b[39m\\n\u001b[39;00m\u001b[39m\"\u001b[39m\n\u001b[1;32m     63\u001b[0m             \u001b[39m\"\u001b[39m\u001b[39mYou can avoid the need for manually saving in Jupyter Lab, which auto-saves the buffer during publish.\u001b[39m\u001b[39m\"\u001b[39m  \u001b[39m# noqa\u001b[39;00m\n\u001b[1;32m     64\u001b[0m         )\n\u001b[1;32m     66\u001b[0m nb \u001b[39m=\u001b[39m read_notebook(meta\u001b[39m.\u001b[39m_filepath)  \u001b[39m# type: ignore\u001b[39;00m\n\u001b[1;32m     67\u001b[0m \u001b[39mif\u001b[39;00m \u001b[39mnot\u001b[39;00m check_last_cell(nb, calling_statement):\n",
      "\u001b[0;31mRuntimeError\u001b[0m: Make sure you save the notebook in your editor before publishing!\nYou can avoid the need for manually saving in Jupyter Lab, which auto-saves the buffer during publish."
     ]
    }
   ],
   "source": [
    "db.do.ingest.commit()"
   ]
  }
 ],
 "metadata": {
  "kernelspec": {
   "display_name": "Python 3.9.12 ('base1')",
   "language": "python",
   "name": "python3"
  },
  "language_info": {
   "codemirror_mode": {
    "name": "ipython",
    "version": 3
   },
   "file_extension": ".py",
   "mimetype": "text/x-python",
   "name": "python",
   "nbconvert_exporter": "python",
   "pygments_lexer": "ipython3",
   "version": "3.9.12"
  },
  "nbproject": {
   "dependency": {
    "lamindb": "0.3a1",
    "nbproject": "0.1.0",
    "scikit-learn": "1.1.1"
   },
   "id": "ZCdINSMzjawp",
   "time_init": "2022-07-01T07:37:38.531053+00:00",
   "version": "draft"
  },
  "vscode": {
   "interpreter": {
    "hash": "2775e555cdc2d728c54aa22130c79afb1fa4da64f22f2fc6dcc2aa346c4e0672"
   }
  }
 },
 "nbformat": 4,
 "nbformat_minor": 5
}
