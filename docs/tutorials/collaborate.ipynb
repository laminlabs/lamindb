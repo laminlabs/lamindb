{
 "cells": [
  {
   "cell_type": "markdown",
   "id": "706e099e-bc94-40df-918f-ebeacd6a2b6c",
   "metadata": {},
   "source": [
    "# Collaborate"
   ]
  },
  {
   "cell_type": "markdown",
   "id": "6ba2a6d4-7f28-4123-a527-76b76ce511de",
   "metadata": {},
   "source": [
    "Let us now pretend we're a different user (who already signed up!)."
   ]
  },
  {
   "cell_type": "code",
   "execution_count": 1,
   "id": "a8cd2beb-39ff-40d5-866a-296ac67cdbc3",
   "metadata": {},
   "outputs": [],
   "source": [
    "!lndb login --email \"kurt.hein@gmx.de\" --secret \"uIoEGyiCj0qcXbGhTpOAuY6CH86xauzAsOSlp95A\""
   ]
  },
  {
   "cell_type": "code",
   "execution_count": 2,
   "id": "16ada2e3-c940-41e4-9a9c-5ca42f3765ca",
   "metadata": {},
   "outputs": [
    {
     "data": {
      "text/html": [
       "<table><tbody><tr><td style='text-align: left;'><b>id</b></td><td style='text-align: left;'>ZCdI<span style='opacity:0.3'>NSMzjawp</span></td></tr><tr><td style='text-align: left;'><b>version</b></td><td style='text-align: left;'>draft</td></tr><tr><td style='text-align: left;'><b>time_init</b></td><td style='text-align: left;'>2022-07-01 07:37</td></tr><tr><td style='text-align: left;'><b>time_run</b></td><td style='text-align: left;'>2022-07-30 10:29</td></tr><tr><td style='text-align: left;'><b>pypackage</b></td><td style='text-align: left;'>lamindb==0.1.2</td></tr></tbody></table>"
      ],
      "text/plain": [
       "<IPython.core.display.HTML object>"
      ]
     },
     "metadata": {},
     "output_type": "display_data"
    }
   ],
   "source": [
    "import lamindb as db\n",
    "from urllib import request\n",
    "\n",
    "db.header()"
   ]
  },
  {
   "cell_type": "markdown",
   "id": "882c51ea-d089-4c6c-a428-4d583b551cda",
   "metadata": {},
   "source": [
    "We still don't care about querying data that we ingest by anything other than data provenance, and hence take another example that's non-scientific.\n",
    "\n",
    "<img width=\"256\" alt=\"Laminopathic nuclei\" src=\"https://upload.wikimedia.org/wikipedia/commons/2/28/Laminopathic_nuclei.jpg\">\n",
    "\n",
    "This is a collage of microscopy images showing fibroblasts with a stained lamin layer around the nucleus. Samples from a control (a, b) and a subject with [Progreria](https://en.wikipedia.org/wiki/Progeria) (c, d) where nuclear envelopes are shaped irregularly. The image is from [Paradisi et al. (2005)](https://doi.org/10.1186/1471-2121-6-27), CC BY 2.0 via [Wiki Commons](https://commons.wikimedia.org/wiki/File:Laminopathic_nuclei.jpg)."
   ]
  },
  {
   "cell_type": "code",
   "execution_count": 3,
   "id": "12d97b84-0434-4124-b285-3f8376917baa",
   "metadata": {},
   "outputs": [],
   "source": [
    "filepath, _ = request.urlretrieve(\n",
    "    \"https://upload.wikimedia.org/wikipedia/commons/2/28/Laminopathic_nuclei.jpg\",\n",
    "    \"laminopathic_nuclei.jpg\",\n",
    ")"
   ]
  },
  {
   "cell_type": "code",
   "execution_count": 4,
   "id": "9a96800c",
   "metadata": {},
   "outputs": [],
   "source": [
    "db.do.ingest.add(filepath)"
   ]
  },
  {
   "cell_type": "markdown",
   "id": "54fe6f36-d522-4360-9125-e2ffb84e8128",
   "metadata": {},
   "source": [
    "We see that notebook and data are linked against the new user."
   ]
  },
  {
   "cell_type": "code",
   "execution_count": null,
   "id": "208d09da-939d-42b8-b203-1d6f8efecea7",
   "metadata": {},
   "outputs": [],
   "source": [
    "db.do.ingest.commit()"
   ]
  }
 ],
 "metadata": {
  "kernelspec": {
   "display_name": "Python 3 (ipykernel)",
   "language": "python",
   "name": "python3"
  },
  "language_info": {
   "codemirror_mode": {
    "name": "ipython",
    "version": 3
   },
   "file_extension": ".py",
   "mimetype": "text/x-python",
   "name": "python",
   "nbconvert_exporter": "python",
   "pygments_lexer": "ipython3",
   "version": "3.9.12"
  },
  "nbproject": {
   "dependency": {
    "lamindb": "0.3a1",
    "nbproject": "0.1.0",
    "scikit-learn": "1.1.1"
   },
   "id": "ZCdINSMzjawp",
   "time_init": "2022-07-01T07:37:38.531053+00:00",
   "version": "draft"
  },
  "vscode": {
   "interpreter": {
    "hash": "2775e555cdc2d728c54aa22130c79afb1fa4da64f22f2fc6dcc2aa346c4e0672"
   }
  }
 },
 "nbformat": 4,
 "nbformat_minor": 5
}
