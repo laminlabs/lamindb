{
 "cells": [
  {
   "cell_type": "markdown",
   "metadata": {},
   "source": [
    "# Link features"
   ]
  },
  {
   "cell_type": "markdown",
   "metadata": {},
   "source": [
    "So far, we haven't enabled ourselves to query for the features[^features] of ingested data, and used LaminDB like a data lake.\n",
    "\n",
    "[^features]: We'll mostly use the term feature for synonyms variable (statistics), column and field (databases), dimension (machine learning)."
   ]
  },
  {
   "cell_type": "markdown",
   "metadata": {},
   "source": [
    "\n",
    "We can also use LaminDB like a queryable data warehouse to store links[^relations] and monitor data integrity.\n",
    "\n",
    "Let us explain how to implement this by providing feature models at ingestion!\n",
    "\n",
    "[^relations]: We mostly use the term link for synonyms relations and references."
   ]
  },
  {
   "cell_type": "code",
   "execution_count": 1,
   "metadata": {
    "execution": {
     "iopub.execute_input": "2022-08-23T13:10:47.556841Z",
     "iopub.status.busy": "2022-08-23T13:10:47.556316Z",
     "iopub.status.idle": "2022-08-23T13:16:00.455277Z",
     "shell.execute_reply": "2022-08-23T13:16:00.454683Z"
    }
   },
   "outputs": [
    {
     "name": "stderr",
     "output_type": "stream",
     "text": [
      "2022-08-23 15:21:28,188:INFO - Note: NumExpr detected 10 cores but \"NUMEXPR_MAX_THREADS\" not set, so enforcing safe limit of 8.\n",
      "2022-08-23 15:21:28,188:INFO - NumExpr defaulting to 8 threads.\n"
     ]
    },
    {
     "data": {
      "text/html": [
       "<table><tbody><tr><td style='text-align: left;'><b>id</b></td><td style='text-align: left;'>ZKJX<span style='opacity:0.3'>7AnXzQQp</span></td></tr><tr><td style='text-align: left;'><b>version</b></td><td style='text-align: left;'>draft</td></tr><tr><td style='text-align: left;'><b>time_init</b></td><td style='text-align: left;'>2022-07-30 16:14</td></tr><tr><td style='text-align: left;'><b>time_run</b></td><td style='text-align: left;'>2022-08-23 13:21</td></tr><tr><td style='text-align: left;'><b>pypackage</b></td><td style='text-align: left;'>bionty==0.0.6+17.g0499eed lamindb==0.2.1 scanpy==1.8.2</td></tr></tbody></table>"
      ],
      "text/plain": [
       "<IPython.core.display.HTML object>"
      ]
     },
     "metadata": {},
     "output_type": "display_data"
    }
   ],
   "source": [
    "import lamindb as db\n",
    "import bionty as bt  # https://lamin.ai/docs/bionty\n",
    "import scanpy as sc  # https://scanpy.readthedocs.io\n",
    "\n",
    "db.header()"
   ]
  },
  {
   "cell_type": "markdown",
   "metadata": {},
   "source": [
    "## Example datasets"
   ]
  },
  {
   "cell_type": "markdown",
   "metadata": {},
   "source": [
    "Consider\n",
    "- `data1`: a flow cytometry dataset in form of an `.fcs` file\n",
    "- `data2`: a scRNA-seq count matrix in form of an `AnnData` object in memory"
   ]
  },
  {
   "cell_type": "code",
   "execution_count": 2,
   "metadata": {
    "execution": {
     "iopub.execute_input": "2022-08-23T13:16:00.461934Z",
     "iopub.status.busy": "2022-08-23T13:16:00.461604Z",
     "iopub.status.idle": "2022-08-23T13:16:02.211712Z",
     "shell.execute_reply": "2022-08-23T13:16:02.209990Z"
    }
   },
   "outputs": [
    {
     "data": {
      "text/plain": [
       "PosixPath('example.fcs')"
      ]
     },
     "execution_count": 2,
     "metadata": {},
     "output_type": "execute_result"
    }
   ],
   "source": [
    "data1 = db.datasets.file_fcs()\n",
    "data1"
   ]
  },
  {
   "cell_type": "code",
   "execution_count": 3,
   "metadata": {
    "execution": {
     "iopub.execute_input": "2022-08-23T13:16:02.218485Z",
     "iopub.status.busy": "2022-08-23T13:16:02.217956Z",
     "iopub.status.idle": "2022-08-23T13:16:04.658585Z",
     "shell.execute_reply": "2022-08-23T13:16:04.658038Z"
    }
   },
   "outputs": [],
   "source": [
    "data2 = sc.read(db.datasets.file_mouse_sc_lymph_node())"
   ]
  },
  {
   "cell_type": "markdown",
   "metadata": {},
   "source": [
    "## Define feature models"
   ]
  },
  {
   "cell_type": "markdown",
   "metadata": {},
   "source": [
    "For `data1`, we specify a feature model using the `bionty` `Gene` entity with gene symbols."
   ]
  },
  {
   "cell_type": "code",
   "execution_count": 4,
   "metadata": {
    "execution": {
     "iopub.execute_input": "2022-08-23T13:16:04.661599Z",
     "iopub.status.busy": "2022-08-23T13:16:04.661361Z",
     "iopub.status.idle": "2022-08-23T13:16:04.664717Z",
     "shell.execute_reply": "2022-08-23T13:16:04.664216Z"
    }
   },
   "outputs": [],
   "source": [
    "feature_model1 = bt.Gene(id=bt.lookup.gene_id.name, species=bt.lookup.species.human)"
   ]
  },
  {
   "cell_type": "markdown",
   "metadata": {},
   "source": [
    "Let us now ingest the data by passing a feature model to `db.do.ingest.add`, which will enable us to query the `dobject` by features by creating all necessary links in the background.\n",
    "\n",
    "It will also log out and store information on data integrity:"
   ]
  },
  {
   "cell_type": "code",
   "execution_count": 5,
   "metadata": {
    "execution": {
     "iopub.execute_input": "2022-08-23T13:16:04.667315Z",
     "iopub.status.busy": "2022-08-23T13:16:04.667140Z",
     "iopub.status.idle": "2022-08-23T13:16:09.531749Z",
     "shell.execute_reply": "2022-08-23T13:16:09.530752Z"
    }
   },
   "outputs": [
    {
     "name": "stdout",
     "output_type": "stream",
     "text": [
      "🔶 name column not found, using index as features.\n"
     ]
    },
    {
     "name": "stdout",
     "output_type": "stream",
     "text": [
      "✅ 9 terms (56.2%) are linked.\n"
     ]
    },
    {
     "name": "stdout",
     "output_type": "stream",
     "text": [
      "🔶 7 terms (43.8%) are not linked.\n"
     ]
    }
   ],
   "source": [
    "db.do.ingest.add(data1, feature_model=feature_model1)"
   ]
  },
  {
   "cell_type": "markdown",
   "metadata": {},
   "source": [
    "Using this feature model, we can't link and hence won't be able to query for 9 features.\n",
    "\n",
    "We can overcome this by working with a custom feature model, discussed later."
   ]
  },
  {
   "cell_type": "markdown",
   "metadata": {},
   "source": [
    "Features in data2 are indexed by Ensemble gene ids. For an overview of gene ids, see: [`bt.lookup.gene_id`](https://lamin.ai/docs/bionty/api)."
   ]
  },
  {
   "cell_type": "code",
   "execution_count": 6,
   "metadata": {
    "execution": {
     "iopub.execute_input": "2022-08-23T13:16:09.534946Z",
     "iopub.status.busy": "2022-08-23T13:16:09.534655Z",
     "iopub.status.idle": "2022-08-23T13:16:09.542151Z",
     "shell.execute_reply": "2022-08-23T13:16:09.541638Z"
    }
   },
   "outputs": [
    {
     "data": {
      "text/html": [
       "<div>\n",
       "<style scoped>\n",
       "    .dataframe tbody tr th:only-of-type {\n",
       "        vertical-align: middle;\n",
       "    }\n",
       "\n",
       "    .dataframe tbody tr th {\n",
       "        vertical-align: top;\n",
       "    }\n",
       "\n",
       "    .dataframe thead th {\n",
       "        text-align: right;\n",
       "    }\n",
       "</style>\n",
       "<table border=\"1\" class=\"dataframe\">\n",
       "  <thead>\n",
       "    <tr style=\"text-align: right;\">\n",
       "      <th></th>\n",
       "    </tr>\n",
       "  </thead>\n",
       "  <tbody>\n",
       "    <tr>\n",
       "      <th>ENSMUSG00000104923</th>\n",
       "    </tr>\n",
       "    <tr>\n",
       "      <th>ENSMUSG00000079038</th>\n",
       "    </tr>\n",
       "    <tr>\n",
       "      <th>ENSMUSG00000069755</th>\n",
       "    </tr>\n",
       "    <tr>\n",
       "      <th>ENSMUSG00000040648</th>\n",
       "    </tr>\n",
       "    <tr>\n",
       "      <th>ENSMUSG00000113486</th>\n",
       "    </tr>\n",
       "  </tbody>\n",
       "</table>\n",
       "</div>"
      ],
      "text/plain": [
       "Empty DataFrame\n",
       "Columns: []\n",
       "Index: [ENSMUSG00000104923, ENSMUSG00000079038, ENSMUSG00000069755, ENSMUSG00000040648, ENSMUSG00000113486]"
      ]
     },
     "execution_count": 6,
     "metadata": {},
     "output_type": "execute_result"
    }
   ],
   "source": [
    "data2.var.head()"
   ]
  },
  {
   "cell_type": "markdown",
   "metadata": {},
   "source": [
    "Hence, we use a feature model based on Ensemble IDs and ingest the data with it."
   ]
  },
  {
   "cell_type": "code",
   "execution_count": 7,
   "metadata": {
    "execution": {
     "iopub.execute_input": "2022-08-23T13:16:09.544901Z",
     "iopub.status.busy": "2022-08-23T13:16:09.544634Z",
     "iopub.status.idle": "2022-08-23T13:16:09.548335Z",
     "shell.execute_reply": "2022-08-23T13:16:09.547831Z"
    }
   },
   "outputs": [],
   "source": [
    "feature_model2 = bt.Gene(\n",
    "    id=bt.lookup.gene_id.ensembl_gene_id, species=bt.lookup.species.mouse\n",
    ")"
   ]
  },
  {
   "cell_type": "code",
   "execution_count": 8,
   "metadata": {
    "execution": {
     "iopub.execute_input": "2022-08-23T13:16:09.551062Z",
     "iopub.status.busy": "2022-08-23T13:16:09.550854Z",
     "iopub.status.idle": "2022-08-23T13:16:12.354112Z",
     "shell.execute_reply": "2022-08-23T13:16:12.353457Z"
    }
   },
   "outputs": [
    {
     "name": "stdout",
     "output_type": "stream",
     "text": [
      "🔶 ensembl_gene_id column not found, using index as features.\n"
     ]
    },
    {
     "name": "stdout",
     "output_type": "stream",
     "text": [
      "✅ 10000 terms (100.0%) are linked.\n"
     ]
    },
    {
     "name": "stdout",
     "output_type": "stream",
     "text": [
      "🔶 0 terms (0.0%) are not linked.\n"
     ]
    }
   ],
   "source": [
    "db.do.ingest.add(data2, name=\"mouse_sc_lymph_node\", feature_model=feature_model2)"
   ]
  },
  {
   "cell_type": "markdown",
   "metadata": {},
   "source": [
    "We can retrieve the integrity information through `.logs`:"
   ]
  },
  {
   "cell_type": "code",
   "execution_count": 9,
   "metadata": {
    "execution": {
     "iopub.execute_input": "2022-08-23T13:16:12.357341Z",
     "iopub.status.busy": "2022-08-23T13:16:12.357095Z",
     "iopub.status.idle": "2022-08-23T13:16:12.362627Z",
     "shell.execute_reply": "2022-08-23T13:16:12.362066Z"
    }
   },
   "outputs": [
    {
     "data": {
      "text/plain": [
       "{'example.fcs': {'feature': 'name',\n",
       "  'n_mapped': 9,\n",
       "  'percent_mapped': 56.2,\n",
       "  'unmapped': Index(['FSC-A', 'FSC-H', 'SSC-A', 'KI67', 'CD3', 'CD45RO', 'VIVID / CD14'], dtype='object')},\n",
       " 'mouse_sc_lymph_node.h5ad': {'feature': 'ensembl_gene_id',\n",
       "  'n_mapped': 10000,\n",
       "  'percent_mapped': 100.0,\n",
       "  'unmapped': Index([], dtype='object')}}"
      ]
     },
     "execution_count": 9,
     "metadata": {},
     "output_type": "execute_result"
    }
   ],
   "source": [
    "db.do.ingest.logs"
   ]
  },
  {
   "cell_type": "markdown",
   "metadata": {},
   "source": [
    "Finalize the ingestion."
   ]
  },
  {
   "cell_type": "code",
   "execution_count": 10,
   "metadata": {
    "execution": {
     "iopub.execute_input": "2022-08-23T13:16:12.365709Z",
     "iopub.status.busy": "2022-08-23T13:16:12.365459Z",
     "iopub.status.idle": "2022-08-23T13:16:22.009688Z",
     "shell.execute_reply": "2022-08-23T13:16:22.009239Z"
    }
   },
   "outputs": [
    {
     "name": "stdout",
     "output_type": "stream",
     "text": [
      "ℹ️ Added notebook 'Link features' (ZKJX7AnXzQQp, 1) by user test-user1 (9ypQ1yrW).\n",
      "✅ Registered readout_type: 1\n",
      "✅ Annotated data OrZ8HGyfKWjVUtOKkKJzc with the following features:\n",
      "+------------+------------+------------+\n",
      "| \u001b[1;92mgeneset.id\u001b[0m | \u001b[1;95mbiometa.id\u001b[0m | \u001b[1;94mspecies.id\u001b[0m |\n",
      "+------------+------------+------------+\n",
      "|     1      |     1      |     1      |\n",
      "+------------+------------+------------+\n",
      "✅ Registered readout_type: 2\n",
      "✅ Annotated data D9jH6s8UGL6l04muQnFla with the following features:\n",
      "+------------+------------+------------+\n",
      "| \u001b[1;92mgeneset.id\u001b[0m | \u001b[1;95mbiometa.id\u001b[0m | \u001b[1;94mspecies.id\u001b[0m |\n",
      "+------------+------------+------------+\n",
      "|     2      |     2      |     2      |\n",
      "+------------+------------+------------+\n",
      "✅ Ingested the following dobjects:\n",
      "+-----------------------------------------------------+-----------------------------------+-----------------------+\n",
      "|                       \u001b[1;92mdobject\u001b[0m                       |              \u001b[1;94mjupynb\u001b[0m               |         \u001b[1;95muser\u001b[0m          |\n",
      "+-----------------------------------------------------+-----------------------------------+-----------------------+\n",
      "|       example.fcs (OrZ8HGyfKWjVUtOKkKJzc, 1)        | 'Link features' (ZKJX7AnXzQQp, 1) | test-user1 (9ypQ1yrW) |\n",
      "| mouse_sc_lymph_node.h5ad (D9jH6s8UGL6l04muQnFla, 1) | 'Link features' (ZKJX7AnXzQQp, 1) | test-user1 (9ypQ1yrW) |\n",
      "+-----------------------------------------------------+-----------------------------------+-----------------------+\n"
     ]
    },
    {
     "ename": "RuntimeError",
     "evalue": "Make sure you save the notebook in your editor before publishing!\nYou can avoid the need for manually saving in Jupyter Lab, which auto-saves the buffer during publish.",
     "output_type": "error",
     "traceback": [
      "\u001b[0;31m---------------------------------------------------------------------------\u001b[0m",
      "\u001b[0;31mRuntimeError\u001b[0m                              Traceback (most recent call last)",
      "\u001b[1;32m/Users/sunnysun/Documents/repos/lamindb/docs/tutorials/link-features.ipynb Cell 23\u001b[0m in \u001b[0;36m<cell line: 1>\u001b[0;34m()\u001b[0m\n\u001b[0;32m----> <a href='vscode-notebook-cell:/Users/sunnysun/Documents/repos/lamindb/docs/tutorials/link-features.ipynb#ch0000022?line=0'>1</a>\u001b[0m db\u001b[39m.\u001b[39;49mdo\u001b[39m.\u001b[39;49mingest\u001b[39m.\u001b[39;49mcommit()\n",
      "File \u001b[0;32m~/Documents/repos/lamindb/lamindb/do/_ingest.py:191\u001b[0m, in \u001b[0;36mIngest.commit\u001b[0;34m(self, jupynb_v)\u001b[0m\n\u001b[1;32m    180\u001b[0m log_table \u001b[39m=\u001b[39m tabulate(\n\u001b[1;32m    181\u001b[0m     logs,\n\u001b[1;32m    182\u001b[0m     headers\u001b[39m=\u001b[39m[\n\u001b[0;32m   (...)\u001b[0m\n\u001b[1;32m    187\u001b[0m     tablefmt\u001b[39m=\u001b[39m\u001b[39m\"\u001b[39m\u001b[39mpretty\u001b[39m\u001b[39m\"\u001b[39m,\n\u001b[1;32m    188\u001b[0m )\n\u001b[1;32m    189\u001b[0m logger\u001b[39m.\u001b[39msuccess(\u001b[39mf\u001b[39m\u001b[39m\"\u001b[39m\u001b[39mIngested the following dobjects:\u001b[39m\u001b[39m\\n\u001b[39;00m\u001b[39m{\u001b[39;00mlog_table\u001b[39m}\u001b[39;00m\u001b[39m\"\u001b[39m)\n\u001b[0;32m--> 191\u001b[0m publish(calling_statement\u001b[39m=\u001b[39;49m\u001b[39m\"\u001b[39;49m\u001b[39mcommit(\u001b[39;49m\u001b[39m\"\u001b[39;49m)\n",
      "File \u001b[0;32m~/Documents/repos/nbproject/nbproject/_publish.py:61\u001b[0m, in \u001b[0;36mpublish\u001b[0;34m(version, i_confirm_i_saved, **kwargs)\u001b[0m\n\u001b[1;32m     59\u001b[0m         \u001b[39mpass\u001b[39;00m\n\u001b[1;32m     60\u001b[0m     \u001b[39melif\u001b[39;00m \u001b[39mnot\u001b[39;00m i_confirm_i_saved:\n\u001b[0;32m---> 61\u001b[0m         \u001b[39mraise\u001b[39;00m \u001b[39mRuntimeError\u001b[39;00m(\n\u001b[1;32m     62\u001b[0m             \u001b[39m\"\u001b[39m\u001b[39mMake sure you save the notebook in your editor before publishing!\u001b[39m\u001b[39m\\n\u001b[39;00m\u001b[39m\"\u001b[39m\n\u001b[1;32m     63\u001b[0m             \u001b[39m\"\u001b[39m\u001b[39mYou can avoid the need for manually saving in Jupyter Lab, which auto-saves the buffer during publish.\u001b[39m\u001b[39m\"\u001b[39m  \u001b[39m# noqa\u001b[39;00m\n\u001b[1;32m     64\u001b[0m         )\n\u001b[1;32m     66\u001b[0m nb \u001b[39m=\u001b[39m read_notebook(meta\u001b[39m.\u001b[39m_filepath)  \u001b[39m# type: ignore\u001b[39;00m\n\u001b[1;32m     67\u001b[0m \u001b[39mif\u001b[39;00m \u001b[39mnot\u001b[39;00m check_last_cell(nb, calling_statement):\n",
      "\u001b[0;31mRuntimeError\u001b[0m: Make sure you save the notebook in your editor before publishing!\nYou can avoid the need for manually saving in Jupyter Lab, which auto-saves the buffer during publish."
     ]
    }
   ],
   "source": [
    "db.do.ingest.commit()"
   ]
  },
  {
   "cell_type": "code",
   "execution_count": null,
   "metadata": {},
   "outputs": [],
   "source": []
  }
 ],
 "metadata": {
  "kernelspec": {
   "display_name": "Python 3.9.13 ('py39')",
   "language": "python",
   "name": "python3"
  },
  "language_info": {
   "codemirror_mode": {
    "name": "ipython",
    "version": 3
   },
   "file_extension": ".py",
   "mimetype": "text/x-python",
   "name": "python",
   "nbconvert_exporter": "python",
   "pygments_lexer": "ipython3",
   "version": "3.9.12"
  },
  "nbproject": {
   "id": "ZKJX7AnXzQQp",
   "parent": null,
   "pypackage": null,
   "time_init": "2022-07-30T16:14:52.152853+00:00",
   "version": "draft"
  },
  "vscode": {
   "interpreter": {
    "hash": "ae1fefc8646a06dd2e75004cd934adda7c5727b046986a772e3b44b0ffba9754"
   }
  }
 },
 "nbformat": 4,
 "nbformat_minor": 4
}
