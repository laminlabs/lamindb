{
 "cells": [
  {
   "cell_type": "markdown",
   "metadata": {},
   "source": [
    "# Link features"
   ]
  },
  {
   "cell_type": "markdown",
   "metadata": {},
   "source": [
    "So far, we haven't enabled ourselves to query for the features[^features] of ingested data, and used LaminDB like a data lake.\n",
    "\n",
    "[^features]: We'll mostly use the term feature for synonyms variable (statistics), column and field (databases), dimension (machine learning)."
   ]
  },
  {
   "cell_type": "markdown",
   "metadata": {},
   "source": [
    "\n",
    "We can also use LaminDB like a queryable data warehouse to store links[^relations] and monitor data integrity.\n",
    "\n",
    "Let us explain how to implement this by providing feature models at ingestion!\n",
    "\n",
    "[^relations]: We mostly use the term link for synonyms relations and references."
   ]
  },
  {
   "cell_type": "code",
   "execution_count": 1,
   "metadata": {
    "execution": {
     "iopub.execute_input": "2022-08-23T13:29:36.521407Z",
     "iopub.status.busy": "2022-08-23T13:29:36.520819Z",
     "iopub.status.idle": "2022-08-23T13:29:40.333841Z",
     "shell.execute_reply": "2022-08-23T13:29:40.333382Z"
    }
   },
   "outputs": [
    {
     "data": {
      "text/html": [
       "<table><tbody><tr><td style='text-align: left;'><b>id</b></td><td style='text-align: left;'>ZKJX<span style='opacity:0.3'>7AnXzQQp</span></td></tr><tr><td style='text-align: left;'><b>version</b></td><td style='text-align: left;'>draft</td></tr><tr><td style='text-align: left;'><b>time_init</b></td><td style='text-align: left;'>2022-07-30 16:14</td></tr><tr><td style='text-align: left;'><b>time_run</b></td><td style='text-align: left;'>2022-08-23 13:29</td></tr><tr><td style='text-align: left;'><b>pypackage</b></td><td style='text-align: left;'>bionty==0.1.0 lamindb==0.2.1 scanpy==1.9.1</td></tr></tbody></table>"
      ],
      "text/plain": [
       "<IPython.core.display.HTML object>"
      ]
     },
     "metadata": {},
     "output_type": "display_data"
    }
   ],
   "source": [
    "import lamindb as db\n",
    "import bionty as bt  # https://lamin.ai/docs/bionty\n",
    "import scanpy as sc  # https://scanpy.readthedocs.io\n",
    "\n",
    "db.header()"
   ]
  },
  {
   "cell_type": "markdown",
   "metadata": {},
   "source": [
    "## Example datasets"
   ]
  },
  {
   "cell_type": "markdown",
   "metadata": {},
   "source": [
    "Consider\n",
    "- `data1`: a flow cytometry dataset in form of an `.fcs` file\n",
    "- `data2`: a scRNA-seq count matrix in form of an `AnnData` object in memory"
   ]
  },
  {
   "cell_type": "code",
   "execution_count": 2,
   "metadata": {
    "execution": {
     "iopub.execute_input": "2022-08-23T13:29:40.336180Z",
     "iopub.status.busy": "2022-08-23T13:29:40.335898Z",
     "iopub.status.idle": "2022-08-23T13:29:42.037390Z",
     "shell.execute_reply": "2022-08-23T13:29:42.036593Z"
    }
   },
   "outputs": [
    {
     "data": {
      "text/plain": [
       "PosixPath('example.fcs')"
      ]
     },
     "execution_count": 2,
     "metadata": {},
     "output_type": "execute_result"
    }
   ],
   "source": [
    "data1 = db.datasets.file_fcs()\n",
    "data1"
   ]
  },
  {
   "cell_type": "code",
   "execution_count": 3,
   "metadata": {
    "execution": {
     "iopub.execute_input": "2022-08-23T13:29:42.039783Z",
     "iopub.status.busy": "2022-08-23T13:29:42.039594Z",
     "iopub.status.idle": "2022-08-23T13:29:44.398716Z",
     "shell.execute_reply": "2022-08-23T13:29:44.398323Z"
    }
   },
   "outputs": [],
   "source": [
    "data2 = sc.read(db.datasets.file_mouse_sc_lymph_node())"
   ]
  },
  {
   "cell_type": "markdown",
   "metadata": {},
   "source": [
    "## Define feature models"
   ]
  },
  {
   "cell_type": "markdown",
   "metadata": {},
   "source": [
    "For `data1`, we specify a feature model using the `bionty` `Gene` entity with gene symbols."
   ]
  },
  {
   "cell_type": "code",
   "execution_count": 4,
   "metadata": {
    "execution": {
     "iopub.execute_input": "2022-08-23T13:29:44.401115Z",
     "iopub.status.busy": "2022-08-23T13:29:44.400866Z",
     "iopub.status.idle": "2022-08-23T13:29:44.403757Z",
     "shell.execute_reply": "2022-08-23T13:29:44.403348Z"
    }
   },
   "outputs": [],
   "source": [
    "feature_model1 = bt.Gene(id=bt.lookup.gene_id.name, species=bt.lookup.species.human)"
   ]
  },
  {
   "cell_type": "markdown",
   "metadata": {},
   "source": [
    "Let us now ingest the data by passing a feature model to `db.do.ingest.add`, which will enable us to query the `dobject` by features by creating all necessary links in the background.\n",
    "\n",
    "It will also log out and store information on data integrity:"
   ]
  },
  {
   "cell_type": "code",
   "execution_count": 5,
   "metadata": {
    "execution": {
     "iopub.execute_input": "2022-08-23T13:29:44.405958Z",
     "iopub.status.busy": "2022-08-23T13:29:44.405789Z",
     "iopub.status.idle": "2022-08-23T13:29:46.018681Z",
     "shell.execute_reply": "2022-08-23T13:29:46.018254Z"
    }
   },
   "outputs": [
    {
     "name": "stdout",
     "output_type": "stream",
     "text": [
      "🔶 name column not found, using index as features.\n"
     ]
    },
    {
     "name": "stdout",
     "output_type": "stream",
     "text": [
      "✅ 9 terms (56.2%) are linked.\n"
     ]
    },
    {
     "name": "stdout",
     "output_type": "stream",
     "text": [
      "🔶 7 terms (43.8%) are not linked.\n"
     ]
    }
   ],
   "source": [
    "db.do.ingest.add(data1, feature_model=feature_model1)"
   ]
  },
  {
   "cell_type": "markdown",
   "metadata": {},
   "source": [
    "Using this feature model, we can't link and hence won't be able to query for 9 features.\n",
    "\n",
    "We can overcome this by working with a custom feature model, discussed later."
   ]
  },
  {
   "cell_type": "markdown",
   "metadata": {},
   "source": [
    "Features in data2 are indexed by Ensemble gene ids. For an overview of gene ids, see: [`bt.lookup.gene_id`](https://lamin.ai/docs/bionty/api)."
   ]
  },
  {
   "cell_type": "code",
   "execution_count": 6,
   "metadata": {
    "execution": {
     "iopub.execute_input": "2022-08-23T13:29:46.020956Z",
     "iopub.status.busy": "2022-08-23T13:29:46.020722Z",
     "iopub.status.idle": "2022-08-23T13:29:46.026234Z",
     "shell.execute_reply": "2022-08-23T13:29:46.025864Z"
    }
   },
   "outputs": [
    {
     "data": {
      "text/html": [
       "<div>\n",
       "<style scoped>\n",
       "    .dataframe tbody tr th:only-of-type {\n",
       "        vertical-align: middle;\n",
       "    }\n",
       "\n",
       "    .dataframe tbody tr th {\n",
       "        vertical-align: top;\n",
       "    }\n",
       "\n",
       "    .dataframe thead th {\n",
       "        text-align: right;\n",
       "    }\n",
       "</style>\n",
       "<table border=\"1\" class=\"dataframe\">\n",
       "  <thead>\n",
       "    <tr style=\"text-align: right;\">\n",
       "      <th></th>\n",
       "    </tr>\n",
       "  </thead>\n",
       "  <tbody>\n",
       "    <tr>\n",
       "      <th>ENSMUSG00000104923</th>\n",
       "    </tr>\n",
       "    <tr>\n",
       "      <th>ENSMUSG00000079038</th>\n",
       "    </tr>\n",
       "    <tr>\n",
       "      <th>ENSMUSG00000069755</th>\n",
       "    </tr>\n",
       "    <tr>\n",
       "      <th>ENSMUSG00000040648</th>\n",
       "    </tr>\n",
       "    <tr>\n",
       "      <th>ENSMUSG00000113486</th>\n",
       "    </tr>\n",
       "  </tbody>\n",
       "</table>\n",
       "</div>"
      ],
      "text/plain": [
       "Empty DataFrame\n",
       "Columns: []\n",
       "Index: [ENSMUSG00000104923, ENSMUSG00000079038, ENSMUSG00000069755, ENSMUSG00000040648, ENSMUSG00000113486]"
      ]
     },
     "execution_count": 6,
     "metadata": {},
     "output_type": "execute_result"
    }
   ],
   "source": [
    "data2.var.head()"
   ]
  },
  {
   "cell_type": "markdown",
   "metadata": {},
   "source": [
    "Hence, we use a feature model based on Ensemble IDs and ingest the data with it."
   ]
  },
  {
   "cell_type": "code",
   "execution_count": 7,
   "metadata": {
    "execution": {
     "iopub.execute_input": "2022-08-23T13:29:46.028608Z",
     "iopub.status.busy": "2022-08-23T13:29:46.028359Z",
     "iopub.status.idle": "2022-08-23T13:29:46.030922Z",
     "shell.execute_reply": "2022-08-23T13:29:46.030495Z"
    }
   },
   "outputs": [],
   "source": [
    "feature_model2 = bt.Gene(\n",
    "    id=bt.lookup.gene_id.ensembl_gene_id, species=bt.lookup.species.mouse\n",
    ")"
   ]
  },
  {
   "cell_type": "code",
   "execution_count": 8,
   "metadata": {
    "execution": {
     "iopub.execute_input": "2022-08-23T13:29:46.033000Z",
     "iopub.status.busy": "2022-08-23T13:29:46.032840Z",
     "iopub.status.idle": "2022-08-23T13:29:48.117743Z",
     "shell.execute_reply": "2022-08-23T13:29:48.117382Z"
    }
   },
   "outputs": [
    {
     "name": "stdout",
     "output_type": "stream",
     "text": [
      "🔶 ensembl_gene_id column not found, using index as features.\n"
     ]
    },
    {
     "name": "stdout",
     "output_type": "stream",
     "text": [
      "✅ 10000 terms (100.0%) are linked.\n"
     ]
    },
    {
     "name": "stdout",
     "output_type": "stream",
     "text": [
      "🔶 0 terms (0.0%) are not linked.\n"
     ]
    }
   ],
   "source": [
    "db.do.ingest.add(data2, name=\"mouse_sc_lymph_node\", feature_model=feature_model2)"
   ]
  },
  {
   "cell_type": "markdown",
   "metadata": {},
   "source": [
    "We can retrieve the integrity information through `.logs`:"
   ]
  },
  {
   "cell_type": "code",
   "execution_count": 9,
   "metadata": {
    "execution": {
     "iopub.execute_input": "2022-08-23T13:29:48.119713Z",
     "iopub.status.busy": "2022-08-23T13:29:48.119545Z",
     "iopub.status.idle": "2022-08-23T13:29:48.122813Z",
     "shell.execute_reply": "2022-08-23T13:29:48.122411Z"
    }
   },
   "outputs": [
    {
     "data": {
      "text/plain": [
       "{'example.fcs': {'feature': 'name',\n",
       "  'n_mapped': 9,\n",
       "  'percent_mapped': 56.2,\n",
       "  'unmapped': Index(['FSC-A', 'FSC-H', 'SSC-A', 'KI67', 'CD3', 'CD45RO', 'VIVID / CD14'], dtype='object')},\n",
       " 'mouse_sc_lymph_node.h5ad': {'feature': 'ensembl_gene_id',\n",
       "  'n_mapped': 10000,\n",
       "  'percent_mapped': 100.0,\n",
       "  'unmapped': Index([], dtype='object')}}"
      ]
     },
     "execution_count": 9,
     "metadata": {},
     "output_type": "execute_result"
    }
   ],
   "source": [
    "db.do.ingest.logs"
   ]
  },
  {
   "cell_type": "markdown",
   "metadata": {},
   "source": [
    "Finalize the ingestion."
   ]
  },
  {
   "cell_type": "code",
   "execution_count": 10,
   "metadata": {
    "execution": {
     "iopub.execute_input": "2022-08-23T13:29:48.124935Z",
     "iopub.status.busy": "2022-08-23T13:29:48.124815Z",
     "iopub.status.idle": "2022-08-23T13:29:55.589528Z",
     "shell.execute_reply": "2022-08-23T13:29:55.589141Z"
    }
   },
   "outputs": [
    {
     "name": "stdout",
     "output_type": "stream",
     "text": [
      "✅ Annotated data n3Rz8JrhV5L25erSQeRFs with the following features:\n",
      "+------------+------------+------------+\n",
      "| \u001b[1;92mgeneset.id\u001b[0m | \u001b[1;95mbiometa.id\u001b[0m | \u001b[1;94mspecies.id\u001b[0m |\n",
      "+------------+------------+------------+\n",
      "|     3      |     3      |     1      |\n",
      "+------------+------------+------------+\n"
     ]
    },
    {
     "name": "stdout",
     "output_type": "stream",
     "text": [
      "✅ Registered readout_type: 2\n"
     ]
    },
    {
     "name": "stdout",
     "output_type": "stream",
     "text": [
      "✅ Annotated data 5STsR8esNAlxTO9yaFtJN with the following features:\n",
      "+------------+------------+------------+\n",
      "| \u001b[1;92mgeneset.id\u001b[0m | \u001b[1;95mbiometa.id\u001b[0m | \u001b[1;94mspecies.id\u001b[0m |\n",
      "+------------+------------+------------+\n",
      "|     4      |     4      |     2      |\n",
      "+------------+------------+------------+\n"
     ]
    },
    {
     "name": "stdout",
     "output_type": "stream",
     "text": [
      "✅ Ingested the following dobjects:\n",
      "+-----------------------------------------------------+-----------------------------------+-----------------------+\n",
      "|                       \u001b[1;92mdobject\u001b[0m                       |              \u001b[1;94mjupynb\u001b[0m               |         \u001b[1;95muser\u001b[0m          |\n",
      "+-----------------------------------------------------+-----------------------------------+-----------------------+\n",
      "|       example.fcs (n3Rz8JrhV5L25erSQeRFs, 1)        | 'Link features' (ZKJX7AnXzQQp, 1) | test-user2 (GWoum48D) |\n",
      "| mouse_sc_lymph_node.h5ad (5STsR8esNAlxTO9yaFtJN, 1) | 'Link features' (ZKJX7AnXzQQp, 1) | test-user2 (GWoum48D) |\n",
      "+-----------------------------------------------------+-----------------------------------+-----------------------+\n"
     ]
    },
    {
     "name": "stdout",
     "output_type": "stream",
     "text": [
      "✅ Cell numbers increase at increments of 1: Awesome!\n"
     ]
    },
    {
     "name": "stdout",
     "output_type": "stream",
     "text": [
      "ℹ️ Set notebook version to \u001b[1m1\u001b[0m & wrote pypackages.\n"
     ]
    }
   ],
   "source": [
    "db.do.ingest.commit()"
   ]
  },
  {
   "cell_type": "code",
   "execution_count": null,
   "metadata": {},
   "outputs": [],
   "source": []
  }
 ],
 "metadata": {
  "kernelspec": {
   "display_name": "Python 3.9.13 ('py39')",
   "language": "python",
   "name": "python3"
  },
  "language_info": {
   "codemirror_mode": {
    "name": "ipython",
    "version": 3
   },
   "file_extension": ".py",
   "mimetype": "text/x-python",
   "name": "python",
   "nbconvert_exporter": "python",
   "pygments_lexer": "ipython3",
   "version": "3.9.12"
  },
  "nbproject": {
   "id": "ZKJX7AnXzQQp",
   "parent": null,
   "pypackage": null,
   "time_init": "2022-07-30T16:14:52.152853+00:00",
   "version": "draft"
  },
  "vscode": {
   "interpreter": {
    "hash": "ae1fefc8646a06dd2e75004cd934adda7c5727b046986a772e3b44b0ffba9754"
   }
  }
 },
 "nbformat": 4,
 "nbformat_minor": 4
}
