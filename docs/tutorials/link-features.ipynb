{
 "cells": [
  {
   "cell_type": "markdown",
   "metadata": {},
   "source": [
    "# Link features"
   ]
  },
  {
   "cell_type": "markdown",
   "metadata": {},
   "source": [
    "So far, we haven't enabled ourselves to query for the features[^features] of ingested data, and used LaminDB like a data lake.\n",
    "\n",
    "[^features]: We'll mostly use the term feature for synonyms variable (statistics), column and field (databases), dimension (machine learning)."
   ]
  },
  {
   "cell_type": "markdown",
   "metadata": {},
   "source": [
    "\n",
    "We can also use LaminDB like a queryable data warehouse to store links[^relations] and monitor data integrity.\n",
    "\n",
    "Let us explain how to implement this by providing feature models at ingestion!\n",
    "\n",
    "[^relations]: We mostly use the term link for synonyms relations and references."
   ]
  },
  {
   "cell_type": "code",
   "execution_count": 1,
   "metadata": {},
   "outputs": [
    {
     "name": "stderr",
     "output_type": "stream",
     "text": [
      "2022-08-23 10:37:56,499:INFO - Note: NumExpr detected 10 cores but \"NUMEXPR_MAX_THREADS\" not set, so enforcing safe limit of 8.\n",
      "2022-08-23 10:37:56,500:INFO - NumExpr defaulting to 8 threads.\n"
     ]
    },
    {
     "data": {
      "text/html": [
       "<table><tbody><tr><td style='text-align: left;'><b>id</b></td><td style='text-align: left;'>ZKJX<span style='opacity:0.3'>7AnXzQQp</span></td></tr><tr><td style='text-align: left;'><b>version</b></td><td style='text-align: left;'>draft</td></tr><tr><td style='text-align: left;'><b>time_init</b></td><td style='text-align: left;'>2022-07-30 16:14</td></tr><tr><td style='text-align: left;'><b>time_run</b></td><td style='text-align: left;'>2022-08-23 08:37</td></tr><tr><td style='text-align: left;'><b>pypackage</b></td><td style='text-align: left;'>bionty==0.0.6+17.g0499eed lamindb==0.2.1 scanpy==1.8.2</td></tr></tbody></table>"
      ],
      "text/plain": [
       "<IPython.core.display.HTML object>"
      ]
     },
     "metadata": {},
     "output_type": "display_data"
    }
   ],
   "source": [
    "import lamindb as db\n",
    "import bionty as bt  # https://lamin.ai/docs/bionty\n",
    "import scanpy as sc  # https://scanpy.readthedocs.io\n",
    "\n",
    "sc._settings.ScanpyConfig(verbosity=0)\n",
    "db.header()"
   ]
  },
  {
   "cell_type": "markdown",
   "metadata": {},
   "source": [
    "## Example datasets"
   ]
  },
  {
   "cell_type": "markdown",
   "metadata": {},
   "source": [
    "Consider\n",
    "- `data1`: a flow cytometry dataset in form of an `.fcs` file\n",
    "- `data2`: a scRNA-seq count matrix in form of an `AnnData` object in memory"
   ]
  },
  {
   "cell_type": "code",
   "execution_count": 2,
   "metadata": {},
   "outputs": [
    {
     "data": {
      "text/plain": [
       "PosixPath('example.fcs')"
      ]
     },
     "execution_count": 2,
     "metadata": {},
     "output_type": "execute_result"
    }
   ],
   "source": [
    "data1 = db.datasets.file_fcs()\n",
    "data1"
   ]
  },
  {
   "cell_type": "code",
   "execution_count": 3,
   "metadata": {},
   "outputs": [
    {
     "ename": "HTTPError",
     "evalue": "HTTP Error 500: Internal Server Error (https://www.ebi.ac.uk/gxa/sc/experiments/E-MTAB-8414/)",
     "output_type": "error",
     "traceback": [
      "\u001b[0;31m---------------------------------------------------------------------------\u001b[0m",
      "\u001b[0;31mHTTPError\u001b[0m                                 Traceback (most recent call last)",
      "\u001b[1;32m/Users/sunnysun/Documents/repos/lamindb/docs/tutorials/link-features.ipynb Cell 8\u001b[0m in \u001b[0;36m<cell line: 3>\u001b[0;34m()\u001b[0m\n\u001b[1;32m      <a href='vscode-notebook-cell:/Users/sunnysun/Documents/repos/lamindb/docs/tutorials/link-features.ipynb#ch0000007?line=0'>1</a>\u001b[0m \u001b[39mimport\u001b[39;00m \u001b[39mrandom\u001b[39;00m\n\u001b[0;32m----> <a href='vscode-notebook-cell:/Users/sunnysun/Documents/repos/lamindb/docs/tutorials/link-features.ipynb#ch0000007?line=2'>3</a>\u001b[0m data2 \u001b[39m=\u001b[39m sc\u001b[39m.\u001b[39;49mdatasets\u001b[39m.\u001b[39;49mebi_expression_atlas(\u001b[39m\"\u001b[39;49m\u001b[39mE-MTAB-8414\u001b[39;49m\u001b[39m\"\u001b[39;49m)\n\u001b[1;32m      <a href='vscode-notebook-cell:/Users/sunnysun/Documents/repos/lamindb/docs/tutorials/link-features.ipynb#ch0000007?line=3'>4</a>\u001b[0m data2 \u001b[39m=\u001b[39m data2[:, data2\u001b[39m.\u001b[39mvar_names\u001b[39m.\u001b[39misin(random\u001b[39m.\u001b[39msample(\u001b[39mlist\u001b[39m(data2\u001b[39m.\u001b[39mvar_names), \u001b[39m1000\u001b[39m))]\n",
      "File \u001b[0;32m/opt/miniconda3/envs/py39/lib/python3.9/site-packages/scanpy/datasets/_ebi_expression_atlas.py:125\u001b[0m, in \u001b[0;36mebi_expression_atlas\u001b[0;34m(accession, filter_boring)\u001b[0m\n\u001b[1;32m    121\u001b[0m \u001b[39mexcept\u001b[39;00m \u001b[39mOSError\u001b[39;00m:\n\u001b[1;32m    122\u001b[0m     \u001b[39m# Dataset couldn't be read for whatever reason\u001b[39;00m\n\u001b[1;32m    123\u001b[0m     \u001b[39mpass\u001b[39;00m\n\u001b[0;32m--> 125\u001b[0m download_experiment(accession)\n\u001b[1;32m    127\u001b[0m logg\u001b[39m.\u001b[39minfo(\u001b[39mf\u001b[39m\u001b[39m\"\u001b[39m\u001b[39mDownloaded \u001b[39m\u001b[39m{\u001b[39;00maccession\u001b[39m}\u001b[39;00m\u001b[39m to \u001b[39m\u001b[39m{\u001b[39;00mexperiment_dir\u001b[39m.\u001b[39mabsolute()\u001b[39m}\u001b[39;00m\u001b[39m\"\u001b[39m)\n\u001b[1;32m    129\u001b[0m \u001b[39mwith\u001b[39;00m ZipFile(experiment_dir \u001b[39m/\u001b[39m \u001b[39m\"\u001b[39m\u001b[39mexpression_archive.zip\u001b[39m\u001b[39m\"\u001b[39m, \u001b[39m\"\u001b[39m\u001b[39mr\u001b[39m\u001b[39m\"\u001b[39m) \u001b[39mas\u001b[39;00m f:\n",
      "File \u001b[0;32m/opt/miniconda3/envs/py39/lib/python3.9/site-packages/scanpy/datasets/_utils.py:10\u001b[0m, in \u001b[0;36mcheck_datasetdir_exists.<locals>.wrapper\u001b[0;34m(*args, **kwargs)\u001b[0m\n\u001b[1;32m      7\u001b[0m \u001b[39m@wraps\u001b[39m(f)\n\u001b[1;32m      8\u001b[0m \u001b[39mdef\u001b[39;00m \u001b[39mwrapper\u001b[39m(\u001b[39m*\u001b[39margs, \u001b[39m*\u001b[39m\u001b[39m*\u001b[39mkwargs):\n\u001b[1;32m      9\u001b[0m     settings\u001b[39m.\u001b[39mdatasetdir\u001b[39m.\u001b[39mmkdir(exist_ok\u001b[39m=\u001b[39m\u001b[39mTrue\u001b[39;00m)\n\u001b[0;32m---> 10\u001b[0m     \u001b[39mreturn\u001b[39;00m f(\u001b[39m*\u001b[39;49margs, \u001b[39m*\u001b[39;49m\u001b[39m*\u001b[39;49mkwargs)\n",
      "File \u001b[0;32m/opt/miniconda3/envs/py39/lib/python3.9/site-packages/scanpy/datasets/_ebi_expression_atlas.py:36\u001b[0m, in \u001b[0;36mdownload_experiment\u001b[0;34m(accession)\u001b[0m\n\u001b[1;32m     34\u001b[0m \u001b[39m@check_datasetdir_exists\u001b[39m\n\u001b[1;32m     35\u001b[0m \u001b[39mdef\u001b[39;00m \u001b[39mdownload_experiment\u001b[39m(accession: \u001b[39mstr\u001b[39m):\n\u001b[0;32m---> 36\u001b[0m     sniff_url(accession)\n\u001b[1;32m     38\u001b[0m     base_url \u001b[39m=\u001b[39m \u001b[39mf\u001b[39m\u001b[39m\"\u001b[39m\u001b[39mhttps://www.ebi.ac.uk/gxa/sc/experiment/\u001b[39m\u001b[39m{\u001b[39;00maccession\u001b[39m}\u001b[39;00m\u001b[39m\"\u001b[39m\n\u001b[1;32m     39\u001b[0m     design_url \u001b[39m=\u001b[39m \u001b[39mf\u001b[39m\u001b[39m\"\u001b[39m\u001b[39m{\u001b[39;00mbase_url\u001b[39m}\u001b[39;00m\u001b[39m/download?accessKey=&fileType=\u001b[39m\u001b[39m\"\u001b[39m\n",
      "File \u001b[0;32m/opt/miniconda3/envs/py39/lib/python3.9/site-packages/scanpy/datasets/_ebi_expression_atlas.py:27\u001b[0m, in \u001b[0;36msniff_url\u001b[0;34m(accession)\u001b[0m\n\u001b[1;32m     25\u001b[0m base_url \u001b[39m=\u001b[39m \u001b[39mf\u001b[39m\u001b[39m\"\u001b[39m\u001b[39mhttps://www.ebi.ac.uk/gxa/sc/experiments/\u001b[39m\u001b[39m{\u001b[39;00maccession\u001b[39m}\u001b[39;00m\u001b[39m/\u001b[39m\u001b[39m\"\u001b[39m\n\u001b[1;32m     26\u001b[0m \u001b[39mtry\u001b[39;00m:\n\u001b[0;32m---> 27\u001b[0m     \u001b[39mwith\u001b[39;00m urlopen(base_url):  \u001b[39m# Check if server up/ dataset exists\u001b[39;00m\n\u001b[1;32m     28\u001b[0m         \u001b[39mpass\u001b[39;00m\n\u001b[1;32m     29\u001b[0m \u001b[39mexcept\u001b[39;00m HTTPError \u001b[39mas\u001b[39;00m e:\n",
      "File \u001b[0;32m/opt/miniconda3/envs/py39/lib/python3.9/urllib/request.py:214\u001b[0m, in \u001b[0;36murlopen\u001b[0;34m(url, data, timeout, cafile, capath, cadefault, context)\u001b[0m\n\u001b[1;32m    212\u001b[0m \u001b[39melse\u001b[39;00m:\n\u001b[1;32m    213\u001b[0m     opener \u001b[39m=\u001b[39m _opener\n\u001b[0;32m--> 214\u001b[0m \u001b[39mreturn\u001b[39;00m opener\u001b[39m.\u001b[39;49mopen(url, data, timeout)\n",
      "File \u001b[0;32m/opt/miniconda3/envs/py39/lib/python3.9/urllib/request.py:523\u001b[0m, in \u001b[0;36mOpenerDirector.open\u001b[0;34m(self, fullurl, data, timeout)\u001b[0m\n\u001b[1;32m    521\u001b[0m \u001b[39mfor\u001b[39;00m processor \u001b[39min\u001b[39;00m \u001b[39mself\u001b[39m\u001b[39m.\u001b[39mprocess_response\u001b[39m.\u001b[39mget(protocol, []):\n\u001b[1;32m    522\u001b[0m     meth \u001b[39m=\u001b[39m \u001b[39mgetattr\u001b[39m(processor, meth_name)\n\u001b[0;32m--> 523\u001b[0m     response \u001b[39m=\u001b[39m meth(req, response)\n\u001b[1;32m    525\u001b[0m \u001b[39mreturn\u001b[39;00m response\n",
      "File \u001b[0;32m/opt/miniconda3/envs/py39/lib/python3.9/urllib/request.py:632\u001b[0m, in \u001b[0;36mHTTPErrorProcessor.http_response\u001b[0;34m(self, request, response)\u001b[0m\n\u001b[1;32m    629\u001b[0m \u001b[39m# According to RFC 2616, \"2xx\" code indicates that the client's\u001b[39;00m\n\u001b[1;32m    630\u001b[0m \u001b[39m# request was successfully received, understood, and accepted.\u001b[39;00m\n\u001b[1;32m    631\u001b[0m \u001b[39mif\u001b[39;00m \u001b[39mnot\u001b[39;00m (\u001b[39m200\u001b[39m \u001b[39m<\u001b[39m\u001b[39m=\u001b[39m code \u001b[39m<\u001b[39m \u001b[39m300\u001b[39m):\n\u001b[0;32m--> 632\u001b[0m     response \u001b[39m=\u001b[39m \u001b[39mself\u001b[39;49m\u001b[39m.\u001b[39;49mparent\u001b[39m.\u001b[39;49merror(\n\u001b[1;32m    633\u001b[0m         \u001b[39m'\u001b[39;49m\u001b[39mhttp\u001b[39;49m\u001b[39m'\u001b[39;49m, request, response, code, msg, hdrs)\n\u001b[1;32m    635\u001b[0m \u001b[39mreturn\u001b[39;00m response\n",
      "File \u001b[0;32m/opt/miniconda3/envs/py39/lib/python3.9/urllib/request.py:561\u001b[0m, in \u001b[0;36mOpenerDirector.error\u001b[0;34m(self, proto, *args)\u001b[0m\n\u001b[1;32m    559\u001b[0m \u001b[39mif\u001b[39;00m http_err:\n\u001b[1;32m    560\u001b[0m     args \u001b[39m=\u001b[39m (\u001b[39mdict\u001b[39m, \u001b[39m'\u001b[39m\u001b[39mdefault\u001b[39m\u001b[39m'\u001b[39m, \u001b[39m'\u001b[39m\u001b[39mhttp_error_default\u001b[39m\u001b[39m'\u001b[39m) \u001b[39m+\u001b[39m orig_args\n\u001b[0;32m--> 561\u001b[0m     \u001b[39mreturn\u001b[39;00m \u001b[39mself\u001b[39;49m\u001b[39m.\u001b[39;49m_call_chain(\u001b[39m*\u001b[39;49margs)\n",
      "File \u001b[0;32m/opt/miniconda3/envs/py39/lib/python3.9/urllib/request.py:494\u001b[0m, in \u001b[0;36mOpenerDirector._call_chain\u001b[0;34m(self, chain, kind, meth_name, *args)\u001b[0m\n\u001b[1;32m    492\u001b[0m \u001b[39mfor\u001b[39;00m handler \u001b[39min\u001b[39;00m handlers:\n\u001b[1;32m    493\u001b[0m     func \u001b[39m=\u001b[39m \u001b[39mgetattr\u001b[39m(handler, meth_name)\n\u001b[0;32m--> 494\u001b[0m     result \u001b[39m=\u001b[39m func(\u001b[39m*\u001b[39;49margs)\n\u001b[1;32m    495\u001b[0m     \u001b[39mif\u001b[39;00m result \u001b[39mis\u001b[39;00m \u001b[39mnot\u001b[39;00m \u001b[39mNone\u001b[39;00m:\n\u001b[1;32m    496\u001b[0m         \u001b[39mreturn\u001b[39;00m result\n",
      "File \u001b[0;32m/opt/miniconda3/envs/py39/lib/python3.9/urllib/request.py:641\u001b[0m, in \u001b[0;36mHTTPDefaultErrorHandler.http_error_default\u001b[0;34m(self, req, fp, code, msg, hdrs)\u001b[0m\n\u001b[1;32m    640\u001b[0m \u001b[39mdef\u001b[39;00m \u001b[39mhttp_error_default\u001b[39m(\u001b[39mself\u001b[39m, req, fp, code, msg, hdrs):\n\u001b[0;32m--> 641\u001b[0m     \u001b[39mraise\u001b[39;00m HTTPError(req\u001b[39m.\u001b[39mfull_url, code, msg, hdrs, fp)\n",
      "\u001b[0;31mHTTPError\u001b[0m: HTTP Error 500: Internal Server Error (https://www.ebi.ac.uk/gxa/sc/experiments/E-MTAB-8414/)"
     ]
    }
   ],
   "source": [
    "import random\n",
    "\n",
    "data2 = sc.datasets.ebi_expression_atlas(\"E-MTAB-8414\")\n",
    "data2 = data2[:, data2.var_names.isin(random.sample(list(data2.var_names), 1000))]"
   ]
  },
  {
   "cell_type": "markdown",
   "metadata": {},
   "source": [
    "## Define feature models"
   ]
  },
  {
   "cell_type": "markdown",
   "metadata": {},
   "source": [
    "For `data1`, we specify a feature model using the `bionty` `Gene` entity with gene symbols."
   ]
  },
  {
   "cell_type": "code",
   "execution_count": null,
   "metadata": {},
   "outputs": [],
   "source": [
    "feature_model1 = bt.Gene(id=bt.lookup.gene_id.name, species=bt.lookup.species.human)"
   ]
  },
  {
   "cell_type": "markdown",
   "metadata": {},
   "source": [
    "Let us now ingest the data by passing a feature model to `db.do.ingest.add`, which will enable us to query the `dobject` by features by creating all necessary links in the background.\n",
    "\n",
    "It will also log out and store information on data integrity:"
   ]
  },
  {
   "cell_type": "code",
   "execution_count": null,
   "metadata": {},
   "outputs": [
    {
     "name": "stdout",
     "output_type": "stream",
     "text": [
      "🔶 name column not found, using index as features.\n"
     ]
    },
    {
     "name": "stderr",
     "output_type": "stream",
     "text": [
      "/opt/miniconda3/envs/py39/lib/python3.9/site-packages/fcsparser/api.py:440: UserWarning: The default channel names (defined by the $PnS parameter in the FCS file) were not unique. To avoid problems in downstream analysis, the channel names have been switched to the alternate channel names defined in the FCS file. To avoid seeing this warning message, explicitly instruct the FCS parser to use the alternate channel names by specifying the channel_naming parameter.\n",
      "  warnings.warn(msg)\n",
      "/opt/miniconda3/envs/py39/lib/python3.9/site-packages/anndata/_core/anndata.py:120: ImplicitModificationWarning: Transforming to str index.\n",
      "  warnings.warn(\"Transforming to str index.\", ImplicitModificationWarning)\n"
     ]
    },
    {
     "name": "stdout",
     "output_type": "stream",
     "text": [
      "✅ 9 terms (56.2%) are linked.\n",
      "🔶 7 terms (43.8%) are not linked.\n"
     ]
    }
   ],
   "source": [
    "db.do.ingest.add(data1, feature_model=feature_model1)"
   ]
  },
  {
   "cell_type": "markdown",
   "metadata": {},
   "source": [
    "Using this feature model, we can't link and hence won't be able to query for 9 features.\n",
    "\n",
    "We can overcome this by working with a custom feature model, discussed later."
   ]
  },
  {
   "cell_type": "markdown",
   "metadata": {},
   "source": [
    "Features in data2 are indexed by Ensemble gene ids. For an overview of gene ids, see: [`bt.lookup.gene_id`](https://lamin.ai/docs/bionty/api)."
   ]
  },
  {
   "cell_type": "code",
   "execution_count": null,
   "metadata": {},
   "outputs": [
    {
     "data": {
      "text/html": [
       "<div>\n",
       "<style scoped>\n",
       "    .dataframe tbody tr th:only-of-type {\n",
       "        vertical-align: middle;\n",
       "    }\n",
       "\n",
       "    .dataframe tbody tr th {\n",
       "        vertical-align: top;\n",
       "    }\n",
       "\n",
       "    .dataframe thead th {\n",
       "        text-align: right;\n",
       "    }\n",
       "</style>\n",
       "<table border=\"1\" class=\"dataframe\">\n",
       "  <thead>\n",
       "    <tr style=\"text-align: right;\">\n",
       "      <th></th>\n",
       "    </tr>\n",
       "  </thead>\n",
       "  <tbody>\n",
       "    <tr>\n",
       "      <th>ENSMUSG00000000318</th>\n",
       "    </tr>\n",
       "    <tr>\n",
       "      <th>ENSMUSG00000000386</th>\n",
       "    </tr>\n",
       "    <tr>\n",
       "      <th>ENSMUSG00000000440</th>\n",
       "    </tr>\n",
       "    <tr>\n",
       "      <th>ENSMUSG00000000441</th>\n",
       "    </tr>\n",
       "    <tr>\n",
       "      <th>ENSMUSG00000000605</th>\n",
       "    </tr>\n",
       "  </tbody>\n",
       "</table>\n",
       "</div>"
      ],
      "text/plain": [
       "Empty DataFrame\n",
       "Columns: []\n",
       "Index: [ENSMUSG00000000318, ENSMUSG00000000386, ENSMUSG00000000440, ENSMUSG00000000441, ENSMUSG00000000605]"
      ]
     },
     "execution_count": 6,
     "metadata": {},
     "output_type": "execute_result"
    }
   ],
   "source": [
    "data2.var.head()"
   ]
  },
  {
   "cell_type": "markdown",
   "metadata": {},
   "source": [
    "Hence, we use a feature model based on Ensemble IDs and ingest the data with it."
   ]
  },
  {
   "cell_type": "code",
   "execution_count": null,
   "metadata": {},
   "outputs": [],
   "source": [
    "feature_model2 = bt.Gene(\n",
    "    id=bt.lookup.gene_id.ensembl_gene_id, species=bt.lookup.species.mouse\n",
    ")"
   ]
  },
  {
   "cell_type": "code",
   "execution_count": null,
   "metadata": {},
   "outputs": [
    {
     "name": "stdout",
     "output_type": "stream",
     "text": [
      "🔶 ensembl_gene_id column not found, using index as features.\n",
      "✅ 1000 terms (100.0%) are linked.\n",
      "🔶 0 terms (0.0%) are not linked.\n"
     ]
    }
   ],
   "source": [
    "db.do.ingest.add(data2, name=\"ebi_E-MTAB-8414\", feature_model=feature_model2)"
   ]
  },
  {
   "cell_type": "markdown",
   "metadata": {},
   "source": [
    "We can retrieve the integrity information through `.logs`:"
   ]
  },
  {
   "cell_type": "code",
   "execution_count": null,
   "metadata": {},
   "outputs": [
    {
     "data": {
      "text/plain": [
       "{'example.fcs': {'feature': 'name',\n",
       "  'n_mapped': 9,\n",
       "  'percent_mapped': 56.2,\n",
       "  'unmapped': Index(['FSC-A', 'FSC-H', 'SSC-A', 'KI67', 'CD3', 'CD45RO', 'VIVID / CD14'], dtype='object')},\n",
       " 'ebi_E-MTAB-8414.h5ad': {'feature': 'ensembl_gene_id',\n",
       "  'n_mapped': 1000,\n",
       "  'percent_mapped': 100.0,\n",
       "  'unmapped': Index([], dtype='object')}}"
      ]
     },
     "execution_count": 9,
     "metadata": {},
     "output_type": "execute_result"
    }
   ],
   "source": [
    "db.do.ingest.logs"
   ]
  },
  {
   "cell_type": "markdown",
   "metadata": {},
   "source": [
    "Finalize the ingestion."
   ]
  },
  {
   "cell_type": "code",
   "execution_count": null,
   "metadata": {},
   "outputs": [
    {
     "name": "stdout",
     "output_type": "stream",
     "text": [
      "✅ Annotated data mWmIx2pzpzz4eCOa0jR5f with the following features:\n",
      "+------------+------------+------------+\n",
      "| \u001b[1;92mgeneset.id\u001b[0m | \u001b[1;95mbiometa.id\u001b[0m | \u001b[1;94mspecies.id\u001b[0m |\n",
      "+------------+------------+------------+\n",
      "|     3      |     3      |     1      |\n",
      "+------------+------------+------------+\n",
      "✅ Annotated data ZbdKAJ3DAEszfn8MpGCwd with the following features:\n",
      "+------------+------------+------------+\n",
      "| \u001b[1;92mgeneset.id\u001b[0m | \u001b[1;95mbiometa.id\u001b[0m | \u001b[1;94mspecies.id\u001b[0m |\n",
      "+------------+------------+------------+\n",
      "|     4      |     4      |     2      |\n",
      "+------------+------------+------------+\n",
      "✅ Ingested the following dobjects:\n",
      "+-------------------------------------------------+-----------------------------------+-----------------------+\n",
      "|                     \u001b[1;92mdobject\u001b[0m                     |              \u001b[1;94mjupynb\u001b[0m               |         \u001b[1;95muser\u001b[0m          |\n",
      "+-------------------------------------------------+-----------------------------------+-----------------------+\n",
      "|     example.fcs (mWmIx2pzpzz4eCOa0jR5f, 1)      | 'Link features' (ZKJX7AnXzQQp, 1) | test-user1 (9ypQ1yrW) |\n",
      "| ebi_E-MTAB-8414.h5ad (ZbdKAJ3DAEszfn8MpGCwd, 1) | 'Link features' (ZKJX7AnXzQQp, 1) | test-user1 (9ypQ1yrW) |\n",
      "+-------------------------------------------------+-----------------------------------+-----------------------+\n"
     ]
    },
    {
     "ename": "RuntimeError",
     "evalue": "Make sure you save the notebook in your editor before publishing!\nYou can avoid the need for manually saving in Jupyter Lab, which auto-saves the buffer during publish.",
     "output_type": "error",
     "traceback": [
      "\u001b[0;31m---------------------------------------------------------------------------\u001b[0m",
      "\u001b[0;31mRuntimeError\u001b[0m                              Traceback (most recent call last)",
      "\u001b[1;32m/Users/sunnysun/Documents/repos/lamindb/docs/tutorials/link-features.ipynb Cell 23\u001b[0m in \u001b[0;36m<cell line: 1>\u001b[0;34m()\u001b[0m\n\u001b[0;32m----> <a href='vscode-notebook-cell:/Users/sunnysun/Documents/repos/lamindb/docs/tutorials/link-features.ipynb#ch0000022?line=0'>1</a>\u001b[0m db\u001b[39m.\u001b[39;49mdo\u001b[39m.\u001b[39;49mingest\u001b[39m.\u001b[39;49mcommit()\n",
      "File \u001b[0;32m~/Documents/repos/lamindb/lamindb/do/_ingest.py:189\u001b[0m, in \u001b[0;36mIngest.commit\u001b[0;34m(self, jupynb_v)\u001b[0m\n\u001b[1;32m    178\u001b[0m log_table \u001b[39m=\u001b[39m tabulate(\n\u001b[1;32m    179\u001b[0m     logs,\n\u001b[1;32m    180\u001b[0m     headers\u001b[39m=\u001b[39m[\n\u001b[0;32m   (...)\u001b[0m\n\u001b[1;32m    185\u001b[0m     tablefmt\u001b[39m=\u001b[39m\u001b[39m\"\u001b[39m\u001b[39mpretty\u001b[39m\u001b[39m\"\u001b[39m,\n\u001b[1;32m    186\u001b[0m )\n\u001b[1;32m    187\u001b[0m logger\u001b[39m.\u001b[39msuccess(\u001b[39mf\u001b[39m\u001b[39m\"\u001b[39m\u001b[39mIngested the following dobjects:\u001b[39m\u001b[39m\\n\u001b[39;00m\u001b[39m{\u001b[39;00mlog_table\u001b[39m}\u001b[39;00m\u001b[39m\"\u001b[39m)\n\u001b[0;32m--> 189\u001b[0m publish(calling_statement\u001b[39m=\u001b[39;49m\u001b[39m\"\u001b[39;49m\u001b[39mcommit(\u001b[39;49m\u001b[39m\"\u001b[39;49m)\n",
      "File \u001b[0;32m~/Documents/repos/nbproject/nbproject/_publish.py:61\u001b[0m, in \u001b[0;36mpublish\u001b[0;34m(version, i_confirm_i_saved, **kwargs)\u001b[0m\n\u001b[1;32m     59\u001b[0m         \u001b[39mpass\u001b[39;00m\n\u001b[1;32m     60\u001b[0m     \u001b[39melif\u001b[39;00m \u001b[39mnot\u001b[39;00m i_confirm_i_saved:\n\u001b[0;32m---> 61\u001b[0m         \u001b[39mraise\u001b[39;00m \u001b[39mRuntimeError\u001b[39;00m(\n\u001b[1;32m     62\u001b[0m             \u001b[39m\"\u001b[39m\u001b[39mMake sure you save the notebook in your editor before publishing!\u001b[39m\u001b[39m\\n\u001b[39;00m\u001b[39m\"\u001b[39m\n\u001b[1;32m     63\u001b[0m             \u001b[39m\"\u001b[39m\u001b[39mYou can avoid the need for manually saving in Jupyter Lab, which auto-saves the buffer during publish.\u001b[39m\u001b[39m\"\u001b[39m  \u001b[39m# noqa\u001b[39;00m\n\u001b[1;32m     64\u001b[0m         )\n\u001b[1;32m     66\u001b[0m nb \u001b[39m=\u001b[39m read_notebook(meta\u001b[39m.\u001b[39m_filepath)  \u001b[39m# type: ignore\u001b[39;00m\n\u001b[1;32m     67\u001b[0m \u001b[39mif\u001b[39;00m \u001b[39mnot\u001b[39;00m check_last_cell(nb, calling_statement):\n",
      "\u001b[0;31mRuntimeError\u001b[0m: Make sure you save the notebook in your editor before publishing!\nYou can avoid the need for manually saving in Jupyter Lab, which auto-saves the buffer during publish."
     ]
    }
   ],
   "source": [
    "db.do.ingest.commit()"
   ]
  },
  {
   "cell_type": "code",
   "execution_count": null,
   "metadata": {},
   "outputs": [],
   "source": []
  }
 ],
 "metadata": {
  "kernelspec": {
   "display_name": "Python 3.9.13 ('py39')",
   "language": "python",
   "name": "python3"
  },
  "language_info": {
   "codemirror_mode": {
    "name": "ipython",
    "version": 3
   },
   "file_extension": ".py",
   "mimetype": "text/x-python",
   "name": "python",
   "nbconvert_exporter": "python",
   "pygments_lexer": "ipython3",
   "version": "3.9.13"
  },
  "nbproject": {
   "id": "ZKJX7AnXzQQp",
   "parent": null,
   "pypackage": null,
   "time_init": "2022-07-30T16:14:52.152853+00:00",
   "version": "draft"
  },
  "vscode": {
   "interpreter": {
    "hash": "ae1fefc8646a06dd2e75004cd934adda7c5727b046986a772e3b44b0ffba9754"
   }
  }
 },
 "nbformat": 4,
 "nbformat_minor": 4
}
