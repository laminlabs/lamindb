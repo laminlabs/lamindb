{
 "cells": [
  {
   "cell_type": "markdown",
   "id": "706e099e-bc94-40df-918f-ebeacd6a2b6c",
   "metadata": {},
   "source": [
    "# Switch to another instance"
   ]
  },
  {
   "cell_type": "code",
   "execution_count": null,
   "id": "16ada2e3-c940-41e4-9a9c-5ca42f3765ca",
   "metadata": {},
   "outputs": [],
   "source": [
    "from nbproject import header\n",
    "from lamindb._setup._settings import load_or_create_instance_settings\n",
    "\n",
    "header()"
   ]
  },
  {
   "cell_type": "markdown",
   "id": "5cbd3225",
   "metadata": {},
   "source": [
    "## Currently used instance"
   ]
  },
  {
   "cell_type": "markdown",
   "id": "aa7a6a17",
   "metadata": {},
   "source": [
    "The currently used instance is the one we created in the get-started-notebook."
   ]
  },
  {
   "cell_type": "code",
   "execution_count": null,
   "id": "d6bbbab8",
   "metadata": {},
   "outputs": [],
   "source": [
    "load_or_create_instance_settings().storage_dir"
   ]
  },
  {
   "cell_type": "markdown",
   "id": "8686b1f8",
   "metadata": {},
   "source": [
    "The instance name is directly derived from the storage path."
   ]
  },
  {
   "cell_type": "code",
   "execution_count": null,
   "id": "078b3b90",
   "metadata": {},
   "outputs": [],
   "source": [
    "load_or_create_instance_settings().instance_name"
   ]
  },
  {
   "cell_type": "markdown",
   "id": "62af7dfb-6c2b-45a9-8132-a3068289f3cf",
   "metadata": {},
   "source": [
    "## Create a new instance"
   ]
  },
  {
   "cell_type": "markdown",
   "id": "6ba2a6d4-7f28-4123-a527-76b76ce511de",
   "metadata": {},
   "source": [
    "Let us create another instance for the sake of example."
   ]
  },
  {
   "cell_type": "code",
   "execution_count": null,
   "id": "a8cd2beb-39ff-40d5-866a-296ac67cdbc3",
   "metadata": {},
   "outputs": [],
   "source": [
    "!lndb init --storage mydata2"
   ]
  },
  {
   "cell_type": "markdown",
   "id": "0cd656d5",
   "metadata": {},
   "source": [
    "Now we can see that the currently used instance is the one we've just created."
   ]
  },
  {
   "cell_type": "code",
   "execution_count": null,
   "id": "0390e521",
   "metadata": {},
   "outputs": [],
   "source": [
    "load_or_create_instance_settings().storage_dir"
   ]
  },
  {
   "cell_type": "markdown",
   "id": "08bad552-84c8-4bf1-b3ee-39b8955add77",
   "metadata": {},
   "source": [
    "## Switch to another instance"
   ]
  },
  {
   "cell_type": "markdown",
   "id": "3f9c2a7d-45f4-4ab4-bf9a-944cdf3742a2",
   "metadata": {},
   "source": [
    "Let us now switch back to the previous instance. "
   ]
  },
  {
   "cell_type": "code",
   "execution_count": null,
   "id": "c08ae9f5",
   "metadata": {},
   "outputs": [],
   "source": [
    "!lndb load --name mydata"
   ]
  },
  {
   "cell_type": "code",
   "execution_count": null,
   "id": "34bb652d-ba93-45ee-ab02-ee8561c5111f",
   "metadata": {},
   "outputs": [],
   "source": [
    "load_or_create_instance_settings().storage_dir"
   ]
  }
 ],
 "metadata": {
  "kernelspec": {
   "display_name": "Python 3.9.7 ('base')",
   "language": "python",
   "name": "python3"
  },
  "language_info": {
   "codemirror_mode": {
    "name": "ipython",
    "version": 3
   },
   "file_extension": ".py",
   "mimetype": "text/x-python",
   "name": "python",
   "nbconvert_exporter": "python",
   "pygments_lexer": "ipython3",
   "version": "3.9.7"
  },
  "nbproject": {
   "dependency": {
    "lamindb": "0.3a1",
    "nbproject": "0.1.0",
    "scikit-learn": "1.1.1"
   },
   "id": "ZCdINSMzjawp",
   "time_init": "2022-07-01T07:37:38.531053+00:00",
   "version": "draft"
  },
  "vscode": {
   "interpreter": {
    "hash": "2841734f87827db3a7b3181a6051fe720e9968e703956c2bd6988b5a29362801"
   }
  }
 },
 "nbformat": 4,
 "nbformat_minor": 5
}
