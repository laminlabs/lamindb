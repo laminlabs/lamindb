{
 "cells": [
  {
   "cell_type": "markdown",
   "id": "1a515a1b-34ac-4c0b-ae6c-0f360bd3ac9b",
   "metadata": {},
   "source": [
    "# Query and load data"
   ]
  },
  {
   "cell_type": "markdown",
   "id": "d8db7699-d5f9-4d01-884d-6a09576f3838",
   "metadata": {},
   "source": [
    "Once data has been ingested into the database, we can immediately query it."
   ]
  },
  {
   "cell_type": "code",
   "execution_count": null,
   "id": "fe98f316-2175-4c16-8bb5-726f61fdf85c",
   "metadata": {},
   "outputs": [],
   "source": [
    "import lamindb as db\n",
    "\n",
    "db.header()"
   ]
  },
  {
   "cell_type": "code",
   "execution_count": null,
   "id": "89083c06-c687-4213-8628-02e4b1ce353d",
   "metadata": {},
   "outputs": [],
   "source": [
    "!lndb login --email \"kurt.hein@gmx.de\" --secret \"uIoEGyiCj0qcXbGhTpOAuY6CH86xauzAsOSlp95A\""
   ]
  },
  {
   "cell_type": "code",
   "execution_count": null,
   "id": "b3ff21c5-09c8-4989-a08d-85da1576b3f0",
   "metadata": {},
   "outputs": [],
   "source": [
    "!lndb load --name mydata"
   ]
  },
  {
   "cell_type": "markdown",
   "id": "2608a560",
   "metadata": {},
   "source": [
    "Let's query for a user:"
   ]
  },
  {
   "cell_type": "code",
   "execution_count": null,
   "id": "2841d172",
   "metadata": {},
   "outputs": [],
   "source": [
    "db.do.query.user(email=\"kurt.hein@gmx.de\")"
   ]
  },
  {
   "cell_type": "markdown",
   "id": "233821ee",
   "metadata": {},
   "source": [
    "Let's query for dobjects that are named \"iris\": we found one!"
   ]
  },
  {
   "cell_type": "code",
   "execution_count": null,
   "id": "d276992e",
   "metadata": {},
   "outputs": [],
   "source": [
    "dobjects = db.do.query.dobject(name=\"iris\")\n",
    "dobjects"
   ]
  },
  {
   "cell_type": "markdown",
   "id": "50c90781",
   "metadata": {},
   "source": [
    "Load the returned dobject into memory:"
   ]
  },
  {
   "cell_type": "code",
   "execution_count": null,
   "id": "e1dc8fd8",
   "metadata": {},
   "outputs": [],
   "source": [
    "df = db.do.load.dobject(dobjects[0])\n",
    "df.head()"
   ]
  },
  {
   "cell_type": "markdown",
   "id": "d1338ccc",
   "metadata": {},
   "source": [
    "Now you can start your analysis from here:"
   ]
  },
  {
   "cell_type": "code",
   "execution_count": null,
   "id": "5fa52fb2-cc93-4e4d-a481-4864b5c0d0da",
   "metadata": {},
   "outputs": [],
   "source": [
    "import seaborn as sns"
   ]
  },
  {
   "cell_type": "code",
   "execution_count": null,
   "id": "c1372af7-e3bd-44df-bac9-12f008771dac",
   "metadata": {},
   "outputs": [],
   "source": [
    "g = sns.PairGrid(df, hue=\"target\")\n",
    "g.map_upper(sns.scatterplot, s=15)\n",
    "g.map_diag(sns.histplot)\n",
    "g.add_legend();"
   ]
  },
  {
   "cell_type": "code",
   "execution_count": null,
   "id": "22bbb616",
   "metadata": {},
   "outputs": [],
   "source": []
  }
 ],
 "metadata": {
  "kernelspec": {
   "display_name": "Python 3.9.13 ('py39')",
   "language": "python",
   "name": "python3"
  },
  "language_info": {
   "codemirror_mode": {
    "name": "ipython",
    "version": 3
   },
   "file_extension": ".py",
   "mimetype": "text/x-python",
   "name": "python",
   "nbconvert_exporter": "python",
   "pygments_lexer": "ipython3",
   "version": "3.9.13"
  },
  "nbproject": {
   "id": "hmWrrFMGO5Dg",
   "parent": null,
   "pypackage": null,
   "time_init": "2022-07-31T16:34:36.395954+00:00",
   "version": "draft"
  },
  "vscode": {
   "interpreter": {
    "hash": "ae1fefc8646a06dd2e75004cd934adda7c5727b046986a772e3b44b0ffba9754"
   }
  }
 },
 "nbformat": 4,
 "nbformat_minor": 5
}
