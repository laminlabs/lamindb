{
 "cells": [
  {
   "cell_type": "markdown",
   "id": "1a515a1b-34ac-4c0b-ae6c-0f360bd3ac9b",
   "metadata": {},
   "source": [
    "# Query by provenance and load dobjects"
   ]
  },
  {
   "cell_type": "code",
   "execution_count": null,
   "id": "fe98f316-2175-4c16-8bb5-726f61fdf85c",
   "metadata": {},
   "outputs": [],
   "source": [
    "import lamindb as db\n",
    "import seaborn as sns\n",
    "import sqlmodel as sqm\n",
    "\n",
    "db.header()"
   ]
  },
  {
   "cell_type": "markdown",
   "id": "396309ad",
   "metadata": {},
   "source": [
    "Assume we're a different user who wants to continue the work of `test-user1` on the iris dataset."
   ]
  },
  {
   "cell_type": "code",
   "execution_count": null,
   "id": "89083c06-c687-4213-8628-02e4b1ce353d",
   "metadata": {},
   "outputs": [],
   "source": [
    "!lndb login test-user2"
   ]
  },
  {
   "cell_type": "markdown",
   "id": "2608a560",
   "metadata": {},
   "source": [
    "Let's see whether we can find our friend test-user1."
   ]
  },
  {
   "cell_type": "code",
   "execution_count": null,
   "id": "2841d172",
   "metadata": {},
   "outputs": [],
   "source": [
    "db.do.query.user(handle=\"test-user1\")"
   ]
  },
  {
   "cell_type": "markdown",
   "id": "233821ee",
   "metadata": {},
   "source": [
    "For simple frequent queries, LaminDB has a high-level query API around SQLModel.[^sqlmodel]\n",
    "\n",
    "[^sqlmodel]: We'll also show how to use SQLModel for arbitrarily complicated queries."
   ]
  },
  {
   "cell_type": "code",
   "execution_count": null,
   "id": "d276992e",
   "metadata": {},
   "outputs": [],
   "source": [
    "dobjects = db.do.query.dobject(name=\"iris\")"
   ]
  },
  {
   "cell_type": "markdown",
   "id": "ccee9eee",
   "metadata": {},
   "source": [
    "The high-level query API always returns a list of results:"
   ]
  },
  {
   "cell_type": "code",
   "execution_count": null,
   "id": "6c4a09c7",
   "metadata": {},
   "outputs": [],
   "source": [
    "dobjects"
   ]
  },
  {
   "cell_type": "code",
   "execution_count": null,
   "id": "27123cbe",
   "metadata": {},
   "outputs": [],
   "source": [
    "dobject = dobjects[0]"
   ]
  },
  {
   "cell_type": "markdown",
   "id": "50c90781",
   "metadata": {},
   "source": [
    "To load a dobject into memory, use:"
   ]
  },
  {
   "cell_type": "code",
   "execution_count": null,
   "id": "e1dc8fd8",
   "metadata": {},
   "outputs": [],
   "source": [
    "df = db.do.load.dobject(dobject)"
   ]
  },
  {
   "cell_type": "code",
   "execution_count": null,
   "id": "c1372af7-e3bd-44df-bac9-12f008771dac",
   "metadata": {},
   "outputs": [],
   "source": [
    "g = sns.PairGrid(df, hue=\"target\")\n",
    "g.map_upper(sns.scatterplot, s=15)\n",
    "g.map_diag(sns.histplot)\n",
    "g.add_legend();"
   ]
  },
  {
   "cell_type": "markdown",
   "id": "ddc24c9c",
   "metadata": {},
   "source": [
    "During your analysis, you notice something strange, and you'd like to understand where the data actually came from."
   ]
  },
  {
   "cell_type": "markdown",
   "id": "aaf48393",
   "metadata": {},
   "source": [
    "Any dobject has a data source in form of a `dsource_id`."
   ]
  },
  {
   "cell_type": "code",
   "execution_count": null,
   "id": "ef8373c6",
   "metadata": {},
   "outputs": [],
   "source": [
    "dobject.dsource_id"
   ]
  },
  {
   "cell_type": "markdown",
   "id": "0e463f89",
   "metadata": {},
   "source": [
    "Let's query for it via a SQL session:"
   ]
  },
  {
   "cell_type": "code",
   "execution_count": null,
   "id": "25deec4b",
   "metadata": {},
   "outputs": [],
   "source": [
    "with db.session() as session:\n",
    "    dtransform = session.get(db.schema.core.dtransform, dobject.dsource_id)"
   ]
  },
  {
   "cell_type": "markdown",
   "id": "c0236234",
   "metadata": {},
   "source": [
    "Inspecting the result we see that the dobject originates from a Jupyter Notebook."
   ]
  },
  {
   "cell_type": "code",
   "execution_count": null,
   "id": "39f75d53",
   "metadata": {},
   "outputs": [],
   "source": [
    "dtransform"
   ]
  },
  {
   "cell_type": "code",
   "execution_count": null,
   "id": "0bfbcade",
   "metadata": {},
   "outputs": [],
   "source": [
    "with db.session() as session:\n",
    "    jupynb = session.get(\n",
    "        db.schema.core.jupynb, (dtransform.jupynb_id, \"1\")\n",
    "    )  # it's version 1! see jupynb_v"
   ]
  },
  {
   "cell_type": "code",
   "execution_count": null,
   "id": "5f889852",
   "metadata": {},
   "outputs": [],
   "source": [
    "jupynb"
   ]
  },
  {
   "cell_type": "markdown",
   "id": "b7c16562",
   "metadata": {},
   "source": [
    "Finally we can identify the person who created the notebook!"
   ]
  },
  {
   "cell_type": "code",
   "execution_count": null,
   "id": "c55ca2cd",
   "metadata": {},
   "outputs": [],
   "source": [
    "with db.session() as session:\n",
    "    user = session.get(db.schema.core.user, jupynb.user_id)"
   ]
  },
  {
   "cell_type": "code",
   "execution_count": null,
   "id": "1c199ae7",
   "metadata": {},
   "outputs": [],
   "source": [
    "user"
   ]
  }
 ],
 "metadata": {
  "kernelspec": {
   "display_name": "Python 3.9.12 ('base1')",
   "language": "python",
   "name": "python3"
  },
  "language_info": {
   "codemirror_mode": {
    "name": "ipython",
    "version": 3
   },
   "file_extension": ".py",
   "mimetype": "text/x-python",
   "name": "python",
   "nbconvert_exporter": "python",
   "pygments_lexer": "ipython3",
   "version": "3.9.12"
  },
  "nbproject": {
   "id": "hmWrrFMGO5Dg",
   "parent": null,
   "pypackage": null,
   "time_init": "2022-07-31T16:34:36.395954+00:00",
   "version": "draft"
  },
  "vscode": {
   "interpreter": {
    "hash": "2775e555cdc2d728c54aa22130c79afb1fa4da64f22f2fc6dcc2aa346c4e0672"
   }
  }
 },
 "nbformat": 4,
 "nbformat_minor": 5
}
