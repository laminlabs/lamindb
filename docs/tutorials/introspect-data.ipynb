{
 "cells": [
  {
   "cell_type": "markdown",
   "id": "9de688ab-8f24-4b1c-a5c6-d8ff1e6a75a0",
   "metadata": {
    "tags": []
   },
   "source": [
    "# Introspecting the data"
   ]
  },
  {
   "cell_type": "code",
   "execution_count": null,
   "id": "e61983fa-a018-4b2a-8590-4faa6e61fd57",
   "metadata": {},
   "outputs": [],
   "source": [
    "import lamindb as db"
   ]
  },
  {
   "cell_type": "code",
   "execution_count": null,
   "id": "e248d23b-a810-4061-b20c-06189af1e990",
   "metadata": {},
   "outputs": [],
   "source": [
    "for entity in db.track.schema.entities:\n",
    "    print(entity)\n",
    "    display(db.do.load(entity))"
   ]
  },
  {
   "cell_type": "markdown",
   "id": "81327289-bc8f-49d9-bce6-849baa424b40",
   "metadata": {},
   "source": [
    "Inspect a value in more detail:"
   ]
  },
  {
   "cell_type": "code",
   "execution_count": null,
   "id": "7ef87c39-0140-4b30-8d69-07653e89b6fa",
   "metadata": {},
   "outputs": [],
   "source": [
    "db.do.load(\"interface\").dependency"
   ]
  }
 ],
 "metadata": {
  "kernelspec": {
   "display_name": "Python 3.9.12 ('base1')",
   "language": "python",
   "name": "python3"
  },
  "language_info": {
   "codemirror_mode": {
    "name": "ipython",
    "version": 3
   },
   "file_extension": ".py",
   "mimetype": "text/x-python",
   "name": "python",
   "nbconvert_exporter": "python",
   "pygments_lexer": "ipython3",
   "version": "3.9.12"
  },
  "vscode": {
   "interpreter": {
    "hash": "2775e555cdc2d728c54aa22130c79afb1fa4da64f22f2fc6dcc2aa346c4e0672"
   }
  }
 },
 "nbformat": 4,
 "nbformat_minor": 5
}
