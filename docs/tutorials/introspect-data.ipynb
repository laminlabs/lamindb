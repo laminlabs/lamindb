{
 "cells": [
  {
   "cell_type": "markdown",
   "id": "9de688ab-8f24-4b1c-a5c6-d8ff1e6a75a0",
   "metadata": {
    "tags": []
   },
   "source": [
    "# Monitoring data: provenance, versioning, data flow & integrity"
   ]
  },
  {
   "cell_type": "code",
   "execution_count": null,
   "id": "e61983fa-a018-4b2a-8590-4faa6e61fd57",
   "metadata": {},
   "outputs": [],
   "source": [
    "import lamindb as db"
   ]
  },
  {
   "cell_type": "markdown",
   "id": "98912345-42b7-468f-bdb9-162580d39505",
   "metadata": {},
   "source": [
    "## Introspecting the schema"
   ]
  },
  {
   "cell_type": "code",
   "execution_count": null,
   "id": "9beb3ae8",
   "metadata": {},
   "outputs": [],
   "source": [
    "instance = db.refactoring.Context.context.get_current_instance()"
   ]
  },
  {
   "cell_type": "code",
   "execution_count": null,
   "id": "9d6d0cad",
   "metadata": {},
   "outputs": [],
   "source": [
    "instance.schema.diagram()"
   ]
  },
  {
   "cell_type": "markdown",
   "id": "c6d07db2",
   "metadata": {},
   "source": [
    "## Introspecting data provenance, versions, flow, and integrity"
   ]
  },
  {
   "cell_type": "code",
   "execution_count": null,
   "id": "e248d23b-a810-4061-b20c-06189af1e990",
   "metadata": {},
   "outputs": [],
   "source": [
    "for entity in instance.schema.entities:\n",
    "    print(entity)\n",
    "    display(instance.do.load(entity))"
   ]
  },
  {
   "cell_type": "markdown",
   "id": "81327289-bc8f-49d9-bce6-849baa424b40",
   "metadata": {},
   "source": [
    "Inspect a value in more detail:"
   ]
  },
  {
   "cell_type": "code",
   "execution_count": null,
   "id": "7ef87c39-0140-4b30-8d69-07653e89b6fa",
   "metadata": {},
   "outputs": [],
   "source": [
    "instance.do.load(\"interface\").name"
   ]
  },
  {
   "cell_type": "code",
   "execution_count": null,
   "id": "3a4441ae",
   "metadata": {},
   "outputs": [],
   "source": []
  }
 ],
 "metadata": {
  "kernelspec": {
   "display_name": "Python 3.9.7 ('base')",
   "language": "python",
   "name": "python3"
  },
  "language_info": {
   "codemirror_mode": {
    "name": "ipython",
    "version": 3
   },
   "file_extension": ".py",
   "mimetype": "text/x-python",
   "name": "python",
   "nbconvert_exporter": "python",
   "pygments_lexer": "ipython3",
   "version": "3.9.7"
  },
  "vscode": {
   "interpreter": {
    "hash": "2841734f87827db3a7b3181a6051fe720e9968e703956c2bd6988b5a29362801"
   }
  }
 },
 "nbformat": 4,
 "nbformat_minor": 5
}
