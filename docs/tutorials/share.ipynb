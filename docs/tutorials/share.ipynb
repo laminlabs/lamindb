{
 "cells": [
  {
   "cell_type": "markdown",
   "id": "26c85a17-7ed3-4857-8bdc-6d4f724be815",
   "metadata": {},
   "source": [
    "# Sharing data"
   ]
  },
  {
   "cell_type": "markdown",
   "id": "e444ce9f-606f-4422-a0e8-3f2fea955f81",
   "metadata": {},
   "source": [
    "You can register an instance on the hub."
   ]
  },
  {
   "cell_type": "code",
   "execution_count": null,
   "id": "010fd3af-eccc-40cc-86ec-b5f5dbb129a8",
   "metadata": {},
   "outputs": [],
   "source": [
    "from lamindb._setup._hub import create_instance"
   ]
  },
  {
   "cell_type": "code",
   "execution_count": null,
   "id": "81722a97-1639-40ee-86f6-fd30ca9e8bec",
   "metadata": {},
   "outputs": [],
   "source": [
    "# create_instance(\"mydata\")"
   ]
  }
 ],
 "metadata": {
  "kernelspec": {
   "display_name": "Python 3 (ipykernel)",
   "language": "python",
   "name": "python3"
  },
  "language_info": {
   "codemirror_mode": {
    "name": "ipython",
    "version": 3
   },
   "file_extension": ".py",
   "mimetype": "text/x-python",
   "name": "python",
   "nbconvert_exporter": "python",
   "pygments_lexer": "ipython3",
   "version": "3.9.12"
  }
 },
 "nbformat": 4,
 "nbformat_minor": 5
}
