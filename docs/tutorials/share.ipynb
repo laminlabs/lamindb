{
 "cells": [
  {
   "cell_type": "markdown",
   "id": "26c85a17-7ed3-4857-8bdc-6d4f724be815",
   "metadata": {},
   "source": [
    "# Sharing data"
   ]
  },
  {
   "cell_type": "markdown",
   "id": "e444ce9f-606f-4422-a0e8-3f2fea955f81",
   "metadata": {},
   "source": [
    "You can register an instance on the hub."
   ]
  },
  {
   "cell_type": "code",
   "execution_count": null,
   "id": "010fd3af-eccc-40cc-86ec-b5f5dbb129a8",
   "metadata": {},
   "outputs": [],
   "source": [
    "from lndb_setup._hub import create_instance"
   ]
  },
  {
   "cell_type": "code",
   "execution_count": null,
   "id": "81722a97-1639-40ee-86f6-fd30ca9e8bec",
   "metadata": {},
   "outputs": [],
   "source": [
    "# create_instance(\"mydata\")"
   ]
  },
  {
   "cell_type": "code",
   "execution_count": null,
   "id": "092d411d",
   "metadata": {
    "tags": [
     "hide-cell"
    ]
   },
   "outputs": [],
   "source": [
    "import lamindb as db\n",
    "from lamindb.do._push import push_dobject, push_instance, unpush_instance"
   ]
  },
  {
   "cell_type": "code",
   "execution_count": null,
   "id": "5b854e3c",
   "metadata": {},
   "outputs": [],
   "source": [
    "dobject_id, dobject_v = db.do.load(\"dobject\").index[0]\n",
    "\n",
    "print(dobject_id, dobject_v)"
   ]
  },
  {
   "cell_type": "code",
   "execution_count": null,
   "id": "75a86d08",
   "metadata": {},
   "outputs": [],
   "source": [
    "push_instance()"
   ]
  },
  {
   "cell_type": "code",
   "execution_count": null,
   "id": "48411e62",
   "metadata": {},
   "outputs": [],
   "source": [
    "unpush_instance()"
   ]
  },
  {
   "cell_type": "code",
   "execution_count": null,
   "id": "df9a6c7d",
   "metadata": {},
   "outputs": [],
   "source": [
    "push_dobject(dobject_id, dobject_v)"
   ]
  },
  {
   "cell_type": "code",
   "execution_count": null,
   "id": "309f14b2",
   "metadata": {},
   "outputs": [],
   "source": [
    "unpush_instance()"
   ]
  }
 ],
 "metadata": {
  "kernelspec": {
   "display_name": "Python 3 (ipykernel)",
   "language": "python",
   "name": "python3"
  },
  "language_info": {
   "codemirror_mode": {
    "name": "ipython",
    "version": 3
   },
   "file_extension": ".py",
   "mimetype": "text/x-python",
   "name": "python",
   "nbconvert_exporter": "python",
   "pygments_lexer": "ipython3",
   "version": "3.9.7"
  },
  "vscode": {
   "interpreter": {
    "hash": "2841734f87827db3a7b3181a6051fe720e9968e703956c2bd6988b5a29362801"
   }
  }
 },
 "nbformat": 4,
 "nbformat_minor": 5
}
