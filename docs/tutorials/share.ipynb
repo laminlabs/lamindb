{
 "cells": [
  {
   "cell_type": "markdown",
   "id": "26c85a17-7ed3-4857-8bdc-6d4f724be815",
   "metadata": {},
   "source": [
    "# Sharing data"
   ]
  },
  {
   "cell_type": "code",
   "execution_count": null,
   "id": "092d411d",
   "metadata": {
    "tags": [
     "hide-cell"
    ]
   },
   "outputs": [],
   "source": [
    "import lamindb as db"
   ]
  },
  {
   "cell_type": "markdown",
   "id": "a0582ea2",
   "metadata": {},
   "source": [
    "Share the entire instance on the hub."
   ]
  },
  {
   "cell_type": "code",
   "execution_count": null,
   "id": "75a86d08",
   "metadata": {},
   "outputs": [],
   "source": [
    "db.do.hub.share_instance()"
   ]
  },
  {
   "cell_type": "code",
   "execution_count": null,
   "id": "48411e62",
   "metadata": {},
   "outputs": [],
   "source": [
    "db.do.hub.delete_instance()"
   ]
  },
  {
   "cell_type": "markdown",
   "id": "f316cb33",
   "metadata": {},
   "source": [
    "Share a single dobject on the hub."
   ]
  },
  {
   "cell_type": "code",
   "execution_count": null,
   "id": "c19c693d",
   "metadata": {},
   "outputs": [],
   "source": [
    "id, v = db.do.load.entity(\"dobject\").index[0]"
   ]
  },
  {
   "cell_type": "code",
   "execution_count": null,
   "id": "df9a6c7d",
   "metadata": {},
   "outputs": [],
   "source": [
    "db.do.hub.share_dobject(id, v)"
   ]
  },
  {
   "cell_type": "code",
   "execution_count": null,
   "id": "309f14b2",
   "metadata": {},
   "outputs": [],
   "source": [
    "db.do.hub.delete_instance()"
   ]
  }
 ],
 "metadata": {
  "kernelspec": {
   "display_name": "Python 3.9.12 ('base1')",
   "language": "python",
   "name": "python3"
  },
  "language_info": {
   "codemirror_mode": {
    "name": "ipython",
    "version": 3
   },
   "file_extension": ".py",
   "mimetype": "text/x-python",
   "name": "python",
   "nbconvert_exporter": "python",
   "pygments_lexer": "ipython3",
   "version": "3.9.12"
  },
  "vscode": {
   "interpreter": {
    "hash": "2775e555cdc2d728c54aa22130c79afb1fa4da64f22f2fc6dcc2aa346c4e0672"
   }
  }
 },
 "nbformat": 4,
 "nbformat_minor": 5
}
