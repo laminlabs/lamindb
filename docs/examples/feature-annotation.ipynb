{
 "cells": [
  {
   "cell_type": "markdown",
   "metadata": {},
   "source": [
    "# Feature annotation"
   ]
  },
  {
   "cell_type": "code",
   "execution_count": 1,
   "metadata": {},
   "outputs": [],
   "source": [
    "%load_ext autoreload\n",
    "%autoreload 2"
   ]
  },
  {
   "cell_type": "code",
   "execution_count": 2,
   "metadata": {},
   "outputs": [
    {
     "data": {
      "text/html": [
       "<table><tbody><tr><td style='text-align: left;'><b>id</b></td><td style='text-align: left;'>oYcJ<span style='opacity:0.3'>lpQohwcq</span></td></tr><tr><td style='text-align: left;'><b>version</b></td><td style='text-align: left;'>draft</td></tr><tr><td style='text-align: left;'><b>time_init</b></td><td style='text-align: left;'>2022-07-19 14:48</td></tr><tr><td style='text-align: left;'><b>time_run</b></td><td style='text-align: left;'>2022-07-22 14:39</td></tr><tr><td style='text-align: left;'><b>pypackage</b></td><td style='text-align: left;'>bionty==0.0.6+17.g0499eed lamindb==0.0.9 nbproject==0.4.1 scanpy==1.8.2</td></tr></tbody></table>"
      ],
      "text/plain": [
       "<IPython.core.display.HTML object>"
      ]
     },
     "metadata": {},
     "output_type": "display_data"
    }
   ],
   "source": [
    "import scanpy as sc\n",
    "import lamindb as db\n",
    "from lamindb.do import ingest\n",
    "import bionty as bt\n",
    "from nbproject import header\n",
    "\n",
    "header()"
   ]
  },
  {
   "cell_type": "code",
   "execution_count": 3,
   "metadata": {},
   "outputs": [
    {
     "name": "stdout",
     "output_type": "stream",
     "text": [
      "ℹ️ | Created instance mydata: /Users/sunnysun/mydata/mydata.lndb\n"
     ]
    }
   ],
   "source": [
    "! lndb init --storage $HOME/mydata"
   ]
  },
  {
   "cell_type": "markdown",
   "metadata": {},
   "source": [
    "## Data"
   ]
  },
  {
   "cell_type": "code",
   "execution_count": 4,
   "metadata": {},
   "outputs": [
    {
     "name": "stdout",
     "output_type": "stream",
     "text": [
      "62 terms (8.1%) are not mappable.\n"
     ]
    }
   ],
   "source": [
    "adata = sc.datasets.pbmc68k_reduced()\n",
    "adata.var = bt.Gene().curate(adata.var)"
   ]
  },
  {
   "cell_type": "code",
   "execution_count": 5,
   "metadata": {},
   "outputs": [
    {
     "data": {
      "text/html": [
       "<div>\n",
       "<style scoped>\n",
       "    .dataframe tbody tr th:only-of-type {\n",
       "        vertical-align: middle;\n",
       "    }\n",
       "\n",
       "    .dataframe tbody tr th {\n",
       "        vertical-align: top;\n",
       "    }\n",
       "\n",
       "    .dataframe thead th {\n",
       "        text-align: right;\n",
       "    }\n",
       "</style>\n",
       "<table border=\"1\" class=\"dataframe\">\n",
       "  <thead>\n",
       "    <tr style=\"text-align: right;\">\n",
       "      <th></th>\n",
       "      <th>n_counts</th>\n",
       "      <th>means</th>\n",
       "      <th>dispersions</th>\n",
       "      <th>dispersions_norm</th>\n",
       "      <th>highly_variable</th>\n",
       "      <th>orig_index</th>\n",
       "      <th>__curated__</th>\n",
       "    </tr>\n",
       "    <tr>\n",
       "      <th>index</th>\n",
       "      <th></th>\n",
       "      <th></th>\n",
       "      <th></th>\n",
       "      <th></th>\n",
       "      <th></th>\n",
       "      <th></th>\n",
       "      <th></th>\n",
       "    </tr>\n",
       "  </thead>\n",
       "  <tbody>\n",
       "    <tr>\n",
       "      <th>HES4</th>\n",
       "      <td>1153.387451</td>\n",
       "      <td>0.592365</td>\n",
       "      <td>2.028047</td>\n",
       "      <td>2.771764</td>\n",
       "      <td>True</td>\n",
       "      <td>HES4</td>\n",
       "      <td>True</td>\n",
       "    </tr>\n",
       "    <tr>\n",
       "      <th>TNFRSF4</th>\n",
       "      <td>304.358154</td>\n",
       "      <td>0.193332</td>\n",
       "      <td>1.760724</td>\n",
       "      <td>2.746426</td>\n",
       "      <td>True</td>\n",
       "      <td>TNFRSF4</td>\n",
       "      <td>True</td>\n",
       "    </tr>\n",
       "    <tr>\n",
       "      <th>SSU72</th>\n",
       "      <td>2530.272705</td>\n",
       "      <td>1.019981</td>\n",
       "      <td>1.208284</td>\n",
       "      <td>-0.631160</td>\n",
       "      <td>False</td>\n",
       "      <td>SSU72</td>\n",
       "      <td>True</td>\n",
       "    </tr>\n",
       "    <tr>\n",
       "      <th>PARK7</th>\n",
       "      <td>7451.664062</td>\n",
       "      <td>1.828078</td>\n",
       "      <td>1.288261</td>\n",
       "      <td>-0.544716</td>\n",
       "      <td>False</td>\n",
       "      <td>PARK7</td>\n",
       "      <td>True</td>\n",
       "    </tr>\n",
       "    <tr>\n",
       "      <th>RBP7</th>\n",
       "      <td>272.811035</td>\n",
       "      <td>0.174943</td>\n",
       "      <td>1.842789</td>\n",
       "      <td>3.192285</td>\n",
       "      <td>True</td>\n",
       "      <td>RBP7</td>\n",
       "      <td>True</td>\n",
       "    </tr>\n",
       "  </tbody>\n",
       "</table>\n",
       "</div>"
      ],
      "text/plain": [
       "            n_counts     means  dispersions  dispersions_norm  \\\n",
       "index                                                           \n",
       "HES4     1153.387451  0.592365     2.028047          2.771764   \n",
       "TNFRSF4   304.358154  0.193332     1.760724          2.746426   \n",
       "SSU72    2530.272705  1.019981     1.208284         -0.631160   \n",
       "PARK7    7451.664062  1.828078     1.288261         -0.544716   \n",
       "RBP7      272.811035  0.174943     1.842789          3.192285   \n",
       "\n",
       "         highly_variable orig_index  __curated__  \n",
       "index                                             \n",
       "HES4                True       HES4         True  \n",
       "TNFRSF4             True    TNFRSF4         True  \n",
       "SSU72              False      SSU72         True  \n",
       "PARK7              False      PARK7         True  \n",
       "RBP7                True       RBP7         True  "
      ]
     },
     "execution_count": 5,
     "metadata": {},
     "output_type": "execute_result"
    }
   ],
   "source": [
    "adata.var.head()"
   ]
  },
  {
   "cell_type": "code",
   "execution_count": 6,
   "metadata": {},
   "outputs": [],
   "source": [
    "filename = \"scanpy_pbmc68k_reduced.h5ad\"\n",
    "adata.write(filename)"
   ]
  },
  {
   "cell_type": "markdown",
   "metadata": {},
   "source": [
    "## Ingest dataset"
   ]
  },
  {
   "cell_type": "code",
   "execution_count": 7,
   "metadata": {},
   "outputs": [],
   "source": [
    "ingest.add(filename)"
   ]
  },
  {
   "cell_type": "code",
   "execution_count": 8,
   "metadata": {},
   "outputs": [
    {
     "data": {
      "text/plain": [
       "{PosixPath('scanpy_pbmc68k_reduced.h5ad'): ('jI1Xj6Nq992FkqtpvFTpt', '1')}"
      ]
     },
     "execution_count": 8,
     "metadata": {},
     "output_type": "execute_result"
    }
   ],
   "source": [
    "ingest.status"
   ]
  },
  {
   "cell_type": "code",
   "execution_count": 9,
   "metadata": {},
   "outputs": [
    {
     "name": "stdout",
     "output_type": "stream",
     "text": [
      "Added notebook 'Feature annotation' (oYcJlpQohwcq, 1) by user xiaoji.sun515@gmail.com (BjExb4ik).\n",
      "\u001b[1mIngested the following files\u001b[0m:\n",
      "+--------------------------------------------------------+----------------------------------------+------------------------------------+\n",
      "|                     \u001b[1;92mIngested File\u001b[0m                      |                \u001b[1;94mNotebook\u001b[0m                |                \u001b[1;95mUser\u001b[0m                |\n",
      "+--------------------------------------------------------+----------------------------------------+------------------------------------+\n",
      "| scanpy_pbmc68k_reduced.h5ad (jI1Xj6Nq992FkqtpvFTpt, 1) | 'Feature annotation' (oYcJlpQohwcq, 1) | xiaoji.sun515@gmail.com (BjExb4ik) |\n",
      "+--------------------------------------------------------+----------------------------------------+------------------------------------+\n"
     ]
    },
    {
     "ename": "RuntimeError",
     "evalue": "Make sure you save the notebook in your editor before publishing!\nYou can avoid the need for manually saving in Jupyter Lab, which auto-saves the buffer during publish.",
     "output_type": "error",
     "traceback": [
      "\u001b[0;31m---------------------------------------------------------------------------\u001b[0m",
      "\u001b[0;31mRuntimeError\u001b[0m                              Traceback (most recent call last)",
      "\u001b[1;32m/Users/sunnysun/Documents/repos/lamindb/docs/examples/feature-annotation.ipynb Cell 12'\u001b[0m in \u001b[0;36m<cell line: 1>\u001b[0;34m()\u001b[0m\n\u001b[0;32m----> <a href='vscode-notebook-cell:/Users/sunnysun/Documents/repos/lamindb/docs/examples/feature-annotation.ipynb#ch0000013?line=0'>1</a>\u001b[0m ingest\u001b[39m.\u001b[39;49mcommit()\n",
      "File \u001b[0;32m~/Documents/repos/lamindb/lamindb/do/_ingest.py:145\u001b[0m, in \u001b[0;36mIngest.commit\u001b[0;34m(self, jupynb_v)\u001b[0m\n\u001b[1;32m    <a href='file:///Users/sunnysun/Documents/repos/lamindb/lamindb/do/_ingest.py?line=132'>133</a>\u001b[0m log_table \u001b[39m=\u001b[39m tabulate(\n\u001b[1;32m    <a href='file:///Users/sunnysun/Documents/repos/lamindb/lamindb/do/_ingest.py?line=133'>134</a>\u001b[0m     logs,\n\u001b[1;32m    <a href='file:///Users/sunnysun/Documents/repos/lamindb/lamindb/do/_ingest.py?line=134'>135</a>\u001b[0m     headers\u001b[39m=\u001b[39m[\n\u001b[0;32m   (...)\u001b[0m\n\u001b[1;32m    <a href='file:///Users/sunnysun/Documents/repos/lamindb/lamindb/do/_ingest.py?line=139'>140</a>\u001b[0m     tablefmt\u001b[39m=\u001b[39m\u001b[39m\"\u001b[39m\u001b[39mpretty\u001b[39m\u001b[39m\"\u001b[39m,\n\u001b[1;32m    <a href='file:///Users/sunnysun/Documents/repos/lamindb/lamindb/do/_ingest.py?line=140'>141</a>\u001b[0m )\n\u001b[1;32m    <a href='file:///Users/sunnysun/Documents/repos/lamindb/lamindb/do/_ingest.py?line=141'>142</a>\u001b[0m logger\u001b[39m.\u001b[39mlog(\n\u001b[1;32m    <a href='file:///Users/sunnysun/Documents/repos/lamindb/lamindb/do/_ingest.py?line=142'>143</a>\u001b[0m     \u001b[39m\"\u001b[39m\u001b[39mINGEST\u001b[39m\u001b[39m\"\u001b[39m, \u001b[39mf\u001b[39m\u001b[39m\"\u001b[39m\u001b[39m{\u001b[39;00mcolors\u001b[39m.\u001b[39mbold(\u001b[39m'\u001b[39m\u001b[39mIngested the following files\u001b[39m\u001b[39m'\u001b[39m)\u001b[39m}\u001b[39;00m\u001b[39m:\u001b[39m\u001b[39m\\n\u001b[39;00m\u001b[39m{\u001b[39;00mlog_table\u001b[39m}\u001b[39;00m\u001b[39m\"\u001b[39m\n\u001b[1;32m    <a href='file:///Users/sunnysun/Documents/repos/lamindb/lamindb/do/_ingest.py?line=143'>144</a>\u001b[0m )\n\u001b[0;32m--> <a href='file:///Users/sunnysun/Documents/repos/lamindb/lamindb/do/_ingest.py?line=144'>145</a>\u001b[0m publish(calling_statement\u001b[39m=\u001b[39;49m\u001b[39m\"\u001b[39;49m\u001b[39mcommit(\u001b[39;49m\u001b[39m\"\u001b[39;49m)\n",
      "File \u001b[0;32m~/Documents/repos/nbproject/nbproject/_publish.py:61\u001b[0m, in \u001b[0;36mpublish\u001b[0;34m(version, i_confirm_i_saved, **kwargs)\u001b[0m\n\u001b[1;32m     <a href='file:///Users/sunnysun/Documents/repos/nbproject/nbproject/_publish.py?line=58'>59</a>\u001b[0m         \u001b[39mpass\u001b[39;00m\n\u001b[1;32m     <a href='file:///Users/sunnysun/Documents/repos/nbproject/nbproject/_publish.py?line=59'>60</a>\u001b[0m     \u001b[39melif\u001b[39;00m \u001b[39mnot\u001b[39;00m i_confirm_i_saved:\n\u001b[0;32m---> <a href='file:///Users/sunnysun/Documents/repos/nbproject/nbproject/_publish.py?line=60'>61</a>\u001b[0m         \u001b[39mraise\u001b[39;00m \u001b[39mRuntimeError\u001b[39;00m(\n\u001b[1;32m     <a href='file:///Users/sunnysun/Documents/repos/nbproject/nbproject/_publish.py?line=61'>62</a>\u001b[0m             \u001b[39m\"\u001b[39m\u001b[39mMake sure you save the notebook in your editor before publishing!\u001b[39m\u001b[39m\\n\u001b[39;00m\u001b[39m\"\u001b[39m\n\u001b[1;32m     <a href='file:///Users/sunnysun/Documents/repos/nbproject/nbproject/_publish.py?line=62'>63</a>\u001b[0m             \u001b[39m\"\u001b[39m\u001b[39mYou can avoid the need for manually saving in Jupyter Lab, which auto-saves the buffer during publish.\u001b[39m\u001b[39m\"\u001b[39m  \u001b[39m# noqa\u001b[39;00m\n\u001b[1;32m     <a href='file:///Users/sunnysun/Documents/repos/nbproject/nbproject/_publish.py?line=63'>64</a>\u001b[0m         )\n\u001b[1;32m     <a href='file:///Users/sunnysun/Documents/repos/nbproject/nbproject/_publish.py?line=65'>66</a>\u001b[0m nb \u001b[39m=\u001b[39m read_notebook(meta\u001b[39m.\u001b[39m_filepath)  \u001b[39m# type: ignore\u001b[39;00m\n\u001b[1;32m     <a href='file:///Users/sunnysun/Documents/repos/nbproject/nbproject/_publish.py?line=66'>67</a>\u001b[0m \u001b[39mif\u001b[39;00m \u001b[39mnot\u001b[39;00m check_last_cell(nb, calling_statement):\n",
      "\u001b[0;31mRuntimeError\u001b[0m: Make sure you save the notebook in your editor before publishing!\nYou can avoid the need for manually saving in Jupyter Lab, which auto-saves the buffer during publish."
     ]
    }
   ],
   "source": [
    "ingest.commit()"
   ]
  },
  {
   "cell_type": "markdown",
   "metadata": {},
   "source": [
    "## Annotate genes"
   ]
  },
  {
   "cell_type": "code",
   "execution_count": 11,
   "metadata": {},
   "outputs": [
    {
     "data": {
      "text/html": [
       "<div>\n",
       "<style scoped>\n",
       "    .dataframe tbody tr th:only-of-type {\n",
       "        vertical-align: middle;\n",
       "    }\n",
       "\n",
       "    .dataframe tbody tr th {\n",
       "        vertical-align: top;\n",
       "    }\n",
       "\n",
       "    .dataframe thead th {\n",
       "        text-align: right;\n",
       "    }\n",
       "</style>\n",
       "<table border=\"1\" class=\"dataframe\">\n",
       "  <thead>\n",
       "    <tr style=\"text-align: right;\">\n",
       "      <th></th>\n",
       "      <th></th>\n",
       "      <th>name</th>\n",
       "      <th>file_suffix</th>\n",
       "      <th>jupynb_id</th>\n",
       "      <th>jupynb_v</th>\n",
       "      <th>time_created</th>\n",
       "      <th>time_updated</th>\n",
       "    </tr>\n",
       "    <tr>\n",
       "      <th>id</th>\n",
       "      <th>v</th>\n",
       "      <th></th>\n",
       "      <th></th>\n",
       "      <th></th>\n",
       "      <th></th>\n",
       "      <th></th>\n",
       "      <th></th>\n",
       "    </tr>\n",
       "  </thead>\n",
       "  <tbody>\n",
       "    <tr>\n",
       "      <th>jI1Xj6Nq992FkqtpvFTpt</th>\n",
       "      <th>1</th>\n",
       "      <td>scanpy_pbmc68k_reduced</td>\n",
       "      <td>.h5ad</td>\n",
       "      <td>oYcJlpQohwcq</td>\n",
       "      <td>1</td>\n",
       "      <td>2022-07-22 14:39:29</td>\n",
       "      <td>2022-07-22 14:39:29</td>\n",
       "    </tr>\n",
       "  </tbody>\n",
       "</table>\n",
       "</div>"
      ],
      "text/plain": [
       "                                           name file_suffix     jupynb_id  \\\n",
       "id                    v                                                     \n",
       "jI1Xj6Nq992FkqtpvFTpt 1  scanpy_pbmc68k_reduced       .h5ad  oYcJlpQohwcq   \n",
       "\n",
       "                        jupynb_v        time_created        time_updated  \n",
       "id                    v                                                   \n",
       "jI1Xj6Nq992FkqtpvFTpt 1        1 2022-07-22 14:39:29 2022-07-22 14:39:29  "
      ]
     },
     "execution_count": 11,
     "metadata": {},
     "output_type": "execute_result"
    }
   ],
   "source": [
    "dobject_table = db.do.load(\"dobject\")\n",
    "dobject_table"
   ]
  },
  {
   "cell_type": "code",
   "execution_count": 15,
   "metadata": {},
   "outputs": [
    {
     "data": {
      "text/plain": [
       "dobject(id='jI1Xj6Nq992FkqtpvFTpt', file_suffix='.h5ad', jupynb_v='1', time_updated=datetime.datetime(2022, 7, 22, 14, 39, 29), name='scanpy_pbmc68k_reduced', v='1', jupynb_id='oYcJlpQohwcq', time_created=datetime.datetime(2022, 7, 22, 14, 39, 29))"
      ]
     },
     "execution_count": 15,
     "metadata": {},
     "output_type": "execute_result"
    }
   ],
   "source": [
    "dobj = db.do.query.id(\"dobject\", dobject_table.index[0])\n",
    "dobj"
   ]
  },
  {
   "cell_type": "code",
   "execution_count": 16,
   "metadata": {},
   "outputs": [],
   "source": [
    "from lamindb.meta import annotate"
   ]
  },
  {
   "cell_type": "code",
   "execution_count": 17,
   "metadata": {},
   "outputs": [],
   "source": [
    "geneset_id = annotate.genes(dobject=dobj, species=\"human\", obs_or_var=\"var\")"
   ]
  },
  {
   "cell_type": "code",
   "execution_count": 22,
   "metadata": {},
   "outputs": [
    {
     "data": {
      "text/html": [
       "<div>\n",
       "<style scoped>\n",
       "    .dataframe tbody tr th:only-of-type {\n",
       "        vertical-align: middle;\n",
       "    }\n",
       "\n",
       "    .dataframe tbody tr th {\n",
       "        vertical-align: top;\n",
       "    }\n",
       "\n",
       "    .dataframe thead th {\n",
       "        text-align: right;\n",
       "    }\n",
       "</style>\n",
       "<table border=\"1\" class=\"dataframe\">\n",
       "  <thead>\n",
       "    <tr style=\"text-align: right;\">\n",
       "      <th></th>\n",
       "      <th>name</th>\n",
       "    </tr>\n",
       "    <tr>\n",
       "      <th>id</th>\n",
       "      <th></th>\n",
       "    </tr>\n",
       "  </thead>\n",
       "  <tbody>\n",
       "    <tr>\n",
       "      <th>1</th>\n",
       "      <td>None</td>\n",
       "    </tr>\n",
       "  </tbody>\n",
       "</table>\n",
       "</div>"
      ],
      "text/plain": [
       "    name\n",
       "id      \n",
       "1   None"
      ]
     },
     "execution_count": 22,
     "metadata": {},
     "output_type": "execute_result"
    }
   ],
   "source": [
    "db.do.load(\"geneset\")"
   ]
  },
  {
   "cell_type": "code",
   "execution_count": 21,
   "metadata": {},
   "outputs": [
    {
     "data": {
      "text/html": [
       "<div>\n",
       "<style scoped>\n",
       "    .dataframe tbody tr th:only-of-type {\n",
       "        vertical-align: middle;\n",
       "    }\n",
       "\n",
       "    .dataframe tbody tr th {\n",
       "        vertical-align: top;\n",
       "    }\n",
       "\n",
       "    .dataframe thead th {\n",
       "        text-align: right;\n",
       "    }\n",
       "</style>\n",
       "<table border=\"1\" class=\"dataframe\">\n",
       "  <thead>\n",
       "    <tr style=\"text-align: right;\">\n",
       "      <th></th>\n",
       "      <th>symbol</th>\n",
       "      <th>species</th>\n",
       "      <th>name</th>\n",
       "      <th>hgnc_id</th>\n",
       "      <th>entrez_gene_id</th>\n",
       "      <th>ensembl_gene_id</th>\n",
       "      <th>alias_symbol</th>\n",
       "      <th>locus_group</th>\n",
       "      <th>locus_type</th>\n",
       "      <th>location</th>\n",
       "      <th>vega_id</th>\n",
       "      <th>ucsc_id</th>\n",
       "      <th>rgd_id</th>\n",
       "      <th>omim_id</th>\n",
       "    </tr>\n",
       "    <tr>\n",
       "      <th>id</th>\n",
       "      <th></th>\n",
       "      <th></th>\n",
       "      <th></th>\n",
       "      <th></th>\n",
       "      <th></th>\n",
       "      <th></th>\n",
       "      <th></th>\n",
       "      <th></th>\n",
       "      <th></th>\n",
       "      <th></th>\n",
       "      <th></th>\n",
       "      <th></th>\n",
       "      <th></th>\n",
       "      <th></th>\n",
       "    </tr>\n",
       "  </thead>\n",
       "  <tbody>\n",
       "    <tr>\n",
       "      <th>1</th>\n",
       "      <td>HES4</td>\n",
       "      <td>human</td>\n",
       "      <td>None</td>\n",
       "      <td>None</td>\n",
       "      <td>None</td>\n",
       "      <td>None</td>\n",
       "      <td>None</td>\n",
       "      <td>None</td>\n",
       "      <td>None</td>\n",
       "      <td>None</td>\n",
       "      <td>None</td>\n",
       "      <td>None</td>\n",
       "      <td>None</td>\n",
       "      <td>None</td>\n",
       "    </tr>\n",
       "    <tr>\n",
       "      <th>2</th>\n",
       "      <td>TNFRSF4</td>\n",
       "      <td>human</td>\n",
       "      <td>None</td>\n",
       "      <td>None</td>\n",
       "      <td>None</td>\n",
       "      <td>None</td>\n",
       "      <td>None</td>\n",
       "      <td>None</td>\n",
       "      <td>None</td>\n",
       "      <td>None</td>\n",
       "      <td>None</td>\n",
       "      <td>None</td>\n",
       "      <td>None</td>\n",
       "      <td>None</td>\n",
       "    </tr>\n",
       "    <tr>\n",
       "      <th>3</th>\n",
       "      <td>SSU72</td>\n",
       "      <td>human</td>\n",
       "      <td>None</td>\n",
       "      <td>None</td>\n",
       "      <td>None</td>\n",
       "      <td>None</td>\n",
       "      <td>None</td>\n",
       "      <td>None</td>\n",
       "      <td>None</td>\n",
       "      <td>None</td>\n",
       "      <td>None</td>\n",
       "      <td>None</td>\n",
       "      <td>None</td>\n",
       "      <td>None</td>\n",
       "    </tr>\n",
       "    <tr>\n",
       "      <th>4</th>\n",
       "      <td>PARK7</td>\n",
       "      <td>human</td>\n",
       "      <td>None</td>\n",
       "      <td>None</td>\n",
       "      <td>None</td>\n",
       "      <td>None</td>\n",
       "      <td>None</td>\n",
       "      <td>None</td>\n",
       "      <td>None</td>\n",
       "      <td>None</td>\n",
       "      <td>None</td>\n",
       "      <td>None</td>\n",
       "      <td>None</td>\n",
       "      <td>None</td>\n",
       "    </tr>\n",
       "    <tr>\n",
       "      <th>5</th>\n",
       "      <td>RBP7</td>\n",
       "      <td>human</td>\n",
       "      <td>None</td>\n",
       "      <td>None</td>\n",
       "      <td>None</td>\n",
       "      <td>None</td>\n",
       "      <td>None</td>\n",
       "      <td>None</td>\n",
       "      <td>None</td>\n",
       "      <td>None</td>\n",
       "      <td>None</td>\n",
       "      <td>None</td>\n",
       "      <td>None</td>\n",
       "      <td>None</td>\n",
       "    </tr>\n",
       "    <tr>\n",
       "      <th>...</th>\n",
       "      <td>...</td>\n",
       "      <td>...</td>\n",
       "      <td>...</td>\n",
       "      <td>...</td>\n",
       "      <td>...</td>\n",
       "      <td>...</td>\n",
       "      <td>...</td>\n",
       "      <td>...</td>\n",
       "      <td>...</td>\n",
       "      <td>...</td>\n",
       "      <td>...</td>\n",
       "      <td>...</td>\n",
       "      <td>...</td>\n",
       "      <td>...</td>\n",
       "    </tr>\n",
       "    <tr>\n",
       "      <th>761</th>\n",
       "      <td>SUMO3</td>\n",
       "      <td>human</td>\n",
       "      <td>None</td>\n",
       "      <td>None</td>\n",
       "      <td>None</td>\n",
       "      <td>None</td>\n",
       "      <td>None</td>\n",
       "      <td>None</td>\n",
       "      <td>None</td>\n",
       "      <td>None</td>\n",
       "      <td>None</td>\n",
       "      <td>None</td>\n",
       "      <td>None</td>\n",
       "      <td>None</td>\n",
       "    </tr>\n",
       "    <tr>\n",
       "      <th>762</th>\n",
       "      <td>ITGB2</td>\n",
       "      <td>human</td>\n",
       "      <td>None</td>\n",
       "      <td>None</td>\n",
       "      <td>None</td>\n",
       "      <td>None</td>\n",
       "      <td>None</td>\n",
       "      <td>None</td>\n",
       "      <td>None</td>\n",
       "      <td>None</td>\n",
       "      <td>None</td>\n",
       "      <td>None</td>\n",
       "      <td>None</td>\n",
       "      <td>None</td>\n",
       "    </tr>\n",
       "    <tr>\n",
       "      <th>763</th>\n",
       "      <td>S100B</td>\n",
       "      <td>human</td>\n",
       "      <td>None</td>\n",
       "      <td>None</td>\n",
       "      <td>None</td>\n",
       "      <td>None</td>\n",
       "      <td>None</td>\n",
       "      <td>None</td>\n",
       "      <td>None</td>\n",
       "      <td>None</td>\n",
       "      <td>None</td>\n",
       "      <td>None</td>\n",
       "      <td>None</td>\n",
       "      <td>None</td>\n",
       "    </tr>\n",
       "    <tr>\n",
       "      <th>764</th>\n",
       "      <td>PRMT2</td>\n",
       "      <td>human</td>\n",
       "      <td>None</td>\n",
       "      <td>None</td>\n",
       "      <td>None</td>\n",
       "      <td>None</td>\n",
       "      <td>None</td>\n",
       "      <td>None</td>\n",
       "      <td>None</td>\n",
       "      <td>None</td>\n",
       "      <td>None</td>\n",
       "      <td>None</td>\n",
       "      <td>None</td>\n",
       "      <td>None</td>\n",
       "    </tr>\n",
       "    <tr>\n",
       "      <th>765</th>\n",
       "      <td>MT-ND3</td>\n",
       "      <td>human</td>\n",
       "      <td>None</td>\n",
       "      <td>None</td>\n",
       "      <td>None</td>\n",
       "      <td>None</td>\n",
       "      <td>None</td>\n",
       "      <td>None</td>\n",
       "      <td>None</td>\n",
       "      <td>None</td>\n",
       "      <td>None</td>\n",
       "      <td>None</td>\n",
       "      <td>None</td>\n",
       "      <td>None</td>\n",
       "    </tr>\n",
       "  </tbody>\n",
       "</table>\n",
       "<p>765 rows × 14 columns</p>\n",
       "</div>"
      ],
      "text/plain": [
       "      symbol species  name hgnc_id entrez_gene_id ensembl_gene_id  \\\n",
       "id                                                                  \n",
       "1       HES4   human  None    None           None            None   \n",
       "2    TNFRSF4   human  None    None           None            None   \n",
       "3      SSU72   human  None    None           None            None   \n",
       "4      PARK7   human  None    None           None            None   \n",
       "5       RBP7   human  None    None           None            None   \n",
       "..       ...     ...   ...     ...            ...             ...   \n",
       "761    SUMO3   human  None    None           None            None   \n",
       "762    ITGB2   human  None    None           None            None   \n",
       "763    S100B   human  None    None           None            None   \n",
       "764    PRMT2   human  None    None           None            None   \n",
       "765   MT-ND3   human  None    None           None            None   \n",
       "\n",
       "    alias_symbol locus_group locus_type location vega_id ucsc_id rgd_id  \\\n",
       "id                                                                        \n",
       "1           None        None       None     None    None    None   None   \n",
       "2           None        None       None     None    None    None   None   \n",
       "3           None        None       None     None    None    None   None   \n",
       "4           None        None       None     None    None    None   None   \n",
       "5           None        None       None     None    None    None   None   \n",
       "..           ...         ...        ...      ...     ...     ...    ...   \n",
       "761         None        None       None     None    None    None   None   \n",
       "762         None        None       None     None    None    None   None   \n",
       "763         None        None       None     None    None    None   None   \n",
       "764         None        None       None     None    None    None   None   \n",
       "765         None        None       None     None    None    None   None   \n",
       "\n",
       "    omim_id  \n",
       "id           \n",
       "1      None  \n",
       "2      None  \n",
       "3      None  \n",
       "4      None  \n",
       "5      None  \n",
       "..      ...  \n",
       "761    None  \n",
       "762    None  \n",
       "763    None  \n",
       "764    None  \n",
       "765    None  \n",
       "\n",
       "[765 rows x 14 columns]"
      ]
     },
     "execution_count": 21,
     "metadata": {},
     "output_type": "execute_result"
    }
   ],
   "source": [
    "db.do.load(\"gene\")"
   ]
  },
  {
   "cell_type": "code",
   "execution_count": null,
   "metadata": {},
   "outputs": [],
   "source": []
  }
 ],
 "metadata": {
  "interpreter": {
   "hash": "ae1fefc8646a06dd2e75004cd934adda7c5727b046986a772e3b44b0ffba9754"
  },
  "kernelspec": {
   "display_name": "Python 3.9.13 ('py39')",
   "language": "python",
   "name": "python3"
  },
  "language_info": {
   "codemirror_mode": {
    "name": "ipython",
    "version": 3
   },
   "file_extension": ".py",
   "mimetype": "text/x-python",
   "name": "python",
   "nbconvert_exporter": "python",
   "pygments_lexer": "ipython3",
   "version": "3.9.13"
  },
  "nbproject": {
   "id": "oYcJlpQohwcq",
   "parent": null,
   "pypackage": null,
   "time_init": "2022-07-19T14:48:36.258554+00:00",
   "version": "draft"
  },
  "orig_nbformat": 4
 },
 "nbformat": 4,
 "nbformat_minor": 2
}
