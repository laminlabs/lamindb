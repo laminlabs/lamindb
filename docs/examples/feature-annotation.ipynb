{
 "cells": [
  {
   "cell_type": "markdown",
   "metadata": {},
   "source": [
    "# Feature annotation"
   ]
  },
  {
   "cell_type": "code",
   "execution_count": 1,
   "metadata": {},
   "outputs": [],
   "source": [
    "%load_ext autoreload\n",
    "%autoreload 2"
   ]
  },
  {
   "cell_type": "code",
   "execution_count": 2,
   "metadata": {},
   "outputs": [
    {
     "data": {
      "text/html": [
       "<table><tbody><tr><td style='text-align: left;'><b>id</b></td><td style='text-align: left;'>oYcJ<span style='opacity:0.3'>lpQohwcq</span></td></tr><tr><td style='text-align: left;'><b>version</b></td><td style='text-align: left;'>draft</td></tr><tr><td style='text-align: left;'><b>time_init</b></td><td style='text-align: left;'>2022-07-19 14:48</td></tr><tr><td style='text-align: left;'><b>time_run</b></td><td style='text-align: left;'>2022-07-20 05:57</td></tr><tr><td style='text-align: left;'><b>pypackage</b></td><td style='text-align: left;'>bionty==0.0.6+17.g0499eed lamindb==0.0.9 lamindb_schema==0.0.2 nbproject==0.4.1 scanpy==1.8.2</td></tr></tbody></table>"
      ],
      "text/plain": [
       "<IPython.core.display.HTML object>"
      ]
     },
     "metadata": {},
     "output_type": "display_data"
    }
   ],
   "source": [
    "import scanpy as sc\n",
    "import lamindb as db\n",
    "from lamindb.do import ingest\n",
    "import bionty as bt\n",
    "from nbproject import header\n",
    "\n",
    "header()"
   ]
  },
  {
   "cell_type": "markdown",
   "metadata": {},
   "source": [
    "## Data"
   ]
  },
  {
   "cell_type": "code",
   "execution_count": 3,
   "metadata": {},
   "outputs": [
    {
     "name": "stdout",
     "output_type": "stream",
     "text": [
      "🔶 62 terms (8.1%) are not mappable.\n"
     ]
    }
   ],
   "source": [
    "adata = sc.datasets.pbmc68k_reduced()\n",
    "adata.var = bt.Gene().curate(adata.var)"
   ]
  },
  {
   "cell_type": "code",
   "execution_count": 4,
   "metadata": {},
   "outputs": [
    {
     "data": {
      "text/html": [
       "<div>\n",
       "<style scoped>\n",
       "    .dataframe tbody tr th:only-of-type {\n",
       "        vertical-align: middle;\n",
       "    }\n",
       "\n",
       "    .dataframe tbody tr th {\n",
       "        vertical-align: top;\n",
       "    }\n",
       "\n",
       "    .dataframe thead th {\n",
       "        text-align: right;\n",
       "    }\n",
       "</style>\n",
       "<table border=\"1\" class=\"dataframe\">\n",
       "  <thead>\n",
       "    <tr style=\"text-align: right;\">\n",
       "      <th></th>\n",
       "      <th>n_counts</th>\n",
       "      <th>means</th>\n",
       "      <th>dispersions</th>\n",
       "      <th>dispersions_norm</th>\n",
       "      <th>highly_variable</th>\n",
       "      <th>orig_index</th>\n",
       "      <th>__curated__</th>\n",
       "    </tr>\n",
       "    <tr>\n",
       "      <th>index</th>\n",
       "      <th></th>\n",
       "      <th></th>\n",
       "      <th></th>\n",
       "      <th></th>\n",
       "      <th></th>\n",
       "      <th></th>\n",
       "      <th></th>\n",
       "    </tr>\n",
       "  </thead>\n",
       "  <tbody>\n",
       "    <tr>\n",
       "      <th>HES4</th>\n",
       "      <td>1153.387451</td>\n",
       "      <td>0.592365</td>\n",
       "      <td>2.028047</td>\n",
       "      <td>2.771764</td>\n",
       "      <td>True</td>\n",
       "      <td>HES4</td>\n",
       "      <td>True</td>\n",
       "    </tr>\n",
       "    <tr>\n",
       "      <th>TNFRSF4</th>\n",
       "      <td>304.358154</td>\n",
       "      <td>0.193332</td>\n",
       "      <td>1.760724</td>\n",
       "      <td>2.746426</td>\n",
       "      <td>True</td>\n",
       "      <td>TNFRSF4</td>\n",
       "      <td>True</td>\n",
       "    </tr>\n",
       "    <tr>\n",
       "      <th>SSU72</th>\n",
       "      <td>2530.272705</td>\n",
       "      <td>1.019981</td>\n",
       "      <td>1.208284</td>\n",
       "      <td>-0.631160</td>\n",
       "      <td>False</td>\n",
       "      <td>SSU72</td>\n",
       "      <td>True</td>\n",
       "    </tr>\n",
       "    <tr>\n",
       "      <th>PARK7</th>\n",
       "      <td>7451.664062</td>\n",
       "      <td>1.828078</td>\n",
       "      <td>1.288261</td>\n",
       "      <td>-0.544716</td>\n",
       "      <td>False</td>\n",
       "      <td>PARK7</td>\n",
       "      <td>True</td>\n",
       "    </tr>\n",
       "    <tr>\n",
       "      <th>RBP7</th>\n",
       "      <td>272.811035</td>\n",
       "      <td>0.174943</td>\n",
       "      <td>1.842789</td>\n",
       "      <td>3.192285</td>\n",
       "      <td>True</td>\n",
       "      <td>RBP7</td>\n",
       "      <td>True</td>\n",
       "    </tr>\n",
       "  </tbody>\n",
       "</table>\n",
       "</div>"
      ],
      "text/plain": [
       "            n_counts     means  dispersions  dispersions_norm  \\\n",
       "index                                                           \n",
       "HES4     1153.387451  0.592365     2.028047          2.771764   \n",
       "TNFRSF4   304.358154  0.193332     1.760724          2.746426   \n",
       "SSU72    2530.272705  1.019981     1.208284         -0.631160   \n",
       "PARK7    7451.664062  1.828078     1.288261         -0.544716   \n",
       "RBP7      272.811035  0.174943     1.842789          3.192285   \n",
       "\n",
       "         highly_variable orig_index  __curated__  \n",
       "index                                             \n",
       "HES4                True       HES4         True  \n",
       "TNFRSF4             True    TNFRSF4         True  \n",
       "SSU72              False      SSU72         True  \n",
       "PARK7              False      PARK7         True  \n",
       "RBP7                True       RBP7         True  "
      ]
     },
     "execution_count": 4,
     "metadata": {},
     "output_type": "execute_result"
    }
   ],
   "source": [
    "adata.var.head()"
   ]
  },
  {
   "cell_type": "code",
   "execution_count": 5,
   "metadata": {},
   "outputs": [],
   "source": [
    "filename = \"scanpy_pbmc68k_reduced.h5ad\"\n",
    "adata.write(filename)"
   ]
  },
  {
   "cell_type": "markdown",
   "metadata": {},
   "source": [
    "## Ingest features"
   ]
  },
  {
   "cell_type": "code",
   "execution_count": 6,
   "metadata": {},
   "outputs": [],
   "source": [
    "ingest.add(filename)"
   ]
  },
  {
   "cell_type": "code",
   "execution_count": 7,
   "metadata": {},
   "outputs": [
    {
     "data": {
      "text/plain": [
       "{PosixPath('scanpy_pbmc68k_reduced.h5ad'): ('gKiz7QSmdwoJcLTZwuWl', '1')}"
      ]
     },
     "execution_count": 7,
     "metadata": {},
     "output_type": "execute_result"
    }
   ],
   "source": [
    "ingest.status"
   ]
  },
  {
   "cell_type": "code",
   "execution_count": 11,
   "metadata": {},
   "outputs": [
    {
     "name": "stdout",
     "output_type": "stream",
     "text": [
      "ℹ️ | Created instance mydata: /Users/sunnysun/mydata/mydata.lndb\n"
     ]
    }
   ],
   "source": [
    "! lndb init --storage $HOME/mydata"
   ]
  },
  {
   "cell_type": "code",
   "execution_count": 12,
   "metadata": {},
   "outputs": [
    {
     "data": {
      "text/plain": [
       "{PosixPath('scanpy_pbmc68k_reduced.h5ad'): ('gKiz7QSmdwoJcLTZwuWl', '1')}"
      ]
     },
     "execution_count": 12,
     "metadata": {},
     "output_type": "execute_result"
    }
   ],
   "source": [
    "ingest.status"
   ]
  },
  {
   "cell_type": "code",
   "execution_count": 13,
   "metadata": {},
   "outputs": [],
   "source": [
    "from lamindb_schema import dobject\n",
    "\n",
    "dobj = dobject(\n",
    "    id=\"gKiz7QSmdwoJcLTZwuWl\", v=\"1\", name=\"scanpy_pbmc68k_reduced\", file_suffix=\".h5ad\"\n",
    ")"
   ]
  },
  {
   "cell_type": "code",
   "execution_count": 14,
   "metadata": {},
   "outputs": [
    {
     "name": "stdout",
     "output_type": "stream",
     "text": [
      "ℹ️ Added notebook 'Feature annotation' (oYcJlpQohwcq, draft) by user xiaoji.sun515@gmail.com (BjExb4ik).\n",
      "✅ \u001b[1mIngested the following files\u001b[0m:\n",
      "+-------------------------------------------------------+--------------------------------------------+------------------------------------+\n",
      "|                     \u001b[1;92mIngested File\u001b[0m                     |                  \u001b[1;94mNotebook\u001b[0m                  |                \u001b[1;95mUser\u001b[0m                |\n",
      "+-------------------------------------------------------+--------------------------------------------+------------------------------------+\n",
      "| scanpy_pbmc68k_reduced.h5ad (gKiz7QSmdwoJcLTZwuWl, 1) | 'Feature annotation' (oYcJlpQohwcq, draft) | xiaoji.sun515@gmail.com (BjExb4ik) |\n",
      "+-------------------------------------------------------+--------------------------------------------+------------------------------------+\n",
      "🔶 \u001b[1;93mConsider using Jupyter Lab for ingesting data!\u001b[0m\n",
      "    Interactive notebook integrity checks are currently only supported on Jupyter Lab.\n",
      "    Alternatively, manually save your notebook directly before calling `do.ingest.commit(..., integrity=True)`.\n"
     ]
    },
    {
     "ename": "RuntimeError",
     "evalue": "Make sure you save the notebook in your editor before publishing!\nYou can avoid the need for manually saving in Jupyter Lab, which auto-saves the buffer during publish.",
     "output_type": "error",
     "traceback": [
      "\u001b[0;31m---------------------------------------------------------------------------\u001b[0m",
      "\u001b[0;31mRuntimeError\u001b[0m                              Traceback (most recent call last)",
      "\u001b[1;32m/Users/sunnysun/Documents/repos/lamindb/docs/examples/feature-annotation.ipynb Cell 14'\u001b[0m in \u001b[0;36m<cell line: 1>\u001b[0;34m()\u001b[0m\n\u001b[0;32m----> <a href='vscode-notebook-cell:/Users/sunnysun/Documents/repos/lamindb/docs/examples/feature-annotation.ipynb#ch0000024?line=0'>1</a>\u001b[0m ingest\u001b[39m.\u001b[39;49mcommit()\n",
      "File \u001b[0;32m~/Documents/repos/lamindb/lamindb/do/_ingest.py:139\u001b[0m, in \u001b[0;36mIngest.commit\u001b[0;34m(self, integrity, i_confirm_i_saved)\u001b[0m\n\u001b[1;32m    <a href='file:///Users/sunnysun/Documents/repos/lamindb/lamindb/do/_ingest.py?line=132'>133</a>\u001b[0m \u001b[39mif\u001b[39;00m \u001b[39mnot\u001b[39;00m integrity:\n\u001b[1;32m    <a href='file:///Users/sunnysun/Documents/repos/lamindb/lamindb/do/_ingest.py?line=133'>134</a>\u001b[0m     logger\u001b[39m.\u001b[39mwarning(\n\u001b[1;32m    <a href='file:///Users/sunnysun/Documents/repos/lamindb/lamindb/do/_ingest.py?line=134'>135</a>\u001b[0m         \u001b[39mf\u001b[39m\u001b[39m\"\u001b[39m\u001b[39m{\u001b[39;00mcolors\u001b[39m.\u001b[39myellow(\u001b[39m'\u001b[39m\u001b[39mConsider using Jupyter Lab for ingesting data!\u001b[39m\u001b[39m'\u001b[39m)\u001b[39m}\u001b[39;00m\u001b[39m\\n\u001b[39;00m\u001b[39m\"\u001b[39m  \u001b[39m# noqa\u001b[39;00m\n\u001b[1;32m    <a href='file:///Users/sunnysun/Documents/repos/lamindb/lamindb/do/_ingest.py?line=135'>136</a>\u001b[0m         \u001b[39m\"\u001b[39m\u001b[39m    Interactive notebook integrity checks are currently only supported on Jupyter Lab.\u001b[39m\u001b[39m\\n\u001b[39;00m\u001b[39m\"\u001b[39m  \u001b[39m# noqa\u001b[39;00m\n\u001b[1;32m    <a href='file:///Users/sunnysun/Documents/repos/lamindb/lamindb/do/_ingest.py?line=136'>137</a>\u001b[0m         \u001b[39m\"\u001b[39m\u001b[39m    Alternatively, manually save your notebook directly before calling `do.ingest.commit(..., integrity=True)`.\u001b[39m\u001b[39m\"\u001b[39m  \u001b[39m# noqa\u001b[39;00m\n\u001b[1;32m    <a href='file:///Users/sunnysun/Documents/repos/lamindb/lamindb/do/_ingest.py?line=137'>138</a>\u001b[0m     )\n\u001b[0;32m--> <a href='file:///Users/sunnysun/Documents/repos/lamindb/lamindb/do/_ingest.py?line=138'>139</a>\u001b[0m publish(\n\u001b[1;32m    <a href='file:///Users/sunnysun/Documents/repos/lamindb/lamindb/do/_ingest.py?line=139'>140</a>\u001b[0m     integrity\u001b[39m=\u001b[39;49mintegrity,\n\u001b[1;32m    <a href='file:///Users/sunnysun/Documents/repos/lamindb/lamindb/do/_ingest.py?line=140'>141</a>\u001b[0m     i_confirm_i_saved\u001b[39m=\u001b[39;49mi_confirm_i_saved,\n\u001b[1;32m    <a href='file:///Users/sunnysun/Documents/repos/lamindb/lamindb/do/_ingest.py?line=141'>142</a>\u001b[0m     calling_statement\u001b[39m=\u001b[39;49m\u001b[39m\"\u001b[39;49m\u001b[39mcommit(\u001b[39;49m\u001b[39m\"\u001b[39;49m,\n\u001b[1;32m    <a href='file:///Users/sunnysun/Documents/repos/lamindb/lamindb/do/_ingest.py?line=142'>143</a>\u001b[0m )\n",
      "File \u001b[0;32m~/Documents/repos/nbproject/nbproject/_publish.py:60\u001b[0m, in \u001b[0;36mpublish\u001b[0;34m(version, i_confirm_i_saved, **kwargs)\u001b[0m\n\u001b[1;32m     <a href='file:///Users/sunnysun/Documents/repos/nbproject/nbproject/_publish.py?line=57'>58</a>\u001b[0m         \u001b[39mpass\u001b[39;00m\n\u001b[1;32m     <a href='file:///Users/sunnysun/Documents/repos/nbproject/nbproject/_publish.py?line=58'>59</a>\u001b[0m     \u001b[39melif\u001b[39;00m \u001b[39mnot\u001b[39;00m i_confirm_i_saved:\n\u001b[0;32m---> <a href='file:///Users/sunnysun/Documents/repos/nbproject/nbproject/_publish.py?line=59'>60</a>\u001b[0m         \u001b[39mraise\u001b[39;00m \u001b[39mRuntimeError\u001b[39;00m(\n\u001b[1;32m     <a href='file:///Users/sunnysun/Documents/repos/nbproject/nbproject/_publish.py?line=60'>61</a>\u001b[0m             \u001b[39m\"\u001b[39m\u001b[39mMake sure you save the notebook in your editor before publishing!\u001b[39m\u001b[39m\\n\u001b[39;00m\u001b[39m\"\u001b[39m\n\u001b[1;32m     <a href='file:///Users/sunnysun/Documents/repos/nbproject/nbproject/_publish.py?line=61'>62</a>\u001b[0m             \u001b[39m\"\u001b[39m\u001b[39mYou can avoid the need for manually saving in Jupyter Lab, which auto-saves the buffer during publish.\u001b[39m\u001b[39m\"\u001b[39m  \u001b[39m# noqa\u001b[39;00m\n\u001b[1;32m     <a href='file:///Users/sunnysun/Documents/repos/nbproject/nbproject/_publish.py?line=62'>63</a>\u001b[0m         )\n\u001b[1;32m     <a href='file:///Users/sunnysun/Documents/repos/nbproject/nbproject/_publish.py?line=64'>65</a>\u001b[0m nb \u001b[39m=\u001b[39m read_notebook(meta\u001b[39m.\u001b[39m_filepath)  \u001b[39m# type: ignore\u001b[39;00m\n\u001b[1;32m     <a href='file:///Users/sunnysun/Documents/repos/nbproject/nbproject/_publish.py?line=65'>66</a>\u001b[0m \u001b[39mif\u001b[39;00m \u001b[39mnot\u001b[39;00m check_last_cell(nb, calling_statement):\n",
      "\u001b[0;31mRuntimeError\u001b[0m: Make sure you save the notebook in your editor before publishing!\nYou can avoid the need for manually saving in Jupyter Lab, which auto-saves the buffer during publish."
     ]
    }
   ],
   "source": [
    "ingest.commit()"
   ]
  },
  {
   "cell_type": "code",
   "execution_count": 15,
   "metadata": {},
   "outputs": [],
   "source": [
    "from lamindb.meta import annotate"
   ]
  },
  {
   "cell_type": "code",
   "execution_count": 19,
   "metadata": {},
   "outputs": [],
   "source": [
    "genes = annotate.gene(dobj, obs_or_var=\"var\")"
   ]
  },
  {
   "cell_type": "code",
   "execution_count": 21,
   "metadata": {},
   "outputs": [
    {
     "data": {
      "text/plain": [
       "'mdqYGEjG8RP2aHF35CZPGP4G'"
      ]
     },
     "execution_count": 21,
     "metadata": {},
     "output_type": "execute_result"
    }
   ],
   "source": [
    "genes[\"HES4\"]"
   ]
  },
  {
   "cell_type": "code",
   "execution_count": 4,
   "metadata": {},
   "outputs": [
    {
     "data": {
      "image/svg+xml": "<svg xmlns=\"http://www.w3.org/2000/svg\" xmlns:xlink=\"http://www.w3.org/1999/xlink\" width=\"507pt\" height=\"456pt\" viewBox=\"0.00 0.00 506.50 456.00\">\n<g id=\"graph0\" class=\"graph\" transform=\"scale(1 1) rotate(0) translate(4 452)\">\n<title>G</title>\n<polygon fill=\"white\" stroke=\"transparent\" points=\"-4,4 -4,-452 502.5,-452 502.5,4 -4,4\"/>\n<!-- biosample -->\n<g id=\"node1\" class=\"node\">\n<title>biosample</title>\n<text text-anchor=\"start\" x=\"217\" y=\"-152.4\" font-family=\"Helvetica,sans-Serif\" font-weight=\"bold\" font-size=\"7.00\">biosample</text>\n<text text-anchor=\"start\" x=\"216\" y=\"-139.4\" font-family=\"Helvetica,sans-Serif\" font-size=\"7.00\">- name</text>\n<text text-anchor=\"start\" x=\"216\" y=\"-127.4\" font-family=\"Helvetica,sans-Serif\" font-size=\"7.00\">- species_id</text>\n<path fill=\"none\" stroke=\"black\" d=\"M225,-122C225,-122 245,-122 245,-122 251,-122 257,-128 257,-134 257,-134 257,-148 257,-148 257,-154 251,-160 245,-160 245,-160 225,-160 225,-160 219,-160 213,-154 213,-148 213,-148 213,-134 213,-134 213,-128 219,-122 225,-122\"/>\n</g>\n<!-- species -->\n<g id=\"node2\" class=\"node\">\n<title>species</title>\n<text text-anchor=\"start\" x=\"163\" y=\"-46.4\" font-family=\"Helvetica,sans-Serif\" font-weight=\"bold\" font-size=\"7.00\">species</text>\n<text text-anchor=\"start\" x=\"149\" y=\"-33.4\" font-family=\"Helvetica,sans-Serif\" font-size=\"7.00\">- taxon_id</text>\n<text text-anchor=\"start\" x=\"149\" y=\"-21.4\" font-family=\"Helvetica,sans-Serif\" font-size=\"7.00\">- common_name</text>\n<text text-anchor=\"start\" x=\"149\" y=\"-9.4\" font-family=\"Helvetica,sans-Serif\" font-size=\"7.00\">- scientific_name</text>\n<path fill=\"none\" stroke=\"black\" d=\"M158,-4C158,-4 194,-4 194,-4 200,-4 206,-10 206,-16 206,-16 206,-42 206,-42 206,-48 200,-54 194,-54 194,-54 158,-54 158,-54 152,-54 146,-48 146,-42 146,-42 146,-16 146,-16 146,-10 152,-4 158,-4\"/>\n</g>\n<!-- biosample&#45;&gt;species -->\n<g id=\"edge1\" class=\"edge\">\n<title>biosample-&gt;species</title>\n<path fill=\"none\" stroke=\"black\" d=\"M223.06,-117.74C213.83,-100.54 201.01,-76.62 191.07,-58.1\"/>\n<text text-anchor=\"middle\" x=\"189.57\" y=\"-60.5\" font-family=\"Helvetica,sans-Serif\" font-size=\"7.00\"> </text>\n<text text-anchor=\"middle\" x=\"221.56\" y=\"-112.14\" font-family=\"Helvetica,sans-Serif\" font-size=\"7.00\"> </text>\n</g>\n<!-- dobject -->\n<g id=\"node3\" class=\"node\">\n<title>dobject</title>\n<text text-anchor=\"start\" x=\"391.5\" y=\"-318.4\" font-family=\"Helvetica,sans-Serif\" font-weight=\"bold\" font-size=\"7.00\">dobject</text>\n<text text-anchor=\"start\" x=\"381\" y=\"-305.4\" font-family=\"Helvetica,sans-Serif\" font-size=\"7.00\">- v</text>\n<text text-anchor=\"start\" x=\"381\" y=\"-293.4\" font-family=\"Helvetica,sans-Serif\" font-size=\"7.00\">- name</text>\n<text text-anchor=\"start\" x=\"381\" y=\"-281.4\" font-family=\"Helvetica,sans-Serif\" font-size=\"7.00\">- file_suffix</text>\n<text text-anchor=\"start\" x=\"381\" y=\"-269.4\" font-family=\"Helvetica,sans-Serif\" font-size=\"7.00\">- interface_id</text>\n<text text-anchor=\"start\" x=\"381\" y=\"-257.4\" font-family=\"Helvetica,sans-Serif\" font-size=\"7.00\">- interface_v</text>\n<text text-anchor=\"start\" x=\"381\" y=\"-245.4\" font-family=\"Helvetica,sans-Serif\" font-size=\"7.00\">- time_created</text>\n<text text-anchor=\"start\" x=\"381\" y=\"-233.4\" font-family=\"Helvetica,sans-Serif\" font-size=\"7.00\">- time_updated</text>\n<path fill=\"none\" stroke=\"black\" d=\"M389.5,-228C389.5,-228 418.5,-228 418.5,-228 424.5,-228 430.5,-234 430.5,-240 430.5,-240 430.5,-314 430.5,-314 430.5,-320 424.5,-326 418.5,-326 418.5,-326 389.5,-326 389.5,-326 383.5,-326 377.5,-320 377.5,-314 377.5,-314 377.5,-240 377.5,-240 377.5,-234 383.5,-228 389.5,-228\"/>\n</g>\n<!-- interface -->\n<g id=\"node4\" class=\"node\">\n<title>interface</title>\n<text text-anchor=\"start\" x=\"389.5\" y=\"-176.4\" font-family=\"Helvetica,sans-Serif\" font-weight=\"bold\" font-size=\"7.00\">interface</text>\n<text text-anchor=\"start\" x=\"381\" y=\"-163.4\" font-family=\"Helvetica,sans-Serif\" font-size=\"7.00\">- v</text>\n<text text-anchor=\"start\" x=\"381\" y=\"-151.4\" font-family=\"Helvetica,sans-Serif\" font-size=\"7.00\">- name</text>\n<text text-anchor=\"start\" x=\"381\" y=\"-139.4\" font-family=\"Helvetica,sans-Serif\" font-size=\"7.00\">- type</text>\n<text text-anchor=\"start\" x=\"381\" y=\"-127.4\" font-family=\"Helvetica,sans-Serif\" font-size=\"7.00\">- user_id</text>\n<text text-anchor=\"start\" x=\"381\" y=\"-115.4\" font-family=\"Helvetica,sans-Serif\" font-size=\"7.00\">- time_created</text>\n<text text-anchor=\"start\" x=\"381\" y=\"-103.4\" font-family=\"Helvetica,sans-Serif\" font-size=\"7.00\">- time_updated</text>\n<path fill=\"none\" stroke=\"black\" d=\"M389.5,-98C389.5,-98 418.5,-98 418.5,-98 424.5,-98 430.5,-104 430.5,-110 430.5,-110 430.5,-172 430.5,-172 430.5,-178 424.5,-184 418.5,-184 418.5,-184 389.5,-184 389.5,-184 383.5,-184 377.5,-178 377.5,-172 377.5,-172 377.5,-110 377.5,-110 377.5,-104 383.5,-98 389.5,-98\"/>\n</g>\n<!-- dobject&#45;&gt;interface -->\n<g id=\"edge2\" class=\"edge\">\n<title>dobject-&gt;interface</title>\n<path fill=\"none\" stroke=\"black\" d=\"M384.2,-223.81C383.48,-212.05 383.63,-199.65 384.65,-188.16\"/>\n<text text-anchor=\"middle\" x=\"383.15\" y=\"-190.56\" font-family=\"Helvetica,sans-Serif\" font-size=\"7.00\"> </text>\n<text text-anchor=\"middle\" x=\"382.7\" y=\"-218.21\" font-family=\"Helvetica,sans-Serif\" font-size=\"7.00\"> </text>\n</g>\n<!-- dobject&#45;&gt;interface -->\n<g id=\"edge3\" class=\"edge\">\n<title>dobject-&gt;interface</title>\n<path fill=\"none\" stroke=\"black\" d=\"M397.4,-223.81C397.16,-212.05 397.21,-199.65 397.55,-188.16\"/>\n<text text-anchor=\"middle\" x=\"396.05\" y=\"-190.56\" font-family=\"Helvetica,sans-Serif\" font-size=\"7.00\"> </text>\n<text text-anchor=\"middle\" x=\"395.9\" y=\"-218.21\" font-family=\"Helvetica,sans-Serif\" font-size=\"7.00\"> </text>\n</g>\n<!-- dobject&#45;&gt;interface -->\n<g id=\"edge4\" class=\"edge\">\n<title>dobject-&gt;interface</title>\n<path fill=\"none\" stroke=\"black\" d=\"M410.6,-223.81C410.84,-212.05 410.79,-199.65 410.45,-188.16\"/>\n<text text-anchor=\"middle\" x=\"408.95\" y=\"-190.56\" font-family=\"Helvetica,sans-Serif\" font-size=\"7.00\"> </text>\n<text text-anchor=\"middle\" x=\"409.1\" y=\"-218.21\" font-family=\"Helvetica,sans-Serif\" font-size=\"7.00\"> </text>\n</g>\n<!-- dobject&#45;&gt;interface -->\n<g id=\"edge5\" class=\"edge\">\n<title>dobject-&gt;interface</title>\n<path fill=\"none\" stroke=\"black\" d=\"M423.8,-223.81C424.52,-212.05 424.37,-199.65 423.35,-188.16\"/>\n<text text-anchor=\"middle\" x=\"421.85\" y=\"-190.56\" font-family=\"Helvetica,sans-Serif\" font-size=\"7.00\"> </text>\n<text text-anchor=\"middle\" x=\"422.3\" y=\"-218.21\" font-family=\"Helvetica,sans-Serif\" font-size=\"7.00\"> </text>\n</g>\n<!-- dobject_meta -->\n<g id=\"node6\" class=\"node\">\n<title>dobject_meta</title>\n<text text-anchor=\"start\" x=\"294\" y=\"-152.4\" font-family=\"Helvetica,sans-Serif\" font-weight=\"bold\" font-size=\"7.00\">dobject_meta</text>\n<text text-anchor=\"start\" x=\"294\" y=\"-139.4\" font-family=\"Helvetica,sans-Serif\" font-size=\"7.00\">- dobject_id</text>\n<text text-anchor=\"start\" x=\"294\" y=\"-127.4\" font-family=\"Helvetica,sans-Serif\" font-size=\"7.00\">- meta_id</text>\n<path fill=\"none\" stroke=\"black\" d=\"M303,-122C303,-122 331,-122 331,-122 337,-122 343,-128 343,-134 343,-134 343,-148 343,-148 343,-154 337,-160 331,-160 331,-160 303,-160 303,-160 297,-160 291,-154 291,-148 291,-148 291,-134 291,-134 291,-128 297,-122 303,-122\"/>\n</g>\n<!-- dobject&#45;&gt;dobject_meta -->\n<g id=\"edge8\" class=\"edge\">\n<title>dobject-&gt;dobject_meta</title>\n<path fill=\"none\" stroke=\"black\" d=\"M370.11,-223.81C356.66,-203.09 341.91,-180.37 331.38,-164.15\"/>\n<text text-anchor=\"middle\" x=\"329.88\" y=\"-166.55\" font-family=\"Helvetica,sans-Serif\" font-size=\"7.00\"> </text>\n<text text-anchor=\"middle\" x=\"368.61\" y=\"-218.21\" font-family=\"Helvetica,sans-Serif\" font-size=\"7.00\"> </text>\n</g>\n<!-- user -->\n<g id=\"node5\" class=\"node\">\n<title>user</title>\n<text text-anchor=\"start\" x=\"446.5\" y=\"-46.4\" font-family=\"Helvetica,sans-Serif\" font-weight=\"bold\" font-size=\"7.00\">user</text>\n<text text-anchor=\"start\" x=\"431\" y=\"-33.4\" font-family=\"Helvetica,sans-Serif\" font-size=\"7.00\">- email</text>\n<text text-anchor=\"start\" x=\"431\" y=\"-21.4\" font-family=\"Helvetica,sans-Serif\" font-size=\"7.00\">- time_created</text>\n<text text-anchor=\"start\" x=\"431\" y=\"-9.4\" font-family=\"Helvetica,sans-Serif\" font-size=\"7.00\">- time_updated</text>\n<path fill=\"none\" stroke=\"black\" d=\"M439.5,-4C439.5,-4 468.5,-4 468.5,-4 474.5,-4 480.5,-10 480.5,-16 480.5,-16 480.5,-42 480.5,-42 480.5,-48 474.5,-54 468.5,-54 468.5,-54 439.5,-54 439.5,-54 433.5,-54 427.5,-48 427.5,-42 427.5,-42 427.5,-16 427.5,-16 427.5,-10 433.5,-4 439.5,-4\"/>\n</g>\n<!-- interface&#45;&gt;user -->\n<g id=\"edge6\" class=\"edge\">\n<title>interface-&gt;user</title>\n<path fill=\"none\" stroke=\"black\" d=\"M424.91,-93.99C430.43,-81.86 436.21,-69.13 441.16,-58.25\"/>\n<text text-anchor=\"middle\" x=\"439.66\" y=\"-60.65\" font-family=\"Helvetica,sans-Serif\" font-size=\"7.00\"> </text>\n<text text-anchor=\"middle\" x=\"423.41\" y=\"-88.39\" font-family=\"Helvetica,sans-Serif\" font-size=\"7.00\"> </text>\n</g>\n<!-- meta -->\n<g id=\"node7\" class=\"node\">\n<title>meta</title>\n<text text-anchor=\"start\" x=\"227.5\" y=\"-288.4\" font-family=\"Helvetica,sans-Serif\" font-weight=\"bold\" font-size=\"7.00\">meta</text>\n<text text-anchor=\"start\" x=\"211\" y=\"-275.4\" font-family=\"Helvetica,sans-Serif\" font-size=\"7.00\">- biosample_id</text>\n<text text-anchor=\"start\" x=\"211\" y=\"-263.4\" font-family=\"Helvetica,sans-Serif\" font-size=\"7.00\">- experiment_id</text>\n<path fill=\"none\" stroke=\"black\" d=\"M219.5,-258C219.5,-258 250.5,-258 250.5,-258 256.5,-258 262.5,-264 262.5,-270 262.5,-270 262.5,-284 262.5,-284 262.5,-290 256.5,-296 250.5,-296 250.5,-296 219.5,-296 219.5,-296 213.5,-296 207.5,-290 207.5,-284 207.5,-284 207.5,-270 207.5,-270 207.5,-264 213.5,-258 219.5,-258\"/>\n</g>\n<!-- meta&#45;&gt;biosample -->\n<g id=\"edge9\" class=\"edge\">\n<title>meta-&gt;biosample</title>\n<path fill=\"none\" stroke=\"black\" d=\"M235,-253.87C235,-229.04 235,-189 235,-164.16\"/>\n<text text-anchor=\"middle\" x=\"233.5\" y=\"-166.56\" font-family=\"Helvetica,sans-Serif\" font-size=\"7.00\"> </text>\n<text text-anchor=\"middle\" x=\"233.5\" y=\"-248.27\" font-family=\"Helvetica,sans-Serif\" font-size=\"7.00\"> </text>\n</g>\n<!-- meta&#45;&gt;dobject_meta -->\n<g id=\"edge7\" class=\"edge\">\n<title>meta-&gt;dobject_meta</title>\n<path fill=\"none\" stroke=\"black\" d=\"M248.54,-253.87C263.73,-229.04 288.24,-189 303.44,-164.16\"/>\n<text text-anchor=\"middle\" x=\"301.94\" y=\"-166.56\" font-family=\"Helvetica,sans-Serif\" font-size=\"7.00\"> </text>\n<text text-anchor=\"middle\" x=\"247.04\" y=\"-248.27\" font-family=\"Helvetica,sans-Serif\" font-size=\"7.00\"> </text>\n</g>\n<!-- experiment -->\n<g id=\"node8\" class=\"node\">\n<title>experiment</title>\n<text text-anchor=\"start\" x=\"138\" y=\"-146.4\" font-family=\"Helvetica,sans-Serif\" font-weight=\"bold\" font-size=\"7.00\">experiment</text>\n<text text-anchor=\"start\" x=\"138\" y=\"-133.4\" font-family=\"Helvetica,sans-Serif\" font-size=\"7.00\">- name</text>\n<path fill=\"none\" stroke=\"black\" d=\"M143.67,-128C143.67,-128 170.33,-128 170.33,-128 174.67,-128 179,-132.33 179,-136.67 179,-136.67 179,-145.33 179,-145.33 179,-149.67 174.67,-154 170.33,-154 170.33,-154 143.67,-154 143.67,-154 139.33,-154 135,-149.67 135,-145.33 135,-145.33 135,-136.67 135,-136.67 135,-132.33 139.33,-128 143.67,-128\"/>\n</g>\n<!-- meta&#45;&gt;experiment -->\n<g id=\"edge10\" class=\"edge\">\n<title>meta-&gt;experiment</title>\n<path fill=\"none\" stroke=\"black\" d=\"M222.12,-253.87C206.63,-227.26 180.96,-183.17 166.93,-159.05\"/>\n<text text-anchor=\"middle\" x=\"165.43\" y=\"-161.45\" font-family=\"Helvetica,sans-Serif\" font-size=\"7.00\"> </text>\n<text text-anchor=\"middle\" x=\"220.62\" y=\"-248.27\" font-family=\"Helvetica,sans-Serif\" font-size=\"7.00\"> </text>\n</g>\n<!-- experiment_readout -->\n<g id=\"node9\" class=\"node\">\n<title>experiment_readout</title>\n<text text-anchor=\"start\" x=\"11\" y=\"-40.4\" font-family=\"Helvetica,sans-Serif\" font-weight=\"bold\" font-size=\"7.00\">experiment_readout</text>\n<text text-anchor=\"start\" x=\"11\" y=\"-27.4\" font-family=\"Helvetica,sans-Serif\" font-size=\"7.00\">- experiment_id</text>\n<text text-anchor=\"start\" x=\"11\" y=\"-15.4\" font-family=\"Helvetica,sans-Serif\" font-size=\"7.00\">- readout_id</text>\n<path fill=\"none\" stroke=\"black\" d=\"M20,-10C20,-10 70,-10 70,-10 76,-10 82,-16 82,-22 82,-22 82,-36 82,-36 82,-42 76,-48 70,-48 70,-48 20,-48 20,-48 14,-48 8,-42 8,-36 8,-36 8,-22 8,-22 8,-16 14,-10 20,-10\"/>\n</g>\n<!-- experiment&#45;&gt;experiment_readout -->\n<g id=\"edge12\" class=\"edge\">\n<title>experiment-&gt;experiment_readout</title>\n<path fill=\"none\" stroke=\"black\" d=\"M143.49,-122.87C136.23,-113.98 126.96,-103.11 118,-94 103.58,-79.34 86.33,-64.12 72.21,-52.2\"/>\n<text text-anchor=\"middle\" x=\"70.71\" y=\"-54.6\" font-family=\"Helvetica,sans-Serif\" font-size=\"7.00\"> </text>\n<text text-anchor=\"middle\" x=\"141.99\" y=\"-117.27\" font-family=\"Helvetica,sans-Serif\" font-size=\"7.00\"> </text>\n</g>\n<!-- readout -->\n<g id=\"node10\" class=\"node\">\n<title>readout</title>\n<text text-anchor=\"start\" x=\"33\" y=\"-288.4\" font-family=\"Helvetica,sans-Serif\" font-weight=\"bold\" font-size=\"7.00\">readout</text>\n<text text-anchor=\"start\" x=\"32\" y=\"-275.4\" font-family=\"Helvetica,sans-Serif\" font-size=\"7.00\">- name</text>\n<text text-anchor=\"start\" x=\"32\" y=\"-263.4\" font-family=\"Helvetica,sans-Serif\" font-size=\"7.00\">- gene_id</text>\n<path fill=\"none\" stroke=\"black\" d=\"M40.17,-258C40.17,-258 51.83,-258 51.83,-258 57.67,-258 63.5,-263.83 63.5,-269.67 63.5,-269.67 63.5,-284.33 63.5,-284.33 63.5,-290.17 57.67,-296 51.83,-296 51.83,-296 40.17,-296 40.17,-296 34.33,-296 28.5,-290.17 28.5,-284.33 28.5,-284.33 28.5,-269.67 28.5,-269.67 28.5,-263.83 34.33,-258 40.17,-258\"/>\n</g>\n<!-- readout&#45;&gt;experiment_readout -->\n<g id=\"edge11\" class=\"edge\">\n<title>readout-&gt;experiment_readout</title>\n<path fill=\"none\" stroke=\"black\" d=\"M42.1,-253.66C39.21,-235.92 35.52,-210.46 34,-188 31.17,-146.32 30.45,-135.63 34,-94 35.2,-79.96 37.85,-64.37 40.25,-52.09\"/>\n<text text-anchor=\"middle\" x=\"38.75\" y=\"-54.49\" font-family=\"Helvetica,sans-Serif\" font-size=\"7.00\"> </text>\n<text text-anchor=\"middle\" x=\"40.6\" y=\"-248.06\" font-family=\"Helvetica,sans-Serif\" font-size=\"7.00\"> </text>\n</g>\n<!-- gene -->\n<g id=\"node11\" class=\"node\">\n<title>gene</title>\n<text text-anchor=\"start\" x=\"67.5\" y=\"-170.4\" font-family=\"Helvetica,sans-Serif\" font-weight=\"bold\" font-size=\"7.00\">gene</text>\n<text text-anchor=\"start\" x=\"54\" y=\"-157.4\" font-family=\"Helvetica,sans-Serif\" font-size=\"7.00\">- name</text>\n<text text-anchor=\"start\" x=\"54\" y=\"-145.4\" font-family=\"Helvetica,sans-Serif\" font-size=\"7.00\">- feature_type</text>\n<text text-anchor=\"start\" x=\"54\" y=\"-133.4\" font-family=\"Helvetica,sans-Serif\" font-size=\"7.00\">- database</text>\n<text text-anchor=\"start\" x=\"54\" y=\"-121.4\" font-family=\"Helvetica,sans-Serif\" font-size=\"7.00\">- species_id</text>\n<text text-anchor=\"start\" x=\"54\" y=\"-109.4\" font-family=\"Helvetica,sans-Serif\" font-size=\"7.00\">- curated</text>\n<path fill=\"none\" stroke=\"black\" d=\"M63,-104C63,-104 89,-104 89,-104 95,-104 101,-110 101,-116 101,-116 101,-166 101,-166 101,-172 95,-178 89,-178 89,-178 63,-178 63,-178 57,-178 51,-172 51,-166 51,-166 51,-116 51,-116 51,-110 57,-104 63,-104\"/>\n</g>\n<!-- readout&#45;&gt;gene -->\n<g id=\"edge13\" class=\"edge\">\n<title>readout-&gt;gene</title>\n<path fill=\"none\" stroke=\"black\" d=\"M50.95,-253.87C55.31,-234.4 61.77,-205.56 67.04,-182.04\"/>\n<text text-anchor=\"middle\" x=\"65.54\" y=\"-184.44\" font-family=\"Helvetica,sans-Serif\" font-size=\"7.00\"> </text>\n<text text-anchor=\"middle\" x=\"49.45\" y=\"-248.27\" font-family=\"Helvetica,sans-Serif\" font-size=\"7.00\"> </text>\n</g>\n<!-- gene&#45;&gt;species -->\n<g id=\"edge14\" class=\"edge\">\n<title>gene-&gt;species</title>\n<path fill=\"none\" stroke=\"black\" d=\"M109.02,-103.68C122.45,-88.91 137.73,-72.1 150.3,-58.27\"/>\n<text text-anchor=\"middle\" x=\"148.8\" y=\"-60.67\" font-family=\"Helvetica,sans-Serif\" font-size=\"7.00\"> </text>\n<text text-anchor=\"middle\" x=\"110.52\" y=\"-106.08\" font-family=\"Helvetica,sans-Serif\" font-size=\"7.00\"> </text>\n</g>\n<!-- track_do -->\n<g id=\"node12\" class=\"node\">\n<title>track_do</title>\n<text text-anchor=\"start\" x=\"452.5\" y=\"-436.4\" font-family=\"Helvetica,sans-Serif\" font-weight=\"bold\" font-size=\"7.00\">track_do</text>\n<text text-anchor=\"start\" x=\"447\" y=\"-423.4\" font-family=\"Helvetica,sans-Serif\" font-size=\"7.00\">- type</text>\n<text text-anchor=\"start\" x=\"447\" y=\"-411.4\" font-family=\"Helvetica,sans-Serif\" font-size=\"7.00\">- user_id</text>\n<text text-anchor=\"start\" x=\"447\" y=\"-399.4\" font-family=\"Helvetica,sans-Serif\" font-size=\"7.00\">- interface_id</text>\n<text text-anchor=\"start\" x=\"447\" y=\"-387.4\" font-family=\"Helvetica,sans-Serif\" font-size=\"7.00\">- time</text>\n<text text-anchor=\"start\" x=\"447\" y=\"-375.4\" font-family=\"Helvetica,sans-Serif\" font-size=\"7.00\">- dobject_id</text>\n<path fill=\"none\" stroke=\"black\" d=\"M455.5,-370C455.5,-370 478.5,-370 478.5,-370 484.5,-370 490.5,-376 490.5,-382 490.5,-382 490.5,-432 490.5,-432 490.5,-438 484.5,-444 478.5,-444 478.5,-444 455.5,-444 455.5,-444 449.5,-444 443.5,-438 443.5,-432 443.5,-432 443.5,-382 443.5,-382 443.5,-376 449.5,-370 455.5,-370\"/>\n</g>\n<!-- track_do&#45;&gt;dobject -->\n<g id=\"edge17\" class=\"edge\">\n<title>track_do-&gt;dobject</title>\n<path fill=\"none\" stroke=\"black\" d=\"M447.24,-365.85C441.68,-354.56 435.56,-342.11 429.71,-330.23\"/>\n<text text-anchor=\"middle\" x=\"428.21\" y=\"-332.63\" font-family=\"Helvetica,sans-Serif\" font-size=\"7.00\"> </text>\n<text text-anchor=\"middle\" x=\"445.74\" y=\"-360.25\" font-family=\"Helvetica,sans-Serif\" font-size=\"7.00\"> </text>\n</g>\n<!-- track_do&#45;&gt;interface -->\n<g id=\"edge15\" class=\"edge\">\n<title>track_do-&gt;interface</title>\n<path fill=\"none\" stroke=\"black\" d=\"M467.23,-365.71C466.41,-328.23 462.52,-271.22 448,-224 444.3,-211.95 438.77,-199.64 432.86,-188.33\"/>\n<text text-anchor=\"middle\" x=\"431.36\" y=\"-190.73\" font-family=\"Helvetica,sans-Serif\" font-size=\"7.00\"> </text>\n<text text-anchor=\"middle\" x=\"465.73\" y=\"-360.11\" font-family=\"Helvetica,sans-Serif\" font-size=\"7.00\"> </text>\n</g>\n<!-- track_do&#45;&gt;user -->\n<g id=\"edge16\" class=\"edge\">\n<title>track_do-&gt;user</title>\n<path fill=\"none\" stroke=\"black\" d=\"M468.88,-365.78C469.34,-354.23 469.77,-341.62 470,-330 470.93,-282.9 471.94,-271.07 470,-224 467.57,-164.91 460.98,-95.95 457.06,-58.23\"/>\n<text text-anchor=\"middle\" x=\"455.56\" y=\"-60.63\" font-family=\"Helvetica,sans-Serif\" font-size=\"7.00\"> </text>\n<text text-anchor=\"middle\" x=\"470.38\" y=\"-360.18\" font-family=\"Helvetica,sans-Serif\" font-size=\"7.00\"> </text>\n</g>\n</g>\n</svg>",
      "text/plain": [
       "<IPython.core.display.SVG object>"
      ]
     },
     "metadata": {},
     "output_type": "display_data"
    }
   ],
   "source": [
    "db.track.schema.diagram()"
   ]
  },
  {
   "cell_type": "code",
   "execution_count": null,
   "metadata": {},
   "outputs": [],
   "source": []
  }
 ],
 "metadata": {
  "interpreter": {
   "hash": "ae1fefc8646a06dd2e75004cd934adda7c5727b046986a772e3b44b0ffba9754"
  },
  "kernelspec": {
   "display_name": "Python 3.9.13 ('py39')",
   "language": "python",
   "name": "python3"
  },
  "language_info": {
   "codemirror_mode": {
    "name": "ipython",
    "version": 3
   },
   "file_extension": ".py",
   "mimetype": "text/x-python",
   "name": "python",
   "nbconvert_exporter": "python",
   "pygments_lexer": "ipython3",
   "version": "3.9.13"
  },
  "nbproject": {
   "id": "oYcJlpQohwcq",
   "parent": null,
   "pypackage": null,
   "time_init": "2022-07-19T14:48:36.258554+00:00",
   "version": "draft"
  },
  "orig_nbformat": 4
 },
 "nbformat": 4,
 "nbformat_minor": 2
}
