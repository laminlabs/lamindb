{
 "cells": [
  {
   "cell_type": "markdown",
   "metadata": {},
   "source": [
    "# Ingest fcs files"
   ]
  },
  {
   "cell_type": "code",
   "execution_count": 1,
   "metadata": {},
   "outputs": [
    {
     "data": {
      "text/html": [
       "<table><tbody><tr><td style='text-align: left;'><b>id</b></td><td style='text-align: left;'>XWJj<span style='opacity:0.3'>7BgwAf6p</td></tr><tr><td style='text-align: left;'><b>time_init</b></td><td style='text-align: left;'>2022-07-10 10:05</td></tr><tr><td style='text-align: left;'><b>time_run</b></td><td style='text-align: left;'>2022-07-11 13:31</td></tr><tr><td style='text-align: left;'><b>version</b></td><td style='text-align: left;'>draft</td></tr><tr><td style='text-align: left;'><b>dependency</b></td><td style='text-align: left;'>bionty==0.0.6+17.g0499eed lamindb==0.0.9 nbproject==0.2.0 pandas==1.4.3 readfcs==0.1a1</td></tr></tbody></table>"
      ],
      "text/plain": [
       "<IPython.core.display.HTML object>"
      ]
     },
     "metadata": {},
     "output_type": "display_data"
    }
   ],
   "source": [
    "import lamindb as db\n",
    "import bionty as bt\n",
    "import readfcs\n",
    "import pandas as pd\n",
    "from nbproject import header\n",
    "\n",
    "header()"
   ]
  },
  {
   "cell_type": "markdown",
   "metadata": {},
   "source": [
    "## An example fcs file"
   ]
  },
  {
   "cell_type": "markdown",
   "metadata": {},
   "source": [
    "We provide a `readfcs` wrapper to read in fcs files as `AnnData` objects, `readfcs.datasets.example()` points to a small fcs file (~3MB) for benchmarking purposes."
   ]
  },
  {
   "cell_type": "code",
   "execution_count": 2,
   "metadata": {},
   "outputs": [],
   "source": [
    "filepath = readfcs.datasets.example()\n",
    "fcsfile = readfcs.FCSFile(filepath)"
   ]
  },
  {
   "cell_type": "markdown",
   "metadata": {},
   "source": [
    "Here we have a standard `fcs` file containing flow cytometry data, measured from 65016 cells with 16 channels."
   ]
  },
  {
   "cell_type": "code",
   "execution_count": 3,
   "metadata": {},
   "outputs": [
    {
     "data": {
      "text/plain": [
       "AnnData object with n_obs × n_vars = 65016 × 16\n",
       "    var: 'marker'\n",
       "    uns: 'meta'"
      ]
     },
     "execution_count": 3,
     "metadata": {},
     "output_type": "execute_result"
    }
   ],
   "source": [
    "adata = fcsfile.to_anndata()\n",
    "\n",
    "adata"
   ]
  },
  {
   "cell_type": "markdown",
   "metadata": {},
   "source": [
    "## Curate the channel makers"
   ]
  },
  {
   "cell_type": "code",
   "execution_count": 4,
   "metadata": {},
   "outputs": [],
   "source": [
    "adata.var[\"marker\"] = [i.split(\"/\")[-1] for i in adata.var[\"marker\"]]"
   ]
  },
  {
   "cell_type": "code",
   "execution_count": 16,
   "metadata": {},
   "outputs": [
    {
     "data": {
      "text/html": [
       "<div>\n",
       "<style scoped>\n",
       "    .dataframe tbody tr th:only-of-type {\n",
       "        vertical-align: middle;\n",
       "    }\n",
       "\n",
       "    .dataframe tbody tr th {\n",
       "        vertical-align: top;\n",
       "    }\n",
       "\n",
       "    .dataframe thead th {\n",
       "        text-align: right;\n",
       "    }\n",
       "</style>\n",
       "<table border=\"1\" class=\"dataframe\">\n",
       "  <thead>\n",
       "    <tr style=\"text-align: right;\">\n",
       "      <th>channel</th>\n",
       "      <th>FSC-A</th>\n",
       "      <th>FSC-H</th>\n",
       "      <th>SSC-A</th>\n",
       "      <th>B515-A</th>\n",
       "      <th>R780-A</th>\n",
       "      <th>R710-A</th>\n",
       "      <th>R660-A</th>\n",
       "      <th>V800-A</th>\n",
       "      <th>V655-A</th>\n",
       "      <th>V585-A</th>\n",
       "      <th>V450-A</th>\n",
       "      <th>G780-A</th>\n",
       "      <th>G710-A</th>\n",
       "      <th>G660-A</th>\n",
       "      <th>G610-A</th>\n",
       "      <th>G560-A</th>\n",
       "    </tr>\n",
       "  </thead>\n",
       "  <tbody>\n",
       "    <tr>\n",
       "      <th>hgnc_symbol</th>\n",
       "      <td></td>\n",
       "      <td></td>\n",
       "      <td></td>\n",
       "      <td>KI67</td>\n",
       "      <td>CD3</td>\n",
       "      <td>CD28</td>\n",
       "      <td>CD45RO</td>\n",
       "      <td>CD8</td>\n",
       "      <td>CD4</td>\n",
       "      <td>CD57</td>\n",
       "      <td>CD14</td>\n",
       "      <td>CCR5</td>\n",
       "      <td>CD19</td>\n",
       "      <td>CD27</td>\n",
       "      <td>CCR7</td>\n",
       "      <td>IL7R</td>\n",
       "    </tr>\n",
       "    <tr>\n",
       "      <th>marker</th>\n",
       "      <td></td>\n",
       "      <td></td>\n",
       "      <td></td>\n",
       "      <td>KI67</td>\n",
       "      <td>CD3</td>\n",
       "      <td>CD28</td>\n",
       "      <td>CD45RO</td>\n",
       "      <td>CD8</td>\n",
       "      <td>CD4</td>\n",
       "      <td>CD57</td>\n",
       "      <td>CD14</td>\n",
       "      <td>CCR5</td>\n",
       "      <td>CD19</td>\n",
       "      <td>CD27</td>\n",
       "      <td>CCR7</td>\n",
       "      <td>CD127</td>\n",
       "    </tr>\n",
       "    <tr>\n",
       "      <th>__curated__</th>\n",
       "      <td>False</td>\n",
       "      <td>False</td>\n",
       "      <td>False</td>\n",
       "      <td>False</td>\n",
       "      <td>False</td>\n",
       "      <td>True</td>\n",
       "      <td>False</td>\n",
       "      <td>False</td>\n",
       "      <td>True</td>\n",
       "      <td>False</td>\n",
       "      <td>False</td>\n",
       "      <td>True</td>\n",
       "      <td>True</td>\n",
       "      <td>True</td>\n",
       "      <td>True</td>\n",
       "      <td>True</td>\n",
       "    </tr>\n",
       "  </tbody>\n",
       "</table>\n",
       "</div>"
      ],
      "text/plain": [
       "channel      FSC-A  FSC-H  SSC-A B515-A R780-A R710-A  R660-A V800-A V655-A  \\\n",
       "hgnc_symbol                        KI67    CD3   CD28  CD45RO    CD8    CD4   \n",
       "marker                             KI67    CD3   CD28  CD45RO    CD8    CD4   \n",
       "__curated__  False  False  False  False  False   True   False  False   True   \n",
       "\n",
       "channel     V585-A V450-A G780-A G710-A G660-A G610-A G560-A  \n",
       "hgnc_symbol   CD57   CD14   CCR5   CD19   CD27   CCR7   IL7R  \n",
       "marker        CD57   CD14   CCR5   CD19   CD27   CCR7  CD127  \n",
       "__curated__  False  False   True   True   True   True   True  "
      ]
     },
     "execution_count": 16,
     "metadata": {},
     "output_type": "execute_result"
    }
   ],
   "source": [
    "adata.var.T"
   ]
  },
  {
   "cell_type": "code",
   "execution_count": 6,
   "metadata": {},
   "outputs": [
    {
     "name": "stdout",
     "output_type": "stream",
     "text": [
      "9 terms (56.2%) are not mappable.\n"
     ]
    }
   ],
   "source": [
    "curated_channels = bt.Gene().curate(adata.var, column=\"marker\")"
   ]
  },
  {
   "cell_type": "code",
   "execution_count": 17,
   "metadata": {},
   "outputs": [
    {
     "data": {
      "text/html": [
       "<div>\n",
       "<style scoped>\n",
       "    .dataframe tbody tr th:only-of-type {\n",
       "        vertical-align: middle;\n",
       "    }\n",
       "\n",
       "    .dataframe tbody tr th {\n",
       "        vertical-align: top;\n",
       "    }\n",
       "\n",
       "    .dataframe thead th {\n",
       "        text-align: right;\n",
       "    }\n",
       "</style>\n",
       "<table border=\"1\" class=\"dataframe\">\n",
       "  <thead>\n",
       "    <tr style=\"text-align: right;\">\n",
       "      <th>hgnc_symbol</th>\n",
       "      <th></th>\n",
       "      <th></th>\n",
       "      <th></th>\n",
       "      <th>KI67</th>\n",
       "      <th>CD3</th>\n",
       "      <th>CD28</th>\n",
       "      <th>CD45RO</th>\n",
       "      <th>CD8</th>\n",
       "      <th>CD4</th>\n",
       "      <th>CD57</th>\n",
       "      <th>CD14</th>\n",
       "      <th>CCR5</th>\n",
       "      <th>CD19</th>\n",
       "      <th>CD27</th>\n",
       "      <th>CCR7</th>\n",
       "      <th>IL7R</th>\n",
       "    </tr>\n",
       "  </thead>\n",
       "  <tbody>\n",
       "    <tr>\n",
       "      <th>marker</th>\n",
       "      <td></td>\n",
       "      <td></td>\n",
       "      <td></td>\n",
       "      <td>KI67</td>\n",
       "      <td>CD3</td>\n",
       "      <td>CD28</td>\n",
       "      <td>CD45RO</td>\n",
       "      <td>CD8</td>\n",
       "      <td>CD4</td>\n",
       "      <td>CD57</td>\n",
       "      <td>CD14</td>\n",
       "      <td>CCR5</td>\n",
       "      <td>CD19</td>\n",
       "      <td>CD27</td>\n",
       "      <td>CCR7</td>\n",
       "      <td>CD127</td>\n",
       "    </tr>\n",
       "    <tr>\n",
       "      <th>channel</th>\n",
       "      <td>FSC-A</td>\n",
       "      <td>FSC-H</td>\n",
       "      <td>SSC-A</td>\n",
       "      <td>B515-A</td>\n",
       "      <td>R780-A</td>\n",
       "      <td>R710-A</td>\n",
       "      <td>R660-A</td>\n",
       "      <td>V800-A</td>\n",
       "      <td>V655-A</td>\n",
       "      <td>V585-A</td>\n",
       "      <td>V450-A</td>\n",
       "      <td>G780-A</td>\n",
       "      <td>G710-A</td>\n",
       "      <td>G660-A</td>\n",
       "      <td>G610-A</td>\n",
       "      <td>G560-A</td>\n",
       "    </tr>\n",
       "    <tr>\n",
       "      <th>__curated__</th>\n",
       "      <td>False</td>\n",
       "      <td>False</td>\n",
       "      <td>False</td>\n",
       "      <td>False</td>\n",
       "      <td>False</td>\n",
       "      <td>True</td>\n",
       "      <td>False</td>\n",
       "      <td>False</td>\n",
       "      <td>True</td>\n",
       "      <td>False</td>\n",
       "      <td>False</td>\n",
       "      <td>True</td>\n",
       "      <td>True</td>\n",
       "      <td>True</td>\n",
       "      <td>True</td>\n",
       "      <td>True</td>\n",
       "    </tr>\n",
       "  </tbody>\n",
       "</table>\n",
       "</div>"
      ],
      "text/plain": [
       "hgnc_symbol                         KI67     CD3    CD28  CD45RO     CD8  \\\n",
       "marker                              KI67     CD3    CD28  CD45RO     CD8   \n",
       "channel      FSC-A  FSC-H  SSC-A  B515-A  R780-A  R710-A  R660-A  V800-A   \n",
       "__curated__  False  False  False   False   False    True   False   False   \n",
       "\n",
       "hgnc_symbol     CD4    CD57    CD14    CCR5    CD19    CD27    CCR7    IL7R  \n",
       "marker          CD4    CD57    CD14    CCR5    CD19    CD27    CCR7   CD127  \n",
       "channel      V655-A  V585-A  V450-A  G780-A  G710-A  G660-A  G610-A  G560-A  \n",
       "__curated__    True   False   False    True    True    True    True    True  "
      ]
     },
     "execution_count": 17,
     "metadata": {},
     "output_type": "execute_result"
    }
   ],
   "source": [
    "curated_channels.T"
   ]
  },
  {
   "cell_type": "code",
   "execution_count": 8,
   "metadata": {},
   "outputs": [],
   "source": [
    "adata.var = curated_channels.reset_index().set_index(\"channel\")"
   ]
  },
  {
   "cell_type": "markdown",
   "metadata": {},
   "source": [
    "## Ingest into LaminDB"
   ]
  },
  {
   "cell_type": "code",
   "execution_count": 9,
   "metadata": {},
   "outputs": [
    {
     "name": "stdout",
     "output_type": "stream",
     "text": [
      "Using instance: /Users/sunnysun/mydata/mydata.lndb\n"
     ]
    }
   ],
   "source": [
    "! lndb init --storage $HOME/mydata"
   ]
  },
  {
   "cell_type": "code",
   "execution_count": 10,
   "metadata": {},
   "outputs": [],
   "source": [
    "! lndb login --email \"xiaoji.sun515@gmail.com\""
   ]
  },
  {
   "cell_type": "code",
   "execution_count": 11,
   "metadata": {},
   "outputs": [
    {
     "name": "stderr",
     "output_type": "stream",
     "text": [
      "/opt/miniconda3/envs/py39/lib/python3.9/site-packages/anndata/_core/anndata.py:1228: FutureWarning: The `inplace` parameter in pandas.Categorical.reorder_categories is deprecated and will be removed in a future version. Reordering categories will always return a new Categorical object.\n",
      "  c.reorder_categories(natsorted(c.categories), inplace=True)\n",
      "... storing 'hgnc_symbol' as categorical\n",
      "/opt/miniconda3/envs/py39/lib/python3.9/site-packages/anndata/_core/anndata.py:1228: FutureWarning: The `inplace` parameter in pandas.Categorical.reorder_categories is deprecated and will be removed in a future version. Reordering categories will always return a new Categorical object.\n",
      "  c.reorder_categories(natsorted(c.categories), inplace=True)\n",
      "... storing 'marker' as categorical\n"
     ]
    }
   ],
   "source": [
    "adata.write(\"example_fcs.h5ad\")"
   ]
  },
  {
   "cell_type": "code",
   "execution_count": 18,
   "metadata": {},
   "outputs": [
    {
     "name": "stdout",
     "output_type": "stream",
     "text": [
      "Added file example_fcs.h5ad (stOKhKmkoG55Tr6ZHWib) from notebook 'Ingest fcs files' (XWJj7BgwAf6p) by user xiaoji.sun515@gmail.com (BjExb4ik).\n",
      "Consider using Jupyter Lab for ingesting data!\n",
      "Interactive notebook integrity checks are currently only supported on Jupyter Lab.\n",
      "Alternatively, manually save your notebook directly before calling `do.ingest(..., integrity=True)`.\n"
     ]
    },
    {
     "ename": "RuntimeError",
     "evalue": "Make sure you save the notebook in your editor before publishing!\nYou can avoid the need for manually saving in Jupyter Lab, which auto-saves the buffer during publish.",
     "output_type": "error",
     "traceback": [
      "\u001b[0;31m---------------------------------------------------------------------------\u001b[0m",
      "\u001b[0;31mRuntimeError\u001b[0m                              Traceback (most recent call last)",
      "\u001b[1;32m/Users/sunnysun/Documents/repos/lamindb/docs/examples/ingest-fcs.ipynb Cell 18'\u001b[0m in \u001b[0;36m<cell line: 1>\u001b[0;34m()\u001b[0m\n\u001b[0;32m----> <a href='vscode-notebook-cell:/Users/sunnysun/Documents/repos/lamindb/docs/examples/ingest-fcs.ipynb#ch0000017?line=0'>1</a>\u001b[0m db\u001b[39m.\u001b[39;49mdo\u001b[39m.\u001b[39;49mingest(\u001b[39m\"\u001b[39;49m\u001b[39mexample_fcs.h5ad\u001b[39;49m\u001b[39m\"\u001b[39;49m)\n",
      "File \u001b[0;32m~/Documents/repos/lamindb/lamindb/do/_ingest.py:102\u001b[0m, in \u001b[0;36mingest\u001b[0;34m(filepath, integrity)\u001b[0m\n\u001b[1;32m     <a href='file:///Users/sunnysun/Documents/repos/lamindb/lamindb/do/_ingest.py?line=95'>96</a>\u001b[0m         integrity \u001b[39m=\u001b[39m \u001b[39mFalse\u001b[39;00m\n\u001b[1;32m     <a href='file:///Users/sunnysun/Documents/repos/lamindb/lamindb/do/_ingest.py?line=96'>97</a>\u001b[0m         logger\u001b[39m.\u001b[39mwarning(\n\u001b[1;32m     <a href='file:///Users/sunnysun/Documents/repos/lamindb/lamindb/do/_ingest.py?line=97'>98</a>\u001b[0m             \u001b[39m\"\u001b[39m\u001b[39mConsider using Jupyter Lab for ingesting data!\u001b[39m\u001b[39m\\n\u001b[39;00m\u001b[39m\"\u001b[39m\n\u001b[1;32m     <a href='file:///Users/sunnysun/Documents/repos/lamindb/lamindb/do/_ingest.py?line=98'>99</a>\u001b[0m             \u001b[39m\"\u001b[39m\u001b[39mInteractive notebook integrity checks are currently only supported on Jupyter Lab.\u001b[39m\u001b[39m\\n\u001b[39;00m\u001b[39m\"\u001b[39m  \u001b[39m# noqa\u001b[39;00m\n\u001b[1;32m    <a href='file:///Users/sunnysun/Documents/repos/lamindb/lamindb/do/_ingest.py?line=99'>100</a>\u001b[0m             \u001b[39m\"\u001b[39m\u001b[39mAlternatively, manually save your notebook directly before calling `do.ingest(..., integrity=True)`.\u001b[39m\u001b[39m\"\u001b[39m  \u001b[39m# noqa\u001b[39;00m\n\u001b[1;32m    <a href='file:///Users/sunnysun/Documents/repos/lamindb/lamindb/do/_ingest.py?line=100'>101</a>\u001b[0m         )\n\u001b[0;32m--> <a href='file:///Users/sunnysun/Documents/repos/lamindb/lamindb/do/_ingest.py?line=101'>102</a>\u001b[0m publish(integrity\u001b[39m=\u001b[39;49mintegrity)\n",
      "File \u001b[0;32m~/Documents/repos/nbproject/nbproject/_publish.py:39\u001b[0m, in \u001b[0;36mpublish\u001b[0;34m(version, dependency, integrity, i_confirm_i_saved)\u001b[0m\n\u001b[1;32m     <a href='file:///Users/sunnysun/Documents/repos/nbproject/nbproject/_publish.py?line=36'>37</a>\u001b[0m \u001b[39melse\u001b[39;00m:\n\u001b[1;32m     <a href='file:///Users/sunnysun/Documents/repos/nbproject/nbproject/_publish.py?line=37'>38</a>\u001b[0m     \u001b[39mif\u001b[39;00m \u001b[39mnot\u001b[39;00m i_confirm_i_saved:\n\u001b[0;32m---> <a href='file:///Users/sunnysun/Documents/repos/nbproject/nbproject/_publish.py?line=38'>39</a>\u001b[0m         \u001b[39mraise\u001b[39;00m \u001b[39mRuntimeError\u001b[39;00m(\n\u001b[1;32m     <a href='file:///Users/sunnysun/Documents/repos/nbproject/nbproject/_publish.py?line=39'>40</a>\u001b[0m             \u001b[39m\"\u001b[39m\u001b[39mMake sure you save the notebook in your editor before publishing!\u001b[39m\u001b[39m\\n\u001b[39;00m\u001b[39m\"\u001b[39m\n\u001b[1;32m     <a href='file:///Users/sunnysun/Documents/repos/nbproject/nbproject/_publish.py?line=40'>41</a>\u001b[0m             \u001b[39m\"\u001b[39m\u001b[39mYou can avoid the need for manually saving in Jupyter Lab, which auto-saves the buffer during publish.\u001b[39m\u001b[39m\"\u001b[39m  \u001b[39m# noqa\u001b[39;00m\n\u001b[1;32m     <a href='file:///Users/sunnysun/Documents/repos/nbproject/nbproject/_publish.py?line=41'>42</a>\u001b[0m         )\n\u001b[1;32m     <a href='file:///Users/sunnysun/Documents/repos/nbproject/nbproject/_publish.py?line=43'>44</a>\u001b[0m \u001b[39mif\u001b[39;00m integrity:\n\u001b[1;32m     <a href='file:///Users/sunnysun/Documents/repos/nbproject/nbproject/_publish.py?line=44'>45</a>\u001b[0m     check_integrity(read_notebook(meta\u001b[39m.\u001b[39m_filepath), ignore_code\u001b[39m=\u001b[39m\u001b[39m\"\u001b[39m\u001b[39mpublish(\u001b[39m\u001b[39m\"\u001b[39m)\n",
      "\u001b[0;31mRuntimeError\u001b[0m: Make sure you save the notebook in your editor before publishing!\nYou can avoid the need for manually saving in Jupyter Lab, which auto-saves the buffer during publish."
     ]
    }
   ],
   "source": [
    "db.do.ingest(\"example_fcs.h5ad\")"
   ]
  },
  {
   "cell_type": "code",
   "execution_count": null,
   "metadata": {},
   "outputs": [],
   "source": []
  }
 ],
 "metadata": {
  "interpreter": {
   "hash": "ae1fefc8646a06dd2e75004cd934adda7c5727b046986a772e3b44b0ffba9754"
  },
  "kernelspec": {
   "display_name": "Python 3.9.13 ('py39')",
   "language": "python",
   "name": "python3"
  },
  "language_info": {
   "codemirror_mode": {
    "name": "ipython",
    "version": 3
   },
   "file_extension": ".py",
   "mimetype": "text/x-python",
   "name": "python",
   "nbconvert_exporter": "python",
   "pygments_lexer": "ipython3",
   "version": "3.9.13"
  },
  "nbproject": {
   "dependency": null,
   "id": "XWJj7BgwAf6p",
   "time_init": "2022-07-10T10:05:54.180020+00:00",
   "version": "draft"
  },
  "orig_nbformat": 4
 },
 "nbformat": 4,
 "nbformat_minor": 2
}
