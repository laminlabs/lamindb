{
 "cells": [
  {
   "cell_type": "markdown",
   "id": "2ea9fd55-0f27-4777-8a9c-f9a353fc6bc5",
   "metadata": {
    "tags": []
   },
   "source": [
    "# Create a local database"
   ]
  },
  {
   "cell_type": "markdown",
   "id": "036c3178-1d05-4497-b957-165d238c001a",
   "metadata": {},
   "source": [
    "Here, we're working both with local storage of files & a local sqlite database backend for managing queries, data versioning and schema versioning."
   ]
  },
  {
   "cell_type": "code",
   "execution_count": 1,
   "id": "a98447b8-4323-429c-a9f3-6e3d9a4a76ea",
   "metadata": {},
   "outputs": [],
   "source": [
    "%load_ext autoreload\n",
    "%autoreload 2"
   ]
  },
  {
   "cell_type": "code",
   "execution_count": 2,
   "id": "56ac9d46-cd5d-4f32-87b6-dbe84d7f64ca",
   "metadata": {},
   "outputs": [
    {
     "data": {
      "text/html": [
       "<table><tbody><tr><td style='text-align: left;'><b>uid</b></td><td style='text-align: left;'>tCnj<span style='opacity:0.3'>F9Hs8h65</td></tr><tr><td style='text-align: left;'><b>time_init</b></td><td style='text-align: left;'>2022-06-06 14:21</td></tr><tr><td style='text-align: left;'><b>time_run</b></td><td style='text-align: left;'>2022-06-06 20:28</td></tr></tbody></table>"
      ],
      "text/plain": [
       "<IPython.core.display.HTML object>"
      ]
     },
     "metadata": {},
     "output_type": "display_data"
    }
   ],
   "source": [
    "from nbproject import header"
   ]
  },
  {
   "cell_type": "markdown",
   "id": "88c570b9-9e32-4c10-bc35-2ed349b93ef4",
   "metadata": {
    "tags": []
   },
   "source": [
    "## Ingest"
   ]
  },
  {
   "cell_type": "markdown",
   "id": "b930fe45-98db-4df1-83d3-580e6d0f23a5",
   "metadata": {},
   "source": [
    "**Problem:** We have some data from somewhere and we want to store it. We call this process _ingestion_.\n",
    "\n",
    "**Context:** External data that is subject to external conventions (schema & formats) and internal data (generation & pipelining constrained to internal schema & formats) may need ingestion processes with highly differing levels of _curation_: cleaning, standardization, normalization, and annotation."
   ]
  },
  {
   "cell_type": "markdown",
   "id": "9310ea68-29bd-4f51-855c-5832b2172c9e",
   "metadata": {},
   "source": [
    "**Examples:** Let's choose either examples on the whole spectrum!"
   ]
  },
  {
   "cell_type": "markdown",
   "id": "732be9e0-4db0-4151-bc07-303dae1a14f1",
   "metadata": {},
   "source": [
    "### Download public flow cytometry data"
   ]
  },
  {
   "cell_type": "markdown",
   "id": "1174fa0a-ff26-4ea2-8b80-6121b7c56af4",
   "metadata": {},
   "source": [
    "We'll start with Alpert19 and download a file from the publicly accessible persistant URL from Immport under study SDY478.\n",
    "\n",
    "The URL for downloading the data is: https://browser.immport.org/browser?path=SDY478%2FResultFiles%2FCyTOF_result.\n",
    "\n",
    "One needs to create an account at Immport, which is free for anyone."
   ]
  },
  {
   "cell_type": "markdown",
   "id": "18a64cee-cfb2-4de1-b85c-7a9de5908a84",
   "metadata": {},
   "source": [
    "We downloaded the file into a temporary directory:"
   ]
  },
  {
   "cell_type": "code",
   "execution_count": 3,
   "id": "0309d7ee-128b-45c3-8d52-5a759420564b",
   "metadata": {},
   "outputs": [
    {
     "name": "stdout",
     "output_type": "stream",
     "text": [
      "070314-Mike-Study 15-2013-plate 1-15-004-1-13_cells_found.521438.fcs\n"
     ]
    }
   ],
   "source": [
    "! ls ~/Downloads"
   ]
  },
  {
   "cell_type": "markdown",
   "id": "7581ee28-4a8e-419a-8e9a-6ac59da19a9c",
   "metadata": {},
   "source": [
    "This file is far from being integratable with our existing data.\n",
    "\n",
    "It's also only annotated by the download URL and the semantic context of study number on Immport.\n",
    "\n",
    "Ideally, we'd annotate the file with all that semantic context at once (study, publications, experiments, reagents, tissues, organisms, etc.), which we'd best do with an API to query the metadata fields from ImmPort, writing it to our own metadata storage.\n",
    "\n",
    "For now, let's be satisfied with merely assigning an ID within our local storage."
   ]
  },
  {
   "cell_type": "markdown",
   "id": "1bb0d102-41ef-408a-894f-6093526ce9a2",
   "metadata": {},
   "source": [
    "## Setting up lamindb"
   ]
  },
  {
   "cell_type": "markdown",
   "id": "9f5270c9-b0eb-454f-9b1c-7a7c6b394408",
   "metadata": {},
   "source": [
    "Let us configure lamindb with a local directory for storing objects, and a local sqlite database for storing metadata of these objects."
   ]
  },
  {
   "cell_type": "code",
   "execution_count": 4,
   "id": "b838c1de-0839-4a4a-ac88-bdd93fcb4fc9",
   "metadata": {},
   "outputs": [
    {
     "name": "stdout",
     "output_type": "stream",
     "text": [
      "\u001b[0m"
     ]
    }
   ],
   "source": [
    "!lamindb configure --storage \"$HOME/Library/Mobile Documents/com~apple~CloudDocs/Lamin/Sandbox\""
   ]
  },
  {
   "cell_type": "markdown",
   "id": "7afe5cf3-9ef9-46a6-a98d-27c2b2f0ec9f",
   "metadata": {},
   "source": [
    "Create a database with an initial schema."
   ]
  },
  {
   "cell_type": "code",
   "execution_count": 5,
   "id": "1aaf8e8d-cc5d-400d-b32b-8566ddae3dfe",
   "metadata": {},
   "outputs": [],
   "source": [
    "import lamindb as lndb"
   ]
  },
  {
   "cell_type": "code",
   "execution_count": 6,
   "id": "9965c0e8-7be3-42b1-a5a3-787d44200427",
   "metadata": {},
   "outputs": [],
   "source": [
    "db = lndb.DB()"
   ]
  },
  {
   "cell_type": "markdown",
   "id": "21840a64-0fd2-4982-bb06-ed55d6e169cc",
   "metadata": {},
   "source": [
    "Create an on-disk representation of the database."
   ]
  },
  {
   "cell_type": "code",
   "execution_count": 7,
   "id": "9b5829b7-d8d6-433e-b19d-4397200098fe",
   "metadata": {},
   "outputs": [
    {
     "name": "stdout",
     "output_type": "stream",
     "text": [
      "created database at /Users/falexwolf/Library/Mobile Documents/com~apple~CloudDocs/Lamin/Sandbox/lamin.db\n"
     ]
    }
   ],
   "source": [
    "db.create()"
   ]
  },
  {
   "cell_type": "markdown",
   "id": "f1af9ea1-be73-4bdb-8f5a-529a7c2da9dc",
   "metadata": {},
   "source": [
    "## Ingesting a first data file"
   ]
  },
  {
   "cell_type": "code",
   "execution_count": 8,
   "id": "4a7a68c7-ccae-4ef8-932b-1cfcdcbe7a49",
   "metadata": {},
   "outputs": [],
   "source": [
    "from pathlib import Path"
   ]
  },
  {
   "cell_type": "code",
   "execution_count": 9,
   "id": "6b36d18b-c735-46fc-aaca-be0e96aac2fd",
   "metadata": {},
   "outputs": [
    {
     "name": "stdout",
     "output_type": "stream",
     "text": [
      "ingested file H9VtLNWnMYazfLaJAWIc from notebook tCnjF9Hs8h65\n"
     ]
    }
   ],
   "source": [
    "lnid = lndb.ingest(\n",
    "    Path.home()\n",
    "    / \"Downloads/070314-Mike-Study 15-2013-plate 1-15-004-1-13_cells_found.521438.fcs\"\n",
    ")"
   ]
  }
 ],
 "metadata": {
  "kernelspec": {
   "display_name": "Python 3 (ipykernel)",
   "language": "python",
   "name": "python3"
  },
  "language_info": {
   "codemirror_mode": {
    "name": "ipython",
    "version": 3
   },
   "file_extension": ".py",
   "mimetype": "text/x-python",
   "name": "python",
   "nbconvert_exporter": "python",
   "pygments_lexer": "ipython3",
   "version": "3.9.7"
  },
  "nbproject": {
   "time_init": "2022-06-06T14:21:53.139621+00:00",
   "uid": "tCnjF9Hs8h65"
  }
 },
 "nbformat": 4,
 "nbformat_minor": 5
}
