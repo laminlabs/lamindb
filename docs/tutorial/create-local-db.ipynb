{
 "cells": [
  {
   "cell_type": "markdown",
   "id": "2ea9fd55-0f27-4777-8a9c-f9a353fc6bc5",
   "metadata": {
    "tags": []
   },
   "source": [
    "# Create a local database"
   ]
  },
  {
   "cell_type": "markdown",
   "id": "036c3178-1d05-4497-b957-165d238c001a",
   "metadata": {},
   "source": [
    "Here, we're working both with local storage of files & a local database."
   ]
  },
  {
   "cell_type": "code",
   "execution_count": null,
   "id": "a98447b8-4323-429c-a9f3-6e3d9a4a76ea",
   "metadata": {},
   "outputs": [],
   "source": [
    "%load_ext autoreload\n",
    "%autoreload 2"
   ]
  },
  {
   "cell_type": "code",
   "execution_count": null,
   "id": "56ac9d46-cd5d-4f32-87b6-dbe84d7f64ca",
   "metadata": {},
   "outputs": [],
   "source": [
    "from nbproject import Header\n",
    "import lamindb as lndb\n",
    "import sklearn.datasets\n",
    "import scanpy as sc"
   ]
  },
  {
   "cell_type": "code",
   "execution_count": null,
   "id": "f4bc3810-3c19-46cc-8e27-73ce9c5efbd9",
   "metadata": {},
   "outputs": [],
   "source": [
    "Header(filepath=\"create-local-db.ipynb\");"
   ]
  },
  {
   "cell_type": "markdown",
   "id": "1bb0d102-41ef-408a-894f-6093526ce9a2",
   "metadata": {},
   "source": [
    "## Setting up lamindb"
   ]
  },
  {
   "cell_type": "markdown",
   "id": "9f5270c9-b0eb-454f-9b1c-7a7c6b394408",
   "metadata": {},
   "source": [
    "Let us configure lamindb with a local directory for storing objects, and a local database for storing metadata of these objects.\n",
    "\n",
    "This is a one-time operation and done on the command line:"
   ]
  },
  {
   "cell_type": "code",
   "execution_count": null,
   "id": "b838c1de-0839-4a4a-ac88-bdd93fcb4fc9",
   "metadata": {},
   "outputs": [],
   "source": [
    "!lamindb setup --storage $HOME/mydata  --user falexwolf"
   ]
  },
  {
   "cell_type": "markdown",
   "id": "f1af9ea1-be73-4bdb-8f5a-529a7c2da9dc",
   "metadata": {
    "tags": []
   },
   "source": [
    "## Ingesting a first data file"
   ]
  },
  {
   "cell_type": "code",
   "execution_count": null,
   "id": "aa34b8e5-1c1e-47ef-994e-04b96453d3ee",
   "metadata": {},
   "outputs": [],
   "source": [
    "adata = sc.datasets.pbmc68k_reduced()"
   ]
  },
  {
   "cell_type": "markdown",
   "id": "28082986-5897-4777-b1cd-8b0780aa6c55",
   "metadata": {},
   "source": [
    "Let's write it to some obscure location."
   ]
  },
  {
   "cell_type": "code",
   "execution_count": null,
   "id": "bd0622e4-2b33-4e91-8b7e-ea9d59c6b0f4",
   "metadata": {},
   "outputs": [],
   "source": [
    "adata.write(\"scanpy_pbmc68k_reduced.h5ad\")"
   ]
  },
  {
   "cell_type": "code",
   "execution_count": null,
   "id": "6b36d18b-c735-46fc-aaca-be0e96aac2fd",
   "metadata": {},
   "outputs": [],
   "source": [
    "lnid = lndb.ingest(\"scanpy_pbmc68k_reduced.h5ad\")"
   ]
  },
  {
   "cell_type": "markdown",
   "id": "34be1170-5088-4f93-bc5a-c4158aaafa1e",
   "metadata": {},
   "source": [
    "Having a look into our data storage, we'll see both the data file we just ingested, and the `.lndb` file that stores the database with all the information for managing the directory."
   ]
  },
  {
   "cell_type": "code",
   "execution_count": null,
   "id": "14822ea7-501f-496e-922e-714c0fb02d90",
   "metadata": {},
   "outputs": [],
   "source": [
    "!ls -lh ~/mydata"
   ]
  },
  {
   "cell_type": "markdown",
   "id": "44eed7e7-ab1e-4da8-8cd4-96d8aba27c8c",
   "metadata": {},
   "source": [
    "## Introspecting the schema"
   ]
  },
  {
   "cell_type": "code",
   "execution_count": null,
   "id": "275c4bc0-e8d2-4b42-b006-f49289d11c59",
   "metadata": {},
   "outputs": [],
   "source": [
    "lndb.diagram()"
   ]
  },
  {
   "cell_type": "markdown",
   "id": "99f7ea2f-6bfb-4f1e-90de-4903a06f8b5e",
   "metadata": {},
   "source": [
    "## Add more users"
   ]
  },
  {
   "cell_type": "markdown",
   "id": "e4cc7cca-db5f-4207-9874-b85e737aa324",
   "metadata": {},
   "source": [
    "Let us now pretend we're a different user."
   ]
  },
  {
   "cell_type": "code",
   "execution_count": null,
   "id": "ef53008e-26ee-47b7-a2e1-ea3715040f35",
   "metadata": {},
   "outputs": [],
   "source": [
    "!lamindb setup --storage $HOME/mydata  --user sunnyosun"
   ]
  },
  {
   "cell_type": "markdown",
   "id": "b7185f93-55e6-4048-a5cb-ff01c5571b16",
   "metadata": {},
   "source": [
    "Let us try to add the same user again."
   ]
  },
  {
   "cell_type": "code",
   "execution_count": null,
   "id": "2720eab1-881c-4445-9172-c1851286baab",
   "metadata": {},
   "outputs": [],
   "source": [
    "!lamindb setup --storage $HOME/mydata  --user sunnyosun"
   ]
  },
  {
   "cell_type": "markdown",
   "id": "3f08f45b-7b9e-423b-ae9b-531dace87473",
   "metadata": {},
   "source": [
    "## Ingest more data"
   ]
  },
  {
   "cell_type": "markdown",
   "id": "09e7a308-4efe-414a-824d-b79723169468",
   "metadata": {},
   "source": [
    "Ingest another file"
   ]
  },
  {
   "cell_type": "code",
   "execution_count": null,
   "id": "35deb042-5c26-4e5d-8f36-d88595361cf7",
   "metadata": {},
   "outputs": [],
   "source": [
    "sklearn.datasets.load_iris(as_frame=True).frame.to_csv(\"iris.csv\")"
   ]
  },
  {
   "cell_type": "code",
   "execution_count": null,
   "id": "8bfbbe37-e641-4c90-8ab7-b312bd0ae96d",
   "metadata": {},
   "outputs": [],
   "source": [
    "lnid = lndb.ingest(\"iris.csv\")"
   ]
  },
  {
   "cell_type": "markdown",
   "id": "69327780-e47e-4fb4-b893-1568105bcf0d",
   "metadata": {
    "tags": []
   },
   "source": [
    "## Introspecting the data"
   ]
  },
  {
   "cell_type": "code",
   "execution_count": null,
   "id": "5e9e68bd-0b9e-4d32-a02b-3d09f18eb8d9",
   "metadata": {},
   "outputs": [],
   "source": [
    "for entity in lndb.db.entities:\n",
    "    print(entity)\n",
    "    display(lndb.db.load(entity))"
   ]
  },
  {
   "cell_type": "markdown",
   "id": "337f01a2-fa2c-4ede-a776-5ba9e4515c86",
   "metadata": {},
   "source": [
    "Inspect a value in more detail:"
   ]
  },
  {
   "cell_type": "code",
   "execution_count": null,
   "id": "65ef4668-d2c0-4f27-9a8b-d5a987122db2",
   "metadata": {},
   "outputs": [],
   "source": [
    "lndb.db.load(\"file_source\").dependency[\"tCnjF9Hs8h65\"]"
   ]
  }
 ],
 "metadata": {
  "kernelspec": {
   "display_name": "Python 3 (ipykernel)",
   "language": "python",
   "name": "python3"
  },
  "language_info": {
   "codemirror_mode": {
    "name": "ipython",
    "version": 3
   },
   "file_extension": ".py",
   "mimetype": "text/x-python",
   "name": "python",
   "nbconvert_exporter": "python",
   "pygments_lexer": "ipython3",
   "version": "3.9.12"
  },
  "nbproject": {
   "id": "tCnjF9Hs8h65",
   "time_init": "2022-06-06T14:21:53.139621+00:00"
  }
 },
 "nbformat": 4,
 "nbformat_minor": 5
}
