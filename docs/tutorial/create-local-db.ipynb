{
 "cells": [
  {
   "cell_type": "markdown",
   "id": "2ea9fd55-0f27-4777-8a9c-f9a353fc6bc5",
   "metadata": {
    "tags": []
   },
   "source": [
    "# Create a local database"
   ]
  },
  {
   "cell_type": "markdown",
   "id": "036c3178-1d05-4497-b957-165d238c001a",
   "metadata": {},
   "source": [
    "Here, we're working both with local storage of files & a local database."
   ]
  },
  {
   "cell_type": "code",
   "execution_count": null,
   "id": "a98447b8-4323-429c-a9f3-6e3d9a4a76ea",
   "metadata": {},
   "outputs": [],
   "source": [
    "%load_ext autoreload\n",
    "%autoreload 2"
   ]
  },
  {
   "cell_type": "code",
   "execution_count": null,
   "id": "56ac9d46-cd5d-4f32-87b6-dbe84d7f64ca",
   "metadata": {},
   "outputs": [],
   "source": [
    "from nbproject import Header\n",
    "import lamindb as lndb"
   ]
  },
  {
   "cell_type": "code",
   "execution_count": null,
   "id": "f4bc3810-3c19-46cc-8e27-73ce9c5efbd9",
   "metadata": {},
   "outputs": [],
   "source": [
    "Header(filepath=\"create-local-db.ipynb\");"
   ]
  },
  {
   "cell_type": "markdown",
   "id": "1bb0d102-41ef-408a-894f-6093526ce9a2",
   "metadata": {},
   "source": [
    "## Setting up lamindb"
   ]
  },
  {
   "cell_type": "markdown",
   "id": "9f5270c9-b0eb-454f-9b1c-7a7c6b394408",
   "metadata": {},
   "source": [
    "Let us configure lamindb with a local directory for storing objects, and a local database for storing metadata of these objects.\n",
    "\n",
    "This is a one-time operation and done on the command line:"
   ]
  },
  {
   "cell_type": "code",
   "execution_count": null,
   "id": "b838c1de-0839-4a4a-ac88-bdd93fcb4fc9",
   "metadata": {},
   "outputs": [],
   "source": [
    "!lamindb setup --storage $HOME/mydata  --user falexwolf"
   ]
  },
  {
   "cell_type": "markdown",
   "id": "f1af9ea1-be73-4bdb-8f5a-529a7c2da9dc",
   "metadata": {
    "tags": []
   },
   "source": [
    "## Ingesting a first data file"
   ]
  },
  {
   "cell_type": "code",
   "execution_count": null,
   "id": "0683c7fb-510e-43a3-b522-54a7f318ad32",
   "metadata": {},
   "outputs": [],
   "source": [
    "import scanpy as sc"
   ]
  },
  {
   "cell_type": "code",
   "execution_count": null,
   "id": "aa34b8e5-1c1e-47ef-994e-04b96453d3ee",
   "metadata": {},
   "outputs": [],
   "source": [
    "adata = sc.datasets.pbmc68k_reduced()"
   ]
  },
  {
   "cell_type": "markdown",
   "id": "28082986-5897-4777-b1cd-8b0780aa6c55",
   "metadata": {},
   "source": [
    "Let's write it to some obscure location."
   ]
  },
  {
   "cell_type": "code",
   "execution_count": null,
   "id": "bd0622e4-2b33-4e91-8b7e-ea9d59c6b0f4",
   "metadata": {},
   "outputs": [],
   "source": [
    "adata.write(\"scanpy_pbmc68k_reduced.h5ad\")"
   ]
  },
  {
   "cell_type": "code",
   "execution_count": null,
   "id": "6b36d18b-c735-46fc-aaca-be0e96aac2fd",
   "metadata": {},
   "outputs": [],
   "source": [
    "lnid = lndb.ingest(\"scanpy_pbmc68k_reduced.h5ad\")"
   ]
  },
  {
   "cell_type": "markdown",
   "id": "34be1170-5088-4f93-bc5a-c4158aaafa1e",
   "metadata": {},
   "source": [
    "Having a look into our data storage, we'll see both the data file we just ingested, and the `.lndb` file that stores the database with all the information for managing the directory."
   ]
  },
  {
   "cell_type": "code",
   "execution_count": null,
   "id": "14822ea7-501f-496e-922e-714c0fb02d90",
   "metadata": {},
   "outputs": [],
   "source": [
    "!ls -lh ~/mydata"
   ]
  },
  {
   "cell_type": "markdown",
   "id": "44eed7e7-ab1e-4da8-8cd4-96d8aba27c8c",
   "metadata": {},
   "source": [
    "## Introspecting the data"
   ]
  },
  {
   "cell_type": "code",
   "execution_count": null,
   "id": "275c4bc0-e8d2-4b42-b006-f49289d11c59",
   "metadata": {},
   "outputs": [],
   "source": [
    "lndb.diagram()"
   ]
  },
  {
   "cell_type": "markdown",
   "id": "947baa3d-be91-4d21-99cf-d7b4ad7a8b60",
   "metadata": {},
   "source": [
    "The following does not yet work..."
   ]
  },
  {
   "cell_type": "code",
   "execution_count": null,
   "id": "ef74d2ae-5279-4c62-bac9-c67d0e8c6c12",
   "metadata": {},
   "outputs": [],
   "source": [
    "# for entity in lndb.db.entities:\n",
    "#     print(entity)\n",
    "#     display(lndb.db.load(entity))"
   ]
  },
  {
   "cell_type": "markdown",
   "id": "e4cc7cca-db5f-4207-9874-b85e737aa324",
   "metadata": {},
   "source": [
    "Let us now pretend we're a different user."
   ]
  },
  {
   "cell_type": "code",
   "execution_count": null,
   "id": "ef53008e-26ee-47b7-a2e1-ea3715040f35",
   "metadata": {},
   "outputs": [],
   "source": [
    "!lamindb setup --storage $HOME/mydata  --user sunnyosun"
   ]
  }
 ],
 "metadata": {
  "kernelspec": {
   "display_name": "Python 3 (ipykernel)",
   "language": "python",
   "name": "python3"
  },
  "language_info": {
   "codemirror_mode": {
    "name": "ipython",
    "version": 3
   },
   "file_extension": ".py",
   "mimetype": "text/x-python",
   "name": "python",
   "nbconvert_exporter": "python",
   "pygments_lexer": "ipython3",
   "version": "3.9.7"
  },
  "nbproject": {
   "time_init": "2022-06-06T14:21:53.139621+00:00",
   "uid": "tCnjF9Hs8h65"
  }
 },
 "nbformat": 4,
 "nbformat_minor": 5
}
