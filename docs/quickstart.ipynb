{
 "cells": [
  {
   "cell_type": "markdown",
   "id": "f1af9ea1-be73-4bdb-8f5a-529a7c2da9dc",
   "metadata": {
    "tags": []
   },
   "source": [
    "# Quickstart"
   ]
  },
  {
   "cell_type": "markdown",
   "id": "71bd9aea",
   "metadata": {},
   "source": [
    "Run the following on the command line to install and set up a user identity that's linked to data and analysis (similar to a GitHub username):\n",
    "```\n",
    "pip install lamindb\n",
    "lndb signup <email>\n",
    "```\n",
    "After confirming the signup email, run\n",
    "```\n",
    "lndb login <handle/username>\n",
    "```\n",
    "\n",
    "You can now create a LaminDB instance. If you want to plug in an S3 or a Google Cloud bucket, pass `--storage s3://my-bucket` or `--storage gs://my-bucket`. For a local directory, pass a directory name, like so:"
   ]
  },
  {
   "cell_type": "code",
   "execution_count": null,
   "id": "9310ed4b",
   "metadata": {},
   "outputs": [],
   "source": [
    "!lndb init --storage mydb"
   ]
  },
  {
   "cell_type": "code",
   "execution_count": null,
   "id": "56ac9d46-cd5d-4f32-87b6-dbe84d7f64ca",
   "metadata": {},
   "outputs": [],
   "source": [
    "import lamindb as ln\n",
    "import sklearn.datasets\n",
    "import scanpy as sc\n",
    "\n",
    "ln.nb.header()"
   ]
  },
  {
   "cell_type": "markdown",
   "id": "316cd754",
   "metadata": {},
   "source": [
    "## Ingest files"
   ]
  },
  {
   "cell_type": "markdown",
   "id": "765c1d7a-abc1-4941-9585-c98eb4d8bea4",
   "metadata": {},
   "source": [
    "Ingest a simple image file from [Paradisi *et al.* (2005)](https://bmcmolcellbiol.biomedcentral.com/articles/10.1186/1471-2121-6-27):\n",
    "\n",
    "<img width=\"150\" alt=\"Laminopathic nuclei\" src=\"https://upload.wikimedia.org/wikipedia/commons/2/28/Laminopathic_nuclei.jpg\">"
   ]
  },
  {
   "cell_type": "code",
   "execution_count": null,
   "id": "f94cedbd-6d6b-43a6-a048-b33f93283609",
   "metadata": {},
   "outputs": [],
   "source": [
    "filepath = ln.datasets.file_jpg_paradisi05()\n",
    "filepath"
   ]
  },
  {
   "cell_type": "markdown",
   "id": "74eb8e33",
   "metadata": {},
   "source": [
    "To track this dataset, stage it for ingestion:"
   ]
  },
  {
   "cell_type": "code",
   "execution_count": null,
   "id": "137524bd-b973-4d78-9cd7-f2f64c4ab5c3",
   "metadata": {},
   "outputs": [],
   "source": [
    "ln.db.ingest.add(filepath)"
   ]
  },
  {
   "cell_type": "markdown",
   "id": "f5b24bef",
   "metadata": {},
   "source": [
    "## Ingest in-memory data"
   ]
  },
  {
   "cell_type": "markdown",
   "id": "897b54c0-9bb1-49e1-b63a-08b1413df2a1",
   "metadata": {},
   "source": [
    "Example: A `DataFrame` storing the iris dataset:"
   ]
  },
  {
   "cell_type": "code",
   "execution_count": null,
   "id": "aa34b8e5-1c1e-47ef-994e-04b96453d3ee",
   "metadata": {},
   "outputs": [],
   "source": [
    "df = sklearn.datasets.load_iris(as_frame=True).frame\n",
    "\n",
    "df.head()"
   ]
  },
  {
   "cell_type": "markdown",
   "id": "d172ed7d",
   "metadata": {},
   "source": [
    "When ingesting in-memory objects, a `name` parameter needs to be passed:"
   ]
  },
  {
   "cell_type": "code",
   "execution_count": null,
   "id": "475d473f",
   "metadata": {},
   "outputs": [],
   "source": [
    "ln.db.ingest.add(df, name=\"iris\")"
   ]
  },
  {
   "cell_type": "markdown",
   "id": "e2484f6f",
   "metadata": {},
   "source": [
    "## Ingest with feature models"
   ]
  },
  {
   "cell_type": "markdown",
   "id": "56e86a45",
   "metadata": {},
   "source": [
    "So far, we haven't enabled ourselves to query for the features of ingested data, and used LaminDB like a data lake."
   ]
  },
  {
   "cell_type": "markdown",
   "id": "1ffea7de",
   "metadata": {},
   "source": [
    "By passing a _feature model_ to `db.ingest`, LaminDB creates links to underlying entities and behaves much like a data warehouse.\n"
   ]
  },
  {
   "cell_type": "markdown",
   "id": "bab1d292",
   "metadata": {},
   "source": [
    "To learn more, see [lamin.ai/docs/db/ingest](https://lamin.ai/docs/db/ingest)."
   ]
  },
  {
   "cell_type": "markdown",
   "id": "89cbab80",
   "metadata": {},
   "source": [
    "## Complete ingestion"
   ]
  },
  {
   "cell_type": "markdown",
   "id": "efa4f0cf-fb4f-4254-9ba0-e0dbff955612",
   "metadata": {},
   "source": [
    "Before completing the ingestion, let's check what we staged:"
   ]
  },
  {
   "cell_type": "code",
   "execution_count": null,
   "id": "8299bdbe-53eb-469e-b3db-f1a34d4d1e54",
   "metadata": {},
   "outputs": [],
   "source": [
    "ln.db.ingest.status"
   ]
  },
  {
   "cell_type": "markdown",
   "id": "0a6f1ca2-2eac-461e-9c5f-296b340c0940",
   "metadata": {},
   "source": [
    "Let's now commit these data to the DB:"
   ]
  },
  {
   "cell_type": "code",
   "execution_count": null,
   "id": "6b36d18b-c735-46fc-aaca-be0e96aac2fd",
   "metadata": {},
   "outputs": [],
   "source": [
    "ln.db.ingest.commit()"
   ]
  },
  {
   "cell_type": "markdown",
   "id": "27ea0197",
   "metadata": {},
   "source": [
    "We see that several links are made in the background: the data object is associated with its source (this Jupyter notebook, `jupynb`) and the user who operates the notebook."
   ]
  },
  {
   "cell_type": "markdown",
   "id": "7cc69e32",
   "metadata": {},
   "source": [
    "## Load and query data"
   ]
  },
  {
   "cell_type": "markdown",
   "id": "f85f7c29",
   "metadata": {},
   "source": [
    "You can now load and query data, for instance, via:\n",
    "```\n",
    "dobject = ln.db.query.dobject(name=\"iris\").first()\n",
    "df = ln.db.load(dobject)\n",
    "```\n",
    "\n",
    "For many more features, see [lamin.ai/docs/db/guide](https://lamin.ai/docs/db/guide)."
   ]
  }
 ],
 "metadata": {
  "kernelspec": {
   "display_name": "Python 3.9.12 ('base1')",
   "language": "python",
   "name": "python3"
  },
  "language_info": {
   "codemirror_mode": {
    "name": "ipython",
    "version": 3
   },
   "file_extension": ".py",
   "mimetype": "text/x-python",
   "name": "python",
   "nbconvert_exporter": "python",
   "pygments_lexer": "ipython3",
   "version": "3.9.12"
  },
  "nbproject": {
   "id": "W9sKZ8VKmLhY",
   "parent": null,
   "pypackage": {
    "bionty": "0.0.6+17.g0499eed",
    "lamindb": "0.3.4",
    "lnbfx": "0.3.1",
    "scanpy": "1.8.2",
    "scikit-learn": "1.1.1"
   },
   "time_init": "2022-09-02T13:39:08.915979+00:00",
   "version": "2"
  },
  "vscode": {
   "interpreter": {
    "hash": "2775e555cdc2d728c54aa22130c79afb1fa4da64f22f2fc6dcc2aa346c4e0672"
   }
  }
 },
 "nbformat": 4,
 "nbformat_minor": 5
}
