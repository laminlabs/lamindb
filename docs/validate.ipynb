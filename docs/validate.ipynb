{
 "cells": [
  {
   "cell_type": "markdown",
   "metadata": {},
   "source": [
    "# Validate data"
   ]
  },
  {
   "cell_type": "markdown",
   "metadata": {},
   "source": [
    "To make data more re-usable, LaminDB validates categorical variables when using registries ({class}`~lamindb.dev.CanValidate`).\n",
    "\n",
    "The typical data management process has 3 steps:\n",
    "1. ![](https://img.shields.io/badge/Transform-10b981) Transform data, including formatting, normalizing, subsetting, concatenating, modeling, etc.\n",
    "2. ![](https://img.shields.io/badge/Validate-10b981) Validate data, including curating non-validated data & amending registries.\n",
    "3. ![](https://img.shields.io/badge/Register-10b981) Save data using the `File` or `Dataset` registry, link to validated & registered metadata."
   ]
  },
  {
   "cell_type": "markdown",
   "metadata": {},
   "source": [
    "## Setup"
   ]
  },
  {
   "cell_type": "code",
   "execution_count": null,
   "metadata": {
    "tags": [
     "hide-output"
    ]
   },
   "outputs": [],
   "source": [
    "!lamin init --storage ./test-validate --schema bionty"
   ]
  },
  {
   "cell_type": "code",
   "execution_count": null,
   "metadata": {},
   "outputs": [],
   "source": [
    "import lamindb as ln\n",
    "import lnschema_bionty as lb\n",
    "import pandas as pd"
   ]
  },
  {
   "cell_type": "markdown",
   "metadata": {},
   "source": [
    "Pre-populate registries:"
   ]
  },
  {
   "cell_type": "code",
   "execution_count": null,
   "metadata": {
    "tags": [
     "cell-output"
    ]
   },
   "outputs": [],
   "source": [
    "df = pd.DataFrame({\"A\": 1, \"B\": 2}, index=[\"i1\"])\n",
    "ln.File(df, description=\"test data\").save()\n",
    "ln.Feature(name=\"project\", type=\"category\").save()\n",
    "ln.Feature(name=\"experiment\", type=\"category\").save()\n",
    "ln.Label(name=\"Project A\").save()\n",
    "ln.Label(name=\"Project B\").save()\n",
    "ln.Label(name=\"Experiment A001\").save()\n",
    "ln.Label(name=\"Experiment A002\").save()\n",
    "lb.Disease.from_bionty(ontology_id=\"MONDO:0004975\").save()"
   ]
  },
  {
   "cell_type": "markdown",
   "metadata": {},
   "source": [
    "## Built-in validation"
   ]
  },
  {
   "cell_type": "markdown",
   "metadata": {},
   "source": [
    "### Name duplication"
   ]
  },
  {
   "cell_type": "markdown",
   "metadata": {},
   "source": [
    "Creating a record with the same name field automatically returns the existing record:"
   ]
  },
  {
   "cell_type": "code",
   "execution_count": null,
   "metadata": {},
   "outputs": [],
   "source": [
    "ln.Label(name=\"Project A\")"
   ]
  },
  {
   "cell_type": "markdown",
   "metadata": {},
   "source": [
    "Bulk creating records using {meth}`~lamindb.dev.Registry.from_values` only returns validated (existing) records:"
   ]
  },
  {
   "cell_type": "code",
   "execution_count": null,
   "metadata": {},
   "outputs": [],
   "source": [
    "projects = [\"Project A\", \"Project B\", \"Project D\", \"Project E\"]\n",
    "ln.Label.from_values(projects)"
   ]
  },
  {
   "cell_type": "markdown",
   "metadata": {},
   "source": [
    "(Versioned records also account for `version` in addition to `name`. Also see: [idempotency](faq/idempotency).)"
   ]
  },
  {
   "cell_type": "markdown",
   "metadata": {},
   "source": [
    "### Data duplication"
   ]
  },
  {
   "cell_type": "markdown",
   "metadata": {},
   "source": [
    "Creating a file or dataset with the same content automatically returns the existing record:"
   ]
  },
  {
   "cell_type": "code",
   "execution_count": null,
   "metadata": {},
   "outputs": [],
   "source": [
    "ln.File(df, description=\"same data\")"
   ]
  },
  {
   "cell_type": "markdown",
   "metadata": {},
   "source": [
    "### Database validations"
   ]
  },
  {
   "cell_type": "markdown",
   "metadata": {},
   "source": [
    "Types, constraints and [Django validators](https://docs.djangoproject.com/en/4.2/ref/validators/) can be configured in the [schema](https://lamin.ai/docs/schemas)"
   ]
  },
  {
   "cell_type": "markdown",
   "metadata": {},
   "source": [
    "## Validate against a categorical field\n",
    "\n",
    "{meth}`~lamindb.dev.CanValidate.validate` _strictly_ (has to be exact matches) validates terms/categories against a field. It returns a boolean vector for each term."
   ]
  },
  {
   "cell_type": "markdown",
   "metadata": {},
   "source": [
    "### With typed registries\n",
    "\n",
    "Typed registries correspond to tables in the schema with their own entities. For instance, [bionty schema](https://lamin.ai/docs/lnschema-bionty) offers registries for basic biological entities"
   ]
  },
  {
   "cell_type": "markdown",
   "metadata": {},
   "source": [
    "By default, the first string field is used for validation. For {class}`~lnschema_bionty.Disease`, it's the \"name\"."
   ]
  },
  {
   "cell_type": "code",
   "execution_count": null,
   "metadata": {},
   "outputs": [],
   "source": [
    "diseases = [\"Alzheimer disease\", \"Alzheimer's disease\", \"AD\"]\n",
    "validated = lb.Disease.validate(diseases)\n",
    "validated"
   ]
  },
  {
   "cell_type": "markdown",
   "metadata": {},
   "source": [
    "Validate against a non-default field."
   ]
  },
  {
   "cell_type": "code",
   "execution_count": null,
   "metadata": {},
   "outputs": [],
   "source": [
    "lb.Disease.validate(\n",
    "    [\"MONDO:0004975\", \"MONDO:0004976\", \"MONDO:0004977\"], lb.Disease.ontology_id\n",
    ")"
   ]
  },
  {
   "cell_type": "markdown",
   "metadata": {},
   "source": [
    "### Without typed registries\n",
    "\n",
    "Any non-typed entities can be registered using {class}`~lamindb.Label`."
   ]
  },
  {
   "cell_type": "code",
   "execution_count": null,
   "metadata": {},
   "outputs": [],
   "source": [
    "ln.Label.validate([\"Project A\", \"Project B\", \"Project C\"])"
   ]
  },
  {
   "cell_type": "markdown",
   "metadata": {},
   "source": [
    "## Inspect and standardize non-validated terms"
   ]
  },
  {
   "cell_type": "markdown",
   "metadata": {},
   "source": [
    "When validation fails, you can call {meth}`~lamindb.dev.CanValidate.inspect` figure out what to do.\n",
    "\n",
    "- Same as `.validate`, it _strictly_ validates terms/categories against a field.\n",
    "- However, it returns a rich {class}`~lamindb.dev.InspectResult`.\n",
    "- Most importantly, it logs what users can do in order to pass validation.\n",
    "\n",
    "Also see {doc}`./bio-registries` for more examples."
   ]
  },
  {
   "cell_type": "code",
   "execution_count": null,
   "metadata": {},
   "outputs": [],
   "source": [
    "result = lb.Disease.inspect(diseases)"
   ]
  },
  {
   "cell_type": "markdown",
   "metadata": {},
   "source": [
    "In this case, it suggests to call {meth}`~lamindb.dev.CanValidate.standardize` to standardize synonyms:"
   ]
  },
  {
   "cell_type": "code",
   "execution_count": null,
   "metadata": {},
   "outputs": [],
   "source": [
    "diseases_standardized = lb.Disease.standardize(result.non_validated)\n",
    "diseases_standardized"
   ]
  },
  {
   "cell_type": "markdown",
   "metadata": {},
   "source": [
    "## Register non-validated terms"
   ]
  },
  {
   "cell_type": "code",
   "execution_count": null,
   "metadata": {},
   "outputs": [],
   "source": [
    "result = ln.Label.inspect(projects)"
   ]
  },
  {
   "cell_type": "code",
   "execution_count": null,
   "metadata": {
    "tags": [
     "hide-output"
    ]
   },
   "outputs": [],
   "source": [
    "new_labels = [ln.Label(name=name) for name in result.non_validated]\n",
    "ln.save(new_labels)\n",
    "new_labels"
   ]
  },
  {
   "cell_type": "markdown",
   "metadata": {},
   "source": [
    "## Validate features upon registering `File`/`Dataset`"
   ]
  },
  {
   "cell_type": "markdown",
   "metadata": {},
   "source": [
    "When calling `File.from_...` and `Dataset.from_...`, features are validated according to the data formats. Validated features create feature sets depending on slots."
   ]
  },
  {
   "cell_type": "markdown",
   "metadata": {},
   "source": [
    "Check out [use cases](https://lamin.ai/docs/by-datatype) of your favorite data type."
   ]
  },
  {
   "cell_type": "code",
   "execution_count": null,
   "metadata": {
    "tags": [
     "hide-output"
    ]
   },
   "outputs": [],
   "source": [
    "!lamin delete --force test-validate\n",
    "!rm -r test-validate"
   ]
  }
 ],
 "metadata": {
  "kernelspec": {
   "display_name": "py39",
   "language": "python",
   "name": "python3"
  },
  "language_info": {
   "codemirror_mode": {
    "name": "ipython",
    "version": 3
   },
   "file_extension": ".py",
   "mimetype": "text/x-python",
   "name": "python",
   "nbconvert_exporter": "python",
   "pygments_lexer": "ipython3",
   "version": "3.9.16"
  }
 },
 "nbformat": 4,
 "nbformat_minor": 2
}
