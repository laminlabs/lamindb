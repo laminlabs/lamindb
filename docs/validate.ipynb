{
 "cells": [
  {
   "cell_type": "markdown",
   "metadata": {},
   "source": [
    "# Validate data"
   ]
  },
  {
   "cell_type": "markdown",
   "metadata": {},
   "source": [
    "To make data more re-usable, LaminDB validates categorical variables when using registries ({class}`~lamindb.dev.CanValidate`) in addition to standard data validation. The process of data validation also includes curating non-validated data & amending registries."
   ]
  },
  {
   "cell_type": "markdown",
   "metadata": {},
   "source": [
    ":::{dropdown} What does \"validated\" mean?\n",
    "\n",
    "**Validated value** refer to _registered records_ of your working LaminDB instance. They are _categorical_ values exist in a specified _field_ (default to \"name\") of a _registry_.\n",
    "\n",
    "For instance, if \"Experiment 1\" has been registered as the \"name\" of a `ULabel` record, it is a validated value of the `ULabel.name`.\n",
    "\n",
    "{class}`~lamindb.dev.CanValidate` methods {meth}`~lamindb.dev.CanValidate.validate`, {meth}`~lamindb.dev.CanValidate.inspect`, {meth}`~lamindb.dev.CanValidate.standardize`, {meth}`~lamindb.dev.Registry.from_values` primarily take 2 arguments: \"values\" and \"field\". The argument \"values\" takes an iterable of input categorical values, and the argument \"field\" takes a typed field of a registry.\n",
    "\n",
    ":::\n",
    "\n",
    ":::{dropdown} What does \"Bionty-validated\" mean?\n",
    "\n",
    "{class}`~lamindb.dev.CanValidate` methods validate against the _in-house reference_, aka records in your instance.\n",
    "\n",
    "For {doc}`./bio-registries`, you can extend to validate against _public references_ using the {meth}`~lnschema_bionty.dev.BioRegistry.bionty` object: `bionty_object = Registry.bionty()`\n",
    "\n",
    "Note that {meth}`~lamindb.dev.Registry.from_values` is aware of Bionty.\n",
    "\n",
    ":::\n",
    "\n",
    ":::{dropdown} What to do for non-validated values?\n",
    "\n",
    "Be aware if you are working with a _newly initialized instance_, nothing is validated as no records have been registered previously.\n",
    "\n",
    "Run `inspect` to get instructions of how to register non-validated values. You may need to standardize your values, fix typos or simply register them.\n",
    "\n",
    ":::"
   ]
  },
  {
   "cell_type": "markdown",
   "metadata": {},
   "source": [
    "## Setup"
   ]
  },
  {
   "cell_type": "code",
   "execution_count": null,
   "metadata": {
    "tags": [
     "hide-output"
    ]
   },
   "outputs": [],
   "source": [
    "!lamin init --storage ./test-validate --schema bionty"
   ]
  },
  {
   "cell_type": "code",
   "execution_count": null,
   "metadata": {},
   "outputs": [],
   "source": [
    "import lamindb as ln\n",
    "import lnschema_bionty as lb\n",
    "import pandas as pd"
   ]
  },
  {
   "cell_type": "code",
   "execution_count": null,
   "metadata": {},
   "outputs": [],
   "source": [
    "ln.settings.verbosity = \"info\""
   ]
  },
  {
   "cell_type": "markdown",
   "metadata": {},
   "source": [
    "Pre-populate registries:"
   ]
  },
  {
   "cell_type": "code",
   "execution_count": null,
   "metadata": {
    "tags": [
     "hide-output"
    ]
   },
   "outputs": [],
   "source": [
    "df = pd.DataFrame({\"A\": 1, \"B\": 2}, index=[\"i1\"])\n",
    "ln.File(df, description=\"test data\").save()\n",
    "ln.ULabel(name=\"Project A\").save()\n",
    "ln.ULabel(name=\"Project B\").save()\n",
    "lb.Disease.from_bionty(ontology_id=\"MONDO:0004975\").save()"
   ]
  },
  {
   "cell_type": "markdown",
   "metadata": {},
   "source": [
    "## Standard validation"
   ]
  },
  {
   "cell_type": "markdown",
   "metadata": {},
   "source": [
    "### Name duplication"
   ]
  },
  {
   "cell_type": "markdown",
   "metadata": {},
   "source": [
    "Creating a record with the same name field automatically returns the existing record:"
   ]
  },
  {
   "cell_type": "code",
   "execution_count": null,
   "metadata": {},
   "outputs": [],
   "source": [
    "ln.ULabel(name=\"Project A\")"
   ]
  },
  {
   "cell_type": "markdown",
   "metadata": {},
   "source": [
    "Bulk creating records using {meth}`~lamindb.dev.Registry.from_values` only returns validated records:\n",
    "\n",
    "Note: Bionty-validated terms are also created with `.from_values`, see {doc}`/bio-registries` for details."
   ]
  },
  {
   "cell_type": "code",
   "execution_count": null,
   "metadata": {},
   "outputs": [],
   "source": [
    "projects = [\"Project A\", \"Project B\", \"Project D\", \"Project E\"]\n",
    "ln.ULabel.from_values(projects)"
   ]
  },
  {
   "cell_type": "markdown",
   "metadata": {},
   "source": [
    "(Versioned records also account for `version` in addition to `name`. Also see: [idempotency](faq/idempotency).)"
   ]
  },
  {
   "cell_type": "markdown",
   "metadata": {},
   "source": [
    "### Data duplication"
   ]
  },
  {
   "cell_type": "markdown",
   "metadata": {},
   "source": [
    "Creating a file or dataset with the same content automatically returns the existing record:"
   ]
  },
  {
   "cell_type": "code",
   "execution_count": null,
   "metadata": {},
   "outputs": [],
   "source": [
    "ln.File(df, description=\"same data\")"
   ]
  },
  {
   "cell_type": "markdown",
   "metadata": {},
   "source": [
    "### Schema-based validation"
   ]
  },
  {
   "cell_type": "markdown",
   "metadata": {},
   "source": [
    "Type checks, constraint checks, and [Django validators](https://docs.djangoproject.com/en/4.2/ref/validators/) can be configured in the [schema](https://lamin.ai/docs/schemas)."
   ]
  },
  {
   "cell_type": "markdown",
   "metadata": {},
   "source": [
    "## Registry-based validation\n",
    "\n",
    "{meth}`~lamindb.dev.CanValidate.validate` validates passed values against reference values in a registry.\n",
    "\n",
    "It returns a boolean vector indicating whether a value has an exact match in the reference values."
   ]
  },
  {
   "cell_type": "markdown",
   "metadata": {},
   "source": [
    "### Using dedicated registries\n",
    "\n",
    "For instance, {mod}`lnschema_bionty` types basic biological entities: every entity has its own registry, a Python class."
   ]
  },
  {
   "cell_type": "markdown",
   "metadata": {},
   "source": [
    "By default, the first string field is used for validation. For {class}`~lnschema_bionty.Disease`, it's `name`:"
   ]
  },
  {
   "cell_type": "code",
   "execution_count": null,
   "metadata": {},
   "outputs": [],
   "source": [
    "diseases = [\"Alzheimer disease\", \"Alzheimer's disease\", \"AD\"]\n",
    "validated = lb.Disease.validate(diseases)\n",
    "validated"
   ]
  },
  {
   "cell_type": "markdown",
   "metadata": {},
   "source": [
    "Validate against a non-default field:"
   ]
  },
  {
   "cell_type": "code",
   "execution_count": null,
   "metadata": {},
   "outputs": [],
   "source": [
    "lb.Disease.validate(\n",
    "    [\"MONDO:0004975\", \"MONDO:0004976\", \"MONDO:0004977\"], lb.Disease.ontology_id\n",
    ")"
   ]
  },
  {
   "cell_type": "markdown",
   "metadata": {},
   "source": [
    "### Using the `ULabel` registry\n",
    "\n",
    "Any entity that doesn't have its dedicated registry (\"is not typed\") can be validated & registered using {class}`~lamindb.ULabel`:"
   ]
  },
  {
   "cell_type": "code",
   "execution_count": null,
   "metadata": {},
   "outputs": [],
   "source": [
    "ln.ULabel.validate([\"Project A\", \"Project B\", \"Project C\"])"
   ]
  },
  {
   "cell_type": "markdown",
   "metadata": {},
   "source": [
    "## Inspect & standardize"
   ]
  },
  {
   "cell_type": "markdown",
   "metadata": {},
   "source": [
    "When validation fails, you can call {meth}`~lamindb.dev.CanValidate.inspect` to figure out what to do.\n",
    "\n",
    "{meth}`~lamindb.dev.CanValidate.inspect` applies the same definition of validation as {meth}`~lamindb.dev.CanValidate.validate`, but returns a rich return value {class}`~lamindb.dev.InspectResult`. Most importantly, it logs recommended curation steps that would render the data validated."
   ]
  },
  {
   "cell_type": "code",
   "execution_count": null,
   "metadata": {},
   "outputs": [],
   "source": [
    "result = lb.Disease.inspect(diseases)"
   ]
  },
  {
   "cell_type": "markdown",
   "metadata": {},
   "source": [
    "In this case, it suggests to call {meth}`~lamindb.dev.CanValidate.standardize` to standardize synonyms:"
   ]
  },
  {
   "cell_type": "code",
   "execution_count": null,
   "metadata": {},
   "outputs": [],
   "source": [
    "lb.Disease.standardize(result.non_validated)"
   ]
  },
  {
   "cell_type": "markdown",
   "metadata": {},
   "source": [
    "For more, see {doc}`./bio-registries`."
   ]
  },
  {
   "cell_type": "markdown",
   "metadata": {},
   "source": [
    "## Extend registries"
   ]
  },
  {
   "cell_type": "markdown",
   "metadata": {},
   "source": [
    "Sometimes, we simply want to register new records to extend the content of registries:"
   ]
  },
  {
   "cell_type": "code",
   "execution_count": null,
   "metadata": {},
   "outputs": [],
   "source": [
    "result = ln.ULabel.inspect(projects)"
   ]
  },
  {
   "cell_type": "code",
   "execution_count": null,
   "metadata": {
    "tags": [
     "hide-output"
    ]
   },
   "outputs": [],
   "source": [
    "new_labels = [ln.ULabel(name=name) for name in result.non_validated]\n",
    "ln.save(new_labels)\n",
    "new_labels"
   ]
  },
  {
   "cell_type": "markdown",
   "metadata": {},
   "source": [
    "## Validate features"
   ]
  },
  {
   "cell_type": "markdown",
   "metadata": {},
   "source": [
    "When calling `File.from_...` and `Dataset.from_...`, features are automatically validated.\n",
    "\n",
    "Validated features are grouped in \"feature sets\" indexed by \"slots\".\n",
    "\n",
    "For a basic example, see {doc}`/tutorial2`.\n",
    "\n",
    "For an overview of data formats used to model different data types, see {doc}`docs:by-datatype`."
   ]
  },
  {
   "cell_type": "code",
   "execution_count": null,
   "metadata": {
    "tags": [
     "hide-output"
    ]
   },
   "outputs": [],
   "source": [
    "!lamin delete --force test-validate\n",
    "!rm -r test-validate"
   ]
  }
 ],
 "metadata": {
  "kernelspec": {
   "display_name": "py39",
   "language": "python",
   "name": "python3"
  },
  "language_info": {
   "codemirror_mode": {
    "name": "ipython",
    "version": 3
   },
   "file_extension": ".py",
   "mimetype": "text/x-python",
   "name": "python",
   "nbconvert_exporter": "python",
   "pygments_lexer": "ipython3",
   "version": "3.9.16"
  }
 },
 "nbformat": 4,
 "nbformat_minor": 2
}
