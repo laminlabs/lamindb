{
 "cells": [
  {
   "attachments": {},
   "cell_type": "markdown",
   "metadata": {},
   "source": [
    "# Access public ontologies"
   ]
  },
  {
   "attachments": {},
   "cell_type": "markdown",
   "metadata": {},
   "source": [
    "Here we show how to access public knowledge in the form of public ontologies using [Bionty](https://github.com/laminlabs/bionty) with lamindb.\n",
    "\n",
    "- {doc}`genes`\n",
    "- {doc}`protein`\n",
    "- {doc}`organism`\n",
    "- {doc}`cell_line`\n",
    "- {doc}`cell_type`\n",
    "- {doc}`cell_marker`\n",
    "- {doc}`tissue`\n",
    "- {doc}`disease`\n",
    "- {doc}`phenotype`\n",
    "- {doc}`pathway`\n",
    "- {doc}`experimental_factor`\n",
    "- {doc}`developmental_stage`\n",
    "- {doc}`biosample`\n",
    "- {doc}`ethnicity`\n",
    "- {doc}`drug`\n",
    "- {doc}`bfxpipeline`\n",
    "\n",
    "Please refer to {doc}`bio-registries` to learn how to manage in-house knowledge."
   ]
  }
 ],
 "metadata": {
  "citation-manager": {
   "items": {}
  },
  "interpreter": {
   "hash": "ae1fefc8646a06dd2e75004cd934adda7c5727b046986a772e3b44b0ffba9754"
  },
  "kernelspec": {
   "display_name": "Python 3 (ipykernel)",
   "language": "python",
   "name": "python3"
  },
  "language_info": {
   "artifact_extension": ".py",
   "codemirror_mode": {
    "name": "ipython",
    "version": 3
   },
   "mimetype": "text/x-python",
   "name": "python",
   "nbconvert_exporter": "python",
   "pygments_lexer": "ipython3",
   "version": "3.10.13"
  },
  "vscode": {
   "interpreter": {
    "hash": "2775e555cdc2d728c54aa22130c79afb1fa4da64f22f2fc6dcc2aa346c4e0672"
   }
  }
 },
 "nbformat": 4,
 "nbformat_minor": 4
}
