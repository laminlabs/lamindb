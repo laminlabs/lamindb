{
 "cells": [
  {
   "cell_type": "markdown",
   "metadata": {},
   "source": [
    "[![Jupyter Notebook](https://img.shields.io/badge/Source%20on%20GitHub-orange)](https://github.com/laminlabs/lamindb/blob/main/docs/bio-registries.ipynb)"
   ]
  },
  {
   "cell_type": "markdown",
   "metadata": {},
   "source": [
    "# Manage biological registries "
   ]
  },
  {
   "cell_type": "markdown",
   "metadata": {},
   "source": [
    "This guide shows how to manage metadata for basic biological entities based on plugin {mod}`bionty`."
   ]
  },
  {
   "cell_type": "code",
   "execution_count": null,
   "metadata": {
    "tags": [
     "hide-output"
    ]
   },
   "outputs": [],
   "source": [
    "# !pip install 'lamindb[bionty]'\n",
    "!lamin init --storage ./test-registries --schema bionty"
   ]
  },
  {
   "cell_type": "code",
   "execution_count": null,
   "metadata": {},
   "outputs": [],
   "source": [
    "import lamindb as ln\n",
    "import bionty as bt"
   ]
  },
  {
   "cell_type": "markdown",
   "metadata": {},
   "source": [
    "## Seed registries with public ontologies\n",
    "\n",
    "Let's first populate our {class}`~bionty.CellType` registry with the configured public ontology (Cell Ontology):"
   ]
  },
  {
   "cell_type": "code",
   "execution_count": null,
   "metadata": {},
   "outputs": [],
   "source": [
    "# check configured public ontology\n",
    "bt.Source.filter(entity=\"bionty.CellType\", currently_used=True).one()"
   ]
  },
  {
   "cell_type": "code",
   "execution_count": null,
   "metadata": {},
   "outputs": [],
   "source": [
    "# populate the database with the public ontology\n",
    "bt.CellType.import_source()"
   ]
  },
  {
   "cell_type": "markdown",
   "metadata": {},
   "source": [
    "This is now your in-house CellType registry:"
   ]
  },
  {
   "cell_type": "code",
   "execution_count": null,
   "metadata": {
    "tags": [
     "hide-output"
    ]
   },
   "outputs": [],
   "source": [
    "# all public cell types are now available in LaminDB\n",
    "bt.CellType.df()"
   ]
  },
  {
   "cell_type": "code",
   "execution_count": null,
   "metadata": {},
   "outputs": [],
   "source": [
    "# similarly, let's populate the Gene registry with human and mouse genes\n",
    "bt.Gene.import_source(organism=\"human\")\n",
    "bt.Gene.import_source(organism=\"mouse\")"
   ]
  },
  {
   "cell_type": "markdown",
   "metadata": {},
   "source": [
    "## Access records in in-house registries"
   ]
  },
  {
   "cell_type": "markdown",
   "metadata": {},
   "source": [
    "Search key words:"
   ]
  },
  {
   "cell_type": "code",
   "execution_count": null,
   "metadata": {},
   "outputs": [],
   "source": [
    "bt.CellType.search(\"gamma-delta T\").df().head(2)"
   ]
  },
  {
   "cell_type": "markdown",
   "metadata": {},
   "source": [
    "Or look up with auto-complete:"
   ]
  },
  {
   "cell_type": "code",
   "execution_count": null,
   "metadata": {},
   "outputs": [],
   "source": [
    "cell_types = bt.CellType.lookup()\n",
    "hsc_record = cell_types.hematopoietic_stem_cell\n",
    "hsc_record"
   ]
  },
  {
   "cell_type": "markdown",
   "metadata": {},
   "source": [
    "Filter by fields and relationships:"
   ]
  },
  {
   "cell_type": "code",
   "execution_count": null,
   "metadata": {},
   "outputs": [],
   "source": [
    "gdt_cell = bt.CellType.get(ontology_id=\"CL:0000798\", created_by__handle=\"testuser1\")\n",
    "gdt_cell"
   ]
  },
  {
   "cell_type": "markdown",
   "metadata": {},
   "source": [
    "View the ontological hierarchy:"
   ]
  },
  {
   "cell_type": "code",
   "execution_count": null,
   "metadata": {},
   "outputs": [],
   "source": [
    "gdt_cell.view_parents()  # pass with_children=True to also view children"
   ]
  },
  {
   "cell_type": "markdown",
   "metadata": {},
   "source": [
    "Or access the parents and children directly:"
   ]
  },
  {
   "cell_type": "code",
   "execution_count": null,
   "metadata": {
    "tags": [
     "hide-output"
    ]
   },
   "outputs": [],
   "source": [
    "gdt_cell.parents.df()"
   ]
  },
  {
   "cell_type": "code",
   "execution_count": null,
   "metadata": {
    "tags": [
     "hide-output"
    ]
   },
   "outputs": [],
   "source": [
    "gdt_cell.children.df()"
   ]
  },
  {
   "cell_type": "markdown",
   "metadata": {},
   "source": [
    "It is also possible to recursively query parents or children, getting direct parents (children), their parents, and so forth."
   ]
  },
  {
   "cell_type": "code",
   "execution_count": null,
   "metadata": {
    "tags": [
     "hide-output"
    ]
   },
   "outputs": [],
   "source": [
    "gdt_cell.query_parents().df()"
   ]
  },
  {
   "cell_type": "code",
   "execution_count": null,
   "metadata": {
    "tags": [
     "hide-output"
    ]
   },
   "outputs": [],
   "source": [
    "gdt_cell.query_children().df()"
   ]
  },
  {
   "cell_type": "markdown",
   "metadata": {},
   "source": [
    "You can construct custom hierarchies of records:"
   ]
  },
  {
   "cell_type": "code",
   "execution_count": null,
   "metadata": {},
   "outputs": [],
   "source": [
    "# register a new cell type\n",
    "my_celltype = bt.CellType(name=\"my new T-cell subtype\").save()\n",
    "# specify \"gamma-delta T cell\" as a parent\n",
    "my_celltype.parents.add(gdt_cell)\n",
    "\n",
    "# visualize hierarchy\n",
    "gdt_cell.view_parents(distance=2, with_children=True)"
   ]
  },
  {
   "cell_type": "markdown",
   "metadata": {},
   "source": [
    "## Create records from values"
   ]
  },
  {
   "cell_type": "markdown",
   "metadata": {},
   "source": [
    "When accessing datasets, one often encounters bulk references to entities that might be corrupted or standardized using different standardization schemes.\n",
    "\n",
    "Let's consider an example based on an `AnnData` object, in the `cell_type` annotations of this `AnnData` object, we find 4 references to cell types:"
   ]
  },
  {
   "cell_type": "code",
   "execution_count": null,
   "metadata": {
    "tags": [
     "hide-output"
    ]
   },
   "outputs": [],
   "source": [
    "adata = ln.core.datasets.anndata_with_obs()\n",
    "adata.obs.cell_type.value_counts()"
   ]
  },
  {
   "cell_type": "markdown",
   "metadata": {},
   "source": [
    "We'd like to load the corresponding records in our in-house registry to annotate a dataset.\n",
    "\n",
    "To this end, you'll typically use {class}`~lamindb.core.CanCurate.from_values`, which will both validate & retrieve records that match the values."
   ]
  },
  {
   "cell_type": "code",
   "execution_count": null,
   "metadata": {
    "tags": [
     "hide-output"
    ]
   },
   "outputs": [],
   "source": [
    "cell_types = bt.CellType.from_values(adata.obs.cell_type)\n",
    "cell_types"
   ]
  },
  {
   "cell_type": "markdown",
   "metadata": {},
   "source": [
    "Logging informed us that 3 cell types were validated. Since we loaded these records at the same time, we could readily use them to annotate a dataset.\n",
    "\n",
    ":::{dropdown} What happened under-the-hood?\n",
    "\n",
    "`.from_values()` performs the following look ups:\n",
    "\n",
    "1. If registry records match the values, load these records\n",
    "2. If values match synonyms of registry records, load these records\n",
    "3. If no record in the registry matches, attempt to load records from a public ontology\n",
    "4. Same as 3. but based on synonyms\n",
    "\n",
    "No records will be returned if all 4 look ups are unsuccessful.\n",
    "\n",
    "Sometimes, it's useful to treat validated records differently from non-validated records. Here is a way:\n",
    "\n",
    "```\n",
    "original_values = [\"gut\", \"gut2\"]\n",
    "inspector = bt.Tissue.inspect(original_values)\n",
    "records_from_validated_values = bt.Tissue.from_values(inspector.validated)\n",
    "```\n",
    "\n",
    ":::\n"
   ]
  },
  {
   "cell_type": "markdown",
   "metadata": {},
   "source": [
    "Alternatively, we can retrieve records based on ontology ids:"
   ]
  },
  {
   "cell_type": "code",
   "execution_count": null,
   "metadata": {
    "tags": [
     "hide-output"
    ]
   },
   "outputs": [],
   "source": [
    "adata.obs.cell_type_id.unique().tolist()"
   ]
  },
  {
   "cell_type": "code",
   "execution_count": null,
   "metadata": {
    "tags": [
     "hide-output"
    ]
   },
   "outputs": [],
   "source": [
    "bt.CellType.from_values(adata.obs.cell_type_id, field=bt.CellType.ontology_id)"
   ]
  },
  {
   "cell_type": "markdown",
   "metadata": {},
   "source": [
    "## Validate & standardize"
   ]
  },
  {
   "cell_type": "markdown",
   "metadata": {},
   "source": [
    "Simple validation of an iterable of values works like so:"
   ]
  },
  {
   "cell_type": "code",
   "execution_count": null,
   "metadata": {
    "tags": [
     "hide-output"
    ]
   },
   "outputs": [],
   "source": [
    "bt.CellType.validate([\"fat cell\", \"blood forming stem cell\"])"
   ]
  },
  {
   "cell_type": "markdown",
   "metadata": {},
   "source": [
    "Because these values don't comply with the registry, they're not validated!\n",
    "\n",
    "You can easily convert these values to validated standardized names based on synonyms like so:"
   ]
  },
  {
   "cell_type": "code",
   "execution_count": null,
   "metadata": {
    "tags": [
     "hide-output"
    ]
   },
   "outputs": [],
   "source": [
    "bt.CellType.standardize([\"fat cell\", \"blood forming stem cell\"])"
   ]
  },
  {
   "cell_type": "markdown",
   "metadata": {},
   "source": [
    "Alternatively, you can use `.from_values()`, which will only ever return validated records and automatically standardize under-the-hood:"
   ]
  },
  {
   "cell_type": "code",
   "execution_count": null,
   "metadata": {
    "tags": [
     "hide-output"
    ]
   },
   "outputs": [],
   "source": [
    "bt.CellType.from_values([\"fat cell\", \"blood forming stem cell\"])"
   ]
  },
  {
   "cell_type": "markdown",
   "metadata": {},
   "source": [
    "If you are now sure what to do, use `.inspect()` to get instructions:"
   ]
  },
  {
   "cell_type": "code",
   "execution_count": null,
   "metadata": {
    "tags": [
     "hide-output"
    ]
   },
   "outputs": [],
   "source": [
    "bt.CellType.inspect([\"fat cell\", \"blood forming stem cell\"]);"
   ]
  },
  {
   "cell_type": "markdown",
   "metadata": {},
   "source": [
    "We can also add new synonyms to a record like so:"
   ]
  },
  {
   "cell_type": "code",
   "execution_count": null,
   "metadata": {},
   "outputs": [],
   "source": [
    "hsc_record.add_synonym(\"HSC\")"
   ]
  },
  {
   "cell_type": "markdown",
   "metadata": {},
   "source": [
    "And when we encounter this synonym as a value, it will now be standardized using synonyms-lookup, and mapped on the correct registry record:"
   ]
  },
  {
   "cell_type": "code",
   "execution_count": null,
   "metadata": {
    "tags": [
     "hide-output"
    ]
   },
   "outputs": [],
   "source": [
    "bt.CellType.standardize([\"HSC\"])"
   ]
  },
  {
   "cell_type": "markdown",
   "metadata": {},
   "source": [
    "A special synonym is `.abbr` (short for abbreviation), which has its own field and can be assigned via:"
   ]
  },
  {
   "cell_type": "code",
   "execution_count": null,
   "metadata": {},
   "outputs": [],
   "source": [
    "hsc_record.set_abbr(\"HSC\")"
   ]
  },
  {
   "cell_type": "markdown",
   "metadata": {},
   "source": [
    "You can create a lookup object from the `.abbr` field:"
   ]
  },
  {
   "cell_type": "code",
   "execution_count": null,
   "metadata": {
    "tags": [
     "hide-output"
    ]
   },
   "outputs": [],
   "source": [
    "cell_types = bt.CellType.lookup(\"abbr\")\n",
    "hsc = cell_types.hsc\n",
    "hsc"
   ]
  },
  {
   "cell_type": "markdown",
   "metadata": {},
   "source": [
    "The same workflow works for all of `bionty`'s registries."
   ]
  },
  {
   "cell_type": "markdown",
   "metadata": {},
   "source": [
    "## Manage registries across organisms"
   ]
  },
  {
   "cell_type": "markdown",
   "metadata": {},
   "source": [
    "Several registries are organism-aware (has a `.organism` field), for instance, {class}`~bionty.Gene`.\n",
    "\n",
    "In this case, API calls that interact with multi-organism registries require an `organism` argument when there's ambiguity."
   ]
  },
  {
   "cell_type": "markdown",
   "metadata": {},
   "source": [
    "For instance, when validating gene symbols:"
   ]
  },
  {
   "cell_type": "code",
   "execution_count": null,
   "metadata": {
    "tags": [
     "hide-output"
    ]
   },
   "outputs": [],
   "source": [
    "bt.Gene.validate([\"TCF7\", \"ABC1\"], organism=\"human\")"
   ]
  },
  {
   "cell_type": "markdown",
   "metadata": {},
   "source": [
    "In contrary, working with Ensembl Gene IDs doesn't require passing `organism`, as there's no ambiguity:"
   ]
  },
  {
   "cell_type": "code",
   "execution_count": null,
   "metadata": {},
   "outputs": [],
   "source": [
    "bt.Gene.validate([\"ENSG00000000419\", \"ENSMUSG00002076988\"], field=bt.Gene.ensembl_gene_id)"
   ]
  },
  {
   "cell_type": "markdown",
   "metadata": {},
   "source": [
    "When working with the same organism throughout your analysis/workflow, you can omit the `organism` argument by configuring it globally:"
   ]
  },
  {
   "cell_type": "code",
   "execution_count": null,
   "metadata": {},
   "outputs": [],
   "source": [
    "bt.settings.organism = \"mouse\"\n",
    "bt.Gene.from_source(symbol=\"Ap5b1\")"
   ]
  },
  {
   "cell_type": "markdown",
   "metadata": {},
   "source": [
    "## Track underlying ontology source versions"
   ]
  },
  {
   "cell_type": "markdown",
   "metadata": {},
   "source": [
    "Under-the-hood, source ontology versions are automatically tracked for each registry:"
   ]
  },
  {
   "cell_type": "code",
   "execution_count": null,
   "metadata": {
    "tags": [
     "hide-output"
    ]
   },
   "outputs": [],
   "source": [
    "bt.Source.filter(currently_used=True).df()"
   ]
  },
  {
   "cell_type": "markdown",
   "metadata": {},
   "source": [
    "Each record is linked to a versioned public source (if it was created from public):"
   ]
  },
  {
   "cell_type": "code",
   "execution_count": null,
   "metadata": {
    "tags": [
     "hide-output"
    ]
   },
   "outputs": [],
   "source": [
    "hepatocyte = bt.CellType.get(name=\"hepatocyte\")\n",
    "hepatocyte.source"
   ]
  },
  {
   "cell_type": "markdown",
   "metadata": {},
   "source": [
    "## Create records from specific source\n",
    "\n",
    "By default, new records are imported or created from the `\"currently_used\"` public sources which are configured during the instance initialization, e.g.:"
   ]
  },
  {
   "cell_type": "code",
   "execution_count": null,
   "metadata": {
    "tags": [
     "hide-output"
    ]
   },
   "outputs": [],
   "source": [
    "bt.Source.filter(entity=\"bionty.Phenotype\", currently_used=True).df()"
   ]
  },
  {
   "cell_type": "markdown",
   "metadata": {},
   "source": [
    "Sometimes, the default source doesn't contain the ontology term you are looking for.\n",
    "\n",
    "You can then specify to create a record from a non-default source. For instance, we can use the `ncbitaxon` ontology:"
   ]
  },
  {
   "cell_type": "code",
   "execution_count": null,
   "metadata": {},
   "outputs": [],
   "source": [
    "source = bt.Source.get(entity=\"bionty.Organism\", name=\"ncbitaxon\")\n",
    "source"
   ]
  },
  {
   "cell_type": "code",
   "execution_count": null,
   "metadata": {
    "tags": [
     "hide-output"
    ]
   },
   "outputs": [],
   "source": [
    "# validate against the NCBI Taxonomy\n",
    "bt.Organism.validate([\"iris setosa\", \"iris versicolor\", \"iris virginica\"], source=source)"
   ]
  },
  {
   "cell_type": "code",
   "execution_count": null,
   "metadata": {
    "tags": [
     "hide-output"
    ]
   },
   "outputs": [],
   "source": [
    "records = bt.Organism.from_values(\n",
    "    [\"iris setosa\", \"iris versicolor\", \"iris virginica\"], source=source\n",
    ")\n",
    "\n",
    "# since we didn't seed the Organism registry with the NCBITaxon public ontology\n",
    "# we need to save the records to the database\n",
    "ln.save(records)\n",
    "\n",
    "# now we can query a iris organism and view its parents and children\n",
    "iris = bt.Organism.get(name=\"iris\")\n",
    "iris.view_parents(with_children=True)"
   ]
  },
  {
   "cell_type": "code",
   "execution_count": null,
   "metadata": {
    "tags": [
     "hide-cell"
    ]
   },
   "outputs": [],
   "source": [
    "# clean up test instance\n",
    "!lamin delete --force test-registries"
   ]
  }
 ],
 "metadata": {
  "kernelspec": {
   "display_name": "lamindb",
   "language": "python",
   "name": "python3"
  },
  "language_info": {
   "codemirror_mode": {
    "name": "ipython",
    "version": 3
   },
   "file_extension": ".py",
   "mimetype": "text/x-python",
   "name": "python",
   "nbconvert_exporter": "python",
   "pygments_lexer": "ipython3",
   "version": "3.11.7"
  },
  "nbproject": {
   "id": "s7F7PezA1HdQ",
   "parent": null,
   "pypackage": null,
   "time_init": "2023-04-24T09:27:16.233423+00:00",
   "user_handle": "testuser1",
   "user_id": "DzTjkKse",
   "user_name": "Test User1",
   "version": "0"
  }
 },
 "nbformat": 4,
 "nbformat_minor": 2
}
