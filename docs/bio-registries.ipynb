{
 "cells": [
  {
   "cell_type": "markdown",
   "metadata": {},
   "source": [
    "[![Jupyter Notebook](https://img.shields.io/badge/Jupyter%20Notebook-orange)](https://github.com/laminlabs/lamindb/blob/main/docs/bio-registries.ipynb)"
   ]
  },
  {
   "attachments": {},
   "cell_type": "markdown",
   "metadata": {},
   "source": [
    "# Manage biological registries "
   ]
  },
  {
   "attachments": {},
   "cell_type": "markdown",
   "metadata": {},
   "source": [
    "Registries can anchor dry & wetlab work by providing reference values for basic entities.\n",
    "\n",
    "In LaminDB, registries are standard SQL tables, equipped with [mechanisms that avoid typos & duplicated data](/faq/idempotency).\n",
    "\n",
    "In addition, LaminDB makes it easy to import records from public ontologies, based on plug-in {mod}`lnschema_bionty`.\n",
    "\n",
    "With this, you can manage an in-house ontology anchored in public knowledge & experimental design; all through the same API and stored in a simple SQL database."
   ]
  },
  {
   "cell_type": "markdown",
   "metadata": {},
   "source": [
    "## Setup"
   ]
  },
  {
   "attachments": {},
   "cell_type": "markdown",
   "metadata": {},
   "source": [
    "Let us create an instance that has {mod}`lnschema_bionty` mounted:"
   ]
  },
  {
   "cell_type": "code",
   "execution_count": null,
   "metadata": {
    "tags": [
     "hide-output"
    ]
   },
   "outputs": [],
   "source": [
    "!lamin init --storage ./test-registries --schema bionty"
   ]
  },
  {
   "cell_type": "code",
   "execution_count": null,
   "metadata": {},
   "outputs": [],
   "source": [
    "import lamindb as ln\n",
    "import lnschema_bionty as lb"
   ]
  },
  {
   "cell_type": "code",
   "execution_count": null,
   "metadata": {},
   "outputs": [],
   "source": [
    "ln.settings.verbosity = \"info\""
   ]
  },
  {
   "cell_type": "markdown",
   "metadata": {},
   "source": [
    "Let's pre-populate the cell type registry with a few records:"
   ]
  },
  {
   "cell_type": "code",
   "execution_count": null,
   "metadata": {
    "tags": [
     "hide-output"
    ]
   },
   "outputs": [],
   "source": [
    "lb.Species.from_bionty(name=\"human\").save()\n",
    "lb.CellType.from_bionty(name=\"T cell\").save()\n",
    "lb.CellType(name=\"my T cell subtype\").save()"
   ]
  },
  {
   "attachments": {},
   "cell_type": "markdown",
   "metadata": {},
   "source": [
    "## Access records in public ontologies"
   ]
  },
  {
   "attachments": {},
   "cell_type": "markdown",
   "metadata": {},
   "source": [
    "We start with a public ontology for cell types.\n",
    "\n",
    "[Bionty](https://lamin.ai/docs/bionty/bionty.bionty) - short for \"biological entity\" - is a class for accessing public ontologies.\n",
    "\n",
    "Bionty wraps low-level packages like [pronto](https://github.com/althonos/pronto) to provide simple access to curated public knowledge assets that Lamin hosts for reliable and performant access.\n",
    "\n",
    "If you don't need to manage in-house registries, you can also use the [bionty](https://lamin.ai/docs/bionty) Python package standalone.\n",
    "\n",
    "Let's create a `Bionty` object:"
   ]
  },
  {
   "cell_type": "code",
   "execution_count": null,
   "metadata": {
    "tags": [
     "hide-output"
    ]
   },
   "outputs": [],
   "source": [
    "bionty = lb.CellType.bionty()"
   ]
  },
  {
   "cell_type": "code",
   "execution_count": null,
   "metadata": {},
   "outputs": [],
   "source": [
    "bionty"
   ]
  },
  {
   "attachments": {},
   "cell_type": "markdown",
   "metadata": {},
   "source": [
    "We can use it to search the public ontology against cell types:"
   ]
  },
  {
   "cell_type": "code",
   "execution_count": null,
   "metadata": {},
   "outputs": [],
   "source": [
    "bionty.search(\"gamma delta T cell\").head(3)"
   ]
  },
  {
   "attachments": {},
   "cell_type": "markdown",
   "metadata": {},
   "source": [
    "And we can also use it to look up cell types with auto-complete:"
   ]
  },
  {
   "cell_type": "code",
   "execution_count": null,
   "metadata": {},
   "outputs": [],
   "source": [
    "lookup = bionty.lookup()\n",
    "lookup.gamma_delta_t_cell"
   ]
  },
  {
   "attachments": {},
   "cell_type": "markdown",
   "metadata": {},
   "source": [
    "## Create records in in-house ontologies"
   ]
  },
  {
   "attachments": {},
   "cell_type": "markdown",
   "metadata": {},
   "source": [
    "We can now create a record for our in-house SQL registry by passing the result of the lookup in the public ontology to the `CellType` constructor:"
   ]
  },
  {
   "cell_type": "code",
   "execution_count": null,
   "metadata": {},
   "outputs": [],
   "source": [
    "gdt_cell = lb.CellType(lookup.gamma_delta_t_cell)"
   ]
  },
  {
   "cell_type": "markdown",
   "metadata": {},
   "source": [
    "(Alternatively, we could construct the gamma delta T cell via {meth}`~lnschema_bionty.dev.BioRegistry.from_bionty`, which is synonyms-aware.)"
   ]
  },
  {
   "cell_type": "code",
   "execution_count": null,
   "metadata": {},
   "outputs": [],
   "source": [
    "gdt_cell"
   ]
  },
  {
   "attachments": {},
   "cell_type": "markdown",
   "metadata": {},
   "source": [
    "When we save this record to the registry, logging informs us that we're also saving parent ontological terms:"
   ]
  },
  {
   "cell_type": "code",
   "execution_count": null,
   "metadata": {
    "tags": [
     "hide-output"
    ]
   },
   "outputs": [],
   "source": [
    "gdt_cell.save()"
   ]
  },
  {
   "cell_type": "markdown",
   "metadata": {},
   "source": [
    "```{dropdown} Will I always see parents being saved?\n",
    "\n",
    "No, this only happens a single time.\n",
    "\n",
    "- If we accidentally save the same record again, it will be recognized that the record and all parents are already in the registry.\n",
    "- If we save another record that has overlapping parents, only new parents will be saved.\n",
    "\n",
    "```"
   ]
  },
  {
   "cell_type": "markdown",
   "metadata": {},
   "source": [
    "View the ontological hierarchy:"
   ]
  },
  {
   "cell_type": "code",
   "execution_count": null,
   "metadata": {},
   "outputs": [],
   "source": [
    "gdt_cell.view_parents()"
   ]
  },
  {
   "cell_type": "markdown",
   "metadata": {},
   "source": [
    "Or access the parents directly:"
   ]
  },
  {
   "cell_type": "code",
   "execution_count": null,
   "metadata": {},
   "outputs": [],
   "source": [
    "gdt_cell.parents.df()"
   ]
  },
  {
   "cell_type": "markdown",
   "metadata": {},
   "source": [
    "You can construct custom hierarchies of terms by specifying parents:"
   ]
  },
  {
   "cell_type": "code",
   "execution_count": null,
   "metadata": {},
   "outputs": [],
   "source": [
    "my_celltype = lb.CellType.filter(name=\"my T cell subtype\").one()\n",
    "my_celltype.parents.add(gdt_cell)"
   ]
  },
  {
   "cell_type": "code",
   "execution_count": null,
   "metadata": {},
   "outputs": [],
   "source": [
    "gdt_cell.view_parents(distance=2, with_children=True)"
   ]
  },
  {
   "attachments": {},
   "cell_type": "markdown",
   "metadata": {},
   "source": [
    "This cell type and all its parents can now be queried & searched in the registry using `lb.CellType.filter` and `lb.CellType.search`."
   ]
  },
  {
   "attachments": {},
   "cell_type": "markdown",
   "metadata": {},
   "source": [
    "## Validate records from external data sources"
   ]
  },
  {
   "attachments": {},
   "cell_type": "markdown",
   "metadata": {},
   "source": [
    "In data sources, one often receives bulk references to entities that might be corrupted or follow a different standardization scheme.\n",
    "\n",
    "Let's consider an example based on an `AnnData` object:"
   ]
  },
  {
   "cell_type": "code",
   "execution_count": null,
   "metadata": {
    "tags": [
     "hide-output"
    ]
   },
   "outputs": [],
   "source": [
    "adata = ln.dev.datasets.anndata_with_obs()"
   ]
  },
  {
   "cell_type": "markdown",
   "metadata": {},
   "source": [
    "In the `cell_type` annotations of this `AnnData` object, we find 4 references to cell types:"
   ]
  },
  {
   "cell_type": "code",
   "execution_count": null,
   "metadata": {},
   "outputs": [],
   "source": [
    "adata.obs.cell_type.value_counts()"
   ]
  },
  {
   "cell_type": "markdown",
   "metadata": {},
   "source": [
    "We'd like to bulk-validate them to ensure that they match our in-house ontology.\n",
    "\n",
    "In LaminDB, you'll typically use {class}`~lamindb.dev.Registry.from_values` to this end, which will both validate & load the matching records from the in-house registry or the default public reference."
   ]
  },
  {
   "cell_type": "code",
   "execution_count": null,
   "metadata": {},
   "outputs": [],
   "source": [
    "cell_types = lb.CellType.from_values(adata.obs.cell_type)\n",
    "\n",
    "cell_types"
   ]
  },
  {
   "attachments": {},
   "cell_type": "markdown",
   "metadata": {},
   "source": [
    "Logging informed us that all 4 cell types are validated. Because we created these records at the same time, we can use them to annotate a batch of data.\n",
    "\n",
    ":::{dropdown} What happened under-the-hood?\n",
    "\n",
    "`.from_values()` performs the following look ups:\n",
    "\n",
    "1. If registry records match the values, load these records\n",
    "2. If values match synonyms of registry records, load these records\n",
    "3. (`lnschema_bionty`-only) If no record in the registry matches, attempt to load records from a public reference through Bionty\n",
    "4. (`lnschema_bionty`-only) Same as 3. but based on synonyms\n",
    "\n",
    "No records will be returned if input field values aren't mappable.\n",
    "\n",
    "Example:\n",
    "\n",
    "```\n",
    "celltype_names = [\n",
    "    \"gamma-delta T cell\",  # existing record with the same name\n",
    "    \"T lymphocyte\",  # existing record with synonym\n",
    "    \"hepatocyte\",  # Bionty record with the same name\n",
    "    \"HSC\",  # Bionty record with synonym\n",
    "    \"my new cell type\",  # Not exist in DB, not exist in Bionty\n",
    "]\n",
    "lb.CellType.from_values(celltype_names)\n",
    "```\n",
    "\n",
    "This returns records for all names except from \"my new cell type\".\n",
    "\n",
    "If you'd like to add this new value to the registry, do it like so:\n",
    "\n",
    "```\n",
    "my_celltype = lb.CellType(name=\"my new cell type\")\n",
    "my_celltype.save()\n",
    "```\n",
    "\n",
    ":::\n"
   ]
  },
  {
   "attachments": {},
   "cell_type": "markdown",
   "metadata": {},
   "source": [
    "Alternatively, we can create entries based on ontology ids:"
   ]
  },
  {
   "cell_type": "code",
   "execution_count": null,
   "metadata": {},
   "outputs": [],
   "source": [
    "adata.obs.cell_type_id.unique().tolist()"
   ]
  },
  {
   "cell_type": "code",
   "execution_count": null,
   "metadata": {},
   "outputs": [],
   "source": [
    "lb.CellType.from_values(adata.obs.cell_type_id, field=lb.CellType.ontology_id)"
   ]
  },
  {
   "attachments": {},
   "cell_type": "markdown",
   "metadata": {},
   "source": [
    "If we're happy with `cell_types` records (in particular, are sure that \"my new cell type\" needs to be added to the DB), we save them to the DB in one transaction:"
   ]
  },
  {
   "cell_type": "code",
   "execution_count": null,
   "metadata": {
    "tags": [
     "hide-output"
    ]
   },
   "outputs": [],
   "source": [
    "ln.save(cell_types)"
   ]
  },
  {
   "attachments": {},
   "cell_type": "markdown",
   "metadata": {},
   "source": [
    "Now let's check out our in-house registry:"
   ]
  },
  {
   "cell_type": "code",
   "execution_count": null,
   "metadata": {
    "tags": [
     "hide-output"
    ]
   },
   "outputs": [],
   "source": [
    "lb.CellType.filter().df()"
   ]
  },
  {
   "attachments": {},
   "cell_type": "markdown",
   "metadata": {},
   "source": [
    "## Access records in-house ontologies"
   ]
  },
  {
   "cell_type": "code",
   "execution_count": null,
   "metadata": {},
   "outputs": [],
   "source": [
    "lb.CellType.search(\"gamma delta T cell\").head(2)"
   ]
  },
  {
   "cell_type": "code",
   "execution_count": null,
   "metadata": {},
   "outputs": [],
   "source": [
    "celltype_db_lookup = lb.CellType.lookup()"
   ]
  },
  {
   "cell_type": "code",
   "execution_count": null,
   "metadata": {},
   "outputs": [],
   "source": [
    "hsc_record = celltype_db_lookup.hematopoietic_stem_cell"
   ]
  },
  {
   "cell_type": "code",
   "execution_count": null,
   "metadata": {},
   "outputs": [],
   "source": [
    "hsc_record"
   ]
  },
  {
   "attachments": {},
   "cell_type": "markdown",
   "metadata": {},
   "source": [
    "## Standardize names & add synonyms"
   ]
  },
  {
   "cell_type": "markdown",
   "metadata": {},
   "source": [
    "```{important}\n",
    "\n",
    "While records creation via `Registry.from_values()` is synonyms aware; `.validate()` is not.\n",
    "\n",
    "In order to pass validation, run `.standardize()` so that only validated terms are associated with your data.\n",
    "```"
   ]
  },
  {
   "cell_type": "code",
   "execution_count": null,
   "metadata": {},
   "outputs": [],
   "source": [
    "# synonyms aware\n",
    "lb.CellType.from_values([\"HSC\", \"blood forming stem cell\"])"
   ]
  },
  {
   "cell_type": "code",
   "execution_count": null,
   "metadata": {},
   "outputs": [],
   "source": [
    "# synonyms are not validated\n",
    "lb.CellType.validate([\"HSC\", \"blood forming stem cell\"]);"
   ]
  },
  {
   "attachments": {},
   "cell_type": "markdown",
   "metadata": {},
   "source": [
    "Convert synonyms to standardized names:"
   ]
  },
  {
   "cell_type": "code",
   "execution_count": null,
   "metadata": {},
   "outputs": [],
   "source": [
    "lb.CellType.standardize([\"HSC\", \"blood forming stem cell\"])"
   ]
  },
  {
   "attachments": {},
   "cell_type": "markdown",
   "metadata": {},
   "source": [
    "Add a new synonym to a record:"
   ]
  },
  {
   "cell_type": "code",
   "execution_count": null,
   "metadata": {},
   "outputs": [],
   "source": [
    "hsc_record.add_synonym(\"HSCs\")"
   ]
  },
  {
   "attachments": {},
   "cell_type": "markdown",
   "metadata": {},
   "source": [
    "Now this new synonym can also be mapped:"
   ]
  },
  {
   "cell_type": "code",
   "execution_count": null,
   "metadata": {},
   "outputs": [],
   "source": [
    "lb.CellType.standardize([\"HSCs\"])"
   ]
  },
  {
   "cell_type": "markdown",
   "metadata": {},
   "source": [
    "A special synonym is \"abbr\" (abbreviation), which has its own field and can be assigned via:"
   ]
  },
  {
   "cell_type": "code",
   "execution_count": null,
   "metadata": {},
   "outputs": [],
   "source": [
    "hsc_record.set_abbr(\"HSC\")"
   ]
  },
  {
   "cell_type": "markdown",
   "metadata": {},
   "source": [
    "Similarly, users can create a lookup object from abbr field:"
   ]
  },
  {
   "cell_type": "code",
   "execution_count": null,
   "metadata": {},
   "outputs": [],
   "source": [
    "celltype_db_lookup = lb.CellType.lookup(\"abbr\")\n",
    "hsc_record = celltype_db_lookup.hsc\n",
    "hsc_record"
   ]
  },
  {
   "cell_type": "markdown",
   "metadata": {},
   "source": [
    "The same workflow works for all of `lnschema_bionty`'s ORMs."
   ]
  },
  {
   "cell_type": "markdown",
   "metadata": {},
   "source": [
    "## Manage registries across species"
   ]
  },
  {
   "cell_type": "markdown",
   "metadata": {},
   "source": [
    "Multi-species ORMs are species aware, for instance, `Gene`:"
   ]
  },
  {
   "cell_type": "code",
   "execution_count": null,
   "metadata": {},
   "outputs": [],
   "source": [
    "lb.Gene.from_bionty(\n",
    "    symbol=\"TCF7\", species=\"human\"  # error is raised without passing species\n",
    ")"
   ]
  },
  {
   "cell_type": "markdown",
   "metadata": {},
   "source": [
    "Similarly, API calls that interacts with multi-species registries accept a `species` argument, e.g.:"
   ]
  },
  {
   "cell_type": "code",
   "execution_count": null,
   "metadata": {
    "tags": [
     "hide-output"
    ]
   },
   "outputs": [],
   "source": [
    "lb.Gene.validate([\"TCF7\", \"ABC1\"], species=\"human\");"
   ]
  },
  {
   "cell_type": "markdown",
   "metadata": {},
   "source": [
    "Or specify species for validating features upon registering data: `ln.File.from_anndata(..., field=lb.Gene.ensembl_gene_id, species=...)`"
   ]
  },
  {
   "cell_type": "markdown",
   "metadata": {},
   "source": [
    "When working with the same species throughout your analysis/workflow, you can omit the `species` argument by configuring it globally:"
   ]
  },
  {
   "cell_type": "code",
   "execution_count": null,
   "metadata": {},
   "outputs": [],
   "source": [
    "lb.settings.species = \"mouse\""
   ]
  },
  {
   "cell_type": "code",
   "execution_count": null,
   "metadata": {},
   "outputs": [],
   "source": [
    "lb.Gene.from_bionty(symbol=\"Ap5b1\")"
   ]
  },
  {
   "attachments": {},
   "cell_type": "markdown",
   "metadata": {},
   "source": [
    "## Track underlying ontology versions"
   ]
  },
  {
   "attachments": {},
   "cell_type": "markdown",
   "metadata": {},
   "source": [
    "Under-the-hood, ontology sources are automatically tracked:"
   ]
  },
  {
   "cell_type": "code",
   "execution_count": null,
   "metadata": {
    "tags": [
     "hide-output"
    ]
   },
   "outputs": [],
   "source": [
    "lb.BiontySource.filter(currently_used=True).df()"
   ]
  },
  {
   "attachments": {},
   "cell_type": "markdown",
   "metadata": {},
   "source": [
    "Each record is linked to a versioned bionty source (if it was created from bionty):"
   ]
  },
  {
   "cell_type": "code",
   "execution_count": null,
   "metadata": {},
   "outputs": [],
   "source": [
    "cell_type_record = lb.CellType.filter(name=\"hepatocyte\").one()\n",
    "cell_type_record.bionty_source"
   ]
  },
  {
   "cell_type": "markdown",
   "metadata": {},
   "source": [
    "## Create records from specific public ontologies\n",
    "\n",
    "By default, records are created from the \"currently_used\" bionty_sources which was configured during the instance initialization."
   ]
  },
  {
   "cell_type": "code",
   "execution_count": null,
   "metadata": {},
   "outputs": [],
   "source": [
    "lb.Phenotype.bionty()"
   ]
  },
  {
   "cell_type": "markdown",
   "metadata": {},
   "source": [
    "Sometimes the default source doesn't contain the ontology term you are looking for. You may specify to create a record from a non-default source:"
   ]
  },
  {
   "cell_type": "code",
   "execution_count": null,
   "metadata": {},
   "outputs": [],
   "source": [
    "bionty_source = lb.BiontySource.filter(entity=\"Phenotype\", source=\"pato\").one()\n",
    "record = lb.Phenotype.from_bionty(name=\"age\", bionty_source=bionty_source)\n",
    "record"
   ]
  },
  {
   "cell_type": "code",
   "execution_count": null,
   "metadata": {},
   "outputs": [],
   "source": [
    "record.bionty_source"
   ]
  },
  {
   "cell_type": "markdown",
   "metadata": {},
   "source": [
    "Similarly, pass `bionty_source` to bulk create records from a non-default source:"
   ]
  },
  {
   "cell_type": "code",
   "execution_count": null,
   "metadata": {},
   "outputs": [],
   "source": [
    "records = lb.Phenotype.from_values([\"age\", \"life span\"], bionty_source=bionty_source)\n",
    "records"
   ]
  },
  {
   "cell_type": "code",
   "execution_count": null,
   "metadata": {
    "tags": [
     "hide-cell"
    ]
   },
   "outputs": [],
   "source": [
    "!lamin delete --force test-registries\n",
    "!rm -r test-registries"
   ]
  }
 ],
 "metadata": {
  "kernelspec": {
   "display_name": "py39",
   "language": "python",
   "name": "python3"
  },
  "language_info": {
   "codemirror_mode": {
    "name": "ipython",
    "version": 3
   },
   "file_extension": ".py",
   "mimetype": "text/x-python",
   "name": "python",
   "nbconvert_exporter": "python",
   "pygments_lexer": "ipython3",
   "version": "3.9.16"
  },
  "nbproject": {
   "id": "s7F7PezA1HdQ",
   "parent": null,
   "pypackage": null,
   "time_init": "2023-04-24T09:27:16.233423+00:00",
   "user_handle": "testuser1",
   "user_id": "DzTjkKse",
   "user_name": "Test User1",
   "version": "0"
  }
 },
 "nbformat": 4,
 "nbformat_minor": 2
}
