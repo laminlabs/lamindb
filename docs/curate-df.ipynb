{
 "cells": [
  {
   "cell_type": "markdown",
   "id": "1d2cd769",
   "metadata": {},
   "source": [
    "# Curate DataFrame and AnnData objects\n",
    "\n",
    "When we talk about \"curating datasets\", we typically mean three distinct actions:\n",
    "\n",
    "1. Validate: ensure a dataset meets predefined validation criteria\n",
    "2. Standardize: transform a dataset so that it meets validation criteria, e.g., by fixing typos or using standardized identifiers\n",
    "3. Annotate: link a dataset against metadata records\n",
    "\n",
    "## Key Concepts\n",
    "\n",
    "- **Registries** store valid metadata records. For instance, if the string `\"Experiment 1\"` was registered as the `name` of a `ULabel` record, it's going to pass validation against `ULabel.name`.\n",
    "\n",
    "- **Artifacts**: These are the data objects that you manage with LaminDB. Artifacts can be validated & curated with metadata records from registries."
   ]
  },
  {
   "cell_type": "code",
   "execution_count": null,
   "id": "74008c61",
   "metadata": {
    "tags": [
     "hide-output"
    ]
   },
   "outputs": [],
   "source": [
    "#! pip install 'lamindb[bionty]'\n",
    "!lamin init --storage ./test-curate --schema bionty"
   ]
  },
  {
   "cell_type": "code",
   "execution_count": null,
   "id": "a691aae0",
   "metadata": {},
   "outputs": [],
   "source": [
    "import lamindb as ln\n",
    "import bionty as bt\n",
    "import pandas as pd\n",
    "import anndata as ad"
   ]
  },
  {
   "cell_type": "markdown",
   "id": "946a3371",
   "metadata": {},
   "source": [
    "## Validate and standardize metadata from a DataFrame"
   ]
  },
  {
   "cell_type": "markdown",
   "id": "52bbbac2",
   "metadata": {},
   "source": [
    "Let's start with a DataFrame that we'd like to validate:"
   ]
  },
  {
   "cell_type": "code",
   "execution_count": null,
   "id": "6e313088",
   "metadata": {
    "tags": [
     "hide-output"
    ]
   },
   "outputs": [],
   "source": [
    "df = pd.DataFrame({\n",
    "    \"temperature\": [37.2, 36.3, 38.2],\n",
    "    \"cell_type\": [\"cerebral pyramidal neuron\", \"astrocyte\", \"oligodendrocyte\"],\n",
    "    \"assay_ontology_id\": [\"EFO:0008913\", \"EFO:0008913\", \"EFO:0008913\"],\n",
    "    \"donor\": [\"D0001\", \"D0002\", \"DOOO3\"],\n",
    "})\n",
    "df"
   ]
  },
  {
   "cell_type": "markdown",
   "id": "c7d74af9",
   "metadata": {},
   "source": [
    "First, let's define the validation criteria:"
   ]
  },
  {
   "cell_type": "code",
   "execution_count": null,
   "id": "cfb3492d",
   "metadata": {
    "tags": [
     "hide-output"
    ]
   },
   "outputs": [],
   "source": [
    "# define validation criteria for categorical variables\n",
    "# in the dictionary, each key is a column name of the dataframe, and each value is a registry field onto which values are mapped\n",
    "categoricals = {\n",
    "    \"cell_type\": bt.CellType.name,\n",
    "    \"assay_ontology_id\": bt.ExperimentalFactor.ontology_id,\n",
    "    \"donor\": ln.ULabel.name,\n",
    "}\n",
    "\n",
    "# create an Curate object to guide validation and annotation\n",
    "# this object will use our DataFrame and the defined categorical criteria\n",
    "curate = ln.Curate.from_df(df, categoricals=categoricals)"
   ]
  },
  {
   "cell_type": "markdown",
   "id": "804ae191",
   "metadata": {},
   "source": [
    "The `validate()` method checks our data against the defined criteria. It identifies which values are already validated (exist in our registries) and which are new or potentially problematic."
   ]
  },
  {
   "cell_type": "code",
   "execution_count": null,
   "id": "1132efd8",
   "metadata": {
    "tags": [
     "hide-output"
    ]
   },
   "outputs": [],
   "source": [
    "curate.validate()"
   ]
  },
  {
   "cell_type": "markdown",
   "id": "7c157df6",
   "metadata": {},
   "source": [
    "## Register new metadata values\n",
    "\n",
    "If you see any \"non-validated\" values, you'll need to decide whether to add them to your registries or correct them in your data.\n",
    "\n",
    "Because our current database instance is empty, here, we'll add values to the registries defined in the validation criteria."
   ]
  },
  {
   "cell_type": "code",
   "execution_count": null,
   "id": "65bb5e39",
   "metadata": {},
   "outputs": [],
   "source": [
    "# this adds assays that were validated (via a public ontology)\n",
    "curate.add_validated_from(\"assay_ontology_id\")"
   ]
  },
  {
   "cell_type": "code",
   "execution_count": null,
   "id": "bcb388d8",
   "metadata": {
    "tags": [
     "hide-output"
    ]
   },
   "outputs": [],
   "source": [
    "# this adds cell types that were _not_ validated\n",
    "curate.add_new_from(\"cell_type\")"
   ]
  },
  {
   "cell_type": "code",
   "execution_count": null,
   "id": "ea6b82b8",
   "metadata": {
    "tags": [
     "hide-output"
    ]
   },
   "outputs": [],
   "source": [
    "# use a lookup object to get the correct spelling of categories from a public reference\n",
    "lookup = curate.lookup(\"public\")\n",
    "lookup"
   ]
  },
  {
   "cell_type": "code",
   "execution_count": null,
   "id": "4c98914a",
   "metadata": {
    "tags": [
     "hide-output"
    ]
   },
   "outputs": [],
   "source": [
    "cell_types = lookup[df.cell_type.name]\n",
    "cell_types.cerebral_cortex_pyramidal_neuron"
   ]
  },
  {
   "cell_type": "code",
   "execution_count": null,
   "id": "b06c7875",
   "metadata": {
    "tags": [
     "hide-output"
    ]
   },
   "outputs": [],
   "source": [
    "# curate the cell type\n",
    "df.cell_type = df.cell_type.replace({\"cerebral pyramidal neuron\": cell_types.cerebral_cortex_pyramidal_neuron.name})\n",
    "# register validated cell types\n",
    "curate.add_validated_from(df.cell_type.name)"
   ]
  },
  {
   "cell_type": "code",
   "execution_count": null,
   "id": "13cec5d4",
   "metadata": {
    "tags": [
     "hide-output"
    ]
   },
   "outputs": [],
   "source": [
    "# register non-validated donors\n",
    "curate.add_new_from(df.donor.name)"
   ]
  },
  {
   "cell_type": "code",
   "execution_count": null,
   "id": "1a90599b",
   "metadata": {
    "tags": [
     "hide-output"
    ]
   },
   "outputs": [],
   "source": [
    "# validate again\n",
    "validated = curate.validate()\n",
    "validated"
   ]
  },
  {
   "cell_type": "markdown",
   "id": "b9d09a10",
   "metadata": {},
   "source": [
    "## Validate an AnnData object\n",
    "\n",
    "Here we addtionally specify which `var_fields` to validate against."
   ]
  },
  {
   "cell_type": "code",
   "execution_count": null,
   "id": "15d7b858",
   "metadata": {
    "tags": [
     "hide-output"
    ]
   },
   "outputs": [],
   "source": [
    "df.index = [\"obs1\", \"obs2\", \"obs3\"]\n",
    "\n",
    "X = pd.DataFrame({\"TCF7\": [1, 2, 3], \"PDCD1\": [4, 5, 6], \"CD3E\": [7, 8, 9], \"CD4\": [10, 11, 12], \"CD8A\": [13, 14, 15]}, index=[\"obs1\", \"obs2\", \"obs3\"])\n",
    "\n",
    "adata = ad.AnnData(X=X, obs=df)\n",
    "adata"
   ]
  },
  {
   "cell_type": "code",
   "execution_count": null,
   "id": "19e7b8ca",
   "metadata": {
    "tags": [
     "hide-output"
    ]
   },
   "outputs": [],
   "source": [
    "curate = ln.Curate.from_anndata(\n",
    "    adata, \n",
    "    var_index=bt.Gene.symbol,\n",
    "    categoricals=categoricals, \n",
    "    organism=\"human\",\n",
    ")"
   ]
  },
  {
   "cell_type": "code",
   "execution_count": null,
   "id": "e8d8cee5",
   "metadata": {
    "tags": [
     "hide-output"
    ]
   },
   "outputs": [],
   "source": [
    "curate.validate()"
   ]
  },
  {
   "cell_type": "code",
   "execution_count": null,
   "id": "7877c058",
   "metadata": {
    "tags": [
     "hide-output"
    ]
   },
   "outputs": [],
   "source": [
    "curate.add_validated_from(\"all\")"
   ]
  },
  {
   "cell_type": "code",
   "execution_count": null,
   "id": "0e139bda",
   "metadata": {
    "tags": [
     "hide-output"
    ]
   },
   "outputs": [],
   "source": [
    "curate.validate()"
   ]
  },
  {
   "cell_type": "markdown",
   "id": "38a30170",
   "metadata": {},
   "source": [
    "## Save a curated artifact"
   ]
  },
  {
   "cell_type": "markdown",
   "id": "a814ef37",
   "metadata": {},
   "source": [
    "The validated object can be subsequently saved as an {class}`~lamindb.Artifact`:"
   ]
  },
  {
   "cell_type": "code",
   "execution_count": null,
   "id": "f12ec345",
   "metadata": {
    "tags": [
     "hide-output"
    ]
   },
   "outputs": [],
   "source": [
    "artifact = curate.save_artifact(description=\"test AnnData\")"
   ]
  },
  {
   "cell_type": "markdown",
   "id": "0fa20942",
   "metadata": {},
   "source": [
    "Validated features and labels are linked to the artifact:"
   ]
  },
  {
   "cell_type": "code",
   "execution_count": null,
   "id": "5e901343",
   "metadata": {
    "tags": [
     "hide-output"
    ]
   },
   "outputs": [],
   "source": [
    "artifact.describe()"
   ]
  },
  {
   "cell_type": "markdown",
   "id": "c00b51c4",
   "metadata": {},
   "source": [
    "We've walked through the process of validating, standardizing, and annotating datasets going through these key steps:\n",
    "\n",
    "1. Defining validation criteria\n",
    "2. Validating data against existing registries\n",
    "3. Adding new validated entries to registries\n",
    "4. Annotating artifacts with validated metadata\n",
    "\n",
    "By following these steps, you can ensure your data is standardized and well-curated.\n",
    "\n",
    "If you have datasets that aren't DataFrame-like or AnnData-like, read: {doc}`curate-any`."
   ]
  }
 ],
 "metadata": {
  "kernelspec": {
   "display_name": "Python 3 (ipykernel)",
   "language": "python",
   "name": "python3"
  },
  "language_info": {
   "codemirror_mode": {
    "name": "ipython",
    "version": 3
   },
   "file_extension": ".py",
   "mimetype": "text/x-python",
   "name": "python",
   "nbconvert_exporter": "python",
   "pygments_lexer": "ipython3",
   "version": "3.1.-1"
  },
  "nbproject": {
   "id": "WOK3vP0bNGLx",
   "parent": null,
   "pypackage": null,
   "time_init": "2023-12-20T04:27:49.536493+00:00",
   "user_handle": null,
   "user_id": null,
   "user_name": null,
   "version": "0"
  }
 },
 "nbformat": 4,
 "nbformat_minor": 5
}
