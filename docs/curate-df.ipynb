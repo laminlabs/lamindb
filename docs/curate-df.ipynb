{
 "cells": [
  {
   "cell_type": "markdown",
   "id": "1d2cd769",
   "metadata": {},
   "source": [
    "# Curate DataFrames and AnnDatas\n",
    "\n",
    "Curating datasets typically means three things:\n",
    "\n",
    "1. Validate: ensure a dataset meets predefined _validation criteria_\n",
    "2. Standardize: transform a dataset so that it meets validation criteria, e.g., by fixing typos or using standardized identifiers\n",
    "3. Annotate: link a dataset against metadata records\n",
    "\n",
    "In LaminDB, valid metadata is metadata that's stored in a metadata registry and _validation criteria_ merely defines a mapping onto a field of a registry.\n",
    "\n",
    "```{admonition} Example\n",
    "\n",
    "`\"Experiment 1\"` is a valid value for `ULabel.name` if a record with this name exists in the {class}`~lamindb.ULabel` registry.\n",
    "\n",
    "```"
   ]
  },
  {
   "cell_type": "code",
   "execution_count": null,
   "id": "74008c61",
   "metadata": {
    "tags": [
     "hide-output"
    ]
   },
   "outputs": [],
   "source": [
    "# !pip install 'lamindb[bionty]'\n",
    "!lamin init --storage ./test-curate --schema bionty"
   ]
  },
  {
   "cell_type": "markdown",
   "id": "946a3371",
   "metadata": {},
   "source": [
    "## Validate a DataFrame"
   ]
  },
  {
   "cell_type": "markdown",
   "id": "52bbbac2",
   "metadata": {},
   "source": [
    "Let's start with a DataFrame that we'd like to validate."
   ]
  },
  {
   "cell_type": "code",
   "execution_count": null,
   "id": "6e313088",
   "metadata": {
    "tags": [
     "hide-output"
    ]
   },
   "outputs": [],
   "source": [
    "import lamindb as ln\n",
    "import bionty as bt\n",
    "import pandas as pd\n",
    "\n",
    "\n",
    "df = pd.DataFrame(\n",
    "    {\n",
    "        \"temperature\": [37.2, 36.3, 38.2],\n",
    "        \"cell_type\": [\"cerebral pyramidal neuron\", \"astrocyte\", \"oligodendrocyte\"],\n",
    "        \"assay_ontology_id\": [\"EFO:0008913\", \"EFO:0008913\", \"EFO:0008913\"],\n",
    "        \"donor\": [\"D0001\", \"D0002\", \"DOOO3\"]\n",
    "    },\n",
    "    index = [\"obs1\", \"obs2\", \"obs3\"]\n",
    ")\n",
    "df"
   ]
  },
  {
   "cell_type": "markdown",
   "id": "c7d74af9",
   "metadata": {},
   "source": [
    "Define validation criteria and create a {class}`~lamindb.Curator` object."
   ]
  },
  {
   "cell_type": "code",
   "execution_count": null,
   "id": "cfb3492d",
   "metadata": {
    "tags": [
     "hide-output"
    ]
   },
   "outputs": [],
   "source": [
    "# in the dictionary, each key is a column name of the dataframe, and each value\n",
    "# is a registry field onto which values are mapped\n",
    "categoricals = {\n",
    "    \"cell_type\": bt.CellType.name,\n",
    "    \"assay_ontology_id\": bt.ExperimentalFactor.ontology_id,\n",
    "    \"donor\": ln.ULabel.name,\n",
    "}\n",
    "\n",
    "# pass validation criteria\n",
    "curate = ln.Curator.from_df(df, categoricals=categoricals)"
   ]
  },
  {
   "cell_type": "markdown",
   "id": "804ae191",
   "metadata": {},
   "source": [
    "The {meth}`~lamindb.core.BaseCurator.validate` method checks our data against the defined criteria. It identifies which values are already validated (exist in our registries) and which are potentially problematic (do not yet exist in our registries)."
   ]
  },
  {
   "cell_type": "code",
   "execution_count": null,
   "id": "1132efd8",
   "metadata": {
    "tags": [
     "hide-output"
    ]
   },
   "outputs": [],
   "source": [
    "curate.validate()"
   ]
  },
  {
   "cell_type": "markdown",
   "id": "7c157df6",
   "metadata": {},
   "source": [
    "## Register new metadata values\n",
    "\n",
    "If you see \"non-validated\" values, you'll need to decide whether to add them to your registries or \"fix\" them in your dataset.\n",
    "\n",
    "Because our current registries are still empty, we'll start by populating our {class}`~bionty.CellType` registry with values from a public ontology."
   ]
  },
  {
   "cell_type": "code",
   "execution_count": null,
   "id": "bcb388d8",
   "metadata": {
    "tags": [
     "hide-output"
    ]
   },
   "outputs": [],
   "source": [
    "# this adds cell types that were validated based on a public ontology\n",
    "curate.add_validated_from(\"cell_type\")"
   ]
  },
  {
   "cell_type": "markdown",
   "id": "5bcfc09f",
   "metadata": {},
   "source": [
    "If we call `validate()` again, we see that one cell type still doesn't pass validation."
   ]
  },
  {
   "cell_type": "code",
   "execution_count": null,
   "id": "104f9932",
   "metadata": {},
   "outputs": [],
   "source": [
    "curate.validate()"
   ]
  },
  {
   "cell_type": "markdown",
   "id": "8c2417c7",
   "metadata": {},
   "source": [
    "Hence, let's understand which cell type in the public ontology might be the actual match."
   ]
  },
  {
   "cell_type": "code",
   "execution_count": null,
   "id": "ea6b82b8",
   "metadata": {
    "tags": [
     "hide-output"
    ]
   },
   "outputs": [],
   "source": [
    "# use a lookup object to get the correct spelling of categories from a public ontology\n",
    "lookup = curate.lookup(\"public\")\n",
    "lookup"
   ]
  },
  {
   "cell_type": "code",
   "execution_count": null,
   "id": "4c98914a",
   "metadata": {
    "tags": [
     "hide-output"
    ]
   },
   "outputs": [],
   "source": [
    "# here is an example for the cell_type column\n",
    "cell_types = lookup[\"cell_type\"]\n",
    "cell_types.cerebral_cortex_pyramidal_neuron"
   ]
  },
  {
   "cell_type": "code",
   "execution_count": null,
   "id": "b06c7875",
   "metadata": {
    "tags": [
     "hide-output"
    ]
   },
   "outputs": [],
   "source": [
    "# fix the cell type\n",
    "df.cell_type = df.cell_type.replace({\"cerebral pyramidal neuron\": cell_types.cerebral_cortex_pyramidal_neuron.name})\n",
    "# now register curated and validated cell types\n",
    "curate.add_validated_from(df.cell_type.name)"
   ]
  },
  {
   "cell_type": "markdown",
   "id": "752142a1",
   "metadata": {},
   "source": [
    "Now, do the same for `\"assay_ontology_id`\" and `\"donor\"`."
   ]
  },
  {
   "cell_type": "code",
   "execution_count": null,
   "id": "ede057e8",
   "metadata": {
    "tags": [
     "hide-output"
    ]
   },
   "outputs": [],
   "source": [
    "# this adds assays that were validated based on a public ontology\n",
    "curate.add_validated_from(\"assay_ontology_id\")"
   ]
  },
  {
   "cell_type": "code",
   "execution_count": null,
   "id": "13cec5d4",
   "metadata": {
    "tags": [
     "hide-output"
    ]
   },
   "outputs": [],
   "source": [
    "# this adds donors that were _not_ validated\n",
    "curate.add_new_from(\"donor\")"
   ]
  },
  {
   "cell_type": "code",
   "execution_count": null,
   "id": "1a90599b",
   "metadata": {
    "tags": [
     "hide-output"
    ]
   },
   "outputs": [],
   "source": [
    "# validate again\n",
    "validated = curate.validate()\n",
    "validated"
   ]
  },
  {
   "cell_type": "markdown",
   "id": "b9d09a10",
   "metadata": {},
   "source": [
    "## Validate an AnnData\n",
    "\n",
    "Here we addtionally specify which `var_index` to validate against."
   ]
  },
  {
   "cell_type": "code",
   "execution_count": null,
   "id": "15d7b858",
   "metadata": {
    "tags": [
     "hide-output"
    ]
   },
   "outputs": [],
   "source": [
    "import anndata as ad\n",
    "\n",
    "X = pd.DataFrame(\n",
    "    {\n",
    "        \"ENSG00000081059\": [1, 2, 3], \n",
    "        \"ENSG00000276977\": [4, 5, 6], \n",
    "        \"ENSG00000198851\": [7, 8, 9], \n",
    "        \"ENSG00000010610\": [10, 11, 12], \n",
    "        \"ENSG00000153563\": [13, 14, 15],\n",
    "        \"corrupted\": [16, 17, 18]\n",
    "    }, \n",
    "    index=df.index\n",
    ")\n",
    "\n",
    "adata = ad.AnnData(X=X, obs=df)\n",
    "adata"
   ]
  },
  {
   "cell_type": "code",
   "execution_count": null,
   "id": "19e7b8ca",
   "metadata": {
    "tags": [
     "hide-output"
    ]
   },
   "outputs": [],
   "source": [
    "curate = ln.Curator.from_anndata(\n",
    "    adata, \n",
    "    var_index=bt.Gene.ensembl_gene_id,  # validate var.index against Gene.ensembl_gene_id\n",
    "    categoricals=categoricals, \n",
    "    organism=\"human\",\n",
    ")"
   ]
  },
  {
   "cell_type": "code",
   "execution_count": null,
   "id": "e8d8cee5",
   "metadata": {
    "tags": [
     "hide-output"
    ]
   },
   "outputs": [],
   "source": [
    "curate.validate()"
   ]
  },
  {
   "cell_type": "markdown",
   "id": "71a917d1",
   "metadata": {},
   "source": [
    "Save the validated genes following the instruction:"
   ]
  },
  {
   "cell_type": "code",
   "execution_count": null,
   "id": "e31dabcc",
   "metadata": {},
   "outputs": [],
   "source": [
    "curate.add_validated_from_var_index()"
   ]
  },
  {
   "cell_type": "markdown",
   "id": "614545ea",
   "metadata": {},
   "source": [
    "Non-validated terms can be accessed via:"
   ]
  },
  {
   "cell_type": "code",
   "execution_count": null,
   "id": "4e2fd290",
   "metadata": {
    "tags": [
     "hide-output"
    ]
   },
   "outputs": [],
   "source": [
    "curate.non_validated"
   ]
  },
  {
   "cell_type": "markdown",
   "id": "b2ec4aeb",
   "metadata": {},
   "source": [
    "Subset the `AnnData` to validated genes only:"
   ]
  },
  {
   "cell_type": "code",
   "execution_count": null,
   "id": "3c47e4b7",
   "metadata": {},
   "outputs": [],
   "source": [
    "adata_validated = adata[:, ~adata.var.index.isin(curate.non_validated[\"var_index\"])].copy()"
   ]
  },
  {
   "cell_type": "markdown",
   "id": "1b0b2b10",
   "metadata": {},
   "source": [
    "Now let's validate the subsetted object:"
   ]
  },
  {
   "cell_type": "code",
   "execution_count": null,
   "id": "6ac64695",
   "metadata": {
    "tags": [
     "hide-output"
    ]
   },
   "outputs": [],
   "source": [
    "curate = ln.Curator.from_anndata(\n",
    "    adata_validated, \n",
    "    var_index=bt.Gene.ensembl_gene_id,  # validate var.index against Gene.ensembl_gene_id\n",
    "    categoricals=categoricals, \n",
    "    organism=\"human\",\n",
    ")\n",
    "\n",
    "curate.validate()"
   ]
  },
  {
   "cell_type": "markdown",
   "id": "38a30170",
   "metadata": {},
   "source": [
    "## Save a curated artifact"
   ]
  },
  {
   "cell_type": "markdown",
   "id": "a814ef37",
   "metadata": {},
   "source": [
    "The validated object can be subsequently saved as an {class}`~lamindb.Artifact`:"
   ]
  },
  {
   "cell_type": "code",
   "execution_count": null,
   "id": "f12ec345",
   "metadata": {
    "tags": [
     "hide-output"
    ]
   },
   "outputs": [],
   "source": [
    "artifact = curate.save_artifact(description=\"test AnnData\")"
   ]
  },
  {
   "cell_type": "markdown",
   "id": "0fa20942",
   "metadata": {},
   "source": [
    "Validated features and labels are linked to the artifact:"
   ]
  },
  {
   "cell_type": "code",
   "execution_count": null,
   "id": "5e901343",
   "metadata": {
    "tags": [
     "hide-output"
    ]
   },
   "outputs": [],
   "source": [
    "artifact.describe()"
   ]
  },
  {
   "cell_type": "markdown",
   "id": "c00b51c4",
   "metadata": {},
   "source": [
    "We've walked through the process of validating, standardizing, and annotating datasets going through these key steps:\n",
    "\n",
    "1. Defining validation criteria\n",
    "2. Validating data against existing registries\n",
    "3. Adding new validated entries to registries\n",
    "4. Annotating artifacts with validated metadata\n",
    "\n",
    "By following these steps, you can ensure your data is standardized and well-curated.\n",
    "\n",
    "If you have datasets that aren't DataFrame-like or AnnData-like, read: {doc}`curate-any`."
   ]
  }
 ],
 "metadata": {
  "kernelspec": {
   "display_name": "Python 3 (ipykernel)",
   "language": "python",
   "name": "python3"
  },
  "language_info": {
   "codemirror_mode": {
    "name": "ipython",
    "version": 3
   },
   "file_extension": ".py",
   "mimetype": "text/x-python",
   "name": "python",
   "nbconvert_exporter": "python",
   "pygments_lexer": "ipython3",
   "version": "3.10.13"
  },
  "nbproject": {
   "id": "WOK3vP0bNGLx",
   "parent": null,
   "pypackage": null,
   "time_init": "2023-12-20T04:27:49.536493+00:00",
   "user_handle": null,
   "user_id": null,
   "user_name": null,
   "version": "0"
  }
 },
 "nbformat": 4,
 "nbformat_minor": 5
}
