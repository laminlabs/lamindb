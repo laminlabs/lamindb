{
 "cells": [
  {
   "cell_type": "markdown",
   "id": "0",
   "metadata": {},
   "source": [
    "# Curate DataFrames and AnnDatas\n",
    "\n",
    "Curating a dataset with LaminDB means three things:\n",
    "\n",
    "1. Validate that the dataset matches a desired schema\n",
    "2. In case the dataset doesn't validate, standardize it, e.g., by fixing typos or mapping synonyms\n",
    "3. Annotate the dataset by linking it against metadata entities so that it becomes queryable"
   ]
  },
  {
   "cell_type": "markdown",
   "id": "1",
   "metadata": {},
   "source": [
    "## Curate a DataFrame"
   ]
  },
  {
   "cell_type": "code",
   "execution_count": null,
   "id": "2",
   "metadata": {
    "tags": [
     "hide-output"
    ]
   },
   "outputs": [],
   "source": [
    "# pip install 'lamindb[bionty]'\n",
    "!lamin init --storage ./test-curate --modules bionty"
   ]
  },
  {
   "cell_type": "markdown",
   "id": "3",
   "metadata": {},
   "source": [
    "Let's start with a DataFrame that we'd like to validate."
   ]
  },
  {
   "cell_type": "code",
   "execution_count": null,
   "id": "4",
   "metadata": {
    "tags": [
     "hide-output"
    ]
   },
   "outputs": [],
   "source": [
    "import lamindb as ln\n",
    "import bionty as bt\n",
    "import pandas as pd\n",
    "\n",
    "\n",
    "df = pd.DataFrame(\n",
    "    {\n",
    "        \"perturbation\": pd.Categorical([\"DMSO\", \"IFNG\", \"DMSO\"]),\n",
    "        \"temperature\": [37.2, 36.3, 38.2],\n",
    "        \"cell_type\": pd.Categorical(\n",
    "            [\n",
    "                \"cerebral pyramidal neuron\",\n",
    "                \"astrocytic glia\",\n",
    "                \"oligodendrocyte\",\n",
    "            ]\n",
    "        ),\n",
    "        \"assay_ontology_id\": pd.Categorical(\n",
    "            [\"EFO:0008913\", \"EFO:0008913\", \"EFO:0008913\"]\n",
    "        ),\n",
    "        \"donor\": [\"D0001\", \"D0002\", None],\n",
    "    },\n",
    "    index=[\"obs1\", \"obs2\", \"obs3\"],\n",
    ")\n",
    "df"
   ]
  },
  {
   "cell_type": "markdown",
   "id": "5",
   "metadata": {},
   "source": [
    "Define a schema to validate this dataset."
   ]
  },
  {
   "cell_type": "code",
   "execution_count": null,
   "id": "6",
   "metadata": {
    "tags": [
     "hide-output"
    ]
   },
   "outputs": [],
   "source": [
    "schema = ln.Schema(\n",
    "    name=\"My example schema\",\n",
    "    features=[\n",
    "        ln.Feature(name=\"perturbation\", dtype=ln.ULabel).save(),\n",
    "        ln.Feature(name=\"temperature\", dtype=float).save(),\n",
    "        ln.Feature(name=\"cell_type\", dtype=bt.CellType).save(),\n",
    "        ln.Feature(\n",
    "            name=\"assay_ontology_id\", dtype=bt.ExperimentalFactor.ontology_id\n",
    "        ).save(),\n",
    "        ln.Feature(name=\"donor\", dtype=str, nullable=True).save(),\n",
    "    ],\n",
    ").save()\n",
    "# display the associated features as a dataframe\n",
    "schema.features.df()"
   ]
  },
  {
   "cell_type": "markdown",
   "id": "7",
   "metadata": {},
   "source": [
    "Create a `Curator` using the dataset & the schema."
   ]
  },
  {
   "cell_type": "code",
   "execution_count": null,
   "id": "8",
   "metadata": {
    "tags": [
     "hide-output"
    ]
   },
   "outputs": [],
   "source": [
    "curator = ln.curators.DataFrameCurator(df, schema)"
   ]
  },
  {
   "cell_type": "markdown",
   "id": "9",
   "metadata": {},
   "source": [
    "The {meth}`~lamindb.curators.Curator.validate` method validates that your dataset adheres to the criteria defined by the `schema`. It identifies which values are already validated (exist in our registries) and which are potentially problematic (do not yet exist in our registries)."
   ]
  },
  {
   "cell_type": "code",
   "execution_count": null,
   "id": "10",
   "metadata": {
    "tags": [
     "hide-output"
    ]
   },
   "outputs": [],
   "source": [
    "try:\n",
    "    curator.validate()\n",
    "except ln.errors.ValidationError as error:\n",
    "    print(error)"
   ]
  },
  {
   "cell_type": "code",
   "execution_count": null,
   "id": "11",
   "metadata": {
    "tags": [
     "hide-output"
    ]
   },
   "outputs": [],
   "source": [
    "# check the non-validated terms\n",
    "curator.cat.non_validated"
   ]
  },
  {
   "cell_type": "markdown",
   "id": "12",
   "metadata": {},
   "source": [
    "For `cell_type`, we saw that \"cerebral pyramidal neuron\", \"astrocytic glia\" are not validated.\n",
    "\n",
    "First, let's standardize synonym \"astrocytic glia\" as suggested"
   ]
  },
  {
   "cell_type": "code",
   "execution_count": null,
   "id": "13",
   "metadata": {},
   "outputs": [],
   "source": [
    "curator.cat.standardize(\"cell_type\")"
   ]
  },
  {
   "cell_type": "code",
   "execution_count": null,
   "id": "14",
   "metadata": {
    "tags": [
     "hide-output"
    ]
   },
   "outputs": [],
   "source": [
    "# now we have only one non-validated cell type left\n",
    "curator.cat.non_validated"
   ]
  },
  {
   "cell_type": "markdown",
   "id": "15",
   "metadata": {},
   "source": [
    "For \"cerebral pyramidal neuron\", let's understand which cell type in the public ontology might be the actual match."
   ]
  },
  {
   "cell_type": "code",
   "execution_count": null,
   "id": "16",
   "metadata": {
    "tags": [
     "hide-output"
    ]
   },
   "outputs": [],
   "source": [
    "# to check the correct spelling of categories, pass `public=True` to get a lookup object from public ontologies\n",
    "# use `lookup = curator.cat.lookup()` to get a lookup object of existing records in your instance\n",
    "lookup = curator.cat.lookup(public=True)\n",
    "lookup"
   ]
  },
  {
   "cell_type": "code",
   "execution_count": null,
   "id": "17",
   "metadata": {
    "tags": [
     "hide-output"
    ]
   },
   "outputs": [],
   "source": [
    "# here is an example for the \"cell_type\" column\n",
    "cell_types = lookup[\"cell_type\"]\n",
    "cell_types.cerebral_cortex_pyramidal_neuron"
   ]
  },
  {
   "cell_type": "code",
   "execution_count": null,
   "id": "18",
   "metadata": {
    "tags": [
     "hide-output"
    ]
   },
   "outputs": [],
   "source": [
    "# fix the cell type\n",
    "df.cell_type = df.cell_type.cat.rename_categories(\n",
    "    {\"cerebral pyramidal neuron\": cell_types.cerebral_cortex_pyramidal_neuron.name}\n",
    ")"
   ]
  },
  {
   "cell_type": "markdown",
   "id": "19",
   "metadata": {},
   "source": [
    "For perturbation, we want to add the new values: \"DMSO\", \"IFNG\""
   ]
  },
  {
   "cell_type": "code",
   "execution_count": null,
   "id": "20",
   "metadata": {
    "tags": [
     "hide-output"
    ]
   },
   "outputs": [],
   "source": [
    "# this adds perturbations that were _not_ validated\n",
    "curator.cat.add_new_from(\"perturbation\")"
   ]
  },
  {
   "cell_type": "code",
   "execution_count": null,
   "id": "21",
   "metadata": {
    "tags": [
     "hide-output"
    ]
   },
   "outputs": [],
   "source": [
    "# validate again\n",
    "curator.validate()"
   ]
  },
  {
   "cell_type": "markdown",
   "id": "22",
   "metadata": {},
   "source": [
    "Save a curated artifact."
   ]
  },
  {
   "cell_type": "code",
   "execution_count": null,
   "id": "23",
   "metadata": {
    "tags": [
     "hide-output"
    ]
   },
   "outputs": [],
   "source": [
    "artifact = curator.save_artifact(key=\"my_datasets/my_curated_dataset.parquet\")"
   ]
  },
  {
   "cell_type": "code",
   "execution_count": null,
   "id": "24",
   "metadata": {
    "tags": [
     "hide-output"
    ]
   },
   "outputs": [],
   "source": [
    "artifact.describe()"
   ]
  },
  {
   "cell_type": "markdown",
   "id": "25",
   "metadata": {},
   "source": [
    "## Curate an AnnData\n",
    "\n",
    "Here we additionally specify which `var_index` to validate against."
   ]
  },
  {
   "cell_type": "code",
   "execution_count": null,
   "id": "26",
   "metadata": {
    "tags": [
     "hide-output"
    ]
   },
   "outputs": [],
   "source": [
    "import anndata as ad\n",
    "\n",
    "X = pd.DataFrame(\n",
    "    {\n",
    "        \"ENSG00000081059\": [1, 2, 3],\n",
    "        \"ENSG00000276977\": [4, 5, 6],\n",
    "        \"ENSG00000198851\": [7, 8, 9],\n",
    "        \"ENSG00000010610\": [10, 11, 12],\n",
    "        \"ENSG00000153563\": [13, 14, 15],\n",
    "        \"ENSGcorrupted\": [16, 17, 18],\n",
    "    },\n",
    "    index=df.index,  # because we already curated the dataframe above, it will validate\n",
    ")\n",
    "adata = ad.AnnData(X=X, obs=df)\n",
    "adata"
   ]
  },
  {
   "cell_type": "code",
   "execution_count": null,
   "id": "27",
   "metadata": {},
   "outputs": [],
   "source": [
    "# define var schema\n",
    "var_schema = ln.Schema(\n",
    "    name=\"my_var_schema\",\n",
    "    itype=bt.Gene.ensembl_gene_id,  # identifier type\n",
    "    dtype=int,\n",
    ").save()\n",
    "\n",
    "# define composite schema\n",
    "anndata_schema = ln.Schema(\n",
    "    name=\"small_dataset1_anndata_schema\",\n",
    "    otype=\"AnnData\",  # object type\n",
    "    components={\"obs\": schema, \"var\": var_schema},\n",
    ").save()"
   ]
  },
  {
   "cell_type": "code",
   "execution_count": null,
   "id": "28",
   "metadata": {
    "tags": [
     "hide-output"
    ]
   },
   "outputs": [],
   "source": [
    "curator = ln.curators.AnnDataCurator(adata, anndata_schema)\n",
    "try:\n",
    "    curator.validate()\n",
    "except ln.errors.ValidationError as error:\n",
    "    print(error)"
   ]
  },
  {
   "cell_type": "markdown",
   "id": "29",
   "metadata": {},
   "source": [
    "Subset the `AnnData` to validated genes only:"
   ]
  },
  {
   "cell_type": "code",
   "execution_count": null,
   "id": "30",
   "metadata": {},
   "outputs": [],
   "source": [
    "adata_validated = adata[:, ~adata.var.index.isin([\"ENSGcorrupted\"])].copy()"
   ]
  },
  {
   "cell_type": "markdown",
   "id": "31",
   "metadata": {},
   "source": [
    "Now let's validate the subsetted object:"
   ]
  },
  {
   "cell_type": "code",
   "execution_count": null,
   "id": "32",
   "metadata": {
    "tags": [
     "hide-output"
    ]
   },
   "outputs": [],
   "source": [
    "curator = ln.curators.AnnDataCurator(adata_validated, anndata_schema)\n",
    "curator.validate()"
   ]
  },
  {
   "cell_type": "markdown",
   "id": "33",
   "metadata": {},
   "source": [
    "The validated `AnnData` can be subsequently saved as an {class}`~lamindb.Artifact`:"
   ]
  },
  {
   "cell_type": "code",
   "execution_count": null,
   "id": "34",
   "metadata": {
    "tags": [
     "hide-output"
    ]
   },
   "outputs": [],
   "source": [
    "artifact = curator.save_artifact(key=\"my_datasets/my_curated_anndata.h5ad\")"
   ]
  },
  {
   "cell_type": "markdown",
   "id": "35",
   "metadata": {},
   "source": [
    "The saved artifact has been annotated with validated features and labels:"
   ]
  },
  {
   "cell_type": "code",
   "execution_count": null,
   "id": "36",
   "metadata": {
    "tags": [
     "hide-output"
    ]
   },
   "outputs": [],
   "source": [
    "artifact.describe()"
   ]
  },
  {
   "cell_type": "markdown",
   "id": "37",
   "metadata": {},
   "source": [
    "## Standardize an AnnData"
   ]
  },
  {
   "cell_type": "markdown",
   "id": "38",
   "metadata": {},
   "source": [
    "If you need more control, you can access the underlying `\"var\"` and `\"obs\"` `DataFrameCurator` objects directly."
   ]
  },
  {
   "cell_type": "code",
   "execution_count": null,
   "id": "39",
   "metadata": {
    "tags": [
     "hide-output"
    ]
   },
   "outputs": [],
   "source": [
    "curator.slots[\"var\"]\n",
    "curator.slots[\"obs\"]"
   ]
  },
  {
   "cell_type": "code",
   "execution_count": null,
   "id": "40",
   "metadata": {},
   "outputs": [],
   "source": [
    "# revert the previous cell type standardization\n",
    "df[\"cell_type\"] = df[\"cell_type\"].cat.rename_categories(\n",
    "    {\"astrocyte\": \"astrocytic glia\"}\n",
    ")\n",
    "# an AnnData where a cell type matches a synonym\n",
    "adata_with_synonym = ad.AnnData(X=adata_validated.X, var=adata_validated.var, obs=df)\n",
    "adata_with_synonym"
   ]
  },
  {
   "cell_type": "code",
   "execution_count": null,
   "id": "41",
   "metadata": {},
   "outputs": [],
   "source": [
    "curator = ln.curators.AnnDataCurator(adata_with_synonym, anndata_schema)\n",
    "try:\n",
    "    curator.validate()\n",
    "except ln.errors.ValidationError as error:\n",
    "    print(error)"
   ]
  },
  {
   "cell_type": "code",
   "execution_count": null,
   "id": "42",
   "metadata": {},
   "outputs": [],
   "source": [
    "curator.slots[\"obs\"].cat.standardize(\"cell_type\")"
   ]
  },
  {
   "cell_type": "code",
   "execution_count": null,
   "id": "43",
   "metadata": {},
   "outputs": [],
   "source": [
    "curator.validate()"
   ]
  },
  {
   "cell_type": "markdown",
   "id": "44",
   "metadata": {},
   "source": [
    "## Summary"
   ]
  },
  {
   "cell_type": "markdown",
   "id": "45",
   "metadata": {},
   "source": [
    "We've walked through the process of validating, standardizing, and annotating datasets going through these key steps:\n",
    "\n",
    "1. Defining validation criteria\n",
    "2. Validating data against existing registries\n",
    "3. Adding new validated entries to registries\n",
    "4. Annotating artifacts with validated metadata\n",
    "\n",
    "By following these steps, you can ensure your data is standardized and well-curated.\n",
    "\n",
    "If you have datasets that aren't DataFrame-like or AnnData-like, read: {doc}`curate-any`."
   ]
  },
  {
   "cell_type": "code",
   "execution_count": null,
   "id": "46",
   "metadata": {
    "tags": [
     "hide-cell"
    ]
   },
   "outputs": [],
   "source": [
    "!rm -rf ./test-curate\n",
    "!lamin delete --force test-curate"
   ]
  }
 ],
 "metadata": {
  "kernelspec": {
   "display_name": "py312",
   "language": "python",
   "name": "python3"
  },
  "language_info": {
   "codemirror_mode": {
    "name": "ipython",
    "version": 3
   },
   "file_extension": ".py",
   "mimetype": "text/x-python",
   "name": "python",
   "nbconvert_exporter": "python",
   "pygments_lexer": "ipython3",
   "version": "3.12.8"
  },
  "nbproject": {
   "id": "WOK3vP0bNGLx",
   "parent": null,
   "pypackage": null,
   "time_init": "2023-12-20T04:27:49.536493+00:00",
   "user_handle": null,
   "user_id": null,
   "user_name": null,
   "version": "0"
  }
 },
 "nbformat": 4,
 "nbformat_minor": 5
}
