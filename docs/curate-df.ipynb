{
 "cells": [
  {
   "cell_type": "markdown",
   "id": "1d2cd769",
   "metadata": {},
   "source": [
    "# Curate DataFrames and AnnDatas\n",
    "\n",
    "Curating a dataset with LaminDB means three things:\n",
    "\n",
    "1. **Validate:** ensure the dataset meets predefined _validation criteria_\n",
    "2. **Standardize:** transform the dataset so that it meets validation criteria, e.g., by fixing typos or using standard instead of ad hoc identifiers\n",
    "3. **Annotate:** link the dataset against validated metadata so that it becomes queryable\n",
    "\n",
    "If a dataset passes validation, curating it takes two lines of code:\n",
    "\n",
    "```python\n",
    "curator = ln.Curator.from_df(df, ...)  # create a Curator and pass criteria in \"...\"\n",
    "curator.save_artifact()                # validates the content of the dataset and saves it as annotated artifact\n",
    "```\n",
    "\n",
    "Beyond having valid content, the curated dataset is now queryable via metadata identifiers found in the dataset because they have been validated & linked against LaminDB registries.\n",
    "\n",
    ":::{admonition} Definition: valid metadata identifier\n",
    "\n",
    "An identifier like `\"Experiment 1\"` is a valid value for `ULabel.name` if a record with `name` `\"Experiment 1\"` exists in the {class}`~lamindb.ULabel` registry.\n",
    "\n",
    "```python\n",
    "categoricals = {\"experiment\": ln.ULabel.name}  # the validation constraint\n",
    "curator = ln.Curator.from_df(df, categoricals=categoricals)\n",
    "curator.validate()\n",
    "```\n",
    "\n",
    "The DataFrame validates if \n",
    "\n",
    "- there is a column with name `\"experiment\"` in the dataframe whose values are all found in the `name` field of the {class}`~lamindb.ULabel` registry\n",
    "- the column name `\"experiment\"` is found in the `name` field of the {class}`~lamindb.Feature` registry\n",
    "\n",
    ":::\n",
    "\n",
    "Beyond validating metadata identifiers, LaminDB also validates data types and dataset schema.\n",
    "\n",
    ":::{dropdown} How does validation in LaminDB compare to validation in pandera?\n",
    "\n",
    "Like LaminDB, [pandera](https://pandera.readthedocs.io/) validates the _dataset schema_ (i.e., column names and `dtype`s).\n",
    "\n",
    "`pandera` is only available for `DataFrame`-like datasets and cannot annotate datasets; i.e., can't make datasets queryable.\n",
    "\n",
    "However, it offers an API for range-checks, both for numerical and string-like data. If you need such checks, you can combine LaminDB and pandera-based validation.\n",
    "\n",
    "```python\n",
    "import pandas as pd\n",
    "import pandera as pa\n",
    "\n",
    "# data to validate\n",
    "df = pd.DataFrame({\n",
    "    \"column1\": [1, 4, 0, 10, 9],\n",
    "    \"column2\": [-1.3, -1.4, -2.9, -10.1, -20.4],\n",
    "    \"column3\": [\"value_1\", \"value_2\", \"value_3\", \"value_2\", \"value_1\"],\n",
    "})\n",
    "\n",
    "# define schema\n",
    "schema = pa.DataFrameSchema({\n",
    "    \"column1\": pa.Column(int, checks=pa.Check.le(10)),\n",
    "    \"column2\": pa.Column(float, checks=pa.Check.lt(-1.2)),\n",
    "    \"column3\": pa.Column(str, checks=[\n",
    "        pa.Check.str_startswith(\"value_\"),\n",
    "        # define custom checks as functions that take a series as input and\n",
    "        # outputs a boolean or boolean Series\n",
    "        pa.Check(lambda s: s.str.split(\"_\", expand=True).shape[1] == 2)\n",
    "    ]),\n",
    "})\n",
    "\n",
    "validated_df = schema(df)  # this corresponds to curator.validate() in LaminDB\n",
    "print(validated_df)\n",
    "```\n",
    "\n",
    ":::"
   ]
  },
  {
   "cell_type": "code",
   "execution_count": null,
   "id": "74008c61",
   "metadata": {
    "tags": [
     "hide-output"
    ]
   },
   "outputs": [],
   "source": [
    "# !pip install 'lamindb[bionty]'\n",
    "!lamin init --storage ./test-curate --schema bionty"
   ]
  },
  {
   "cell_type": "markdown",
   "id": "946a3371",
   "metadata": {},
   "source": [
    "## Curate a DataFrame"
   ]
  },
  {
   "cell_type": "markdown",
   "id": "52bbbac2",
   "metadata": {},
   "source": [
    "Let's start with a DataFrame that we'd like to validate."
   ]
  },
  {
   "cell_type": "code",
   "execution_count": null,
   "id": "6e313088",
   "metadata": {
    "tags": [
     "hide-output"
    ]
   },
   "outputs": [],
   "source": [
    "import lamindb as ln\n",
    "import bionty as bt\n",
    "import pandas as pd\n",
    "\n",
    "\n",
    "df = pd.DataFrame(\n",
    "    {\n",
    "        \"temperature\": [37.2, 36.3, 38.2],\n",
    "        \"cell_type\": [\"cerebral pyramidal neuron\", \"astrocytic glia\", \"oligodendrocyte\"],\n",
    "        \"assay_ontology_id\": [\"EFO:0008913\", \"EFO:0008913\", \"EFO:0008913\"],\n",
    "        \"donor\": [\"D0001\", \"D0002\", \"D0003\"]\n",
    "    },\n",
    "    index = [\"obs1\", \"obs2\", \"obs3\"]\n",
    ")\n",
    "df"
   ]
  },
  {
   "cell_type": "markdown",
   "id": "c7d74af9",
   "metadata": {},
   "source": [
    "Define validation criteria and create a {class}`~lamindb.Curator` object."
   ]
  },
  {
   "cell_type": "code",
   "execution_count": null,
   "id": "cfb3492d",
   "metadata": {
    "tags": [
     "hide-output"
    ]
   },
   "outputs": [],
   "source": [
    "# in the dictionary, each key is a column name of the dataframe, and each value\n",
    "# is a registry field onto which values are mapped\n",
    "categoricals = {\n",
    "    \"cell_type\": bt.CellType.name,\n",
    "    \"assay_ontology_id\": bt.ExperimentalFactor.ontology_id,\n",
    "    \"donor\": ln.ULabel.name,\n",
    "}\n",
    "\n",
    "# pass validation criteria\n",
    "curate = ln.Curator.from_df(df, categoricals=categoricals)"
   ]
  },
  {
   "cell_type": "markdown",
   "id": "804ae191",
   "metadata": {},
   "source": [
    "The {meth}`~lamindb.core.BaseCurator.validate` method checks our data against the defined criteria. It identifies which values are already validated (exist in our registries) and which are potentially problematic (do not yet exist in our registries)."
   ]
  },
  {
   "cell_type": "code",
   "execution_count": null,
   "id": "1132efd8",
   "metadata": {
    "tags": [
     "hide-output"
    ]
   },
   "outputs": [],
   "source": [
    "curate.validate()"
   ]
  },
  {
   "cell_type": "code",
   "execution_count": null,
   "id": "e7acf0d2",
   "metadata": {},
   "outputs": [],
   "source": [
    "# check the non-validated terms\n",
    "curate.non_validated"
   ]
  },
  {
   "cell_type": "markdown",
   "id": "8c2417c7",
   "metadata": {},
   "source": [
    "For `cell_type`, we saw that \"cerebral pyramidal neuron\", \"astrocytic glia\" are not validated.\n",
    "\n",
    "First, let's standardize synonym \"astrocytic glia\" as suggested"
   ]
  },
  {
   "cell_type": "code",
   "execution_count": null,
   "id": "35b3ce8e",
   "metadata": {},
   "outputs": [],
   "source": [
    "curate.standardize(\"cell_type\")"
   ]
  },
  {
   "cell_type": "code",
   "execution_count": null,
   "id": "336293ac",
   "metadata": {},
   "outputs": [],
   "source": [
    "# now we have only one non-validated term left\n",
    "curate.non_validated"
   ]
  },
  {
   "cell_type": "markdown",
   "id": "c1bfe41c",
   "metadata": {},
   "source": [
    "For \"cerebral pyramidal neuron\", let's understand which cell type in the public ontology might be the actual match."
   ]
  },
  {
   "cell_type": "code",
   "execution_count": null,
   "id": "ea6b82b8",
   "metadata": {
    "tags": [
     "hide-output"
    ]
   },
   "outputs": [],
   "source": [
    "# to check the correct spelling of categories, pass `public=True` to get a lookup object from public ontologies\n",
    "# use `lookup = curate.lookup()` to get a lookup object of existing records in your instance\n",
    "lookup = curate.lookup(public=True)\n",
    "lookup"
   ]
  },
  {
   "cell_type": "code",
   "execution_count": null,
   "id": "4c98914a",
   "metadata": {
    "tags": [
     "hide-output"
    ]
   },
   "outputs": [],
   "source": [
    "# here is an example for the \"cell_type\" column\n",
    "cell_types = lookup[\"cell_type\"]\n",
    "cell_types.cerebral_cortex_pyramidal_neuron"
   ]
  },
  {
   "cell_type": "code",
   "execution_count": null,
   "id": "b06c7875",
   "metadata": {
    "tags": [
     "hide-output"
    ]
   },
   "outputs": [],
   "source": [
    "# fix the cell type\n",
    "df.cell_type = df.cell_type.replace({\"cerebral pyramidal neuron\": cell_types.cerebral_cortex_pyramidal_neuron.name})"
   ]
  },
  {
   "cell_type": "markdown",
   "id": "1dc1028a",
   "metadata": {},
   "source": [
    "For donor, we want to add the new donors: \"D0001\", \"D0002\", \"D0003\""
   ]
  },
  {
   "cell_type": "code",
   "execution_count": null,
   "id": "13cec5d4",
   "metadata": {
    "tags": [
     "hide-output"
    ]
   },
   "outputs": [],
   "source": [
    "# this adds donors that were _not_ validated\n",
    "curate.add_new_from(\"donor\")"
   ]
  },
  {
   "cell_type": "code",
   "execution_count": null,
   "id": "1a90599b",
   "metadata": {
    "tags": [
     "hide-output"
    ]
   },
   "outputs": [],
   "source": [
    "# validate again\n",
    "curate.validate()"
   ]
  },
  {
   "cell_type": "markdown",
   "id": "ab7cfff0",
   "metadata": {},
   "source": [
    "Save a curated artifact."
   ]
  },
  {
   "cell_type": "code",
   "execution_count": null,
   "id": "9e7e6372",
   "metadata": {},
   "outputs": [],
   "source": [
    "artifact = curate.save_artifact(description=\"My curated dataframe\")"
   ]
  },
  {
   "cell_type": "code",
   "execution_count": null,
   "id": "74f91cc8",
   "metadata": {},
   "outputs": [],
   "source": [
    "artifact.describe(print_types=True)"
   ]
  },
  {
   "cell_type": "markdown",
   "id": "b9d09a10",
   "metadata": {},
   "source": [
    "## Curate an AnnData\n",
    "\n",
    "Here we additionally specify which `var_index` to validate against."
   ]
  },
  {
   "cell_type": "code",
   "execution_count": null,
   "id": "15d7b858",
   "metadata": {
    "tags": [
     "hide-output"
    ]
   },
   "outputs": [],
   "source": [
    "import anndata as ad\n",
    "\n",
    "X = pd.DataFrame(\n",
    "    {\n",
    "        \"ENSG00000081059\": [1, 2, 3], \n",
    "        \"ENSG00000276977\": [4, 5, 6], \n",
    "        \"ENSG00000198851\": [7, 8, 9], \n",
    "        \"ENSG00000010610\": [10, 11, 12], \n",
    "        \"ENSG00000153563\": [13, 14, 15],\n",
    "        \"ENSGcorrupted\": [16, 17, 18]\n",
    "    }, \n",
    "    index=df.index  # because we already curated the dataframe above, it will validate \n",
    ")\n",
    "adata = ad.AnnData(X=X, obs=df)\n",
    "adata"
   ]
  },
  {
   "cell_type": "code",
   "execution_count": null,
   "id": "19e7b8ca",
   "metadata": {
    "tags": [
     "hide-output"
    ]
   },
   "outputs": [],
   "source": [
    "curate = ln.Curator.from_anndata(\n",
    "    adata, \n",
    "    var_index=bt.Gene.ensembl_gene_id,  # validate var.index against Gene.ensembl_gene_id\n",
    "    categoricals=categoricals, \n",
    "    organism=\"human\",\n",
    ")\n",
    "curate.validate()"
   ]
  },
  {
   "cell_type": "markdown",
   "id": "614545ea",
   "metadata": {},
   "source": [
    "Non-validated terms can be accessed via:"
   ]
  },
  {
   "cell_type": "code",
   "execution_count": null,
   "id": "4e2fd290",
   "metadata": {
    "tags": [
     "hide-output"
    ]
   },
   "outputs": [],
   "source": [
    "curate.non_validated"
   ]
  },
  {
   "cell_type": "markdown",
   "id": "b2ec4aeb",
   "metadata": {},
   "source": [
    "Subset the `AnnData` to validated genes only:"
   ]
  },
  {
   "cell_type": "code",
   "execution_count": null,
   "id": "3c47e4b7",
   "metadata": {},
   "outputs": [],
   "source": [
    "adata_validated = adata[:, ~adata.var.index.isin(curate.non_validated[\"var_index\"])].copy()"
   ]
  },
  {
   "cell_type": "markdown",
   "id": "1b0b2b10",
   "metadata": {},
   "source": [
    "Now let's validate the subsetted object:"
   ]
  },
  {
   "cell_type": "code",
   "execution_count": null,
   "id": "6ac64695",
   "metadata": {
    "tags": [
     "hide-output"
    ]
   },
   "outputs": [],
   "source": [
    "curate = ln.Curator.from_anndata(\n",
    "    adata_validated, \n",
    "    var_index=bt.Gene.ensembl_gene_id,  # validate var.index against Gene.ensembl_gene_id\n",
    "    categoricals=categoricals, \n",
    "    organism=\"human\",\n",
    ")\n",
    "curate.validate()"
   ]
  },
  {
   "cell_type": "markdown",
   "id": "a814ef37",
   "metadata": {},
   "source": [
    "The validated object can be subsequently saved as an {class}`~lamindb.Artifact`:"
   ]
  },
  {
   "cell_type": "code",
   "execution_count": null,
   "id": "f12ec345",
   "metadata": {
    "tags": [
     "hide-output"
    ]
   },
   "outputs": [],
   "source": [
    "artifact = curate.save_artifact(description=\"test AnnData\")"
   ]
  },
  {
   "cell_type": "markdown",
   "id": "0fa20942",
   "metadata": {},
   "source": [
    "Saved artifact has been annotated with validated features and labels:"
   ]
  },
  {
   "cell_type": "code",
   "execution_count": null,
   "id": "5e901343",
   "metadata": {
    "tags": [
     "hide-output"
    ]
   },
   "outputs": [],
   "source": [
    "artifact.describe()"
   ]
  },
  {
   "cell_type": "markdown",
   "id": "c00b51c4",
   "metadata": {},
   "source": [
    "We've walked through the process of validating, standardizing, and annotating datasets going through these key steps:\n",
    "\n",
    "1. Defining validation criteria\n",
    "2. Validating data against existing registries\n",
    "3. Adding new validated entries to registries\n",
    "4. Annotating artifacts with validated metadata\n",
    "\n",
    "By following these steps, you can ensure your data is standardized and well-curated.\n",
    "\n",
    "If you have datasets that aren't DataFrame-like or AnnData-like, read: {doc}`curate-any`."
   ]
  }
 ],
 "metadata": {
  "kernelspec": {
   "display_name": "py310",
   "language": "python",
   "name": "python3"
  },
  "language_info": {
   "codemirror_mode": {
    "name": "ipython",
    "version": 3
   },
   "file_extension": ".py",
   "mimetype": "text/x-python",
   "name": "python",
   "nbconvert_exporter": "python",
   "pygments_lexer": "ipython3",
   "version": "3.10.15"
  },
  "nbproject": {
   "id": "WOK3vP0bNGLx",
   "parent": null,
   "pypackage": null,
   "time_init": "2023-12-20T04:27:49.536493+00:00",
   "user_handle": null,
   "user_id": null,
   "user_name": null,
   "version": "0"
  }
 },
 "nbformat": 4,
 "nbformat_minor": 5
}
