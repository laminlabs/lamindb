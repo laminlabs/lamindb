{
 "cells": [
  {
   "cell_type": "markdown",
   "metadata": {},
   "source": [
    "# My test notebook (consecutive)"
   ]
  },
  {
   "cell_type": "code",
   "execution_count": 1,
   "metadata": {
    "execution": {
     "iopub.execute_input": "2023-10-01T14:36:12.716426Z",
     "iopub.status.busy": "2023-10-01T14:36:12.716157Z",
     "iopub.status.idle": "2023-10-01T14:36:13.438039Z",
     "shell.execute_reply": "2023-10-01T14:36:13.437739Z"
    }
   },
   "outputs": [
    {
     "name": "stdout",
     "output_type": "stream",
     "text": [
      "💡 loaded instance: falexwolf/lamindb-setup-notebook-tests (lamindb 0.54.4)\n"
     ]
    }
   ],
   "source": [
    "import lamindb as ln"
   ]
  },
  {
   "cell_type": "code",
   "execution_count": 2,
   "metadata": {
    "execution": {
     "iopub.execute_input": "2023-10-01T14:36:13.457194Z",
     "iopub.status.busy": "2023-10-01T14:36:13.457054Z",
     "iopub.status.idle": "2023-10-01T14:36:13.797955Z",
     "shell.execute_reply": "2023-10-01T14:36:13.797715Z"
    }
   },
   "outputs": [
    {
     "name": "stdout",
     "output_type": "stream",
     "text": [
      "💡 notebook imports: lamindb==0.53.0\n"
     ]
    },
    {
     "name": "stdout",
     "output_type": "stream",
     "text": [
      "💡 Transform(id='hlsFXswrJjttz8', name='My test notebook (consecutive)', short_name='with-title-and-initialized-consecutive', version='0', type=notebook, updated_at=2023-10-01 14:36:13, created_by_id='FBa7SHjn')\n"
     ]
    },
    {
     "name": "stdout",
     "output_type": "stream",
     "text": [
      "💡 Run(id='prbSt4FemkuphePQ7Ytr', run_at=2023-10-01 14:36:13, transform_id='hlsFXswrJjttz8', created_by_id='FBa7SHjn')\n"
     ]
    }
   ],
   "source": [
    "ln.track()"
   ]
  },
  {
   "cell_type": "code",
   "execution_count": 3,
   "metadata": {
    "execution": {
     "iopub.execute_input": "2023-10-01T14:36:13.799345Z",
     "iopub.status.busy": "2023-10-01T14:36:13.799228Z",
     "iopub.status.idle": "2023-10-01T14:36:13.801118Z",
     "shell.execute_reply": "2023-10-01T14:36:13.800880Z"
    }
   },
   "outputs": [
    {
     "name": "stdout",
     "output_type": "stream",
     "text": [
      "my consecutive cell"
     ]
    },
    {
     "name": "stdout",
     "output_type": "stream",
     "text": [
      "\n"
     ]
    }
   ],
   "source": [
    "print(\"my consecutive cell\")"
   ]
  }
 ],
 "metadata": {
  "kernelspec": {
   "display_name": "py39",
   "language": "python",
   "name": "python3"
  },
  "language_info": {
   "codemirror_mode": {
    "name": "ipython",
    "version": 3
   },
   "file_extension": ".py",
   "mimetype": "text/x-python",
   "name": "python",
   "nbconvert_exporter": "python",
   "pygments_lexer": "ipython3",
   "version": "3.9.16"
  },
  "nbproject": {
   "id": "hlsFXswrJjtt",
   "parent": null,
   "pypackage": null,
   "time_init": "2023-10-01T11:14:14.437434+00:00",
   "user_handle": null,
   "user_id": null,
   "user_name": null,
   "version": "0"
  },
  "widgets": {
   "application/vnd.jupyter.widget-state+json": {
    "state": {
     "969531ab882d4522b5f7dcc8c89ed56c": {
      "model_module": "ipylab",
      "model_module_version": "^0.7.1",
      "model_name": "JupyterFrontEndModel",
      "state": {
       "_model_module": "ipylab",
       "_model_module_version": "^0.7.1",
       "_model_name": "JupyterFrontEndModel",
       "_view_count": null,
       "_view_module": null,
       "_view_module_version": "",
       "_view_name": null,
       "commands": "IPY_MODEL_b7c9b547ccbd4744b337f7b8941edc53",
       "sessions": "IPY_MODEL_a3f877939ade44d2a7b48d128692bc50",
       "shell": "IPY_MODEL_df469f870e6649efbb5658819ee76e55",
       "version": ""
      }
     },
     "a3f877939ade44d2a7b48d128692bc50": {
      "model_module": "ipylab",
      "model_module_version": "^0.7.1",
      "model_name": "SessionManagerModel",
      "state": {
       "_model_module": "ipylab",
       "_model_module_version": "^0.7.1",
       "_model_name": "SessionManagerModel",
       "_view_count": null,
       "_view_module": null,
       "_view_module_version": "",
       "_view_name": null,
       "current_session": {},
       "sessions": []
      }
     },
     "b7c9b547ccbd4744b337f7b8941edc53": {
      "model_module": "ipylab",
      "model_module_version": "^0.7.1",
      "model_name": "CommandRegistryModel",
      "state": {
       "_command_list": [],
       "_commands": [],
       "_model_module": "ipylab",
       "_model_module_version": "^0.7.1",
       "_model_name": "CommandRegistryModel",
       "_view_count": null,
       "_view_module": null,
       "_view_module_version": "",
       "_view_name": null
      }
     },
     "df469f870e6649efbb5658819ee76e55": {
      "model_module": "ipylab",
      "model_module_version": "^0.7.1",
      "model_name": "ShellModel",
      "state": {
       "_model_module": "ipylab",
       "_model_module_version": "^0.7.1",
       "_model_name": "ShellModel",
       "_view_count": null,
       "_view_module": null,
       "_view_module_version": "",
       "_view_name": null,
       "_widgets": []
      }
     }
    },
    "version_major": 2,
    "version_minor": 0
   }
  }
 },
 "nbformat": 4,
 "nbformat_minor": 2
}
