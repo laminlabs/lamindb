{
  "cells": [
    {
      "cell_type": "markdown",
      "metadata": {},
      "source": [
        "# My test notebook (non-consecutive)"
      ]
    },
    {
      "cell_type": "code",
      "execution_count": 1,
      "metadata": {},
      "outputs": [
        {
          "name": "stdout",
          "output_type": "stream",
          "text": [
            "✅ new records found in the public sources.yaml, updated /Users/falexwolf/.lamin/bionty/versions/sources_local.yaml!\n",
            "💡 loaded instance: falexwolf/test-scrna (lamindb 0.54.4)\n"
          ]
        }
      ],
      "source": [
        "import lamindb as ln"
      ]
    },
    {
      "cell_type": "code",
      "execution_count": 3,
      "metadata": {},
      "outputs": [
        {
          "name": "stdout",
          "output_type": "stream",
          "text": [
            "non-consecutive cell here\n"
          ]
        }
      ],
      "source": [
        "print(\"non-consecutive cell here\")"
      ]
    },
    {
      "cell_type": "code",
      "execution_count": 2,
      "metadata": {},
      "outputs": [
        {
          "name": "stdout",
          "output_type": "stream",
          "text": [
            "💡 notebook imports: lamindb==0.53.0\n",
            "❗ record with similar name exist! did you mean to load it?\n"
          ]
        },
        {
          "data": {
            "text/html": [
              "<div>\n",
              "<style scoped>\n",
              "    .dataframe tbody tr th:only-of-type {\n",
              "        vertical-align: middle;\n",
              "    }\n",
              "\n",
              "    .dataframe tbody tr th {\n",
              "        vertical-align: top;\n",
              "    }\n",
              "\n",
              "    .dataframe thead th {\n",
              "        text-align: right;\n",
              "    }\n",
              "</style>\n",
              "<table border=\"1\" class=\"dataframe\">\n",
              "  <thead>\n",
              "    <tr style=\"text-align: right;\">\n",
              "      <th></th>\n",
              "      <th>id</th>\n",
              "      <th>__ratio__</th>\n",
              "    </tr>\n",
              "    <tr>\n",
              "      <th>name</th>\n",
              "      <th></th>\n",
              "      <th></th>\n",
              "    </tr>\n",
              "  </thead>\n",
              "  <tbody>\n",
              "    <tr>\n",
              "      <th>My test notebook</th>\n",
              "      <td>hlsFXswrJjttz8</td>\n",
              "      <td>90.0</td>\n",
              "    </tr>\n",
              "  </tbody>\n",
              "</table>\n",
              "</div>"
            ],
            "text/plain": [
              "                              id  __ratio__\n",
              "name                                       \n",
              "My test notebook  hlsFXswrJjttz8       90.0"
            ]
          },
          "metadata": {},
          "output_type": "display_data"
        },
        {
          "name": "stdout",
          "output_type": "stream",
          "text": [
            "💡 Transform(id='HDMGkxN9rgFAz8', name='My test notebook (non-consecutive)', short_name='with-title-and-initialized-non-consecutive', version='0', type=notebook, updated_at=2023-10-01 13:56:29, created_by_id='FBa7SHjn')\n",
            "💡 Run(id='AZtlTBJvCzKqk0aVTs7Z', run_at=2023-10-01 13:56:29, transform_id='HDMGkxN9rgFAz8', created_by_id='FBa7SHjn')\n"
          ]
        }
      ],
      "source": [
        "ln.track()"
      ]
    }
  ],
  "metadata": {
    "kernelspec": {
      "display_name": "py39",
      "language": "python",
      "name": "python3"
    },
    "language_info": {
      "codemirror_mode": {
        "name": "ipython",
        "version": 3
      },
      "file_extension": ".py",
      "mimetype": "text/x-python",
      "name": "python",
      "nbconvert_exporter": "python",
      "pygments_lexer": "ipython3",
      "version": "3.9.16"
    },
    "nbproject": {
      "id": "HDMGkxN9rgFA",
      "parent": null,
      "pypackage": null,
      "time_init": "2023-10-01T13:55:09.700788+00:00",
      "user_handle": null,
      "user_id": null,
      "user_name": null,
      "version": "0"
    },
    "orig_nbformat": 4
  },
  "nbformat": 4,
  "nbformat_minor": 2
}
