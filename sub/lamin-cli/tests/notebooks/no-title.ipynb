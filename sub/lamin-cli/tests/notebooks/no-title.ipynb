{
 "cells": [
  {
   "cell_type": "markdown",
   "id": "37b372a5-fae0-4177-986f-0adeea86158f",
   "metadata": {},
   "source": [
    "A notebook without title."
   ]
  },
  {
   "cell_type": "code",
   "execution_count": null,
   "id": "4bd28fe5",
   "metadata": {
    "vscode": {
     "languageId": "plaintext"
    }
   },
   "outputs": [],
   "source": [
    "print(\"hello\")"
   ]
  }
 ],
 "metadata": {
  "kernelspec": {
   "display_name": "Python 3.9.12 ('base1')",
   "language": "python",
   "name": "python3"
  },
  "language_info": {
   "codemirror_mode": {
    "name": "ipython",
    "version": 3
   },
   "file_extension": ".py",
   "mimetype": "text/x-python",
   "name": "python",
   "nbconvert_exporter": "python",
   "pygments_lexer": "ipython3",
   "version": "3.9.12"
  },
  "nbproject": {
   "id": "Irn3xQyQ40GU",
   "pypackage": {
    "nbproject": "0.0.7+2.g8521e30"
   },
   "time_init": "2022-06-08T14:42:31.551211+00:00",
   "version": "0"
  },
  "vscode": {
   "interpreter": {
    "hash": "2775e555cdc2d728c54aa22130c79afb1fa4da64f22f2fc6dcc2aa346c4e0672"
   }
  }
 },
 "nbformat": 4,
 "nbformat_minor": 5
}
