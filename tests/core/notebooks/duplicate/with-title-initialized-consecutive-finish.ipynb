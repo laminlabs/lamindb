{
 "cells": [
  {
   "cell_type": "markdown",
   "metadata": {},
   "source": [
    "# My duplicated test notebook (consecutive) with `ln.finish()`"
   ]
  },
  {
   "cell_type": "markdown",
   "metadata": {},
   "source": [
    "This has actually different content than the original one in the `notebooks/` folder."
   ]
  },
  {
   "cell_type": "code",
   "execution_count": null,
   "metadata": {},
   "outputs": [],
   "source": [
    "import lamindb as ln\n",
    "from lamindb.core._context import MissingContextUID\n",
    "from unittest.mock import patch\n",
    "from io import StringIO\n",
    "import pytest\n",
    "from contextlib import redirect_stdout\n",
    "\n",
    "\n",
    "EXPECTED_OUTPUT = \"→ you already have a\"\n",
    "output = StringIO()\n",
    "\n",
    "# user input is `n`\n",
    "with patch('builtins.input', return_value='n'):\n",
    "    with redirect_stdout(output):\n",
    "        with pytest.raises(MissingContextUID) as error:\n",
    "            ln.track()\n",
    "    assert EXPECTED_OUTPUT in output.getvalue().strip()\n",
    "    assert str(error.value) == \"Please follow the instructions.\"\n",
    "\n",
    "\n",
    "# user input is `y`\n",
    "with patch('builtins.input', return_value='y'):\n",
    "    with redirect_stdout(output):\n",
    "        ln.track()\n",
    "    assert EXPECTED_OUTPUT in output.getvalue().strip()"
   ]
  }
 ],
 "metadata": {
  "kernelspec": {
   "display_name": "py39",
   "language": "python",
   "name": "python3"
  },
  "language_info": {
   "codemirror_mode": {
    "name": "ipython",
    "version": 3
   },
   "file_extension": ".py",
   "mimetype": "text/x-python",
   "name": "python",
   "nbconvert_exporter": "python",
   "pygments_lexer": "ipython3",
   "version": "3.10.13"
  }
 },
 "nbformat": 4,
 "nbformat_minor": 2
}
