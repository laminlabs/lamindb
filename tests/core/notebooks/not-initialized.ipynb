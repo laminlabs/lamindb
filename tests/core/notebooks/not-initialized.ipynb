{
 "cells": [
  {
   "cell_type": "markdown",
   "metadata": {},
   "source": [
    "# Dummy title"
   ]
  },
  {
   "cell_type": "code",
   "execution_count": null,
   "metadata": {},
   "outputs": [],
   "source": [
    "import lamindb as ln\n",
    "from lamindb.core._context import MissingContextUID\n",
    "from unittest.mock import patch\n",
    "import io\n",
    "import pytest\n",
    "\n",
    "\n",
    "class InputCapture:\n",
    "    def __init__(self, return_value):\n",
    "        self.return_value = return_value\n",
    "        self.captured_output = io.StringIO()\n",
    "\n",
    "    def __call__(self, prompt=''):\n",
    "        print(prompt, end='', file=self.captured_output)\n",
    "        return self.return_value\n",
    "\n",
    "\n",
    "EXPECTED_OUTPUT = \"→ To track this notebook, copy & paste\"\n",
    "\n",
    "# user input is `n`\n",
    "input_capture = InputCapture('n')\n",
    "with patch('builtins.input', input_capture):\n",
    "    with pytest.raises(MissingContextUID) as error:\n",
    "        ln.context.track()\n",
    "\n",
    "    assert EXPECTED_OUTPUT in input_capture.captured_output.getvalue().strip()\n",
    "    assert str(error.value) == \"Without `ln.context.uid` set, you cannot track a notebook.\"\n",
    "\n",
    "\n",
    "# user input is `y`\n",
    "input_capture = InputCapture('y')\n",
    "with patch('builtins.input', input_capture):\n",
    "    ln.context.track()\n",
    "    assert EXPECTED_OUTPUT in input_capture.captured_output.getvalue().strip()"
   ]
  }
 ],
 "metadata": {
  "kernelspec": {
   "display_name": "py310",
   "language": "python",
   "name": "python3"
  },
  "language_info": {
   "codemirror_mode": {
    "name": "ipython",
    "version": 3
   },
   "file_extension": ".py",
   "mimetype": "text/x-python",
   "name": "python",
   "nbconvert_exporter": "python",
   "pygments_lexer": "ipython3",
   "version": "3.10.13"
  }
 },
 "nbformat": 4,
 "nbformat_minor": 2
}
