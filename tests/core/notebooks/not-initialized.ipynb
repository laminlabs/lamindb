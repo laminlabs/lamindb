{
 "cells": [
  {
   "cell_type": "markdown",
   "metadata": {},
   "source": [
    "# Dummy title"
   ]
  },
  {
   "cell_type": "code",
   "execution_count": null,
   "metadata": {},
   "outputs": [],
   "source": [
    "import lamindb as ln\n",
    "from lamindb.core._context import MissingContextUID\n",
    "from unittest.mock import patch\n",
    "import io\n",
    "import pytest\n",
    "\n",
    "# user input is `n`\n",
    "with patch('builtins.input', return_value='n'):\n",
    "    with pytest.raises(MissingContextUID) as error:\n",
    "        ln.context.track()\n",
    "\n",
    "    assert str(error.value) == \"Without `ln.context.uid` set, you cannot track a notebook.\"\n",
    "\n",
    "\n",
    "# user input is `y`\n",
    "with patch('builtins.input', return_value='y'):\n",
    "    ln.context.track()"
   ]
  }
 ],
 "metadata": {
  "kernelspec": {
   "display_name": "py310",
   "language": "python",
   "name": "python3"
  },
  "language_info": {
   "codemirror_mode": {
    "name": "ipython",
    "version": 3
   },
   "file_extension": ".py",
   "mimetype": "text/x-python",
   "name": "python",
   "nbconvert_exporter": "python",
   "pygments_lexer": "ipython3",
   "version": "3.10.13"
  }
 },
 "nbformat": 4,
 "nbformat_minor": 2
}
