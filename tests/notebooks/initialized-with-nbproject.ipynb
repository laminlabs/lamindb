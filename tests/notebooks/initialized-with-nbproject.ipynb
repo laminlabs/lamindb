{
 "cells": [
  {
   "cell_type": "markdown",
   "id": "00178cd6-39c2-499b-969d-1f547a586124",
   "metadata": {},
   "source": [
    "# Initialized with nbproject"
   ]
  },
  {
   "cell_type": "code",
   "execution_count": null,
   "id": "aed6d5aa-3825-4b82-bdc1-cd973c9fea98",
   "metadata": {},
   "outputs": [],
   "source": [
    "import lamindb as ln\n",
    "from lamindb.core._run_context import MissingTransformSettings\n",
    "import pytest"
   ]
  },
  {
   "cell_type": "code",
   "execution_count": null,
   "id": "adb818bf-68a3-439f-95ed-2bbd56a682f3",
   "metadata": {},
   "outputs": [],
   "source": [
    "with pytest.raises(MissingTransformSettings) as error:\n",
    "    ln.track()\n",
    "\n",
    "assert \"To track this notebook, set\" in error.exconly()\n",
    "assert \"I5wv6FHY2lUH\" in error.exconly()"
   ]
  }
 ],
 "metadata": {
  "kernelspec": {
   "display_name": "Python 3 (ipykernel)",
   "language": "python",
   "name": "python3"
  },
  "language_info": {
   "codemirror_mode": {
    "name": "ipython",
    "version": 3
   },
   "file_extension": ".py",
   "mimetype": "text/x-python",
   "name": "python",
   "nbconvert_exporter": "python",
   "pygments_lexer": "ipython3",
   "version": "3.10.13"
  },
  "nbproject": {
   "id": "I5wv6FHY2lUH",
   "pypackage": null,
   "time_init": "2022-07-16T18:36:12.828570+00:00",
   "version": "0"
  }
 },
 "nbformat": 4,
 "nbformat_minor": 5
}
